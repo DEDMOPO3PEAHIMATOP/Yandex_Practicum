{
 "cells": [
  {
   "cell_type": "markdown",
   "metadata": {},
   "source": [
    "# Сборный проект\n",
    "\n",
    "<b> Описание проекта </b>\n",
    "\n",
    "Вы работаете в интернет-магазине «Стримчик», который продаёт по всему миру компьютерные игры. Из открытых источников доступны исторические данные о продажах игр, оценки пользователей и экспертов, жанры и платформы (например, Xbox или PlayStation). \n",
    "\n",
    "<b>Цель проекта</b>\n",
    "\n",
    "Вам нужно выявить определяющие успешность игры закономерности. Это позволит сделать ставку на потенциально популярный продукт и спланировать рекламные кампании.\n",
    "\n",
    "<b> Задачи проекта</b>\n",
    "\n",
    "Перед вами данные до 2016 года. Представим, что сейчас декабрь 2016 г., и вы планируете кампанию на 2017-й. Нужно отработать принцип работы с данными. Неважно, прогнозируете ли вы продажи на 2017 год по данным 2016-го или же 2027-й — по данным 2026 года.\n",
    "\n",
    "В наборе данных попадается аббревиатура ESRB (Entertainment Software Rating Board) — это ассоциация, определяющая возрастной рейтинг компьютерных игр. ESRB оценивает игровой контент и присваивает ему подходящую возрастную категорию, например, «Для взрослых», «Для детей младшего возраста» или «Для подростков».\n",
    "\n",
    "\n",
    "<b>Данной проект разделим на несколько частей:</b>\n",
    "\n",
    "<b> Изучение общей информации:</b>\n",
    "\n",
    " [ Изучение данных из-файла](#step_1)\n",
    " \n",
    " [ Вывод по данным](#step_2)\n",
    " \n",
    "<b> Подготовка данных:</b>\n",
    "\n",
    " [Замена названия столбцов (приведение к нижнему регистру.](#step_3)\n",
    "  \n",
    " [Заполнение пропусков в данных и предположительные причины их появления, а также приведение данных к нужным типам.](#step_4)\n",
    " \n",
    " [Подсчет суммарных продаж во всех регионах и запись их в отдельный столбец.](#step_5)\n",
    " \n",
    " [Проверка на дубликаты.](#step_6)\n",
    " \n",
    " <b> Исследовательский анализ данных</b>\n",
    "\n",
    " [Рассмотрим, сколько игр выпускалось в разные годы.](#step_7)\n",
    " \n",
    " [Рассмотрим, как менялись продажи по платформам.](#step_8)\n",
    "  \n",
    " [Выбор платформ с наибольшими продажами по годам и распределение продаж игр на данных платформах по годам.](#step_9)\n",
    "   \n",
    " [Определение жизненного цикла платформ.](#step_10)\n",
    " \n",
    " [Определение актуального переиода для дальнейшего исследования](#step_11)\n",
    " \n",
    " [Определение лидеров продаж в сегменте консолей](#step_12)\n",
    " \n",
    " [Ящик с усами по глобальным продажам игр в разбивке по платформам](#step_13)\n",
    " \n",
    " [Рассмотрим, как влияют на продажи внутри одной популярной платформы отзывы пользователей и критиков. Построим диаграмму рассеяния и посчитаем корреляцию между отзывами и продажами.](#step_14)\n",
    " \n",
    " [Соотнесем выводы с продажами игр на других платформах.](#step_15)\n",
    " \n",
    " [Рассмотрим выделение игр по жанрам.](#step_16)\n",
    " \n",
    " <b> Составление портрета пользователя каждого региона</b>\n",
    " \n",
    " [Определим для пользователя каждого региона (NA, EU, JP): Самые популярные платформы (топ-5)](#step_17)\n",
    " \n",
    " [Самые популярные жанры (топ-5).](#step_18)\n",
    " \n",
    " [Влияние рейтинга ESRB на продажи в отдельном регионе.](#step_19)\n",
    " \n",
    "  <b> Проверка гипотез</b>\n",
    " \n",
    " [Средние пользовательские рейтинги платформ Xbox One и PC одинаковые.](#step_20)\n",
    " \n",
    " [Средние пользовательские рейтинги жанров Action (англ. «действие», экшен-игры) и Sports (англ. «спортивные соревнования») разные.](#step_21)\n",
    " \n",
    " [<b> Общий вывод </b>](#step_22)"
   ]
  },
  {
   "cell_type": "markdown",
   "metadata": {},
   "source": [
    "<a id=\"step_1\"></a>\n",
    "# Изучение данных из файла"
   ]
  },
  {
   "cell_type": "code",
   "execution_count": 1,
   "metadata": {},
   "outputs": [],
   "source": [
    "import pandas as pd #подгружаем библиотеку 'pandas'\n",
    "import numpy as np #подгружаем библиотеку 'numpy'\n",
    "import matplotlib.pyplot as plt #подключем библиотеку 'matplotlib.pyplot' для построения графиков\n",
    "import seaborn as sns #подключем библиотеку 'seaborn' для построения графиков\n",
    "from scipy import stats as st #подключем фукцию stats из библиотеки 'scipy' для статистического анализа\n",
    "\n",
    "#отключаем предупреждения об изменении отфильтрованных данных\n",
    "pd.options.mode.chained_assignment = None\n",
    "from matplotlib.axes._axes import _log as matplotlib_axes_logger\n",
    "matplotlib_axes_logger.setLevel ('ERROR')"
   ]
  },
  {
   "cell_type": "code",
   "execution_count": 2,
   "metadata": {},
   "outputs": [],
   "source": [
    "df = pd.read_csv ('/datasets/games.csv') #в 'df' читаем файл"
   ]
  },
  {
   "cell_type": "code",
   "execution_count": 3,
   "metadata": {},
   "outputs": [
    {
     "name": "stdout",
     "output_type": "stream",
     "text": [
      "<class 'pandas.core.frame.DataFrame'>\n",
      "RangeIndex: 16715 entries, 0 to 16714\n",
      "Data columns (total 11 columns):\n",
      "Name               16713 non-null object\n",
      "Platform           16715 non-null object\n",
      "Year_of_Release    16446 non-null float64\n",
      "Genre              16713 non-null object\n",
      "NA_sales           16715 non-null float64\n",
      "EU_sales           16715 non-null float64\n",
      "JP_sales           16715 non-null float64\n",
      "Other_sales        16715 non-null float64\n",
      "Critic_Score       8137 non-null float64\n",
      "User_Score         10014 non-null object\n",
      "Rating             9949 non-null object\n",
      "dtypes: float64(6), object(5)\n",
      "memory usage: 1.4+ MB\n"
     ]
    }
   ],
   "source": [
    "df.info () #смотрим общую информацию по всему датафрейму"
   ]
  },
  {
   "cell_type": "markdown",
   "metadata": {},
   "source": [
    "<a id=\"step_2\"></a>\n",
    "<b>Вывод по данным</b>"
   ]
  },
  {
   "cell_type": "markdown",
   "metadata": {},
   "source": [
    "•\tName — название игры - имеются пропуски данных\n",
    "\n",
    "•\tPlatform — платформа\n",
    "\n",
    "•\tYear_of_Release — год выпуска - имеются пропуски данных\n",
    "\n",
    "•\tGenre — жанр игры - имеются пропуски данных\n",
    "\n",
    "•\tNA_sales — продажи в Северной Америке (миллионы проданных копий)\n",
    "\n",
    "•\tEU_sales — продажи в Европе (миллионы проданных копий)\n",
    "\n",
    "•\tJP_sales — продажи в Японии (миллионы проданных копий)\n",
    "\n",
    "•\tOther_sales — продажи в других странах (миллионы проданных копий)\n",
    "\n",
    "•\tCritic_Score — оценка критиков (максимум 100) - имеются пропуски данных\n",
    "\n",
    "•\tUser_Score — оценка пользователей (максимум 10) - имеются пропуски данных, формат данных неоднородный\n",
    "\n",
    "•\tRating — рейтинг от организации ESRB (англ. Entertainment Software Rating Board). Эта ассоциация определяет рейтинг компьютерных игр и присваивает им подходящую возрастную категорию. - имеются пропуски данных"
   ]
  },
  {
   "cell_type": "markdown",
   "metadata": {},
   "source": [
    "# Подготовка данных"
   ]
  },
  {
   "cell_type": "markdown",
   "metadata": {},
   "source": [
    "В предобработке данных мы выполним:\n",
    "\n",
    "1. Замены наименование столбцов (приведение к нижнему регистру)\n",
    "\n",
    "2. Выясним причину пропусков в названиях игр, если необходимо - заполним.\n",
    "\n",
    "3. Разберемся в причинах пропусков в столбце года выпуска игры, если необходимо - заполним.\n",
    "\n",
    "4. Взглянем на пустые значения в столбце возрастного предпочтения, если необходимо - заполним.\n",
    "\n",
    "5. Обработаем пустые значения в столбце оценки критиков, если необходимо заполним.\n",
    "    \n",
    "6. Обработаем пустые значения в столбце оценки пользователей, если необходимо - заполним.\n",
    "\n",
    "7. Попытаемся разобраться с отсутствующими значениями в столбце рейтинга, если необходимо - заполним.\n",
    "\n",
    "8. Создадим отдельный столбец с продажами по всем регионам, т.к. в дальнейшем он нам понадобится.\n",
    "\n",
    "9. Проанализируем полученные результаты."
   ]
  },
  {
   "cell_type": "markdown",
   "metadata": {},
   "source": [
    "<a id=\"step_3\"></a>\n",
    "<b>Замена названия столбцов (приведение к нижнему регистру.</b>"
   ]
  },
  {
   "cell_type": "code",
   "execution_count": 4,
   "metadata": {},
   "outputs": [],
   "source": [
    "df.columns = df.columns.str.lower () #приводим наименования столбцов к единому стилю (к нижнему оегистру)"
   ]
  },
  {
   "cell_type": "markdown",
   "metadata": {},
   "source": [
    "<a id=\"step_4\"></a>\n",
    "<b>Заполнение пропусков в данных и предположительные причины их появления, а также приведение данных к нужным типам.</b>"
   ]
  },
  {
   "cell_type": "code",
   "execution_count": 5,
   "metadata": {},
   "outputs": [
    {
     "data": {
      "text/html": [
       "<div>\n",
       "<style scoped>\n",
       "    .dataframe tbody tr th:only-of-type {\n",
       "        vertical-align: middle;\n",
       "    }\n",
       "\n",
       "    .dataframe tbody tr th {\n",
       "        vertical-align: top;\n",
       "    }\n",
       "\n",
       "    .dataframe thead th {\n",
       "        text-align: right;\n",
       "    }\n",
       "</style>\n",
       "<table border=\"1\" class=\"dataframe\">\n",
       "  <thead>\n",
       "    <tr style=\"text-align: right;\">\n",
       "      <th></th>\n",
       "      <th>name</th>\n",
       "      <th>platform</th>\n",
       "      <th>year_of_release</th>\n",
       "      <th>genre</th>\n",
       "      <th>na_sales</th>\n",
       "      <th>eu_sales</th>\n",
       "      <th>jp_sales</th>\n",
       "      <th>other_sales</th>\n",
       "      <th>critic_score</th>\n",
       "      <th>user_score</th>\n",
       "      <th>rating</th>\n",
       "    </tr>\n",
       "  </thead>\n",
       "  <tbody>\n",
       "    <tr>\n",
       "      <td>659</td>\n",
       "      <td>NaN</td>\n",
       "      <td>GEN</td>\n",
       "      <td>1993.0</td>\n",
       "      <td>NaN</td>\n",
       "      <td>1.78</td>\n",
       "      <td>0.53</td>\n",
       "      <td>0.00</td>\n",
       "      <td>0.08</td>\n",
       "      <td>NaN</td>\n",
       "      <td>NaN</td>\n",
       "      <td>NaN</td>\n",
       "    </tr>\n",
       "    <tr>\n",
       "      <td>14244</td>\n",
       "      <td>NaN</td>\n",
       "      <td>GEN</td>\n",
       "      <td>1993.0</td>\n",
       "      <td>NaN</td>\n",
       "      <td>0.00</td>\n",
       "      <td>0.00</td>\n",
       "      <td>0.03</td>\n",
       "      <td>0.00</td>\n",
       "      <td>NaN</td>\n",
       "      <td>NaN</td>\n",
       "      <td>NaN</td>\n",
       "    </tr>\n",
       "  </tbody>\n",
       "</table>\n",
       "</div>"
      ],
      "text/plain": [
       "      name platform  year_of_release genre  na_sales  eu_sales  jp_sales  \\\n",
       "659    NaN      GEN           1993.0   NaN      1.78      0.53      0.00   \n",
       "14244  NaN      GEN           1993.0   NaN      0.00      0.00      0.03   \n",
       "\n",
       "       other_sales  critic_score user_score rating  \n",
       "659           0.08           NaN        NaN    NaN  \n",
       "14244         0.00           NaN        NaN    NaN  "
      ]
     },
     "execution_count": 5,
     "metadata": {},
     "output_type": "execute_result"
    }
   ],
   "source": [
    "df [df ['name'].isna()] #посмотрим какие именно пустые значения в столюце 'name'"
   ]
  },
  {
   "cell_type": "code",
   "execution_count": 6,
   "metadata": {},
   "outputs": [
    {
     "data": {
      "text/html": [
       "<div>\n",
       "<style scoped>\n",
       "    .dataframe tbody tr th:only-of-type {\n",
       "        vertical-align: middle;\n",
       "    }\n",
       "\n",
       "    .dataframe tbody tr th {\n",
       "        vertical-align: top;\n",
       "    }\n",
       "\n",
       "    .dataframe thead th {\n",
       "        text-align: right;\n",
       "    }\n",
       "</style>\n",
       "<table border=\"1\" class=\"dataframe\">\n",
       "  <thead>\n",
       "    <tr style=\"text-align: right;\">\n",
       "      <th></th>\n",
       "      <th>name</th>\n",
       "      <th>platform</th>\n",
       "      <th>year_of_release</th>\n",
       "      <th>genre</th>\n",
       "      <th>na_sales</th>\n",
       "      <th>eu_sales</th>\n",
       "      <th>jp_sales</th>\n",
       "      <th>other_sales</th>\n",
       "      <th>critic_score</th>\n",
       "      <th>user_score</th>\n",
       "      <th>rating</th>\n",
       "    </tr>\n",
       "  </thead>\n",
       "  <tbody>\n",
       "    <tr>\n",
       "      <td>659</td>\n",
       "      <td>NaN</td>\n",
       "      <td>GEN</td>\n",
       "      <td>1993.0</td>\n",
       "      <td>NaN</td>\n",
       "      <td>1.78</td>\n",
       "      <td>0.53</td>\n",
       "      <td>0.00</td>\n",
       "      <td>0.08</td>\n",
       "      <td>NaN</td>\n",
       "      <td>NaN</td>\n",
       "      <td>NaN</td>\n",
       "    </tr>\n",
       "    <tr>\n",
       "      <td>7885</td>\n",
       "      <td>Shining Force II</td>\n",
       "      <td>GEN</td>\n",
       "      <td>1993.0</td>\n",
       "      <td>Strategy</td>\n",
       "      <td>0.00</td>\n",
       "      <td>0.00</td>\n",
       "      <td>0.19</td>\n",
       "      <td>0.00</td>\n",
       "      <td>NaN</td>\n",
       "      <td>NaN</td>\n",
       "      <td>NaN</td>\n",
       "    </tr>\n",
       "    <tr>\n",
       "      <td>8893</td>\n",
       "      <td>Super Street Fighter II</td>\n",
       "      <td>GEN</td>\n",
       "      <td>1993.0</td>\n",
       "      <td>Fighting</td>\n",
       "      <td>0.00</td>\n",
       "      <td>0.00</td>\n",
       "      <td>0.15</td>\n",
       "      <td>0.00</td>\n",
       "      <td>NaN</td>\n",
       "      <td>NaN</td>\n",
       "      <td>NaN</td>\n",
       "    </tr>\n",
       "    <tr>\n",
       "      <td>11986</td>\n",
       "      <td>Ecco: The Tides of Time</td>\n",
       "      <td>GEN</td>\n",
       "      <td>1993.0</td>\n",
       "      <td>Adventure</td>\n",
       "      <td>0.00</td>\n",
       "      <td>0.00</td>\n",
       "      <td>0.07</td>\n",
       "      <td>0.00</td>\n",
       "      <td>NaN</td>\n",
       "      <td>NaN</td>\n",
       "      <td>NaN</td>\n",
       "    </tr>\n",
       "    <tr>\n",
       "      <td>12098</td>\n",
       "      <td>Street Fighter II': Special Champion Edition (...</td>\n",
       "      <td>GEN</td>\n",
       "      <td>1993.0</td>\n",
       "      <td>Action</td>\n",
       "      <td>0.00</td>\n",
       "      <td>0.00</td>\n",
       "      <td>0.07</td>\n",
       "      <td>0.00</td>\n",
       "      <td>NaN</td>\n",
       "      <td>NaN</td>\n",
       "      <td>NaN</td>\n",
       "    </tr>\n",
       "    <tr>\n",
       "      <td>12264</td>\n",
       "      <td>Streets of Rage 3</td>\n",
       "      <td>GEN</td>\n",
       "      <td>1993.0</td>\n",
       "      <td>Action</td>\n",
       "      <td>0.00</td>\n",
       "      <td>0.00</td>\n",
       "      <td>0.07</td>\n",
       "      <td>0.00</td>\n",
       "      <td>NaN</td>\n",
       "      <td>NaN</td>\n",
       "      <td>NaN</td>\n",
       "    </tr>\n",
       "    <tr>\n",
       "      <td>12984</td>\n",
       "      <td>Dynamite Headdy</td>\n",
       "      <td>GEN</td>\n",
       "      <td>1993.0</td>\n",
       "      <td>Platform</td>\n",
       "      <td>0.00</td>\n",
       "      <td>0.00</td>\n",
       "      <td>0.05</td>\n",
       "      <td>0.00</td>\n",
       "      <td>NaN</td>\n",
       "      <td>NaN</td>\n",
       "      <td>NaN</td>\n",
       "    </tr>\n",
       "    <tr>\n",
       "      <td>13343</td>\n",
       "      <td>Beyond Oasis</td>\n",
       "      <td>GEN</td>\n",
       "      <td>1993.0</td>\n",
       "      <td>Role-Playing</td>\n",
       "      <td>0.00</td>\n",
       "      <td>0.00</td>\n",
       "      <td>0.05</td>\n",
       "      <td>0.00</td>\n",
       "      <td>NaN</td>\n",
       "      <td>NaN</td>\n",
       "      <td>NaN</td>\n",
       "    </tr>\n",
       "    <tr>\n",
       "      <td>14244</td>\n",
       "      <td>NaN</td>\n",
       "      <td>GEN</td>\n",
       "      <td>1993.0</td>\n",
       "      <td>NaN</td>\n",
       "      <td>0.00</td>\n",
       "      <td>0.00</td>\n",
       "      <td>0.03</td>\n",
       "      <td>0.00</td>\n",
       "      <td>NaN</td>\n",
       "      <td>NaN</td>\n",
       "      <td>NaN</td>\n",
       "    </tr>\n",
       "  </tbody>\n",
       "</table>\n",
       "</div>"
      ],
      "text/plain": [
       "                                                    name platform  \\\n",
       "659                                                  NaN      GEN   \n",
       "7885                                    Shining Force II      GEN   \n",
       "8893                             Super Street Fighter II      GEN   \n",
       "11986                            Ecco: The Tides of Time      GEN   \n",
       "12098  Street Fighter II': Special Champion Edition (...      GEN   \n",
       "12264                                  Streets of Rage 3      GEN   \n",
       "12984                                    Dynamite Headdy      GEN   \n",
       "13343                                       Beyond Oasis      GEN   \n",
       "14244                                                NaN      GEN   \n",
       "\n",
       "       year_of_release         genre  na_sales  eu_sales  jp_sales  \\\n",
       "659             1993.0           NaN      1.78      0.53      0.00   \n",
       "7885            1993.0      Strategy      0.00      0.00      0.19   \n",
       "8893            1993.0      Fighting      0.00      0.00      0.15   \n",
       "11986           1993.0     Adventure      0.00      0.00      0.07   \n",
       "12098           1993.0        Action      0.00      0.00      0.07   \n",
       "12264           1993.0        Action      0.00      0.00      0.07   \n",
       "12984           1993.0      Platform      0.00      0.00      0.05   \n",
       "13343           1993.0  Role-Playing      0.00      0.00      0.05   \n",
       "14244           1993.0           NaN      0.00      0.00      0.03   \n",
       "\n",
       "       other_sales  critic_score user_score rating  \n",
       "659           0.08           NaN        NaN    NaN  \n",
       "7885          0.00           NaN        NaN    NaN  \n",
       "8893          0.00           NaN        NaN    NaN  \n",
       "11986         0.00           NaN        NaN    NaN  \n",
       "12098         0.00           NaN        NaN    NaN  \n",
       "12264         0.00           NaN        NaN    NaN  \n",
       "12984         0.00           NaN        NaN    NaN  \n",
       "13343         0.00           NaN        NaN    NaN  \n",
       "14244         0.00           NaN        NaN    NaN  "
      ]
     },
     "execution_count": 6,
     "metadata": {},
     "output_type": "execute_result"
    }
   ],
   "source": [
    "df [(df ['platform'] == 'GEN') & (df ['year_of_release'] == 1993)] #посмотрим что еще содержит таблица с такими условиями"
   ]
  },
  {
   "cell_type": "markdown",
   "metadata": {},
   "source": [
    "Не совсем понятно по каким принципам были допущены пропуски, т.к. ничего не указывает на системность."
   ]
  },
  {
   "cell_type": "code",
   "execution_count": 7,
   "metadata": {},
   "outputs": [],
   "source": [
    "df ['name'] = df ['name'].fillna ('no_name') #заменяем пропущенные значения на 'no_name'"
   ]
  },
  {
   "cell_type": "code",
   "execution_count": 8,
   "metadata": {},
   "outputs": [
    {
     "data": {
      "text/html": [
       "<div>\n",
       "<style scoped>\n",
       "    .dataframe tbody tr th:only-of-type {\n",
       "        vertical-align: middle;\n",
       "    }\n",
       "\n",
       "    .dataframe tbody tr th {\n",
       "        vertical-align: top;\n",
       "    }\n",
       "\n",
       "    .dataframe thead th {\n",
       "        text-align: right;\n",
       "    }\n",
       "</style>\n",
       "<table border=\"1\" class=\"dataframe\">\n",
       "  <thead>\n",
       "    <tr style=\"text-align: right;\">\n",
       "      <th></th>\n",
       "      <th>name</th>\n",
       "      <th>platform</th>\n",
       "      <th>year_of_release</th>\n",
       "      <th>genre</th>\n",
       "      <th>na_sales</th>\n",
       "      <th>eu_sales</th>\n",
       "      <th>jp_sales</th>\n",
       "      <th>other_sales</th>\n",
       "      <th>critic_score</th>\n",
       "      <th>user_score</th>\n",
       "      <th>rating</th>\n",
       "    </tr>\n",
       "  </thead>\n",
       "  <tbody>\n",
       "    <tr>\n",
       "      <td>183</td>\n",
       "      <td>Madden NFL 2004</td>\n",
       "      <td>PS2</td>\n",
       "      <td>NaN</td>\n",
       "      <td>Sports</td>\n",
       "      <td>4.26</td>\n",
       "      <td>0.26</td>\n",
       "      <td>0.01</td>\n",
       "      <td>0.71</td>\n",
       "      <td>94.0</td>\n",
       "      <td>8.5</td>\n",
       "      <td>E</td>\n",
       "    </tr>\n",
       "    <tr>\n",
       "      <td>377</td>\n",
       "      <td>FIFA Soccer 2004</td>\n",
       "      <td>PS2</td>\n",
       "      <td>NaN</td>\n",
       "      <td>Sports</td>\n",
       "      <td>0.59</td>\n",
       "      <td>2.36</td>\n",
       "      <td>0.04</td>\n",
       "      <td>0.51</td>\n",
       "      <td>84.0</td>\n",
       "      <td>6.4</td>\n",
       "      <td>E</td>\n",
       "    </tr>\n",
       "    <tr>\n",
       "      <td>456</td>\n",
       "      <td>LEGO Batman: The Videogame</td>\n",
       "      <td>Wii</td>\n",
       "      <td>NaN</td>\n",
       "      <td>Action</td>\n",
       "      <td>1.80</td>\n",
       "      <td>0.97</td>\n",
       "      <td>0.00</td>\n",
       "      <td>0.29</td>\n",
       "      <td>74.0</td>\n",
       "      <td>7.9</td>\n",
       "      <td>E10+</td>\n",
       "    </tr>\n",
       "    <tr>\n",
       "      <td>475</td>\n",
       "      <td>wwe Smackdown vs. Raw 2006</td>\n",
       "      <td>PS2</td>\n",
       "      <td>NaN</td>\n",
       "      <td>Fighting</td>\n",
       "      <td>1.57</td>\n",
       "      <td>1.02</td>\n",
       "      <td>0.00</td>\n",
       "      <td>0.41</td>\n",
       "      <td>NaN</td>\n",
       "      <td>NaN</td>\n",
       "      <td>NaN</td>\n",
       "    </tr>\n",
       "    <tr>\n",
       "      <td>609</td>\n",
       "      <td>Space Invaders</td>\n",
       "      <td>2600</td>\n",
       "      <td>NaN</td>\n",
       "      <td>Shooter</td>\n",
       "      <td>2.36</td>\n",
       "      <td>0.14</td>\n",
       "      <td>0.00</td>\n",
       "      <td>0.03</td>\n",
       "      <td>NaN</td>\n",
       "      <td>NaN</td>\n",
       "      <td>NaN</td>\n",
       "    </tr>\n",
       "    <tr>\n",
       "      <td>...</td>\n",
       "      <td>...</td>\n",
       "      <td>...</td>\n",
       "      <td>...</td>\n",
       "      <td>...</td>\n",
       "      <td>...</td>\n",
       "      <td>...</td>\n",
       "      <td>...</td>\n",
       "      <td>...</td>\n",
       "      <td>...</td>\n",
       "      <td>...</td>\n",
       "      <td>...</td>\n",
       "    </tr>\n",
       "    <tr>\n",
       "      <td>16373</td>\n",
       "      <td>PDC World Championship Darts 2008</td>\n",
       "      <td>PSP</td>\n",
       "      <td>NaN</td>\n",
       "      <td>Sports</td>\n",
       "      <td>0.01</td>\n",
       "      <td>0.00</td>\n",
       "      <td>0.00</td>\n",
       "      <td>0.00</td>\n",
       "      <td>43.0</td>\n",
       "      <td>tbd</td>\n",
       "      <td>E10+</td>\n",
       "    </tr>\n",
       "    <tr>\n",
       "      <td>16405</td>\n",
       "      <td>Freaky Flyers</td>\n",
       "      <td>GC</td>\n",
       "      <td>NaN</td>\n",
       "      <td>Racing</td>\n",
       "      <td>0.01</td>\n",
       "      <td>0.00</td>\n",
       "      <td>0.00</td>\n",
       "      <td>0.00</td>\n",
       "      <td>69.0</td>\n",
       "      <td>6.5</td>\n",
       "      <td>T</td>\n",
       "    </tr>\n",
       "    <tr>\n",
       "      <td>16448</td>\n",
       "      <td>Inversion</td>\n",
       "      <td>PC</td>\n",
       "      <td>NaN</td>\n",
       "      <td>Shooter</td>\n",
       "      <td>0.01</td>\n",
       "      <td>0.00</td>\n",
       "      <td>0.00</td>\n",
       "      <td>0.00</td>\n",
       "      <td>59.0</td>\n",
       "      <td>6.7</td>\n",
       "      <td>M</td>\n",
       "    </tr>\n",
       "    <tr>\n",
       "      <td>16458</td>\n",
       "      <td>Hakuouki: Shinsengumi Kitan</td>\n",
       "      <td>PS3</td>\n",
       "      <td>NaN</td>\n",
       "      <td>Adventure</td>\n",
       "      <td>0.01</td>\n",
       "      <td>0.00</td>\n",
       "      <td>0.00</td>\n",
       "      <td>0.00</td>\n",
       "      <td>NaN</td>\n",
       "      <td>NaN</td>\n",
       "      <td>NaN</td>\n",
       "    </tr>\n",
       "    <tr>\n",
       "      <td>16522</td>\n",
       "      <td>Virtua Quest</td>\n",
       "      <td>GC</td>\n",
       "      <td>NaN</td>\n",
       "      <td>Role-Playing</td>\n",
       "      <td>0.01</td>\n",
       "      <td>0.00</td>\n",
       "      <td>0.00</td>\n",
       "      <td>0.00</td>\n",
       "      <td>55.0</td>\n",
       "      <td>5.5</td>\n",
       "      <td>T</td>\n",
       "    </tr>\n",
       "  </tbody>\n",
       "</table>\n",
       "<p>269 rows × 11 columns</p>\n",
       "</div>"
      ],
      "text/plain": [
       "                                    name platform  year_of_release  \\\n",
       "183                      Madden NFL 2004      PS2              NaN   \n",
       "377                     FIFA Soccer 2004      PS2              NaN   \n",
       "456           LEGO Batman: The Videogame      Wii              NaN   \n",
       "475           wwe Smackdown vs. Raw 2006      PS2              NaN   \n",
       "609                       Space Invaders     2600              NaN   \n",
       "...                                  ...      ...              ...   \n",
       "16373  PDC World Championship Darts 2008      PSP              NaN   \n",
       "16405                      Freaky Flyers       GC              NaN   \n",
       "16448                          Inversion       PC              NaN   \n",
       "16458        Hakuouki: Shinsengumi Kitan      PS3              NaN   \n",
       "16522                       Virtua Quest       GC              NaN   \n",
       "\n",
       "              genre  na_sales  eu_sales  jp_sales  other_sales  critic_score  \\\n",
       "183          Sports      4.26      0.26      0.01         0.71          94.0   \n",
       "377          Sports      0.59      2.36      0.04         0.51          84.0   \n",
       "456          Action      1.80      0.97      0.00         0.29          74.0   \n",
       "475        Fighting      1.57      1.02      0.00         0.41           NaN   \n",
       "609         Shooter      2.36      0.14      0.00         0.03           NaN   \n",
       "...             ...       ...       ...       ...          ...           ...   \n",
       "16373        Sports      0.01      0.00      0.00         0.00          43.0   \n",
       "16405        Racing      0.01      0.00      0.00         0.00          69.0   \n",
       "16448       Shooter      0.01      0.00      0.00         0.00          59.0   \n",
       "16458     Adventure      0.01      0.00      0.00         0.00           NaN   \n",
       "16522  Role-Playing      0.01      0.00      0.00         0.00          55.0   \n",
       "\n",
       "      user_score rating  \n",
       "183          8.5      E  \n",
       "377          6.4      E  \n",
       "456          7.9   E10+  \n",
       "475          NaN    NaN  \n",
       "609          NaN    NaN  \n",
       "...          ...    ...  \n",
       "16373        tbd   E10+  \n",
       "16405        6.5      T  \n",
       "16448        6.7      M  \n",
       "16458        NaN    NaN  \n",
       "16522        5.5      T  \n",
       "\n",
       "[269 rows x 11 columns]"
      ]
     },
     "execution_count": 8,
     "metadata": {},
     "output_type": "execute_result"
    }
   ],
   "source": [
    "df [df ['year_of_release'].isna ()] #посмотрим какие именно пустые значения в столюце 'year_of_release'"
   ]
  },
  {
   "cell_type": "markdown",
   "metadata": {},
   "source": [
    "Т.к. мы не знаем почему присутствуют пропуски в 'year_of_release', и их доля невелика, оставим так, как есть"
   ]
  },
  {
   "cell_type": "code",
   "execution_count": 9,
   "metadata": {},
   "outputs": [
    {
     "data": {
      "text/plain": [
       "array(['Sports', 'Platform', 'Racing', 'Role-Playing', 'Puzzle', 'Misc',\n",
       "       'Shooter', 'Simulation', 'Action', 'Fighting', 'Adventure',\n",
       "       'Strategy', nan], dtype=object)"
      ]
     },
     "metadata": {},
     "output_type": "display_data"
    }
   ],
   "source": [
    "display (df ['genre'].unique ()) #посмотрим на уникальные значения 'genre'"
   ]
  },
  {
   "cell_type": "code",
   "execution_count": 10,
   "metadata": {},
   "outputs": [],
   "source": [
    "# доля пустых значений в 'genre' невелика, поэтому заполним из значением 'no_genre'\n",
    "df ['genre'] = df ['genre'].fillna ('no_genre')"
   ]
  },
  {
   "cell_type": "code",
   "execution_count": 11,
   "metadata": {},
   "outputs": [
    {
     "data": {
      "text/plain": [
       "array([76., nan, 82., 80., 89., 58., 87., 91., 61., 97., 95., 77., 88.,\n",
       "       83., 94., 93., 85., 86., 98., 96., 90., 84., 73., 74., 78., 92.,\n",
       "       71., 72., 68., 62., 49., 67., 81., 66., 56., 79., 70., 59., 64.,\n",
       "       75., 60., 63., 69., 50., 25., 42., 44., 55., 48., 57., 29., 47.,\n",
       "       65., 54., 20., 53., 37., 38., 33., 52., 30., 32., 43., 45., 51.,\n",
       "       40., 46., 39., 34., 35., 41., 36., 28., 31., 27., 26., 19., 23.,\n",
       "       24., 21., 17., 22., 13.])"
      ]
     },
     "metadata": {},
     "output_type": "display_data"
    },
    {
     "data": {
      "text/plain": [
       "array(['8', nan, '8.3', '8.5', '6.6', '8.4', '8.6', '7.7', '6.3', '7.4',\n",
       "       '8.2', '9', '7.9', '8.1', '8.7', '7.1', '3.4', '5.3', '4.8', '3.2',\n",
       "       '8.9', '6.4', '7.8', '7.5', '2.6', '7.2', '9.2', '7', '7.3', '4.3',\n",
       "       '7.6', '5.7', '5', '9.1', '6.5', 'tbd', '8.8', '6.9', '9.4', '6.8',\n",
       "       '6.1', '6.7', '5.4', '4', '4.9', '4.5', '9.3', '6.2', '4.2', '6',\n",
       "       '3.7', '4.1', '5.8', '5.6', '5.5', '4.4', '4.6', '5.9', '3.9',\n",
       "       '3.1', '2.9', '5.2', '3.3', '4.7', '5.1', '3.5', '2.5', '1.9', '3',\n",
       "       '2.7', '2.2', '2', '9.5', '2.1', '3.6', '2.8', '1.8', '3.8', '0',\n",
       "       '1.6', '9.6', '2.4', '1.7', '1.1', '0.3', '1.5', '0.7', '1.2',\n",
       "       '2.3', '0.5', '1.3', '0.2', '0.6', '1.4', '0.9', '1', '9.7'],\n",
       "      dtype=object)"
      ]
     },
     "metadata": {},
     "output_type": "display_data"
    },
    {
     "data": {
      "text/plain": [
       "array(['E', nan, 'M', 'T', 'E10+', 'K-A', 'AO', 'EC', 'RP'], dtype=object)"
      ]
     },
     "metadata": {},
     "output_type": "display_data"
    }
   ],
   "source": [
    "display (df ['critic_score'].unique ()) #посмотрим на уникальные значения 'critic_score'\n",
    "display (df ['user_score'].unique ()) #посмотрим на уникальные значения 'user_score'\n",
    "display (df ['rating'].unique ()) #посмотрим на уникальные значения 'rating'"
   ]
  },
  {
   "cell_type": "markdown",
   "metadata": {},
   "source": [
    "Пустаые значения в 'critic_score' по всей видимости образовались в результате отсутвтия оценки критиков, заполняем нулями."
   ]
  },
  {
   "cell_type": "code",
   "execution_count": 12,
   "metadata": {},
   "outputs": [],
   "source": [
    "df ['critic_score'] = df ['critic_score'].fillna (0) #заполняем нулями пустые значения 'critic_score'"
   ]
  },
  {
   "cell_type": "markdown",
   "metadata": {},
   "source": [
    "Пустаые значения в 'user_score' по всей видимости образовались в результате отсутвтия оценки пользователей, но тут у нас еще присутствуют значения 'tbd'.\n",
    "\n",
    "Из поиска Яндекса выяснил, что 'tbd' означает отсутствие оценок пользователей либо их незначительным количество.\n",
    "\n",
    "В оценках пользователей присутствует оценка 0, а отрицательных оценок нет, мы не можем смешивать реальные оценки с вымышленными, но предполагаем, что оценка пользователей есть средняя.\n",
    "\n",
    "Исходя из этого, заполняем пустые значения на -0.1, в дальнейшем, если оценка пользователей появиться, данные нивелируются.\n",
    "\n",
    "Т.к. по информации, полученной ранее, данные имеют вид 'object', приведем их к виду "
   ]
  },
  {
   "cell_type": "code",
   "execution_count": 13,
   "metadata": {},
   "outputs": [],
   "source": [
    "df ['user_score'] = df ['user_score'].replace ('tbd', np.NaN) #заменяем 'tbd' на пустые значения\n",
    "df ['user_score'] = df ['user_score'].fillna (-0.1) # заменяем пустые значения на '0'\n",
    "df ['user_score'] = df ['user_score'].astype ('float') #приводим к единому формату 'user_score'"
   ]
  },
  {
   "cell_type": "markdown",
   "metadata": {},
   "source": [
    "Пустаые значения в 'rating' по всей видимости образовались в результате отсутвтия рейтинга, заполняем значением 'no_rating'."
   ]
  },
  {
   "cell_type": "code",
   "execution_count": 14,
   "metadata": {},
   "outputs": [],
   "source": [
    "df ['rating'] = df ['rating'].fillna ('no_rating') # заменяем пустые значения 'rating' на 'no_rating'"
   ]
  },
  {
   "cell_type": "markdown",
   "metadata": {},
   "source": [
    "<a id=\"step_5\"></a>\n",
    "<b>Подсчет суммарных продаж во всех регионах и запись их в отдельный столбец.</b>"
   ]
  },
  {
   "cell_type": "markdown",
   "metadata": {},
   "source": [
    "Создадим отдельный столбец с суммарными продажами по всем регионам"
   ]
  },
  {
   "cell_type": "code",
   "execution_count": 15,
   "metadata": {},
   "outputs": [],
   "source": [
    "df ['sales_total'] = df ['na_sales'] + df ['eu_sales'] + df ['jp_sales'] + df ['other_sales'] # создаем столбец с общимми продажами"
   ]
  },
  {
   "cell_type": "markdown",
   "metadata": {},
   "source": [
    "<a id=\"step_6\"></a>\n",
    "<b>Проверка на дубликаты.</b>"
   ]
  },
  {
   "cell_type": "code",
   "execution_count": 16,
   "metadata": {},
   "outputs": [
    {
     "data": {
      "text/plain": [
       "0"
      ]
     },
     "metadata": {},
     "output_type": "display_data"
    },
    {
     "name": "stdout",
     "output_type": "stream",
     "text": [
      "<class 'pandas.core.frame.DataFrame'>\n",
      "RangeIndex: 16715 entries, 0 to 16714\n",
      "Data columns (total 12 columns):\n",
      "name               16715 non-null object\n",
      "platform           16715 non-null object\n",
      "year_of_release    16446 non-null float64\n",
      "genre              16715 non-null object\n",
      "na_sales           16715 non-null float64\n",
      "eu_sales           16715 non-null float64\n",
      "jp_sales           16715 non-null float64\n",
      "other_sales        16715 non-null float64\n",
      "critic_score       16715 non-null float64\n",
      "user_score         16715 non-null float64\n",
      "rating             16715 non-null object\n",
      "sales_total        16715 non-null float64\n",
      "dtypes: float64(8), object(4)\n",
      "memory usage: 1.5+ MB\n"
     ]
    }
   ],
   "source": [
    "# проверим на дубликаты\n",
    "display (df.duplicated().sum())\n",
    "\n",
    "df.info ()"
   ]
  },
  {
   "cell_type": "markdown",
   "metadata": {},
   "source": [
    "В результате предобработки мы выполнили:\n",
    "\n",
    "1. Замены наименование столбцов (приведение к нижнему регистру)\n",
    "\n",
    "2. Попытались выяснить причину пропусков в названиях игр, но не нашли системность в них, поэтому заменили на 'no_name'\n",
    "\n",
    "3. Попытались разобраться в причинах пропусков в столбце года выпуска игры, но нечего нам не подсказало что это именно и с чем это едят, поэтому оставили пропуски так, как есть.\n",
    "\n",
    "4. Взглянули на пустые значения в столбце возрастного предпочтения и решили заменить пропуски на значения 'no_genre', т.к. их доля невелика.\n",
    "\n",
    "5. Обработали пустые значения в столбце оценки критиков и заменили их нулями.\n",
    "    \n",
    "6. Обработали пустые значения в столбце оценки пользователей и приняли решение заменить их на значение '-1' и привести к типу 'float'\n",
    "\n",
    "7. Попытались разобраться с отсутствующими значениями в столбце рейтинга и заменили их на значение 'no_rating'\n",
    "\n",
    "8. Создали отдельный столбец с продажами по всем регионам, т.к. в дальнейшем он нам понадобится.\n",
    "\n",
    "9. В результате у нас получилось, что отсутствующие значения имееются только в столбце года релиза."
   ]
  },
  {
   "cell_type": "markdown",
   "metadata": {},
   "source": [
    "# Исследовательский анализ данных"
   ]
  },
  {
   "cell_type": "markdown",
   "metadata": {},
   "source": [
    "<a id=\"step_7\"></a>\n",
    "<b>Рассмотрим, сколько игр выпускалось в разные годы.</b>"
   ]
  },
  {
   "cell_type": "code",
   "execution_count": 17,
   "metadata": {},
   "outputs": [
    {
     "data": {
      "image/png": "[encoded data removed]",
      "text/plain": [
       "<Figure size 1080x360 with 1 Axes>"
      ]
     },
     "metadata": {
      "needs_background": "light"
     },
     "output_type": "display_data"
    }
   ],
   "source": [
    "# сгруппируем таблицу по 'year_of_release' со значениями количеств игр\n",
    "year_of_release_grouped = df.groupby ('year_of_release')['name'].count ()\n",
    "\n",
    "# построим график\n",
    "year_of_release_grouped.plot (kind = 'bar', y = 'name', style = 'o-', xlim = (0, 38), grid = True, figsize = (15, 5))\n",
    "\n",
    "#подписи к графику\n",
    "plt.title ('Гистограмма выпуска ирг по годам')\n",
    "plt.show()"
   ]
  },
  {
   "cell_type": "markdown",
   "metadata": {},
   "source": [
    "Из построенного графика видим, что начиная с 2001 года выпуск игр резко пошел вверх вплоть до 2009 года с пиком выска игр в 2008-2009 гг. С 2009 года выпуск игр идет на спад вплоть до 2013 года. С 2013 года по 2015 год небольшой подъем и опять спад."
   ]
  },
  {
   "cell_type": "markdown",
   "metadata": {},
   "source": [
    "<a id=\"step_8\"></a>\n",
    "<b>Рассмотрим, как менялись продажи по платформам</b>"
   ]
  },
  {
   "cell_type": "code",
   "execution_count": 18,
   "metadata": {},
   "outputs": [
    {
     "data": {
      "image/png": "[encoded data removed]",
      "text/plain": [
       "<Figure size 1080x720 with 1 Axes>"
      ]
     },
     "metadata": {
      "needs_background": "light"
     },
     "output_type": "display_data"
    }
   ],
   "source": [
    "# сгруппируем и отсортируем нашу таблицу по 'platform' с суммами значений 'sales_total'\n",
    "platform_grouped = df.groupby ('platform')['sales_total'].sum ().sort_values ()\n",
    "\n",
    "# построим график\n",
    "platform_grouped.plot (kind = 'barh', y = 'name', style = 'o-', xlim = (0, 1400), grid = True, figsize = (15, 10))\n",
    "\n",
    "#подписи к графику\n",
    "plt.title ('Гистограмма продаж ирг по платформам')\n",
    "plt.show()"
   ]
  },
  {
   "cell_type": "markdown",
   "metadata": {},
   "source": [
    "<a id=\"step_9\"></a>\n",
    "<b>Выбор платформ с наибольшими продажами по годам и распределение продаж игр на данных платформах по годам.</b>"
   ]
  },
  {
   "cell_type": "markdown",
   "metadata": {},
   "source": [
    "На графике четко видны лидеры по продажам игр, а именно такие платформы, как:\n",
    "\n",
    "PS2, X360, PS3, Wii, DS, PS\n",
    "\n",
    "Рассмотрим распределение продаж игр на данных платформах по годам"
   ]
  },
  {
   "cell_type": "code",
   "execution_count": 19,
   "metadata": {},
   "outputs": [
    {
     "data": {
      "image/png": "[encoded data removed]",
      "text/plain": [
       "<Figure size 1440x720 with 1 Axes>"
      ]
     },
     "metadata": {
      "needs_background": "light"
     },
     "output_type": "display_data"
    }
   ],
   "source": [
    "# создадим список с лидерами продаж\n",
    "platform_grouped_lead = platform_grouped.index [len (platform_grouped)-6:len (platform_grouped)]\n",
    "\n",
    "# сделаем сводную таблицу по лидерам продаж относительно суммам продаж и годов выпуска\n",
    "platform_lead = (df\n",
    "     .query ('platform in @platform_grouped_lead')\n",
    "     .pivot_table (index = 'year_of_release', columns = 'platform', values = 'sales_total', aggfunc = 'sum')\n",
    ")\n",
    "\n",
    "# построим график\n",
    "platform_lead.plot (style = 'o-', grid = True, figsize = (20, 10)) \n",
    "\n",
    "#подписи к графику\n",
    "plt.title ('Гистограмма продаж ирг на данных платформах по годам')\n",
    "plt.show()"
   ]
  },
  {
   "cell_type": "markdown",
   "metadata": {},
   "source": [
    "<a id=\"step_10\"></a>\n",
    "<b>Определение жизненного цикла платформ.</b>"
   ]
  },
  {
   "cell_type": "markdown",
   "metadata": {},
   "source": [
    "Из построенной гистограммы видим жизненный цикл платформ:\n",
    "\n",
    " - PS - появилась в 1994 году и ушла в 2003 году, жизненный цикл - 9 лет;\n",
    " \n",
    " - PS2 - с 2000 по 2011 - 11 лет;\n",
    " \n",
    " - DS - с 2004 по 2013 - 9 лет;\n",
    " \n",
    " - X360 - с 2005 по 2016 - 11 лет;\n",
    " \n",
    " - PS3 - с 2006 по 2016 - 10 лет;\n",
    " \n",
    "- -Wii - с 2006 по 2016 - 10 лет.\n",
    "\n",
    "Таким образом, в среднем жизненный цикл платформ составляет около 10 лет."
   ]
  },
  {
   "cell_type": "markdown",
   "metadata": {},
   "source": [
    "<a id=\"step_11\"></a>\n",
    "<b>Определение актуального переиода для дальнейшего исследования</b>"
   ]
  },
  {
   "cell_type": "markdown",
   "metadata": {},
   "source": [
    "Для дальнейшего анализа примем актуальным периодом период с 2014 по 2016 год.\n",
    "Хотя в период с 2006 по 2016 вышли новые консоли, жизненный цикл которых как-раз совпадает с окончанием актуального периода."
   ]
  },
  {
   "cell_type": "markdown",
   "metadata": {},
   "source": [
    "<a id=\"step_12\"></a>\n",
    "<b>Определение лидеров продаж в сегменте консолей</b>"
   ]
  },
  {
   "cell_type": "markdown",
   "metadata": {},
   "source": [
    "Построим график продаж по годам за соответствующий актуальный период и посмотрим на лидиров продаж в сегменте консолей"
   ]
  },
  {
   "cell_type": "code",
   "execution_count": 20,
   "metadata": {},
   "outputs": [
    {
     "data": {
      "image/png": "[encoded data removed]",
      "text/plain": [
       "<Figure size 1440x720 with 1 Axes>"
      ]
     },
     "metadata": {
      "needs_background": "light"
     },
     "output_type": "display_data"
    }
   ],
   "source": [
    "# сделаем сводную таблицу по актуальному периоду относительно суммам продаж и годов выпуска\n",
    "platform_lead_actual = (df\n",
    "     .query ('year_of_release > = 2014')\n",
    "     .pivot_table (index = 'year_of_release', columns = 'platform', values = 'sales_total', aggfunc = 'sum')\n",
    ")\n",
    "\n",
    "# построим график\n",
    "platform_lead_actual.plot (style = 'o-', grid = True, figsize = (20, 10)) \n",
    "\n",
    "#подписи к графику\n",
    "plt.title ('Гистограмма продаж ирг на данных платформах по годам')\n",
    "plt.show()"
   ]
  },
  {
   "cell_type": "markdown",
   "metadata": {},
   "source": [
    "Из построенного графика видим, что на конец 2016 года лидерами продаж у нас выступают:\n",
    "\n",
    " - PS4\n",
    " \n",
    " - XOne\n",
    " \n",
    " - 3DS\n",
    "\n",
    "Если PS4 и XOne начали свой жизненный цикл в 2013 году, то 3DS в 2011.\n",
    "\n",
    "Ранее мы вывели средний цикл жизни консолей и можем предположить, что жизненный цикл вышеуказанных консолей окончится в период с 2021 по 2023 год, т.е. данные косоли еще не изжили себя."
   ]
  },
  {
   "cell_type": "markdown",
   "metadata": {},
   "source": [
    "<a id=\"step_13\"></a>\n",
    "<b>Ящик с усами по глобальным продажам игр в разбивке по платформам</b>"
   ]
  },
  {
   "cell_type": "code",
   "execution_count": 21,
   "metadata": {},
   "outputs": [
    {
     "data": {
      "image/png": "[encoded data removed]",
      "text/plain": [
       "<Figure size 576x576 with 1 Axes>"
      ]
     },
     "metadata": {
      "needs_background": "light"
     },
     "output_type": "display_data"
    }
   ],
   "source": [
    "#датасет по актуальному периоду\n",
    "lead_actual = df [df ['year_of_release'] >= 2014]\n",
    "\n",
    "platform_lead_actual_new = ['PS4', 'XOne', '3DS']\n",
    "\n",
    "# сделаем сводную таблицу по лидерам продаж относительно суммам продаж и годов выпуска\n",
    "#platform_lead_new = (lead_actual\n",
    "#     .query ('platform in @platform_lead_actual_new')\n",
    "#     .pivot_table (index = 'year_of_release', columns = 'platform', values = 'sales_total', aggfunc = 'sum')\n",
    "#)\n",
    "\n",
    "#platform_lead_new = (df\n",
    "#     .query ('platform in @platform_lead_actual_new')\n",
    "#     .pivot_table (index = 'year_of_release', columns = 'platform', values = 'sales_total', aggfunc = 'sum')\n",
    "#)\n",
    "\n",
    "platform_lead_new = (lead_actual\n",
    "     .query ('platform in @platform_lead_actual_new'))\n",
    "\n",
    "# построим график\n",
    "#platform_lead_new.boxplot ('sales_total', figsize=(8, 8)).set_ylim(0, 2.5)\n",
    "\n",
    "platform_lead_new.boxplot ('sales_total', figsize=(8, 8)).set_ylim(0, 2)\n",
    "\n",
    "#df_grouped_platform = df.groupby('platform')['sales_total'].sum ().reset_index()\n",
    "#df_grouped_platform.boxplot ('sales_total')\n",
    "\n",
    "\n",
    "#подписи к графику\n",
    "plt.title ('Ящик с усами по глобальным продажам игр в разбивке по платформам')\n",
    "plt.show()"
   ]
  },
  {
   "cell_type": "code",
   "execution_count": 39,
   "metadata": {},
   "outputs": [
    {
     "name": "stderr",
     "output_type": "stream",
     "text": [
      "/opt/conda/lib/python3.7/site-packages/numpy/core/_asarray.py:83: VisibleDeprecationWarning: Creating an ndarray from ragged nested sequences (which is a list-or-tuple of lists-or-tuples-or ndarrays with different lengths or shapes) is deprecated. If you meant to do this, you must specify 'dtype=object' when creating the ndarray\n",
      "  return array(a, dtype, copy=False, order=order)\n"
     ]
    },
    {
     "data": {
      "text/plain": [
       "(0, 2)"
      ]
     },
     "execution_count": 39,
     "metadata": {},
     "output_type": "execute_result"
    },
    {
     "data": {
      "image/png": "[encoded data removed]",
      "text/plain": [
       "<Figure size 576x576 with 1 Axes>"
      ]
     },
     "metadata": {
      "needs_background": "light"
     },
     "output_type": "display_data"
    }
   ],
   "source": [
    "platform_lead_new.boxplot('sales_total', by = 'platform', figsize=(8, 8)).set_ylim(0, 2)"
   ]
  },
  {
   "cell_type": "markdown",
   "metadata": {},
   "source": [
    "Из представленных данных видно, что общие продажи за указанный период по выбранным платформам находятся в промежутке от 50 тыс. до 550 тыс. Медианное значение в районе 150 тыс. Вс, что больше 1 260 тыс. - выбросы."
   ]
  },
  {
   "cell_type": "markdown",
   "metadata": {},
   "source": [
    "<a id=\"step_14\"></a>\n",
    "<b>Рассмотрим, как влияют на продажи внутри одной популярной платформы отзывы пользователей и критиков. Построим диаграмму рассеяния и посчитаем корреляцию между отзывами и продажами.</b>"
   ]
  },
  {
   "cell_type": "markdown",
   "metadata": {},
   "source": [
    "<b>От отзывов критиков</b>"
   ]
  },
  {
   "cell_type": "code",
   "execution_count": 22,
   "metadata": {},
   "outputs": [
    {
     "data": {
      "image/png": "[encoded data removed]",
      "text/plain": [
       "<Figure size 720x432 with 1 Axes>"
      ]
     },
     "metadata": {
      "needs_background": "light"
     },
     "output_type": "display_data"
    }
   ],
   "source": [
    "#собираем данные по PS4\n",
    "df_ps4 = lead_actual [(lead_actual ['platform'] == 'PS4') & (lead_actual ['critic_score'] > 0)]\n",
    "\n",
    "#рисуем диограмму рассеяния\n",
    "df_ps4.plot (kind = 'scatter', x = 'critic_score', y = 'sales_total', figsize = (10,6))\n",
    "\n",
    "#подписи к графику\n",
    "plt.title ('Диограмма рассеиния зависимости выручки от оценки критиков')\n",
    "plt.show()"
   ]
  },
  {
   "cell_type": "markdown",
   "metadata": {},
   "source": [
    "Чем выше оценка критиков, тем выше выручка"
   ]
  },
  {
   "cell_type": "markdown",
   "metadata": {},
   "source": [
    "<b>От отзыва пользователей</b>"
   ]
  },
  {
   "cell_type": "code",
   "execution_count": 23,
   "metadata": {},
   "outputs": [
    {
     "data": {
      "image/png": "[encoded data removed]",
      "text/plain": [
       "<Figure size 720x432 with 1 Axes>"
      ]
     },
     "metadata": {
      "needs_background": "light"
     },
     "output_type": "display_data"
    }
   ],
   "source": [
    "#собираем данные по PS4\n",
    "df_ps4 = lead_actual [(lead_actual ['platform'] == 'PS4') & (lead_actual ['user_score'] > 0)]\n",
    "\n",
    "#рисуем диаграмму рассеивания\n",
    "df_ps4.plot (kind = 'scatter', x = 'user_score', y = 'sales_total', figsize = (10,6))\n",
    "\n",
    "#подписи к графику\n",
    "plt.title ('Диограмма рассеиния зависимости выручки от оценки пользователей')\n",
    "plt.show()"
   ]
  },
  {
   "cell_type": "markdown",
   "metadata": {},
   "source": [
    "Чем выше оценка критиков, тем выше выручка, но наблюдаем также много вбросов"
   ]
  },
  {
   "cell_type": "markdown",
   "metadata": {},
   "source": [
    "<b>Корреляция между отзывами и продажами</b>"
   ]
  },
  {
   "cell_type": "code",
   "execution_count": 24,
   "metadata": {},
   "outputs": [
    {
     "data": {
      "image/png": "[encoded data removed]",
      "text/plain": [
       "<Figure size 72x216 with 2 Axes>"
      ]
     },
     "metadata": {
      "needs_background": "light"
     },
     "output_type": "display_data"
    }
   ],
   "source": [
    "#собираем данные\n",
    "df_ps4_corr = df_ps4 [['sales_total' ,'critic_score', 'user_score']]\n",
    "\n",
    "#строим график корреляции\n",
    "plt.figure (figsize = (1,3))\n",
    "sns.heatmap (df_ps4_corr.corr () [['sales_total']].sort_values (by = 'sales_total', ascending = False), \n",
    "            annot = True, annot_kws = {'size':15})\n",
    "#подписи к графику\n",
    "plt.title ('Тепловая карта корреляции зависимости выручки от оценки пользователей и оценки критиков')\n",
    "plt.show ()"
   ]
  },
  {
   "cell_type": "markdown",
   "metadata": {},
   "source": [
    "Из тепловой карты корреляции видим, что выручка больше зависит от оценки критиков, чем от оценки пользователей"
   ]
  },
  {
   "cell_type": "markdown",
   "metadata": {},
   "source": [
    "<a id=\"step_15\"></a>\n",
    "<b>Соотнесем выводы с продажами игр на других платформах.</b>"
   ]
  },
  {
   "cell_type": "code",
   "execution_count": 25,
   "metadata": {},
   "outputs": [
    {
     "data": {
      "image/png": "[encoded data removed]",
      "text/plain": [
       "<Figure size 432x288 with 2 Axes>"
      ]
     },
     "metadata": {
      "needs_background": "light"
     },
     "output_type": "display_data"
    },
    {
     "data": {
      "image/png": "[encoded data removed]",
      "text/plain": [
       "<Figure size 432x288 with 2 Axes>"
      ]
     },
     "metadata": {
      "needs_background": "light"
     },
     "output_type": "display_data"
    }
   ],
   "source": [
    "#собираем данные\n",
    "df_XOne = lead_actual [(lead_actual ['platform'] == 'XOne') & (lead_actual ['critic_score'] > 0) & (lead_actual ['user_score'] > 0)]\n",
    "\n",
    "#собираем данные\n",
    "df_3DS = lead_actual [(lead_actual ['platform'] == '3DS') & (lead_actual ['critic_score'] > 0) & (lead_actual ['user_score'] > 0)]\n",
    "\n",
    "#собираем данные\n",
    "df_XOne_corr = df_XOne [['sales_total' ,'critic_score', 'user_score']]\n",
    "\n",
    "#собираем данные\n",
    "df_3DS_corr = df_3DS [['sales_total' ,'critic_score', 'user_score']]\n",
    "\n",
    "#строим график корреляции\n",
    "sns.heatmap (df_XOne_corr.corr () [['sales_total']].sort_values (by = 'sales_total', ascending = False), \n",
    "            annot = True, annot_kws = {'size':15})\n",
    "\n",
    "#подписи к графику\n",
    "plt.title ('Тепловая карта корреляции зависимости выручки от оценки пользователей и оценки критиков по платформе XOne')\n",
    "plt.show ()\n",
    "\n",
    "#строим график корреляции\n",
    "sns.heatmap (df_3DS_corr.corr () [['sales_total']].sort_values (by = 'sales_total', ascending = False), \n",
    "            annot = True, annot_kws = {'size':15})\n",
    "\n",
    "#подписи к графику\n",
    "plt.title ('Тепловая карта корреляции зависимости выручки от оценки пользователей и оценки критиков по платформе 3DS')\n",
    "plt.show ()"
   ]
  },
  {
   "cell_type": "markdown",
   "metadata": {},
   "source": [
    "Из тепловой карты корреляции видим, что тут уже не так все однозначно..."
   ]
  },
  {
   "cell_type": "markdown",
   "metadata": {},
   "source": [
    "<a id=\"step_16\"></a>\n",
    "<b>Рассмотрим выделение игр по жанрам.</b>"
   ]
  },
  {
   "cell_type": "code",
   "execution_count": 26,
   "metadata": {},
   "outputs": [
    {
     "data": {
      "image/png": "[encoded data removed]",
      "text/plain": [
       "<Figure size 1080x720 with 1 Axes>"
      ]
     },
     "metadata": {
      "needs_background": "light"
     },
     "output_type": "display_data"
    }
   ],
   "source": [
    "# сгруппируем и отсортируем нашу таблицу по 'platform' с суммами значений 'sales_total'\n",
    "#genre_grouped = lead_actual.groupby ('genre')['sales_total'].sum ().sort_values ()\n",
    "\n",
    "# сгруппируем и отсортируем нашу таблицу по 'platform' с медианными значениями 'sales_total'\n",
    "genre_grouped = lead_actual.groupby ('genre')['sales_total'].mean ().sort_values ()\n",
    "\n",
    "\n",
    "# построим график\n",
    "genre_grouped.plot (kind = 'barh', y = 'genre', style = 'o-', xlim = (0, 2), grid = True, figsize = (15, 10))\n",
    "\n",
    "#подписи к графику\n",
    "plt.title ('Гистограмма продаж ирг по жанрам')\n",
    "plt.show()"
   ]
  },
  {
   "cell_type": "markdown",
   "metadata": {},
   "source": [
    "Из гистограммы видим, что самым прибыльным жанром в играх является Shooter"
   ]
  },
  {
   "cell_type": "markdown",
   "metadata": {},
   "source": [
    "Чем выше оценка критиков и пользователей, тем выше выручка по исследованиям ТОП платформ. Лидерами по прибыльности выступают игры в жанре Shooter."
   ]
  },
  {
   "cell_type": "markdown",
   "metadata": {},
   "source": [
    "# Составление портрета пользователя каждого региона"
   ]
  },
  {
   "cell_type": "markdown",
   "metadata": {},
   "source": [
    "<a id=\"step_17\"></a>\n",
    "<b>Определим для пользователя каждого региона (NA, EU, JP):</b>\n",
    "<b>Самые популярные платформы (топ-5)</b>"
   ]
  },
  {
   "cell_type": "code",
   "execution_count": 27,
   "metadata": {
    "scrolled": false
   },
   "outputs": [],
   "source": [
    "#функция отпределения топовых платформ в регионе\n",
    "def platform_region (region):\n",
    "    # сгруппируем и отсортируем нашу таблицу по 'platform' с суммами значений 'sales'\n",
    "    region_grouped = lead_actual.groupby ('platform')[region].sum ().sort_values (ascending = False)\n",
    "    display (region_grouped.head ())"
   ]
  },
  {
   "cell_type": "markdown",
   "metadata": {},
   "source": [
    "В Северной Америке ТОП-5 популярных платформ:"
   ]
  },
  {
   "cell_type": "code",
   "execution_count": 28,
   "metadata": {},
   "outputs": [
    {
     "data": {
      "text/plain": [
       "platform\n",
       "PS4     98.61\n",
       "XOne    81.27\n",
       "X360    28.30\n",
       "3DS     22.64\n",
       "PS3     22.05\n",
       "Name: na_sales, dtype: float64"
      ]
     },
     "metadata": {},
     "output_type": "display_data"
    }
   ],
   "source": [
    "platform_region ('na_sales')"
   ]
  },
  {
   "cell_type": "markdown",
   "metadata": {},
   "source": [
    "В Европе ТОП-5 популярных платформ:"
   ]
  },
  {
   "cell_type": "code",
   "execution_count": 29,
   "metadata": {},
   "outputs": [
    {
     "data": {
      "text/plain": [
       "platform\n",
       "PS4     130.04\n",
       "XOne     46.25\n",
       "PS3      25.54\n",
       "PC       17.97\n",
       "3DS      16.12\n",
       "Name: eu_sales, dtype: float64"
      ]
     },
     "metadata": {},
     "output_type": "display_data"
    }
   ],
   "source": [
    "platform_region ('eu_sales')"
   ]
  },
  {
   "cell_type": "markdown",
   "metadata": {},
   "source": [
    "В Японии ТОП-5 популярных платформ:"
   ]
  },
  {
   "cell_type": "code",
   "execution_count": 30,
   "metadata": {},
   "outputs": [
    {
     "data": {
      "text/plain": [
       "platform\n",
       "3DS     44.24\n",
       "PS4     15.02\n",
       "PSV     14.54\n",
       "PS3     11.22\n",
       "WiiU     7.31\n",
       "Name: jp_sales, dtype: float64"
      ]
     },
     "metadata": {},
     "output_type": "display_data"
    }
   ],
   "source": [
    "platform_region ('jp_sales')"
   ]
  },
  {
   "cell_type": "markdown",
   "metadata": {},
   "source": [
    "В Северной Америке предпочитают приставки PS4, в Европе - PS4, а в Японии - 3DS"
   ]
  },
  {
   "cell_type": "markdown",
   "metadata": {},
   "source": [
    "<a id=\"step_18\"></a>\n",
    "<b>Самые популярные жанры (топ-5)</b>"
   ]
  },
  {
   "cell_type": "code",
   "execution_count": 31,
   "metadata": {},
   "outputs": [],
   "source": [
    "#функция отпределения топовых игровых жанров в регионе\n",
    "def platform_region (region):\n",
    "    # сгруппируем и отсортируем нашу таблицу по 'platform' с суммами значений 'sales'\n",
    "    region_grouped = lead_actual.groupby ('genre')[region].sum ().sort_values (ascending = False)\n",
    "    display (region_grouped.head ())"
   ]
  },
  {
   "cell_type": "markdown",
   "metadata": {},
   "source": [
    "Самые популярные жанры (топ-5) в Северной Америке"
   ]
  },
  {
   "cell_type": "code",
   "execution_count": 32,
   "metadata": {},
   "outputs": [
    {
     "data": {
      "text/plain": [
       "genre\n",
       "Shooter         79.02\n",
       "Action          72.53\n",
       "Sports          46.13\n",
       "Role-Playing    33.47\n",
       "Misc            15.05\n",
       "Name: na_sales, dtype: float64"
      ]
     },
     "metadata": {},
     "output_type": "display_data"
    }
   ],
   "source": [
    "platform_region ('na_sales')"
   ]
  },
  {
   "cell_type": "markdown",
   "metadata": {},
   "source": [
    "Самые популярные жанры (топ-5) в Европе"
   ]
  },
  {
   "cell_type": "code",
   "execution_count": 33,
   "metadata": {},
   "outputs": [
    {
     "data": {
      "text/plain": [
       "genre\n",
       "Action          74.68\n",
       "Shooter         65.52\n",
       "Sports          45.73\n",
       "Role-Playing    28.17\n",
       "Racing          14.13\n",
       "Name: eu_sales, dtype: float64"
      ]
     },
     "metadata": {},
     "output_type": "display_data"
    }
   ],
   "source": [
    "platform_region ('eu_sales')"
   ]
  },
  {
   "cell_type": "markdown",
   "metadata": {},
   "source": [
    "Самые популярные жанры (топ-5) в Японии"
   ]
  },
  {
   "cell_type": "code",
   "execution_count": 34,
   "metadata": {},
   "outputs": [
    {
     "data": {
      "text/plain": [
       "genre\n",
       "Role-Playing    31.16\n",
       "Action          29.58\n",
       "Fighting         6.37\n",
       "Misc             5.61\n",
       "Shooter          4.87\n",
       "Name: jp_sales, dtype: float64"
      ]
     },
     "metadata": {},
     "output_type": "display_data"
    }
   ],
   "source": [
    "platform_region ('jp_sales')"
   ]
  },
  {
   "cell_type": "markdown",
   "metadata": {},
   "source": [
    "В Северной Америке предпочитают игры жанра Shooter, в Европе - Action, а в Японии - Role-Playing"
   ]
  },
  {
   "cell_type": "markdown",
   "metadata": {},
   "source": [
    "<a id=\"step_19\"></a>\n",
    "<b>Влияние рейтинга ESRB на продажи в отдельном регионе</b>"
   ]
  },
  {
   "cell_type": "code",
   "execution_count": 35,
   "metadata": {},
   "outputs": [],
   "source": [
    "#функция рейтинга ESRB в регионе\n",
    "def platform_region (region):\n",
    "    # сгруппируем и отсортируем нашу таблицу по 'platform' с суммами значений 'sales'\n",
    "    region_grouped = lead_actual.groupby ('rating')[region].sum ().sort_values (ascending = False)\n",
    "    display (region_grouped.head ())"
   ]
  },
  {
   "cell_type": "markdown",
   "metadata": {},
   "source": [
    "Сравним продажи игр в отдельном регионе по рейтингу"
   ]
  },
  {
   "cell_type": "code",
   "execution_count": 36,
   "metadata": {},
   "outputs": [
    {
     "data": {
      "text/plain": [
       "rating\n",
       "M            96.42\n",
       "no_rating    64.72\n",
       "E            50.74\n",
       "T            38.95\n",
       "E10+         33.23\n",
       "Name: na_sales, dtype: float64"
      ]
     },
     "metadata": {},
     "output_type": "display_data"
    },
    {
     "data": {
      "text/plain": [
       "rating\n",
       "M            93.44\n",
       "no_rating    58.95\n",
       "E            58.06\n",
       "T            34.07\n",
       "E10+         26.16\n",
       "Name: eu_sales, dtype: float64"
      ]
     },
     "metadata": {},
     "output_type": "display_data"
    },
    {
     "data": {
      "text/plain": [
       "rating\n",
       "no_rating    56.90\n",
       "T            14.78\n",
       "E             8.94\n",
       "M             8.01\n",
       "E10+          4.46\n",
       "Name: jp_sales, dtype: float64"
      ]
     },
     "metadata": {},
     "output_type": "display_data"
    }
   ],
   "source": [
    "platform_region ('na_sales')\n",
    "platform_region ('eu_sales')\n",
    "platform_region ('jp_sales')"
   ]
  },
  {
   "cell_type": "markdown",
   "metadata": {},
   "source": [
    "Можно сделать вывод о том, что рейтинг ESRB не влияет на продажи в отдельных регионах. Хотя в Японии он отличается от Северной Америки и Европы."
   ]
  },
  {
   "cell_type": "markdown",
   "metadata": {},
   "source": [
    "В Северной Америке предпочитают приставки PS4, в Европе - PS4, а в Японии - 3DS\n",
    "\n",
    "В Северной Америке предпочитают игры жанра Shooter, в Европе - Action, а в Японии - Role-Playing.\n",
    "\n",
    "Можно сделать вывод о том, что рейтинг ESRB не влияет на продажи в отдельных регионах. Хотя в Японии он отличается от Северной Америки и Европы."
   ]
  },
  {
   "cell_type": "markdown",
   "metadata": {},
   "source": [
    "# Проверка гипотез"
   ]
  },
  {
   "cell_type": "markdown",
   "metadata": {},
   "source": [
    "<a id=\"step_20\"></a>\n",
    "<b>Средние пользовательские рейтинги платформ Xbox One и PC одинаковые</b>"
   ]
  },
  {
   "cell_type": "markdown",
   "metadata": {},
   "source": [
    "Примем за:\n",
    "Н0 (нулевую гипотезу) - средние пользовательские рейтинги платформ Xbox One и PC одинаковые.\n",
    "Н1 (альтернативную гипотезу) - средние пользовательские рейтинги платформ Xbox One и PC отличаются между собой."
   ]
  },
  {
   "cell_type": "code",
   "execution_count": 37,
   "metadata": {},
   "outputs": [
    {
     "name": "stdout",
     "output_type": "stream",
     "text": [
      "Дисперсия по оценке пользователей пользователей платформ XOne 1.727856672952941\n",
      "Дисперсия по оценке пользователей пользователей платформ PC: 2.732518714555766\n"
     ]
    },
    {
     "data": {
      "text/plain": [
       "'p-значение: '"
      ]
     },
     "metadata": {},
     "output_type": "display_data"
    },
    {
     "data": {
      "text/plain": [
       "0.12817793652639856"
      ]
     },
     "metadata": {},
     "output_type": "display_data"
    },
    {
     "name": "stdout",
     "output_type": "stream",
     "text": [
      "Не получилось отвергнуть нулевую гипотезу\n"
     ]
    }
   ],
   "source": [
    "#сделаем таблицу с интересующими нас значениями для пользователей платформ PC\n",
    "df_PC = lead_actual [(lead_actual ['platform'] == 'PC') & (lead_actual ['critic_score'] > 0) & (lead_actual ['user_score'] > 0)]\n",
    "\n",
    "#считаем дисперсию по оценке пользователей пользователей платформ XOne\n",
    "print ('Дисперсия по оценке пользователей пользователей платформ XOne', np.var (df_XOne ['user_score']))\n",
    "\n",
    "#считаем дисперсию по оценке пользователей пользователей платформ PC\n",
    "print ('Дисперсия по оценке пользователей пользователей платформ PC:', np.var (df_PC ['user_score']))\n",
    "\n",
    "#принимаем критический уровень статистической значимости в 5%\n",
    "alpha = 0.05\n",
    "\n",
    "#проверим, равны ли средние двух генеральных совокупностей\n",
    "results = st.ttest_ind (df_XOne ['user_score'], df_PC ['user_score'], equal_var = True) \n",
    "\n",
    "display ('p-значение: ', results.pvalue)\n",
    "      \n",
    "if results.pvalue < alpha:\n",
    "    print(\"Отвергаем нулевую гипотезу\")\n",
    "else:\n",
    "    print(\"Не получилось отвергнуть нулевую гипотезу\")"
   ]
  },
  {
   "cell_type": "markdown",
   "metadata": {},
   "source": [
    "Т.к. при проверке нулевой гипотезы (средние пользовательские рейтинги платформ Xbox One и PC одинаковые) мы ее не отвергли, то это верно."
   ]
  },
  {
   "cell_type": "markdown",
   "metadata": {},
   "source": [
    "<a id=\"step_21\"></a>\n",
    "<b>Средние пользовательские рейтинги жанров Action (англ. «действие», экшен-игры) и Sports (англ. «спортивные соревнования») разные</b>"
   ]
  },
  {
   "cell_type": "markdown",
   "metadata": {},
   "source": [
    "Примем за:\n",
    "Н0 (нулевую гипотезу) - Средние пользовательские рейтинги жанров Action (англ. «действие», экшен-игры) и Sports (англ. «спортивные соревнования») одинаковые.\n",
    "Н1 (альтернативную гипотезу) - Средние пользовательские рейтинги жанров Action (англ. «действие», экшен-игры) и Sports (англ. «спортивные соревнования») отличаются между собой."
   ]
  },
  {
   "cell_type": "code",
   "execution_count": 38,
   "metadata": {},
   "outputs": [
    {
     "name": "stdout",
     "output_type": "stream",
     "text": [
      "Дисперсия по оценке пользователей пользователей жанра Action 1.7985848745366686\n",
      "Дисперсия по оценке пользователей пользователей жанра Sports: 2.2042125127014076\n"
     ]
    },
    {
     "data": {
      "text/plain": [
       "'p-значение: '"
      ]
     },
     "metadata": {},
     "output_type": "display_data"
    },
    {
     "data": {
      "text/plain": [
       "4.0540895999943536e-10"
      ]
     },
     "metadata": {},
     "output_type": "display_data"
    },
    {
     "name": "stdout",
     "output_type": "stream",
     "text": [
      "Отвергаем нулевую гипотезу\n"
     ]
    }
   ],
   "source": [
    "#сделаем таблицу с интересующими нас значениями для пользователей жанра Action\n",
    "df_Action = lead_actual [(lead_actual ['genre'] == 'Action') & (lead_actual ['critic_score'] > 0) & (lead_actual ['user_score'] > 0)]\n",
    "\n",
    "#сделаем таблицу с интересующими нас значениями для пользователей жанра Sports\n",
    "df_Sports = lead_actual [(lead_actual ['genre'] == 'Sports') & (lead_actual ['critic_score'] > 0) & (lead_actual ['user_score'] > 0)]\n",
    "\n",
    "#считаем дисперсию по оценке пользователей пользователей жанра Action\n",
    "print ('Дисперсия по оценке пользователей пользователей жанра Action', np.var (df_Action ['user_score']))\n",
    "\n",
    "#считаем дисперсию по оценке пользователей пользователей жанра Sports\n",
    "print ('Дисперсия по оценке пользователей пользователей жанра Sports:', np.var (df_Sports ['user_score']))\n",
    "\n",
    "#принимаем критический уровень статистической значимости в 5%\n",
    "alpha = 0.05\n",
    "\n",
    "#проверим, равны ли средние двух генеральных совокупностей\n",
    "results = st.ttest_ind (df_Action ['user_score'], df_Sports ['user_score'], equal_var = True) \n",
    "\n",
    "display ('p-значение: ', results.pvalue)\n",
    "      \n",
    "if results.pvalue < alpha:\n",
    "    print(\"Отвергаем нулевую гипотезу\")\n",
    "else:\n",
    "    print(\"Не получилось отвергнуть нулевую гипотезу\")"
   ]
  },
  {
   "cell_type": "markdown",
   "metadata": {},
   "source": [
    "Т.к. при проверке нулевой гипотезы (Средние пользовательские рейтинги жанров Action (англ. «действие», экшен-игры) и Sports (англ. «спортивные соревнования») одинаковые) мы ее отвергли, то правильно будет принять альтернативную гипотезу, а именно: Средние пользовательские рейтинги жанров Action (англ. «действие», экшен-игры) и Sports (англ. «спортивные соревнования») отличаются между собой."
   ]
  },
  {
   "cell_type": "markdown",
   "metadata": {},
   "source": [
    "<a id=\"step_22\"></a>\n",
    "<b>Общий вывод</b>"
   ]
  },
  {
   "cell_type": "markdown",
   "metadata": {},
   "source": [
    "В целом рынок игровых консолей в последние 10 лет падает.\n",
    "\n",
    "Средний жизненный цикл игровых консолей - 10 лет.\n",
    "\n",
    "Выручка при продаже игр больше зависит от оценки критиков, чем от оценки пользователей.\n",
    "\n",
    "В Северной Америке предпочитают приставки X360, в Европе - PS3, а в Японии - DS.\n",
    "\n",
    "В Северной Америке предпочитают игры жанра Action, в Европе тоже Action, а в Японии - Role-Playing.\n",
    "\n",
    "Рейтинг ESRB не влияет на продажи в отдельных регионах\n",
    "\n",
    "Средние пользовательские рейтинги жанров Action (англ. «действие», экшен-игры) и Sports (англ. «спортивные соревнования») отличаются между собой.\n",
    "\n",
    "Средние пользовательские рейтинги жанров Action (англ. «действие», экшен-игры) и Sports (англ. «спортивные соревнования») отличаются между собой."
   ]
  }
 ],
 "metadata": {
  "ExecuteTimeLog": [
   {
    "duration": 75,
    "start_time": "2022-01-25T15:26:13.771Z"
   },
   {
    "duration": 220,
    "start_time": "2022-01-25T15:26:27.281Z"
   },
   {
    "duration": 604,
    "start_time": "2022-01-25T15:26:34.644Z"
   },
   {
    "duration": 533,
    "start_time": "2022-01-25T15:33:07.525Z"
   },
   {
    "duration": 493,
    "start_time": "2022-01-25T15:33:20.004Z"
   },
   {
    "duration": 35,
    "start_time": "2022-01-25T15:36:25.544Z"
   },
   {
    "duration": 359,
    "start_time": "2022-01-26T05:40:14.691Z"
   },
   {
    "duration": 871,
    "start_time": "2022-01-26T05:40:17.766Z"
   },
   {
    "duration": 9,
    "start_time": "2022-01-26T05:40:20.350Z"
   },
   {
    "duration": 3,
    "start_time": "2022-01-26T05:42:51.724Z"
   },
   {
    "duration": 10,
    "start_time": "2022-01-26T05:42:56.687Z"
   },
   {
    "duration": 273,
    "start_time": "2022-01-26T05:57:47.314Z"
   },
   {
    "duration": 20,
    "start_time": "2022-01-26T05:59:02.431Z"
   },
   {
    "duration": 17,
    "start_time": "2022-01-26T06:10:50.010Z"
   },
   {
    "duration": 16,
    "start_time": "2022-01-26T06:10:55.796Z"
   },
   {
    "duration": 6,
    "start_time": "2022-01-26T06:17:28.966Z"
   },
   {
    "duration": 5,
    "start_time": "2022-01-26T06:18:18.157Z"
   },
   {
    "duration": 10,
    "start_time": "2022-01-26T06:18:34.784Z"
   },
   {
    "duration": 22,
    "start_time": "2022-01-26T06:20:41.059Z"
   },
   {
    "duration": 29,
    "start_time": "2022-01-26T07:52:36.535Z"
   },
   {
    "duration": 7497,
    "start_time": "2022-01-26T07:52:56.414Z"
   },
   {
    "duration": 273,
    "start_time": "2022-01-26T07:53:30.359Z"
   },
   {
    "duration": 274,
    "start_time": "2022-01-26T07:57:21.714Z"
   },
   {
    "duration": 250,
    "start_time": "2022-01-26T07:57:46.510Z"
   },
   {
    "duration": 5,
    "start_time": "2022-01-26T07:59:52.017Z"
   },
   {
    "duration": 4,
    "start_time": "2022-01-26T08:01:37.341Z"
   },
   {
    "duration": 6,
    "start_time": "2022-01-26T08:02:09.903Z"
   },
   {
    "duration": 7015,
    "start_time": "2022-01-26T08:03:16.808Z"
   },
   {
    "duration": 5,
    "start_time": "2022-01-26T08:03:36.306Z"
   },
   {
    "duration": 6,
    "start_time": "2022-01-26T08:06:45.943Z"
   },
   {
    "duration": 10,
    "start_time": "2022-01-26T08:07:35.685Z"
   },
   {
    "duration": 4,
    "start_time": "2022-01-26T08:43:53.037Z"
   },
   {
    "duration": 4,
    "start_time": "2022-01-26T08:43:55.122Z"
   },
   {
    "duration": 295,
    "start_time": "2022-01-26T08:45:55.362Z"
   },
   {
    "duration": 261,
    "start_time": "2022-01-26T08:46:35.692Z"
   },
   {
    "duration": 38,
    "start_time": "2022-01-26T08:47:20.926Z"
   },
   {
    "duration": 7073,
    "start_time": "2022-01-26T08:47:24.761Z"
   },
   {
    "duration": 620,
    "start_time": "2022-01-26T08:48:42.311Z"
   },
   {
    "duration": 10,
    "start_time": "2022-01-26T08:48:42.933Z"
   },
   {
    "duration": 3,
    "start_time": "2022-01-26T08:48:42.945Z"
   },
   {
    "duration": 23,
    "start_time": "2022-01-26T08:48:42.950Z"
   },
   {
    "duration": 26,
    "start_time": "2022-01-26T08:48:42.974Z"
   },
   {
    "duration": 6,
    "start_time": "2022-01-26T08:48:43.001Z"
   },
   {
    "duration": 20,
    "start_time": "2022-01-26T08:48:43.009Z"
   },
   {
    "duration": 3,
    "start_time": "2022-01-26T08:48:43.031Z"
   },
   {
    "duration": 8,
    "start_time": "2022-01-26T08:48:43.036Z"
   },
   {
    "duration": 9,
    "start_time": "2022-01-26T08:48:43.046Z"
   },
   {
    "duration": 3,
    "start_time": "2022-01-26T08:48:43.057Z"
   },
   {
    "duration": 44,
    "start_time": "2022-01-26T08:48:43.062Z"
   },
   {
    "duration": 12,
    "start_time": "2022-01-26T08:51:02.867Z"
   },
   {
    "duration": 644,
    "start_time": "2022-01-26T08:54:54.580Z"
   },
   {
    "duration": 10,
    "start_time": "2022-01-26T08:54:55.225Z"
   },
   {
    "duration": 4,
    "start_time": "2022-01-26T08:54:55.237Z"
   },
   {
    "duration": 20,
    "start_time": "2022-01-26T08:54:55.243Z"
   },
   {
    "duration": 15,
    "start_time": "2022-01-26T08:54:55.264Z"
   },
   {
    "duration": 18,
    "start_time": "2022-01-26T08:54:55.281Z"
   },
   {
    "duration": 21,
    "start_time": "2022-01-26T08:54:55.301Z"
   },
   {
    "duration": 3,
    "start_time": "2022-01-26T08:54:55.324Z"
   },
   {
    "duration": 10,
    "start_time": "2022-01-26T08:54:55.328Z"
   },
   {
    "duration": 9,
    "start_time": "2022-01-26T08:54:55.339Z"
   },
   {
    "duration": 3,
    "start_time": "2022-01-26T08:54:55.350Z"
   },
   {
    "duration": 9,
    "start_time": "2022-01-26T08:54:55.354Z"
   },
   {
    "duration": 36,
    "start_time": "2022-01-26T08:54:55.364Z"
   },
   {
    "duration": 11,
    "start_time": "2022-01-26T08:54:55.402Z"
   },
   {
    "duration": 5,
    "start_time": "2022-01-26T08:59:14.379Z"
   },
   {
    "duration": 10,
    "start_time": "2022-01-26T08:59:15.435Z"
   },
   {
    "duration": 3,
    "start_time": "2022-01-26T09:05:57.035Z"
   },
   {
    "duration": 10086,
    "start_time": "2022-01-26T09:08:25.575Z"
   },
   {
    "duration": 283,
    "start_time": "2022-01-26T09:08:43.740Z"
   },
   {
    "duration": 346,
    "start_time": "2022-01-26T09:10:01.261Z"
   },
   {
    "duration": 213,
    "start_time": "2022-01-26T09:11:12.398Z"
   },
   {
    "duration": 199,
    "start_time": "2022-01-26T09:11:55.787Z"
   },
   {
    "duration": 199,
    "start_time": "2022-01-26T09:12:10.825Z"
   },
   {
    "duration": 206,
    "start_time": "2022-01-26T09:12:16.721Z"
   },
   {
    "duration": 207,
    "start_time": "2022-01-26T09:12:22.106Z"
   },
   {
    "duration": 208,
    "start_time": "2022-01-26T09:12:28.423Z"
   },
   {
    "duration": 38,
    "start_time": "2022-01-26T09:13:22.016Z"
   },
   {
    "duration": 417,
    "start_time": "2022-01-26T09:18:04.941Z"
   },
   {
    "duration": 797,
    "start_time": "2022-01-26T09:18:28.491Z"
   },
   {
    "duration": 10,
    "start_time": "2022-01-26T09:18:29.290Z"
   },
   {
    "duration": 23,
    "start_time": "2022-01-26T09:18:29.302Z"
   },
   {
    "duration": 37,
    "start_time": "2022-01-26T09:18:29.327Z"
   },
   {
    "duration": 17,
    "start_time": "2022-01-26T09:18:29.366Z"
   },
   {
    "duration": 13,
    "start_time": "2022-01-26T09:18:29.384Z"
   },
   {
    "duration": 39,
    "start_time": "2022-01-26T09:18:29.399Z"
   },
   {
    "duration": 15,
    "start_time": "2022-01-26T09:18:29.440Z"
   },
   {
    "duration": 21,
    "start_time": "2022-01-26T09:18:29.465Z"
   },
   {
    "duration": 30,
    "start_time": "2022-01-26T09:18:29.487Z"
   },
   {
    "duration": 18,
    "start_time": "2022-01-26T09:18:29.518Z"
   },
   {
    "duration": 21,
    "start_time": "2022-01-26T09:18:29.538Z"
   },
   {
    "duration": 26,
    "start_time": "2022-01-26T09:18:29.560Z"
   },
   {
    "duration": 18,
    "start_time": "2022-01-26T09:18:29.587Z"
   },
   {
    "duration": 34,
    "start_time": "2022-01-26T09:18:29.607Z"
   },
   {
    "duration": 211,
    "start_time": "2022-01-26T09:18:29.643Z"
   },
   {
    "duration": 238,
    "start_time": "2022-01-26T09:20:07.519Z"
   },
   {
    "duration": 265,
    "start_time": "2022-01-26T09:20:22.542Z"
   },
   {
    "duration": 273,
    "start_time": "2022-01-26T09:20:32.686Z"
   },
   {
    "duration": 215,
    "start_time": "2022-01-26T09:35:32.422Z"
   },
   {
    "duration": 228,
    "start_time": "2022-01-26T09:36:31.117Z"
   },
   {
    "duration": 711,
    "start_time": "2022-01-26T09:36:51.670Z"
   },
   {
    "duration": 211,
    "start_time": "2022-01-26T09:37:20.628Z"
   },
   {
    "duration": 236,
    "start_time": "2022-01-26T09:38:43.282Z"
   },
   {
    "duration": 252,
    "start_time": "2022-01-26T09:38:59.996Z"
   },
   {
    "duration": 15,
    "start_time": "2022-01-26T09:39:38.765Z"
   },
   {
    "duration": 7,
    "start_time": "2022-01-26T10:52:43.820Z"
   },
   {
    "duration": 235,
    "start_time": "2022-01-26T10:53:04.614Z"
   },
   {
    "duration": 488,
    "start_time": "2022-01-26T10:55:09.867Z"
   },
   {
    "duration": 698,
    "start_time": "2022-01-26T10:55:57.019Z"
   },
   {
    "duration": 9,
    "start_time": "2022-01-26T10:55:57.719Z"
   },
   {
    "duration": 3,
    "start_time": "2022-01-26T10:55:57.732Z"
   },
   {
    "duration": 18,
    "start_time": "2022-01-26T10:55:57.737Z"
   },
   {
    "duration": 17,
    "start_time": "2022-01-26T10:55:57.756Z"
   },
   {
    "duration": 27,
    "start_time": "2022-01-26T10:55:57.774Z"
   },
   {
    "duration": 23,
    "start_time": "2022-01-26T10:55:57.803Z"
   },
   {
    "duration": 2,
    "start_time": "2022-01-26T10:55:57.828Z"
   },
   {
    "duration": 7,
    "start_time": "2022-01-26T10:55:57.832Z"
   },
   {
    "duration": 10,
    "start_time": "2022-01-26T10:55:57.840Z"
   },
   {
    "duration": 4,
    "start_time": "2022-01-26T10:55:57.851Z"
   },
   {
    "duration": 42,
    "start_time": "2022-01-26T10:55:57.856Z"
   },
   {
    "duration": 4,
    "start_time": "2022-01-26T10:55:57.900Z"
   },
   {
    "duration": 8,
    "start_time": "2022-01-26T10:55:57.906Z"
   },
   {
    "duration": 18,
    "start_time": "2022-01-26T10:55:57.915Z"
   },
   {
    "duration": 463,
    "start_time": "2022-01-26T10:55:57.935Z"
   },
   {
    "duration": 242,
    "start_time": "2022-01-26T10:55:58.400Z"
   },
   {
    "duration": 5,
    "start_time": "2022-01-26T10:56:11.406Z"
   },
   {
    "duration": 519,
    "start_time": "2022-01-26T10:56:15.547Z"
   },
   {
    "duration": 692,
    "start_time": "2022-01-26T10:56:26.538Z"
   },
   {
    "duration": 10,
    "start_time": "2022-01-26T10:56:27.232Z"
   },
   {
    "duration": 3,
    "start_time": "2022-01-26T10:56:27.244Z"
   },
   {
    "duration": 20,
    "start_time": "2022-01-26T10:56:27.248Z"
   },
   {
    "duration": 16,
    "start_time": "2022-01-26T10:56:27.270Z"
   },
   {
    "duration": 14,
    "start_time": "2022-01-26T10:56:27.288Z"
   },
   {
    "duration": 22,
    "start_time": "2022-01-26T10:56:27.303Z"
   },
   {
    "duration": 3,
    "start_time": "2022-01-26T10:56:27.327Z"
   },
   {
    "duration": 10,
    "start_time": "2022-01-26T10:56:27.333Z"
   },
   {
    "duration": 11,
    "start_time": "2022-01-26T10:56:27.345Z"
   },
   {
    "duration": 3,
    "start_time": "2022-01-26T10:56:27.358Z"
   },
   {
    "duration": 40,
    "start_time": "2022-01-26T10:56:27.363Z"
   },
   {
    "duration": 4,
    "start_time": "2022-01-26T10:56:27.405Z"
   },
   {
    "duration": 8,
    "start_time": "2022-01-26T10:56:27.411Z"
   },
   {
    "duration": 13,
    "start_time": "2022-01-26T10:56:27.420Z"
   },
   {
    "duration": 454,
    "start_time": "2022-01-26T10:56:27.435Z"
   },
   {
    "duration": 241,
    "start_time": "2022-01-26T10:56:27.891Z"
   },
   {
    "duration": 410,
    "start_time": "2022-01-26T10:58:27.885Z"
   },
   {
    "duration": 412,
    "start_time": "2022-01-26T10:59:54.008Z"
   },
   {
    "duration": 453,
    "start_time": "2022-01-26T11:00:22.932Z"
   },
   {
    "duration": 447,
    "start_time": "2022-01-26T11:00:50.415Z"
   },
   {
    "duration": 439,
    "start_time": "2022-01-26T11:01:18.455Z"
   },
   {
    "duration": 477,
    "start_time": "2022-01-26T11:08:00.175Z"
   },
   {
    "duration": 437,
    "start_time": "2022-01-26T11:19:15.276Z"
   },
   {
    "duration": 95,
    "start_time": "2022-01-26T11:31:13.678Z"
   },
   {
    "duration": 325,
    "start_time": "2022-01-26T11:31:31.754Z"
   },
   {
    "duration": 249,
    "start_time": "2022-01-26T11:31:42.141Z"
   },
   {
    "duration": 278,
    "start_time": "2022-01-26T11:34:42.022Z"
   },
   {
    "duration": 5,
    "start_time": "2022-01-26T11:34:54.470Z"
   },
   {
    "duration": 9,
    "start_time": "2022-01-26T11:36:38.650Z"
   },
   {
    "duration": 263,
    "start_time": "2022-01-26T11:38:12.198Z"
   },
   {
    "duration": 4,
    "start_time": "2022-01-26T11:38:19.492Z"
   },
   {
    "duration": 256,
    "start_time": "2022-01-26T11:40:35.527Z"
   },
   {
    "duration": 5,
    "start_time": "2022-01-26T11:40:47.204Z"
   },
   {
    "duration": 65,
    "start_time": "2022-01-26T11:41:14.253Z"
   },
   {
    "duration": 92,
    "start_time": "2022-01-26T11:45:47.548Z"
   },
   {
    "duration": 312,
    "start_time": "2022-01-26T11:46:00.891Z"
   },
   {
    "duration": 285,
    "start_time": "2022-01-26T11:51:29.067Z"
   },
   {
    "duration": 9,
    "start_time": "2022-01-26T11:52:25.747Z"
   },
   {
    "duration": 9,
    "start_time": "2022-01-26T11:52:50.541Z"
   },
   {
    "duration": 307,
    "start_time": "2022-01-26T11:54:57.886Z"
   },
   {
    "duration": 285,
    "start_time": "2022-01-26T12:07:18.976Z"
   },
   {
    "duration": 260,
    "start_time": "2022-01-26T12:07:41.966Z"
   },
   {
    "duration": 9,
    "start_time": "2022-01-26T12:08:31.900Z"
   },
   {
    "duration": 785,
    "start_time": "2022-01-26T12:09:10.211Z"
   },
   {
    "duration": 12,
    "start_time": "2022-01-26T12:09:10.998Z"
   },
   {
    "duration": 3,
    "start_time": "2022-01-26T12:09:11.015Z"
   },
   {
    "duration": 20,
    "start_time": "2022-01-26T12:09:11.020Z"
   },
   {
    "duration": 18,
    "start_time": "2022-01-26T12:09:11.042Z"
   },
   {
    "duration": 5,
    "start_time": "2022-01-26T12:09:11.099Z"
   },
   {
    "duration": 22,
    "start_time": "2022-01-26T12:09:11.108Z"
   },
   {
    "duration": 3,
    "start_time": "2022-01-26T12:09:11.133Z"
   },
   {
    "duration": 6,
    "start_time": "2022-01-26T12:09:11.138Z"
   },
   {
    "duration": 13,
    "start_time": "2022-01-26T12:09:11.146Z"
   },
   {
    "duration": 39,
    "start_time": "2022-01-26T12:09:11.161Z"
   },
   {
    "duration": 12,
    "start_time": "2022-01-26T12:09:11.202Z"
   },
   {
    "duration": 7,
    "start_time": "2022-01-26T12:09:11.216Z"
   },
   {
    "duration": 8,
    "start_time": "2022-01-26T12:09:11.224Z"
   },
   {
    "duration": 12,
    "start_time": "2022-01-26T12:09:11.233Z"
   },
   {
    "duration": 545,
    "start_time": "2022-01-26T12:09:11.248Z"
   },
   {
    "duration": 487,
    "start_time": "2022-01-26T12:09:11.794Z"
   },
   {
    "duration": 36,
    "start_time": "2022-01-26T12:09:12.283Z"
   },
   {
    "duration": 16,
    "start_time": "2022-01-26T12:09:58.342Z"
   },
   {
    "duration": 40,
    "start_time": "2022-01-26T12:10:21.190Z"
   },
   {
    "duration": 6624,
    "start_time": "2022-01-26T12:11:07.842Z"
   },
   {
    "duration": 6835,
    "start_time": "2022-01-26T12:11:46.737Z"
   },
   {
    "duration": 6828,
    "start_time": "2022-01-26T12:12:05.310Z"
   },
   {
    "duration": 1394,
    "start_time": "2022-01-26T12:12:24.770Z"
   },
   {
    "duration": 6750,
    "start_time": "2022-01-26T12:13:17.226Z"
   },
   {
    "duration": 1458,
    "start_time": "2022-01-26T12:13:44.511Z"
   },
   {
    "duration": 6,
    "start_time": "2022-01-26T12:15:19.804Z"
   },
   {
    "duration": 424,
    "start_time": "2022-01-26T12:16:52.958Z"
   },
   {
    "duration": 449,
    "start_time": "2022-01-26T12:17:13.941Z"
   },
   {
    "duration": 16,
    "start_time": "2022-01-26T12:20:06.433Z"
   },
   {
    "duration": 20,
    "start_time": "2022-01-26T12:20:16.138Z"
   },
   {
    "duration": 23,
    "start_time": "2022-01-26T12:20:41.693Z"
   },
   {
    "duration": 7,
    "start_time": "2022-01-26T12:23:24.132Z"
   },
   {
    "duration": 6,
    "start_time": "2022-01-26T12:23:46.740Z"
   },
   {
    "duration": 4,
    "start_time": "2022-01-26T12:24:00.730Z"
   },
   {
    "duration": 5,
    "start_time": "2022-01-26T12:24:11.035Z"
   },
   {
    "duration": 5,
    "start_time": "2022-01-26T12:24:25.277Z"
   },
   {
    "duration": 7,
    "start_time": "2022-01-26T12:24:48.732Z"
   },
   {
    "duration": 7,
    "start_time": "2022-01-26T12:25:15.445Z"
   },
   {
    "duration": 9,
    "start_time": "2022-01-26T12:25:51.019Z"
   },
   {
    "duration": 26,
    "start_time": "2022-01-26T12:26:31.280Z"
   },
   {
    "duration": 697,
    "start_time": "2022-01-26T12:27:05.110Z"
   },
   {
    "duration": 13,
    "start_time": "2022-01-26T12:27:05.810Z"
   },
   {
    "duration": 3,
    "start_time": "2022-01-26T12:27:05.825Z"
   },
   {
    "duration": 24,
    "start_time": "2022-01-26T12:27:05.830Z"
   },
   {
    "duration": 17,
    "start_time": "2022-01-26T12:27:05.856Z"
   },
   {
    "duration": 27,
    "start_time": "2022-01-26T12:27:05.874Z"
   },
   {
    "duration": 24,
    "start_time": "2022-01-26T12:27:05.903Z"
   },
   {
    "duration": 3,
    "start_time": "2022-01-26T12:27:05.928Z"
   },
   {
    "duration": 7,
    "start_time": "2022-01-26T12:27:05.933Z"
   },
   {
    "duration": 13,
    "start_time": "2022-01-26T12:27:05.941Z"
   },
   {
    "duration": 4,
    "start_time": "2022-01-26T12:27:05.955Z"
   },
   {
    "duration": 12,
    "start_time": "2022-01-26T12:27:05.960Z"
   },
   {
    "duration": 27,
    "start_time": "2022-01-26T12:27:05.974Z"
   },
   {
    "duration": 8,
    "start_time": "2022-01-26T12:27:06.003Z"
   },
   {
    "duration": 11,
    "start_time": "2022-01-26T12:27:06.012Z"
   },
   {
    "duration": 482,
    "start_time": "2022-01-26T12:27:06.025Z"
   },
   {
    "duration": 464,
    "start_time": "2022-01-26T12:27:06.508Z"
   },
   {
    "duration": 79,
    "start_time": "2022-01-26T12:27:06.974Z"
   },
   {
    "duration": 20,
    "start_time": "2022-01-26T12:27:15.543Z"
   },
   {
    "duration": 96,
    "start_time": "2022-01-26T12:28:56.463Z"
   },
   {
    "duration": 778,
    "start_time": "2022-01-26T12:29:32.472Z"
   },
   {
    "duration": 12,
    "start_time": "2022-01-26T12:29:33.252Z"
   },
   {
    "duration": 10,
    "start_time": "2022-01-26T12:29:33.266Z"
   },
   {
    "duration": 20,
    "start_time": "2022-01-26T12:29:33.278Z"
   },
   {
    "duration": 17,
    "start_time": "2022-01-26T12:29:33.300Z"
   },
   {
    "duration": 10,
    "start_time": "2022-01-26T12:29:33.319Z"
   },
   {
    "duration": 25,
    "start_time": "2022-01-26T12:29:33.331Z"
   },
   {
    "duration": 3,
    "start_time": "2022-01-26T12:29:33.358Z"
   },
   {
    "duration": 8,
    "start_time": "2022-01-26T12:29:33.363Z"
   },
   {
    "duration": 35,
    "start_time": "2022-01-26T12:29:33.373Z"
   },
   {
    "duration": 3,
    "start_time": "2022-01-26T12:29:33.410Z"
   },
   {
    "duration": 12,
    "start_time": "2022-01-26T12:29:33.415Z"
   },
   {
    "duration": 7,
    "start_time": "2022-01-26T12:29:33.429Z"
   },
   {
    "duration": 6,
    "start_time": "2022-01-26T12:29:33.438Z"
   },
   {
    "duration": 15,
    "start_time": "2022-01-26T12:29:33.446Z"
   },
   {
    "duration": 493,
    "start_time": "2022-01-26T12:29:33.463Z"
   },
   {
    "duration": 462,
    "start_time": "2022-01-26T12:29:33.958Z"
   },
   {
    "duration": 88,
    "start_time": "2022-01-26T12:29:34.422Z"
   },
   {
    "duration": 87,
    "start_time": "2022-01-26T12:29:53.170Z"
   },
   {
    "duration": 79,
    "start_time": "2022-01-26T12:30:05.766Z"
   },
   {
    "duration": 27,
    "start_time": "2022-01-26T12:30:34.103Z"
   },
   {
    "duration": 755,
    "start_time": "2022-01-26T12:40:09.383Z"
   },
   {
    "duration": 10,
    "start_time": "2022-01-26T12:40:10.140Z"
   },
   {
    "duration": 3,
    "start_time": "2022-01-26T12:40:10.152Z"
   },
   {
    "duration": 20,
    "start_time": "2022-01-26T12:40:10.157Z"
   },
   {
    "duration": 21,
    "start_time": "2022-01-26T12:40:10.179Z"
   },
   {
    "duration": 7,
    "start_time": "2022-01-26T12:40:10.202Z"
   },
   {
    "duration": 22,
    "start_time": "2022-01-26T12:40:10.210Z"
   },
   {
    "duration": 10,
    "start_time": "2022-01-26T12:40:10.234Z"
   },
   {
    "duration": 5,
    "start_time": "2022-01-26T12:40:10.246Z"
   },
   {
    "duration": 19,
    "start_time": "2022-01-26T12:40:10.252Z"
   },
   {
    "duration": 27,
    "start_time": "2022-01-26T12:40:10.273Z"
   },
   {
    "duration": 27,
    "start_time": "2022-01-26T12:40:10.301Z"
   },
   {
    "duration": 18,
    "start_time": "2022-01-26T12:40:10.330Z"
   },
   {
    "duration": 452,
    "start_time": "2022-01-26T12:40:10.350Z"
   },
   {
    "duration": 462,
    "start_time": "2022-01-26T12:40:10.804Z"
   },
   {
    "duration": 83,
    "start_time": "2022-01-26T12:40:11.268Z"
   },
   {
    "duration": 6770,
    "start_time": "2022-01-26T12:41:15.005Z"
   },
   {
    "duration": 741,
    "start_time": "2022-01-26T12:43:39.443Z"
   },
   {
    "duration": 766,
    "start_time": "2022-01-26T12:44:10.067Z"
   },
   {
    "duration": 6505,
    "start_time": "2022-01-26T12:50:19.288Z"
   },
   {
    "duration": 292,
    "start_time": "2022-01-26T12:50:43.130Z"
   },
   {
    "duration": 310,
    "start_time": "2022-01-26T12:50:55.198Z"
   },
   {
    "duration": 256,
    "start_time": "2022-01-26T12:51:54.527Z"
   },
   {
    "duration": 244,
    "start_time": "2022-01-26T12:52:19.599Z"
   },
   {
    "duration": 257,
    "start_time": "2022-01-26T12:52:34.165Z"
   },
   {
    "duration": 299,
    "start_time": "2022-01-26T12:52:59.086Z"
   },
   {
    "duration": 392,
    "start_time": "2022-01-26T12:53:08.169Z"
   },
   {
    "duration": 483,
    "start_time": "2022-01-26T12:53:45.315Z"
   },
   {
    "duration": 528,
    "start_time": "2022-01-26T13:43:28.434Z"
   },
   {
    "duration": 281,
    "start_time": "2022-01-26T14:11:38.021Z"
   },
   {
    "duration": 19,
    "start_time": "2022-01-26T14:11:44.255Z"
   },
   {
    "duration": 31,
    "start_time": "2022-01-26T14:11:57.601Z"
   },
   {
    "duration": 6,
    "start_time": "2022-01-26T14:14:57.642Z"
   },
   {
    "duration": 4,
    "start_time": "2022-01-26T14:16:43.632Z"
   },
   {
    "duration": 682,
    "start_time": "2022-01-26T14:16:49.962Z"
   },
   {
    "duration": 11,
    "start_time": "2022-01-26T14:16:50.646Z"
   },
   {
    "duration": 6,
    "start_time": "2022-01-26T14:16:50.659Z"
   },
   {
    "duration": 22,
    "start_time": "2022-01-26T14:16:50.667Z"
   },
   {
    "duration": 29,
    "start_time": "2022-01-26T14:16:50.690Z"
   },
   {
    "duration": 8,
    "start_time": "2022-01-26T14:16:50.720Z"
   },
   {
    "duration": 26,
    "start_time": "2022-01-26T14:16:50.730Z"
   },
   {
    "duration": 5,
    "start_time": "2022-01-26T14:16:50.758Z"
   },
   {
    "duration": 10,
    "start_time": "2022-01-26T14:16:50.765Z"
   },
   {
    "duration": 21,
    "start_time": "2022-01-26T14:16:50.777Z"
   },
   {
    "duration": 3,
    "start_time": "2022-01-26T14:16:50.800Z"
   },
   {
    "duration": 11,
    "start_time": "2022-01-26T14:16:50.805Z"
   },
   {
    "duration": 9,
    "start_time": "2022-01-26T14:16:50.817Z"
   },
   {
    "duration": 10,
    "start_time": "2022-01-26T14:16:50.828Z"
   },
   {
    "duration": 25,
    "start_time": "2022-01-26T14:16:50.840Z"
   },
   {
    "duration": 492,
    "start_time": "2022-01-26T14:16:50.867Z"
   },
   {
    "duration": 471,
    "start_time": "2022-01-26T14:16:51.360Z"
   },
   {
    "duration": 549,
    "start_time": "2022-01-26T14:16:51.833Z"
   },
   {
    "duration": 579,
    "start_time": "2022-01-26T14:16:52.384Z"
   },
   {
    "duration": 8,
    "start_time": "2022-01-26T14:25:59.540Z"
   },
   {
    "duration": 749,
    "start_time": "2022-01-26T14:26:05.368Z"
   },
   {
    "duration": 13,
    "start_time": "2022-01-26T14:26:06.119Z"
   },
   {
    "duration": 4,
    "start_time": "2022-01-26T14:26:06.134Z"
   },
   {
    "duration": 22,
    "start_time": "2022-01-26T14:26:06.140Z"
   },
   {
    "duration": 17,
    "start_time": "2022-01-26T14:26:06.164Z"
   },
   {
    "duration": 18,
    "start_time": "2022-01-26T14:26:06.183Z"
   },
   {
    "duration": 24,
    "start_time": "2022-01-26T14:26:06.203Z"
   },
   {
    "duration": 10,
    "start_time": "2022-01-26T14:26:06.230Z"
   },
   {
    "duration": 5,
    "start_time": "2022-01-26T14:26:06.242Z"
   },
   {
    "duration": 19,
    "start_time": "2022-01-26T14:26:06.249Z"
   },
   {
    "duration": 3,
    "start_time": "2022-01-26T14:26:06.269Z"
   },
   {
    "duration": 29,
    "start_time": "2022-01-26T14:26:06.274Z"
   },
   {
    "duration": 4,
    "start_time": "2022-01-26T14:26:06.304Z"
   },
   {
    "duration": 8,
    "start_time": "2022-01-26T14:26:06.310Z"
   },
   {
    "duration": 26,
    "start_time": "2022-01-26T14:26:06.320Z"
   },
   {
    "duration": 474,
    "start_time": "2022-01-26T14:26:06.348Z"
   },
   {
    "duration": 452,
    "start_time": "2022-01-26T14:26:06.824Z"
   },
   {
    "duration": 515,
    "start_time": "2022-01-26T14:26:07.278Z"
   },
   {
    "duration": 549,
    "start_time": "2022-01-26T14:26:07.795Z"
   },
   {
    "duration": 336,
    "start_time": "2022-01-26T14:41:17.431Z"
   },
   {
    "duration": 619,
    "start_time": "2022-01-26T14:41:50.723Z"
   },
   {
    "duration": 199,
    "start_time": "2022-01-26T14:42:02.318Z"
   },
   {
    "duration": 723,
    "start_time": "2022-01-26T14:48:28.711Z"
   },
   {
    "duration": 10,
    "start_time": "2022-01-26T14:48:29.436Z"
   },
   {
    "duration": 3,
    "start_time": "2022-01-26T14:48:29.448Z"
   },
   {
    "duration": 18,
    "start_time": "2022-01-26T14:48:29.453Z"
   },
   {
    "duration": 26,
    "start_time": "2022-01-26T14:48:29.473Z"
   },
   {
    "duration": 4,
    "start_time": "2022-01-26T14:48:29.501Z"
   },
   {
    "duration": 21,
    "start_time": "2022-01-26T14:48:29.507Z"
   },
   {
    "duration": 6,
    "start_time": "2022-01-26T14:48:29.530Z"
   },
   {
    "duration": 5,
    "start_time": "2022-01-26T14:48:29.538Z"
   },
   {
    "duration": 13,
    "start_time": "2022-01-26T14:48:29.545Z"
   },
   {
    "duration": 3,
    "start_time": "2022-01-26T14:48:29.560Z"
   },
   {
    "duration": 39,
    "start_time": "2022-01-26T14:48:29.565Z"
   },
   {
    "duration": 6,
    "start_time": "2022-01-26T14:48:29.606Z"
   },
   {
    "duration": 7,
    "start_time": "2022-01-26T14:48:29.614Z"
   },
   {
    "duration": 24,
    "start_time": "2022-01-26T14:48:29.623Z"
   },
   {
    "duration": 470,
    "start_time": "2022-01-26T14:48:29.648Z"
   },
   {
    "duration": 456,
    "start_time": "2022-01-26T14:48:30.119Z"
   },
   {
    "duration": 522,
    "start_time": "2022-01-26T14:48:30.577Z"
   },
   {
    "duration": 557,
    "start_time": "2022-01-26T14:48:31.101Z"
   },
   {
    "duration": 206,
    "start_time": "2022-01-26T14:48:31.660Z"
   },
   {
    "duration": 37,
    "start_time": "2022-01-26T14:48:48.456Z"
   },
   {
    "duration": 352,
    "start_time": "2022-01-26T14:48:52.467Z"
   },
   {
    "duration": 307,
    "start_time": "2022-01-26T14:50:59.743Z"
   },
   {
    "duration": 777,
    "start_time": "2022-01-26T14:51:25.775Z"
   },
   {
    "duration": 13,
    "start_time": "2022-01-26T14:51:26.555Z"
   },
   {
    "duration": 3,
    "start_time": "2022-01-26T14:51:26.574Z"
   },
   {
    "duration": 29,
    "start_time": "2022-01-26T14:51:26.579Z"
   },
   {
    "duration": 18,
    "start_time": "2022-01-26T14:51:26.610Z"
   },
   {
    "duration": 7,
    "start_time": "2022-01-26T14:51:26.630Z"
   },
   {
    "duration": 21,
    "start_time": "2022-01-26T14:51:26.641Z"
   },
   {
    "duration": 36,
    "start_time": "2022-01-26T14:51:26.664Z"
   },
   {
    "duration": 8,
    "start_time": "2022-01-26T14:51:26.703Z"
   },
   {
    "duration": 16,
    "start_time": "2022-01-26T14:51:26.712Z"
   },
   {
    "duration": 3,
    "start_time": "2022-01-26T14:51:26.730Z"
   },
   {
    "duration": 17,
    "start_time": "2022-01-26T14:51:26.734Z"
   },
   {
    "duration": 13,
    "start_time": "2022-01-26T14:51:26.753Z"
   },
   {
    "duration": 11,
    "start_time": "2022-01-26T14:51:26.768Z"
   },
   {
    "duration": 35,
    "start_time": "2022-01-26T14:51:26.780Z"
   },
   {
    "duration": 477,
    "start_time": "2022-01-26T14:51:26.817Z"
   },
   {
    "duration": 485,
    "start_time": "2022-01-26T14:51:27.296Z"
   },
   {
    "duration": 528,
    "start_time": "2022-01-26T14:51:27.783Z"
   },
   {
    "duration": 563,
    "start_time": "2022-01-26T14:51:28.313Z"
   },
   {
    "duration": 235,
    "start_time": "2022-01-26T14:51:28.878Z"
   },
   {
    "duration": 214,
    "start_time": "2022-01-26T14:53:19.303Z"
   },
   {
    "duration": 201,
    "start_time": "2022-01-26T14:53:37.230Z"
   },
   {
    "duration": 212,
    "start_time": "2022-01-26T14:53:53.063Z"
   },
   {
    "duration": 213,
    "start_time": "2022-01-26T14:54:58.615Z"
   },
   {
    "duration": 313,
    "start_time": "2022-01-27T07:51:45.333Z"
   },
   {
    "duration": 36,
    "start_time": "2022-01-27T07:52:15.207Z"
   },
   {
    "duration": 273,
    "start_time": "2022-01-27T07:52:19.894Z"
   },
   {
    "duration": 663,
    "start_time": "2022-01-27T07:52:27.359Z"
   },
   {
    "duration": 11,
    "start_time": "2022-01-27T07:52:28.023Z"
   },
   {
    "duration": 4,
    "start_time": "2022-01-27T07:52:28.036Z"
   },
   {
    "duration": 20,
    "start_time": "2022-01-27T07:52:28.042Z"
   },
   {
    "duration": 18,
    "start_time": "2022-01-27T07:52:28.064Z"
   },
   {
    "duration": 18,
    "start_time": "2022-01-27T07:52:28.084Z"
   },
   {
    "duration": 23,
    "start_time": "2022-01-27T07:52:28.104Z"
   },
   {
    "duration": 4,
    "start_time": "2022-01-27T07:52:28.129Z"
   },
   {
    "duration": 7,
    "start_time": "2022-01-27T07:52:28.136Z"
   },
   {
    "duration": 14,
    "start_time": "2022-01-27T07:52:28.144Z"
   },
   {
    "duration": 4,
    "start_time": "2022-01-27T07:52:28.159Z"
   },
   {
    "duration": 42,
    "start_time": "2022-01-27T07:52:28.164Z"
   },
   {
    "duration": 5,
    "start_time": "2022-01-27T07:52:28.208Z"
   },
   {
    "duration": 8,
    "start_time": "2022-01-27T07:52:28.215Z"
   },
   {
    "duration": 26,
    "start_time": "2022-01-27T07:52:28.225Z"
   },
   {
    "duration": 455,
    "start_time": "2022-01-27T07:52:28.253Z"
   },
   {
    "duration": 441,
    "start_time": "2022-01-27T07:52:28.710Z"
   },
   {
    "duration": 533,
    "start_time": "2022-01-27T07:52:29.153Z"
   },
   {
    "duration": 563,
    "start_time": "2022-01-27T07:52:29.688Z"
   },
   {
    "duration": 205,
    "start_time": "2022-01-27T07:52:30.253Z"
   },
   {
    "duration": 340,
    "start_time": "2022-01-27T07:54:25.251Z"
   },
   {
    "duration": 377,
    "start_time": "2022-01-27T07:54:33.485Z"
   },
   {
    "duration": 386,
    "start_time": "2022-01-27T07:59:27.577Z"
   },
   {
    "duration": 335,
    "start_time": "2022-01-27T08:06:28.824Z"
   },
   {
    "duration": 566,
    "start_time": "2022-01-27T08:06:53.447Z"
   },
   {
    "duration": 282,
    "start_time": "2022-01-27T08:06:59.285Z"
   },
   {
    "duration": 284,
    "start_time": "2022-01-27T08:09:20.699Z"
   },
   {
    "duration": 6971,
    "start_time": "2022-01-27T08:15:54.854Z"
   },
   {
    "duration": 1220,
    "start_time": "2022-01-27T08:16:21.291Z"
   },
   {
    "duration": 11,
    "start_time": "2022-01-27T08:16:22.514Z"
   },
   {
    "duration": 7,
    "start_time": "2022-01-27T08:16:22.527Z"
   },
   {
    "duration": 25,
    "start_time": "2022-01-27T08:16:22.536Z"
   },
   {
    "duration": 17,
    "start_time": "2022-01-27T08:16:22.562Z"
   },
   {
    "duration": 4,
    "start_time": "2022-01-27T08:16:22.581Z"
   },
   {
    "duration": 21,
    "start_time": "2022-01-27T08:16:22.599Z"
   },
   {
    "duration": 10,
    "start_time": "2022-01-27T08:16:22.622Z"
   },
   {
    "duration": 5,
    "start_time": "2022-01-27T08:16:22.634Z"
   },
   {
    "duration": 16,
    "start_time": "2022-01-27T08:16:22.640Z"
   },
   {
    "duration": 3,
    "start_time": "2022-01-27T08:16:22.658Z"
   },
   {
    "duration": 37,
    "start_time": "2022-01-27T08:16:22.662Z"
   },
   {
    "duration": 5,
    "start_time": "2022-01-27T08:16:22.700Z"
   },
   {
    "duration": 12,
    "start_time": "2022-01-27T08:16:22.707Z"
   },
   {
    "duration": 28,
    "start_time": "2022-01-27T08:16:22.720Z"
   },
   {
    "duration": 460,
    "start_time": "2022-01-27T08:16:22.750Z"
   },
   {
    "duration": 459,
    "start_time": "2022-01-27T08:16:23.212Z"
   },
   {
    "duration": 549,
    "start_time": "2022-01-27T08:16:23.672Z"
   },
   {
    "duration": 585,
    "start_time": "2022-01-27T08:16:24.223Z"
   },
   {
    "duration": 286,
    "start_time": "2022-01-27T08:16:24.809Z"
   },
   {
    "duration": 405,
    "start_time": "2022-01-27T08:16:25.098Z"
   },
   {
    "duration": 372,
    "start_time": "2022-01-27T08:16:25.505Z"
   },
   {
    "duration": 305,
    "start_time": "2022-01-27T08:16:25.879Z"
   },
   {
    "duration": 578,
    "start_time": "2022-01-27T08:16:26.186Z"
   },
   {
    "duration": 527,
    "start_time": "2022-01-27T08:17:51.152Z"
   },
   {
    "duration": 506,
    "start_time": "2022-01-27T08:24:10.501Z"
   },
   {
    "duration": 420,
    "start_time": "2022-01-27T08:24:29.561Z"
   },
   {
    "duration": 759,
    "start_time": "2022-01-27T09:01:10.911Z"
   },
   {
    "duration": 643,
    "start_time": "2022-01-27T09:01:19.781Z"
   },
   {
    "duration": 452,
    "start_time": "2022-01-27T09:03:52.115Z"
   },
   {
    "duration": 379,
    "start_time": "2022-01-27T09:04:08.423Z"
   },
   {
    "duration": 376,
    "start_time": "2022-01-27T09:04:23.746Z"
   },
   {
    "duration": 347,
    "start_time": "2022-01-27T09:04:40.569Z"
   },
   {
    "duration": 370,
    "start_time": "2022-01-27T09:04:54.666Z"
   },
   {
    "duration": 367,
    "start_time": "2022-01-27T09:19:12.026Z"
   },
   {
    "duration": 541,
    "start_time": "2022-01-27T09:20:34.686Z"
   },
   {
    "duration": 437,
    "start_time": "2022-01-27T09:20:43.096Z"
   },
   {
    "duration": 1211,
    "start_time": "2022-01-27T09:21:26.609Z"
   },
   {
    "duration": 12,
    "start_time": "2022-01-27T09:21:27.822Z"
   },
   {
    "duration": 5,
    "start_time": "2022-01-27T09:21:27.836Z"
   },
   {
    "duration": 21,
    "start_time": "2022-01-27T09:21:27.843Z"
   },
   {
    "duration": 36,
    "start_time": "2022-01-27T09:21:27.865Z"
   },
   {
    "duration": 8,
    "start_time": "2022-01-27T09:21:27.903Z"
   },
   {
    "duration": 25,
    "start_time": "2022-01-27T09:21:27.913Z"
   },
   {
    "duration": 6,
    "start_time": "2022-01-27T09:21:27.940Z"
   },
   {
    "duration": 7,
    "start_time": "2022-01-27T09:21:27.948Z"
   },
   {
    "duration": 42,
    "start_time": "2022-01-27T09:21:27.957Z"
   },
   {
    "duration": 4,
    "start_time": "2022-01-27T09:21:28.001Z"
   },
   {
    "duration": 14,
    "start_time": "2022-01-27T09:21:28.006Z"
   },
   {
    "duration": 10,
    "start_time": "2022-01-27T09:21:28.022Z"
   },
   {
    "duration": 10,
    "start_time": "2022-01-27T09:21:28.034Z"
   },
   {
    "duration": 30,
    "start_time": "2022-01-27T09:21:28.046Z"
   },
   {
    "duration": 482,
    "start_time": "2022-01-27T09:21:28.098Z"
   },
   {
    "duration": 483,
    "start_time": "2022-01-27T09:21:28.582Z"
   },
   {
    "duration": 508,
    "start_time": "2022-01-27T09:21:29.066Z"
   },
   {
    "duration": 587,
    "start_time": "2022-01-27T09:21:29.576Z"
   },
   {
    "duration": 543,
    "start_time": "2022-01-27T09:21:30.165Z"
   },
   {
    "duration": 382,
    "start_time": "2022-01-27T09:21:30.710Z"
   },
   {
    "duration": 404,
    "start_time": "2022-01-27T09:21:31.094Z"
   },
   {
    "duration": 287,
    "start_time": "2022-01-27T09:21:31.501Z"
   },
   {
    "duration": 619,
    "start_time": "2022-01-27T09:21:31.798Z"
   },
   {
    "duration": 400,
    "start_time": "2022-01-27T09:21:32.419Z"
   },
   {
    "duration": 10,
    "start_time": "2022-01-27T09:21:32.821Z"
   },
   {
    "duration": 372,
    "start_time": "2022-01-27T09:23:04.560Z"
   },
   {
    "duration": 314,
    "start_time": "2022-01-27T09:23:46.133Z"
   },
   {
    "duration": 2683,
    "start_time": "2022-01-27T09:24:47.120Z"
   },
   {
    "duration": 11,
    "start_time": "2022-01-27T09:24:49.806Z"
   },
   {
    "duration": 15,
    "start_time": "2022-01-27T09:24:49.821Z"
   },
   {
    "duration": 38,
    "start_time": "2022-01-27T09:24:49.838Z"
   },
   {
    "duration": 21,
    "start_time": "2022-01-27T09:24:49.878Z"
   },
   {
    "duration": 36,
    "start_time": "2022-01-27T09:24:49.900Z"
   },
   {
    "duration": 44,
    "start_time": "2022-01-27T09:24:49.939Z"
   },
   {
    "duration": 14,
    "start_time": "2022-01-27T09:24:49.985Z"
   },
   {
    "duration": 35,
    "start_time": "2022-01-27T09:24:50.000Z"
   },
   {
    "duration": 34,
    "start_time": "2022-01-27T09:24:50.037Z"
   },
   {
    "duration": 7,
    "start_time": "2022-01-27T09:24:50.073Z"
   },
   {
    "duration": 13,
    "start_time": "2022-01-27T09:24:50.082Z"
   },
   {
    "duration": 11,
    "start_time": "2022-01-27T09:24:50.097Z"
   },
   {
    "duration": 18,
    "start_time": "2022-01-27T09:24:50.110Z"
   },
   {
    "duration": 40,
    "start_time": "2022-01-27T09:24:50.130Z"
   },
   {
    "duration": 447,
    "start_time": "2022-01-27T09:24:50.172Z"
   },
   {
    "duration": 474,
    "start_time": "2022-01-27T09:24:50.622Z"
   },
   {
    "duration": 488,
    "start_time": "2022-01-27T09:24:51.099Z"
   },
   {
    "duration": 581,
    "start_time": "2022-01-27T09:24:51.589Z"
   },
   {
    "duration": 374,
    "start_time": "2022-01-27T09:24:52.172Z"
   },
   {
    "duration": 36,
    "start_time": "2022-01-27T09:24:52.512Z"
   },
   {
    "duration": 35,
    "start_time": "2022-01-27T09:24:52.514Z"
   },
   {
    "duration": 34,
    "start_time": "2022-01-27T09:24:52.516Z"
   },
   {
    "duration": 33,
    "start_time": "2022-01-27T09:24:52.518Z"
   },
   {
    "duration": 32,
    "start_time": "2022-01-27T09:24:52.520Z"
   },
   {
    "duration": 7012,
    "start_time": "2022-01-27T09:27:41.275Z"
   },
   {
    "duration": 94,
    "start_time": "2022-01-27T09:29:38.398Z"
   },
   {
    "duration": 7022,
    "start_time": "2022-01-27T09:29:49.006Z"
   },
   {
    "duration": 279,
    "start_time": "2022-01-27T09:32:27.855Z"
   },
   {
    "duration": 1299,
    "start_time": "2022-01-27T09:33:02.248Z"
   },
   {
    "duration": 11,
    "start_time": "2022-01-27T09:33:03.549Z"
   },
   {
    "duration": 4,
    "start_time": "2022-01-27T09:33:03.562Z"
   },
   {
    "duration": 20,
    "start_time": "2022-01-27T09:33:03.568Z"
   },
   {
    "duration": 21,
    "start_time": "2022-01-27T09:33:03.590Z"
   },
   {
    "duration": 6,
    "start_time": "2022-01-27T09:33:03.613Z"
   },
   {
    "duration": 23,
    "start_time": "2022-01-27T09:33:03.621Z"
   },
   {
    "duration": 5,
    "start_time": "2022-01-27T09:33:03.646Z"
   },
   {
    "duration": 6,
    "start_time": "2022-01-27T09:33:03.654Z"
   },
   {
    "duration": 14,
    "start_time": "2022-01-27T09:33:03.662Z"
   },
   {
    "duration": 4,
    "start_time": "2022-01-27T09:33:03.678Z"
   },
   {
    "duration": 19,
    "start_time": "2022-01-27T09:33:03.683Z"
   },
   {
    "duration": 8,
    "start_time": "2022-01-27T09:33:03.704Z"
   },
   {
    "duration": 8,
    "start_time": "2022-01-27T09:33:03.714Z"
   },
   {
    "duration": 27,
    "start_time": "2022-01-27T09:33:03.724Z"
   },
   {
    "duration": 488,
    "start_time": "2022-01-27T09:33:03.753Z"
   },
   {
    "duration": 612,
    "start_time": "2022-01-27T09:33:04.243Z"
   },
   {
    "duration": 518,
    "start_time": "2022-01-27T09:33:04.857Z"
   },
   {
    "duration": 607,
    "start_time": "2022-01-27T09:33:05.377Z"
   },
   {
    "duration": 324,
    "start_time": "2022-01-27T09:33:05.985Z"
   },
   {
    "duration": 395,
    "start_time": "2022-01-27T09:33:06.310Z"
   },
   {
    "duration": 422,
    "start_time": "2022-01-27T09:33:06.707Z"
   },
   {
    "duration": 318,
    "start_time": "2022-01-27T09:33:07.132Z"
   },
   {
    "duration": 658,
    "start_time": "2022-01-27T09:33:07.453Z"
   },
   {
    "duration": 391,
    "start_time": "2022-01-27T09:33:08.113Z"
   },
   {
    "duration": 92,
    "start_time": "2022-01-27T11:36:36.819Z"
   },
   {
    "duration": 385,
    "start_time": "2022-01-27T11:37:12.562Z"
   },
   {
    "duration": 93,
    "start_time": "2022-01-27T11:40:00.875Z"
   },
   {
    "duration": 94,
    "start_time": "2022-01-27T11:40:20.557Z"
   },
   {
    "duration": 217,
    "start_time": "2022-01-27T11:40:32.114Z"
   },
   {
    "duration": 203,
    "start_time": "2022-01-27T11:40:51.843Z"
   },
   {
    "duration": 284,
    "start_time": "2022-01-27T11:41:50.343Z"
   },
   {
    "duration": 389,
    "start_time": "2022-01-27T11:41:57.160Z"
   },
   {
    "duration": 394,
    "start_time": "2022-01-27T11:42:10.712Z"
   },
   {
    "duration": 369,
    "start_time": "2022-01-27T11:42:23.132Z"
   },
   {
    "duration": 355,
    "start_time": "2022-01-27T11:42:52.897Z"
   },
   {
    "duration": 294,
    "start_time": "2022-01-27T11:43:03.551Z"
   },
   {
    "duration": 641,
    "start_time": "2022-01-27T11:43:12.647Z"
   },
   {
    "duration": 361,
    "start_time": "2022-01-27T11:43:55.929Z"
   },
   {
    "duration": 350,
    "start_time": "2022-01-27T11:44:03.769Z"
   },
   {
    "duration": 1176,
    "start_time": "2022-01-27T11:44:18.234Z"
   },
   {
    "duration": 12,
    "start_time": "2022-01-27T11:44:19.411Z"
   },
   {
    "duration": 4,
    "start_time": "2022-01-27T11:44:19.426Z"
   },
   {
    "duration": 18,
    "start_time": "2022-01-27T11:44:19.432Z"
   },
   {
    "duration": 18,
    "start_time": "2022-01-27T11:44:19.452Z"
   },
   {
    "duration": 30,
    "start_time": "2022-01-27T11:44:19.472Z"
   },
   {
    "duration": 22,
    "start_time": "2022-01-27T11:44:19.505Z"
   },
   {
    "duration": 5,
    "start_time": "2022-01-27T11:44:19.530Z"
   },
   {
    "duration": 7,
    "start_time": "2022-01-27T11:44:19.538Z"
   },
   {
    "duration": 11,
    "start_time": "2022-01-27T11:44:19.547Z"
   },
   {
    "duration": 41,
    "start_time": "2022-01-27T11:44:19.560Z"
   },
   {
    "duration": 13,
    "start_time": "2022-01-27T11:44:19.603Z"
   },
   {
    "duration": 5,
    "start_time": "2022-01-27T11:44:19.617Z"
   },
   {
    "duration": 12,
    "start_time": "2022-01-27T11:44:19.624Z"
   },
   {
    "duration": 24,
    "start_time": "2022-01-27T11:44:19.638Z"
   },
   {
    "duration": 480,
    "start_time": "2022-01-27T11:44:19.664Z"
   },
   {
    "duration": 461,
    "start_time": "2022-01-27T11:44:20.146Z"
   },
   {
    "duration": 487,
    "start_time": "2022-01-27T11:44:20.609Z"
   },
   {
    "duration": 572,
    "start_time": "2022-01-27T11:44:21.098Z"
   },
   {
    "duration": 283,
    "start_time": "2022-01-27T11:44:21.672Z"
   },
   {
    "duration": 403,
    "start_time": "2022-01-27T11:44:21.957Z"
   },
   {
    "duration": 409,
    "start_time": "2022-01-27T11:44:22.362Z"
   },
   {
    "duration": 305,
    "start_time": "2022-01-27T11:44:22.774Z"
   },
   {
    "duration": 624,
    "start_time": "2022-01-27T11:44:23.081Z"
   },
   {
    "duration": 372,
    "start_time": "2022-01-27T11:44:23.706Z"
   },
   {
    "duration": 16,
    "start_time": "2022-01-27T11:49:37.583Z"
   },
   {
    "duration": 32,
    "start_time": "2022-01-27T11:49:46.187Z"
   },
   {
    "duration": 16,
    "start_time": "2022-01-27T11:50:26.619Z"
   },
   {
    "duration": 414,
    "start_time": "2022-01-27T11:50:51.821Z"
   },
   {
    "duration": 372,
    "start_time": "2022-01-27T11:52:34.566Z"
   },
   {
    "duration": 459,
    "start_time": "2022-01-27T11:54:39.223Z"
   },
   {
    "duration": 272,
    "start_time": "2022-01-27T11:55:12.119Z"
   },
   {
    "duration": 256,
    "start_time": "2022-01-27T11:55:38.637Z"
   },
   {
    "duration": 272,
    "start_time": "2022-01-27T11:57:00.230Z"
   },
   {
    "duration": 383,
    "start_time": "2022-01-27T11:57:24.511Z"
   },
   {
    "duration": 276,
    "start_time": "2022-01-27T11:58:34.069Z"
   },
   {
    "duration": 319,
    "start_time": "2022-01-27T11:58:58.077Z"
   },
   {
    "duration": 283,
    "start_time": "2022-01-27T11:59:12.873Z"
   },
   {
    "duration": 1270,
    "start_time": "2022-01-27T11:59:29.038Z"
   },
   {
    "duration": 11,
    "start_time": "2022-01-27T11:59:30.311Z"
   },
   {
    "duration": 8,
    "start_time": "2022-01-27T11:59:30.324Z"
   },
   {
    "duration": 24,
    "start_time": "2022-01-27T11:59:30.334Z"
   },
   {
    "duration": 21,
    "start_time": "2022-01-27T11:59:30.360Z"
   },
   {
    "duration": 17,
    "start_time": "2022-01-27T11:59:30.383Z"
   },
   {
    "duration": 21,
    "start_time": "2022-01-27T11:59:30.402Z"
   },
   {
    "duration": 5,
    "start_time": "2022-01-27T11:59:30.425Z"
   },
   {
    "duration": 9,
    "start_time": "2022-01-27T11:59:30.433Z"
   },
   {
    "duration": 18,
    "start_time": "2022-01-27T11:59:30.444Z"
   },
   {
    "duration": 36,
    "start_time": "2022-01-27T11:59:30.464Z"
   },
   {
    "duration": 14,
    "start_time": "2022-01-27T11:59:30.502Z"
   },
   {
    "duration": 13,
    "start_time": "2022-01-27T11:59:30.518Z"
   },
   {
    "duration": 11,
    "start_time": "2022-01-27T11:59:30.533Z"
   },
   {
    "duration": 34,
    "start_time": "2022-01-27T11:59:30.546Z"
   },
   {
    "duration": 473,
    "start_time": "2022-01-27T11:59:30.582Z"
   },
   {
    "duration": 508,
    "start_time": "2022-01-27T11:59:31.057Z"
   },
   {
    "duration": 504,
    "start_time": "2022-01-27T11:59:31.568Z"
   },
   {
    "duration": 587,
    "start_time": "2022-01-27T11:59:32.074Z"
   },
   {
    "duration": 289,
    "start_time": "2022-01-27T11:59:32.663Z"
   },
   {
    "duration": 367,
    "start_time": "2022-01-27T11:59:32.954Z"
   },
   {
    "duration": 355,
    "start_time": "2022-01-27T11:59:33.323Z"
   },
   {
    "duration": 304,
    "start_time": "2022-01-27T11:59:33.682Z"
   },
   {
    "duration": 625,
    "start_time": "2022-01-27T11:59:33.987Z"
   },
   {
    "duration": 373,
    "start_time": "2022-01-27T11:59:34.614Z"
   },
   {
    "duration": 356,
    "start_time": "2022-01-27T11:59:34.989Z"
   },
   {
    "duration": 287,
    "start_time": "2022-01-27T12:00:12.029Z"
   },
   {
    "duration": 404,
    "start_time": "2022-01-27T12:00:26.397Z"
   },
   {
    "duration": 254,
    "start_time": "2022-01-27T12:00:41.825Z"
   },
   {
    "duration": 266,
    "start_time": "2022-01-27T12:02:01.434Z"
   },
   {
    "duration": 275,
    "start_time": "2022-01-27T12:02:04.517Z"
   },
   {
    "duration": 354,
    "start_time": "2022-01-27T12:03:41.750Z"
   },
   {
    "duration": 441,
    "start_time": "2022-01-27T12:04:04.579Z"
   },
   {
    "duration": 449,
    "start_time": "2022-01-27T12:04:30.769Z"
   },
   {
    "duration": 717,
    "start_time": "2022-01-27T12:05:01.813Z"
   },
   {
    "duration": 1065,
    "start_time": "2022-01-27T12:05:28.855Z"
   },
   {
    "duration": 1090,
    "start_time": "2022-01-27T12:05:49.881Z"
   },
   {
    "duration": 362,
    "start_time": "2022-01-27T12:06:50.195Z"
   },
   {
    "duration": 4,
    "start_time": "2022-01-27T12:07:09.530Z"
   },
   {
    "duration": 366,
    "start_time": "2022-01-27T12:07:13.364Z"
   },
   {
    "duration": 4,
    "start_time": "2022-01-27T12:10:44.655Z"
   },
   {
    "duration": 366,
    "start_time": "2022-01-27T12:10:48.118Z"
   },
   {
    "duration": 4,
    "start_time": "2022-01-27T12:12:13.740Z"
   },
   {
    "duration": 4,
    "start_time": "2022-01-27T12:12:23.046Z"
   },
   {
    "duration": 5,
    "start_time": "2022-01-27T12:12:47.757Z"
   },
   {
    "duration": 5,
    "start_time": "2022-01-27T12:13:01.253Z"
   },
   {
    "duration": 4,
    "start_time": "2022-01-27T12:14:03.566Z"
   },
   {
    "duration": 4,
    "start_time": "2022-01-27T12:14:15.519Z"
   },
   {
    "duration": 4,
    "start_time": "2022-01-27T12:15:49.892Z"
   },
   {
    "duration": 5,
    "start_time": "2022-01-27T12:15:59.927Z"
   },
   {
    "duration": 993,
    "start_time": "2022-01-27T12:16:02.154Z"
   },
   {
    "duration": 4,
    "start_time": "2022-01-27T12:16:26.774Z"
   },
   {
    "duration": 1264,
    "start_time": "2022-01-27T12:16:27.431Z"
   },
   {
    "duration": 4,
    "start_time": "2022-01-27T12:16:57.043Z"
   },
   {
    "duration": 899,
    "start_time": "2022-01-27T12:16:57.538Z"
   },
   {
    "duration": 4,
    "start_time": "2022-01-27T12:17:08.270Z"
   },
   {
    "duration": 912,
    "start_time": "2022-01-27T12:17:08.642Z"
   },
   {
    "duration": 4,
    "start_time": "2022-01-27T12:17:52.759Z"
   },
   {
    "duration": 356,
    "start_time": "2022-01-27T12:17:55.287Z"
   },
   {
    "duration": 5,
    "start_time": "2022-01-27T12:18:19.788Z"
   },
   {
    "duration": 366,
    "start_time": "2022-01-27T12:18:20.701Z"
   },
   {
    "duration": 381,
    "start_time": "2022-01-27T12:19:06.604Z"
   },
   {
    "duration": 3,
    "start_time": "2022-01-27T12:21:15.341Z"
   },
   {
    "duration": 7,
    "start_time": "2022-01-27T12:21:15.919Z"
   },
   {
    "duration": 8,
    "start_time": "2022-01-27T12:21:18.021Z"
   },
   {
    "duration": 8,
    "start_time": "2022-01-27T12:22:05.266Z"
   },
   {
    "duration": 7,
    "start_time": "2022-01-27T12:22:16.951Z"
   },
   {
    "duration": 8,
    "start_time": "2022-01-27T12:22:58.978Z"
   },
   {
    "duration": 7,
    "start_time": "2022-01-27T12:31:23.346Z"
   },
   {
    "duration": 3,
    "start_time": "2022-01-27T12:31:26.151Z"
   },
   {
    "duration": 8,
    "start_time": "2022-01-27T12:31:28.580Z"
   },
   {
    "duration": 7,
    "start_time": "2022-01-27T12:32:03.537Z"
   },
   {
    "duration": 8,
    "start_time": "2022-01-27T12:32:33.269Z"
   },
   {
    "duration": 18,
    "start_time": "2022-01-27T12:40:20.031Z"
   },
   {
    "duration": 3,
    "start_time": "2022-01-27T12:40:23.995Z"
   },
   {
    "duration": 17,
    "start_time": "2022-01-27T12:40:25.852Z"
   },
   {
    "duration": 675,
    "start_time": "2022-01-27T13:02:04.465Z"
   },
   {
    "duration": 16,
    "start_time": "2022-01-27T13:10:56.609Z"
   },
   {
    "duration": 14,
    "start_time": "2022-01-27T13:11:34.947Z"
   },
   {
    "duration": 18,
    "start_time": "2022-01-27T13:17:23.161Z"
   },
   {
    "duration": 20,
    "start_time": "2022-01-27T13:20:42.434Z"
   },
   {
    "duration": 1301,
    "start_time": "2022-01-27T13:39:40.093Z"
   },
   {
    "duration": 12,
    "start_time": "2022-01-27T13:39:41.396Z"
   },
   {
    "duration": 4,
    "start_time": "2022-01-27T13:39:41.411Z"
   },
   {
    "duration": 19,
    "start_time": "2022-01-27T13:39:41.418Z"
   },
   {
    "duration": 17,
    "start_time": "2022-01-27T13:39:41.440Z"
   },
   {
    "duration": 41,
    "start_time": "2022-01-27T13:39:41.459Z"
   },
   {
    "duration": 23,
    "start_time": "2022-01-27T13:39:41.502Z"
   },
   {
    "duration": 6,
    "start_time": "2022-01-27T13:39:41.529Z"
   },
   {
    "duration": 7,
    "start_time": "2022-01-27T13:39:41.537Z"
   },
   {
    "duration": 17,
    "start_time": "2022-01-27T13:39:41.546Z"
   },
   {
    "duration": 3,
    "start_time": "2022-01-27T13:39:41.565Z"
   },
   {
    "duration": 38,
    "start_time": "2022-01-27T13:39:41.570Z"
   },
   {
    "duration": 7,
    "start_time": "2022-01-27T13:39:41.610Z"
   },
   {
    "duration": 9,
    "start_time": "2022-01-27T13:39:41.619Z"
   },
   {
    "duration": 29,
    "start_time": "2022-01-27T13:39:41.629Z"
   },
   {
    "duration": 466,
    "start_time": "2022-01-27T13:39:41.660Z"
   },
   {
    "duration": 463,
    "start_time": "2022-01-27T13:39:42.127Z"
   },
   {
    "duration": 488,
    "start_time": "2022-01-27T13:39:42.592Z"
   },
   {
    "duration": 572,
    "start_time": "2022-01-27T13:39:43.082Z"
   },
   {
    "duration": 285,
    "start_time": "2022-01-27T13:39:43.656Z"
   },
   {
    "duration": 347,
    "start_time": "2022-01-27T13:39:43.943Z"
   },
   {
    "duration": 377,
    "start_time": "2022-01-27T13:39:44.292Z"
   },
   {
    "duration": 302,
    "start_time": "2022-01-27T13:39:44.672Z"
   },
   {
    "duration": 626,
    "start_time": "2022-01-27T13:39:44.977Z"
   },
   {
    "duration": 368,
    "start_time": "2022-01-27T13:39:45.605Z"
   },
   {
    "duration": 3,
    "start_time": "2022-01-27T13:39:45.975Z"
   },
   {
    "duration": 20,
    "start_time": "2022-01-27T13:39:45.980Z"
   },
   {
    "duration": 7,
    "start_time": "2022-01-27T13:39:46.001Z"
   },
   {
    "duration": 11,
    "start_time": "2022-01-27T13:39:46.009Z"
   },
   {
    "duration": 4,
    "start_time": "2022-01-27T13:39:46.021Z"
   },
   {
    "duration": 10,
    "start_time": "2022-01-27T13:39:46.026Z"
   },
   {
    "duration": 7,
    "start_time": "2022-01-27T13:39:46.037Z"
   },
   {
    "duration": 7,
    "start_time": "2022-01-27T13:39:46.045Z"
   },
   {
    "duration": 3,
    "start_time": "2022-01-27T13:39:46.054Z"
   },
   {
    "duration": 54,
    "start_time": "2022-01-27T13:39:46.059Z"
   },
   {
    "duration": 17,
    "start_time": "2022-01-27T13:39:46.116Z"
   },
   {
    "duration": 20,
    "start_time": "2022-01-27T13:39:46.135Z"
   },
   {
    "duration": 1212,
    "start_time": "2022-01-27T14:31:19.009Z"
   },
   {
    "duration": 11,
    "start_time": "2022-01-27T14:31:20.223Z"
   },
   {
    "duration": 3,
    "start_time": "2022-01-27T14:31:20.239Z"
   },
   {
    "duration": 19,
    "start_time": "2022-01-27T14:31:20.244Z"
   },
   {
    "duration": 37,
    "start_time": "2022-01-27T14:31:20.265Z"
   },
   {
    "duration": 6,
    "start_time": "2022-01-27T14:31:20.304Z"
   },
   {
    "duration": 22,
    "start_time": "2022-01-27T14:31:20.312Z"
   },
   {
    "duration": 5,
    "start_time": "2022-01-27T14:31:20.336Z"
   },
   {
    "duration": 8,
    "start_time": "2022-01-27T14:31:20.343Z"
   },
   {
    "duration": 45,
    "start_time": "2022-01-27T14:31:20.353Z"
   },
   {
    "duration": 4,
    "start_time": "2022-01-27T14:31:20.401Z"
   },
   {
    "duration": 13,
    "start_time": "2022-01-27T14:31:20.408Z"
   },
   {
    "duration": 5,
    "start_time": "2022-01-27T14:31:20.423Z"
   },
   {
    "duration": 10,
    "start_time": "2022-01-27T14:31:20.429Z"
   },
   {
    "duration": 26,
    "start_time": "2022-01-27T14:31:20.440Z"
   },
   {
    "duration": 471,
    "start_time": "2022-01-27T14:31:20.468Z"
   },
   {
    "duration": 483,
    "start_time": "2022-01-27T14:31:20.940Z"
   },
   {
    "duration": 484,
    "start_time": "2022-01-27T14:31:21.425Z"
   },
   {
    "duration": 562,
    "start_time": "2022-01-27T14:31:21.911Z"
   },
   {
    "duration": 265,
    "start_time": "2022-01-27T14:31:22.475Z"
   },
   {
    "duration": 333,
    "start_time": "2022-01-27T14:31:22.742Z"
   },
   {
    "duration": 382,
    "start_time": "2022-01-27T14:31:23.076Z"
   },
   {
    "duration": 312,
    "start_time": "2022-01-27T14:31:23.460Z"
   },
   {
    "duration": 641,
    "start_time": "2022-01-27T14:31:23.774Z"
   },
   {
    "duration": 344,
    "start_time": "2022-01-27T14:31:24.416Z"
   },
   {
    "duration": 3,
    "start_time": "2022-01-27T14:31:24.763Z"
   },
   {
    "duration": 10,
    "start_time": "2022-01-27T14:31:24.768Z"
   },
   {
    "duration": 20,
    "start_time": "2022-01-27T14:31:24.780Z"
   },
   {
    "duration": 6,
    "start_time": "2022-01-27T14:31:24.802Z"
   },
   {
    "duration": 4,
    "start_time": "2022-01-27T14:31:24.810Z"
   },
   {
    "duration": 9,
    "start_time": "2022-01-27T14:31:24.816Z"
   },
   {
    "duration": 7,
    "start_time": "2022-01-27T14:31:24.827Z"
   },
   {
    "duration": 7,
    "start_time": "2022-01-27T14:31:24.835Z"
   },
   {
    "duration": 4,
    "start_time": "2022-01-27T14:31:24.843Z"
   },
   {
    "duration": 60,
    "start_time": "2022-01-27T14:31:24.848Z"
   },
   {
    "duration": 14,
    "start_time": "2022-01-27T14:31:24.910Z"
   },
   {
    "duration": 21,
    "start_time": "2022-01-27T14:31:24.926Z"
   },
   {
    "duration": 1140,
    "start_time": "2022-01-27T14:41:46.653Z"
   },
   {
    "duration": 11,
    "start_time": "2022-01-27T14:41:47.795Z"
   },
   {
    "duration": 3,
    "start_time": "2022-01-27T14:41:47.809Z"
   },
   {
    "duration": 18,
    "start_time": "2022-01-27T14:41:47.815Z"
   },
   {
    "duration": 15,
    "start_time": "2022-01-27T14:41:47.834Z"
   },
   {
    "duration": 6,
    "start_time": "2022-01-27T14:41:47.851Z"
   },
   {
    "duration": 47,
    "start_time": "2022-01-27T14:41:47.859Z"
   },
   {
    "duration": 5,
    "start_time": "2022-01-27T14:41:47.909Z"
   },
   {
    "duration": 7,
    "start_time": "2022-01-27T14:41:47.916Z"
   },
   {
    "duration": 13,
    "start_time": "2022-01-27T14:41:47.924Z"
   },
   {
    "duration": 3,
    "start_time": "2022-01-27T14:41:47.939Z"
   },
   {
    "duration": 10,
    "start_time": "2022-01-27T14:41:47.943Z"
   },
   {
    "duration": 5,
    "start_time": "2022-01-27T14:41:47.954Z"
   },
   {
    "duration": 8,
    "start_time": "2022-01-27T14:41:47.961Z"
   },
   {
    "duration": 50,
    "start_time": "2022-01-27T14:41:47.970Z"
   },
   {
    "duration": 440,
    "start_time": "2022-01-27T14:41:48.022Z"
   },
   {
    "duration": 447,
    "start_time": "2022-01-27T14:41:48.464Z"
   },
   {
    "duration": 462,
    "start_time": "2022-01-27T14:41:48.913Z"
   },
   {
    "duration": 547,
    "start_time": "2022-01-27T14:41:49.376Z"
   },
   {
    "duration": 266,
    "start_time": "2022-01-27T14:41:49.925Z"
   },
   {
    "duration": 370,
    "start_time": "2022-01-27T14:41:50.193Z"
   },
   {
    "duration": 380,
    "start_time": "2022-01-27T14:41:50.565Z"
   },
   {
    "duration": 316,
    "start_time": "2022-01-27T14:41:50.948Z"
   },
   {
    "duration": 626,
    "start_time": "2022-01-27T14:41:51.266Z"
   },
   {
    "duration": 346,
    "start_time": "2022-01-27T14:41:51.898Z"
   },
   {
    "duration": 3,
    "start_time": "2022-01-27T14:41:52.246Z"
   },
   {
    "duration": 12,
    "start_time": "2022-01-27T14:41:52.250Z"
   },
   {
    "duration": 6,
    "start_time": "2022-01-27T14:41:52.263Z"
   },
   {
    "duration": 6,
    "start_time": "2022-01-27T14:41:52.271Z"
   },
   {
    "duration": 21,
    "start_time": "2022-01-27T14:41:52.278Z"
   },
   {
    "duration": 10,
    "start_time": "2022-01-27T14:41:52.301Z"
   },
   {
    "duration": 6,
    "start_time": "2022-01-27T14:41:52.312Z"
   },
   {
    "duration": 6,
    "start_time": "2022-01-27T14:41:52.320Z"
   },
   {
    "duration": 3,
    "start_time": "2022-01-27T14:41:52.327Z"
   },
   {
    "duration": 16,
    "start_time": "2022-01-27T14:41:52.332Z"
   },
   {
    "duration": 53,
    "start_time": "2022-01-27T14:41:52.349Z"
   },
   {
    "duration": 16,
    "start_time": "2022-01-27T14:41:52.404Z"
   },
   {
    "duration": 1508,
    "start_time": "2022-02-05T07:37:56.211Z"
   },
   {
    "duration": 15,
    "start_time": "2022-02-05T07:37:57.722Z"
   },
   {
    "duration": 4,
    "start_time": "2022-02-05T07:37:57.740Z"
   },
   {
    "duration": 24,
    "start_time": "2022-02-05T07:37:57.747Z"
   },
   {
    "duration": 52,
    "start_time": "2022-02-05T07:37:57.773Z"
   },
   {
    "duration": 9,
    "start_time": "2022-02-05T07:37:57.828Z"
   },
   {
    "duration": 34,
    "start_time": "2022-02-05T07:37:57.840Z"
   },
   {
    "duration": 7,
    "start_time": "2022-02-05T07:37:57.876Z"
   },
   {
    "duration": 36,
    "start_time": "2022-02-05T07:37:57.887Z"
   },
   {
    "duration": 13,
    "start_time": "2022-02-05T07:37:57.927Z"
   },
   {
    "duration": 8,
    "start_time": "2022-02-05T07:37:57.943Z"
   },
   {
    "duration": 12,
    "start_time": "2022-02-05T07:37:57.954Z"
   },
   {
    "duration": 6,
    "start_time": "2022-02-05T07:37:57.969Z"
   },
   {
    "duration": 49,
    "start_time": "2022-02-05T07:37:57.977Z"
   },
   {
    "duration": 35,
    "start_time": "2022-02-05T07:37:58.029Z"
   },
   {
    "duration": 683,
    "start_time": "2022-02-05T07:37:58.066Z"
   },
   {
    "duration": 674,
    "start_time": "2022-02-05T07:37:58.751Z"
   },
   {
    "duration": 695,
    "start_time": "2022-02-05T07:37:59.429Z"
   },
   {
    "duration": 1117,
    "start_time": "2022-02-05T07:38:00.127Z"
   },
   {
    "duration": 522,
    "start_time": "2022-02-05T07:38:01.247Z"
   },
   {
    "duration": 651,
    "start_time": "2022-02-05T07:38:01.772Z"
   },
   {
    "duration": 605,
    "start_time": "2022-02-05T07:38:02.427Z"
   },
   {
    "duration": 498,
    "start_time": "2022-02-05T07:38:03.035Z"
   },
   {
    "duration": 1027,
    "start_time": "2022-02-05T07:38:03.536Z"
   },
   {
    "duration": 677,
    "start_time": "2022-02-05T07:38:04.567Z"
   },
   {
    "duration": 5,
    "start_time": "2022-02-05T07:38:05.247Z"
   },
   {
    "duration": 15,
    "start_time": "2022-02-05T07:38:05.258Z"
   },
   {
    "duration": 45,
    "start_time": "2022-02-05T07:38:05.277Z"
   },
   {
    "duration": 10,
    "start_time": "2022-02-05T07:38:05.325Z"
   },
   {
    "duration": 4,
    "start_time": "2022-02-05T07:38:05.337Z"
   },
   {
    "duration": 11,
    "start_time": "2022-02-05T07:38:05.344Z"
   },
   {
    "duration": 9,
    "start_time": "2022-02-05T07:38:05.358Z"
   },
   {
    "duration": 54,
    "start_time": "2022-02-05T07:38:05.369Z"
   },
   {
    "duration": 4,
    "start_time": "2022-02-05T07:38:05.426Z"
   },
   {
    "duration": 24,
    "start_time": "2022-02-05T07:38:05.433Z"
   },
   {
    "duration": 63,
    "start_time": "2022-02-05T07:38:05.460Z"
   },
   {
    "duration": 23,
    "start_time": "2022-02-05T07:38:05.526Z"
   },
   {
    "duration": 1502,
    "start_time": "2022-02-05T10:41:04.594Z"
   },
   {
    "duration": 60,
    "start_time": "2022-02-05T10:41:07.549Z"
   },
   {
    "duration": 16,
    "start_time": "2022-02-05T10:41:11.400Z"
   },
   {
    "duration": 4,
    "start_time": "2022-02-05T10:41:20.365Z"
   },
   {
    "duration": 23,
    "start_time": "2022-02-05T10:41:23.565Z"
   },
   {
    "duration": 24,
    "start_time": "2022-02-05T10:41:28.276Z"
   },
   {
    "duration": 5,
    "start_time": "2022-02-05T10:41:34.260Z"
   },
   {
    "duration": 37,
    "start_time": "2022-02-05T10:41:38.027Z"
   },
   {
    "duration": 18,
    "start_time": "2022-02-05T10:41:48.535Z"
   },
   {
    "duration": 6,
    "start_time": "2022-02-05T10:41:51.066Z"
   },
   {
    "duration": 16,
    "start_time": "2022-02-05T10:41:54.126Z"
   },
   {
    "duration": 5,
    "start_time": "2022-02-05T10:42:00.262Z"
   },
   {
    "duration": 11,
    "start_time": "2022-02-05T10:42:05.230Z"
   },
   {
    "duration": 6,
    "start_time": "2022-02-05T10:42:07.790Z"
   },
   {
    "duration": 12,
    "start_time": "2022-02-05T10:42:12.822Z"
   },
   {
    "duration": 36,
    "start_time": "2022-02-05T10:42:16.413Z"
   },
   {
    "duration": 640,
    "start_time": "2022-02-05T10:42:25.564Z"
   },
   {
    "duration": 675,
    "start_time": "2022-02-05T10:42:31.246Z"
   },
   {
    "duration": 759,
    "start_time": "2022-02-05T10:42:37.860Z"
   },
   {
    "duration": 745,
    "start_time": "2022-02-05T10:43:09.334Z"
   },
   {
    "duration": 352,
    "start_time": "2022-02-05T10:45:07.863Z"
   },
   {
    "duration": 99,
    "start_time": "2022-02-05T10:53:36.486Z"
   },
   {
    "duration": 373,
    "start_time": "2022-02-05T10:53:50.306Z"
   },
   {
    "duration": 300,
    "start_time": "2022-02-05T10:56:39.137Z"
   },
   {
    "duration": 467,
    "start_time": "2022-02-05T10:56:45.042Z"
   },
   {
    "duration": 475,
    "start_time": "2022-02-05T10:56:53.870Z"
   },
   {
    "duration": 342,
    "start_time": "2022-02-05T10:56:58.863Z"
   },
   {
    "duration": 881,
    "start_time": "2022-02-05T10:57:07.172Z"
   },
   {
    "duration": 574,
    "start_time": "2022-02-05T10:57:18.032Z"
   },
   {
    "duration": 527,
    "start_time": "2022-02-05T10:58:58.911Z"
   },
   {
    "duration": 592,
    "start_time": "2022-02-05T10:59:16.636Z"
   },
   {
    "duration": 536,
    "start_time": "2022-02-05T10:59:39.283Z"
   },
   {
    "duration": 342,
    "start_time": "2022-02-05T12:19:19.306Z"
   },
   {
    "duration": 487,
    "start_time": "2022-02-05T12:20:05.995Z"
   },
   {
    "duration": 433,
    "start_time": "2022-02-05T12:20:12.267Z"
   },
   {
    "duration": 336,
    "start_time": "2022-02-05T12:20:17.143Z"
   },
   {
    "duration": 831,
    "start_time": "2022-02-05T12:20:31.285Z"
   },
   {
    "duration": 544,
    "start_time": "2022-02-05T12:21:30.011Z"
   },
   {
    "duration": 5,
    "start_time": "2022-02-05T12:26:30.104Z"
   },
   {
    "duration": 10,
    "start_time": "2022-02-05T12:26:35.747Z"
   },
   {
    "duration": 10,
    "start_time": "2022-02-05T12:26:38.612Z"
   },
   {
    "duration": 11,
    "start_time": "2022-02-05T12:26:43.182Z"
   },
   {
    "duration": 5,
    "start_time": "2022-02-05T12:26:45.707Z"
   },
   {
    "duration": 9,
    "start_time": "2022-02-05T12:26:48.738Z"
   },
   {
    "duration": 10,
    "start_time": "2022-02-05T12:26:53.591Z"
   },
   {
    "duration": 10,
    "start_time": "2022-02-05T12:26:55.657Z"
   },
   {
    "duration": 4,
    "start_time": "2022-02-05T12:27:25.750Z"
   },
   {
    "duration": 20,
    "start_time": "2022-02-05T12:27:28.157Z"
   },
   {
    "duration": 18,
    "start_time": "2022-02-05T12:32:10.273Z"
   },
   {
    "duration": 1386,
    "start_time": "2022-02-05T12:32:51.492Z"
   },
   {
    "duration": 49,
    "start_time": "2022-02-05T12:32:52.881Z"
   },
   {
    "duration": 22,
    "start_time": "2022-02-05T12:32:52.934Z"
   },
   {
    "duration": 6,
    "start_time": "2022-02-05T12:32:52.960Z"
   },
   {
    "duration": 34,
    "start_time": "2022-02-05T12:32:52.970Z"
   },
   {
    "duration": 49,
    "start_time": "2022-02-05T12:32:53.008Z"
   },
   {
    "duration": 9,
    "start_time": "2022-02-05T12:32:53.060Z"
   },
   {
    "duration": 35,
    "start_time": "2022-02-05T12:32:53.072Z"
   },
   {
    "duration": 7,
    "start_time": "2022-02-05T12:32:53.113Z"
   },
   {
    "duration": 7,
    "start_time": "2022-02-05T12:32:53.149Z"
   },
   {
    "duration": 21,
    "start_time": "2022-02-05T12:32:53.160Z"
   },
   {
    "duration": 4,
    "start_time": "2022-02-05T12:32:53.183Z"
   },
   {
    "duration": 13,
    "start_time": "2022-02-05T12:32:53.190Z"
   },
   {
    "duration": 43,
    "start_time": "2022-02-05T12:32:53.206Z"
   },
   {
    "duration": 11,
    "start_time": "2022-02-05T12:32:53.251Z"
   },
   {
    "duration": 32,
    "start_time": "2022-02-05T12:32:53.264Z"
   },
   {
    "duration": 638,
    "start_time": "2022-02-05T12:32:53.299Z"
   },
   {
    "duration": 650,
    "start_time": "2022-02-05T12:32:53.939Z"
   },
   {
    "duration": 680,
    "start_time": "2022-02-05T12:32:54.592Z"
   },
   {
    "duration": 736,
    "start_time": "2022-02-05T12:32:55.274Z"
   },
   {
    "duration": 283,
    "start_time": "2022-02-05T12:32:56.013Z"
   },
   {
    "duration": 555,
    "start_time": "2022-02-05T12:32:56.298Z"
   },
   {
    "duration": 481,
    "start_time": "2022-02-05T12:32:56.856Z"
   },
   {
    "duration": 350,
    "start_time": "2022-02-05T12:32:57.340Z"
   },
   {
    "duration": 796,
    "start_time": "2022-02-05T12:32:57.692Z"
   },
   {
    "duration": 508,
    "start_time": "2022-02-05T12:32:58.491Z"
   },
   {
    "duration": 5,
    "start_time": "2022-02-05T12:32:59.007Z"
   },
   {
    "duration": 34,
    "start_time": "2022-02-05T12:32:59.016Z"
   },
   {
    "duration": 9,
    "start_time": "2022-02-05T12:32:59.053Z"
   },
   {
    "duration": 14,
    "start_time": "2022-02-05T12:32:59.064Z"
   },
   {
    "duration": 6,
    "start_time": "2022-02-05T12:32:59.080Z"
   },
   {
    "duration": 21,
    "start_time": "2022-02-05T12:32:59.089Z"
   },
   {
    "duration": 11,
    "start_time": "2022-02-05T12:32:59.112Z"
   },
   {
    "duration": 9,
    "start_time": "2022-02-05T12:32:59.149Z"
   },
   {
    "duration": 8,
    "start_time": "2022-02-05T12:32:59.160Z"
   },
   {
    "duration": 27,
    "start_time": "2022-02-05T12:32:59.170Z"
   },
   {
    "duration": 51,
    "start_time": "2022-02-05T12:32:59.199Z"
   },
   {
    "duration": 21,
    "start_time": "2022-02-05T12:32:59.253Z"
   },
   {
    "duration": 700,
    "start_time": "2022-02-05T12:34:19.701Z"
   },
   {
    "duration": 275,
    "start_time": "2022-02-05T12:34:35.275Z"
   },
   {
    "duration": 468,
    "start_time": "2022-02-05T12:34:54.052Z"
   },
   {
    "duration": 482,
    "start_time": "2022-02-05T12:34:59.121Z"
   },
   {
    "duration": 1549,
    "start_time": "2022-02-05T12:35:20.226Z"
   },
   {
    "duration": 50,
    "start_time": "2022-02-05T12:35:21.778Z"
   },
   {
    "duration": 18,
    "start_time": "2022-02-05T12:35:21.831Z"
   },
   {
    "duration": 7,
    "start_time": "2022-02-05T12:35:21.852Z"
   },
   {
    "duration": 29,
    "start_time": "2022-02-05T12:35:21.863Z"
   },
   {
    "duration": 25,
    "start_time": "2022-02-05T12:35:21.895Z"
   },
   {
    "duration": 7,
    "start_time": "2022-02-05T12:35:21.950Z"
   },
   {
    "duration": 47,
    "start_time": "2022-02-05T12:35:21.961Z"
   },
   {
    "duration": 8,
    "start_time": "2022-02-05T12:35:22.011Z"
   },
   {
    "duration": 31,
    "start_time": "2022-02-05T12:35:22.021Z"
   },
   {
    "duration": 21,
    "start_time": "2022-02-05T12:35:22.055Z"
   },
   {
    "duration": 4,
    "start_time": "2022-02-05T12:35:22.079Z"
   },
   {
    "duration": 22,
    "start_time": "2022-02-05T12:35:22.086Z"
   },
   {
    "duration": 12,
    "start_time": "2022-02-05T12:35:22.110Z"
   },
   {
    "duration": 9,
    "start_time": "2022-02-05T12:35:22.149Z"
   },
   {
    "duration": 40,
    "start_time": "2022-02-05T12:35:22.161Z"
   },
   {
    "duration": 672,
    "start_time": "2022-02-05T12:35:22.203Z"
   },
   {
    "duration": 640,
    "start_time": "2022-02-05T12:35:22.877Z"
   },
   {
    "duration": 682,
    "start_time": "2022-02-05T12:35:23.519Z"
   },
   {
    "duration": 813,
    "start_time": "2022-02-05T12:35:24.204Z"
   },
   {
    "duration": 288,
    "start_time": "2022-02-05T12:35:25.019Z"
   },
   {
    "duration": 600,
    "start_time": "2022-02-05T12:35:25.310Z"
   },
   {
    "duration": 492,
    "start_time": "2022-02-05T12:35:25.914Z"
   },
   {
    "duration": 388,
    "start_time": "2022-02-05T12:35:26.409Z"
   },
   {
    "duration": 837,
    "start_time": "2022-02-05T12:35:26.799Z"
   },
   {
    "duration": 584,
    "start_time": "2022-02-05T12:35:27.639Z"
   },
   {
    "duration": 4,
    "start_time": "2022-02-05T12:35:28.226Z"
   },
   {
    "duration": 24,
    "start_time": "2022-02-05T12:35:28.232Z"
   },
   {
    "duration": 14,
    "start_time": "2022-02-05T12:35:28.259Z"
   },
   {
    "duration": 16,
    "start_time": "2022-02-05T12:35:28.276Z"
   },
   {
    "duration": 13,
    "start_time": "2022-02-05T12:35:28.295Z"
   },
   {
    "duration": 41,
    "start_time": "2022-02-05T12:35:28.311Z"
   },
   {
    "duration": 33,
    "start_time": "2022-02-05T12:35:28.355Z"
   },
   {
    "duration": 22,
    "start_time": "2022-02-05T12:35:28.391Z"
   },
   {
    "duration": 13,
    "start_time": "2022-02-05T12:35:28.416Z"
   },
   {
    "duration": 48,
    "start_time": "2022-02-05T12:35:28.432Z"
   },
   {
    "duration": 34,
    "start_time": "2022-02-05T12:35:28.482Z"
   },
   {
    "duration": 36,
    "start_time": "2022-02-05T12:35:28.519Z"
   },
   {
    "duration": 1428,
    "start_time": "2022-02-05T12:40:43.773Z"
   },
   {
    "duration": 47,
    "start_time": "2022-02-05T12:40:45.203Z"
   },
   {
    "duration": 13,
    "start_time": "2022-02-05T12:40:45.254Z"
   },
   {
    "duration": 4,
    "start_time": "2022-02-05T12:40:45.269Z"
   },
   {
    "duration": 26,
    "start_time": "2022-02-05T12:40:45.275Z"
   },
   {
    "duration": 50,
    "start_time": "2022-02-05T12:40:45.303Z"
   },
   {
    "duration": 7,
    "start_time": "2022-02-05T12:40:45.355Z"
   },
   {
    "duration": 29,
    "start_time": "2022-02-05T12:40:45.365Z"
   },
   {
    "duration": 7,
    "start_time": "2022-02-05T12:40:45.398Z"
   },
   {
    "duration": 40,
    "start_time": "2022-02-05T12:40:45.408Z"
   },
   {
    "duration": 20,
    "start_time": "2022-02-05T12:40:45.451Z"
   },
   {
    "duration": 4,
    "start_time": "2022-02-05T12:40:45.473Z"
   },
   {
    "duration": 14,
    "start_time": "2022-02-05T12:40:45.479Z"
   },
   {
    "duration": 7,
    "start_time": "2022-02-05T12:40:45.495Z"
   },
   {
    "duration": 44,
    "start_time": "2022-02-05T12:40:45.504Z"
   },
   {
    "duration": 32,
    "start_time": "2022-02-05T12:40:45.551Z"
   },
   {
    "duration": 634,
    "start_time": "2022-02-05T12:40:45.585Z"
   },
   {
    "duration": 631,
    "start_time": "2022-02-05T12:40:46.221Z"
   },
   {
    "duration": 678,
    "start_time": "2022-02-05T12:40:46.855Z"
   },
   {
    "duration": 730,
    "start_time": "2022-02-05T12:40:47.536Z"
   },
   {
    "duration": 298,
    "start_time": "2022-02-05T12:40:48.269Z"
   },
   {
    "duration": 596,
    "start_time": "2022-02-05T12:40:48.570Z"
   },
   {
    "duration": 449,
    "start_time": "2022-02-05T12:40:49.169Z"
   },
   {
    "duration": 351,
    "start_time": "2022-02-05T12:40:49.621Z"
   },
   {
    "duration": 816,
    "start_time": "2022-02-05T12:40:49.974Z"
   },
   {
    "duration": 521,
    "start_time": "2022-02-05T12:40:50.792Z"
   },
   {
    "duration": 4,
    "start_time": "2022-02-05T12:40:51.319Z"
   },
   {
    "duration": 26,
    "start_time": "2022-02-05T12:40:51.326Z"
   },
   {
    "duration": 16,
    "start_time": "2022-02-05T12:40:51.355Z"
   },
   {
    "duration": 8,
    "start_time": "2022-02-05T12:40:51.374Z"
   },
   {
    "duration": 9,
    "start_time": "2022-02-05T12:40:51.385Z"
   },
   {
    "duration": 18,
    "start_time": "2022-02-05T12:40:51.396Z"
   },
   {
    "duration": 36,
    "start_time": "2022-02-05T12:40:51.417Z"
   },
   {
    "duration": 9,
    "start_time": "2022-02-05T12:40:51.455Z"
   },
   {
    "duration": 5,
    "start_time": "2022-02-05T12:40:51.466Z"
   },
   {
    "duration": 26,
    "start_time": "2022-02-05T12:40:51.473Z"
   },
   {
    "duration": 49,
    "start_time": "2022-02-05T12:40:51.501Z"
   },
   {
    "duration": 22,
    "start_time": "2022-02-05T12:40:51.552Z"
   },
   {
    "duration": 13,
    "start_time": "2022-02-05T12:46:05.194Z"
   },
   {
    "duration": 13,
    "start_time": "2022-02-05T12:46:40.482Z"
   },
   {
    "duration": 321,
    "start_time": "2022-02-06T15:10:01.173Z"
   },
   {
    "duration": 1631,
    "start_time": "2022-02-06T15:11:00.538Z"
   },
   {
    "duration": 49,
    "start_time": "2022-02-06T15:11:02.172Z"
   },
   {
    "duration": 14,
    "start_time": "2022-02-06T15:11:02.224Z"
   },
   {
    "duration": 17,
    "start_time": "2022-02-06T15:11:02.241Z"
   },
   {
    "duration": 37,
    "start_time": "2022-02-06T15:11:02.261Z"
   },
   {
    "duration": 26,
    "start_time": "2022-02-06T15:11:02.301Z"
   },
   {
    "duration": 21,
    "start_time": "2022-02-06T15:11:02.331Z"
   },
   {
    "duration": 32,
    "start_time": "2022-02-06T15:11:02.369Z"
   },
   {
    "duration": 9,
    "start_time": "2022-02-06T15:11:02.404Z"
   },
   {
    "duration": 9,
    "start_time": "2022-02-06T15:11:02.416Z"
   },
   {
    "duration": 52,
    "start_time": "2022-02-06T15:11:02.427Z"
   },
   {
    "duration": 6,
    "start_time": "2022-02-06T15:11:02.482Z"
   },
   {
    "duration": 15,
    "start_time": "2022-02-06T15:11:02.491Z"
   },
   {
    "duration": 9,
    "start_time": "2022-02-06T15:11:02.509Z"
   },
   {
    "duration": 50,
    "start_time": "2022-02-06T15:11:02.521Z"
   },
   {
    "duration": 34,
    "start_time": "2022-02-06T15:11:02.574Z"
   },
   {
    "duration": 701,
    "start_time": "2022-02-06T15:11:02.610Z"
   },
   {
    "duration": 705,
    "start_time": "2022-02-06T15:11:03.313Z"
   },
   {
    "duration": 730,
    "start_time": "2022-02-06T15:11:04.021Z"
   },
   {
    "duration": 769,
    "start_time": "2022-02-06T15:11:04.754Z"
   },
   {
    "duration": 474,
    "start_time": "2022-02-06T15:11:05.526Z"
   },
   {
    "duration": 558,
    "start_time": "2022-02-06T15:11:06.003Z"
   },
   {
    "duration": 475,
    "start_time": "2022-02-06T15:11:06.570Z"
   },
   {
    "duration": 369,
    "start_time": "2022-02-06T15:11:07.048Z"
   },
   {
    "duration": 810,
    "start_time": "2022-02-06T15:11:07.419Z"
   },
   {
    "duration": 554,
    "start_time": "2022-02-06T15:11:08.232Z"
   },
   {
    "duration": 4,
    "start_time": "2022-02-06T15:11:08.788Z"
   },
   {
    "duration": 19,
    "start_time": "2022-02-06T15:11:08.794Z"
   },
   {
    "duration": 16,
    "start_time": "2022-02-06T15:11:08.815Z"
   },
   {
    "duration": 33,
    "start_time": "2022-02-06T15:11:08.834Z"
   },
   {
    "duration": 17,
    "start_time": "2022-02-06T15:11:08.869Z"
   },
   {
    "duration": 25,
    "start_time": "2022-02-06T15:11:08.889Z"
   },
   {
    "duration": 18,
    "start_time": "2022-02-06T15:11:08.917Z"
   },
   {
    "duration": 16,
    "start_time": "2022-02-06T15:11:08.937Z"
   },
   {
    "duration": 19,
    "start_time": "2022-02-06T15:11:08.956Z"
   },
   {
    "duration": 46,
    "start_time": "2022-02-06T15:11:08.977Z"
   },
   {
    "duration": 20,
    "start_time": "2022-02-06T15:11:09.025Z"
   },
   {
    "duration": 35,
    "start_time": "2022-02-06T15:11:09.047Z"
   },
   {
    "duration": 703,
    "start_time": "2022-02-06T15:15:17.673Z"
   },
   {
    "duration": 318,
    "start_time": "2022-02-06T15:15:44.377Z"
   },
   {
    "duration": 303,
    "start_time": "2022-02-06T15:19:56.352Z"
   },
   {
    "duration": 12617,
    "start_time": "2022-02-06T15:21:38.543Z"
   },
   {
    "duration": 265,
    "start_time": "2022-02-06T15:22:15.238Z"
   },
   {
    "duration": 284,
    "start_time": "2022-02-06T15:22:51.997Z"
   },
   {
    "duration": 12571,
    "start_time": "2022-02-06T15:23:24.165Z"
   },
   {
    "duration": 587,
    "start_time": "2022-02-06T15:23:48.341Z"
   },
   {
    "duration": 302,
    "start_time": "2022-02-06T15:24:12.469Z"
   },
   {
    "duration": 239,
    "start_time": "2022-02-06T15:24:35.389Z"
   },
   {
    "duration": 439,
    "start_time": "2022-02-06T15:25:25.917Z"
   },
   {
    "duration": 303,
    "start_time": "2022-02-06T15:51:35.972Z"
   },
   {
    "duration": 292,
    "start_time": "2022-02-06T15:51:56.340Z"
   },
   {
    "duration": 297,
    "start_time": "2022-02-06T15:52:05.396Z"
   },
   {
    "duration": 312,
    "start_time": "2022-02-06T15:52:31.812Z"
   },
   {
    "duration": 304,
    "start_time": "2022-02-06T15:52:43.124Z"
   },
   {
    "duration": 303,
    "start_time": "2022-02-06T15:54:35.948Z"
   },
   {
    "duration": 301,
    "start_time": "2022-02-06T15:57:25.156Z"
   },
   {
    "duration": 355,
    "start_time": "2022-02-06T15:57:36.331Z"
   },
   {
    "duration": 442,
    "start_time": "2022-02-06T15:58:51.650Z"
   },
   {
    "duration": 321,
    "start_time": "2022-02-06T15:59:13.753Z"
   },
   {
    "duration": 490,
    "start_time": "2022-02-06T16:01:03.010Z"
   },
   {
    "duration": 303,
    "start_time": "2022-02-06T16:01:12.153Z"
   },
   {
    "duration": 291,
    "start_time": "2022-02-06T16:01:17.065Z"
   },
   {
    "duration": 312,
    "start_time": "2022-02-06T16:01:39.265Z"
   },
   {
    "duration": 284,
    "start_time": "2022-02-06T16:01:51.513Z"
   },
   {
    "duration": 296,
    "start_time": "2022-02-06T16:03:58.320Z"
   },
   {
    "duration": 291,
    "start_time": "2022-02-06T16:04:04.536Z"
   },
   {
    "duration": 291,
    "start_time": "2022-02-06T16:04:08.824Z"
   },
   {
    "duration": 320,
    "start_time": "2022-02-06T16:04:12.912Z"
   },
   {
    "duration": 1432,
    "start_time": "2022-02-06T16:04:54.016Z"
   },
   {
    "duration": 49,
    "start_time": "2022-02-06T16:04:55.451Z"
   },
   {
    "duration": 15,
    "start_time": "2022-02-06T16:04:55.504Z"
   },
   {
    "duration": 6,
    "start_time": "2022-02-06T16:04:55.522Z"
   },
   {
    "duration": 51,
    "start_time": "2022-02-06T16:04:55.530Z"
   },
   {
    "duration": 27,
    "start_time": "2022-02-06T16:04:55.584Z"
   },
   {
    "duration": 10,
    "start_time": "2022-02-06T16:04:55.614Z"
   },
   {
    "duration": 68,
    "start_time": "2022-02-06T16:04:55.628Z"
   },
   {
    "duration": 8,
    "start_time": "2022-02-06T16:04:55.700Z"
   },
   {
    "duration": 7,
    "start_time": "2022-02-06T16:04:55.711Z"
   },
   {
    "duration": 54,
    "start_time": "2022-02-06T16:04:55.721Z"
   },
   {
    "duration": 5,
    "start_time": "2022-02-06T16:04:55.777Z"
   },
   {
    "duration": 13,
    "start_time": "2022-02-06T16:04:55.784Z"
   },
   {
    "duration": 10,
    "start_time": "2022-02-06T16:04:55.799Z"
   },
   {
    "duration": 9,
    "start_time": "2022-02-06T16:04:55.811Z"
   },
   {
    "duration": 81,
    "start_time": "2022-02-06T16:04:55.822Z"
   },
   {
    "duration": 847,
    "start_time": "2022-02-06T16:04:55.905Z"
   },
   {
    "duration": 688,
    "start_time": "2022-02-06T16:04:56.755Z"
   },
   {
    "duration": 728,
    "start_time": "2022-02-06T16:04:57.446Z"
   },
   {
    "duration": 778,
    "start_time": "2022-02-06T16:04:58.177Z"
   },
   {
    "duration": 324,
    "start_time": "2022-02-06T16:04:58.958Z"
   },
   {
    "duration": 702,
    "start_time": "2022-02-06T16:04:59.284Z"
   },
   {
    "duration": 641,
    "start_time": "2022-02-06T16:04:59.993Z"
   },
   {
    "duration": 407,
    "start_time": "2022-02-06T16:05:00.638Z"
   },
   {
    "duration": 837,
    "start_time": "2022-02-06T16:05:01.048Z"
   },
   {
    "duration": 578,
    "start_time": "2022-02-06T16:05:01.887Z"
   },
   {
    "duration": 5,
    "start_time": "2022-02-06T16:05:02.468Z"
   },
   {
    "duration": 16,
    "start_time": "2022-02-06T16:05:02.475Z"
   },
   {
    "duration": 10,
    "start_time": "2022-02-06T16:05:02.493Z"
   },
   {
    "duration": 11,
    "start_time": "2022-02-06T16:05:02.505Z"
   },
   {
    "duration": 52,
    "start_time": "2022-02-06T16:05:02.519Z"
   },
   {
    "duration": 17,
    "start_time": "2022-02-06T16:05:02.575Z"
   },
   {
    "duration": 15,
    "start_time": "2022-02-06T16:05:02.594Z"
   },
   {
    "duration": 12,
    "start_time": "2022-02-06T16:05:02.611Z"
   },
   {
    "duration": 15,
    "start_time": "2022-02-06T16:05:02.625Z"
   },
   {
    "duration": 46,
    "start_time": "2022-02-06T16:05:02.642Z"
   },
   {
    "duration": 19,
    "start_time": "2022-02-06T16:05:02.690Z"
   },
   {
    "duration": 66,
    "start_time": "2022-02-06T16:05:02.713Z"
   },
   {
    "duration": 1167,
    "start_time": "2022-02-07T12:48:53.007Z"
   },
   {
    "duration": 42,
    "start_time": "2022-02-07T12:48:54.176Z"
   },
   {
    "duration": 12,
    "start_time": "2022-02-07T12:48:54.220Z"
   },
   {
    "duration": 6,
    "start_time": "2022-02-07T12:48:54.234Z"
   },
   {
    "duration": 19,
    "start_time": "2022-02-07T12:48:54.242Z"
   },
   {
    "duration": 18,
    "start_time": "2022-02-07T12:48:54.263Z"
   },
   {
    "duration": 5,
    "start_time": "2022-02-07T12:48:54.283Z"
   },
   {
    "duration": 41,
    "start_time": "2022-02-07T12:48:54.289Z"
   },
   {
    "duration": 5,
    "start_time": "2022-02-07T12:48:54.334Z"
   },
   {
    "duration": 6,
    "start_time": "2022-02-07T12:48:54.341Z"
   },
   {
    "duration": 14,
    "start_time": "2022-02-07T12:48:54.349Z"
   },
   {
    "duration": 4,
    "start_time": "2022-02-07T12:48:54.365Z"
   },
   {
    "duration": 11,
    "start_time": "2022-02-07T12:48:54.370Z"
   },
   {
    "duration": 37,
    "start_time": "2022-02-07T12:48:54.383Z"
   },
   {
    "duration": 10,
    "start_time": "2022-02-07T12:48:54.423Z"
   },
   {
    "duration": 26,
    "start_time": "2022-02-07T12:48:54.435Z"
   },
   {
    "duration": 416,
    "start_time": "2022-02-07T12:48:54.463Z"
   },
   {
    "duration": 431,
    "start_time": "2022-02-07T12:48:54.881Z"
   },
   {
    "duration": 552,
    "start_time": "2022-02-07T12:48:55.318Z"
   },
   {
    "duration": 553,
    "start_time": "2022-02-07T12:48:55.872Z"
   },
   {
    "duration": 391,
    "start_time": "2022-02-07T12:48:56.427Z"
   },
   {
    "duration": 467,
    "start_time": "2022-02-07T12:48:56.820Z"
   },
   {
    "duration": 424,
    "start_time": "2022-02-07T12:48:57.288Z"
   },
   {
    "duration": 286,
    "start_time": "2022-02-07T12:48:57.718Z"
   },
   {
    "duration": 625,
    "start_time": "2022-02-07T12:48:58.006Z"
   },
   {
    "duration": 346,
    "start_time": "2022-02-07T12:48:58.633Z"
   },
   {
    "duration": 3,
    "start_time": "2022-02-07T12:48:58.983Z"
   },
   {
    "duration": 10,
    "start_time": "2022-02-07T12:48:58.987Z"
   },
   {
    "duration": 21,
    "start_time": "2022-02-07T12:48:58.999Z"
   },
   {
    "duration": 11,
    "start_time": "2022-02-07T12:48:59.022Z"
   },
   {
    "duration": 4,
    "start_time": "2022-02-07T12:48:59.035Z"
   },
   {
    "duration": 13,
    "start_time": "2022-02-07T12:48:59.041Z"
   },
   {
    "duration": 10,
    "start_time": "2022-02-07T12:48:59.056Z"
   },
   {
    "duration": 8,
    "start_time": "2022-02-07T12:48:59.067Z"
   },
   {
    "duration": 4,
    "start_time": "2022-02-07T12:48:59.076Z"
   },
   {
    "duration": 39,
    "start_time": "2022-02-07T12:48:59.082Z"
   },
   {
    "duration": 12,
    "start_time": "2022-02-07T12:48:59.123Z"
   },
   {
    "duration": 14,
    "start_time": "2022-02-07T12:48:59.136Z"
   },
   {
    "duration": 230,
    "start_time": "2022-02-07T12:49:51.338Z"
   }
  ],
  "kernelspec": {
   "display_name": "Python 3 (ipykernel)",
   "language": "python",
   "name": "python3"
  },
  "language_info": {
   "codemirror_mode": {
    "name": "ipython",
    "version": 3
   },
   "file_extension": ".py",
   "mimetype": "text/x-python",
   "name": "python",
   "nbconvert_exporter": "python",
   "pygments_lexer": "ipython3",
   "version": "3.9.7"
  },
  "toc": {
   "base_numbering": 1,
   "nav_menu": {},
   "number_sections": false,
   "sideBar": true,
   "skip_h1_title": false,
   "title_cell": "Table of Contents",
   "title_sidebar": "Contents",
   "toc_cell": false,
   "toc_position": {
    "height": "calc(100% - 180px)",
    "left": "10px",
    "top": "150px",
    "width": "366.391px"
   },
   "toc_section_display": true,
   "toc_window_display": true
  }
 },
 "nbformat": 4,
 "nbformat_minor": 2
}
