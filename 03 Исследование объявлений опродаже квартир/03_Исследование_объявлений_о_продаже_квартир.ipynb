{
 "cells": [
  {
   "cell_type": "markdown",
   "metadata": {
    "toc": true
   },
   "source": [
    "<h1>Содержание<span class=\"tocSkip\"></span></h1>\n",
    "<div class=\"toc\"><ul class=\"toc-item\"><li><span><a href=\"#Изучение-данных-из-файла\" data-toc-modified-id=\"Изучение-данных-из-файла-1\"><span class=\"toc-item-num\">1&nbsp;&nbsp;</span>Изучение данных из файла</a></span><ul class=\"toc-item\"><li><span><a href=\"#Вывод-по-данным\" data-toc-modified-id=\"Вывод-по-данным-1.1\"><span class=\"toc-item-num\">1.1&nbsp;&nbsp;</span>Вывод по данным</a></span></li></ul></li><li><span><a href=\"#Предобработка-данных\" data-toc-modified-id=\"Предобработка-данных-2\"><span class=\"toc-item-num\">2&nbsp;&nbsp;</span>Предобработка данных</a></span><ul class=\"toc-item\"><li><span><a href=\"#Нахождение-пропусков-в-данных.\" data-toc-modified-id=\"Нахождение-пропусков-в-данных.-2.1\"><span class=\"toc-item-num\">2.1&nbsp;&nbsp;</span>Нахождение пропусков в данных.</a></span></li><li><span><a href=\"#Заполнение-пропусков-в-данных.\" data-toc-modified-id=\"Заполнение-пропусков-в-данных.-2.2\"><span class=\"toc-item-num\">2.2&nbsp;&nbsp;</span>Заполнение пропусков в данных.</a></span></li><li><span><a href=\"#Возможные-причины-приведшие-к-возникновению-пропусков-в-данных.\" data-toc-modified-id=\"Возможные-причины-приведшие-к-возникновению-пропусков-в-данных.-2.3\"><span class=\"toc-item-num\">2.3&nbsp;&nbsp;</span>Возможные причины приведшие к возникновению пропусков в данных.</a></span></li><li><span><a href=\"#Приведение-данных-к-нужным-типам.\" data-toc-modified-id=\"Приведение-данных-к-нужным-типам.-2.4\"><span class=\"toc-item-num\">2.4&nbsp;&nbsp;</span>Приведение данных к нужным типам.</a></span></li></ul></li><li><span><a href=\"#Расчёты-и-добавление-результатов-в-таблицу\" data-toc-modified-id=\"Расчёты-и-добавление-результатов-в-таблицу-3\"><span class=\"toc-item-num\">3&nbsp;&nbsp;</span>Расчёты и добавление результатов в таблицу</a></span><ul class=\"toc-item\"><li><span><a href=\"#Посчитаем-и-добавим-в-таблицу-цену-квадратного-метра.\" data-toc-modified-id=\"Посчитаем-и-добавим-в-таблицу-цену-квадратного-метра.-3.1\"><span class=\"toc-item-num\">3.1&nbsp;&nbsp;</span>Посчитаем и добавим в таблицу цену квадратного метра.</a></span></li><li><span><a href=\"#Добавление-дня-недели,-месяца-и-года-публикации-объявления.\" data-toc-modified-id=\"Добавление-дня-недели,-месяца-и-года-публикации-объявления.-3.2\"><span class=\"toc-item-num\">3.2&nbsp;&nbsp;</span>Добавление дня недели, месяца и года публикации объявления.</a></span></li><li><span><a href=\"#Добавление-этажа-квартиры-с-вариантами:-первый,-последний,-другой.\" data-toc-modified-id=\"Добавление-этажа-квартиры-с-вариантами:-первый,-последний,-другой.-3.3\"><span class=\"toc-item-num\">3.3&nbsp;&nbsp;</span>Добавление этажа квартиры с вариантами: первый, последний, другой.</a></span></li><li><span><a href=\"#Добавление-соотношения-жилой-и-общей-площади,-а-также-отношение-площади-кухни-к-общей.\" data-toc-modified-id=\"Добавление-соотношения-жилой-и-общей-площади,-а-также-отношение-площади-кухни-к-общей.-3.4\"><span class=\"toc-item-num\">3.4&nbsp;&nbsp;</span>Добавление соотношения жилой и общей площади, а также отношение площади кухни к общей.</a></span></li></ul></li><li><span><a href=\"#Исследовательский-анализ-данных\" data-toc-modified-id=\"Исследовательский-анализ-данных-4\"><span class=\"toc-item-num\">4&nbsp;&nbsp;</span>Исследовательский анализ данных</a></span><ul class=\"toc-item\"><li><span><a href=\"#Изучаем-параметры:-площадь,-цена,-число-комнат,-высота-потолков.\" data-toc-modified-id=\"Изучаем-параметры:-площадь,-цена,-число-комнат,-высота-потолков.-4.1\"><span class=\"toc-item-num\">4.1&nbsp;&nbsp;</span>Изучаем параметры: площадь, цена, число комнат, высота потолков.</a></span></li><li><span><a href=\"#Изучаем-время-продажи-квартиры.\" data-toc-modified-id=\"Изучаем-время-продажи-квартиры.-4.2\"><span class=\"toc-item-num\">4.2&nbsp;&nbsp;</span>Изучаем время продажи квартиры.</a></span></li><li><span><a href=\"#Убираем-редкие-и-выбивающиеся-значения.\" data-toc-modified-id=\"Убираем-редкие-и-выбивающиеся-значения.-4.3\"><span class=\"toc-item-num\">4.3&nbsp;&nbsp;</span>Убираем редкие и выбивающиеся значения.</a></span></li><li><span><a href=\"#Выявляем-какие-факторы-больше-всего-влияют-на-стоимость-квартиры.\" data-toc-modified-id=\"Выявляем-какие-факторы-больше-всего-влияют-на-стоимость-квартиры.-4.4\"><span class=\"toc-item-num\">4.4&nbsp;&nbsp;</span>Выявляем какие факторы больше всего влияют на стоимость квартиры.</a></span></li><li><span><a href=\"#Изучим-среднюю-цену-квадратного-метра-в-10-населенных-пунктах-с-наибольшим-числом-объявлений,-в-каких-из-них-самая-высокая-и-самая-низкая-стоимость-жилья.\" data-toc-modified-id=\"Изучим-среднюю-цену-квадратного-метра-в-10-населенных-пунктах-с-наибольшим-числом-объявлений,-в-каких-из-них-самая-высокая-и-самая-низкая-стоимость-жилья.-4.5\"><span class=\"toc-item-num\">4.5&nbsp;&nbsp;</span>Изучим среднюю цену квадратного метра в 10 населенных пунктах с наибольшим числом объявлений, в каких из них самая высокая и самая низкая стоимость жилья.</a></span></li><li><span><a href=\"#Изучим-предложение-квартир-(удаленности-от-центра).\" data-toc-modified-id=\"Изучим-предложение-квартир-(удаленности-от-центра).-4.6\"><span class=\"toc-item-num\">4.6&nbsp;&nbsp;</span>Изучим предложение квартир (удаленности от центра).</a></span></li><li><span><a href=\"#Изучим-предложение-квартир-в-центре.\" data-toc-modified-id=\"Изучим-предложение-квартир-в-центре.-4.7\"><span class=\"toc-item-num\">4.7&nbsp;&nbsp;</span>Изучим предложение квартир в центре.</a></span></li></ul></li><li><span><a href=\"#Общий-вывод\" data-toc-modified-id=\"Общий-вывод-5\"><span class=\"toc-item-num\">5&nbsp;&nbsp;</span>Общий вывод</a></span></li><li><span><a href=\"#Чек-лист-готовности-проекта\" data-toc-modified-id=\"Чек-лист-готовности-проекта-6\"><span class=\"toc-item-num\">6&nbsp;&nbsp;</span>Чек-лист готовности проекта</a></span></li></ul></div>"
   ]
  },
  {
   "cell_type": "markdown",
   "metadata": {},
   "source": [
    "# Исследование объявлений о продаже квартир\n",
    "\n",
    "<b> Описание исследования </b>\n",
    "\n",
    "В нашем распоряжении данные сервиса Яндекс.Недвижимость — архив объявлений о продаже квартир в Санкт-Петербурге и соседних населённых пунктах за несколько лет.\n",
    "\n",
    "<b>Цель исследования</b>\n",
    "\n",
    "Нужно научиться определять рыночную стоимость объектов недвижимости.\n",
    "\n",
    "<b> Задачи исследования</b>\n",
    "\n",
    "Наша задача — установить параметры. Это позволит построить автоматизированную систему: она отследит аномалии и мошенническую деятельность. \n",
    "\n",
    "По каждой квартире на продажу доступны два вида данных. Первые вписаны пользователем, вторые получены автоматически на основе картографических данных. Например, расстояние до центра, аэропорта, ближайшего парка и водоёма. \n",
    "\n",
    "<b>Данное исследование разделим на несколько частей:</b>\n",
    "\n",
    "<b> Изучение общей информации:</b>\n",
    "\n",
    " [ Изучение данных из-файла](#step_1)\n",
    " \n",
    " [ Вывод по данным](#step_2)\n",
    " \n",
    "<b> Предобработка данных:</b>\n",
    "\n",
    " [2.1. Нахождение пропусков в данных.](#step_3)\n",
    "  \n",
    " [2.2. Заполнение пропусков в данных.](#step_4)\n",
    "  \n",
    " [2.3. Возможные причины приведшие к возникновению пропусков в данных.](#step_5)\n",
    " \n",
    " [2.4. Приведение данных к нужным типам.](#step_6)\n",
    " \n",
    " \n",
    " <b> Расчёты и добавление результатов в таблицу</b>\n",
    "\n",
    " [3.1. Посчитаем и добавим в таблицу цену квадратного метра.](#step_7)\n",
    " \n",
    " [3.2. Добавление дня недели, месяца и года публикации объявления.](#step_8)\n",
    "  \n",
    " [3.3. Добавление этажа квартиры с вариантами: первый, последний, другой.](#step_9)\n",
    "   \n",
    " [3.4. Добавление соотношения жилой и общей площади, а также отношение площади кухни к общей.](#step_10)\n",
    " \n",
    " <b> Исследовательский анализ данных </b>\n",
    " \n",
    " [4.1. Изучаем параметры: площадь, цена, число комнат, высота потолков.](#step_11)\n",
    " \n",
    " [4.2. Изучаем время продажи квартиры.](#step_12)\n",
    " \n",
    " [4.3. Убираем редкие и выбивающиеся значения.](#step_13)\n",
    " \n",
    " [4.4. Выявляем какие факторы больше всего влияют на стоимость квартиры.](#step_14)\n",
    " \n",
    " [4.5. Изучим среднюю цену квадратного метра в 10 населенных пунктах с наибольшим числом объявлений, в каких из них самая высокая и самая низкая стоимость жилья.](#step_15)\n",
    " \n",
    " [4.6. Изучим предложение квартир (удаленности от центра).](#step_16)\n",
    " \n",
    " [4.7. Изучим предложение квартир в центре.](#step_17)\n",
    " \n",
    " [<b> Общий вывод </b>](#step_18)\n",
    "  \n",
    " [<b> Чек-лист готовности проекта </b>](#step_19)"
   ]
  },
  {
   "cell_type": "markdown",
   "metadata": {},
   "source": [
    "<a id=\"step_1\"></a>\n",
    "## Изучение данных из файла"
   ]
  },
  {
   "cell_type": "code",
   "execution_count": 1,
   "metadata": {},
   "outputs": [
    {
     "name": "stdout",
     "output_type": "stream",
     "text": [
      "<class 'pandas.core.frame.DataFrame'>\n",
      "RangeIndex: 23699 entries, 0 to 23698\n",
      "Data columns (total 22 columns):\n",
      " #   Column                Non-Null Count  Dtype  \n",
      "---  ------                --------------  -----  \n",
      " 0   total_images          23699 non-null  int64  \n",
      " 1   last_price            23699 non-null  float64\n",
      " 2   total_area            23699 non-null  float64\n",
      " 3   first_day_exposition  23699 non-null  object \n",
      " 4   rooms                 23699 non-null  int64  \n",
      " 5   ceiling_height        14504 non-null  float64\n",
      " 6   floors_total          23613 non-null  float64\n",
      " 7   living_area           21796 non-null  float64\n",
      " 8   floor                 23699 non-null  int64  \n",
      " 9   is_apartment          2775 non-null   object \n",
      " 10  studio                23699 non-null  bool   \n",
      " 11  open_plan             23699 non-null  bool   \n",
      " 12  kitchen_area          21421 non-null  float64\n",
      " 13  balcony               12180 non-null  float64\n",
      " 14  locality_name         23650 non-null  object \n",
      " 15  airports_nearest      18157 non-null  float64\n",
      " 16  cityCenters_nearest   18180 non-null  float64\n",
      " 17  parks_around3000      18181 non-null  float64\n",
      " 18  parks_nearest         8079 non-null   float64\n",
      " 19  ponds_around3000      18181 non-null  float64\n",
      " 20  ponds_nearest         9110 non-null   float64\n",
      " 21  days_exposition       20518 non-null  float64\n",
      "dtypes: bool(2), float64(14), int64(3), object(3)\n",
      "memory usage: 3.7+ MB\n"
     ]
    }
   ],
   "source": [
    "# импортируем библиотеку 'pandas'\n",
    "import pandas as pd\n",
    "\n",
    "# сохраним в переменную 'df' датафрейм из файла, установив разделитель '\\t'\n",
    "try:\n",
    "    df = pd.read_csv('/datasets/real_estate_data.csv', sep='\\t')\n",
    "except:\n",
    "    df = pd.read_csv('real_estate_data.csv', sep='\\t')\n",
    "\n",
    "# прочитаем информацию по датафрейму\n",
    "df.info()"
   ]
  },
  {
   "cell_type": "markdown",
   "metadata": {},
   "source": [
    "<a id=\"step_2\"></a>\n",
    "### Вывод по данным"
   ]
  },
  {
   "cell_type": "markdown",
   "metadata": {},
   "source": [
    "<b> Описание данных</b>\n",
    "\n",
    " - airports_nearest — расстояние до ближайшего аэропорта в метрах (м) - <b>есть пропущенные значения</b>\n",
    " - balcony — число балконов - <b>есть пропущенные значения и не все значения 'int'</b>\n",
    " - ceiling_height — высота потолков (м) - <b>есть пропущенные значения</b>\n",
    " - cityCenters_nearest — расстояние до центра города (м) - <b>есть пропущенные значения</b>\n",
    " - days_exposition — сколько дней было размещено объявление (от публикации до снятия) - <b>есть пропущенные значения и не все значения 'int'</b>\n",
    " - first_day_exposition — дата публикации - <b>должен быть тип 'datetime'</b>\n",
    " - floor — этаж - <b>есть пропущенные значения</b>\n",
    " - floors_total — всего этажей в доме - <b>есть пропущенные значения и не все значения 'int'</b>\n",
    " - is_apartment — апартаменты (булев тип) - <b>есть пропущенные значения и не все значения 'bool'</b>\n",
    " - kitchen_area — площадь кухни в квадратных метрах (м²) - <b>есть пропущенные значения</b>\n",
    " - last_price — цена на момент снятия с публикации\n",
    " - living_area — жилая площадь в квадратных метрах (м²) - <b>есть пропущенные значения</b>\n",
    " - locality_name — название населённого пункта - <b>есть пропущенные значения</b>\n",
    " - open_plan — свободная планировка (булев тип)\n",
    " - parks_around3000 — число парков в радиусе 3 км - <b>есть пропущенные значения и не все значения 'int'</b>\n",
    " - parks_nearest — расстояние до ближайшего парка (м) - <b>есть пропущенные значения</b>\n",
    " - ponds_around3000 — число водоёмов в радиусе 3 км - <b>есть пропущенные значения и не все значения 'int'</b>\n",
    " - ponds_nearest — расстояние до ближайшего водоёма (м) - <b>есть пропущенные значения</b>\n",
    " - rooms — число комнат\n",
    " - studio — квартира-студия (булев тип)\n",
    " - total_area — площадь квартиры в квадратных метрах (м²)\n",
    " - total_images — число фотографий квартиры в объявлении\n",
    "\n"
   ]
  },
  {
   "cell_type": "markdown",
   "metadata": {},
   "source": [
    "## Предобработка данных"
   ]
  },
  {
   "cell_type": "markdown",
   "metadata": {},
   "source": [
    "<a id=\"step_3\"></a>\n",
    "### Нахождение пропусков в данных."
   ]
  },
  {
   "cell_type": "code",
   "execution_count": 2,
   "metadata": {},
   "outputs": [
    {
     "data": {
      "text/plain": [
       "ceiling_height\n",
       "2.50    3515\n",
       "2.60    1646\n",
       "2.70    1574\n",
       "3.00    1112\n",
       "2.80     993\n",
       "        ... \n",
       "5.00       1\n",
       "2.20       1\n",
       "2.34       1\n",
       "3.93       1\n",
       "3.59       1\n",
       "Name: count, Length: 183, dtype: int64"
      ]
     },
     "execution_count": 2,
     "metadata": {},
     "output_type": "execute_result"
    }
   ],
   "source": [
    "# посмотрим на уникальные значения столбца 'ceiling_height' с учетом количества их повторений\n",
    "df['ceiling_height'].value_counts()"
   ]
  },
  {
   "cell_type": "markdown",
   "metadata": {},
   "source": [
    "Видим, что встречаются высоты потолков более 3,5 м"
   ]
  },
  {
   "cell_type": "code",
   "execution_count": 3,
   "metadata": {},
   "outputs": [
    {
     "data": {
      "text/plain": [
       "<AxesSubplot:ylabel='Frequency'>"
      ]
     },
     "execution_count": 3,
     "metadata": {},
     "output_type": "execute_result"
    },
    {
     "data": {
      "image/png": "[encoded data removed]",
      "text/plain": [
       "<Figure size 432x288 with 1 Axes>"
      ]
     },
     "metadata": {
      "needs_background": "light"
     },
     "output_type": "display_data"
    }
   ],
   "source": [
    "# посмотрим на гистограмму по данному столбцу\n",
    "df['ceiling_height'].sort_values().plot(y='ceiling_height', kind='hist', bins=20, range=(2, 4))"
   ]
  },
  {
   "cell_type": "markdown",
   "metadata": {},
   "source": [
    "Из диаграммы видим, что больштнство высот потолков в пределах от 2,5м до, примерно, 2,8м, но есть всплеск в районе 3 с небольшим метров"
   ]
  },
  {
   "cell_type": "code",
   "execution_count": 4,
   "metadata": {},
   "outputs": [
    {
     "data": {
      "text/plain": [
       "count    14504.000000\n",
       "mean         2.771499\n",
       "std          1.261056\n",
       "min          1.000000\n",
       "25%          2.520000\n",
       "50%          2.650000\n",
       "75%          2.800000\n",
       "max        100.000000\n",
       "Name: ceiling_height, dtype: float64"
      ]
     },
     "execution_count": 4,
     "metadata": {},
     "output_type": "execute_result"
    }
   ],
   "source": [
    "# посмотрим на числовое описание данных\n",
    "df['ceiling_height'].describe()"
   ]
  },
  {
   "cell_type": "markdown",
   "metadata": {},
   "source": [
    "Мы видим, что медиана не сильно отличается от среднего по данной выборке, скорее всего - просто ошибка данных"
   ]
  },
  {
   "cell_type": "code",
   "execution_count": 5,
   "metadata": {},
   "outputs": [
    {
     "data": {
      "text/html": [
       "<div>\n",
       "<style scoped>\n",
       "    .dataframe tbody tr th:only-of-type {\n",
       "        vertical-align: middle;\n",
       "    }\n",
       "\n",
       "    .dataframe tbody tr th {\n",
       "        vertical-align: top;\n",
       "    }\n",
       "\n",
       "    .dataframe thead th {\n",
       "        text-align: right;\n",
       "    }\n",
       "</style>\n",
       "<table border=\"1\" class=\"dataframe\">\n",
       "  <thead>\n",
       "    <tr style=\"text-align: right;\">\n",
       "      <th></th>\n",
       "      <th>total_images</th>\n",
       "      <th>last_price</th>\n",
       "      <th>total_area</th>\n",
       "      <th>first_day_exposition</th>\n",
       "      <th>rooms</th>\n",
       "      <th>ceiling_height</th>\n",
       "      <th>floors_total</th>\n",
       "      <th>living_area</th>\n",
       "      <th>floor</th>\n",
       "      <th>is_apartment</th>\n",
       "      <th>...</th>\n",
       "      <th>kitchen_area</th>\n",
       "      <th>balcony</th>\n",
       "      <th>locality_name</th>\n",
       "      <th>airports_nearest</th>\n",
       "      <th>cityCenters_nearest</th>\n",
       "      <th>parks_around3000</th>\n",
       "      <th>parks_nearest</th>\n",
       "      <th>ponds_around3000</th>\n",
       "      <th>ponds_nearest</th>\n",
       "      <th>days_exposition</th>\n",
       "    </tr>\n",
       "  </thead>\n",
       "  <tbody>\n",
       "    <tr>\n",
       "      <th>186</th>\n",
       "      <td>12</td>\n",
       "      <td>11640000.0</td>\n",
       "      <td>65.2</td>\n",
       "      <td>2018-10-02T00:00:00</td>\n",
       "      <td>2</td>\n",
       "      <td>NaN</td>\n",
       "      <td>NaN</td>\n",
       "      <td>30.80</td>\n",
       "      <td>4</td>\n",
       "      <td>NaN</td>\n",
       "      <td>...</td>\n",
       "      <td>12.00</td>\n",
       "      <td>NaN</td>\n",
       "      <td>Санкт-Петербург</td>\n",
       "      <td>39197.0</td>\n",
       "      <td>12373.0</td>\n",
       "      <td>1.0</td>\n",
       "      <td>123.0</td>\n",
       "      <td>0.0</td>\n",
       "      <td>NaN</td>\n",
       "      <td>49.0</td>\n",
       "    </tr>\n",
       "    <tr>\n",
       "      <th>237</th>\n",
       "      <td>4</td>\n",
       "      <td>2438033.0</td>\n",
       "      <td>28.1</td>\n",
       "      <td>2016-11-23T00:00:00</td>\n",
       "      <td>1</td>\n",
       "      <td>NaN</td>\n",
       "      <td>NaN</td>\n",
       "      <td>20.75</td>\n",
       "      <td>1</td>\n",
       "      <td>NaN</td>\n",
       "      <td>...</td>\n",
       "      <td>NaN</td>\n",
       "      <td>0.0</td>\n",
       "      <td>Санкт-Петербург</td>\n",
       "      <td>22041.0</td>\n",
       "      <td>17369.0</td>\n",
       "      <td>0.0</td>\n",
       "      <td>NaN</td>\n",
       "      <td>1.0</td>\n",
       "      <td>374.0</td>\n",
       "      <td>251.0</td>\n",
       "    </tr>\n",
       "    <tr>\n",
       "      <th>457</th>\n",
       "      <td>4</td>\n",
       "      <td>9788348.0</td>\n",
       "      <td>70.8</td>\n",
       "      <td>2015-08-01T00:00:00</td>\n",
       "      <td>2</td>\n",
       "      <td>NaN</td>\n",
       "      <td>NaN</td>\n",
       "      <td>38.40</td>\n",
       "      <td>12</td>\n",
       "      <td>NaN</td>\n",
       "      <td>...</td>\n",
       "      <td>10.63</td>\n",
       "      <td>0.0</td>\n",
       "      <td>Санкт-Петербург</td>\n",
       "      <td>37364.0</td>\n",
       "      <td>8322.0</td>\n",
       "      <td>2.0</td>\n",
       "      <td>309.0</td>\n",
       "      <td>2.0</td>\n",
       "      <td>706.0</td>\n",
       "      <td>727.0</td>\n",
       "    </tr>\n",
       "    <tr>\n",
       "      <th>671</th>\n",
       "      <td>4</td>\n",
       "      <td>6051191.0</td>\n",
       "      <td>93.6</td>\n",
       "      <td>2017-04-06T00:00:00</td>\n",
       "      <td>3</td>\n",
       "      <td>NaN</td>\n",
       "      <td>NaN</td>\n",
       "      <td>47.10</td>\n",
       "      <td>8</td>\n",
       "      <td>NaN</td>\n",
       "      <td>...</td>\n",
       "      <td>16.80</td>\n",
       "      <td>0.0</td>\n",
       "      <td>Санкт-Петербург</td>\n",
       "      <td>22041.0</td>\n",
       "      <td>17369.0</td>\n",
       "      <td>0.0</td>\n",
       "      <td>NaN</td>\n",
       "      <td>1.0</td>\n",
       "      <td>374.0</td>\n",
       "      <td>123.0</td>\n",
       "    </tr>\n",
       "    <tr>\n",
       "      <th>1757</th>\n",
       "      <td>5</td>\n",
       "      <td>3600000.0</td>\n",
       "      <td>39.0</td>\n",
       "      <td>2017-04-22T00:00:00</td>\n",
       "      <td>1</td>\n",
       "      <td>NaN</td>\n",
       "      <td>NaN</td>\n",
       "      <td>NaN</td>\n",
       "      <td>9</td>\n",
       "      <td>NaN</td>\n",
       "      <td>...</td>\n",
       "      <td>NaN</td>\n",
       "      <td>0.0</td>\n",
       "      <td>Санкт-Петербург</td>\n",
       "      <td>22735.0</td>\n",
       "      <td>11618.0</td>\n",
       "      <td>1.0</td>\n",
       "      <td>835.0</td>\n",
       "      <td>1.0</td>\n",
       "      <td>652.0</td>\n",
       "      <td>77.0</td>\n",
       "    </tr>\n",
       "    <tr>\n",
       "      <th>...</th>\n",
       "      <td>...</td>\n",
       "      <td>...</td>\n",
       "      <td>...</td>\n",
       "      <td>...</td>\n",
       "      <td>...</td>\n",
       "      <td>...</td>\n",
       "      <td>...</td>\n",
       "      <td>...</td>\n",
       "      <td>...</td>\n",
       "      <td>...</td>\n",
       "      <td>...</td>\n",
       "      <td>...</td>\n",
       "      <td>...</td>\n",
       "      <td>...</td>\n",
       "      <td>...</td>\n",
       "      <td>...</td>\n",
       "      <td>...</td>\n",
       "      <td>...</td>\n",
       "      <td>...</td>\n",
       "      <td>...</td>\n",
       "      <td>...</td>\n",
       "    </tr>\n",
       "    <tr>\n",
       "      <th>22542</th>\n",
       "      <td>5</td>\n",
       "      <td>8500000.0</td>\n",
       "      <td>63.5</td>\n",
       "      <td>2017-05-24T00:00:00</td>\n",
       "      <td>2</td>\n",
       "      <td>2.8</td>\n",
       "      <td>NaN</td>\n",
       "      <td>NaN</td>\n",
       "      <td>3</td>\n",
       "      <td>NaN</td>\n",
       "      <td>...</td>\n",
       "      <td>NaN</td>\n",
       "      <td>NaN</td>\n",
       "      <td>Санкт-Петербург</td>\n",
       "      <td>51340.0</td>\n",
       "      <td>15363.0</td>\n",
       "      <td>0.0</td>\n",
       "      <td>NaN</td>\n",
       "      <td>1.0</td>\n",
       "      <td>853.0</td>\n",
       "      <td>512.0</td>\n",
       "    </tr>\n",
       "    <tr>\n",
       "      <th>22656</th>\n",
       "      <td>4</td>\n",
       "      <td>4574160.0</td>\n",
       "      <td>64.5</td>\n",
       "      <td>2017-04-02T00:00:00</td>\n",
       "      <td>2</td>\n",
       "      <td>NaN</td>\n",
       "      <td>NaN</td>\n",
       "      <td>31.70</td>\n",
       "      <td>20</td>\n",
       "      <td>NaN</td>\n",
       "      <td>...</td>\n",
       "      <td>14.40</td>\n",
       "      <td>0.0</td>\n",
       "      <td>Санкт-Петербург</td>\n",
       "      <td>22041.0</td>\n",
       "      <td>17369.0</td>\n",
       "      <td>0.0</td>\n",
       "      <td>NaN</td>\n",
       "      <td>1.0</td>\n",
       "      <td>374.0</td>\n",
       "      <td>127.0</td>\n",
       "    </tr>\n",
       "    <tr>\n",
       "      <th>22808</th>\n",
       "      <td>0</td>\n",
       "      <td>14569263.0</td>\n",
       "      <td>110.4</td>\n",
       "      <td>2016-11-20T00:00:00</td>\n",
       "      <td>3</td>\n",
       "      <td>NaN</td>\n",
       "      <td>NaN</td>\n",
       "      <td>45.38</td>\n",
       "      <td>6</td>\n",
       "      <td>NaN</td>\n",
       "      <td>...</td>\n",
       "      <td>23.42</td>\n",
       "      <td>0.0</td>\n",
       "      <td>Санкт-Петербург</td>\n",
       "      <td>19095.0</td>\n",
       "      <td>4529.0</td>\n",
       "      <td>0.0</td>\n",
       "      <td>NaN</td>\n",
       "      <td>0.0</td>\n",
       "      <td>NaN</td>\n",
       "      <td>260.0</td>\n",
       "    </tr>\n",
       "    <tr>\n",
       "      <th>23590</th>\n",
       "      <td>0</td>\n",
       "      <td>21187872.0</td>\n",
       "      <td>123.3</td>\n",
       "      <td>2017-04-25T00:00:00</td>\n",
       "      <td>3</td>\n",
       "      <td>NaN</td>\n",
       "      <td>NaN</td>\n",
       "      <td>50.40</td>\n",
       "      <td>18</td>\n",
       "      <td>NaN</td>\n",
       "      <td>...</td>\n",
       "      <td>23.60</td>\n",
       "      <td>0.0</td>\n",
       "      <td>Санкт-Петербург</td>\n",
       "      <td>19095.0</td>\n",
       "      <td>4529.0</td>\n",
       "      <td>0.0</td>\n",
       "      <td>NaN</td>\n",
       "      <td>0.0</td>\n",
       "      <td>NaN</td>\n",
       "      <td>104.0</td>\n",
       "    </tr>\n",
       "    <tr>\n",
       "      <th>23658</th>\n",
       "      <td>6</td>\n",
       "      <td>3063600.0</td>\n",
       "      <td>43.8</td>\n",
       "      <td>2016-11-28T00:00:00</td>\n",
       "      <td>1</td>\n",
       "      <td>2.7</td>\n",
       "      <td>NaN</td>\n",
       "      <td>14.00</td>\n",
       "      <td>8</td>\n",
       "      <td>NaN</td>\n",
       "      <td>...</td>\n",
       "      <td>15.50</td>\n",
       "      <td>2.0</td>\n",
       "      <td>Санкт-Петербург</td>\n",
       "      <td>8426.0</td>\n",
       "      <td>12082.0</td>\n",
       "      <td>2.0</td>\n",
       "      <td>24.0</td>\n",
       "      <td>1.0</td>\n",
       "      <td>271.0</td>\n",
       "      <td>246.0</td>\n",
       "    </tr>\n",
       "  </tbody>\n",
       "</table>\n",
       "<p>86 rows × 22 columns</p>\n",
       "</div>"
      ],
      "text/plain": [
       "       total_images  last_price  total_area first_day_exposition  rooms  \\\n",
       "186              12  11640000.0        65.2  2018-10-02T00:00:00      2   \n",
       "237               4   2438033.0        28.1  2016-11-23T00:00:00      1   \n",
       "457               4   9788348.0        70.8  2015-08-01T00:00:00      2   \n",
       "671               4   6051191.0        93.6  2017-04-06T00:00:00      3   \n",
       "1757              5   3600000.0        39.0  2017-04-22T00:00:00      1   \n",
       "...             ...         ...         ...                  ...    ...   \n",
       "22542             5   8500000.0        63.5  2017-05-24T00:00:00      2   \n",
       "22656             4   4574160.0        64.5  2017-04-02T00:00:00      2   \n",
       "22808             0  14569263.0       110.4  2016-11-20T00:00:00      3   \n",
       "23590             0  21187872.0       123.3  2017-04-25T00:00:00      3   \n",
       "23658             6   3063600.0        43.8  2016-11-28T00:00:00      1   \n",
       "\n",
       "       ceiling_height  floors_total  living_area  floor is_apartment  ...  \\\n",
       "186               NaN           NaN        30.80      4          NaN  ...   \n",
       "237               NaN           NaN        20.75      1          NaN  ...   \n",
       "457               NaN           NaN        38.40     12          NaN  ...   \n",
       "671               NaN           NaN        47.10      8          NaN  ...   \n",
       "1757              NaN           NaN          NaN      9          NaN  ...   \n",
       "...               ...           ...          ...    ...          ...  ...   \n",
       "22542             2.8           NaN          NaN      3          NaN  ...   \n",
       "22656             NaN           NaN        31.70     20          NaN  ...   \n",
       "22808             NaN           NaN        45.38      6          NaN  ...   \n",
       "23590             NaN           NaN        50.40     18          NaN  ...   \n",
       "23658             2.7           NaN        14.00      8          NaN  ...   \n",
       "\n",
       "       kitchen_area  balcony    locality_name  airports_nearest  \\\n",
       "186           12.00      NaN  Санкт-Петербург           39197.0   \n",
       "237             NaN      0.0  Санкт-Петербург           22041.0   \n",
       "457           10.63      0.0  Санкт-Петербург           37364.0   \n",
       "671           16.80      0.0  Санкт-Петербург           22041.0   \n",
       "1757            NaN      0.0  Санкт-Петербург           22735.0   \n",
       "...             ...      ...              ...               ...   \n",
       "22542           NaN      NaN  Санкт-Петербург           51340.0   \n",
       "22656         14.40      0.0  Санкт-Петербург           22041.0   \n",
       "22808         23.42      0.0  Санкт-Петербург           19095.0   \n",
       "23590         23.60      0.0  Санкт-Петербург           19095.0   \n",
       "23658         15.50      2.0  Санкт-Петербург            8426.0   \n",
       "\n",
       "      cityCenters_nearest  parks_around3000  parks_nearest  ponds_around3000  \\\n",
       "186               12373.0               1.0          123.0               0.0   \n",
       "237               17369.0               0.0            NaN               1.0   \n",
       "457                8322.0               2.0          309.0               2.0   \n",
       "671               17369.0               0.0            NaN               1.0   \n",
       "1757              11618.0               1.0          835.0               1.0   \n",
       "...                   ...               ...            ...               ...   \n",
       "22542             15363.0               0.0            NaN               1.0   \n",
       "22656             17369.0               0.0            NaN               1.0   \n",
       "22808              4529.0               0.0            NaN               0.0   \n",
       "23590              4529.0               0.0            NaN               0.0   \n",
       "23658             12082.0               2.0           24.0               1.0   \n",
       "\n",
       "       ponds_nearest  days_exposition  \n",
       "186              NaN             49.0  \n",
       "237            374.0            251.0  \n",
       "457            706.0            727.0  \n",
       "671            374.0            123.0  \n",
       "1757           652.0             77.0  \n",
       "...              ...              ...  \n",
       "22542          853.0            512.0  \n",
       "22656          374.0            127.0  \n",
       "22808            NaN            260.0  \n",
       "23590            NaN            104.0  \n",
       "23658          271.0            246.0  \n",
       "\n",
       "[86 rows x 22 columns]"
      ]
     },
     "execution_count": 5,
     "metadata": {},
     "output_type": "execute_result"
    }
   ],
   "source": [
    "# выведем на экран датафрейм, отфильтрованный по пустым значениям в 'floors_total'\n",
    "df[df['floors_total'].isna()]"
   ]
  },
  {
   "cell_type": "markdown",
   "metadata": {},
   "source": [
    "Не видно никаких закономерностей"
   ]
  },
  {
   "cell_type": "code",
   "execution_count": 6,
   "metadata": {},
   "outputs": [
    {
     "data": {
      "text/plain": [
       "count    21796.000000\n",
       "mean        34.457852\n",
       "std         22.030445\n",
       "min          2.000000\n",
       "25%         18.600000\n",
       "50%         30.000000\n",
       "75%         42.300000\n",
       "max        409.700000\n",
       "Name: living_area, dtype: float64"
      ]
     },
     "execution_count": 6,
     "metadata": {},
     "output_type": "execute_result"
    }
   ],
   "source": [
    "# посмотрим на числовое описание данных\n",
    "df['living_area'].describe()"
   ]
  },
  {
   "cell_type": "markdown",
   "metadata": {},
   "source": [
    "Мы видим, что медиана не особо сильно отличается от среднего по данной выборке, скорее всего - просто ошибка данных"
   ]
  },
  {
   "cell_type": "code",
   "execution_count": 7,
   "metadata": {},
   "outputs": [
    {
     "data": {
      "text/plain": [
       "is_apartment\n",
       "False    2725\n",
       "True       50\n",
       "Name: count, dtype: int64"
      ]
     },
     "execution_count": 7,
     "metadata": {},
     "output_type": "execute_result"
    }
   ],
   "source": [
    "# посмотрим на уникальные значения столбца 'is_apartment' с учетом количества их повторений\n",
    "df['is_apartment'].value_counts()"
   ]
  },
  {
   "cell_type": "markdown",
   "metadata": {},
   "source": [
    "Мы видим, что из не пустых значений преобладает значение 'False'"
   ]
  },
  {
   "cell_type": "code",
   "execution_count": 8,
   "metadata": {},
   "outputs": [
    {
     "data": {
      "text/html": [
       "<div>\n",
       "<style scoped>\n",
       "    .dataframe tbody tr th:only-of-type {\n",
       "        vertical-align: middle;\n",
       "    }\n",
       "\n",
       "    .dataframe tbody tr th {\n",
       "        vertical-align: top;\n",
       "    }\n",
       "\n",
       "    .dataframe thead th {\n",
       "        text-align: right;\n",
       "    }\n",
       "</style>\n",
       "<table border=\"1\" class=\"dataframe\">\n",
       "  <thead>\n",
       "    <tr style=\"text-align: right;\">\n",
       "      <th></th>\n",
       "      <th>total_images</th>\n",
       "      <th>last_price</th>\n",
       "      <th>total_area</th>\n",
       "      <th>first_day_exposition</th>\n",
       "      <th>rooms</th>\n",
       "      <th>ceiling_height</th>\n",
       "      <th>floors_total</th>\n",
       "      <th>living_area</th>\n",
       "      <th>floor</th>\n",
       "      <th>is_apartment</th>\n",
       "      <th>...</th>\n",
       "      <th>kitchen_area</th>\n",
       "      <th>balcony</th>\n",
       "      <th>locality_name</th>\n",
       "      <th>airports_nearest</th>\n",
       "      <th>cityCenters_nearest</th>\n",
       "      <th>parks_around3000</th>\n",
       "      <th>parks_nearest</th>\n",
       "      <th>ponds_around3000</th>\n",
       "      <th>ponds_nearest</th>\n",
       "      <th>days_exposition</th>\n",
       "    </tr>\n",
       "  </thead>\n",
       "  <tbody>\n",
       "    <tr>\n",
       "      <th>543</th>\n",
       "      <td>11</td>\n",
       "      <td>12790000.0</td>\n",
       "      <td>56.6</td>\n",
       "      <td>2018-11-06T00:00:00</td>\n",
       "      <td>2</td>\n",
       "      <td>3.50</td>\n",
       "      <td>3.0</td>\n",
       "      <td>29.40</td>\n",
       "      <td>1</td>\n",
       "      <td>True</td>\n",
       "      <td>...</td>\n",
       "      <td>NaN</td>\n",
       "      <td>NaN</td>\n",
       "      <td>Петергоф</td>\n",
       "      <td>35248.0</td>\n",
       "      <td>30437.0</td>\n",
       "      <td>3.0</td>\n",
       "      <td>53.0</td>\n",
       "      <td>3.0</td>\n",
       "      <td>22.0</td>\n",
       "      <td>NaN</td>\n",
       "    </tr>\n",
       "    <tr>\n",
       "      <th>916</th>\n",
       "      <td>11</td>\n",
       "      <td>8183000.0</td>\n",
       "      <td>70.0</td>\n",
       "      <td>2018-01-11T00:00:00</td>\n",
       "      <td>2</td>\n",
       "      <td>3.12</td>\n",
       "      <td>3.0</td>\n",
       "      <td>40.00</td>\n",
       "      <td>3</td>\n",
       "      <td>True</td>\n",
       "      <td>...</td>\n",
       "      <td>NaN</td>\n",
       "      <td>2.0</td>\n",
       "      <td>Санкт-Петербург</td>\n",
       "      <td>45796.0</td>\n",
       "      <td>21729.0</td>\n",
       "      <td>0.0</td>\n",
       "      <td>NaN</td>\n",
       "      <td>1.0</td>\n",
       "      <td>754.0</td>\n",
       "      <td>179.0</td>\n",
       "    </tr>\n",
       "    <tr>\n",
       "      <th>1109</th>\n",
       "      <td>1</td>\n",
       "      <td>34878556.0</td>\n",
       "      <td>95.8</td>\n",
       "      <td>2014-12-09T00:00:00</td>\n",
       "      <td>2</td>\n",
       "      <td>NaN</td>\n",
       "      <td>6.0</td>\n",
       "      <td>58.30</td>\n",
       "      <td>5</td>\n",
       "      <td>True</td>\n",
       "      <td>...</td>\n",
       "      <td>20.00</td>\n",
       "      <td>1.0</td>\n",
       "      <td>Санкт-Петербург</td>\n",
       "      <td>21860.0</td>\n",
       "      <td>318.0</td>\n",
       "      <td>2.0</td>\n",
       "      <td>160.0</td>\n",
       "      <td>3.0</td>\n",
       "      <td>569.0</td>\n",
       "      <td>1572.0</td>\n",
       "    </tr>\n",
       "    <tr>\n",
       "      <th>1608</th>\n",
       "      <td>12</td>\n",
       "      <td>2150000.0</td>\n",
       "      <td>20.1</td>\n",
       "      <td>2019-01-30T00:00:00</td>\n",
       "      <td>1</td>\n",
       "      <td>NaN</td>\n",
       "      <td>9.0</td>\n",
       "      <td>NaN</td>\n",
       "      <td>1</td>\n",
       "      <td>True</td>\n",
       "      <td>...</td>\n",
       "      <td>NaN</td>\n",
       "      <td>NaN</td>\n",
       "      <td>Санкт-Петербург</td>\n",
       "      <td>26646.0</td>\n",
       "      <td>12147.0</td>\n",
       "      <td>0.0</td>\n",
       "      <td>NaN</td>\n",
       "      <td>0.0</td>\n",
       "      <td>NaN</td>\n",
       "      <td>13.0</td>\n",
       "    </tr>\n",
       "    <tr>\n",
       "      <th>2759</th>\n",
       "      <td>11</td>\n",
       "      <td>7500000.0</td>\n",
       "      <td>152.0</td>\n",
       "      <td>2018-07-27T00:00:00</td>\n",
       "      <td>3</td>\n",
       "      <td>3.00</td>\n",
       "      <td>3.0</td>\n",
       "      <td>NaN</td>\n",
       "      <td>1</td>\n",
       "      <td>True</td>\n",
       "      <td>...</td>\n",
       "      <td>NaN</td>\n",
       "      <td>1.0</td>\n",
       "      <td>Всеволожск</td>\n",
       "      <td>NaN</td>\n",
       "      <td>NaN</td>\n",
       "      <td>NaN</td>\n",
       "      <td>NaN</td>\n",
       "      <td>NaN</td>\n",
       "      <td>NaN</td>\n",
       "      <td>7.0</td>\n",
       "    </tr>\n",
       "    <tr>\n",
       "      <th>2975</th>\n",
       "      <td>9</td>\n",
       "      <td>4931398.0</td>\n",
       "      <td>42.9</td>\n",
       "      <td>2018-07-23T00:00:00</td>\n",
       "      <td>1</td>\n",
       "      <td>3.15</td>\n",
       "      <td>4.0</td>\n",
       "      <td>20.39</td>\n",
       "      <td>3</td>\n",
       "      <td>True</td>\n",
       "      <td>...</td>\n",
       "      <td>10.29</td>\n",
       "      <td>NaN</td>\n",
       "      <td>Санкт-Петербург</td>\n",
       "      <td>44870.0</td>\n",
       "      <td>20802.0</td>\n",
       "      <td>0.0</td>\n",
       "      <td>NaN</td>\n",
       "      <td>1.0</td>\n",
       "      <td>792.0</td>\n",
       "      <td>273.0</td>\n",
       "    </tr>\n",
       "    <tr>\n",
       "      <th>3067</th>\n",
       "      <td>13</td>\n",
       "      <td>6600000.0</td>\n",
       "      <td>95.0</td>\n",
       "      <td>2018-09-08T00:00:00</td>\n",
       "      <td>2</td>\n",
       "      <td>4.50</td>\n",
       "      <td>7.0</td>\n",
       "      <td>45.00</td>\n",
       "      <td>7</td>\n",
       "      <td>True</td>\n",
       "      <td>...</td>\n",
       "      <td>25.00</td>\n",
       "      <td>2.0</td>\n",
       "      <td>Выборг</td>\n",
       "      <td>NaN</td>\n",
       "      <td>NaN</td>\n",
       "      <td>NaN</td>\n",
       "      <td>NaN</td>\n",
       "      <td>NaN</td>\n",
       "      <td>NaN</td>\n",
       "      <td>96.0</td>\n",
       "    </tr>\n",
       "    <tr>\n",
       "      <th>3816</th>\n",
       "      <td>4</td>\n",
       "      <td>4779000.0</td>\n",
       "      <td>53.1</td>\n",
       "      <td>2016-05-16T00:00:00</td>\n",
       "      <td>1</td>\n",
       "      <td>NaN</td>\n",
       "      <td>13.0</td>\n",
       "      <td>19.80</td>\n",
       "      <td>6</td>\n",
       "      <td>True</td>\n",
       "      <td>...</td>\n",
       "      <td>15.90</td>\n",
       "      <td>2.0</td>\n",
       "      <td>Санкт-Петербург</td>\n",
       "      <td>19396.0</td>\n",
       "      <td>4516.0</td>\n",
       "      <td>0.0</td>\n",
       "      <td>NaN</td>\n",
       "      <td>1.0</td>\n",
       "      <td>826.0</td>\n",
       "      <td>60.0</td>\n",
       "    </tr>\n",
       "    <tr>\n",
       "      <th>3951</th>\n",
       "      <td>10</td>\n",
       "      <td>4300000.0</td>\n",
       "      <td>50.0</td>\n",
       "      <td>2019-04-20T00:00:00</td>\n",
       "      <td>1</td>\n",
       "      <td>3.00</td>\n",
       "      <td>11.0</td>\n",
       "      <td>17.00</td>\n",
       "      <td>9</td>\n",
       "      <td>True</td>\n",
       "      <td>...</td>\n",
       "      <td>12.00</td>\n",
       "      <td>2.0</td>\n",
       "      <td>Санкт-Петербург</td>\n",
       "      <td>10143.0</td>\n",
       "      <td>11367.0</td>\n",
       "      <td>0.0</td>\n",
       "      <td>NaN</td>\n",
       "      <td>0.0</td>\n",
       "      <td>NaN</td>\n",
       "      <td>NaN</td>\n",
       "    </tr>\n",
       "    <tr>\n",
       "      <th>4339</th>\n",
       "      <td>19</td>\n",
       "      <td>6900000.0</td>\n",
       "      <td>72.0</td>\n",
       "      <td>2019-03-25T00:00:00</td>\n",
       "      <td>3</td>\n",
       "      <td>3.50</td>\n",
       "      <td>4.0</td>\n",
       "      <td>70.00</td>\n",
       "      <td>1</td>\n",
       "      <td>True</td>\n",
       "      <td>...</td>\n",
       "      <td>NaN</td>\n",
       "      <td>NaN</td>\n",
       "      <td>Санкт-Петербург</td>\n",
       "      <td>31487.0</td>\n",
       "      <td>4466.0</td>\n",
       "      <td>2.0</td>\n",
       "      <td>353.0</td>\n",
       "      <td>1.0</td>\n",
       "      <td>439.0</td>\n",
       "      <td>22.0</td>\n",
       "    </tr>\n",
       "  </tbody>\n",
       "</table>\n",
       "<p>10 rows × 22 columns</p>\n",
       "</div>"
      ],
      "text/plain": [
       "      total_images  last_price  total_area first_day_exposition  rooms  \\\n",
       "543             11  12790000.0        56.6  2018-11-06T00:00:00      2   \n",
       "916             11   8183000.0        70.0  2018-01-11T00:00:00      2   \n",
       "1109             1  34878556.0        95.8  2014-12-09T00:00:00      2   \n",
       "1608            12   2150000.0        20.1  2019-01-30T00:00:00      1   \n",
       "2759            11   7500000.0       152.0  2018-07-27T00:00:00      3   \n",
       "2975             9   4931398.0        42.9  2018-07-23T00:00:00      1   \n",
       "3067            13   6600000.0        95.0  2018-09-08T00:00:00      2   \n",
       "3816             4   4779000.0        53.1  2016-05-16T00:00:00      1   \n",
       "3951            10   4300000.0        50.0  2019-04-20T00:00:00      1   \n",
       "4339            19   6900000.0        72.0  2019-03-25T00:00:00      3   \n",
       "\n",
       "      ceiling_height  floors_total  living_area  floor is_apartment  ...  \\\n",
       "543             3.50           3.0        29.40      1         True  ...   \n",
       "916             3.12           3.0        40.00      3         True  ...   \n",
       "1109             NaN           6.0        58.30      5         True  ...   \n",
       "1608             NaN           9.0          NaN      1         True  ...   \n",
       "2759            3.00           3.0          NaN      1         True  ...   \n",
       "2975            3.15           4.0        20.39      3         True  ...   \n",
       "3067            4.50           7.0        45.00      7         True  ...   \n",
       "3816             NaN          13.0        19.80      6         True  ...   \n",
       "3951            3.00          11.0        17.00      9         True  ...   \n",
       "4339            3.50           4.0        70.00      1         True  ...   \n",
       "\n",
       "      kitchen_area  balcony    locality_name  airports_nearest  \\\n",
       "543            NaN      NaN         Петергоф           35248.0   \n",
       "916            NaN      2.0  Санкт-Петербург           45796.0   \n",
       "1109         20.00      1.0  Санкт-Петербург           21860.0   \n",
       "1608           NaN      NaN  Санкт-Петербург           26646.0   \n",
       "2759           NaN      1.0       Всеволожск               NaN   \n",
       "2975         10.29      NaN  Санкт-Петербург           44870.0   \n",
       "3067         25.00      2.0           Выборг               NaN   \n",
       "3816         15.90      2.0  Санкт-Петербург           19396.0   \n",
       "3951         12.00      2.0  Санкт-Петербург           10143.0   \n",
       "4339           NaN      NaN  Санкт-Петербург           31487.0   \n",
       "\n",
       "     cityCenters_nearest  parks_around3000  parks_nearest  ponds_around3000  \\\n",
       "543              30437.0               3.0           53.0               3.0   \n",
       "916              21729.0               0.0            NaN               1.0   \n",
       "1109               318.0               2.0          160.0               3.0   \n",
       "1608             12147.0               0.0            NaN               0.0   \n",
       "2759                 NaN               NaN            NaN               NaN   \n",
       "2975             20802.0               0.0            NaN               1.0   \n",
       "3067                 NaN               NaN            NaN               NaN   \n",
       "3816              4516.0               0.0            NaN               1.0   \n",
       "3951             11367.0               0.0            NaN               0.0   \n",
       "4339              4466.0               2.0          353.0               1.0   \n",
       "\n",
       "      ponds_nearest  days_exposition  \n",
       "543            22.0              NaN  \n",
       "916           754.0            179.0  \n",
       "1109          569.0           1572.0  \n",
       "1608            NaN             13.0  \n",
       "2759            NaN              7.0  \n",
       "2975          792.0            273.0  \n",
       "3067            NaN             96.0  \n",
       "3816          826.0             60.0  \n",
       "3951            NaN              NaN  \n",
       "4339          439.0             22.0  \n",
       "\n",
       "[10 rows x 22 columns]"
      ]
     },
     "execution_count": 8,
     "metadata": {},
     "output_type": "execute_result"
    }
   ],
   "source": [
    "# выведем на экран 10 первых строк датафрейма отфильтрованного по 'is_apartment' == True\n",
    "df[df['is_apartment'] == True].head(10)"
   ]
  },
  {
   "cell_type": "markdown",
   "metadata": {},
   "source": [
    "Наблюдаем, что в строки попали объявления от 2014 года и позже, с объявленной жилой площадью и нет, с площадью кухни и без"
   ]
  },
  {
   "cell_type": "code",
   "execution_count": 9,
   "metadata": {},
   "outputs": [
    {
     "data": {
      "text/html": [
       "<div>\n",
       "<style scoped>\n",
       "    .dataframe tbody tr th:only-of-type {\n",
       "        vertical-align: middle;\n",
       "    }\n",
       "\n",
       "    .dataframe tbody tr th {\n",
       "        vertical-align: top;\n",
       "    }\n",
       "\n",
       "    .dataframe thead th {\n",
       "        text-align: right;\n",
       "    }\n",
       "</style>\n",
       "<table border=\"1\" class=\"dataframe\">\n",
       "  <thead>\n",
       "    <tr style=\"text-align: right;\">\n",
       "      <th></th>\n",
       "      <th>total_images</th>\n",
       "      <th>last_price</th>\n",
       "      <th>total_area</th>\n",
       "      <th>first_day_exposition</th>\n",
       "      <th>rooms</th>\n",
       "      <th>ceiling_height</th>\n",
       "      <th>floors_total</th>\n",
       "      <th>living_area</th>\n",
       "      <th>floor</th>\n",
       "      <th>is_apartment</th>\n",
       "      <th>...</th>\n",
       "      <th>kitchen_area</th>\n",
       "      <th>balcony</th>\n",
       "      <th>locality_name</th>\n",
       "      <th>airports_nearest</th>\n",
       "      <th>cityCenters_nearest</th>\n",
       "      <th>parks_around3000</th>\n",
       "      <th>parks_nearest</th>\n",
       "      <th>ponds_around3000</th>\n",
       "      <th>ponds_nearest</th>\n",
       "      <th>days_exposition</th>\n",
       "    </tr>\n",
       "  </thead>\n",
       "  <tbody>\n",
       "    <tr>\n",
       "      <th>3</th>\n",
       "      <td>0</td>\n",
       "      <td>64900000.0</td>\n",
       "      <td>159.0</td>\n",
       "      <td>2015-07-24T00:00:00</td>\n",
       "      <td>3</td>\n",
       "      <td>NaN</td>\n",
       "      <td>14.0</td>\n",
       "      <td>NaN</td>\n",
       "      <td>9</td>\n",
       "      <td>NaN</td>\n",
       "      <td>...</td>\n",
       "      <td>NaN</td>\n",
       "      <td>0.0</td>\n",
       "      <td>Санкт-Петербург</td>\n",
       "      <td>28098.0</td>\n",
       "      <td>6800.0</td>\n",
       "      <td>2.0</td>\n",
       "      <td>84.0</td>\n",
       "      <td>3.0</td>\n",
       "      <td>234.0</td>\n",
       "      <td>424.0</td>\n",
       "    </tr>\n",
       "    <tr>\n",
       "      <th>30</th>\n",
       "      <td>12</td>\n",
       "      <td>2200000.0</td>\n",
       "      <td>32.8</td>\n",
       "      <td>2018-02-19T00:00:00</td>\n",
       "      <td>1</td>\n",
       "      <td>NaN</td>\n",
       "      <td>9.0</td>\n",
       "      <td>NaN</td>\n",
       "      <td>2</td>\n",
       "      <td>NaN</td>\n",
       "      <td>...</td>\n",
       "      <td>NaN</td>\n",
       "      <td>NaN</td>\n",
       "      <td>Коммунар</td>\n",
       "      <td>NaN</td>\n",
       "      <td>NaN</td>\n",
       "      <td>NaN</td>\n",
       "      <td>NaN</td>\n",
       "      <td>NaN</td>\n",
       "      <td>NaN</td>\n",
       "      <td>63.0</td>\n",
       "    </tr>\n",
       "    <tr>\n",
       "      <th>37</th>\n",
       "      <td>10</td>\n",
       "      <td>1990000.0</td>\n",
       "      <td>45.8</td>\n",
       "      <td>2017-10-28T00:00:00</td>\n",
       "      <td>2</td>\n",
       "      <td>2.50</td>\n",
       "      <td>5.0</td>\n",
       "      <td>NaN</td>\n",
       "      <td>1</td>\n",
       "      <td>NaN</td>\n",
       "      <td>...</td>\n",
       "      <td>NaN</td>\n",
       "      <td>NaN</td>\n",
       "      <td>поселок городского типа Красный Бор</td>\n",
       "      <td>NaN</td>\n",
       "      <td>NaN</td>\n",
       "      <td>NaN</td>\n",
       "      <td>NaN</td>\n",
       "      <td>NaN</td>\n",
       "      <td>NaN</td>\n",
       "      <td>196.0</td>\n",
       "    </tr>\n",
       "    <tr>\n",
       "      <th>44</th>\n",
       "      <td>13</td>\n",
       "      <td>5350000.0</td>\n",
       "      <td>40.0</td>\n",
       "      <td>2018-11-18T00:00:00</td>\n",
       "      <td>1</td>\n",
       "      <td>NaN</td>\n",
       "      <td>22.0</td>\n",
       "      <td>NaN</td>\n",
       "      <td>3</td>\n",
       "      <td>NaN</td>\n",
       "      <td>...</td>\n",
       "      <td>NaN</td>\n",
       "      <td>1.0</td>\n",
       "      <td>Санкт-Петербург</td>\n",
       "      <td>30471.0</td>\n",
       "      <td>11603.0</td>\n",
       "      <td>1.0</td>\n",
       "      <td>620.0</td>\n",
       "      <td>1.0</td>\n",
       "      <td>1152.0</td>\n",
       "      <td>NaN</td>\n",
       "    </tr>\n",
       "    <tr>\n",
       "      <th>59</th>\n",
       "      <td>15</td>\n",
       "      <td>6300000.0</td>\n",
       "      <td>46.5</td>\n",
       "      <td>2017-03-06T00:00:00</td>\n",
       "      <td>1</td>\n",
       "      <td>NaN</td>\n",
       "      <td>13.0</td>\n",
       "      <td>NaN</td>\n",
       "      <td>13</td>\n",
       "      <td>NaN</td>\n",
       "      <td>...</td>\n",
       "      <td>NaN</td>\n",
       "      <td>NaN</td>\n",
       "      <td>Санкт-Петербург</td>\n",
       "      <td>11125.0</td>\n",
       "      <td>14501.0</td>\n",
       "      <td>0.0</td>\n",
       "      <td>NaN</td>\n",
       "      <td>0.0</td>\n",
       "      <td>NaN</td>\n",
       "      <td>336.0</td>\n",
       "    </tr>\n",
       "    <tr>\n",
       "      <th>...</th>\n",
       "      <td>...</td>\n",
       "      <td>...</td>\n",
       "      <td>...</td>\n",
       "      <td>...</td>\n",
       "      <td>...</td>\n",
       "      <td>...</td>\n",
       "      <td>...</td>\n",
       "      <td>...</td>\n",
       "      <td>...</td>\n",
       "      <td>...</td>\n",
       "      <td>...</td>\n",
       "      <td>...</td>\n",
       "      <td>...</td>\n",
       "      <td>...</td>\n",
       "      <td>...</td>\n",
       "      <td>...</td>\n",
       "      <td>...</td>\n",
       "      <td>...</td>\n",
       "      <td>...</td>\n",
       "      <td>...</td>\n",
       "      <td>...</td>\n",
       "    </tr>\n",
       "    <tr>\n",
       "      <th>23655</th>\n",
       "      <td>1</td>\n",
       "      <td>2414306.0</td>\n",
       "      <td>40.5</td>\n",
       "      <td>2016-09-08T00:00:00</td>\n",
       "      <td>1</td>\n",
       "      <td>2.56</td>\n",
       "      <td>18.0</td>\n",
       "      <td>19.6</td>\n",
       "      <td>10</td>\n",
       "      <td>False</td>\n",
       "      <td>...</td>\n",
       "      <td>NaN</td>\n",
       "      <td>NaN</td>\n",
       "      <td>Никольское</td>\n",
       "      <td>NaN</td>\n",
       "      <td>NaN</td>\n",
       "      <td>NaN</td>\n",
       "      <td>NaN</td>\n",
       "      <td>NaN</td>\n",
       "      <td>NaN</td>\n",
       "      <td>627.0</td>\n",
       "    </tr>\n",
       "    <tr>\n",
       "      <th>23663</th>\n",
       "      <td>12</td>\n",
       "      <td>6400000.0</td>\n",
       "      <td>88.0</td>\n",
       "      <td>2018-01-12T00:00:00</td>\n",
       "      <td>4</td>\n",
       "      <td>2.55</td>\n",
       "      <td>10.0</td>\n",
       "      <td>NaN</td>\n",
       "      <td>1</td>\n",
       "      <td>NaN</td>\n",
       "      <td>...</td>\n",
       "      <td>NaN</td>\n",
       "      <td>NaN</td>\n",
       "      <td>Санкт-Петербург</td>\n",
       "      <td>33642.0</td>\n",
       "      <td>13943.0</td>\n",
       "      <td>0.0</td>\n",
       "      <td>NaN</td>\n",
       "      <td>2.0</td>\n",
       "      <td>844.0</td>\n",
       "      <td>59.0</td>\n",
       "    </tr>\n",
       "    <tr>\n",
       "      <th>23670</th>\n",
       "      <td>9</td>\n",
       "      <td>2450000.0</td>\n",
       "      <td>45.6</td>\n",
       "      <td>2018-02-08T00:00:00</td>\n",
       "      <td>1</td>\n",
       "      <td>2.80</td>\n",
       "      <td>9.0</td>\n",
       "      <td>NaN</td>\n",
       "      <td>2</td>\n",
       "      <td>NaN</td>\n",
       "      <td>...</td>\n",
       "      <td>NaN</td>\n",
       "      <td>NaN</td>\n",
       "      <td>поселок городского типа Синявино</td>\n",
       "      <td>NaN</td>\n",
       "      <td>NaN</td>\n",
       "      <td>NaN</td>\n",
       "      <td>NaN</td>\n",
       "      <td>NaN</td>\n",
       "      <td>NaN</td>\n",
       "      <td>45.0</td>\n",
       "    </tr>\n",
       "    <tr>\n",
       "      <th>23679</th>\n",
       "      <td>0</td>\n",
       "      <td>2500000.0</td>\n",
       "      <td>35.0</td>\n",
       "      <td>2017-12-08T00:00:00</td>\n",
       "      <td>1</td>\n",
       "      <td>NaN</td>\n",
       "      <td>9.0</td>\n",
       "      <td>NaN</td>\n",
       "      <td>4</td>\n",
       "      <td>NaN</td>\n",
       "      <td>...</td>\n",
       "      <td>NaN</td>\n",
       "      <td>NaN</td>\n",
       "      <td>Сосновый Бор</td>\n",
       "      <td>NaN</td>\n",
       "      <td>NaN</td>\n",
       "      <td>NaN</td>\n",
       "      <td>NaN</td>\n",
       "      <td>NaN</td>\n",
       "      <td>NaN</td>\n",
       "      <td>45.0</td>\n",
       "    </tr>\n",
       "    <tr>\n",
       "      <th>23696</th>\n",
       "      <td>18</td>\n",
       "      <td>2500000.0</td>\n",
       "      <td>56.7</td>\n",
       "      <td>2018-02-11T00:00:00</td>\n",
       "      <td>2</td>\n",
       "      <td>NaN</td>\n",
       "      <td>3.0</td>\n",
       "      <td>29.7</td>\n",
       "      <td>1</td>\n",
       "      <td>NaN</td>\n",
       "      <td>...</td>\n",
       "      <td>NaN</td>\n",
       "      <td>NaN</td>\n",
       "      <td>село Рождествено</td>\n",
       "      <td>NaN</td>\n",
       "      <td>NaN</td>\n",
       "      <td>NaN</td>\n",
       "      <td>NaN</td>\n",
       "      <td>NaN</td>\n",
       "      <td>NaN</td>\n",
       "      <td>NaN</td>\n",
       "    </tr>\n",
       "  </tbody>\n",
       "</table>\n",
       "<p>2278 rows × 22 columns</p>\n",
       "</div>"
      ],
      "text/plain": [
       "       total_images  last_price  total_area first_day_exposition  rooms  \\\n",
       "3                 0  64900000.0       159.0  2015-07-24T00:00:00      3   \n",
       "30               12   2200000.0        32.8  2018-02-19T00:00:00      1   \n",
       "37               10   1990000.0        45.8  2017-10-28T00:00:00      2   \n",
       "44               13   5350000.0        40.0  2018-11-18T00:00:00      1   \n",
       "59               15   6300000.0        46.5  2017-03-06T00:00:00      1   \n",
       "...             ...         ...         ...                  ...    ...   \n",
       "23655             1   2414306.0        40.5  2016-09-08T00:00:00      1   \n",
       "23663            12   6400000.0        88.0  2018-01-12T00:00:00      4   \n",
       "23670             9   2450000.0        45.6  2018-02-08T00:00:00      1   \n",
       "23679             0   2500000.0        35.0  2017-12-08T00:00:00      1   \n",
       "23696            18   2500000.0        56.7  2018-02-11T00:00:00      2   \n",
       "\n",
       "       ceiling_height  floors_total  living_area  floor is_apartment  ...  \\\n",
       "3                 NaN          14.0          NaN      9          NaN  ...   \n",
       "30                NaN           9.0          NaN      2          NaN  ...   \n",
       "37               2.50           5.0          NaN      1          NaN  ...   \n",
       "44                NaN          22.0          NaN      3          NaN  ...   \n",
       "59                NaN          13.0          NaN     13          NaN  ...   \n",
       "...               ...           ...          ...    ...          ...  ...   \n",
       "23655            2.56          18.0         19.6     10        False  ...   \n",
       "23663            2.55          10.0          NaN      1          NaN  ...   \n",
       "23670            2.80           9.0          NaN      2          NaN  ...   \n",
       "23679             NaN           9.0          NaN      4          NaN  ...   \n",
       "23696             NaN           3.0         29.7      1          NaN  ...   \n",
       "\n",
       "       kitchen_area  balcony                        locality_name  \\\n",
       "3               NaN      0.0                      Санкт-Петербург   \n",
       "30              NaN      NaN                             Коммунар   \n",
       "37              NaN      NaN  поселок городского типа Красный Бор   \n",
       "44              NaN      1.0                      Санкт-Петербург   \n",
       "59              NaN      NaN                      Санкт-Петербург   \n",
       "...             ...      ...                                  ...   \n",
       "23655           NaN      NaN                           Никольское   \n",
       "23663           NaN      NaN                      Санкт-Петербург   \n",
       "23670           NaN      NaN     поселок городского типа Синявино   \n",
       "23679           NaN      NaN                         Сосновый Бор   \n",
       "23696           NaN      NaN                     село Рождествено   \n",
       "\n",
       "       airports_nearest cityCenters_nearest  parks_around3000  parks_nearest  \\\n",
       "3               28098.0              6800.0               2.0           84.0   \n",
       "30                  NaN                 NaN               NaN            NaN   \n",
       "37                  NaN                 NaN               NaN            NaN   \n",
       "44              30471.0             11603.0               1.0          620.0   \n",
       "59              11125.0             14501.0               0.0            NaN   \n",
       "...                 ...                 ...               ...            ...   \n",
       "23655               NaN                 NaN               NaN            NaN   \n",
       "23663           33642.0             13943.0               0.0            NaN   \n",
       "23670               NaN                 NaN               NaN            NaN   \n",
       "23679               NaN                 NaN               NaN            NaN   \n",
       "23696               NaN                 NaN               NaN            NaN   \n",
       "\n",
       "       ponds_around3000  ponds_nearest  days_exposition  \n",
       "3                   3.0          234.0            424.0  \n",
       "30                  NaN            NaN             63.0  \n",
       "37                  NaN            NaN            196.0  \n",
       "44                  1.0         1152.0              NaN  \n",
       "59                  0.0            NaN            336.0  \n",
       "...                 ...            ...              ...  \n",
       "23655               NaN            NaN            627.0  \n",
       "23663               2.0          844.0             59.0  \n",
       "23670               NaN            NaN             45.0  \n",
       "23679               NaN            NaN             45.0  \n",
       "23696               NaN            NaN              NaN  \n",
       "\n",
       "[2278 rows x 22 columns]"
      ]
     },
     "execution_count": 9,
     "metadata": {},
     "output_type": "execute_result"
    }
   ],
   "source": [
    "# выведем на экран датафрейм, отфильтрованный по пустым значениям в 'kitchen_area'\n",
    "df[df ['kitchen_area'].isna()]"
   ]
  },
  {
   "cell_type": "markdown",
   "metadata": {},
   "source": [
    "Не видно никаких закономерностей"
   ]
  },
  {
   "cell_type": "code",
   "execution_count": 10,
   "metadata": {},
   "outputs": [
    {
     "data": {
      "text/html": [
       "<div>\n",
       "<style scoped>\n",
       "    .dataframe tbody tr th:only-of-type {\n",
       "        vertical-align: middle;\n",
       "    }\n",
       "\n",
       "    .dataframe tbody tr th {\n",
       "        vertical-align: top;\n",
       "    }\n",
       "\n",
       "    .dataframe thead th {\n",
       "        text-align: right;\n",
       "    }\n",
       "</style>\n",
       "<table border=\"1\" class=\"dataframe\">\n",
       "  <thead>\n",
       "    <tr style=\"text-align: right;\">\n",
       "      <th></th>\n",
       "      <th>total_images</th>\n",
       "      <th>last_price</th>\n",
       "      <th>total_area</th>\n",
       "      <th>first_day_exposition</th>\n",
       "      <th>rooms</th>\n",
       "      <th>ceiling_height</th>\n",
       "      <th>floors_total</th>\n",
       "      <th>living_area</th>\n",
       "      <th>floor</th>\n",
       "      <th>is_apartment</th>\n",
       "      <th>...</th>\n",
       "      <th>kitchen_area</th>\n",
       "      <th>balcony</th>\n",
       "      <th>locality_name</th>\n",
       "      <th>airports_nearest</th>\n",
       "      <th>cityCenters_nearest</th>\n",
       "      <th>parks_around3000</th>\n",
       "      <th>parks_nearest</th>\n",
       "      <th>ponds_around3000</th>\n",
       "      <th>ponds_nearest</th>\n",
       "      <th>days_exposition</th>\n",
       "    </tr>\n",
       "  </thead>\n",
       "  <tbody>\n",
       "    <tr>\n",
       "      <th>1097</th>\n",
       "      <td>3</td>\n",
       "      <td>8600000.0</td>\n",
       "      <td>81.70</td>\n",
       "      <td>2016-04-15T00:00:00</td>\n",
       "      <td>3</td>\n",
       "      <td>3.55</td>\n",
       "      <td>5.0</td>\n",
       "      <td>50.80</td>\n",
       "      <td>2</td>\n",
       "      <td>NaN</td>\n",
       "      <td>...</td>\n",
       "      <td>8.80</td>\n",
       "      <td>0.0</td>\n",
       "      <td>NaN</td>\n",
       "      <td>23478.0</td>\n",
       "      <td>4258.0</td>\n",
       "      <td>0.0</td>\n",
       "      <td>NaN</td>\n",
       "      <td>0.0</td>\n",
       "      <td>NaN</td>\n",
       "      <td>147.0</td>\n",
       "    </tr>\n",
       "    <tr>\n",
       "      <th>2033</th>\n",
       "      <td>6</td>\n",
       "      <td>5398000.0</td>\n",
       "      <td>80.00</td>\n",
       "      <td>2017-05-30T00:00:00</td>\n",
       "      <td>3</td>\n",
       "      <td>NaN</td>\n",
       "      <td>4.0</td>\n",
       "      <td>42.60</td>\n",
       "      <td>2</td>\n",
       "      <td>NaN</td>\n",
       "      <td>...</td>\n",
       "      <td>18.60</td>\n",
       "      <td>0.0</td>\n",
       "      <td>NaN</td>\n",
       "      <td>NaN</td>\n",
       "      <td>NaN</td>\n",
       "      <td>NaN</td>\n",
       "      <td>NaN</td>\n",
       "      <td>NaN</td>\n",
       "      <td>NaN</td>\n",
       "      <td>34.0</td>\n",
       "    </tr>\n",
       "    <tr>\n",
       "      <th>2603</th>\n",
       "      <td>20</td>\n",
       "      <td>3351765.0</td>\n",
       "      <td>42.70</td>\n",
       "      <td>2015-09-20T00:00:00</td>\n",
       "      <td>1</td>\n",
       "      <td>NaN</td>\n",
       "      <td>24.0</td>\n",
       "      <td>15.60</td>\n",
       "      <td>3</td>\n",
       "      <td>NaN</td>\n",
       "      <td>...</td>\n",
       "      <td>10.70</td>\n",
       "      <td>0.0</td>\n",
       "      <td>NaN</td>\n",
       "      <td>22041.0</td>\n",
       "      <td>17369.0</td>\n",
       "      <td>0.0</td>\n",
       "      <td>NaN</td>\n",
       "      <td>1.0</td>\n",
       "      <td>374.0</td>\n",
       "      <td>276.0</td>\n",
       "    </tr>\n",
       "    <tr>\n",
       "      <th>2632</th>\n",
       "      <td>2</td>\n",
       "      <td>5130593.0</td>\n",
       "      <td>62.40</td>\n",
       "      <td>2015-10-11T00:00:00</td>\n",
       "      <td>2</td>\n",
       "      <td>NaN</td>\n",
       "      <td>24.0</td>\n",
       "      <td>33.10</td>\n",
       "      <td>21</td>\n",
       "      <td>NaN</td>\n",
       "      <td>...</td>\n",
       "      <td>8.20</td>\n",
       "      <td>0.0</td>\n",
       "      <td>NaN</td>\n",
       "      <td>22041.0</td>\n",
       "      <td>17369.0</td>\n",
       "      <td>0.0</td>\n",
       "      <td>NaN</td>\n",
       "      <td>1.0</td>\n",
       "      <td>374.0</td>\n",
       "      <td>256.0</td>\n",
       "    </tr>\n",
       "    <tr>\n",
       "      <th>3574</th>\n",
       "      <td>10</td>\n",
       "      <td>4200000.0</td>\n",
       "      <td>46.50</td>\n",
       "      <td>2016-05-28T00:00:00</td>\n",
       "      <td>2</td>\n",
       "      <td>NaN</td>\n",
       "      <td>5.0</td>\n",
       "      <td>30.80</td>\n",
       "      <td>5</td>\n",
       "      <td>NaN</td>\n",
       "      <td>...</td>\n",
       "      <td>6.50</td>\n",
       "      <td>0.0</td>\n",
       "      <td>NaN</td>\n",
       "      <td>27419.0</td>\n",
       "      <td>8127.0</td>\n",
       "      <td>0.0</td>\n",
       "      <td>NaN</td>\n",
       "      <td>1.0</td>\n",
       "      <td>603.0</td>\n",
       "      <td>45.0</td>\n",
       "    </tr>\n",
       "    <tr>\n",
       "      <th>4151</th>\n",
       "      <td>17</td>\n",
       "      <td>17600000.0</td>\n",
       "      <td>89.50</td>\n",
       "      <td>2014-12-09T00:00:00</td>\n",
       "      <td>2</td>\n",
       "      <td>3.00</td>\n",
       "      <td>8.0</td>\n",
       "      <td>39.62</td>\n",
       "      <td>7</td>\n",
       "      <td>NaN</td>\n",
       "      <td>...</td>\n",
       "      <td>13.38</td>\n",
       "      <td>0.0</td>\n",
       "      <td>NaN</td>\n",
       "      <td>25054.0</td>\n",
       "      <td>3902.0</td>\n",
       "      <td>1.0</td>\n",
       "      <td>485.0</td>\n",
       "      <td>3.0</td>\n",
       "      <td>722.0</td>\n",
       "      <td>869.0</td>\n",
       "    </tr>\n",
       "    <tr>\n",
       "      <th>4189</th>\n",
       "      <td>7</td>\n",
       "      <td>9200000.0</td>\n",
       "      <td>80.00</td>\n",
       "      <td>2015-12-10T00:00:00</td>\n",
       "      <td>3</td>\n",
       "      <td>4.00</td>\n",
       "      <td>4.0</td>\n",
       "      <td>52.30</td>\n",
       "      <td>3</td>\n",
       "      <td>False</td>\n",
       "      <td>...</td>\n",
       "      <td>10.40</td>\n",
       "      <td>0.0</td>\n",
       "      <td>NaN</td>\n",
       "      <td>21774.0</td>\n",
       "      <td>3039.0</td>\n",
       "      <td>1.0</td>\n",
       "      <td>690.0</td>\n",
       "      <td>1.0</td>\n",
       "      <td>953.0</td>\n",
       "      <td>223.0</td>\n",
       "    </tr>\n",
       "    <tr>\n",
       "      <th>4670</th>\n",
       "      <td>1</td>\n",
       "      <td>5500000.0</td>\n",
       "      <td>83.00</td>\n",
       "      <td>2015-08-14T00:00:00</td>\n",
       "      <td>3</td>\n",
       "      <td>NaN</td>\n",
       "      <td>7.0</td>\n",
       "      <td>NaN</td>\n",
       "      <td>6</td>\n",
       "      <td>NaN</td>\n",
       "      <td>...</td>\n",
       "      <td>NaN</td>\n",
       "      <td>0.0</td>\n",
       "      <td>NaN</td>\n",
       "      <td>26534.0</td>\n",
       "      <td>5382.0</td>\n",
       "      <td>1.0</td>\n",
       "      <td>446.0</td>\n",
       "      <td>1.0</td>\n",
       "      <td>376.0</td>\n",
       "      <td>350.0</td>\n",
       "    </tr>\n",
       "    <tr>\n",
       "      <th>5343</th>\n",
       "      <td>19</td>\n",
       "      <td>13540000.0</td>\n",
       "      <td>85.50</td>\n",
       "      <td>2016-01-20T00:00:00</td>\n",
       "      <td>3</td>\n",
       "      <td>NaN</td>\n",
       "      <td>7.0</td>\n",
       "      <td>59.10</td>\n",
       "      <td>5</td>\n",
       "      <td>False</td>\n",
       "      <td>...</td>\n",
       "      <td>8.30</td>\n",
       "      <td>4.0</td>\n",
       "      <td>NaN</td>\n",
       "      <td>10556.0</td>\n",
       "      <td>9538.0</td>\n",
       "      <td>1.0</td>\n",
       "      <td>67.0</td>\n",
       "      <td>0.0</td>\n",
       "      <td>NaN</td>\n",
       "      <td>303.0</td>\n",
       "    </tr>\n",
       "    <tr>\n",
       "      <th>5707</th>\n",
       "      <td>7</td>\n",
       "      <td>3700000.0</td>\n",
       "      <td>30.00</td>\n",
       "      <td>2016-04-29T00:00:00</td>\n",
       "      <td>1</td>\n",
       "      <td>NaN</td>\n",
       "      <td>24.0</td>\n",
       "      <td>20.00</td>\n",
       "      <td>23</td>\n",
       "      <td>NaN</td>\n",
       "      <td>...</td>\n",
       "      <td>NaN</td>\n",
       "      <td>0.0</td>\n",
       "      <td>NaN</td>\n",
       "      <td>21460.0</td>\n",
       "      <td>16788.0</td>\n",
       "      <td>0.0</td>\n",
       "      <td>NaN</td>\n",
       "      <td>1.0</td>\n",
       "      <td>170.0</td>\n",
       "      <td>49.0</td>\n",
       "    </tr>\n",
       "    <tr>\n",
       "      <th>6765</th>\n",
       "      <td>20</td>\n",
       "      <td>4895892.0</td>\n",
       "      <td>60.70</td>\n",
       "      <td>2015-03-12T00:00:00</td>\n",
       "      <td>2</td>\n",
       "      <td>NaN</td>\n",
       "      <td>24.0</td>\n",
       "      <td>31.90</td>\n",
       "      <td>3</td>\n",
       "      <td>NaN</td>\n",
       "      <td>...</td>\n",
       "      <td>12.20</td>\n",
       "      <td>0.0</td>\n",
       "      <td>NaN</td>\n",
       "      <td>22041.0</td>\n",
       "      <td>17369.0</td>\n",
       "      <td>0.0</td>\n",
       "      <td>NaN</td>\n",
       "      <td>1.0</td>\n",
       "      <td>374.0</td>\n",
       "      <td>468.0</td>\n",
       "    </tr>\n",
       "    <tr>\n",
       "      <th>7114</th>\n",
       "      <td>5</td>\n",
       "      <td>4250000.0</td>\n",
       "      <td>56.00</td>\n",
       "      <td>2016-03-16T00:00:00</td>\n",
       "      <td>3</td>\n",
       "      <td>NaN</td>\n",
       "      <td>5.0</td>\n",
       "      <td>40.00</td>\n",
       "      <td>4</td>\n",
       "      <td>NaN</td>\n",
       "      <td>...</td>\n",
       "      <td>6.00</td>\n",
       "      <td>0.0</td>\n",
       "      <td>NaN</td>\n",
       "      <td>14031.0</td>\n",
       "      <td>8582.0</td>\n",
       "      <td>0.0</td>\n",
       "      <td>NaN</td>\n",
       "      <td>0.0</td>\n",
       "      <td>NaN</td>\n",
       "      <td>96.0</td>\n",
       "    </tr>\n",
       "    <tr>\n",
       "      <th>7330</th>\n",
       "      <td>8</td>\n",
       "      <td>5100000.0</td>\n",
       "      <td>63.00</td>\n",
       "      <td>2015-01-27T00:00:00</td>\n",
       "      <td>3</td>\n",
       "      <td>NaN</td>\n",
       "      <td>5.0</td>\n",
       "      <td>42.00</td>\n",
       "      <td>1</td>\n",
       "      <td>False</td>\n",
       "      <td>...</td>\n",
       "      <td>7.50</td>\n",
       "      <td>0.0</td>\n",
       "      <td>NaN</td>\n",
       "      <td>25925.0</td>\n",
       "      <td>4627.0</td>\n",
       "      <td>2.0</td>\n",
       "      <td>459.0</td>\n",
       "      <td>0.0</td>\n",
       "      <td>NaN</td>\n",
       "      <td>566.0</td>\n",
       "    </tr>\n",
       "    <tr>\n",
       "      <th>7600</th>\n",
       "      <td>8</td>\n",
       "      <td>6800000.0</td>\n",
       "      <td>70.00</td>\n",
       "      <td>2016-01-31T00:00:00</td>\n",
       "      <td>3</td>\n",
       "      <td>NaN</td>\n",
       "      <td>11.0</td>\n",
       "      <td>42.00</td>\n",
       "      <td>9</td>\n",
       "      <td>NaN</td>\n",
       "      <td>...</td>\n",
       "      <td>11.00</td>\n",
       "      <td>1.0</td>\n",
       "      <td>NaN</td>\n",
       "      <td>37123.0</td>\n",
       "      <td>12332.0</td>\n",
       "      <td>0.0</td>\n",
       "      <td>NaN</td>\n",
       "      <td>0.0</td>\n",
       "      <td>NaN</td>\n",
       "      <td>209.0</td>\n",
       "    </tr>\n",
       "    <tr>\n",
       "      <th>8568</th>\n",
       "      <td>10</td>\n",
       "      <td>16000000.0</td>\n",
       "      <td>155.00</td>\n",
       "      <td>2016-05-09T00:00:00</td>\n",
       "      <td>3</td>\n",
       "      <td>NaN</td>\n",
       "      <td>6.0</td>\n",
       "      <td>94.00</td>\n",
       "      <td>3</td>\n",
       "      <td>NaN</td>\n",
       "      <td>...</td>\n",
       "      <td>23.00</td>\n",
       "      <td>0.0</td>\n",
       "      <td>NaN</td>\n",
       "      <td>24233.0</td>\n",
       "      <td>4065.0</td>\n",
       "      <td>1.0</td>\n",
       "      <td>547.0</td>\n",
       "      <td>0.0</td>\n",
       "      <td>NaN</td>\n",
       "      <td>248.0</td>\n",
       "    </tr>\n",
       "    <tr>\n",
       "      <th>8986</th>\n",
       "      <td>10</td>\n",
       "      <td>4850000.0</td>\n",
       "      <td>103.10</td>\n",
       "      <td>2018-07-10T00:00:00</td>\n",
       "      <td>3</td>\n",
       "      <td>NaN</td>\n",
       "      <td>NaN</td>\n",
       "      <td>68.10</td>\n",
       "      <td>4</td>\n",
       "      <td>NaN</td>\n",
       "      <td>...</td>\n",
       "      <td>16.70</td>\n",
       "      <td>NaN</td>\n",
       "      <td>NaN</td>\n",
       "      <td>19659.0</td>\n",
       "      <td>31813.0</td>\n",
       "      <td>0.0</td>\n",
       "      <td>NaN</td>\n",
       "      <td>0.0</td>\n",
       "      <td>NaN</td>\n",
       "      <td>28.0</td>\n",
       "    </tr>\n",
       "    <tr>\n",
       "      <th>9821</th>\n",
       "      <td>13</td>\n",
       "      <td>8000000.0</td>\n",
       "      <td>94.50</td>\n",
       "      <td>2015-01-21T00:00:00</td>\n",
       "      <td>4</td>\n",
       "      <td>3.00</td>\n",
       "      <td>2.0</td>\n",
       "      <td>57.80</td>\n",
       "      <td>2</td>\n",
       "      <td>NaN</td>\n",
       "      <td>...</td>\n",
       "      <td>11.30</td>\n",
       "      <td>0.0</td>\n",
       "      <td>NaN</td>\n",
       "      <td>24953.0</td>\n",
       "      <td>3801.0</td>\n",
       "      <td>1.0</td>\n",
       "      <td>375.0</td>\n",
       "      <td>2.0</td>\n",
       "      <td>532.0</td>\n",
       "      <td>531.0</td>\n",
       "    </tr>\n",
       "    <tr>\n",
       "      <th>10122</th>\n",
       "      <td>5</td>\n",
       "      <td>8200000.0</td>\n",
       "      <td>83.00</td>\n",
       "      <td>2015-06-24T00:00:00</td>\n",
       "      <td>4</td>\n",
       "      <td>NaN</td>\n",
       "      <td>5.0</td>\n",
       "      <td>53.00</td>\n",
       "      <td>2</td>\n",
       "      <td>NaN</td>\n",
       "      <td>...</td>\n",
       "      <td>10.00</td>\n",
       "      <td>0.0</td>\n",
       "      <td>NaN</td>\n",
       "      <td>25771.0</td>\n",
       "      <td>4474.0</td>\n",
       "      <td>2.0</td>\n",
       "      <td>374.0</td>\n",
       "      <td>0.0</td>\n",
       "      <td>NaN</td>\n",
       "      <td>364.0</td>\n",
       "    </tr>\n",
       "    <tr>\n",
       "      <th>11248</th>\n",
       "      <td>12</td>\n",
       "      <td>6300000.0</td>\n",
       "      <td>63.10</td>\n",
       "      <td>2015-01-16T00:00:00</td>\n",
       "      <td>4</td>\n",
       "      <td>NaN</td>\n",
       "      <td>8.0</td>\n",
       "      <td>44.00</td>\n",
       "      <td>7</td>\n",
       "      <td>NaN</td>\n",
       "      <td>...</td>\n",
       "      <td>8.70</td>\n",
       "      <td>0.0</td>\n",
       "      <td>NaN</td>\n",
       "      <td>25221.0</td>\n",
       "      <td>4069.0</td>\n",
       "      <td>0.0</td>\n",
       "      <td>NaN</td>\n",
       "      <td>2.0</td>\n",
       "      <td>653.0</td>\n",
       "      <td>551.0</td>\n",
       "    </tr>\n",
       "    <tr>\n",
       "      <th>12879</th>\n",
       "      <td>12</td>\n",
       "      <td>4400000.0</td>\n",
       "      <td>39.20</td>\n",
       "      <td>2016-04-26T00:00:00</td>\n",
       "      <td>1</td>\n",
       "      <td>NaN</td>\n",
       "      <td>12.0</td>\n",
       "      <td>20.00</td>\n",
       "      <td>12</td>\n",
       "      <td>False</td>\n",
       "      <td>...</td>\n",
       "      <td>7.90</td>\n",
       "      <td>0.0</td>\n",
       "      <td>NaN</td>\n",
       "      <td>37123.0</td>\n",
       "      <td>12332.0</td>\n",
       "      <td>0.0</td>\n",
       "      <td>NaN</td>\n",
       "      <td>0.0</td>\n",
       "      <td>NaN</td>\n",
       "      <td>179.0</td>\n",
       "    </tr>\n",
       "    <tr>\n",
       "      <th>12936</th>\n",
       "      <td>6</td>\n",
       "      <td>6800000.0</td>\n",
       "      <td>73.00</td>\n",
       "      <td>2015-11-01T00:00:00</td>\n",
       "      <td>3</td>\n",
       "      <td>NaN</td>\n",
       "      <td>5.0</td>\n",
       "      <td>53.10</td>\n",
       "      <td>2</td>\n",
       "      <td>NaN</td>\n",
       "      <td>...</td>\n",
       "      <td>8.20</td>\n",
       "      <td>0.0</td>\n",
       "      <td>NaN</td>\n",
       "      <td>25680.0</td>\n",
       "      <td>4383.0</td>\n",
       "      <td>3.0</td>\n",
       "      <td>336.0</td>\n",
       "      <td>0.0</td>\n",
       "      <td>NaN</td>\n",
       "      <td>542.0</td>\n",
       "    </tr>\n",
       "    <tr>\n",
       "      <th>13223</th>\n",
       "      <td>1</td>\n",
       "      <td>2919911.0</td>\n",
       "      <td>29.40</td>\n",
       "      <td>2015-03-12T00:00:00</td>\n",
       "      <td>1</td>\n",
       "      <td>2.75</td>\n",
       "      <td>24.0</td>\n",
       "      <td>21.10</td>\n",
       "      <td>2</td>\n",
       "      <td>NaN</td>\n",
       "      <td>...</td>\n",
       "      <td>NaN</td>\n",
       "      <td>0.0</td>\n",
       "      <td>NaN</td>\n",
       "      <td>22041.0</td>\n",
       "      <td>17369.0</td>\n",
       "      <td>0.0</td>\n",
       "      <td>NaN</td>\n",
       "      <td>1.0</td>\n",
       "      <td>374.0</td>\n",
       "      <td>470.0</td>\n",
       "    </tr>\n",
       "    <tr>\n",
       "      <th>13690</th>\n",
       "      <td>7</td>\n",
       "      <td>3500000.0</td>\n",
       "      <td>71.00</td>\n",
       "      <td>2016-06-23T00:00:00</td>\n",
       "      <td>3</td>\n",
       "      <td>2.75</td>\n",
       "      <td>2.0</td>\n",
       "      <td>45.60</td>\n",
       "      <td>1</td>\n",
       "      <td>False</td>\n",
       "      <td>...</td>\n",
       "      <td>8.00</td>\n",
       "      <td>2.0</td>\n",
       "      <td>NaN</td>\n",
       "      <td>20234.0</td>\n",
       "      <td>23659.0</td>\n",
       "      <td>0.0</td>\n",
       "      <td>NaN</td>\n",
       "      <td>2.0</td>\n",
       "      <td>296.0</td>\n",
       "      <td>92.0</td>\n",
       "    </tr>\n",
       "    <tr>\n",
       "      <th>14273</th>\n",
       "      <td>2</td>\n",
       "      <td>4422000.0</td>\n",
       "      <td>60.00</td>\n",
       "      <td>2016-03-23T00:00:00</td>\n",
       "      <td>2</td>\n",
       "      <td>2.75</td>\n",
       "      <td>23.0</td>\n",
       "      <td>32.00</td>\n",
       "      <td>14</td>\n",
       "      <td>NaN</td>\n",
       "      <td>...</td>\n",
       "      <td>11.90</td>\n",
       "      <td>0.0</td>\n",
       "      <td>NaN</td>\n",
       "      <td>22041.0</td>\n",
       "      <td>17369.0</td>\n",
       "      <td>0.0</td>\n",
       "      <td>NaN</td>\n",
       "      <td>1.0</td>\n",
       "      <td>374.0</td>\n",
       "      <td>90.0</td>\n",
       "    </tr>\n",
       "    <tr>\n",
       "      <th>14342</th>\n",
       "      <td>3</td>\n",
       "      <td>3611000.0</td>\n",
       "      <td>53.50</td>\n",
       "      <td>2017-04-27T00:00:00</td>\n",
       "      <td>1</td>\n",
       "      <td>NaN</td>\n",
       "      <td>4.0</td>\n",
       "      <td>25.80</td>\n",
       "      <td>3</td>\n",
       "      <td>False</td>\n",
       "      <td>...</td>\n",
       "      <td>NaN</td>\n",
       "      <td>1.0</td>\n",
       "      <td>NaN</td>\n",
       "      <td>NaN</td>\n",
       "      <td>NaN</td>\n",
       "      <td>NaN</td>\n",
       "      <td>NaN</td>\n",
       "      <td>NaN</td>\n",
       "      <td>NaN</td>\n",
       "      <td>92.0</td>\n",
       "    </tr>\n",
       "    <tr>\n",
       "      <th>15686</th>\n",
       "      <td>13</td>\n",
       "      <td>4700000.0</td>\n",
       "      <td>44.00</td>\n",
       "      <td>2015-12-01T00:00:00</td>\n",
       "      <td>2</td>\n",
       "      <td>NaN</td>\n",
       "      <td>5.0</td>\n",
       "      <td>28.00</td>\n",
       "      <td>3</td>\n",
       "      <td>NaN</td>\n",
       "      <td>...</td>\n",
       "      <td>5.00</td>\n",
       "      <td>0.0</td>\n",
       "      <td>NaN</td>\n",
       "      <td>35920.0</td>\n",
       "      <td>9633.0</td>\n",
       "      <td>2.0</td>\n",
       "      <td>472.0</td>\n",
       "      <td>3.0</td>\n",
       "      <td>535.0</td>\n",
       "      <td>280.0</td>\n",
       "    </tr>\n",
       "    <tr>\n",
       "      <th>15866</th>\n",
       "      <td>10</td>\n",
       "      <td>3950000.0</td>\n",
       "      <td>44.00</td>\n",
       "      <td>2016-04-16T00:00:00</td>\n",
       "      <td>2</td>\n",
       "      <td>2.70</td>\n",
       "      <td>5.0</td>\n",
       "      <td>28.50</td>\n",
       "      <td>5</td>\n",
       "      <td>False</td>\n",
       "      <td>...</td>\n",
       "      <td>5.50</td>\n",
       "      <td>1.0</td>\n",
       "      <td>NaN</td>\n",
       "      <td>36380.0</td>\n",
       "      <td>9497.0</td>\n",
       "      <td>1.0</td>\n",
       "      <td>634.0</td>\n",
       "      <td>3.0</td>\n",
       "      <td>513.0</td>\n",
       "      <td>85.0</td>\n",
       "    </tr>\n",
       "    <tr>\n",
       "      <th>16499</th>\n",
       "      <td>2</td>\n",
       "      <td>4995573.0</td>\n",
       "      <td>56.90</td>\n",
       "      <td>2016-06-17T00:00:00</td>\n",
       "      <td>2</td>\n",
       "      <td>NaN</td>\n",
       "      <td>24.0</td>\n",
       "      <td>29.20</td>\n",
       "      <td>14</td>\n",
       "      <td>NaN</td>\n",
       "      <td>...</td>\n",
       "      <td>10.90</td>\n",
       "      <td>0.0</td>\n",
       "      <td>NaN</td>\n",
       "      <td>22041.0</td>\n",
       "      <td>17369.0</td>\n",
       "      <td>0.0</td>\n",
       "      <td>NaN</td>\n",
       "      <td>1.0</td>\n",
       "      <td>374.0</td>\n",
       "      <td>4.0</td>\n",
       "    </tr>\n",
       "    <tr>\n",
       "      <th>16561</th>\n",
       "      <td>3</td>\n",
       "      <td>2450000.0</td>\n",
       "      <td>30.00</td>\n",
       "      <td>2016-06-02T00:00:00</td>\n",
       "      <td>1</td>\n",
       "      <td>NaN</td>\n",
       "      <td>4.0</td>\n",
       "      <td>17.00</td>\n",
       "      <td>2</td>\n",
       "      <td>NaN</td>\n",
       "      <td>...</td>\n",
       "      <td>6.00</td>\n",
       "      <td>1.0</td>\n",
       "      <td>NaN</td>\n",
       "      <td>21731.0</td>\n",
       "      <td>8619.0</td>\n",
       "      <td>0.0</td>\n",
       "      <td>NaN</td>\n",
       "      <td>3.0</td>\n",
       "      <td>162.0</td>\n",
       "      <td>140.0</td>\n",
       "    </tr>\n",
       "    <tr>\n",
       "      <th>16610</th>\n",
       "      <td>11</td>\n",
       "      <td>11940000.0</td>\n",
       "      <td>112.00</td>\n",
       "      <td>2015-11-19T00:00:00</td>\n",
       "      <td>3</td>\n",
       "      <td>3.00</td>\n",
       "      <td>5.0</td>\n",
       "      <td>64.00</td>\n",
       "      <td>2</td>\n",
       "      <td>NaN</td>\n",
       "      <td>...</td>\n",
       "      <td>23.00</td>\n",
       "      <td>0.0</td>\n",
       "      <td>NaN</td>\n",
       "      <td>21219.0</td>\n",
       "      <td>1322.0</td>\n",
       "      <td>1.0</td>\n",
       "      <td>740.0</td>\n",
       "      <td>3.0</td>\n",
       "      <td>365.0</td>\n",
       "      <td>319.0</td>\n",
       "    </tr>\n",
       "    <tr>\n",
       "      <th>17535</th>\n",
       "      <td>2</td>\n",
       "      <td>5985000.0</td>\n",
       "      <td>79.80</td>\n",
       "      <td>2018-07-30T00:00:00</td>\n",
       "      <td>3</td>\n",
       "      <td>NaN</td>\n",
       "      <td>9.0</td>\n",
       "      <td>NaN</td>\n",
       "      <td>2</td>\n",
       "      <td>False</td>\n",
       "      <td>...</td>\n",
       "      <td>NaN</td>\n",
       "      <td>NaN</td>\n",
       "      <td>NaN</td>\n",
       "      <td>NaN</td>\n",
       "      <td>NaN</td>\n",
       "      <td>NaN</td>\n",
       "      <td>NaN</td>\n",
       "      <td>NaN</td>\n",
       "      <td>NaN</td>\n",
       "      <td>213.0</td>\n",
       "    </tr>\n",
       "    <tr>\n",
       "      <th>17764</th>\n",
       "      <td>9</td>\n",
       "      <td>8400000.0</td>\n",
       "      <td>94.00</td>\n",
       "      <td>2016-01-24T00:00:00</td>\n",
       "      <td>3</td>\n",
       "      <td>NaN</td>\n",
       "      <td>23.0</td>\n",
       "      <td>52.00</td>\n",
       "      <td>5</td>\n",
       "      <td>NaN</td>\n",
       "      <td>...</td>\n",
       "      <td>NaN</td>\n",
       "      <td>0.0</td>\n",
       "      <td>NaN</td>\n",
       "      <td>36865.0</td>\n",
       "      <td>10976.0</td>\n",
       "      <td>0.0</td>\n",
       "      <td>NaN</td>\n",
       "      <td>1.0</td>\n",
       "      <td>856.0</td>\n",
       "      <td>305.0</td>\n",
       "    </tr>\n",
       "    <tr>\n",
       "      <th>18526</th>\n",
       "      <td>3</td>\n",
       "      <td>10800000.0</td>\n",
       "      <td>86.00</td>\n",
       "      <td>2016-06-24T00:00:00</td>\n",
       "      <td>4</td>\n",
       "      <td>3.20</td>\n",
       "      <td>7.0</td>\n",
       "      <td>48.00</td>\n",
       "      <td>2</td>\n",
       "      <td>NaN</td>\n",
       "      <td>...</td>\n",
       "      <td>12.00</td>\n",
       "      <td>0.0</td>\n",
       "      <td>NaN</td>\n",
       "      <td>11206.0</td>\n",
       "      <td>8943.0</td>\n",
       "      <td>0.0</td>\n",
       "      <td>NaN</td>\n",
       "      <td>0.0</td>\n",
       "      <td>NaN</td>\n",
       "      <td>65.0</td>\n",
       "    </tr>\n",
       "    <tr>\n",
       "      <th>18917</th>\n",
       "      <td>3</td>\n",
       "      <td>2660000.0</td>\n",
       "      <td>37.99</td>\n",
       "      <td>2017-08-17T00:00:00</td>\n",
       "      <td>1</td>\n",
       "      <td>NaN</td>\n",
       "      <td>4.0</td>\n",
       "      <td>13.00</td>\n",
       "      <td>1</td>\n",
       "      <td>NaN</td>\n",
       "      <td>...</td>\n",
       "      <td>12.40</td>\n",
       "      <td>0.0</td>\n",
       "      <td>NaN</td>\n",
       "      <td>21540.0</td>\n",
       "      <td>8429.0</td>\n",
       "      <td>0.0</td>\n",
       "      <td>NaN</td>\n",
       "      <td>3.0</td>\n",
       "      <td>142.0</td>\n",
       "      <td>15.0</td>\n",
       "    </tr>\n",
       "    <tr>\n",
       "      <th>19045</th>\n",
       "      <td>6</td>\n",
       "      <td>4650000.0</td>\n",
       "      <td>48.00</td>\n",
       "      <td>2016-01-25T00:00:00</td>\n",
       "      <td>2</td>\n",
       "      <td>3.12</td>\n",
       "      <td>5.0</td>\n",
       "      <td>26.20</td>\n",
       "      <td>1</td>\n",
       "      <td>False</td>\n",
       "      <td>...</td>\n",
       "      <td>8.00</td>\n",
       "      <td>0.0</td>\n",
       "      <td>NaN</td>\n",
       "      <td>21654.0</td>\n",
       "      <td>3312.0</td>\n",
       "      <td>1.0</td>\n",
       "      <td>549.0</td>\n",
       "      <td>1.0</td>\n",
       "      <td>858.0</td>\n",
       "      <td>254.0</td>\n",
       "    </tr>\n",
       "    <tr>\n",
       "      <th>19972</th>\n",
       "      <td>20</td>\n",
       "      <td>4361004.0</td>\n",
       "      <td>62.40</td>\n",
       "      <td>2015-09-20T00:00:00</td>\n",
       "      <td>2</td>\n",
       "      <td>NaN</td>\n",
       "      <td>24.0</td>\n",
       "      <td>33.10</td>\n",
       "      <td>21</td>\n",
       "      <td>NaN</td>\n",
       "      <td>...</td>\n",
       "      <td>8.20</td>\n",
       "      <td>0.0</td>\n",
       "      <td>NaN</td>\n",
       "      <td>22041.0</td>\n",
       "      <td>17369.0</td>\n",
       "      <td>0.0</td>\n",
       "      <td>NaN</td>\n",
       "      <td>1.0</td>\n",
       "      <td>374.0</td>\n",
       "      <td>278.0</td>\n",
       "    </tr>\n",
       "    <tr>\n",
       "      <th>20057</th>\n",
       "      <td>13</td>\n",
       "      <td>11500000.0</td>\n",
       "      <td>102.00</td>\n",
       "      <td>2015-10-14T00:00:00</td>\n",
       "      <td>2</td>\n",
       "      <td>NaN</td>\n",
       "      <td>5.0</td>\n",
       "      <td>70.00</td>\n",
       "      <td>2</td>\n",
       "      <td>NaN</td>\n",
       "      <td>...</td>\n",
       "      <td>NaN</td>\n",
       "      <td>0.0</td>\n",
       "      <td>NaN</td>\n",
       "      <td>23478.0</td>\n",
       "      <td>4258.0</td>\n",
       "      <td>0.0</td>\n",
       "      <td>NaN</td>\n",
       "      <td>0.0</td>\n",
       "      <td>NaN</td>\n",
       "      <td>325.0</td>\n",
       "    </tr>\n",
       "    <tr>\n",
       "      <th>20382</th>\n",
       "      <td>8</td>\n",
       "      <td>1750000.0</td>\n",
       "      <td>72.90</td>\n",
       "      <td>2018-10-27T00:00:00</td>\n",
       "      <td>3</td>\n",
       "      <td>NaN</td>\n",
       "      <td>5.0</td>\n",
       "      <td>47.30</td>\n",
       "      <td>2</td>\n",
       "      <td>NaN</td>\n",
       "      <td>...</td>\n",
       "      <td>8.30</td>\n",
       "      <td>NaN</td>\n",
       "      <td>NaN</td>\n",
       "      <td>NaN</td>\n",
       "      <td>NaN</td>\n",
       "      <td>NaN</td>\n",
       "      <td>NaN</td>\n",
       "      <td>NaN</td>\n",
       "      <td>NaN</td>\n",
       "      <td>NaN</td>\n",
       "    </tr>\n",
       "    <tr>\n",
       "      <th>20590</th>\n",
       "      <td>7</td>\n",
       "      <td>3380000.0</td>\n",
       "      <td>56.00</td>\n",
       "      <td>2017-11-06T00:00:00</td>\n",
       "      <td>2</td>\n",
       "      <td>2.70</td>\n",
       "      <td>4.0</td>\n",
       "      <td>29.00</td>\n",
       "      <td>3</td>\n",
       "      <td>NaN</td>\n",
       "      <td>...</td>\n",
       "      <td>10.00</td>\n",
       "      <td>1.0</td>\n",
       "      <td>NaN</td>\n",
       "      <td>NaN</td>\n",
       "      <td>NaN</td>\n",
       "      <td>NaN</td>\n",
       "      <td>NaN</td>\n",
       "      <td>NaN</td>\n",
       "      <td>NaN</td>\n",
       "      <td>78.0</td>\n",
       "    </tr>\n",
       "    <tr>\n",
       "      <th>20654</th>\n",
       "      <td>7</td>\n",
       "      <td>6100000.0</td>\n",
       "      <td>43.00</td>\n",
       "      <td>2016-01-13T00:00:00</td>\n",
       "      <td>1</td>\n",
       "      <td>NaN</td>\n",
       "      <td>5.0</td>\n",
       "      <td>21.00</td>\n",
       "      <td>3</td>\n",
       "      <td>NaN</td>\n",
       "      <td>...</td>\n",
       "      <td>12.00</td>\n",
       "      <td>1.0</td>\n",
       "      <td>NaN</td>\n",
       "      <td>24385.0</td>\n",
       "      <td>4604.0</td>\n",
       "      <td>1.0</td>\n",
       "      <td>700.0</td>\n",
       "      <td>0.0</td>\n",
       "      <td>NaN</td>\n",
       "      <td>164.0</td>\n",
       "    </tr>\n",
       "    <tr>\n",
       "      <th>21119</th>\n",
       "      <td>8</td>\n",
       "      <td>3500000.0</td>\n",
       "      <td>43.20</td>\n",
       "      <td>2018-11-11T00:00:00</td>\n",
       "      <td>2</td>\n",
       "      <td>NaN</td>\n",
       "      <td>4.0</td>\n",
       "      <td>NaN</td>\n",
       "      <td>2</td>\n",
       "      <td>NaN</td>\n",
       "      <td>...</td>\n",
       "      <td>NaN</td>\n",
       "      <td>NaN</td>\n",
       "      <td>NaN</td>\n",
       "      <td>19744.0</td>\n",
       "      <td>31897.0</td>\n",
       "      <td>0.0</td>\n",
       "      <td>NaN</td>\n",
       "      <td>0.0</td>\n",
       "      <td>NaN</td>\n",
       "      <td>9.0</td>\n",
       "    </tr>\n",
       "    <tr>\n",
       "      <th>21276</th>\n",
       "      <td>0</td>\n",
       "      <td>17122148.0</td>\n",
       "      <td>178.30</td>\n",
       "      <td>2017-02-10T00:00:00</td>\n",
       "      <td>1</td>\n",
       "      <td>NaN</td>\n",
       "      <td>3.0</td>\n",
       "      <td>NaN</td>\n",
       "      <td>1</td>\n",
       "      <td>NaN</td>\n",
       "      <td>...</td>\n",
       "      <td>41.60</td>\n",
       "      <td>1.0</td>\n",
       "      <td>NaN</td>\n",
       "      <td>60195.0</td>\n",
       "      <td>41294.0</td>\n",
       "      <td>0.0</td>\n",
       "      <td>NaN</td>\n",
       "      <td>0.0</td>\n",
       "      <td>NaN</td>\n",
       "      <td>4.0</td>\n",
       "    </tr>\n",
       "    <tr>\n",
       "      <th>21333</th>\n",
       "      <td>10</td>\n",
       "      <td>5900000.0</td>\n",
       "      <td>58.00</td>\n",
       "      <td>2015-03-12T00:00:00</td>\n",
       "      <td>3</td>\n",
       "      <td>NaN</td>\n",
       "      <td>6.0</td>\n",
       "      <td>35.20</td>\n",
       "      <td>6</td>\n",
       "      <td>False</td>\n",
       "      <td>...</td>\n",
       "      <td>11.00</td>\n",
       "      <td>0.0</td>\n",
       "      <td>NaN</td>\n",
       "      <td>26090.0</td>\n",
       "      <td>4805.0</td>\n",
       "      <td>0.0</td>\n",
       "      <td>NaN</td>\n",
       "      <td>1.0</td>\n",
       "      <td>943.0</td>\n",
       "      <td>486.0</td>\n",
       "    </tr>\n",
       "    <tr>\n",
       "      <th>21715</th>\n",
       "      <td>2</td>\n",
       "      <td>6047550.0</td>\n",
       "      <td>80.10</td>\n",
       "      <td>2018-07-30T00:00:00</td>\n",
       "      <td>2</td>\n",
       "      <td>NaN</td>\n",
       "      <td>9.0</td>\n",
       "      <td>30.50</td>\n",
       "      <td>2</td>\n",
       "      <td>False</td>\n",
       "      <td>...</td>\n",
       "      <td>29.20</td>\n",
       "      <td>NaN</td>\n",
       "      <td>NaN</td>\n",
       "      <td>NaN</td>\n",
       "      <td>NaN</td>\n",
       "      <td>NaN</td>\n",
       "      <td>NaN</td>\n",
       "      <td>NaN</td>\n",
       "      <td>NaN</td>\n",
       "      <td>176.0</td>\n",
       "    </tr>\n",
       "    <tr>\n",
       "      <th>21898</th>\n",
       "      <td>2</td>\n",
       "      <td>5886750.0</td>\n",
       "      <td>83.50</td>\n",
       "      <td>2018-07-30T00:00:00</td>\n",
       "      <td>2</td>\n",
       "      <td>NaN</td>\n",
       "      <td>9.0</td>\n",
       "      <td>36.60</td>\n",
       "      <td>2</td>\n",
       "      <td>False</td>\n",
       "      <td>...</td>\n",
       "      <td>29.70</td>\n",
       "      <td>NaN</td>\n",
       "      <td>NaN</td>\n",
       "      <td>NaN</td>\n",
       "      <td>NaN</td>\n",
       "      <td>NaN</td>\n",
       "      <td>NaN</td>\n",
       "      <td>NaN</td>\n",
       "      <td>NaN</td>\n",
       "      <td>169.0</td>\n",
       "    </tr>\n",
       "    <tr>\n",
       "      <th>22474</th>\n",
       "      <td>7</td>\n",
       "      <td>24000000.0</td>\n",
       "      <td>128.00</td>\n",
       "      <td>2015-07-24T00:00:00</td>\n",
       "      <td>4</td>\n",
       "      <td>2.75</td>\n",
       "      <td>6.0</td>\n",
       "      <td>68.40</td>\n",
       "      <td>6</td>\n",
       "      <td>False</td>\n",
       "      <td>...</td>\n",
       "      <td>16.50</td>\n",
       "      <td>0.0</td>\n",
       "      <td>NaN</td>\n",
       "      <td>23297.0</td>\n",
       "      <td>1780.0</td>\n",
       "      <td>3.0</td>\n",
       "      <td>277.0</td>\n",
       "      <td>3.0</td>\n",
       "      <td>561.0</td>\n",
       "      <td>436.0</td>\n",
       "    </tr>\n",
       "    <tr>\n",
       "      <th>22717</th>\n",
       "      <td>9</td>\n",
       "      <td>3000000.0</td>\n",
       "      <td>35.00</td>\n",
       "      <td>2018-01-02T00:00:00</td>\n",
       "      <td>1</td>\n",
       "      <td>2.60</td>\n",
       "      <td>16.0</td>\n",
       "      <td>16.00</td>\n",
       "      <td>7</td>\n",
       "      <td>False</td>\n",
       "      <td>...</td>\n",
       "      <td>10.00</td>\n",
       "      <td>1.0</td>\n",
       "      <td>NaN</td>\n",
       "      <td>NaN</td>\n",
       "      <td>NaN</td>\n",
       "      <td>NaN</td>\n",
       "      <td>NaN</td>\n",
       "      <td>NaN</td>\n",
       "      <td>NaN</td>\n",
       "      <td>75.0</td>\n",
       "    </tr>\n",
       "    <tr>\n",
       "      <th>22933</th>\n",
       "      <td>20</td>\n",
       "      <td>3176015.0</td>\n",
       "      <td>33.30</td>\n",
       "      <td>2015-04-22T00:00:00</td>\n",
       "      <td>1</td>\n",
       "      <td>NaN</td>\n",
       "      <td>23.0</td>\n",
       "      <td>15.40</td>\n",
       "      <td>22</td>\n",
       "      <td>NaN</td>\n",
       "      <td>...</td>\n",
       "      <td>9.00</td>\n",
       "      <td>0.0</td>\n",
       "      <td>NaN</td>\n",
       "      <td>22041.0</td>\n",
       "      <td>17369.0</td>\n",
       "      <td>0.0</td>\n",
       "      <td>NaN</td>\n",
       "      <td>1.0</td>\n",
       "      <td>374.0</td>\n",
       "      <td>427.0</td>\n",
       "    </tr>\n",
       "    <tr>\n",
       "      <th>23214</th>\n",
       "      <td>3</td>\n",
       "      <td>7990000.0</td>\n",
       "      <td>56.00</td>\n",
       "      <td>2016-05-31T00:00:00</td>\n",
       "      <td>2</td>\n",
       "      <td>NaN</td>\n",
       "      <td>6.0</td>\n",
       "      <td>NaN</td>\n",
       "      <td>5</td>\n",
       "      <td>False</td>\n",
       "      <td>...</td>\n",
       "      <td>NaN</td>\n",
       "      <td>0.0</td>\n",
       "      <td>NaN</td>\n",
       "      <td>11206.0</td>\n",
       "      <td>8943.0</td>\n",
       "      <td>0.0</td>\n",
       "      <td>NaN</td>\n",
       "      <td>0.0</td>\n",
       "      <td>NaN</td>\n",
       "      <td>70.0</td>\n",
       "    </tr>\n",
       "  </tbody>\n",
       "</table>\n",
       "<p>49 rows × 22 columns</p>\n",
       "</div>"
      ],
      "text/plain": [
       "       total_images  last_price  total_area first_day_exposition  rooms  \\\n",
       "1097              3   8600000.0       81.70  2016-04-15T00:00:00      3   \n",
       "2033              6   5398000.0       80.00  2017-05-30T00:00:00      3   \n",
       "2603             20   3351765.0       42.70  2015-09-20T00:00:00      1   \n",
       "2632              2   5130593.0       62.40  2015-10-11T00:00:00      2   \n",
       "3574             10   4200000.0       46.50  2016-05-28T00:00:00      2   \n",
       "4151             17  17600000.0       89.50  2014-12-09T00:00:00      2   \n",
       "4189              7   9200000.0       80.00  2015-12-10T00:00:00      3   \n",
       "4670              1   5500000.0       83.00  2015-08-14T00:00:00      3   \n",
       "5343             19  13540000.0       85.50  2016-01-20T00:00:00      3   \n",
       "5707              7   3700000.0       30.00  2016-04-29T00:00:00      1   \n",
       "6765             20   4895892.0       60.70  2015-03-12T00:00:00      2   \n",
       "7114              5   4250000.0       56.00  2016-03-16T00:00:00      3   \n",
       "7330              8   5100000.0       63.00  2015-01-27T00:00:00      3   \n",
       "7600              8   6800000.0       70.00  2016-01-31T00:00:00      3   \n",
       "8568             10  16000000.0      155.00  2016-05-09T00:00:00      3   \n",
       "8986             10   4850000.0      103.10  2018-07-10T00:00:00      3   \n",
       "9821             13   8000000.0       94.50  2015-01-21T00:00:00      4   \n",
       "10122             5   8200000.0       83.00  2015-06-24T00:00:00      4   \n",
       "11248            12   6300000.0       63.10  2015-01-16T00:00:00      4   \n",
       "12879            12   4400000.0       39.20  2016-04-26T00:00:00      1   \n",
       "12936             6   6800000.0       73.00  2015-11-01T00:00:00      3   \n",
       "13223             1   2919911.0       29.40  2015-03-12T00:00:00      1   \n",
       "13690             7   3500000.0       71.00  2016-06-23T00:00:00      3   \n",
       "14273             2   4422000.0       60.00  2016-03-23T00:00:00      2   \n",
       "14342             3   3611000.0       53.50  2017-04-27T00:00:00      1   \n",
       "15686            13   4700000.0       44.00  2015-12-01T00:00:00      2   \n",
       "15866            10   3950000.0       44.00  2016-04-16T00:00:00      2   \n",
       "16499             2   4995573.0       56.90  2016-06-17T00:00:00      2   \n",
       "16561             3   2450000.0       30.00  2016-06-02T00:00:00      1   \n",
       "16610            11  11940000.0      112.00  2015-11-19T00:00:00      3   \n",
       "17535             2   5985000.0       79.80  2018-07-30T00:00:00      3   \n",
       "17764             9   8400000.0       94.00  2016-01-24T00:00:00      3   \n",
       "18526             3  10800000.0       86.00  2016-06-24T00:00:00      4   \n",
       "18917             3   2660000.0       37.99  2017-08-17T00:00:00      1   \n",
       "19045             6   4650000.0       48.00  2016-01-25T00:00:00      2   \n",
       "19972            20   4361004.0       62.40  2015-09-20T00:00:00      2   \n",
       "20057            13  11500000.0      102.00  2015-10-14T00:00:00      2   \n",
       "20382             8   1750000.0       72.90  2018-10-27T00:00:00      3   \n",
       "20590             7   3380000.0       56.00  2017-11-06T00:00:00      2   \n",
       "20654             7   6100000.0       43.00  2016-01-13T00:00:00      1   \n",
       "21119             8   3500000.0       43.20  2018-11-11T00:00:00      2   \n",
       "21276             0  17122148.0      178.30  2017-02-10T00:00:00      1   \n",
       "21333            10   5900000.0       58.00  2015-03-12T00:00:00      3   \n",
       "21715             2   6047550.0       80.10  2018-07-30T00:00:00      2   \n",
       "21898             2   5886750.0       83.50  2018-07-30T00:00:00      2   \n",
       "22474             7  24000000.0      128.00  2015-07-24T00:00:00      4   \n",
       "22717             9   3000000.0       35.00  2018-01-02T00:00:00      1   \n",
       "22933            20   3176015.0       33.30  2015-04-22T00:00:00      1   \n",
       "23214             3   7990000.0       56.00  2016-05-31T00:00:00      2   \n",
       "\n",
       "       ceiling_height  floors_total  living_area  floor is_apartment  ...  \\\n",
       "1097             3.55           5.0        50.80      2          NaN  ...   \n",
       "2033              NaN           4.0        42.60      2          NaN  ...   \n",
       "2603              NaN          24.0        15.60      3          NaN  ...   \n",
       "2632              NaN          24.0        33.10     21          NaN  ...   \n",
       "3574              NaN           5.0        30.80      5          NaN  ...   \n",
       "4151             3.00           8.0        39.62      7          NaN  ...   \n",
       "4189             4.00           4.0        52.30      3        False  ...   \n",
       "4670              NaN           7.0          NaN      6          NaN  ...   \n",
       "5343              NaN           7.0        59.10      5        False  ...   \n",
       "5707              NaN          24.0        20.00     23          NaN  ...   \n",
       "6765              NaN          24.0        31.90      3          NaN  ...   \n",
       "7114              NaN           5.0        40.00      4          NaN  ...   \n",
       "7330              NaN           5.0        42.00      1        False  ...   \n",
       "7600              NaN          11.0        42.00      9          NaN  ...   \n",
       "8568              NaN           6.0        94.00      3          NaN  ...   \n",
       "8986              NaN           NaN        68.10      4          NaN  ...   \n",
       "9821             3.00           2.0        57.80      2          NaN  ...   \n",
       "10122             NaN           5.0        53.00      2          NaN  ...   \n",
       "11248             NaN           8.0        44.00      7          NaN  ...   \n",
       "12879             NaN          12.0        20.00     12        False  ...   \n",
       "12936             NaN           5.0        53.10      2          NaN  ...   \n",
       "13223            2.75          24.0        21.10      2          NaN  ...   \n",
       "13690            2.75           2.0        45.60      1        False  ...   \n",
       "14273            2.75          23.0        32.00     14          NaN  ...   \n",
       "14342             NaN           4.0        25.80      3        False  ...   \n",
       "15686             NaN           5.0        28.00      3          NaN  ...   \n",
       "15866            2.70           5.0        28.50      5        False  ...   \n",
       "16499             NaN          24.0        29.20     14          NaN  ...   \n",
       "16561             NaN           4.0        17.00      2          NaN  ...   \n",
       "16610            3.00           5.0        64.00      2          NaN  ...   \n",
       "17535             NaN           9.0          NaN      2        False  ...   \n",
       "17764             NaN          23.0        52.00      5          NaN  ...   \n",
       "18526            3.20           7.0        48.00      2          NaN  ...   \n",
       "18917             NaN           4.0        13.00      1          NaN  ...   \n",
       "19045            3.12           5.0        26.20      1        False  ...   \n",
       "19972             NaN          24.0        33.10     21          NaN  ...   \n",
       "20057             NaN           5.0        70.00      2          NaN  ...   \n",
       "20382             NaN           5.0        47.30      2          NaN  ...   \n",
       "20590            2.70           4.0        29.00      3          NaN  ...   \n",
       "20654             NaN           5.0        21.00      3          NaN  ...   \n",
       "21119             NaN           4.0          NaN      2          NaN  ...   \n",
       "21276             NaN           3.0          NaN      1          NaN  ...   \n",
       "21333             NaN           6.0        35.20      6        False  ...   \n",
       "21715             NaN           9.0        30.50      2        False  ...   \n",
       "21898             NaN           9.0        36.60      2        False  ...   \n",
       "22474            2.75           6.0        68.40      6        False  ...   \n",
       "22717            2.60          16.0        16.00      7        False  ...   \n",
       "22933             NaN          23.0        15.40     22          NaN  ...   \n",
       "23214             NaN           6.0          NaN      5        False  ...   \n",
       "\n",
       "       kitchen_area  balcony  locality_name  airports_nearest  \\\n",
       "1097           8.80      0.0            NaN           23478.0   \n",
       "2033          18.60      0.0            NaN               NaN   \n",
       "2603          10.70      0.0            NaN           22041.0   \n",
       "2632           8.20      0.0            NaN           22041.0   \n",
       "3574           6.50      0.0            NaN           27419.0   \n",
       "4151          13.38      0.0            NaN           25054.0   \n",
       "4189          10.40      0.0            NaN           21774.0   \n",
       "4670            NaN      0.0            NaN           26534.0   \n",
       "5343           8.30      4.0            NaN           10556.0   \n",
       "5707            NaN      0.0            NaN           21460.0   \n",
       "6765          12.20      0.0            NaN           22041.0   \n",
       "7114           6.00      0.0            NaN           14031.0   \n",
       "7330           7.50      0.0            NaN           25925.0   \n",
       "7600          11.00      1.0            NaN           37123.0   \n",
       "8568          23.00      0.0            NaN           24233.0   \n",
       "8986          16.70      NaN            NaN           19659.0   \n",
       "9821          11.30      0.0            NaN           24953.0   \n",
       "10122         10.00      0.0            NaN           25771.0   \n",
       "11248          8.70      0.0            NaN           25221.0   \n",
       "12879          7.90      0.0            NaN           37123.0   \n",
       "12936          8.20      0.0            NaN           25680.0   \n",
       "13223           NaN      0.0            NaN           22041.0   \n",
       "13690          8.00      2.0            NaN           20234.0   \n",
       "14273         11.90      0.0            NaN           22041.0   \n",
       "14342           NaN      1.0            NaN               NaN   \n",
       "15686          5.00      0.0            NaN           35920.0   \n",
       "15866          5.50      1.0            NaN           36380.0   \n",
       "16499         10.90      0.0            NaN           22041.0   \n",
       "16561          6.00      1.0            NaN           21731.0   \n",
       "16610         23.00      0.0            NaN           21219.0   \n",
       "17535           NaN      NaN            NaN               NaN   \n",
       "17764           NaN      0.0            NaN           36865.0   \n",
       "18526         12.00      0.0            NaN           11206.0   \n",
       "18917         12.40      0.0            NaN           21540.0   \n",
       "19045          8.00      0.0            NaN           21654.0   \n",
       "19972          8.20      0.0            NaN           22041.0   \n",
       "20057           NaN      0.0            NaN           23478.0   \n",
       "20382          8.30      NaN            NaN               NaN   \n",
       "20590         10.00      1.0            NaN               NaN   \n",
       "20654         12.00      1.0            NaN           24385.0   \n",
       "21119           NaN      NaN            NaN           19744.0   \n",
       "21276         41.60      1.0            NaN           60195.0   \n",
       "21333         11.00      0.0            NaN           26090.0   \n",
       "21715         29.20      NaN            NaN               NaN   \n",
       "21898         29.70      NaN            NaN               NaN   \n",
       "22474         16.50      0.0            NaN           23297.0   \n",
       "22717         10.00      1.0            NaN               NaN   \n",
       "22933          9.00      0.0            NaN           22041.0   \n",
       "23214           NaN      0.0            NaN           11206.0   \n",
       "\n",
       "      cityCenters_nearest  parks_around3000  parks_nearest  ponds_around3000  \\\n",
       "1097               4258.0               0.0            NaN               0.0   \n",
       "2033                  NaN               NaN            NaN               NaN   \n",
       "2603              17369.0               0.0            NaN               1.0   \n",
       "2632              17369.0               0.0            NaN               1.0   \n",
       "3574               8127.0               0.0            NaN               1.0   \n",
       "4151               3902.0               1.0          485.0               3.0   \n",
       "4189               3039.0               1.0          690.0               1.0   \n",
       "4670               5382.0               1.0          446.0               1.0   \n",
       "5343               9538.0               1.0           67.0               0.0   \n",
       "5707              16788.0               0.0            NaN               1.0   \n",
       "6765              17369.0               0.0            NaN               1.0   \n",
       "7114               8582.0               0.0            NaN               0.0   \n",
       "7330               4627.0               2.0          459.0               0.0   \n",
       "7600              12332.0               0.0            NaN               0.0   \n",
       "8568               4065.0               1.0          547.0               0.0   \n",
       "8986              31813.0               0.0            NaN               0.0   \n",
       "9821               3801.0               1.0          375.0               2.0   \n",
       "10122              4474.0               2.0          374.0               0.0   \n",
       "11248              4069.0               0.0            NaN               2.0   \n",
       "12879             12332.0               0.0            NaN               0.0   \n",
       "12936              4383.0               3.0          336.0               0.0   \n",
       "13223             17369.0               0.0            NaN               1.0   \n",
       "13690             23659.0               0.0            NaN               2.0   \n",
       "14273             17369.0               0.0            NaN               1.0   \n",
       "14342                 NaN               NaN            NaN               NaN   \n",
       "15686              9633.0               2.0          472.0               3.0   \n",
       "15866              9497.0               1.0          634.0               3.0   \n",
       "16499             17369.0               0.0            NaN               1.0   \n",
       "16561              8619.0               0.0            NaN               3.0   \n",
       "16610              1322.0               1.0          740.0               3.0   \n",
       "17535                 NaN               NaN            NaN               NaN   \n",
       "17764             10976.0               0.0            NaN               1.0   \n",
       "18526              8943.0               0.0            NaN               0.0   \n",
       "18917              8429.0               0.0            NaN               3.0   \n",
       "19045              3312.0               1.0          549.0               1.0   \n",
       "19972             17369.0               0.0            NaN               1.0   \n",
       "20057              4258.0               0.0            NaN               0.0   \n",
       "20382                 NaN               NaN            NaN               NaN   \n",
       "20590                 NaN               NaN            NaN               NaN   \n",
       "20654              4604.0               1.0          700.0               0.0   \n",
       "21119             31897.0               0.0            NaN               0.0   \n",
       "21276             41294.0               0.0            NaN               0.0   \n",
       "21333              4805.0               0.0            NaN               1.0   \n",
       "21715                 NaN               NaN            NaN               NaN   \n",
       "21898                 NaN               NaN            NaN               NaN   \n",
       "22474              1780.0               3.0          277.0               3.0   \n",
       "22717                 NaN               NaN            NaN               NaN   \n",
       "22933             17369.0               0.0            NaN               1.0   \n",
       "23214              8943.0               0.0            NaN               0.0   \n",
       "\n",
       "       ponds_nearest  days_exposition  \n",
       "1097             NaN            147.0  \n",
       "2033             NaN             34.0  \n",
       "2603           374.0            276.0  \n",
       "2632           374.0            256.0  \n",
       "3574           603.0             45.0  \n",
       "4151           722.0            869.0  \n",
       "4189           953.0            223.0  \n",
       "4670           376.0            350.0  \n",
       "5343             NaN            303.0  \n",
       "5707           170.0             49.0  \n",
       "6765           374.0            468.0  \n",
       "7114             NaN             96.0  \n",
       "7330             NaN            566.0  \n",
       "7600             NaN            209.0  \n",
       "8568             NaN            248.0  \n",
       "8986             NaN             28.0  \n",
       "9821           532.0            531.0  \n",
       "10122            NaN            364.0  \n",
       "11248          653.0            551.0  \n",
       "12879            NaN            179.0  \n",
       "12936            NaN            542.0  \n",
       "13223          374.0            470.0  \n",
       "13690          296.0             92.0  \n",
       "14273          374.0             90.0  \n",
       "14342            NaN             92.0  \n",
       "15686          535.0            280.0  \n",
       "15866          513.0             85.0  \n",
       "16499          374.0              4.0  \n",
       "16561          162.0            140.0  \n",
       "16610          365.0            319.0  \n",
       "17535            NaN            213.0  \n",
       "17764          856.0            305.0  \n",
       "18526            NaN             65.0  \n",
       "18917          142.0             15.0  \n",
       "19045          858.0            254.0  \n",
       "19972          374.0            278.0  \n",
       "20057            NaN            325.0  \n",
       "20382            NaN              NaN  \n",
       "20590            NaN             78.0  \n",
       "20654            NaN            164.0  \n",
       "21119            NaN              9.0  \n",
       "21276            NaN              4.0  \n",
       "21333          943.0            486.0  \n",
       "21715            NaN            176.0  \n",
       "21898            NaN            169.0  \n",
       "22474          561.0            436.0  \n",
       "22717            NaN             75.0  \n",
       "22933          374.0            427.0  \n",
       "23214            NaN             70.0  \n",
       "\n",
       "[49 rows x 22 columns]"
      ]
     },
     "execution_count": 10,
     "metadata": {},
     "output_type": "execute_result"
    }
   ],
   "source": [
    "# выведем на экран датафрейм, отфильтрованный по пустым значениям в 'locality_name'\n",
    "df[df['locality_name'].isna()]"
   ]
  },
  {
   "cell_type": "markdown",
   "metadata": {},
   "source": [
    "Не видно никаких закономерностей"
   ]
  },
  {
   "cell_type": "code",
   "execution_count": 11,
   "metadata": {
    "scrolled": true
   },
   "outputs": [
    {
     "data": {
      "text/plain": [
       "locality_name\n",
       "Санкт-Петербург                    15721\n",
       "посёлок Мурино                       522\n",
       "посёлок Шушары                       440\n",
       "Всеволожск                           398\n",
       "Пушкин                               369\n",
       "                                   ...  \n",
       "поселок Каложицы                       1\n",
       "посёлок Платформа 69-й километр        1\n",
       "поселок Почап                          1\n",
       "поселок Гончарово                      1\n",
       "посёлок Дзержинского                   1\n",
       "Name: count, Length: 364, dtype: int64"
      ]
     },
     "metadata": {},
     "output_type": "display_data"
    }
   ],
   "source": [
    "df['locality_name'].value_counts()"
   ]
  },
  {
   "cell_type": "markdown",
   "metadata": {},
   "source": [
    "Имеем более 300 непустых значений"
   ]
  },
  {
   "cell_type": "markdown",
   "metadata": {},
   "source": [
    "<a id=\"step_4\"></a>\n",
    "### Заполнение пропусков в данных."
   ]
  },
  {
   "cell_type": "code",
   "execution_count": 12,
   "metadata": {},
   "outputs": [],
   "source": [
    "# т.к. нам необходимо в последующем учитывать параметр 'ceiling_height',\n",
    "# заполним пропущенные значения значениями медианы\n",
    "df['ceiling_height'].fillna(df['ceiling_height'].median(), inplace=True)"
   ]
  },
  {
   "cell_type": "code",
   "execution_count": 13,
   "metadata": {},
   "outputs": [],
   "source": [
    "#заменим пустые значения в 'floors_total' значением 'floor'\n",
    "df['floors_total'].fillna(0, inplace=True)\n",
    "for i in range (len(df)):\n",
    "    if df.loc[i, 'floors_total'] == 0:\n",
    "        df.loc[i, 'floors_total'] = df.loc[i, 'floor']"
   ]
  },
  {
   "cell_type": "code",
   "execution_count": 14,
   "metadata": {},
   "outputs": [],
   "source": [
    "# ранее, мы заметили, что из не пустых значений преобладает значение 'False', тогда и применим ко всем пустым\n",
    "# значениям, данное свойство\n",
    "df['is_apartment'] = df['is_apartment'].fillna(False)"
   ]
  },
  {
   "cell_type": "code",
   "execution_count": 15,
   "metadata": {},
   "outputs": [],
   "source": [
    "# для подстановки пропущенных данных в 'living_area' посчитаем коэффициент жилой площади от общей по всему\n",
    "# датафрейму, исключая квартиры-студии\n",
    "total_area = (\n",
    "    df\n",
    "    .query('is_apartment != True')\n",
    "    .pivot_table(index = 'rooms', values = ['living_area', 'total_area'], aggfunc='sum')\n",
    ")\n",
    "coef_total_living = total_area['living_area'].sum() / total_area['total_area'].sum()"
   ]
  },
  {
   "cell_type": "code",
   "execution_count": 16,
   "metadata": {},
   "outputs": [],
   "source": [
    "# заменим пустые значения в 'living_area' значением 'total_area' * коэффициент, посчитанный ранее\n",
    "df['living_area'].fillna(0, inplace=True)\n",
    "for i in range(len(df)):\n",
    "    if (df.loc[i, 'living_area'] == 0) & (df.loc[i, 'is_apartment'] != True):\n",
    "        df.loc[i, 'living_area'] = df.loc[i, 'total_area'] * coef_total_living\n",
    "    if (df.loc[i, 'living_area'] == 0) & (df.loc[i, 'is_apartment'] == True):\n",
    "        df.loc[i, 'living_area'] = df.loc[i, 'total_area']"
   ]
  },
  {
   "cell_type": "code",
   "execution_count": 17,
   "metadata": {},
   "outputs": [],
   "source": [
    "# для подстановки пропущенных данных в 'kitchen_area' посчитаем коэффициент площади кухни от общей по всему\n",
    "# датафрейму, исключая квартиры-студии, площадь кухни в квартирах-студиях укажем - 0\n",
    "kitchen_area = (\n",
    "    df\n",
    "    .query('is_apartment != True')\n",
    "    .pivot_table(index = 'rooms', values = ['kitchen_area', 'total_area'], aggfunc='sum')\n",
    ")\n",
    "coef_kitchen_area = kitchen_area['kitchen_area'].sum() / kitchen_area['total_area'].sum()"
   ]
  },
  {
   "cell_type": "code",
   "execution_count": 18,
   "metadata": {},
   "outputs": [],
   "source": [
    "# заменим пустые значения в 'kitchen_area' значением 'total_area' * коэффициент, посчитанный ранее\n",
    "df['kitchen_area'].fillna(0, inplace=True)\n",
    "for i in range(len(df)):\n",
    "    if (df.loc[i, 'living_area'] == 0) & (df.loc[i, 'is_apartment'] != True):\n",
    "        df.loc[i, 'living_area'] = df.loc[i, 'total_area'] * coef_kitchen_area"
   ]
  },
  {
   "cell_type": "code",
   "execution_count": 19,
   "metadata": {},
   "outputs": [],
   "source": [
    "# пропуски по количеству балконов, скорее всего указывают на то, что в квартире их просто нет, заменим на '0'\n",
    "df['balcony'] = df['balcony'].fillna(0)"
   ]
  },
  {
   "cell_type": "code",
   "execution_count": 20,
   "metadata": {},
   "outputs": [],
   "source": [
    "# заменим пропуски в days_exposition на '0', т.к. скоере всего, данные квартиры еще не проданы\n",
    "df['days_exposition'] = df['days_exposition'].fillna(0)"
   ]
  },
  {
   "cell_type": "code",
   "execution_count": 21,
   "metadata": {},
   "outputs": [
    {
     "name": "stdout",
     "output_type": "stream",
     "text": [
      "<class 'pandas.core.frame.DataFrame'>\n",
      "RangeIndex: 23699 entries, 0 to 23698\n",
      "Data columns (total 22 columns):\n",
      " #   Column                Non-Null Count  Dtype  \n",
      "---  ------                --------------  -----  \n",
      " 0   total_images          23699 non-null  int64  \n",
      " 1   last_price            23699 non-null  float64\n",
      " 2   total_area            23699 non-null  float64\n",
      " 3   first_day_exposition  23699 non-null  object \n",
      " 4   rooms                 23699 non-null  int64  \n",
      " 5   ceiling_height        23699 non-null  float64\n",
      " 6   floors_total          23699 non-null  float64\n",
      " 7   living_area           23699 non-null  float64\n",
      " 8   floor                 23699 non-null  int64  \n",
      " 9   is_apartment          23699 non-null  bool   \n",
      " 10  studio                23699 non-null  bool   \n",
      " 11  open_plan             23699 non-null  bool   \n",
      " 12  kitchen_area          23699 non-null  float64\n",
      " 13  balcony               23699 non-null  float64\n",
      " 14  locality_name         23650 non-null  object \n",
      " 15  airports_nearest      18157 non-null  float64\n",
      " 16  cityCenters_nearest   18180 non-null  float64\n",
      " 17  parks_around3000      18181 non-null  float64\n",
      " 18  parks_nearest         8079 non-null   float64\n",
      " 19  ponds_around3000      18181 non-null  float64\n",
      " 20  ponds_nearest         9110 non-null   float64\n",
      " 21  days_exposition       23699 non-null  float64\n",
      "dtypes: bool(3), float64(14), int64(3), object(2)\n",
      "memory usage: 3.5+ MB\n"
     ]
    }
   ],
   "source": [
    "# проверим заполнение пропущенных значений\n",
    "df.info()"
   ]
  },
  {
   "cell_type": "markdown",
   "metadata": {},
   "source": [
    "<a id=\"step_5\"></a>\n",
    "### Возможные причины приведшие к возникновению пропусков в данных."
   ]
  },
  {
   "cell_type": "markdown",
   "metadata": {},
   "source": [
    "При изучении данных из файла и замене пропусков в данных мы столкнулись с тем, сто обнаружили прпуски в данных. Рассмотрим пропуски по каждому столбцу отдельно:\n",
    "\n",
    " - ceiling_height - скорее всего при подаче объявления просто не указали высоту потолков\n",
    " - floors_total - при анализе данных не выявили никаких закономерностей пропусков\n",
    " - living_area - пропусков не так много, скорее всего ошибка в данных, т.к. закономерностей пропусков обнаружено не было\n",
    " - is_apartment - не понятно из-за чего данные пропуски, т.к. закономерностей не выявлено (даты публикации объявлений и т.д.)\n",
    " - kitchen_area - не понятно из-за чего данные пропуски, т.к. закономерностей не выявлено\n",
    " - balcony - скорее всего, при подаче объявлений, квартиры без балконов не проставляли признак количества балконов\n",
    " - locality_name - не понятно из-за чего данные пропуски, т.к. закономерностей не выявлено\n",
    " - airports_nearest - скорее всего, данные квартиры значительно удалены от аэропортов и, при подаче объявления, расстояние просто не указывали\n",
    " - cityCenters_nearest - скорее всего, данные квартиры значительно удалены от центра и, при подаче объявления, расстояние просто не указывали\n",
    " - parks_around3000 - скорее всего, данные квартиры значительно удалены от парков и, при подаче объявления, расстояние просто не указывали\n",
    " - parks_nearest - скорее всего, данные квартиры значительно удалены от парков и, при подаче объявления, расстояние просто не указывали\n",
    " - ponds_around3000 - скорее всего, данные квартиры значительно удалены от водоемов и, при подаче объявления, расстояние просто не указывали\n",
    " - ponds_nearest - скорее всего, данные квартиры значительно удалены от водоемов и, при подаче объявления, расстояние просто не указывали\n",
    " - days_exposition - скорее всего, пустые значения в данном столбце - это непроданые квартиры"
   ]
  },
  {
   "cell_type": "markdown",
   "metadata": {},
   "source": [
    "<a id=\"step_6\"></a>\n",
    "### Приведение данных к нужным типам."
   ]
  },
  {
   "cell_type": "code",
   "execution_count": 22,
   "metadata": {},
   "outputs": [],
   "source": [
    "# ранее, мы заметили, что не все данные в столбце 'balcony' однородны, приведем все к общему типу 'int'\n",
    "df['balcony'] = df['balcony'].astype('int')\n",
    "\n",
    "# также, мы заметили, что не все данные в столбце 'days_exposition' однородны, приведем все к общему типу 'int'\n",
    "df['days_exposition'] = df['days_exposition'].astype('int')"
   ]
  },
  {
   "cell_type": "markdown",
   "metadata": {},
   "source": [
    "## Расчёты и добавление результатов в таблицу"
   ]
  },
  {
   "cell_type": "markdown",
   "metadata": {},
   "source": [
    "<a id=\"step_7\"></a>\n",
    "### Посчитаем и добавим в таблицу цену квадратного метра."
   ]
  },
  {
   "cell_type": "code",
   "execution_count": 23,
   "metadata": {},
   "outputs": [
    {
     "data": {
      "text/plain": [
       "0    120370\n",
       "1     82920\n",
       "2     92785\n",
       "3    408176\n",
       "4    100000\n",
       "5     95065\n",
       "6     99195\n",
       "7    110544\n",
       "8     87454\n",
       "9     88524\n",
       "Name: price_metr, dtype: int64"
      ]
     },
     "execution_count": 23,
     "metadata": {},
     "output_type": "execute_result"
    }
   ],
   "source": [
    "# добавим столбец с ценой квадратного метра\n",
    "df['price_metr'] = df['last_price'] / df['total_area']\n",
    "\n",
    "# округлим данные в этом столбце\n",
    "df['price_metr'] = df['price_metr'].astype('int')\n",
    "df['price_metr'].head(10)"
   ]
  },
  {
   "cell_type": "markdown",
   "metadata": {},
   "source": [
    "<a id=\"step_7\"></a>\n",
    "### Добавление дня недели, месяца и года публикации объявления."
   ]
  },
  {
   "cell_type": "code",
   "execution_count": 24,
   "metadata": {
    "scrolled": true
   },
   "outputs": [
    {
     "data": {
      "text/html": [
       "<div>\n",
       "<style scoped>\n",
       "    .dataframe tbody tr th:only-of-type {\n",
       "        vertical-align: middle;\n",
       "    }\n",
       "\n",
       "    .dataframe tbody tr th {\n",
       "        vertical-align: top;\n",
       "    }\n",
       "\n",
       "    .dataframe thead th {\n",
       "        text-align: right;\n",
       "    }\n",
       "</style>\n",
       "<table border=\"1\" class=\"dataframe\">\n",
       "  <thead>\n",
       "    <tr style=\"text-align: right;\">\n",
       "      <th></th>\n",
       "      <th>weekday_exposition</th>\n",
       "      <th>month_exposition</th>\n",
       "      <th>year_exposition</th>\n",
       "    </tr>\n",
       "  </thead>\n",
       "  <tbody>\n",
       "    <tr>\n",
       "      <th>0</th>\n",
       "      <td>3</td>\n",
       "      <td>3</td>\n",
       "      <td>2019</td>\n",
       "    </tr>\n",
       "    <tr>\n",
       "      <th>1</th>\n",
       "      <td>1</td>\n",
       "      <td>12</td>\n",
       "      <td>2018</td>\n",
       "    </tr>\n",
       "    <tr>\n",
       "      <th>2</th>\n",
       "      <td>3</td>\n",
       "      <td>8</td>\n",
       "      <td>2015</td>\n",
       "    </tr>\n",
       "    <tr>\n",
       "      <th>3</th>\n",
       "      <td>4</td>\n",
       "      <td>7</td>\n",
       "      <td>2015</td>\n",
       "    </tr>\n",
       "    <tr>\n",
       "      <th>4</th>\n",
       "      <td>1</td>\n",
       "      <td>6</td>\n",
       "      <td>2018</td>\n",
       "    </tr>\n",
       "    <tr>\n",
       "      <th>5</th>\n",
       "      <td>0</td>\n",
       "      <td>9</td>\n",
       "      <td>2018</td>\n",
       "    </tr>\n",
       "    <tr>\n",
       "      <th>6</th>\n",
       "      <td>3</td>\n",
       "      <td>11</td>\n",
       "      <td>2017</td>\n",
       "    </tr>\n",
       "    <tr>\n",
       "      <th>7</th>\n",
       "      <td>3</td>\n",
       "      <td>4</td>\n",
       "      <td>2019</td>\n",
       "    </tr>\n",
       "    <tr>\n",
       "      <th>8</th>\n",
       "      <td>2</td>\n",
       "      <td>5</td>\n",
       "      <td>2018</td>\n",
       "    </tr>\n",
       "    <tr>\n",
       "      <th>9</th>\n",
       "      <td>6</td>\n",
       "      <td>2</td>\n",
       "      <td>2017</td>\n",
       "    </tr>\n",
       "  </tbody>\n",
       "</table>\n",
       "</div>"
      ],
      "text/plain": [
       "   weekday_exposition  month_exposition  year_exposition\n",
       "0                   3                 3             2019\n",
       "1                   1                12             2018\n",
       "2                   3                 8             2015\n",
       "3                   4                 7             2015\n",
       "4                   1                 6             2018\n",
       "5                   0                 9             2018\n",
       "6                   3                11             2017\n",
       "7                   3                 4             2019\n",
       "8                   2                 5             2018\n",
       "9                   6                 2             2017"
      ]
     },
     "execution_count": 24,
     "metadata": {},
     "output_type": "execute_result"
    }
   ],
   "source": [
    "# переведем столбец с датой в формат ГГГ-ММ-ДД\n",
    "df['first_day_exposition'] = pd.to_datetime(df['first_day_exposition'], format='mixed')\n",
    "\n",
    "# создадим столбец дня недели\n",
    "df['weekday_exposition'] = df['first_day_exposition'].dt.weekday\n",
    "\n",
    "# создадим столбец месяца\n",
    "df['month_exposition'] = df['first_day_exposition'].dt.month\n",
    "\n",
    "# создадим столбец года\n",
    "df['year_exposition'] = df['first_day_exposition'].dt.year\n",
    "\n",
    "df.loc[:, ['weekday_exposition', 'month_exposition', 'year_exposition']].head(10)"
   ]
  },
  {
   "cell_type": "markdown",
   "metadata": {},
   "source": [
    "<a id=\"step_8\"></a>\n",
    "### Добавление этажа квартиры с вариантами: первый, последний, другой."
   ]
  },
  {
   "cell_type": "code",
   "execution_count": 25,
   "metadata": {},
   "outputs": [],
   "source": [
    "def floor_category(row: pd.Series) -> str:\n",
    "    '''\n",
    "    Создадим функцию, возвращающую наименование этажа: первый, последний, другой \n",
    "    '''\n",
    "    floors_total = row['floors_total']\n",
    "    floor = row['floor']\n",
    "    if floor == 1:\n",
    "        return 'первый'\n",
    "    elif floor == floors_total:\n",
    "        return 'последний'\n",
    "    elif 1 < floor < floors_total:\n",
    "        return 'другой'"
   ]
  },
  {
   "cell_type": "code",
   "execution_count": 26,
   "metadata": {},
   "outputs": [],
   "source": [
    "# добавляем новый столбец с помощью функции  \n",
    "df['floor_category'] = df.apply(floor_category, axis=1)"
   ]
  },
  {
   "cell_type": "markdown",
   "metadata": {},
   "source": [
    "<a id=\"step_9\"></a>\n",
    "### Добавление соотношения жилой и общей площади, а также отношение площади кухни к общей."
   ]
  },
  {
   "cell_type": "code",
   "execution_count": 27,
   "metadata": {},
   "outputs": [],
   "source": [
    "# добавим столбец соотношения жилой площади к общей\n",
    "df['area_ratio'] = df['living_area'] / df['total_area']"
   ]
  },
  {
   "cell_type": "code",
   "execution_count": 28,
   "metadata": {},
   "outputs": [],
   "source": [
    "# добавим столбец соотношения площади кухни к общей\n",
    "df['kitchen_ratio'] = df['kitchen_area'] / df['total_area']"
   ]
  },
  {
   "cell_type": "markdown",
   "metadata": {},
   "source": [
    "## Исследовательский анализ данных"
   ]
  },
  {
   "cell_type": "markdown",
   "metadata": {},
   "source": [
    "<a id=\"step_11\"></a>\n",
    "### Изучаем параметры: площадь, цена, число комнат, высота потолков."
   ]
  },
  {
   "cell_type": "code",
   "execution_count": 29,
   "metadata": {},
   "outputs": [
    {
     "data": {
      "text/plain": [
       "count    23699.000000\n",
       "mean        60.348651\n",
       "std         35.654083\n",
       "min         12.000000\n",
       "25%         40.000000\n",
       "50%         52.000000\n",
       "75%         69.900000\n",
       "max        900.000000\n",
       "Name: total_area, dtype: float64"
      ]
     },
     "metadata": {},
     "output_type": "display_data"
    },
    {
     "data": {
      "text/plain": [
       "<AxesSubplot:ylabel='Frequency'>"
      ]
     },
     "execution_count": 29,
     "metadata": {},
     "output_type": "execute_result"
    },
    {
     "data": {
      "image/png": "[encoded data removed]",
      "text/plain": [
       "<Figure size 360x216 with 1 Axes>"
      ]
     },
     "metadata": {
      "needs_background": "light"
     },
     "output_type": "display_data"
    }
   ],
   "source": [
    "# изучим общую площадь\n",
    "display(df ['total_area'].describe())\n",
    "df.plot(y='total_area', kind='hist', bins=100, grid=True, figsize=(5,3), range=(0,300))"
   ]
  },
  {
   "cell_type": "markdown",
   "metadata": {},
   "source": [
    "Распределение данных по общей прощади нормальное, есть выбросы но они не сильно влияют на данные.\n",
    "Из гистограммы видно, что большинство квартир имеют общую площадь от 40 до 70 квадратных метров.\n",
    "Минимальная прощадь квартир - 12 кв.м, максимальная - 900 кв.м, средняя площадь квартир - 60 кв.м, медианное значение площади равно 52 кв.м."
   ]
  },
  {
   "cell_type": "code",
   "execution_count": 30,
   "metadata": {},
   "outputs": [
    {
     "data": {
      "text/plain": [
       "count    2.369900e+04\n",
       "mean     6.541549e+06\n",
       "std      1.088701e+07\n",
       "min      1.219000e+04\n",
       "25%      3.400000e+06\n",
       "50%      4.650000e+06\n",
       "75%      6.800000e+06\n",
       "max      7.630000e+08\n",
       "Name: last_price, dtype: float64"
      ]
     },
     "metadata": {},
     "output_type": "display_data"
    },
    {
     "data": {
      "text/plain": [
       "<AxesSubplot:ylabel='Frequency'>"
      ]
     },
     "execution_count": 30,
     "metadata": {},
     "output_type": "execute_result"
    },
    {
     "data": {
      "image/png": "[encoded data removed]",
      "text/plain": [
       "<Figure size 360x216 with 1 Axes>"
      ]
     },
     "metadata": {
      "needs_background": "light"
     },
     "output_type": "display_data"
    }
   ],
   "source": [
    "# изучим цену\n",
    "display(df['last_price'].describe())\n",
    "df.plot(y='last_price', kind='hist', bins=100, grid=True, figsize=(5,3), range=(500000,30000000))"
   ]
  },
  {
   "cell_type": "markdown",
   "metadata": {},
   "source": [
    "Из представленных данных можем выделить, что цены на квартиры колеблются в диапазоне от 12 тыс.руб. до 763 млн.руб.\n",
    "Средняя стоимость квартиры - 6,5 млн.руб., медианное значение стоимости квартиры - 4,65 млн.руб."
   ]
  },
  {
   "cell_type": "code",
   "execution_count": 31,
   "metadata": {},
   "outputs": [
    {
     "data": {
      "text/plain": [
       "count    23699.000000\n",
       "mean         2.070636\n",
       "std          1.078405\n",
       "min          0.000000\n",
       "25%          1.000000\n",
       "50%          2.000000\n",
       "75%          3.000000\n",
       "max         19.000000\n",
       "Name: rooms, dtype: float64"
      ]
     },
     "metadata": {},
     "output_type": "display_data"
    },
    {
     "data": {
      "text/plain": [
       "<AxesSubplot:ylabel='Frequency'>"
      ]
     },
     "execution_count": 31,
     "metadata": {},
     "output_type": "execute_result"
    },
    {
     "data": {
      "image/png": "[encoded data removed]",
      "text/plain": [
       "<Figure size 360x216 with 1 Axes>"
      ]
     },
     "metadata": {
      "needs_background": "light"
     },
     "output_type": "display_data"
    }
   ],
   "source": [
    "# изучим число комнат\n",
    "display(df['rooms'].describe())\n",
    "df.plot(y='rooms', kind='hist', bins=30, grid=True, figsize=(5,3), range=(0,8))"
   ]
  },
  {
   "cell_type": "markdown",
   "metadata": {},
   "source": [
    "Из анализа данных видим, что количество комнат в продаваемых квартирах колеблется от 0 (квартиры - студии) до 19.\n",
    "Больше всего встречается 1,2 и 3-х комнатные квартиры."
   ]
  },
  {
   "cell_type": "code",
   "execution_count": 32,
   "metadata": {},
   "outputs": [
    {
     "data": {
      "text/plain": [
       "count    23699.000000\n",
       "mean         2.724358\n",
       "std          0.988298\n",
       "min          1.000000\n",
       "25%          2.600000\n",
       "50%          2.650000\n",
       "75%          2.700000\n",
       "max        100.000000\n",
       "Name: ceiling_height, dtype: float64"
      ]
     },
     "metadata": {},
     "output_type": "display_data"
    },
    {
     "data": {
      "text/plain": [
       "<AxesSubplot:ylabel='Frequency'>"
      ]
     },
     "execution_count": 32,
     "metadata": {},
     "output_type": "execute_result"
    },
    {
     "data": {
      "image/png": "[encoded data removed]",
      "text/plain": [
       "<Figure size 360x216 with 1 Axes>"
      ]
     },
     "metadata": {
      "needs_background": "light"
     },
     "output_type": "display_data"
    }
   ],
   "source": [
    "# изучим высоту потолков\n",
    "display(df['ceiling_height'].describe())\n",
    "df.plot(y='ceiling_height', kind='hist', bins=30, grid=True, figsize=(5,3), range=(2, 4))"
   ]
  },
  {
   "cell_type": "markdown",
   "metadata": {},
   "source": [
    "Из полученных данных видно, что высота потолков варьируется от 1 м до 100 м (видимо это вбросы).\n",
    "Среднее значение 2.72 м, медианное - 2,65 м"
   ]
  },
  {
   "cell_type": "markdown",
   "metadata": {},
   "source": [
    "<a id=\"step_12\"></a>\n",
    "### Изучаем время продажи квартиры."
   ]
  },
  {
   "cell_type": "code",
   "execution_count": 33,
   "metadata": {},
   "outputs": [
    {
     "data": {
      "text/plain": [
       "count    20518.000000\n",
       "mean       180.888634\n",
       "std        219.727988\n",
       "min          1.000000\n",
       "25%         45.000000\n",
       "50%         95.000000\n",
       "75%        232.000000\n",
       "max       1580.000000\n",
       "Name: days_exposition, dtype: float64"
      ]
     },
     "metadata": {},
     "output_type": "display_data"
    },
    {
     "data": {
      "text/plain": [
       "days_exposition\n",
       "45      880\n",
       "60      538\n",
       "7       234\n",
       "30      208\n",
       "90      204\n",
       "       ... \n",
       "1021      1\n",
       "1362      1\n",
       "1105      1\n",
       "795       1\n",
       "971       1\n",
       "Name: count, Length: 1141, dtype: int64"
      ]
     },
     "metadata": {},
     "output_type": "display_data"
    },
    {
     "data": {
      "image/png": "[encoded data removed]",
      "text/plain": [
       "<Figure size 432x288 with 1 Axes>"
      ]
     },
     "metadata": {
      "needs_background": "light"
     },
     "output_type": "display_data"
    },
    {
     "data": {
      "image/png": "[encoded data removed]",
      "text/plain": [
       "<Figure size 360x216 with 1 Axes>"
      ]
     },
     "metadata": {
      "needs_background": "light"
     },
     "output_type": "display_data"
    }
   ],
   "source": [
    "# т.к. квартиры, которые еще в продаже, отображаются как 'days_exposition' = 0, убирем эти значения\n",
    "day_df=df.query('days_exposition != 0')\n",
    "\n",
    "# изучим время продажи квартир\n",
    "display(day_df['days_exposition'].describe())\n",
    "\n",
    "# построим диаграмму размаха\n",
    "import matplotlib.pyplot as plt\n",
    "plt.boxplot(day_df['days_exposition'])\n",
    "plt.ylim(1, 1000)\n",
    "\n",
    "# построим гистограмму продажи квартир\n",
    "day_df.plot(y='days_exposition', kind='hist', bins=30, grid=True, figsize=(5,3), range=(0, 100))\n",
    "\n",
    "# посмотрим на выбивающиеся значения\n",
    "display(day_df['days_exposition'].value_counts())"
   ]
  },
  {
   "cell_type": "markdown",
   "metadata": {},
   "source": [
    "Из анализа данных видим, что квартиры продаются в среднем за 180 дней, медианное значение продажи квартир - 95 дня.\n",
    "\n",
    "Из диаграммы размаха видно, что необоснованно долгие значения лежат за отметкой примерно 500 дней, а необснованно быстрых нет.\n",
    "\n",
    "Аномально много квартир продается за 7, 30, 45, 60, 90 дней.\n",
    "\n",
    "Из условий подачи объявлений в сервисе Яндекс.Недвижимость выяснили, что сроки хранения объявлений о продажи квартир как раз 30, 45, 60 и 90 дней, а комнат - 7 дней.\n",
    "\n",
    "Значит это не проданные квартиры, а снятый с публикаций.\n",
    "\n",
    "Данными значениями можем пренебречь."
   ]
  },
  {
   "cell_type": "markdown",
   "metadata": {},
   "source": [
    "<a id=\"step_13\"></a>\n",
    "### Убираем редкие и выбивающиеся значения."
   ]
  },
  {
   "cell_type": "code",
   "execution_count": 34,
   "metadata": {},
   "outputs": [
    {
     "data": {
      "text/plain": [
       "count    18454.000000\n",
       "mean       195.803349\n",
       "std        226.760010\n",
       "min          1.000000\n",
       "25%         44.000000\n",
       "50%        114.000000\n",
       "75%        259.000000\n",
       "max       1580.000000\n",
       "Name: days_exposition, dtype: float64"
      ]
     },
     "metadata": {},
     "output_type": "display_data"
    },
    {
     "data": {
      "text/plain": [
       "days_exposition\n",
       "4       176\n",
       "3       158\n",
       "5       152\n",
       "14      148\n",
       "9       143\n",
       "       ... \n",
       "1553      1\n",
       "793       1\n",
       "1434      1\n",
       "1231      1\n",
       "971       1\n",
       "Name: count, Length: 1136, dtype: int64"
      ]
     },
     "metadata": {},
     "output_type": "display_data"
    },
    {
     "data": {
      "image/png": "[encoded data removed]",
      "text/plain": [
       "<Figure size 360x216 with 1 Axes>"
      ]
     },
     "metadata": {
      "needs_background": "light"
     },
     "output_type": "display_data"
    }
   ],
   "source": [
    "# т.к. квартиры, которые еще в продаже, отображаются как 'days_exposition' != 7, 30, 45, 60, 90,\n",
    "# убирем эти значения\n",
    "good_day_df = day_df.query('days_exposition != 45 and days_exposition != 60 \\\n",
    "    and days_exposition != 7 and days_exposition != 30 and days_exposition != 90')\n",
    "\n",
    "# изучим время продажи квартир\n",
    "display(good_day_df['days_exposition'].describe())\n",
    "\n",
    "# построим гистограмму продажи квартир\n",
    "good_day_df.plot(y='days_exposition', kind='hist', bins=30, grid=True, figsize=(5,3), range=(0, 1500))\n",
    "\n",
    "# посмотрим на выбивающиеся значения\n",
    "display(good_day_df['days_exposition'].value_counts())"
   ]
  },
  {
   "cell_type": "markdown",
   "metadata": {},
   "source": [
    "Из анализа данных видим, что квартиры продаются в среднем за 195 дней, медианное значение продажи квартир - 114 дня."
   ]
  },
  {
   "cell_type": "markdown",
   "metadata": {},
   "source": [
    "<a id=\"step_14\"></a>\n",
    "### Выявляем какие факторы больше всего влияют на стоимость квартиры."
   ]
  },
  {
   "cell_type": "code",
   "execution_count": 36,
   "metadata": {},
   "outputs": [
    {
     "data": {
      "text/plain": [
       "0.30196014387792547"
      ]
     },
     "execution_count": 36,
     "metadata": {},
     "output_type": "execute_result"
    },
    {
     "data": {
      "image/png": "[encoded data removed]",
      "text/plain": [
       "<Figure size 432x288 with 1 Axes>"
      ]
     },
     "metadata": {
      "needs_background": "light"
     },
     "output_type": "display_data"
    }
   ],
   "source": [
    "# подсчитаем зависимость цены квадратного метра от площади квартиры\n",
    "# для этого создадим сводную таблицу\n",
    "pivot_table_total_area = df.pivot_table(index='total_area',\n",
    "                                        values='price_metr',\n",
    "                                        aggfunc=['mean', 'count', 'median'])\n",
    "\n",
    "# переименуем столбцы таблицы\n",
    "pivot_table_total_area.columns = ['mean', 'count', 'median']\n",
    "\n",
    "# построим график зависимости\n",
    "pivot_table_total_area.plot(y='median', style='o')\n",
    "\n",
    "# посчитаем корреляцию\n",
    "pivot_table_total_area.sort_values('median', ascending=False)\n",
    "df['total_area'].corr(df['price_metr'])"
   ]
  },
  {
   "cell_type": "markdown",
   "metadata": {},
   "source": [
    "Из построенной диаграммы и посчитанной коррелиции можно сделать вывод, что зависимость стоимости <b>квадратного метра от ее площадью</b> слабая (при увеличении площади квартиры стоимость квадратного метра увеличивается слабо)."
   ]
  },
  {
   "cell_type": "code",
   "execution_count": 37,
   "metadata": {},
   "outputs": [
    {
     "data": {
      "text/html": [
       "<div>\n",
       "<style scoped>\n",
       "    .dataframe tbody tr th:only-of-type {\n",
       "        vertical-align: middle;\n",
       "    }\n",
       "\n",
       "    .dataframe tbody tr th {\n",
       "        vertical-align: top;\n",
       "    }\n",
       "\n",
       "    .dataframe thead th {\n",
       "        text-align: right;\n",
       "    }\n",
       "</style>\n",
       "<table border=\"1\" class=\"dataframe\">\n",
       "  <thead>\n",
       "    <tr style=\"text-align: right;\">\n",
       "      <th></th>\n",
       "      <th>mean</th>\n",
       "      <th>count</th>\n",
       "      <th>median</th>\n",
       "    </tr>\n",
       "    <tr>\n",
       "      <th>rooms</th>\n",
       "      <th></th>\n",
       "      <th></th>\n",
       "      <th></th>\n",
       "    </tr>\n",
       "  </thead>\n",
       "  <tbody>\n",
       "    <tr>\n",
       "      <th>0</th>\n",
       "      <td>108512.730964</td>\n",
       "      <td>197</td>\n",
       "      <td>105555.0</td>\n",
       "    </tr>\n",
       "    <tr>\n",
       "      <th>1</th>\n",
       "      <td>100817.830993</td>\n",
       "      <td>8047</td>\n",
       "      <td>100000.0</td>\n",
       "    </tr>\n",
       "    <tr>\n",
       "      <th>2</th>\n",
       "      <td>95489.207557</td>\n",
       "      <td>7940</td>\n",
       "      <td>92796.0</td>\n",
       "    </tr>\n",
       "    <tr>\n",
       "      <th>3</th>\n",
       "      <td>97150.694358</td>\n",
       "      <td>5814</td>\n",
       "      <td>88983.0</td>\n",
       "    </tr>\n",
       "    <tr>\n",
       "      <th>4</th>\n",
       "      <td>110331.160169</td>\n",
       "      <td>1180</td>\n",
       "      <td>92666.0</td>\n",
       "    </tr>\n",
       "    <tr>\n",
       "      <th>5</th>\n",
       "      <td>126749.889571</td>\n",
       "      <td>326</td>\n",
       "      <td>96516.5</td>\n",
       "    </tr>\n",
       "    <tr>\n",
       "      <th>6</th>\n",
       "      <td>140718.342857</td>\n",
       "      <td>105</td>\n",
       "      <td>99411.0</td>\n",
       "    </tr>\n",
       "    <tr>\n",
       "      <th>7</th>\n",
       "      <td>163569.491525</td>\n",
       "      <td>59</td>\n",
       "      <td>108827.0</td>\n",
       "    </tr>\n",
       "    <tr>\n",
       "      <th>8</th>\n",
       "      <td>184650.583333</td>\n",
       "      <td>12</td>\n",
       "      <td>106760.0</td>\n",
       "    </tr>\n",
       "    <tr>\n",
       "      <th>9</th>\n",
       "      <td>105026.875000</td>\n",
       "      <td>8</td>\n",
       "      <td>92517.5</td>\n",
       "    </tr>\n",
       "    <tr>\n",
       "      <th>10</th>\n",
       "      <td>98009.666667</td>\n",
       "      <td>3</td>\n",
       "      <td>84372.0</td>\n",
       "    </tr>\n",
       "    <tr>\n",
       "      <th>11</th>\n",
       "      <td>132639.500000</td>\n",
       "      <td>2</td>\n",
       "      <td>132639.5</td>\n",
       "    </tr>\n",
       "    <tr>\n",
       "      <th>12</th>\n",
       "      <td>466666.000000</td>\n",
       "      <td>1</td>\n",
       "      <td>466666.0</td>\n",
       "    </tr>\n",
       "    <tr>\n",
       "      <th>14</th>\n",
       "      <td>92827.000000</td>\n",
       "      <td>2</td>\n",
       "      <td>92827.0</td>\n",
       "    </tr>\n",
       "    <tr>\n",
       "      <th>15</th>\n",
       "      <td>110169.000000</td>\n",
       "      <td>1</td>\n",
       "      <td>110169.0</td>\n",
       "    </tr>\n",
       "    <tr>\n",
       "      <th>16</th>\n",
       "      <td>105555.000000</td>\n",
       "      <td>1</td>\n",
       "      <td>105555.0</td>\n",
       "    </tr>\n",
       "    <tr>\n",
       "      <th>19</th>\n",
       "      <td>86091.000000</td>\n",
       "      <td>1</td>\n",
       "      <td>86091.0</td>\n",
       "    </tr>\n",
       "  </tbody>\n",
       "</table>\n",
       "</div>"
      ],
      "text/plain": [
       "                mean  count    median\n",
       "rooms                                \n",
       "0      108512.730964    197  105555.0\n",
       "1      100817.830993   8047  100000.0\n",
       "2       95489.207557   7940   92796.0\n",
       "3       97150.694358   5814   88983.0\n",
       "4      110331.160169   1180   92666.0\n",
       "5      126749.889571    326   96516.5\n",
       "6      140718.342857    105   99411.0\n",
       "7      163569.491525     59  108827.0\n",
       "8      184650.583333     12  106760.0\n",
       "9      105026.875000      8   92517.5\n",
       "10      98009.666667      3   84372.0\n",
       "11     132639.500000      2  132639.5\n",
       "12     466666.000000      1  466666.0\n",
       "14      92827.000000      2   92827.0\n",
       "15     110169.000000      1  110169.0\n",
       "16     105555.000000      1  105555.0\n",
       "19      86091.000000      1   86091.0"
      ]
     },
     "metadata": {},
     "output_type": "display_data"
    },
    {
     "data": {
      "text/plain": [
       "0.0554194996705922"
      ]
     },
     "execution_count": 37,
     "metadata": {},
     "output_type": "execute_result"
    },
    {
     "data": {
      "image/png": "[encoded data removed]",
      "text/plain": [
       "<Figure size 432x288 with 1 Axes>"
      ]
     },
     "metadata": {
      "needs_background": "light"
     },
     "output_type": "display_data"
    }
   ],
   "source": [
    "# подсчитаем зависимость цены квадратного метра от количества комнат\n",
    "# для этого создадим сводную таблицу\n",
    "pivot_table_rooms = df.pivot_table(index='rooms', values='price_metr', aggfunc=['mean', 'count', 'median'])\n",
    "\n",
    "# переименуем столбцы таблицы\n",
    "pivot_table_rooms.columns = ['mean', 'count', 'median']\n",
    "display(pivot_table_rooms)\n",
    "\n",
    "# построим график зависимости, учитывая, что большинство значений у нас лежат в плоскости счетчика больше 58\n",
    "pivot_table_rooms.query('count > 58').plot(y='median')\n",
    "\n",
    "# посчитаем корреляцию\n",
    "pivot_table_rooms.query('count > 58').sort_values('median', ascending=False)\n",
    "df['rooms'].corr(df['price_metr'])"
   ]
  },
  {
   "cell_type": "markdown",
   "metadata": {},
   "source": [
    "Из построенной диаграммы и посчитанной коррелиции можно сделать вывод, что зависимость стоимости <b>квадратного метра от количества комнат</b> ярко выраженна (при приближении количества комнат к 3-м стоимость квадратного метра падает)."
   ]
  },
  {
   "cell_type": "code",
   "execution_count": 38,
   "metadata": {},
   "outputs": [
    {
     "data": {
      "text/html": [
       "<div>\n",
       "<style scoped>\n",
       "    .dataframe tbody tr th:only-of-type {\n",
       "        vertical-align: middle;\n",
       "    }\n",
       "\n",
       "    .dataframe tbody tr th {\n",
       "        vertical-align: top;\n",
       "    }\n",
       "\n",
       "    .dataframe thead th {\n",
       "        text-align: right;\n",
       "    }\n",
       "</style>\n",
       "<table border=\"1\" class=\"dataframe\">\n",
       "  <thead>\n",
       "    <tr style=\"text-align: right;\">\n",
       "      <th></th>\n",
       "      <th>mean</th>\n",
       "      <th>count</th>\n",
       "      <th>median</th>\n",
       "    </tr>\n",
       "    <tr>\n",
       "      <th>cityCenters_nearest</th>\n",
       "      <th></th>\n",
       "      <th></th>\n",
       "      <th></th>\n",
       "    </tr>\n",
       "  </thead>\n",
       "  <tbody>\n",
       "    <tr>\n",
       "      <th>181.0</th>\n",
       "      <td>195591.0</td>\n",
       "      <td>1</td>\n",
       "      <td>195591.0</td>\n",
       "    </tr>\n",
       "    <tr>\n",
       "      <th>208.0</th>\n",
       "      <td>172619.0</td>\n",
       "      <td>1</td>\n",
       "      <td>172619.0</td>\n",
       "    </tr>\n",
       "    <tr>\n",
       "      <th>215.0</th>\n",
       "      <td>109900.0</td>\n",
       "      <td>1</td>\n",
       "      <td>109900.0</td>\n",
       "    </tr>\n",
       "    <tr>\n",
       "      <th>287.0</th>\n",
       "      <td>88796.0</td>\n",
       "      <td>1</td>\n",
       "      <td>88796.0</td>\n",
       "    </tr>\n",
       "    <tr>\n",
       "      <th>291.0</th>\n",
       "      <td>101321.0</td>\n",
       "      <td>1</td>\n",
       "      <td>101321.0</td>\n",
       "    </tr>\n",
       "    <tr>\n",
       "      <th>...</th>\n",
       "      <td>...</td>\n",
       "      <td>...</td>\n",
       "      <td>...</td>\n",
       "    </tr>\n",
       "    <tr>\n",
       "      <th>64857.0</th>\n",
       "      <td>67843.0</td>\n",
       "      <td>1</td>\n",
       "      <td>67843.0</td>\n",
       "    </tr>\n",
       "    <tr>\n",
       "      <th>65105.0</th>\n",
       "      <td>75862.0</td>\n",
       "      <td>1</td>\n",
       "      <td>75862.0</td>\n",
       "    </tr>\n",
       "    <tr>\n",
       "      <th>65764.0</th>\n",
       "      <td>67796.0</td>\n",
       "      <td>1</td>\n",
       "      <td>67796.0</td>\n",
       "    </tr>\n",
       "    <tr>\n",
       "      <th>65952.0</th>\n",
       "      <td>71146.0</td>\n",
       "      <td>1</td>\n",
       "      <td>71146.0</td>\n",
       "    </tr>\n",
       "    <tr>\n",
       "      <th>65968.0</th>\n",
       "      <td>81712.0</td>\n",
       "      <td>1</td>\n",
       "      <td>81712.0</td>\n",
       "    </tr>\n",
       "  </tbody>\n",
       "</table>\n",
       "<p>7642 rows × 3 columns</p>\n",
       "</div>"
      ],
      "text/plain": [
       "                         mean  count    median\n",
       "cityCenters_nearest                           \n",
       "181.0                195591.0      1  195591.0\n",
       "208.0                172619.0      1  172619.0\n",
       "215.0                109900.0      1  109900.0\n",
       "287.0                 88796.0      1   88796.0\n",
       "291.0                101321.0      1  101321.0\n",
       "...                       ...    ...       ...\n",
       "64857.0               67843.0      1   67843.0\n",
       "65105.0               75862.0      1   75862.0\n",
       "65764.0               67796.0      1   67796.0\n",
       "65952.0               71146.0      1   71146.0\n",
       "65968.0               81712.0      1   81712.0\n",
       "\n",
       "[7642 rows x 3 columns]"
      ]
     },
     "metadata": {},
     "output_type": "display_data"
    },
    {
     "data": {
      "text/plain": [
       "-0.3179507368286467"
      ]
     },
     "execution_count": 38,
     "metadata": {},
     "output_type": "execute_result"
    },
    {
     "data": {
      "image/png": "[encoded data removed]",
      "text/plain": [
       "<Figure size 432x288 with 1 Axes>"
      ]
     },
     "metadata": {
      "needs_background": "light"
     },
     "output_type": "display_data"
    }
   ],
   "source": [
    "# подсчитаем зависимость цены квадратного метра от удаленности от центра\n",
    "# для этого создадим сводную таблицу\n",
    "pivot_table_nearest = df.pivot_table(index='cityCenters_nearest',\n",
    "                                     values='price_metr',\n",
    "                                     aggfunc=['mean', 'count', 'median'])\n",
    "\n",
    "# переименуем столбцы таблицы\n",
    "pivot_table_nearest.columns = ['mean', 'count', 'median']\n",
    "display(pivot_table_nearest)\n",
    "\n",
    "# построим график зависимости\n",
    "pivot_table_nearest.plot(y='median')\n",
    "\n",
    "# посчитаем корреляцию\n",
    "pivot_table_nearest.sort_values('median', ascending=False)\n",
    "df['cityCenters_nearest'].corr(df['price_metr'])"
   ]
  },
  {
   "cell_type": "markdown",
   "metadata": {},
   "source": [
    "Из построенной диаграммы и посчитанной коррелиции можно сделать вывод, что зависимость стоимости <b>квадратного метра от удаленности от центра</b> ярко выраженна (при удалении от центра стоимость квадратного метра падает)."
   ]
  },
  {
   "cell_type": "code",
   "execution_count": 39,
   "metadata": {},
   "outputs": [
    {
     "data": {
      "text/html": [
       "<div>\n",
       "<style scoped>\n",
       "    .dataframe tbody tr th:only-of-type {\n",
       "        vertical-align: middle;\n",
       "    }\n",
       "\n",
       "    .dataframe tbody tr th {\n",
       "        vertical-align: top;\n",
       "    }\n",
       "\n",
       "    .dataframe thead th {\n",
       "        text-align: right;\n",
       "    }\n",
       "</style>\n",
       "<table border=\"1\" class=\"dataframe\">\n",
       "  <thead>\n",
       "    <tr style=\"text-align: right;\">\n",
       "      <th></th>\n",
       "      <th>mean</th>\n",
       "      <th>count</th>\n",
       "      <th>median</th>\n",
       "    </tr>\n",
       "    <tr>\n",
       "      <th>floor_category</th>\n",
       "      <th></th>\n",
       "      <th></th>\n",
       "      <th></th>\n",
       "    </tr>\n",
       "  </thead>\n",
       "  <tbody>\n",
       "    <tr>\n",
       "      <th>другой</th>\n",
       "      <td>103467.774233</td>\n",
       "      <td>17363</td>\n",
       "      <td>98275.0</td>\n",
       "    </tr>\n",
       "    <tr>\n",
       "      <th>первый</th>\n",
       "      <td>81983.111759</td>\n",
       "      <td>2917</td>\n",
       "      <td>81223.0</td>\n",
       "    </tr>\n",
       "    <tr>\n",
       "      <th>последний</th>\n",
       "      <td>93748.921322</td>\n",
       "      <td>3419</td>\n",
       "      <td>88172.0</td>\n",
       "    </tr>\n",
       "  </tbody>\n",
       "</table>\n",
       "</div>"
      ],
      "text/plain": [
       "                         mean  count   median\n",
       "floor_category                               \n",
       "другой          103467.774233  17363  98275.0\n",
       "первый           81983.111759   2917  81223.0\n",
       "последний        93748.921322   3419  88172.0"
      ]
     },
     "metadata": {},
     "output_type": "display_data"
    },
    {
     "data": {
      "text/plain": [
       "<AxesSubplot:xlabel='floor_category'>"
      ]
     },
     "execution_count": 39,
     "metadata": {},
     "output_type": "execute_result"
    },
    {
     "data": {
      "image/png": "[encoded data removed]",
      "text/plain": [
       "<Figure size 432x288 with 1 Axes>"
      ]
     },
     "metadata": {
      "needs_background": "light"
     },
     "output_type": "display_data"
    }
   ],
   "source": [
    "# подсчитаем зависимость цены квадратного метра от этажа\n",
    "# для этого создадим сводную таблицу\n",
    "pivot_table_floor_category = df.pivot_table(index='floor_category',\n",
    "                                            values='price_metr',\n",
    "                                            aggfunc=['mean', 'count', 'median'])\n",
    "\n",
    "# переименуем столбцы таблицы\n",
    "pivot_table_floor_category.columns = ['mean', 'count', 'median']\n",
    "display(pivot_table_floor_category)\n",
    "\n",
    "# построим график зависимости\n",
    "pivot_table_floor_category.plot(y='median')"
   ]
  },
  {
   "cell_type": "markdown",
   "metadata": {},
   "source": [
    "Из построенной диаграммы можно сделать вывод, что зависимость стоимости <b>квадратного метра от этажа</b> ярко выраженна (дороже всего этажи, которые находятся не на первом или последнем этажах, потом идут последние, квартиры на первых этажах - самые дешевые)."
   ]
  },
  {
   "cell_type": "code",
   "execution_count": 40,
   "metadata": {},
   "outputs": [
    {
     "data": {
      "text/html": [
       "<div>\n",
       "<style scoped>\n",
       "    .dataframe tbody tr th:only-of-type {\n",
       "        vertical-align: middle;\n",
       "    }\n",
       "\n",
       "    .dataframe tbody tr th {\n",
       "        vertical-align: top;\n",
       "    }\n",
       "\n",
       "    .dataframe thead th {\n",
       "        text-align: right;\n",
       "    }\n",
       "</style>\n",
       "<table border=\"1\" class=\"dataframe\">\n",
       "  <thead>\n",
       "    <tr style=\"text-align: right;\">\n",
       "      <th></th>\n",
       "      <th>mean</th>\n",
       "      <th>count</th>\n",
       "      <th>median</th>\n",
       "    </tr>\n",
       "    <tr>\n",
       "      <th>weekday_exposition</th>\n",
       "      <th></th>\n",
       "      <th></th>\n",
       "      <th></th>\n",
       "    </tr>\n",
       "  </thead>\n",
       "  <tbody>\n",
       "    <tr>\n",
       "      <th>0</th>\n",
       "      <td>99437.994463</td>\n",
       "      <td>3612</td>\n",
       "      <td>94688.0</td>\n",
       "    </tr>\n",
       "    <tr>\n",
       "      <th>1</th>\n",
       "      <td>99734.089410</td>\n",
       "      <td>4183</td>\n",
       "      <td>95634.0</td>\n",
       "    </tr>\n",
       "    <tr>\n",
       "      <th>2</th>\n",
       "      <td>99616.731002</td>\n",
       "      <td>3974</td>\n",
       "      <td>95473.0</td>\n",
       "    </tr>\n",
       "    <tr>\n",
       "      <th>3</th>\n",
       "      <td>100162.466356</td>\n",
       "      <td>4295</td>\n",
       "      <td>95143.0</td>\n",
       "    </tr>\n",
       "    <tr>\n",
       "      <th>4</th>\n",
       "      <td>99011.697000</td>\n",
       "      <td>4000</td>\n",
       "      <td>94616.0</td>\n",
       "    </tr>\n",
       "    <tr>\n",
       "      <th>5</th>\n",
       "      <td>99017.722107</td>\n",
       "      <td>1936</td>\n",
       "      <td>93545.5</td>\n",
       "    </tr>\n",
       "    <tr>\n",
       "      <th>6</th>\n",
       "      <td>97707.917010</td>\n",
       "      <td>1699</td>\n",
       "      <td>94501.0</td>\n",
       "    </tr>\n",
       "  </tbody>\n",
       "</table>\n",
       "</div>"
      ],
      "text/plain": [
       "                             mean  count   median\n",
       "weekday_exposition                               \n",
       "0                    99437.994463   3612  94688.0\n",
       "1                    99734.089410   4183  95634.0\n",
       "2                    99616.731002   3974  95473.0\n",
       "3                   100162.466356   4295  95143.0\n",
       "4                    99011.697000   4000  94616.0\n",
       "5                    99017.722107   1936  93545.5\n",
       "6                    97707.917010   1699  94501.0"
      ]
     },
     "metadata": {},
     "output_type": "display_data"
    },
    {
     "data": {
      "text/plain": [
       "<AxesSubplot:xlabel='weekday_exposition'>"
      ]
     },
     "execution_count": 40,
     "metadata": {},
     "output_type": "execute_result"
    },
    {
     "data": {
      "image/png": "[encoded data removed]",
      "text/plain": [
       "<Figure size 432x288 with 1 Axes>"
      ]
     },
     "metadata": {
      "needs_background": "light"
     },
     "output_type": "display_data"
    }
   ],
   "source": [
    "# подсчитаем зависимость цены квадратного метра от даты размещения (дня недели)\n",
    "# для этого создадим сводную таблицу\n",
    "pivot_table_weekday_exposition = df.pivot_table(index='weekday_exposition',\n",
    "                                                values='price_metr',\n",
    "                                                aggfunc=['mean', 'count', 'median'])\n",
    "\n",
    "# переименуем столбцы таблицы\n",
    "pivot_table_weekday_exposition.columns = ['mean', 'count', 'median']\n",
    "display(pivot_table_weekday_exposition)\n",
    "\n",
    "# построим график зависимости\n",
    "pivot_table_weekday_exposition.plot(y='median')"
   ]
  },
  {
   "cell_type": "markdown",
   "metadata": {},
   "source": [
    "Из построенной диаграммы можно сделать вывод, что зависимость стоимости <b>квадратного метра от дня недели подачи объявления</b> ярко выраженна.\n",
    "\n",
    "Во сторник цена самая высокая, в субботу - самая низкая.\n",
    "\n",
    "По моим предположениям в рабочие дни объявления выставляют не только частные лица, но еще и агентства, у которых ценник реально выше.\n",
    "\n",
    "В субботу чаще могут выставлять объявления частники, т.к. у них появляется больше свободного времени.\n",
    "\n",
    "Вполне возможно, что ценник снижается в субботу еще и потому, чтобы завлечь потенциальных покупателей, которые будут смотреть выставленное на продажу жилье в выходные, т.к. смотреть по рабочим дням не каждый сможет в связи с рабочей занятостью."
   ]
  },
  {
   "cell_type": "code",
   "execution_count": 41,
   "metadata": {},
   "outputs": [
    {
     "data": {
      "text/html": [
       "<div>\n",
       "<style scoped>\n",
       "    .dataframe tbody tr th:only-of-type {\n",
       "        vertical-align: middle;\n",
       "    }\n",
       "\n",
       "    .dataframe tbody tr th {\n",
       "        vertical-align: top;\n",
       "    }\n",
       "\n",
       "    .dataframe thead th {\n",
       "        text-align: right;\n",
       "    }\n",
       "</style>\n",
       "<table border=\"1\" class=\"dataframe\">\n",
       "  <thead>\n",
       "    <tr style=\"text-align: right;\">\n",
       "      <th></th>\n",
       "      <th>mean</th>\n",
       "      <th>count</th>\n",
       "      <th>median</th>\n",
       "    </tr>\n",
       "    <tr>\n",
       "      <th>month_exposition</th>\n",
       "      <th></th>\n",
       "      <th></th>\n",
       "      <th></th>\n",
       "    </tr>\n",
       "  </thead>\n",
       "  <tbody>\n",
       "    <tr>\n",
       "      <th>1</th>\n",
       "      <td>99862.139333</td>\n",
       "      <td>1500</td>\n",
       "      <td>95222.0</td>\n",
       "    </tr>\n",
       "    <tr>\n",
       "      <th>2</th>\n",
       "      <td>98768.292045</td>\n",
       "      <td>2640</td>\n",
       "      <td>95000.0</td>\n",
       "    </tr>\n",
       "    <tr>\n",
       "      <th>3</th>\n",
       "      <td>98972.768844</td>\n",
       "      <td>2587</td>\n",
       "      <td>95238.0</td>\n",
       "    </tr>\n",
       "    <tr>\n",
       "      <th>4</th>\n",
       "      <td>101948.567045</td>\n",
       "      <td>2379</td>\n",
       "      <td>96451.0</td>\n",
       "    </tr>\n",
       "    <tr>\n",
       "      <th>5</th>\n",
       "      <td>98543.340659</td>\n",
       "      <td>1274</td>\n",
       "      <td>92857.0</td>\n",
       "    </tr>\n",
       "    <tr>\n",
       "      <th>6</th>\n",
       "      <td>97762.870455</td>\n",
       "      <td>1760</td>\n",
       "      <td>92799.0</td>\n",
       "    </tr>\n",
       "    <tr>\n",
       "      <th>7</th>\n",
       "      <td>99625.190560</td>\n",
       "      <td>1695</td>\n",
       "      <td>95000.0</td>\n",
       "    </tr>\n",
       "    <tr>\n",
       "      <th>8</th>\n",
       "      <td>100110.094037</td>\n",
       "      <td>1744</td>\n",
       "      <td>96026.0</td>\n",
       "    </tr>\n",
       "    <tr>\n",
       "      <th>9</th>\n",
       "      <td>100463.814740</td>\n",
       "      <td>1981</td>\n",
       "      <td>95607.0</td>\n",
       "    </tr>\n",
       "    <tr>\n",
       "      <th>10</th>\n",
       "      <td>97933.448049</td>\n",
       "      <td>2127</td>\n",
       "      <td>94202.0</td>\n",
       "    </tr>\n",
       "    <tr>\n",
       "      <th>11</th>\n",
       "      <td>99230.427246</td>\n",
       "      <td>2371</td>\n",
       "      <td>95588.0</td>\n",
       "    </tr>\n",
       "    <tr>\n",
       "      <th>12</th>\n",
       "      <td>99574.280926</td>\n",
       "      <td>1641</td>\n",
       "      <td>94262.0</td>\n",
       "    </tr>\n",
       "  </tbody>\n",
       "</table>\n",
       "</div>"
      ],
      "text/plain": [
       "                           mean  count   median\n",
       "month_exposition                               \n",
       "1                  99862.139333   1500  95222.0\n",
       "2                  98768.292045   2640  95000.0\n",
       "3                  98972.768844   2587  95238.0\n",
       "4                 101948.567045   2379  96451.0\n",
       "5                  98543.340659   1274  92857.0\n",
       "6                  97762.870455   1760  92799.0\n",
       "7                  99625.190560   1695  95000.0\n",
       "8                 100110.094037   1744  96026.0\n",
       "9                 100463.814740   1981  95607.0\n",
       "10                 97933.448049   2127  94202.0\n",
       "11                 99230.427246   2371  95588.0\n",
       "12                 99574.280926   1641  94262.0"
      ]
     },
     "metadata": {},
     "output_type": "display_data"
    },
    {
     "data": {
      "text/plain": [
       "<AxesSubplot:xlabel='month_exposition'>"
      ]
     },
     "execution_count": 41,
     "metadata": {},
     "output_type": "execute_result"
    },
    {
     "data": {
      "image/png": "[encoded data removed]",
      "text/plain": [
       "<Figure size 432x288 with 1 Axes>"
      ]
     },
     "metadata": {
      "needs_background": "light"
     },
     "output_type": "display_data"
    }
   ],
   "source": [
    "# подсчитаем зависимость цены квадратного метра от даты размещения (месяца)\n",
    "# для этого создадим сводную таблицу\n",
    "pivot_table_month_exposition = df.pivot_table(index='month_exposition',\n",
    "                                              values='price_metr',\n",
    "                                              aggfunc=['mean', 'count', 'median'])\n",
    "\n",
    "# переименуем столбцы таблицы\n",
    "pivot_table_month_exposition.columns = ['mean', 'count', 'median']\n",
    "display(pivot_table_month_exposition)\n",
    "\n",
    "# построим график зависимости\n",
    "pivot_table_month_exposition.plot(y='median')"
   ]
  },
  {
   "cell_type": "markdown",
   "metadata": {},
   "source": [
    "Из построенной диаграммы можно сделать вывод, что зависимость стоимости <b>квадратного метра от месца подачи объявления</b> ярко выраженна.\n",
    "\n",
    "В апреле и августе цена самая высокая, с мая по июль - самая низкая.\n",
    "\n",
    "По моим предположениям при подаче объявлений, продавцы надеются продать квартиры подороже тем, кто перед отпуском получает отпускные (бонусы и т.д.), а после отпуска, у них еще остаются нераспределенные ДС на покупку квартиры.\n",
    "\n",
    "Также, возможно, у продавцов имеется надежда на студентов (кто-то заканчивает обучение и хочет остаться, прикупив квартиру, кто-то только собирается постапуть и хочет прикупить квартиру)."
   ]
  },
  {
   "cell_type": "code",
   "execution_count": 42,
   "metadata": {},
   "outputs": [
    {
     "data": {
      "text/html": [
       "<div>\n",
       "<style scoped>\n",
       "    .dataframe tbody tr th:only-of-type {\n",
       "        vertical-align: middle;\n",
       "    }\n",
       "\n",
       "    .dataframe tbody tr th {\n",
       "        vertical-align: top;\n",
       "    }\n",
       "\n",
       "    .dataframe thead th {\n",
       "        text-align: right;\n",
       "    }\n",
       "</style>\n",
       "<table border=\"1\" class=\"dataframe\">\n",
       "  <thead>\n",
       "    <tr style=\"text-align: right;\">\n",
       "      <th></th>\n",
       "      <th>mean</th>\n",
       "      <th>count</th>\n",
       "      <th>median</th>\n",
       "    </tr>\n",
       "    <tr>\n",
       "      <th>year_exposition</th>\n",
       "      <th></th>\n",
       "      <th></th>\n",
       "      <th></th>\n",
       "    </tr>\n",
       "  </thead>\n",
       "  <tbody>\n",
       "    <tr>\n",
       "      <th>2014</th>\n",
       "      <td>124830.000000</td>\n",
       "      <td>137</td>\n",
       "      <td>107000.0</td>\n",
       "    </tr>\n",
       "    <tr>\n",
       "      <th>2015</th>\n",
       "      <td>104613.756507</td>\n",
       "      <td>1191</td>\n",
       "      <td>93414.0</td>\n",
       "    </tr>\n",
       "    <tr>\n",
       "      <th>2016</th>\n",
       "      <td>98321.900467</td>\n",
       "      <td>2783</td>\n",
       "      <td>91743.0</td>\n",
       "    </tr>\n",
       "    <tr>\n",
       "      <th>2017</th>\n",
       "      <td>97621.434188</td>\n",
       "      <td>8190</td>\n",
       "      <td>92564.5</td>\n",
       "    </tr>\n",
       "    <tr>\n",
       "      <th>2018</th>\n",
       "      <td>97773.107290</td>\n",
       "      <td>8519</td>\n",
       "      <td>95689.0</td>\n",
       "    </tr>\n",
       "    <tr>\n",
       "      <th>2019</th>\n",
       "      <td>107123.332060</td>\n",
       "      <td>2879</td>\n",
       "      <td>103305.0</td>\n",
       "    </tr>\n",
       "  </tbody>\n",
       "</table>\n",
       "</div>"
      ],
      "text/plain": [
       "                          mean  count    median\n",
       "year_exposition                                \n",
       "2014             124830.000000    137  107000.0\n",
       "2015             104613.756507   1191   93414.0\n",
       "2016              98321.900467   2783   91743.0\n",
       "2017              97621.434188   8190   92564.5\n",
       "2018              97773.107290   8519   95689.0\n",
       "2019             107123.332060   2879  103305.0"
      ]
     },
     "metadata": {},
     "output_type": "display_data"
    },
    {
     "data": {
      "text/plain": [
       "<AxesSubplot:xlabel='year_exposition'>"
      ]
     },
     "execution_count": 42,
     "metadata": {},
     "output_type": "execute_result"
    },
    {
     "data": {
      "image/png": "[encoded data removed]",
      "text/plain": [
       "<Figure size 432x288 with 1 Axes>"
      ]
     },
     "metadata": {
      "needs_background": "light"
     },
     "output_type": "display_data"
    }
   ],
   "source": [
    "# подсчитаем зависимость цены квадратного метра от даты размещения (года)\n",
    "# для этого создадим сводную таблицу\n",
    "pivot_table_year_exposition = df.pivot_table(index='year_exposition',\n",
    "                                             values='price_metr',\n",
    "                                             aggfunc=['mean', 'count', 'median'])\n",
    "\n",
    "# переименуем столбцы таблицы\n",
    "pivot_table_year_exposition.columns = ['mean', 'count', 'median']\n",
    "display(pivot_table_year_exposition)\n",
    "\n",
    "# построим график зависимости\n",
    "pivot_table_year_exposition.plot(y='median')"
   ]
  },
  {
   "cell_type": "markdown",
   "metadata": {},
   "source": [
    "Из построенной диаграммы можно сделать вывод, что зависимость стоимости <b>квадратного метра от года подачи объявления</b> ярко выраженна.\n",
    "\n",
    "Цены на недвижимость падали начиная с 2014 года по 2016 год.\n",
    "\n",
    "С 2016 года цена на недвижимость начала расти.\n",
    "\n",
    "Данный факт, по моему мнению связан с кризисами в России 1998, 2008 и 2014 годов."
   ]
  },
  {
   "cell_type": "markdown",
   "metadata": {},
   "source": [
    "<a id=\"step_15\"></a>\n",
    "### Изучим среднюю цену квадратного метра в 10 населенных пунктах с наибольшим числом объявлений, в каких из них самая высокая и самая низкая стоимость жилья."
   ]
  },
  {
   "cell_type": "code",
   "execution_count": 43,
   "metadata": {},
   "outputs": [
    {
     "data": {
      "text/html": [
       "<div>\n",
       "<style scoped>\n",
       "    .dataframe tbody tr th:only-of-type {\n",
       "        vertical-align: middle;\n",
       "    }\n",
       "\n",
       "    .dataframe tbody tr th {\n",
       "        vertical-align: top;\n",
       "    }\n",
       "\n",
       "    .dataframe thead th {\n",
       "        text-align: right;\n",
       "    }\n",
       "</style>\n",
       "<table border=\"1\" class=\"dataframe\">\n",
       "  <thead>\n",
       "    <tr style=\"text-align: right;\">\n",
       "      <th></th>\n",
       "      <th>count</th>\n",
       "      <th>mean</th>\n",
       "    </tr>\n",
       "    <tr>\n",
       "      <th>locality_name</th>\n",
       "      <th></th>\n",
       "      <th></th>\n",
       "    </tr>\n",
       "  </thead>\n",
       "  <tbody>\n",
       "    <tr>\n",
       "      <th>Санкт-Петербург</th>\n",
       "      <td>15721</td>\n",
       "      <td>114848.565231</td>\n",
       "    </tr>\n",
       "    <tr>\n",
       "      <th>посёлок Мурино</th>\n",
       "      <td>522</td>\n",
       "      <td>85751.733716</td>\n",
       "    </tr>\n",
       "    <tr>\n",
       "      <th>посёлок Шушары</th>\n",
       "      <td>440</td>\n",
       "      <td>78676.904545</td>\n",
       "    </tr>\n",
       "    <tr>\n",
       "      <th>Всеволожск</th>\n",
       "      <td>398</td>\n",
       "      <td>68654.007538</td>\n",
       "    </tr>\n",
       "    <tr>\n",
       "      <th>Пушкин</th>\n",
       "      <td>369</td>\n",
       "      <td>103125.373984</td>\n",
       "    </tr>\n",
       "    <tr>\n",
       "      <th>Колпино</th>\n",
       "      <td>338</td>\n",
       "      <td>75424.150888</td>\n",
       "    </tr>\n",
       "    <tr>\n",
       "      <th>посёлок Парголово</th>\n",
       "      <td>327</td>\n",
       "      <td>90175.489297</td>\n",
       "    </tr>\n",
       "    <tr>\n",
       "      <th>Гатчина</th>\n",
       "      <td>307</td>\n",
       "      <td>68745.693811</td>\n",
       "    </tr>\n",
       "    <tr>\n",
       "      <th>деревня Кудрово</th>\n",
       "      <td>299</td>\n",
       "      <td>92473.086957</td>\n",
       "    </tr>\n",
       "    <tr>\n",
       "      <th>Выборг</th>\n",
       "      <td>237</td>\n",
       "      <td>58141.489451</td>\n",
       "    </tr>\n",
       "  </tbody>\n",
       "</table>\n",
       "</div>"
      ],
      "text/plain": [
       "                   count           mean\n",
       "locality_name                          \n",
       "Санкт-Петербург    15721  114848.565231\n",
       "посёлок Мурино       522   85751.733716\n",
       "посёлок Шушары       440   78676.904545\n",
       "Всеволожск           398   68654.007538\n",
       "Пушкин               369  103125.373984\n",
       "Колпино              338   75424.150888\n",
       "посёлок Парголово    327   90175.489297\n",
       "Гатчина              307   68745.693811\n",
       "деревня Кудрово      299   92473.086957\n",
       "Выборг               237   58141.489451"
      ]
     },
     "execution_count": 43,
     "metadata": {},
     "output_type": "execute_result"
    }
   ],
   "source": [
    "# создадим сводную таблицу со значениями 'locality_name' и 'price_metr'\n",
    "pivot_table_locality_name = df.pivot_table(index='locality_name',\n",
    "                                           values='price_metr',\n",
    "                                           aggfunc=['count', 'mean'])\n",
    "\n",
    "# переименуем столбцы таблицы\n",
    "pivot_table_locality_name.columns = ['count', 'mean']\n",
    "\n",
    "# отсортируем по убыванию\n",
    "pivot_table_locality_name.sort_values('count', ascending=False).head(10)"
   ]
  },
  {
   "cell_type": "markdown",
   "metadata": {},
   "source": [
    "Из полученных данных видим, что самая высокая стоимость квадратного метра недвижимости в Санкт-Петербурге (114 849 руб. за квадратный метр)\n",
    "\n",
    "Самая низкая стоимость в Выборге - 58 141 руб. за квадратный метр."
   ]
  },
  {
   "cell_type": "markdown",
   "metadata": {},
   "source": [
    "<a id=\"step_16\"></a>\n",
    "### Изучим предложение квартир (удаленности от центра)."
   ]
  },
  {
   "cell_type": "code",
   "execution_count": 44,
   "metadata": {},
   "outputs": [
    {
     "data": {
      "text/html": [
       "<div>\n",
       "<style scoped>\n",
       "    .dataframe tbody tr th:only-of-type {\n",
       "        vertical-align: middle;\n",
       "    }\n",
       "\n",
       "    .dataframe tbody tr th {\n",
       "        vertical-align: top;\n",
       "    }\n",
       "\n",
       "    .dataframe thead tr th {\n",
       "        text-align: left;\n",
       "    }\n",
       "\n",
       "    .dataframe thead tr:last-of-type th {\n",
       "        text-align: right;\n",
       "    }\n",
       "</style>\n",
       "<table border=\"1\" class=\"dataframe\">\n",
       "  <thead>\n",
       "    <tr>\n",
       "      <th></th>\n",
       "      <th>mean</th>\n",
       "      <th>count</th>\n",
       "    </tr>\n",
       "    <tr>\n",
       "      <th></th>\n",
       "      <th>price_metr</th>\n",
       "      <th>price_metr</th>\n",
       "    </tr>\n",
       "    <tr>\n",
       "      <th>cityCenters_nearest_km</th>\n",
       "      <th></th>\n",
       "      <th></th>\n",
       "    </tr>\n",
       "  </thead>\n",
       "  <tbody>\n",
       "    <tr>\n",
       "      <th>0</th>\n",
       "      <td>187323.674419</td>\n",
       "      <td>86</td>\n",
       "    </tr>\n",
       "    <tr>\n",
       "      <th>1</th>\n",
       "      <td>166603.312500</td>\n",
       "      <td>240</td>\n",
       "    </tr>\n",
       "    <tr>\n",
       "      <th>2</th>\n",
       "      <td>146662.420195</td>\n",
       "      <td>307</td>\n",
       "    </tr>\n",
       "    <tr>\n",
       "      <th>3</th>\n",
       "      <td>129415.891635</td>\n",
       "      <td>526</td>\n",
       "    </tr>\n",
       "    <tr>\n",
       "      <th>4</th>\n",
       "      <td>137475.039691</td>\n",
       "      <td>907</td>\n",
       "    </tr>\n",
       "    <tr>\n",
       "      <th>5</th>\n",
       "      <td>146978.789337</td>\n",
       "      <td>769</td>\n",
       "    </tr>\n",
       "    <tr>\n",
       "      <th>6</th>\n",
       "      <td>152277.455319</td>\n",
       "      <td>470</td>\n",
       "    </tr>\n",
       "    <tr>\n",
       "      <th>7</th>\n",
       "      <td>141399.287469</td>\n",
       "      <td>407</td>\n",
       "    </tr>\n",
       "    <tr>\n",
       "      <th>8</th>\n",
       "      <td>120580.929851</td>\n",
       "      <td>670</td>\n",
       "    </tr>\n",
       "    <tr>\n",
       "      <th>9</th>\n",
       "      <td>110012.108696</td>\n",
       "      <td>690</td>\n",
       "    </tr>\n",
       "    <tr>\n",
       "      <th>10</th>\n",
       "      <td>111640.850877</td>\n",
       "      <td>912</td>\n",
       "    </tr>\n",
       "    <tr>\n",
       "      <th>11</th>\n",
       "      <td>106790.438163</td>\n",
       "      <td>1415</td>\n",
       "    </tr>\n",
       "    <tr>\n",
       "      <th>12</th>\n",
       "      <td>108295.312211</td>\n",
       "      <td>1515</td>\n",
       "    </tr>\n",
       "    <tr>\n",
       "      <th>13</th>\n",
       "      <td>107208.716120</td>\n",
       "      <td>1402</td>\n",
       "    </tr>\n",
       "    <tr>\n",
       "      <th>14</th>\n",
       "      <td>104986.032407</td>\n",
       "      <td>1512</td>\n",
       "    </tr>\n",
       "    <tr>\n",
       "      <th>15</th>\n",
       "      <td>101882.678077</td>\n",
       "      <td>1373</td>\n",
       "    </tr>\n",
       "    <tr>\n",
       "      <th>16</th>\n",
       "      <td>100085.150995</td>\n",
       "      <td>1106</td>\n",
       "    </tr>\n",
       "    <tr>\n",
       "      <th>17</th>\n",
       "      <td>94095.434457</td>\n",
       "      <td>534</td>\n",
       "    </tr>\n",
       "    <tr>\n",
       "      <th>18</th>\n",
       "      <td>94831.528736</td>\n",
       "      <td>174</td>\n",
       "    </tr>\n",
       "    <tr>\n",
       "      <th>19</th>\n",
       "      <td>95433.951220</td>\n",
       "      <td>82</td>\n",
       "    </tr>\n",
       "    <tr>\n",
       "      <th>20</th>\n",
       "      <td>107045.773810</td>\n",
       "      <td>84</td>\n",
       "    </tr>\n",
       "    <tr>\n",
       "      <th>21</th>\n",
       "      <td>91492.220513</td>\n",
       "      <td>195</td>\n",
       "    </tr>\n",
       "    <tr>\n",
       "      <th>22</th>\n",
       "      <td>88714.237410</td>\n",
       "      <td>139</td>\n",
       "    </tr>\n",
       "    <tr>\n",
       "      <th>23</th>\n",
       "      <td>92720.233333</td>\n",
       "      <td>30</td>\n",
       "    </tr>\n",
       "    <tr>\n",
       "      <th>24</th>\n",
       "      <td>82439.909091</td>\n",
       "      <td>22</td>\n",
       "    </tr>\n",
       "    <tr>\n",
       "      <th>25</th>\n",
       "      <td>91135.600000</td>\n",
       "      <td>75</td>\n",
       "    </tr>\n",
       "    <tr>\n",
       "      <th>26</th>\n",
       "      <td>75171.333333</td>\n",
       "      <td>3</td>\n",
       "    </tr>\n",
       "    <tr>\n",
       "      <th>27</th>\n",
       "      <td>132115.000000</td>\n",
       "      <td>2</td>\n",
       "    </tr>\n",
       "    <tr>\n",
       "      <th>28</th>\n",
       "      <td>81840.200000</td>\n",
       "      <td>10</td>\n",
       "    </tr>\n",
       "    <tr>\n",
       "      <th>29</th>\n",
       "      <td>62481.666667</td>\n",
       "      <td>3</td>\n",
       "    </tr>\n",
       "    <tr>\n",
       "      <th>65</th>\n",
       "      <td>156183.524590</td>\n",
       "      <td>61</td>\n",
       "    </tr>\n",
       "  </tbody>\n",
       "</table>\n",
       "</div>"
      ],
      "text/plain": [
       "                                 mean      count\n",
       "                           price_metr price_metr\n",
       "cityCenters_nearest_km                          \n",
       "0                       187323.674419         86\n",
       "1                       166603.312500        240\n",
       "2                       146662.420195        307\n",
       "3                       129415.891635        526\n",
       "4                       137475.039691        907\n",
       "5                       146978.789337        769\n",
       "6                       152277.455319        470\n",
       "7                       141399.287469        407\n",
       "8                       120580.929851        670\n",
       "9                       110012.108696        690\n",
       "10                      111640.850877        912\n",
       "11                      106790.438163       1415\n",
       "12                      108295.312211       1515\n",
       "13                      107208.716120       1402\n",
       "14                      104986.032407       1512\n",
       "15                      101882.678077       1373\n",
       "16                      100085.150995       1106\n",
       "17                       94095.434457        534\n",
       "18                       94831.528736        174\n",
       "19                       95433.951220         82\n",
       "20                      107045.773810         84\n",
       "21                       91492.220513        195\n",
       "22                       88714.237410        139\n",
       "23                       92720.233333         30\n",
       "24                       82439.909091         22\n",
       "25                       91135.600000         75\n",
       "26                       75171.333333          3\n",
       "27                      132115.000000          2\n",
       "28                       81840.200000         10\n",
       "29                       62481.666667          3\n",
       "65                      156183.524590         61"
      ]
     },
     "metadata": {},
     "output_type": "display_data"
    },
    {
     "data": {
      "image/png": "[encoded data removed]",
      "text/plain": [
       "<Figure size 720x360 with 1 Axes>"
      ]
     },
     "metadata": {
      "needs_background": "light"
     },
     "output_type": "display_data"
    }
   ],
   "source": [
    "# создадим столбец с растоянием до центра в км\n",
    "df['cityCenters_nearest_km'] = df['cityCenters_nearest'] / 1000\n",
    "\n",
    "# заполним все пустые значения на максимальное значение удаленности от центра\n",
    "df['cityCenters_nearest_km'] = df['cityCenters_nearest_km'].fillna(df['cityCenters_nearest_km'].max())\n",
    "\n",
    "# приведем все значения к 'int'\n",
    "df['cityCenters_nearest_km'] = df['cityCenters_nearest_km'].astype('int')\n",
    "\n",
    "# создадим сводную таблицу по \"Санкт-Петербург\"\n",
    "pivot_table_km = df.query('locality_name == \"Санкт-Петербург\"').pivot_table(index='cityCenters_nearest_km',\n",
    "                                                                            values='price_metr',\n",
    "                                                                            aggfunc=['mean', 'count'])\n",
    "display(pivot_table_km)\n",
    "\n",
    "# посмотрим на график\n",
    "pivot_table_km.plot(xlim=(0, 30), grid=True, figsize=(10, 5))\n",
    "\n",
    "# выделим квартиры в центре\n",
    "center_spb = df.query('cityCenters_nearest_km <= 3 and locality_name == \"Санкт-Петербург\"')"
   ]
  },
  {
   "cell_type": "markdown",
   "metadata": {},
   "source": [
    "Как видно из анализа мы имеем стойкое снижение цены квадратного метра до 3 км от центра нулевой отметки.\n",
    "\n",
    "Ярко выраженный пик увеличения стоимости жилья от 3 км до 6 км. Потом опять снижение.\n",
    "\n",
    "Видимо имеются области в окружности от центра с приоритетным жильем.\n",
    "\n",
    "Примем для наглядности за центр Санкт-Петербурга окружность с радиусов в 3 км."
   ]
  },
  {
   "cell_type": "markdown",
   "metadata": {},
   "source": [
    "<a id=\"step_17\"></a>\n",
    "### Изучим предложение квартир в центре."
   ]
  },
  {
   "cell_type": "code",
   "execution_count": 45,
   "metadata": {},
   "outputs": [
    {
     "data": {
      "text/html": [
       "<div>\n",
       "<style scoped>\n",
       "    .dataframe tbody tr th:only-of-type {\n",
       "        vertical-align: middle;\n",
       "    }\n",
       "\n",
       "    .dataframe tbody tr th {\n",
       "        vertical-align: top;\n",
       "    }\n",
       "\n",
       "    .dataframe thead tr th {\n",
       "        text-align: left;\n",
       "    }\n",
       "\n",
       "    .dataframe thead tr:last-of-type th {\n",
       "        text-align: right;\n",
       "    }\n",
       "</style>\n",
       "<table border=\"1\" class=\"dataframe\">\n",
       "  <thead>\n",
       "    <tr>\n",
       "      <th></th>\n",
       "      <th colspan=\"3\" halign=\"left\">count</th>\n",
       "      <th colspan=\"3\" halign=\"left\">mean</th>\n",
       "    </tr>\n",
       "    <tr>\n",
       "      <th></th>\n",
       "      <th>ceiling_height</th>\n",
       "      <th>price_metr</th>\n",
       "      <th>total_area</th>\n",
       "      <th>ceiling_height</th>\n",
       "      <th>price_metr</th>\n",
       "      <th>total_area</th>\n",
       "    </tr>\n",
       "    <tr>\n",
       "      <th>rooms</th>\n",
       "      <th></th>\n",
       "      <th></th>\n",
       "      <th></th>\n",
       "      <th></th>\n",
       "      <th></th>\n",
       "      <th></th>\n",
       "    </tr>\n",
       "  </thead>\n",
       "  <tbody>\n",
       "    <tr>\n",
       "      <th>0</th>\n",
       "      <td>5</td>\n",
       "      <td>5</td>\n",
       "      <td>5</td>\n",
       "      <td>3.556000</td>\n",
       "      <td>122701.200000</td>\n",
       "      <td>31.260000</td>\n",
       "    </tr>\n",
       "    <tr>\n",
       "      <th>1</th>\n",
       "      <td>110</td>\n",
       "      <td>110</td>\n",
       "      <td>110</td>\n",
       "      <td>3.239909</td>\n",
       "      <td>165103.918182</td>\n",
       "      <td>42.947091</td>\n",
       "    </tr>\n",
       "    <tr>\n",
       "      <th>2</th>\n",
       "      <td>330</td>\n",
       "      <td>330</td>\n",
       "      <td>330</td>\n",
       "      <td>3.052515</td>\n",
       "      <td>146599.469697</td>\n",
       "      <td>67.360667</td>\n",
       "    </tr>\n",
       "    <tr>\n",
       "      <th>3</th>\n",
       "      <td>347</td>\n",
       "      <td>347</td>\n",
       "      <td>347</td>\n",
       "      <td>3.034841</td>\n",
       "      <td>137132.602305</td>\n",
       "      <td>89.618098</td>\n",
       "    </tr>\n",
       "    <tr>\n",
       "      <th>4</th>\n",
       "      <td>190</td>\n",
       "      <td>190</td>\n",
       "      <td>190</td>\n",
       "      <td>3.041474</td>\n",
       "      <td>143546.805263</td>\n",
       "      <td>119.218211</td>\n",
       "    </tr>\n",
       "    <tr>\n",
       "      <th>5</th>\n",
       "      <td>103</td>\n",
       "      <td>103</td>\n",
       "      <td>103</td>\n",
       "      <td>3.095825</td>\n",
       "      <td>147109.932039</td>\n",
       "      <td>161.425243</td>\n",
       "    </tr>\n",
       "    <tr>\n",
       "      <th>6</th>\n",
       "      <td>40</td>\n",
       "      <td>40</td>\n",
       "      <td>40</td>\n",
       "      <td>3.077000</td>\n",
       "      <td>134175.900000</td>\n",
       "      <td>178.085000</td>\n",
       "    </tr>\n",
       "    <tr>\n",
       "      <th>7</th>\n",
       "      <td>24</td>\n",
       "      <td>24</td>\n",
       "      <td>24</td>\n",
       "      <td>3.037500</td>\n",
       "      <td>210344.541667</td>\n",
       "      <td>234.358333</td>\n",
       "    </tr>\n",
       "    <tr>\n",
       "      <th>8</th>\n",
       "      <td>5</td>\n",
       "      <td>5</td>\n",
       "      <td>5</td>\n",
       "      <td>3.398000</td>\n",
       "      <td>185060.600000</td>\n",
       "      <td>250.920000</td>\n",
       "    </tr>\n",
       "    <tr>\n",
       "      <th>9</th>\n",
       "      <td>1</td>\n",
       "      <td>1</td>\n",
       "      <td>1</td>\n",
       "      <td>2.500000</td>\n",
       "      <td>220000.000000</td>\n",
       "      <td>400.000000</td>\n",
       "    </tr>\n",
       "    <tr>\n",
       "      <th>11</th>\n",
       "      <td>2</td>\n",
       "      <td>2</td>\n",
       "      <td>2</td>\n",
       "      <td>3.415000</td>\n",
       "      <td>132639.500000</td>\n",
       "      <td>188.900000</td>\n",
       "    </tr>\n",
       "    <tr>\n",
       "      <th>14</th>\n",
       "      <td>1</td>\n",
       "      <td>1</td>\n",
       "      <td>1</td>\n",
       "      <td>2.650000</td>\n",
       "      <td>116784.000000</td>\n",
       "      <td>245.400000</td>\n",
       "    </tr>\n",
       "    <tr>\n",
       "      <th>19</th>\n",
       "      <td>1</td>\n",
       "      <td>1</td>\n",
       "      <td>1</td>\n",
       "      <td>2.650000</td>\n",
       "      <td>86091.000000</td>\n",
       "      <td>374.600000</td>\n",
       "    </tr>\n",
       "  </tbody>\n",
       "</table>\n",
       "</div>"
      ],
      "text/plain": [
       "               count                                 mean                 \\\n",
       "      ceiling_height price_metr total_area ceiling_height     price_metr   \n",
       "rooms                                                                      \n",
       "0                  5          5          5       3.556000  122701.200000   \n",
       "1                110        110        110       3.239909  165103.918182   \n",
       "2                330        330        330       3.052515  146599.469697   \n",
       "3                347        347        347       3.034841  137132.602305   \n",
       "4                190        190        190       3.041474  143546.805263   \n",
       "5                103        103        103       3.095825  147109.932039   \n",
       "6                 40         40         40       3.077000  134175.900000   \n",
       "7                 24         24         24       3.037500  210344.541667   \n",
       "8                  5          5          5       3.398000  185060.600000   \n",
       "9                  1          1          1       2.500000  220000.000000   \n",
       "11                 2          2          2       3.415000  132639.500000   \n",
       "14                 1          1          1       2.650000  116784.000000   \n",
       "19                 1          1          1       2.650000   86091.000000   \n",
       "\n",
       "                   \n",
       "       total_area  \n",
       "rooms              \n",
       "0       31.260000  \n",
       "1       42.947091  \n",
       "2       67.360667  \n",
       "3       89.618098  \n",
       "4      119.218211  \n",
       "5      161.425243  \n",
       "6      178.085000  \n",
       "7      234.358333  \n",
       "8      250.920000  \n",
       "9      400.000000  \n",
       "11     188.900000  \n",
       "14     245.400000  \n",
       "19     374.600000  "
      ]
     },
     "execution_count": 45,
     "metadata": {},
     "output_type": "execute_result"
    }
   ],
   "source": [
    "center_spb_pivot_table = center_spb.pivot_table(index='rooms',\n",
    "                                                values=['total_area', 'price_metr', 'ceiling_height'],\n",
    "                                                aggfunc=['count', 'mean'])\n",
    "center_spb_pivot_table"
   ]
  },
  {
   "cell_type": "markdown",
   "metadata": {},
   "source": [
    "В центре Санкт-Петербурга представлены на продажу квартиры от 1 до 19 комнат, а также квартиры-студии.\n",
    "\n",
    "Высота потолков этих квартир в среднем от 2,65 м до 3,55 м.\n",
    "\n",
    "Общая площадь данных квартир в среднем от 31,26 квадратных метров до 374,6 кв.метров.\n",
    "\n",
    "Цены на квартиры в среднем от 86 091 руб. / кв.м до 220 000 руб. / кв.м"
   ]
  },
  {
   "cell_type": "code",
   "execution_count": 46,
   "metadata": {},
   "outputs": [
    {
     "data": {
      "text/html": [
       "<div>\n",
       "<style scoped>\n",
       "    .dataframe tbody tr th:only-of-type {\n",
       "        vertical-align: middle;\n",
       "    }\n",
       "\n",
       "    .dataframe tbody tr th {\n",
       "        vertical-align: top;\n",
       "    }\n",
       "\n",
       "    .dataframe thead th {\n",
       "        text-align: right;\n",
       "    }\n",
       "</style>\n",
       "<table border=\"1\" class=\"dataframe\">\n",
       "  <thead>\n",
       "    <tr style=\"text-align: right;\">\n",
       "      <th></th>\n",
       "      <th>mean</th>\n",
       "      <th>count</th>\n",
       "      <th>median</th>\n",
       "    </tr>\n",
       "    <tr>\n",
       "      <th>rooms</th>\n",
       "      <th></th>\n",
       "      <th></th>\n",
       "      <th></th>\n",
       "    </tr>\n",
       "  </thead>\n",
       "  <tbody>\n",
       "    <tr>\n",
       "      <th>0</th>\n",
       "      <td>122701.200000</td>\n",
       "      <td>5</td>\n",
       "      <td>131250.0</td>\n",
       "    </tr>\n",
       "    <tr>\n",
       "      <th>1</th>\n",
       "      <td>165103.918182</td>\n",
       "      <td>110</td>\n",
       "      <td>133397.5</td>\n",
       "    </tr>\n",
       "    <tr>\n",
       "      <th>2</th>\n",
       "      <td>146599.469697</td>\n",
       "      <td>330</td>\n",
       "      <td>122193.5</td>\n",
       "    </tr>\n",
       "    <tr>\n",
       "      <th>3</th>\n",
       "      <td>137132.602305</td>\n",
       "      <td>347</td>\n",
       "      <td>111764.0</td>\n",
       "    </tr>\n",
       "    <tr>\n",
       "      <th>4</th>\n",
       "      <td>143546.805263</td>\n",
       "      <td>190</td>\n",
       "      <td>105883.0</td>\n",
       "    </tr>\n",
       "    <tr>\n",
       "      <th>5</th>\n",
       "      <td>147109.932039</td>\n",
       "      <td>103</td>\n",
       "      <td>101798.0</td>\n",
       "    </tr>\n",
       "    <tr>\n",
       "      <th>6</th>\n",
       "      <td>134175.900000</td>\n",
       "      <td>40</td>\n",
       "      <td>95437.0</td>\n",
       "    </tr>\n",
       "    <tr>\n",
       "      <th>7</th>\n",
       "      <td>210344.541667</td>\n",
       "      <td>24</td>\n",
       "      <td>119569.0</td>\n",
       "    </tr>\n",
       "    <tr>\n",
       "      <th>8</th>\n",
       "      <td>185060.600000</td>\n",
       "      <td>5</td>\n",
       "      <td>116056.0</td>\n",
       "    </tr>\n",
       "    <tr>\n",
       "      <th>9</th>\n",
       "      <td>220000.000000</td>\n",
       "      <td>1</td>\n",
       "      <td>220000.0</td>\n",
       "    </tr>\n",
       "    <tr>\n",
       "      <th>11</th>\n",
       "      <td>132639.500000</td>\n",
       "      <td>2</td>\n",
       "      <td>132639.5</td>\n",
       "    </tr>\n",
       "    <tr>\n",
       "      <th>14</th>\n",
       "      <td>116784.000000</td>\n",
       "      <td>1</td>\n",
       "      <td>116784.0</td>\n",
       "    </tr>\n",
       "    <tr>\n",
       "      <th>19</th>\n",
       "      <td>86091.000000</td>\n",
       "      <td>1</td>\n",
       "      <td>86091.0</td>\n",
       "    </tr>\n",
       "  </tbody>\n",
       "</table>\n",
       "</div>"
      ],
      "text/plain": [
       "                mean  count    median\n",
       "rooms                                \n",
       "0      122701.200000      5  131250.0\n",
       "1      165103.918182    110  133397.5\n",
       "2      146599.469697    330  122193.5\n",
       "3      137132.602305    347  111764.0\n",
       "4      143546.805263    190  105883.0\n",
       "5      147109.932039    103  101798.0\n",
       "6      134175.900000     40   95437.0\n",
       "7      210344.541667     24  119569.0\n",
       "8      185060.600000      5  116056.0\n",
       "9      220000.000000      1  220000.0\n",
       "11     132639.500000      2  132639.5\n",
       "14     116784.000000      1  116784.0\n",
       "19      86091.000000      1   86091.0"
      ]
     },
     "metadata": {},
     "output_type": "display_data"
    },
    {
     "data": {
      "text/plain": [
       "0.0017673487141106456"
      ]
     },
     "execution_count": 46,
     "metadata": {},
     "output_type": "execute_result"
    },
    {
     "data": {
      "image/png": "[encoded data removed]",
      "text/plain": [
       "<Figure size 432x288 with 1 Axes>"
      ]
     },
     "metadata": {
      "needs_background": "light"
     },
     "output_type": "display_data"
    }
   ],
   "source": [
    "# подсчитаем зависимость цены квадратного метра от количества комнат\n",
    "# для этого создадим сводную таблицу\n",
    "pivot_table_rooms = center_spb.pivot_table(index='rooms',\n",
    "                                           values='price_metr',\n",
    "                                           aggfunc=['mean', 'count', 'median'])\n",
    "\n",
    "# переименуем столбцы таблицы\n",
    "pivot_table_rooms.columns = ['mean', 'count', 'median']\n",
    "display(pivot_table_rooms)\n",
    "\n",
    "# построим график зависимости, учитывая, что большинство значений у нас лежат в плоскости счетчика больше 4\n",
    "pivot_table_rooms.query('count > 4').plot(y='median')\n",
    "\n",
    "# посчитаем корреляцию\n",
    "pivot_table_rooms.query('count > 4').sort_values('median', ascending=False)\n",
    "center_spb['rooms'].corr(center_spb['price_metr'])"
   ]
  },
  {
   "cell_type": "markdown",
   "metadata": {},
   "source": [
    "Из исследованных данных мы видим, что квартиры - студии стоят дешевле однокомнатных квартир - явных фаворитов стоимости кв.метра жилья.\n",
    "\n",
    "С увеличением количества комнат стоимость кв.метра жилья падает вплоть до 6-ти комнатных квартир, но цена кв.метра увеличивается на 7-и комнатные квартиры.\n",
    "\n",
    "Данные немного отличаются от данных по городу, где самыми дешевыми были 3-х комнатные квартиры."
   ]
  },
  {
   "cell_type": "code",
   "execution_count": 47,
   "metadata": {},
   "outputs": [
    {
     "data": {
      "text/html": [
       "<div>\n",
       "<style scoped>\n",
       "    .dataframe tbody tr th:only-of-type {\n",
       "        vertical-align: middle;\n",
       "    }\n",
       "\n",
       "    .dataframe tbody tr th {\n",
       "        vertical-align: top;\n",
       "    }\n",
       "\n",
       "    .dataframe thead th {\n",
       "        text-align: right;\n",
       "    }\n",
       "</style>\n",
       "<table border=\"1\" class=\"dataframe\">\n",
       "  <thead>\n",
       "    <tr style=\"text-align: right;\">\n",
       "      <th></th>\n",
       "      <th>mean</th>\n",
       "      <th>count</th>\n",
       "      <th>median</th>\n",
       "    </tr>\n",
       "    <tr>\n",
       "      <th>floor_category</th>\n",
       "      <th></th>\n",
       "      <th></th>\n",
       "      <th></th>\n",
       "    </tr>\n",
       "  </thead>\n",
       "  <tbody>\n",
       "    <tr>\n",
       "      <th>другой</th>\n",
       "      <td>150814.768276</td>\n",
       "      <td>725</td>\n",
       "      <td>119148.0</td>\n",
       "    </tr>\n",
       "    <tr>\n",
       "      <th>первый</th>\n",
       "      <td>123509.146341</td>\n",
       "      <td>164</td>\n",
       "      <td>107508.5</td>\n",
       "    </tr>\n",
       "    <tr>\n",
       "      <th>последний</th>\n",
       "      <td>146653.874074</td>\n",
       "      <td>270</td>\n",
       "      <td>114432.0</td>\n",
       "    </tr>\n",
       "  </tbody>\n",
       "</table>\n",
       "</div>"
      ],
      "text/plain": [
       "                         mean  count    median\n",
       "floor_category                                \n",
       "другой          150814.768276    725  119148.0\n",
       "первый          123509.146341    164  107508.5\n",
       "последний       146653.874074    270  114432.0"
      ]
     },
     "metadata": {},
     "output_type": "display_data"
    },
    {
     "data": {
      "text/plain": [
       "<AxesSubplot:xlabel='floor_category'>"
      ]
     },
     "execution_count": 47,
     "metadata": {},
     "output_type": "execute_result"
    },
    {
     "data": {
      "image/png": "[encoded data removed]",
      "text/plain": [
       "<Figure size 432x288 with 1 Axes>"
      ]
     },
     "metadata": {
      "needs_background": "light"
     },
     "output_type": "display_data"
    }
   ],
   "source": [
    "# подсчитаем зависимость цены квадратного метра от этажа\n",
    "# для этого создадим сводную таблицу\n",
    "pivot_table_floor_category = center_spb.pivot_table(index='floor_category',\n",
    "                                                    values='price_metr',\n",
    "                                                    aggfunc=['mean', 'count', 'median'])\n",
    "\n",
    "# переименуем столбцы таблицы\n",
    "pivot_table_floor_category.columns = ['mean', 'count', 'median']\n",
    "display(pivot_table_floor_category)\n",
    "\n",
    "# построим график зависимости\n",
    "pivot_table_floor_category.plot(y='median')"
   ]
  },
  {
   "cell_type": "markdown",
   "metadata": {},
   "source": [
    "Из построенной диаграммы можно сделать вывод, что зависимость стоимости <b>квадратного метра от этажа</b> ярко выраженна (дороже всего этажи, которые находятся не на первом или последнем этажах, потом идут последние, квартиры на первых этажах - самые дешевые).\n",
    "\n",
    "Данные подтверждают исследования по всему городу."
   ]
  },
  {
   "cell_type": "code",
   "execution_count": 48,
   "metadata": {},
   "outputs": [
    {
     "data": {
      "text/html": [
       "<div>\n",
       "<style scoped>\n",
       "    .dataframe tbody tr th:only-of-type {\n",
       "        vertical-align: middle;\n",
       "    }\n",
       "\n",
       "    .dataframe tbody tr th {\n",
       "        vertical-align: top;\n",
       "    }\n",
       "\n",
       "    .dataframe thead th {\n",
       "        text-align: right;\n",
       "    }\n",
       "</style>\n",
       "<table border=\"1\" class=\"dataframe\">\n",
       "  <thead>\n",
       "    <tr style=\"text-align: right;\">\n",
       "      <th></th>\n",
       "      <th>mean</th>\n",
       "      <th>count</th>\n",
       "      <th>median</th>\n",
       "    </tr>\n",
       "    <tr>\n",
       "      <th>cityCenters_nearest_km</th>\n",
       "      <th></th>\n",
       "      <th></th>\n",
       "      <th></th>\n",
       "    </tr>\n",
       "  </thead>\n",
       "  <tbody>\n",
       "    <tr>\n",
       "      <th>0</th>\n",
       "      <td>187323.674419</td>\n",
       "      <td>86</td>\n",
       "      <td>138536.5</td>\n",
       "    </tr>\n",
       "    <tr>\n",
       "      <th>1</th>\n",
       "      <td>166603.312500</td>\n",
       "      <td>240</td>\n",
       "      <td>123966.0</td>\n",
       "    </tr>\n",
       "    <tr>\n",
       "      <th>2</th>\n",
       "      <td>146662.420195</td>\n",
       "      <td>307</td>\n",
       "      <td>116363.0</td>\n",
       "    </tr>\n",
       "    <tr>\n",
       "      <th>3</th>\n",
       "      <td>129415.891635</td>\n",
       "      <td>526</td>\n",
       "      <td>110079.5</td>\n",
       "    </tr>\n",
       "  </tbody>\n",
       "</table>\n",
       "</div>"
      ],
      "text/plain": [
       "                                 mean  count    median\n",
       "cityCenters_nearest_km                                \n",
       "0                       187323.674419     86  138536.5\n",
       "1                       166603.312500    240  123966.0\n",
       "2                       146662.420195    307  116363.0\n",
       "3                       129415.891635    526  110079.5"
      ]
     },
     "metadata": {},
     "output_type": "display_data"
    },
    {
     "data": {
      "text/plain": [
       "-0.14742491156014706"
      ]
     },
     "execution_count": 48,
     "metadata": {},
     "output_type": "execute_result"
    },
    {
     "data": {
      "image/png": "[encoded data removed]",
      "text/plain": [
       "<Figure size 432x288 with 1 Axes>"
      ]
     },
     "metadata": {
      "needs_background": "light"
     },
     "output_type": "display_data"
    }
   ],
   "source": [
    "# подсчитаем зависимость цены квадратного метра от удаленности от центра\n",
    "# для этого создадим сводную таблицу\n",
    "pivot_table_nearest = center_spb.pivot_table(index='cityCenters_nearest_km',\n",
    "                                             values='price_metr',\n",
    "                                             aggfunc=['mean', 'count', 'median'])\n",
    "\n",
    "# переименуем столбцы таблицы\n",
    "pivot_table_nearest.columns = ['mean', 'count', 'median']\n",
    "display(pivot_table_nearest)\n",
    "\n",
    "# построим график зависимости\n",
    "pivot_table_nearest.plot(y='median')\n",
    "\n",
    "# посчитаем корреляцию\n",
    "pivot_table_nearest.sort_values('median', ascending=False)\n",
    "center_spb['cityCenters_nearest_km'].corr(center_spb['price_metr'])"
   ]
  },
  {
   "cell_type": "markdown",
   "metadata": {},
   "source": [
    "Из полученных данных видно, что и здесь цена кв.метра зависит от удаленности от центра, но не так явно, как по всему городу"
   ]
  },
  {
   "cell_type": "code",
   "execution_count": 49,
   "metadata": {},
   "outputs": [
    {
     "data": {
      "text/html": [
       "<div>\n",
       "<style scoped>\n",
       "    .dataframe tbody tr th:only-of-type {\n",
       "        vertical-align: middle;\n",
       "    }\n",
       "\n",
       "    .dataframe tbody tr th {\n",
       "        vertical-align: top;\n",
       "    }\n",
       "\n",
       "    .dataframe thead th {\n",
       "        text-align: right;\n",
       "    }\n",
       "</style>\n",
       "<table border=\"1\" class=\"dataframe\">\n",
       "  <thead>\n",
       "    <tr style=\"text-align: right;\">\n",
       "      <th></th>\n",
       "      <th>mean</th>\n",
       "      <th>count</th>\n",
       "      <th>median</th>\n",
       "    </tr>\n",
       "    <tr>\n",
       "      <th>weekday_exposition</th>\n",
       "      <th></th>\n",
       "      <th></th>\n",
       "      <th></th>\n",
       "    </tr>\n",
       "  </thead>\n",
       "  <tbody>\n",
       "    <tr>\n",
       "      <th>0</th>\n",
       "      <td>145551.070588</td>\n",
       "      <td>170</td>\n",
       "      <td>121354.0</td>\n",
       "    </tr>\n",
       "    <tr>\n",
       "      <th>1</th>\n",
       "      <td>148325.074074</td>\n",
       "      <td>189</td>\n",
       "      <td>114209.0</td>\n",
       "    </tr>\n",
       "    <tr>\n",
       "      <th>2</th>\n",
       "      <td>144332.984536</td>\n",
       "      <td>194</td>\n",
       "      <td>114902.5</td>\n",
       "    </tr>\n",
       "    <tr>\n",
       "      <th>3</th>\n",
       "      <td>147413.011952</td>\n",
       "      <td>251</td>\n",
       "      <td>110132.0</td>\n",
       "    </tr>\n",
       "    <tr>\n",
       "      <th>4</th>\n",
       "      <td>139252.674528</td>\n",
       "      <td>212</td>\n",
       "      <td>117984.0</td>\n",
       "    </tr>\n",
       "    <tr>\n",
       "      <th>5</th>\n",
       "      <td>161508.078947</td>\n",
       "      <td>76</td>\n",
       "      <td>120568.0</td>\n",
       "    </tr>\n",
       "    <tr>\n",
       "      <th>6</th>\n",
       "      <td>143555.014925</td>\n",
       "      <td>67</td>\n",
       "      <td>110843.0</td>\n",
       "    </tr>\n",
       "  </tbody>\n",
       "</table>\n",
       "</div>"
      ],
      "text/plain": [
       "                             mean  count    median\n",
       "weekday_exposition                                \n",
       "0                   145551.070588    170  121354.0\n",
       "1                   148325.074074    189  114209.0\n",
       "2                   144332.984536    194  114902.5\n",
       "3                   147413.011952    251  110132.0\n",
       "4                   139252.674528    212  117984.0\n",
       "5                   161508.078947     76  120568.0\n",
       "6                   143555.014925     67  110843.0"
      ]
     },
     "metadata": {},
     "output_type": "display_data"
    },
    {
     "data": {
      "text/plain": [
       "<AxesSubplot:xlabel='weekday_exposition'>"
      ]
     },
     "execution_count": 49,
     "metadata": {},
     "output_type": "execute_result"
    },
    {
     "data": {
      "image/png": "[encoded data removed]",
      "text/plain": [
       "<Figure size 432x288 with 1 Axes>"
      ]
     },
     "metadata": {
      "needs_background": "light"
     },
     "output_type": "display_data"
    }
   ],
   "source": [
    "# подсчитаем зависимость цены квадратного метра от даты размещения (дня недели)\n",
    "# для этого создадим сводную таблицу\n",
    "pivot_table_weekday_exposition = center_spb.pivot_table(index='weekday_exposition',\n",
    "                                                        values='price_metr',\n",
    "                                                        aggfunc=['mean', 'count', 'median'])\n",
    "\n",
    "# переименуем столбцы таблицы\n",
    "pivot_table_weekday_exposition.columns = ['mean', 'count', 'median']\n",
    "display(pivot_table_weekday_exposition)\n",
    "\n",
    "# построим график зависимости\n",
    "pivot_table_weekday_exposition.plot(y='median')"
   ]
  },
  {
   "cell_type": "markdown",
   "metadata": {},
   "source": [
    "Из полученных данных видим, что объявления о продаже квартир в центре города отличаются от объявлений по всему городу.\n",
    "\n",
    "Здесь пик цены квадратного метра приходится на понедельник, а не на вторник, как ранее.\n",
    "\n",
    "Спад цены приходится на четверг, а не на среду.\n",
    "\n",
    "Пик цены в субботу остается неизменным."
   ]
  },
  {
   "cell_type": "code",
   "execution_count": 50,
   "metadata": {
    "scrolled": false
   },
   "outputs": [
    {
     "data": {
      "text/html": [
       "<div>\n",
       "<style scoped>\n",
       "    .dataframe tbody tr th:only-of-type {\n",
       "        vertical-align: middle;\n",
       "    }\n",
       "\n",
       "    .dataframe tbody tr th {\n",
       "        vertical-align: top;\n",
       "    }\n",
       "\n",
       "    .dataframe thead th {\n",
       "        text-align: right;\n",
       "    }\n",
       "</style>\n",
       "<table border=\"1\" class=\"dataframe\">\n",
       "  <thead>\n",
       "    <tr style=\"text-align: right;\">\n",
       "      <th></th>\n",
       "      <th>mean</th>\n",
       "      <th>count</th>\n",
       "      <th>median</th>\n",
       "    </tr>\n",
       "    <tr>\n",
       "      <th>month_exposition</th>\n",
       "      <th></th>\n",
       "      <th></th>\n",
       "      <th></th>\n",
       "    </tr>\n",
       "  </thead>\n",
       "  <tbody>\n",
       "    <tr>\n",
       "      <th>1</th>\n",
       "      <td>147760.090909</td>\n",
       "      <td>77</td>\n",
       "      <td>117244.0</td>\n",
       "    </tr>\n",
       "    <tr>\n",
       "      <th>2</th>\n",
       "      <td>141960.713178</td>\n",
       "      <td>129</td>\n",
       "      <td>116406.0</td>\n",
       "    </tr>\n",
       "    <tr>\n",
       "      <th>3</th>\n",
       "      <td>149574.508475</td>\n",
       "      <td>118</td>\n",
       "      <td>117409.0</td>\n",
       "    </tr>\n",
       "    <tr>\n",
       "      <th>4</th>\n",
       "      <td>168982.870690</td>\n",
       "      <td>116</td>\n",
       "      <td>123094.5</td>\n",
       "    </tr>\n",
       "    <tr>\n",
       "      <th>5</th>\n",
       "      <td>123652.833333</td>\n",
       "      <td>60</td>\n",
       "      <td>107799.0</td>\n",
       "    </tr>\n",
       "    <tr>\n",
       "      <th>6</th>\n",
       "      <td>131927.364706</td>\n",
       "      <td>85</td>\n",
       "      <td>110081.0</td>\n",
       "    </tr>\n",
       "    <tr>\n",
       "      <th>7</th>\n",
       "      <td>137694.565657</td>\n",
       "      <td>99</td>\n",
       "      <td>112195.0</td>\n",
       "    </tr>\n",
       "    <tr>\n",
       "      <th>8</th>\n",
       "      <td>142370.175676</td>\n",
       "      <td>74</td>\n",
       "      <td>110491.0</td>\n",
       "    </tr>\n",
       "    <tr>\n",
       "      <th>9</th>\n",
       "      <td>155581.594059</td>\n",
       "      <td>101</td>\n",
       "      <td>116054.0</td>\n",
       "    </tr>\n",
       "    <tr>\n",
       "      <th>10</th>\n",
       "      <td>143129.021277</td>\n",
       "      <td>94</td>\n",
       "      <td>121978.0</td>\n",
       "    </tr>\n",
       "    <tr>\n",
       "      <th>11</th>\n",
       "      <td>136308.390244</td>\n",
       "      <td>123</td>\n",
       "      <td>112639.0</td>\n",
       "    </tr>\n",
       "    <tr>\n",
       "      <th>12</th>\n",
       "      <td>162849.843373</td>\n",
       "      <td>83</td>\n",
       "      <td>121568.0</td>\n",
       "    </tr>\n",
       "  </tbody>\n",
       "</table>\n",
       "</div>"
      ],
      "text/plain": [
       "                           mean  count    median\n",
       "month_exposition                                \n",
       "1                 147760.090909     77  117244.0\n",
       "2                 141960.713178    129  116406.0\n",
       "3                 149574.508475    118  117409.0\n",
       "4                 168982.870690    116  123094.5\n",
       "5                 123652.833333     60  107799.0\n",
       "6                 131927.364706     85  110081.0\n",
       "7                 137694.565657     99  112195.0\n",
       "8                 142370.175676     74  110491.0\n",
       "9                 155581.594059    101  116054.0\n",
       "10                143129.021277     94  121978.0\n",
       "11                136308.390244    123  112639.0\n",
       "12                162849.843373     83  121568.0"
      ]
     },
     "metadata": {},
     "output_type": "display_data"
    },
    {
     "data": {
      "text/plain": [
       "<AxesSubplot:xlabel='month_exposition'>"
      ]
     },
     "execution_count": 50,
     "metadata": {},
     "output_type": "execute_result"
    },
    {
     "data": {
      "image/png": "[encoded data removed]",
      "text/plain": [
       "<Figure size 432x288 with 1 Axes>"
      ]
     },
     "metadata": {
      "needs_background": "light"
     },
     "output_type": "display_data"
    }
   ],
   "source": [
    "# подсчитаем зависимость цены квадратного метра от даты размещения (месяца)\n",
    "# для этого создадим сводную таблицу\n",
    "pivot_table_month_exposition = center_spb.pivot_table(index='month_exposition',\n",
    "                                                      values='price_metr',\n",
    "                                                      aggfunc=['mean', 'count', 'median'])\n",
    "\n",
    "# переименуем столбцы таблицы\n",
    "pivot_table_month_exposition.columns = ['mean', 'count', 'median']\n",
    "display(pivot_table_month_exposition)\n",
    "\n",
    "# построим график зависимости\n",
    "pivot_table_month_exposition.plot(y='median')"
   ]
  },
  {
   "cell_type": "markdown",
   "metadata": {},
   "source": [
    "Из данных видно, что как и в ранее призведенном исследовании  пик цены кв.метра недвижимости в центре совпадает с пиком по городу в апреле.\n",
    "\n",
    "Далее данные разнятся, если еще один пик повышения цены приходился на август, то в центре города пики приходятся на октябрь и декабрь, а минимальные цены с января по май, с мая по август и в ноябре."
   ]
  },
  {
   "cell_type": "code",
   "execution_count": 51,
   "metadata": {},
   "outputs": [
    {
     "data": {
      "text/html": [
       "<div>\n",
       "<style scoped>\n",
       "    .dataframe tbody tr th:only-of-type {\n",
       "        vertical-align: middle;\n",
       "    }\n",
       "\n",
       "    .dataframe tbody tr th {\n",
       "        vertical-align: top;\n",
       "    }\n",
       "\n",
       "    .dataframe thead th {\n",
       "        text-align: right;\n",
       "    }\n",
       "</style>\n",
       "<table border=\"1\" class=\"dataframe\">\n",
       "  <thead>\n",
       "    <tr style=\"text-align: right;\">\n",
       "      <th></th>\n",
       "      <th>mean</th>\n",
       "      <th>count</th>\n",
       "      <th>median</th>\n",
       "    </tr>\n",
       "    <tr>\n",
       "      <th>year_exposition</th>\n",
       "      <th></th>\n",
       "      <th></th>\n",
       "      <th></th>\n",
       "    </tr>\n",
       "  </thead>\n",
       "  <tbody>\n",
       "    <tr>\n",
       "      <th>2014</th>\n",
       "      <td>253598.222222</td>\n",
       "      <td>9</td>\n",
       "      <td>260000.0</td>\n",
       "    </tr>\n",
       "    <tr>\n",
       "      <th>2015</th>\n",
       "      <td>154054.330508</td>\n",
       "      <td>118</td>\n",
       "      <td>107055.0</td>\n",
       "    </tr>\n",
       "    <tr>\n",
       "      <th>2016</th>\n",
       "      <td>135592.863946</td>\n",
       "      <td>147</td>\n",
       "      <td>109090.0</td>\n",
       "    </tr>\n",
       "    <tr>\n",
       "      <th>2017</th>\n",
       "      <td>141410.263158</td>\n",
       "      <td>418</td>\n",
       "      <td>114579.0</td>\n",
       "    </tr>\n",
       "    <tr>\n",
       "      <th>2018</th>\n",
       "      <td>140129.402941</td>\n",
       "      <td>340</td>\n",
       "      <td>117898.0</td>\n",
       "    </tr>\n",
       "    <tr>\n",
       "      <th>2019</th>\n",
       "      <td>173593.070866</td>\n",
       "      <td>127</td>\n",
       "      <td>131432.0</td>\n",
       "    </tr>\n",
       "  </tbody>\n",
       "</table>\n",
       "</div>"
      ],
      "text/plain": [
       "                          mean  count    median\n",
       "year_exposition                                \n",
       "2014             253598.222222      9  260000.0\n",
       "2015             154054.330508    118  107055.0\n",
       "2016             135592.863946    147  109090.0\n",
       "2017             141410.263158    418  114579.0\n",
       "2018             140129.402941    340  117898.0\n",
       "2019             173593.070866    127  131432.0"
      ]
     },
     "metadata": {},
     "output_type": "display_data"
    },
    {
     "data": {
      "text/plain": [
       "<AxesSubplot:xlabel='year_exposition'>"
      ]
     },
     "execution_count": 51,
     "metadata": {},
     "output_type": "execute_result"
    },
    {
     "data": {
      "image/png": "[encoded data removed]",
      "text/plain": [
       "<Figure size 432x288 with 1 Axes>"
      ]
     },
     "metadata": {
      "needs_background": "light"
     },
     "output_type": "display_data"
    }
   ],
   "source": [
    "# подсчитаем зависимость цены квадратного метра от даты размещения (года)\n",
    "# для этого создадим сводную таблицу\n",
    "pivot_table_year_exposition = center_spb.pivot_table(index='year_exposition',\n",
    "                                                     values='price_metr',\n",
    "                                                     aggfunc=['mean', 'count', 'median'])\n",
    "\n",
    "# переименуем столбцы таблицы\n",
    "pivot_table_year_exposition.columns = ['mean', 'count', 'median']\n",
    "display(pivot_table_year_exposition)\n",
    "\n",
    "# построим график зависимости\n",
    "pivot_table_year_exposition.plot(y='median')"
   ]
  },
  {
   "cell_type": "markdown",
   "metadata": {},
   "source": [
    "По графику цены на кв.метр квартир в центре города мы видим такое же изменение как и по городу в целом.\n",
    "\n",
    "С 2014 года цена резко упала вплоть до 2015 года.\n",
    "\n",
    "В отличии данных по городу в целом в центре стоимость кв.метра начала расти уже с 2015 года, а не как по всему городу с 2016 года.\n",
    "\n",
    "Однако, в центре рост цены после 2015 года идет очень медленно в сравнении с данными по городу в целом."
   ]
  },
  {
   "cell_type": "markdown",
   "metadata": {},
   "source": [
    "<a id=\"step_18\"></a>\n",
    "## Общий вывод"
   ]
  },
  {
   "cell_type": "markdown",
   "metadata": {},
   "source": [
    "При проведении данного исследования было выполнено:\n",
    "\n",
    "1. Изучили общую информацию о предоставленных данных\n",
    "\n",
    "2. Выполнили предобработку данных:\n",
    " - определили и изучили пропущенные значения\n",
    " - заполнили пропуски в данных, а именно:\n",
    "  - высоты потолков в продаваемой квартире заменили на медианное значение высот по всему датафрейму\n",
    "  - пропуски в значениях об общем количестве этажей в здании заменили значением этажа продажи квартиры\n",
    "  - заменили пропущенные значения в признаке \"аппартаменты\" на значения, преобладающие в большинсвте, а именно на \"False\"\n",
    "  - заменили пропущенные значения жилой площади на высчитанную по каждой квартире площадь, согласно коэфициенту по всему датафрейму\n",
    "  - заменили пропущенные значения в площади кухни на площадь, высчитанную по всему датафрейму, согласно коэффициенту\n",
    "  - заменили пропуски в значении наличия балконов на \"0\", считая, что, если нет балкона, то его наличие и количество просто не указывали\n",
    "  - заменили пропущенные значения в сроке размещения объявления на 0, приняв пропуски за факт, что квартира не продана\n",
    " - привели данные к нужным типам, а именно:\n",
    "  - привели значения в столбце наличия балконов к типу \"int\"\n",
    "  - привели значения в столбце о днях размещения объявления к типу \"int\"\n",
    "3. Посчитали и добавили в таблицу:\n",
    " - цену квадратного метра\n",
    " - день недели, месяц и год публикации объявления\n",
    " - соотношение жилой и общей площади, а также отношение площади кухне к общей\n",
    "4. Провели исследовательский анализ данных:\n",
    " - изучили параметры: площадь, цена, число комнат, высота потолков. Построили диаграммы для каждого значения\n",
    " - изучили время продажи квартиры, выявили зависимости цены от площади квартиры, числа комнат, удаленности от центра, этажа, даты размещения\n",
    " - выбрали 10 населенных пунктов с наибольшим числов объявлений и просчитали среднюю цену квадратного метра в этих населенных пунктах, выделили населенные пункты с самой высокой и самой низкой стоимостью жилья\n",
    " - изучили предложения квартир и выяснили где находится центр Санкт-Петербурга и какие квартиры в него входят\n",
    " - для выявленных ранее квартир в центре проанализировали следующие параметры: площадь, цена, число комнат, высото потолков\n",
    " - выявили факторы, влияющие на стоимость квартир\n",
    " - сделали выводы об отличиях выводов о квартирах в центре Санкт-Петербурга и всего города в целом"
   ]
  },
  {
   "cell_type": "markdown",
   "metadata": {},
   "source": [
    "<a id=\"step_19\"></a>\n",
    "## Чек-лист готовности проекта\n",
    "\n",
    "Поставьте 'x' в выполненных пунктах. Далее нажмите Shift+Enter."
   ]
  },
  {
   "cell_type": "markdown",
   "metadata": {},
   "source": [
    "- [x]  открыт файл\n",
    "- [x]  файлы изучены (выведены первые строки, метод info())\n",
    "- [x]  определены пропущенные значения\n",
    "- [x]  заполнены пропущенные значения\n",
    "- [x]  есть пояснение, какие пропущенные значения обнаружены\n",
    "- [x]  изменены типы данных\n",
    "- [x]  есть пояснение, в каких столбцах изменены типы и почему\n",
    "- [x]  посчитано и добавлено в таблицу: цена квадратного метра\n",
    "- [x]  посчитано и добавлено в таблицу: день недели, месяц и год публикации объявления\n",
    "- [x]  посчитано и добавлено в таблицу: этаж квартиры; варианты — первый, последний, другой\n",
    "- [x]  посчитано и добавлено в таблицу: соотношение жилой и общей площади, а также отношение площади кухни к общей\n",
    "- [x]  изучены следующие параметры: площадь, цена, число комнат, высота потолков\n",
    "- [x]  построены гистограммы для каждого параметра\n",
    "- [x]  выполнено задание: \"Изучите время продажи квартиры. Постройте гистограмму. Посчитайте среднее и медиану. Опишите, сколько обычно занимает продажа. Когда можно считать, что продажи прошли очень быстро, а когда необычно долго?\"\n",
    "- [x]  выполнено задание: \"Уберите редкие и выбивающиеся значения. Опишите, какие особенности обнаружили.\"\n",
    "- [x]  выполнено задание: \"Какие факторы больше всего влияют на стоимость квартиры? Изучите, зависит ли цена от квадратного метра, числа комнат, этажа (первого или последнего), удалённости от центра. Также изучите зависимость от даты размещения: дня недели, месяца и года. \"Выберите 10 населённых пунктов с наибольшим числом объявлений. Посчитайте среднюю цену квадратного метра в этих населённых пунктах. Выделите населённые пункты с самой высокой и низкой стоимостью жилья. Эти данные можно найти по имени в столбце '*locality_name'*. \"\n",
    "- [x]  выполнено задание: \"Изучите предложения квартир: для каждой квартиры есть информация о расстоянии до центра. Выделите квартиры в Санкт-Петербурге (*'locality_name'*). Ваша задача — выяснить, какая область входит в центр. Создайте столбец с расстоянием до центра в километрах: округлите до целых значений. После этого посчитайте среднюю цену для каждого километра. Постройте график: он должен показывать, как цена зависит от удалённости от центра. Определите границу, где график сильно меняется — это и будет центральная зона. \"\n",
    "- [x]  выполнено задание: \"Выделите сегмент квартир в центре. Проанализируйте эту территорию и изучите следующие параметры: площадь, цена, число комнат, высота потолков. Также выделите факторы, которые влияют на стоимость квартиры (число комнат, этаж, удалённость от центра, дата размещения объявления). Сделайте выводы. Отличаются ли они от общих выводов по всему городу?\"\n",
    "- [x]  в каждом этапе есть выводы\n",
    "- [x]  есть общий вывод"
   ]
  }
 ],
 "metadata": {
  "ExecuteTimeLog": [
   {
    "duration": 659,
    "start_time": "2021-12-26T15:41:49.775Z"
   },
   {
    "duration": 73,
    "start_time": "2021-12-26T15:42:31.118Z"
   },
   {
    "duration": 59,
    "start_time": "2021-12-26T15:42:37.565Z"
   },
   {
    "duration": 62,
    "start_time": "2021-12-26T15:42:44.197Z"
   },
   {
    "duration": 88,
    "start_time": "2021-12-26T15:43:13.062Z"
   },
   {
    "duration": 108,
    "start_time": "2021-12-27T07:46:36.063Z"
   },
   {
    "duration": 202,
    "start_time": "2021-12-27T07:47:30.622Z"
   },
   {
    "duration": 149,
    "start_time": "2021-12-27T07:47:47.138Z"
   },
   {
    "duration": 963,
    "start_time": "2021-12-27T08:15:34.111Z"
   },
   {
    "duration": 85,
    "start_time": "2021-12-27T08:25:30.651Z"
   },
   {
    "duration": 90,
    "start_time": "2021-12-27T09:00:52.317Z"
   },
   {
    "duration": 103,
    "start_time": "2021-12-27T09:16:05.438Z"
   },
   {
    "duration": 123,
    "start_time": "2021-12-27T09:18:26.540Z"
   },
   {
    "duration": 123,
    "start_time": "2021-12-27T09:22:49.672Z"
   },
   {
    "duration": 133,
    "start_time": "2021-12-27T09:31:57.021Z"
   },
   {
    "duration": 134,
    "start_time": "2021-12-27T09:35:19.356Z"
   },
   {
    "duration": 7441,
    "start_time": "2021-12-27T11:36:46.490Z"
   },
   {
    "duration": 9,
    "start_time": "2021-12-27T11:37:06.591Z"
   },
   {
    "duration": 450,
    "start_time": "2021-12-27T11:37:32.088Z"
   },
   {
    "duration": 14,
    "start_time": "2021-12-27T11:39:03.686Z"
   },
   {
    "duration": 7,
    "start_time": "2021-12-27T11:40:49.951Z"
   },
   {
    "duration": 145,
    "start_time": "2021-12-27T11:49:32.296Z"
   },
   {
    "duration": 12,
    "start_time": "2021-12-27T11:49:42.346Z"
   },
   {
    "duration": 7,
    "start_time": "2021-12-27T11:51:13.604Z"
   },
   {
    "duration": 94,
    "start_time": "2021-12-27T12:17:41.465Z"
   },
   {
    "duration": 902,
    "start_time": "2021-12-27T12:23:16.560Z"
   },
   {
    "duration": 28,
    "start_time": "2021-12-27T12:23:17.465Z"
   },
   {
    "duration": 30,
    "start_time": "2021-12-27T12:24:19.426Z"
   },
   {
    "duration": 8,
    "start_time": "2021-12-27T12:37:20.806Z"
   },
   {
    "duration": 566,
    "start_time": "2021-12-27T12:39:22.401Z"
   },
   {
    "duration": 12,
    "start_time": "2021-12-27T12:39:32.162Z"
   },
   {
    "duration": 294,
    "start_time": "2021-12-27T12:45:11.760Z"
   },
   {
    "duration": 482,
    "start_time": "2021-12-27T12:45:18.008Z"
   },
   {
    "duration": 368,
    "start_time": "2021-12-27T12:46:07.022Z"
   },
   {
    "duration": 9,
    "start_time": "2021-12-27T12:46:13.505Z"
   },
   {
    "duration": 10,
    "start_time": "2021-12-27T12:47:27.174Z"
   },
   {
    "duration": 357,
    "start_time": "2021-12-27T12:47:30.917Z"
   },
   {
    "duration": 544,
    "start_time": "2021-12-27T12:50:03.005Z"
   },
   {
    "duration": 419,
    "start_time": "2021-12-27T12:50:10.653Z"
   },
   {
    "duration": 523,
    "start_time": "2021-12-27T12:50:24.643Z"
   },
   {
    "duration": 393,
    "start_time": "2021-12-27T12:50:34.281Z"
   },
   {
    "duration": 592,
    "start_time": "2021-12-27T12:51:07.625Z"
   },
   {
    "duration": 366,
    "start_time": "2021-12-27T12:51:36.900Z"
   },
   {
    "duration": 476,
    "start_time": "2021-12-27T12:52:09.968Z"
   },
   {
    "duration": 356,
    "start_time": "2021-12-27T12:52:33.723Z"
   },
   {
    "duration": 360,
    "start_time": "2021-12-27T12:52:42.892Z"
   },
   {
    "duration": 379,
    "start_time": "2021-12-27T12:52:49.642Z"
   },
   {
    "duration": 332,
    "start_time": "2021-12-27T12:53:54.194Z"
   },
   {
    "duration": 626,
    "start_time": "2021-12-27T12:55:45.428Z"
   },
   {
    "duration": 438,
    "start_time": "2021-12-27T12:55:55.427Z"
   },
   {
    "duration": 347,
    "start_time": "2021-12-27T12:59:44.273Z"
   },
   {
    "duration": 732,
    "start_time": "2021-12-27T13:14:01.347Z"
   },
   {
    "duration": 347,
    "start_time": "2021-12-27T13:17:12.645Z"
   },
   {
    "duration": 360,
    "start_time": "2021-12-27T13:17:29.691Z"
   },
   {
    "duration": 362,
    "start_time": "2021-12-27T13:19:25.670Z"
   },
   {
    "duration": 879,
    "start_time": "2021-12-27T13:21:43.940Z"
   },
   {
    "duration": 628,
    "start_time": "2021-12-27T13:21:51.337Z"
   },
   {
    "duration": 410,
    "start_time": "2021-12-27T13:25:45.594Z"
   },
   {
    "duration": 571,
    "start_time": "2021-12-27T13:49:21.180Z"
   },
   {
    "duration": 511,
    "start_time": "2021-12-27T13:49:52.874Z"
   },
   {
    "duration": 8650,
    "start_time": "2021-12-27T14:00:14.464Z"
   },
   {
    "duration": 431,
    "start_time": "2021-12-27T14:00:44.373Z"
   },
   {
    "duration": 436,
    "start_time": "2021-12-27T14:04:48.410Z"
   },
   {
    "duration": 102,
    "start_time": "2021-12-27T14:07:12.204Z"
   },
   {
    "duration": 495,
    "start_time": "2021-12-27T14:07:27.729Z"
   },
   {
    "duration": 749,
    "start_time": "2021-12-27T14:18:58.478Z"
   },
   {
    "duration": 7847,
    "start_time": "2021-12-27T14:37:13.560Z"
   },
   {
    "duration": 655,
    "start_time": "2021-12-27T14:37:54.303Z"
   },
   {
    "duration": 682,
    "start_time": "2021-12-27T14:39:31.897Z"
   },
   {
    "duration": 937,
    "start_time": "2021-12-27T14:43:41.710Z"
   },
   {
    "duration": 97,
    "start_time": "2021-12-28T05:59:31.268Z"
   },
   {
    "duration": 22,
    "start_time": "2021-12-28T06:20:40.878Z"
   },
   {
    "duration": 30,
    "start_time": "2021-12-28T06:21:18.742Z"
   },
   {
    "duration": 1046,
    "start_time": "2021-12-28T06:25:42.669Z"
   },
   {
    "duration": 583,
    "start_time": "2021-12-28T06:25:55.277Z"
   },
   {
    "duration": 35,
    "start_time": "2021-12-28T06:26:08.875Z"
   },
   {
    "duration": 40,
    "start_time": "2021-12-28T06:31:07.932Z"
   },
   {
    "duration": 40,
    "start_time": "2021-12-28T06:33:55.530Z"
   },
   {
    "duration": 41,
    "start_time": "2021-12-28T06:34:18.824Z"
   },
   {
    "duration": 38,
    "start_time": "2021-12-28T06:35:07.508Z"
   },
   {
    "duration": 31,
    "start_time": "2021-12-28T06:54:45.607Z"
   },
   {
    "duration": 38,
    "start_time": "2021-12-28T06:55:01.817Z"
   },
   {
    "duration": 128,
    "start_time": "2021-12-28T07:27:58.644Z"
   },
   {
    "duration": 8850,
    "start_time": "2021-12-28T07:28:07.310Z"
   },
   {
    "duration": 7825,
    "start_time": "2021-12-28T07:28:28.712Z"
   },
   {
    "duration": 2657,
    "start_time": "2021-12-28T07:41:16.556Z"
   },
   {
    "duration": 1232,
    "start_time": "2021-12-28T07:41:44.754Z"
   },
   {
    "duration": 1143,
    "start_time": "2021-12-28T07:41:55.931Z"
   },
   {
    "duration": 1830,
    "start_time": "2021-12-28T07:45:33.879Z"
   },
   {
    "duration": 1010,
    "start_time": "2021-12-28T09:10:08.275Z"
   },
   {
    "duration": 761,
    "start_time": "2021-12-28T09:10:09.288Z"
   },
   {
    "duration": 3338,
    "start_time": "2021-12-28T09:10:10.053Z"
   },
   {
    "duration": 381,
    "start_time": "2021-12-28T09:10:13.394Z"
   },
   {
    "duration": 9,
    "start_time": "2021-12-28T10:53:36.903Z"
   },
   {
    "duration": 97,
    "start_time": "2021-12-28T10:57:31.290Z"
   },
   {
    "duration": 655,
    "start_time": "2021-12-28T10:57:40.672Z"
   },
   {
    "duration": 3337,
    "start_time": "2021-12-28T10:57:53.070Z"
   },
   {
    "duration": 8,
    "start_time": "2021-12-28T10:58:14.490Z"
   },
   {
    "duration": 6,
    "start_time": "2021-12-28T11:02:22.682Z"
   },
   {
    "duration": 10,
    "start_time": "2021-12-28T11:02:55.708Z"
   },
   {
    "duration": 491,
    "start_time": "2021-12-28T11:03:16.254Z"
   },
   {
    "duration": 8,
    "start_time": "2021-12-28T11:03:24.619Z"
   },
   {
    "duration": 6,
    "start_time": "2021-12-28T11:05:56.824Z"
   },
   {
    "duration": 16,
    "start_time": "2021-12-28T11:05:59.211Z"
   },
   {
    "duration": 471,
    "start_time": "2021-12-28T11:13:45.104Z"
   },
   {
    "duration": 301,
    "start_time": "2021-12-28T11:15:34.599Z"
   },
   {
    "duration": 25,
    "start_time": "2021-12-28T11:15:44.680Z"
   },
   {
    "duration": 8325,
    "start_time": "2021-12-28T11:16:50.040Z"
   },
   {
    "duration": 419,
    "start_time": "2021-12-28T11:17:20.336Z"
   },
   {
    "duration": 28,
    "start_time": "2021-12-28T11:18:55.118Z"
   },
   {
    "duration": 6043,
    "start_time": "2021-12-28T12:21:24.651Z"
   },
   {
    "duration": 7831,
    "start_time": "2021-12-28T12:22:41.973Z"
   },
   {
    "duration": 874,
    "start_time": "2021-12-28T12:25:36.600Z"
   },
   {
    "duration": 859,
    "start_time": "2021-12-28T12:26:30.725Z"
   },
   {
    "duration": 7663,
    "start_time": "2021-12-28T12:33:13.430Z"
   },
   {
    "duration": 2393,
    "start_time": "2021-12-28T12:33:39.786Z"
   },
   {
    "duration": 5,
    "start_time": "2021-12-28T12:33:56.605Z"
   },
   {
    "duration": 10,
    "start_time": "2021-12-28T12:34:00.230Z"
   },
   {
    "duration": 32,
    "start_time": "2021-12-28T12:34:05.465Z"
   },
   {
    "duration": 839,
    "start_time": "2021-12-28T12:34:12.590Z"
   },
   {
    "duration": 944,
    "start_time": "2021-12-28T12:34:23.393Z"
   },
   {
    "duration": 840,
    "start_time": "2021-12-28T12:48:40.014Z"
   },
   {
    "duration": 779,
    "start_time": "2021-12-28T12:48:45.636Z"
   },
   {
    "duration": 3710,
    "start_time": "2021-12-28T12:48:53.083Z"
   },
   {
    "duration": 7,
    "start_time": "2021-12-28T12:49:03.515Z"
   },
   {
    "duration": 11,
    "start_time": "2021-12-28T12:49:07.178Z"
   },
   {
    "duration": 37,
    "start_time": "2021-12-28T12:49:11.345Z"
   },
   {
    "duration": 850,
    "start_time": "2021-12-28T12:49:15.590Z"
   },
   {
    "duration": 437,
    "start_time": "2021-12-28T12:56:54.230Z"
   },
   {
    "duration": 7,
    "start_time": "2021-12-28T12:57:01.697Z"
   },
   {
    "duration": 641,
    "start_time": "2021-12-28T12:59:30.458Z"
   },
   {
    "duration": 662,
    "start_time": "2021-12-28T13:01:06.021Z"
   },
   {
    "duration": 601,
    "start_time": "2021-12-28T13:06:27.676Z"
   },
   {
    "duration": 716,
    "start_time": "2021-12-28T13:08:45.746Z"
   },
   {
    "duration": 628,
    "start_time": "2021-12-28T13:09:06.837Z"
   },
   {
    "duration": 914,
    "start_time": "2021-12-28T13:10:42.566Z"
   },
   {
    "duration": 633,
    "start_time": "2021-12-28T13:15:32.910Z"
   },
   {
    "duration": 643,
    "start_time": "2021-12-28T13:15:48.746Z"
   },
   {
    "duration": 674,
    "start_time": "2021-12-28T13:26:22.272Z"
   },
   {
    "duration": 585,
    "start_time": "2021-12-28T13:26:48.911Z"
   },
   {
    "duration": 694,
    "start_time": "2021-12-28T13:27:03.428Z"
   },
   {
    "duration": 628,
    "start_time": "2021-12-28T13:27:16.979Z"
   },
   {
    "duration": 430,
    "start_time": "2021-12-28T13:28:21.392Z"
   },
   {
    "duration": 387,
    "start_time": "2021-12-28T13:31:03.671Z"
   },
   {
    "duration": 386,
    "start_time": "2021-12-28T13:31:15.395Z"
   },
   {
    "duration": 430,
    "start_time": "2021-12-28T13:32:24.098Z"
   },
   {
    "duration": 605,
    "start_time": "2021-12-28T13:35:28.588Z"
   },
   {
    "duration": 410,
    "start_time": "2021-12-28T13:48:59.735Z"
   },
   {
    "duration": 526,
    "start_time": "2021-12-28T13:49:15.241Z"
   },
   {
    "duration": 397,
    "start_time": "2021-12-28T14:00:00.985Z"
   },
   {
    "duration": 521,
    "start_time": "2021-12-28T14:00:09.832Z"
   },
   {
    "duration": 393,
    "start_time": "2021-12-28T14:00:28.684Z"
   },
   {
    "duration": 444,
    "start_time": "2021-12-28T14:03:14.255Z"
   },
   {
    "duration": 817,
    "start_time": "2021-12-28T14:03:40.784Z"
   },
   {
    "duration": 1031,
    "start_time": "2021-12-28T14:04:33.514Z"
   },
   {
    "duration": 464,
    "start_time": "2021-12-28T14:05:08.382Z"
   },
   {
    "duration": 717,
    "start_time": "2021-12-28T14:05:21.941Z"
   },
   {
    "duration": 416,
    "start_time": "2021-12-28T14:06:43.680Z"
   },
   {
    "duration": 409,
    "start_time": "2021-12-28T14:09:10.885Z"
   },
   {
    "duration": 424,
    "start_time": "2021-12-28T14:12:07.103Z"
   },
   {
    "duration": 438,
    "start_time": "2021-12-28T14:16:10.840Z"
   },
   {
    "duration": 422,
    "start_time": "2021-12-28T14:20:41.048Z"
   },
   {
    "duration": 615,
    "start_time": "2021-12-28T14:47:41.863Z"
   },
   {
    "duration": 436,
    "start_time": "2021-12-28T14:48:14.943Z"
   },
   {
    "duration": 593,
    "start_time": "2021-12-28T14:48:25.442Z"
   },
   {
    "duration": 637,
    "start_time": "2021-12-28T15:00:31.821Z"
   },
   {
    "duration": 30,
    "start_time": "2021-12-29T09:29:26.169Z"
   },
   {
    "duration": 285,
    "start_time": "2021-12-29T10:47:10.749Z"
   },
   {
    "duration": 905,
    "start_time": "2021-12-29T10:48:55.552Z"
   },
   {
    "duration": 955,
    "start_time": "2021-12-29T10:49:01.324Z"
   },
   {
    "duration": 4247,
    "start_time": "2021-12-29T10:49:05.117Z"
   },
   {
    "duration": 9,
    "start_time": "2021-12-29T10:49:13.316Z"
   },
   {
    "duration": 15,
    "start_time": "2021-12-29T10:49:15.780Z"
   },
   {
    "duration": 47,
    "start_time": "2021-12-29T10:49:24.525Z"
   },
   {
    "duration": 979,
    "start_time": "2021-12-29T10:49:26.999Z"
   },
   {
    "duration": 7,
    "start_time": "2021-12-29T10:49:29.824Z"
   },
   {
    "duration": 673,
    "start_time": "2021-12-29T10:49:33.714Z"
   },
   {
    "duration": 843,
    "start_time": "2021-12-29T10:49:36.637Z"
   },
   {
    "duration": 406,
    "start_time": "2021-12-29T10:49:39.200Z"
   },
   {
    "duration": 450,
    "start_time": "2021-12-29T10:49:41.266Z"
   },
   {
    "duration": 656,
    "start_time": "2021-12-29T10:49:44.449Z"
   },
   {
    "duration": 454,
    "start_time": "2021-12-29T10:49:48.014Z"
   },
   {
    "duration": 443,
    "start_time": "2021-12-29T10:49:51.513Z"
   },
   {
    "duration": 408,
    "start_time": "2021-12-29T10:51:02.586Z"
   },
   {
    "duration": 438,
    "start_time": "2021-12-29T10:58:35.685Z"
   },
   {
    "duration": 1034,
    "start_time": "2021-12-29T11:11:20.098Z"
   },
   {
    "duration": 816,
    "start_time": "2021-12-29T11:11:26.058Z"
   },
   {
    "duration": 3903,
    "start_time": "2021-12-29T11:11:30.313Z"
   },
   {
    "duration": 11,
    "start_time": "2021-12-29T11:11:43.247Z"
   },
   {
    "duration": 17,
    "start_time": "2021-12-29T11:11:45.777Z"
   },
   {
    "duration": 45,
    "start_time": "2021-12-29T11:11:49.213Z"
   },
   {
    "duration": 907,
    "start_time": "2021-12-29T11:11:54.080Z"
   },
   {
    "duration": 9,
    "start_time": "2021-12-29T11:11:57.074Z"
   },
   {
    "duration": 765,
    "start_time": "2021-12-29T11:12:00.235Z"
   },
   {
    "duration": 990,
    "start_time": "2021-12-29T11:12:03.874Z"
   },
   {
    "duration": 454,
    "start_time": "2021-12-29T11:12:07.449Z"
   },
   {
    "duration": 424,
    "start_time": "2021-12-29T11:12:10.986Z"
   },
   {
    "duration": 698,
    "start_time": "2021-12-29T11:12:15.239Z"
   },
   {
    "duration": 641,
    "start_time": "2021-12-29T11:12:20.704Z"
   },
   {
    "duration": 494,
    "start_time": "2021-12-29T11:12:25.098Z"
   },
   {
    "duration": 648,
    "start_time": "2021-12-29T11:18:19.603Z"
   },
   {
    "duration": 826,
    "start_time": "2021-12-29T11:26:43.772Z"
   },
   {
    "duration": 836,
    "start_time": "2021-12-29T11:26:53.804Z"
   },
   {
    "duration": 1108,
    "start_time": "2021-12-29T11:32:03.298Z"
   },
   {
    "duration": 426,
    "start_time": "2021-12-29T11:32:19.960Z"
   },
   {
    "duration": 2626,
    "start_time": "2021-12-29T11:38:49.124Z"
   },
   {
    "duration": 319,
    "start_time": "2021-12-29T11:40:12.990Z"
   },
   {
    "duration": 332,
    "start_time": "2021-12-29T11:40:37.284Z"
   },
   {
    "duration": 379,
    "start_time": "2021-12-29T12:12:07.374Z"
   },
   {
    "duration": 326,
    "start_time": "2021-12-29T12:19:45.584Z"
   },
   {
    "duration": 477,
    "start_time": "2021-12-29T12:30:13.862Z"
   },
   {
    "duration": 347,
    "start_time": "2021-12-29T12:46:26.254Z"
   },
   {
    "duration": 298,
    "start_time": "2021-12-29T12:46:41.001Z"
   },
   {
    "duration": 54,
    "start_time": "2021-12-29T12:49:05.582Z"
   },
   {
    "duration": 44,
    "start_time": "2021-12-29T12:49:15.824Z"
   },
   {
    "duration": 295,
    "start_time": "2021-12-29T12:51:20.182Z"
   },
   {
    "duration": 20,
    "start_time": "2021-12-29T12:51:31.228Z"
   },
   {
    "duration": 116,
    "start_time": "2021-12-29T12:58:20.707Z"
   },
   {
    "duration": 323,
    "start_time": "2021-12-29T12:59:03.187Z"
   },
   {
    "duration": 49,
    "start_time": "2021-12-29T12:59:31.984Z"
   },
   {
    "duration": 51,
    "start_time": "2021-12-29T13:00:36.169Z"
   },
   {
    "duration": 37,
    "start_time": "2021-12-29T13:01:22.541Z"
   },
   {
    "duration": 31,
    "start_time": "2021-12-29T13:14:50.762Z"
   },
   {
    "duration": 32,
    "start_time": "2021-12-29T13:15:08.485Z"
   },
   {
    "duration": 39,
    "start_time": "2021-12-29T13:15:46.908Z"
   },
   {
    "duration": 40,
    "start_time": "2021-12-29T13:16:26.123Z"
   },
   {
    "duration": 50,
    "start_time": "2021-12-29T13:17:09.296Z"
   },
   {
    "duration": 469,
    "start_time": "2021-12-29T13:17:36.287Z"
   },
   {
    "duration": 9476,
    "start_time": "2021-12-29T13:18:46.402Z"
   },
   {
    "duration": 8253,
    "start_time": "2021-12-29T13:19:23.337Z"
   },
   {
    "duration": 97,
    "start_time": "2021-12-29T13:19:54.724Z"
   },
   {
    "duration": 95,
    "start_time": "2021-12-29T13:20:43.092Z"
   },
   {
    "duration": 8135,
    "start_time": "2021-12-29T13:21:32.342Z"
   },
   {
    "duration": 9187,
    "start_time": "2021-12-29T13:22:51.276Z"
   },
   {
    "duration": 451,
    "start_time": "2021-12-29T13:23:09.496Z"
   },
   {
    "duration": 94,
    "start_time": "2021-12-29T13:26:10.297Z"
   },
   {
    "duration": 381,
    "start_time": "2021-12-29T13:26:23.567Z"
   },
   {
    "duration": 345,
    "start_time": "2021-12-29T13:26:59.075Z"
   },
   {
    "duration": 373,
    "start_time": "2021-12-29T13:30:03.280Z"
   },
   {
    "duration": 282,
    "start_time": "2021-12-29T13:36:28.591Z"
   },
   {
    "duration": 522,
    "start_time": "2021-12-29T13:36:41.505Z"
   },
   {
    "duration": 619,
    "start_time": "2021-12-29T13:36:53.486Z"
   },
   {
    "duration": 588,
    "start_time": "2021-12-29T13:37:07.035Z"
   },
   {
    "duration": 410,
    "start_time": "2021-12-29T13:37:58.106Z"
   },
   {
    "duration": 426,
    "start_time": "2021-12-29T13:38:08.981Z"
   },
   {
    "duration": 569,
    "start_time": "2021-12-29T13:48:01.835Z"
   },
   {
    "duration": 639,
    "start_time": "2021-12-29T13:52:15.557Z"
   },
   {
    "duration": 326,
    "start_time": "2021-12-29T13:58:14.128Z"
   },
   {
    "duration": 518,
    "start_time": "2021-12-29T13:58:30.295Z"
   },
   {
    "duration": 21,
    "start_time": "2021-12-29T13:58:39.766Z"
   },
   {
    "duration": 16,
    "start_time": "2021-12-29T13:59:11.306Z"
   },
   {
    "duration": 27,
    "start_time": "2021-12-29T13:59:42.982Z"
   },
   {
    "duration": 47,
    "start_time": "2021-12-29T14:00:44.420Z"
   },
   {
    "duration": 40,
    "start_time": "2021-12-29T14:01:23.507Z"
   },
   {
    "duration": 362,
    "start_time": "2021-12-29T14:08:02.664Z"
   },
   {
    "duration": 400,
    "start_time": "2021-12-29T14:09:12.376Z"
   },
   {
    "duration": 404,
    "start_time": "2021-12-29T14:18:20.804Z"
   },
   {
    "duration": 419,
    "start_time": "2021-12-29T14:18:54.878Z"
   },
   {
    "duration": 448,
    "start_time": "2021-12-29T14:21:15.697Z"
   },
   {
    "duration": 456,
    "start_time": "2021-12-29T14:25:36.089Z"
   },
   {
    "duration": 384,
    "start_time": "2021-12-29T14:35:21.076Z"
   },
   {
    "duration": 523,
    "start_time": "2021-12-29T14:38:04.672Z"
   },
   {
    "duration": 442,
    "start_time": "2021-12-29T14:47:01.824Z"
   },
   {
    "duration": 1074,
    "start_time": "2021-12-29T14:56:36.373Z"
   },
   {
    "duration": 756,
    "start_time": "2021-12-29T14:56:43.825Z"
   },
   {
    "duration": 3755,
    "start_time": "2021-12-29T14:56:50.210Z"
   },
   {
    "duration": 11,
    "start_time": "2021-12-29T14:56:53.968Z"
   },
   {
    "duration": 13,
    "start_time": "2021-12-29T14:56:55.396Z"
   },
   {
    "duration": 39,
    "start_time": "2021-12-29T14:56:58.798Z"
   },
   {
    "duration": 849,
    "start_time": "2021-12-29T14:57:01.618Z"
   },
   {
    "duration": 10,
    "start_time": "2021-12-29T14:57:03.880Z"
   },
   {
    "duration": 965,
    "start_time": "2021-12-29T14:57:06.154Z"
   },
   {
    "duration": 988,
    "start_time": "2021-12-29T14:57:11.262Z"
   },
   {
    "duration": 468,
    "start_time": "2021-12-29T14:57:15.300Z"
   },
   {
    "duration": 441,
    "start_time": "2021-12-29T14:57:18.163Z"
   },
   {
    "duration": 721,
    "start_time": "2021-12-29T14:57:21.427Z"
   },
   {
    "duration": 421,
    "start_time": "2021-12-29T14:57:24.694Z"
   },
   {
    "duration": 348,
    "start_time": "2021-12-29T14:57:28.378Z"
   },
   {
    "duration": 430,
    "start_time": "2021-12-29T14:57:31.007Z"
   },
   {
    "duration": 390,
    "start_time": "2021-12-29T14:57:33.079Z"
   },
   {
    "duration": 441,
    "start_time": "2021-12-29T14:57:35.814Z"
   },
   {
    "duration": 462,
    "start_time": "2021-12-29T14:57:39.479Z"
   },
   {
    "duration": 355,
    "start_time": "2021-12-29T14:57:42.685Z"
   },
   {
    "duration": 446,
    "start_time": "2021-12-29T14:57:45.273Z"
   },
   {
    "duration": 39,
    "start_time": "2021-12-29T14:57:48.914Z"
   },
   {
    "duration": 599,
    "start_time": "2021-12-29T14:57:51.594Z"
   },
   {
    "duration": 55,
    "start_time": "2021-12-29T14:57:55.274Z"
   },
   {
    "duration": 540,
    "start_time": "2021-12-29T14:57:57.977Z"
   },
   {
    "duration": 460,
    "start_time": "2021-12-29T14:58:00.148Z"
   },
   {
    "duration": 333,
    "start_time": "2021-12-29T14:58:02.483Z"
   },
   {
    "duration": 346,
    "start_time": "2021-12-29T14:58:04.875Z"
   },
   {
    "duration": 436,
    "start_time": "2021-12-29T14:58:06.889Z"
   },
   {
    "duration": 354,
    "start_time": "2021-12-29T14:58:09.072Z"
   }
  ],
  "kernelspec": {
   "display_name": "Python 3 (ipykernel)",
   "language": "python",
   "name": "python3"
  },
  "language_info": {
   "codemirror_mode": {
    "name": "ipython",
    "version": 3
   },
   "file_extension": ".py",
   "mimetype": "text/x-python",
   "name": "python",
   "nbconvert_exporter": "python",
   "pygments_lexer": "ipython3",
   "version": "3.10.12"
  },
  "toc": {
   "base_numbering": 1,
   "nav_menu": {},
   "number_sections": true,
   "sideBar": true,
   "skip_h1_title": true,
   "title_cell": "Содержание",
   "title_sidebar": "Contents",
   "toc_cell": true,
   "toc_position": {},
   "toc_section_display": true,
   "toc_window_display": true
  }
 },
 "nbformat": 4,
 "nbformat_minor": 2
}
