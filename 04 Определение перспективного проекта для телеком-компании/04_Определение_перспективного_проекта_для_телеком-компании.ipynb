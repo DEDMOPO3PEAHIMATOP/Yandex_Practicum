{
 "cells": [
  {
   "cell_type": "markdown",
   "metadata": {},
   "source": [
    "# Определение перспективного проекта для телеком-компании</b>\n",
    " <b> Описание исследования </b>\n",
    "\n",
    " Вы аналитик компании «Мегалайн» — федерального оператора сотовой связи. Клиентам предлагают два тарифных плана: «Смарт» и «Ультра». Чтобы скорректировать рекламный бюджет, коммерческий департамент хочет понять, какой тариф приносит больше денег.\n",
    "\n",
    "<b>Цель исследования</b>\n",
    "\n",
    " Нам предстоит сделать предварительный анализ тарифов на небольшой выборке клиентов. В нашем распоряжении данные 500 пользователей «Мегалайна»: кто они, откуда, каким тарифом пользуются, сколько звонков и сообщений каждый отправил за 2018 год. \n",
    " \n",
    "<b> Задачи исследования</b>\n",
    "\n",
    "Нужно проанализировать поведение клиентов и сделать вывод — какой тариф лучше.\n",
    "\n",
    "<b>Данное исследование разделим на несколько частей:</b>\n",
    "\n",
    "[ <b>1. Изучение общей информации.</b>](#step_1)\n",
    "\n",
    "  \n",
    "<b> 2. Предобработка данных:</b>\n",
    " \n",
    " 2.1[ Приведение данные к нужным типам.](#step_3)\n",
    "  \n",
    " 2.2. Произведем подсчет для кадого пользователя:\n",
    "  \n",
    "  [- количества сделанных звонков и израсходованных минут разговора по месяцам.](#step_5)\n",
    " \n",
    "  [- количества отправленных сообщений по месяцам.](#step_6)\n",
    "  \n",
    "  [- объем израсходованного интернет-трафика по месяцам.](#step_7)\n",
    "  \n",
    "  [- помесячную выручку с каждого пользователя (вычтем бесплатный лимит из суммарного количества звонков, сообщений и интернет-трафика; остаток умножем на значение из тарифного плана; прибавим абонентскую плату, соответствующую тарифному плану).](#step_8)\n",
    "  \n",
    "<b> 3. Анализ данных. Опишем поведение клиентов оператора, исходя из выборки</b>\n",
    " \n",
    " [3.1. Сколько минут разговора, сколько сообщений и какой объём интернет-трафика требуется пользователям каждого тарифа в месяц.](#step_9)\n",
    " \n",
    " [3.2. Посчитаем среднее количество, дисперсию и стандартное отклонение.](#step_10)\n",
    "   \n",
    " [3.3. Построим гистограммы.](#step_11)\n",
    "    \n",
    " [3.4. Опишием распределения.](#step_12)\n",
    "  \n",
    "<b> 4. Проверка гипотез </b>\n",
    "  \n",
    " [4.1. средняя выручка пользователей тарифов «Ультра» и «Смарт» различаются.](#step_13)\n",
    "  \n",
    " [4.2. средняя выручка пользователей из Москвы отличается от выручки пользователей из других регионов.](#step_14)\n",
    " \n",
    " [4.3. Пояснение как я формулировал нулевую и альтернативную гипотезы.](#step_15)\n",
    "  \n",
    " [4.4. Пояснение какой критерий использовали для проверки гипотез и почему.](#step_16)\n",
    "  \n",
    "  \n",
    " <b> 5.</b> [<b>Общий вывод </b>](#step_17)"
   ]
  },
  {
   "cell_type": "markdown",
   "metadata": {},
   "source": [
    "<a id=\"step_1\"></a>\n",
    "<b>1. Изучение общей информации.</b>"
   ]
  },
  {
   "cell_type": "code",
   "execution_count": 2,
   "metadata": {},
   "outputs": [],
   "source": [
    "import pandas as pd # подключем библиотеку 'pandas' для работы с файлами\n",
    "import numpy as np # подключем библиотеку 'numpy' для работы с математическими функциями и массивами\n",
    "import matplotlib.pyplot as plt # подключем библиотеку 'matplotlib.pyplot' для построения графиков\n",
    "import seaborn as sns # подгружаем библиотеку seaborn для визуализации\n",
    "from scipy import stats as st # подключаем модуль 'stats' из библиотеки 'scipy' для статистики\n",
    "\n",
    "# импортируем библиотеку warning\n",
    "import warnings\n",
    "warnings.filterwarnings(\"ignore\")\n",
    "\n",
    "try:\n",
    "    calls = pd.read_csv('/datasets/calls.csv') # считываем значения файла 'calls.csv' в датафрейм 'calls'\n",
    "    internet = pd.read_csv('/datasets/internet.csv') # считываем значения файла 'internet.csv' в\n",
    "                                                     # датафрейм 'internet'\n",
    "    messages = pd.read_csv('/datasets/messages.csv') # считываем значения файла 'messages.csv' в\n",
    "                                                     # датафрейм 'messages.csv'\n",
    "    tariffs = pd.read_csv('/datasets/tariffs.csv') # считываем значения файла 'tariffs.csv' в датафрейм 'tariffs'\n",
    "    users = pd.read_csv('/datasets/users.csv') # считываем значения файла 'users.csv' в датафрейм 'users'\n",
    "except:\n",
    "    calls = pd.read_csv('calls.csv') # считываем значения файла 'calls.csv' в датафрейм 'calls'\n",
    "    internet = pd.read_csv('internet.csv') # считываем значения файла 'internet.csv' в датафрейм 'internet'\n",
    "    messages = pd.read_csv('messages.csv') # считываем значения файла 'messages.csv' в датафрейм 'messages.csv'\n",
    "    tariffs = pd.read_csv('tariffs.csv') # считываем значения файла 'tariffs.csv' в датафрейм 'tariffs'\n",
    "    users = pd.read_csv('users.csv') # считываем значения файла 'users.csv' в датафрейм 'users'"
   ]
  },
  {
   "cell_type": "code",
   "execution_count": 6,
   "metadata": {
    "scrolled": true
   },
   "outputs": [],
   "source": [
    "def files_info(file: 'filename.csv')-> str:\n",
    "    '''\n",
    "    Функция проверки первичных данных\n",
    "    '''\n",
    "    file.info()\n",
    "    display(file.head(10))"
   ]
  },
  {
   "cell_type": "code",
   "execution_count": 7,
   "metadata": {},
   "outputs": [
    {
     "name": "stdout",
     "output_type": "stream",
     "text": [
      "<class 'pandas.core.frame.DataFrame'>\n",
      "RangeIndex: 202607 entries, 0 to 202606\n",
      "Data columns (total 4 columns):\n",
      " #   Column     Non-Null Count   Dtype  \n",
      "---  ------     --------------   -----  \n",
      " 0   id         202607 non-null  object \n",
      " 1   call_date  202607 non-null  object \n",
      " 2   duration   202607 non-null  float64\n",
      " 3   user_id    202607 non-null  int64  \n",
      "dtypes: float64(1), int64(1), object(2)\n",
      "memory usage: 6.2+ MB\n"
     ]
    },
    {
     "data": {
      "text/html": [
       "<div>\n",
       "<style scoped>\n",
       "    .dataframe tbody tr th:only-of-type {\n",
       "        vertical-align: middle;\n",
       "    }\n",
       "\n",
       "    .dataframe tbody tr th {\n",
       "        vertical-align: top;\n",
       "    }\n",
       "\n",
       "    .dataframe thead th {\n",
       "        text-align: right;\n",
       "    }\n",
       "</style>\n",
       "<table border=\"1\" class=\"dataframe\">\n",
       "  <thead>\n",
       "    <tr style=\"text-align: right;\">\n",
       "      <th></th>\n",
       "      <th>id</th>\n",
       "      <th>call_date</th>\n",
       "      <th>duration</th>\n",
       "      <th>user_id</th>\n",
       "    </tr>\n",
       "  </thead>\n",
       "  <tbody>\n",
       "    <tr>\n",
       "      <th>0</th>\n",
       "      <td>1000_0</td>\n",
       "      <td>2018-07-25</td>\n",
       "      <td>0.00</td>\n",
       "      <td>1000</td>\n",
       "    </tr>\n",
       "    <tr>\n",
       "      <th>1</th>\n",
       "      <td>1000_1</td>\n",
       "      <td>2018-08-17</td>\n",
       "      <td>0.00</td>\n",
       "      <td>1000</td>\n",
       "    </tr>\n",
       "    <tr>\n",
       "      <th>2</th>\n",
       "      <td>1000_2</td>\n",
       "      <td>2018-06-11</td>\n",
       "      <td>2.85</td>\n",
       "      <td>1000</td>\n",
       "    </tr>\n",
       "    <tr>\n",
       "      <th>3</th>\n",
       "      <td>1000_3</td>\n",
       "      <td>2018-09-21</td>\n",
       "      <td>13.80</td>\n",
       "      <td>1000</td>\n",
       "    </tr>\n",
       "    <tr>\n",
       "      <th>4</th>\n",
       "      <td>1000_4</td>\n",
       "      <td>2018-12-15</td>\n",
       "      <td>5.18</td>\n",
       "      <td>1000</td>\n",
       "    </tr>\n",
       "    <tr>\n",
       "      <th>5</th>\n",
       "      <td>1000_5</td>\n",
       "      <td>2018-11-02</td>\n",
       "      <td>0.00</td>\n",
       "      <td>1000</td>\n",
       "    </tr>\n",
       "    <tr>\n",
       "      <th>6</th>\n",
       "      <td>1000_6</td>\n",
       "      <td>2018-10-18</td>\n",
       "      <td>0.00</td>\n",
       "      <td>1000</td>\n",
       "    </tr>\n",
       "    <tr>\n",
       "      <th>7</th>\n",
       "      <td>1000_7</td>\n",
       "      <td>2018-08-22</td>\n",
       "      <td>18.31</td>\n",
       "      <td>1000</td>\n",
       "    </tr>\n",
       "    <tr>\n",
       "      <th>8</th>\n",
       "      <td>1000_8</td>\n",
       "      <td>2018-09-15</td>\n",
       "      <td>18.44</td>\n",
       "      <td>1000</td>\n",
       "    </tr>\n",
       "    <tr>\n",
       "      <th>9</th>\n",
       "      <td>1000_9</td>\n",
       "      <td>2018-08-15</td>\n",
       "      <td>0.00</td>\n",
       "      <td>1000</td>\n",
       "    </tr>\n",
       "  </tbody>\n",
       "</table>\n",
       "</div>"
      ],
      "text/plain": [
       "       id   call_date  duration  user_id\n",
       "0  1000_0  2018-07-25      0.00     1000\n",
       "1  1000_1  2018-08-17      0.00     1000\n",
       "2  1000_2  2018-06-11      2.85     1000\n",
       "3  1000_3  2018-09-21     13.80     1000\n",
       "4  1000_4  2018-12-15      5.18     1000\n",
       "5  1000_5  2018-11-02      0.00     1000\n",
       "6  1000_6  2018-10-18      0.00     1000\n",
       "7  1000_7  2018-08-22     18.31     1000\n",
       "8  1000_8  2018-09-15     18.44     1000\n",
       "9  1000_9  2018-08-15      0.00     1000"
      ]
     },
     "metadata": {},
     "output_type": "display_data"
    }
   ],
   "source": [
    "files_info(calls)"
   ]
  },
  {
   "cell_type": "markdown",
   "metadata": {},
   "source": [
    "<b>Таблица calls (информация о звонках):</b>\n",
    "\n",
    "•\tid — уникальный номер звонка\n",
    "\n",
    "•\tcall_date — дата звонка\n",
    "\n",
    "•\tduration — длительность звонка в минутах\n",
    "\n",
    "•\tuser_id — идентификатор пользователя, сделавшего звонок\n",
    "\n",
    "Фаил 'calls.csv' содержит 202 607 строк. В колонке 'duration' есть звонки продолжительностью '0' минут, как следует из описания к файлу - это пропущнные звонки.\n",
    "\n",
    "Пропущенных значений не выявлено."
   ]
  },
  {
   "cell_type": "code",
   "execution_count": 8,
   "metadata": {},
   "outputs": [
    {
     "name": "stdout",
     "output_type": "stream",
     "text": [
      "<class 'pandas.core.frame.DataFrame'>\n",
      "RangeIndex: 149396 entries, 0 to 149395\n",
      "Data columns (total 5 columns):\n",
      " #   Column        Non-Null Count   Dtype  \n",
      "---  ------        --------------   -----  \n",
      " 0   Unnamed: 0    149396 non-null  int64  \n",
      " 1   id            149396 non-null  object \n",
      " 2   mb_used       149396 non-null  float64\n",
      " 3   session_date  149396 non-null  object \n",
      " 4   user_id       149396 non-null  int64  \n",
      "dtypes: float64(1), int64(2), object(2)\n",
      "memory usage: 5.7+ MB\n"
     ]
    },
    {
     "data": {
      "text/html": [
       "<div>\n",
       "<style scoped>\n",
       "    .dataframe tbody tr th:only-of-type {\n",
       "        vertical-align: middle;\n",
       "    }\n",
       "\n",
       "    .dataframe tbody tr th {\n",
       "        vertical-align: top;\n",
       "    }\n",
       "\n",
       "    .dataframe thead th {\n",
       "        text-align: right;\n",
       "    }\n",
       "</style>\n",
       "<table border=\"1\" class=\"dataframe\">\n",
       "  <thead>\n",
       "    <tr style=\"text-align: right;\">\n",
       "      <th></th>\n",
       "      <th>Unnamed: 0</th>\n",
       "      <th>id</th>\n",
       "      <th>mb_used</th>\n",
       "      <th>session_date</th>\n",
       "      <th>user_id</th>\n",
       "    </tr>\n",
       "  </thead>\n",
       "  <tbody>\n",
       "    <tr>\n",
       "      <th>0</th>\n",
       "      <td>0</td>\n",
       "      <td>1000_0</td>\n",
       "      <td>112.95</td>\n",
       "      <td>2018-11-25</td>\n",
       "      <td>1000</td>\n",
       "    </tr>\n",
       "    <tr>\n",
       "      <th>1</th>\n",
       "      <td>1</td>\n",
       "      <td>1000_1</td>\n",
       "      <td>1052.81</td>\n",
       "      <td>2018-09-07</td>\n",
       "      <td>1000</td>\n",
       "    </tr>\n",
       "    <tr>\n",
       "      <th>2</th>\n",
       "      <td>2</td>\n",
       "      <td>1000_2</td>\n",
       "      <td>1197.26</td>\n",
       "      <td>2018-06-25</td>\n",
       "      <td>1000</td>\n",
       "    </tr>\n",
       "    <tr>\n",
       "      <th>3</th>\n",
       "      <td>3</td>\n",
       "      <td>1000_3</td>\n",
       "      <td>550.27</td>\n",
       "      <td>2018-08-22</td>\n",
       "      <td>1000</td>\n",
       "    </tr>\n",
       "    <tr>\n",
       "      <th>4</th>\n",
       "      <td>4</td>\n",
       "      <td>1000_4</td>\n",
       "      <td>302.56</td>\n",
       "      <td>2018-09-24</td>\n",
       "      <td>1000</td>\n",
       "    </tr>\n",
       "    <tr>\n",
       "      <th>5</th>\n",
       "      <td>5</td>\n",
       "      <td>1000_5</td>\n",
       "      <td>399.97</td>\n",
       "      <td>2018-10-02</td>\n",
       "      <td>1000</td>\n",
       "    </tr>\n",
       "    <tr>\n",
       "      <th>6</th>\n",
       "      <td>6</td>\n",
       "      <td>1000_6</td>\n",
       "      <td>540.08</td>\n",
       "      <td>2018-09-07</td>\n",
       "      <td>1000</td>\n",
       "    </tr>\n",
       "    <tr>\n",
       "      <th>7</th>\n",
       "      <td>7</td>\n",
       "      <td>1000_7</td>\n",
       "      <td>415.70</td>\n",
       "      <td>2018-07-11</td>\n",
       "      <td>1000</td>\n",
       "    </tr>\n",
       "    <tr>\n",
       "      <th>8</th>\n",
       "      <td>8</td>\n",
       "      <td>1000_8</td>\n",
       "      <td>505.40</td>\n",
       "      <td>2018-10-08</td>\n",
       "      <td>1000</td>\n",
       "    </tr>\n",
       "    <tr>\n",
       "      <th>9</th>\n",
       "      <td>9</td>\n",
       "      <td>1000_9</td>\n",
       "      <td>345.54</td>\n",
       "      <td>2018-09-03</td>\n",
       "      <td>1000</td>\n",
       "    </tr>\n",
       "  </tbody>\n",
       "</table>\n",
       "</div>"
      ],
      "text/plain": [
       "   Unnamed: 0      id  mb_used session_date  user_id\n",
       "0           0  1000_0   112.95   2018-11-25     1000\n",
       "1           1  1000_1  1052.81   2018-09-07     1000\n",
       "2           2  1000_2  1197.26   2018-06-25     1000\n",
       "3           3  1000_3   550.27   2018-08-22     1000\n",
       "4           4  1000_4   302.56   2018-09-24     1000\n",
       "5           5  1000_5   399.97   2018-10-02     1000\n",
       "6           6  1000_6   540.08   2018-09-07     1000\n",
       "7           7  1000_7   415.70   2018-07-11     1000\n",
       "8           8  1000_8   505.40   2018-10-08     1000\n",
       "9           9  1000_9   345.54   2018-09-03     1000"
      ]
     },
     "metadata": {},
     "output_type": "display_data"
    }
   ],
   "source": [
    "files_info(internet)"
   ]
  },
  {
   "cell_type": "markdown",
   "metadata": {},
   "source": [
    "<b>Таблица internet (информация об интернет-сессиях):</b>\n",
    "    \n",
    "•\tid — уникальный номер сессии\n",
    "\n",
    "•\tmb_used — объём потраченного за сессию интернет-трафика (в мегабайтах)\n",
    "\n",
    "•\tsession_date — дата интернет-сессии\n",
    "\n",
    "•\tuser_id — идентификатор пользователя\n",
    "\n",
    "Фаил 'internet.csv' содержит 149 396 строк.\n",
    "\n",
    "Пропущенных значений не выявлено."
   ]
  },
  {
   "cell_type": "code",
   "execution_count": 9,
   "metadata": {},
   "outputs": [
    {
     "name": "stdout",
     "output_type": "stream",
     "text": [
      "<class 'pandas.core.frame.DataFrame'>\n",
      "RangeIndex: 123036 entries, 0 to 123035\n",
      "Data columns (total 3 columns):\n",
      " #   Column        Non-Null Count   Dtype \n",
      "---  ------        --------------   ----- \n",
      " 0   id            123036 non-null  object\n",
      " 1   message_date  123036 non-null  object\n",
      " 2   user_id       123036 non-null  int64 \n",
      "dtypes: int64(1), object(2)\n",
      "memory usage: 2.8+ MB\n"
     ]
    },
    {
     "data": {
      "text/html": [
       "<div>\n",
       "<style scoped>\n",
       "    .dataframe tbody tr th:only-of-type {\n",
       "        vertical-align: middle;\n",
       "    }\n",
       "\n",
       "    .dataframe tbody tr th {\n",
       "        vertical-align: top;\n",
       "    }\n",
       "\n",
       "    .dataframe thead th {\n",
       "        text-align: right;\n",
       "    }\n",
       "</style>\n",
       "<table border=\"1\" class=\"dataframe\">\n",
       "  <thead>\n",
       "    <tr style=\"text-align: right;\">\n",
       "      <th></th>\n",
       "      <th>id</th>\n",
       "      <th>message_date</th>\n",
       "      <th>user_id</th>\n",
       "    </tr>\n",
       "  </thead>\n",
       "  <tbody>\n",
       "    <tr>\n",
       "      <th>0</th>\n",
       "      <td>1000_0</td>\n",
       "      <td>2018-06-27</td>\n",
       "      <td>1000</td>\n",
       "    </tr>\n",
       "    <tr>\n",
       "      <th>1</th>\n",
       "      <td>1000_1</td>\n",
       "      <td>2018-10-08</td>\n",
       "      <td>1000</td>\n",
       "    </tr>\n",
       "    <tr>\n",
       "      <th>2</th>\n",
       "      <td>1000_2</td>\n",
       "      <td>2018-08-04</td>\n",
       "      <td>1000</td>\n",
       "    </tr>\n",
       "    <tr>\n",
       "      <th>3</th>\n",
       "      <td>1000_3</td>\n",
       "      <td>2018-06-16</td>\n",
       "      <td>1000</td>\n",
       "    </tr>\n",
       "    <tr>\n",
       "      <th>4</th>\n",
       "      <td>1000_4</td>\n",
       "      <td>2018-12-05</td>\n",
       "      <td>1000</td>\n",
       "    </tr>\n",
       "    <tr>\n",
       "      <th>5</th>\n",
       "      <td>1000_5</td>\n",
       "      <td>2018-06-20</td>\n",
       "      <td>1000</td>\n",
       "    </tr>\n",
       "    <tr>\n",
       "      <th>6</th>\n",
       "      <td>1000_6</td>\n",
       "      <td>2018-11-19</td>\n",
       "      <td>1000</td>\n",
       "    </tr>\n",
       "    <tr>\n",
       "      <th>7</th>\n",
       "      <td>1000_7</td>\n",
       "      <td>2018-10-29</td>\n",
       "      <td>1000</td>\n",
       "    </tr>\n",
       "    <tr>\n",
       "      <th>8</th>\n",
       "      <td>1000_8</td>\n",
       "      <td>2018-06-25</td>\n",
       "      <td>1000</td>\n",
       "    </tr>\n",
       "    <tr>\n",
       "      <th>9</th>\n",
       "      <td>1000_9</td>\n",
       "      <td>2018-12-18</td>\n",
       "      <td>1000</td>\n",
       "    </tr>\n",
       "  </tbody>\n",
       "</table>\n",
       "</div>"
      ],
      "text/plain": [
       "       id message_date  user_id\n",
       "0  1000_0   2018-06-27     1000\n",
       "1  1000_1   2018-10-08     1000\n",
       "2  1000_2   2018-08-04     1000\n",
       "3  1000_3   2018-06-16     1000\n",
       "4  1000_4   2018-12-05     1000\n",
       "5  1000_5   2018-06-20     1000\n",
       "6  1000_6   2018-11-19     1000\n",
       "7  1000_7   2018-10-29     1000\n",
       "8  1000_8   2018-06-25     1000\n",
       "9  1000_9   2018-12-18     1000"
      ]
     },
     "metadata": {},
     "output_type": "display_data"
    }
   ],
   "source": [
    "files_info(messages)"
   ]
  },
  {
   "cell_type": "markdown",
   "metadata": {},
   "source": [
    "<b>Таблица messages (информация о сообщениях):</b>\n",
    "\n",
    "•\tid — уникальный номер сообщения\n",
    "\n",
    "•\tmessage_date — дата сообщения\n",
    "\n",
    "•\tuser_id — идентификатор пользователя, отправившего сообщение\n",
    "\n",
    "Фаил 'messages.csv' содержит 123 036 строк.\n",
    "\n",
    "Пропущенных значений не выявлено."
   ]
  },
  {
   "cell_type": "code",
   "execution_count": 10,
   "metadata": {},
   "outputs": [
    {
     "name": "stdout",
     "output_type": "stream",
     "text": [
      "<class 'pandas.core.frame.DataFrame'>\n",
      "RangeIndex: 2 entries, 0 to 1\n",
      "Data columns (total 8 columns):\n",
      " #   Column                 Non-Null Count  Dtype \n",
      "---  ------                 --------------  ----- \n",
      " 0   messages_included      2 non-null      int64 \n",
      " 1   mb_per_month_included  2 non-null      int64 \n",
      " 2   minutes_included       2 non-null      int64 \n",
      " 3   rub_monthly_fee        2 non-null      int64 \n",
      " 4   rub_per_gb             2 non-null      int64 \n",
      " 5   rub_per_message        2 non-null      int64 \n",
      " 6   rub_per_minute         2 non-null      int64 \n",
      " 7   tariff_name            2 non-null      object\n",
      "dtypes: int64(7), object(1)\n",
      "memory usage: 256.0+ bytes\n"
     ]
    },
    {
     "data": {
      "text/html": [
       "<div>\n",
       "<style scoped>\n",
       "    .dataframe tbody tr th:only-of-type {\n",
       "        vertical-align: middle;\n",
       "    }\n",
       "\n",
       "    .dataframe tbody tr th {\n",
       "        vertical-align: top;\n",
       "    }\n",
       "\n",
       "    .dataframe thead th {\n",
       "        text-align: right;\n",
       "    }\n",
       "</style>\n",
       "<table border=\"1\" class=\"dataframe\">\n",
       "  <thead>\n",
       "    <tr style=\"text-align: right;\">\n",
       "      <th></th>\n",
       "      <th>messages_included</th>\n",
       "      <th>mb_per_month_included</th>\n",
       "      <th>minutes_included</th>\n",
       "      <th>rub_monthly_fee</th>\n",
       "      <th>rub_per_gb</th>\n",
       "      <th>rub_per_message</th>\n",
       "      <th>rub_per_minute</th>\n",
       "      <th>tariff_name</th>\n",
       "    </tr>\n",
       "  </thead>\n",
       "  <tbody>\n",
       "    <tr>\n",
       "      <th>0</th>\n",
       "      <td>50</td>\n",
       "      <td>15360</td>\n",
       "      <td>500</td>\n",
       "      <td>550</td>\n",
       "      <td>200</td>\n",
       "      <td>3</td>\n",
       "      <td>3</td>\n",
       "      <td>smart</td>\n",
       "    </tr>\n",
       "    <tr>\n",
       "      <th>1</th>\n",
       "      <td>1000</td>\n",
       "      <td>30720</td>\n",
       "      <td>3000</td>\n",
       "      <td>1950</td>\n",
       "      <td>150</td>\n",
       "      <td>1</td>\n",
       "      <td>1</td>\n",
       "      <td>ultra</td>\n",
       "    </tr>\n",
       "  </tbody>\n",
       "</table>\n",
       "</div>"
      ],
      "text/plain": [
       "   messages_included  mb_per_month_included  minutes_included  \\\n",
       "0                 50                  15360               500   \n",
       "1               1000                  30720              3000   \n",
       "\n",
       "   rub_monthly_fee  rub_per_gb  rub_per_message  rub_per_minute tariff_name  \n",
       "0              550         200                3               3       smart  \n",
       "1             1950         150                1               1       ultra  "
      ]
     },
     "metadata": {},
     "output_type": "display_data"
    }
   ],
   "source": [
    "files_info(tariffs)"
   ]
  },
  {
   "cell_type": "markdown",
   "metadata": {},
   "source": [
    "<b>Таблица tariffs (информация о тарифах):</b>\n",
    "\n",
    "•\ttariff_name — название тарифа\n",
    "\n",
    "•\trub_monthly_fee — ежемесячная абонентская плата в рублях\n",
    "\n",
    "•\tminutes_included — количество минут разговора в месяц, включённых в абонентскую плату\n",
    "\n",
    "•\tmessages_included — количество сообщений в месяц, включённых в абонентскую плату\n",
    "\n",
    "•\tmb_per_month_included — объём интернет-трафика, включённого в абонентскую плату (в мегабайтах)\n",
    "\n",
    "•\trub_per_minute — стоимость минуты разговора сверх тарифного пакета (например, если в тарифе 100 минут разговора в месяц, то со 101 минуты будет взиматься плата)\n",
    "\n",
    "•\trub_per_message — стоимость отправки сообщения сверх тарифного пакета\n",
    "\n",
    "•\trub_per_gb — стоимость дополнительного гигабайта интернет-трафика сверх тарифного пакета (1 гигабайт = 1024 мегабайта)\n",
    "\n",
    "Фаил 'tariffs.csv' содержит 2 строки. В нем расписаны два тарифных плана с их ограничениями и стоимостями.\n",
    "\n",
    "Пропущенных значений не выявлено."
   ]
  },
  {
   "cell_type": "code",
   "execution_count": 11,
   "metadata": {},
   "outputs": [
    {
     "name": "stdout",
     "output_type": "stream",
     "text": [
      "<class 'pandas.core.frame.DataFrame'>\n",
      "RangeIndex: 500 entries, 0 to 499\n",
      "Data columns (total 8 columns):\n",
      " #   Column      Non-Null Count  Dtype \n",
      "---  ------      --------------  ----- \n",
      " 0   user_id     500 non-null    int64 \n",
      " 1   age         500 non-null    int64 \n",
      " 2   churn_date  38 non-null     object\n",
      " 3   city        500 non-null    object\n",
      " 4   first_name  500 non-null    object\n",
      " 5   last_name   500 non-null    object\n",
      " 6   reg_date    500 non-null    object\n",
      " 7   tariff      500 non-null    object\n",
      "dtypes: int64(2), object(6)\n",
      "memory usage: 31.4+ KB\n"
     ]
    },
    {
     "data": {
      "text/html": [
       "<div>\n",
       "<style scoped>\n",
       "    .dataframe tbody tr th:only-of-type {\n",
       "        vertical-align: middle;\n",
       "    }\n",
       "\n",
       "    .dataframe tbody tr th {\n",
       "        vertical-align: top;\n",
       "    }\n",
       "\n",
       "    .dataframe thead th {\n",
       "        text-align: right;\n",
       "    }\n",
       "</style>\n",
       "<table border=\"1\" class=\"dataframe\">\n",
       "  <thead>\n",
       "    <tr style=\"text-align: right;\">\n",
       "      <th></th>\n",
       "      <th>user_id</th>\n",
       "      <th>age</th>\n",
       "      <th>churn_date</th>\n",
       "      <th>city</th>\n",
       "      <th>first_name</th>\n",
       "      <th>last_name</th>\n",
       "      <th>reg_date</th>\n",
       "      <th>tariff</th>\n",
       "    </tr>\n",
       "  </thead>\n",
       "  <tbody>\n",
       "    <tr>\n",
       "      <th>0</th>\n",
       "      <td>1000</td>\n",
       "      <td>52</td>\n",
       "      <td>NaN</td>\n",
       "      <td>Краснодар</td>\n",
       "      <td>Рафаил</td>\n",
       "      <td>Верещагин</td>\n",
       "      <td>2018-05-25</td>\n",
       "      <td>ultra</td>\n",
       "    </tr>\n",
       "    <tr>\n",
       "      <th>1</th>\n",
       "      <td>1001</td>\n",
       "      <td>41</td>\n",
       "      <td>NaN</td>\n",
       "      <td>Москва</td>\n",
       "      <td>Иван</td>\n",
       "      <td>Ежов</td>\n",
       "      <td>2018-11-01</td>\n",
       "      <td>smart</td>\n",
       "    </tr>\n",
       "    <tr>\n",
       "      <th>2</th>\n",
       "      <td>1002</td>\n",
       "      <td>59</td>\n",
       "      <td>NaN</td>\n",
       "      <td>Стерлитамак</td>\n",
       "      <td>Евгений</td>\n",
       "      <td>Абрамович</td>\n",
       "      <td>2018-06-17</td>\n",
       "      <td>smart</td>\n",
       "    </tr>\n",
       "    <tr>\n",
       "      <th>3</th>\n",
       "      <td>1003</td>\n",
       "      <td>23</td>\n",
       "      <td>NaN</td>\n",
       "      <td>Москва</td>\n",
       "      <td>Белла</td>\n",
       "      <td>Белякова</td>\n",
       "      <td>2018-08-17</td>\n",
       "      <td>ultra</td>\n",
       "    </tr>\n",
       "    <tr>\n",
       "      <th>4</th>\n",
       "      <td>1004</td>\n",
       "      <td>68</td>\n",
       "      <td>NaN</td>\n",
       "      <td>Новокузнецк</td>\n",
       "      <td>Татьяна</td>\n",
       "      <td>Авдеенко</td>\n",
       "      <td>2018-05-14</td>\n",
       "      <td>ultra</td>\n",
       "    </tr>\n",
       "    <tr>\n",
       "      <th>5</th>\n",
       "      <td>1005</td>\n",
       "      <td>67</td>\n",
       "      <td>NaN</td>\n",
       "      <td>Набережные Челны</td>\n",
       "      <td>Афанасий</td>\n",
       "      <td>Горлов</td>\n",
       "      <td>2018-01-25</td>\n",
       "      <td>smart</td>\n",
       "    </tr>\n",
       "    <tr>\n",
       "      <th>6</th>\n",
       "      <td>1006</td>\n",
       "      <td>21</td>\n",
       "      <td>NaN</td>\n",
       "      <td>Ульяновск</td>\n",
       "      <td>Леонид</td>\n",
       "      <td>Ермолаев</td>\n",
       "      <td>2018-02-26</td>\n",
       "      <td>smart</td>\n",
       "    </tr>\n",
       "    <tr>\n",
       "      <th>7</th>\n",
       "      <td>1007</td>\n",
       "      <td>65</td>\n",
       "      <td>NaN</td>\n",
       "      <td>Москва</td>\n",
       "      <td>Юна</td>\n",
       "      <td>Березина</td>\n",
       "      <td>2018-04-19</td>\n",
       "      <td>smart</td>\n",
       "    </tr>\n",
       "    <tr>\n",
       "      <th>8</th>\n",
       "      <td>1008</td>\n",
       "      <td>63</td>\n",
       "      <td>NaN</td>\n",
       "      <td>Челябинск</td>\n",
       "      <td>Рустэм</td>\n",
       "      <td>Пономарёв</td>\n",
       "      <td>2018-12-19</td>\n",
       "      <td>smart</td>\n",
       "    </tr>\n",
       "    <tr>\n",
       "      <th>9</th>\n",
       "      <td>1009</td>\n",
       "      <td>24</td>\n",
       "      <td>NaN</td>\n",
       "      <td>Пермь</td>\n",
       "      <td>Василиса</td>\n",
       "      <td>Блинова</td>\n",
       "      <td>2018-03-22</td>\n",
       "      <td>smart</td>\n",
       "    </tr>\n",
       "  </tbody>\n",
       "</table>\n",
       "</div>"
      ],
      "text/plain": [
       "   user_id  age churn_date              city first_name  last_name  \\\n",
       "0     1000   52        NaN         Краснодар     Рафаил  Верещагин   \n",
       "1     1001   41        NaN            Москва       Иван       Ежов   \n",
       "2     1002   59        NaN       Стерлитамак    Евгений  Абрамович   \n",
       "3     1003   23        NaN            Москва      Белла   Белякова   \n",
       "4     1004   68        NaN       Новокузнецк    Татьяна   Авдеенко   \n",
       "5     1005   67        NaN  Набережные Челны   Афанасий     Горлов   \n",
       "6     1006   21        NaN         Ульяновск     Леонид   Ермолаев   \n",
       "7     1007   65        NaN            Москва        Юна   Березина   \n",
       "8     1008   63        NaN         Челябинск     Рустэм  Пономарёв   \n",
       "9     1009   24        NaN             Пермь   Василиса    Блинова   \n",
       "\n",
       "     reg_date tariff  \n",
       "0  2018-05-25  ultra  \n",
       "1  2018-11-01  smart  \n",
       "2  2018-06-17  smart  \n",
       "3  2018-08-17  ultra  \n",
       "4  2018-05-14  ultra  \n",
       "5  2018-01-25  smart  \n",
       "6  2018-02-26  smart  \n",
       "7  2018-04-19  smart  \n",
       "8  2018-12-19  smart  \n",
       "9  2018-03-22  smart  "
      ]
     },
     "metadata": {},
     "output_type": "display_data"
    }
   ],
   "source": [
    "files_info(users)"
   ]
  },
  {
   "cell_type": "markdown",
   "metadata": {},
   "source": [
    "<b>Таблица users (информация о пользователях):</b>\n",
    "\n",
    "•\tuser_id — уникальный идентификатор пользователя\n",
    "\n",
    "•\tfirst_name — имя пользователя\n",
    "\n",
    "•\tlast_name — фамилия пользователя\n",
    "\n",
    "•\tage — возраст пользователя (годы)\n",
    "\n",
    "•\treg_date — дата подключения тарифа (день, месяц, год)\n",
    "\n",
    "•\tchurn_date — дата прекращения пользования тарифом (если значение пропущено, то тариф ещё действовал на момент выгрузки данных)\n",
    "\n",
    "•\tcity — город проживания пользователя\n",
    "\n",
    "•\ttarif — название тарифного плана\n",
    "\n",
    "Фаил 'users.csv' содержит 500 строк.\n",
    "\n",
    "Пропущенные значения только в поле 'churn_date', что соответствует, по описанию, тариф ещё действовал на момент выгрузки данных"
   ]
  },
  {
   "cell_type": "markdown",
   "metadata": {},
   "source": [
    "<a id=\"step_3\"></a>\n",
    "<b> 2. Предобработка данных:</b>\n",
    " \n",
    "<b>2.1 Приведение данные к нужным типам.</b>"
   ]
  },
  {
   "cell_type": "code",
   "execution_count": 12,
   "metadata": {},
   "outputs": [],
   "source": [
    "# удалим строки с недозвонами\n",
    "calls = calls.query('duration > 0')\n",
    "\n",
    "# приведем даты к соотвествующему типу данных\n",
    "calls['call_date'] = pd.to_datetime(calls['call_date'], format='%Y-%m-%d')\n",
    "\n",
    "# округлим значения времени звонков вверх\n",
    "calls['duration'] = np.ceil(calls['duration'])\n",
    "\n",
    "# создадим доп столбец с месяцем\n",
    "calls['month'] = pd.DatetimeIndex(calls['call_date']).month"
   ]
  },
  {
   "cell_type": "code",
   "execution_count": 13,
   "metadata": {},
   "outputs": [],
   "source": [
    "# приведем даты к соотвествующему типу данных\n",
    "internet['session_date'] = pd.to_datetime(internet['session_date'], format='%Y-%m-%d')\n",
    "\n",
    "# округлим значения интернет-траффика вверх\n",
    "internet['mb_used'] = np.ceil(internet['mb_used'])\n",
    "\n",
    "# создадим доп столбец с месяцем\n",
    "internet['month'] = pd.DatetimeIndex(internet['session_date']).month"
   ]
  },
  {
   "cell_type": "code",
   "execution_count": 14,
   "metadata": {},
   "outputs": [],
   "source": [
    "# изменим тип данных в user_id - приведём его к int\n",
    "messages['user_id'] = messages['user_id'].astype('int')\n",
    "\n",
    "# приведем даты к соотвествующему типу данных\n",
    "messages['message_date'] = pd.to_datetime(messages['message_date'], format='%Y-%m-%d')\n",
    "\n",
    "# создадим доп столбец с месяцем\n",
    "messages['month'] = pd.DatetimeIndex(messages['message_date']).month"
   ]
  },
  {
   "cell_type": "code",
   "execution_count": 15,
   "metadata": {},
   "outputs": [],
   "source": [
    "# приведем даты в столбцах churn_date и reg_date к соответствующим форматам\n",
    "users['reg_date'] = pd.to_datetime(users['reg_date'], format='%Y-%m-%d')\n",
    "users['churn_date'] = pd.to_datetime(users['churn_date'], format='%Y-%m-%d')\n",
    "users['month'] = pd.DatetimeIndex(users['reg_date']).month"
   ]
  },
  {
   "cell_type": "markdown",
   "metadata": {},
   "source": [
    "<b> 2.2. Произведем подсчет для кадого пользователя:</b>\n",
    "<a id=\"step_5\"></a>\n",
    "<b>  - количество сделанных звонков и израсходованных минут разговора по месяцам.</b>"
   ]
  },
  {
   "cell_type": "code",
   "execution_count": 16,
   "metadata": {},
   "outputs": [],
   "source": [
    "# количество соверщенных звонков по месяцам\n",
    "calls_count_by_month = calls.pivot_table(index='user_id',\n",
    "                                         values='duration',\n",
    "                                         columns='month',\n",
    "                                         aggfunc='count')\n",
    "\n",
    "# количество минут разговоров по месяцам\n",
    "calls_sum_by_month = calls.pivot_table(index=['month', 'user_id'], values='duration', aggfunc='sum')"
   ]
  },
  {
   "cell_type": "markdown",
   "metadata": {},
   "source": [
    "<a id=\"step_6\"></a>\n",
    "<b>- количество отправленных сообщений по месяцам.</b>"
   ]
  },
  {
   "cell_type": "code",
   "execution_count": 17,
   "metadata": {},
   "outputs": [],
   "source": [
    "messages_count_by_month = messages.pivot_table(index=['month', 'user_id'],\n",
    "                                               values='message_date',\n",
    "                                               aggfunc='count')"
   ]
  },
  {
   "cell_type": "markdown",
   "metadata": {},
   "source": [
    "<a id=\"step_7\"></a>\n",
    "<b>- объем израсходованного интернет-трафика по месяцам.</b>"
   ]
  },
  {
   "cell_type": "code",
   "execution_count": 18,
   "metadata": {},
   "outputs": [],
   "source": [
    "internet_sum_by_month = internet.pivot_table(index=['month', 'user_id'], values='mb_used', aggfunc='sum')"
   ]
  },
  {
   "cell_type": "markdown",
   "metadata": {},
   "source": [
    "<a id=\"step_8\"></a>\n",
    "<b>- помесячную выручку с каждого пользователя (вычтем бесплатный лимит из суммарного количества звонков, сообщений и интернет-трафика; остаток умножем на значение из тарифного плана; прибавим абонентскую плату, соответствующую тарифному плану).</b>"
   ]
  },
  {
   "cell_type": "code",
   "execution_count": 19,
   "metadata": {},
   "outputs": [
    {
     "data": {
      "text/html": [
       "<div>\n",
       "<style scoped>\n",
       "    .dataframe tbody tr th:only-of-type {\n",
       "        vertical-align: middle;\n",
       "    }\n",
       "\n",
       "    .dataframe tbody tr th {\n",
       "        vertical-align: top;\n",
       "    }\n",
       "\n",
       "    .dataframe thead th {\n",
       "        text-align: right;\n",
       "    }\n",
       "</style>\n",
       "<table border=\"1\" class=\"dataframe\">\n",
       "  <thead>\n",
       "    <tr style=\"text-align: right;\">\n",
       "      <th></th>\n",
       "      <th>user_id</th>\n",
       "      <th>month</th>\n",
       "      <th>message_date</th>\n",
       "      <th>duration</th>\n",
       "      <th>mb_used</th>\n",
       "      <th>age</th>\n",
       "      <th>churn_date</th>\n",
       "      <th>city</th>\n",
       "      <th>first_name</th>\n",
       "      <th>last_name</th>\n",
       "      <th>reg_date</th>\n",
       "      <th>tariff</th>\n",
       "    </tr>\n",
       "  </thead>\n",
       "  <tbody>\n",
       "    <tr>\n",
       "      <th>333</th>\n",
       "      <td>1000</td>\n",
       "      <td>5</td>\n",
       "      <td>22.0</td>\n",
       "      <td>159.0</td>\n",
       "      <td>2256.0</td>\n",
       "      <td>52.0</td>\n",
       "      <td>0</td>\n",
       "      <td>Краснодар</td>\n",
       "      <td>Рафаил</td>\n",
       "      <td>Верещагин</td>\n",
       "      <td>2018-05-25 00:00:00</td>\n",
       "      <td>ultra</td>\n",
       "    </tr>\n",
       "    <tr>\n",
       "      <th>507</th>\n",
       "      <td>1000</td>\n",
       "      <td>6</td>\n",
       "      <td>60.0</td>\n",
       "      <td>172.0</td>\n",
       "      <td>23257.0</td>\n",
       "      <td>0.0</td>\n",
       "      <td>0</td>\n",
       "      <td>0</td>\n",
       "      <td>0</td>\n",
       "      <td>0</td>\n",
       "      <td>0</td>\n",
       "      <td>0</td>\n",
       "    </tr>\n",
       "    <tr>\n",
       "      <th>2313</th>\n",
       "      <td>1000</td>\n",
       "      <td>12</td>\n",
       "      <td>70.0</td>\n",
       "      <td>333.0</td>\n",
       "      <td>9827.0</td>\n",
       "      <td>0.0</td>\n",
       "      <td>0</td>\n",
       "      <td>0</td>\n",
       "      <td>0</td>\n",
       "      <td>0</td>\n",
       "      <td>0</td>\n",
       "      <td>0</td>\n",
       "    </tr>\n",
       "    <tr>\n",
       "      <th>1930</th>\n",
       "      <td>1000</td>\n",
       "      <td>11</td>\n",
       "      <td>58.0</td>\n",
       "      <td>338.0</td>\n",
       "      <td>14768.0</td>\n",
       "      <td>0.0</td>\n",
       "      <td>0</td>\n",
       "      <td>0</td>\n",
       "      <td>0</td>\n",
       "      <td>0</td>\n",
       "      <td>0</td>\n",
       "      <td>0</td>\n",
       "    </tr>\n",
       "    <tr>\n",
       "      <th>716</th>\n",
       "      <td>1000</td>\n",
       "      <td>7</td>\n",
       "      <td>75.0</td>\n",
       "      <td>340.0</td>\n",
       "      <td>14016.0</td>\n",
       "      <td>0.0</td>\n",
       "      <td>0</td>\n",
       "      <td>0</td>\n",
       "      <td>0</td>\n",
       "      <td>0</td>\n",
       "      <td>0</td>\n",
       "      <td>0</td>\n",
       "    </tr>\n",
       "    <tr>\n",
       "      <th>1573</th>\n",
       "      <td>1000</td>\n",
       "      <td>10</td>\n",
       "      <td>73.0</td>\n",
       "      <td>350.0</td>\n",
       "      <td>14717.0</td>\n",
       "      <td>0.0</td>\n",
       "      <td>0</td>\n",
       "      <td>0</td>\n",
       "      <td>0</td>\n",
       "      <td>0</td>\n",
       "      <td>0</td>\n",
       "      <td>0</td>\n",
       "    </tr>\n",
       "    <tr>\n",
       "      <th>1255</th>\n",
       "      <td>1000</td>\n",
       "      <td>9</td>\n",
       "      <td>57.0</td>\n",
       "      <td>466.0</td>\n",
       "      <td>14581.0</td>\n",
       "      <td>0.0</td>\n",
       "      <td>0</td>\n",
       "      <td>0</td>\n",
       "      <td>0</td>\n",
       "      <td>0</td>\n",
       "      <td>0</td>\n",
       "      <td>0</td>\n",
       "    </tr>\n",
       "    <tr>\n",
       "      <th>963</th>\n",
       "      <td>1000</td>\n",
       "      <td>8</td>\n",
       "      <td>81.0</td>\n",
       "      <td>408.0</td>\n",
       "      <td>14070.0</td>\n",
       "      <td>0.0</td>\n",
       "      <td>0</td>\n",
       "      <td>0</td>\n",
       "      <td>0</td>\n",
       "      <td>0</td>\n",
       "      <td>0</td>\n",
       "      <td>0</td>\n",
       "    </tr>\n",
       "    <tr>\n",
       "      <th>3140</th>\n",
       "      <td>1001</td>\n",
       "      <td>12</td>\n",
       "      <td>0.0</td>\n",
       "      <td>414.0</td>\n",
       "      <td>14053.0</td>\n",
       "      <td>0.0</td>\n",
       "      <td>0</td>\n",
       "      <td>0</td>\n",
       "      <td>0</td>\n",
       "      <td>0</td>\n",
       "      <td>0</td>\n",
       "      <td>0</td>\n",
       "    </tr>\n",
       "    <tr>\n",
       "      <th>3073</th>\n",
       "      <td>1001</td>\n",
       "      <td>11</td>\n",
       "      <td>0.0</td>\n",
       "      <td>430.0</td>\n",
       "      <td>18452.0</td>\n",
       "      <td>41.0</td>\n",
       "      <td>0</td>\n",
       "      <td>Москва</td>\n",
       "      <td>Иван</td>\n",
       "      <td>Ежов</td>\n",
       "      <td>2018-11-01 00:00:00</td>\n",
       "      <td>smart</td>\n",
       "    </tr>\n",
       "  </tbody>\n",
       "</table>\n",
       "</div>"
      ],
      "text/plain": [
       "      user_id  month  message_date  duration  mb_used   age churn_date  \\\n",
       "333      1000      5          22.0     159.0   2256.0  52.0          0   \n",
       "507      1000      6          60.0     172.0  23257.0   0.0          0   \n",
       "2313     1000     12          70.0     333.0   9827.0   0.0          0   \n",
       "1930     1000     11          58.0     338.0  14768.0   0.0          0   \n",
       "716      1000      7          75.0     340.0  14016.0   0.0          0   \n",
       "1573     1000     10          73.0     350.0  14717.0   0.0          0   \n",
       "1255     1000      9          57.0     466.0  14581.0   0.0          0   \n",
       "963      1000      8          81.0     408.0  14070.0   0.0          0   \n",
       "3140     1001     12           0.0     414.0  14053.0   0.0          0   \n",
       "3073     1001     11           0.0     430.0  18452.0  41.0          0   \n",
       "\n",
       "           city first_name  last_name             reg_date tariff  \n",
       "333   Краснодар     Рафаил  Верещагин  2018-05-25 00:00:00  ultra  \n",
       "507           0          0          0                    0      0  \n",
       "2313          0          0          0                    0      0  \n",
       "1930          0          0          0                    0      0  \n",
       "716           0          0          0                    0      0  \n",
       "1573          0          0          0                    0      0  \n",
       "1255          0          0          0                    0      0  \n",
       "963           0          0          0                    0      0  \n",
       "3140          0          0          0                    0      0  \n",
       "3073     Москва       Иван       Ежов  2018-11-01 00:00:00  smart  "
      ]
     },
     "execution_count": 19,
     "metadata": {},
     "output_type": "execute_result"
    }
   ],
   "source": [
    "# объединяю таблицу звонки и сообщения \n",
    "group_all = messages_count_by_month.merge(calls_sum_by_month, on=['user_id', 'month'], how='outer')\n",
    "\n",
    "# объединяю таблицу звонки, сообщений и интернета\n",
    "group_all = group_all.merge(internet_sum_by_month, on=['user_id', 'month'], how='outer')\n",
    "\n",
    "# объединяю таблицу звонков, сообщений, интернета и информации о пользователях\n",
    "group_all = group_all.merge(users, on=['user_id', 'month'], how='outer')\n",
    "\n",
    "# заменим все пропущенные значения на '0'\n",
    "group_all = group_all.fillna(0).sort_values(by='user_id')\n",
    "group_all.head(10)"
   ]
  },
  {
   "cell_type": "code",
   "execution_count": 20,
   "metadata": {},
   "outputs": [
    {
     "data": {
      "text/plain": [
       "(3216, 12)"
      ]
     },
     "execution_count": 20,
     "metadata": {},
     "output_type": "execute_result"
    }
   ],
   "source": [
    "group_all.shape"
   ]
  },
  {
   "cell_type": "code",
   "execution_count": 21,
   "metadata": {},
   "outputs": [
    {
     "data": {
      "text/plain": [
       "500"
      ]
     },
     "execution_count": 21,
     "metadata": {},
     "output_type": "execute_result"
    }
   ],
   "source": [
    "group_all.user_id.nunique()"
   ]
  },
  {
   "cell_type": "code",
   "execution_count": 23,
   "metadata": {},
   "outputs": [],
   "source": [
    "def sum_total(row: pd.Series)-> float:\n",
    "    '''\n",
    "    Функция посчета выручки в зависимости от тарифа\n",
    "    '''\n",
    "    messages = row['message_date']\n",
    "    calls = row['duration']\n",
    "    internet = row['mb_used']\n",
    "    tariff = row['tariff']\n",
    "    \n",
    "    # выбор строки условий согласно тарифу    \n",
    "    if (tariff == 'smart'):\n",
    "        string = 0\n",
    "    else:\n",
    "        string = 1\n",
    "    \n",
    "    # считаем затраты на звонки согласно тарифу        \n",
    "    per_calls = calls - tariffs['minutes_included'][string]\n",
    "    if per_calls > 0:\n",
    "        total_for_calls = per_calls * tariffs['rub_per_minute'][string]\n",
    "    else:\n",
    "        total_for_calls = 0\n",
    "    \n",
    "    # считаем затраты на интернет согласно тарифу         \n",
    "    per_internet = internet - tariffs['mb_per_month_included'][string]\n",
    "    if per_internet > 0:\n",
    "        total_for_internet = round((per_internet / 1024)) * tariffs['rub_per_gb'][string]\n",
    "    else:\n",
    "        total_for_internet = 0\n",
    "        \n",
    "    # считаем затраты на сообщения согласно тарифу            \n",
    "    per_messages = messages - tariffs['messages_included'][string]\n",
    "    if per_messages > 0:\n",
    "        total_for_messages = per_messages * tariffs['rub_per_message'][string]\n",
    "    else:\n",
    "        total_for_messages = 0\n",
    "\n",
    "    # считаем общие затраты согласно тарифу            \n",
    "    total = total_for_calls + total_for_internet + total_for_messages + tariffs['rub_monthly_fee'][string]\n",
    "    \n",
    "    return total"
   ]
  },
  {
   "cell_type": "code",
   "execution_count": 24,
   "metadata": {
    "scrolled": true
   },
   "outputs": [
    {
     "data": {
      "text/html": [
       "<div>\n",
       "<style scoped>\n",
       "    .dataframe tbody tr th:only-of-type {\n",
       "        vertical-align: middle;\n",
       "    }\n",
       "\n",
       "    .dataframe tbody tr th {\n",
       "        vertical-align: top;\n",
       "    }\n",
       "\n",
       "    .dataframe thead th {\n",
       "        text-align: right;\n",
       "    }\n",
       "</style>\n",
       "<table border=\"1\" class=\"dataframe\">\n",
       "  <thead>\n",
       "    <tr style=\"text-align: right;\">\n",
       "      <th></th>\n",
       "      <th>user_id</th>\n",
       "      <th>month</th>\n",
       "      <th>message_date</th>\n",
       "      <th>duration</th>\n",
       "      <th>mb_used</th>\n",
       "      <th>age</th>\n",
       "      <th>churn_date</th>\n",
       "      <th>city</th>\n",
       "      <th>first_name</th>\n",
       "      <th>last_name</th>\n",
       "      <th>reg_date</th>\n",
       "      <th>tariff</th>\n",
       "      <th>total</th>\n",
       "    </tr>\n",
       "  </thead>\n",
       "  <tbody>\n",
       "    <tr>\n",
       "      <th>333</th>\n",
       "      <td>1000</td>\n",
       "      <td>5</td>\n",
       "      <td>22.0</td>\n",
       "      <td>159.0</td>\n",
       "      <td>2256.0</td>\n",
       "      <td>52.0</td>\n",
       "      <td>0</td>\n",
       "      <td>Краснодар</td>\n",
       "      <td>Рафаил</td>\n",
       "      <td>Верещагин</td>\n",
       "      <td>2018-05-25 00:00:00</td>\n",
       "      <td>ultra</td>\n",
       "      <td>1950.0</td>\n",
       "    </tr>\n",
       "    <tr>\n",
       "      <th>507</th>\n",
       "      <td>1000</td>\n",
       "      <td>6</td>\n",
       "      <td>60.0</td>\n",
       "      <td>172.0</td>\n",
       "      <td>23257.0</td>\n",
       "      <td>0.0</td>\n",
       "      <td>0</td>\n",
       "      <td>0</td>\n",
       "      <td>0</td>\n",
       "      <td>0</td>\n",
       "      <td>0</td>\n",
       "      <td>0</td>\n",
       "      <td>1950.0</td>\n",
       "    </tr>\n",
       "    <tr>\n",
       "      <th>2313</th>\n",
       "      <td>1000</td>\n",
       "      <td>12</td>\n",
       "      <td>70.0</td>\n",
       "      <td>333.0</td>\n",
       "      <td>9827.0</td>\n",
       "      <td>0.0</td>\n",
       "      <td>0</td>\n",
       "      <td>0</td>\n",
       "      <td>0</td>\n",
       "      <td>0</td>\n",
       "      <td>0</td>\n",
       "      <td>0</td>\n",
       "      <td>1950.0</td>\n",
       "    </tr>\n",
       "    <tr>\n",
       "      <th>1930</th>\n",
       "      <td>1000</td>\n",
       "      <td>11</td>\n",
       "      <td>58.0</td>\n",
       "      <td>338.0</td>\n",
       "      <td>14768.0</td>\n",
       "      <td>0.0</td>\n",
       "      <td>0</td>\n",
       "      <td>0</td>\n",
       "      <td>0</td>\n",
       "      <td>0</td>\n",
       "      <td>0</td>\n",
       "      <td>0</td>\n",
       "      <td>1950.0</td>\n",
       "    </tr>\n",
       "    <tr>\n",
       "      <th>716</th>\n",
       "      <td>1000</td>\n",
       "      <td>7</td>\n",
       "      <td>75.0</td>\n",
       "      <td>340.0</td>\n",
       "      <td>14016.0</td>\n",
       "      <td>0.0</td>\n",
       "      <td>0</td>\n",
       "      <td>0</td>\n",
       "      <td>0</td>\n",
       "      <td>0</td>\n",
       "      <td>0</td>\n",
       "      <td>0</td>\n",
       "      <td>1950.0</td>\n",
       "    </tr>\n",
       "    <tr>\n",
       "      <th>1573</th>\n",
       "      <td>1000</td>\n",
       "      <td>10</td>\n",
       "      <td>73.0</td>\n",
       "      <td>350.0</td>\n",
       "      <td>14717.0</td>\n",
       "      <td>0.0</td>\n",
       "      <td>0</td>\n",
       "      <td>0</td>\n",
       "      <td>0</td>\n",
       "      <td>0</td>\n",
       "      <td>0</td>\n",
       "      <td>0</td>\n",
       "      <td>1950.0</td>\n",
       "    </tr>\n",
       "    <tr>\n",
       "      <th>1255</th>\n",
       "      <td>1000</td>\n",
       "      <td>9</td>\n",
       "      <td>57.0</td>\n",
       "      <td>466.0</td>\n",
       "      <td>14581.0</td>\n",
       "      <td>0.0</td>\n",
       "      <td>0</td>\n",
       "      <td>0</td>\n",
       "      <td>0</td>\n",
       "      <td>0</td>\n",
       "      <td>0</td>\n",
       "      <td>0</td>\n",
       "      <td>1950.0</td>\n",
       "    </tr>\n",
       "    <tr>\n",
       "      <th>963</th>\n",
       "      <td>1000</td>\n",
       "      <td>8</td>\n",
       "      <td>81.0</td>\n",
       "      <td>408.0</td>\n",
       "      <td>14070.0</td>\n",
       "      <td>0.0</td>\n",
       "      <td>0</td>\n",
       "      <td>0</td>\n",
       "      <td>0</td>\n",
       "      <td>0</td>\n",
       "      <td>0</td>\n",
       "      <td>0</td>\n",
       "      <td>1950.0</td>\n",
       "    </tr>\n",
       "    <tr>\n",
       "      <th>3140</th>\n",
       "      <td>1001</td>\n",
       "      <td>12</td>\n",
       "      <td>0.0</td>\n",
       "      <td>414.0</td>\n",
       "      <td>14053.0</td>\n",
       "      <td>0.0</td>\n",
       "      <td>0</td>\n",
       "      <td>0</td>\n",
       "      <td>0</td>\n",
       "      <td>0</td>\n",
       "      <td>0</td>\n",
       "      <td>0</td>\n",
       "      <td>1950.0</td>\n",
       "    </tr>\n",
       "    <tr>\n",
       "      <th>3073</th>\n",
       "      <td>1001</td>\n",
       "      <td>11</td>\n",
       "      <td>0.0</td>\n",
       "      <td>430.0</td>\n",
       "      <td>18452.0</td>\n",
       "      <td>41.0</td>\n",
       "      <td>0</td>\n",
       "      <td>Москва</td>\n",
       "      <td>Иван</td>\n",
       "      <td>Ежов</td>\n",
       "      <td>2018-11-01 00:00:00</td>\n",
       "      <td>smart</td>\n",
       "      <td>1150.0</td>\n",
       "    </tr>\n",
       "  </tbody>\n",
       "</table>\n",
       "</div>"
      ],
      "text/plain": [
       "      user_id  month  message_date  duration  mb_used   age churn_date  \\\n",
       "333      1000      5          22.0     159.0   2256.0  52.0          0   \n",
       "507      1000      6          60.0     172.0  23257.0   0.0          0   \n",
       "2313     1000     12          70.0     333.0   9827.0   0.0          0   \n",
       "1930     1000     11          58.0     338.0  14768.0   0.0          0   \n",
       "716      1000      7          75.0     340.0  14016.0   0.0          0   \n",
       "1573     1000     10          73.0     350.0  14717.0   0.0          0   \n",
       "1255     1000      9          57.0     466.0  14581.0   0.0          0   \n",
       "963      1000      8          81.0     408.0  14070.0   0.0          0   \n",
       "3140     1001     12           0.0     414.0  14053.0   0.0          0   \n",
       "3073     1001     11           0.0     430.0  18452.0  41.0          0   \n",
       "\n",
       "           city first_name  last_name             reg_date tariff   total  \n",
       "333   Краснодар     Рафаил  Верещагин  2018-05-25 00:00:00  ultra  1950.0  \n",
       "507           0          0          0                    0      0  1950.0  \n",
       "2313          0          0          0                    0      0  1950.0  \n",
       "1930          0          0          0                    0      0  1950.0  \n",
       "716           0          0          0                    0      0  1950.0  \n",
       "1573          0          0          0                    0      0  1950.0  \n",
       "1255          0          0          0                    0      0  1950.0  \n",
       "963           0          0          0                    0      0  1950.0  \n",
       "3140          0          0          0                    0      0  1950.0  \n",
       "3073     Москва       Иван       Ежов  2018-11-01 00:00:00  smart  1150.0  "
      ]
     },
     "execution_count": 24,
     "metadata": {},
     "output_type": "execute_result"
    }
   ],
   "source": [
    "# расчитываем выручку и добавляем в новый столбец\n",
    "group_all['total'] = group_all.apply(sum_total, axis=1)\n",
    "group_all.head(10)"
   ]
  },
  {
   "cell_type": "code",
   "execution_count": 25,
   "metadata": {},
   "outputs": [],
   "source": [
    "final_df_test = group_all.merge(\n",
    "    users[['user_id', 'tariff']],\n",
    "    on='user_id',\n",
    "    how='left',\n",
    "    suffixes=(\"_original\",\"_test\")\n",
    ")"
   ]
  },
  {
   "cell_type": "code",
   "execution_count": 26,
   "metadata": {},
   "outputs": [
    {
     "data": {
      "text/plain": [
       "(3216, 14)"
      ]
     },
     "execution_count": 26,
     "metadata": {},
     "output_type": "execute_result"
    }
   ],
   "source": [
    "final_df_test.shape"
   ]
  },
  {
   "cell_type": "code",
   "execution_count": 27,
   "metadata": {},
   "outputs": [],
   "source": [
    "final_df_test = final_df_test.merge(\n",
    "    tariffs,\n",
    "    left_on='tariff_test',\n",
    "    right_on='tariff_name',\n",
    "    how='left'\n",
    ")"
   ]
  },
  {
   "cell_type": "code",
   "execution_count": 28,
   "metadata": {},
   "outputs": [],
   "source": [
    "final_df_test['over_minutes'] =  final_df_test['duration'] - final_df_test['minutes_included']\n",
    "final_df_test['over_sms'] =  final_df_test['message_date'] - final_df_test['messages_included']\n",
    "final_df_test['over_mb'] = final_df_test['mb_used'] - final_df_test['mb_per_month_included']"
   ]
  },
  {
   "cell_type": "code",
   "execution_count": 29,
   "metadata": {},
   "outputs": [],
   "source": [
    "# заменяем отрицательные значения на нули\n",
    "for col in ['over_minutes', 'over_sms', 'over_mb']:\n",
    "    final_df_test.loc[(final_df_test[col] < 0), col] = 0"
   ]
  },
  {
   "cell_type": "code",
   "execution_count": 30,
   "metadata": {},
   "outputs": [],
   "source": [
    "final_df_test['over_gb'] = np.ceil(final_df_test['over_mb'] / 1024)"
   ]
  },
  {
   "cell_type": "code",
   "execution_count": 31,
   "metadata": {},
   "outputs": [],
   "source": [
    "final_df_test['over_gb_rub'] = final_df_test['over_gb'] * final_df_test['rub_per_gb']\n",
    "final_df_test['over_minutes_rub'] = final_df_test['over_minutes'] * final_df_test['rub_per_minute']\n",
    "final_df_test['over_sms_rub'] = final_df_test['over_sms'] * final_df_test['rub_per_message']"
   ]
  },
  {
   "cell_type": "code",
   "execution_count": 32,
   "metadata": {},
   "outputs": [],
   "source": [
    "final_df_test['over_revenue'] = final_df_test[['over_gb_rub', 'over_minutes_rub', 'over_sms_rub']].sum(axis=1)"
   ]
  },
  {
   "cell_type": "code",
   "execution_count": 33,
   "metadata": {},
   "outputs": [],
   "source": [
    "final_df_test['total_revenue'] = final_df_test['over_revenue'] + final_df_test['rub_monthly_fee']"
   ]
  },
  {
   "cell_type": "code",
   "execution_count": 34,
   "metadata": {
    "scrolled": true
   },
   "outputs": [
    {
     "data": {
      "text/plain": [
       "count    3216.000000\n",
       "mean     1532.416356\n",
       "std       799.624368\n",
       "min       550.000000\n",
       "25%       750.000000\n",
       "50%      1667.500000\n",
       "75%      1950.000000\n",
       "max      6770.000000\n",
       "Name: total_revenue, dtype: float64"
      ]
     },
     "execution_count": 34,
     "metadata": {},
     "output_type": "execute_result"
    }
   ],
   "source": [
    "final_df_test['total_revenue'].describe()"
   ]
  },
  {
   "cell_type": "code",
   "execution_count": 35,
   "metadata": {
    "scrolled": true
   },
   "outputs": [
    {
     "data": {
      "text/plain": [
       "count    3216.000000\n",
       "mean     1847.634017\n",
       "std       473.457074\n",
       "min       550.000000\n",
       "25%      1950.000000\n",
       "50%      1950.000000\n",
       "75%      1950.000000\n",
       "max      4800.000000\n",
       "Name: total, dtype: float64"
      ]
     },
     "execution_count": 35,
     "metadata": {},
     "output_type": "execute_result"
    }
   ],
   "source": [
    "group_all['total'].describe()"
   ]
  },
  {
   "cell_type": "markdown",
   "metadata": {},
   "source": [
    "<b> 3. Анализ данных. Опишем поведение клиентов оператора, исходя из выборки</b>\n",
    "\n",
    "<a id=\"step_9\"></a>\n",
    "<b>3.1. Сколько минут разговора, сколько сообщений и какой объём интернет-трафика требуется пользователям каждого тарифа в месяц.</b>"
   ]
  },
  {
   "cell_type": "code",
   "execution_count": 36,
   "metadata": {
    "scrolled": false
   },
   "outputs": [
    {
     "data": {
      "text/html": [
       "<div>\n",
       "<style scoped>\n",
       "    .dataframe tbody tr th:only-of-type {\n",
       "        vertical-align: middle;\n",
       "    }\n",
       "\n",
       "    .dataframe tbody tr th {\n",
       "        vertical-align: top;\n",
       "    }\n",
       "\n",
       "    .dataframe thead th {\n",
       "        text-align: right;\n",
       "    }\n",
       "</style>\n",
       "<table border=\"1\" class=\"dataframe\">\n",
       "  <thead>\n",
       "    <tr style=\"text-align: right;\">\n",
       "      <th></th>\n",
       "      <th>duration</th>\n",
       "      <th>mb_used</th>\n",
       "      <th>message_date</th>\n",
       "      <th>total</th>\n",
       "    </tr>\n",
       "    <tr>\n",
       "      <th>month</th>\n",
       "      <th></th>\n",
       "      <th></th>\n",
       "      <th></th>\n",
       "      <th></th>\n",
       "    </tr>\n",
       "  </thead>\n",
       "  <tbody>\n",
       "    <tr>\n",
       "      <th>1</th>\n",
       "      <td>6931.0</td>\n",
       "      <td>289831.0</td>\n",
       "      <td>620.0</td>\n",
       "      <td>23925.0</td>\n",
       "    </tr>\n",
       "    <tr>\n",
       "      <th>2</th>\n",
       "      <td>4035.0</td>\n",
       "      <td>163193.0</td>\n",
       "      <td>312.0</td>\n",
       "      <td>13353.0</td>\n",
       "    </tr>\n",
       "    <tr>\n",
       "      <th>3</th>\n",
       "      <td>5046.0</td>\n",
       "      <td>188427.0</td>\n",
       "      <td>400.0</td>\n",
       "      <td>13111.0</td>\n",
       "    </tr>\n",
       "    <tr>\n",
       "      <th>4</th>\n",
       "      <td>8096.0</td>\n",
       "      <td>276383.0</td>\n",
       "      <td>739.0</td>\n",
       "      <td>20052.0</td>\n",
       "    </tr>\n",
       "    <tr>\n",
       "      <th>5</th>\n",
       "      <td>5658.0</td>\n",
       "      <td>275657.0</td>\n",
       "      <td>514.0</td>\n",
       "      <td>21411.0</td>\n",
       "    </tr>\n",
       "    <tr>\n",
       "      <th>6</th>\n",
       "      <td>4275.0</td>\n",
       "      <td>189244.0</td>\n",
       "      <td>314.0</td>\n",
       "      <td>13119.0</td>\n",
       "    </tr>\n",
       "    <tr>\n",
       "      <th>7</th>\n",
       "      <td>8921.0</td>\n",
       "      <td>326184.0</td>\n",
       "      <td>671.0</td>\n",
       "      <td>24150.0</td>\n",
       "    </tr>\n",
       "    <tr>\n",
       "      <th>8</th>\n",
       "      <td>7246.0</td>\n",
       "      <td>329359.0</td>\n",
       "      <td>577.0</td>\n",
       "      <td>20878.0</td>\n",
       "    </tr>\n",
       "    <tr>\n",
       "      <th>9</th>\n",
       "      <td>6814.0</td>\n",
       "      <td>242056.0</td>\n",
       "      <td>549.0</td>\n",
       "      <td>16191.0</td>\n",
       "    </tr>\n",
       "    <tr>\n",
       "      <th>10</th>\n",
       "      <td>9126.0</td>\n",
       "      <td>296595.0</td>\n",
       "      <td>627.0</td>\n",
       "      <td>20882.0</td>\n",
       "    </tr>\n",
       "  </tbody>\n",
       "</table>\n",
       "</div>"
      ],
      "text/plain": [
       "       duration   mb_used  message_date    total\n",
       "month                                           \n",
       "1        6931.0  289831.0         620.0  23925.0\n",
       "2        4035.0  163193.0         312.0  13353.0\n",
       "3        5046.0  188427.0         400.0  13111.0\n",
       "4        8096.0  276383.0         739.0  20052.0\n",
       "5        5658.0  275657.0         514.0  21411.0\n",
       "6        4275.0  189244.0         314.0  13119.0\n",
       "7        8921.0  326184.0         671.0  24150.0\n",
       "8        7246.0  329359.0         577.0  20878.0\n",
       "9        6814.0  242056.0         549.0  16191.0\n",
       "10       9126.0  296595.0         627.0  20882.0"
      ]
     },
     "metadata": {},
     "output_type": "display_data"
    },
    {
     "data": {
      "text/html": [
       "<div>\n",
       "<style scoped>\n",
       "    .dataframe tbody tr th:only-of-type {\n",
       "        vertical-align: middle;\n",
       "    }\n",
       "\n",
       "    .dataframe tbody tr th {\n",
       "        vertical-align: top;\n",
       "    }\n",
       "\n",
       "    .dataframe thead th {\n",
       "        text-align: right;\n",
       "    }\n",
       "</style>\n",
       "<table border=\"1\" class=\"dataframe\">\n",
       "  <thead>\n",
       "    <tr style=\"text-align: right;\">\n",
       "      <th></th>\n",
       "      <th>duration</th>\n",
       "      <th>mb_used</th>\n",
       "      <th>message_date</th>\n",
       "      <th>total</th>\n",
       "    </tr>\n",
       "    <tr>\n",
       "      <th>month</th>\n",
       "      <th></th>\n",
       "      <th></th>\n",
       "      <th></th>\n",
       "      <th></th>\n",
       "    </tr>\n",
       "  </thead>\n",
       "  <tbody>\n",
       "    <tr>\n",
       "      <th>1</th>\n",
       "      <td>3853.0</td>\n",
       "      <td>118382.0</td>\n",
       "      <td>304.0</td>\n",
       "      <td>17550.0</td>\n",
       "    </tr>\n",
       "    <tr>\n",
       "      <th>2</th>\n",
       "      <td>1874.0</td>\n",
       "      <td>117389.0</td>\n",
       "      <td>181.0</td>\n",
       "      <td>29550.0</td>\n",
       "    </tr>\n",
       "    <tr>\n",
       "      <th>3</th>\n",
       "      <td>4194.0</td>\n",
       "      <td>96432.0</td>\n",
       "      <td>146.0</td>\n",
       "      <td>25350.0</td>\n",
       "    </tr>\n",
       "    <tr>\n",
       "      <th>4</th>\n",
       "      <td>5277.0</td>\n",
       "      <td>213294.0</td>\n",
       "      <td>412.0</td>\n",
       "      <td>35100.0</td>\n",
       "    </tr>\n",
       "    <tr>\n",
       "      <th>5</th>\n",
       "      <td>2178.0</td>\n",
       "      <td>106700.0</td>\n",
       "      <td>332.0</td>\n",
       "      <td>23400.0</td>\n",
       "    </tr>\n",
       "    <tr>\n",
       "      <th>6</th>\n",
       "      <td>3717.0</td>\n",
       "      <td>187364.0</td>\n",
       "      <td>501.0</td>\n",
       "      <td>33150.0</td>\n",
       "    </tr>\n",
       "    <tr>\n",
       "      <th>7</th>\n",
       "      <td>3018.0</td>\n",
       "      <td>71624.0</td>\n",
       "      <td>261.0</td>\n",
       "      <td>13650.0</td>\n",
       "    </tr>\n",
       "    <tr>\n",
       "      <th>8</th>\n",
       "      <td>3913.0</td>\n",
       "      <td>117213.0</td>\n",
       "      <td>583.0</td>\n",
       "      <td>31200.0</td>\n",
       "    </tr>\n",
       "    <tr>\n",
       "      <th>9</th>\n",
       "      <td>2698.0</td>\n",
       "      <td>71849.0</td>\n",
       "      <td>238.0</td>\n",
       "      <td>17550.0</td>\n",
       "    </tr>\n",
       "    <tr>\n",
       "      <th>10</th>\n",
       "      <td>3575.0</td>\n",
       "      <td>199613.0</td>\n",
       "      <td>557.0</td>\n",
       "      <td>19950.0</td>\n",
       "    </tr>\n",
       "  </tbody>\n",
       "</table>\n",
       "</div>"
      ],
      "text/plain": [
       "       duration   mb_used  message_date    total\n",
       "month                                           \n",
       "1        3853.0  118382.0         304.0  17550.0\n",
       "2        1874.0  117389.0         181.0  29550.0\n",
       "3        4194.0   96432.0         146.0  25350.0\n",
       "4        5277.0  213294.0         412.0  35100.0\n",
       "5        2178.0  106700.0         332.0  23400.0\n",
       "6        3717.0  187364.0         501.0  33150.0\n",
       "7        3018.0   71624.0         261.0  13650.0\n",
       "8        3913.0  117213.0         583.0  31200.0\n",
       "9        2698.0   71849.0         238.0  17550.0\n",
       "10       3575.0  199613.0         557.0  19950.0"
      ]
     },
     "metadata": {},
     "output_type": "display_data"
    }
   ],
   "source": [
    "# сделаем таблицу с интересующими нас значениями для пользователей тарифа 'smart'\n",
    "tariff_smart = (group_all\n",
    "     .query('tariff == \"smart\"')\n",
    "     .pivot_table(index='month', values=('duration', 'message_date', 'mb_used', 'total'), aggfunc='sum')\n",
    ")                \n",
    "\n",
    "# сделаем таблицу с интересующими нас значениями для пользователей тарифа 'ultra'\n",
    "tariff_ultra = (group_all\n",
    "     .query('tariff == \"ultra\"')\n",
    "     .pivot_table(index='month', values=('duration', 'message_date', 'mb_used', 'total'), aggfunc='sum')\n",
    ")\n",
    "display(tariff_smart.head(10))\n",
    "display(tariff_ultra.head(10))"
   ]
  },
  {
   "cell_type": "code",
   "execution_count": 37,
   "metadata": {
    "scrolled": false
   },
   "outputs": [
    {
     "data": {
      "image/png": "[encoded data removed]",
      "text/plain": [
       "<Figure size 936x432 with 1 Axes>"
      ]
     },
     "metadata": {
      "needs_background": "light"
     },
     "output_type": "display_data"
    }
   ],
   "source": [
    "# гистограмма использования длительности звонков по месяцам для тарифа 'smart'\n",
    "ax = tariff_smart.plot(y='duration',\n",
    "                       grid=True,\n",
    "                       figsize=(13, 6),\n",
    "                       style='o-',\n",
    "                       kind='bar',\n",
    "                       label='smart',\n",
    "                       alpha=0.5)\n",
    "\n",
    "# гистограмма использования длительности звонков по месяцам для тарифа 'ultra'\n",
    "tariff_ultra.plot(y='duration', figsize=(13, 6), style='o-', kind='bar', label='ultra', ax=ax)\n",
    "plt.title('гистограмма использования длительности звонков по месяцам для тарифа smart')\n",
    "plt.show()"
   ]
  },
  {
   "cell_type": "code",
   "execution_count": 38,
   "metadata": {
    "scrolled": false
   },
   "outputs": [
    {
     "data": {
      "image/png": "[encoded data removed]",
      "text/plain": [
       "<Figure size 936x432 with 1 Axes>"
      ]
     },
     "metadata": {
      "needs_background": "light"
     },
     "output_type": "display_data"
    }
   ],
   "source": [
    "# гистограмма использования количества сообщений по месяцам для тарифа 'smart'\n",
    "ax = tariff_smart.plot(y='message_date',\n",
    "                       grid=True,\n",
    "                       figsize=(13, 6),\n",
    "                       style='o-',\n",
    "                       kind='bar',\n",
    "                       label='smart',\n",
    "                       alpha=0.5)\n",
    "\n",
    "# гистограмма использования количества сообщений по месяцам для тарифа 'ultra'\n",
    "tariff_ultra.plot(y='message_date', figsize=(13, 6), style='o-', kind='bar', label='ultra', ax=ax)\n",
    "plt.title('гистограмма использования количества сообщений по месяцам для тарифа smart')\n",
    "plt.show()"
   ]
  },
  {
   "cell_type": "code",
   "execution_count": 39,
   "metadata": {},
   "outputs": [
    {
     "data": {
      "image/png": "[encoded data removed]",
      "text/plain": [
       "<Figure size 936x432 with 1 Axes>"
      ]
     },
     "metadata": {
      "needs_background": "light"
     },
     "output_type": "display_data"
    }
   ],
   "source": [
    "# гистограмма использования интернет-траффика по месяцам для тарифа 'smart'\n",
    "ax = tariff_smart.plot(y='mb_used',\n",
    "                       grid=True,\n",
    "                       figsize=(13, 6),\n",
    "                       style='o-',\n",
    "                       kind='bar',\n",
    "                       label='smart',\n",
    "                       alpha=0.5)\n",
    "\n",
    "# гистограмма использования интернет-траффика по месяцам для тарифа 'ultra'\n",
    "tariff_ultra.plot(y='mb_used', figsize=(13, 6), style='o-', kind='bar', label='ultra', ax=ax)\n",
    "plt.title('гистограмма использования интернет-траффика по месяцам для тарифа smart')\n",
    "plt.show()"
   ]
  },
  {
   "cell_type": "markdown",
   "metadata": {},
   "source": [
    "Из построенных гистограмм видно, что пользователи тарифа \"смарт\" используют больше минут разговоров, сообщений и интернет-траффика, чем пользователи тарифа \"ультра\" в каждом месяце (за некоторым исключением)."
   ]
  },
  {
   "cell_type": "markdown",
   "metadata": {},
   "source": [
    "<a id=\"step_10\"></a> \n",
    "<b>3.2. Посчитаем среднее количество, дисперсию и стандартное отклонение.</b>"
   ]
  },
  {
   "cell_type": "code",
   "execution_count": 40,
   "metadata": {},
   "outputs": [],
   "source": [
    "# сделаем таблицу с интересующими нас значениями для пользователей тарифа 'smart'\n",
    "mean_smart = (group_all\n",
    "     .query('tariff == \"smart\"')\n",
    "     .pivot_table(index='month', values=('duration', 'message_date', 'mb_used', 'total'), aggfunc='mean')\n",
    ")\n",
    "\n",
    "mean_smart.columns = ['mean_duration', 'mean_messages', 'mean_internet', 'mean_total']\n",
    "\n",
    "# сделаем таблицу с интересующими нас значениями для пользователей тарифа 'ultra'\n",
    "mean_ultra = (group_all\n",
    "     .query('tariff == \"ultra\"')\n",
    "     .pivot_table(index='month', values=('duration', 'message_date', 'mb_used', 'total'), aggfunc='mean')\n",
    ")\n",
    "\n",
    "mean_ultra.columns = ['mean_duration', 'mean_messages', 'mean_internet', 'mean_total']"
   ]
  },
  {
   "cell_type": "code",
   "execution_count": 41,
   "metadata": {},
   "outputs": [
    {
     "data": {
      "text/html": [
       "<div>\n",
       "<style scoped>\n",
       "    .dataframe tbody tr th:only-of-type {\n",
       "        vertical-align: middle;\n",
       "    }\n",
       "\n",
       "    .dataframe tbody tr th {\n",
       "        vertical-align: top;\n",
       "    }\n",
       "\n",
       "    .dataframe thead th {\n",
       "        text-align: right;\n",
       "    }\n",
       "</style>\n",
       "<table border=\"1\" class=\"dataframe\">\n",
       "  <thead>\n",
       "    <tr style=\"text-align: right;\">\n",
       "      <th></th>\n",
       "      <th>mean_duration</th>\n",
       "      <th>mean_messages</th>\n",
       "      <th>mean_internet</th>\n",
       "      <th>mean_total</th>\n",
       "      <th>variance_calls</th>\n",
       "      <th>variance_message</th>\n",
       "      <th>variance_internet</th>\n",
       "    </tr>\n",
       "    <tr>\n",
       "      <th>month</th>\n",
       "      <th></th>\n",
       "      <th></th>\n",
       "      <th></th>\n",
       "      <th></th>\n",
       "      <th></th>\n",
       "      <th></th>\n",
       "      <th></th>\n",
       "    </tr>\n",
       "  </thead>\n",
       "  <tbody>\n",
       "    <tr>\n",
       "      <th>1</th>\n",
       "      <td>203.852941</td>\n",
       "      <td>8524.441176</td>\n",
       "      <td>18.235294</td>\n",
       "      <td>703.676471</td>\n",
       "      <td>23787.341355</td>\n",
       "      <td>262.367201</td>\n",
       "      <td>4.162621e+07</td>\n",
       "    </tr>\n",
       "    <tr>\n",
       "      <th>2</th>\n",
       "      <td>168.125000</td>\n",
       "      <td>6799.708333</td>\n",
       "      <td>13.000000</td>\n",
       "      <td>556.375000</td>\n",
       "      <td>18421.679348</td>\n",
       "      <td>268.347826</td>\n",
       "      <td>2.076865e+07</td>\n",
       "    </tr>\n",
       "    <tr>\n",
       "      <th>3</th>\n",
       "      <td>265.578947</td>\n",
       "      <td>9917.210526</td>\n",
       "      <td>21.052632</td>\n",
       "      <td>690.052632</td>\n",
       "      <td>23606.701754</td>\n",
       "      <td>362.052632</td>\n",
       "      <td>2.712906e+07</td>\n",
       "    </tr>\n",
       "    <tr>\n",
       "      <th>4</th>\n",
       "      <td>231.314286</td>\n",
       "      <td>7896.657143</td>\n",
       "      <td>21.114286</td>\n",
       "      <td>572.914286</td>\n",
       "      <td>21152.398319</td>\n",
       "      <td>425.398319</td>\n",
       "      <td>1.793742e+07</td>\n",
       "    </tr>\n",
       "    <tr>\n",
       "      <th>5</th>\n",
       "      <td>195.103448</td>\n",
       "      <td>9505.413793</td>\n",
       "      <td>17.724138</td>\n",
       "      <td>738.310345</td>\n",
       "      <td>21778.167488</td>\n",
       "      <td>338.492611</td>\n",
       "      <td>4.863679e+07</td>\n",
       "    </tr>\n",
       "    <tr>\n",
       "      <th>6</th>\n",
       "      <td>185.869565</td>\n",
       "      <td>8228.000000</td>\n",
       "      <td>13.652174</td>\n",
       "      <td>570.391304</td>\n",
       "      <td>9904.209486</td>\n",
       "      <td>276.328063</td>\n",
       "      <td>2.451719e+07</td>\n",
       "    </tr>\n",
       "    <tr>\n",
       "      <th>7</th>\n",
       "      <td>241.108108</td>\n",
       "      <td>8815.783784</td>\n",
       "      <td>18.135135</td>\n",
       "      <td>652.702703</td>\n",
       "      <td>21725.932432</td>\n",
       "      <td>302.453453</td>\n",
       "      <td>3.156567e+07</td>\n",
       "    </tr>\n",
       "    <tr>\n",
       "      <th>8</th>\n",
       "      <td>213.117647</td>\n",
       "      <td>9687.029412</td>\n",
       "      <td>16.970588</td>\n",
       "      <td>614.058824</td>\n",
       "      <td>18373.622103</td>\n",
       "      <td>456.090018</td>\n",
       "      <td>2.450146e+07</td>\n",
       "    </tr>\n",
       "    <tr>\n",
       "      <th>9</th>\n",
       "      <td>262.076923</td>\n",
       "      <td>9309.846154</td>\n",
       "      <td>21.115385</td>\n",
       "      <td>622.730769</td>\n",
       "      <td>31820.153846</td>\n",
       "      <td>499.146154</td>\n",
       "      <td>2.835204e+07</td>\n",
       "    </tr>\n",
       "    <tr>\n",
       "      <th>10</th>\n",
       "      <td>260.742857</td>\n",
       "      <td>8474.142857</td>\n",
       "      <td>17.914286</td>\n",
       "      <td>596.628571</td>\n",
       "      <td>23870.784874</td>\n",
       "      <td>409.845378</td>\n",
       "      <td>2.685339e+07</td>\n",
       "    </tr>\n",
       "    <tr>\n",
       "      <th>11</th>\n",
       "      <td>269.851852</td>\n",
       "      <td>10018.518519</td>\n",
       "      <td>22.851852</td>\n",
       "      <td>754.518519</td>\n",
       "      <td>31163.284900</td>\n",
       "      <td>844.900285</td>\n",
       "      <td>3.851649e+07</td>\n",
       "    </tr>\n",
       "    <tr>\n",
       "      <th>12</th>\n",
       "      <td>429.107143</td>\n",
       "      <td>16534.214286</td>\n",
       "      <td>29.535714</td>\n",
       "      <td>1142.750000</td>\n",
       "      <td>28441.210317</td>\n",
       "      <td>737.591270</td>\n",
       "      <td>2.273468e+07</td>\n",
       "    </tr>\n",
       "  </tbody>\n",
       "</table>\n",
       "</div>"
      ],
      "text/plain": [
       "       mean_duration  mean_messages  mean_internet   mean_total  \\\n",
       "month                                                             \n",
       "1         203.852941    8524.441176      18.235294   703.676471   \n",
       "2         168.125000    6799.708333      13.000000   556.375000   \n",
       "3         265.578947    9917.210526      21.052632   690.052632   \n",
       "4         231.314286    7896.657143      21.114286   572.914286   \n",
       "5         195.103448    9505.413793      17.724138   738.310345   \n",
       "6         185.869565    8228.000000      13.652174   570.391304   \n",
       "7         241.108108    8815.783784      18.135135   652.702703   \n",
       "8         213.117647    9687.029412      16.970588   614.058824   \n",
       "9         262.076923    9309.846154      21.115385   622.730769   \n",
       "10        260.742857    8474.142857      17.914286   596.628571   \n",
       "11        269.851852   10018.518519      22.851852   754.518519   \n",
       "12        429.107143   16534.214286      29.535714  1142.750000   \n",
       "\n",
       "       variance_calls  variance_message  variance_internet  \n",
       "month                                                       \n",
       "1        23787.341355        262.367201       4.162621e+07  \n",
       "2        18421.679348        268.347826       2.076865e+07  \n",
       "3        23606.701754        362.052632       2.712906e+07  \n",
       "4        21152.398319        425.398319       1.793742e+07  \n",
       "5        21778.167488        338.492611       4.863679e+07  \n",
       "6         9904.209486        276.328063       2.451719e+07  \n",
       "7        21725.932432        302.453453       3.156567e+07  \n",
       "8        18373.622103        456.090018       2.450146e+07  \n",
       "9        31820.153846        499.146154       2.835204e+07  \n",
       "10       23870.784874        409.845378       2.685339e+07  \n",
       "11       31163.284900        844.900285       3.851649e+07  \n",
       "12       28441.210317        737.591270       2.273468e+07  "
      ]
     },
     "metadata": {},
     "output_type": "display_data"
    },
    {
     "data": {
      "text/html": [
       "<div>\n",
       "<style scoped>\n",
       "    .dataframe tbody tr th:only-of-type {\n",
       "        vertical-align: middle;\n",
       "    }\n",
       "\n",
       "    .dataframe tbody tr th {\n",
       "        vertical-align: top;\n",
       "    }\n",
       "\n",
       "    .dataframe thead th {\n",
       "        text-align: right;\n",
       "    }\n",
       "</style>\n",
       "<table border=\"1\" class=\"dataframe\">\n",
       "  <thead>\n",
       "    <tr style=\"text-align: right;\">\n",
       "      <th></th>\n",
       "      <th>mean_duration</th>\n",
       "      <th>mean_messages</th>\n",
       "      <th>mean_internet</th>\n",
       "      <th>mean_total</th>\n",
       "      <th>variance_calls</th>\n",
       "      <th>variance_message</th>\n",
       "      <th>variance_internet</th>\n",
       "    </tr>\n",
       "    <tr>\n",
       "      <th>month</th>\n",
       "      <th></th>\n",
       "      <th></th>\n",
       "      <th></th>\n",
       "      <th></th>\n",
       "      <th></th>\n",
       "      <th></th>\n",
       "      <th></th>\n",
       "    </tr>\n",
       "  </thead>\n",
       "  <tbody>\n",
       "    <tr>\n",
       "      <th>1</th>\n",
       "      <td>428.111111</td>\n",
       "      <td>13153.555556</td>\n",
       "      <td>33.777778</td>\n",
       "      <td>1950.0</td>\n",
       "      <td>72769.361111</td>\n",
       "      <td>940.694444</td>\n",
       "      <td>4.722641e+07</td>\n",
       "    </tr>\n",
       "    <tr>\n",
       "      <th>2</th>\n",
       "      <td>124.933333</td>\n",
       "      <td>7825.933333</td>\n",
       "      <td>12.066667</td>\n",
       "      <td>1970.0</td>\n",
       "      <td>19125.495238</td>\n",
       "      <td>331.352381</td>\n",
       "      <td>8.792543e+07</td>\n",
       "    </tr>\n",
       "    <tr>\n",
       "      <th>3</th>\n",
       "      <td>322.615385</td>\n",
       "      <td>7417.846154</td>\n",
       "      <td>11.230769</td>\n",
       "      <td>1950.0</td>\n",
       "      <td>49596.256410</td>\n",
       "      <td>107.858974</td>\n",
       "      <td>3.271693e+07</td>\n",
       "    </tr>\n",
       "    <tr>\n",
       "      <th>4</th>\n",
       "      <td>293.166667</td>\n",
       "      <td>11849.666667</td>\n",
       "      <td>22.888889</td>\n",
       "      <td>1950.0</td>\n",
       "      <td>68667.558824</td>\n",
       "      <td>1014.104575</td>\n",
       "      <td>8.499787e+07</td>\n",
       "    </tr>\n",
       "    <tr>\n",
       "      <th>5</th>\n",
       "      <td>181.500000</td>\n",
       "      <td>8891.666667</td>\n",
       "      <td>27.666667</td>\n",
       "      <td>1950.0</td>\n",
       "      <td>40789.363636</td>\n",
       "      <td>632.242424</td>\n",
       "      <td>6.596449e+07</td>\n",
       "    </tr>\n",
       "    <tr>\n",
       "      <th>6</th>\n",
       "      <td>218.647059</td>\n",
       "      <td>11021.411765</td>\n",
       "      <td>29.470588</td>\n",
       "      <td>1950.0</td>\n",
       "      <td>35837.242647</td>\n",
       "      <td>727.389706</td>\n",
       "      <td>4.184689e+07</td>\n",
       "    </tr>\n",
       "    <tr>\n",
       "      <th>7</th>\n",
       "      <td>431.142857</td>\n",
       "      <td>10232.000000</td>\n",
       "      <td>37.285714</td>\n",
       "      <td>1950.0</td>\n",
       "      <td>98796.476190</td>\n",
       "      <td>732.571429</td>\n",
       "      <td>5.018871e+07</td>\n",
       "    </tr>\n",
       "    <tr>\n",
       "      <th>8</th>\n",
       "      <td>244.562500</td>\n",
       "      <td>7325.812500</td>\n",
       "      <td>36.437500</td>\n",
       "      <td>1950.0</td>\n",
       "      <td>56152.262500</td>\n",
       "      <td>1126.129167</td>\n",
       "      <td>1.987607e+07</td>\n",
       "    </tr>\n",
       "    <tr>\n",
       "      <th>9</th>\n",
       "      <td>299.777778</td>\n",
       "      <td>7983.222222</td>\n",
       "      <td>26.444444</td>\n",
       "      <td>1950.0</td>\n",
       "      <td>130272.444444</td>\n",
       "      <td>761.777778</td>\n",
       "      <td>4.733151e+07</td>\n",
       "    </tr>\n",
       "    <tr>\n",
       "      <th>10</th>\n",
       "      <td>357.500000</td>\n",
       "      <td>19961.300000</td>\n",
       "      <td>55.700000</td>\n",
       "      <td>1995.0</td>\n",
       "      <td>76744.944444</td>\n",
       "      <td>4590.677778</td>\n",
       "      <td>6.362865e+07</td>\n",
       "    </tr>\n",
       "    <tr>\n",
       "      <th>11</th>\n",
       "      <td>361.933333</td>\n",
       "      <td>12545.933333</td>\n",
       "      <td>48.466667</td>\n",
       "      <td>1990.0</td>\n",
       "      <td>74266.638095</td>\n",
       "      <td>2396.123810</td>\n",
       "      <td>8.347380e+07</td>\n",
       "    </tr>\n",
       "    <tr>\n",
       "      <th>12</th>\n",
       "      <td>606.500000</td>\n",
       "      <td>21097.000000</td>\n",
       "      <td>59.250000</td>\n",
       "      <td>1950.0</td>\n",
       "      <td>124941.714286</td>\n",
       "      <td>3010.785714</td>\n",
       "      <td>1.158724e+08</td>\n",
       "    </tr>\n",
       "  </tbody>\n",
       "</table>\n",
       "</div>"
      ],
      "text/plain": [
       "       mean_duration  mean_messages  mean_internet  mean_total  \\\n",
       "month                                                            \n",
       "1         428.111111   13153.555556      33.777778      1950.0   \n",
       "2         124.933333    7825.933333      12.066667      1970.0   \n",
       "3         322.615385    7417.846154      11.230769      1950.0   \n",
       "4         293.166667   11849.666667      22.888889      1950.0   \n",
       "5         181.500000    8891.666667      27.666667      1950.0   \n",
       "6         218.647059   11021.411765      29.470588      1950.0   \n",
       "7         431.142857   10232.000000      37.285714      1950.0   \n",
       "8         244.562500    7325.812500      36.437500      1950.0   \n",
       "9         299.777778    7983.222222      26.444444      1950.0   \n",
       "10        357.500000   19961.300000      55.700000      1995.0   \n",
       "11        361.933333   12545.933333      48.466667      1990.0   \n",
       "12        606.500000   21097.000000      59.250000      1950.0   \n",
       "\n",
       "       variance_calls  variance_message  variance_internet  \n",
       "month                                                       \n",
       "1        72769.361111        940.694444       4.722641e+07  \n",
       "2        19125.495238        331.352381       8.792543e+07  \n",
       "3        49596.256410        107.858974       3.271693e+07  \n",
       "4        68667.558824       1014.104575       8.499787e+07  \n",
       "5        40789.363636        632.242424       6.596449e+07  \n",
       "6        35837.242647        727.389706       4.184689e+07  \n",
       "7        98796.476190        732.571429       5.018871e+07  \n",
       "8        56152.262500       1126.129167       1.987607e+07  \n",
       "9       130272.444444        761.777778       4.733151e+07  \n",
       "10       76744.944444       4590.677778       6.362865e+07  \n",
       "11       74266.638095       2396.123810       8.347380e+07  \n",
       "12      124941.714286       3010.785714       1.158724e+08  "
      ]
     },
     "metadata": {},
     "output_type": "display_data"
    }
   ],
   "source": [
    "# записываю в переменную всех пользователей Smart для подсчета дисперсии\n",
    "smart_person = group_all.query('tariff == \"smart\"')\n",
    "\n",
    "# дисперсия звонков тарифа \"смарт\"\n",
    "variance_smart_calls = smart_person.pivot_table(index='month', values='duration', aggfunc=np.var)\n",
    "\n",
    "# дисперсия сообщений тарифа \"смарт\"\n",
    "variance_smart_message = smart_person.pivot_table(index='month', values='message_date', aggfunc=np.var)\n",
    "\n",
    "# дисперсия интернет-траффика тарифа \"смарт\"\n",
    "variance_smart_internet = smart_person.pivot_table(index='month', values='mb_used', aggfunc=np.var)\n",
    "\n",
    "variance_smart = variance_smart_calls.merge(variance_smart_message, on='month')\n",
    "variance_smart = variance_smart.merge(variance_smart_internet, on='month')\n",
    "variance_smart.columns = ['variance_calls', 'variance_message', 'variance_internet']\n",
    "\n",
    "global_smart = mean_smart.merge(variance_smart, on='month')\n",
    "display(global_smart)\n",
    "\n",
    "# записываю в переменную всех пользователей Ultra для подсчета дисперсии\n",
    "ultra_person = group_all.query('tariff == \"ultra\"')\n",
    "\n",
    "# дисперсия звонков тарифа \"ультра\"\n",
    "variance_ultra_calls = ultra_person.pivot_table(index='month', values='duration', aggfunc=np.var)\n",
    "\n",
    "# дисперсия сообщений тарифа \"ультра\"\n",
    "variance_ultra_message = ultra_person.pivot_table(index='month', values='message_date', aggfunc=np.var)\n",
    "\n",
    "# дисперсия интернет-траффика тарифа \"ультра\"\n",
    "variance_ultra_internet = ultra_person.pivot_table(index='month', values='mb_used', aggfunc=np.var)\n",
    "\n",
    "variance_ultra = variance_ultra_calls.merge(variance_ultra_message, on='month')\n",
    "variance_ultra = variance_ultra.merge(variance_ultra_internet, on='month')\n",
    "variance_ultra.columns = ['variance_calls', 'variance_message', 'variance_internet']\n",
    "\n",
    "global_ultra = mean_ultra.merge(variance_ultra, on='month')\n",
    "display(global_ultra)"
   ]
  },
  {
   "cell_type": "code",
   "execution_count": 26,
   "metadata": {},
   "outputs": [
    {
     "data": {
      "text/html": [
       "<div>\n",
       "<style scoped>\n",
       "    .dataframe tbody tr th:only-of-type {\n",
       "        vertical-align: middle;\n",
       "    }\n",
       "\n",
       "    .dataframe tbody tr th {\n",
       "        vertical-align: top;\n",
       "    }\n",
       "\n",
       "    .dataframe thead th {\n",
       "        text-align: right;\n",
       "    }\n",
       "</style>\n",
       "<table border=\"1\" class=\"dataframe\">\n",
       "  <thead>\n",
       "    <tr style=\"text-align: right;\">\n",
       "      <th></th>\n",
       "      <th>mean_duration</th>\n",
       "      <th>mean_messages</th>\n",
       "      <th>mean_internet</th>\n",
       "      <th>mean_total</th>\n",
       "      <th>variance_calls</th>\n",
       "      <th>variance_message</th>\n",
       "      <th>variance_internet</th>\n",
       "      <th>sigma_calls</th>\n",
       "      <th>sigma_message</th>\n",
       "      <th>sigma_internet</th>\n",
       "    </tr>\n",
       "    <tr>\n",
       "      <th>month</th>\n",
       "      <th></th>\n",
       "      <th></th>\n",
       "      <th></th>\n",
       "      <th></th>\n",
       "      <th></th>\n",
       "      <th></th>\n",
       "      <th></th>\n",
       "      <th></th>\n",
       "      <th></th>\n",
       "      <th></th>\n",
       "    </tr>\n",
       "  </thead>\n",
       "  <tbody>\n",
       "    <tr>\n",
       "      <td>1</td>\n",
       "      <td>203.852941</td>\n",
       "      <td>8524.441176</td>\n",
       "      <td>18.235294</td>\n",
       "      <td>703.676471</td>\n",
       "      <td>23787.341355</td>\n",
       "      <td>262.367201</td>\n",
       "      <td>4.162621e+07</td>\n",
       "      <td>154.231454</td>\n",
       "      <td>16.197753</td>\n",
       "      <td>6451.837940</td>\n",
       "    </tr>\n",
       "    <tr>\n",
       "      <td>2</td>\n",
       "      <td>168.125000</td>\n",
       "      <td>6799.708333</td>\n",
       "      <td>13.000000</td>\n",
       "      <td>556.375000</td>\n",
       "      <td>18421.679348</td>\n",
       "      <td>268.347826</td>\n",
       "      <td>2.076865e+07</td>\n",
       "      <td>135.726487</td>\n",
       "      <td>16.381326</td>\n",
       "      <td>4557.263524</td>\n",
       "    </tr>\n",
       "    <tr>\n",
       "      <td>3</td>\n",
       "      <td>265.578947</td>\n",
       "      <td>9917.210526</td>\n",
       "      <td>21.052632</td>\n",
       "      <td>690.052632</td>\n",
       "      <td>23606.701754</td>\n",
       "      <td>362.052632</td>\n",
       "      <td>2.712906e+07</td>\n",
       "      <td>153.644726</td>\n",
       "      <td>19.027681</td>\n",
       "      <td>5208.556396</td>\n",
       "    </tr>\n",
       "    <tr>\n",
       "      <td>4</td>\n",
       "      <td>231.314286</td>\n",
       "      <td>7896.657143</td>\n",
       "      <td>21.114286</td>\n",
       "      <td>572.914286</td>\n",
       "      <td>21152.398319</td>\n",
       "      <td>425.398319</td>\n",
       "      <td>1.793742e+07</td>\n",
       "      <td>145.438641</td>\n",
       "      <td>20.625187</td>\n",
       "      <td>4235.258662</td>\n",
       "    </tr>\n",
       "    <tr>\n",
       "      <td>5</td>\n",
       "      <td>195.103448</td>\n",
       "      <td>9505.413793</td>\n",
       "      <td>17.724138</td>\n",
       "      <td>738.310345</td>\n",
       "      <td>21778.167488</td>\n",
       "      <td>338.492611</td>\n",
       "      <td>4.863679e+07</td>\n",
       "      <td>147.574278</td>\n",
       "      <td>18.398169</td>\n",
       "      <td>6974.008145</td>\n",
       "    </tr>\n",
       "    <tr>\n",
       "      <td>6</td>\n",
       "      <td>185.869565</td>\n",
       "      <td>8228.000000</td>\n",
       "      <td>13.652174</td>\n",
       "      <td>570.391304</td>\n",
       "      <td>9904.209486</td>\n",
       "      <td>276.328063</td>\n",
       "      <td>2.451719e+07</td>\n",
       "      <td>99.519895</td>\n",
       "      <td>16.623118</td>\n",
       "      <td>4951.483377</td>\n",
       "    </tr>\n",
       "    <tr>\n",
       "      <td>7</td>\n",
       "      <td>241.108108</td>\n",
       "      <td>8815.783784</td>\n",
       "      <td>18.135135</td>\n",
       "      <td>652.702703</td>\n",
       "      <td>21725.932432</td>\n",
       "      <td>302.453453</td>\n",
       "      <td>3.156567e+07</td>\n",
       "      <td>147.397193</td>\n",
       "      <td>17.391189</td>\n",
       "      <td>5618.333423</td>\n",
       "    </tr>\n",
       "    <tr>\n",
       "      <td>8</td>\n",
       "      <td>213.117647</td>\n",
       "      <td>9687.029412</td>\n",
       "      <td>16.970588</td>\n",
       "      <td>614.058824</td>\n",
       "      <td>18373.622103</td>\n",
       "      <td>456.090018</td>\n",
       "      <td>2.450146e+07</td>\n",
       "      <td>135.549335</td>\n",
       "      <td>21.356264</td>\n",
       "      <td>4949.894915</td>\n",
       "    </tr>\n",
       "    <tr>\n",
       "      <td>9</td>\n",
       "      <td>262.076923</td>\n",
       "      <td>9309.846154</td>\n",
       "      <td>21.115385</td>\n",
       "      <td>622.730769</td>\n",
       "      <td>31820.153846</td>\n",
       "      <td>499.146154</td>\n",
       "      <td>2.835204e+07</td>\n",
       "      <td>178.382045</td>\n",
       "      <td>22.341579</td>\n",
       "      <td>5324.663127</td>\n",
       "    </tr>\n",
       "    <tr>\n",
       "      <td>10</td>\n",
       "      <td>260.742857</td>\n",
       "      <td>8474.142857</td>\n",
       "      <td>17.914286</td>\n",
       "      <td>596.628571</td>\n",
       "      <td>23870.784874</td>\n",
       "      <td>409.845378</td>\n",
       "      <td>2.685339e+07</td>\n",
       "      <td>154.501731</td>\n",
       "      <td>20.244638</td>\n",
       "      <td>5182.025740</td>\n",
       "    </tr>\n",
       "    <tr>\n",
       "      <td>11</td>\n",
       "      <td>269.851852</td>\n",
       "      <td>10018.518519</td>\n",
       "      <td>22.851852</td>\n",
       "      <td>754.518519</td>\n",
       "      <td>31163.284900</td>\n",
       "      <td>844.900285</td>\n",
       "      <td>3.851649e+07</td>\n",
       "      <td>176.531258</td>\n",
       "      <td>29.067169</td>\n",
       "      <td>6206.165497</td>\n",
       "    </tr>\n",
       "    <tr>\n",
       "      <td>12</td>\n",
       "      <td>429.107143</td>\n",
       "      <td>16534.214286</td>\n",
       "      <td>29.535714</td>\n",
       "      <td>1142.750000</td>\n",
       "      <td>28441.210317</td>\n",
       "      <td>737.591270</td>\n",
       "      <td>2.273468e+07</td>\n",
       "      <td>168.645220</td>\n",
       "      <td>27.158632</td>\n",
       "      <td>4768.089643</td>\n",
       "    </tr>\n",
       "  </tbody>\n",
       "</table>\n",
       "</div>"
      ],
      "text/plain": [
       "       mean_duration  mean_messages  mean_internet   mean_total  \\\n",
       "month                                                             \n",
       "1         203.852941    8524.441176      18.235294   703.676471   \n",
       "2         168.125000    6799.708333      13.000000   556.375000   \n",
       "3         265.578947    9917.210526      21.052632   690.052632   \n",
       "4         231.314286    7896.657143      21.114286   572.914286   \n",
       "5         195.103448    9505.413793      17.724138   738.310345   \n",
       "6         185.869565    8228.000000      13.652174   570.391304   \n",
       "7         241.108108    8815.783784      18.135135   652.702703   \n",
       "8         213.117647    9687.029412      16.970588   614.058824   \n",
       "9         262.076923    9309.846154      21.115385   622.730769   \n",
       "10        260.742857    8474.142857      17.914286   596.628571   \n",
       "11        269.851852   10018.518519      22.851852   754.518519   \n",
       "12        429.107143   16534.214286      29.535714  1142.750000   \n",
       "\n",
       "       variance_calls  variance_message  variance_internet  sigma_calls  \\\n",
       "month                                                                     \n",
       "1        23787.341355        262.367201       4.162621e+07   154.231454   \n",
       "2        18421.679348        268.347826       2.076865e+07   135.726487   \n",
       "3        23606.701754        362.052632       2.712906e+07   153.644726   \n",
       "4        21152.398319        425.398319       1.793742e+07   145.438641   \n",
       "5        21778.167488        338.492611       4.863679e+07   147.574278   \n",
       "6         9904.209486        276.328063       2.451719e+07    99.519895   \n",
       "7        21725.932432        302.453453       3.156567e+07   147.397193   \n",
       "8        18373.622103        456.090018       2.450146e+07   135.549335   \n",
       "9        31820.153846        499.146154       2.835204e+07   178.382045   \n",
       "10       23870.784874        409.845378       2.685339e+07   154.501731   \n",
       "11       31163.284900        844.900285       3.851649e+07   176.531258   \n",
       "12       28441.210317        737.591270       2.273468e+07   168.645220   \n",
       "\n",
       "       sigma_message  sigma_internet  \n",
       "month                                 \n",
       "1          16.197753     6451.837940  \n",
       "2          16.381326     4557.263524  \n",
       "3          19.027681     5208.556396  \n",
       "4          20.625187     4235.258662  \n",
       "5          18.398169     6974.008145  \n",
       "6          16.623118     4951.483377  \n",
       "7          17.391189     5618.333423  \n",
       "8          21.356264     4949.894915  \n",
       "9          22.341579     5324.663127  \n",
       "10         20.244638     5182.025740  \n",
       "11         29.067169     6206.165497  \n",
       "12         27.158632     4768.089643  "
      ]
     },
     "metadata": {},
     "output_type": "display_data"
    },
    {
     "data": {
      "text/html": [
       "<div>\n",
       "<style scoped>\n",
       "    .dataframe tbody tr th:only-of-type {\n",
       "        vertical-align: middle;\n",
       "    }\n",
       "\n",
       "    .dataframe tbody tr th {\n",
       "        vertical-align: top;\n",
       "    }\n",
       "\n",
       "    .dataframe thead th {\n",
       "        text-align: right;\n",
       "    }\n",
       "</style>\n",
       "<table border=\"1\" class=\"dataframe\">\n",
       "  <thead>\n",
       "    <tr style=\"text-align: right;\">\n",
       "      <th></th>\n",
       "      <th>mean_duration</th>\n",
       "      <th>mean_messages</th>\n",
       "      <th>mean_internet</th>\n",
       "      <th>mean_total</th>\n",
       "      <th>variance_calls</th>\n",
       "      <th>variance_message</th>\n",
       "      <th>variance_internet</th>\n",
       "      <th>sigma_calls</th>\n",
       "      <th>sigma_message</th>\n",
       "      <th>sigma_internet</th>\n",
       "    </tr>\n",
       "    <tr>\n",
       "      <th>month</th>\n",
       "      <th></th>\n",
       "      <th></th>\n",
       "      <th></th>\n",
       "      <th></th>\n",
       "      <th></th>\n",
       "      <th></th>\n",
       "      <th></th>\n",
       "      <th></th>\n",
       "      <th></th>\n",
       "      <th></th>\n",
       "    </tr>\n",
       "  </thead>\n",
       "  <tbody>\n",
       "    <tr>\n",
       "      <td>1</td>\n",
       "      <td>428.111111</td>\n",
       "      <td>13153.555556</td>\n",
       "      <td>33.777778</td>\n",
       "      <td>1950.0</td>\n",
       "      <td>72769.361111</td>\n",
       "      <td>940.694444</td>\n",
       "      <td>4.722641e+07</td>\n",
       "      <td>154.231454</td>\n",
       "      <td>16.197753</td>\n",
       "      <td>6451.837940</td>\n",
       "    </tr>\n",
       "    <tr>\n",
       "      <td>2</td>\n",
       "      <td>124.933333</td>\n",
       "      <td>7825.933333</td>\n",
       "      <td>12.066667</td>\n",
       "      <td>1970.0</td>\n",
       "      <td>19125.495238</td>\n",
       "      <td>331.352381</td>\n",
       "      <td>8.792543e+07</td>\n",
       "      <td>135.726487</td>\n",
       "      <td>16.381326</td>\n",
       "      <td>4557.263524</td>\n",
       "    </tr>\n",
       "    <tr>\n",
       "      <td>3</td>\n",
       "      <td>322.615385</td>\n",
       "      <td>7417.846154</td>\n",
       "      <td>11.230769</td>\n",
       "      <td>1950.0</td>\n",
       "      <td>49596.256410</td>\n",
       "      <td>107.858974</td>\n",
       "      <td>3.271693e+07</td>\n",
       "      <td>153.644726</td>\n",
       "      <td>19.027681</td>\n",
       "      <td>5208.556396</td>\n",
       "    </tr>\n",
       "    <tr>\n",
       "      <td>4</td>\n",
       "      <td>293.166667</td>\n",
       "      <td>11849.666667</td>\n",
       "      <td>22.888889</td>\n",
       "      <td>1950.0</td>\n",
       "      <td>68667.558824</td>\n",
       "      <td>1014.104575</td>\n",
       "      <td>8.499787e+07</td>\n",
       "      <td>145.438641</td>\n",
       "      <td>20.625187</td>\n",
       "      <td>4235.258662</td>\n",
       "    </tr>\n",
       "    <tr>\n",
       "      <td>5</td>\n",
       "      <td>181.500000</td>\n",
       "      <td>8891.666667</td>\n",
       "      <td>27.666667</td>\n",
       "      <td>1950.0</td>\n",
       "      <td>40789.363636</td>\n",
       "      <td>632.242424</td>\n",
       "      <td>6.596449e+07</td>\n",
       "      <td>147.574278</td>\n",
       "      <td>18.398169</td>\n",
       "      <td>6974.008145</td>\n",
       "    </tr>\n",
       "    <tr>\n",
       "      <td>6</td>\n",
       "      <td>218.647059</td>\n",
       "      <td>11021.411765</td>\n",
       "      <td>29.470588</td>\n",
       "      <td>1950.0</td>\n",
       "      <td>35837.242647</td>\n",
       "      <td>727.389706</td>\n",
       "      <td>4.184689e+07</td>\n",
       "      <td>99.519895</td>\n",
       "      <td>16.623118</td>\n",
       "      <td>4951.483377</td>\n",
       "    </tr>\n",
       "    <tr>\n",
       "      <td>7</td>\n",
       "      <td>431.142857</td>\n",
       "      <td>10232.000000</td>\n",
       "      <td>37.285714</td>\n",
       "      <td>1950.0</td>\n",
       "      <td>98796.476190</td>\n",
       "      <td>732.571429</td>\n",
       "      <td>5.018871e+07</td>\n",
       "      <td>147.397193</td>\n",
       "      <td>17.391189</td>\n",
       "      <td>5618.333423</td>\n",
       "    </tr>\n",
       "    <tr>\n",
       "      <td>8</td>\n",
       "      <td>244.562500</td>\n",
       "      <td>7325.812500</td>\n",
       "      <td>36.437500</td>\n",
       "      <td>1950.0</td>\n",
       "      <td>56152.262500</td>\n",
       "      <td>1126.129167</td>\n",
       "      <td>1.987607e+07</td>\n",
       "      <td>135.549335</td>\n",
       "      <td>21.356264</td>\n",
       "      <td>4949.894915</td>\n",
       "    </tr>\n",
       "    <tr>\n",
       "      <td>9</td>\n",
       "      <td>299.777778</td>\n",
       "      <td>7983.222222</td>\n",
       "      <td>26.444444</td>\n",
       "      <td>1950.0</td>\n",
       "      <td>130272.444444</td>\n",
       "      <td>761.777778</td>\n",
       "      <td>4.733151e+07</td>\n",
       "      <td>178.382045</td>\n",
       "      <td>22.341579</td>\n",
       "      <td>5324.663127</td>\n",
       "    </tr>\n",
       "    <tr>\n",
       "      <td>10</td>\n",
       "      <td>357.500000</td>\n",
       "      <td>19961.300000</td>\n",
       "      <td>55.700000</td>\n",
       "      <td>1995.0</td>\n",
       "      <td>76744.944444</td>\n",
       "      <td>4590.677778</td>\n",
       "      <td>6.362865e+07</td>\n",
       "      <td>154.501731</td>\n",
       "      <td>20.244638</td>\n",
       "      <td>5182.025740</td>\n",
       "    </tr>\n",
       "    <tr>\n",
       "      <td>11</td>\n",
       "      <td>361.933333</td>\n",
       "      <td>12545.933333</td>\n",
       "      <td>48.466667</td>\n",
       "      <td>1990.0</td>\n",
       "      <td>74266.638095</td>\n",
       "      <td>2396.123810</td>\n",
       "      <td>8.347380e+07</td>\n",
       "      <td>176.531258</td>\n",
       "      <td>29.067169</td>\n",
       "      <td>6206.165497</td>\n",
       "    </tr>\n",
       "    <tr>\n",
       "      <td>12</td>\n",
       "      <td>606.500000</td>\n",
       "      <td>21097.000000</td>\n",
       "      <td>59.250000</td>\n",
       "      <td>1950.0</td>\n",
       "      <td>124941.714286</td>\n",
       "      <td>3010.785714</td>\n",
       "      <td>1.158724e+08</td>\n",
       "      <td>168.645220</td>\n",
       "      <td>27.158632</td>\n",
       "      <td>4768.089643</td>\n",
       "    </tr>\n",
       "  </tbody>\n",
       "</table>\n",
       "</div>"
      ],
      "text/plain": [
       "       mean_duration  mean_messages  mean_internet  mean_total  \\\n",
       "month                                                            \n",
       "1         428.111111   13153.555556      33.777778      1950.0   \n",
       "2         124.933333    7825.933333      12.066667      1970.0   \n",
       "3         322.615385    7417.846154      11.230769      1950.0   \n",
       "4         293.166667   11849.666667      22.888889      1950.0   \n",
       "5         181.500000    8891.666667      27.666667      1950.0   \n",
       "6         218.647059   11021.411765      29.470588      1950.0   \n",
       "7         431.142857   10232.000000      37.285714      1950.0   \n",
       "8         244.562500    7325.812500      36.437500      1950.0   \n",
       "9         299.777778    7983.222222      26.444444      1950.0   \n",
       "10        357.500000   19961.300000      55.700000      1995.0   \n",
       "11        361.933333   12545.933333      48.466667      1990.0   \n",
       "12        606.500000   21097.000000      59.250000      1950.0   \n",
       "\n",
       "       variance_calls  variance_message  variance_internet  sigma_calls  \\\n",
       "month                                                                     \n",
       "1        72769.361111        940.694444       4.722641e+07   154.231454   \n",
       "2        19125.495238        331.352381       8.792543e+07   135.726487   \n",
       "3        49596.256410        107.858974       3.271693e+07   153.644726   \n",
       "4        68667.558824       1014.104575       8.499787e+07   145.438641   \n",
       "5        40789.363636        632.242424       6.596449e+07   147.574278   \n",
       "6        35837.242647        727.389706       4.184689e+07    99.519895   \n",
       "7        98796.476190        732.571429       5.018871e+07   147.397193   \n",
       "8        56152.262500       1126.129167       1.987607e+07   135.549335   \n",
       "9       130272.444444        761.777778       4.733151e+07   178.382045   \n",
       "10       76744.944444       4590.677778       6.362865e+07   154.501731   \n",
       "11       74266.638095       2396.123810       8.347380e+07   176.531258   \n",
       "12      124941.714286       3010.785714       1.158724e+08   168.645220   \n",
       "\n",
       "       sigma_message  sigma_internet  \n",
       "month                                 \n",
       "1          16.197753     6451.837940  \n",
       "2          16.381326     4557.263524  \n",
       "3          19.027681     5208.556396  \n",
       "4          20.625187     4235.258662  \n",
       "5          18.398169     6974.008145  \n",
       "6          16.623118     4951.483377  \n",
       "7          17.391189     5618.333423  \n",
       "8          21.356264     4949.894915  \n",
       "9          22.341579     5324.663127  \n",
       "10         20.244638     5182.025740  \n",
       "11         29.067169     6206.165497  \n",
       "12         27.158632     4768.089643  "
      ]
     },
     "metadata": {},
     "output_type": "display_data"
    }
   ],
   "source": [
    "#стандартное отклонение звонков тарифа \"смарт\"\n",
    "sigma_smart_calls = global_smart.pivot_table (index = 'month', values = 'variance_calls', aggfunc = np.sqrt)\n",
    "\n",
    "#дстандартное отклонение сообщений тарифа \"смарт\"\n",
    "sigma_smart_message = global_smart.pivot_table (index = 'month', values = 'variance_message', aggfunc = np.sqrt)\n",
    "\n",
    "#дстандартное отклонение интернет-траффика тарифа \"смарт\"\n",
    "sigma_smart_internet = global_smart.pivot_table (index = 'month', values = 'variance_internet', aggfunc = np.sqrt)\n",
    "\n",
    "sigma_smart = sigma_smart_calls.merge (sigma_smart_message, on = 'month')\n",
    "sigma_smart = sigma_smart.merge (sigma_smart_internet, on = 'month')\n",
    "sigma_smart.columns = ['sigma_calls', 'sigma_message', 'sigma_internet']\n",
    "\n",
    "global_smart = global_smart.merge (sigma_smart, on = 'month')\n",
    "display (global_smart)\n",
    "\n",
    "#стандартное отклонение звонков тарифа \"ультра\"\n",
    "sigma_ultra_calls = global_smart.pivot_table (index = 'month', values = 'variance_calls', aggfunc = np.sqrt)\n",
    "\n",
    "#стандартное отклонение сообщений тарифа \"ультра\"\n",
    "sigma_ultra_message = global_smart.pivot_table (index = 'month', values = 'variance_message', aggfunc = np.sqrt)\n",
    "\n",
    "#стандартное отклонение интернет-траффика тарифа \"ультра\"\n",
    "sigma_ultra_internet = global_smart.pivot_table (index = 'month', values = 'variance_internet', aggfunc = np.sqrt)\n",
    "\n",
    "sigma_ultra = sigma_ultra_calls.merge (sigma_ultra_message, on = 'month')\n",
    "sigma_ultra = sigma_ultra.merge (sigma_ultra_internet, on = 'month')\n",
    "sigma_ultra.columns = ['sigma_calls', 'sigma_message', 'sigma_internet']\n",
    "\n",
    "global_ultra = global_ultra.merge (sigma_ultra, on = 'month')\n",
    "display (global_ultra)"
   ]
  },
  {
   "cell_type": "markdown",
   "metadata": {},
   "source": [
    "<a id=\"step_11\"></a> \n",
    "<b>3.3. Построим гистограммы.</b>"
   ]
  },
  {
   "cell_type": "code",
   "execution_count": 42,
   "metadata": {},
   "outputs": [
    {
     "data": {
      "image/png": "[encoded data removed]",
      "text/plain": [
       "<Figure size 936x432 with 1 Axes>"
      ]
     },
     "metadata": {
      "needs_background": "light"
     },
     "output_type": "display_data"
    }
   ],
   "source": [
    "# гистограмма звонков по месяцам для тарифа 'ultra'\n",
    "ax = global_ultra.plot(y='mean_duration',\n",
    "                       grid=True,\n",
    "                       figsize=(13, 6),\n",
    "                       style='o-',\n",
    "                       kind='bar',\n",
    "                       label='smart',\n",
    "                       alpha=0.5)\n",
    "\n",
    "# гистограмма звонков сообщений по месяцам для тарифа 'smart'\n",
    "global_smart.plot(y='mean_duration', figsize=(13, 6), style='o-', kind='bar', label='ultra', ax=ax)\n",
    "plt.title('гистограмма звонков по месяцам для тарифа ultra')\n",
    "plt.show()"
   ]
  },
  {
   "cell_type": "code",
   "execution_count": 43,
   "metadata": {},
   "outputs": [
    {
     "data": {
      "image/png": "[encoded data removed]",
      "text/plain": [
       "<Figure size 936x432 with 1 Axes>"
      ]
     },
     "metadata": {
      "needs_background": "light"
     },
     "output_type": "display_data"
    }
   ],
   "source": [
    "# гистограмма количества сообщений по месяцам для тарифа 'ultra'\n",
    "ax = global_ultra.plot(y='mean_messages',\n",
    "                       grid=True,\n",
    "                       figsize=(13, 6),\n",
    "                       style='o-',\n",
    "                       kind='bar',\n",
    "                       label='smart',\n",
    "                       alpha=0.5)\n",
    "\n",
    "# гистограмма количества сообщений по месяцам для тарифа 'smart'\n",
    "global_smart.plot(y='mean_messages', figsize=(13, 6), style='o-', kind='bar', label='ultra', ax=ax)\n",
    "plt.title('гистограмма количества сообщений по месяцам для тарифа ultra')\n",
    "plt.show()"
   ]
  },
  {
   "cell_type": "code",
   "execution_count": 44,
   "metadata": {
    "scrolled": false
   },
   "outputs": [
    {
     "data": {
      "image/png": "[encoded data removed]",
      "text/plain": [
       "<Figure size 936x432 with 1 Axes>"
      ]
     },
     "metadata": {
      "needs_background": "light"
     },
     "output_type": "display_data"
    }
   ],
   "source": [
    "# гистограмма количества интернет-траффика по месяцам для тарифа 'ultra'\n",
    "ax = global_ultra.plot(y='mean_internet',\n",
    "                       grid=True,\n",
    "                       figsize=(13, 6),\n",
    "                       style='o-',\n",
    "                       kind='bar',\n",
    "                       label='smart',\n",
    "                       alpha=0.5)\n",
    "\n",
    "# гистограмма количества интернет-траффика по месяцам для тарифа 'smart'\n",
    "global_smart.plot(y='mean_internet', figsize=(13, 6), style='o-', kind='bar', label='ultra', ax=ax)\n",
    "plt.title('гистограмма количества интернет-траффика по месяцам для тарифа ultra')\n",
    "plt.show()"
   ]
  },
  {
   "cell_type": "markdown",
   "metadata": {},
   "source": [
    "Посмотрим на полученные распределения"
   ]
  },
  {
   "cell_type": "code",
   "execution_count": 45,
   "metadata": {
    "scrolled": false
   },
   "outputs": [
    {
     "data": {
      "text/html": [
       "<div>\n",
       "<style scoped>\n",
       "    .dataframe tbody tr th:only-of-type {\n",
       "        vertical-align: middle;\n",
       "    }\n",
       "\n",
       "    .dataframe tbody tr th {\n",
       "        vertical-align: top;\n",
       "    }\n",
       "\n",
       "    .dataframe thead th {\n",
       "        text-align: right;\n",
       "    }\n",
       "</style>\n",
       "<table border=\"1\" class=\"dataframe\">\n",
       "  <thead>\n",
       "    <tr style=\"text-align: right;\">\n",
       "      <th></th>\n",
       "      <th>duration</th>\n",
       "      <th>mb_used</th>\n",
       "      <th>message_date</th>\n",
       "      <th>total</th>\n",
       "    </tr>\n",
       "    <tr>\n",
       "      <th>user_id</th>\n",
       "      <th></th>\n",
       "      <th></th>\n",
       "      <th></th>\n",
       "      <th></th>\n",
       "    </tr>\n",
       "  </thead>\n",
       "  <tbody>\n",
       "    <tr>\n",
       "      <th>1001</th>\n",
       "      <td>430.0</td>\n",
       "      <td>18452.0</td>\n",
       "      <td>0.0</td>\n",
       "      <td>1150.0</td>\n",
       "    </tr>\n",
       "    <tr>\n",
       "      <th>1002</th>\n",
       "      <td>117.0</td>\n",
       "      <td>10871.0</td>\n",
       "      <td>4.0</td>\n",
       "      <td>550.0</td>\n",
       "    </tr>\n",
       "    <tr>\n",
       "      <th>1005</th>\n",
       "      <td>95.0</td>\n",
       "      <td>2730.0</td>\n",
       "      <td>7.0</td>\n",
       "      <td>550.0</td>\n",
       "    </tr>\n",
       "    <tr>\n",
       "      <th>1006</th>\n",
       "      <td>42.0</td>\n",
       "      <td>1395.0</td>\n",
       "      <td>0.0</td>\n",
       "      <td>550.0</td>\n",
       "    </tr>\n",
       "    <tr>\n",
       "      <th>1007</th>\n",
       "      <td>198.0</td>\n",
       "      <td>8031.0</td>\n",
       "      <td>11.0</td>\n",
       "      <td>550.0</td>\n",
       "    </tr>\n",
       "    <tr>\n",
       "      <th>1008</th>\n",
       "      <td>339.0</td>\n",
       "      <td>13236.0</td>\n",
       "      <td>56.0</td>\n",
       "      <td>568.0</td>\n",
       "    </tr>\n",
       "    <tr>\n",
       "      <th>1009</th>\n",
       "      <td>109.0</td>\n",
       "      <td>7359.0</td>\n",
       "      <td>2.0</td>\n",
       "      <td>550.0</td>\n",
       "    </tr>\n",
       "    <tr>\n",
       "      <th>1010</th>\n",
       "      <td>142.0</td>\n",
       "      <td>14480.0</td>\n",
       "      <td>0.0</td>\n",
       "      <td>550.0</td>\n",
       "    </tr>\n",
       "    <tr>\n",
       "      <th>1011</th>\n",
       "      <td>212.0</td>\n",
       "      <td>5900.0</td>\n",
       "      <td>4.0</td>\n",
       "      <td>550.0</td>\n",
       "    </tr>\n",
       "    <tr>\n",
       "      <th>1012</th>\n",
       "      <td>13.0</td>\n",
       "      <td>2416.0</td>\n",
       "      <td>2.0</td>\n",
       "      <td>550.0</td>\n",
       "    </tr>\n",
       "  </tbody>\n",
       "</table>\n",
       "</div>"
      ],
      "text/plain": [
       "         duration  mb_used  message_date   total\n",
       "user_id                                         \n",
       "1001        430.0  18452.0           0.0  1150.0\n",
       "1002        117.0  10871.0           4.0   550.0\n",
       "1005         95.0   2730.0           7.0   550.0\n",
       "1006         42.0   1395.0           0.0   550.0\n",
       "1007        198.0   8031.0          11.0   550.0\n",
       "1008        339.0  13236.0          56.0   568.0\n",
       "1009        109.0   7359.0           2.0   550.0\n",
       "1010        142.0  14480.0           0.0   550.0\n",
       "1011        212.0   5900.0           4.0   550.0\n",
       "1012         13.0   2416.0           2.0   550.0"
      ]
     },
     "metadata": {},
     "output_type": "display_data"
    },
    {
     "data": {
      "image/png": "[encoded data removed]",
      "text/plain": [
       "<Figure size 432x288 with 1 Axes>"
      ]
     },
     "metadata": {
      "needs_background": "light"
     },
     "output_type": "display_data"
    },
    {
     "data": {
      "image/png": "[encoded data removed]",
      "text/plain": [
       "<Figure size 432x288 with 1 Axes>"
      ]
     },
     "metadata": {
      "needs_background": "light"
     },
     "output_type": "display_data"
    },
    {
     "data": {
      "image/png": "[encoded data removed]",
      "text/plain": [
       "<Figure size 432x288 with 1 Axes>"
      ]
     },
     "metadata": {
      "needs_background": "light"
     },
     "output_type": "display_data"
    },
    {
     "data": {
      "image/png": "[encoded data removed]",
      "text/plain": [
       "<Figure size 432x288 with 1 Axes>"
      ]
     },
     "metadata": {
      "needs_background": "light"
     },
     "output_type": "display_data"
    },
    {
     "data": {
      "text/html": [
       "<div>\n",
       "<style scoped>\n",
       "    .dataframe tbody tr th:only-of-type {\n",
       "        vertical-align: middle;\n",
       "    }\n",
       "\n",
       "    .dataframe tbody tr th {\n",
       "        vertical-align: top;\n",
       "    }\n",
       "\n",
       "    .dataframe thead th {\n",
       "        text-align: right;\n",
       "    }\n",
       "</style>\n",
       "<table border=\"1\" class=\"dataframe\">\n",
       "  <thead>\n",
       "    <tr style=\"text-align: right;\">\n",
       "      <th></th>\n",
       "      <th>duration</th>\n",
       "      <th>mb_used</th>\n",
       "      <th>message_date</th>\n",
       "      <th>total</th>\n",
       "    </tr>\n",
       "    <tr>\n",
       "      <th>user_id</th>\n",
       "      <th></th>\n",
       "      <th></th>\n",
       "      <th></th>\n",
       "      <th></th>\n",
       "    </tr>\n",
       "  </thead>\n",
       "  <tbody>\n",
       "    <tr>\n",
       "      <th>1000</th>\n",
       "      <td>159.0</td>\n",
       "      <td>2256.0</td>\n",
       "      <td>22.0</td>\n",
       "      <td>1950.0</td>\n",
       "    </tr>\n",
       "    <tr>\n",
       "      <th>1003</th>\n",
       "      <td>380.0</td>\n",
       "      <td>8571.0</td>\n",
       "      <td>37.0</td>\n",
       "      <td>1950.0</td>\n",
       "    </tr>\n",
       "    <tr>\n",
       "      <th>1004</th>\n",
       "      <td>35.0</td>\n",
       "      <td>13415.0</td>\n",
       "      <td>95.0</td>\n",
       "      <td>1950.0</td>\n",
       "    </tr>\n",
       "    <tr>\n",
       "      <th>1013</th>\n",
       "      <td>369.0</td>\n",
       "      <td>9790.0</td>\n",
       "      <td>17.0</td>\n",
       "      <td>1950.0</td>\n",
       "    </tr>\n",
       "    <tr>\n",
       "      <th>1016</th>\n",
       "      <td>28.0</td>\n",
       "      <td>7388.0</td>\n",
       "      <td>39.0</td>\n",
       "      <td>1950.0</td>\n",
       "    </tr>\n",
       "    <tr>\n",
       "      <th>1018</th>\n",
       "      <td>636.0</td>\n",
       "      <td>5627.0</td>\n",
       "      <td>34.0</td>\n",
       "      <td>1950.0</td>\n",
       "    </tr>\n",
       "    <tr>\n",
       "      <th>1019</th>\n",
       "      <td>300.0</td>\n",
       "      <td>10281.0</td>\n",
       "      <td>21.0</td>\n",
       "      <td>1950.0</td>\n",
       "    </tr>\n",
       "    <tr>\n",
       "      <th>1021</th>\n",
       "      <td>90.0</td>\n",
       "      <td>4358.0</td>\n",
       "      <td>13.0</td>\n",
       "      <td>1950.0</td>\n",
       "    </tr>\n",
       "    <tr>\n",
       "      <th>1024</th>\n",
       "      <td>79.0</td>\n",
       "      <td>3313.0</td>\n",
       "      <td>0.0</td>\n",
       "      <td>1950.0</td>\n",
       "    </tr>\n",
       "    <tr>\n",
       "      <th>1028</th>\n",
       "      <td>954.0</td>\n",
       "      <td>22519.0</td>\n",
       "      <td>223.0</td>\n",
       "      <td>1950.0</td>\n",
       "    </tr>\n",
       "  </tbody>\n",
       "</table>\n",
       "</div>"
      ],
      "text/plain": [
       "         duration  mb_used  message_date   total\n",
       "user_id                                         \n",
       "1000        159.0   2256.0          22.0  1950.0\n",
       "1003        380.0   8571.0          37.0  1950.0\n",
       "1004         35.0  13415.0          95.0  1950.0\n",
       "1013        369.0   9790.0          17.0  1950.0\n",
       "1016         28.0   7388.0          39.0  1950.0\n",
       "1018        636.0   5627.0          34.0  1950.0\n",
       "1019        300.0  10281.0          21.0  1950.0\n",
       "1021         90.0   4358.0          13.0  1950.0\n",
       "1024         79.0   3313.0           0.0  1950.0\n",
       "1028        954.0  22519.0         223.0  1950.0"
      ]
     },
     "metadata": {},
     "output_type": "display_data"
    },
    {
     "data": {
      "image/png": "[encoded data removed]",
      "text/plain": [
       "<Figure size 432x288 with 1 Axes>"
      ]
     },
     "metadata": {
      "needs_background": "light"
     },
     "output_type": "display_data"
    },
    {
     "data": {
      "image/png": "[encoded data removed]",
      "text/plain": [
       "<Figure size 432x288 with 1 Axes>"
      ]
     },
     "metadata": {
      "needs_background": "light"
     },
     "output_type": "display_data"
    },
    {
     "data": {
      "image/png": "[encoded data removed]",
      "text/plain": [
       "<Figure size 432x288 with 1 Axes>"
      ]
     },
     "metadata": {
      "needs_background": "light"
     },
     "output_type": "display_data"
    },
    {
     "data": {
      "image/png": "[encoded data removed]",
      "text/plain": [
       "<Figure size 432x288 with 1 Axes>"
      ]
     },
     "metadata": {
      "needs_background": "light"
     },
     "output_type": "display_data"
    }
   ],
   "source": [
    "smart_hist = (group_all\n",
    "              .query('tariff == \"smart\"')\n",
    "              .pivot_table(index='user_id',\n",
    "                           values=['duration', 'message_date', 'mb_used', 'total'],\n",
    "                           aggfunc='mean')\n",
    ")\n",
    "display(smart_hist.head(10))\n",
    "plt.title('гистограмма длительности звонков тарифа smart')\n",
    "smart_hist['duration'].hist(bins=30)\n",
    "plt.show()\n",
    "plt.title('гистограмма количства сообщений тарифа smart')\n",
    "smart_hist['message_date'].hist(bins=30)\n",
    "plt.show()\n",
    "plt.title('гистограмма интернет-траффика тарифа smart')\n",
    "smart_hist['mb_used'].hist(bins=30)\n",
    "plt.show()\n",
    "plt.title('гистограмма затрат тарифа smart')\n",
    "smart_hist['total'].hist(bins=30)\n",
    "plt.show()\n",
    "\n",
    "ultra_hist = (group_all\n",
    "              .query('tariff == \"ultra\"')\n",
    "              .pivot_table(index='user_id',\n",
    "                           values=['duration', 'message_date', 'mb_used', 'total'],\n",
    "                           aggfunc='mean')\n",
    ")\n",
    "display(ultra_hist.head(10))\n",
    "plt.title('гистограмма длительности звонков тарифа ultra')\n",
    "ultra_hist['duration'].hist(bins=30)\n",
    "plt.show()\n",
    "plt.title('гистограмма количства сообщений тарифа ultra')\n",
    "ultra_hist['message_date'].hist(bins=30)\n",
    "plt.show()\n",
    "plt.title('гистограмма интернет-траффика тарифа ultra')\n",
    "ultra_hist['mb_used'].hist(bins=30)\n",
    "plt.show()\n",
    "plt.title('гистограмма затрат тарифа ultra')\n",
    "ultra_hist['total'].hist(bins=30)\n",
    "plt.show()"
   ]
  },
  {
   "cell_type": "markdown",
   "metadata": {},
   "source": [
    "<a id=\"step_12\"></a> \n",
    "<b>3.4. Опишием распределения.</b>"
   ]
  },
  {
   "cell_type": "markdown",
   "metadata": {},
   "source": [
    "Тариф \"smart\":\n",
    "\n",
    "Пользователи в среднем разговаривают около 100 минут в месяц, реже от 100 до 350 минут.\n",
    "\n",
    "Пользователи в среднем отправляют около 1 смс в месяц, реже от 1 до 15 смс.\n",
    "\n",
    "Пользователи в среднем используют около 10-12 Гб интернет-траффика в месяц.\n",
    "\n",
    "Пользователи в среднем тратят около 550-600 рублей в месяц."
   ]
  },
  {
   "cell_type": "markdown",
   "metadata": {},
   "source": [
    "Тариф \"ultra\":\n",
    "\n",
    "Пользователи в среднем разговаривают около 1 минуты в месяц, реже от 1 до 100 минут.\n",
    "\n",
    "Пользователи в среднем отправляют от 1 до 10 смс в месяц, реже 20.\n",
    "\n",
    "Пользователи в среднем используют около 3 Гб интернет-траффика в месяц, реже 11 Гб.\n",
    "\n",
    "Пользователи в среднем тратят около 2 000 рублей в месяц"
   ]
  },
  {
   "cell_type": "markdown",
   "metadata": {},
   "source": [
    "<b>В целом, пользователи тарифа \"Смарт\" разговаривают, отправляют смс и используют интернет-траффик больше пользователей тарифа \"Ультра\".</b>"
   ]
  },
  {
   "cell_type": "markdown",
   "metadata": {},
   "source": [
    "<a id=\"step_13\"></a> \n",
    "<b> 4. Проверка гипотез </b>\n",
    "  \n",
    "<b>4.1. средняя выручка пользователей тарифов «Ультра» и «Смарт» различаются.</b>"
   ]
  },
  {
   "cell_type": "markdown",
   "metadata": {},
   "source": [
    "Примем за нулевую гипотезу предположение о том, что средняя выручка пользователей тарифов «Ультра» и «Смарт» не различаются, а именно средние по нашем выборкам равны или различаются не значительно.\n",
    "\n",
    "За альтернативную гипотезу примем предположение о различии наших выборок, следовательно: средняя выручка пользователей тарифов «Ультра» и «Смарт» различаются."
   ]
  },
  {
   "cell_type": "code",
   "execution_count": 46,
   "metadata": {},
   "outputs": [
    {
     "name": "stdout",
     "output_type": "stream",
     "text": [
      "Дисперсия по тарифу смарт: 138882.45322684065\n",
      "Дисперсия по тарифу ультра: 4297.103734066032\n",
      "p-значение:  2.5527514135708084e-206\n",
      "Отвергаем нулевую гипотезу\n"
     ]
    }
   ],
   "source": [
    "# сделаем таблицу с интересующими нас значениями для пользователей тарифа 'smart'\n",
    "tariff_smart_now = (group_all\n",
    "     .query('tariff == \"smart\"')\n",
    "     .pivot_table(index=['user_id', 'month'], values='total', aggfunc='sum')\n",
    ")                \n",
    "\n",
    "tariff_smart_now.columns = ['sum_total']\n",
    "\n",
    "# сделаем таблицу с интересующими нас значениями для пользователей тарифа 'ultra'\n",
    "tariff_ultra_now = (group_all\n",
    "     .query('tariff == \"ultra\"')\n",
    "     .pivot_table(index=['user_id', 'month'], values='total', aggfunc='sum')\n",
    ")\n",
    "\n",
    "tariff_ultra_now.columns = ['sum_total']\n",
    "\n",
    "# считаем дисперсию по сумме затрат тарифа 'smart'\n",
    "print('Дисперсия по тарифу смарт:', np.var(tariff_smart_now['sum_total']))\n",
    "\n",
    "# считаем дисперсию по сумме затрат тарифа 'ultra'\n",
    "print('Дисперсия по тарифу ультра:', np.var(tariff_ultra_now['sum_total']))\n",
    "\n",
    "# принимаем критический уровень статистической значимости в 5%\n",
    "alpha=0.05\n",
    "\n",
    "# проверим, равны ли средние двух генеральных совокупностей\n",
    "results = st.ttest_ind(tariff_smart_now['sum_total'], tariff_ultra_now['sum_total'], equal_var= False) \n",
    "\n",
    "print('p-значение: ', results.pvalue)\n",
    "      \n",
    "if results.pvalue < alpha:\n",
    "    print(\"Отвергаем нулевую гипотезу\")\n",
    "else:\n",
    "    print(\"Не получилось отвергнуть нулевую гипотезу\")"
   ]
  },
  {
   "cell_type": "code",
   "execution_count": 47,
   "metadata": {
    "scrolled": true
   },
   "outputs": [
    {
     "data": {
      "text/plain": [
       "(351, 13)"
      ]
     },
     "execution_count": 47,
     "metadata": {},
     "output_type": "execute_result"
    }
   ],
   "source": [
    "group_all.loc[group_all['tariff'] == 'smart'].shape"
   ]
  },
  {
   "cell_type": "code",
   "execution_count": 48,
   "metadata": {
    "scrolled": true
   },
   "outputs": [
    {
     "data": {
      "text/plain": [
       "(2230, 31)"
      ]
     },
     "execution_count": 48,
     "metadata": {},
     "output_type": "execute_result"
    }
   ],
   "source": [
    "final_df_test.loc[final_df_test['tariff_test'] == 'smart'].shape"
   ]
  },
  {
   "cell_type": "markdown",
   "metadata": {},
   "source": [
    "Т.к., при проверке гипотезы о равенстве средних двух генеральлных совокупностей мы не подтвердили данную гипотезу, делаем вывод о том, что средняя выручка пользователей тарифов «Ультра» и «Смарт» различаются"
   ]
  },
  {
   "cell_type": "markdown",
   "metadata": {},
   "source": [
    "<a id=\"step_14\"></a> \n",
    "<b>4.2. средняя выручка пользователей из Москвы отличается от выручки пользователей из других регионов.</b>"
   ]
  },
  {
   "cell_type": "code",
   "execution_count": 49,
   "metadata": {},
   "outputs": [
    {
     "name": "stdout",
     "output_type": "stream",
     "text": [
      "Дисперсия по сумме затрат пользователей Москвовского региона: 110642.06225206907\n",
      "Дисперсия по сумме затрат пользователей остальных регионов: 84228.31742727962\n",
      "p-значение:  8.990067052355644e-05\n",
      "Отвергаем нулевую гипотезу\n"
     ]
    }
   ],
   "source": [
    "# сделаем таблицу с интересующими нас значениями для пользователей Москвовского региона\n",
    "moscow_users = (group_all\n",
    "     .query('city == \"Москва\"')\n",
    "     .pivot_table (index='month', values=('duration', 'message_date', 'mb_used', 'total'), aggfunc='mean')\n",
    ")\n",
    "\n",
    "moscow_users.columns = ['mean_duration', 'mean_messages', 'mean_internet', 'mean_total']\n",
    "\n",
    "# сделаем таблицу с интересующими нас значениями для пользователей остальных регионов\n",
    "other_users = (group_all\n",
    "     .query('city != \"Москва\"')\n",
    "     .pivot_table(index='month', values=('duration', 'message_date', 'mb_used', 'total'), aggfunc='mean')\n",
    ")\n",
    "\n",
    "other_users.columns = ['mean_duration', 'mean_messages', 'mean_internet', 'mean_total']\n",
    "\n",
    "# считаем дисперсию по сумме затрат пользователей Москвовского региона\n",
    "print('Дисперсия по сумме затрат пользователей Москвовского региона:', np.var(moscow_users['mean_total']))\n",
    "\n",
    "# считаем дисперсию по сумме затрат пользователей остальных регионов\n",
    "print('Дисперсия по сумме затрат пользователей остальных регионов:', np.var(other_users['mean_total']))\n",
    "\n",
    "# принимаем критический уровень статистической значимости в 5%\n",
    "alpha=0.05\n",
    "\n",
    "# проверим, равны ли средние двух генеральных совокупностей\n",
    "results = st.ttest_ind(moscow_users['mean_total'], other_users['mean_total'], equal_var=True) \n",
    "\n",
    "print('p-значение: ', results.pvalue)\n",
    "      \n",
    "if results.pvalue < alpha:\n",
    "    print(\"Отвергаем нулевую гипотезу\")\n",
    "else:\n",
    "    print(\"Не получилось отвергнуть нулевую гипотезу\")"
   ]
  },
  {
   "cell_type": "markdown",
   "metadata": {},
   "source": [
    "Т.к., при проверке гипотезы о равенстве средних двух генеральлных совокупностей мы не подтвердили данную гипотезу, делаем вывод о том, что средняя выручка пользователей Московского региона и пользователей остальных регионов различаются"
   ]
  },
  {
   "cell_type": "markdown",
   "metadata": {},
   "source": [
    "<a id=\"step_15\"></a> \n",
    "<b>4.3. Пояснение как я формулировал нулевую и альтернативную гипотезы.</b>"
   ]
  },
  {
   "cell_type": "markdown",
   "metadata": {},
   "source": [
    "При проверке гипотезы, что средняя выручка пользователей тарифов «Ультра» и «Смарт» различаются, принял за нулевую гипотезу, что средние двух генеральлных совокупностей равны.\n",
    "\n",
    "Получил отвержение данной гипотезы.\n",
    "\n",
    "В связи с этим сделан вывод о том, что средняя выручка пользователей тарифов «Ультра» и «Смарт» различаются.\n",
    "\n",
    "При проверке гипотезы значение equal_var присвоил равное 'False', т.к. диспервии сильно отличаются.\n",
    "\n",
    "При проверке гипотезы, что средняя выручка пользователей Московского региона и пользователей остальных регионов не различаются, принял за нулевую гипотезу, что средние двух генеральлных совокупностей равны.\n",
    "\n",
    "Получил отвержение данной гипотезы.\n",
    "\n",
    "В связи с этим сделан вывод о том, что средняя выручка пользователей Московского региона и пользователей остальных регионов различаются.\n",
    "\n",
    "При проверке гипотезы значение equal_var присвоил равное 'True', т.к. диспервии не сильно отличаются."
   ]
  },
  {
   "cell_type": "markdown",
   "metadata": {},
   "source": [
    "<a id=\"step_16\"></a> \n",
    "<b>4.4. Пояснение какой критерий использовали для проверки гипотез и почему.</b>"
   ]
  },
  {
   "cell_type": "markdown",
   "metadata": {},
   "source": [
    "При проверке гипотез мы использовали t-критерии Стьюдента, т.к. критерии значимости, которые служат для проверки гипотез о параметрах распределений (чаще всего нормального), а они у нас и имеют место быть"
   ]
  },
  {
   "cell_type": "markdown",
   "metadata": {},
   "source": [
    "<a id=\"step_17\"></a> \n",
    "<b>5.Общий вывод </b>"
   ]
  },
  {
   "cell_type": "markdown",
   "metadata": {},
   "source": [
    "В процессе выполнения данного проекта были выполнены следующие шаги:\n",
    "\n",
    "    - изучена общая информация о предоставленных для работы данных в файлах;\n",
    "    - приведены данные в файлах к нужным нам типам;\n",
    "    - посчитано для каждого пользователя количество сделанных звонков и израсходованных минут разговора по месяцам;\n",
    "    - посчитано для каждого пользователя количество отправленных сообщений по месяцам;\n",
    "    - посчитано для каждого пользователя объем израсходованного интернет-трафика по месяцам;\n",
    "    - посчитано для каждого пользователя помесячную выручку с каждого пользователя (вычтите бесплатный лимит из суммарного количества звонков, сообщений и интернет-трафика; остаток умножьте на значение из тарифного плана; прибавьте абонентскую плату, соответствующую тарифному плану);\n",
    "    - описаны поведения клиентов оператора, исходя из выборки. Сколько минут разговора, сколько сообщений и какой объём интернет-трафика требуется пользователям каждого тарифа в месяц? Посчитано среднее количество, дисперсию и стандартное отклонение. Построены гистограммы. Описаны распределения;\n",
    "    - проверена гипотеза о том, что средняя выручка пользователей тарифов «Ультра» и «Смарт» различаются;\n",
    "    - проверена гипотеза о том, что средняя выручка пользователей из Москвы отличается от выручки пользователей из других регионов.\n",
    "\n",
    "Из построенных гистограмм видно, что пользователи тарифа \"смарт\" используют больше минут разговоров, сообщений и интернет-траффика, чем пользователи тарифа \"ультра\" в каждом месяце (за некоторым исключением).\n",
    "\n",
    "Тариф \"smart\":\n",
    "Пользователи в среднем разговаривают около 100 минут в месяц, реже от 100 до 350 минут.\n",
    "Пользователи в среднем отправляют около 1 смс в месяц, реже от 1 до 15 смс.\n",
    "Пользователи в среднем используют около 10-12 Гб интернет-траффика в месяц.\n",
    "Пользователи в среднем тратят около 550-600 рублей в месяц.\n",
    "\n",
    "Тариф \"ultra\":\n",
    "Пользователи в среднем разговаривают около 1 минуты в месяц, реже от 1 до 100 минут.\n",
    "Пользователи в среднем отправляют от 1 до 10 смс в месяц, реже 20.\n",
    "Пользователи в среднем используют около 3 Гб интернет-траффика в месяц, реже 11 Гб.\n",
    "Пользователи в среднем тратят около 2 000 рублей в месяц\n",
    "\n",
    "Т.к., при проверке гипотезы о равенстве средних двух генеральлных совокупностей мы не подтвердили данную гипотезу, делаем вывод о том, что средняя выручка пользователей тарифов «Ультра» и «Смарт» различаются\n",
    "\n",
    "При проверке гипотезы значение equal_var присвоил равное 'False', т.к. диспервии сильно отличаются.\n",
    "\n",
    "Т.к., при проверке гипотезы о равенстве средних двух генеральлных совокупностей мы не подтвердили данную гипотезу, делаем вывод о том, что средняя выручка пользователей Московского региона и пользователей остальных регионов различаются\n",
    "регионов не различаются.\n",
    "\n",
    "При проверке гипотезы значение equal_var присвоил равное 'True', т.к. диспервии не сильно отличаются.\n",
    "\n",
    "При проверке гипотез мы использовали t-критерии Стьюдента, т.к. критерии значимости, которые служат для проверки гипотез о параметрах распределений (чаще всего нормального), а они у нас и имеют место быть"
   ]
  },
  {
   "cell_type": "code",
   "execution_count": null,
   "metadata": {},
   "outputs": [],
   "source": []
  }
 ],
 "metadata": {
  "ExecuteTimeLog": [
   {
    "duration": 5,
    "start_time": "2022-01-16T09:42:10.604Z"
   },
   {
    "duration": 5,
    "start_time": "2022-01-16T09:42:14.040Z"
   },
   {
    "duration": 4,
    "start_time": "2022-01-16T09:44:01.768Z"
   },
   {
    "duration": 129,
    "start_time": "2022-01-16T10:24:51.980Z"
   },
   {
    "duration": 1338,
    "start_time": "2022-01-16T10:30:44.417Z"
   },
   {
    "duration": 46,
    "start_time": "2022-01-16T10:39:45.870Z"
   },
   {
    "duration": 50,
    "start_time": "2022-01-16T10:40:22.461Z"
   },
   {
    "duration": 39,
    "start_time": "2022-01-16T11:26:33.586Z"
   },
   {
    "duration": 128,
    "start_time": "2022-01-16T11:28:32.591Z"
   },
   {
    "duration": 33,
    "start_time": "2022-01-16T11:29:02.247Z"
   },
   {
    "duration": 24,
    "start_time": "2022-01-16T11:30:42.558Z"
   },
   {
    "duration": 22,
    "start_time": "2022-01-16T11:33:14.033Z"
   },
   {
    "duration": 1419,
    "start_time": "2022-01-16T11:38:02.275Z"
   },
   {
    "duration": 76,
    "start_time": "2022-01-16T11:38:03.697Z"
   },
   {
    "duration": 101,
    "start_time": "2022-01-16T11:38:03.777Z"
   },
   {
    "duration": 123,
    "start_time": "2022-01-16T11:38:03.881Z"
   },
   {
    "duration": 82,
    "start_time": "2022-01-16T11:38:04.008Z"
   },
   {
    "duration": 41,
    "start_time": "2022-01-16T11:38:04.096Z"
   },
   {
    "duration": 407,
    "start_time": "2022-01-17T09:17:17.027Z"
   },
   {
    "duration": 1201,
    "start_time": "2022-01-17T09:17:59.640Z"
   },
   {
    "duration": 44,
    "start_time": "2022-01-17T09:18:00.843Z"
   },
   {
    "duration": 35,
    "start_time": "2022-01-17T09:18:00.890Z"
   },
   {
    "duration": 25,
    "start_time": "2022-01-17T09:18:00.928Z"
   },
   {
    "duration": 15,
    "start_time": "2022-01-17T09:18:00.955Z"
   },
   {
    "duration": 55,
    "start_time": "2022-01-17T09:18:00.973Z"
   },
   {
    "duration": 419,
    "start_time": "2022-01-17T09:18:01.030Z"
   },
   {
    "duration": 304,
    "start_time": "2022-01-17T09:19:30.657Z"
   },
   {
    "duration": 505,
    "start_time": "2022-01-17T09:21:57.955Z"
   },
   {
    "duration": 336,
    "start_time": "2022-01-17T09:22:02.676Z"
   },
   {
    "duration": 649,
    "start_time": "2022-01-17T09:22:47.624Z"
   },
   {
    "duration": 293,
    "start_time": "2022-01-17T09:23:24.877Z"
   },
   {
    "duration": 275,
    "start_time": "2022-01-17T09:23:45.999Z"
   },
   {
    "duration": 287,
    "start_time": "2022-01-17T09:24:16.064Z"
   },
   {
    "duration": 315,
    "start_time": "2022-01-17T09:31:53.904Z"
   },
   {
    "duration": 292,
    "start_time": "2022-01-17T09:32:41.936Z"
   },
   {
    "duration": 159,
    "start_time": "2022-01-17T09:34:40.946Z"
   },
   {
    "duration": 1155,
    "start_time": "2022-01-17T09:35:38.267Z"
   },
   {
    "duration": 45,
    "start_time": "2022-01-17T09:35:39.425Z"
   },
   {
    "duration": 53,
    "start_time": "2022-01-17T09:35:39.473Z"
   },
   {
    "duration": 26,
    "start_time": "2022-01-17T09:35:39.529Z"
   },
   {
    "duration": 16,
    "start_time": "2022-01-17T09:35:39.558Z"
   },
   {
    "duration": 53,
    "start_time": "2022-01-17T09:35:39.576Z"
   },
   {
    "duration": 403,
    "start_time": "2022-01-17T09:35:39.631Z"
   },
   {
    "duration": 357,
    "start_time": "2022-01-17T09:36:14.547Z"
   },
   {
    "duration": 275,
    "start_time": "2022-01-17T09:36:21.511Z"
   },
   {
    "duration": 498,
    "start_time": "2022-01-17T09:36:53.840Z"
   },
   {
    "duration": 341,
    "start_time": "2022-01-17T10:15:29.275Z"
   },
   {
    "duration": 4672,
    "start_time": "2022-01-17T10:16:35.591Z"
   },
   {
    "duration": 2029,
    "start_time": "2022-01-17T10:17:09.146Z"
   },
   {
    "duration": 1205,
    "start_time": "2022-01-17T10:17:34.012Z"
   },
   {
    "duration": 49,
    "start_time": "2022-01-17T10:17:35.220Z"
   },
   {
    "duration": 32,
    "start_time": "2022-01-17T10:17:35.271Z"
   },
   {
    "duration": 42,
    "start_time": "2022-01-17T10:17:35.306Z"
   },
   {
    "duration": 18,
    "start_time": "2022-01-17T10:17:35.351Z"
   },
   {
    "duration": 65,
    "start_time": "2022-01-17T10:17:35.372Z"
   },
   {
    "duration": 2028,
    "start_time": "2022-01-17T10:17:35.440Z"
   },
   {
    "duration": 287,
    "start_time": "2022-01-17T10:18:02.284Z"
   },
   {
    "duration": 3207,
    "start_time": "2022-01-17T10:21:59.071Z"
   },
   {
    "duration": 2017,
    "start_time": "2022-01-17T10:23:48.146Z"
   },
   {
    "duration": 2108,
    "start_time": "2022-01-17T10:26:23.985Z"
   },
   {
    "duration": 329,
    "start_time": "2022-01-17T10:27:10.694Z"
   },
   {
    "duration": 199,
    "start_time": "2022-01-17T10:28:36.399Z"
   },
   {
    "duration": 2334,
    "start_time": "2022-01-17T10:28:45.642Z"
   },
   {
    "duration": 286,
    "start_time": "2022-01-17T10:30:04.638Z"
   },
   {
    "duration": 1872,
    "start_time": "2022-01-17T10:30:16.711Z"
   },
   {
    "duration": 98,
    "start_time": "2022-01-17T10:41:28.131Z"
   },
   {
    "duration": 348,
    "start_time": "2022-01-17T10:41:41.703Z"
   },
   {
    "duration": 1956,
    "start_time": "2022-01-17T10:43:13.803Z"
   },
   {
    "duration": 155,
    "start_time": "2022-01-17T11:00:52.238Z"
   },
   {
    "duration": 148,
    "start_time": "2022-01-17T11:01:06.621Z"
   },
   {
    "duration": 50,
    "start_time": "2022-01-17T11:02:38.604Z"
   },
   {
    "duration": 43,
    "start_time": "2022-01-17T11:03:02.990Z"
   },
   {
    "duration": 147,
    "start_time": "2022-01-17T11:11:37.160Z"
   },
   {
    "duration": 3,
    "start_time": "2022-01-17T11:48:35.124Z"
   },
   {
    "duration": 416,
    "start_time": "2022-01-17T12:05:27.266Z"
   },
   {
    "duration": 24,
    "start_time": "2022-01-17T12:05:54.054Z"
   },
   {
    "duration": 21,
    "start_time": "2022-01-17T12:06:11.885Z"
   },
   {
    "duration": 906,
    "start_time": "2022-01-17T12:08:23.651Z"
   },
   {
    "duration": 37,
    "start_time": "2022-01-17T12:08:37.228Z"
   },
   {
    "duration": 65,
    "start_time": "2022-01-17T12:09:57.476Z"
   },
   {
    "duration": 72,
    "start_time": "2022-01-17T12:11:35.220Z"
   },
   {
    "duration": 67,
    "start_time": "2022-01-17T12:26:46.630Z"
   },
   {
    "duration": 31,
    "start_time": "2022-01-17T12:29:58.412Z"
   },
   {
    "duration": 319,
    "start_time": "2022-01-17T12:30:55.884Z"
   },
   {
    "duration": 39,
    "start_time": "2022-01-17T12:31:03.278Z"
   },
   {
    "duration": 50,
    "start_time": "2022-01-17T12:31:35.044Z"
   },
   {
    "duration": 1192,
    "start_time": "2022-01-17T12:36:50.135Z"
   },
   {
    "duration": 47,
    "start_time": "2022-01-17T12:36:51.330Z"
   },
   {
    "duration": 52,
    "start_time": "2022-01-17T12:36:51.380Z"
   },
   {
    "duration": 26,
    "start_time": "2022-01-17T12:36:51.434Z"
   },
   {
    "duration": 16,
    "start_time": "2022-01-17T12:36:51.462Z"
   },
   {
    "duration": 21,
    "start_time": "2022-01-17T12:36:51.524Z"
   },
   {
    "duration": 547,
    "start_time": "2022-01-17T12:36:51.547Z"
   },
   {
    "duration": 81,
    "start_time": "2022-01-17T12:36:52.016Z"
   },
   {
    "duration": 82,
    "start_time": "2022-01-17T12:36:52.017Z"
   },
   {
    "duration": 80,
    "start_time": "2022-01-17T12:36:52.020Z"
   },
   {
    "duration": 79,
    "start_time": "2022-01-17T12:36:52.022Z"
   },
   {
    "duration": 79,
    "start_time": "2022-01-17T12:36:52.024Z"
   },
   {
    "duration": 76,
    "start_time": "2022-01-17T12:36:52.029Z"
   },
   {
    "duration": 296,
    "start_time": "2022-01-17T12:37:38.579Z"
   },
   {
    "duration": 313,
    "start_time": "2022-01-17T12:37:52.083Z"
   },
   {
    "duration": 293,
    "start_time": "2022-01-17T12:38:00.975Z"
   },
   {
    "duration": 169,
    "start_time": "2022-01-17T12:40:59.279Z"
   },
   {
    "duration": 50,
    "start_time": "2022-01-17T12:41:04.479Z"
   },
   {
    "duration": 43,
    "start_time": "2022-01-17T12:41:05.177Z"
   },
   {
    "duration": 3,
    "start_time": "2022-01-17T12:41:05.714Z"
   },
   {
    "duration": 71,
    "start_time": "2022-01-17T12:41:08.494Z"
   },
   {
    "duration": 31,
    "start_time": "2022-01-17T12:41:11.425Z"
   },
   {
    "duration": 37,
    "start_time": "2022-01-17T12:41:13.646Z"
   },
   {
    "duration": 34,
    "start_time": "2022-01-17T12:45:32.483Z"
   },
   {
    "duration": 39,
    "start_time": "2022-01-17T12:45:54.571Z"
   },
   {
    "duration": 275,
    "start_time": "2022-01-17T12:46:03.705Z"
   },
   {
    "duration": 311,
    "start_time": "2022-01-17T12:47:43.685Z"
   },
   {
    "duration": 1362,
    "start_time": "2022-01-17T12:48:26.312Z"
   },
   {
    "duration": 53,
    "start_time": "2022-01-17T12:48:27.676Z"
   },
   {
    "duration": 36,
    "start_time": "2022-01-17T12:48:27.732Z"
   },
   {
    "duration": 65,
    "start_time": "2022-01-17T12:48:27.772Z"
   },
   {
    "duration": 19,
    "start_time": "2022-01-17T12:48:27.839Z"
   },
   {
    "duration": 29,
    "start_time": "2022-01-17T12:48:27.861Z"
   },
   {
    "duration": 252,
    "start_time": "2022-01-17T12:48:27.925Z"
   },
   {
    "duration": 80,
    "start_time": "2022-01-17T12:48:28.181Z"
   },
   {
    "duration": 59,
    "start_time": "2022-01-17T12:48:28.265Z"
   },
   {
    "duration": 4,
    "start_time": "2022-01-17T12:48:28.327Z"
   },
   {
    "duration": 114,
    "start_time": "2022-01-17T12:48:28.334Z"
   },
   {
    "duration": 34,
    "start_time": "2022-01-17T12:48:28.451Z"
   },
   {
    "duration": 70,
    "start_time": "2022-01-17T12:48:28.488Z"
   },
   {
    "duration": 39,
    "start_time": "2022-01-17T12:48:28.561Z"
   },
   {
    "duration": 1181,
    "start_time": "2022-01-17T13:09:39.375Z"
   },
   {
    "duration": 46,
    "start_time": "2022-01-17T13:09:41.633Z"
   },
   {
    "duration": 32,
    "start_time": "2022-01-17T13:09:44.534Z"
   },
   {
    "duration": 27,
    "start_time": "2022-01-17T13:09:50.469Z"
   },
   {
    "duration": 449,
    "start_time": "2022-01-17T13:10:00.588Z"
   },
   {
    "duration": 481,
    "start_time": "2022-01-17T13:14:58.868Z"
   },
   {
    "duration": 67,
    "start_time": "2022-01-17T13:15:06.009Z"
   },
   {
    "duration": 1230,
    "start_time": "2022-01-17T13:16:42.323Z"
   },
   {
    "duration": 43,
    "start_time": "2022-01-17T13:16:43.556Z"
   },
   {
    "duration": 31,
    "start_time": "2022-01-17T13:16:43.602Z"
   },
   {
    "duration": 25,
    "start_time": "2022-01-17T13:16:43.636Z"
   },
   {
    "duration": 17,
    "start_time": "2022-01-17T13:16:43.664Z"
   },
   {
    "duration": 54,
    "start_time": "2022-01-17T13:16:43.683Z"
   },
   {
    "duration": 84,
    "start_time": "2022-01-17T13:16:43.739Z"
   },
   {
    "duration": 50,
    "start_time": "2022-01-17T13:16:43.827Z"
   },
   {
    "duration": 65,
    "start_time": "2022-01-17T13:16:43.880Z"
   },
   {
    "duration": 3,
    "start_time": "2022-01-17T13:16:43.947Z"
   },
   {
    "duration": 93,
    "start_time": "2022-01-17T13:16:43.952Z"
   },
   {
    "duration": 30,
    "start_time": "2022-01-17T13:16:44.047Z"
   },
   {
    "duration": 60,
    "start_time": "2022-01-17T13:16:44.079Z"
   },
   {
    "duration": 39,
    "start_time": "2022-01-17T13:16:44.142Z"
   },
   {
    "duration": 424,
    "start_time": "2022-01-17T13:42:44.993Z"
   },
   {
    "duration": 1238,
    "start_time": "2022-01-17T13:43:20.276Z"
   },
   {
    "duration": 110,
    "start_time": "2022-01-17T13:43:53.288Z"
   },
   {
    "duration": 111,
    "start_time": "2022-01-17T13:46:02.842Z"
   },
   {
    "duration": 51,
    "start_time": "2022-01-17T13:47:04.669Z"
   },
   {
    "duration": 51,
    "start_time": "2022-01-17T13:47:54.747Z"
   },
   {
    "duration": 1305,
    "start_time": "2022-01-17T13:50:12.755Z"
   },
   {
    "duration": 46,
    "start_time": "2022-01-17T13:50:14.063Z"
   },
   {
    "duration": 31,
    "start_time": "2022-01-17T13:50:14.115Z"
   },
   {
    "duration": 44,
    "start_time": "2022-01-17T13:50:14.148Z"
   },
   {
    "duration": 16,
    "start_time": "2022-01-17T13:50:14.195Z"
   },
   {
    "duration": 36,
    "start_time": "2022-01-17T13:50:14.223Z"
   },
   {
    "duration": 91,
    "start_time": "2022-01-17T13:50:14.263Z"
   },
   {
    "duration": 53,
    "start_time": "2022-01-17T13:50:14.356Z"
   },
   {
    "duration": 45,
    "start_time": "2022-01-17T13:50:14.424Z"
   },
   {
    "duration": 3,
    "start_time": "2022-01-17T13:50:14.472Z"
   },
   {
    "duration": 145,
    "start_time": "2022-01-17T13:50:14.478Z"
   },
   {
    "duration": 398,
    "start_time": "2022-01-17T13:50:14.625Z"
   },
   {
    "duration": 83,
    "start_time": "2022-01-17T13:50:14.942Z"
   },
   {
    "duration": 48,
    "start_time": "2022-01-17T13:50:34.098Z"
   },
   {
    "duration": 53,
    "start_time": "2022-01-17T13:50:37.941Z"
   },
   {
    "duration": 68,
    "start_time": "2022-01-17T13:54:36.866Z"
   },
   {
    "duration": 35,
    "start_time": "2022-01-17T13:55:09.708Z"
   },
   {
    "duration": 33,
    "start_time": "2022-01-17T13:55:34.600Z"
   },
   {
    "duration": 31,
    "start_time": "2022-01-17T13:57:19.724Z"
   },
   {
    "duration": 52,
    "start_time": "2022-01-17T13:57:47.282Z"
   },
   {
    "duration": 1573,
    "start_time": "2022-01-17T13:59:36.498Z"
   },
   {
    "duration": 76,
    "start_time": "2022-01-17T13:59:38.074Z"
   },
   {
    "duration": 254,
    "start_time": "2022-01-17T13:59:38.155Z"
   },
   {
    "duration": 179,
    "start_time": "2022-01-17T13:59:38.415Z"
   },
   {
    "duration": 214,
    "start_time": "2022-01-17T13:59:38.598Z"
   },
   {
    "duration": 180,
    "start_time": "2022-01-17T13:59:38.815Z"
   },
   {
    "duration": 205,
    "start_time": "2022-01-17T13:59:38.997Z"
   },
   {
    "duration": 165,
    "start_time": "2022-01-17T13:59:39.205Z"
   },
   {
    "duration": 151,
    "start_time": "2022-01-17T13:59:39.373Z"
   },
   {
    "duration": 268,
    "start_time": "2022-01-17T13:59:39.527Z"
   },
   {
    "duration": 281,
    "start_time": "2022-01-17T13:59:39.797Z"
   },
   {
    "duration": 149,
    "start_time": "2022-01-17T13:59:40.080Z"
   },
   {
    "duration": 206,
    "start_time": "2022-01-17T13:59:40.232Z"
   },
   {
    "duration": 196,
    "start_time": "2022-01-17T13:59:40.440Z"
   },
   {
    "duration": 1390,
    "start_time": "2022-01-17T14:24:31.709Z"
   },
   {
    "duration": 47,
    "start_time": "2022-01-17T14:24:33.102Z"
   },
   {
    "duration": 212,
    "start_time": "2022-01-17T14:24:33.152Z"
   },
   {
    "duration": 193,
    "start_time": "2022-01-17T14:24:33.367Z"
   },
   {
    "duration": 233,
    "start_time": "2022-01-17T14:24:33.562Z"
   },
   {
    "duration": 224,
    "start_time": "2022-01-17T14:24:33.799Z"
   },
   {
    "duration": 274,
    "start_time": "2022-01-17T14:24:34.025Z"
   },
   {
    "duration": 267,
    "start_time": "2022-01-17T14:24:34.304Z"
   },
   {
    "duration": 196,
    "start_time": "2022-01-17T14:24:34.574Z"
   },
   {
    "duration": 132,
    "start_time": "2022-01-17T14:24:34.773Z"
   },
   {
    "duration": 258,
    "start_time": "2022-01-17T14:24:34.907Z"
   },
   {
    "duration": 241,
    "start_time": "2022-01-17T14:24:35.168Z"
   },
   {
    "duration": 204,
    "start_time": "2022-01-17T14:24:35.411Z"
   },
   {
    "duration": 184,
    "start_time": "2022-01-17T14:24:35.618Z"
   },
   {
    "duration": 7618,
    "start_time": "2022-01-17T14:33:21.592Z"
   },
   {
    "duration": 55,
    "start_time": "2022-01-17T14:34:06.525Z"
   },
   {
    "duration": 48,
    "start_time": "2022-01-17T14:34:13.478Z"
   },
   {
    "duration": 1407,
    "start_time": "2022-01-17T14:34:31.074Z"
   },
   {
    "duration": 47,
    "start_time": "2022-01-17T14:34:32.484Z"
   },
   {
    "duration": 195,
    "start_time": "2022-01-17T14:34:32.535Z"
   },
   {
    "duration": 384,
    "start_time": "2022-01-17T14:34:32.733Z"
   },
   {
    "duration": 385,
    "start_time": "2022-01-17T14:34:33.120Z"
   },
   {
    "duration": 335,
    "start_time": "2022-01-17T14:34:33.507Z"
   },
   {
    "duration": 288,
    "start_time": "2022-01-17T14:34:33.845Z"
   },
   {
    "duration": 431,
    "start_time": "2022-01-17T14:34:34.135Z"
   },
   {
    "duration": 307,
    "start_time": "2022-01-17T14:34:34.571Z"
   },
   {
    "duration": 295,
    "start_time": "2022-01-17T14:34:34.882Z"
   },
   {
    "duration": 289,
    "start_time": "2022-01-17T14:34:35.180Z"
   },
   {
    "duration": 392,
    "start_time": "2022-01-17T14:34:35.472Z"
   },
   {
    "duration": 374,
    "start_time": "2022-01-17T14:34:35.866Z"
   },
   {
    "duration": 768,
    "start_time": "2022-01-17T14:34:36.243Z"
   },
   {
    "duration": 80,
    "start_time": "2022-01-17T14:34:36.935Z"
   },
   {
    "duration": 49,
    "start_time": "2022-01-17T14:34:53.408Z"
   },
   {
    "duration": 8423,
    "start_time": "2022-01-17T14:35:16.063Z"
   },
   {
    "duration": 8068,
    "start_time": "2022-01-17T14:35:48.610Z"
   },
   {
    "duration": 8663,
    "start_time": "2022-01-17T14:39:30.048Z"
   },
   {
    "duration": 31,
    "start_time": "2022-01-17T18:10:23.810Z"
   },
   {
    "duration": 23,
    "start_time": "2022-01-17T18:11:23.441Z"
   },
   {
    "duration": 27,
    "start_time": "2022-01-17T18:12:47.072Z"
   },
   {
    "duration": 1217,
    "start_time": "2022-01-17T18:14:39.621Z"
   },
   {
    "duration": 48,
    "start_time": "2022-01-17T18:14:40.841Z"
   },
   {
    "duration": 43,
    "start_time": "2022-01-17T18:14:40.892Z"
   },
   {
    "duration": 27,
    "start_time": "2022-01-17T18:14:40.938Z"
   },
   {
    "duration": 56,
    "start_time": "2022-01-17T18:14:40.968Z"
   },
   {
    "duration": 21,
    "start_time": "2022-01-17T18:14:41.027Z"
   },
   {
    "duration": 110,
    "start_time": "2022-01-17T18:14:41.050Z"
   },
   {
    "duration": 67,
    "start_time": "2022-01-17T18:14:41.164Z"
   },
   {
    "duration": 46,
    "start_time": "2022-01-17T18:14:41.233Z"
   },
   {
    "duration": 4,
    "start_time": "2022-01-17T18:14:41.281Z"
   },
   {
    "duration": 81,
    "start_time": "2022-01-17T18:14:41.288Z"
   },
   {
    "duration": 24,
    "start_time": "2022-01-17T18:14:41.372Z"
   },
   {
    "duration": 54,
    "start_time": "2022-01-17T18:14:41.398Z"
   },
   {
    "duration": 32,
    "start_time": "2022-01-17T18:14:41.454Z"
   },
   {
    "duration": 12,
    "start_time": "2022-01-17T18:16:24.675Z"
   },
   {
    "duration": 14,
    "start_time": "2022-01-17T18:18:17.586Z"
   },
   {
    "duration": 452,
    "start_time": "2022-01-17T18:20:29.137Z"
   },
   {
    "duration": 1220,
    "start_time": "2022-01-17T18:21:06.840Z"
   },
   {
    "duration": 55,
    "start_time": "2022-01-17T18:21:08.063Z"
   },
   {
    "duration": 32,
    "start_time": "2022-01-17T18:21:08.121Z"
   },
   {
    "duration": 26,
    "start_time": "2022-01-17T18:21:08.156Z"
   },
   {
    "duration": 53,
    "start_time": "2022-01-17T18:21:08.184Z"
   },
   {
    "duration": 22,
    "start_time": "2022-01-17T18:21:08.239Z"
   },
   {
    "duration": 111,
    "start_time": "2022-01-17T18:21:08.263Z"
   },
   {
    "duration": 73,
    "start_time": "2022-01-17T18:21:08.378Z"
   },
   {
    "duration": 45,
    "start_time": "2022-01-17T18:21:08.454Z"
   },
   {
    "duration": 27,
    "start_time": "2022-01-17T18:21:08.502Z"
   },
   {
    "duration": 43,
    "start_time": "2022-01-17T18:21:08.531Z"
   },
   {
    "duration": 51,
    "start_time": "2022-01-17T18:21:08.576Z"
   },
   {
    "duration": 32,
    "start_time": "2022-01-17T18:21:08.630Z"
   },
   {
    "duration": 25,
    "start_time": "2022-01-17T18:21:08.664Z"
   },
   {
    "duration": 420,
    "start_time": "2022-01-17T18:21:08.691Z"
   },
   {
    "duration": 41,
    "start_time": "2022-01-17T18:23:39.605Z"
   },
   {
    "duration": 1365,
    "start_time": "2022-01-17T18:24:03.304Z"
   },
   {
    "duration": 45,
    "start_time": "2022-01-17T18:24:04.672Z"
   },
   {
    "duration": 34,
    "start_time": "2022-01-17T18:24:04.722Z"
   },
   {
    "duration": 63,
    "start_time": "2022-01-17T18:24:04.760Z"
   },
   {
    "duration": 17,
    "start_time": "2022-01-17T18:24:04.826Z"
   },
   {
    "duration": 26,
    "start_time": "2022-01-17T18:24:04.845Z"
   },
   {
    "duration": 114,
    "start_time": "2022-01-17T18:24:04.875Z"
   },
   {
    "duration": 65,
    "start_time": "2022-01-17T18:24:04.993Z"
   },
   {
    "duration": 62,
    "start_time": "2022-01-17T18:24:05.061Z"
   },
   {
    "duration": 13,
    "start_time": "2022-01-17T18:24:05.126Z"
   },
   {
    "duration": 46,
    "start_time": "2022-01-17T18:24:05.142Z"
   },
   {
    "duration": 52,
    "start_time": "2022-01-17T18:24:05.191Z"
   },
   {
    "duration": 33,
    "start_time": "2022-01-17T18:24:05.245Z"
   },
   {
    "duration": 65,
    "start_time": "2022-01-17T18:24:05.281Z"
   },
   {
    "duration": 396,
    "start_time": "2022-01-17T18:24:05.348Z"
   },
   {
    "duration": 43,
    "start_time": "2022-01-17T18:27:01.547Z"
   },
   {
    "duration": 33,
    "start_time": "2022-01-17T18:27:16.067Z"
   },
   {
    "duration": 36,
    "start_time": "2022-01-17T18:27:34.563Z"
   },
   {
    "duration": 308,
    "start_time": "2022-01-17T18:27:44.554Z"
   },
   {
    "duration": 1485,
    "start_time": "2022-01-17T18:29:37.230Z"
   },
   {
    "duration": 47,
    "start_time": "2022-01-17T18:29:38.718Z"
   },
   {
    "duration": 55,
    "start_time": "2022-01-17T18:29:38.770Z"
   },
   {
    "duration": 28,
    "start_time": "2022-01-17T18:29:38.829Z"
   },
   {
    "duration": 72,
    "start_time": "2022-01-17T18:29:38.860Z"
   },
   {
    "duration": 34,
    "start_time": "2022-01-17T18:29:38.936Z"
   },
   {
    "duration": 121,
    "start_time": "2022-01-17T18:29:38.973Z"
   },
   {
    "duration": 72,
    "start_time": "2022-01-17T18:29:39.099Z"
   },
   {
    "duration": 68,
    "start_time": "2022-01-17T18:29:39.174Z"
   },
   {
    "duration": 11,
    "start_time": "2022-01-17T18:29:39.245Z"
   },
   {
    "duration": 102,
    "start_time": "2022-01-17T18:29:39.259Z"
   },
   {
    "duration": 59,
    "start_time": "2022-01-17T18:29:39.364Z"
   },
   {
    "duration": 44,
    "start_time": "2022-01-17T18:29:39.426Z"
   },
   {
    "duration": 62,
    "start_time": "2022-01-17T18:29:39.473Z"
   },
   {
    "duration": 40,
    "start_time": "2022-01-17T18:29:39.538Z"
   },
   {
    "duration": 438,
    "start_time": "2022-01-17T18:32:11.746Z"
   },
   {
    "duration": 1310,
    "start_time": "2022-01-17T18:32:30.517Z"
   },
   {
    "duration": 53,
    "start_time": "2022-01-17T18:32:31.830Z"
   },
   {
    "duration": 63,
    "start_time": "2022-01-17T18:32:31.890Z"
   },
   {
    "duration": 30,
    "start_time": "2022-01-17T18:32:31.956Z"
   },
   {
    "duration": 20,
    "start_time": "2022-01-17T18:32:32.025Z"
   },
   {
    "duration": 25,
    "start_time": "2022-01-17T18:32:32.047Z"
   },
   {
    "duration": 118,
    "start_time": "2022-01-17T18:32:32.076Z"
   },
   {
    "duration": 78,
    "start_time": "2022-01-17T18:32:32.197Z"
   },
   {
    "duration": 65,
    "start_time": "2022-01-17T18:32:32.278Z"
   },
   {
    "duration": 12,
    "start_time": "2022-01-17T18:32:32.346Z"
   },
   {
    "duration": 80,
    "start_time": "2022-01-17T18:32:32.361Z"
   },
   {
    "duration": 25,
    "start_time": "2022-01-17T18:32:32.445Z"
   },
   {
    "duration": 63,
    "start_time": "2022-01-17T18:32:32.472Z"
   },
   {
    "duration": 447,
    "start_time": "2022-01-17T18:32:32.538Z"
   },
   {
    "duration": -2563,
    "start_time": "2022-01-17T18:32:35.551Z"
   },
   {
    "duration": 38,
    "start_time": "2022-01-17T18:32:54.772Z"
   },
   {
    "duration": 53,
    "start_time": "2022-01-17T18:34:58.980Z"
   },
   {
    "duration": 8,
    "start_time": "2022-01-17T18:41:05.059Z"
   },
   {
    "duration": 13,
    "start_time": "2022-01-17T18:52:09.376Z"
   },
   {
    "duration": 7990,
    "start_time": "2022-01-17T18:52:11.182Z"
   },
   {
    "duration": 7,
    "start_time": "2022-01-17T18:53:12.007Z"
   },
   {
    "duration": 850,
    "start_time": "2022-01-17T18:53:13.542Z"
   },
   {
    "duration": 8,
    "start_time": "2022-01-17T18:53:31.766Z"
   },
   {
    "duration": 145,
    "start_time": "2022-01-17T18:53:33.150Z"
   },
   {
    "duration": 1201,
    "start_time": "2022-01-17T18:55:38.667Z"
   },
   {
    "duration": 45,
    "start_time": "2022-01-17T18:55:39.871Z"
   },
   {
    "duration": 37,
    "start_time": "2022-01-17T18:55:39.928Z"
   },
   {
    "duration": 63,
    "start_time": "2022-01-17T18:55:39.968Z"
   },
   {
    "duration": 18,
    "start_time": "2022-01-17T18:55:40.034Z"
   },
   {
    "duration": 23,
    "start_time": "2022-01-17T18:55:40.056Z"
   },
   {
    "duration": 99,
    "start_time": "2022-01-17T18:55:40.124Z"
   },
   {
    "duration": 55,
    "start_time": "2022-01-17T18:55:40.226Z"
   },
   {
    "duration": 69,
    "start_time": "2022-01-17T18:55:40.283Z"
   },
   {
    "duration": 11,
    "start_time": "2022-01-17T18:55:40.354Z"
   },
   {
    "duration": 70,
    "start_time": "2022-01-17T18:55:40.368Z"
   },
   {
    "duration": 28,
    "start_time": "2022-01-17T18:55:40.441Z"
   },
   {
    "duration": 62,
    "start_time": "2022-01-17T18:55:40.471Z"
   },
   {
    "duration": 53,
    "start_time": "2022-01-17T18:55:40.536Z"
   },
   {
    "duration": 8,
    "start_time": "2022-01-17T18:55:40.591Z"
   },
   {
    "duration": 150,
    "start_time": "2022-01-17T18:55:40.600Z"
   },
   {
    "duration": 1206,
    "start_time": "2022-01-17T19:00:55.353Z"
   },
   {
    "duration": 47,
    "start_time": "2022-01-17T19:00:56.563Z"
   },
   {
    "duration": 32,
    "start_time": "2022-01-17T19:00:56.615Z"
   },
   {
    "duration": 24,
    "start_time": "2022-01-17T19:00:56.650Z"
   },
   {
    "duration": 49,
    "start_time": "2022-01-17T19:00:56.676Z"
   },
   {
    "duration": 31,
    "start_time": "2022-01-17T19:00:56.727Z"
   },
   {
    "duration": 106,
    "start_time": "2022-01-17T19:00:56.760Z"
   },
   {
    "duration": 67,
    "start_time": "2022-01-17T19:00:56.871Z"
   },
   {
    "duration": 44,
    "start_time": "2022-01-17T19:00:56.941Z"
   },
   {
    "duration": 11,
    "start_time": "2022-01-17T19:00:56.987Z"
   },
   {
    "duration": 40,
    "start_time": "2022-01-17T19:00:57.024Z"
   },
   {
    "duration": 24,
    "start_time": "2022-01-17T19:00:57.066Z"
   },
   {
    "duration": 61,
    "start_time": "2022-01-17T19:00:57.092Z"
   },
   {
    "duration": 70,
    "start_time": "2022-01-17T19:00:57.155Z"
   },
   {
    "duration": 8,
    "start_time": "2022-01-17T19:00:57.228Z"
   },
   {
    "duration": 126,
    "start_time": "2022-01-17T19:00:57.238Z"
   },
   {
    "duration": 105,
    "start_time": "2022-01-17T19:04:16.312Z"
   },
   {
    "duration": 1208,
    "start_time": "2022-01-18T06:07:09.925Z"
   },
   {
    "duration": 46,
    "start_time": "2022-01-18T06:07:11.136Z"
   },
   {
    "duration": 44,
    "start_time": "2022-01-18T06:07:11.186Z"
   },
   {
    "duration": 24,
    "start_time": "2022-01-18T06:07:11.233Z"
   },
   {
    "duration": 17,
    "start_time": "2022-01-18T06:07:11.259Z"
   },
   {
    "duration": 54,
    "start_time": "2022-01-18T06:07:11.278Z"
   },
   {
    "duration": 131,
    "start_time": "2022-01-18T06:07:11.335Z"
   },
   {
    "duration": 83,
    "start_time": "2022-01-18T06:07:11.469Z"
   },
   {
    "duration": 67,
    "start_time": "2022-01-18T06:07:11.557Z"
   },
   {
    "duration": 15,
    "start_time": "2022-01-18T06:07:11.628Z"
   },
   {
    "duration": 41,
    "start_time": "2022-01-18T06:07:11.645Z"
   },
   {
    "duration": 45,
    "start_time": "2022-01-18T06:07:11.688Z"
   },
   {
    "duration": 29,
    "start_time": "2022-01-18T06:07:11.736Z"
   },
   {
    "duration": 69,
    "start_time": "2022-01-18T06:07:11.767Z"
   },
   {
    "duration": 7,
    "start_time": "2022-01-18T06:07:11.838Z"
   },
   {
    "duration": 117,
    "start_time": "2022-01-18T06:07:11.848Z"
   },
   {
    "duration": 79,
    "start_time": "2022-01-18T06:17:01.696Z"
   },
   {
    "duration": 71,
    "start_time": "2022-01-18T06:19:41.861Z"
   },
   {
    "duration": 877,
    "start_time": "2022-01-18T06:23:34.936Z"
   },
   {
    "duration": 827,
    "start_time": "2022-01-18T06:23:50.828Z"
   },
   {
    "duration": 532,
    "start_time": "2022-01-18T06:26:00.686Z"
   },
   {
    "duration": 781,
    "start_time": "2022-01-18T06:26:22.852Z"
   },
   {
    "duration": 786,
    "start_time": "2022-01-18T06:26:46.998Z"
   },
   {
    "duration": 432,
    "start_time": "2022-01-18T06:27:34.538Z"
   },
   {
    "duration": 463,
    "start_time": "2022-01-18T06:28:23.776Z"
   },
   {
    "duration": 1351,
    "start_time": "2022-01-18T06:29:01.663Z"
   },
   {
    "duration": 46,
    "start_time": "2022-01-18T06:29:03.017Z"
   },
   {
    "duration": 58,
    "start_time": "2022-01-18T06:29:03.067Z"
   },
   {
    "duration": 26,
    "start_time": "2022-01-18T06:29:03.127Z"
   },
   {
    "duration": 18,
    "start_time": "2022-01-18T06:29:03.156Z"
   },
   {
    "duration": 63,
    "start_time": "2022-01-18T06:29:03.176Z"
   },
   {
    "duration": 87,
    "start_time": "2022-01-18T06:29:03.242Z"
   },
   {
    "duration": 54,
    "start_time": "2022-01-18T06:29:03.333Z"
   },
   {
    "duration": 65,
    "start_time": "2022-01-18T06:29:03.390Z"
   },
   {
    "duration": 10,
    "start_time": "2022-01-18T06:29:03.457Z"
   },
   {
    "duration": 54,
    "start_time": "2022-01-18T06:29:03.469Z"
   },
   {
    "duration": 25,
    "start_time": "2022-01-18T06:29:03.525Z"
   },
   {
    "duration": 31,
    "start_time": "2022-01-18T06:29:03.552Z"
   },
   {
    "duration": 72,
    "start_time": "2022-01-18T06:29:03.586Z"
   },
   {
    "duration": 7,
    "start_time": "2022-01-18T06:29:03.661Z"
   },
   {
    "duration": 133,
    "start_time": "2022-01-18T06:29:03.671Z"
   },
   {
    "duration": 53,
    "start_time": "2022-01-18T06:29:03.806Z"
   },
   {
    "duration": 562,
    "start_time": "2022-01-18T06:29:03.861Z"
   },
   {
    "duration": 478,
    "start_time": "2022-01-18T06:46:51.255Z"
   },
   {
    "duration": 455,
    "start_time": "2022-01-18T06:47:58.128Z"
   },
   {
    "duration": 99,
    "start_time": "2022-01-18T07:14:31.989Z"
   },
   {
    "duration": 1272,
    "start_time": "2022-01-18T07:15:31.447Z"
   },
   {
    "duration": 46,
    "start_time": "2022-01-18T07:15:32.722Z"
   },
   {
    "duration": 61,
    "start_time": "2022-01-18T07:15:32.771Z"
   },
   {
    "duration": 26,
    "start_time": "2022-01-18T07:15:32.834Z"
   },
   {
    "duration": 35,
    "start_time": "2022-01-18T07:15:32.863Z"
   },
   {
    "duration": 33,
    "start_time": "2022-01-18T07:15:32.925Z"
   },
   {
    "duration": 101,
    "start_time": "2022-01-18T07:15:32.961Z"
   },
   {
    "duration": 59,
    "start_time": "2022-01-18T07:15:33.066Z"
   },
   {
    "duration": 48,
    "start_time": "2022-01-18T07:15:33.128Z"
   },
   {
    "duration": 11,
    "start_time": "2022-01-18T07:15:33.179Z"
   },
   {
    "duration": 80,
    "start_time": "2022-01-18T07:15:33.194Z"
   },
   {
    "duration": 51,
    "start_time": "2022-01-18T07:15:33.277Z"
   },
   {
    "duration": 46,
    "start_time": "2022-01-18T07:15:33.331Z"
   },
   {
    "duration": 100,
    "start_time": "2022-01-18T07:15:33.380Z"
   },
   {
    "duration": 10,
    "start_time": "2022-01-18T07:15:33.483Z"
   },
   {
    "duration": 216,
    "start_time": "2022-01-18T07:15:33.496Z"
   },
   {
    "duration": 61,
    "start_time": "2022-01-18T07:15:33.715Z"
   },
   {
    "duration": 574,
    "start_time": "2022-01-18T07:15:33.779Z"
   },
   {
    "duration": 467,
    "start_time": "2022-01-18T07:15:34.356Z"
   },
   {
    "duration": 457,
    "start_time": "2022-01-18T07:15:34.825Z"
   },
   {
    "duration": 112,
    "start_time": "2022-01-18T07:15:35.285Z"
   },
   {
    "duration": 7291,
    "start_time": "2022-01-18T07:16:01.028Z"
   },
   {
    "duration": 100,
    "start_time": "2022-01-18T07:17:40.928Z"
   },
   {
    "duration": 1217,
    "start_time": "2022-01-18T07:18:45.049Z"
   },
   {
    "duration": 44,
    "start_time": "2022-01-18T07:18:46.269Z"
   },
   {
    "duration": 37,
    "start_time": "2022-01-18T07:18:46.316Z"
   },
   {
    "duration": 25,
    "start_time": "2022-01-18T07:18:46.355Z"
   },
   {
    "duration": 44,
    "start_time": "2022-01-18T07:18:46.382Z"
   },
   {
    "duration": 21,
    "start_time": "2022-01-18T07:18:46.429Z"
   },
   {
    "duration": 100,
    "start_time": "2022-01-18T07:18:46.452Z"
   },
   {
    "duration": 49,
    "start_time": "2022-01-18T07:18:46.554Z"
   },
   {
    "duration": 57,
    "start_time": "2022-01-18T07:18:46.607Z"
   },
   {
    "duration": 11,
    "start_time": "2022-01-18T07:18:46.667Z"
   },
   {
    "duration": 66,
    "start_time": "2022-01-18T07:18:46.680Z"
   },
   {
    "duration": 25,
    "start_time": "2022-01-18T07:18:46.749Z"
   },
   {
    "duration": 53,
    "start_time": "2022-01-18T07:18:46.776Z"
   },
   {
    "duration": 53,
    "start_time": "2022-01-18T07:18:46.832Z"
   },
   {
    "duration": 9,
    "start_time": "2022-01-18T07:18:46.888Z"
   },
   {
    "duration": 106,
    "start_time": "2022-01-18T07:18:46.924Z"
   },
   {
    "duration": 54,
    "start_time": "2022-01-18T07:18:47.033Z"
   },
   {
    "duration": 583,
    "start_time": "2022-01-18T07:18:47.090Z"
   },
   {
    "duration": 482,
    "start_time": "2022-01-18T07:18:47.676Z"
   },
   {
    "duration": 465,
    "start_time": "2022-01-18T07:18:48.161Z"
   },
   {
    "duration": 94,
    "start_time": "2022-01-18T07:18:48.629Z"
   },
   {
    "duration": 126,
    "start_time": "2022-01-18T07:20:40.268Z"
   },
   {
    "duration": 1745,
    "start_time": "2022-01-18T07:21:09.607Z"
   },
   {
    "duration": 7639,
    "start_time": "2022-01-18T07:22:22.642Z"
   },
   {
    "duration": 39,
    "start_time": "2022-01-18T07:25:20.972Z"
   },
   {
    "duration": 339,
    "start_time": "2022-01-18T07:26:37.463Z"
   },
   {
    "duration": 1088,
    "start_time": "2022-01-18T07:27:10.581Z"
   },
   {
    "duration": 351,
    "start_time": "2022-01-18T07:27:16.103Z"
   },
   {
    "duration": 6010,
    "start_time": "2022-01-18T07:27:49.260Z"
   },
   {
    "duration": 474,
    "start_time": "2022-01-18T07:38:28.753Z"
   },
   {
    "duration": 505,
    "start_time": "2022-01-18T07:40:55.563Z"
   },
   {
    "duration": 533,
    "start_time": "2022-01-18T07:43:36.349Z"
   },
   {
    "duration": 444,
    "start_time": "2022-01-18T07:44:17.274Z"
   },
   {
    "duration": 101,
    "start_time": "2022-01-18T07:45:34.333Z"
   },
   {
    "duration": 4,
    "start_time": "2022-01-18T08:13:46.510Z"
   },
   {
    "duration": 295,
    "start_time": "2022-01-18T08:14:07.016Z"
   },
   {
    "duration": 11,
    "start_time": "2022-01-18T08:18:02.660Z"
   },
   {
    "duration": 25,
    "start_time": "2022-01-18T08:19:41.262Z"
   },
   {
    "duration": 31,
    "start_time": "2022-01-18T08:22:38.384Z"
   },
   {
    "duration": 1231,
    "start_time": "2022-01-18T08:22:55.299Z"
   },
   {
    "duration": 44,
    "start_time": "2022-01-18T08:22:56.533Z"
   },
   {
    "duration": 47,
    "start_time": "2022-01-18T08:22:56.580Z"
   },
   {
    "duration": 26,
    "start_time": "2022-01-18T08:22:56.630Z"
   },
   {
    "duration": 16,
    "start_time": "2022-01-18T08:22:56.659Z"
   },
   {
    "duration": 52,
    "start_time": "2022-01-18T08:22:56.677Z"
   },
   {
    "duration": 91,
    "start_time": "2022-01-18T08:22:56.732Z"
   },
   {
    "duration": 51,
    "start_time": "2022-01-18T08:22:56.825Z"
   },
   {
    "duration": 62,
    "start_time": "2022-01-18T08:22:56.880Z"
   },
   {
    "duration": 11,
    "start_time": "2022-01-18T08:22:56.945Z"
   },
   {
    "duration": 40,
    "start_time": "2022-01-18T08:22:56.959Z"
   },
   {
    "duration": 41,
    "start_time": "2022-01-18T08:22:57.002Z"
   },
   {
    "duration": 33,
    "start_time": "2022-01-18T08:22:57.045Z"
   },
   {
    "duration": 79,
    "start_time": "2022-01-18T08:22:57.081Z"
   },
   {
    "duration": 7,
    "start_time": "2022-01-18T08:22:57.163Z"
   },
   {
    "duration": 109,
    "start_time": "2022-01-18T08:22:57.172Z"
   },
   {
    "duration": 61,
    "start_time": "2022-01-18T08:22:57.283Z"
   },
   {
    "duration": 555,
    "start_time": "2022-01-18T08:22:57.346Z"
   },
   {
    "duration": 475,
    "start_time": "2022-01-18T08:22:57.904Z"
   },
   {
    "duration": 449,
    "start_time": "2022-01-18T08:22:58.383Z"
   },
   {
    "duration": 519,
    "start_time": "2022-01-18T08:22:58.835Z"
   },
   {
    "duration": 469,
    "start_time": "2022-01-18T08:22:59.357Z"
   },
   {
    "duration": 456,
    "start_time": "2022-01-18T08:22:59.829Z"
   },
   {
    "duration": 40,
    "start_time": "2022-01-18T08:23:00.287Z"
   },
   {
    "duration": 38,
    "start_time": "2022-01-18T08:24:11.743Z"
   },
   {
    "duration": 381,
    "start_time": "2022-01-18T08:26:55.983Z"
   },
   {
    "duration": 37,
    "start_time": "2022-01-18T08:27:11.739Z"
   },
   {
    "duration": 64,
    "start_time": "2022-01-18T08:30:03.770Z"
   },
   {
    "duration": 31,
    "start_time": "2022-01-18T08:35:35.557Z"
   },
   {
    "duration": 315,
    "start_time": "2022-01-18T08:39:03.101Z"
   },
   {
    "duration": 39,
    "start_time": "2022-01-18T08:39:11.562Z"
   },
   {
    "duration": 336,
    "start_time": "2022-01-18T08:45:05.207Z"
   },
   {
    "duration": 1814,
    "start_time": "2022-01-18T08:45:22.349Z"
   },
   {
    "duration": 39,
    "start_time": "2022-01-18T08:45:24.166Z"
   },
   {
    "duration": 30,
    "start_time": "2022-01-18T08:45:24.208Z"
   },
   {
    "duration": 25,
    "start_time": "2022-01-18T08:45:24.241Z"
   },
   {
    "duration": 15,
    "start_time": "2022-01-18T08:45:24.268Z"
   },
   {
    "duration": 51,
    "start_time": "2022-01-18T08:45:24.285Z"
   },
   {
    "duration": 94,
    "start_time": "2022-01-18T08:45:24.339Z"
   },
   {
    "duration": 52,
    "start_time": "2022-01-18T08:45:24.437Z"
   },
   {
    "duration": 59,
    "start_time": "2022-01-18T08:45:24.492Z"
   },
   {
    "duration": 12,
    "start_time": "2022-01-18T08:45:24.554Z"
   },
   {
    "duration": 63,
    "start_time": "2022-01-18T08:45:24.569Z"
   },
   {
    "duration": 25,
    "start_time": "2022-01-18T08:45:24.634Z"
   },
   {
    "duration": 32,
    "start_time": "2022-01-18T08:45:24.662Z"
   },
   {
    "duration": 90,
    "start_time": "2022-01-18T08:45:24.696Z"
   },
   {
    "duration": 8,
    "start_time": "2022-01-18T08:45:24.788Z"
   },
   {
    "duration": 127,
    "start_time": "2022-01-18T08:45:24.798Z"
   },
   {
    "duration": 61,
    "start_time": "2022-01-18T08:45:24.928Z"
   },
   {
    "duration": 484,
    "start_time": "2022-01-18T08:45:24.993Z"
   },
   {
    "duration": 479,
    "start_time": "2022-01-18T08:45:25.480Z"
   },
   {
    "duration": 511,
    "start_time": "2022-01-18T08:45:25.961Z"
   },
   {
    "duration": 516,
    "start_time": "2022-01-18T08:45:26.475Z"
   },
   {
    "duration": 59,
    "start_time": "2022-01-18T08:45:26.935Z"
   },
   {
    "duration": 57,
    "start_time": "2022-01-18T08:45:26.938Z"
   },
   {
    "duration": 56,
    "start_time": "2022-01-18T08:45:26.941Z"
   },
   {
    "duration": 6914,
    "start_time": "2022-01-18T08:46:01.640Z"
   },
   {
    "duration": 6225,
    "start_time": "2022-01-18T08:46:17.611Z"
   },
   {
    "duration": 359,
    "start_time": "2022-01-18T08:47:26.602Z"
   },
   {
    "duration": 13256,
    "start_time": "2022-01-18T08:47:36.570Z"
   },
   {
    "duration": 30,
    "start_time": "2022-01-18T09:00:13.165Z"
   },
   {
    "duration": 584,
    "start_time": "2022-01-18T09:00:36.164Z"
   },
   {
    "duration": 435,
    "start_time": "2022-01-18T09:00:39.883Z"
   },
   {
    "duration": 580,
    "start_time": "2022-01-18T09:00:42.687Z"
   },
   {
    "duration": 39,
    "start_time": "2022-01-18T09:06:22.270Z"
   },
   {
    "duration": 38,
    "start_time": "2022-01-18T10:06:50.641Z"
   },
   {
    "duration": 63,
    "start_time": "2022-01-18T10:07:17.221Z"
   },
   {
    "duration": 44,
    "start_time": "2022-01-18T10:17:41.839Z"
   },
   {
    "duration": 57,
    "start_time": "2022-01-18T10:18:31.001Z"
   },
   {
    "duration": 344,
    "start_time": "2022-01-18T10:19:23.462Z"
   },
   {
    "duration": 53,
    "start_time": "2022-01-18T10:20:54.245Z"
   },
   {
    "duration": 354,
    "start_time": "2022-01-18T10:49:37.811Z"
   },
   {
    "duration": 71,
    "start_time": "2022-01-18T10:50:49.788Z"
   },
   {
    "duration": 72,
    "start_time": "2022-01-18T10:53:00.236Z"
   },
   {
    "duration": 2014,
    "start_time": "2022-01-18T10:53:23.070Z"
   },
   {
    "duration": 41,
    "start_time": "2022-01-18T10:53:25.086Z"
   },
   {
    "duration": 36,
    "start_time": "2022-01-18T10:53:25.136Z"
   },
   {
    "duration": 55,
    "start_time": "2022-01-18T10:53:25.174Z"
   },
   {
    "duration": 20,
    "start_time": "2022-01-18T10:53:25.233Z"
   },
   {
    "duration": 20,
    "start_time": "2022-01-18T10:53:25.257Z"
   },
   {
    "duration": 124,
    "start_time": "2022-01-18T10:53:25.281Z"
   },
   {
    "duration": 68,
    "start_time": "2022-01-18T10:53:25.409Z"
   },
   {
    "duration": 72,
    "start_time": "2022-01-18T10:53:25.479Z"
   },
   {
    "duration": 11,
    "start_time": "2022-01-18T10:53:25.553Z"
   },
   {
    "duration": 44,
    "start_time": "2022-01-18T10:53:25.566Z"
   },
   {
    "duration": 29,
    "start_time": "2022-01-18T10:53:25.629Z"
   },
   {
    "duration": 30,
    "start_time": "2022-01-18T10:53:25.660Z"
   },
   {
    "duration": 76,
    "start_time": "2022-01-18T10:53:25.692Z"
   },
   {
    "duration": 7,
    "start_time": "2022-01-18T10:53:25.770Z"
   },
   {
    "duration": 130,
    "start_time": "2022-01-18T10:53:25.779Z"
   },
   {
    "duration": 65,
    "start_time": "2022-01-18T10:53:25.911Z"
   },
   {
    "duration": 515,
    "start_time": "2022-01-18T10:53:25.978Z"
   },
   {
    "duration": 516,
    "start_time": "2022-01-18T10:53:26.495Z"
   },
   {
    "duration": 487,
    "start_time": "2022-01-18T10:53:27.013Z"
   },
   {
    "duration": 532,
    "start_time": "2022-01-18T10:53:27.502Z"
   },
   {
    "duration": 584,
    "start_time": "2022-01-18T10:53:28.042Z"
   },
   {
    "duration": 532,
    "start_time": "2022-01-18T10:53:28.630Z"
   },
   {
    "duration": 183,
    "start_time": "2022-01-18T10:53:29.166Z"
   },
   {
    "duration": 557,
    "start_time": "2022-01-18T10:53:29.352Z"
   },
   {
    "duration": 2027,
    "start_time": "2022-01-18T10:54:11.789Z"
   },
   {
    "duration": 46,
    "start_time": "2022-01-18T10:54:13.819Z"
   },
   {
    "duration": 53,
    "start_time": "2022-01-18T10:54:13.872Z"
   },
   {
    "duration": 33,
    "start_time": "2022-01-18T10:54:13.927Z"
   },
   {
    "duration": 16,
    "start_time": "2022-01-18T10:54:13.962Z"
   },
   {
    "duration": 60,
    "start_time": "2022-01-18T10:54:13.981Z"
   },
   {
    "duration": 86,
    "start_time": "2022-01-18T10:54:14.046Z"
   },
   {
    "duration": 56,
    "start_time": "2022-01-18T10:54:14.137Z"
   },
   {
    "duration": 71,
    "start_time": "2022-01-18T10:54:14.196Z"
   },
   {
    "duration": 11,
    "start_time": "2022-01-18T10:54:14.269Z"
   },
   {
    "duration": 54,
    "start_time": "2022-01-18T10:54:14.283Z"
   },
   {
    "duration": 26,
    "start_time": "2022-01-18T10:54:14.342Z"
   },
   {
    "duration": 31,
    "start_time": "2022-01-18T10:54:14.370Z"
   },
   {
    "duration": 56,
    "start_time": "2022-01-18T10:54:14.425Z"
   },
   {
    "duration": 7,
    "start_time": "2022-01-18T10:54:14.483Z"
   },
   {
    "duration": 132,
    "start_time": "2022-01-18T10:54:14.493Z"
   },
   {
    "duration": 54,
    "start_time": "2022-01-18T10:54:14.629Z"
   },
   {
    "duration": 509,
    "start_time": "2022-01-18T10:54:14.685Z"
   },
   {
    "duration": 499,
    "start_time": "2022-01-18T10:54:15.198Z"
   },
   {
    "duration": 490,
    "start_time": "2022-01-18T10:54:15.700Z"
   },
   {
    "duration": 499,
    "start_time": "2022-01-18T10:54:16.193Z"
   },
   {
    "duration": 497,
    "start_time": "2022-01-18T10:54:16.697Z"
   },
   {
    "duration": 471,
    "start_time": "2022-01-18T10:54:17.196Z"
   },
   {
    "duration": 146,
    "start_time": "2022-01-18T10:54:17.670Z"
   },
   {
    "duration": 466,
    "start_time": "2022-01-18T10:54:17.818Z"
   },
   {
    "duration": 1225,
    "start_time": "2022-01-18T11:03:40.348Z"
   },
   {
    "duration": 2035,
    "start_time": "2022-01-18T11:04:23.222Z"
   },
   {
    "duration": 43,
    "start_time": "2022-01-18T11:04:25.260Z"
   },
   {
    "duration": 33,
    "start_time": "2022-01-18T11:04:25.309Z"
   },
   {
    "duration": 26,
    "start_time": "2022-01-18T11:04:25.346Z"
   },
   {
    "duration": 16,
    "start_time": "2022-01-18T11:04:25.375Z"
   },
   {
    "duration": 56,
    "start_time": "2022-01-18T11:04:25.393Z"
   },
   {
    "duration": 100,
    "start_time": "2022-01-18T11:04:25.451Z"
   },
   {
    "duration": 51,
    "start_time": "2022-01-18T11:04:25.555Z"
   },
   {
    "duration": 62,
    "start_time": "2022-01-18T11:04:25.609Z"
   },
   {
    "duration": 10,
    "start_time": "2022-01-18T11:04:25.674Z"
   },
   {
    "duration": 76,
    "start_time": "2022-01-18T11:04:25.687Z"
   },
   {
    "duration": 22,
    "start_time": "2022-01-18T11:04:25.765Z"
   },
   {
    "duration": 51,
    "start_time": "2022-01-18T11:04:25.790Z"
   },
   {
    "duration": 50,
    "start_time": "2022-01-18T11:04:25.843Z"
   },
   {
    "duration": 7,
    "start_time": "2022-01-18T11:04:25.896Z"
   },
   {
    "duration": 140,
    "start_time": "2022-01-18T11:04:25.906Z"
   },
   {
    "duration": 52,
    "start_time": "2022-01-18T11:04:26.049Z"
   },
   {
    "duration": 504,
    "start_time": "2022-01-18T11:04:26.104Z"
   },
   {
    "duration": 491,
    "start_time": "2022-01-18T11:04:26.612Z"
   },
   {
    "duration": 482,
    "start_time": "2022-01-18T11:04:27.106Z"
   },
   {
    "duration": 8242,
    "start_time": "2022-01-18T11:04:27.590Z"
   },
   {
    "duration": 74,
    "start_time": "2022-01-18T11:04:35.761Z"
   },
   {
    "duration": 73,
    "start_time": "2022-01-18T11:04:35.764Z"
   },
   {
    "duration": 74,
    "start_time": "2022-01-18T11:04:35.767Z"
   },
   {
    "duration": 72,
    "start_time": "2022-01-18T11:04:35.771Z"
   },
   {
    "duration": 2029,
    "start_time": "2022-01-18T11:05:49.511Z"
   },
   {
    "duration": 39,
    "start_time": "2022-01-18T11:05:51.543Z"
   },
   {
    "duration": 48,
    "start_time": "2022-01-18T11:05:51.589Z"
   },
   {
    "duration": 36,
    "start_time": "2022-01-18T11:05:51.639Z"
   },
   {
    "duration": 50,
    "start_time": "2022-01-18T11:05:51.677Z"
   },
   {
    "duration": 27,
    "start_time": "2022-01-18T11:05:51.730Z"
   },
   {
    "duration": 110,
    "start_time": "2022-01-18T11:05:51.760Z"
   },
   {
    "duration": 65,
    "start_time": "2022-01-18T11:05:51.875Z"
   },
   {
    "duration": 45,
    "start_time": "2022-01-18T11:05:51.943Z"
   },
   {
    "duration": 10,
    "start_time": "2022-01-18T11:05:51.990Z"
   },
   {
    "duration": 63,
    "start_time": "2022-01-18T11:05:52.003Z"
   },
   {
    "duration": 24,
    "start_time": "2022-01-18T11:05:52.068Z"
   },
   {
    "duration": 58,
    "start_time": "2022-01-18T11:05:52.095Z"
   },
   {
    "duration": 50,
    "start_time": "2022-01-18T11:05:52.156Z"
   },
   {
    "duration": 8,
    "start_time": "2022-01-18T11:05:52.224Z"
   },
   {
    "duration": 126,
    "start_time": "2022-01-18T11:05:52.235Z"
   },
   {
    "duration": 59,
    "start_time": "2022-01-18T11:05:52.364Z"
   },
   {
    "duration": 482,
    "start_time": "2022-01-18T11:05:52.425Z"
   },
   {
    "duration": 500,
    "start_time": "2022-01-18T11:05:52.910Z"
   },
   {
    "duration": 480,
    "start_time": "2022-01-18T11:05:53.413Z"
   },
   {
    "duration": 44,
    "start_time": "2022-01-18T11:05:53.895Z"
   },
   {
    "duration": 13,
    "start_time": "2022-01-18T11:05:53.942Z"
   },
   {
    "duration": 10,
    "start_time": "2022-01-18T11:05:53.957Z"
   },
   {
    "duration": 86,
    "start_time": "2022-01-18T11:05:53.969Z"
   },
   {
    "duration": 425,
    "start_time": "2022-01-18T11:05:54.057Z"
   },
   {
    "duration": 2130,
    "start_time": "2022-01-18T11:07:10.709Z"
   },
   {
    "duration": 40,
    "start_time": "2022-01-18T11:07:12.841Z"
   },
   {
    "duration": 43,
    "start_time": "2022-01-18T11:07:12.884Z"
   },
   {
    "duration": 33,
    "start_time": "2022-01-18T11:07:12.930Z"
   },
   {
    "duration": 15,
    "start_time": "2022-01-18T11:07:12.965Z"
   },
   {
    "duration": 55,
    "start_time": "2022-01-18T11:07:12.983Z"
   },
   {
    "duration": 90,
    "start_time": "2022-01-18T11:07:13.040Z"
   },
   {
    "duration": 72,
    "start_time": "2022-01-18T11:07:13.134Z"
   },
   {
    "duration": 57,
    "start_time": "2022-01-18T11:07:13.227Z"
   },
   {
    "duration": 11,
    "start_time": "2022-01-18T11:07:13.288Z"
   },
   {
    "duration": 63,
    "start_time": "2022-01-18T11:07:13.302Z"
   },
   {
    "duration": 23,
    "start_time": "2022-01-18T11:07:13.368Z"
   },
   {
    "duration": 56,
    "start_time": "2022-01-18T11:07:13.393Z"
   },
   {
    "duration": 71,
    "start_time": "2022-01-18T11:07:13.452Z"
   },
   {
    "duration": 13,
    "start_time": "2022-01-18T11:07:13.526Z"
   },
   {
    "duration": 130,
    "start_time": "2022-01-18T11:07:13.542Z"
   },
   {
    "duration": 63,
    "start_time": "2022-01-18T11:07:13.675Z"
   },
   {
    "duration": 514,
    "start_time": "2022-01-18T11:07:13.741Z"
   },
   {
    "duration": 507,
    "start_time": "2022-01-18T11:07:14.259Z"
   },
   {
    "duration": 500,
    "start_time": "2022-01-18T11:07:14.769Z"
   },
   {
    "duration": 32,
    "start_time": "2022-01-18T11:07:15.272Z"
   },
   {
    "duration": 4,
    "start_time": "2022-01-18T11:07:15.324Z"
   },
   {
    "duration": 18,
    "start_time": "2022-01-18T11:07:15.331Z"
   },
   {
    "duration": 84,
    "start_time": "2022-01-18T11:07:15.351Z"
   },
   {
    "duration": 424,
    "start_time": "2022-01-18T11:07:15.438Z"
   },
   {
    "duration": 2015,
    "start_time": "2022-01-18T11:41:21.621Z"
   },
   {
    "duration": 39,
    "start_time": "2022-01-18T11:41:23.639Z"
   },
   {
    "duration": 46,
    "start_time": "2022-01-18T11:41:23.681Z"
   },
   {
    "duration": 33,
    "start_time": "2022-01-18T11:41:23.730Z"
   },
   {
    "duration": 17,
    "start_time": "2022-01-18T11:41:23.766Z"
   },
   {
    "duration": 27,
    "start_time": "2022-01-18T11:41:23.822Z"
   },
   {
    "duration": 96,
    "start_time": "2022-01-18T11:41:23.852Z"
   },
   {
    "duration": 51,
    "start_time": "2022-01-18T11:41:23.950Z"
   },
   {
    "duration": 65,
    "start_time": "2022-01-18T11:41:24.005Z"
   },
   {
    "duration": 11,
    "start_time": "2022-01-18T11:41:24.073Z"
   },
   {
    "duration": 64,
    "start_time": "2022-01-18T11:41:24.086Z"
   },
   {
    "duration": 23,
    "start_time": "2022-01-18T11:41:24.153Z"
   },
   {
    "duration": 58,
    "start_time": "2022-01-18T11:41:24.179Z"
   },
   {
    "duration": 49,
    "start_time": "2022-01-18T11:41:24.239Z"
   },
   {
    "duration": 8,
    "start_time": "2022-01-18T11:41:24.290Z"
   },
   {
    "duration": 137,
    "start_time": "2022-01-18T11:41:24.300Z"
   },
   {
    "duration": 50,
    "start_time": "2022-01-18T11:41:24.440Z"
   },
   {
    "duration": 519,
    "start_time": "2022-01-18T11:41:24.493Z"
   },
   {
    "duration": 495,
    "start_time": "2022-01-18T11:41:25.015Z"
   },
   {
    "duration": 498,
    "start_time": "2022-01-18T11:41:25.513Z"
   },
   {
    "duration": 49,
    "start_time": "2022-01-18T11:41:26.013Z"
   },
   {
    "duration": 3,
    "start_time": "2022-01-18T11:41:26.065Z"
   },
   {
    "duration": 24,
    "start_time": "2022-01-18T11:41:26.070Z"
   },
   {
    "duration": 71,
    "start_time": "2022-01-18T11:41:26.096Z"
   },
   {
    "duration": 407,
    "start_time": "2022-01-18T11:41:26.169Z"
   },
   {
    "duration": 436,
    "start_time": "2022-01-18T12:09:48.333Z"
   },
   {
    "duration": 400,
    "start_time": "2022-01-18T12:10:06.560Z"
   },
   {
    "duration": 145,
    "start_time": "2022-01-18T12:10:20.508Z"
   },
   {
    "duration": 382,
    "start_time": "2022-01-18T12:23:59.511Z"
   },
   {
    "duration": 323,
    "start_time": "2022-01-18T12:25:10.118Z"
   },
   {
    "duration": 2111,
    "start_time": "2022-01-18T12:25:24.465Z"
   },
   {
    "duration": 39,
    "start_time": "2022-01-18T12:25:26.579Z"
   },
   {
    "duration": 48,
    "start_time": "2022-01-18T12:25:26.621Z"
   },
   {
    "duration": 26,
    "start_time": "2022-01-18T12:25:26.672Z"
   },
   {
    "duration": 23,
    "start_time": "2022-01-18T12:25:26.727Z"
   },
   {
    "duration": 20,
    "start_time": "2022-01-18T12:25:26.753Z"
   },
   {
    "duration": 119,
    "start_time": "2022-01-18T12:25:26.775Z"
   },
   {
    "duration": 73,
    "start_time": "2022-01-18T12:25:26.898Z"
   },
   {
    "duration": 52,
    "start_time": "2022-01-18T12:25:26.974Z"
   },
   {
    "duration": 11,
    "start_time": "2022-01-18T12:25:27.029Z"
   },
   {
    "duration": 56,
    "start_time": "2022-01-18T12:25:27.043Z"
   },
   {
    "duration": 37,
    "start_time": "2022-01-18T12:25:27.102Z"
   },
   {
    "duration": 31,
    "start_time": "2022-01-18T12:25:27.143Z"
   },
   {
    "duration": 85,
    "start_time": "2022-01-18T12:25:27.177Z"
   },
   {
    "duration": 8,
    "start_time": "2022-01-18T12:25:27.264Z"
   },
   {
    "duration": 132,
    "start_time": "2022-01-18T12:25:27.276Z"
   },
   {
    "duration": 73,
    "start_time": "2022-01-18T12:25:27.410Z"
   },
   {
    "duration": 522,
    "start_time": "2022-01-18T12:25:27.485Z"
   },
   {
    "duration": 552,
    "start_time": "2022-01-18T12:25:28.009Z"
   },
   {
    "duration": 512,
    "start_time": "2022-01-18T12:25:28.563Z"
   },
   {
    "duration": 46,
    "start_time": "2022-01-18T12:25:29.077Z"
   },
   {
    "duration": 24,
    "start_time": "2022-01-18T12:25:29.127Z"
   },
   {
    "duration": 8,
    "start_time": "2022-01-18T12:25:29.158Z"
   },
   {
    "duration": 145,
    "start_time": "2022-01-18T12:25:29.169Z"
   },
   {
    "duration": 655,
    "start_time": "2022-01-18T12:25:29.316Z"
   },
   {
    "duration": 1667,
    "start_time": "2022-01-18T12:26:02.664Z"
   },
   {
    "duration": 2593,
    "start_time": "2022-01-18T12:26:27.578Z"
   },
   {
    "duration": 51,
    "start_time": "2022-01-18T12:26:30.175Z"
   },
   {
    "duration": 48,
    "start_time": "2022-01-18T12:26:30.230Z"
   },
   {
    "duration": 53,
    "start_time": "2022-01-18T12:26:30.281Z"
   },
   {
    "duration": 25,
    "start_time": "2022-01-18T12:26:30.352Z"
   },
   {
    "duration": 47,
    "start_time": "2022-01-18T12:26:30.380Z"
   },
   {
    "duration": 113,
    "start_time": "2022-01-18T12:26:30.433Z"
   },
   {
    "duration": 74,
    "start_time": "2022-01-18T12:26:30.549Z"
   },
   {
    "duration": 54,
    "start_time": "2022-01-18T12:26:30.628Z"
   },
   {
    "duration": 12,
    "start_time": "2022-01-18T12:26:30.685Z"
   },
   {
    "duration": 98,
    "start_time": "2022-01-18T12:26:30.700Z"
   },
   {
    "duration": 29,
    "start_time": "2022-01-18T12:26:30.801Z"
   },
   {
    "duration": 66,
    "start_time": "2022-01-18T12:26:30.833Z"
   },
   {
    "duration": 79,
    "start_time": "2022-01-18T12:26:30.903Z"
   },
   {
    "duration": 11,
    "start_time": "2022-01-18T12:26:30.985Z"
   },
   {
    "duration": 212,
    "start_time": "2022-01-18T12:26:30.999Z"
   },
   {
    "duration": 76,
    "start_time": "2022-01-18T12:26:31.213Z"
   },
   {
    "duration": 568,
    "start_time": "2022-01-18T12:26:31.292Z"
   },
   {
    "duration": 564,
    "start_time": "2022-01-18T12:26:31.862Z"
   },
   {
    "duration": 553,
    "start_time": "2022-01-18T12:26:32.428Z"
   },
   {
    "duration": 45,
    "start_time": "2022-01-18T12:26:32.984Z"
   },
   {
    "duration": 4,
    "start_time": "2022-01-18T12:26:33.032Z"
   },
   {
    "duration": 25,
    "start_time": "2022-01-18T12:26:33.039Z"
   },
   {
    "duration": 196,
    "start_time": "2022-01-18T12:26:33.067Z"
   },
   {
    "duration": 2079,
    "start_time": "2022-01-18T12:26:33.267Z"
   },
   {
    "duration": 2699,
    "start_time": "2022-01-18T12:27:14.595Z"
   },
   {
    "duration": 41,
    "start_time": "2022-01-18T12:27:17.297Z"
   },
   {
    "duration": 40,
    "start_time": "2022-01-18T12:27:17.342Z"
   },
   {
    "duration": 50,
    "start_time": "2022-01-18T12:27:17.386Z"
   },
   {
    "duration": 17,
    "start_time": "2022-01-18T12:27:17.440Z"
   },
   {
    "duration": 20,
    "start_time": "2022-01-18T12:27:17.460Z"
   },
   {
    "duration": 123,
    "start_time": "2022-01-18T12:27:17.482Z"
   },
   {
    "duration": 87,
    "start_time": "2022-01-18T12:27:17.608Z"
   },
   {
    "duration": 70,
    "start_time": "2022-01-18T12:27:17.701Z"
   },
   {
    "duration": 16,
    "start_time": "2022-01-18T12:27:17.775Z"
   },
   {
    "duration": 64,
    "start_time": "2022-01-18T12:27:17.794Z"
   },
   {
    "duration": 24,
    "start_time": "2022-01-18T12:27:17.861Z"
   },
   {
    "duration": 69,
    "start_time": "2022-01-18T12:27:17.887Z"
   },
   {
    "duration": 67,
    "start_time": "2022-01-18T12:27:17.959Z"
   },
   {
    "duration": 13,
    "start_time": "2022-01-18T12:27:18.029Z"
   },
   {
    "duration": 144,
    "start_time": "2022-01-18T12:27:18.045Z"
   },
   {
    "duration": 96,
    "start_time": "2022-01-18T12:27:18.192Z"
   },
   {
    "duration": 732,
    "start_time": "2022-01-18T12:27:18.291Z"
   },
   {
    "duration": 779,
    "start_time": "2022-01-18T12:27:19.026Z"
   },
   {
    "duration": 696,
    "start_time": "2022-01-18T12:27:19.808Z"
   },
   {
    "duration": 49,
    "start_time": "2022-01-18T12:27:20.507Z"
   },
   {
    "duration": 4,
    "start_time": "2022-01-18T12:27:20.559Z"
   },
   {
    "duration": 11,
    "start_time": "2022-01-18T12:27:20.567Z"
   },
   {
    "duration": 242,
    "start_time": "2022-01-18T12:27:20.581Z"
   },
   {
    "duration": 259,
    "start_time": "2022-01-18T12:27:20.835Z"
   },
   {
    "duration": 2138,
    "start_time": "2022-01-18T12:27:58.972Z"
   },
   {
    "duration": 53,
    "start_time": "2022-01-18T12:28:01.113Z"
   },
   {
    "duration": 52,
    "start_time": "2022-01-18T12:28:01.173Z"
   },
   {
    "duration": 34,
    "start_time": "2022-01-18T12:28:01.227Z"
   },
   {
    "duration": 24,
    "start_time": "2022-01-18T12:28:01.264Z"
   },
   {
    "duration": 60,
    "start_time": "2022-01-18T12:28:01.291Z"
   },
   {
    "duration": 115,
    "start_time": "2022-01-18T12:28:01.358Z"
   },
   {
    "duration": 66,
    "start_time": "2022-01-18T12:28:01.476Z"
   },
   {
    "duration": 78,
    "start_time": "2022-01-18T12:28:01.545Z"
   },
   {
    "duration": 28,
    "start_time": "2022-01-18T12:28:01.627Z"
   },
   {
    "duration": 54,
    "start_time": "2022-01-18T12:28:01.658Z"
   },
   {
    "duration": 36,
    "start_time": "2022-01-18T12:28:01.715Z"
   },
   {
    "duration": 34,
    "start_time": "2022-01-18T12:28:01.754Z"
   },
   {
    "duration": 82,
    "start_time": "2022-01-18T12:28:01.790Z"
   },
   {
    "duration": 8,
    "start_time": "2022-01-18T12:28:01.875Z"
   },
   {
    "duration": 121,
    "start_time": "2022-01-18T12:28:01.885Z"
   },
   {
    "duration": 85,
    "start_time": "2022-01-18T12:28:02.009Z"
   },
   {
    "duration": 514,
    "start_time": "2022-01-18T12:28:02.097Z"
   },
   {
    "duration": 513,
    "start_time": "2022-01-18T12:28:02.614Z"
   },
   {
    "duration": 657,
    "start_time": "2022-01-18T12:28:03.131Z"
   },
   {
    "duration": 52,
    "start_time": "2022-01-18T12:28:03.791Z"
   },
   {
    "duration": 4,
    "start_time": "2022-01-18T12:28:03.851Z"
   },
   {
    "duration": 21,
    "start_time": "2022-01-18T12:28:03.858Z"
   },
   {
    "duration": 189,
    "start_time": "2022-01-18T12:28:03.882Z"
   },
   {
    "duration": 199,
    "start_time": "2022-01-18T12:28:04.075Z"
   },
   {
    "duration": 2045,
    "start_time": "2022-01-18T12:50:49.149Z"
   },
   {
    "duration": 45,
    "start_time": "2022-01-18T12:50:51.197Z"
   },
   {
    "duration": 32,
    "start_time": "2022-01-18T12:50:51.245Z"
   },
   {
    "duration": 50,
    "start_time": "2022-01-18T12:50:51.280Z"
   },
   {
    "duration": 22,
    "start_time": "2022-01-18T12:50:51.334Z"
   },
   {
    "duration": 20,
    "start_time": "2022-01-18T12:50:51.358Z"
   },
   {
    "duration": 152,
    "start_time": "2022-01-18T12:50:51.381Z"
   },
   {
    "duration": 65,
    "start_time": "2022-01-18T12:50:51.537Z"
   },
   {
    "duration": 67,
    "start_time": "2022-01-18T12:50:51.606Z"
   },
   {
    "duration": 10,
    "start_time": "2022-01-18T12:50:51.676Z"
   },
   {
    "duration": 69,
    "start_time": "2022-01-18T12:50:51.689Z"
   },
   {
    "duration": 23,
    "start_time": "2022-01-18T12:50:51.761Z"
   },
   {
    "duration": 59,
    "start_time": "2022-01-18T12:50:51.787Z"
   },
   {
    "duration": 49,
    "start_time": "2022-01-18T12:50:51.849Z"
   },
   {
    "duration": 24,
    "start_time": "2022-01-18T12:50:51.900Z"
   },
   {
    "duration": 126,
    "start_time": "2022-01-18T12:50:51.927Z"
   },
   {
    "duration": 52,
    "start_time": "2022-01-18T12:50:52.055Z"
   },
   {
    "duration": 497,
    "start_time": "2022-01-18T12:50:52.109Z"
   },
   {
    "duration": 500,
    "start_time": "2022-01-18T12:50:52.608Z"
   },
   {
    "duration": 483,
    "start_time": "2022-01-18T12:50:53.110Z"
   },
   {
    "duration": 48,
    "start_time": "2022-01-18T12:50:53.596Z"
   },
   {
    "duration": 2,
    "start_time": "2022-01-18T12:50:53.647Z"
   },
   {
    "duration": 11,
    "start_time": "2022-01-18T12:50:53.652Z"
   },
   {
    "duration": 138,
    "start_time": "2022-01-18T12:50:53.665Z"
   },
   {
    "duration": 179,
    "start_time": "2022-01-18T12:50:53.806Z"
   },
   {
    "duration": 513,
    "start_time": "2022-01-18T12:53:02.045Z"
   },
   {
    "duration": 489,
    "start_time": "2022-01-18T12:53:33.484Z"
   },
   {
    "duration": 475,
    "start_time": "2022-01-18T12:55:29.888Z"
   },
   {
    "duration": 737,
    "start_time": "2022-01-18T12:56:22.664Z"
   },
   {
    "duration": 96,
    "start_time": "2022-01-18T12:57:25.436Z"
   },
   {
    "duration": 553,
    "start_time": "2022-01-18T13:02:17.985Z"
   },
   {
    "duration": 326,
    "start_time": "2022-01-18T13:02:36.148Z"
   },
   {
    "duration": 406,
    "start_time": "2022-01-18T13:07:31.122Z"
   },
   {
    "duration": 897,
    "start_time": "2022-01-18T13:07:50.165Z"
   },
   {
    "duration": 341,
    "start_time": "2022-01-18T13:07:57.159Z"
   },
   {
    "duration": 515,
    "start_time": "2022-01-18T13:08:11.149Z"
   },
   {
    "duration": 388,
    "start_time": "2022-01-18T13:08:49.736Z"
   },
   {
    "duration": 8472,
    "start_time": "2022-01-18T13:11:13.773Z"
   },
   {
    "duration": 445,
    "start_time": "2022-01-18T13:11:51.220Z"
   },
   {
    "duration": 9034,
    "start_time": "2022-01-18T13:12:51.689Z"
   },
   {
    "duration": 461,
    "start_time": "2022-01-18T13:13:28.202Z"
   },
   {
    "duration": 10581,
    "start_time": "2022-01-18T13:14:53.176Z"
   },
   {
    "duration": 1949,
    "start_time": "2022-01-18T13:15:58.948Z"
   },
   {
    "duration": 2712,
    "start_time": "2022-01-18T13:18:58.736Z"
   },
   {
    "duration": 2045,
    "start_time": "2022-01-18T13:23:30.394Z"
   },
   {
    "duration": 40,
    "start_time": "2022-01-18T13:23:32.442Z"
   },
   {
    "duration": 40,
    "start_time": "2022-01-18T13:23:32.485Z"
   },
   {
    "duration": 36,
    "start_time": "2022-01-18T13:23:32.527Z"
   },
   {
    "duration": 17,
    "start_time": "2022-01-18T13:23:32.565Z"
   },
   {
    "duration": 62,
    "start_time": "2022-01-18T13:23:32.585Z"
   },
   {
    "duration": 115,
    "start_time": "2022-01-18T13:23:32.650Z"
   },
   {
    "duration": 68,
    "start_time": "2022-01-18T13:23:32.769Z"
   },
   {
    "duration": 45,
    "start_time": "2022-01-18T13:23:32.840Z"
   },
   {
    "duration": 10,
    "start_time": "2022-01-18T13:23:32.887Z"
   },
   {
    "duration": 59,
    "start_time": "2022-01-18T13:23:32.900Z"
   },
   {
    "duration": 26,
    "start_time": "2022-01-18T13:23:32.961Z"
   },
   {
    "duration": 57,
    "start_time": "2022-01-18T13:23:32.989Z"
   },
   {
    "duration": 52,
    "start_time": "2022-01-18T13:23:33.049Z"
   },
   {
    "duration": 21,
    "start_time": "2022-01-18T13:23:33.103Z"
   },
   {
    "duration": 152,
    "start_time": "2022-01-18T13:23:33.127Z"
   },
   {
    "duration": 66,
    "start_time": "2022-01-18T13:23:33.281Z"
   },
   {
    "duration": 516,
    "start_time": "2022-01-18T13:23:33.350Z"
   },
   {
    "duration": 494,
    "start_time": "2022-01-18T13:23:33.869Z"
   },
   {
    "duration": 488,
    "start_time": "2022-01-18T13:23:34.365Z"
   },
   {
    "duration": 31,
    "start_time": "2022-01-18T13:23:34.857Z"
   },
   {
    "duration": 164,
    "start_time": "2022-01-18T13:23:34.891Z"
   },
   {
    "duration": 190,
    "start_time": "2022-01-18T13:23:35.060Z"
   },
   {
    "duration": 2752,
    "start_time": "2022-01-18T13:23:35.253Z"
   },
   {
    "duration": 510,
    "start_time": "2022-01-18T13:23:38.008Z"
   },
   {
    "duration": 511,
    "start_time": "2022-01-18T13:23:38.524Z"
   },
   {
    "duration": 422,
    "start_time": "2022-01-18T13:26:43.596Z"
   },
   {
    "duration": 58,
    "start_time": "2022-01-18T13:56:23.417Z"
   },
   {
    "duration": 2193,
    "start_time": "2022-01-18T13:56:30.781Z"
   },
   {
    "duration": 43,
    "start_time": "2022-01-18T13:56:32.976Z"
   },
   {
    "duration": 63,
    "start_time": "2022-01-18T13:56:33.025Z"
   },
   {
    "duration": 50,
    "start_time": "2022-01-18T13:56:33.091Z"
   },
   {
    "duration": 19,
    "start_time": "2022-01-18T13:56:33.144Z"
   },
   {
    "duration": 59,
    "start_time": "2022-01-18T13:56:33.166Z"
   },
   {
    "duration": 101,
    "start_time": "2022-01-18T13:56:33.228Z"
   },
   {
    "duration": 73,
    "start_time": "2022-01-18T13:56:33.332Z"
   },
   {
    "duration": 66,
    "start_time": "2022-01-18T13:56:33.409Z"
   },
   {
    "duration": 10,
    "start_time": "2022-01-18T13:56:33.478Z"
   },
   {
    "duration": 60,
    "start_time": "2022-01-18T13:56:33.490Z"
   },
   {
    "duration": 27,
    "start_time": "2022-01-18T13:56:33.553Z"
   },
   {
    "duration": 54,
    "start_time": "2022-01-18T13:56:33.583Z"
   },
   {
    "duration": 54,
    "start_time": "2022-01-18T13:56:33.641Z"
   },
   {
    "duration": 29,
    "start_time": "2022-01-18T13:56:33.698Z"
   },
   {
    "duration": 179,
    "start_time": "2022-01-18T13:56:33.732Z"
   },
   {
    "duration": 62,
    "start_time": "2022-01-18T13:56:33.914Z"
   },
   {
    "duration": 524,
    "start_time": "2022-01-18T13:56:33.978Z"
   },
   {
    "duration": 536,
    "start_time": "2022-01-18T13:56:34.504Z"
   },
   {
    "duration": 505,
    "start_time": "2022-01-18T13:56:35.043Z"
   },
   {
    "duration": 34,
    "start_time": "2022-01-18T13:56:35.551Z"
   },
   {
    "duration": 153,
    "start_time": "2022-01-18T13:56:35.588Z"
   },
   {
    "duration": 210,
    "start_time": "2022-01-18T13:56:35.744Z"
   },
   {
    "duration": 2681,
    "start_time": "2022-01-18T13:56:35.957Z"
   },
   {
    "duration": 534,
    "start_time": "2022-01-18T13:56:38.641Z"
   },
   {
    "duration": 520,
    "start_time": "2022-01-18T13:56:39.178Z"
   },
   {
    "duration": 66,
    "start_time": "2022-01-18T14:10:23.639Z"
   },
   {
    "duration": 27,
    "start_time": "2022-01-18T14:10:30.764Z"
   },
   {
    "duration": 34,
    "start_time": "2022-01-18T14:10:37.461Z"
   },
   {
    "duration": 52,
    "start_time": "2022-01-18T14:10:55.750Z"
   },
   {
    "duration": 8,
    "start_time": "2022-01-18T14:13:23.479Z"
   },
   {
    "duration": 798,
    "start_time": "2022-01-18T14:13:25.749Z"
   },
   {
    "duration": 8,
    "start_time": "2022-01-18T14:13:33.211Z"
   },
   {
    "duration": 109,
    "start_time": "2022-01-18T14:13:35.388Z"
   },
   {
    "duration": 2385,
    "start_time": "2022-01-18T14:13:49.635Z"
   },
   {
    "duration": 48,
    "start_time": "2022-01-18T14:13:52.024Z"
   },
   {
    "duration": 52,
    "start_time": "2022-01-18T14:13:52.075Z"
   },
   {
    "duration": 35,
    "start_time": "2022-01-18T14:13:52.131Z"
   },
   {
    "duration": 17,
    "start_time": "2022-01-18T14:13:52.168Z"
   },
   {
    "duration": 70,
    "start_time": "2022-01-18T14:13:52.188Z"
   },
   {
    "duration": 100,
    "start_time": "2022-01-18T14:13:52.261Z"
   },
   {
    "duration": 85,
    "start_time": "2022-01-18T14:13:52.364Z"
   },
   {
    "duration": 44,
    "start_time": "2022-01-18T14:13:52.454Z"
   },
   {
    "duration": 30,
    "start_time": "2022-01-18T14:13:52.502Z"
   },
   {
    "duration": 78,
    "start_time": "2022-01-18T14:13:52.535Z"
   },
   {
    "duration": 27,
    "start_time": "2022-01-18T14:13:52.616Z"
   },
   {
    "duration": 31,
    "start_time": "2022-01-18T14:13:52.646Z"
   },
   {
    "duration": 104,
    "start_time": "2022-01-18T14:13:52.680Z"
   },
   {
    "duration": 8,
    "start_time": "2022-01-18T14:13:52.787Z"
   },
   {
    "duration": 121,
    "start_time": "2022-01-18T14:13:52.798Z"
   },
   {
    "duration": 494,
    "start_time": "2022-01-18T14:13:52.921Z"
   },
   {
    "duration": 112,
    "start_time": "2022-01-18T14:13:53.306Z"
   },
   {
    "duration": 103,
    "start_time": "2022-01-18T14:13:53.316Z"
   },
   {
    "duration": 102,
    "start_time": "2022-01-18T14:13:53.319Z"
   },
   {
    "duration": 101,
    "start_time": "2022-01-18T14:13:53.322Z"
   },
   {
    "duration": 101,
    "start_time": "2022-01-18T14:13:53.325Z"
   },
   {
    "duration": 99,
    "start_time": "2022-01-18T14:13:53.329Z"
   },
   {
    "duration": 97,
    "start_time": "2022-01-18T14:13:53.332Z"
   },
   {
    "duration": 96,
    "start_time": "2022-01-18T14:13:53.335Z"
   },
   {
    "duration": 97,
    "start_time": "2022-01-18T14:13:53.336Z"
   },
   {
    "duration": 50,
    "start_time": "2022-01-18T14:14:22.751Z"
   },
   {
    "duration": 524,
    "start_time": "2022-01-18T14:14:31.085Z"
   },
   {
    "duration": 511,
    "start_time": "2022-01-18T14:14:35.688Z"
   },
   {
    "duration": 488,
    "start_time": "2022-01-18T14:14:39.077Z"
   },
   {
    "duration": 37,
    "start_time": "2022-01-18T14:14:56.109Z"
   },
   {
    "duration": 186,
    "start_time": "2022-01-18T14:15:16.055Z"
   },
   {
    "duration": 163,
    "start_time": "2022-01-18T14:15:25.778Z"
   },
   {
    "duration": 2563,
    "start_time": "2022-01-18T14:15:32.810Z"
   },
   {
    "duration": 66,
    "start_time": "2022-01-18T14:18:00.230Z"
   },
   {
    "duration": 46,
    "start_time": "2022-01-18T14:20:05.477Z"
   },
   {
    "duration": 95,
    "start_time": "2022-01-18T14:21:23.292Z"
   },
   {
    "duration": 95,
    "start_time": "2022-01-18T14:21:41.069Z"
   },
   {
    "duration": 63,
    "start_time": "2022-01-18T14:23:23.505Z"
   },
   {
    "duration": 30,
    "start_time": "2022-01-18T14:23:49.489Z"
   },
   {
    "duration": 27,
    "start_time": "2022-01-18T14:23:52.087Z"
   },
   {
    "duration": 10,
    "start_time": "2022-01-18T14:23:52.645Z"
   },
   {
    "duration": 62,
    "start_time": "2022-01-18T14:23:55.354Z"
   },
   {
    "duration": 25,
    "start_time": "2022-01-18T14:23:56.198Z"
   },
   {
    "duration": 50,
    "start_time": "2022-01-18T14:23:57.512Z"
   },
   {
    "duration": 2016,
    "start_time": "2022-01-18T14:24:08.584Z"
   },
   {
    "duration": 43,
    "start_time": "2022-01-18T14:24:10.603Z"
   },
   {
    "duration": 41,
    "start_time": "2022-01-18T14:24:10.649Z"
   },
   {
    "duration": 47,
    "start_time": "2022-01-18T14:24:10.693Z"
   },
   {
    "duration": 17,
    "start_time": "2022-01-18T14:24:10.743Z"
   },
   {
    "duration": 22,
    "start_time": "2022-01-18T14:24:10.762Z"
   },
   {
    "duration": 113,
    "start_time": "2022-01-18T14:24:10.787Z"
   },
   {
    "duration": 70,
    "start_time": "2022-01-18T14:24:10.903Z"
   },
   {
    "duration": 63,
    "start_time": "2022-01-18T14:24:10.977Z"
   },
   {
    "duration": 11,
    "start_time": "2022-01-18T14:24:11.042Z"
   },
   {
    "duration": 74,
    "start_time": "2022-01-18T14:24:11.056Z"
   },
   {
    "duration": 29,
    "start_time": "2022-01-18T14:24:11.133Z"
   },
   {
    "duration": 72,
    "start_time": "2022-01-18T14:24:11.164Z"
   },
   {
    "duration": 58,
    "start_time": "2022-01-18T14:24:11.239Z"
   },
   {
    "duration": 23,
    "start_time": "2022-01-18T14:24:11.300Z"
   },
   {
    "duration": 120,
    "start_time": "2022-01-18T14:24:11.326Z"
   },
   {
    "duration": 76,
    "start_time": "2022-01-18T14:24:11.449Z"
   },
   {
    "duration": 530,
    "start_time": "2022-01-18T14:24:11.527Z"
   },
   {
    "duration": 519,
    "start_time": "2022-01-18T14:24:12.060Z"
   },
   {
    "duration": 517,
    "start_time": "2022-01-18T14:24:12.582Z"
   },
   {
    "duration": 48,
    "start_time": "2022-01-18T14:24:13.102Z"
   },
   {
    "duration": 150,
    "start_time": "2022-01-18T14:24:13.152Z"
   },
   {
    "duration": 168,
    "start_time": "2022-01-18T14:24:13.326Z"
   },
   {
    "duration": 2501,
    "start_time": "2022-01-18T14:24:13.497Z"
   },
   {
    "duration": 494,
    "start_time": "2022-01-18T14:24:16.000Z"
   },
   {
    "duration": 490,
    "start_time": "2022-01-18T14:24:16.496Z"
   },
   {
    "duration": 40,
    "start_time": "2022-01-18T14:24:43.389Z"
   },
   {
    "duration": 60,
    "start_time": "2022-01-18T14:24:46.572Z"
   },
   {
    "duration": 2181,
    "start_time": "2022-01-18T14:25:02.148Z"
   },
   {
    "duration": 47,
    "start_time": "2022-01-18T14:25:04.333Z"
   },
   {
    "duration": 58,
    "start_time": "2022-01-18T14:25:04.387Z"
   },
   {
    "duration": 24,
    "start_time": "2022-01-18T14:25:04.447Z"
   },
   {
    "duration": 16,
    "start_time": "2022-01-18T14:25:04.473Z"
   },
   {
    "duration": 58,
    "start_time": "2022-01-18T14:25:04.491Z"
   },
   {
    "duration": 117,
    "start_time": "2022-01-18T14:25:04.551Z"
   },
   {
    "duration": 60,
    "start_time": "2022-01-18T14:25:04.672Z"
   },
   {
    "duration": 47,
    "start_time": "2022-01-18T14:25:04.735Z"
   },
   {
    "duration": 11,
    "start_time": "2022-01-18T14:25:04.784Z"
   },
   {
    "duration": 92,
    "start_time": "2022-01-18T14:25:04.798Z"
   },
   {
    "duration": 46,
    "start_time": "2022-01-18T14:25:04.892Z"
   },
   {
    "duration": 33,
    "start_time": "2022-01-18T14:25:04.942Z"
   },
   {
    "duration": 83,
    "start_time": "2022-01-18T14:25:04.978Z"
   },
   {
    "duration": 8,
    "start_time": "2022-01-18T14:25:05.063Z"
   },
   {
    "duration": 134,
    "start_time": "2022-01-18T14:25:05.074Z"
   },
   {
    "duration": 64,
    "start_time": "2022-01-18T14:25:05.211Z"
   },
   {
    "duration": 534,
    "start_time": "2022-01-18T14:25:05.277Z"
   },
   {
    "duration": 512,
    "start_time": "2022-01-18T14:25:05.814Z"
   },
   {
    "duration": 523,
    "start_time": "2022-01-18T14:25:06.329Z"
   },
   {
    "duration": 32,
    "start_time": "2022-01-18T14:25:06.855Z"
   },
   {
    "duration": 163,
    "start_time": "2022-01-18T14:25:06.890Z"
   },
   {
    "duration": 190,
    "start_time": "2022-01-18T14:25:07.056Z"
   },
   {
    "duration": 2556,
    "start_time": "2022-01-18T14:25:07.249Z"
   },
   {
    "duration": 496,
    "start_time": "2022-01-18T14:25:09.808Z"
   },
   {
    "duration": 487,
    "start_time": "2022-01-18T14:25:10.310Z"
   },
   {
    "duration": 2032,
    "start_time": "2022-01-18T14:43:56.709Z"
   },
   {
    "duration": 42,
    "start_time": "2022-01-18T14:43:58.744Z"
   },
   {
    "duration": 40,
    "start_time": "2022-01-18T14:43:58.789Z"
   },
   {
    "duration": 31,
    "start_time": "2022-01-18T14:43:58.835Z"
   },
   {
    "duration": 15,
    "start_time": "2022-01-18T14:43:58.868Z"
   },
   {
    "duration": 60,
    "start_time": "2022-01-18T14:43:58.886Z"
   },
   {
    "duration": 109,
    "start_time": "2022-01-18T14:43:58.949Z"
   },
   {
    "duration": 65,
    "start_time": "2022-01-18T14:43:59.061Z"
   },
   {
    "duration": 49,
    "start_time": "2022-01-18T14:43:59.132Z"
   },
   {
    "duration": 10,
    "start_time": "2022-01-18T14:43:59.185Z"
   },
   {
    "duration": 93,
    "start_time": "2022-01-18T14:43:59.197Z"
   },
   {
    "duration": 22,
    "start_time": "2022-01-18T14:43:59.292Z"
   },
   {
    "duration": 34,
    "start_time": "2022-01-18T14:43:59.325Z"
   },
   {
    "duration": 86,
    "start_time": "2022-01-18T14:43:59.361Z"
   },
   {
    "duration": 7,
    "start_time": "2022-01-18T14:43:59.450Z"
   },
   {
    "duration": 127,
    "start_time": "2022-01-18T14:43:59.460Z"
   },
   {
    "duration": 72,
    "start_time": "2022-01-18T14:43:59.589Z"
   },
   {
    "duration": 501,
    "start_time": "2022-01-18T14:43:59.663Z"
   },
   {
    "duration": 508,
    "start_time": "2022-01-18T14:44:00.166Z"
   },
   {
    "duration": 492,
    "start_time": "2022-01-18T14:44:00.677Z"
   },
   {
    "duration": 32,
    "start_time": "2022-01-18T14:44:01.172Z"
   },
   {
    "duration": 143,
    "start_time": "2022-01-18T14:44:01.224Z"
   },
   {
    "duration": 193,
    "start_time": "2022-01-18T14:44:01.370Z"
   },
   {
    "duration": 2610,
    "start_time": "2022-01-18T14:44:01.565Z"
   },
   {
    "duration": 505,
    "start_time": "2022-01-18T14:44:04.177Z"
   },
   {
    "duration": 488,
    "start_time": "2022-01-18T14:44:04.684Z"
   },
   {
    "duration": 2525,
    "start_time": "2022-01-18T14:45:32.957Z"
   },
   {
    "duration": 10,
    "start_time": "2022-01-19T06:28:20.067Z"
   },
   {
    "duration": 7,
    "start_time": "2022-01-19T06:29:12.964Z"
   },
   {
    "duration": 435,
    "start_time": "2022-01-19T06:29:25.818Z"
   },
   {
    "duration": 369,
    "start_time": "2022-01-19T06:29:46.609Z"
   },
   {
    "duration": 347,
    "start_time": "2022-01-19T06:34:08.234Z"
   },
   {
    "duration": 407,
    "start_time": "2022-01-19T06:35:27.894Z"
   },
   {
    "duration": 481,
    "start_time": "2022-01-19T06:41:01.137Z"
   },
   {
    "duration": 537,
    "start_time": "2022-01-19T06:41:08.606Z"
   },
   {
    "duration": 410,
    "start_time": "2022-01-19T06:41:43.023Z"
   },
   {
    "duration": 390,
    "start_time": "2022-01-19T06:42:42.166Z"
   },
   {
    "duration": 340,
    "start_time": "2022-01-19T06:43:01.467Z"
   },
   {
    "duration": 393,
    "start_time": "2022-01-19T07:03:15.169Z"
   },
   {
    "duration": 434,
    "start_time": "2022-01-19T07:04:12.932Z"
   },
   {
    "duration": 100,
    "start_time": "2022-01-19T07:06:22.183Z"
   },
   {
    "duration": 1936,
    "start_time": "2022-01-19T07:06:34.547Z"
   },
   {
    "duration": 39,
    "start_time": "2022-01-19T07:06:36.486Z"
   },
   {
    "duration": 45,
    "start_time": "2022-01-19T07:06:36.529Z"
   },
   {
    "duration": 57,
    "start_time": "2022-01-19T07:06:36.578Z"
   },
   {
    "duration": 21,
    "start_time": "2022-01-19T07:06:36.638Z"
   },
   {
    "duration": 30,
    "start_time": "2022-01-19T07:06:36.662Z"
   },
   {
    "duration": 119,
    "start_time": "2022-01-19T07:06:36.724Z"
   },
   {
    "duration": 80,
    "start_time": "2022-01-19T07:06:36.846Z"
   },
   {
    "duration": 59,
    "start_time": "2022-01-19T07:06:36.932Z"
   },
   {
    "duration": 28,
    "start_time": "2022-01-19T07:06:36.995Z"
   },
   {
    "duration": 97,
    "start_time": "2022-01-19T07:06:37.026Z"
   },
   {
    "duration": 32,
    "start_time": "2022-01-19T07:06:37.127Z"
   },
   {
    "duration": 28,
    "start_time": "2022-01-19T07:06:37.162Z"
   },
   {
    "duration": 80,
    "start_time": "2022-01-19T07:06:37.193Z"
   },
   {
    "duration": 9,
    "start_time": "2022-01-19T07:06:37.276Z"
   },
   {
    "duration": 125,
    "start_time": "2022-01-19T07:06:37.288Z"
   },
   {
    "duration": 53,
    "start_time": "2022-01-19T07:06:37.424Z"
   },
   {
    "duration": 483,
    "start_time": "2022-01-19T07:06:37.480Z"
   },
   {
    "duration": 499,
    "start_time": "2022-01-19T07:06:37.967Z"
   },
   {
    "duration": 624,
    "start_time": "2022-01-19T07:06:38.469Z"
   },
   {
    "duration": 37,
    "start_time": "2022-01-19T07:06:39.096Z"
   },
   {
    "duration": 135,
    "start_time": "2022-01-19T07:06:39.135Z"
   },
   {
    "duration": 168,
    "start_time": "2022-01-19T07:06:39.273Z"
   },
   {
    "duration": 448,
    "start_time": "2022-01-19T07:06:39.443Z"
   },
   {
    "duration": 456,
    "start_time": "2022-01-19T07:06:39.894Z"
   },
   {
    "duration": 91,
    "start_time": "2022-01-19T07:06:40.353Z"
   },
   {
    "duration": 112,
    "start_time": "2022-01-19T07:07:16.546Z"
   },
   {
    "duration": 2161,
    "start_time": "2022-01-19T07:07:29.896Z"
   },
   {
    "duration": 39,
    "start_time": "2022-01-19T07:07:32.060Z"
   },
   {
    "duration": 32,
    "start_time": "2022-01-19T07:07:32.103Z"
   },
   {
    "duration": 25,
    "start_time": "2022-01-19T07:07:32.138Z"
   },
   {
    "duration": 17,
    "start_time": "2022-01-19T07:07:32.166Z"
   },
   {
    "duration": 52,
    "start_time": "2022-01-19T07:07:32.186Z"
   },
   {
    "duration": 99,
    "start_time": "2022-01-19T07:07:32.240Z"
   },
   {
    "duration": 55,
    "start_time": "2022-01-19T07:07:32.342Z"
   },
   {
    "duration": 62,
    "start_time": "2022-01-19T07:07:32.400Z"
   },
   {
    "duration": 11,
    "start_time": "2022-01-19T07:07:32.465Z"
   },
   {
    "duration": 83,
    "start_time": "2022-01-19T07:07:32.479Z"
   },
   {
    "duration": 23,
    "start_time": "2022-01-19T07:07:32.565Z"
   },
   {
    "duration": 54,
    "start_time": "2022-01-19T07:07:32.591Z"
   },
   {
    "duration": 58,
    "start_time": "2022-01-19T07:07:32.647Z"
   },
   {
    "duration": 16,
    "start_time": "2022-01-19T07:07:32.708Z"
   },
   {
    "duration": 107,
    "start_time": "2022-01-19T07:07:32.726Z"
   },
   {
    "duration": 51,
    "start_time": "2022-01-19T07:07:32.836Z"
   },
   {
    "duration": 491,
    "start_time": "2022-01-19T07:07:32.889Z"
   },
   {
    "duration": 472,
    "start_time": "2022-01-19T07:07:33.382Z"
   },
   {
    "duration": 447,
    "start_time": "2022-01-19T07:07:33.856Z"
   },
   {
    "duration": 39,
    "start_time": "2022-01-19T07:07:34.306Z"
   },
   {
    "duration": 132,
    "start_time": "2022-01-19T07:07:34.348Z"
   },
   {
    "duration": 172,
    "start_time": "2022-01-19T07:07:34.485Z"
   },
   {
    "duration": 453,
    "start_time": "2022-01-19T07:07:34.660Z"
   },
   {
    "duration": 459,
    "start_time": "2022-01-19T07:07:35.116Z"
   },
   {
    "duration": 115,
    "start_time": "2022-01-19T07:07:35.577Z"
   },
   {
    "duration": 109,
    "start_time": "2022-01-19T07:07:43.464Z"
   },
   {
    "duration": 103,
    "start_time": "2022-01-19T07:07:56.657Z"
   },
   {
    "duration": 382,
    "start_time": "2022-01-19T07:08:12.527Z"
   },
   {
    "duration": 444,
    "start_time": "2022-01-19T07:40:56.336Z"
   },
   {
    "duration": 473,
    "start_time": "2022-01-19T08:02:28.897Z"
   },
   {
    "duration": 287,
    "start_time": "2022-01-19T08:10:04.788Z"
   },
   {
    "duration": 331,
    "start_time": "2022-01-19T08:11:46.237Z"
   },
   {
    "duration": 727,
    "start_time": "2022-01-19T08:11:50.867Z"
   },
   {
    "duration": 297,
    "start_time": "2022-01-19T08:12:05.344Z"
   },
   {
    "duration": 2155,
    "start_time": "2022-01-19T08:16:10.818Z"
   },
   {
    "duration": 45,
    "start_time": "2022-01-19T08:16:12.976Z"
   },
   {
    "duration": 34,
    "start_time": "2022-01-19T08:16:13.025Z"
   },
   {
    "duration": 28,
    "start_time": "2022-01-19T08:16:13.061Z"
   },
   {
    "duration": 43,
    "start_time": "2022-01-19T08:16:13.091Z"
   },
   {
    "duration": 25,
    "start_time": "2022-01-19T08:16:13.137Z"
   },
   {
    "duration": 147,
    "start_time": "2022-01-19T08:16:13.165Z"
   },
   {
    "duration": 60,
    "start_time": "2022-01-19T08:16:13.316Z"
   },
   {
    "duration": 61,
    "start_time": "2022-01-19T08:16:13.379Z"
   },
   {
    "duration": 11,
    "start_time": "2022-01-19T08:16:13.443Z"
   },
   {
    "duration": 86,
    "start_time": "2022-01-19T08:16:13.456Z"
   },
   {
    "duration": 25,
    "start_time": "2022-01-19T08:16:13.545Z"
   },
   {
    "duration": 31,
    "start_time": "2022-01-19T08:16:13.572Z"
   },
   {
    "duration": 80,
    "start_time": "2022-01-19T08:16:13.605Z"
   },
   {
    "duration": 8,
    "start_time": "2022-01-19T08:16:13.687Z"
   },
   {
    "duration": 134,
    "start_time": "2022-01-19T08:16:13.697Z"
   },
   {
    "duration": 50,
    "start_time": "2022-01-19T08:16:13.834Z"
   },
   {
    "duration": 505,
    "start_time": "2022-01-19T08:16:13.886Z"
   },
   {
    "duration": 629,
    "start_time": "2022-01-19T08:16:14.394Z"
   },
   {
    "duration": 499,
    "start_time": "2022-01-19T08:16:15.025Z"
   },
   {
    "duration": 33,
    "start_time": "2022-01-19T08:16:15.526Z"
   },
   {
    "duration": 134,
    "start_time": "2022-01-19T08:16:15.562Z"
   },
   {
    "duration": 175,
    "start_time": "2022-01-19T08:16:15.700Z"
   },
   {
    "duration": 488,
    "start_time": "2022-01-19T08:16:15.877Z"
   },
   {
    "duration": 494,
    "start_time": "2022-01-19T08:16:16.368Z"
   },
   {
    "duration": 466,
    "start_time": "2022-01-19T08:16:16.865Z"
   },
   {
    "duration": 388,
    "start_time": "2022-01-19T08:16:54.358Z"
   },
   {
    "duration": 802,
    "start_time": "2022-01-19T08:17:13.493Z"
   },
   {
    "duration": 323,
    "start_time": "2022-01-19T08:17:31.014Z"
   },
   {
    "duration": 397,
    "start_time": "2022-01-19T08:21:47.315Z"
   },
   {
    "duration": 470,
    "start_time": "2022-01-19T08:30:02.653Z"
   },
   {
    "duration": 404,
    "start_time": "2022-01-19T08:30:30.189Z"
   },
   {
    "duration": 500,
    "start_time": "2022-01-19T08:32:09.531Z"
   },
   {
    "duration": 7438,
    "start_time": "2022-01-19T08:32:42.949Z"
   },
   {
    "duration": 7671,
    "start_time": "2022-01-19T08:32:53.547Z"
   },
   {
    "duration": 7692,
    "start_time": "2022-01-19T08:34:14.750Z"
   },
   {
    "duration": 1613,
    "start_time": "2022-01-19T08:35:00.547Z"
   },
   {
    "duration": 483,
    "start_time": "2022-01-19T08:37:29.490Z"
   },
   {
    "duration": 421,
    "start_time": "2022-01-19T08:40:41.480Z"
   },
   {
    "duration": 732,
    "start_time": "2022-01-19T08:41:33.984Z"
   },
   {
    "duration": 501,
    "start_time": "2022-01-19T08:41:48.589Z"
   },
   {
    "duration": 1183,
    "start_time": "2022-01-19T08:41:57.428Z"
   },
   {
    "duration": 931,
    "start_time": "2022-01-19T08:42:43.219Z"
   },
   {
    "duration": 955,
    "start_time": "2022-01-19T08:42:51.578Z"
   },
   {
    "duration": 1051,
    "start_time": "2022-01-19T08:43:04.909Z"
   },
   {
    "duration": 1302,
    "start_time": "2022-01-19T08:43:17.172Z"
   },
   {
    "duration": 2141,
    "start_time": "2022-01-19T08:44:18.732Z"
   },
   {
    "duration": 2505,
    "start_time": "2022-01-19T08:50:08.704Z"
   },
   {
    "duration": 2779,
    "start_time": "2022-01-19T08:51:41.581Z"
   },
   {
    "duration": 7812,
    "start_time": "2022-01-19T09:05:34.687Z"
   },
   {
    "duration": 602,
    "start_time": "2022-01-19T09:06:11.924Z"
   },
   {
    "duration": 496,
    "start_time": "2022-01-19T09:13:46.935Z"
   },
   {
    "duration": 299,
    "start_time": "2022-01-19T09:27:30.133Z"
   },
   {
    "duration": 329,
    "start_time": "2022-01-19T09:27:38.609Z"
   },
   {
    "duration": 10,
    "start_time": "2022-01-19T09:28:00.164Z"
   },
   {
    "duration": 12,
    "start_time": "2022-01-19T10:20:05.632Z"
   },
   {
    "duration": 12,
    "start_time": "2022-01-19T10:23:37.353Z"
   },
   {
    "duration": 14,
    "start_time": "2022-01-19T10:24:16.286Z"
   },
   {
    "duration": 19,
    "start_time": "2022-01-19T10:24:32.145Z"
   },
   {
    "duration": 19,
    "start_time": "2022-01-19T10:25:41.017Z"
   },
   {
    "duration": 20,
    "start_time": "2022-01-19T10:25:51.186Z"
   },
   {
    "duration": 15,
    "start_time": "2022-01-19T10:26:08.465Z"
   },
   {
    "duration": 17,
    "start_time": "2022-01-19T10:26:19.307Z"
   },
   {
    "duration": 8445,
    "start_time": "2022-01-19T11:01:11.924Z"
   },
   {
    "duration": 40,
    "start_time": "2022-01-19T11:06:36.052Z"
   },
   {
    "duration": 42,
    "start_time": "2022-01-19T11:07:24.840Z"
   },
   {
    "duration": 46,
    "start_time": "2022-01-19T11:08:12.852Z"
   },
   {
    "duration": 97,
    "start_time": "2022-01-19T11:11:39.748Z"
   },
   {
    "duration": 40,
    "start_time": "2022-01-19T11:14:07.863Z"
   },
   {
    "duration": 43,
    "start_time": "2022-01-19T11:14:24.205Z"
   },
   {
    "duration": 2361,
    "start_time": "2022-01-19T11:15:04.076Z"
   },
   {
    "duration": 41,
    "start_time": "2022-01-19T11:15:06.440Z"
   },
   {
    "duration": 69,
    "start_time": "2022-01-19T11:15:06.486Z"
   },
   {
    "duration": 36,
    "start_time": "2022-01-19T11:15:06.559Z"
   },
   {
    "duration": 37,
    "start_time": "2022-01-19T11:15:06.597Z"
   },
   {
    "duration": 26,
    "start_time": "2022-01-19T11:15:06.636Z"
   },
   {
    "duration": 112,
    "start_time": "2022-01-19T11:15:06.664Z"
   },
   {
    "duration": 66,
    "start_time": "2022-01-19T11:15:06.780Z"
   },
   {
    "duration": 44,
    "start_time": "2022-01-19T11:15:06.849Z"
   },
   {
    "duration": 10,
    "start_time": "2022-01-19T11:15:06.895Z"
   },
   {
    "duration": 87,
    "start_time": "2022-01-19T11:15:06.907Z"
   },
   {
    "duration": 39,
    "start_time": "2022-01-19T11:15:06.996Z"
   },
   {
    "duration": 31,
    "start_time": "2022-01-19T11:15:07.038Z"
   },
   {
    "duration": 87,
    "start_time": "2022-01-19T11:15:07.072Z"
   },
   {
    "duration": 7,
    "start_time": "2022-01-19T11:15:07.161Z"
   },
   {
    "duration": 116,
    "start_time": "2022-01-19T11:15:07.171Z"
   },
   {
    "duration": 63,
    "start_time": "2022-01-19T11:15:07.289Z"
   },
   {
    "duration": 512,
    "start_time": "2022-01-19T11:15:07.355Z"
   },
   {
    "duration": 518,
    "start_time": "2022-01-19T11:15:07.869Z"
   },
   {
    "duration": 496,
    "start_time": "2022-01-19T11:15:08.390Z"
   },
   {
    "duration": 52,
    "start_time": "2022-01-19T11:15:08.888Z"
   },
   {
    "duration": 132,
    "start_time": "2022-01-19T11:15:08.943Z"
   },
   {
    "duration": 177,
    "start_time": "2022-01-19T11:15:09.079Z"
   },
   {
    "duration": 513,
    "start_time": "2022-01-19T11:15:09.259Z"
   },
   {
    "duration": 496,
    "start_time": "2022-01-19T11:15:09.775Z"
   },
   {
    "duration": 498,
    "start_time": "2022-01-19T11:15:10.275Z"
   },
   {
    "duration": 3067,
    "start_time": "2022-01-19T11:15:10.775Z"
   },
   {
    "duration": 16,
    "start_time": "2022-01-19T11:15:13.845Z"
   },
   {
    "duration": 70,
    "start_time": "2022-01-19T11:15:13.864Z"
   },
   {
    "duration": 98,
    "start_time": "2022-01-19T11:15:13.937Z"
   },
   {
    "duration": 1917,
    "start_time": "2022-01-19T11:31:38.763Z"
   },
   {
    "duration": 43,
    "start_time": "2022-01-19T11:31:40.683Z"
   },
   {
    "duration": 49,
    "start_time": "2022-01-19T11:31:40.735Z"
   },
   {
    "duration": 55,
    "start_time": "2022-01-19T11:31:40.787Z"
   },
   {
    "duration": 17,
    "start_time": "2022-01-19T11:31:40.844Z"
   },
   {
    "duration": 24,
    "start_time": "2022-01-19T11:31:40.863Z"
   },
   {
    "duration": 85,
    "start_time": "2022-01-19T11:31:40.925Z"
   },
   {
    "duration": 67,
    "start_time": "2022-01-19T11:31:41.013Z"
   },
   {
    "duration": 69,
    "start_time": "2022-01-19T11:31:41.083Z"
   },
   {
    "duration": 11,
    "start_time": "2022-01-19T11:31:41.154Z"
   },
   {
    "duration": 108,
    "start_time": "2022-01-19T11:31:41.168Z"
   },
   {
    "duration": 36,
    "start_time": "2022-01-19T11:31:41.279Z"
   },
   {
    "duration": 41,
    "start_time": "2022-01-19T11:31:41.322Z"
   },
   {
    "duration": 79,
    "start_time": "2022-01-19T11:31:41.367Z"
   },
   {
    "duration": 10,
    "start_time": "2022-01-19T11:31:41.449Z"
   },
   {
    "duration": 128,
    "start_time": "2022-01-19T11:31:41.462Z"
   },
   {
    "duration": 67,
    "start_time": "2022-01-19T11:31:41.592Z"
   },
   {
    "duration": 501,
    "start_time": "2022-01-19T11:31:41.663Z"
   },
   {
    "duration": 495,
    "start_time": "2022-01-19T11:31:42.168Z"
   },
   {
    "duration": 637,
    "start_time": "2022-01-19T11:31:42.666Z"
   },
   {
    "duration": 45,
    "start_time": "2022-01-19T11:31:43.306Z"
   },
   {
    "duration": 169,
    "start_time": "2022-01-19T11:31:43.356Z"
   },
   {
    "duration": 177,
    "start_time": "2022-01-19T11:31:43.529Z"
   },
   {
    "duration": 489,
    "start_time": "2022-01-19T11:31:43.724Z"
   },
   {
    "duration": 490,
    "start_time": "2022-01-19T11:31:44.216Z"
   },
   {
    "duration": 494,
    "start_time": "2022-01-19T11:31:44.709Z"
   },
   {
    "duration": 2906,
    "start_time": "2022-01-19T11:31:45.206Z"
   },
   {
    "duration": 19,
    "start_time": "2022-01-19T11:31:48.115Z"
   },
   {
    "duration": 45,
    "start_time": "2022-01-19T11:31:48.137Z"
   },
   {
    "duration": 2023,
    "start_time": "2022-01-19T12:10:36.183Z"
   },
   {
    "duration": 40,
    "start_time": "2022-01-19T12:10:38.209Z"
   },
   {
    "duration": 32,
    "start_time": "2022-01-19T12:10:38.252Z"
   },
   {
    "duration": 51,
    "start_time": "2022-01-19T12:10:38.287Z"
   },
   {
    "duration": 16,
    "start_time": "2022-01-19T12:10:38.340Z"
   },
   {
    "duration": 22,
    "start_time": "2022-01-19T12:10:38.358Z"
   },
   {
    "duration": 121,
    "start_time": "2022-01-19T12:10:38.382Z"
   },
   {
    "duration": 60,
    "start_time": "2022-01-19T12:10:38.507Z"
   },
   {
    "duration": 62,
    "start_time": "2022-01-19T12:10:38.570Z"
   },
   {
    "duration": 12,
    "start_time": "2022-01-19T12:10:38.634Z"
   },
   {
    "duration": 81,
    "start_time": "2022-01-19T12:10:38.649Z"
   },
   {
    "duration": 23,
    "start_time": "2022-01-19T12:10:38.733Z"
   },
   {
    "duration": 29,
    "start_time": "2022-01-19T12:10:38.759Z"
   },
   {
    "duration": 83,
    "start_time": "2022-01-19T12:10:38.791Z"
   },
   {
    "duration": 7,
    "start_time": "2022-01-19T12:10:38.877Z"
   },
   {
    "duration": 126,
    "start_time": "2022-01-19T12:10:38.887Z"
   },
   {
    "duration": 53,
    "start_time": "2022-01-19T12:10:39.016Z"
   },
   {
    "duration": 510,
    "start_time": "2022-01-19T12:10:39.071Z"
   },
   {
    "duration": 670,
    "start_time": "2022-01-19T12:10:39.584Z"
   },
   {
    "duration": 666,
    "start_time": "2022-01-19T12:10:40.258Z"
   },
   {
    "duration": 41,
    "start_time": "2022-01-19T12:10:40.927Z"
   },
   {
    "duration": 200,
    "start_time": "2022-01-19T12:10:40.971Z"
   },
   {
    "duration": 184,
    "start_time": "2022-01-19T12:10:41.177Z"
   },
   {
    "duration": 538,
    "start_time": "2022-01-19T12:10:41.364Z"
   },
   {
    "duration": 500,
    "start_time": "2022-01-19T12:10:41.905Z"
   },
   {
    "duration": 567,
    "start_time": "2022-01-19T12:10:42.408Z"
   },
   {
    "duration": 2928,
    "start_time": "2022-01-19T12:10:42.977Z"
   },
   {
    "duration": 22,
    "start_time": "2022-01-19T12:10:45.907Z"
   },
   {
    "duration": 40,
    "start_time": "2022-01-19T12:10:45.932Z"
   },
   {
    "duration": 1429,
    "start_time": "2022-01-23T08:59:10.055Z"
   },
   {
    "duration": 28,
    "start_time": "2022-01-23T08:59:11.486Z"
   },
   {
    "duration": 22,
    "start_time": "2022-01-23T08:59:11.516Z"
   },
   {
    "duration": 19,
    "start_time": "2022-01-23T08:59:11.539Z"
   },
   {
    "duration": 10,
    "start_time": "2022-01-23T08:59:11.559Z"
   },
   {
    "duration": 40,
    "start_time": "2022-01-23T08:59:11.570Z"
   },
   {
    "duration": 58,
    "start_time": "2022-01-23T08:59:11.611Z"
   },
   {
    "duration": 55,
    "start_time": "2022-01-23T08:59:11.670Z"
   },
   {
    "duration": 42,
    "start_time": "2022-01-23T08:59:11.729Z"
   },
   {
    "duration": 7,
    "start_time": "2022-01-23T08:59:11.774Z"
   },
   {
    "duration": 48,
    "start_time": "2022-01-23T08:59:11.798Z"
   },
   {
    "duration": 19,
    "start_time": "2022-01-23T08:59:11.848Z"
   },
   {
    "duration": 46,
    "start_time": "2022-01-23T08:59:11.869Z"
   },
   {
    "duration": 38,
    "start_time": "2022-01-23T08:59:11.917Z"
   },
   {
    "duration": 5,
    "start_time": "2022-01-23T08:59:11.957Z"
   },
   {
    "duration": 72,
    "start_time": "2022-01-23T08:59:11.964Z"
   },
   {
    "duration": 31,
    "start_time": "2022-01-23T08:59:12.038Z"
   },
   {
    "duration": 335,
    "start_time": "2022-01-23T08:59:12.070Z"
   },
   {
    "duration": 317,
    "start_time": "2022-01-23T08:59:12.406Z"
   },
   {
    "duration": 338,
    "start_time": "2022-01-23T08:59:12.724Z"
   },
   {
    "duration": 21,
    "start_time": "2022-01-23T08:59:13.064Z"
   },
   {
    "duration": 88,
    "start_time": "2022-01-23T08:59:13.087Z"
   },
   {
    "duration": 125,
    "start_time": "2022-01-23T08:59:13.177Z"
   },
   {
    "duration": 310,
    "start_time": "2022-01-23T08:59:13.304Z"
   },
   {
    "duration": 298,
    "start_time": "2022-01-23T08:59:13.616Z"
   },
   {
    "duration": 307,
    "start_time": "2022-01-23T08:59:13.915Z"
   },
   {
    "duration": 1935,
    "start_time": "2022-01-23T08:59:14.225Z"
   },
   {
    "duration": 11,
    "start_time": "2022-01-23T08:59:16.162Z"
   },
   {
    "duration": 46,
    "start_time": "2022-01-23T08:59:16.175Z"
   },
   {
    "duration": 4,
    "start_time": "2022-01-23T09:01:37.600Z"
   },
   {
    "duration": 7,
    "start_time": "2022-01-23T09:06:41.858Z"
   },
   {
    "duration": 5,
    "start_time": "2022-01-23T09:12:14.780Z"
   },
   {
    "duration": 357,
    "start_time": "2022-01-23T10:52:08.023Z"
   },
   {
    "duration": 1802,
    "start_time": "2022-01-23T10:52:17.470Z"
   },
   {
    "duration": 42,
    "start_time": "2022-01-23T10:52:19.275Z"
   },
   {
    "duration": 33,
    "start_time": "2022-01-23T10:52:19.320Z"
   },
   {
    "duration": 26,
    "start_time": "2022-01-23T10:52:19.356Z"
   },
   {
    "duration": 38,
    "start_time": "2022-01-23T10:52:19.385Z"
   },
   {
    "duration": 23,
    "start_time": "2022-01-23T10:52:19.425Z"
   },
   {
    "duration": 95,
    "start_time": "2022-01-23T10:52:19.451Z"
   },
   {
    "duration": 48,
    "start_time": "2022-01-23T10:52:19.550Z"
   },
   {
    "duration": 58,
    "start_time": "2022-01-23T10:52:19.602Z"
   },
   {
    "duration": 12,
    "start_time": "2022-01-23T10:52:19.663Z"
   },
   {
    "duration": 87,
    "start_time": "2022-01-23T10:52:19.678Z"
   },
   {
    "duration": 23,
    "start_time": "2022-01-23T10:52:19.768Z"
   },
   {
    "duration": 45,
    "start_time": "2022-01-23T10:52:19.793Z"
   },
   {
    "duration": 103,
    "start_time": "2022-01-23T10:52:19.840Z"
   },
   {
    "duration": 7,
    "start_time": "2022-01-23T10:52:19.945Z"
   },
   {
    "duration": 9,
    "start_time": "2022-01-23T10:52:19.955Z"
   },
   {
    "duration": 457,
    "start_time": "2022-01-23T10:52:19.966Z"
   },
   {
    "duration": 10,
    "start_time": "2022-01-23T10:52:20.425Z"
   },
   {
    "duration": 45,
    "start_time": "2022-01-23T10:52:20.437Z"
   },
   {
    "duration": 472,
    "start_time": "2022-01-23T10:52:20.484Z"
   },
   {
    "duration": 468,
    "start_time": "2022-01-23T10:52:20.958Z"
   },
   {
    "duration": 426,
    "start_time": "2022-01-23T10:52:21.428Z"
   },
   {
    "duration": 29,
    "start_time": "2022-01-23T10:52:21.858Z"
   },
   {
    "duration": 158,
    "start_time": "2022-01-23T10:52:21.890Z"
   },
   {
    "duration": 194,
    "start_time": "2022-01-23T10:52:22.050Z"
   },
   {
    "duration": 429,
    "start_time": "2022-01-23T10:52:22.247Z"
   },
   {
    "duration": 455,
    "start_time": "2022-01-23T10:52:22.679Z"
   },
   {
    "duration": 452,
    "start_time": "2022-01-23T10:52:23.137Z"
   },
   {
    "duration": 2560,
    "start_time": "2022-01-23T10:52:23.592Z"
   },
   {
    "duration": 13,
    "start_time": "2022-01-23T10:52:26.154Z"
   },
   {
    "duration": 66,
    "start_time": "2022-01-23T10:52:26.170Z"
   },
   {
    "duration": 825,
    "start_time": "2022-01-23T10:59:41.213Z"
   },
   {
    "duration": 4,
    "start_time": "2022-01-23T10:59:44.893Z"
   },
   {
    "duration": 27,
    "start_time": "2022-01-23T10:59:47.020Z"
   },
   {
    "duration": 25,
    "start_time": "2022-01-23T11:00:14.365Z"
   },
   {
    "duration": 24,
    "start_time": "2022-01-23T11:00:34.684Z"
   },
   {
    "duration": 21,
    "start_time": "2022-01-23T11:00:52.173Z"
   },
   {
    "duration": 25,
    "start_time": "2022-01-23T11:01:12.668Z"
   },
   {
    "duration": 88,
    "start_time": "2022-01-23T11:01:58.379Z"
   },
   {
    "duration": 46,
    "start_time": "2022-01-23T11:02:13.627Z"
   },
   {
    "duration": 54,
    "start_time": "2022-01-23T11:04:16.634Z"
   },
   {
    "duration": 340,
    "start_time": "2022-01-23T11:08:04.978Z"
   },
   {
    "duration": 47,
    "start_time": "2022-01-23T11:08:27.114Z"
   },
   {
    "duration": 55,
    "start_time": "2022-01-23T11:09:38.817Z"
   },
   {
    "duration": 1872,
    "start_time": "2022-01-23T11:10:01.835Z"
   },
   {
    "duration": 4,
    "start_time": "2022-01-23T11:10:03.710Z"
   },
   {
    "duration": 39,
    "start_time": "2022-01-23T11:10:03.720Z"
   },
   {
    "duration": 30,
    "start_time": "2022-01-23T11:10:03.761Z"
   },
   {
    "duration": 45,
    "start_time": "2022-01-23T11:10:03.794Z"
   },
   {
    "duration": 15,
    "start_time": "2022-01-23T11:10:03.841Z"
   },
   {
    "duration": 20,
    "start_time": "2022-01-23T11:10:03.860Z"
   },
   {
    "duration": 2751,
    "start_time": "2022-01-23T11:10:03.883Z"
   },
   {
    "duration": -1805,
    "start_time": "2022-01-23T11:10:08.443Z"
   },
   {
    "duration": -1807,
    "start_time": "2022-01-23T11:10:08.446Z"
   },
   {
    "duration": -1807,
    "start_time": "2022-01-23T11:10:08.448Z"
   },
   {
    "duration": -1808,
    "start_time": "2022-01-23T11:10:08.451Z"
   },
   {
    "duration": -1813,
    "start_time": "2022-01-23T11:10:08.457Z"
   },
   {
    "duration": -1815,
    "start_time": "2022-01-23T11:10:08.460Z"
   },
   {
    "duration": -1816,
    "start_time": "2022-01-23T11:10:08.462Z"
   },
   {
    "duration": -1818,
    "start_time": "2022-01-23T11:10:08.466Z"
   },
   {
    "duration": -1823,
    "start_time": "2022-01-23T11:10:08.472Z"
   },
   {
    "duration": -1823,
    "start_time": "2022-01-23T11:10:08.474Z"
   },
   {
    "duration": -1825,
    "start_time": "2022-01-23T11:10:08.477Z"
   },
   {
    "duration": -1826,
    "start_time": "2022-01-23T11:10:08.479Z"
   },
   {
    "duration": -1827,
    "start_time": "2022-01-23T11:10:08.482Z"
   },
   {
    "duration": -1828,
    "start_time": "2022-01-23T11:10:08.484Z"
   },
   {
    "duration": -1834,
    "start_time": "2022-01-23T11:10:08.491Z"
   },
   {
    "duration": -1836,
    "start_time": "2022-01-23T11:10:08.494Z"
   },
   {
    "duration": -1836,
    "start_time": "2022-01-23T11:10:08.496Z"
   },
   {
    "duration": -1838,
    "start_time": "2022-01-23T11:10:08.499Z"
   },
   {
    "duration": -1843,
    "start_time": "2022-01-23T11:10:08.505Z"
   },
   {
    "duration": -1844,
    "start_time": "2022-01-23T11:10:08.507Z"
   },
   {
    "duration": -1845,
    "start_time": "2022-01-23T11:10:08.510Z"
   },
   {
    "duration": -1846,
    "start_time": "2022-01-23T11:10:08.512Z"
   },
   {
    "duration": -1848,
    "start_time": "2022-01-23T11:10:08.515Z"
   },
   {
    "duration": -1848,
    "start_time": "2022-01-23T11:10:08.517Z"
   },
   {
    "duration": 2076,
    "start_time": "2022-01-23T11:13:20.906Z"
   },
   {
    "duration": 81,
    "start_time": "2022-01-23T11:13:39.458Z"
   },
   {
    "duration": 1931,
    "start_time": "2022-01-23T11:13:54.934Z"
   },
   {
    "duration": 3,
    "start_time": "2022-01-23T11:13:56.868Z"
   },
   {
    "duration": 64,
    "start_time": "2022-01-23T11:13:56.875Z"
   },
   {
    "duration": 50,
    "start_time": "2022-01-23T11:13:56.942Z"
   },
   {
    "duration": 57,
    "start_time": "2022-01-23T11:13:56.995Z"
   },
   {
    "duration": 16,
    "start_time": "2022-01-23T11:13:57.055Z"
   },
   {
    "duration": 54,
    "start_time": "2022-01-23T11:13:57.073Z"
   },
   {
    "duration": 101,
    "start_time": "2022-01-23T11:13:57.131Z"
   },
   {
    "duration": 2226,
    "start_time": "2022-01-23T11:13:57.236Z"
   },
   {
    "duration": -1791,
    "start_time": "2022-01-23T11:14:01.256Z"
   },
   {
    "duration": -1792,
    "start_time": "2022-01-23T11:14:01.259Z"
   },
   {
    "duration": -1794,
    "start_time": "2022-01-23T11:14:01.262Z"
   },
   {
    "duration": -1795,
    "start_time": "2022-01-23T11:14:01.265Z"
   },
   {
    "duration": -1801,
    "start_time": "2022-01-23T11:14:01.272Z"
   },
   {
    "duration": -1802,
    "start_time": "2022-01-23T11:14:01.275Z"
   },
   {
    "duration": -1803,
    "start_time": "2022-01-23T11:14:01.277Z"
   },
   {
    "duration": -1804,
    "start_time": "2022-01-23T11:14:01.280Z"
   },
   {
    "duration": -1805,
    "start_time": "2022-01-23T11:14:01.282Z"
   },
   {
    "duration": -1806,
    "start_time": "2022-01-23T11:14:01.284Z"
   },
   {
    "duration": -1806,
    "start_time": "2022-01-23T11:14:01.286Z"
   },
   {
    "duration": -1807,
    "start_time": "2022-01-23T11:14:01.288Z"
   },
   {
    "duration": -1807,
    "start_time": "2022-01-23T11:14:01.290Z"
   },
   {
    "duration": -1809,
    "start_time": "2022-01-23T11:14:01.293Z"
   },
   {
    "duration": -1810,
    "start_time": "2022-01-23T11:14:01.295Z"
   },
   {
    "duration": -1810,
    "start_time": "2022-01-23T11:14:01.297Z"
   },
   {
    "duration": -1817,
    "start_time": "2022-01-23T11:14:01.305Z"
   },
   {
    "duration": -1817,
    "start_time": "2022-01-23T11:14:01.307Z"
   },
   {
    "duration": -1817,
    "start_time": "2022-01-23T11:14:01.309Z"
   },
   {
    "duration": -1819,
    "start_time": "2022-01-23T11:14:01.312Z"
   },
   {
    "duration": -1819,
    "start_time": "2022-01-23T11:14:01.314Z"
   },
   {
    "duration": -1820,
    "start_time": "2022-01-23T11:14:01.316Z"
   },
   {
    "duration": -1820,
    "start_time": "2022-01-23T11:14:01.318Z"
   },
   {
    "duration": 2079,
    "start_time": "2022-01-23T11:16:52.480Z"
   },
   {
    "duration": 4,
    "start_time": "2022-01-23T11:16:54.562Z"
   },
   {
    "duration": 43,
    "start_time": "2022-01-23T11:16:54.570Z"
   },
   {
    "duration": 31,
    "start_time": "2022-01-23T11:16:54.617Z"
   },
   {
    "duration": 25,
    "start_time": "2022-01-23T11:16:54.651Z"
   },
   {
    "duration": 51,
    "start_time": "2022-01-23T11:16:54.680Z"
   },
   {
    "duration": 33,
    "start_time": "2022-01-23T11:16:54.734Z"
   },
   {
    "duration": 480,
    "start_time": "2022-01-23T11:16:54.773Z"
   },
   {
    "duration": -1776,
    "start_time": "2022-01-23T11:16:57.032Z"
   },
   {
    "duration": -1778,
    "start_time": "2022-01-23T11:16:57.036Z"
   },
   {
    "duration": -1781,
    "start_time": "2022-01-23T11:16:57.040Z"
   },
   {
    "duration": -1783,
    "start_time": "2022-01-23T11:16:57.044Z"
   },
   {
    "duration": -1785,
    "start_time": "2022-01-23T11:16:57.048Z"
   },
   {
    "duration": -1789,
    "start_time": "2022-01-23T11:16:57.053Z"
   },
   {
    "duration": -1791,
    "start_time": "2022-01-23T11:16:57.057Z"
   },
   {
    "duration": -1794,
    "start_time": "2022-01-23T11:16:57.061Z"
   },
   {
    "duration": -1796,
    "start_time": "2022-01-23T11:16:57.065Z"
   },
   {
    "duration": -1803,
    "start_time": "2022-01-23T11:16:57.073Z"
   },
   {
    "duration": -1803,
    "start_time": "2022-01-23T11:16:57.075Z"
   },
   {
    "duration": -1804,
    "start_time": "2022-01-23T11:16:57.077Z"
   },
   {
    "duration": -1804,
    "start_time": "2022-01-23T11:16:57.079Z"
   },
   {
    "duration": -1805,
    "start_time": "2022-01-23T11:16:57.081Z"
   },
   {
    "duration": -1805,
    "start_time": "2022-01-23T11:16:57.083Z"
   },
   {
    "duration": -1810,
    "start_time": "2022-01-23T11:16:57.089Z"
   },
   {
    "duration": -1810,
    "start_time": "2022-01-23T11:16:57.091Z"
   },
   {
    "duration": -1811,
    "start_time": "2022-01-23T11:16:57.093Z"
   },
   {
    "duration": -1812,
    "start_time": "2022-01-23T11:16:57.095Z"
   },
   {
    "duration": -1813,
    "start_time": "2022-01-23T11:16:57.098Z"
   },
   {
    "duration": -1814,
    "start_time": "2022-01-23T11:16:57.100Z"
   },
   {
    "duration": -1813,
    "start_time": "2022-01-23T11:16:57.102Z"
   },
   {
    "duration": -1813,
    "start_time": "2022-01-23T11:16:57.104Z"
   },
   {
    "duration": -1814,
    "start_time": "2022-01-23T11:16:57.106Z"
   },
   {
    "duration": 335,
    "start_time": "2022-01-23T11:17:13.760Z"
   },
   {
    "duration": 57,
    "start_time": "2022-01-23T11:17:35.937Z"
   },
   {
    "duration": 2109,
    "start_time": "2022-01-23T11:17:50.553Z"
   },
   {
    "duration": 4,
    "start_time": "2022-01-23T11:17:52.665Z"
   },
   {
    "duration": 63,
    "start_time": "2022-01-23T11:17:52.673Z"
   },
   {
    "duration": 49,
    "start_time": "2022-01-23T11:17:52.739Z"
   },
   {
    "duration": 61,
    "start_time": "2022-01-23T11:17:52.791Z"
   },
   {
    "duration": 22,
    "start_time": "2022-01-23T11:17:52.855Z"
   },
   {
    "duration": 51,
    "start_time": "2022-01-23T11:17:52.879Z"
   },
   {
    "duration": 2375,
    "start_time": "2022-01-23T11:17:52.936Z"
   },
   {
    "duration": -1793,
    "start_time": "2022-01-23T11:17:57.108Z"
   },
   {
    "duration": -1797,
    "start_time": "2022-01-23T11:17:57.113Z"
   },
   {
    "duration": -1799,
    "start_time": "2022-01-23T11:17:57.117Z"
   },
   {
    "duration": -1801,
    "start_time": "2022-01-23T11:17:57.121Z"
   },
   {
    "duration": -1805,
    "start_time": "2022-01-23T11:17:57.126Z"
   },
   {
    "duration": -1808,
    "start_time": "2022-01-23T11:17:57.130Z"
   },
   {
    "duration": -1811,
    "start_time": "2022-01-23T11:17:57.135Z"
   },
   {
    "duration": -1814,
    "start_time": "2022-01-23T11:17:57.139Z"
   },
   {
    "duration": -1817,
    "start_time": "2022-01-23T11:17:57.144Z"
   },
   {
    "duration": -1820,
    "start_time": "2022-01-23T11:17:57.148Z"
   },
   {
    "duration": -1822,
    "start_time": "2022-01-23T11:17:57.152Z"
   },
   {
    "duration": -1836,
    "start_time": "2022-01-23T11:17:57.167Z"
   },
   {
    "duration": -1840,
    "start_time": "2022-01-23T11:17:57.172Z"
   },
   {
    "duration": -1842,
    "start_time": "2022-01-23T11:17:57.176Z"
   },
   {
    "duration": -1845,
    "start_time": "2022-01-23T11:17:57.180Z"
   },
   {
    "duration": -1848,
    "start_time": "2022-01-23T11:17:57.184Z"
   },
   {
    "duration": -1851,
    "start_time": "2022-01-23T11:17:57.189Z"
   },
   {
    "duration": -1854,
    "start_time": "2022-01-23T11:17:57.193Z"
   },
   {
    "duration": -1855,
    "start_time": "2022-01-23T11:17:57.195Z"
   },
   {
    "duration": -1856,
    "start_time": "2022-01-23T11:17:57.198Z"
   },
   {
    "duration": -1857,
    "start_time": "2022-01-23T11:17:57.200Z"
   },
   {
    "duration": -1858,
    "start_time": "2022-01-23T11:17:57.202Z"
   },
   {
    "duration": -1858,
    "start_time": "2022-01-23T11:17:57.204Z"
   },
   {
    "duration": -1859,
    "start_time": "2022-01-23T11:17:57.206Z"
   },
   {
    "duration": 2382,
    "start_time": "2022-01-23T11:18:22.434Z"
   },
   {
    "duration": 2476,
    "start_time": "2022-01-23T11:18:41.297Z"
   },
   {
    "duration": 87,
    "start_time": "2022-01-23T11:19:00.786Z"
   },
   {
    "duration": 69,
    "start_time": "2022-01-23T11:23:25.265Z"
   },
   {
    "duration": 2198,
    "start_time": "2022-01-23T11:23:26.793Z"
   },
   {
    "duration": 50,
    "start_time": "2022-01-23T11:24:14.736Z"
   },
   {
    "duration": 45,
    "start_time": "2022-01-23T11:24:19.671Z"
   },
   {
    "duration": 10,
    "start_time": "2022-01-23T11:24:20.311Z"
   },
   {
    "duration": 60,
    "start_time": "2022-01-23T11:24:22.897Z"
   },
   {
    "duration": 22,
    "start_time": "2022-01-23T11:24:24.294Z"
   },
   {
    "duration": 28,
    "start_time": "2022-01-23T11:24:25.230Z"
   },
   {
    "duration": 96,
    "start_time": "2022-01-23T11:25:12.153Z"
   },
   {
    "duration": 5,
    "start_time": "2022-01-23T11:25:33.766Z"
   },
   {
    "duration": 11,
    "start_time": "2022-01-23T11:25:39.999Z"
   },
   {
    "duration": 438,
    "start_time": "2022-01-23T11:25:42.535Z"
   },
   {
    "duration": 12,
    "start_time": "2022-01-23T11:25:53.039Z"
   },
   {
    "duration": 51,
    "start_time": "2022-01-23T11:26:02.430Z"
   },
   {
    "duration": 456,
    "start_time": "2022-01-23T11:26:25.919Z"
   },
   {
    "duration": 832,
    "start_time": "2022-01-23T11:27:55.599Z"
   },
   {
    "duration": 104,
    "start_time": "2022-01-23T11:29:21.511Z"
   },
   {
    "duration": 453,
    "start_time": "2022-01-23T11:31:06.406Z"
   },
   {
    "duration": 516,
    "start_time": "2022-01-23T11:31:29.933Z"
   },
   {
    "duration": 502,
    "start_time": "2022-01-23T11:32:10.397Z"
   },
   {
    "duration": 474,
    "start_time": "2022-01-23T11:32:36.981Z"
   },
   {
    "duration": 29,
    "start_time": "2022-01-23T11:33:21.501Z"
   },
   {
    "duration": 220,
    "start_time": "2022-01-23T11:33:22.805Z"
   },
   {
    "duration": 150,
    "start_time": "2022-01-23T11:34:09.949Z"
   },
   {
    "duration": 475,
    "start_time": "2022-01-23T11:35:02.229Z"
   },
   {
    "duration": 452,
    "start_time": "2022-01-23T11:35:18.348Z"
   },
   {
    "duration": 472,
    "start_time": "2022-01-23T11:35:35.412Z"
   },
   {
    "duration": 3666,
    "start_time": "2022-01-23T11:35:39.836Z"
   },
   {
    "duration": 5210,
    "start_time": "2022-01-23T11:38:03.412Z"
   },
   {
    "duration": 3915,
    "start_time": "2022-01-23T11:38:19.020Z"
   },
   {
    "duration": 2874,
    "start_time": "2022-01-23T11:38:32.293Z"
   },
   {
    "duration": 3151,
    "start_time": "2022-01-23T11:39:44.348Z"
   },
   {
    "duration": 1456,
    "start_time": "2022-01-23T15:05:37.785Z"
   },
   {
    "duration": 2,
    "start_time": "2022-01-23T15:05:39.243Z"
   },
   {
    "duration": 27,
    "start_time": "2022-01-23T15:05:39.767Z"
   },
   {
    "duration": 1377,
    "start_time": "2022-01-23T15:06:51.766Z"
   },
   {
    "duration": 3,
    "start_time": "2022-01-23T15:06:55.829Z"
   },
   {
    "duration": 30,
    "start_time": "2022-01-23T15:06:57.014Z"
   },
   {
    "duration": 22,
    "start_time": "2022-01-23T15:07:00.990Z"
   },
   {
    "duration": 19,
    "start_time": "2022-01-23T15:07:04.349Z"
   },
   {
    "duration": 11,
    "start_time": "2022-01-23T15:07:08.150Z"
   },
   {
    "duration": 14,
    "start_time": "2022-01-23T15:07:11.800Z"
   },
   {
    "duration": 45,
    "start_time": "2022-01-23T15:08:54.285Z"
   },
   {
    "duration": 46,
    "start_time": "2022-01-23T15:09:31.397Z"
   },
   {
    "duration": 302,
    "start_time": "2022-01-23T15:10:03.589Z"
   },
   {
    "duration": 44,
    "start_time": "2022-01-23T15:10:10.885Z"
   },
   {
    "duration": 42,
    "start_time": "2022-01-23T15:10:56.725Z"
   },
   {
    "duration": 36,
    "start_time": "2022-01-23T15:11:18.332Z"
   },
   {
    "duration": 39,
    "start_time": "2022-01-23T15:35:07.957Z"
   },
   {
    "duration": 35,
    "start_time": "2022-01-23T15:35:49.820Z"
   },
   {
    "duration": 9,
    "start_time": "2022-01-23T15:35:54.301Z"
   },
   {
    "duration": 51,
    "start_time": "2022-01-23T15:35:57.532Z"
   },
   {
    "duration": 1464,
    "start_time": "2022-01-23T15:36:12.677Z"
   },
   {
    "duration": 3,
    "start_time": "2022-01-23T15:36:15.579Z"
   },
   {
    "duration": 31,
    "start_time": "2022-01-23T15:36:17.829Z"
   },
   {
    "duration": 27,
    "start_time": "2022-01-23T15:36:22.100Z"
   },
   {
    "duration": 19,
    "start_time": "2022-01-23T15:36:25.269Z"
   },
   {
    "duration": 11,
    "start_time": "2022-01-23T15:36:28.660Z"
   },
   {
    "duration": 13,
    "start_time": "2022-01-23T15:36:32.284Z"
   },
   {
    "duration": 70,
    "start_time": "2022-01-23T15:36:37.756Z"
   },
   {
    "duration": 47,
    "start_time": "2022-01-23T15:36:39.972Z"
   },
   {
    "duration": 33,
    "start_time": "2022-01-23T15:36:44.835Z"
   },
   {
    "duration": 8,
    "start_time": "2022-01-23T15:36:46.323Z"
   },
   {
    "duration": 53,
    "start_time": "2022-01-23T15:36:48.924Z"
   },
   {
    "duration": 20,
    "start_time": "2022-01-23T15:36:53.556Z"
   },
   {
    "duration": 25,
    "start_time": "2022-01-23T15:36:56.140Z"
   },
   {
    "duration": 76,
    "start_time": "2022-01-23T15:36:59.213Z"
   },
   {
    "duration": 4,
    "start_time": "2022-01-23T15:38:21.604Z"
   },
   {
    "duration": 6,
    "start_time": "2022-01-23T15:38:25.804Z"
   },
   {
    "duration": 312,
    "start_time": "2022-01-23T15:38:28.332Z"
   },
   {
    "duration": 8,
    "start_time": "2022-01-23T15:38:42.748Z"
   },
   {
    "duration": 37,
    "start_time": "2022-01-23T15:38:55.901Z"
   },
   {
    "duration": 319,
    "start_time": "2022-01-23T15:39:07.523Z"
   },
   {
    "duration": 313,
    "start_time": "2022-01-23T15:39:38.603Z"
   },
   {
    "duration": 456,
    "start_time": "2022-01-23T15:39:52.483Z"
   },
   {
    "duration": 468,
    "start_time": "2022-01-23T15:40:01.028Z"
   },
   {
    "duration": 548,
    "start_time": "2022-01-23T15:40:06.756Z"
   },
   {
    "duration": 1451,
    "start_time": "2022-01-23T15:42:39.893Z"
   },
   {
    "duration": 3,
    "start_time": "2022-01-23T15:42:42.756Z"
   },
   {
    "duration": 31,
    "start_time": "2022-01-23T15:42:43.493Z"
   },
   {
    "duration": 22,
    "start_time": "2022-01-23T15:42:47.789Z"
   },
   {
    "duration": 19,
    "start_time": "2022-01-23T15:42:50.829Z"
   },
   {
    "duration": 11,
    "start_time": "2022-01-23T15:42:53.549Z"
   },
   {
    "duration": 16,
    "start_time": "2022-01-23T15:42:56.716Z"
   },
   {
    "duration": 63,
    "start_time": "2022-01-23T15:43:00.661Z"
   },
   {
    "duration": 43,
    "start_time": "2022-01-23T15:43:02.613Z"
   },
   {
    "duration": 33,
    "start_time": "2022-01-23T15:43:06.230Z"
   },
   {
    "duration": 7,
    "start_time": "2022-01-23T15:43:07.869Z"
   },
   {
    "duration": 55,
    "start_time": "2022-01-23T15:43:10.429Z"
   },
   {
    "duration": 20,
    "start_time": "2022-01-23T15:43:12.916Z"
   },
   {
    "duration": 23,
    "start_time": "2022-01-23T15:43:15.045Z"
   },
   {
    "duration": 118,
    "start_time": "2022-01-23T15:43:17.653Z"
   },
   {
    "duration": 4,
    "start_time": "2022-01-23T15:43:34.836Z"
   },
   {
    "duration": 5,
    "start_time": "2022-01-23T15:43:40.964Z"
   },
   {
    "duration": 518,
    "start_time": "2022-01-23T15:43:42.918Z"
   },
   {
    "duration": 9,
    "start_time": "2022-01-23T15:43:46.988Z"
   },
   {
    "duration": 34,
    "start_time": "2022-01-23T15:43:49.437Z"
   },
   {
    "duration": 470,
    "start_time": "2022-01-23T15:43:56.444Z"
   },
   {
    "duration": 309,
    "start_time": "2022-01-23T15:44:02.428Z"
   },
   {
    "duration": 314,
    "start_time": "2022-01-23T15:44:13.509Z"
   },
   {
    "duration": 1459,
    "start_time": "2022-01-23T15:45:23.783Z"
   },
   {
    "duration": 2,
    "start_time": "2022-01-23T15:45:25.244Z"
   },
   {
    "duration": 33,
    "start_time": "2022-01-23T15:45:25.248Z"
   },
   {
    "duration": 23,
    "start_time": "2022-01-23T15:45:25.283Z"
   },
   {
    "duration": 30,
    "start_time": "2022-01-23T15:45:25.308Z"
   },
   {
    "duration": 14,
    "start_time": "2022-01-23T15:45:25.340Z"
   },
   {
    "duration": 16,
    "start_time": "2022-01-23T15:45:25.356Z"
   },
   {
    "duration": 76,
    "start_time": "2022-01-23T15:45:25.375Z"
   },
   {
    "duration": 42,
    "start_time": "2022-01-23T15:45:25.453Z"
   },
   {
    "duration": 52,
    "start_time": "2022-01-23T15:45:25.497Z"
   },
   {
    "duration": 9,
    "start_time": "2022-01-23T15:45:25.550Z"
   },
   {
    "duration": 76,
    "start_time": "2022-01-23T15:45:25.561Z"
   },
   {
    "duration": 20,
    "start_time": "2022-01-23T15:45:25.639Z"
   },
   {
    "duration": 23,
    "start_time": "2022-01-23T15:45:25.661Z"
   },
   {
    "duration": 91,
    "start_time": "2022-01-23T15:45:25.685Z"
   },
   {
    "duration": 4,
    "start_time": "2022-01-23T15:45:25.778Z"
   },
   {
    "duration": 9,
    "start_time": "2022-01-23T15:45:25.784Z"
   },
   {
    "duration": 289,
    "start_time": "2022-01-23T15:45:25.795Z"
   },
   {
    "duration": 7,
    "start_time": "2022-01-23T15:45:26.086Z"
   },
   {
    "duration": 52,
    "start_time": "2022-01-23T15:45:26.095Z"
   },
   {
    "duration": 358,
    "start_time": "2022-01-23T15:45:26.149Z"
   },
   {
    "duration": 335,
    "start_time": "2022-01-23T15:45:26.517Z"
   },
   {
    "duration": 326,
    "start_time": "2022-01-23T15:45:26.855Z"
   },
   {
    "duration": 19,
    "start_time": "2022-01-23T15:45:27.182Z"
   },
   {
    "duration": 71,
    "start_time": "2022-01-23T15:45:27.217Z"
   },
   {
    "duration": 107,
    "start_time": "2022-01-23T15:45:27.290Z"
   },
   {
    "duration": 324,
    "start_time": "2022-01-23T15:45:27.398Z"
   },
   {
    "duration": 317,
    "start_time": "2022-01-23T15:45:27.727Z"
   },
   {
    "duration": 314,
    "start_time": "2022-01-23T15:45:28.046Z"
   },
   {
    "duration": 1940,
    "start_time": "2022-01-23T15:45:28.361Z"
   },
   {
    "duration": 13,
    "start_time": "2022-01-23T15:45:30.303Z"
   },
   {
    "duration": 33,
    "start_time": "2022-01-23T15:45:30.318Z"
   },
   {
    "duration": 5780,
    "start_time": "2022-01-23T15:59:55.321Z"
   },
   {
    "duration": 9,
    "start_time": "2022-01-23T16:01:50.704Z"
   },
   {
    "duration": 68,
    "start_time": "2022-01-23T16:10:10.989Z"
   },
   {
    "duration": 1408,
    "start_time": "2022-01-23T16:11:47.210Z"
   },
   {
    "duration": 3,
    "start_time": "2022-01-23T16:11:48.619Z"
   },
   {
    "duration": 31,
    "start_time": "2022-01-23T16:11:48.624Z"
   },
   {
    "duration": 22,
    "start_time": "2022-01-23T16:11:48.656Z"
   },
   {
    "duration": 42,
    "start_time": "2022-01-23T16:11:48.680Z"
   },
   {
    "duration": 11,
    "start_time": "2022-01-23T16:11:48.723Z"
   },
   {
    "duration": 14,
    "start_time": "2022-01-23T16:11:48.735Z"
   },
   {
    "duration": 83,
    "start_time": "2022-01-23T16:11:48.751Z"
   },
   {
    "duration": 36,
    "start_time": "2022-01-23T16:11:48.837Z"
   },
   {
    "duration": 43,
    "start_time": "2022-01-23T16:11:48.875Z"
   },
   {
    "duration": 9,
    "start_time": "2022-01-23T16:11:48.919Z"
   },
   {
    "duration": 52,
    "start_time": "2022-01-23T16:11:48.929Z"
   },
   {
    "duration": 38,
    "start_time": "2022-01-23T16:11:48.982Z"
   },
   {
    "duration": 21,
    "start_time": "2022-01-23T16:11:49.022Z"
   },
   {
    "duration": 72,
    "start_time": "2022-01-23T16:11:49.044Z"
   },
   {
    "duration": 5,
    "start_time": "2022-01-23T16:11:49.118Z"
   },
   {
    "duration": 7,
    "start_time": "2022-01-23T16:11:49.125Z"
   },
   {
    "duration": 280,
    "start_time": "2022-01-23T16:11:49.134Z"
   },
   {
    "duration": 7,
    "start_time": "2022-01-23T16:11:49.415Z"
   },
   {
    "duration": 32,
    "start_time": "2022-01-23T16:11:49.423Z"
   },
   {
    "duration": 309,
    "start_time": "2022-01-23T16:11:49.456Z"
   },
   {
    "duration": 331,
    "start_time": "2022-01-23T16:11:49.767Z"
   },
   {
    "duration": 289,
    "start_time": "2022-01-23T16:11:50.100Z"
   },
   {
    "duration": 31,
    "start_time": "2022-01-23T16:11:50.391Z"
   },
   {
    "duration": 71,
    "start_time": "2022-01-23T16:11:50.423Z"
   },
   {
    "duration": 94,
    "start_time": "2022-01-23T16:11:50.496Z"
   },
   {
    "duration": 310,
    "start_time": "2022-01-23T16:11:50.591Z"
   },
   {
    "duration": 348,
    "start_time": "2022-01-23T16:11:50.903Z"
   },
   {
    "duration": 327,
    "start_time": "2022-01-23T16:11:51.253Z"
   },
   {
    "duration": 1981,
    "start_time": "2022-01-23T16:11:51.582Z"
   },
   {
    "duration": 319,
    "start_time": "2022-01-23T16:11:53.565Z"
   },
   {
    "duration": -2097,
    "start_time": "2022-01-23T16:11:55.983Z"
   },
   {
    "duration": 112,
    "start_time": "2022-01-23T16:13:31.987Z"
   },
   {
    "duration": 65,
    "start_time": "2022-01-23T16:16:34.243Z"
   },
   {
    "duration": 69,
    "start_time": "2022-01-23T16:16:59.906Z"
   },
   {
    "duration": 63,
    "start_time": "2022-01-23T16:17:05.209Z"
   },
   {
    "duration": 129,
    "start_time": "2022-01-23T16:17:09.258Z"
   },
   {
    "duration": 70,
    "start_time": "2022-01-23T16:17:14.673Z"
   },
   {
    "duration": 5377,
    "start_time": "2022-01-23T16:17:49.153Z"
   },
   {
    "duration": 783,
    "start_time": "2022-01-23T16:18:09.202Z"
   },
   {
    "duration": 29,
    "start_time": "2022-01-23T16:18:25.953Z"
   },
   {
    "duration": 27,
    "start_time": "2022-01-23T16:20:52.928Z"
   },
   {
    "duration": 1430,
    "start_time": "2022-01-23T16:21:04.452Z"
   },
   {
    "duration": 3,
    "start_time": "2022-01-23T16:21:05.884Z"
   },
   {
    "duration": 32,
    "start_time": "2022-01-23T16:21:05.889Z"
   },
   {
    "duration": 22,
    "start_time": "2022-01-23T16:21:05.923Z"
   },
   {
    "duration": 18,
    "start_time": "2022-01-23T16:21:05.947Z"
   },
   {
    "duration": 10,
    "start_time": "2022-01-23T16:21:05.967Z"
   },
   {
    "duration": 42,
    "start_time": "2022-01-23T16:21:05.978Z"
   },
   {
    "duration": 58,
    "start_time": "2022-01-23T16:21:06.023Z"
   },
   {
    "duration": 53,
    "start_time": "2022-01-23T16:21:06.083Z"
   },
   {
    "duration": 31,
    "start_time": "2022-01-23T16:21:06.138Z"
   },
   {
    "duration": 7,
    "start_time": "2022-01-23T16:21:06.170Z"
   },
   {
    "duration": 67,
    "start_time": "2022-01-23T16:21:06.179Z"
   },
   {
    "duration": 16,
    "start_time": "2022-01-23T16:21:06.248Z"
   },
   {
    "duration": 22,
    "start_time": "2022-01-23T16:21:06.266Z"
   },
   {
    "duration": 78,
    "start_time": "2022-01-23T16:21:06.290Z"
   },
   {
    "duration": 4,
    "start_time": "2022-01-23T16:21:06.369Z"
   },
   {
    "duration": 6,
    "start_time": "2022-01-23T16:21:06.374Z"
   },
   {
    "duration": 282,
    "start_time": "2022-01-23T16:21:06.382Z"
   },
   {
    "duration": 8,
    "start_time": "2022-01-23T16:21:06.665Z"
   },
   {
    "duration": 47,
    "start_time": "2022-01-23T16:21:06.674Z"
   },
   {
    "duration": 307,
    "start_time": "2022-01-23T16:21:06.723Z"
   },
   {
    "duration": 308,
    "start_time": "2022-01-23T16:21:07.032Z"
   },
   {
    "duration": 322,
    "start_time": "2022-01-23T16:21:07.343Z"
   },
   {
    "duration": 24,
    "start_time": "2022-01-23T16:21:07.667Z"
   },
   {
    "duration": 84,
    "start_time": "2022-01-23T16:21:07.693Z"
   },
   {
    "duration": 99,
    "start_time": "2022-01-23T16:21:07.778Z"
   },
   {
    "duration": 302,
    "start_time": "2022-01-23T16:21:07.879Z"
   },
   {
    "duration": 304,
    "start_time": "2022-01-23T16:21:08.182Z"
   },
   {
    "duration": 305,
    "start_time": "2022-01-23T16:21:08.487Z"
   },
   {
    "duration": 1854,
    "start_time": "2022-01-23T16:21:08.793Z"
   },
   {
    "duration": 66,
    "start_time": "2022-01-23T16:21:10.649Z"
   },
   {
    "duration": 25,
    "start_time": "2022-01-23T16:21:10.717Z"
   },
   {
    "duration": 2095,
    "start_time": "2022-01-25T08:24:07.583Z"
   },
   {
    "duration": 4,
    "start_time": "2022-01-25T08:24:09.680Z"
   },
   {
    "duration": 47,
    "start_time": "2022-01-25T08:24:09.688Z"
   },
   {
    "duration": 32,
    "start_time": "2022-01-25T08:24:09.738Z"
   },
   {
    "duration": 53,
    "start_time": "2022-01-25T08:24:09.772Z"
   },
   {
    "duration": 18,
    "start_time": "2022-01-25T08:24:09.827Z"
   },
   {
    "duration": 41,
    "start_time": "2022-01-25T08:24:09.848Z"
   },
   {
    "duration": 121,
    "start_time": "2022-01-25T08:24:09.892Z"
   },
   {
    "duration": 58,
    "start_time": "2022-01-25T08:24:10.017Z"
   },
   {
    "duration": 56,
    "start_time": "2022-01-25T08:24:10.079Z"
   },
   {
    "duration": 11,
    "start_time": "2022-01-25T08:24:10.137Z"
   },
   {
    "duration": 93,
    "start_time": "2022-01-25T08:24:10.151Z"
   },
   {
    "duration": 26,
    "start_time": "2022-01-25T08:24:10.246Z"
   },
   {
    "duration": 64,
    "start_time": "2022-01-25T08:24:10.275Z"
   },
   {
    "duration": 127,
    "start_time": "2022-01-25T08:24:10.342Z"
   },
   {
    "duration": 5,
    "start_time": "2022-01-25T08:24:10.471Z"
   },
   {
    "duration": 11,
    "start_time": "2022-01-25T08:24:10.478Z"
   },
   {
    "duration": 496,
    "start_time": "2022-01-25T08:24:10.492Z"
   },
   {
    "duration": 11,
    "start_time": "2022-01-25T08:24:10.991Z"
   },
   {
    "duration": 59,
    "start_time": "2022-01-25T08:24:11.004Z"
   },
   {
    "duration": 503,
    "start_time": "2022-01-25T08:24:11.066Z"
   },
   {
    "duration": 578,
    "start_time": "2022-01-25T08:24:11.571Z"
   },
   {
    "duration": 564,
    "start_time": "2022-01-25T08:24:12.152Z"
   },
   {
    "duration": 32,
    "start_time": "2022-01-25T08:24:12.718Z"
   },
   {
    "duration": 147,
    "start_time": "2022-01-25T08:24:12.753Z"
   },
   {
    "duration": 173,
    "start_time": "2022-01-25T08:24:12.903Z"
   },
   {
    "duration": 492,
    "start_time": "2022-01-25T08:24:13.080Z"
   },
   {
    "duration": 472,
    "start_time": "2022-01-25T08:24:13.575Z"
   },
   {
    "duration": 508,
    "start_time": "2022-01-25T08:24:14.050Z"
   },
   {
    "duration": 3232,
    "start_time": "2022-01-25T08:24:14.561Z"
   },
   {
    "duration": 56,
    "start_time": "2022-01-25T08:24:17.796Z"
   },
   {
    "duration": 75,
    "start_time": "2022-01-25T08:24:17.854Z"
   },
   {
    "duration": 5,
    "start_time": "2022-01-25T08:24:25.105Z"
   },
   {
    "duration": 7,
    "start_time": "2022-01-25T08:24:30.700Z"
   },
   {
    "duration": 27,
    "start_time": "2022-01-25T08:27:48.585Z"
   },
   {
    "duration": 28,
    "start_time": "2022-01-25T08:28:08.275Z"
   },
   {
    "duration": 499,
    "start_time": "2022-01-25T08:30:16.124Z"
   },
   {
    "duration": 41,
    "start_time": "2022-01-25T08:30:25.866Z"
   },
   {
    "duration": 37,
    "start_time": "2022-01-25T08:30:37.404Z"
   },
   {
    "duration": 38,
    "start_time": "2022-01-25T08:30:43.820Z"
   },
   {
    "duration": 16,
    "start_time": "2022-01-25T08:31:49.334Z"
   },
   {
    "duration": 6,
    "start_time": "2022-01-25T08:31:54.886Z"
   },
   {
    "duration": 10,
    "start_time": "2022-01-25T08:32:40.538Z"
   },
   {
    "duration": 50,
    "start_time": "2022-01-25T08:33:30.787Z"
   },
   {
    "duration": 9,
    "start_time": "2022-01-25T08:35:26.600Z"
   },
   {
    "duration": 45,
    "start_time": "2022-01-25T08:35:29.727Z"
   },
   {
    "duration": 8,
    "start_time": "2022-01-25T08:35:58.588Z"
   },
   {
    "duration": 45,
    "start_time": "2022-01-25T08:36:23.470Z"
   },
   {
    "duration": 5,
    "start_time": "2022-01-25T08:36:26.972Z"
   },
   {
    "duration": 6,
    "start_time": "2022-01-25T08:37:20.617Z"
   },
   {
    "duration": 47,
    "start_time": "2022-01-25T08:37:32.708Z"
   },
   {
    "duration": 14,
    "start_time": "2022-01-25T08:38:51.340Z"
   },
   {
    "duration": 43,
    "start_time": "2022-01-25T08:38:53.230Z"
   },
   {
    "duration": 6,
    "start_time": "2022-01-25T08:40:30.822Z"
   },
   {
    "duration": 12,
    "start_time": "2022-01-25T08:40:31.473Z"
   },
   {
    "duration": 45,
    "start_time": "2022-01-25T08:40:32.036Z"
   },
   {
    "duration": 6,
    "start_time": "2022-01-25T08:41:37.059Z"
   },
   {
    "duration": 43,
    "start_time": "2022-01-25T08:41:37.517Z"
   },
   {
    "duration": 5,
    "start_time": "2022-01-25T08:41:45.010Z"
   },
   {
    "duration": 44,
    "start_time": "2022-01-25T08:41:45.634Z"
   },
   {
    "duration": 8,
    "start_time": "2022-01-25T08:46:50.336Z"
   },
   {
    "duration": 8,
    "start_time": "2022-01-25T08:47:31.499Z"
   },
   {
    "duration": 6,
    "start_time": "2022-01-25T08:47:54.316Z"
   },
   {
    "duration": 44,
    "start_time": "2022-01-25T08:47:55.523Z"
   },
   {
    "duration": 12,
    "start_time": "2022-01-25T08:48:11.560Z"
   },
   {
    "duration": 12,
    "start_time": "2022-01-25T08:53:57.028Z"
   },
   {
    "duration": 23,
    "start_time": "2022-01-25T08:54:30.985Z"
   },
   {
    "duration": 6,
    "start_time": "2022-01-25T08:55:27.970Z"
   },
   {
    "duration": 39,
    "start_time": "2022-01-25T08:55:55.152Z"
   },
   {
    "duration": 32,
    "start_time": "2022-01-25T08:56:04.709Z"
   },
   {
    "duration": 433,
    "start_time": "2022-01-25T08:56:34.924Z"
   },
   {
    "duration": 43,
    "start_time": "2022-01-25T08:57:02.668Z"
   },
   {
    "duration": 9468,
    "start_time": "2022-01-25T08:57:11.243Z"
   },
   {
    "duration": 41,
    "start_time": "2022-01-25T08:57:25.424Z"
   },
   {
    "duration": 31,
    "start_time": "2022-01-25T08:57:42.158Z"
   },
   {
    "duration": 8,
    "start_time": "2022-01-25T08:57:45.561Z"
   },
   {
    "duration": 8,
    "start_time": "2022-01-25T08:57:48.543Z"
   }
  ],
  "kernelspec": {
   "display_name": "Python 3 (ipykernel)",
   "language": "python",
   "name": "python3"
  },
  "language_info": {
   "codemirror_mode": {
    "name": "ipython",
    "version": 3
   },
   "file_extension": ".py",
   "mimetype": "text/x-python",
   "name": "python",
   "nbconvert_exporter": "python",
   "pygments_lexer": "ipython3",
   "version": "3.10.12"
  },
  "toc": {
   "base_numbering": 1,
   "nav_menu": {},
   "number_sections": true,
   "sideBar": true,
   "skip_h1_title": true,
   "title_cell": "Table of Contents",
   "title_sidebar": "Contents",
   "toc_cell": false,
   "toc_position": {},
   "toc_section_display": true,
   "toc_window_display": false
  }
 },
 "nbformat": 4,
 "nbformat_minor": 2
}
