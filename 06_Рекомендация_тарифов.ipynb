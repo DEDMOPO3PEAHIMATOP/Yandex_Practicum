{
 "cells": [
  {
   "cell_type": "markdown",
   "metadata": {},
   "source": [
    "# Рекомендация тарифов\n",
    "\n",
    " \n",
    " <b> Описание проекта </b>\n",
    " \n",
    " В вашем распоряжении данные о поведении клиентов, которые уже перешли на эти тарифы (из проекта курса «Статистический анализ данных»).\n",
    " \n",
    " <b>Цель проекта</b>\n",
    " \n",
    " Нужно построить модель для задачи классификации, которая выберет подходящий тариф. Предобработка данных не понадобится — вы её уже сделали.\n",
    " \n",
    " <b> Задачи проекта</b>\n",
    " \n",
    " Постройте модель с максимально большим значением *accuracy*. Чтобы сдать проект успешно, нужно довести долю правильных ответов по крайней мере до 0.75. Проверьте *accuracy* на тестовой выборке самостоятельно.\n",
    " \n",
    " \n",
    " <b>Данной проект разделим на несколько частей:</b>\n",
    " \n",
    " <b> Изучение общей информации:</b>\n",
    " \n",
    "  [ Импортируем необходимые библиотеки](#step_1)\n",
    "  \n",
    "  [ Изучение данных из-файла](#step_2)\n",
    "  \n",
    "  [Разобьем данные на выборки](#step_3)\n",
    "   \n",
    "  [Исследуем модели](#step_4)\n",
    "  \n",
    "  [Проверим модели на тестовой выборке](#step_5)\n",
    "  \n",
    "  [Проверим модели на адекватность](#step_6)\n",
    "  \n",
    "  [<b> Общий вывод </b>](#step_7)\n",
    "  \n",
    "  [Чек-лист готовности проекта](#step_8)"
   ]
  },
  {
   "cell_type": "markdown",
   "metadata": {},
   "source": [
    "<a id=\"step_1\"></a>\n",
    "<b> Импортируем необходимые библиотеки.</b>"
   ]
  },
  {
   "cell_type": "code",
   "execution_count": 1,
   "metadata": {},
   "outputs": [],
   "source": [
    "import pandas as pd #импортируем библиотеку pandas\n",
    "from sklearn.tree import DecisionTreeClassifier # импортируем из библиотеки sklearn.tree функцию для обучения модели ML обучения посредством дерева решений\n",
    "from sklearn.metrics import accuracy_score # импортируем из библиотеки sklearn.metrics функцию для подсчета точночти прогноза\n",
    "from sklearn.ensemble import RandomForestClassifier # импортируем из библиотеки sklearn.ensemble функцию для обучения модели ML обучения посредством случайного леса\n",
    "from sklearn.linear_model import LogisticRegression # импортируем из библиотеки sklearn.tree функцию для обучения модели ML обучения посредством линейной регрессии\n",
    "from sklearn.model_selection import train_test_split # импортируем из библиотеки sklearn.model_selection функцию для отбора тренировочной, валидационной и тестовой выборок\n",
    "from sklearn.dummy import DummyClassifier # импортируем из библиотеки sklearn.model_selection функцию DummyClassifier для обучения модели ML обучения посредством проcтейшей модели\n",
    "import warnings # импортируем библиотеку warnings для предупрждения ошибок\n",
    "warnings.filterwarnings('ignore') # заблокируем предупреждения об ошибках"
   ]
  },
  {
   "cell_type": "markdown",
   "metadata": {},
   "source": [
    "<a id=\"step_2\"></a>\n",
    "<b> Изучение данных из файла</b>"
   ]
  },
  {
   "cell_type": "markdown",
   "metadata": {},
   "source": [
    "Присвоим нашей переменной df датафайл и посмотрим из чего он состоит"
   ]
  },
  {
   "cell_type": "code",
   "execution_count": 2,
   "metadata": {},
   "outputs": [
    {
     "name": "stdout",
     "output_type": "stream",
     "text": [
      "<class 'pandas.core.frame.DataFrame'>\n",
      "RangeIndex: 3214 entries, 0 to 3213\n",
      "Data columns (total 5 columns):\n",
      "calls       3214 non-null float64\n",
      "minutes     3214 non-null float64\n",
      "messages    3214 non-null float64\n",
      "mb_used     3214 non-null float64\n",
      "is_ultra    3214 non-null int64\n",
      "dtypes: float64(4), int64(1)\n",
      "memory usage: 125.7 KB\n"
     ]
    },
    {
     "data": {
      "text/plain": [
       "(3214, 5)"
      ]
     },
     "metadata": {},
     "output_type": "display_data"
    },
    {
     "data": {
      "text/html": [
       "<div>\n",
       "<style scoped>\n",
       "    .dataframe tbody tr th:only-of-type {\n",
       "        vertical-align: middle;\n",
       "    }\n",
       "\n",
       "    .dataframe tbody tr th {\n",
       "        vertical-align: top;\n",
       "    }\n",
       "\n",
       "    .dataframe thead th {\n",
       "        text-align: right;\n",
       "    }\n",
       "</style>\n",
       "<table border=\"1\" class=\"dataframe\">\n",
       "  <thead>\n",
       "    <tr style=\"text-align: right;\">\n",
       "      <th></th>\n",
       "      <th>calls</th>\n",
       "      <th>minutes</th>\n",
       "      <th>messages</th>\n",
       "      <th>mb_used</th>\n",
       "      <th>is_ultra</th>\n",
       "    </tr>\n",
       "  </thead>\n",
       "  <tbody>\n",
       "    <tr>\n",
       "      <td>0</td>\n",
       "      <td>40.0</td>\n",
       "      <td>311.90</td>\n",
       "      <td>83.0</td>\n",
       "      <td>19915.42</td>\n",
       "      <td>0</td>\n",
       "    </tr>\n",
       "    <tr>\n",
       "      <td>1</td>\n",
       "      <td>85.0</td>\n",
       "      <td>516.75</td>\n",
       "      <td>56.0</td>\n",
       "      <td>22696.96</td>\n",
       "      <td>0</td>\n",
       "    </tr>\n",
       "    <tr>\n",
       "      <td>2</td>\n",
       "      <td>77.0</td>\n",
       "      <td>467.66</td>\n",
       "      <td>86.0</td>\n",
       "      <td>21060.45</td>\n",
       "      <td>0</td>\n",
       "    </tr>\n",
       "    <tr>\n",
       "      <td>3</td>\n",
       "      <td>106.0</td>\n",
       "      <td>745.53</td>\n",
       "      <td>81.0</td>\n",
       "      <td>8437.39</td>\n",
       "      <td>1</td>\n",
       "    </tr>\n",
       "    <tr>\n",
       "      <td>4</td>\n",
       "      <td>66.0</td>\n",
       "      <td>418.74</td>\n",
       "      <td>1.0</td>\n",
       "      <td>14502.75</td>\n",
       "      <td>0</td>\n",
       "    </tr>\n",
       "  </tbody>\n",
       "</table>\n",
       "</div>"
      ],
      "text/plain": [
       "   calls  minutes  messages   mb_used  is_ultra\n",
       "0   40.0   311.90      83.0  19915.42         0\n",
       "1   85.0   516.75      56.0  22696.96         0\n",
       "2   77.0   467.66      86.0  21060.45         0\n",
       "3  106.0   745.53      81.0   8437.39         1\n",
       "4   66.0   418.74       1.0  14502.75         0"
      ]
     },
     "metadata": {},
     "output_type": "display_data"
    }
   ],
   "source": [
    "df = pd.read_csv ('/datasets/users_behavior.csv')\n",
    "df.info ()\n",
    "display (df.shape)\n",
    "display (df.head(5))"
   ]
  },
  {
   "cell_type": "markdown",
   "metadata": {},
   "source": [
    "Наш файл состоит из 3214 строк и 5 столбцов, как сказано из задания выше, данные уже предобработами нами на предыдущем шаге"
   ]
  },
  {
   "cell_type": "markdown",
   "metadata": {},
   "source": [
    "<a id=\"step_3\"></a>\n",
    "<b>Разобьем данные на выборки</b>"
   ]
  },
  {
   "cell_type": "markdown",
   "metadata": {},
   "source": [
    "Создадим из нашего датасета три для корректной работы.\n",
    "Датасет df_train, состоящий из 60% общих данных для обучения модели\n",
    "Датасет df_valid, состоящий из 20% общих данных для валидации результатов обученной модели\n",
    "Датасет df_test, состоящий из 20% общих данных для конечной проверки работоспособности модели"
   ]
  },
  {
   "cell_type": "code",
   "execution_count": 3,
   "metadata": {},
   "outputs": [],
   "source": [
    "df_train, df_remains = train_test_split (\n",
    "    df, test_size = 0.4, random_state = 12345)\n",
    "\n",
    "df_test, df_valid = train_test_split (\n",
    "    df_remains, test_size = 0.5, random_state = 12345)"
   ]
  },
  {
   "cell_type": "markdown",
   "metadata": {},
   "source": [
    "Посмотрим на полученные результаты"
   ]
  },
  {
   "cell_type": "code",
   "execution_count": 4,
   "metadata": {},
   "outputs": [
    {
     "data": {
      "text/plain": [
       "(1928, 5)"
      ]
     },
     "metadata": {},
     "output_type": "display_data"
    },
    {
     "data": {
      "text/plain": [
       "(643, 5)"
      ]
     },
     "metadata": {},
     "output_type": "display_data"
    },
    {
     "data": {
      "text/plain": [
       "(643, 5)"
      ]
     },
     "metadata": {},
     "output_type": "display_data"
    }
   ],
   "source": [
    "display (df_train.shape)\n",
    "display (df_test.shape)\n",
    "display (df_valid.shape)"
   ]
  },
  {
   "cell_type": "markdown",
   "metadata": {},
   "source": [
    "Данные преобразились так, как нам необходимо"
   ]
  },
  {
   "cell_type": "markdown",
   "metadata": {},
   "source": [
    "<a id=\"step_4\"></a>\n",
    "<b>Исследуем модели</b>"
   ]
  },
  {
   "cell_type": "markdown",
   "metadata": {},
   "source": [
    "Для исследования моделей нам необходимо подготовить данные для исследований, исследовать с разными гиперпараметрами модели обучения:\n",
    "дерево решений\n",
    "случайный лес\n",
    "линейную регрессию"
   ]
  },
  {
   "cell_type": "markdown",
   "metadata": {},
   "source": [
    "Подготовим данные с изучаемыми и целевыми признаками для каждой выборки"
   ]
  },
  {
   "cell_type": "code",
   "execution_count": 5,
   "metadata": {},
   "outputs": [],
   "source": [
    "#подготовка данных\n",
    "features_train = df_train.drop (['is_ultra'], axis=1)\n",
    "target_train = df_train ['is_ultra']\n",
    "features_valid = df_valid.drop (['is_ultra'], axis=1)\n",
    "target_valid = df_valid ['is_ultra']\n",
    "features_test = df_valid.drop (['is_ultra'], axis=1)\n",
    "target_test = df_valid ['is_ultra']"
   ]
  },
  {
   "cell_type": "markdown",
   "metadata": {},
   "source": [
    "Найдем наилучшие значения гиперпараметров для дерева решений с наилучшим результатом точночти прогноза"
   ]
  },
  {
   "cell_type": "code",
   "execution_count": 6,
   "metadata": {},
   "outputs": [
    {
     "name": "stdout",
     "output_type": "stream",
     "text": [
      "Лучший проход с глубиной: 7  при лучшем значении accuracy_score в: 0.7993779160186625\n"
     ]
    }
   ],
   "source": [
    "#дерево решений\n",
    "best_depth = 0\n",
    "best_accuracy_dtc = 0\n",
    "for depth in range(1, 10):\n",
    "    model = DecisionTreeClassifier (random_state = 12345, max_depth = depth) # обучим модель с заданной глубиной дерева\n",
    "    model.fit (features_train, target_train)\n",
    "    accuracy = model.score (features_valid, target_valid)\n",
    "    if accuracy > best_accuracy_dtc:\n",
    "        best_depth = depth\n",
    "        best_accuracy_dtc = accuracy\n",
    "print (\"Лучший проход с глубиной:\", best_depth, \" при лучшем значении accuracy_score в:\", best_accuracy_dtc)"
   ]
  },
  {
   "cell_type": "markdown",
   "metadata": {},
   "source": [
    "Найдем наилучшие значения гиперпараметров для случайного леса с наилучшим результатом точночти прогноза"
   ]
  },
  {
   "cell_type": "code",
   "execution_count": 7,
   "metadata": {},
   "outputs": [
    {
     "name": "stdout",
     "output_type": "stream",
     "text": [
      "Accuracy наилучшей модели на валидационной выборке: 0.7869362363919129  при количестве деревьев: 8 при методе max_features: auto\n"
     ]
    }
   ],
   "source": [
    "#случайный лес\n",
    "best_max_features = None\n",
    "best_est = 0\n",
    "best_accuracy_rfc = 0\n",
    "for split in ['auto', 'log2', 'sqrt']:\n",
    "    for est in range(1, 11):\n",
    "        model = RandomForestClassifier (random_state = 12345, n_estimators = est, max_features = split) # обучим модель с заданным количеством деревьев\n",
    "        model.fit (features_train, target_train)\n",
    "        accuracy = model.score (features_valid, target_valid)\n",
    "        if accuracy > best_accuracy_rfc:\n",
    "            best_max_features = split\n",
    "            best_est = est\n",
    "            best_accuracy_rfc = accuracy#  сохраним наилучшее значение метрики accuracy на валидационных данных\n",
    "\n",
    "print(\"Accuracy наилучшей модели на валидационной выборке:\", best_accuracy_rfc, ' при количестве деревьев:', best_est, 'при методе max_features:', best_max_features)"
   ]
  },
  {
   "cell_type": "code",
   "execution_count": 8,
   "metadata": {
    "scrolled": true
   },
   "outputs": [
    {
     "name": "stdout",
     "output_type": "stream",
     "text": [
      "Accuracy модели логистической регрессии на валидационной выборке: 0.7402799377916018\n"
     ]
    }
   ],
   "source": [
    "#логистическая регрессия\n",
    "model = LogisticRegression (random_state = 12345)\n",
    "model.fit (features_train, target_train)\n",
    "accuracy_lr_valid = model.score (features_valid, target_valid)\n",
    "\n",
    "print(\"Accuracy модели логистической регрессии на валидационной выборке:\", accuracy_lr_valid)"
   ]
  },
  {
   "cell_type": "markdown",
   "metadata": {},
   "source": [
    "Таким образом получаем, что наилучшими показателями себя показала модель обучения \"дерево решений\" с глубиной прохода равной 7"
   ]
  },
  {
   "cell_type": "markdown",
   "metadata": {},
   "source": [
    "<a id=\"step_5\"></a>\n",
    "<b>Проверем модели на тестовой выборке</b>"
   ]
  },
  {
   "cell_type": "markdown",
   "metadata": {},
   "source": [
    "Для проверки моделей на тестовой выборке увеличим нашу выборку путем объединения обучающей и валидационной"
   ]
  },
  {
   "cell_type": "code",
   "execution_count": 9,
   "metadata": {},
   "outputs": [
    {
     "data": {
      "text/plain": [
       "(2571, 4)"
      ]
     },
     "metadata": {},
     "output_type": "display_data"
    },
    {
     "data": {
      "text/plain": [
       "(2571,)"
      ]
     },
     "metadata": {},
     "output_type": "display_data"
    }
   ],
   "source": [
    "features_no_test = features_train.append (features_valid)\n",
    "target_no_test = target_train.append (target_valid)\n",
    "display (features_no_test.shape)\n",
    "display (target_no_test.shape)"
   ]
  },
  {
   "cell_type": "markdown",
   "metadata": {},
   "source": [
    "Для проверки нашей модели \"дерево решений\" возьмем наилучшую глубину равную 7, которую определили на предыдущем шаге"
   ]
  },
  {
   "cell_type": "code",
   "execution_count": 10,
   "metadata": {},
   "outputs": [
    {
     "name": "stdout",
     "output_type": "stream",
     "text": [
      "accuracy_score модели дерева решений на валидационной выборке: 0.7993779160186625\n",
      "accuracy_score модели дерева решений на тестовой выборке: 0.8367029548989113\n"
     ]
    }
   ],
   "source": [
    "#дерево решений\n",
    "model = DecisionTreeClassifier (random_state = 12345, max_depth = best_depth)\n",
    "model.fit (features_no_test, target_no_test)\n",
    "accuracy = model.score (features_test, target_test)\n",
    "print ('accuracy_score модели дерева решений на валидационной выборке:', best_accuracy_dtc)\n",
    "print ('accuracy_score модели дерева решений на тестовой выборке:', accuracy)"
   ]
  },
  {
   "cell_type": "markdown",
   "metadata": {},
   "source": [
    "Мы видим, что точность прогноза на тестовой выборке увеличилась с 80% до 84%"
   ]
  },
  {
   "cell_type": "markdown",
   "metadata": {},
   "source": [
    "Для проверки нашей модели \"случайный лес\" возьмем наилучшее количество деревьев равное 8, которое определили на предыдущем шаге"
   ]
  },
  {
   "cell_type": "code",
   "execution_count": 11,
   "metadata": {},
   "outputs": [
    {
     "name": "stdout",
     "output_type": "stream",
     "text": [
      "accuracy_score модели случайного леса на валидационной выборке: 0.7869362363919129\n",
      "accuracy_score модели случайного леса на тестовой выборке: 0.9595645412130638\n"
     ]
    }
   ],
   "source": [
    "#случайный лес\n",
    "model = RandomForestClassifier (random_state = 12345, n_estimators = best_est, max_features = \"auto\")\n",
    "model.fit (features_no_test, target_no_test)\n",
    "accuracy = model.score (features_test, target_test)\n",
    "print ('accuracy_score модели случайного леса на валидационной выборке:', best_accuracy_rfc)\n",
    "print ('accuracy_score модели случайного леса на тестовой выборке:', accuracy)"
   ]
  },
  {
   "cell_type": "markdown",
   "metadata": {},
   "source": [
    "Наблюдаем также, что точность прогноза на тестовой выборке увеличилась с 79% до 96%"
   ]
  },
  {
   "cell_type": "code",
   "execution_count": 12,
   "metadata": {},
   "outputs": [
    {
     "name": "stdout",
     "output_type": "stream",
     "text": [
      "Aaccuracy_score модели логистической регрессии на валидационной выборке: 0.7402799377916018\n",
      "Aaccuracy_score модели логистической регрессии на тестовой выборке: 0.6936236391912908\n"
     ]
    }
   ],
   "source": [
    "model = LogisticRegression (random_state = 12345)\n",
    "model.fit (features_no_test, target_no_test)\n",
    "accuracy = model.score (features_test, target_test)\n",
    "print(\"Aaccuracy_score модели логистической регрессии на валидационной выборке:\", accuracy_lr_valid)\n",
    "print(\"Aaccuracy_score модели логистической регрессии на тестовой выборке:\", accuracy)"
   ]
  },
  {
   "cell_type": "markdown",
   "metadata": {},
   "source": [
    "Наблюдаем, что точность прогноза модели \"логистическая регрессия\" упала с 74% до 69%\n",
    "\n",
    "Тем самым можем сделать вывод, что, для наших целей, подойдет с наилучшим результатом предсказания по модели обучения \"случайный лес\" с количеством деревьев, равном 8"
   ]
  },
  {
   "cell_type": "markdown",
   "metadata": {},
   "source": [
    "<a id=\"step_6\"></a>\n",
    "<b>(бонус) Проверим модели на адекватность</b>"
   ]
  },
  {
   "cell_type": "code",
   "execution_count": 13,
   "metadata": {},
   "outputs": [
    {
     "name": "stdout",
     "output_type": "stream",
     "text": [
      "Aaccuracy_score простейшей модели на тестовой выборке: 0.6842923794712286\n"
     ]
    }
   ],
   "source": [
    "# обучим нашу модель простейшей моделью и посмотрим на ее точность прогноза\n",
    "dummy = DummyClassifier (strategy = \"most_frequent\", random_state = 0)\n",
    "dummy.fit (features_no_test, target_no_test)\n",
    "accuracy = dummy.score (features_test, target_test)\n",
    "print(\"Aaccuracy_score простейшей модели на тестовой выборке:\", accuracy)"
   ]
  },
  {
   "cell_type": "markdown",
   "metadata": {},
   "source": [
    "Точность прогноза на простейшей модели показало нам, что наша модель намного точнее в прогнозах. Соответственно, полностью адекватна."
   ]
  },
  {
   "cell_type": "markdown",
   "metadata": {},
   "source": [
    "<a id=\"step_7\"></a>\n",
    "<b>Общий вывод</b>"
   ]
  },
  {
   "cell_type": "markdown",
   "metadata": {},
   "source": [
    "В ходе данной работы мы проделали:\n",
    "\n",
    "- изучили полученные данные\n",
    "- разбили данные на 3 выборки для обучения моделей\n",
    "- провели исследования предсказаний трех моделей с изменениями из гиперпараметров\n",
    "- провели тестирование на тестовой выборке выбранной модели\n",
    "\n",
    "По результатам проведеного исследования можно рекомендовать для дальнейшей работы по предсказанию выбора тарифа модель машинного обучения \"случайное дерево\" с количеством деревьев, равным 8."
   ]
  },
  {
   "cell_type": "markdown",
   "metadata": {},
   "source": [
    "<a id=\"step_8\"></a>\n",
    "<b>Чек-лист готовности проекта</b>"
   ]
  },
  {
   "cell_type": "markdown",
   "metadata": {},
   "source": [
    "Поставьте 'x' в выполненных пунктах. Далее нажмите Shift+Enter."
   ]
  },
  {
   "cell_type": "markdown",
   "metadata": {},
   "source": [
    "- [x] Jupyter Notebook открыт\n",
    "- [x] Весь код исполняется без ошибок\n",
    "- [x] Ячейки с кодом расположены в порядке исполнения\n",
    "- [x] Выполнено задание 1: данные загружены и изучены\n",
    "- [x] Выполнено задание 2: данные разбиты на три выборки\n",
    "- [X] Выполнено задание 3: проведено исследование моделей\n",
    "    - [x] Рассмотрено больше одной модели\n",
    "    - [x] Рассмотрено хотя бы 3 значения гипепараметров для какой-нибудь модели\n",
    "    - [x] Написаны выводы по результатам исследования\n",
    "- [x] Выполнено задание 3: Проведено тестирование\n",
    "- [x] Удалось достичь accuracy не меньше 0.75\n"
   ]
  },
  {
   "cell_type": "code",
   "execution_count": null,
   "metadata": {},
   "outputs": [],
   "source": []
  }
 ],
 "metadata": {
  "ExecuteTimeLog": [
   {
    "duration": 833,
    "start_time": "2022-02-08T13:57:09.731Z"
   },
   {
    "duration": 1921,
    "start_time": "2022-02-08T13:57:10.567Z"
   },
   {
    "duration": 2025,
    "start_time": "2022-02-08T13:58:04.076Z"
   },
   {
    "duration": 752,
    "start_time": "2022-02-08T13:58:17.841Z"
   },
   {
    "duration": 56,
    "start_time": "2022-02-08T13:59:15.035Z"
   },
   {
    "duration": 13,
    "start_time": "2022-02-08T14:00:32.956Z"
   },
   {
    "duration": 274,
    "start_time": "2022-02-08T14:11:43.589Z"
   },
   {
    "duration": 670,
    "start_time": "2022-02-08T14:12:08.869Z"
   },
   {
    "duration": 355,
    "start_time": "2022-02-08T14:12:12.283Z"
   },
   {
    "duration": 7671,
    "start_time": "2022-02-08T14:12:19.753Z"
   },
   {
    "duration": 10,
    "start_time": "2022-02-08T14:12:50.986Z"
   },
   {
    "duration": 367,
    "start_time": "2022-02-08T14:12:54.494Z"
   },
   {
    "duration": 4,
    "start_time": "2022-02-08T14:13:15.553Z"
   },
   {
    "duration": 53,
    "start_time": "2022-02-08T14:13:18.836Z"
   },
   {
    "duration": 50,
    "start_time": "2022-02-08T14:18:02.860Z"
   },
   {
    "duration": 352,
    "start_time": "2022-02-08T14:19:01.900Z"
   },
   {
    "duration": 5,
    "start_time": "2022-02-08T14:19:40.022Z"
   },
   {
    "duration": 450,
    "start_time": "2022-02-08T14:19:43.940Z"
   },
   {
    "duration": 356,
    "start_time": "2022-02-08T14:21:30.397Z"
   },
   {
    "duration": 5,
    "start_time": "2022-02-08T14:21:53.540Z"
   },
   {
    "duration": 24,
    "start_time": "2022-02-08T14:21:57.502Z"
   },
   {
    "duration": 290,
    "start_time": "2022-02-08T14:24:20.233Z"
   },
   {
    "duration": 187,
    "start_time": "2022-02-08T14:25:03.273Z"
   },
   {
    "duration": 103,
    "start_time": "2022-02-08T14:28:39.016Z"
   },
   {
    "duration": 100,
    "start_time": "2022-02-08T14:30:05.717Z"
   },
   {
    "duration": 104,
    "start_time": "2022-02-08T14:30:21.283Z"
   },
   {
    "duration": 101,
    "start_time": "2022-02-08T14:30:50.691Z"
   },
   {
    "duration": 106,
    "start_time": "2022-02-08T14:32:09.236Z"
   },
   {
    "duration": 129,
    "start_time": "2022-02-08T14:32:40.872Z"
   },
   {
    "duration": 1512,
    "start_time": "2022-02-08T14:33:09.410Z"
   },
   {
    "duration": 16,
    "start_time": "2022-02-08T14:33:10.925Z"
   },
   {
    "duration": 11,
    "start_time": "2022-02-08T14:33:10.948Z"
   },
   {
    "duration": 19,
    "start_time": "2022-02-08T14:33:10.961Z"
   },
   {
    "duration": 116,
    "start_time": "2022-02-08T14:33:10.984Z"
   },
   {
    "duration": 106,
    "start_time": "2022-02-08T14:33:10.997Z"
   },
   {
    "duration": 106,
    "start_time": "2022-02-08T14:33:10.998Z"
   },
   {
    "duration": 131,
    "start_time": "2022-02-08T14:36:12.390Z"
   },
   {
    "duration": 1409,
    "start_time": "2022-02-08T14:42:41.025Z"
   },
   {
    "duration": 16,
    "start_time": "2022-02-08T14:42:42.437Z"
   },
   {
    "duration": 16,
    "start_time": "2022-02-08T14:42:42.457Z"
   },
   {
    "duration": 17,
    "start_time": "2022-02-08T14:42:42.477Z"
   },
   {
    "duration": 108,
    "start_time": "2022-02-08T14:42:42.496Z"
   },
   {
    "duration": 115,
    "start_time": "2022-02-08T14:42:42.491Z"
   },
   {
    "duration": 115,
    "start_time": "2022-02-08T14:42:42.492Z"
   },
   {
    "duration": 86,
    "start_time": "2022-02-08T14:43:20.664Z"
   },
   {
    "duration": 108,
    "start_time": "2022-02-08T14:43:52.190Z"
   },
   {
    "duration": 99,
    "start_time": "2022-02-08T14:44:16.086Z"
   },
   {
    "duration": 1386,
    "start_time": "2022-02-09T06:00:19.960Z"
   },
   {
    "duration": 20,
    "start_time": "2022-02-09T06:00:21.349Z"
   },
   {
    "duration": 8,
    "start_time": "2022-02-09T06:00:21.372Z"
   },
   {
    "duration": 12,
    "start_time": "2022-02-09T06:00:21.383Z"
   },
   {
    "duration": 15,
    "start_time": "2022-02-09T06:00:21.398Z"
   },
   {
    "duration": 5,
    "start_time": "2022-02-09T06:00:49.078Z"
   },
   {
    "duration": 10,
    "start_time": "2022-02-09T06:01:17.058Z"
   },
   {
    "duration": 399,
    "start_time": "2022-02-09T06:17:11.061Z"
   },
   {
    "duration": 1386,
    "start_time": "2022-02-09T06:17:28.040Z"
   },
   {
    "duration": 17,
    "start_time": "2022-02-09T06:17:29.429Z"
   },
   {
    "duration": 28,
    "start_time": "2022-02-09T06:17:29.453Z"
   },
   {
    "duration": 20,
    "start_time": "2022-02-09T06:17:29.484Z"
   },
   {
    "duration": 23,
    "start_time": "2022-02-09T06:17:29.507Z"
   },
   {
    "duration": 423,
    "start_time": "2022-02-09T06:17:29.533Z"
   },
   {
    "duration": 304,
    "start_time": "2022-02-09T06:20:54.261Z"
   },
   {
    "duration": 275,
    "start_time": "2022-02-09T06:21:22.030Z"
   },
   {
    "duration": 265,
    "start_time": "2022-02-09T06:22:02.183Z"
   },
   {
    "duration": 277,
    "start_time": "2022-02-09T06:23:32.137Z"
   },
   {
    "duration": 294,
    "start_time": "2022-02-09T06:24:33.931Z"
   },
   {
    "duration": 1424,
    "start_time": "2022-02-09T06:24:45.591Z"
   },
   {
    "duration": 23,
    "start_time": "2022-02-09T06:24:47.018Z"
   },
   {
    "duration": 17,
    "start_time": "2022-02-09T06:24:47.044Z"
   },
   {
    "duration": 27,
    "start_time": "2022-02-09T06:24:47.068Z"
   },
   {
    "duration": 20,
    "start_time": "2022-02-09T06:24:47.098Z"
   },
   {
    "duration": 433,
    "start_time": "2022-02-09T06:24:47.121Z"
   },
   {
    "duration": 334,
    "start_time": "2022-02-09T06:36:14.914Z"
   },
   {
    "duration": 356,
    "start_time": "2022-02-09T06:41:00.685Z"
   },
   {
    "duration": 1301,
    "start_time": "2022-02-09T06:41:11.121Z"
   },
   {
    "duration": 17,
    "start_time": "2022-02-09T06:41:12.425Z"
   },
   {
    "duration": 9,
    "start_time": "2022-02-09T06:41:12.445Z"
   },
   {
    "duration": 21,
    "start_time": "2022-02-09T06:41:12.456Z"
   },
   {
    "duration": 17,
    "start_time": "2022-02-09T06:41:12.479Z"
   },
   {
    "duration": 410,
    "start_time": "2022-02-09T06:41:12.499Z"
   },
   {
    "duration": 329,
    "start_time": "2022-02-09T06:42:11.722Z"
   },
   {
    "duration": 269,
    "start_time": "2022-02-09T06:42:28.681Z"
   },
   {
    "duration": 1402,
    "start_time": "2022-02-09T06:44:14.999Z"
   },
   {
    "duration": 20,
    "start_time": "2022-02-09T06:44:16.405Z"
   },
   {
    "duration": 11,
    "start_time": "2022-02-09T06:44:16.428Z"
   },
   {
    "duration": 434,
    "start_time": "2022-02-09T06:44:16.442Z"
   },
   {
    "duration": 18,
    "start_time": "2022-02-09T06:44:16.861Z"
   },
   {
    "duration": 17,
    "start_time": "2022-02-09T06:44:16.864Z"
   },
   {
    "duration": 4,
    "start_time": "2022-02-09T06:44:29.503Z"
   },
   {
    "duration": 13,
    "start_time": "2022-02-09T06:44:37.390Z"
   },
   {
    "duration": 16,
    "start_time": "2022-02-09T06:44:39.630Z"
   },
   {
    "duration": 284,
    "start_time": "2022-02-09T06:44:42.067Z"
   },
   {
    "duration": 365,
    "start_time": "2022-02-09T06:47:32.867Z"
   },
   {
    "duration": 4,
    "start_time": "2022-02-09T06:52:01.627Z"
   },
   {
    "duration": 16,
    "start_time": "2022-02-09T06:52:03.899Z"
   },
   {
    "duration": 9,
    "start_time": "2022-02-09T06:52:06.085Z"
   },
   {
    "duration": 11,
    "start_time": "2022-02-09T06:52:08.857Z"
   },
   {
    "duration": 10,
    "start_time": "2022-02-09T06:52:11.218Z"
   },
   {
    "duration": 4,
    "start_time": "2022-02-09T06:52:38.064Z"
   },
   {
    "duration": 259,
    "start_time": "2022-02-09T06:53:57.692Z"
   },
   {
    "duration": 8,
    "start_time": "2022-02-09T06:56:18.860Z"
   },
   {
    "duration": 7,
    "start_time": "2022-02-09T06:56:20.406Z"
   },
   {
    "duration": 276,
    "start_time": "2022-02-09T06:56:28.172Z"
   },
   {
    "duration": 39,
    "start_time": "2022-02-09T06:58:08.761Z"
   },
   {
    "duration": 139,
    "start_time": "2022-02-09T07:04:44.663Z"
   },
   {
    "duration": 274,
    "start_time": "2022-02-09T07:05:04.343Z"
   },
   {
    "duration": 16,
    "start_time": "2022-02-09T07:05:12.023Z"
   },
   {
    "duration": 283,
    "start_time": "2022-02-09T07:05:14.977Z"
   },
   {
    "duration": 12,
    "start_time": "2022-02-09T07:06:10.939Z"
   },
   {
    "duration": 278,
    "start_time": "2022-02-09T07:06:13.465Z"
   },
   {
    "duration": 9,
    "start_time": "2022-02-09T07:06:17.512Z"
   },
   {
    "duration": 51,
    "start_time": "2022-02-09T07:08:53.453Z"
   },
   {
    "duration": 52,
    "start_time": "2022-02-09T07:10:11.795Z"
   },
   {
    "duration": 60,
    "start_time": "2022-02-09T07:10:20.396Z"
   },
   {
    "duration": 83,
    "start_time": "2022-02-09T07:10:54.725Z"
   },
   {
    "duration": 72,
    "start_time": "2022-02-09T07:16:32.468Z"
   },
   {
    "duration": 73,
    "start_time": "2022-02-09T07:17:00.642Z"
   },
   {
    "duration": 91,
    "start_time": "2022-02-09T07:17:33.802Z"
   },
   {
    "duration": 141,
    "start_time": "2022-02-09T07:18:54.291Z"
   },
   {
    "duration": 125,
    "start_time": "2022-02-09T07:19:00.648Z"
   },
   {
    "duration": 116,
    "start_time": "2022-02-09T07:19:37.688Z"
   },
   {
    "duration": 71,
    "start_time": "2022-02-09T07:19:50.157Z"
   },
   {
    "duration": 9,
    "start_time": "2022-02-09T07:26:56.326Z"
   },
   {
    "duration": 8,
    "start_time": "2022-02-09T07:26:58.943Z"
   },
   {
    "duration": 70,
    "start_time": "2022-02-09T07:27:01.329Z"
   },
   {
    "duration": 274,
    "start_time": "2022-02-09T07:28:32.648Z"
   },
   {
    "duration": 14,
    "start_time": "2022-02-09T07:28:40.038Z"
   },
   {
    "duration": 346,
    "start_time": "2022-02-09T07:28:43.183Z"
   },
   {
    "duration": 334,
    "start_time": "2022-02-09T07:30:09.132Z"
   },
   {
    "duration": 5,
    "start_time": "2022-02-09T07:30:23.179Z"
   },
   {
    "duration": 27,
    "start_time": "2022-02-09T07:30:28.011Z"
   },
   {
    "duration": 68,
    "start_time": "2022-02-09T08:07:22.794Z"
   },
   {
    "duration": 419,
    "start_time": "2022-02-09T08:08:26.932Z"
   },
   {
    "duration": 26,
    "start_time": "2022-02-09T08:09:04.009Z"
   },
   {
    "duration": 1610,
    "start_time": "2022-02-09T08:09:47.292Z"
   },
   {
    "duration": 21,
    "start_time": "2022-02-09T08:09:48.905Z"
   },
   {
    "duration": 13,
    "start_time": "2022-02-09T08:09:48.930Z"
   },
   {
    "duration": 29,
    "start_time": "2022-02-09T08:09:48.947Z"
   },
   {
    "duration": 25,
    "start_time": "2022-02-09T08:09:48.979Z"
   },
   {
    "duration": 7,
    "start_time": "2022-02-09T08:09:49.013Z"
   },
   {
    "duration": 424,
    "start_time": "2022-02-09T08:09:49.022Z"
   },
   {
    "duration": 20,
    "start_time": "2022-02-09T08:09:49.428Z"
   },
   {
    "duration": 18,
    "start_time": "2022-02-09T08:09:49.433Z"
   },
   {
    "duration": 71,
    "start_time": "2022-02-09T08:10:09.765Z"
   },
   {
    "duration": 360,
    "start_time": "2022-02-09T08:10:24.615Z"
   },
   {
    "duration": 27,
    "start_time": "2022-02-09T08:10:34.336Z"
   },
   {
    "duration": 1484,
    "start_time": "2022-02-09T08:21:25.340Z"
   },
   {
    "duration": 16,
    "start_time": "2022-02-09T08:21:26.827Z"
   },
   {
    "duration": 9,
    "start_time": "2022-02-09T08:21:26.846Z"
   },
   {
    "duration": 18,
    "start_time": "2022-02-09T08:21:26.858Z"
   },
   {
    "duration": 26,
    "start_time": "2022-02-09T08:21:26.879Z"
   },
   {
    "duration": 17,
    "start_time": "2022-02-09T08:21:26.908Z"
   },
   {
    "duration": 89,
    "start_time": "2022-02-09T08:21:26.927Z"
   },
   {
    "duration": 363,
    "start_time": "2022-02-09T08:21:27.018Z"
   },
   {
    "duration": 26,
    "start_time": "2022-02-09T08:21:27.385Z"
   },
   {
    "duration": 10,
    "start_time": "2022-02-09T08:25:29.357Z"
   },
   {
    "duration": 1595,
    "start_time": "2022-02-09T08:28:27.541Z"
   },
   {
    "duration": 16,
    "start_time": "2022-02-09T08:28:29.138Z"
   },
   {
    "duration": 20,
    "start_time": "2022-02-09T08:28:29.158Z"
   },
   {
    "duration": 11,
    "start_time": "2022-02-09T08:28:29.181Z"
   },
   {
    "duration": 19,
    "start_time": "2022-02-09T08:28:29.194Z"
   },
   {
    "duration": 11,
    "start_time": "2022-02-09T08:28:29.216Z"
   },
   {
    "duration": 102,
    "start_time": "2022-02-09T08:28:29.230Z"
   },
   {
    "duration": 468,
    "start_time": "2022-02-09T08:28:29.334Z"
   },
   {
    "duration": 27,
    "start_time": "2022-02-09T08:28:29.805Z"
   },
   {
    "duration": 1365,
    "start_time": "2022-02-09T08:43:18.068Z"
   },
   {
    "duration": 17,
    "start_time": "2022-02-09T08:43:19.436Z"
   },
   {
    "duration": 18,
    "start_time": "2022-02-09T08:43:19.456Z"
   },
   {
    "duration": 11,
    "start_time": "2022-02-09T08:43:19.477Z"
   },
   {
    "duration": 16,
    "start_time": "2022-02-09T08:43:19.490Z"
   },
   {
    "duration": 10,
    "start_time": "2022-02-09T08:43:19.509Z"
   },
   {
    "duration": 104,
    "start_time": "2022-02-09T08:43:19.521Z"
   },
   {
    "duration": 489,
    "start_time": "2022-02-09T08:43:19.627Z"
   },
   {
    "duration": 36,
    "start_time": "2022-02-09T08:43:20.083Z"
   },
   {
    "duration": 34,
    "start_time": "2022-02-09T08:43:20.086Z"
   },
   {
    "duration": 35,
    "start_time": "2022-02-09T08:43:20.087Z"
   },
   {
    "duration": 343,
    "start_time": "2022-02-09T08:45:17.245Z"
   },
   {
    "duration": 380,
    "start_time": "2022-02-09T08:45:25.835Z"
   },
   {
    "duration": 288,
    "start_time": "2022-02-09T08:45:35.354Z"
   },
   {
    "duration": 25,
    "start_time": "2022-02-09T08:45:48.301Z"
   },
   {
    "duration": 7,
    "start_time": "2022-02-09T08:46:20.506Z"
   },
   {
    "duration": 12,
    "start_time": "2022-02-09T08:48:45.073Z"
   },
   {
    "duration": 292,
    "start_time": "2022-02-09T08:50:16.197Z"
   },
   {
    "duration": 7,
    "start_time": "2022-02-09T08:50:22.322Z"
   },
   {
    "duration": 26,
    "start_time": "2022-02-09T08:52:46.594Z"
   },
   {
    "duration": 8,
    "start_time": "2022-02-09T08:53:58.509Z"
   },
   {
    "duration": 1198,
    "start_time": "2022-02-09T08:54:43.504Z"
   },
   {
    "duration": 341,
    "start_time": "2022-02-09T08:55:25.413Z"
   },
   {
    "duration": 12,
    "start_time": "2022-02-09T08:55:31.197Z"
   },
   {
    "duration": 389,
    "start_time": "2022-02-09T08:56:13.855Z"
   },
   {
    "duration": 8,
    "start_time": "2022-02-09T08:56:18.926Z"
   },
   {
    "duration": 257,
    "start_time": "2022-02-09T08:59:56.792Z"
   },
   {
    "duration": 15,
    "start_time": "2022-02-09T09:00:16.250Z"
   },
   {
    "duration": 15,
    "start_time": "2022-02-09T09:00:41.079Z"
   },
   {
    "duration": 52,
    "start_time": "2022-02-09T09:02:23.374Z"
   },
   {
    "duration": 19,
    "start_time": "2022-02-09T09:06:01.005Z"
   },
   {
    "duration": 13,
    "start_time": "2022-02-09T09:06:19.097Z"
   },
   {
    "duration": 13,
    "start_time": "2022-02-09T09:06:55.103Z"
   },
   {
    "duration": 28,
    "start_time": "2022-02-09T09:07:15.518Z"
   },
   {
    "duration": 9,
    "start_time": "2022-02-09T09:07:28.851Z"
   },
   {
    "duration": 1336,
    "start_time": "2022-02-09T09:22:16.997Z"
   },
   {
    "duration": 17,
    "start_time": "2022-02-09T09:22:18.335Z"
   },
   {
    "duration": 16,
    "start_time": "2022-02-09T09:22:18.355Z"
   },
   {
    "duration": 14,
    "start_time": "2022-02-09T09:22:18.374Z"
   },
   {
    "duration": 28,
    "start_time": "2022-02-09T09:22:18.390Z"
   },
   {
    "duration": 15,
    "start_time": "2022-02-09T09:22:18.420Z"
   },
   {
    "duration": 92,
    "start_time": "2022-02-09T09:22:18.438Z"
   },
   {
    "duration": 364,
    "start_time": "2022-02-09T09:22:18.533Z"
   },
   {
    "duration": 27,
    "start_time": "2022-02-09T09:22:18.900Z"
   },
   {
    "duration": 10,
    "start_time": "2022-02-09T09:22:18.929Z"
   },
   {
    "duration": 26,
    "start_time": "2022-02-09T09:22:18.969Z"
   },
   {
    "duration": 6,
    "start_time": "2022-02-09T09:22:18.998Z"
   },
   {
    "duration": 356,
    "start_time": "2022-02-09T09:28:45.336Z"
   },
   {
    "duration": 444,
    "start_time": "2022-02-09T09:30:27.647Z"
   },
   {
    "duration": 305,
    "start_time": "2022-02-09T09:30:42.022Z"
   },
   {
    "duration": 27,
    "start_time": "2022-02-09T09:31:44.294Z"
   },
   {
    "duration": 1436,
    "start_time": "2022-02-09T09:32:07.060Z"
   },
   {
    "duration": 17,
    "start_time": "2022-02-09T09:32:08.499Z"
   },
   {
    "duration": 21,
    "start_time": "2022-02-09T09:32:08.519Z"
   },
   {
    "duration": 15,
    "start_time": "2022-02-09T09:32:08.543Z"
   },
   {
    "duration": 19,
    "start_time": "2022-02-09T09:32:08.560Z"
   },
   {
    "duration": 14,
    "start_time": "2022-02-09T09:32:08.582Z"
   },
   {
    "duration": 100,
    "start_time": "2022-02-09T09:32:08.599Z"
   },
   {
    "duration": 364,
    "start_time": "2022-02-09T09:32:08.703Z"
   },
   {
    "duration": 28,
    "start_time": "2022-02-09T09:32:09.070Z"
   },
   {
    "duration": 12,
    "start_time": "2022-02-09T09:32:09.100Z"
   },
   {
    "duration": 64,
    "start_time": "2022-02-09T09:32:09.115Z"
   },
   {
    "duration": 7,
    "start_time": "2022-02-09T09:32:09.182Z"
   },
   {
    "duration": 414,
    "start_time": "2022-02-09T10:04:32.469Z"
   },
   {
    "duration": 5,
    "start_time": "2022-02-09T10:04:37.639Z"
   },
   {
    "duration": 15,
    "start_time": "2022-02-09T10:04:39.077Z"
   },
   {
    "duration": 9,
    "start_time": "2022-02-09T10:04:40.531Z"
   },
   {
    "duration": 10,
    "start_time": "2022-02-09T10:05:47.026Z"
   },
   {
    "duration": 253,
    "start_time": "2022-02-09T10:05:49.530Z"
   },
   {
    "duration": 15,
    "start_time": "2022-02-09T10:06:21.556Z"
   },
   {
    "duration": 10,
    "start_time": "2022-02-09T10:06:23.449Z"
   },
   {
    "duration": 9,
    "start_time": "2022-02-09T10:07:12.012Z"
   },
   {
    "duration": 9,
    "start_time": "2022-02-09T10:07:14.217Z"
   },
   {
    "duration": 10,
    "start_time": "2022-02-09T10:07:27.135Z"
   },
   {
    "duration": 68,
    "start_time": "2022-02-09T10:07:32.431Z"
   },
   {
    "duration": 70,
    "start_time": "2022-02-09T10:08:08.694Z"
   },
   {
    "duration": 321,
    "start_time": "2022-02-09T10:08:32.463Z"
   },
   {
    "duration": 67,
    "start_time": "2022-02-09T10:08:45.888Z"
   },
   {
    "duration": 71,
    "start_time": "2022-02-09T10:09:12.944Z"
   },
   {
    "duration": 69,
    "start_time": "2022-02-09T10:10:56.938Z"
   },
   {
    "duration": 69,
    "start_time": "2022-02-09T10:11:04.370Z"
   },
   {
    "duration": 304,
    "start_time": "2022-02-09T10:13:00.780Z"
   },
   {
    "duration": 288,
    "start_time": "2022-02-09T10:14:44.714Z"
   },
   {
    "duration": 344,
    "start_time": "2022-02-09T10:14:58.136Z"
   },
   {
    "duration": 27,
    "start_time": "2022-02-09T10:16:01.316Z"
   },
   {
    "duration": 11,
    "start_time": "2022-02-09T10:23:42.618Z"
   },
   {
    "duration": 27,
    "start_time": "2022-02-09T10:24:02.186Z"
   },
   {
    "duration": 291,
    "start_time": "2022-02-09T10:24:05.192Z"
   },
   {
    "duration": 1454,
    "start_time": "2022-02-09T11:07:16.570Z"
   },
   {
    "duration": 18,
    "start_time": "2022-02-09T11:07:18.027Z"
   },
   {
    "duration": 17,
    "start_time": "2022-02-09T11:07:18.048Z"
   },
   {
    "duration": 19,
    "start_time": "2022-02-09T11:07:18.070Z"
   },
   {
    "duration": 29,
    "start_time": "2022-02-09T11:07:18.091Z"
   },
   {
    "duration": 20,
    "start_time": "2022-02-09T11:07:18.122Z"
   },
   {
    "duration": 91,
    "start_time": "2022-02-09T11:07:18.145Z"
   },
   {
    "duration": 349,
    "start_time": "2022-02-09T11:07:18.239Z"
   },
   {
    "duration": 26,
    "start_time": "2022-02-09T11:07:18.593Z"
   },
   {
    "duration": 391,
    "start_time": "2022-02-09T11:07:18.622Z"
   },
   {
    "duration": 80,
    "start_time": "2022-02-09T11:07:18.936Z"
   },
   {
    "duration": 77,
    "start_time": "2022-02-09T11:07:18.940Z"
   },
   {
    "duration": 259,
    "start_time": "2022-02-09T11:13:43.790Z"
   },
   {
    "duration": 6,
    "start_time": "2022-02-09T11:14:20.904Z"
   },
   {
    "duration": 277,
    "start_time": "2022-02-09T11:14:26.502Z"
   },
   {
    "duration": 19,
    "start_time": "2022-02-09T11:14:42.997Z"
   },
   {
    "duration": 306,
    "start_time": "2022-02-09T11:15:32.214Z"
   },
   {
    "duration": 394,
    "start_time": "2022-02-09T11:15:52.281Z"
   },
   {
    "duration": 367,
    "start_time": "2022-02-09T11:15:56.250Z"
   },
   {
    "duration": 67,
    "start_time": "2022-02-09T11:16:23.760Z"
   },
   {
    "duration": 17,
    "start_time": "2022-02-09T11:16:26.574Z"
   },
   {
    "duration": 9,
    "start_time": "2022-02-09T11:16:57.805Z"
   },
   {
    "duration": 305,
    "start_time": "2022-02-09T11:17:34.085Z"
   },
   {
    "duration": 273,
    "start_time": "2022-02-09T11:18:41.038Z"
   },
   {
    "duration": 453,
    "start_time": "2022-02-09T11:18:47.912Z"
   },
   {
    "duration": 23,
    "start_time": "2022-02-09T11:19:34.953Z"
   },
   {
    "duration": 1366,
    "start_time": "2022-02-09T11:20:47.559Z"
   },
   {
    "duration": 18,
    "start_time": "2022-02-09T11:20:48.928Z"
   },
   {
    "duration": 9,
    "start_time": "2022-02-09T11:20:48.949Z"
   },
   {
    "duration": 11,
    "start_time": "2022-02-09T11:20:48.970Z"
   },
   {
    "duration": 16,
    "start_time": "2022-02-09T11:20:48.984Z"
   },
   {
    "duration": 10,
    "start_time": "2022-02-09T11:20:49.003Z"
   },
   {
    "duration": 120,
    "start_time": "2022-02-09T11:20:49.016Z"
   },
   {
    "duration": 365,
    "start_time": "2022-02-09T11:20:49.138Z"
   },
   {
    "duration": 26,
    "start_time": "2022-02-09T11:20:49.506Z"
   },
   {
    "duration": 8,
    "start_time": "2022-02-09T11:20:49.535Z"
   },
   {
    "duration": 17,
    "start_time": "2022-02-09T11:20:49.570Z"
   },
   {
    "duration": 86,
    "start_time": "2022-02-09T11:20:49.590Z"
   },
   {
    "duration": 22,
    "start_time": "2022-02-09T11:20:49.678Z"
   },
   {
    "duration": 5,
    "start_time": "2022-02-09T11:34:40.768Z"
   },
   {
    "duration": 17,
    "start_time": "2022-02-09T11:34:41.763Z"
   },
   {
    "duration": 9,
    "start_time": "2022-02-09T11:34:44.111Z"
   },
   {
    "duration": 9,
    "start_time": "2022-02-09T11:34:51.689Z"
   },
   {
    "duration": 8,
    "start_time": "2022-02-09T11:34:53.577Z"
   },
   {
    "duration": 9,
    "start_time": "2022-02-09T11:35:08.720Z"
   },
   {
    "duration": 69,
    "start_time": "2022-02-09T11:35:10.779Z"
   },
   {
    "duration": 339,
    "start_time": "2022-02-09T11:35:15.792Z"
   },
   {
    "duration": 27,
    "start_time": "2022-02-09T11:35:21.405Z"
   },
   {
    "duration": 10,
    "start_time": "2022-02-09T11:35:27.136Z"
   },
   {
    "duration": 17,
    "start_time": "2022-02-09T11:35:29.947Z"
   },
   {
    "duration": 88,
    "start_time": "2022-02-09T11:35:32.962Z"
   },
   {
    "duration": 23,
    "start_time": "2022-02-09T11:35:37.499Z"
   },
   {
    "duration": 502,
    "start_time": "2022-02-09T11:44:25.094Z"
   },
   {
    "duration": 346,
    "start_time": "2022-02-09T11:44:29.086Z"
   },
   {
    "duration": 10,
    "start_time": "2022-02-09T11:44:37.865Z"
   },
   {
    "duration": 265,
    "start_time": "2022-02-09T11:56:07.577Z"
   },
   {
    "duration": 16,
    "start_time": "2022-02-09T11:56:20.011Z"
   },
   {
    "duration": 8,
    "start_time": "2022-02-09T11:56:56.432Z"
   },
   {
    "duration": 15,
    "start_time": "2022-02-09T11:57:31.135Z"
   },
   {
    "duration": 17,
    "start_time": "2022-02-09T12:13:53.070Z"
   },
   {
    "duration": 1370,
    "start_time": "2022-02-09T12:42:15.851Z"
   },
   {
    "duration": 23,
    "start_time": "2022-02-09T12:42:17.223Z"
   },
   {
    "duration": 22,
    "start_time": "2022-02-09T12:42:17.249Z"
   },
   {
    "duration": 16,
    "start_time": "2022-02-09T12:42:17.274Z"
   },
   {
    "duration": 8,
    "start_time": "2022-02-09T12:42:17.293Z"
   },
   {
    "duration": 95,
    "start_time": "2022-02-09T12:42:17.303Z"
   },
   {
    "duration": 347,
    "start_time": "2022-02-09T12:42:17.400Z"
   },
   {
    "duration": 38,
    "start_time": "2022-02-09T12:42:17.751Z"
   },
   {
    "duration": 8,
    "start_time": "2022-02-09T12:42:17.792Z"
   },
   {
    "duration": 22,
    "start_time": "2022-02-09T12:42:17.803Z"
   },
   {
    "duration": 95,
    "start_time": "2022-02-09T12:42:17.828Z"
   },
   {
    "duration": 23,
    "start_time": "2022-02-09T12:42:17.926Z"
   },
   {
    "duration": 35,
    "start_time": "2022-02-09T12:42:17.951Z"
   },
   {
    "duration": 243,
    "start_time": "2022-02-09T13:33:54.013Z"
   },
   {
    "duration": 79,
    "start_time": "2022-02-09T13:34:17.741Z"
   },
   {
    "duration": 59,
    "start_time": "2022-02-09T13:34:27.554Z"
   },
   {
    "duration": 85,
    "start_time": "2022-02-09T13:34:56.487Z"
   },
   {
    "duration": 343,
    "start_time": "2022-02-09T13:35:07.833Z"
   },
   {
    "duration": 63,
    "start_time": "2022-02-09T13:35:14.098Z"
   },
   {
    "duration": 338,
    "start_time": "2022-02-09T13:36:15.778Z"
   },
   {
    "duration": 68,
    "start_time": "2022-02-09T13:36:23.669Z"
   },
   {
    "duration": 1515,
    "start_time": "2022-02-09T13:42:02.923Z"
   },
   {
    "duration": 22,
    "start_time": "2022-02-09T13:42:04.440Z"
   },
   {
    "duration": 13,
    "start_time": "2022-02-09T13:42:04.465Z"
   },
   {
    "duration": 30,
    "start_time": "2022-02-09T13:42:04.481Z"
   },
   {
    "duration": 13,
    "start_time": "2022-02-09T13:42:04.513Z"
   },
   {
    "duration": 82,
    "start_time": "2022-02-09T13:42:04.529Z"
   },
   {
    "duration": 357,
    "start_time": "2022-02-09T13:42:04.614Z"
   },
   {
    "duration": 26,
    "start_time": "2022-02-09T13:42:04.974Z"
   },
   {
    "duration": 8,
    "start_time": "2022-02-09T13:42:05.003Z"
   },
   {
    "duration": 57,
    "start_time": "2022-02-09T13:42:05.013Z"
   },
   {
    "duration": 64,
    "start_time": "2022-02-09T13:42:05.072Z"
   },
   {
    "duration": 40,
    "start_time": "2022-02-09T13:42:05.139Z"
   },
   {
    "duration": 22,
    "start_time": "2022-02-09T13:42:05.181Z"
   },
   {
    "duration": 5,
    "start_time": "2022-02-09T16:48:52.983Z"
   },
   {
    "duration": 525,
    "start_time": "2022-02-09T16:52:23.116Z"
   },
   {
    "duration": 10,
    "start_time": "2022-02-09T16:52:32.075Z"
   },
   {
    "duration": 10,
    "start_time": "2022-02-09T16:53:44.778Z"
   },
   {
    "duration": 1476,
    "start_time": "2022-02-09T16:54:25.147Z"
   },
   {
    "duration": 25,
    "start_time": "2022-02-09T16:54:26.626Z"
   },
   {
    "duration": 13,
    "start_time": "2022-02-09T16:54:26.669Z"
   },
   {
    "duration": 25,
    "start_time": "2022-02-09T16:54:26.685Z"
   },
   {
    "duration": 14,
    "start_time": "2022-02-09T16:54:26.713Z"
   },
   {
    "duration": 112,
    "start_time": "2022-02-09T16:54:26.730Z"
   },
   {
    "duration": 380,
    "start_time": "2022-02-09T16:54:26.846Z"
   },
   {
    "duration": 50,
    "start_time": "2022-02-09T16:54:27.231Z"
   },
   {
    "duration": 9,
    "start_time": "2022-02-09T16:54:27.284Z"
   },
   {
    "duration": 19,
    "start_time": "2022-02-09T16:54:27.295Z"
   },
   {
    "duration": 109,
    "start_time": "2022-02-09T16:54:27.317Z"
   },
   {
    "duration": 23,
    "start_time": "2022-02-09T16:54:27.428Z"
   },
   {
    "duration": 8,
    "start_time": "2022-02-09T16:54:27.470Z"
   },
   {
    "duration": 34,
    "start_time": "2022-02-09T18:36:20.636Z"
   },
   {
    "duration": 105,
    "start_time": "2022-02-09T18:43:28.650Z"
   },
   {
    "duration": 90,
    "start_time": "2022-02-09T18:43:43.080Z"
   },
   {
    "duration": 1213,
    "start_time": "2022-02-09T18:48:03.423Z"
   },
   {
    "duration": 987,
    "start_time": "2022-02-09T18:48:37.936Z"
   },
   {
    "duration": 295,
    "start_time": "2022-02-09T18:49:06.543Z"
   },
   {
    "duration": 284,
    "start_time": "2022-02-09T18:49:25.486Z"
   },
   {
    "duration": 283,
    "start_time": "2022-02-09T18:54:53.468Z"
   },
   {
    "duration": 1098,
    "start_time": "2022-02-09T18:59:20.172Z"
   },
   {
    "duration": 956,
    "start_time": "2022-02-09T19:06:11.698Z"
   },
   {
    "duration": 986,
    "start_time": "2022-02-09T19:06:37.122Z"
   },
   {
    "duration": 1051,
    "start_time": "2022-02-09T19:06:59.506Z"
   },
   {
    "duration": 1550,
    "start_time": "2022-02-09T19:07:14.866Z"
   },
   {
    "duration": 991,
    "start_time": "2022-02-09T19:07:25.824Z"
   },
   {
    "duration": 999,
    "start_time": "2022-02-09T19:07:40.834Z"
   },
   {
    "duration": 1035,
    "start_time": "2022-02-09T19:08:25.025Z"
   },
   {
    "duration": 1024,
    "start_time": "2022-02-09T19:08:50.145Z"
   },
   {
    "duration": 1010,
    "start_time": "2022-02-09T19:09:46.000Z"
   },
   {
    "duration": 1346,
    "start_time": "2022-02-09T19:11:22.780Z"
   },
   {
    "duration": 52,
    "start_time": "2022-02-09T19:11:24.129Z"
   },
   {
    "duration": 9,
    "start_time": "2022-02-09T19:11:24.184Z"
   },
   {
    "duration": 16,
    "start_time": "2022-02-09T19:11:24.195Z"
   },
   {
    "duration": 18,
    "start_time": "2022-02-09T19:11:24.214Z"
   },
   {
    "duration": 100,
    "start_time": "2022-02-09T19:11:24.234Z"
   },
   {
    "duration": 1019,
    "start_time": "2022-02-09T19:11:24.336Z"
   },
   {
    "duration": 33,
    "start_time": "2022-02-09T19:11:25.358Z"
   },
   {
    "duration": 8,
    "start_time": "2022-02-09T19:11:25.394Z"
   },
   {
    "duration": 17,
    "start_time": "2022-02-09T19:11:25.405Z"
   },
   {
    "duration": 109,
    "start_time": "2022-02-09T19:11:25.424Z"
   },
   {
    "duration": 44,
    "start_time": "2022-02-09T19:11:25.535Z"
   },
   {
    "duration": 7,
    "start_time": "2022-02-09T19:11:25.582Z"
   }
  ],
  "kernelspec": {
   "display_name": "Python 3 (ipykernel)",
   "language": "python",
   "name": "python3"
  },
  "language_info": {
   "codemirror_mode": {
    "name": "ipython",
    "version": 3
   },
   "file_extension": ".py",
   "mimetype": "text/x-python",
   "name": "python",
   "nbconvert_exporter": "python",
   "pygments_lexer": "ipython3",
   "version": "3.9.7"
  },
  "toc": {
   "base_numbering": 1,
   "nav_menu": {},
   "number_sections": true,
   "sideBar": true,
   "skip_h1_title": true,
   "title_cell": "Table of Contents",
   "title_sidebar": "Contents",
   "toc_cell": false,
   "toc_position": {},
   "toc_section_display": true,
   "toc_window_display": false
  }
 },
 "nbformat": 4,
 "nbformat_minor": 2
}
