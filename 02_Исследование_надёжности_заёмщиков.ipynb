{
 "cells": [
  {
   "cell_type": "markdown",
   "metadata": {},
   "source": [
    "# Исследование надёжности заёмщиков\n",
    "\n",
    "<b> Описание исследования </b>\n",
    "\n",
    "Заказчик — кредитный отдел банка. Нужно разобраться, влияет ли семейное положение и количество детей клиента на факт погашения кредита в срок. Входные данные от банка — статистика о платёжеспособности клиентов.\n",
    "\n",
    "<b>Цель исследования</b>\n",
    "\n",
    "Результаты исследования будут учтены при построении модели **кредитного скоринга** — специальной системы, которая оценивает способность потенциального заёмщика вернуть кредит банку.\n",
    "\n",
    "<b> Задачи исследования</b>\n",
    "\n",
    " * выявить зависимость между наличием детей и возвратом кредита в срок\n",
    " * выявить зависимость между семейным положением и возвратом кредита в срок\n",
    " * выявить зависимость между уровнем дохода и возвратом кредита в срок\n",
    " * определить как разные цели кредита влияют на его возврат в срок\n",
    "\n",
    "<b>Данное исследование разделим на несколько частей:</b>\n",
    "\n",
    "<b> Часть 1. Изучение общей информации:</b>\n",
    "\n",
    " [ Изученеие файлов с данными, получение общей информации, загрузка библиотек.](#step_1)\n",
    " \n",
    "<b> Часть 2. Подготовка данных:</b>\n",
    "\n",
    " [1. Нахождение и ликвидация пропусков.](#step_2)\n",
    " \n",
    " [2. Приведение данных к нужным типам.](#step_3)\n",
    " \n",
    " [3. Нахождение и исправление аномалий и ошибок.](#step_4)\n",
    " \n",
    " [4. Лемматизация данных по видам выдаваемых кредитов.](#step_5)\n",
    " \n",
    " [5. Категоризация данных.](#step_6)\n",
    " \n",
    " <b> Часть 3. Ответы на задачи исследования:</b>\n",
    "\n",
    " [1. Существует ли зависимость между наличием детей и возвратом кредита в срок.](#step_7)\n",
    " \n",
    " [2. Существует ли зависимость между семейным положением и возвратом кредита в срок.](#step_8)\n",
    "  \n",
    " [3. Существует ли зависимость между уровнем дохода и возвратом кредита в срок.](#step_9)\n",
    "   \n",
    " [4. Существует ли зависимость между разными целиями кредита и его возврат в срок.](#step_10)\n",
    " \n",
    " <b> Заключение </b>\n",
    " \n",
    " [ Общие выводы по проведенному исследованию.](#step_11)"
   ]
  },
  {
   "cell_type": "markdown",
   "metadata": {},
   "source": [
    "<a id=\"step_1\"></a>\n",
    "## Шаг 1. Откройте файл с данными и изучите общую информацию"
   ]
  },
  {
   "cell_type": "code",
   "execution_count": 1,
   "metadata": {},
   "outputs": [
    {
     "data": {
      "text/html": [
       "<div>\n",
       "<style scoped>\n",
       "    .dataframe tbody tr th:only-of-type {\n",
       "        vertical-align: middle;\n",
       "    }\n",
       "\n",
       "    .dataframe tbody tr th {\n",
       "        vertical-align: top;\n",
       "    }\n",
       "\n",
       "    .dataframe thead th {\n",
       "        text-align: right;\n",
       "    }\n",
       "</style>\n",
       "<table border=\"1\" class=\"dataframe\">\n",
       "  <thead>\n",
       "    <tr style=\"text-align: right;\">\n",
       "      <th></th>\n",
       "      <th>children</th>\n",
       "      <th>days_employed</th>\n",
       "      <th>dob_years</th>\n",
       "      <th>education</th>\n",
       "      <th>education_id</th>\n",
       "      <th>family_status</th>\n",
       "      <th>family_status_id</th>\n",
       "      <th>gender</th>\n",
       "      <th>income_type</th>\n",
       "      <th>debt</th>\n",
       "      <th>total_income</th>\n",
       "      <th>purpose</th>\n",
       "    </tr>\n",
       "  </thead>\n",
       "  <tbody>\n",
       "    <tr>\n",
       "      <td>0</td>\n",
       "      <td>1</td>\n",
       "      <td>-8437.673028</td>\n",
       "      <td>42</td>\n",
       "      <td>высшее</td>\n",
       "      <td>0</td>\n",
       "      <td>женат / замужем</td>\n",
       "      <td>0</td>\n",
       "      <td>F</td>\n",
       "      <td>сотрудник</td>\n",
       "      <td>0</td>\n",
       "      <td>253875.639453</td>\n",
       "      <td>покупка жилья</td>\n",
       "    </tr>\n",
       "    <tr>\n",
       "      <td>1</td>\n",
       "      <td>1</td>\n",
       "      <td>-4024.803754</td>\n",
       "      <td>36</td>\n",
       "      <td>среднее</td>\n",
       "      <td>1</td>\n",
       "      <td>женат / замужем</td>\n",
       "      <td>0</td>\n",
       "      <td>F</td>\n",
       "      <td>сотрудник</td>\n",
       "      <td>0</td>\n",
       "      <td>112080.014102</td>\n",
       "      <td>приобретение автомобиля</td>\n",
       "    </tr>\n",
       "    <tr>\n",
       "      <td>2</td>\n",
       "      <td>0</td>\n",
       "      <td>-5623.422610</td>\n",
       "      <td>33</td>\n",
       "      <td>Среднее</td>\n",
       "      <td>1</td>\n",
       "      <td>женат / замужем</td>\n",
       "      <td>0</td>\n",
       "      <td>M</td>\n",
       "      <td>сотрудник</td>\n",
       "      <td>0</td>\n",
       "      <td>145885.952297</td>\n",
       "      <td>покупка жилья</td>\n",
       "    </tr>\n",
       "    <tr>\n",
       "      <td>3</td>\n",
       "      <td>3</td>\n",
       "      <td>-4124.747207</td>\n",
       "      <td>32</td>\n",
       "      <td>среднее</td>\n",
       "      <td>1</td>\n",
       "      <td>женат / замужем</td>\n",
       "      <td>0</td>\n",
       "      <td>M</td>\n",
       "      <td>сотрудник</td>\n",
       "      <td>0</td>\n",
       "      <td>267628.550329</td>\n",
       "      <td>дополнительное образование</td>\n",
       "    </tr>\n",
       "    <tr>\n",
       "      <td>4</td>\n",
       "      <td>0</td>\n",
       "      <td>340266.072047</td>\n",
       "      <td>53</td>\n",
       "      <td>среднее</td>\n",
       "      <td>1</td>\n",
       "      <td>гражданский брак</td>\n",
       "      <td>1</td>\n",
       "      <td>F</td>\n",
       "      <td>пенсионер</td>\n",
       "      <td>0</td>\n",
       "      <td>158616.077870</td>\n",
       "      <td>сыграть свадьбу</td>\n",
       "    </tr>\n",
       "    <tr>\n",
       "      <td>5</td>\n",
       "      <td>0</td>\n",
       "      <td>-926.185831</td>\n",
       "      <td>27</td>\n",
       "      <td>высшее</td>\n",
       "      <td>0</td>\n",
       "      <td>гражданский брак</td>\n",
       "      <td>1</td>\n",
       "      <td>M</td>\n",
       "      <td>компаньон</td>\n",
       "      <td>0</td>\n",
       "      <td>255763.565419</td>\n",
       "      <td>покупка жилья</td>\n",
       "    </tr>\n",
       "    <tr>\n",
       "      <td>6</td>\n",
       "      <td>0</td>\n",
       "      <td>-2879.202052</td>\n",
       "      <td>43</td>\n",
       "      <td>высшее</td>\n",
       "      <td>0</td>\n",
       "      <td>женат / замужем</td>\n",
       "      <td>0</td>\n",
       "      <td>F</td>\n",
       "      <td>компаньон</td>\n",
       "      <td>0</td>\n",
       "      <td>240525.971920</td>\n",
       "      <td>операции с жильем</td>\n",
       "    </tr>\n",
       "    <tr>\n",
       "      <td>7</td>\n",
       "      <td>0</td>\n",
       "      <td>-152.779569</td>\n",
       "      <td>50</td>\n",
       "      <td>СРЕДНЕЕ</td>\n",
       "      <td>1</td>\n",
       "      <td>женат / замужем</td>\n",
       "      <td>0</td>\n",
       "      <td>M</td>\n",
       "      <td>сотрудник</td>\n",
       "      <td>0</td>\n",
       "      <td>135823.934197</td>\n",
       "      <td>образование</td>\n",
       "    </tr>\n",
       "    <tr>\n",
       "      <td>8</td>\n",
       "      <td>2</td>\n",
       "      <td>-6929.865299</td>\n",
       "      <td>35</td>\n",
       "      <td>ВЫСШЕЕ</td>\n",
       "      <td>0</td>\n",
       "      <td>гражданский брак</td>\n",
       "      <td>1</td>\n",
       "      <td>F</td>\n",
       "      <td>сотрудник</td>\n",
       "      <td>0</td>\n",
       "      <td>95856.832424</td>\n",
       "      <td>на проведение свадьбы</td>\n",
       "    </tr>\n",
       "    <tr>\n",
       "      <td>9</td>\n",
       "      <td>0</td>\n",
       "      <td>-2188.756445</td>\n",
       "      <td>41</td>\n",
       "      <td>среднее</td>\n",
       "      <td>1</td>\n",
       "      <td>женат / замужем</td>\n",
       "      <td>0</td>\n",
       "      <td>M</td>\n",
       "      <td>сотрудник</td>\n",
       "      <td>0</td>\n",
       "      <td>144425.938277</td>\n",
       "      <td>покупка жилья для семьи</td>\n",
       "    </tr>\n",
       "  </tbody>\n",
       "</table>\n",
       "</div>"
      ],
      "text/plain": [
       "   children  days_employed  dob_years education  education_id  \\\n",
       "0         1   -8437.673028         42    высшее             0   \n",
       "1         1   -4024.803754         36   среднее             1   \n",
       "2         0   -5623.422610         33   Среднее             1   \n",
       "3         3   -4124.747207         32   среднее             1   \n",
       "4         0  340266.072047         53   среднее             1   \n",
       "5         0    -926.185831         27    высшее             0   \n",
       "6         0   -2879.202052         43    высшее             0   \n",
       "7         0    -152.779569         50   СРЕДНЕЕ             1   \n",
       "8         2   -6929.865299         35    ВЫСШЕЕ             0   \n",
       "9         0   -2188.756445         41   среднее             1   \n",
       "\n",
       "      family_status  family_status_id gender income_type  debt   total_income  \\\n",
       "0   женат / замужем                 0      F   сотрудник     0  253875.639453   \n",
       "1   женат / замужем                 0      F   сотрудник     0  112080.014102   \n",
       "2   женат / замужем                 0      M   сотрудник     0  145885.952297   \n",
       "3   женат / замужем                 0      M   сотрудник     0  267628.550329   \n",
       "4  гражданский брак                 1      F   пенсионер     0  158616.077870   \n",
       "5  гражданский брак                 1      M   компаньон     0  255763.565419   \n",
       "6   женат / замужем                 0      F   компаньон     0  240525.971920   \n",
       "7   женат / замужем                 0      M   сотрудник     0  135823.934197   \n",
       "8  гражданский брак                 1      F   сотрудник     0   95856.832424   \n",
       "9   женат / замужем                 0      M   сотрудник     0  144425.938277   \n",
       "\n",
       "                      purpose  \n",
       "0               покупка жилья  \n",
       "1     приобретение автомобиля  \n",
       "2               покупка жилья  \n",
       "3  дополнительное образование  \n",
       "4             сыграть свадьбу  \n",
       "5               покупка жилья  \n",
       "6           операции с жильем  \n",
       "7                 образование  \n",
       "8       на проведение свадьбы  \n",
       "9     покупка жилья для семьи  "
      ]
     },
     "metadata": {},
     "output_type": "display_data"
    },
    {
     "data": {
      "text/html": [
       "<div>\n",
       "<style scoped>\n",
       "    .dataframe tbody tr th:only-of-type {\n",
       "        vertical-align: middle;\n",
       "    }\n",
       "\n",
       "    .dataframe tbody tr th {\n",
       "        vertical-align: top;\n",
       "    }\n",
       "\n",
       "    .dataframe thead th {\n",
       "        text-align: right;\n",
       "    }\n",
       "</style>\n",
       "<table border=\"1\" class=\"dataframe\">\n",
       "  <thead>\n",
       "    <tr style=\"text-align: right;\">\n",
       "      <th></th>\n",
       "      <th>children</th>\n",
       "      <th>days_employed</th>\n",
       "      <th>dob_years</th>\n",
       "      <th>education</th>\n",
       "      <th>education_id</th>\n",
       "      <th>family_status</th>\n",
       "      <th>family_status_id</th>\n",
       "      <th>gender</th>\n",
       "      <th>income_type</th>\n",
       "      <th>debt</th>\n",
       "      <th>total_income</th>\n",
       "      <th>purpose</th>\n",
       "    </tr>\n",
       "  </thead>\n",
       "  <tbody>\n",
       "    <tr>\n",
       "      <td>21515</td>\n",
       "      <td>1</td>\n",
       "      <td>-467.685130</td>\n",
       "      <td>28</td>\n",
       "      <td>среднее</td>\n",
       "      <td>1</td>\n",
       "      <td>женат / замужем</td>\n",
       "      <td>0</td>\n",
       "      <td>F</td>\n",
       "      <td>сотрудник</td>\n",
       "      <td>1</td>\n",
       "      <td>109486.327999</td>\n",
       "      <td>заняться образованием</td>\n",
       "    </tr>\n",
       "    <tr>\n",
       "      <td>21516</td>\n",
       "      <td>0</td>\n",
       "      <td>-914.391429</td>\n",
       "      <td>42</td>\n",
       "      <td>высшее</td>\n",
       "      <td>0</td>\n",
       "      <td>женат / замужем</td>\n",
       "      <td>0</td>\n",
       "      <td>F</td>\n",
       "      <td>компаньон</td>\n",
       "      <td>0</td>\n",
       "      <td>322807.776603</td>\n",
       "      <td>покупка своего жилья</td>\n",
       "    </tr>\n",
       "    <tr>\n",
       "      <td>21517</td>\n",
       "      <td>0</td>\n",
       "      <td>-404.679034</td>\n",
       "      <td>42</td>\n",
       "      <td>высшее</td>\n",
       "      <td>0</td>\n",
       "      <td>гражданский брак</td>\n",
       "      <td>1</td>\n",
       "      <td>F</td>\n",
       "      <td>компаньон</td>\n",
       "      <td>0</td>\n",
       "      <td>178059.553491</td>\n",
       "      <td>на покупку своего автомобиля</td>\n",
       "    </tr>\n",
       "    <tr>\n",
       "      <td>21518</td>\n",
       "      <td>0</td>\n",
       "      <td>373995.710838</td>\n",
       "      <td>59</td>\n",
       "      <td>СРЕДНЕЕ</td>\n",
       "      <td>1</td>\n",
       "      <td>женат / замужем</td>\n",
       "      <td>0</td>\n",
       "      <td>F</td>\n",
       "      <td>пенсионер</td>\n",
       "      <td>0</td>\n",
       "      <td>153864.650328</td>\n",
       "      <td>сделка с автомобилем</td>\n",
       "    </tr>\n",
       "    <tr>\n",
       "      <td>21519</td>\n",
       "      <td>1</td>\n",
       "      <td>-2351.431934</td>\n",
       "      <td>37</td>\n",
       "      <td>ученая степень</td>\n",
       "      <td>4</td>\n",
       "      <td>в разводе</td>\n",
       "      <td>3</td>\n",
       "      <td>M</td>\n",
       "      <td>сотрудник</td>\n",
       "      <td>0</td>\n",
       "      <td>115949.039788</td>\n",
       "      <td>покупка коммерческой недвижимости</td>\n",
       "    </tr>\n",
       "    <tr>\n",
       "      <td>21520</td>\n",
       "      <td>1</td>\n",
       "      <td>-4529.316663</td>\n",
       "      <td>43</td>\n",
       "      <td>среднее</td>\n",
       "      <td>1</td>\n",
       "      <td>гражданский брак</td>\n",
       "      <td>1</td>\n",
       "      <td>F</td>\n",
       "      <td>компаньон</td>\n",
       "      <td>0</td>\n",
       "      <td>224791.862382</td>\n",
       "      <td>операции с жильем</td>\n",
       "    </tr>\n",
       "    <tr>\n",
       "      <td>21521</td>\n",
       "      <td>0</td>\n",
       "      <td>343937.404131</td>\n",
       "      <td>67</td>\n",
       "      <td>среднее</td>\n",
       "      <td>1</td>\n",
       "      <td>женат / замужем</td>\n",
       "      <td>0</td>\n",
       "      <td>F</td>\n",
       "      <td>пенсионер</td>\n",
       "      <td>0</td>\n",
       "      <td>155999.806512</td>\n",
       "      <td>сделка с автомобилем</td>\n",
       "    </tr>\n",
       "    <tr>\n",
       "      <td>21522</td>\n",
       "      <td>1</td>\n",
       "      <td>-2113.346888</td>\n",
       "      <td>38</td>\n",
       "      <td>среднее</td>\n",
       "      <td>1</td>\n",
       "      <td>гражданский брак</td>\n",
       "      <td>1</td>\n",
       "      <td>M</td>\n",
       "      <td>сотрудник</td>\n",
       "      <td>1</td>\n",
       "      <td>89672.561153</td>\n",
       "      <td>недвижимость</td>\n",
       "    </tr>\n",
       "    <tr>\n",
       "      <td>21523</td>\n",
       "      <td>3</td>\n",
       "      <td>-3112.481705</td>\n",
       "      <td>38</td>\n",
       "      <td>среднее</td>\n",
       "      <td>1</td>\n",
       "      <td>женат / замужем</td>\n",
       "      <td>0</td>\n",
       "      <td>M</td>\n",
       "      <td>сотрудник</td>\n",
       "      <td>1</td>\n",
       "      <td>244093.050500</td>\n",
       "      <td>на покупку своего автомобиля</td>\n",
       "    </tr>\n",
       "    <tr>\n",
       "      <td>21524</td>\n",
       "      <td>2</td>\n",
       "      <td>-1984.507589</td>\n",
       "      <td>40</td>\n",
       "      <td>среднее</td>\n",
       "      <td>1</td>\n",
       "      <td>женат / замужем</td>\n",
       "      <td>0</td>\n",
       "      <td>F</td>\n",
       "      <td>сотрудник</td>\n",
       "      <td>0</td>\n",
       "      <td>82047.418899</td>\n",
       "      <td>на покупку автомобиля</td>\n",
       "    </tr>\n",
       "  </tbody>\n",
       "</table>\n",
       "</div>"
      ],
      "text/plain": [
       "       children  days_employed  dob_years       education  education_id  \\\n",
       "21515         1    -467.685130         28         среднее             1   \n",
       "21516         0    -914.391429         42          высшее             0   \n",
       "21517         0    -404.679034         42          высшее             0   \n",
       "21518         0  373995.710838         59         СРЕДНЕЕ             1   \n",
       "21519         1   -2351.431934         37  ученая степень             4   \n",
       "21520         1   -4529.316663         43         среднее             1   \n",
       "21521         0  343937.404131         67         среднее             1   \n",
       "21522         1   -2113.346888         38         среднее             1   \n",
       "21523         3   -3112.481705         38         среднее             1   \n",
       "21524         2   -1984.507589         40         среднее             1   \n",
       "\n",
       "          family_status  family_status_id gender income_type  debt  \\\n",
       "21515   женат / замужем                 0      F   сотрудник     1   \n",
       "21516   женат / замужем                 0      F   компаньон     0   \n",
       "21517  гражданский брак                 1      F   компаньон     0   \n",
       "21518   женат / замужем                 0      F   пенсионер     0   \n",
       "21519         в разводе                 3      M   сотрудник     0   \n",
       "21520  гражданский брак                 1      F   компаньон     0   \n",
       "21521   женат / замужем                 0      F   пенсионер     0   \n",
       "21522  гражданский брак                 1      M   сотрудник     1   \n",
       "21523   женат / замужем                 0      M   сотрудник     1   \n",
       "21524   женат / замужем                 0      F   сотрудник     0   \n",
       "\n",
       "        total_income                            purpose  \n",
       "21515  109486.327999              заняться образованием  \n",
       "21516  322807.776603               покупка своего жилья  \n",
       "21517  178059.553491       на покупку своего автомобиля  \n",
       "21518  153864.650328               сделка с автомобилем  \n",
       "21519  115949.039788  покупка коммерческой недвижимости  \n",
       "21520  224791.862382                  операции с жильем  \n",
       "21521  155999.806512               сделка с автомобилем  \n",
       "21522   89672.561153                       недвижимость  \n",
       "21523  244093.050500       на покупку своего автомобиля  \n",
       "21524   82047.418899              на покупку автомобиля  "
      ]
     },
     "metadata": {},
     "output_type": "display_data"
    },
    {
     "name": "stdout",
     "output_type": "stream",
     "text": [
      "<class 'pandas.core.frame.DataFrame'>\n",
      "RangeIndex: 21525 entries, 0 to 21524\n",
      "Data columns (total 12 columns):\n",
      "children            21525 non-null int64\n",
      "days_employed       19351 non-null float64\n",
      "dob_years           21525 non-null int64\n",
      "education           21525 non-null object\n",
      "education_id        21525 non-null int64\n",
      "family_status       21525 non-null object\n",
      "family_status_id    21525 non-null int64\n",
      "gender              21525 non-null object\n",
      "income_type         21525 non-null object\n",
      "debt                21525 non-null int64\n",
      "total_income        19351 non-null float64\n",
      "purpose             21525 non-null object\n",
      "dtypes: float64(2), int64(5), object(5)\n",
      "memory usage: 2.0+ MB\n"
     ]
    }
   ],
   "source": [
    "#импортируем библитеку pandas\n",
    "import pandas as pd\n",
    "\n",
    "#отключаем предупреждения об изменении отфильтрованных данных\n",
    "pd.options.mode.chained_assignment = None\n",
    "\n",
    "# читаем наш файл в переменную 'data'\n",
    "data = pd.read_csv('/datasets/data.csv')\n",
    "\n",
    "#вывод на экран первых 10 строк датафрейма\n",
    "display (data.head(10))\n",
    "\n",
    "#вывод на экран последних 10 строк датафрейма\n",
    "display (data.tail(10))\n",
    "\n",
    "#выводим общую информацию по датафрейму\n",
    "data.info()"
   ]
  },
  {
   "cell_type": "markdown",
   "metadata": {},
   "source": [
    "**Вывод**"
   ]
  },
  {
   "cell_type": "markdown",
   "metadata": {},
   "source": [
    "Из присланных данных мы знаем описания столбцов датафрейма.\n",
    "\n",
    "При выводе первых 10 и последних 10 строк датафрейма мы видим:\n",
    "\n",
    " * В данных столбца 'days_employed' присутствуют положительные и отрицательные значения.\n",
    "\n",
    " * Данные в столбце 'education' записаны как строчными буквами и прописными, так и смешано.\n",
    " \n",
    " * Также мы получили общую информацию по структуре данных столбцов таблицы.\n",
    " \n",
    " * В столбцах 'days_employed' и 'total_income' есть пропущенные данные и они составляют около 10% всех данных каждый.\n",
    " \n",
    "Т.к. по условиям задания у нас нет целей выявления зависимостей возврата кредита от дней стажа и уровня образования мы оговорим \n",
    "\n",
    "данные моменты как рекомендации соответствующим службам обратить внимание на заполнение данных граф:\n",
    "\n",
    " * разобраться в форматах (возможных ошибках при заполнение графы: 'общий трудовой стаж в днях'\n",
    " * привести в единообразное соответстие заполнение графы: 'уровень образования клиента'"
   ]
  },
  {
   "cell_type": "markdown",
   "metadata": {},
   "source": [
    "<a id=\"step_2\"></a>\n",
    "## Шаг 2. Предобработка данных"
   ]
  },
  {
   "cell_type": "markdown",
   "metadata": {},
   "source": [
    "### Обработка пропусков"
   ]
  },
  {
   "cell_type": "code",
   "execution_count": 2,
   "metadata": {},
   "outputs": [
    {
     "data": {
      "text/plain": [
       "array([nan])"
      ]
     },
     "metadata": {},
     "output_type": "display_data"
    },
    {
     "data": {
      "text/plain": [
       "array(['пенсионер', 'госслужащий', 'компаньон', 'сотрудник',\n",
       "       'предприниматель'], dtype=object)"
      ]
     },
     "metadata": {},
     "output_type": "display_data"
    },
    {
     "data": {
      "text/html": [
       "<div>\n",
       "<style scoped>\n",
       "    .dataframe tbody tr th:only-of-type {\n",
       "        vertical-align: middle;\n",
       "    }\n",
       "\n",
       "    .dataframe tbody tr th {\n",
       "        vertical-align: top;\n",
       "    }\n",
       "\n",
       "    .dataframe thead th {\n",
       "        text-align: right;\n",
       "    }\n",
       "</style>\n",
       "<table border=\"1\" class=\"dataframe\">\n",
       "  <thead>\n",
       "    <tr style=\"text-align: right;\">\n",
       "      <th></th>\n",
       "      <th>children</th>\n",
       "      <th>days_employed</th>\n",
       "      <th>dob_years</th>\n",
       "      <th>education</th>\n",
       "      <th>education_id</th>\n",
       "      <th>family_status</th>\n",
       "      <th>family_status_id</th>\n",
       "      <th>gender</th>\n",
       "      <th>income_type</th>\n",
       "      <th>debt</th>\n",
       "      <th>total_income</th>\n",
       "      <th>purpose</th>\n",
       "    </tr>\n",
       "  </thead>\n",
       "  <tbody>\n",
       "    <tr>\n",
       "      <td>0</td>\n",
       "      <td>1</td>\n",
       "      <td>-8437.67</td>\n",
       "      <td>42</td>\n",
       "      <td>высшее</td>\n",
       "      <td>0</td>\n",
       "      <td>женат / замужем</td>\n",
       "      <td>0</td>\n",
       "      <td>F</td>\n",
       "      <td>сотрудник</td>\n",
       "      <td>0</td>\n",
       "      <td>253875.639453</td>\n",
       "      <td>покупка жилья</td>\n",
       "    </tr>\n",
       "    <tr>\n",
       "      <td>1</td>\n",
       "      <td>1</td>\n",
       "      <td>-4024.8</td>\n",
       "      <td>36</td>\n",
       "      <td>среднее</td>\n",
       "      <td>1</td>\n",
       "      <td>женат / замужем</td>\n",
       "      <td>0</td>\n",
       "      <td>F</td>\n",
       "      <td>сотрудник</td>\n",
       "      <td>0</td>\n",
       "      <td>112080.014102</td>\n",
       "      <td>приобретение автомобиля</td>\n",
       "    </tr>\n",
       "    <tr>\n",
       "      <td>2</td>\n",
       "      <td>0</td>\n",
       "      <td>-5623.42</td>\n",
       "      <td>33</td>\n",
       "      <td>Среднее</td>\n",
       "      <td>1</td>\n",
       "      <td>женат / замужем</td>\n",
       "      <td>0</td>\n",
       "      <td>M</td>\n",
       "      <td>сотрудник</td>\n",
       "      <td>0</td>\n",
       "      <td>145885.952297</td>\n",
       "      <td>покупка жилья</td>\n",
       "    </tr>\n",
       "    <tr>\n",
       "      <td>3</td>\n",
       "      <td>3</td>\n",
       "      <td>-4124.75</td>\n",
       "      <td>32</td>\n",
       "      <td>среднее</td>\n",
       "      <td>1</td>\n",
       "      <td>женат / замужем</td>\n",
       "      <td>0</td>\n",
       "      <td>M</td>\n",
       "      <td>сотрудник</td>\n",
       "      <td>0</td>\n",
       "      <td>267628.550329</td>\n",
       "      <td>дополнительное образование</td>\n",
       "    </tr>\n",
       "    <tr>\n",
       "      <td>4</td>\n",
       "      <td>0</td>\n",
       "      <td>340266</td>\n",
       "      <td>53</td>\n",
       "      <td>среднее</td>\n",
       "      <td>1</td>\n",
       "      <td>гражданский брак</td>\n",
       "      <td>1</td>\n",
       "      <td>F</td>\n",
       "      <td>пенсионер</td>\n",
       "      <td>0</td>\n",
       "      <td>158616.077870</td>\n",
       "      <td>сыграть свадьбу</td>\n",
       "    </tr>\n",
       "    <tr>\n",
       "      <td>5</td>\n",
       "      <td>0</td>\n",
       "      <td>-926.186</td>\n",
       "      <td>27</td>\n",
       "      <td>высшее</td>\n",
       "      <td>0</td>\n",
       "      <td>гражданский брак</td>\n",
       "      <td>1</td>\n",
       "      <td>M</td>\n",
       "      <td>компаньон</td>\n",
       "      <td>0</td>\n",
       "      <td>255763.565419</td>\n",
       "      <td>покупка жилья</td>\n",
       "    </tr>\n",
       "    <tr>\n",
       "      <td>6</td>\n",
       "      <td>0</td>\n",
       "      <td>-2879.2</td>\n",
       "      <td>43</td>\n",
       "      <td>высшее</td>\n",
       "      <td>0</td>\n",
       "      <td>женат / замужем</td>\n",
       "      <td>0</td>\n",
       "      <td>F</td>\n",
       "      <td>компаньон</td>\n",
       "      <td>0</td>\n",
       "      <td>240525.971920</td>\n",
       "      <td>операции с жильем</td>\n",
       "    </tr>\n",
       "    <tr>\n",
       "      <td>7</td>\n",
       "      <td>0</td>\n",
       "      <td>-152.78</td>\n",
       "      <td>50</td>\n",
       "      <td>СРЕДНЕЕ</td>\n",
       "      <td>1</td>\n",
       "      <td>женат / замужем</td>\n",
       "      <td>0</td>\n",
       "      <td>M</td>\n",
       "      <td>сотрудник</td>\n",
       "      <td>0</td>\n",
       "      <td>135823.934197</td>\n",
       "      <td>образование</td>\n",
       "    </tr>\n",
       "    <tr>\n",
       "      <td>8</td>\n",
       "      <td>2</td>\n",
       "      <td>-6929.87</td>\n",
       "      <td>35</td>\n",
       "      <td>ВЫСШЕЕ</td>\n",
       "      <td>0</td>\n",
       "      <td>гражданский брак</td>\n",
       "      <td>1</td>\n",
       "      <td>F</td>\n",
       "      <td>сотрудник</td>\n",
       "      <td>0</td>\n",
       "      <td>95856.832424</td>\n",
       "      <td>на проведение свадьбы</td>\n",
       "    </tr>\n",
       "    <tr>\n",
       "      <td>9</td>\n",
       "      <td>0</td>\n",
       "      <td>-2188.76</td>\n",
       "      <td>41</td>\n",
       "      <td>среднее</td>\n",
       "      <td>1</td>\n",
       "      <td>женат / замужем</td>\n",
       "      <td>0</td>\n",
       "      <td>M</td>\n",
       "      <td>сотрудник</td>\n",
       "      <td>0</td>\n",
       "      <td>144425.938277</td>\n",
       "      <td>покупка жилья для семьи</td>\n",
       "    </tr>\n",
       "  </tbody>\n",
       "</table>\n",
       "</div>"
      ],
      "text/plain": [
       "   children days_employed  dob_years education  education_id  \\\n",
       "0         1      -8437.67         42    высшее             0   \n",
       "1         1       -4024.8         36   среднее             1   \n",
       "2         0      -5623.42         33   Среднее             1   \n",
       "3         3      -4124.75         32   среднее             1   \n",
       "4         0        340266         53   среднее             1   \n",
       "5         0      -926.186         27    высшее             0   \n",
       "6         0       -2879.2         43    высшее             0   \n",
       "7         0       -152.78         50   СРЕДНЕЕ             1   \n",
       "8         2      -6929.87         35    ВЫСШЕЕ             0   \n",
       "9         0      -2188.76         41   среднее             1   \n",
       "\n",
       "      family_status  family_status_id gender income_type  debt   total_income  \\\n",
       "0   женат / замужем                 0      F   сотрудник     0  253875.639453   \n",
       "1   женат / замужем                 0      F   сотрудник     0  112080.014102   \n",
       "2   женат / замужем                 0      M   сотрудник     0  145885.952297   \n",
       "3   женат / замужем                 0      M   сотрудник     0  267628.550329   \n",
       "4  гражданский брак                 1      F   пенсионер     0  158616.077870   \n",
       "5  гражданский брак                 1      M   компаньон     0  255763.565419   \n",
       "6   женат / замужем                 0      F   компаньон     0  240525.971920   \n",
       "7   женат / замужем                 0      M   сотрудник     0  135823.934197   \n",
       "8  гражданский брак                 1      F   сотрудник     0   95856.832424   \n",
       "9   женат / замужем                 0      M   сотрудник     0  144425.938277   \n",
       "\n",
       "                      purpose  \n",
       "0               покупка жилья  \n",
       "1     приобретение автомобиля  \n",
       "2               покупка жилья  \n",
       "3  дополнительное образование  \n",
       "4             сыграть свадьбу  \n",
       "5               покупка жилья  \n",
       "6           операции с жильем  \n",
       "7                 образование  \n",
       "8       на проведение свадьбы  \n",
       "9     покупка жилья для семьи  "
      ]
     },
     "metadata": {},
     "output_type": "display_data"
    },
    {
     "name": "stdout",
     "output_type": "stream",
     "text": [
      "<class 'pandas.core.frame.DataFrame'>\n",
      "RangeIndex: 21525 entries, 0 to 21524\n",
      "Data columns (total 12 columns):\n",
      "children            21525 non-null int64\n",
      "days_employed       21525 non-null object\n",
      "dob_years           21525 non-null int64\n",
      "education           21525 non-null object\n",
      "education_id        21525 non-null int64\n",
      "family_status       21525 non-null object\n",
      "family_status_id    21525 non-null int64\n",
      "gender              21525 non-null object\n",
      "income_type         21525 non-null object\n",
      "debt                21525 non-null int64\n",
      "total_income        21525 non-null float64\n",
      "purpose             21525 non-null object\n",
      "dtypes: float64(1), int64(5), object(6)\n",
      "memory usage: 2.0+ MB\n"
     ]
    }
   ],
   "source": [
    "#заменяем пустые значения в стобце 'days_employed' на значение 'Нет данных',\n",
    "#т.к. эти данные не представляют для нас ценности в условиях решения задачи\n",
    "data['days_employed'] = data['days_employed'].fillna(value='Нет данных')\n",
    "\n",
    "#принимаем в пеерменную 'data_NaN' датафрейм отфильтрованный по отсутствующим данным в столбце 'days_employed'\n",
    "data_NaN = data [data ['days_employed'] == 'Нет данных']\n",
    "\n",
    "#выводим уникальные значения по столбцу 'total_income'\n",
    "display (data_NaN ['total_income'].unique())\n",
    "\n",
    "#выводим уникальные значения по столбцу 'income_type'\n",
    "display (data_NaN ['income_type'].unique())\n",
    "\n",
    "#заменяем все пустые значения в столбце 'total_income' на их медианные значения по группам из 'income_type'\n",
    "data['total_income'] = data.groupby('income_type')['total_income'].transform(lambda x: x.fillna(x.median()))\n",
    "\n",
    "#выводим первые 10 строк датафрейма для наглядности\n",
    "display (data.head (10))\n",
    "\n",
    "#проверяем, все ли у нас заполненно и правильно ли заполненно\n",
    "data.info()"
   ]
  },
  {
   "cell_type": "markdown",
   "metadata": {},
   "source": [
    "**Вывод**"
   ]
  },
  {
   "cell_type": "markdown",
   "metadata": {},
   "source": [
    "Из анализа данных озвученных ранее, мы выяснили, что имеются пропуски данныз в столбцах 'days_employed' и 'total_income'.\n",
    "\n",
    "В процессе обработки данных мы заменили пропуски:\n",
    "\n",
    " * В данных столбца 'days_employed' на значения 'Нет данных', т.к. эти данные не представляют для нас ценности в условиях решения задачи.\n",
    "\n",
    " * Данных в столбце 'total_income' на значения медиан (т.к. медиана это число, характеризующее выборку (например, набор чисел) и является надежным показателем центрального местоположения в последовательности и меньше зависит от наличия \"всплесков\" в элементах). Медианы расчитываем для каждой группы заемщиков отдельно, т.к. это данные нам необходимы для дальнейшего анализа, а именно: выявить зависимость между уровнем дохода и возвратом кредита в срок.\n",
    "\n",
    "В процессе исследования заполнения столбцов 'total_income', 'days_employed' и 'income_type' выясняется,\n",
    "что пропуски данных по столбцам 'days_employed' четко соотносяься с пропусками данный по столбцам 'total_income'.\n",
    "\n",
    "Из этого сделаем предположение о том, что данные заемщики в момент получения кредита являлись безработными."
   ]
  },
  {
   "cell_type": "markdown",
   "metadata": {},
   "source": [
    "<a id=\"step_3\"></a>\n",
    "### Замена типа данных"
   ]
  },
  {
   "cell_type": "code",
   "execution_count": 3,
   "metadata": {},
   "outputs": [
    {
     "data": {
      "text/plain": [
       "array(['F', 'M', 'XNA'], dtype=object)"
      ]
     },
     "metadata": {},
     "output_type": "display_data"
    },
    {
     "data": {
      "text/html": [
       "<div>\n",
       "<style scoped>\n",
       "    .dataframe tbody tr th:only-of-type {\n",
       "        vertical-align: middle;\n",
       "    }\n",
       "\n",
       "    .dataframe tbody tr th {\n",
       "        vertical-align: top;\n",
       "    }\n",
       "\n",
       "    .dataframe thead th {\n",
       "        text-align: right;\n",
       "    }\n",
       "</style>\n",
       "<table border=\"1\" class=\"dataframe\">\n",
       "  <thead>\n",
       "    <tr style=\"text-align: right;\">\n",
       "      <th></th>\n",
       "      <th>children</th>\n",
       "      <th>days_employed</th>\n",
       "      <th>dob_years</th>\n",
       "      <th>education</th>\n",
       "      <th>education_id</th>\n",
       "      <th>family_status</th>\n",
       "      <th>family_status_id</th>\n",
       "      <th>gender</th>\n",
       "      <th>income_type</th>\n",
       "      <th>debt</th>\n",
       "      <th>total_income</th>\n",
       "      <th>purpose</th>\n",
       "    </tr>\n",
       "  </thead>\n",
       "  <tbody>\n",
       "    <tr>\n",
       "      <td>10701</td>\n",
       "      <td>0</td>\n",
       "      <td>-2358.6</td>\n",
       "      <td>24</td>\n",
       "      <td>неоконченное высшее</td>\n",
       "      <td>2</td>\n",
       "      <td>гражданский брак</td>\n",
       "      <td>1</td>\n",
       "      <td>XNA</td>\n",
       "      <td>компаньон</td>\n",
       "      <td>0</td>\n",
       "      <td>203905</td>\n",
       "      <td>покупка недвижимости</td>\n",
       "    </tr>\n",
       "  </tbody>\n",
       "</table>\n",
       "</div>"
      ],
      "text/plain": [
       "       children days_employed  dob_years            education  education_id  \\\n",
       "10701         0       -2358.6         24  неоконченное высшее             2   \n",
       "\n",
       "          family_status  family_status_id gender income_type  debt  \\\n",
       "10701  гражданский брак                 1    XNA   компаньон     0   \n",
       "\n",
       "       total_income               purpose  \n",
       "10701        203905  покупка недвижимости  "
      ]
     },
     "metadata": {},
     "output_type": "display_data"
    },
    {
     "data": {
      "text/html": [
       "<div>\n",
       "<style scoped>\n",
       "    .dataframe tbody tr th:only-of-type {\n",
       "        vertical-align: middle;\n",
       "    }\n",
       "\n",
       "    .dataframe tbody tr th {\n",
       "        vertical-align: top;\n",
       "    }\n",
       "\n",
       "    .dataframe thead th {\n",
       "        text-align: right;\n",
       "    }\n",
       "</style>\n",
       "<table border=\"1\" class=\"dataframe\">\n",
       "  <thead>\n",
       "    <tr style=\"text-align: right;\">\n",
       "      <th></th>\n",
       "      <th>children</th>\n",
       "      <th>days_employed</th>\n",
       "      <th>dob_years</th>\n",
       "      <th>education</th>\n",
       "      <th>education_id</th>\n",
       "      <th>family_status</th>\n",
       "      <th>family_status_id</th>\n",
       "      <th>gender</th>\n",
       "      <th>income_type</th>\n",
       "      <th>debt</th>\n",
       "      <th>total_income</th>\n",
       "      <th>purpose</th>\n",
       "    </tr>\n",
       "  </thead>\n",
       "  <tbody>\n",
       "    <tr>\n",
       "      <td>0</td>\n",
       "      <td>1</td>\n",
       "      <td>-8437.67</td>\n",
       "      <td>42</td>\n",
       "      <td>высшее</td>\n",
       "      <td>0</td>\n",
       "      <td>женат / замужем</td>\n",
       "      <td>0</td>\n",
       "      <td>F</td>\n",
       "      <td>сотрудник</td>\n",
       "      <td>0</td>\n",
       "      <td>253875</td>\n",
       "      <td>покупка жилья</td>\n",
       "    </tr>\n",
       "    <tr>\n",
       "      <td>1</td>\n",
       "      <td>1</td>\n",
       "      <td>-4024.8</td>\n",
       "      <td>36</td>\n",
       "      <td>среднее</td>\n",
       "      <td>1</td>\n",
       "      <td>женат / замужем</td>\n",
       "      <td>0</td>\n",
       "      <td>F</td>\n",
       "      <td>сотрудник</td>\n",
       "      <td>0</td>\n",
       "      <td>112080</td>\n",
       "      <td>приобретение автомобиля</td>\n",
       "    </tr>\n",
       "    <tr>\n",
       "      <td>2</td>\n",
       "      <td>0</td>\n",
       "      <td>-5623.42</td>\n",
       "      <td>33</td>\n",
       "      <td>среднее</td>\n",
       "      <td>1</td>\n",
       "      <td>женат / замужем</td>\n",
       "      <td>0</td>\n",
       "      <td>M</td>\n",
       "      <td>сотрудник</td>\n",
       "      <td>0</td>\n",
       "      <td>145885</td>\n",
       "      <td>покупка жилья</td>\n",
       "    </tr>\n",
       "    <tr>\n",
       "      <td>3</td>\n",
       "      <td>3</td>\n",
       "      <td>-4124.75</td>\n",
       "      <td>32</td>\n",
       "      <td>среднее</td>\n",
       "      <td>1</td>\n",
       "      <td>женат / замужем</td>\n",
       "      <td>0</td>\n",
       "      <td>M</td>\n",
       "      <td>сотрудник</td>\n",
       "      <td>0</td>\n",
       "      <td>267628</td>\n",
       "      <td>дополнительное образование</td>\n",
       "    </tr>\n",
       "    <tr>\n",
       "      <td>4</td>\n",
       "      <td>0</td>\n",
       "      <td>340266</td>\n",
       "      <td>53</td>\n",
       "      <td>среднее</td>\n",
       "      <td>1</td>\n",
       "      <td>гражданский брак</td>\n",
       "      <td>1</td>\n",
       "      <td>F</td>\n",
       "      <td>пенсионер</td>\n",
       "      <td>0</td>\n",
       "      <td>158616</td>\n",
       "      <td>сыграть свадьбу</td>\n",
       "    </tr>\n",
       "  </tbody>\n",
       "</table>\n",
       "</div>"
      ],
      "text/plain": [
       "   children days_employed  dob_years education  education_id  \\\n",
       "0         1      -8437.67         42    высшее             0   \n",
       "1         1       -4024.8         36   среднее             1   \n",
       "2         0      -5623.42         33   среднее             1   \n",
       "3         3      -4124.75         32   среднее             1   \n",
       "4         0        340266         53   среднее             1   \n",
       "\n",
       "      family_status  family_status_id gender income_type  debt  total_income  \\\n",
       "0   женат / замужем                 0      F   сотрудник     0        253875   \n",
       "1   женат / замужем                 0      F   сотрудник     0        112080   \n",
       "2   женат / замужем                 0      M   сотрудник     0        145885   \n",
       "3   женат / замужем                 0      M   сотрудник     0        267628   \n",
       "4  гражданский брак                 1      F   пенсионер     0        158616   \n",
       "\n",
       "                      purpose  \n",
       "0               покупка жилья  \n",
       "1     приобретение автомобиля  \n",
       "2               покупка жилья  \n",
       "3  дополнительное образование  \n",
       "4             сыграть свадьбу  "
      ]
     },
     "metadata": {},
     "output_type": "display_data"
    }
   ],
   "source": [
    "#переводим все значения столбца total_income' в int для лучшей наглядности и последующей группировки\n",
    "data ['total_income'] = data ['total_income'].astype(int)\n",
    "\n",
    "#переведем значения столбца 'education' к единому формату, а именно в нижний регистр\n",
    "data ['education'] = data['education'].str.lower()\n",
    "\n",
    "#в последующих шагах, мы выясним, что в столбце 'children' имеется отрицательное значение, исправим это\n",
    "data ['children'] = data ['children'].replace (-1, 1)\n",
    "#в последующих шагах, мы выясним, что в столбце 'children' имеется значение '20',\n",
    "#видимо - это оштбка, заменим данное число на медианное значение числа детей в семье, т.к.\n",
    "#это может быть и '2' и '0'\n",
    "data ['children'] = data ['children'].replace (-1, 1)\n",
    "children_median = data.loc[data.loc[:, 'children'] != 20]['children'].median()\n",
    "data['children'] = data['children'].replace(20, children_median)\n",
    "\n",
    "display (data['gender'].unique ())#выводим на экран уникальные значения столбца 'gender'\n",
    "display (data[data['gender'] == 'XNA'])#посмотрим на строку с данным значением\n",
    "\n",
    "data = data [data ['gender'] != 'XNA'].reset_index(drop=True)#удалим строку, содержащую ['gender'] == 'XNA'.\n",
    "\n",
    "#выведем первые 5 строк датафрема для проверки\n",
    "display (data.head())"
   ]
  },
  {
   "cell_type": "markdown",
   "metadata": {},
   "source": [
    "**Вывод**"
   ]
  },
  {
   "cell_type": "markdown",
   "metadata": {},
   "source": [
    "В процессе обработки данных мы заменили все значения столбца total_income' в int. Это было сделано по причинам:\n",
    "\n",
    " * Для лучшей наглядности.\n",
    "\n",
    " * Для последующей группировки.\n",
    "\n",
    "Выбрали метод astype () по причине удобства пеервода в целые числа.\n",
    "\n",
    "Привели значения столбца 'education' к единому формату, а именно пеервели в нижний регистр\n",
    "\n",
    "Привели значения столбца 'children' в соответствие."
   ]
  },
  {
   "cell_type": "markdown",
   "metadata": {},
   "source": [
    "<a id=\"step_4\"></a>\n",
    "### Обработка дубликатов"
   ]
  },
  {
   "cell_type": "code",
   "execution_count": 4,
   "metadata": {},
   "outputs": [
    {
     "data": {
      "text/plain": [
       "71"
      ]
     },
     "metadata": {},
     "output_type": "display_data"
    },
    {
     "data": {
      "text/html": [
       "<div>\n",
       "<style scoped>\n",
       "    .dataframe tbody tr th:only-of-type {\n",
       "        vertical-align: middle;\n",
       "    }\n",
       "\n",
       "    .dataframe tbody tr th {\n",
       "        vertical-align: top;\n",
       "    }\n",
       "\n",
       "    .dataframe thead th {\n",
       "        text-align: right;\n",
       "    }\n",
       "</style>\n",
       "<table border=\"1\" class=\"dataframe\">\n",
       "  <thead>\n",
       "    <tr style=\"text-align: right;\">\n",
       "      <th></th>\n",
       "      <th>children</th>\n",
       "      <th>days_employed</th>\n",
       "      <th>dob_years</th>\n",
       "      <th>education</th>\n",
       "      <th>education_id</th>\n",
       "      <th>family_status</th>\n",
       "      <th>family_status_id</th>\n",
       "      <th>gender</th>\n",
       "      <th>income_type</th>\n",
       "      <th>debt</th>\n",
       "      <th>total_income</th>\n",
       "      <th>purpose</th>\n",
       "    </tr>\n",
       "  </thead>\n",
       "  <tbody>\n",
       "    <tr>\n",
       "      <td>2849</td>\n",
       "      <td>0</td>\n",
       "      <td>Нет данных</td>\n",
       "      <td>41</td>\n",
       "      <td>среднее</td>\n",
       "      <td>1</td>\n",
       "      <td>женат / замужем</td>\n",
       "      <td>0</td>\n",
       "      <td>F</td>\n",
       "      <td>сотрудник</td>\n",
       "      <td>0</td>\n",
       "      <td>142594</td>\n",
       "      <td>покупка жилья для семьи</td>\n",
       "    </tr>\n",
       "    <tr>\n",
       "      <td>3290</td>\n",
       "      <td>0</td>\n",
       "      <td>Нет данных</td>\n",
       "      <td>58</td>\n",
       "      <td>среднее</td>\n",
       "      <td>1</td>\n",
       "      <td>гражданский брак</td>\n",
       "      <td>1</td>\n",
       "      <td>F</td>\n",
       "      <td>пенсионер</td>\n",
       "      <td>0</td>\n",
       "      <td>118514</td>\n",
       "      <td>сыграть свадьбу</td>\n",
       "    </tr>\n",
       "    <tr>\n",
       "      <td>4182</td>\n",
       "      <td>1</td>\n",
       "      <td>Нет данных</td>\n",
       "      <td>34</td>\n",
       "      <td>высшее</td>\n",
       "      <td>0</td>\n",
       "      <td>гражданский брак</td>\n",
       "      <td>1</td>\n",
       "      <td>F</td>\n",
       "      <td>сотрудник</td>\n",
       "      <td>0</td>\n",
       "      <td>142594</td>\n",
       "      <td>свадьба</td>\n",
       "    </tr>\n",
       "    <tr>\n",
       "      <td>4851</td>\n",
       "      <td>0</td>\n",
       "      <td>Нет данных</td>\n",
       "      <td>60</td>\n",
       "      <td>среднее</td>\n",
       "      <td>1</td>\n",
       "      <td>гражданский брак</td>\n",
       "      <td>1</td>\n",
       "      <td>F</td>\n",
       "      <td>пенсионер</td>\n",
       "      <td>0</td>\n",
       "      <td>118514</td>\n",
       "      <td>свадьба</td>\n",
       "    </tr>\n",
       "    <tr>\n",
       "      <td>5557</td>\n",
       "      <td>0</td>\n",
       "      <td>Нет данных</td>\n",
       "      <td>58</td>\n",
       "      <td>среднее</td>\n",
       "      <td>1</td>\n",
       "      <td>гражданский брак</td>\n",
       "      <td>1</td>\n",
       "      <td>F</td>\n",
       "      <td>пенсионер</td>\n",
       "      <td>0</td>\n",
       "      <td>118514</td>\n",
       "      <td>сыграть свадьбу</td>\n",
       "    </tr>\n",
       "    <tr>\n",
       "      <td>...</td>\n",
       "      <td>...</td>\n",
       "      <td>...</td>\n",
       "      <td>...</td>\n",
       "      <td>...</td>\n",
       "      <td>...</td>\n",
       "      <td>...</td>\n",
       "      <td>...</td>\n",
       "      <td>...</td>\n",
       "      <td>...</td>\n",
       "      <td>...</td>\n",
       "      <td>...</td>\n",
       "      <td>...</td>\n",
       "    </tr>\n",
       "    <tr>\n",
       "      <td>20701</td>\n",
       "      <td>0</td>\n",
       "      <td>Нет данных</td>\n",
       "      <td>64</td>\n",
       "      <td>среднее</td>\n",
       "      <td>1</td>\n",
       "      <td>женат / замужем</td>\n",
       "      <td>0</td>\n",
       "      <td>F</td>\n",
       "      <td>пенсионер</td>\n",
       "      <td>0</td>\n",
       "      <td>118514</td>\n",
       "      <td>дополнительное образование</td>\n",
       "    </tr>\n",
       "    <tr>\n",
       "      <td>21031</td>\n",
       "      <td>0</td>\n",
       "      <td>Нет данных</td>\n",
       "      <td>60</td>\n",
       "      <td>среднее</td>\n",
       "      <td>1</td>\n",
       "      <td>женат / замужем</td>\n",
       "      <td>0</td>\n",
       "      <td>F</td>\n",
       "      <td>пенсионер</td>\n",
       "      <td>0</td>\n",
       "      <td>118514</td>\n",
       "      <td>заняться образованием</td>\n",
       "    </tr>\n",
       "    <tr>\n",
       "      <td>21131</td>\n",
       "      <td>0</td>\n",
       "      <td>Нет данных</td>\n",
       "      <td>47</td>\n",
       "      <td>среднее</td>\n",
       "      <td>1</td>\n",
       "      <td>женат / замужем</td>\n",
       "      <td>0</td>\n",
       "      <td>F</td>\n",
       "      <td>сотрудник</td>\n",
       "      <td>0</td>\n",
       "      <td>142594</td>\n",
       "      <td>ремонт жилью</td>\n",
       "    </tr>\n",
       "    <tr>\n",
       "      <td>21280</td>\n",
       "      <td>1</td>\n",
       "      <td>Нет данных</td>\n",
       "      <td>30</td>\n",
       "      <td>высшее</td>\n",
       "      <td>0</td>\n",
       "      <td>женат / замужем</td>\n",
       "      <td>0</td>\n",
       "      <td>F</td>\n",
       "      <td>сотрудник</td>\n",
       "      <td>0</td>\n",
       "      <td>142594</td>\n",
       "      <td>покупка коммерческой недвижимости</td>\n",
       "    </tr>\n",
       "    <tr>\n",
       "      <td>21414</td>\n",
       "      <td>0</td>\n",
       "      <td>Нет данных</td>\n",
       "      <td>54</td>\n",
       "      <td>среднее</td>\n",
       "      <td>1</td>\n",
       "      <td>женат / замужем</td>\n",
       "      <td>0</td>\n",
       "      <td>F</td>\n",
       "      <td>пенсионер</td>\n",
       "      <td>0</td>\n",
       "      <td>118514</td>\n",
       "      <td>операции с жильем</td>\n",
       "    </tr>\n",
       "  </tbody>\n",
       "</table>\n",
       "<p>71 rows × 12 columns</p>\n",
       "</div>"
      ],
      "text/plain": [
       "       children days_employed  dob_years education  education_id  \\\n",
       "2849          0    Нет данных         41   среднее             1   \n",
       "3290          0    Нет данных         58   среднее             1   \n",
       "4182          1    Нет данных         34    высшее             0   \n",
       "4851          0    Нет данных         60   среднее             1   \n",
       "5557          0    Нет данных         58   среднее             1   \n",
       "...         ...           ...        ...       ...           ...   \n",
       "20701         0    Нет данных         64   среднее             1   \n",
       "21031         0    Нет данных         60   среднее             1   \n",
       "21131         0    Нет данных         47   среднее             1   \n",
       "21280         1    Нет данных         30    высшее             0   \n",
       "21414         0    Нет данных         54   среднее             1   \n",
       "\n",
       "          family_status  family_status_id gender income_type  debt  \\\n",
       "2849    женат / замужем                 0      F   сотрудник     0   \n",
       "3290   гражданский брак                 1      F   пенсионер     0   \n",
       "4182   гражданский брак                 1      F   сотрудник     0   \n",
       "4851   гражданский брак                 1      F   пенсионер     0   \n",
       "5557   гражданский брак                 1      F   пенсионер     0   \n",
       "...                 ...               ...    ...         ...   ...   \n",
       "20701   женат / замужем                 0      F   пенсионер     0   \n",
       "21031   женат / замужем                 0      F   пенсионер     0   \n",
       "21131   женат / замужем                 0      F   сотрудник     0   \n",
       "21280   женат / замужем                 0      F   сотрудник     0   \n",
       "21414   женат / замужем                 0      F   пенсионер     0   \n",
       "\n",
       "       total_income                            purpose  \n",
       "2849         142594            покупка жилья для семьи  \n",
       "3290         118514                    сыграть свадьбу  \n",
       "4182         142594                            свадьба  \n",
       "4851         118514                            свадьба  \n",
       "5557         118514                    сыграть свадьбу  \n",
       "...             ...                                ...  \n",
       "20701        118514         дополнительное образование  \n",
       "21031        118514              заняться образованием  \n",
       "21131        142594                       ремонт жилью  \n",
       "21280        142594  покупка коммерческой недвижимости  \n",
       "21414        118514                  операции с жильем  \n",
       "\n",
       "[71 rows x 12 columns]"
      ]
     },
     "metadata": {},
     "output_type": "display_data"
    }
   ],
   "source": [
    "#выявим дубликаты в датафрейме\n",
    "display (data.duplicated().sum ())\n",
    "duplicated_data = data[data.duplicated()]\n",
    "display (duplicated_data)\n",
    "\n",
    "#удалим дубликаты\n",
    "data = data.drop_duplicates().reset_index(drop=True)"
   ]
  },
  {
   "cell_type": "markdown",
   "metadata": {},
   "source": [
    "**Вывод**"
   ]
  },
  {
   "cell_type": "markdown",
   "metadata": {},
   "source": [
    "В процессе обработки данных мы выявили в датафрейме 71 дубликата.\n",
    "\n",
    "Скорее всего эти дубликаты появились в процессе заполнения пустых значений в столбце 'tal_income' медианными значениями.\n",
    "\n",
    "Выбрали метод drop_duplicates(), т.к. количество дубликатов в датафрейме ничтожно мало и они, скорее всего, появились из-за наших действий."
   ]
  },
  {
   "cell_type": "markdown",
   "metadata": {},
   "source": [
    "<a id=\"step_5\"></a>\n",
    "### Лемматизация"
   ]
  },
  {
   "cell_type": "code",
   "execution_count": 5,
   "metadata": {},
   "outputs": [
    {
     "data": {
      "text/plain": [
       "0                  покупка, ,жилье,\\n\n",
       "1        приобретение, ,автомобиль,\\n\n",
       "2                  покупка, ,жилье,\\n\n",
       "3     дополнительный, ,образование,\\n\n",
       "4                сыграть, ,свадьба,\\n\n",
       "5                  покупка, ,жилье,\\n\n",
       "6             операция, ,с, ,жилье,\\n\n",
       "7                      образование,\\n\n",
       "8        на, ,проведение, ,свадьба,\\n\n",
       "9    покупка, ,жилье, ,для, ,семья,\\n\n",
       "Name: lemmas, dtype: object"
      ]
     },
     "metadata": {},
     "output_type": "display_data"
    }
   ],
   "source": [
    "#импортируем библиотеку pymystem3\n",
    "from pymystem3 import Mystem\n",
    "m = Mystem() #вызов библиотеки объявляем до цикла\n",
    "\n",
    "#пишем цикл для нахождения лемм\n",
    "for i in range (data.shape[0]):\n",
    "    lemmas = m.lemmatize (data['purpose'][i]) #находим леммы по строкам\n",
    "    data.loc[i, 'lemmas'] = ','.join(lemmas) #добавляем строку и столбец со значениями лемм\n",
    "\n",
    "display (data ['lemmas'].head(10)) #выводим для проверки"
   ]
  },
  {
   "cell_type": "markdown",
   "metadata": {},
   "source": [
    "**Вывод**"
   ]
  },
  {
   "cell_type": "markdown",
   "metadata": {},
   "source": [
    "Для последующих исследований мы нашли леммы в значениях столбца 'purpose'.\n",
    "Леммы находили для каждой строки датафрейма путем перебора.\n",
    "Т.к. нам с ими еще предстоит работать, вынели их в отдельный столбец."
   ]
  },
  {
   "cell_type": "markdown",
   "metadata": {},
   "source": [
    "<a id=\"step_6\"></a>\n",
    "### Категоризация данных"
   ]
  },
  {
   "cell_type": "code",
   "execution_count": 6,
   "metadata": {},
   "outputs": [
    {
     "data": {
      "text/plain": [
       "lemmas\n",
       "автомобиль,\\n                                    972\n",
       "высокий, ,образование,\\n                         452\n",
       "дополнительный, ,образование,\\n                  460\n",
       "жилье,\\n                                         646\n",
       "заниматься, ,высокий, ,образование,\\n            496\n",
       "заниматься, ,образование,\\n                      408\n",
       "на, ,покупка, ,автомобиль,\\n                     471\n",
       "на, ,покупка, ,подержать, ,автомобиль,\\n         478\n",
       "на, ,покупка, ,свой, ,автомобиль,\\n              505\n",
       "на, ,проведение, ,свадьба,\\n                     768\n",
       "недвижимость,\\n                                  633\n",
       "образование,\\n                                   447\n",
       "операция, ,с, ,жилье,\\n                          652\n",
       "операция, ,с, ,коммерческий, ,недвижимость,\\n    650\n",
       "операция, ,с, ,недвижимость,\\n                   675\n",
       "операция, ,со, ,свой, ,недвижимость,\\n           627\n",
       "покупка, ,жилой, ,недвижимость,\\n                606\n",
       "покупка, ,жилье,\\n                               646\n",
       "покупка, ,жилье, ,для, ,сдача,\\n                 651\n",
       "покупка, ,жилье, ,для, ,семья,\\n                 638\n",
       "покупка, ,коммерческий, ,недвижимость,\\n         661\n",
       "покупка, ,недвижимость,\\n                        620\n",
       "покупка, ,свой, ,жилье,\\n                        620\n",
       "получение, ,высокий, ,образование,\\n             426\n",
       "получение, ,дополнительный, ,образование,\\n      446\n",
       "получение, ,образование,\\n                       442\n",
       "приобретение, ,автомобиль,\\n                     461\n",
       "профильный, ,образование,\\n                      436\n",
       "ремонт, ,жилье,\\n                                607\n",
       "свадьба,\\n                                       791\n",
       "свой, ,автомобиль,\\n                             478\n",
       "сделка, ,с, ,автомобиль,\\n                       455\n",
       "сделка, ,с, ,подержанный, ,автомобиль,\\n         486\n",
       "строительство, ,жилой, ,недвижимость,\\n          624\n",
       "строительство, ,недвижимость,\\n                  619\n",
       "строительство, ,собственный, ,недвижимость,\\n    635\n",
       "сыграть, ,свадьба,\\n                             765\n",
       "Name: debt, dtype: int64"
      ]
     },
     "metadata": {},
     "output_type": "display_data"
    },
    {
     "data": {
      "text/plain": [
       "lemmas\n",
       "автомобиль       4306\n",
       "недвижимость    10810\n",
       "образование      4013\n",
       "свадьба          2324\n",
       "Name: debt, dtype: int64"
      ]
     },
     "metadata": {},
     "output_type": "display_data"
    },
    {
     "data": {
      "text/plain": [
       "142594.0"
      ]
     },
     "metadata": {},
     "output_type": "display_data"
    },
    {
     "data": {
      "text/html": [
       "<div>\n",
       "<style scoped>\n",
       "    .dataframe tbody tr th:only-of-type {\n",
       "        vertical-align: middle;\n",
       "    }\n",
       "\n",
       "    .dataframe tbody tr th {\n",
       "        vertical-align: top;\n",
       "    }\n",
       "\n",
       "    .dataframe thead th {\n",
       "        text-align: right;\n",
       "    }\n",
       "</style>\n",
       "<table border=\"1\" class=\"dataframe\">\n",
       "  <thead>\n",
       "    <tr style=\"text-align: right;\">\n",
       "      <th></th>\n",
       "      <th>total_income</th>\n",
       "      <th>debt</th>\n",
       "      <th>income_group_id</th>\n",
       "    </tr>\n",
       "  </thead>\n",
       "  <tbody>\n",
       "    <tr>\n",
       "      <td>0</td>\n",
       "      <td>253875</td>\n",
       "      <td>0</td>\n",
       "      <td>высокий</td>\n",
       "    </tr>\n",
       "    <tr>\n",
       "      <td>1</td>\n",
       "      <td>112080</td>\n",
       "      <td>0</td>\n",
       "      <td>средний</td>\n",
       "    </tr>\n",
       "    <tr>\n",
       "      <td>2</td>\n",
       "      <td>145885</td>\n",
       "      <td>0</td>\n",
       "      <td>высокий</td>\n",
       "    </tr>\n",
       "    <tr>\n",
       "      <td>3</td>\n",
       "      <td>267628</td>\n",
       "      <td>0</td>\n",
       "      <td>высокий</td>\n",
       "    </tr>\n",
       "    <tr>\n",
       "      <td>4</td>\n",
       "      <td>158616</td>\n",
       "      <td>0</td>\n",
       "      <td>высокий</td>\n",
       "    </tr>\n",
       "    <tr>\n",
       "      <td>5</td>\n",
       "      <td>255763</td>\n",
       "      <td>0</td>\n",
       "      <td>высокий</td>\n",
       "    </tr>\n",
       "    <tr>\n",
       "      <td>6</td>\n",
       "      <td>240525</td>\n",
       "      <td>0</td>\n",
       "      <td>высокий</td>\n",
       "    </tr>\n",
       "    <tr>\n",
       "      <td>7</td>\n",
       "      <td>135823</td>\n",
       "      <td>0</td>\n",
       "      <td>средний</td>\n",
       "    </tr>\n",
       "    <tr>\n",
       "      <td>8</td>\n",
       "      <td>95856</td>\n",
       "      <td>0</td>\n",
       "      <td>средний</td>\n",
       "    </tr>\n",
       "    <tr>\n",
       "      <td>9</td>\n",
       "      <td>144425</td>\n",
       "      <td>0</td>\n",
       "      <td>высокий</td>\n",
       "    </tr>\n",
       "  </tbody>\n",
       "</table>\n",
       "</div>"
      ],
      "text/plain": [
       "   total_income  debt income_group_id\n",
       "0        253875     0         высокий\n",
       "1        112080     0         средний\n",
       "2        145885     0         высокий\n",
       "3        267628     0         высокий\n",
       "4        158616     0         высокий\n",
       "5        255763     0         высокий\n",
       "6        240525     0         высокий\n",
       "7        135823     0         средний\n",
       "8         95856     0         средний\n",
       "9        144425     0         высокий"
      ]
     },
     "metadata": {},
     "output_type": "display_data"
    }
   ],
   "source": [
    "display (data.groupby ('lemmas')['debt'].count()) #выведем на экран основные цели кридита\n",
    "\n",
    "#создадим функцию по переименованию столбца со значениями лемм в упрощенный вид\n",
    "def cat (lammas):\n",
    "   for i in range (data.shape[0]):\n",
    "        if lammas in data.loc [i, 'lemmas']:\n",
    "            data.loc [i, 'lemmas'] = lammas\n",
    "#задаем значения фукции по основным целям кредита\n",
    "cat ('жилье')\n",
    "cat ('автомобиль')\n",
    "cat ('образование')\n",
    "cat ('свадьба')\n",
    "cat ('недвижимость')\n",
    "\n",
    "#т.к. цели на жилье и недвижимость есть одно и тоже, то объединим эти две цели в одну\n",
    "data ['lemmas'] = data ['lemmas'].replace ('жилье', 'недвижимость')\n",
    "\n",
    "#проверим готовый вариант\n",
    "display (data.groupby ('lemmas')['debt'].count())\n",
    "\n",
    "#подготовим для категоризации данных таблицу со значениями столбцов 'total_income' и 'debt'\n",
    "data_income = data [['total_income', 'debt']]\n",
    "\n",
    "total_income_nominal = 51083 #средняя номинальная зарплата в 2020 году по данным Росстата\n",
    "\n",
    "total_income_median = data_income ['total_income'].median ()#медианное значение уровня дохода\n",
    "display (total_income_median)\n",
    "\n",
    "#создаем функцию по распределению уровня дохода\n",
    "def income_group_id (income):\n",
    "    if income < total_income_nominal:\n",
    "        return 'низкий'\n",
    "    if total_income_nominal <= income <= total_income_median:\n",
    "        return 'средний'\n",
    "    return 'высокий'\n",
    "\n",
    "#добавляем столбец с категоризированными данными по уровню дохода\n",
    "data_income ['income_group_id'] = data_income ['total_income'].apply (income_group_id)\n",
    "display (data_income.head (10))"
   ]
  },
  {
   "cell_type": "markdown",
   "metadata": {},
   "source": [
    "**Вывод**"
   ]
  },
  {
   "cell_type": "markdown",
   "metadata": {},
   "source": [
    "Категоризировали данные для дальнейших исследований в отдельные таблицы:\n",
    "* по целям кредитования по основным целям кредита\n",
    "* по количеству детей у заемщиков\n",
    "* по семейному положению\n",
    "* по получаемому доходу"
   ]
  },
  {
   "cell_type": "markdown",
   "metadata": {},
   "source": [
    "## Шаг 3. Ответьте на вопросы"
   ]
  },
  {
   "cell_type": "markdown",
   "metadata": {},
   "source": [
    "<a id=\"step_7\"></a>\n",
    "- Есть ли зависимость между наличием детей и возвратом кредита в срок?"
   ]
  },
  {
   "cell_type": "code",
   "execution_count": 7,
   "metadata": {},
   "outputs": [
    {
     "data": {
      "text/html": [
       "<div>\n",
       "<style scoped>\n",
       "    .dataframe tbody tr th:only-of-type {\n",
       "        vertical-align: middle;\n",
       "    }\n",
       "\n",
       "    .dataframe tbody tr th {\n",
       "        vertical-align: top;\n",
       "    }\n",
       "\n",
       "    .dataframe thead th {\n",
       "        text-align: right;\n",
       "    }\n",
       "</style>\n",
       "<table border=\"1\" class=\"dataframe\">\n",
       "  <thead>\n",
       "    <tr style=\"text-align: right;\">\n",
       "      <th></th>\n",
       "      <th>debt</th>\n",
       "    </tr>\n",
       "    <tr>\n",
       "      <th>children</th>\n",
       "      <th></th>\n",
       "    </tr>\n",
       "  </thead>\n",
       "  <tbody>\n",
       "    <tr>\n",
       "      <td>0</td>\n",
       "      <td>0.075604</td>\n",
       "    </tr>\n",
       "    <tr>\n",
       "      <td>1</td>\n",
       "      <td>0.091658</td>\n",
       "    </tr>\n",
       "    <tr>\n",
       "      <td>2</td>\n",
       "      <td>0.094542</td>\n",
       "    </tr>\n",
       "    <tr>\n",
       "      <td>3</td>\n",
       "      <td>0.081818</td>\n",
       "    </tr>\n",
       "    <tr>\n",
       "      <td>4</td>\n",
       "      <td>0.097561</td>\n",
       "    </tr>\n",
       "    <tr>\n",
       "      <td>5</td>\n",
       "      <td>0.000000</td>\n",
       "    </tr>\n",
       "  </tbody>\n",
       "</table>\n",
       "</div>"
      ],
      "text/plain": [
       "              debt\n",
       "children          \n",
       "0         0.075604\n",
       "1         0.091658\n",
       "2         0.094542\n",
       "3         0.081818\n",
       "4         0.097561\n",
       "5         0.000000"
      ]
     },
     "metadata": {},
     "output_type": "display_data"
    }
   ],
   "source": [
    "#создадим сводую таблицу по количеству детей у заемщика, с подсчетом среднего по возврату кредита в срок\n",
    "data_children = data.pivot_table (index='children', values='debt', aggfunc='mean')\n",
    "display (data_children)"
   ]
  },
  {
   "cell_type": "markdown",
   "metadata": {},
   "source": [
    "**Вывод**"
   ]
  },
  {
   "cell_type": "markdown",
   "metadata": {},
   "source": [
    "Проанализировав данные, присланные нам банком мы видим, что с количеством увеличения детей у заемщика растет доля просроченных кредитов. Исключением составляют заемщики, имеющие 3-х детей.\n",
    "Поэтому однозначно можно сделать вывод о том, что от наличие детей у заемщиков зависит воозврат кредита в срок."
   ]
  },
  {
   "cell_type": "markdown",
   "metadata": {},
   "source": [
    "<a id=\"step_8\"></a>\n",
    "- Есть ли зависимость между семейным положением и возвратом кредита в срок?"
   ]
  },
  {
   "cell_type": "code",
   "execution_count": 8,
   "metadata": {},
   "outputs": [
    {
     "data": {
      "text/html": [
       "<div>\n",
       "<style scoped>\n",
       "    .dataframe tbody tr th:only-of-type {\n",
       "        vertical-align: middle;\n",
       "    }\n",
       "\n",
       "    .dataframe tbody tr th {\n",
       "        vertical-align: top;\n",
       "    }\n",
       "\n",
       "    .dataframe thead th {\n",
       "        text-align: right;\n",
       "    }\n",
       "</style>\n",
       "<table border=\"1\" class=\"dataframe\">\n",
       "  <thead>\n",
       "    <tr style=\"text-align: right;\">\n",
       "      <th></th>\n",
       "      <th>debt</th>\n",
       "    </tr>\n",
       "    <tr>\n",
       "      <th>family_status</th>\n",
       "      <th></th>\n",
       "    </tr>\n",
       "  </thead>\n",
       "  <tbody>\n",
       "    <tr>\n",
       "      <td>Не женат / не замужем</td>\n",
       "      <td>0.097509</td>\n",
       "    </tr>\n",
       "    <tr>\n",
       "      <td>в разводе</td>\n",
       "      <td>0.071130</td>\n",
       "    </tr>\n",
       "    <tr>\n",
       "      <td>вдовец / вдова</td>\n",
       "      <td>0.065693</td>\n",
       "    </tr>\n",
       "    <tr>\n",
       "      <td>гражданский брак</td>\n",
       "      <td>0.093494</td>\n",
       "    </tr>\n",
       "    <tr>\n",
       "      <td>женат / замужем</td>\n",
       "      <td>0.075452</td>\n",
       "    </tr>\n",
       "  </tbody>\n",
       "</table>\n",
       "</div>"
      ],
      "text/plain": [
       "                           debt\n",
       "family_status                  \n",
       "Не женат / не замужем  0.097509\n",
       "в разводе              0.071130\n",
       "вдовец / вдова         0.065693\n",
       "гражданский брак       0.093494\n",
       "женат / замужем        0.075452"
      ]
     },
     "metadata": {},
     "output_type": "display_data"
    }
   ],
   "source": [
    "#создадим сводую таблицу по семейному положению у заемщика, с подсчетом среднего по возврату кредита в срок\n",
    "data_family = data.pivot_table (index='family_status', values='debt', aggfunc='mean')\n",
    "display (data_family)"
   ]
  },
  {
   "cell_type": "markdown",
   "metadata": {},
   "source": [
    "**Вывод**"
   ]
  },
  {
   "cell_type": "markdown",
   "metadata": {},
   "source": [
    "Проанализировав данные, присланные нам банком мы видим, что:\n",
    " * большой процент невозврата кредита в срок имеется у не женатых / не замужем и живущих в гражданском браке заемщиков.\n",
    " * меньший процент невозврата кредита в срок имеется у заемщиков состоящих в браке, разводе или у вдовцов / вдов\n",
    "\n",
    "Поэтому однозначно можно сделать вывод о том, что от семейного положения заемщиков зависит воозврат кредита в срок."
   ]
  },
  {
   "cell_type": "markdown",
   "metadata": {},
   "source": [
    "<a id=\"step_9\"></a>\n",
    "- Есть ли зависимость между уровнем дохода и возвратом кредита в срок?"
   ]
  },
  {
   "cell_type": "code",
   "execution_count": 9,
   "metadata": {},
   "outputs": [
    {
     "data": {
      "text/html": [
       "<div>\n",
       "<style scoped>\n",
       "    .dataframe tbody tr th:only-of-type {\n",
       "        vertical-align: middle;\n",
       "    }\n",
       "\n",
       "    .dataframe tbody tr th {\n",
       "        vertical-align: top;\n",
       "    }\n",
       "\n",
       "    .dataframe thead th {\n",
       "        text-align: right;\n",
       "    }\n",
       "</style>\n",
       "<table border=\"1\" class=\"dataframe\">\n",
       "  <thead>\n",
       "    <tr style=\"text-align: right;\">\n",
       "      <th></th>\n",
       "      <th>debt</th>\n",
       "    </tr>\n",
       "    <tr>\n",
       "      <th>income_group_id</th>\n",
       "      <th></th>\n",
       "    </tr>\n",
       "  </thead>\n",
       "  <tbody>\n",
       "    <tr>\n",
       "      <td>высокий</td>\n",
       "      <td>0.078322</td>\n",
       "    </tr>\n",
       "    <tr>\n",
       "      <td>низкий</td>\n",
       "      <td>0.065217</td>\n",
       "    </tr>\n",
       "    <tr>\n",
       "      <td>средний</td>\n",
       "      <td>0.084668</td>\n",
       "    </tr>\n",
       "  </tbody>\n",
       "</table>\n",
       "</div>"
      ],
      "text/plain": [
       "                     debt\n",
       "income_group_id          \n",
       "высокий          0.078322\n",
       "низкий           0.065217\n",
       "средний          0.084668"
      ]
     },
     "metadata": {},
     "output_type": "display_data"
    }
   ],
   "source": [
    "#создадим сводую таблицу по уровню дохода заемщика, с подсчетом среднего по возврату кредита в срок\n",
    "data_income = data_income.pivot_table (index='income_group_id', values='debt', aggfunc='mean')\n",
    "display (data_income)"
   ]
  },
  {
   "cell_type": "markdown",
   "metadata": {},
   "source": [
    "**Вывод**"
   ]
  },
  {
   "cell_type": "markdown",
   "metadata": {},
   "source": [
    "Проанализировав данные, присланные нам банком мы видим, что заемщики с низким доходом возвращают чаще кредиты в срок, с высоким - чуть реже. Самый большой процент невозврата кредита в срок - у заемщиков со среднем достатком.\n",
    "\n",
    "Поэтому однозначно можно сделать вывод о том, что разный уровень дохода заемщиков влияет на воозврат кредита в срок."
   ]
  },
  {
   "cell_type": "markdown",
   "metadata": {},
   "source": [
    "<a id=\"step_10\"></a>\n",
    "- Как разные цели кредита влияют на его возврат в срок?"
   ]
  },
  {
   "cell_type": "code",
   "execution_count": 10,
   "metadata": {},
   "outputs": [
    {
     "data": {
      "text/html": [
       "<div>\n",
       "<style scoped>\n",
       "    .dataframe tbody tr th:only-of-type {\n",
       "        vertical-align: middle;\n",
       "    }\n",
       "\n",
       "    .dataframe tbody tr th {\n",
       "        vertical-align: top;\n",
       "    }\n",
       "\n",
       "    .dataframe thead th {\n",
       "        text-align: right;\n",
       "    }\n",
       "</style>\n",
       "<table border=\"1\" class=\"dataframe\">\n",
       "  <thead>\n",
       "    <tr style=\"text-align: right;\">\n",
       "      <th></th>\n",
       "      <th>sum_purpose_category</th>\n",
       "      <th>count_purpose_category</th>\n",
       "      <th>result_purpose_category</th>\n",
       "    </tr>\n",
       "    <tr>\n",
       "      <th>lemmas</th>\n",
       "      <th></th>\n",
       "      <th></th>\n",
       "      <th></th>\n",
       "    </tr>\n",
       "  </thead>\n",
       "  <tbody>\n",
       "    <tr>\n",
       "      <td>автомобиль</td>\n",
       "      <td>403</td>\n",
       "      <td>4306</td>\n",
       "      <td>9.359034</td>\n",
       "    </tr>\n",
       "    <tr>\n",
       "      <td>образование</td>\n",
       "      <td>370</td>\n",
       "      <td>4013</td>\n",
       "      <td>9.220035</td>\n",
       "    </tr>\n",
       "    <tr>\n",
       "      <td>свадьба</td>\n",
       "      <td>186</td>\n",
       "      <td>2324</td>\n",
       "      <td>8.003442</td>\n",
       "    </tr>\n",
       "    <tr>\n",
       "      <td>недвижимость</td>\n",
       "      <td>782</td>\n",
       "      <td>10810</td>\n",
       "      <td>7.234043</td>\n",
       "    </tr>\n",
       "  </tbody>\n",
       "</table>\n",
       "</div>"
      ],
      "text/plain": [
       "              sum_purpose_category  count_purpose_category  \\\n",
       "lemmas                                                       \n",
       "автомобиль                     403                    4306   \n",
       "образование                    370                    4013   \n",
       "свадьба                        186                    2324   \n",
       "недвижимость                   782                   10810   \n",
       "\n",
       "              result_purpose_category  \n",
       "lemmas                                 \n",
       "автомобиль                   9.359034  \n",
       "образование                  9.220035  \n",
       "свадьба                      8.003442  \n",
       "недвижимость                 7.234043  "
      ]
     },
     "execution_count": 10,
     "metadata": {},
     "output_type": "execute_result"
    }
   ],
   "source": [
    "#создаем таблицу по целям кредита\n",
    "data_purpose = pd.DataFrame()\n",
    "\n",
    "#создадим столбец с суммой по просроченным кредитам\n",
    "data_purpose ['sum_purpose_category'] = data.groupby('lemmas')['debt'].sum()\n",
    "\n",
    "#создадим столбец с числом всех кредитов\n",
    "data_purpose ['count_purpose_category'] = data.groupby('lemmas')['debt'].count()\n",
    "\n",
    "#создаем столбец с расчетом процентов неотданных кредитов в срок по целям\n",
    "data_purpose ['result_purpose_category'] = data_purpose ['sum_purpose_category'] / data_purpose ['count_purpose_category'] * 100\n",
    "\n",
    "data_purpose.sort_values('result_purpose_category', ascending = False)"
   ]
  },
  {
   "cell_type": "markdown",
   "metadata": {},
   "source": [
    "**Вывод**"
   ]
  },
  {
   "cell_type": "markdown",
   "metadata": {},
   "source": [
    "Проанализировав данные, присланные нам банком мы видим, что:\n",
    "* кредиты на автомобиль и образование имеют самые большие невозвраты в срок\n",
    "* кредиты на свадьбу меньше\n",
    "* кредиты на недвижимость платят чаще, чем другие\n",
    "Поэтому однозначно можно сделать вывод о том, что от разных целей кредита заемщиков зависит воозврат кредита в срок."
   ]
  },
  {
   "cell_type": "markdown",
   "metadata": {},
   "source": [
    "<a id=\"step_11\"></a>\n",
    "## Шаг 4. Общий вывод"
   ]
  },
  {
   "cell_type": "markdown",
   "metadata": {},
   "source": [
    "Общий вывод:\n",
    "* чем больше детей, тем чаще платят не в срок, бездетные реже просрачивают оплату\n",
    "* семейный статус влияет на вероятность платежей по кредиту в срок - люди, бывший в браке чаще плятят в срок чем те, кто не бывали в браке, причем разведенные и овдовевшие платят в срок чаще, чем люди в браке\n",
    "* от уровеня дохода заемщиков также зависит возврат кредита в срок\n",
    "* кредиты на автомобиль и образование имеют самые большие невозвраты в срок, а кредиты на недвижимость платят чаще, чем другие"
   ]
  },
  {
   "cell_type": "markdown",
   "metadata": {},
   "source": [
    "## Чек-лист готовности проекта\n",
    "\n",
    "Поставьте 'x' в выполненных пунктах. Далее нажмите Shift+Enter."
   ]
  },
  {
   "cell_type": "markdown",
   "metadata": {},
   "source": [
    "- [x]  открыт файл;\n",
    "- [x]  файл изучен;\n",
    "- [x]  определены пропущенные значения;\n",
    "- [x]  заполнены пропущенные значения;\n",
    "- [x]  есть пояснение, какие пропущенные значения обнаружены;\n",
    "- [x]  описаны возможные причины появления пропусков в данных;\n",
    "- [x]  объяснено, по какому принципу заполнены пропуски;\n",
    "- [x]  заменен вещественный тип данных на целочисленный;\n",
    "- [x]  есть пояснение, какой метод используется для изменения типа данных и почему;\n",
    "- [x]  удалены дубликаты;\n",
    "- [x]  есть пояснение, какой метод используется для поиска и удаления дубликатов;\n",
    "- [x]  описаны возможные причины появления дубликатов в данных;\n",
    "- [x]  выделены леммы в значениях столбца с целями получения кредита;\n",
    "- [x]  описан процесс лемматизации;\n",
    "- [x]  данные категоризированы;\n",
    "- [x]  есть объяснение принципа категоризации данных;\n",
    "- [x]  есть ответ на вопрос: \"Есть ли зависимость между наличием детей и возвратом кредита в срок?\";\n",
    "- [x]  есть ответ на вопрос: \"Есть ли зависимость между семейным положением и возвратом кредита в срок?\";\n",
    "- [x]  есть ответ на вопрос: \"Есть ли зависимость между уровнем дохода и возвратом кредита в срок?\";\n",
    "- [x]  есть ответ на вопрос: \"Как разные цели кредита влияют на его возврат в срок?\";\n",
    "- [x]  в каждом этапе есть выводы;\n",
    "- [x]  есть общий вывод."
   ]
  },
  {
   "cell_type": "code",
   "execution_count": null,
   "metadata": {},
   "outputs": [],
   "source": []
  }
 ],
 "metadata": {
  "ExecuteTimeLog": [
   {
    "duration": 66,
    "start_time": "2021-12-11T13:03:45.893Z"
   },
   {
    "duration": 74,
    "start_time": "2021-12-11T13:04:52.052Z"
   },
   {
    "duration": 960,
    "start_time": "2021-12-12T06:32:07.181Z"
   },
   {
    "duration": 101,
    "start_time": "2021-12-12T06:33:02.255Z"
   },
   {
    "duration": 94,
    "start_time": "2021-12-12T06:33:30.433Z"
   },
   {
    "duration": 84,
    "start_time": "2021-12-12T06:34:10.059Z"
   },
   {
    "duration": 77,
    "start_time": "2021-12-12T06:34:33.285Z"
   },
   {
    "duration": 84,
    "start_time": "2021-12-12T06:35:08.553Z"
   },
   {
    "duration": 96,
    "start_time": "2021-12-12T06:41:16.037Z"
   },
   {
    "duration": 107,
    "start_time": "2021-12-12T06:44:32.631Z"
   },
   {
    "duration": 98,
    "start_time": "2021-12-12T06:45:09.771Z"
   },
   {
    "duration": 84,
    "start_time": "2021-12-12T06:45:37.844Z"
   },
   {
    "duration": 97,
    "start_time": "2021-12-12T06:48:47.512Z"
   },
   {
    "duration": 111,
    "start_time": "2021-12-12T07:04:02.394Z"
   },
   {
    "duration": 68,
    "start_time": "2021-12-12T07:15:20.136Z"
   },
   {
    "duration": 266,
    "start_time": "2021-12-12T07:16:29.105Z"
   },
   {
    "duration": 69,
    "start_time": "2021-12-12T07:17:01.740Z"
   },
   {
    "duration": 125,
    "start_time": "2021-12-12T07:20:32.412Z"
   },
   {
    "duration": 409,
    "start_time": "2021-12-12T07:21:39.757Z"
   },
   {
    "duration": 106,
    "start_time": "2021-12-12T08:43:46.917Z"
   },
   {
    "duration": 56,
    "start_time": "2021-12-12T08:43:52.118Z"
   },
   {
    "duration": 349,
    "start_time": "2021-12-12T08:47:17.910Z"
   },
   {
    "duration": 904,
    "start_time": "2021-12-12T08:47:38.175Z"
   },
   {
    "duration": 56,
    "start_time": "2021-12-12T08:47:39.081Z"
   },
   {
    "duration": 8,
    "start_time": "2021-12-12T10:34:11.053Z"
   },
   {
    "duration": 21,
    "start_time": "2021-12-12T10:37:58.210Z"
   },
   {
    "duration": 97,
    "start_time": "2021-12-12T10:54:31.772Z"
   },
   {
    "duration": 35,
    "start_time": "2021-12-12T10:54:36.148Z"
   },
   {
    "duration": 35,
    "start_time": "2021-12-12T10:56:51.964Z"
   },
   {
    "duration": 42,
    "start_time": "2021-12-12T10:57:33.196Z"
   },
   {
    "duration": 364,
    "start_time": "2021-12-12T11:00:08.682Z"
   },
   {
    "duration": 49,
    "start_time": "2021-12-12T11:01:24.377Z"
   },
   {
    "duration": 34,
    "start_time": "2021-12-12T11:02:32.145Z"
   },
   {
    "duration": 333,
    "start_time": "2021-12-12T11:10:38.488Z"
   },
   {
    "duration": 35,
    "start_time": "2021-12-12T11:11:01.205Z"
   },
   {
    "duration": 36,
    "start_time": "2021-12-12T11:11:49.726Z"
   },
   {
    "duration": 44,
    "start_time": "2021-12-12T11:12:02.125Z"
   },
   {
    "duration": 317,
    "start_time": "2021-12-12T11:12:50.335Z"
   },
   {
    "duration": 22,
    "start_time": "2021-12-12T11:27:52.872Z"
   },
   {
    "duration": 292,
    "start_time": "2021-12-12T11:48:32.410Z"
   },
   {
    "duration": 293,
    "start_time": "2021-12-12T11:48:37.375Z"
   },
   {
    "duration": 24,
    "start_time": "2021-12-12T11:48:59.368Z"
   },
   {
    "duration": 312,
    "start_time": "2021-12-12T11:55:16.606Z"
   },
   {
    "duration": 25,
    "start_time": "2021-12-12T11:55:39.837Z"
   },
   {
    "duration": 28,
    "start_time": "2021-12-12T11:58:52.452Z"
   },
   {
    "duration": 13,
    "start_time": "2021-12-12T11:59:21.332Z"
   },
   {
    "duration": 340,
    "start_time": "2021-12-12T12:55:35.962Z"
   },
   {
    "duration": 294,
    "start_time": "2021-12-12T12:56:57.561Z"
   },
   {
    "duration": 13,
    "start_time": "2021-12-12T12:58:55.646Z"
   },
   {
    "duration": 545,
    "start_time": "2021-12-12T12:59:13.546Z"
   },
   {
    "duration": 256,
    "start_time": "2021-12-12T12:59:28.805Z"
   },
   {
    "duration": 285,
    "start_time": "2021-12-12T12:59:38.903Z"
   },
   {
    "duration": 280,
    "start_time": "2021-12-12T13:01:36.482Z"
   },
   {
    "duration": 14,
    "start_time": "2021-12-12T13:01:49.646Z"
   },
   {
    "duration": 19,
    "start_time": "2021-12-12T13:03:12.306Z"
   },
   {
    "duration": 541,
    "start_time": "2021-12-12T13:04:34.582Z"
   },
   {
    "duration": 17,
    "start_time": "2021-12-12T13:04:46.294Z"
   },
   {
    "duration": 106,
    "start_time": "2021-12-12T13:05:51.186Z"
   },
   {
    "duration": 18,
    "start_time": "2021-12-12T13:05:58.939Z"
   },
   {
    "duration": 18,
    "start_time": "2021-12-12T13:06:22.222Z"
   },
   {
    "duration": 905,
    "start_time": "2021-12-12T13:06:42.637Z"
   },
   {
    "duration": 41,
    "start_time": "2021-12-12T13:06:43.544Z"
   },
   {
    "duration": 17,
    "start_time": "2021-12-12T13:07:04.059Z"
   },
   {
    "duration": 18,
    "start_time": "2021-12-12T13:07:47.021Z"
   },
   {
    "duration": 30,
    "start_time": "2021-12-12T13:08:32.143Z"
   },
   {
    "duration": 17,
    "start_time": "2021-12-12T13:08:45.625Z"
   },
   {
    "duration": 21,
    "start_time": "2021-12-12T13:09:54.740Z"
   },
   {
    "duration": 22,
    "start_time": "2021-12-12T13:11:25.872Z"
   },
   {
    "duration": 13,
    "start_time": "2021-12-12T13:17:56.641Z"
   },
   {
    "duration": 10,
    "start_time": "2021-12-12T13:23:17.352Z"
   },
   {
    "duration": 30,
    "start_time": "2021-12-12T13:24:57.863Z"
   },
   {
    "duration": 149,
    "start_time": "2021-12-12T13:28:39.897Z"
   },
   {
    "duration": 163,
    "start_time": "2021-12-12T13:29:00.088Z"
   },
   {
    "duration": 187,
    "start_time": "2021-12-12T13:31:04.445Z"
   },
   {
    "duration": 239,
    "start_time": "2021-12-12T13:32:07.743Z"
   },
   {
    "duration": 453,
    "start_time": "2021-12-12T13:37:22.887Z"
   },
   {
    "duration": 308,
    "start_time": "2021-12-12T13:37:44.243Z"
   },
   {
    "duration": 285,
    "start_time": "2021-12-12T15:16:57.477Z"
   },
   {
    "duration": 643,
    "start_time": "2021-12-12T15:17:36.750Z"
   },
   {
    "duration": 87,
    "start_time": "2021-12-12T15:17:42.309Z"
   },
   {
    "duration": 98,
    "start_time": "2021-12-12T15:17:51.646Z"
   },
   {
    "duration": 93,
    "start_time": "2021-12-12T15:19:17.926Z"
   },
   {
    "duration": 99,
    "start_time": "2021-12-12T15:21:10.468Z"
   },
   {
    "duration": 136,
    "start_time": "2021-12-12T15:21:51.380Z"
   },
   {
    "duration": 354,
    "start_time": "2021-12-12T15:25:14.771Z"
   },
   {
    "duration": 69,
    "start_time": "2021-12-12T15:25:26.506Z"
   },
   {
    "duration": 202,
    "start_time": "2021-12-12T15:29:01.736Z"
   },
   {
    "duration": 133,
    "start_time": "2021-12-12T15:29:31.610Z"
   },
   {
    "duration": 634,
    "start_time": "2021-12-12T15:30:36.971Z"
   },
   {
    "duration": 172,
    "start_time": "2021-12-12T15:30:41.446Z"
   },
   {
    "duration": 257,
    "start_time": "2021-12-12T15:33:32.878Z"
   },
   {
    "duration": 12,
    "start_time": "2021-12-12T15:37:16.821Z"
   },
   {
    "duration": 10,
    "start_time": "2021-12-12T15:40:16.667Z"
   },
   {
    "duration": 92,
    "start_time": "2021-12-12T15:41:06.063Z"
   },
   {
    "duration": 10,
    "start_time": "2021-12-12T15:41:13.023Z"
   },
   {
    "duration": 79,
    "start_time": "2021-12-12T15:55:44.802Z"
   },
   {
    "duration": 378,
    "start_time": "2021-12-12T15:56:12.826Z"
   },
   {
    "duration": 959,
    "start_time": "2021-12-12T15:56:26.826Z"
   },
   {
    "duration": 979,
    "start_time": "2021-12-12T15:58:24.714Z"
   },
   {
    "duration": 10,
    "start_time": "2021-12-12T16:01:40.609Z"
   },
   {
    "duration": 667,
    "start_time": "2021-12-12T16:03:52.680Z"
   },
   {
    "duration": 686,
    "start_time": "2021-12-12T16:03:59.679Z"
   },
   {
    "duration": 7,
    "start_time": "2021-12-12T16:06:41.439Z"
   },
   {
    "duration": 247,
    "start_time": "2021-12-12T16:08:24.982Z"
   },
   {
    "duration": 27,
    "start_time": "2021-12-12T16:08:57.325Z"
   },
   {
    "duration": 24,
    "start_time": "2021-12-12T16:09:22.998Z"
   },
   {
    "duration": 23,
    "start_time": "2021-12-12T16:10:53.101Z"
   },
   {
    "duration": 26,
    "start_time": "2021-12-12T16:12:57.213Z"
   },
   {
    "duration": 32,
    "start_time": "2021-12-12T16:14:44.428Z"
   },
   {
    "duration": 27,
    "start_time": "2021-12-12T16:15:42.196Z"
   },
   {
    "duration": 29,
    "start_time": "2021-12-12T16:16:55.811Z"
   },
   {
    "duration": 51,
    "start_time": "2021-12-12T16:17:46.154Z"
   },
   {
    "duration": 40,
    "start_time": "2021-12-12T16:30:09.782Z"
   },
   {
    "duration": 50,
    "start_time": "2021-12-12T16:30:33.103Z"
   },
   {
    "duration": 53,
    "start_time": "2021-12-12T16:31:42.247Z"
   },
   {
    "duration": 67,
    "start_time": "2021-12-12T16:34:21.133Z"
   },
   {
    "duration": 413,
    "start_time": "2021-12-12T16:37:33.429Z"
   },
   {
    "duration": 301,
    "start_time": "2021-12-12T16:38:18.893Z"
   },
   {
    "duration": 78,
    "start_time": "2021-12-12T16:40:03.596Z"
   },
   {
    "duration": 88,
    "start_time": "2021-12-12T16:41:12.012Z"
   },
   {
    "duration": 70,
    "start_time": "2021-12-12T16:42:39.779Z"
   },
   {
    "duration": 70,
    "start_time": "2021-12-12T16:43:00.147Z"
   },
   {
    "duration": 69,
    "start_time": "2021-12-12T16:44:16.323Z"
   },
   {
    "duration": 65,
    "start_time": "2021-12-12T16:45:27.794Z"
   },
   {
    "duration": 676,
    "start_time": "2021-12-13T00:40:07.080Z"
   },
   {
    "duration": 82,
    "start_time": "2021-12-13T00:40:13.075Z"
   },
   {
    "duration": 73,
    "start_time": "2021-12-13T00:43:07.896Z"
   },
   {
    "duration": 693,
    "start_time": "2021-12-13T00:46:55.495Z"
   },
   {
    "duration": 87,
    "start_time": "2021-12-13T00:47:00.685Z"
   },
   {
    "duration": 601,
    "start_time": "2021-12-13T00:48:27.450Z"
   },
   {
    "duration": 76,
    "start_time": "2021-12-13T00:48:34.004Z"
   },
   {
    "duration": 75,
    "start_time": "2021-12-13T00:53:01.721Z"
   },
   {
    "duration": 78,
    "start_time": "2021-12-13T00:55:05.915Z"
   },
   {
    "duration": 75,
    "start_time": "2021-12-13T00:55:10.300Z"
   },
   {
    "duration": 674,
    "start_time": "2021-12-13T00:56:35.800Z"
   },
   {
    "duration": 243,
    "start_time": "2021-12-13T00:56:44.338Z"
   },
   {
    "duration": 290,
    "start_time": "2021-12-13T00:58:00.262Z"
   },
   {
    "duration": 76,
    "start_time": "2021-12-13T00:58:27.265Z"
   },
   {
    "duration": 650,
    "start_time": "2021-12-13T01:05:36.893Z"
   },
   {
    "duration": 66,
    "start_time": "2021-12-13T01:05:43.589Z"
   },
   {
    "duration": 739,
    "start_time": "2021-12-13T01:08:56.096Z"
   },
   {
    "duration": 68,
    "start_time": "2021-12-13T01:09:03.876Z"
   },
   {
    "duration": 885,
    "start_time": "2021-12-13T01:13:01.992Z"
   },
   {
    "duration": 6457,
    "start_time": "2021-12-13T01:13:07.473Z"
   },
   {
    "duration": 61,
    "start_time": "2021-12-13T01:13:25.981Z"
   },
   {
    "duration": 66,
    "start_time": "2021-12-13T01:15:22.080Z"
   },
   {
    "duration": 51,
    "start_time": "2021-12-13T01:16:59.682Z"
   },
   {
    "duration": 667,
    "start_time": "2021-12-13T01:20:32.800Z"
   },
   {
    "duration": 242,
    "start_time": "2021-12-13T01:20:37.716Z"
   },
   {
    "duration": 132,
    "start_time": "2021-12-13T01:22:01.434Z"
   },
   {
    "duration": 138,
    "start_time": "2021-12-13T01:22:34.048Z"
   },
   {
    "duration": 139,
    "start_time": "2021-12-13T01:24:34.822Z"
   },
   {
    "duration": 152,
    "start_time": "2021-12-13T01:24:43.486Z"
   },
   {
    "duration": 236,
    "start_time": "2021-12-13T01:26:44.459Z"
   },
   {
    "duration": 225,
    "start_time": "2021-12-13T01:28:09.342Z"
   },
   {
    "duration": 1001,
    "start_time": "2021-12-13T01:30:43.704Z"
   },
   {
    "duration": 216,
    "start_time": "2021-12-13T01:33:45.343Z"
   },
   {
    "duration": 122,
    "start_time": "2021-12-13T01:34:41.269Z"
   },
   {
    "duration": 136,
    "start_time": "2021-12-13T01:36:40.899Z"
   },
   {
    "duration": 127,
    "start_time": "2021-12-13T01:37:50.643Z"
   },
   {
    "duration": 134,
    "start_time": "2021-12-13T01:39:00.153Z"
   },
   {
    "duration": 133,
    "start_time": "2021-12-13T01:39:16.837Z"
   },
   {
    "duration": 133,
    "start_time": "2021-12-13T01:39:36.647Z"
   },
   {
    "duration": 637,
    "start_time": "2021-12-13T01:39:47.693Z"
   },
   {
    "duration": 143,
    "start_time": "2021-12-13T01:39:52.358Z"
   },
   {
    "duration": 147,
    "start_time": "2021-12-13T01:41:27.777Z"
   },
   {
    "duration": 137,
    "start_time": "2021-12-13T01:41:52.994Z"
   },
   {
    "duration": 133,
    "start_time": "2021-12-13T01:42:05.663Z"
   },
   {
    "duration": 133,
    "start_time": "2021-12-13T01:42:18.166Z"
   },
   {
    "duration": 135,
    "start_time": "2021-12-13T01:42:58.063Z"
   },
   {
    "duration": 212,
    "start_time": "2021-12-13T01:44:33.635Z"
   },
   {
    "duration": 597,
    "start_time": "2021-12-13T01:45:59.446Z"
   },
   {
    "duration": 221,
    "start_time": "2021-12-13T01:46:05.328Z"
   },
   {
    "duration": 653,
    "start_time": "2021-12-13T01:46:50.300Z"
   },
   {
    "duration": 142,
    "start_time": "2021-12-13T01:46:55.844Z"
   },
   {
    "duration": 131,
    "start_time": "2021-12-13T01:58:35.164Z"
   },
   {
    "duration": 139,
    "start_time": "2021-12-13T01:59:55.811Z"
   },
   {
    "duration": 126,
    "start_time": "2021-12-13T02:00:47.314Z"
   },
   {
    "duration": 5709,
    "start_time": "2021-12-13T02:02:34.345Z"
   },
   {
    "duration": 619,
    "start_time": "2021-12-13T02:03:30.333Z"
   },
   {
    "duration": 135,
    "start_time": "2021-12-13T02:03:34.957Z"
   },
   {
    "duration": 624,
    "start_time": "2021-12-13T02:08:44.509Z"
   },
   {
    "duration": 136,
    "start_time": "2021-12-13T02:08:49.213Z"
   },
   {
    "duration": 611,
    "start_time": "2021-12-13T02:14:32.535Z"
   },
   {
    "duration": 8,
    "start_time": "2021-12-13T02:14:38.977Z"
   },
   {
    "duration": 14,
    "start_time": "2021-12-13T02:16:31.931Z"
   },
   {
    "duration": 20,
    "start_time": "2021-12-13T02:16:46.008Z"
   },
   {
    "duration": 22,
    "start_time": "2021-12-13T02:17:54.488Z"
   },
   {
    "duration": 6074,
    "start_time": "2021-12-13T02:18:16.328Z"
   },
   {
    "duration": 4708,
    "start_time": "2021-12-13T02:19:06.870Z"
   },
   {
    "duration": 22,
    "start_time": "2021-12-13T02:19:30.765Z"
   },
   {
    "duration": 4638,
    "start_time": "2021-12-13T02:19:46.387Z"
   },
   {
    "duration": 24,
    "start_time": "2021-12-13T02:20:24.331Z"
   },
   {
    "duration": 622,
    "start_time": "2021-12-13T02:24:11.599Z"
   },
   {
    "duration": 75,
    "start_time": "2021-12-13T02:24:21.580Z"
   },
   {
    "duration": 81,
    "start_time": "2021-12-13T02:24:53.700Z"
   },
   {
    "duration": 94,
    "start_time": "2021-12-13T02:25:17.042Z"
   },
   {
    "duration": 649,
    "start_time": "2021-12-13T02:29:10.185Z"
   },
   {
    "duration": 76,
    "start_time": "2021-12-13T02:30:23.295Z"
   },
   {
    "duration": 343,
    "start_time": "2021-12-13T03:02:32.167Z"
   },
   {
    "duration": 198,
    "start_time": "2021-12-13T03:03:01.615Z"
   },
   {
    "duration": 76,
    "start_time": "2021-12-13T03:03:10.026Z"
   },
   {
    "duration": 259,
    "start_time": "2021-12-13T03:04:06.060Z"
   },
   {
    "duration": 183,
    "start_time": "2021-12-13T03:04:48.807Z"
   },
   {
    "duration": 3295,
    "start_time": "2021-12-13T03:04:57.386Z"
   },
   {
    "duration": 195,
    "start_time": "2021-12-13T03:07:51.477Z"
   },
   {
    "duration": 82,
    "start_time": "2021-12-13T03:08:09.729Z"
   },
   {
    "duration": 648,
    "start_time": "2021-12-13T03:08:34.157Z"
   },
   {
    "duration": 80,
    "start_time": "2021-12-13T03:08:39.210Z"
   },
   {
    "duration": 566,
    "start_time": "2021-12-13T03:09:25.207Z"
   },
   {
    "duration": 78,
    "start_time": "2021-12-13T03:11:34.007Z"
   },
   {
    "duration": 5404,
    "start_time": "2021-12-13T03:11:59.641Z"
   },
   {
    "duration": 5580,
    "start_time": "2021-12-13T03:12:22.926Z"
   },
   {
    "duration": 97,
    "start_time": "2021-12-13T03:14:38.366Z"
   },
   {
    "duration": 189,
    "start_time": "2021-12-13T03:16:55.572Z"
   },
   {
    "duration": 76,
    "start_time": "2021-12-13T03:18:51.004Z"
   },
   {
    "duration": 96,
    "start_time": "2021-12-13T03:20:45.657Z"
   },
   {
    "duration": 79,
    "start_time": "2021-12-13T03:21:25.847Z"
   },
   {
    "duration": 639,
    "start_time": "2021-12-13T05:57:11.598Z"
   },
   {
    "duration": 90,
    "start_time": "2021-12-13T05:57:16.504Z"
   },
   {
    "duration": 96,
    "start_time": "2021-12-13T05:57:39.790Z"
   },
   {
    "duration": 90,
    "start_time": "2021-12-13T05:58:08.539Z"
   },
   {
    "duration": 90,
    "start_time": "2021-12-13T05:58:35.038Z"
   },
   {
    "duration": 77,
    "start_time": "2021-12-13T05:58:58.840Z"
   },
   {
    "duration": 83,
    "start_time": "2021-12-13T05:59:54.232Z"
   },
   {
    "duration": 683,
    "start_time": "2021-12-13T06:29:36.156Z"
   },
   {
    "duration": 78,
    "start_time": "2021-12-13T06:30:04.915Z"
   },
   {
    "duration": 80,
    "start_time": "2021-12-13T06:30:29.705Z"
   },
   {
    "duration": 80,
    "start_time": "2021-12-13T06:31:09.135Z"
   },
   {
    "duration": 698,
    "start_time": "2021-12-13T06:32:06.587Z"
   },
   {
    "duration": 82,
    "start_time": "2021-12-13T06:32:11.718Z"
   },
   {
    "duration": 79,
    "start_time": "2021-12-13T06:33:43.644Z"
   },
   {
    "duration": 78,
    "start_time": "2021-12-13T06:34:06.111Z"
   },
   {
    "duration": 79,
    "start_time": "2021-12-13T06:37:33.864Z"
   },
   {
    "duration": 679,
    "start_time": "2021-12-13T06:37:44.882Z"
   },
   {
    "duration": 88,
    "start_time": "2021-12-13T06:37:50.373Z"
   },
   {
    "duration": 684,
    "start_time": "2021-12-13T06:43:35.201Z"
   },
   {
    "duration": 93,
    "start_time": "2021-12-13T06:43:40.034Z"
   },
   {
    "duration": 88,
    "start_time": "2021-12-13T06:45:10.499Z"
   },
   {
    "duration": 85,
    "start_time": "2021-12-13T06:45:56.873Z"
   },
   {
    "duration": 78,
    "start_time": "2021-12-13T06:46:58.796Z"
   },
   {
    "duration": 365,
    "start_time": "2021-12-13T08:00:11.187Z"
   },
   {
    "duration": 6,
    "start_time": "2021-12-13T08:05:24.804Z"
   },
   {
    "duration": 5,
    "start_time": "2021-12-13T08:06:33.314Z"
   },
   {
    "duration": 13,
    "start_time": "2021-12-13T08:06:49.171Z"
   },
   {
    "duration": 694,
    "start_time": "2021-12-13T08:16:49.074Z"
   },
   {
    "duration": 89,
    "start_time": "2021-12-13T08:16:53.494Z"
   },
   {
    "duration": 14,
    "start_time": "2021-12-13T08:16:58.053Z"
   },
   {
    "duration": 693,
    "start_time": "2021-12-13T08:19:33.147Z"
   },
   {
    "duration": 93,
    "start_time": "2021-12-13T08:19:42.436Z"
   },
   {
    "duration": 678,
    "start_time": "2021-12-13T08:20:27.072Z"
   },
   {
    "duration": 62,
    "start_time": "2021-12-13T08:20:34.011Z"
   },
   {
    "duration": 374,
    "start_time": "2021-12-13T08:22:33.209Z"
   },
   {
    "duration": 687,
    "start_time": "2021-12-13T08:26:57.647Z"
   },
   {
    "duration": 93,
    "start_time": "2021-12-13T08:27:05.482Z"
   },
   {
    "duration": 52,
    "start_time": "2021-12-13T08:28:19.487Z"
   },
   {
    "duration": 705,
    "start_time": "2021-12-13T08:28:28.915Z"
   },
   {
    "duration": 43,
    "start_time": "2021-12-13T08:28:34.025Z"
   },
   {
    "duration": 13,
    "start_time": "2021-12-13T08:28:54.422Z"
   },
   {
    "duration": 692,
    "start_time": "2021-12-13T08:32:32.105Z"
   },
   {
    "duration": 42,
    "start_time": "2021-12-13T08:32:36.514Z"
   },
   {
    "duration": 14,
    "start_time": "2021-12-13T08:32:41.853Z"
   },
   {
    "duration": 14,
    "start_time": "2021-12-13T08:32:59.332Z"
   },
   {
    "duration": 13,
    "start_time": "2021-12-13T08:34:05.506Z"
   },
   {
    "duration": 14,
    "start_time": "2021-12-13T08:41:50.522Z"
   },
   {
    "duration": 755,
    "start_time": "2021-12-13T08:45:10.517Z"
   },
   {
    "duration": 43,
    "start_time": "2021-12-13T08:45:29.091Z"
   },
   {
    "duration": 40,
    "start_time": "2021-12-13T08:46:43.989Z"
   },
   {
    "duration": 11,
    "start_time": "2021-12-13T08:46:55.693Z"
   },
   {
    "duration": 21,
    "start_time": "2021-12-13T08:58:06.218Z"
   },
   {
    "duration": 18,
    "start_time": "2021-12-13T08:59:51.270Z"
   },
   {
    "duration": 23,
    "start_time": "2021-12-13T09:00:52.095Z"
   },
   {
    "duration": 27,
    "start_time": "2021-12-13T09:00:58.249Z"
   },
   {
    "duration": 37,
    "start_time": "2021-12-13T09:01:34.137Z"
   },
   {
    "duration": 139,
    "start_time": "2021-12-13T09:06:19.534Z"
   },
   {
    "duration": 22,
    "start_time": "2021-12-13T09:06:27.374Z"
   },
   {
    "duration": 921,
    "start_time": "2021-12-13T09:06:51.960Z"
   },
   {
    "duration": 69,
    "start_time": "2021-12-13T09:07:00.741Z"
   },
   {
    "duration": 17,
    "start_time": "2021-12-13T09:07:09.346Z"
   },
   {
    "duration": 24,
    "start_time": "2021-12-13T09:07:14.055Z"
   },
   {
    "duration": 37,
    "start_time": "2021-12-13T09:10:16.450Z"
   },
   {
    "duration": 127,
    "start_time": "2021-12-13T09:11:45.747Z"
   },
   {
    "duration": 711,
    "start_time": "2021-12-13T09:12:32.850Z"
   },
   {
    "duration": 51,
    "start_time": "2021-12-13T09:12:39.905Z"
   },
   {
    "duration": 19,
    "start_time": "2021-12-13T09:12:49.371Z"
   },
   {
    "duration": 58,
    "start_time": "2021-12-13T09:12:53.207Z"
   },
   {
    "duration": 64,
    "start_time": "2021-12-13T09:14:21.315Z"
   },
   {
    "duration": 56,
    "start_time": "2021-12-13T09:15:35.226Z"
   },
   {
    "duration": 741,
    "start_time": "2021-12-13T09:15:44.074Z"
   },
   {
    "duration": 42,
    "start_time": "2021-12-13T09:15:48.657Z"
   },
   {
    "duration": 12,
    "start_time": "2021-12-13T09:15:52.435Z"
   },
   {
    "duration": 37,
    "start_time": "2021-12-13T09:15:55.378Z"
   },
   {
    "duration": 39,
    "start_time": "2021-12-13T09:16:19.025Z"
   },
   {
    "duration": 730,
    "start_time": "2021-12-13T09:16:32.137Z"
   },
   {
    "duration": 46,
    "start_time": "2021-12-13T09:16:36.065Z"
   },
   {
    "duration": 13,
    "start_time": "2021-12-13T09:16:39.992Z"
   },
   {
    "duration": 38,
    "start_time": "2021-12-13T09:16:43.367Z"
   },
   {
    "duration": 51,
    "start_time": "2021-12-13T09:19:28.824Z"
   },
   {
    "duration": 61,
    "start_time": "2021-12-13T09:20:25.501Z"
   },
   {
    "duration": 701,
    "start_time": "2021-12-13T09:20:34.969Z"
   },
   {
    "duration": 45,
    "start_time": "2021-12-13T09:20:35.672Z"
   },
   {
    "duration": 33,
    "start_time": "2021-12-13T09:20:35.719Z"
   },
   {
    "duration": 90,
    "start_time": "2021-12-13T09:20:35.754Z"
   },
   {
    "duration": 6,
    "start_time": "2021-12-13T12:21:04.964Z"
   },
   {
    "duration": 7,
    "start_time": "2021-12-13T12:21:21.832Z"
   },
   {
    "duration": 370,
    "start_time": "2021-12-13T12:22:51.088Z"
   },
   {
    "duration": 20121,
    "start_time": "2021-12-13T12:32:55.570Z"
   },
   {
    "duration": 745,
    "start_time": "2021-12-13T12:38:24.788Z"
   },
   {
    "duration": 50,
    "start_time": "2021-12-13T12:38:30.052Z"
   },
   {
    "duration": 13,
    "start_time": "2021-12-13T12:38:53.588Z"
   },
   {
    "duration": 75,
    "start_time": "2021-12-13T12:39:03.052Z"
   },
   {
    "duration": 25684,
    "start_time": "2021-12-13T12:39:07.758Z"
   },
   {
    "duration": 807,
    "start_time": "2021-12-13T12:40:00.609Z"
   },
   {
    "duration": 62,
    "start_time": "2021-12-13T12:40:01.418Z"
   },
   {
    "duration": 12,
    "start_time": "2021-12-13T12:40:01.482Z"
   },
   {
    "duration": 104,
    "start_time": "2021-12-13T12:40:01.496Z"
   },
   {
    "duration": 10085,
    "start_time": "2021-12-13T12:40:01.602Z"
   },
   {
    "duration": 1470,
    "start_time": "2021-12-13T12:41:29.972Z"
   },
   {
    "duration": 47,
    "start_time": "2021-12-13T12:41:36.023Z"
   },
   {
    "duration": 13,
    "start_time": "2021-12-13T12:41:41.949Z"
   },
   {
    "duration": 77,
    "start_time": "2021-12-13T12:41:46.741Z"
   },
   {
    "duration": 10595,
    "start_time": "2021-12-13T12:41:50.651Z"
   },
   {
    "duration": 10813,
    "start_time": "2021-12-13T12:44:19.352Z"
   },
   {
    "duration": 11462,
    "start_time": "2021-12-13T12:45:38.802Z"
   },
   {
    "duration": 710,
    "start_time": "2021-12-13T12:46:32.601Z"
   },
   {
    "duration": 46,
    "start_time": "2021-12-13T12:46:40.837Z"
   },
   {
    "duration": 18,
    "start_time": "2021-12-13T12:46:54.593Z"
   },
   {
    "duration": 73,
    "start_time": "2021-12-13T12:47:03.406Z"
   },
   {
    "duration": 11455,
    "start_time": "2021-12-13T12:47:14.823Z"
   },
   {
    "duration": 10262,
    "start_time": "2021-12-13T12:47:55.261Z"
   },
   {
    "duration": 10576,
    "start_time": "2021-12-13T12:50:09.791Z"
   },
   {
    "duration": 10203,
    "start_time": "2021-12-13T12:55:16.864Z"
   },
   {
    "duration": 92,
    "start_time": "2021-12-13T12:56:37.196Z"
   },
   {
    "duration": 79,
    "start_time": "2021-12-13T12:57:13.359Z"
   },
   {
    "duration": 44,
    "start_time": "2021-12-13T12:57:17.693Z"
   },
   {
    "duration": 12,
    "start_time": "2021-12-13T12:57:22.104Z"
   },
   {
    "duration": 91,
    "start_time": "2021-12-13T12:57:25.224Z"
   },
   {
    "duration": 89,
    "start_time": "2021-12-13T12:57:28.376Z"
   },
   {
    "duration": 99,
    "start_time": "2021-12-13T12:57:56.442Z"
   },
   {
    "duration": 97,
    "start_time": "2021-12-13T12:58:08.504Z"
   },
   {
    "duration": 95,
    "start_time": "2021-12-13T13:09:36.142Z"
   },
   {
    "duration": 1313,
    "start_time": "2021-12-13T13:10:45.202Z"
   },
   {
    "duration": 87,
    "start_time": "2021-12-13T13:11:27.625Z"
   },
   {
    "duration": 712,
    "start_time": "2021-12-13T13:11:41.956Z"
   },
   {
    "duration": 55,
    "start_time": "2021-12-13T13:11:57.844Z"
   },
   {
    "duration": 13,
    "start_time": "2021-12-13T13:12:05.393Z"
   },
   {
    "duration": 73,
    "start_time": "2021-12-13T13:12:10.147Z"
   },
   {
    "duration": 94,
    "start_time": "2021-12-13T13:12:15.674Z"
   },
   {
    "duration": 94,
    "start_time": "2021-12-13T13:12:47.335Z"
   },
   {
    "duration": 108,
    "start_time": "2021-12-13T13:14:14.881Z"
   },
   {
    "duration": 99,
    "start_time": "2021-12-13T13:14:30.848Z"
   },
   {
    "duration": 99,
    "start_time": "2021-12-13T13:15:25.214Z"
   },
   {
    "duration": 10245,
    "start_time": "2021-12-13T13:15:29.020Z"
   },
   {
    "duration": 749,
    "start_time": "2021-12-13T13:16:12.632Z"
   },
   {
    "duration": 43,
    "start_time": "2021-12-13T13:16:18.563Z"
   },
   {
    "duration": 13,
    "start_time": "2021-12-13T13:16:23.819Z"
   },
   {
    "duration": 79,
    "start_time": "2021-12-13T13:16:27.671Z"
   },
   {
    "duration": 9865,
    "start_time": "2021-12-13T13:16:31.929Z"
   },
   {
    "duration": 10310,
    "start_time": "2021-12-13T13:19:30.679Z"
   },
   {
    "duration": 699,
    "start_time": "2021-12-13T17:29:08.144Z"
   },
   {
    "duration": 47,
    "start_time": "2021-12-13T17:29:13.095Z"
   },
   {
    "duration": 14,
    "start_time": "2021-12-13T17:29:18.038Z"
   },
   {
    "duration": 69,
    "start_time": "2021-12-13T17:29:21.113Z"
   },
   {
    "duration": 9914,
    "start_time": "2021-12-13T17:29:24.103Z"
   },
   {
    "duration": 720,
    "start_time": "2021-12-13T17:45:24.656Z"
   },
   {
    "duration": 53,
    "start_time": "2021-12-13T17:45:30.128Z"
   },
   {
    "duration": 14,
    "start_time": "2021-12-13T17:45:36.111Z"
   },
   {
    "duration": 70,
    "start_time": "2021-12-13T17:45:41.529Z"
   },
   {
    "duration": 38644,
    "start_time": "2021-12-13T17:45:51.991Z"
   },
   {
    "duration": 10,
    "start_time": "2021-12-13T18:15:10.758Z"
   },
   {
    "duration": 328,
    "start_time": "2021-12-13T18:15:35.893Z"
   },
   {
    "duration": 7,
    "start_time": "2021-12-13T18:15:52.836Z"
   },
   {
    "duration": 269,
    "start_time": "2021-12-13T18:27:23.425Z"
   },
   {
    "duration": 142,
    "start_time": "2021-12-13T18:28:02.089Z"
   },
   {
    "duration": 170,
    "start_time": "2021-12-13T18:34:09.008Z"
   },
   {
    "duration": 230,
    "start_time": "2021-12-13T18:34:44.921Z"
   },
   {
    "duration": 153,
    "start_time": "2021-12-13T18:36:18.926Z"
   },
   {
    "duration": 95,
    "start_time": "2021-12-13T18:40:02.053Z"
   },
   {
    "duration": 652,
    "start_time": "2021-12-13T18:40:45.012Z"
   },
   {
    "duration": 48,
    "start_time": "2021-12-13T18:40:45.666Z"
   },
   {
    "duration": 40,
    "start_time": "2021-12-13T18:40:45.717Z"
   },
   {
    "duration": 99,
    "start_time": "2021-12-13T18:40:45.759Z"
   },
   {
    "duration": 89,
    "start_time": "2021-12-13T18:40:45.860Z"
   },
   {
    "duration": -38,
    "start_time": "2021-12-13T18:40:45.989Z"
   },
   {
    "duration": 41622,
    "start_time": "2021-12-13T18:41:13.173Z"
   },
   {
    "duration": 86,
    "start_time": "2021-12-13T18:41:59.877Z"
   },
   {
    "duration": 94,
    "start_time": "2021-12-13T18:51:34.490Z"
   },
   {
    "duration": 771,
    "start_time": "2021-12-13T18:52:53.861Z"
   },
   {
    "duration": 43,
    "start_time": "2021-12-13T18:52:58.795Z"
   },
   {
    "duration": 13,
    "start_time": "2021-12-13T18:53:05.418Z"
   },
   {
    "duration": 85,
    "start_time": "2021-12-13T18:53:09.092Z"
   },
   {
    "duration": 42846,
    "start_time": "2021-12-13T18:53:14.137Z"
   },
   {
    "duration": 131,
    "start_time": "2021-12-13T18:54:03.466Z"
   },
   {
    "duration": 210,
    "start_time": "2021-12-13T18:54:11.946Z"
   },
   {
    "duration": 207,
    "start_time": "2021-12-13T19:00:57.425Z"
   },
   {
    "duration": 1256,
    "start_time": "2021-12-13T19:05:34.833Z"
   },
   {
    "duration": 70,
    "start_time": "2021-12-13T19:05:40.120Z"
   },
   {
    "duration": 16,
    "start_time": "2021-12-13T19:05:44.371Z"
   },
   {
    "duration": 252,
    "start_time": "2021-12-13T19:05:47.899Z"
   },
   {
    "duration": 41472,
    "start_time": "2021-12-13T19:05:52.450Z"
   },
   {
    "duration": 1210,
    "start_time": "2021-12-13T19:13:55.876Z"
   },
   {
    "duration": 162,
    "start_time": "2021-12-13T19:13:57.087Z"
   },
   {
    "duration": 16,
    "start_time": "2021-12-13T19:13:57.252Z"
   },
   {
    "duration": 206,
    "start_time": "2021-12-13T19:13:57.269Z"
   },
   {
    "duration": 53206,
    "start_time": "2021-12-13T19:13:57.477Z"
   },
   {
    "duration": 12,
    "start_time": "2021-12-13T19:14:50.685Z"
   },
   {
    "duration": 21,
    "start_time": "2021-12-13T19:16:32.089Z"
   },
   {
    "duration": 20,
    "start_time": "2021-12-13T19:18:17.409Z"
   },
   {
    "duration": 6053,
    "start_time": "2021-12-13T19:19:37.652Z"
   },
   {
    "duration": 175,
    "start_time": "2021-12-13T19:22:27.880Z"
   },
   {
    "duration": 5863,
    "start_time": "2021-12-13T19:23:05.255Z"
   },
   {
    "duration": 14324,
    "start_time": "2021-12-14T06:35:12.268Z"
   },
   {
    "duration": 13565,
    "start_time": "2021-12-14T06:38:55.633Z"
   },
   {
    "duration": 24429,
    "start_time": "2021-12-14T06:40:08.817Z"
   },
   {
    "duration": 730,
    "start_time": "2021-12-14T06:41:56.929Z"
   },
   {
    "duration": 52,
    "start_time": "2021-12-14T06:42:02.521Z"
   },
   {
    "duration": 20,
    "start_time": "2021-12-14T06:47:19.364Z"
   },
   {
    "duration": 72,
    "start_time": "2021-12-14T06:47:45.067Z"
   },
   {
    "duration": 40620,
    "start_time": "2021-12-14T06:48:12.988Z"
   },
   {
    "duration": 26069,
    "start_time": "2021-12-14T06:49:12.446Z"
   },
   {
    "duration": 19670,
    "start_time": "2021-12-14T06:54:45.894Z"
   },
   {
    "duration": 735,
    "start_time": "2021-12-14T06:55:11.663Z"
   },
   {
    "duration": 54,
    "start_time": "2021-12-14T06:55:17.117Z"
   },
   {
    "duration": 21,
    "start_time": "2021-12-14T06:55:22.407Z"
   },
   {
    "duration": 78,
    "start_time": "2021-12-14T06:55:28.079Z"
   },
   {
    "duration": 39290,
    "start_time": "2021-12-14T06:55:31.934Z"
   },
   {
    "duration": 25891,
    "start_time": "2021-12-14T06:56:20.520Z"
   },
   {
    "duration": 18645,
    "start_time": "2021-12-14T07:01:23.718Z"
   },
   {
    "duration": 697,
    "start_time": "2021-12-14T07:01:56.161Z"
   },
   {
    "duration": 46,
    "start_time": "2021-12-14T07:02:01.449Z"
   },
   {
    "duration": 22,
    "start_time": "2021-12-14T07:02:06.207Z"
   },
   {
    "duration": 704,
    "start_time": "2021-12-14T07:04:19.004Z"
   },
   {
    "duration": 50,
    "start_time": "2021-12-14T07:04:30.612Z"
   },
   {
    "duration": 21,
    "start_time": "2021-12-14T07:04:37.906Z"
   },
   {
    "duration": 78,
    "start_time": "2021-12-14T07:04:41.836Z"
   },
   {
    "duration": 40117,
    "start_time": "2021-12-14T07:04:48.989Z"
   },
   {
    "duration": 26180,
    "start_time": "2021-12-14T07:05:33.047Z"
   },
   {
    "duration": 893,
    "start_time": "2021-12-14T07:20:02.939Z"
   },
   {
    "duration": 3722,
    "start_time": "2021-12-14T07:22:29.534Z"
   },
   {
    "duration": 1845,
    "start_time": "2021-12-14T07:23:31.427Z"
   },
   {
    "duration": 2271,
    "start_time": "2021-12-14T07:23:58.966Z"
   },
   {
    "duration": 33,
    "start_time": "2021-12-14T07:27:12.043Z"
   },
   {
    "duration": 67,
    "start_time": "2021-12-14T07:27:20.399Z"
   },
   {
    "duration": 687,
    "start_time": "2021-12-14T07:27:32.196Z"
   },
   {
    "duration": 56,
    "start_time": "2021-12-14T07:27:42.144Z"
   },
   {
    "duration": 26,
    "start_time": "2021-12-14T07:27:51.084Z"
   },
   {
    "duration": 85,
    "start_time": "2021-12-14T07:27:59.232Z"
   },
   {
    "duration": 40652,
    "start_time": "2021-12-14T07:28:04.140Z"
   },
   {
    "duration": 33891,
    "start_time": "2021-12-14T07:34:59.088Z"
   },
   {
    "duration": 28366,
    "start_time": "2021-12-14T07:37:08.857Z"
   },
   {
    "duration": 22036,
    "start_time": "2021-12-14T07:38:53.792Z"
   },
   {
    "duration": 16731,
    "start_time": "2021-12-14T07:39:21.736Z"
   },
   {
    "duration": 1274,
    "start_time": "2021-12-14T07:40:51.040Z"
   },
   {
    "duration": 16,
    "start_time": "2021-12-14T07:42:56.696Z"
   },
   {
    "duration": 23,
    "start_time": "2021-12-14T07:43:31.198Z"
   },
   {
    "duration": 75,
    "start_time": "2021-12-14T07:43:35.643Z"
   },
   {
    "duration": 35187,
    "start_time": "2021-12-14T07:43:40.996Z"
   },
   {
    "duration": 17,
    "start_time": "2021-12-14T07:44:19.871Z"
   },
   {
    "duration": 17,
    "start_time": "2021-12-14T07:44:45.101Z"
   },
   {
    "duration": 13,
    "start_time": "2021-12-14T07:47:59.720Z"
   },
   {
    "duration": 19,
    "start_time": "2021-12-14T07:50:47.377Z"
   },
   {
    "duration": 18,
    "start_time": "2021-12-14T07:57:02.917Z"
   },
   {
    "duration": 26120,
    "start_time": "2021-12-14T08:00:13.059Z"
   },
   {
    "duration": 19182,
    "start_time": "2021-12-14T08:02:02.530Z"
   },
   {
    "duration": 657,
    "start_time": "2021-12-14T08:02:46.787Z"
   },
   {
    "duration": 45,
    "start_time": "2021-12-14T08:02:52.999Z"
   },
   {
    "duration": 23,
    "start_time": "2021-12-14T08:03:06.769Z"
   },
   {
    "duration": 71,
    "start_time": "2021-12-14T08:03:14.407Z"
   },
   {
    "duration": 40000,
    "start_time": "2021-12-14T08:03:21.419Z"
   },
   {
    "duration": 24958,
    "start_time": "2021-12-14T08:04:25.845Z"
   },
   {
    "duration": 9,
    "start_time": "2021-12-14T08:05:12.063Z"
   },
   {
    "duration": 9,
    "start_time": "2021-12-14T08:05:30.257Z"
   },
   {
    "duration": 700,
    "start_time": "2021-12-14T11:58:35.351Z"
   },
   {
    "duration": 67,
    "start_time": "2021-12-14T11:58:45.383Z"
   },
   {
    "duration": 23,
    "start_time": "2021-12-14T11:58:55.618Z"
   },
   {
    "duration": 74,
    "start_time": "2021-12-14T11:58:59.680Z"
   },
   {
    "duration": 40275,
    "start_time": "2021-12-14T11:59:04.530Z"
   },
   {
    "duration": 119,
    "start_time": "2021-12-14T12:00:00.809Z"
   },
   {
    "duration": 27253,
    "start_time": "2021-12-14T12:00:11.472Z"
   },
   {
    "duration": 13,
    "start_time": "2021-12-14T12:13:57.989Z"
   },
   {
    "duration": 7,
    "start_time": "2021-12-14T12:14:13.098Z"
   },
   {
    "duration": 12,
    "start_time": "2021-12-14T12:15:10.537Z"
   },
   {
    "duration": 107,
    "start_time": "2021-12-14T13:17:00.773Z"
   },
   {
    "duration": 18,
    "start_time": "2021-12-14T13:17:15.557Z"
   },
   {
    "duration": 5340,
    "start_time": "2021-12-14T13:23:12.845Z"
   },
   {
    "duration": 320,
    "start_time": "2021-12-14T13:24:12.028Z"
   },
   {
    "duration": 7,
    "start_time": "2021-12-14T13:24:22.371Z"
   },
   {
    "duration": 110,
    "start_time": "2021-12-14T13:27:10.429Z"
   },
   {
    "duration": 10,
    "start_time": "2021-12-14T13:27:28.434Z"
   },
   {
    "duration": 92,
    "start_time": "2021-12-14T13:43:54.614Z"
   },
   {
    "duration": 7,
    "start_time": "2021-12-14T13:44:01.399Z"
   },
   {
    "duration": 10,
    "start_time": "2021-12-14T13:44:27.264Z"
   },
   {
    "duration": 12,
    "start_time": "2021-12-14T13:45:11.439Z"
   },
   {
    "duration": 10,
    "start_time": "2021-12-14T13:47:22.190Z"
   },
   {
    "duration": 283,
    "start_time": "2021-12-14T13:50:56.442Z"
   },
   {
    "duration": 92,
    "start_time": "2021-12-14T13:52:46.845Z"
   },
   {
    "duration": 276,
    "start_time": "2021-12-14T13:52:55.388Z"
   },
   {
    "duration": 292,
    "start_time": "2021-12-14T13:54:01.569Z"
   },
   {
    "duration": 12,
    "start_time": "2021-12-14T13:54:05.710Z"
   },
   {
    "duration": 277,
    "start_time": "2021-12-14T13:56:04.609Z"
   },
   {
    "duration": 94,
    "start_time": "2021-12-14T13:59:12.236Z"
   },
   {
    "duration": 283,
    "start_time": "2021-12-14T14:00:08.881Z"
   },
   {
    "duration": 7,
    "start_time": "2021-12-14T14:01:06.408Z"
   },
   {
    "duration": 280,
    "start_time": "2021-12-14T14:01:54.095Z"
   },
   {
    "duration": 12,
    "start_time": "2021-12-14T14:02:23.085Z"
   },
   {
    "duration": 321,
    "start_time": "2021-12-14T14:02:28.312Z"
   },
   {
    "duration": 285,
    "start_time": "2021-12-14T14:03:20.920Z"
   },
   {
    "duration": 300,
    "start_time": "2021-12-14T14:03:39.475Z"
   },
   {
    "duration": 10,
    "start_time": "2021-12-14T14:04:09.282Z"
   },
   {
    "duration": 7,
    "start_time": "2021-12-14T14:07:47.178Z"
   },
   {
    "duration": 8,
    "start_time": "2021-12-14T14:08:11.438Z"
   },
   {
    "duration": 13,
    "start_time": "2021-12-14T14:09:22.663Z"
   },
   {
    "duration": 13,
    "start_time": "2021-12-14T14:35:48.453Z"
   },
   {
    "duration": 13,
    "start_time": "2021-12-14T14:37:42.862Z"
   },
   {
    "duration": 13,
    "start_time": "2021-12-14T14:45:34.906Z"
   },
   {
    "duration": 14,
    "start_time": "2021-12-14T14:46:27.741Z"
   },
   {
    "duration": 17785,
    "start_time": "2021-12-15T07:35:37.698Z"
   },
   {
    "duration": 17628,
    "start_time": "2021-12-15T07:37:10.966Z"
   },
   {
    "duration": 17995,
    "start_time": "2021-12-15T07:39:28.842Z"
   },
   {
    "duration": 18622,
    "start_time": "2021-12-15T07:44:02.205Z"
   },
   {
    "duration": 18007,
    "start_time": "2021-12-15T07:48:01.752Z"
   },
   {
    "duration": 18438,
    "start_time": "2021-12-15T07:48:35.239Z"
   },
   {
    "duration": 17870,
    "start_time": "2021-12-15T07:51:28.390Z"
   },
   {
    "duration": 17972,
    "start_time": "2021-12-15T07:53:26.500Z"
   },
   {
    "duration": 18014,
    "start_time": "2021-12-15T07:53:56.909Z"
   },
   {
    "duration": 18324,
    "start_time": "2021-12-15T07:54:48.037Z"
   },
   {
    "duration": 16,
    "start_time": "2021-12-15T08:07:31.570Z"
   },
   {
    "duration": 145,
    "start_time": "2021-12-15T08:11:46.046Z"
   },
   {
    "duration": 29,
    "start_time": "2021-12-15T08:12:03.827Z"
   },
   {
    "duration": 34,
    "start_time": "2021-12-15T08:12:24.876Z"
   },
   {
    "duration": 34,
    "start_time": "2021-12-15T08:12:57.728Z"
   },
   {
    "duration": 30,
    "start_time": "2021-12-15T08:13:38.280Z"
   },
   {
    "duration": 752,
    "start_time": "2021-12-15T08:14:13.311Z"
   },
   {
    "duration": 49,
    "start_time": "2021-12-15T08:14:20.847Z"
   },
   {
    "duration": 24,
    "start_time": "2021-12-15T08:14:27.678Z"
   },
   {
    "duration": 81,
    "start_time": "2021-12-15T08:14:32.446Z"
   },
   {
    "duration": 39580,
    "start_time": "2021-12-15T08:14:36.165Z"
   },
   {
    "duration": 24,
    "start_time": "2021-12-15T08:15:30.142Z"
   },
   {
    "duration": 13,
    "start_time": "2021-12-15T08:16:00.250Z"
   },
   {
    "duration": 11,
    "start_time": "2021-12-15T08:16:42.186Z"
   },
   {
    "duration": 25269,
    "start_time": "2021-12-15T08:17:28.197Z"
   },
   {
    "duration": 18627,
    "start_time": "2021-12-15T08:19:59.875Z"
   },
   {
    "duration": 337,
    "start_time": "2021-12-15T08:30:52.414Z"
   },
   {
    "duration": 18,
    "start_time": "2021-12-15T08:31:09.078Z"
   },
   {
    "duration": 7,
    "start_time": "2021-12-15T08:55:47.591Z"
   },
   {
    "duration": 5,
    "start_time": "2021-12-15T08:56:23.705Z"
   },
   {
    "duration": 6,
    "start_time": "2021-12-15T08:56:45.482Z"
   },
   {
    "duration": 266,
    "start_time": "2021-12-15T09:03:41.159Z"
   },
   {
    "duration": 259,
    "start_time": "2021-12-15T09:04:56.877Z"
   },
   {
    "duration": 274,
    "start_time": "2021-12-15T09:06:09.907Z"
   },
   {
    "duration": 18213,
    "start_time": "2021-12-15T09:06:38.674Z"
   },
   {
    "duration": 274,
    "start_time": "2021-12-15T09:07:20.730Z"
   },
   {
    "duration": 363,
    "start_time": "2021-12-15T09:07:47.531Z"
   },
   {
    "duration": 670,
    "start_time": "2021-12-15T09:07:56.679Z"
   },
   {
    "duration": 47,
    "start_time": "2021-12-15T09:08:02.826Z"
   },
   {
    "duration": 22,
    "start_time": "2021-12-15T09:08:07.950Z"
   },
   {
    "duration": 77,
    "start_time": "2021-12-15T09:08:12.539Z"
   },
   {
    "duration": 39354,
    "start_time": "2021-12-15T09:08:16.475Z"
   },
   {
    "duration": 26131,
    "start_time": "2021-12-15T09:09:02.253Z"
   },
   {
    "duration": 18761,
    "start_time": "2021-12-15T09:10:24.108Z"
   },
   {
    "duration": 283,
    "start_time": "2021-12-15T09:11:41.925Z"
   },
   {
    "duration": 25,
    "start_time": "2021-12-15T09:11:58.461Z"
   },
   {
    "duration": 27,
    "start_time": "2021-12-15T09:12:26.816Z"
   },
   {
    "duration": 296,
    "start_time": "2021-12-15T09:12:56.741Z"
   },
   {
    "duration": 24,
    "start_time": "2021-12-15T09:13:14.191Z"
   },
   {
    "duration": 30,
    "start_time": "2021-12-15T09:15:55.932Z"
   },
   {
    "duration": 35,
    "start_time": "2021-12-15T09:18:26.900Z"
   },
   {
    "duration": 38,
    "start_time": "2021-12-15T09:19:41.000Z"
   },
   {
    "duration": 33,
    "start_time": "2021-12-15T09:20:36.126Z"
   },
   {
    "duration": 28,
    "start_time": "2021-12-15T09:21:12.139Z"
   },
   {
    "duration": 23,
    "start_time": "2021-12-15T09:22:37.733Z"
   },
   {
    "duration": 19,
    "start_time": "2021-12-15T09:26:58.026Z"
   },
   {
    "duration": 17922,
    "start_time": "2021-12-15T09:30:25.744Z"
   },
   {
    "duration": 13,
    "start_time": "2021-12-15T09:31:38.666Z"
   },
   {
    "duration": 19,
    "start_time": "2021-12-15T09:31:41.665Z"
   },
   {
    "duration": 97,
    "start_time": "2021-12-15T11:42:03.526Z"
   },
   {
    "duration": 267,
    "start_time": "2021-12-15T11:42:22.716Z"
   },
   {
    "duration": 12,
    "start_time": "2021-12-15T11:42:33.341Z"
   },
   {
    "duration": 686,
    "start_time": "2021-12-15T11:43:25.645Z"
   },
   {
    "duration": 18685,
    "start_time": "2021-12-15T11:44:53.279Z"
   },
   {
    "duration": 13,
    "start_time": "2021-12-15T11:45:23.596Z"
   },
   {
    "duration": 20,
    "start_time": "2021-12-15T11:45:26.329Z"
   },
   {
    "duration": 13,
    "start_time": "2021-12-15T11:45:29.010Z"
   },
   {
    "duration": 121,
    "start_time": "2021-12-15T12:10:14.383Z"
   },
   {
    "duration": 793,
    "start_time": "2021-12-15T12:14:00.785Z"
   },
   {
    "duration": 42,
    "start_time": "2021-12-15T12:14:11.917Z"
   },
   {
    "duration": 21,
    "start_time": "2021-12-15T12:14:17.785Z"
   },
   {
    "duration": 70,
    "start_time": "2021-12-15T12:14:23.209Z"
   },
   {
    "duration": 39285,
    "start_time": "2021-12-15T12:14:29.387Z"
   },
   {
    "duration": 25886,
    "start_time": "2021-12-15T12:15:22.041Z"
   },
   {
    "duration": 13,
    "start_time": "2021-12-15T12:15:57.896Z"
   },
   {
    "duration": 32,
    "start_time": "2021-12-15T12:16:01.819Z"
   },
   {
    "duration": 9,
    "start_time": "2021-12-15T12:16:16.489Z"
   },
   {
    "duration": 10,
    "start_time": "2021-12-15T12:25:31.154Z"
   },
   {
    "duration": 10,
    "start_time": "2021-12-15T12:26:21.726Z"
   },
   {
    "duration": 14,
    "start_time": "2021-12-15T12:28:26.720Z"
   },
   {
    "duration": 334,
    "start_time": "2021-12-15T12:42:16.606Z"
   },
   {
    "duration": 285,
    "start_time": "2021-12-15T12:43:34.320Z"
   },
   {
    "duration": 38,
    "start_time": "2021-12-15T12:43:55.518Z"
   },
   {
    "duration": 18881,
    "start_time": "2021-12-15T12:45:28.262Z"
   },
   {
    "duration": 20094,
    "start_time": "2021-12-15T12:50:01.331Z"
   },
   {
    "duration": 20,
    "start_time": "2021-12-15T12:50:25.707Z"
   },
   {
    "duration": 114,
    "start_time": "2021-12-15T12:53:40.115Z"
   },
   {
    "duration": 93,
    "start_time": "2021-12-15T12:54:15.786Z"
   },
   {
    "duration": 18058,
    "start_time": "2021-12-15T12:54:57.741Z"
   },
   {
    "duration": 18843,
    "start_time": "2021-12-15T12:55:21.873Z"
   },
   {
    "duration": 9,
    "start_time": "2021-12-15T12:55:40.718Z"
   },
   {
    "duration": 19,
    "start_time": "2021-12-15T12:55:57.320Z"
   },
   {
    "duration": 11,
    "start_time": "2021-12-15T12:56:37.679Z"
   },
   {
    "duration": 10,
    "start_time": "2021-12-15T12:58:05.288Z"
   },
   {
    "duration": 8,
    "start_time": "2021-12-15T12:58:52.968Z"
   },
   {
    "duration": 6,
    "start_time": "2021-12-15T13:01:40.102Z"
   },
   {
    "duration": 19222,
    "start_time": "2021-12-15T13:01:56.430Z"
   },
   {
    "duration": 4,
    "start_time": "2021-12-15T13:02:15.654Z"
   },
   {
    "duration": 5,
    "start_time": "2021-12-15T13:02:24.476Z"
   },
   {
    "duration": 1125,
    "start_time": "2021-12-15T13:02:50.060Z"
   },
   {
    "duration": 43,
    "start_time": "2021-12-15T13:02:55.368Z"
   },
   {
    "duration": 22,
    "start_time": "2021-12-15T13:03:01.319Z"
   },
   {
    "duration": 71,
    "start_time": "2021-12-15T13:03:04.391Z"
   },
   {
    "duration": 37906,
    "start_time": "2021-12-15T13:03:08.210Z"
   },
   {
    "duration": 26835,
    "start_time": "2021-12-15T13:05:24.242Z"
   },
   {
    "duration": 5,
    "start_time": "2021-12-15T13:14:30.399Z"
   },
   {
    "duration": 4,
    "start_time": "2021-12-15T13:15:12.255Z"
   },
   {
    "duration": 6,
    "start_time": "2021-12-15T13:15:29.512Z"
   },
   {
    "duration": 30,
    "start_time": "2021-12-15T13:19:39.352Z"
   },
   {
    "duration": 691,
    "start_time": "2021-12-15T13:20:16.717Z"
   },
   {
    "duration": 43,
    "start_time": "2021-12-15T13:20:23.840Z"
   },
   {
    "duration": 30,
    "start_time": "2021-12-15T13:20:29.850Z"
   },
   {
    "duration": 71,
    "start_time": "2021-12-15T13:20:34.088Z"
   },
   {
    "duration": 38330,
    "start_time": "2021-12-15T13:20:38.562Z"
   },
   {
    "duration": 25111,
    "start_time": "2021-12-15T13:21:56.316Z"
   },
   {
    "duration": 8,
    "start_time": "2021-12-15T13:22:29.958Z"
   },
   {
    "duration": 6,
    "start_time": "2021-12-15T13:23:20.029Z"
   },
   {
    "duration": 7,
    "start_time": "2021-12-15T13:24:27.453Z"
   },
   {
    "duration": 5,
    "start_time": "2021-12-15T13:25:07.743Z"
   },
   {
    "duration": 19,
    "start_time": "2021-12-15T13:26:24.350Z"
   },
   {
    "duration": 10,
    "start_time": "2021-12-15T13:26:57.115Z"
   },
   {
    "duration": 10,
    "start_time": "2021-12-15T13:27:16.433Z"
   },
   {
    "duration": 322,
    "start_time": "2021-12-15T13:27:34.655Z"
   },
   {
    "duration": 272,
    "start_time": "2021-12-15T13:36:56.837Z"
   },
   {
    "duration": 270,
    "start_time": "2021-12-15T13:37:16.104Z"
   },
   {
    "duration": 8,
    "start_time": "2021-12-15T13:41:56.688Z"
   },
   {
    "duration": 6,
    "start_time": "2021-12-15T13:45:52.444Z"
   },
   {
    "duration": 6,
    "start_time": "2021-12-15T13:46:08.120Z"
   },
   {
    "duration": 5,
    "start_time": "2021-12-15T13:46:57.991Z"
   },
   {
    "duration": 8,
    "start_time": "2021-12-15T13:47:17.964Z"
   },
   {
    "duration": 11,
    "start_time": "2021-12-15T13:47:49.494Z"
   },
   {
    "duration": 10,
    "start_time": "2021-12-15T13:48:53.619Z"
   },
   {
    "duration": 1831,
    "start_time": "2021-12-15T13:51:02.407Z"
   },
   {
    "duration": 292,
    "start_time": "2021-12-15T13:52:20.929Z"
   },
   {
    "duration": 20,
    "start_time": "2021-12-15T13:52:43.428Z"
   },
   {
    "duration": 21,
    "start_time": "2021-12-15T13:53:41.253Z"
   },
   {
    "duration": 301,
    "start_time": "2021-12-15T13:57:50.903Z"
   },
   {
    "duration": 284,
    "start_time": "2021-12-15T13:58:07.630Z"
   },
   {
    "duration": 284,
    "start_time": "2021-12-15T14:02:21.873Z"
   },
   {
    "duration": 268,
    "start_time": "2021-12-15T14:02:36.220Z"
   },
   {
    "duration": 8,
    "start_time": "2021-12-15T14:09:42.914Z"
   },
   {
    "duration": 9,
    "start_time": "2021-12-15T14:17:08.225Z"
   },
   {
    "duration": 286,
    "start_time": "2021-12-15T14:22:24.222Z"
   },
   {
    "duration": 330,
    "start_time": "2021-12-15T14:35:56.042Z"
   },
   {
    "duration": 288,
    "start_time": "2021-12-15T14:36:16.390Z"
   },
   {
    "duration": 275,
    "start_time": "2021-12-15T14:36:28.484Z"
   },
   {
    "duration": 286,
    "start_time": "2021-12-15T14:43:10.741Z"
   },
   {
    "duration": 93,
    "start_time": "2021-12-15T14:46:40.540Z"
   },
   {
    "duration": 12,
    "start_time": "2021-12-15T14:46:53.740Z"
   },
   {
    "duration": 301,
    "start_time": "2021-12-15T14:47:19.006Z"
   },
   {
    "duration": 21469,
    "start_time": "2021-12-15T14:47:50.375Z"
   },
   {
    "duration": 15,
    "start_time": "2021-12-15T14:48:46.035Z"
   },
   {
    "duration": 319,
    "start_time": "2021-12-15T14:49:04.080Z"
   },
   {
    "duration": 20325,
    "start_time": "2021-12-15T14:49:07.969Z"
   },
   {
    "duration": 11,
    "start_time": "2021-12-15T14:49:36.772Z"
   },
   {
    "duration": 270,
    "start_time": "2021-12-15T14:50:58.650Z"
   },
   {
    "duration": 7140,
    "start_time": "2021-12-15T14:52:10.530Z"
   },
   {
    "duration": 18,
    "start_time": "2021-12-15T14:52:59.741Z"
   },
   {
    "duration": 17,
    "start_time": "2021-12-15T14:54:01.303Z"
   },
   {
    "duration": 735,
    "start_time": "2021-12-15T15:02:15.555Z"
   },
   {
    "duration": 43,
    "start_time": "2021-12-15T15:02:20.920Z"
   },
   {
    "duration": 31,
    "start_time": "2021-12-15T15:02:25.676Z"
   },
   {
    "duration": 71,
    "start_time": "2021-12-15T15:02:29.784Z"
   },
   {
    "duration": 38430,
    "start_time": "2021-12-15T15:02:33.702Z"
   },
   {
    "duration": 26118,
    "start_time": "2021-12-15T15:03:26.448Z"
   },
   {
    "duration": 21,
    "start_time": "2021-12-15T15:04:22.542Z"
   },
   {
    "duration": 18140,
    "start_time": "2021-12-15T15:10:45.424Z"
   },
   {
    "duration": 15,
    "start_time": "2021-12-15T15:11:23.718Z"
   },
   {
    "duration": 336,
    "start_time": "2021-12-15T15:13:24.462Z"
   },
   {
    "duration": 399,
    "start_time": "2021-12-15T15:14:02.371Z"
   },
   {
    "duration": 29,
    "start_time": "2021-12-15T15:15:02.210Z"
   },
   {
    "duration": 30,
    "start_time": "2021-12-15T15:16:13.775Z"
   },
   {
    "duration": 32,
    "start_time": "2021-12-15T15:16:28.368Z"
   },
   {
    "duration": 39,
    "start_time": "2021-12-15T15:17:28.956Z"
   },
   {
    "duration": 358,
    "start_time": "2021-12-15T15:20:01.503Z"
   },
   {
    "duration": 278,
    "start_time": "2021-12-15T15:20:58.853Z"
   },
   {
    "duration": 279,
    "start_time": "2021-12-15T15:21:25.398Z"
   },
   {
    "duration": 341,
    "start_time": "2021-12-15T15:21:38.920Z"
   },
   {
    "duration": 15,
    "start_time": "2021-12-15T15:22:00.961Z"
   },
   {
    "duration": 15,
    "start_time": "2021-12-15T15:22:44.612Z"
   },
   {
    "duration": 22,
    "start_time": "2021-12-15T15:23:09.388Z"
   },
   {
    "duration": 18,
    "start_time": "2021-12-15T15:23:50.598Z"
   },
   {
    "duration": 24,
    "start_time": "2021-12-15T15:24:17.051Z"
   },
   {
    "duration": 29,
    "start_time": "2021-12-15T15:24:22.661Z"
   },
   {
    "duration": 32,
    "start_time": "2021-12-15T15:24:27.649Z"
   },
   {
    "duration": 42,
    "start_time": "2021-12-15T15:24:30.982Z"
   },
   {
    "duration": 469,
    "start_time": "2021-12-15T15:25:12.027Z"
   },
   {
    "duration": 42,
    "start_time": "2021-12-15T15:25:31.240Z"
   },
   {
    "duration": 26,
    "start_time": "2021-12-15T15:26:37.212Z"
   },
   {
    "duration": 16,
    "start_time": "2021-12-15T15:27:08.518Z"
   },
   {
    "duration": 20,
    "start_time": "2021-12-15T15:28:16.478Z"
   },
   {
    "duration": 17,
    "start_time": "2021-12-15T15:28:32.845Z"
   },
   {
    "duration": 302,
    "start_time": "2021-12-15T15:28:59.992Z"
   },
   {
    "duration": 35,
    "start_time": "2021-12-15T15:30:47.415Z"
   },
   {
    "duration": 676,
    "start_time": "2021-12-15T15:32:15.145Z"
   },
   {
    "duration": 38,
    "start_time": "2021-12-15T15:33:22.337Z"
   },
   {
    "duration": 19,
    "start_time": "2021-12-15T15:34:08.686Z"
   },
   {
    "duration": 25,
    "start_time": "2021-12-15T15:34:16.930Z"
   },
   {
    "duration": 90,
    "start_time": "2021-12-15T15:35:15.231Z"
   },
   {
    "duration": 428,
    "start_time": "2021-12-15T15:35:25.871Z"
   },
   {
    "duration": 280,
    "start_time": "2021-12-15T15:38:43.615Z"
   },
   {
    "duration": 567,
    "start_time": "2021-12-15T15:40:22.720Z"
   },
   {
    "duration": 272,
    "start_time": "2021-12-15T15:42:45.266Z"
   },
   {
    "duration": 359,
    "start_time": "2021-12-15T15:43:47.668Z"
   },
   {
    "duration": 283,
    "start_time": "2021-12-15T15:44:00.114Z"
   },
   {
    "duration": 280,
    "start_time": "2021-12-15T15:45:53.917Z"
   },
   {
    "duration": 945,
    "start_time": "2021-12-16T05:45:24.318Z"
   },
   {
    "duration": 59,
    "start_time": "2021-12-16T05:45:31.040Z"
   },
   {
    "duration": 40,
    "start_time": "2021-12-16T05:45:35.703Z"
   },
   {
    "duration": 108,
    "start_time": "2021-12-16T05:45:38.949Z"
   },
   {
    "duration": 46054,
    "start_time": "2021-12-16T05:45:42.440Z"
   },
   {
    "duration": 32614,
    "start_time": "2021-12-16T05:46:41.324Z"
   },
   {
    "duration": 11,
    "start_time": "2021-12-16T06:12:40.604Z"
   },
   {
    "duration": 9,
    "start_time": "2021-12-16T06:14:10.388Z"
   },
   {
    "duration": 391,
    "start_time": "2021-12-16T06:14:15.151Z"
   },
   {
    "duration": 304,
    "start_time": "2021-12-16T06:14:23.092Z"
   },
   {
    "duration": 378,
    "start_time": "2021-12-16T06:14:36.215Z"
   },
   {
    "duration": 14,
    "start_time": "2021-12-16T06:14:46.672Z"
   },
   {
    "duration": 19,
    "start_time": "2021-12-16T06:14:52.713Z"
   },
   {
    "duration": 22,
    "start_time": "2021-12-16T06:14:57.820Z"
   },
   {
    "duration": 313,
    "start_time": "2021-12-16T06:18:31.652Z"
   },
   {
    "duration": 461,
    "start_time": "2021-12-16T06:20:06.939Z"
   },
   {
    "duration": 9,
    "start_time": "2021-12-16T06:21:34.635Z"
   },
   {
    "duration": 12,
    "start_time": "2021-12-16T06:22:33.718Z"
   },
   {
    "duration": 292,
    "start_time": "2021-12-16T06:23:22.839Z"
   },
   {
    "duration": 13,
    "start_time": "2021-12-16T06:24:00.745Z"
   },
   {
    "duration": 21,
    "start_time": "2021-12-16T06:24:35.307Z"
   },
   {
    "duration": 22,
    "start_time": "2021-12-16T06:25:05.059Z"
   },
   {
    "duration": 23,
    "start_time": "2021-12-16T06:28:44.766Z"
   },
   {
    "duration": 574,
    "start_time": "2021-12-16T06:28:53.996Z"
   },
   {
    "duration": 413,
    "start_time": "2021-12-16T06:29:25.676Z"
   },
   {
    "duration": 42,
    "start_time": "2021-12-16T06:30:32.870Z"
   },
   {
    "duration": 9814,
    "start_time": "2021-12-16T06:30:49.642Z"
   },
   {
    "duration": 402,
    "start_time": "2021-12-16T06:31:36.414Z"
   },
   {
    "duration": 615,
    "start_time": "2021-12-16T06:32:04.022Z"
   },
   {
    "duration": 830,
    "start_time": "2021-12-16T06:32:16.511Z"
   },
   {
    "duration": 367,
    "start_time": "2021-12-16T06:32:24.957Z"
   },
   {
    "duration": 21,
    "start_time": "2021-12-16T06:32:53.445Z"
   },
   {
    "duration": 22,
    "start_time": "2021-12-16T06:33:15.519Z"
   },
   {
    "duration": 14,
    "start_time": "2021-12-16T06:40:53.920Z"
   },
   {
    "duration": 13,
    "start_time": "2021-12-16T06:41:20.147Z"
   },
   {
    "duration": 10,
    "start_time": "2021-12-16T06:44:47.833Z"
   },
   {
    "duration": 10,
    "start_time": "2021-12-16T06:44:51.660Z"
   },
   {
    "duration": 13,
    "start_time": "2021-12-16T06:45:06.484Z"
   },
   {
    "duration": 17,
    "start_time": "2021-12-16T06:46:01.204Z"
   },
   {
    "duration": 21,
    "start_time": "2021-12-16T06:47:35.843Z"
   },
   {
    "duration": 23,
    "start_time": "2021-12-16T06:47:58.157Z"
   },
   {
    "duration": 22,
    "start_time": "2021-12-16T06:49:06.866Z"
   },
   {
    "duration": 367,
    "start_time": "2021-12-16T06:50:48.015Z"
   },
   {
    "duration": 28,
    "start_time": "2021-12-16T06:51:31.628Z"
   },
   {
    "duration": 119,
    "start_time": "2021-12-16T06:52:21.821Z"
   },
   {
    "duration": 23,
    "start_time": "2021-12-16T06:52:38.273Z"
   },
   {
    "duration": 111,
    "start_time": "2021-12-16T06:53:21.839Z"
   },
   {
    "duration": 29,
    "start_time": "2021-12-16T06:53:31.649Z"
   },
   {
    "duration": 21,
    "start_time": "2021-12-16T06:55:34.322Z"
   },
   {
    "duration": 20,
    "start_time": "2021-12-16T06:56:49.178Z"
   },
   {
    "duration": 21,
    "start_time": "2021-12-16T06:57:10.575Z"
   },
   {
    "duration": 880,
    "start_time": "2021-12-16T07:09:52.411Z"
   },
   {
    "duration": 65,
    "start_time": "2021-12-16T07:10:05.267Z"
   },
   {
    "duration": 43,
    "start_time": "2021-12-16T07:10:11.035Z"
   },
   {
    "duration": 104,
    "start_time": "2021-12-16T07:10:15.448Z"
   },
   {
    "duration": 48560,
    "start_time": "2021-12-16T07:10:19.904Z"
   },
   {
    "duration": 33381,
    "start_time": "2021-12-16T07:11:30.070Z"
   },
   {
    "duration": 28,
    "start_time": "2021-12-16T07:12:10.774Z"
   },
   {
    "duration": 24,
    "start_time": "2021-12-16T07:12:27.088Z"
   },
   {
    "duration": 14,
    "start_time": "2021-12-16T07:12:38.511Z"
   },
   {
    "duration": 22,
    "start_time": "2021-12-16T07:16:16.539Z"
   },
   {
    "duration": 838,
    "start_time": "2021-12-17T04:17:33.448Z"
   },
   {
    "duration": 72,
    "start_time": "2021-12-17T04:17:34.288Z"
   },
   {
    "duration": 65,
    "start_time": "2021-12-17T04:17:34.364Z"
   },
   {
    "duration": 119,
    "start_time": "2021-12-17T04:17:34.433Z"
   },
   {
    "duration": 44766,
    "start_time": "2021-12-17T04:17:34.554Z"
   },
   {
    "duration": 31722,
    "start_time": "2021-12-17T04:18:19.324Z"
   },
   {
    "duration": 27,
    "start_time": "2021-12-17T04:18:51.048Z"
   },
   {
    "duration": 44,
    "start_time": "2021-12-17T04:18:51.079Z"
   },
   {
    "duration": 13,
    "start_time": "2021-12-17T04:18:51.125Z"
   },
   {
    "duration": 43,
    "start_time": "2021-12-17T04:18:51.141Z"
   },
   {
    "duration": 31,
    "start_time": "2021-12-17T04:23:08.309Z"
   },
   {
    "duration": 858,
    "start_time": "2021-12-17T04:29:38.491Z"
   },
   {
    "duration": 80,
    "start_time": "2021-12-17T04:29:39.352Z"
   },
   {
    "duration": 38,
    "start_time": "2021-12-17T04:29:39.435Z"
   },
   {
    "duration": 115,
    "start_time": "2021-12-17T04:29:39.476Z"
   },
   {
    "duration": 387,
    "start_time": "2021-12-17T06:32:42.639Z"
   },
   {
    "duration": 923,
    "start_time": "2021-12-17T06:33:04.931Z"
   },
   {
    "duration": 69,
    "start_time": "2021-12-17T06:33:11.424Z"
   },
   {
    "duration": 42,
    "start_time": "2021-12-17T06:36:07.871Z"
   },
   {
    "duration": 44,
    "start_time": "2021-12-17T06:36:31.754Z"
   },
   {
    "duration": 75,
    "start_time": "2021-12-17T06:37:29.609Z"
   },
   {
    "duration": 105,
    "start_time": "2021-12-17T06:37:53.697Z"
   },
   {
    "duration": 31,
    "start_time": "2021-12-17T06:38:18.947Z"
   },
   {
    "duration": 53,
    "start_time": "2021-12-17T06:39:15.700Z"
   },
   {
    "duration": 356,
    "start_time": "2021-12-17T06:51:32.415Z"
   },
   {
    "duration": 84,
    "start_time": "2021-12-17T06:53:33.743Z"
   },
   {
    "duration": 83,
    "start_time": "2021-12-17T07:04:39.149Z"
   },
   {
    "duration": 914,
    "start_time": "2021-12-17T07:16:36.329Z"
   },
   {
    "duration": 72,
    "start_time": "2021-12-17T07:16:49.793Z"
   },
   {
    "duration": 58,
    "start_time": "2021-12-17T07:17:06.529Z"
   },
   {
    "duration": 116,
    "start_time": "2021-12-17T07:17:29.686Z"
   },
   {
    "duration": 53378,
    "start_time": "2021-12-17T07:24:51.770Z"
   },
   {
    "duration": 39064,
    "start_time": "2021-12-17T07:43:42.896Z"
   },
   {
    "duration": 32954,
    "start_time": "2021-12-17T08:22:36.844Z"
   },
   {
    "duration": 6826,
    "start_time": "2021-12-17T08:24:11.546Z"
   },
   {
    "duration": 442,
    "start_time": "2021-12-17T08:26:04.624Z"
   },
   {
    "duration": 424,
    "start_time": "2021-12-17T08:28:41.727Z"
   },
   {
    "duration": 81,
    "start_time": "2021-12-17T08:28:53.981Z"
   },
   {
    "duration": 488,
    "start_time": "2021-12-17T08:29:31.613Z"
   },
   {
    "duration": 452,
    "start_time": "2021-12-17T08:30:02.123Z"
   },
   {
    "duration": 467,
    "start_time": "2021-12-17T08:30:23.004Z"
   },
   {
    "duration": 36,
    "start_time": "2021-12-17T08:32:28.739Z"
   },
   {
    "duration": 46,
    "start_time": "2021-12-17T08:32:53.800Z"
   },
   {
    "duration": 34,
    "start_time": "2021-12-17T08:33:56.452Z"
   },
   {
    "duration": 32613,
    "start_time": "2021-12-17T08:36:04.449Z"
   },
   {
    "duration": 14,
    "start_time": "2021-12-17T08:52:02.200Z"
   },
   {
    "duration": 32,
    "start_time": "2021-12-17T08:54:10.416Z"
   },
   {
    "duration": 869,
    "start_time": "2021-12-17T08:56:50.829Z"
   },
   {
    "duration": 72,
    "start_time": "2021-12-17T08:57:05.793Z"
   },
   {
    "duration": 61,
    "start_time": "2021-12-17T08:57:14.437Z"
   },
   {
    "duration": 118,
    "start_time": "2021-12-17T08:57:20.988Z"
   },
   {
    "duration": 56142,
    "start_time": "2021-12-17T08:57:25.129Z"
   },
   {
    "duration": 39256,
    "start_time": "2021-12-17T08:59:13.710Z"
   },
   {
    "duration": 26,
    "start_time": "2021-12-17T09:01:01.437Z"
   },
   {
    "duration": 20,
    "start_time": "2021-12-17T09:03:25.949Z"
   },
   {
    "duration": 19,
    "start_time": "2021-12-17T09:04:06.258Z"
   },
   {
    "duration": 20,
    "start_time": "2021-12-17T09:04:33.368Z"
   },
   {
    "duration": 22,
    "start_time": "2021-12-17T09:05:38.441Z"
   },
   {
    "duration": 26,
    "start_time": "2021-12-17T09:08:56.314Z"
   },
   {
    "duration": 355,
    "start_time": "2021-12-17T09:10:58.129Z"
   },
   {
    "duration": 21,
    "start_time": "2021-12-17T09:12:14.441Z"
   },
   {
    "duration": 857,
    "start_time": "2021-12-17T09:18:27.472Z"
   },
   {
    "duration": 69,
    "start_time": "2021-12-17T09:18:38.098Z"
   },
   {
    "duration": 61,
    "start_time": "2021-12-17T09:18:46.652Z"
   },
   {
    "duration": 121,
    "start_time": "2021-12-17T09:21:39.538Z"
   },
   {
    "duration": 52869,
    "start_time": "2021-12-17T09:21:44.706Z"
   },
   {
    "duration": 37675,
    "start_time": "2021-12-17T09:22:56.784Z"
   },
   {
    "duration": 22,
    "start_time": "2021-12-17T09:24:41.633Z"
   },
   {
    "duration": 31,
    "start_time": "2021-12-17T09:24:47.125Z"
   },
   {
    "duration": 21,
    "start_time": "2021-12-17T09:24:52.267Z"
   },
   {
    "duration": 31,
    "start_time": "2021-12-17T09:24:59.595Z"
   },
   {
    "duration": 718,
    "start_time": "2021-12-18T05:08:01.253Z"
   },
   {
    "duration": 40,
    "start_time": "2021-12-18T05:08:01.972Z"
   },
   {
    "duration": 59,
    "start_time": "2021-12-18T05:08:02.014Z"
   },
   {
    "duration": 68,
    "start_time": "2021-12-18T05:08:02.075Z"
   },
   {
    "duration": 35940,
    "start_time": "2021-12-18T05:08:02.144Z"
   },
   {
    "duration": 24020,
    "start_time": "2021-12-18T05:08:38.086Z"
   },
   {
    "duration": 13,
    "start_time": "2021-12-18T05:09:02.108Z"
   },
   {
    "duration": 42,
    "start_time": "2021-12-18T05:09:02.123Z"
   },
   {
    "duration": 16,
    "start_time": "2021-12-18T05:09:02.168Z"
   },
   {
    "duration": 22,
    "start_time": "2021-12-18T05:09:02.186Z"
   },
   {
    "duration": 666,
    "start_time": "2021-12-18T05:13:40.577Z"
   },
   {
    "duration": 42,
    "start_time": "2021-12-18T05:13:41.245Z"
   },
   {
    "duration": 38,
    "start_time": "2021-12-18T05:13:41.289Z"
   },
   {
    "duration": 87,
    "start_time": "2021-12-18T05:13:41.329Z"
   },
   {
    "duration": 36962,
    "start_time": "2021-12-18T05:13:41.418Z"
   },
   {
    "duration": 23569,
    "start_time": "2021-12-18T05:14:18.382Z"
   },
   {
    "duration": 14,
    "start_time": "2021-12-18T05:14:41.964Z"
   },
   {
    "duration": 14,
    "start_time": "2021-12-18T05:14:41.981Z"
   },
   {
    "duration": 15,
    "start_time": "2021-12-18T05:14:41.998Z"
   },
   {
    "duration": 55,
    "start_time": "2021-12-18T05:14:42.015Z"
   },
   {
    "duration": 399,
    "start_time": "2021-12-18T09:21:25.148Z"
   },
   {
    "duration": 759,
    "start_time": "2021-12-18T09:21:43.324Z"
   },
   {
    "duration": 43,
    "start_time": "2021-12-18T09:21:53.801Z"
   },
   {
    "duration": 45,
    "start_time": "2021-12-18T09:21:59.689Z"
   },
   {
    "duration": 69,
    "start_time": "2021-12-18T09:22:44.951Z"
   },
   {
    "duration": 43,
    "start_time": "2021-12-18T09:25:09.456Z"
   },
   {
    "duration": 66,
    "start_time": "2021-12-18T09:25:15.313Z"
   },
   {
    "duration": 38841,
    "start_time": "2021-12-18T09:25:31.439Z"
   },
   {
    "duration": 83,
    "start_time": "2021-12-18T09:29:23.790Z"
   },
   {
    "duration": 696,
    "start_time": "2021-12-18T09:29:40.928Z"
   },
   {
    "duration": 46,
    "start_time": "2021-12-18T09:29:47.705Z"
   },
   {
    "duration": 45,
    "start_time": "2021-12-18T09:29:54.753Z"
   },
   {
    "duration": 72,
    "start_time": "2021-12-18T09:30:16.740Z"
   },
   {
    "duration": 38181,
    "start_time": "2021-12-18T09:30:28.607Z"
   },
   {
    "duration": 25912,
    "start_time": "2021-12-18T09:31:38.811Z"
   },
   {
    "duration": 18008,
    "start_time": "2021-12-18T09:41:47.281Z"
   },
   {
    "duration": 17737,
    "start_time": "2021-12-18T09:42:26.285Z"
   },
   {
    "duration": 695,
    "start_time": "2021-12-18T09:46:49.607Z"
   },
   {
    "duration": 69,
    "start_time": "2021-12-18T09:46:58.351Z"
   },
   {
    "duration": 47,
    "start_time": "2021-12-18T09:47:05.932Z"
   },
   {
    "duration": 66,
    "start_time": "2021-12-18T09:47:19.376Z"
   },
   {
    "duration": 38684,
    "start_time": "2021-12-18T09:47:27.355Z"
   },
   {
    "duration": 24570,
    "start_time": "2021-12-18T09:48:12.864Z"
   },
   {
    "duration": 15,
    "start_time": "2021-12-18T09:49:06.391Z"
   },
   {
    "duration": 15,
    "start_time": "2021-12-18T09:49:11.161Z"
   },
   {
    "duration": 14,
    "start_time": "2021-12-18T09:49:16.085Z"
   },
   {
    "duration": 19,
    "start_time": "2021-12-18T09:49:20.371Z"
   }
  ],
  "kernelspec": {
   "display_name": "Python 3 (ipykernel)",
   "language": "python",
   "name": "python3"
  },
  "language_info": {
   "codemirror_mode": {
    "name": "ipython",
    "version": 3
   },
   "file_extension": ".py",
   "mimetype": "text/x-python",
   "name": "python",
   "nbconvert_exporter": "python",
   "pygments_lexer": "ipython3",
   "version": "3.9.7"
  },
  "toc": {
   "base_numbering": 1,
   "nav_menu": {},
   "number_sections": true,
   "sideBar": true,
   "skip_h1_title": true,
   "title_cell": "Table of Contents",
   "title_sidebar": "Contents",
   "toc_cell": false,
   "toc_position": {},
   "toc_section_display": true,
   "toc_window_display": false
  }
 },
 "nbformat": 4,
 "nbformat_minor": 2
}
