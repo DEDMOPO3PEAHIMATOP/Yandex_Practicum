{
 "cells": [
  {
   "cell_type": "markdown",
   "metadata": {
    "id": "E0vqbgi9ay0H"
   },
   "source": [
    "# Яндекс.Музыка"
   ]
  },
  {
   "cell_type": "markdown",
   "metadata": {
    "id": "VUC88oWjTJw2"
   },
   "source": [
    "Сравнение Москвы и Петербурга окружено мифами. Например:\n",
    " * Москва — мегаполис, подчинённый жёсткому ритму рабочей недели;\n",
    " * Петербург — культурная столица, со своими вкусами.\n",
    "\n",
    "На данных Яндекс.Музыки мы сравниваеме поведение пользователей двух столиц.\n",
    "\n",
    "**Цель исследования** — проверьте три гипотезы:\n",
    "1. Активность пользователей зависит от дня недели. Причём в Москве и Петербурге это проявляется по-разному.\n",
    "2. В понедельник утром в Москве преобладают одни жанры, а в Петербурге — другие. Так же и вечером пятницы преобладают разные жанры — в зависимости от города. \n",
    "3. Москва и Петербург предпочитают разные жанры музыки. В Москве чаще слушают поп-музыку, в Петербурге — русский рэп.\n",
    "\n",
    "**Ход исследования**\n",
    "\n",
    "Данные о поведении пользователей вы получите из файла `yandex_music_project.csv`. О качестве данных ничего не известно. Поэтому перед проверкой гипотез понадобится обзор данных. \n",
    "\n",
    "Вы проверите данные на ошибки и оцените их влияние на исследование. Затем, на этапе предобработки вы поищете возможность исправить самые критичные ошибки данных.\n",
    " \n",
    "Таким образом, исследование пройдёт в три этапа:\n",
    " 1. Обзор данных.\n",
    " 2. Предобработка данных.\n",
    " 3. Проверка гипотез.\n",
    "\n"
   ]
  },
  {
   "cell_type": "markdown",
   "metadata": {
    "id": "Ml1hmfXC_Zcs"
   },
   "source": [
    "## Обзор данных\n",
    "\n",
    "Составьте первое представление о данных Яндекс.Музыки.\n",
    "\n",
    "\n"
   ]
  },
  {
   "cell_type": "markdown",
   "metadata": {
    "id": "57eAOGIz_Zcs"
   },
   "source": [
    "Основной инструмент аналитика — `pandas`. Импортируйте эту библиотеку."
   ]
  },
  {
   "cell_type": "code",
   "execution_count": 1,
   "metadata": {
    "id": "AXN7PHPN_Zcs"
   },
   "outputs": [],
   "source": [
    "# импорт библиотеки pandas\n",
    "import pandas as pd"
   ]
  },
  {
   "cell_type": "markdown",
   "metadata": {
    "id": "SG23P8tt_Zcs"
   },
   "source": [
    "Прочитайте файл `yandex_music_project.csv` из папки `/datasets` и сохраните его в переменной `df`:"
   ]
  },
  {
   "cell_type": "code",
   "execution_count": 2,
   "metadata": {
    "id": "fFVu7vqh_Zct"
   },
   "outputs": [],
   "source": [
    "# чтение файла с данными и сохранение в df\n",
    "try:\n",
    "    df = pd.read_csv('/datasets/yandex_music_project.csv')\n",
    "except:\n",
    "    df = pd.read_csv('yandex_music_project.csv')"
   ]
  },
  {
   "cell_type": "markdown",
   "metadata": {
    "id": "rDoOMd3uTqnZ"
   },
   "source": [
    "Выведите на экран первые десять строк таблицы:"
   ]
  },
  {
   "cell_type": "code",
   "execution_count": 3,
   "metadata": {
    "id": "oWTVX3gW_Zct"
   },
   "outputs": [
    {
     "data": {
      "text/html": [
       "<div>\n",
       "<style scoped>\n",
       "    .dataframe tbody tr th:only-of-type {\n",
       "        vertical-align: middle;\n",
       "    }\n",
       "\n",
       "    .dataframe tbody tr th {\n",
       "        vertical-align: top;\n",
       "    }\n",
       "\n",
       "    .dataframe thead th {\n",
       "        text-align: right;\n",
       "    }\n",
       "</style>\n",
       "<table border=\"1\" class=\"dataframe\">\n",
       "  <thead>\n",
       "    <tr style=\"text-align: right;\">\n",
       "      <th></th>\n",
       "      <th>userID</th>\n",
       "      <th>Track</th>\n",
       "      <th>artist</th>\n",
       "      <th>genre</th>\n",
       "      <th>City</th>\n",
       "      <th>time</th>\n",
       "      <th>Day</th>\n",
       "    </tr>\n",
       "  </thead>\n",
       "  <tbody>\n",
       "    <tr>\n",
       "      <th>0</th>\n",
       "      <td>FFB692EC</td>\n",
       "      <td>Kamigata To Boots</td>\n",
       "      <td>The Mass Missile</td>\n",
       "      <td>rock</td>\n",
       "      <td>Saint-Petersburg</td>\n",
       "      <td>20:28:33</td>\n",
       "      <td>Wednesday</td>\n",
       "    </tr>\n",
       "    <tr>\n",
       "      <th>1</th>\n",
       "      <td>55204538</td>\n",
       "      <td>Delayed Because of Accident</td>\n",
       "      <td>Andreas Rönnberg</td>\n",
       "      <td>rock</td>\n",
       "      <td>Moscow</td>\n",
       "      <td>14:07:09</td>\n",
       "      <td>Friday</td>\n",
       "    </tr>\n",
       "    <tr>\n",
       "      <th>2</th>\n",
       "      <td>20EC38</td>\n",
       "      <td>Funiculì funiculà</td>\n",
       "      <td>Mario Lanza</td>\n",
       "      <td>pop</td>\n",
       "      <td>Saint-Petersburg</td>\n",
       "      <td>20:58:07</td>\n",
       "      <td>Wednesday</td>\n",
       "    </tr>\n",
       "    <tr>\n",
       "      <th>3</th>\n",
       "      <td>A3DD03C9</td>\n",
       "      <td>Dragons in the Sunset</td>\n",
       "      <td>Fire + Ice</td>\n",
       "      <td>folk</td>\n",
       "      <td>Saint-Petersburg</td>\n",
       "      <td>08:37:09</td>\n",
       "      <td>Monday</td>\n",
       "    </tr>\n",
       "    <tr>\n",
       "      <th>4</th>\n",
       "      <td>E2DC1FAE</td>\n",
       "      <td>Soul People</td>\n",
       "      <td>Space Echo</td>\n",
       "      <td>dance</td>\n",
       "      <td>Moscow</td>\n",
       "      <td>08:34:34</td>\n",
       "      <td>Monday</td>\n",
       "    </tr>\n",
       "    <tr>\n",
       "      <th>5</th>\n",
       "      <td>842029A1</td>\n",
       "      <td>Преданная</td>\n",
       "      <td>IMPERVTOR</td>\n",
       "      <td>rusrap</td>\n",
       "      <td>Saint-Petersburg</td>\n",
       "      <td>13:09:41</td>\n",
       "      <td>Friday</td>\n",
       "    </tr>\n",
       "    <tr>\n",
       "      <th>6</th>\n",
       "      <td>4CB90AA5</td>\n",
       "      <td>True</td>\n",
       "      <td>Roman Messer</td>\n",
       "      <td>dance</td>\n",
       "      <td>Moscow</td>\n",
       "      <td>13:00:07</td>\n",
       "      <td>Wednesday</td>\n",
       "    </tr>\n",
       "    <tr>\n",
       "      <th>7</th>\n",
       "      <td>F03E1C1F</td>\n",
       "      <td>Feeling This Way</td>\n",
       "      <td>Polina Griffith</td>\n",
       "      <td>dance</td>\n",
       "      <td>Moscow</td>\n",
       "      <td>20:47:49</td>\n",
       "      <td>Wednesday</td>\n",
       "    </tr>\n",
       "    <tr>\n",
       "      <th>8</th>\n",
       "      <td>8FA1D3BE</td>\n",
       "      <td>И вновь продолжается бой</td>\n",
       "      <td>NaN</td>\n",
       "      <td>ruspop</td>\n",
       "      <td>Moscow</td>\n",
       "      <td>09:17:40</td>\n",
       "      <td>Friday</td>\n",
       "    </tr>\n",
       "    <tr>\n",
       "      <th>9</th>\n",
       "      <td>E772D5C0</td>\n",
       "      <td>Pessimist</td>\n",
       "      <td>NaN</td>\n",
       "      <td>dance</td>\n",
       "      <td>Saint-Petersburg</td>\n",
       "      <td>21:20:49</td>\n",
       "      <td>Wednesday</td>\n",
       "    </tr>\n",
       "  </tbody>\n",
       "</table>\n",
       "</div>"
      ],
      "text/plain": [
       "     userID                        Track            artist   genre  \\\n",
       "0  FFB692EC            Kamigata To Boots  The Mass Missile    rock   \n",
       "1  55204538  Delayed Because of Accident  Andreas Rönnberg    rock   \n",
       "2    20EC38            Funiculì funiculà       Mario Lanza     pop   \n",
       "3  A3DD03C9        Dragons in the Sunset        Fire + Ice    folk   \n",
       "4  E2DC1FAE                  Soul People        Space Echo   dance   \n",
       "5  842029A1                    Преданная         IMPERVTOR  rusrap   \n",
       "6  4CB90AA5                         True      Roman Messer   dance   \n",
       "7  F03E1C1F             Feeling This Way   Polina Griffith   dance   \n",
       "8  8FA1D3BE     И вновь продолжается бой               NaN  ruspop   \n",
       "9  E772D5C0                    Pessimist               NaN   dance   \n",
       "\n",
       "             City        time        Day  \n",
       "0  Saint-Petersburg  20:28:33  Wednesday  \n",
       "1            Moscow  14:07:09     Friday  \n",
       "2  Saint-Petersburg  20:58:07  Wednesday  \n",
       "3  Saint-Petersburg  08:37:09     Monday  \n",
       "4            Moscow  08:34:34     Monday  \n",
       "5  Saint-Petersburg  13:09:41     Friday  \n",
       "6            Moscow  13:00:07  Wednesday  \n",
       "7            Moscow  20:47:49  Wednesday  \n",
       "8            Moscow  09:17:40     Friday  \n",
       "9  Saint-Petersburg  21:20:49  Wednesday  "
      ]
     },
     "metadata": {},
     "output_type": "display_data"
    }
   ],
   "source": [
    "# получение первых 10 строк таблицы df\n",
    "display(df.head(10))"
   ]
  },
  {
   "cell_type": "markdown",
   "metadata": {
    "id": "EO73Kwic_Zct"
   },
   "source": [
    "Одной командой получить общую информацию о таблице:"
   ]
  },
  {
   "cell_type": "code",
   "execution_count": 4,
   "metadata": {
    "id": "DSf2kIb-_Zct",
    "scrolled": true
   },
   "outputs": [
    {
     "name": "stdout",
     "output_type": "stream",
     "text": [
      "<class 'pandas.core.frame.DataFrame'>\n",
      "RangeIndex: 65079 entries, 0 to 65078\n",
      "Data columns (total 7 columns):\n",
      " #   Column    Non-Null Count  Dtype \n",
      "---  ------    --------------  ----- \n",
      " 0     userID  65079 non-null  object\n",
      " 1   Track     63848 non-null  object\n",
      " 2   artist    57876 non-null  object\n",
      " 3   genre     63881 non-null  object\n",
      " 4     City    65079 non-null  object\n",
      " 5   time      65079 non-null  object\n",
      " 6   Day       65079 non-null  object\n",
      "dtypes: object(7)\n",
      "memory usage: 3.5+ MB\n"
     ]
    }
   ],
   "source": [
    "# получение общей информации о данных в таблице df\n",
    "df.info()"
   ]
  },
  {
   "cell_type": "markdown",
   "metadata": {
    "id": "TaQ2Iwbr_Zct"
   },
   "source": [
    "Итак, в таблице семь столбцов. Тип данных во всех столбцах — `object`.\n",
    "\n",
    "Согласно документации к данным:\n",
    "* `userID` — идентификатор пользователя;\n",
    "* `Track` — название трека;  \n",
    "* `artist` — имя исполнителя;\n",
    "* `genre` — название жанра;\n",
    "* `City` — город пользователя;\n",
    "* `time` — время начала прослушивания;\n",
    "* `Day` — день недели.\n",
    "\n",
    "В названиях колонок видны три нарушения стиля:\n",
    "1. Строчные буквы сочетаются с прописными.\n",
    "2. Встречаются пробелы.\n",
    "3. Наименование столбцов выполненв в \"верблюжьем\" стиле.\n",
    "\n",
    "\n",
    "\n",
    "Количество значений в столбцах различается. Значит, в данных есть пропущенные значения.\n"
   ]
  },
  {
   "cell_type": "markdown",
   "metadata": {
    "id": "MCB6-dXG_Zct"
   },
   "source": [
    "**Выводы**\n",
    "\n",
    "В каждой строке таблицы — данные о прослушанном треке. Часть колонок описывает саму композицию: название, исполнителя и жанр. Остальные данные рассказывают о пользователе: из какого он города, когда он слушал музыку. \n",
    "\n",
    "Предварительно можно утверждать, что, данных достаточно для проверки гипотез. Но встречаются пропуски в данных, а в названиях колонок — расхождения с хорошим стилем.\n",
    "\n",
    "Чтобы двигаться дальше, нужно устранить проблемы в данных."
   ]
  },
  {
   "cell_type": "markdown",
   "metadata": {
    "id": "SjYF6Ub9_Zct"
   },
   "source": [
    "## Предобработка данных\n",
    "Исправьте стиль в заголовках столбцов, исключите пропуски. Затем проверьте данные на дубликаты."
   ]
  },
  {
   "cell_type": "markdown",
   "metadata": {
    "id": "dIaKXr29_Zct"
   },
   "source": [
    "### Стиль заголовков\n",
    "Выведите на экран названия столбцов:"
   ]
  },
  {
   "cell_type": "code",
   "execution_count": 5,
   "metadata": {
    "id": "oKOTdF_Q_Zct"
   },
   "outputs": [
    {
     "data": {
      "text/plain": [
       "Index(['  userID', 'Track', 'artist', 'genre', '  City  ', 'time', 'Day'], dtype='object')"
      ]
     },
     "execution_count": 5,
     "metadata": {},
     "output_type": "execute_result"
    }
   ],
   "source": [
    "# перечень названий столбцов таблицы df\n",
    "df.columns"
   ]
  },
  {
   "cell_type": "markdown",
   "metadata": {
    "id": "zj5534cv_Zct"
   },
   "source": [
    "Приведите названия в соответствие с хорошим стилем:\n",
    "* несколько слов в названии запишите в «змеином_регистре»,\n",
    "* все символы сделайте строчными,\n",
    "* устраните пробелы.\n",
    "\n",
    "Для этого переименуйте колонки так:\n",
    "* `'  userID'` → `'user_id'`;\n",
    "* `'Track'` → `'track'`;\n",
    "* `'  City  '` → `'city'`;\n",
    "* `'Day'` → `'day'`."
   ]
  },
  {
   "cell_type": "code",
   "execution_count": 6,
   "metadata": {
    "id": "ISlFqs5y_Zct"
   },
   "outputs": [],
   "source": [
    "# переименование столбцов\n",
    "df = df.rename(columns={'  userID': 'user_id', 'Track': 'track', '  City  ': 'city', 'Day' : 'day'})"
   ]
  },
  {
   "cell_type": "markdown",
   "metadata": {
    "id": "1dqbh00J_Zct"
   },
   "source": [
    "Проверьте результат. Для этого ещё раз выведите на экран названия столбцов:"
   ]
  },
  {
   "cell_type": "code",
   "execution_count": 7,
   "metadata": {
    "id": "d4NOAmTW_Zct"
   },
   "outputs": [
    {
     "data": {
      "text/plain": [
       "Index(['user_id', 'track', 'artist', 'genre', 'city', 'time', 'day'], dtype='object')"
      ]
     },
     "metadata": {},
     "output_type": "display_data"
    }
   ],
   "source": [
    "# проверка результатов - перечень названий столбцов\n",
    "display (df.columns)"
   ]
  },
  {
   "cell_type": "markdown",
   "metadata": {
    "id": "5ISfbcfY_Zct"
   },
   "source": [
    "### Пропуски значений\n",
    "Сначала посчитайте, сколько в таблице пропущенных значений. Для этого достаточно двух методов `pandas`:"
   ]
  },
  {
   "cell_type": "code",
   "execution_count": 8,
   "metadata": {
    "id": "RskX29qr_Zct"
   },
   "outputs": [
    {
     "data": {
      "text/plain": [
       "user_id       0\n",
       "track      1231\n",
       "artist     7203\n",
       "genre      1198\n",
       "city          0\n",
       "time          0\n",
       "day           0\n",
       "dtype: int64"
      ]
     },
     "metadata": {},
     "output_type": "display_data"
    }
   ],
   "source": [
    "# подсчёт пропусков\n",
    "display(df.isna().sum())"
   ]
  },
  {
   "cell_type": "markdown",
   "metadata": {
    "id": "qubhgnlO_Zct"
   },
   "source": [
    "Не все пропущенные значения влияют на исследование. Так в `track` и `artist` пропуски не важны для вашей работы. Достаточно заменить их явными обозначениями.\n",
    "\n",
    "Но пропуски в `genre` могут помешать сравнению музыкальных вкусов в Москве и Санкт-Петербурге. На практике было бы правильно установить причину пропусков и восстановить данные. Такой возможности нет в учебном проекте. Придётся:\n",
    "* заполнить и эти пропуски явными обозначениями,\n",
    "* оценить, насколько они повредят расчётам. "
   ]
  },
  {
   "cell_type": "markdown",
   "metadata": {
    "id": "fSv2laPA_Zct"
   },
   "source": [
    "Замените пропущенные значения в столбцах `track`, `artist` и `genre` на строку `'unknown'`. Для этого создайте список `columns_to_replace`, переберите его элементы циклом `for` и для каждого столбца выполните замену пропущенных значений:"
   ]
  },
  {
   "cell_type": "code",
   "execution_count": 9,
   "metadata": {
    "id": "KplB5qWs_Zct"
   },
   "outputs": [],
   "source": [
    "# перебор названий столбцов в цикле и замена пропущенных значений на 'unknown'\n",
    "columns_to_replace = ['track', 'artist', 'genre']\n",
    "for i in columns_to_replace:\n",
    "    df[i] = df[i].fillna('unknown')"
   ]
  },
  {
   "cell_type": "markdown",
   "metadata": {
    "id": "Ilsm-MZo_Zct"
   },
   "source": [
    "Убедитесь, что в таблице не осталось пропусков. Для этого ещё раз посчитайте пропущенные значения."
   ]
  },
  {
   "cell_type": "code",
   "execution_count": 10,
   "metadata": {
    "id": "Tq4nYRX4_Zct"
   },
   "outputs": [
    {
     "data": {
      "text/plain": [
       "user_id    0\n",
       "track      0\n",
       "artist     0\n",
       "genre      0\n",
       "city       0\n",
       "time       0\n",
       "day        0\n",
       "dtype: int64"
      ]
     },
     "metadata": {},
     "output_type": "display_data"
    }
   ],
   "source": [
    "# подсчёт пропусков\n",
    "display(df.isna().sum())"
   ]
  },
  {
   "cell_type": "markdown",
   "metadata": {
    "id": "BWKRtBJ3_Zct"
   },
   "source": [
    "### Дубликаты\n",
    "Посчитайте явные дубликаты в таблице одной командой:"
   ]
  },
  {
   "cell_type": "code",
   "execution_count": 11,
   "metadata": {
    "id": "36eES_S0_Zct"
   },
   "outputs": [
    {
     "name": "stdout",
     "output_type": "stream",
     "text": [
      "Количество явных дубликатов в таблице=: 3826\n"
     ]
    }
   ],
   "source": [
    "# подсчёт явных дубликатов\n",
    "print('Количество явных дубликатов в таблице=:', df.duplicated().sum())"
   ]
  },
  {
   "cell_type": "markdown",
   "metadata": {
    "id": "Ot25h6XR_Zct"
   },
   "source": [
    "Вызовите специальный метод `pandas`, чтобы удалить явные дубликаты:"
   ]
  },
  {
   "cell_type": "code",
   "execution_count": 12,
   "metadata": {
    "id": "exFHq6tt_Zct"
   },
   "outputs": [],
   "source": [
    "# удаление явных дубликатов (с удалением старых индексов и формированием новых)\n",
    "df = df.drop_duplicates().reset_index()"
   ]
  },
  {
   "cell_type": "markdown",
   "metadata": {
    "id": "Im2YwBEG_Zct"
   },
   "source": [
    "Ещё раз посчитайте явные дубликаты в таблице — убедитесь, что полностью от них избавились:"
   ]
  },
  {
   "cell_type": "code",
   "execution_count": 13,
   "metadata": {
    "id": "-8PuNWQ0_Zct"
   },
   "outputs": [
    {
     "name": "stdout",
     "output_type": "stream",
     "text": [
      "Количество явных дубликатов в таблице после удаления: 0\n"
     ]
    }
   ],
   "source": [
    "# проверка на отсутствие дубликатов\n",
    "print('Количество явных дубликатов в таблице после удаления:', df.duplicated().sum())"
   ]
  },
  {
   "cell_type": "markdown",
   "metadata": {
    "id": "QlFBsxAr_Zct"
   },
   "source": [
    "Теперь избавьтесь от неявных дубликатов в колонке `genre`. Например, название одного и того же жанра может быть записано немного по-разному. Такие ошибки тоже повлияют на результат исследования."
   ]
  },
  {
   "cell_type": "markdown",
   "metadata": {
    "id": "eSjWwsOh_Zct"
   },
   "source": [
    "Выведите на экран список уникальных названий жанров, отсортированный в алфавитном порядке. Для этого:\n",
    "* извлеките нужный столбец датафрейма, \n",
    "* примените к нему метод сортировки,\n",
    "* для отсортированного столбца вызовите метод, который вернёт уникальные значения из столбца."
   ]
  },
  {
   "cell_type": "code",
   "execution_count": 14,
   "metadata": {
    "id": "JIUcqzZN_Zct"
   },
   "outputs": [
    {
     "data": {
      "text/plain": [
       "['acid',\n",
       " 'acoustic',\n",
       " 'action',\n",
       " 'adult',\n",
       " 'africa',\n",
       " 'afrikaans',\n",
       " 'alternative',\n",
       " 'alternativepunk',\n",
       " 'ambient',\n",
       " 'americana',\n",
       " 'animated',\n",
       " 'anime',\n",
       " 'arabesk',\n",
       " 'arabic',\n",
       " 'arena',\n",
       " 'argentinetango',\n",
       " 'art',\n",
       " 'audiobook',\n",
       " 'author',\n",
       " 'avantgarde',\n",
       " 'axé',\n",
       " 'baile',\n",
       " 'balkan',\n",
       " 'beats',\n",
       " 'bigroom',\n",
       " 'black',\n",
       " 'bluegrass',\n",
       " 'blues',\n",
       " 'bollywood',\n",
       " 'bossa',\n",
       " 'brazilian',\n",
       " 'breakbeat',\n",
       " 'breaks',\n",
       " 'broadway',\n",
       " 'cantautori',\n",
       " 'cantopop',\n",
       " 'canzone',\n",
       " 'caribbean',\n",
       " 'caucasian',\n",
       " 'celtic',\n",
       " 'chamber',\n",
       " 'chanson',\n",
       " 'children',\n",
       " 'chill',\n",
       " 'chinese',\n",
       " 'choral',\n",
       " 'christian',\n",
       " 'christmas',\n",
       " 'classical',\n",
       " 'classicmetal',\n",
       " 'club',\n",
       " 'colombian',\n",
       " 'comedy',\n",
       " 'conjazz',\n",
       " 'contemporary',\n",
       " 'country',\n",
       " 'cuban',\n",
       " 'dance',\n",
       " 'dancehall',\n",
       " 'dancepop',\n",
       " 'dark',\n",
       " 'death',\n",
       " 'deep',\n",
       " 'deutschrock',\n",
       " 'deutschspr',\n",
       " 'dirty',\n",
       " 'disco',\n",
       " 'dnb',\n",
       " 'documentary',\n",
       " 'downbeat',\n",
       " 'downtempo',\n",
       " 'drum',\n",
       " 'dub',\n",
       " 'dubstep',\n",
       " 'eastern',\n",
       " 'easy',\n",
       " 'electronic',\n",
       " 'electropop',\n",
       " 'emo',\n",
       " 'entehno',\n",
       " 'epicmetal',\n",
       " 'estrada',\n",
       " 'ethnic',\n",
       " 'eurofolk',\n",
       " 'european',\n",
       " 'experimental',\n",
       " 'extrememetal',\n",
       " 'fado',\n",
       " 'fairytail',\n",
       " 'film',\n",
       " 'fitness',\n",
       " 'flamenco',\n",
       " 'folk',\n",
       " 'folklore',\n",
       " 'folkmetal',\n",
       " 'folkrock',\n",
       " 'folktronica',\n",
       " 'forró',\n",
       " 'frankreich',\n",
       " 'französisch',\n",
       " 'french',\n",
       " 'funk',\n",
       " 'future',\n",
       " 'gangsta',\n",
       " 'garage',\n",
       " 'german',\n",
       " 'ghazal',\n",
       " 'gitarre',\n",
       " 'glitch',\n",
       " 'gospel',\n",
       " 'gothic',\n",
       " 'grime',\n",
       " 'grunge',\n",
       " 'gypsy',\n",
       " 'handsup',\n",
       " \"hard'n'heavy\",\n",
       " 'hardcore',\n",
       " 'hardstyle',\n",
       " 'hardtechno',\n",
       " 'hip',\n",
       " 'hip-hop',\n",
       " 'hiphop',\n",
       " 'historisch',\n",
       " 'holiday',\n",
       " 'hop',\n",
       " 'horror',\n",
       " 'house',\n",
       " 'hymn',\n",
       " 'idm',\n",
       " 'independent',\n",
       " 'indian',\n",
       " 'indie',\n",
       " 'indipop',\n",
       " 'industrial',\n",
       " 'inspirational',\n",
       " 'instrumental',\n",
       " 'international',\n",
       " 'irish',\n",
       " 'jam',\n",
       " 'japanese',\n",
       " 'jazz',\n",
       " 'jewish',\n",
       " 'jpop',\n",
       " 'jungle',\n",
       " 'k-pop',\n",
       " 'karadeniz',\n",
       " 'karaoke',\n",
       " 'kayokyoku',\n",
       " 'korean',\n",
       " 'laiko',\n",
       " 'latin',\n",
       " 'latino',\n",
       " 'leftfield',\n",
       " 'local',\n",
       " 'lounge',\n",
       " 'loungeelectronic',\n",
       " 'lovers',\n",
       " 'malaysian',\n",
       " 'mandopop',\n",
       " 'marschmusik',\n",
       " 'meditative',\n",
       " 'mediterranean',\n",
       " 'melodic',\n",
       " 'metal',\n",
       " 'metalcore',\n",
       " 'mexican',\n",
       " 'middle',\n",
       " 'minimal',\n",
       " 'miscellaneous',\n",
       " 'modern',\n",
       " 'mood',\n",
       " 'mpb',\n",
       " 'muslim',\n",
       " 'native',\n",
       " 'neoklassik',\n",
       " 'neue',\n",
       " 'new',\n",
       " 'newage',\n",
       " 'newwave',\n",
       " 'nu',\n",
       " 'nujazz',\n",
       " 'numetal',\n",
       " 'oceania',\n",
       " 'old',\n",
       " 'opera',\n",
       " 'orchestral',\n",
       " 'other',\n",
       " 'piano',\n",
       " 'podcasts',\n",
       " 'pop',\n",
       " 'popdance',\n",
       " 'popelectronic',\n",
       " 'popeurodance',\n",
       " 'poprussian',\n",
       " 'post',\n",
       " 'posthardcore',\n",
       " 'postrock',\n",
       " 'power',\n",
       " 'progmetal',\n",
       " 'progressive',\n",
       " 'psychedelic',\n",
       " 'punjabi',\n",
       " 'punk',\n",
       " 'quebecois',\n",
       " 'ragga',\n",
       " 'ram',\n",
       " 'rancheras',\n",
       " 'rap',\n",
       " 'rave',\n",
       " 'reggae',\n",
       " 'reggaeton',\n",
       " 'regional',\n",
       " 'relax',\n",
       " 'religious',\n",
       " 'retro',\n",
       " 'rhythm',\n",
       " 'rnb',\n",
       " 'rnr',\n",
       " 'rock',\n",
       " 'rockabilly',\n",
       " 'rockalternative',\n",
       " 'rockindie',\n",
       " 'rockother',\n",
       " 'romance',\n",
       " 'roots',\n",
       " 'ruspop',\n",
       " 'rusrap',\n",
       " 'rusrock',\n",
       " 'russian',\n",
       " 'salsa',\n",
       " 'samba',\n",
       " 'scenic',\n",
       " 'schlager',\n",
       " 'self',\n",
       " 'sertanejo',\n",
       " 'shanson',\n",
       " 'shoegazing',\n",
       " 'showtunes',\n",
       " 'singer',\n",
       " 'ska',\n",
       " 'skarock',\n",
       " 'slow',\n",
       " 'smooth',\n",
       " 'soft',\n",
       " 'soul',\n",
       " 'soulful',\n",
       " 'sound',\n",
       " 'soundtrack',\n",
       " 'southern',\n",
       " 'specialty',\n",
       " 'speech',\n",
       " 'spiritual',\n",
       " 'sport',\n",
       " 'stonerrock',\n",
       " 'surf',\n",
       " 'swing',\n",
       " 'synthpop',\n",
       " 'synthrock',\n",
       " 'sängerportrait',\n",
       " 'tango',\n",
       " 'tanzorchester',\n",
       " 'taraftar',\n",
       " 'tatar',\n",
       " 'tech',\n",
       " 'techno',\n",
       " 'teen',\n",
       " 'thrash',\n",
       " 'top',\n",
       " 'traditional',\n",
       " 'tradjazz',\n",
       " 'trance',\n",
       " 'tribal',\n",
       " 'trip',\n",
       " 'triphop',\n",
       " 'tropical',\n",
       " 'türk',\n",
       " 'türkçe',\n",
       " 'ukrrock',\n",
       " 'unknown',\n",
       " 'urban',\n",
       " 'uzbek',\n",
       " 'variété',\n",
       " 'vi',\n",
       " 'videogame',\n",
       " 'vocal',\n",
       " 'western',\n",
       " 'world',\n",
       " 'worldbeat',\n",
       " 'ïîï',\n",
       " 'электроника']"
      ]
     },
     "metadata": {},
     "output_type": "display_data"
    }
   ],
   "source": [
    "# Просмотр уникальных названий жанров\n",
    "display(sorted(df['genre'].unique()))"
   ]
  },
  {
   "cell_type": "markdown",
   "metadata": {
    "id": "qej-Qmuo_Zct"
   },
   "source": [
    "Просмотрите список и найдите неявные дубликаты названия `hiphop`. Это могут быть названия с ошибками или альтернативные названия того же жанра.\n",
    "\n",
    "Вы увидите следующие неявные дубликаты:\n",
    "* *hip*,\n",
    "* *hop*,\n",
    "* *hip-hop*.\n",
    "\n",
    "Чтобы очистить от них таблицу, напишите функцию `replace_wrong_genres()` с двумя параметрами: \n",
    "* `wrong_genres` — список дубликатов,\n",
    "* `correct_genre` — строка с правильным значением.\n",
    "\n",
    "Функция должна исправить колонку `genre` в таблице `df`: заменить каждое значение из списка `wrong_genres` на значение из `correct_genre`."
   ]
  },
  {
   "cell_type": "code",
   "execution_count": 15,
   "metadata": {
    "id": "ErNDkmns_Zct"
   },
   "outputs": [],
   "source": [
    "# Функция для замены неявных дубликатов\n",
    "def replace_wrong_genres(wrong_genres, correct_genre):\n",
    "    for wrong_genre in wrong_genres:\n",
    "        df['genre'] = df['genre'].replace(wrong_genre, correct_genre)"
   ]
  },
  {
   "cell_type": "markdown",
   "metadata": {
    "id": "aDoBJxbA_Zct"
   },
   "source": [
    "Вызовите `replace_wrong_genres()` и передайте ей такие аргументы, чтобы она устранила неявные дубликаты: вместо `hip`, `hop` и `hip-hop` в таблице должно быть значение `hiphop`:"
   ]
  },
  {
   "cell_type": "code",
   "execution_count": 16,
   "metadata": {
    "id": "YN5i2hpmSo09"
   },
   "outputs": [],
   "source": [
    "# Устранение неявных дубликатов\n",
    "duplicates = ['hip', 'hop', 'hip-hop']\n",
    "duplicates_new = 'hiphop'\n",
    "replace_wrong_genres(duplicates, duplicates_new)"
   ]
  },
  {
   "cell_type": "markdown",
   "metadata": {
    "id": "zQKF16_RG15m"
   },
   "source": [
    "Проверьте, что заменили неправильные названия:\n",
    "\n",
    "*   hip\n",
    "*   hop\n",
    "*   hip-hop\n",
    "\n",
    "Выведите отсортированный список уникальных значений столбца `genre`:"
   ]
  },
  {
   "cell_type": "code",
   "execution_count": 17,
   "metadata": {
    "id": "wvixALnFG15m",
    "scrolled": true
   },
   "outputs": [
    {
     "data": {
      "text/plain": [
       "['acid',\n",
       " 'acoustic',\n",
       " 'action',\n",
       " 'adult',\n",
       " 'africa',\n",
       " 'afrikaans',\n",
       " 'alternative',\n",
       " 'alternativepunk',\n",
       " 'ambient',\n",
       " 'americana',\n",
       " 'animated',\n",
       " 'anime',\n",
       " 'arabesk',\n",
       " 'arabic',\n",
       " 'arena',\n",
       " 'argentinetango',\n",
       " 'art',\n",
       " 'audiobook',\n",
       " 'author',\n",
       " 'avantgarde',\n",
       " 'axé',\n",
       " 'baile',\n",
       " 'balkan',\n",
       " 'beats',\n",
       " 'bigroom',\n",
       " 'black',\n",
       " 'bluegrass',\n",
       " 'blues',\n",
       " 'bollywood',\n",
       " 'bossa',\n",
       " 'brazilian',\n",
       " 'breakbeat',\n",
       " 'breaks',\n",
       " 'broadway',\n",
       " 'cantautori',\n",
       " 'cantopop',\n",
       " 'canzone',\n",
       " 'caribbean',\n",
       " 'caucasian',\n",
       " 'celtic',\n",
       " 'chamber',\n",
       " 'chanson',\n",
       " 'children',\n",
       " 'chill',\n",
       " 'chinese',\n",
       " 'choral',\n",
       " 'christian',\n",
       " 'christmas',\n",
       " 'classical',\n",
       " 'classicmetal',\n",
       " 'club',\n",
       " 'colombian',\n",
       " 'comedy',\n",
       " 'conjazz',\n",
       " 'contemporary',\n",
       " 'country',\n",
       " 'cuban',\n",
       " 'dance',\n",
       " 'dancehall',\n",
       " 'dancepop',\n",
       " 'dark',\n",
       " 'death',\n",
       " 'deep',\n",
       " 'deutschrock',\n",
       " 'deutschspr',\n",
       " 'dirty',\n",
       " 'disco',\n",
       " 'dnb',\n",
       " 'documentary',\n",
       " 'downbeat',\n",
       " 'downtempo',\n",
       " 'drum',\n",
       " 'dub',\n",
       " 'dubstep',\n",
       " 'eastern',\n",
       " 'easy',\n",
       " 'electronic',\n",
       " 'electropop',\n",
       " 'emo',\n",
       " 'entehno',\n",
       " 'epicmetal',\n",
       " 'estrada',\n",
       " 'ethnic',\n",
       " 'eurofolk',\n",
       " 'european',\n",
       " 'experimental',\n",
       " 'extrememetal',\n",
       " 'fado',\n",
       " 'fairytail',\n",
       " 'film',\n",
       " 'fitness',\n",
       " 'flamenco',\n",
       " 'folk',\n",
       " 'folklore',\n",
       " 'folkmetal',\n",
       " 'folkrock',\n",
       " 'folktronica',\n",
       " 'forró',\n",
       " 'frankreich',\n",
       " 'französisch',\n",
       " 'french',\n",
       " 'funk',\n",
       " 'future',\n",
       " 'gangsta',\n",
       " 'garage',\n",
       " 'german',\n",
       " 'ghazal',\n",
       " 'gitarre',\n",
       " 'glitch',\n",
       " 'gospel',\n",
       " 'gothic',\n",
       " 'grime',\n",
       " 'grunge',\n",
       " 'gypsy',\n",
       " 'handsup',\n",
       " \"hard'n'heavy\",\n",
       " 'hardcore',\n",
       " 'hardstyle',\n",
       " 'hardtechno',\n",
       " 'hiphop',\n",
       " 'historisch',\n",
       " 'holiday',\n",
       " 'horror',\n",
       " 'house',\n",
       " 'hymn',\n",
       " 'idm',\n",
       " 'independent',\n",
       " 'indian',\n",
       " 'indie',\n",
       " 'indipop',\n",
       " 'industrial',\n",
       " 'inspirational',\n",
       " 'instrumental',\n",
       " 'international',\n",
       " 'irish',\n",
       " 'jam',\n",
       " 'japanese',\n",
       " 'jazz',\n",
       " 'jewish',\n",
       " 'jpop',\n",
       " 'jungle',\n",
       " 'k-pop',\n",
       " 'karadeniz',\n",
       " 'karaoke',\n",
       " 'kayokyoku',\n",
       " 'korean',\n",
       " 'laiko',\n",
       " 'latin',\n",
       " 'latino',\n",
       " 'leftfield',\n",
       " 'local',\n",
       " 'lounge',\n",
       " 'loungeelectronic',\n",
       " 'lovers',\n",
       " 'malaysian',\n",
       " 'mandopop',\n",
       " 'marschmusik',\n",
       " 'meditative',\n",
       " 'mediterranean',\n",
       " 'melodic',\n",
       " 'metal',\n",
       " 'metalcore',\n",
       " 'mexican',\n",
       " 'middle',\n",
       " 'minimal',\n",
       " 'miscellaneous',\n",
       " 'modern',\n",
       " 'mood',\n",
       " 'mpb',\n",
       " 'muslim',\n",
       " 'native',\n",
       " 'neoklassik',\n",
       " 'neue',\n",
       " 'new',\n",
       " 'newage',\n",
       " 'newwave',\n",
       " 'nu',\n",
       " 'nujazz',\n",
       " 'numetal',\n",
       " 'oceania',\n",
       " 'old',\n",
       " 'opera',\n",
       " 'orchestral',\n",
       " 'other',\n",
       " 'piano',\n",
       " 'podcasts',\n",
       " 'pop',\n",
       " 'popdance',\n",
       " 'popelectronic',\n",
       " 'popeurodance',\n",
       " 'poprussian',\n",
       " 'post',\n",
       " 'posthardcore',\n",
       " 'postrock',\n",
       " 'power',\n",
       " 'progmetal',\n",
       " 'progressive',\n",
       " 'psychedelic',\n",
       " 'punjabi',\n",
       " 'punk',\n",
       " 'quebecois',\n",
       " 'ragga',\n",
       " 'ram',\n",
       " 'rancheras',\n",
       " 'rap',\n",
       " 'rave',\n",
       " 'reggae',\n",
       " 'reggaeton',\n",
       " 'regional',\n",
       " 'relax',\n",
       " 'religious',\n",
       " 'retro',\n",
       " 'rhythm',\n",
       " 'rnb',\n",
       " 'rnr',\n",
       " 'rock',\n",
       " 'rockabilly',\n",
       " 'rockalternative',\n",
       " 'rockindie',\n",
       " 'rockother',\n",
       " 'romance',\n",
       " 'roots',\n",
       " 'ruspop',\n",
       " 'rusrap',\n",
       " 'rusrock',\n",
       " 'russian',\n",
       " 'salsa',\n",
       " 'samba',\n",
       " 'scenic',\n",
       " 'schlager',\n",
       " 'self',\n",
       " 'sertanejo',\n",
       " 'shanson',\n",
       " 'shoegazing',\n",
       " 'showtunes',\n",
       " 'singer',\n",
       " 'ska',\n",
       " 'skarock',\n",
       " 'slow',\n",
       " 'smooth',\n",
       " 'soft',\n",
       " 'soul',\n",
       " 'soulful',\n",
       " 'sound',\n",
       " 'soundtrack',\n",
       " 'southern',\n",
       " 'specialty',\n",
       " 'speech',\n",
       " 'spiritual',\n",
       " 'sport',\n",
       " 'stonerrock',\n",
       " 'surf',\n",
       " 'swing',\n",
       " 'synthpop',\n",
       " 'synthrock',\n",
       " 'sängerportrait',\n",
       " 'tango',\n",
       " 'tanzorchester',\n",
       " 'taraftar',\n",
       " 'tatar',\n",
       " 'tech',\n",
       " 'techno',\n",
       " 'teen',\n",
       " 'thrash',\n",
       " 'top',\n",
       " 'traditional',\n",
       " 'tradjazz',\n",
       " 'trance',\n",
       " 'tribal',\n",
       " 'trip',\n",
       " 'triphop',\n",
       " 'tropical',\n",
       " 'türk',\n",
       " 'türkçe',\n",
       " 'ukrrock',\n",
       " 'unknown',\n",
       " 'urban',\n",
       " 'uzbek',\n",
       " 'variété',\n",
       " 'vi',\n",
       " 'videogame',\n",
       " 'vocal',\n",
       " 'western',\n",
       " 'world',\n",
       " 'worldbeat',\n",
       " 'ïîï',\n",
       " 'электроника']"
      ]
     },
     "metadata": {},
     "output_type": "display_data"
    }
   ],
   "source": [
    "# Проверка на неявные дубликаты\n",
    "display(sorted(df['genre'].unique()))"
   ]
  },
  {
   "cell_type": "markdown",
   "metadata": {
    "id": "jz6a9-7HQUDd"
   },
   "source": [
    "**Выводы**\n",
    "\n",
    "Предобработка обнаружила три проблемы в данных:\n",
    "\n",
    "- нарушения в стиле заголовков,\n",
    "- пропущенные значения,\n",
    "- дубликаты — явные и неявные.\n",
    "\n",
    "Вы исправили заголовки, чтобы упростить работу с таблицей. Без дубликатов исследование станет более точным.\n",
    "\n",
    "Пропущенные значения вы заменили на `'unknown'`. Ещё предстоит увидеть, не повредят ли исследованию пропуски в колонке `genre`.\n",
    "\n",
    "Теперь можно перейти к проверке гипотез. "
   ]
  },
  {
   "cell_type": "markdown",
   "metadata": {
    "id": "WttZHXH0SqKk"
   },
   "source": [
    "## Проверка гипотез"
   ]
  },
  {
   "cell_type": "markdown",
   "metadata": {
    "id": "Im936VVi_Zcu"
   },
   "source": [
    "### Сравнение поведения пользователей двух столиц"
   ]
  },
  {
   "cell_type": "markdown",
   "metadata": {
    "id": "nwt_MuaL_Zcu"
   },
   "source": [
    "Первая гипотеза утверждает, что пользователи по-разному слушают музыку в Москве и Санкт-Петербурге. Проверьте это предположение по данным о трёх днях недели — понедельнике, среде и пятнице. Для этого:\n",
    "\n",
    "* Разделите пользователей Москвы и Санкт-Петербурга\n",
    "* Сравните, сколько треков послушала каждая группа пользователей в понедельник, среду и пятницу.\n"
   ]
  },
  {
   "cell_type": "markdown",
   "metadata": {
    "id": "8Dw_YMmT_Zcu"
   },
   "source": [
    "Для тренировки сначала выполните каждый из расчётов по отдельности. \n",
    "\n",
    "Оцените активность пользователей в каждом городе. Сгруппируйте данные по городу и посчитайте прослушивания в каждой группе.\n",
    "\n"
   ]
  },
  {
   "cell_type": "code",
   "execution_count": 18,
   "metadata": {
    "id": "0_Qs96oh_Zcu",
    "scrolled": true
   },
   "outputs": [
    {
     "data": {
      "text/plain": [
       "city\n",
       "Moscow              42741\n",
       "Saint-Petersburg    18512\n",
       "Name: user_id, dtype: int64"
      ]
     },
     "execution_count": 18,
     "metadata": {},
     "output_type": "execute_result"
    }
   ],
   "source": [
    "# Подсчёт прослушиваний в каждом городе\n",
    "df.groupby('city')['user_id'].count()"
   ]
  },
  {
   "cell_type": "markdown",
   "metadata": {
    "id": "dzli3w8o_Zcu"
   },
   "source": [
    "В Москве прослушиваний больше, чем в Петербурге. Из этого не следует, что московские пользователи чаще слушают музыку. Просто самих пользователей в Москве больше.\n",
    "\n",
    "Теперь сгруппируйте данные по дню недели и подсчитайте прослушивания в понедельник, среду и пятницу. Учтите, что в данных есть информация только о прослушиваниях только за эти дни.\n"
   ]
  },
  {
   "cell_type": "code",
   "execution_count": 19,
   "metadata": {
    "id": "uZMKjiJz_Zcu"
   },
   "outputs": [
    {
     "data": {
      "text/plain": [
       "day\n",
       "Friday       21840\n",
       "Monday       21354\n",
       "Wednesday    18059\n",
       "Name: user_id, dtype: int64"
      ]
     },
     "execution_count": 19,
     "metadata": {},
     "output_type": "execute_result"
    }
   ],
   "source": [
    "# Подсчёт прослушиваний в каждый из трёх дней\n",
    "df.groupby('day')['user_id'].count()"
   ]
  },
  {
   "cell_type": "markdown",
   "metadata": {
    "id": "cC2tNrlL_Zcu"
   },
   "source": [
    "В среднем пользователи из двух городов менее активны по средам. Но картина может измениться, если рассмотреть каждый город в отдельности."
   ]
  },
  {
   "cell_type": "markdown",
   "metadata": {
    "id": "POzs8bGa_Zcu"
   },
   "source": [
    "Вы видели, как работает группировка по городу и по дням недели. Теперь напишите функцию, которая объединит два эти расчёта.\n",
    "\n",
    "Создайте функцию `number_tracks()`, которая посчитает прослушивания для заданного дня и города. Ей понадобятся два параметра:\n",
    "* день недели,\n",
    "* название города.\n",
    "\n",
    "В функции сохраните в переменную строки исходной таблицы, у которых значение:\n",
    "  * в колонке `day` равно параметру `day`,\n",
    "  * в колонке `city` равно параметру `city`.\n",
    "\n",
    "Для этого примените последовательную фильтрацию с логической индексацией.\n",
    "\n",
    "Затем посчитайте значения в столбце `user_id` получившейся таблицы. Результат сохраните в новую переменную. Верните эту переменную из функции."
   ]
  },
  {
   "cell_type": "code",
   "execution_count": 20,
   "metadata": {
    "id": "Nz3GdQB1_Zcu"
   },
   "outputs": [],
   "source": [
    "def number_tracks (city, day):\n",
    "    '''\n",
    "    <создание функции number_tracks()>\n",
    "    Объявляется функция с двумя параметрами: day, city.\n",
    "    В переменной track_list сохраняются те строки таблицы df, для которых \n",
    "    значение в столбце 'day' равно параметру day и одновременно значение\n",
    "    в столбце 'city' равно параметру city (используйте последовательную фильтрацию\n",
    "    с помощью логической индексации).\n",
    "    В переменной track_list_count сохраняется число значений столбца 'user_id',\n",
    "    рассчитанное методом count() для таблицы track_list.\n",
    "    Функция возвращает число - значение track_list_count.\n",
    "    '''\n",
    "    track_list = df[(df['day'] == day) & (df['city'] == city)]['user_id'].count()\n",
    "    return track_list\n",
    "    '''\n",
    "    Функция для подсчёта прослушиваний для конкретного города и дня.\n",
    "    С помощью последовательной фильтрации с логической индексацией она \n",
    "    сначала получит из исходной таблицы строки с нужным днём,\n",
    "    затем из результата отфильтрует строки с нужным городом,\n",
    "    методом count() посчитает количество значений в колонке user_id. \n",
    "    Это количество функция вернёт в качестве результата\n",
    "    '''"
   ]
  },
  {
   "cell_type": "markdown",
   "metadata": {
    "id": "ytf7xFrFJQ2r"
   },
   "source": [
    "Вызовите `number_tracks()` шесть раз, меняя значение параметров — так, чтобы получить данные для каждого города в каждый из трёх дней."
   ]
  },
  {
   "cell_type": "code",
   "execution_count": 21,
   "metadata": {
    "id": "rJcRATNQ_Zcu"
   },
   "outputs": [
    {
     "name": "stdout",
     "output_type": "stream",
     "text": [
      "Количество прослушиваний в Москве по понедельникам: 15740\n"
     ]
    }
   ],
   "source": [
    "print('Количество прослушиваний в Москве по понедельникам:', number_tracks ('Moscow', 'Monday'))# количество прослушиваний в Москве по понедельникам"
   ]
  },
  {
   "cell_type": "code",
   "execution_count": 22,
   "metadata": {
    "id": "hq_ncZ5T_Zcu"
   },
   "outputs": [
    {
     "name": "stdout",
     "output_type": "stream",
     "text": [
      "Количество прослушиваний в Санкт-Петербурге по понедельникам: 5614\n"
     ]
    }
   ],
   "source": [
    "print('Количество прослушиваний в Санкт-Петербурге по понедельникам:', number_tracks ('Saint-Petersburg', 'Monday'))# количество прослушиваний в Санкт-Петербурге по понедельникам"
   ]
  },
  {
   "cell_type": "code",
   "execution_count": 23,
   "metadata": {
    "id": "_NTy2VPU_Zcu"
   },
   "outputs": [
    {
     "name": "stdout",
     "output_type": "stream",
     "text": [
      "Количество прослушиваний в Москве по средам: 11056\n"
     ]
    }
   ],
   "source": [
    "print('Количество прослушиваний в Москве по средам:', number_tracks ('Moscow', 'Wednesday'))# количество прослушиваний в Москве по средам"
   ]
  },
  {
   "cell_type": "code",
   "execution_count": 24,
   "metadata": {
    "id": "j2y3TAwo_Zcu"
   },
   "outputs": [
    {
     "name": "stdout",
     "output_type": "stream",
     "text": [
      "Количество прослушиваний в Санкт-Петербурге по средам: 7003\n"
     ]
    }
   ],
   "source": [
    "print('Количество прослушиваний в Санкт-Петербурге по средам:', number_tracks ('Saint-Petersburg', 'Wednesday'))# количество прослушиваний в Санкт-Петербурге по средам"
   ]
  },
  {
   "cell_type": "code",
   "execution_count": 25,
   "metadata": {
    "id": "vYDw5u_K_Zcu"
   },
   "outputs": [
    {
     "name": "stdout",
     "output_type": "stream",
     "text": [
      "Количество прослушиваний в Москве по пятницам: 15945\n"
     ]
    }
   ],
   "source": [
    "print('Количество прослушиваний в Москве по пятницам:', number_tracks ('Moscow', 'Friday'))# количество прослушиваний в Москве по пятницам"
   ]
  },
  {
   "cell_type": "code",
   "execution_count": 26,
   "metadata": {
    "id": "8_yzFtW3_Zcu"
   },
   "outputs": [
    {
     "name": "stdout",
     "output_type": "stream",
     "text": [
      "Количество прослушиваний в Санкт-Петербурге по пятницам: 5895\n"
     ]
    }
   ],
   "source": [
    "print('Количество прослушиваний в Санкт-Петербурге по пятницам:', number_tracks ('Saint-Petersburg', 'Friday'))# количество прослушиваний в Санкт-Петербурге по пятницам"
   ]
  },
  {
   "cell_type": "markdown",
   "metadata": {
    "id": "7QXffbO-_Zcu"
   },
   "source": [
    "Создайте c помощью конструктора `pd.DataFrame` таблицу, где\n",
    "* названия колонок — `['city', 'monday', 'wednesday', 'friday']`;\n",
    "* данные — результаты, которые вы получили с помощью `number_tracks`."
   ]
  },
  {
   "cell_type": "code",
   "execution_count": 27,
   "metadata": {
    "id": "APAcLpOr_Zcu"
   },
   "outputs": [
    {
     "data": {
      "text/html": [
       "<div>\n",
       "<style scoped>\n",
       "    .dataframe tbody tr th:only-of-type {\n",
       "        vertical-align: middle;\n",
       "    }\n",
       "\n",
       "    .dataframe tbody tr th {\n",
       "        vertical-align: top;\n",
       "    }\n",
       "\n",
       "    .dataframe thead th {\n",
       "        text-align: right;\n",
       "    }\n",
       "</style>\n",
       "<table border=\"1\" class=\"dataframe\">\n",
       "  <thead>\n",
       "    <tr style=\"text-align: right;\">\n",
       "      <th></th>\n",
       "      <th>city</th>\n",
       "      <th>monday</th>\n",
       "      <th>wednesday</th>\n",
       "      <th>friday</th>\n",
       "    </tr>\n",
       "  </thead>\n",
       "  <tbody>\n",
       "    <tr>\n",
       "      <th>0</th>\n",
       "      <td>Москва</td>\n",
       "      <td>15740</td>\n",
       "      <td>11056</td>\n",
       "      <td>15945</td>\n",
       "    </tr>\n",
       "    <tr>\n",
       "      <th>1</th>\n",
       "      <td>Санкт-Петербург</td>\n",
       "      <td>5614</td>\n",
       "      <td>7003</td>\n",
       "      <td>5895</td>\n",
       "    </tr>\n",
       "  </tbody>\n",
       "</table>\n",
       "</div>"
      ],
      "text/plain": [
       "              city  monday  wednesday  friday\n",
       "0           Москва   15740      11056   15945\n",
       "1  Санкт-Петербург    5614       7003    5895"
      ]
     },
     "metadata": {},
     "output_type": "display_data"
    }
   ],
   "source": [
    "# Таблица с результатами\n",
    "city_str = [\n",
    "    ['Москва', 15740, 11056, 15945],\n",
    "    ['Санкт-Петербург', 5614, 7003, 5895]\n",
    "]\n",
    "city_col = ['city', 'monday', 'wednesday', 'friday']\n",
    "city_music = pd.DataFrame(data=city_str , columns=city_col)\n",
    "display(city_music)"
   ]
  },
  {
   "cell_type": "markdown",
   "metadata": {
    "id": "-EgPIHYu_Zcu"
   },
   "source": [
    "**Выводы**\n",
    "\n",
    "Данные показывают разницу поведения пользователей:\n",
    "\n",
    "- В Москве пик прослушиваний приходится на понедельник и пятницу, а в среду заметен спад.\n",
    "- В Петербурге, наоборот, больше слушают музыку по средам. Активность в понедельник и пятницу здесь почти в равной мере уступает среде.\n",
    "\n",
    "Значит, данные говорят в пользу первой гипотезы."
   ]
  },
  {
   "cell_type": "markdown",
   "metadata": {
    "id": "atZAxtq4_Zcu"
   },
   "source": [
    "### Музыка в начале и в конце недели"
   ]
  },
  {
   "cell_type": "markdown",
   "metadata": {
    "id": "eXrQqXFH_Zcu"
   },
   "source": [
    "Согласно второй гипотезе, утром в понедельник в Москве преобладают одни жанры, а в Петербурге — другие. Так же и вечером пятницы преобладают разные жанры — в зависимости от города."
   ]
  },
  {
   "cell_type": "markdown",
   "metadata": {
    "id": "S8UcW6Hw_Zcu"
   },
   "source": [
    "Сохраните таблицы с данными в две переменные:\n",
    "* по Москве — в `moscow_general`;\n",
    "* по Санкт-Петербургу — в `spb_general`."
   ]
  },
  {
   "cell_type": "code",
   "execution_count": 28,
   "metadata": {
    "id": "qeaFfM_P_Zcu"
   },
   "outputs": [],
   "source": [
    "# получение таблицы moscow_general из тех строк таблицы df, \n",
    "# для которых значение в столбце 'city' равно 'Moscow'\n",
    "moscow_general = df[df['city'] == 'Moscow']"
   ]
  },
  {
   "cell_type": "code",
   "execution_count": 29,
   "metadata": {
    "id": "ORaVRKto_Zcu"
   },
   "outputs": [],
   "source": [
    "# получение таблицы spb_general из тех строк таблицы df,\n",
    "# для которых значение в столбце 'city' равно 'Saint-Petersburg'\n",
    "spb_general = df[df['city'] == 'Saint-Petersburg']"
   ]
  },
  {
   "cell_type": "markdown",
   "metadata": {
    "id": "MEJV-CX2_Zcu"
   },
   "source": [
    "Создайте функцию `genre_weekday()` с четырьмя параметрами:\n",
    "* таблица (датафрейм) с данными,\n",
    "* день недели,\n",
    "* начальная временная метка в формате 'hh:mm', \n",
    "* последняя временная метка в формате 'hh:mm'.\n",
    "\n",
    "Функция должна вернуть информацию о топ-10 жанров тех треков, которые прослушивали в указанный день, в промежутке между двумя отметками времени."
   ]
  },
  {
   "cell_type": "code",
   "execution_count": 30,
   "metadata": {
    "id": "laJT9BYl_Zcu"
   },
   "outputs": [],
   "source": [
    "def genre_weekday(table, day, time1, time2):\n",
    "    '''\n",
    "    Объявление функции genre_weekday() с параметрами table, day, time1, time2,\n",
    "    которая возвращает информацию о самых популярных жанрах в указанный день в\n",
    "    заданное время:\n",
    "    1) в переменную genre_df сохраняются те строки переданного датафрейма table, для\n",
    "    которых одновременно:\n",
    "    - значение в столбце day равно значению аргумента day\n",
    "    - значение в столбце time больше значения аргумента time1\n",
    "    - значение в столбце time меньше значения аргумента time2\n",
    "    Используйте последовательную фильтрацию с помощью логической индексации.\n",
    "    '''\n",
    "    genre_df = table[(table['day'] == day) & (table['time'] > time1) & (table['time'] < time2)]\n",
    "    '''\n",
    "    2) сгруппировать датафрейм genre_df по столбцу genre, взять один из его\n",
    "    столбцов и посчитать методом count() количество записей для каждого из\n",
    "    присутствующих жанров, получившийся Series записать в переменную\n",
    "    genre_df_count\n",
    "    '''\n",
    "    genre_df_count = genre_df.groupby('genre')['genre'].count()\n",
    "    '''\n",
    "    3) отсортировать genre_df_count по убыванию встречаемости и сохранить\n",
    "    в переменную genre_df_sorted\n",
    "    '''\n",
    "    genre_df_sorted = genre_df_count.sort_values(ascending=False)\n",
    "    '''\n",
    "    4) вернуть Series из 10 первых значений genre_df_sorted, это будут топ-10\n",
    "    популярных жанров (в указанный день, в заданное время)\n",
    "\n",
    "    '''\n",
    "    return genre_df_sorted.head(10)"
   ]
  },
  {
   "cell_type": "markdown",
   "metadata": {
    "id": "la2s2_PF_Zcu"
   },
   "source": [
    "Cравните результаты функции `genre_weekday()` для Москвы и Санкт-Петербурга в понедельник утром (с 7:00 до 11:00) и в пятницу вечером (с 17:00 до 23:00):"
   ]
  },
  {
   "cell_type": "code",
   "execution_count": 31,
   "metadata": {
    "id": "yz7itPUQ_Zcu"
   },
   "outputs": [
    {
     "data": {
      "text/plain": [
       "genre\n",
       "pop            781\n",
       "dance          549\n",
       "electronic     480\n",
       "rock           474\n",
       "hiphop         286\n",
       "ruspop         186\n",
       "world          181\n",
       "rusrap         175\n",
       "alternative    164\n",
       "unknown        161\n",
       "Name: genre, dtype: int64"
      ]
     },
     "metadata": {},
     "output_type": "display_data"
    }
   ],
   "source": [
    "# вызов функции для утра понедельника в Москве (вместо df — таблица moscow_general)\n",
    "# объекты, хранящие время, являются строками и сравниваются как строки\n",
    "# пример вызова: genre_weekday(moscow_general, 'Monday', '07:00', '11:00')\n",
    "display(genre_weekday(moscow_general, 'Monday', '07:00', '11:00'))"
   ]
  },
  {
   "cell_type": "code",
   "execution_count": 32,
   "metadata": {
    "id": "kwUcHPdy_Zcu"
   },
   "outputs": [
    {
     "data": {
      "text/plain": [
       "genre\n",
       "pop            218\n",
       "dance          182\n",
       "rock           162\n",
       "electronic     147\n",
       "hiphop          80\n",
       "ruspop          64\n",
       "alternative     58\n",
       "rusrap          55\n",
       "jazz            44\n",
       "classical       40\n",
       "Name: genre, dtype: int64"
      ]
     },
     "metadata": {},
     "output_type": "display_data"
    }
   ],
   "source": [
    "# вызов функции для утра понедельника в Петербурге (вместо df — таблица spb_general)\n",
    "display(genre_weekday(spb_general, 'Monday', '07:00', '11:00'))"
   ]
  },
  {
   "cell_type": "code",
   "execution_count": 33,
   "metadata": {
    "id": "EzXVRE1o_Zcu"
   },
   "outputs": [
    {
     "data": {
      "text/plain": [
       "genre\n",
       "pop            713\n",
       "rock           517\n",
       "dance          495\n",
       "electronic     482\n",
       "hiphop         273\n",
       "world          208\n",
       "ruspop         170\n",
       "alternative    163\n",
       "classical      163\n",
       "rusrap         142\n",
       "Name: genre, dtype: int64"
      ]
     },
     "metadata": {},
     "output_type": "display_data"
    }
   ],
   "source": [
    "# вызов функции для вечера пятницы в Москве\n",
    "display(genre_weekday(moscow_general, 'Friday', '17:00', '23:00'))"
   ]
  },
  {
   "cell_type": "code",
   "execution_count": 34,
   "metadata": {
    "id": "JZaEKu5v_Zcu"
   },
   "outputs": [
    {
     "data": {
      "text/plain": [
       "genre\n",
       "pop            256\n",
       "electronic     216\n",
       "rock           216\n",
       "dance          210\n",
       "hiphop          97\n",
       "alternative     63\n",
       "jazz            61\n",
       "classical       60\n",
       "rusrap          59\n",
       "world           54\n",
       "Name: genre, dtype: int64"
      ]
     },
     "metadata": {},
     "output_type": "display_data"
    }
   ],
   "source": [
    "# вызов функции для вечера пятницы в Петербурге\n",
    "display(genre_weekday(spb_general, 'Friday', '17:00', '23:00'))"
   ]
  },
  {
   "cell_type": "markdown",
   "metadata": {
    "id": "wrCe4MNX_Zcu"
   },
   "source": [
    "**Выводы**\n",
    "\n",
    "Если сравнить топ-10 жанров в понедельник утром, можно сделать такие выводы:\n",
    "\n",
    "1. В Москве и Петербурге слушают похожую музыку. Единственное отличие — в московский рейтинг вошёл жанр “world”, а в петербургский — джаз и классика.\n",
    "\n",
    "2. В Москве пропущенных значений оказалось так много, что значение `'unknown'` заняло десятое место среди самых популярных жанров. Значит, пропущенные значения занимают существенную долю в данных и угрожают достоверности исследования.\n",
    "\n",
    "Вечер пятницы не меняет эту картину. Некоторые жанры поднимаются немного выше, другие спускаются, но в целом топ-10 остаётся тем же самым.\n",
    "\n",
    "Таким образом, вторая гипотеза подтвердилась лишь частично:\n",
    "* Пользователи слушают похожую музыку в начале недели и в конце.\n",
    "* Разница между Москвой и Петербургом не слишком выражена. В Москве чаще слушают русскую популярную музыку, в Петербурге — джаз.\n",
    "\n",
    "Однако пропуски в данных ставят под сомнение этот результат. В Москве их так много, что рейтинг топ-10 мог бы выглядеть иначе, если бы не утерянные  данные о жанрах."
   ]
  },
  {
   "cell_type": "markdown",
   "metadata": {
    "id": "JolODAqr_Zcu"
   },
   "source": [
    "### Жанровые предпочтения в Москве и Петербурге\n",
    "\n",
    "Гипотеза: Петербург — столица рэпа, музыку этого жанра там слушают чаще, чем в Москве.  А Москва — город контрастов, в котором, тем не менее, преобладает поп-музыка."
   ]
  },
  {
   "cell_type": "markdown",
   "metadata": {
    "id": "DlegSvaT_Zcu"
   },
   "source": [
    "Сгруппируйте таблицу `moscow_general` по жанру и посчитайте прослушивания треков каждого жанра методом `count()`. Затем отсортируйте результат в порядке убывания и сохраните его в таблице `moscow_genres`."
   ]
  },
  {
   "cell_type": "code",
   "execution_count": 35,
   "metadata": {
    "id": "r19lIPke_Zcu"
   },
   "outputs": [],
   "source": [
    "# одной строкой: группировка таблицы moscow_general по столбцу 'genre', \n",
    "# подсчёт числа значений 'genre' в этой группировке методом count(), \n",
    "# сортировка получившегося Series в порядке убывания и сохранение в moscow_genres\n",
    "moscow_genres = moscow_general.groupby('genre')['genre'].count().sort_values(ascending=False)"
   ]
  },
  {
   "cell_type": "markdown",
   "metadata": {
    "id": "6kMuomxTiIr8"
   },
   "source": [
    "Выведите на экран первые десять строк `moscow_genres`:"
   ]
  },
  {
   "cell_type": "code",
   "execution_count": 36,
   "metadata": {
    "id": "WhCSooF8_Zcv"
   },
   "outputs": [
    {
     "data": {
      "text/plain": [
       "genre\n",
       "pop            5892\n",
       "dance          4435\n",
       "rock           3965\n",
       "electronic     3786\n",
       "hiphop         2096\n",
       "classical      1616\n",
       "world          1432\n",
       "alternative    1379\n",
       "ruspop         1372\n",
       "rusrap         1161\n",
       "Name: genre, dtype: int64"
      ]
     },
     "metadata": {},
     "output_type": "display_data"
    }
   ],
   "source": [
    "# просмотр первых 10 строк moscow_genres\n",
    "display(moscow_genres[:10])"
   ]
  },
  {
   "cell_type": "markdown",
   "metadata": {
    "id": "cnPG2vnN_Zcv"
   },
   "source": [
    "Теперь повторите то же и для Петербурга.\n",
    "\n",
    "Сгруппируйте таблицу `spb_general` по жанру. Посчитайте прослушивания треков каждого жанра. Результат отсортируйте в порядке убывания и сохраните в таблице `spb_genres`:\n"
   ]
  },
  {
   "cell_type": "code",
   "execution_count": 37,
   "metadata": {
    "id": "gluLIpE7_Zcv"
   },
   "outputs": [],
   "source": [
    "# одной строкой: группировка таблицы spb_general по столбцу 'genre', \n",
    "# подсчёт числа значений 'genre' в этой группировке методом count(), \n",
    "# сортировка получившегося Series в порядке убывания и сохранение в spb_genres\n",
    "spb_genres = spb_general.groupby('genre')['genre'].count().sort_values(ascending=False)"
   ]
  },
  {
   "cell_type": "markdown",
   "metadata": {
    "id": "5Doha_ODgyQ8"
   },
   "source": [
    "Выведите на экран первые десять строк `spb_genres`:"
   ]
  },
  {
   "cell_type": "code",
   "execution_count": 38,
   "metadata": {
    "id": "uaGJHjVU_Zcv"
   },
   "outputs": [
    {
     "data": {
      "text/plain": [
       "genre\n",
       "pop            2431\n",
       "dance          1932\n",
       "rock           1879\n",
       "electronic     1736\n",
       "hiphop          960\n",
       "alternative     649\n",
       "classical       646\n",
       "rusrap          564\n",
       "ruspop          538\n",
       "world           515\n",
       "Name: genre, dtype: int64"
      ]
     },
     "metadata": {},
     "output_type": "display_data"
    }
   ],
   "source": [
    "# просмотр первых 10 строк spb_genres\n",
    "display(spb_genres[:10])"
   ]
  },
  {
   "cell_type": "markdown",
   "metadata": {
    "id": "RY51YJYu_Zcv"
   },
   "source": [
    "**Выводы**"
   ]
  },
  {
   "cell_type": "markdown",
   "metadata": {
    "id": "nVhnJEm__Zcv"
   },
   "source": [
    "Гипотеза частично подтвердилась:\n",
    "* Поп-музыка — самый популярный жанр в Москве, как и предполагала гипотеза. Более того, в топ-10 жанров встречается близкий жанр — русская популярная музыка.\n",
    "* Вопреки ожиданиям, рэп одинаково популярен в Москве и Петербурге. \n"
   ]
  },
  {
   "cell_type": "markdown",
   "metadata": {
    "id": "ykKQ0N65_Zcv"
   },
   "source": [
    "## Итоги исследования"
   ]
  },
  {
   "cell_type": "markdown",
   "metadata": {
    "id": "tjUwbHb3_Zcv"
   },
   "source": [
    "Вы проверили три гипотезы и установили:\n",
    "\n",
    "1. День недели по-разному влияет на активность пользователей в Москве и Петербурге. \n",
    "\n",
    "Первая гипотеза полностью подтвердилась.\n",
    "\n",
    "2. Музыкальные предпочтения не сильно меняются в течение недели — будь то Москва или Петербург. Небольшие различия заметны в начале недели, по понедельникам:\n",
    "* в Москве слушают музыку жанра “world”,\n",
    "* в Петербурге — джаз и классику.\n",
    "\n",
    "Таким образом, вторая гипотеза подтвердилась лишь отчасти. Этот результат мог оказаться иным, если бы не пропуски в данных.\n",
    "\n",
    "3. Во вкусах пользователей Москвы и Петербурга больше общего чем различий. Вопреки ожиданиям, предпочтения жанров в Петербурге напоминают московские.\n",
    "\n",
    "Третья гипотеза не подтвердилась. Если различия в предпочтениях и существуют, на основной массе пользователей они незаметны.\n",
    "\n",
    "**На практике исследования содержат проверки статистических гипотез.**\n",
    "Из данных одного сервиса не всегда можно сделать вывод о всех жителях города.\n",
    "Проверки статистических гипотез покажут, насколько они достоверны, исходя из имеющихся данных. \n",
    "С методами проверок гипотез вы ещё познакомитесь в следующих темах."
   ]
  }
 ],
 "metadata": {
  "ExecuteTimeLog": [
   {
    "duration": 1462,
    "start_time": "2021-11-29T11:56:26.634Z"
   },
   {
    "duration": 804,
    "start_time": "2021-11-29T11:56:46.377Z"
   },
   {
    "duration": 186,
    "start_time": "2021-11-29T11:56:49.701Z"
   },
   {
    "duration": 25,
    "start_time": "2021-11-29T11:56:52.952Z"
   },
   {
    "duration": 37,
    "start_time": "2021-11-29T11:58:15.794Z"
   },
   {
    "duration": 5,
    "start_time": "2021-11-29T12:22:16.118Z"
   },
   {
    "duration": 5,
    "start_time": "2021-11-29T12:24:31.627Z"
   },
   {
    "duration": 31,
    "start_time": "2021-11-29T12:26:58.813Z"
   },
   {
    "duration": 5,
    "start_time": "2021-11-29T12:27:02.821Z"
   },
   {
    "duration": 34,
    "start_time": "2021-11-29T12:28:55.478Z"
   },
   {
    "duration": 23,
    "start_time": "2021-11-29T12:35:19.757Z"
   },
   {
    "duration": 30,
    "start_time": "2021-11-29T12:35:32.182Z"
   },
   {
    "duration": 123,
    "start_time": "2021-11-29T12:37:16.896Z"
   },
   {
    "duration": 88,
    "start_time": "2021-11-29T12:37:31.803Z"
   },
   {
    "duration": 89,
    "start_time": "2021-11-29T12:37:35.544Z"
   },
   {
    "duration": 59,
    "start_time": "2021-11-29T12:50:35.418Z"
   },
   {
    "duration": 58,
    "start_time": "2021-11-29T12:53:19.649Z"
   },
   {
    "duration": 461,
    "start_time": "2021-11-29T12:53:54.326Z"
   },
   {
    "duration": 354,
    "start_time": "2021-11-29T12:54:06.872Z"
   },
   {
    "duration": 8,
    "start_time": "2021-11-29T12:54:38.845Z"
   },
   {
    "duration": 5,
    "start_time": "2021-11-29T12:55:28.394Z"
   },
   {
    "duration": 6,
    "start_time": "2021-11-29T12:55:44.441Z"
   },
   {
    "duration": 30,
    "start_time": "2021-11-29T12:55:54.931Z"
   },
   {
    "duration": 30,
    "start_time": "2021-11-29T12:56:06.545Z"
   },
   {
    "duration": 89,
    "start_time": "2021-11-29T12:56:15.466Z"
   },
   {
    "duration": 88,
    "start_time": "2021-11-29T12:56:24.258Z"
   },
   {
    "duration": 14,
    "start_time": "2021-11-29T12:56:31.283Z"
   },
   {
    "duration": 4,
    "start_time": "2021-11-29T13:04:29.678Z"
   },
   {
    "duration": 351,
    "start_time": "2021-11-29T13:04:32.864Z"
   },
   {
    "duration": 778,
    "start_time": "2021-11-29T13:04:52.291Z"
   },
   {
    "duration": 856,
    "start_time": "2021-11-29T13:23:02.232Z"
   },
   {
    "duration": 207,
    "start_time": "2021-11-29T13:23:04.727Z"
   },
   {
    "duration": 29,
    "start_time": "2021-11-29T13:23:15.293Z"
   },
   {
    "duration": 32,
    "start_time": "2021-11-29T13:23:22.462Z"
   },
   {
    "duration": 5,
    "start_time": "2021-11-29T13:23:29.755Z"
   },
   {
    "duration": 30,
    "start_time": "2021-11-29T13:23:35.193Z"
   },
   {
    "duration": 6,
    "start_time": "2021-11-29T13:23:37.668Z"
   },
   {
    "duration": 32,
    "start_time": "2021-11-29T13:23:41.140Z"
   },
   {
    "duration": 24,
    "start_time": "2021-11-29T13:23:48.594Z"
   },
   {
    "duration": 31,
    "start_time": "2021-11-29T13:23:51.021Z"
   },
   {
    "duration": 106,
    "start_time": "2021-11-29T13:29:40.239Z"
   },
   {
    "duration": 82,
    "start_time": "2021-11-29T13:29:43.641Z"
   },
   {
    "duration": 18,
    "start_time": "2021-11-29T13:29:50.356Z"
   },
   {
    "duration": 5,
    "start_time": "2021-11-29T13:31:19.625Z"
   },
   {
    "duration": 830,
    "start_time": "2021-11-29T13:31:22.272Z"
   },
   {
    "duration": 4,
    "start_time": "2021-11-29T13:32:34.774Z"
   },
   {
    "duration": 914,
    "start_time": "2021-11-29T13:32:37.616Z"
   },
   {
    "duration": 4,
    "start_time": "2021-11-29T13:33:34.763Z"
   },
   {
    "duration": 912,
    "start_time": "2021-11-29T13:33:36.060Z"
   },
   {
    "duration": 4,
    "start_time": "2021-11-29T13:39:28.927Z"
   },
   {
    "duration": 853,
    "start_time": "2021-11-29T13:39:31.621Z"
   },
   {
    "duration": 5,
    "start_time": "2021-11-29T13:41:34.122Z"
   },
   {
    "duration": 759,
    "start_time": "2021-11-29T13:41:36.355Z"
   },
   {
    "duration": 14,
    "start_time": "2021-11-29T13:43:57.068Z"
   },
   {
    "duration": 16,
    "start_time": "2021-11-29T13:44:23.721Z"
   },
   {
    "duration": 19,
    "start_time": "2021-11-29T14:18:52.525Z"
   },
   {
    "duration": 6,
    "start_time": "2021-11-29T14:18:55.852Z"
   },
   {
    "duration": 20,
    "start_time": "2021-11-29T14:19:09.942Z"
   },
   {
    "duration": 7,
    "start_time": "2021-11-29T14:19:12.815Z"
   },
   {
    "duration": 4,
    "start_time": "2021-11-29T14:19:21.910Z"
   },
   {
    "duration": 231,
    "start_time": "2021-11-29T14:19:24.450Z"
   },
   {
    "duration": 15,
    "start_time": "2021-11-29T14:19:37.289Z"
   },
   {
    "duration": 32,
    "start_time": "2021-11-29T14:19:41.073Z"
   },
   {
    "duration": 5,
    "start_time": "2021-11-29T14:19:48.543Z"
   },
   {
    "duration": 17,
    "start_time": "2021-11-29T14:19:53.695Z"
   },
   {
    "duration": 6,
    "start_time": "2021-11-29T14:19:55.948Z"
   },
   {
    "duration": 46,
    "start_time": "2021-11-29T14:19:59.657Z"
   },
   {
    "duration": 33,
    "start_time": "2021-11-29T14:20:02.813Z"
   },
   {
    "duration": 48,
    "start_time": "2021-11-29T14:20:04.359Z"
   },
   {
    "duration": 115,
    "start_time": "2021-11-29T14:20:14.741Z"
   },
   {
    "duration": 99,
    "start_time": "2021-11-29T14:20:16.871Z"
   },
   {
    "duration": 86,
    "start_time": "2021-11-29T14:20:18.387Z"
   },
   {
    "duration": 15,
    "start_time": "2021-11-29T14:20:20.824Z"
   },
   {
    "duration": 4,
    "start_time": "2021-11-29T14:20:23.941Z"
   },
   {
    "duration": 14,
    "start_time": "2021-11-29T14:20:24.830Z"
   },
   {
    "duration": 15,
    "start_time": "2021-11-29T14:20:27.399Z"
   },
   {
    "duration": 30,
    "start_time": "2021-11-29T14:24:13.447Z"
   },
   {
    "duration": 30,
    "start_time": "2021-11-29T14:28:03.855Z"
   },
   {
    "duration": 376,
    "start_time": "2021-11-29T14:28:05.497Z"
   },
   {
    "duration": 898,
    "start_time": "2021-11-29T14:28:30.987Z"
   },
   {
    "duration": 430,
    "start_time": "2021-11-29T14:29:57.690Z"
   },
   {
    "duration": 386,
    "start_time": "2021-11-29T14:30:22.026Z"
   },
   {
    "duration": 366,
    "start_time": "2021-11-29T14:31:05.913Z"
   },
   {
    "duration": 72,
    "start_time": "2021-11-29T14:32:15.927Z"
   },
   {
    "duration": 49,
    "start_time": "2021-11-29T14:38:25.594Z"
   },
   {
    "duration": 623,
    "start_time": "2021-11-29T14:46:32.706Z"
   },
   {
    "duration": 1685,
    "start_time": "2021-11-29T14:48:25.533Z"
   },
   {
    "duration": 1765,
    "start_time": "2021-11-29T14:48:31.162Z"
   },
   {
    "duration": 113,
    "start_time": "2021-11-29T14:49:02.106Z"
   },
   {
    "duration": 140,
    "start_time": "2021-11-29T14:51:17.734Z"
   },
   {
    "duration": 139,
    "start_time": "2021-11-29T14:52:15.705Z"
   },
   {
    "duration": 122,
    "start_time": "2021-11-29T14:52:24.524Z"
   },
   {
    "duration": 124,
    "start_time": "2021-11-29T14:53:08.487Z"
   },
   {
    "duration": 145,
    "start_time": "2021-11-29T14:53:26.429Z"
   },
   {
    "duration": 125,
    "start_time": "2021-11-29T14:56:01.629Z"
   },
   {
    "duration": 665,
    "start_time": "2021-11-29T15:01:18.694Z"
   },
   {
    "duration": 224,
    "start_time": "2021-11-29T15:01:58.986Z"
   },
   {
    "duration": 100,
    "start_time": "2021-11-29T15:02:30.080Z"
   },
   {
    "duration": 38,
    "start_time": "2021-11-30T06:31:05.652Z"
   },
   {
    "duration": 49,
    "start_time": "2021-11-30T06:31:52.796Z"
   },
   {
    "duration": 918,
    "start_time": "2021-11-30T06:32:22.402Z"
   },
   {
    "duration": 214,
    "start_time": "2021-11-30T06:32:25.671Z"
   },
   {
    "duration": 25,
    "start_time": "2021-11-30T06:32:29.232Z"
   },
   {
    "duration": 39,
    "start_time": "2021-11-30T06:32:34.343Z"
   },
   {
    "duration": 5,
    "start_time": "2021-11-30T06:32:45.757Z"
   },
   {
    "duration": 33,
    "start_time": "2021-11-30T06:32:52.012Z"
   },
   {
    "duration": 5,
    "start_time": "2021-11-30T06:32:55.441Z"
   },
   {
    "duration": 32,
    "start_time": "2021-11-30T06:32:59.167Z"
   },
   {
    "duration": 24,
    "start_time": "2021-11-30T06:33:14.547Z"
   },
   {
    "duration": 33,
    "start_time": "2021-11-30T06:33:17.567Z"
   },
   {
    "duration": 92,
    "start_time": "2021-11-30T06:33:21.175Z"
   },
   {
    "duration": 118,
    "start_time": "2021-11-30T06:33:30.151Z"
   },
   {
    "duration": 203,
    "start_time": "2021-11-30T06:33:33.308Z"
   },
   {
    "duration": 13,
    "start_time": "2021-11-30T06:33:37.235Z"
   },
   {
    "duration": 5,
    "start_time": "2021-11-30T06:33:46.766Z"
   },
   {
    "duration": 14,
    "start_time": "2021-11-30T06:33:49.639Z"
   },
   {
    "duration": 15,
    "start_time": "2021-11-30T06:33:53.662Z"
   },
   {
    "duration": 44,
    "start_time": "2021-11-30T06:34:07.301Z"
   },
   {
    "duration": 45,
    "start_time": "2021-11-30T06:34:25.333Z"
   },
   {
    "duration": 90,
    "start_time": "2021-11-30T06:42:15.142Z"
   },
   {
    "duration": 92,
    "start_time": "2021-11-30T06:42:34.297Z"
   },
   {
    "duration": 88,
    "start_time": "2021-11-30T06:43:11.286Z"
   },
   {
    "duration": 35,
    "start_time": "2021-11-30T06:44:40.610Z"
   },
   {
    "duration": 41,
    "start_time": "2021-11-30T06:46:33.072Z"
   },
   {
    "duration": 5,
    "start_time": "2021-11-30T06:58:35.186Z"
   },
   {
    "duration": 469,
    "start_time": "2021-11-30T07:00:06.729Z"
   },
   {
    "duration": 14,
    "start_time": "2021-11-30T07:00:35.750Z"
   },
   {
    "duration": 5,
    "start_time": "2021-11-30T07:02:20.732Z"
   },
   {
    "duration": 21,
    "start_time": "2021-11-30T07:02:24.443Z"
   },
   {
    "duration": 27,
    "start_time": "2021-11-30T07:03:17.033Z"
   },
   {
    "duration": 23,
    "start_time": "2021-11-30T07:04:05.306Z"
   },
   {
    "duration": 17,
    "start_time": "2021-11-30T07:06:18.611Z"
   },
   {
    "duration": 28,
    "start_time": "2021-11-30T07:06:22.294Z"
   },
   {
    "duration": 15,
    "start_time": "2021-11-30T07:06:25.056Z"
   },
   {
    "duration": 19,
    "start_time": "2021-11-30T07:06:29.683Z"
   },
   {
    "duration": 15,
    "start_time": "2021-11-30T07:17:21.624Z"
   },
   {
    "duration": 31,
    "start_time": "2021-11-30T08:00:46.750Z"
   },
   {
    "duration": 25,
    "start_time": "2021-11-30T08:01:02.954Z"
   },
   {
    "duration": 14,
    "start_time": "2021-11-30T08:01:05.118Z"
   },
   {
    "duration": 6,
    "start_time": "2021-11-30T08:16:01.473Z"
   },
   {
    "duration": 896,
    "start_time": "2021-11-30T08:17:09.249Z"
   },
   {
    "duration": 2119,
    "start_time": "2021-11-30T08:20:10.309Z"
   },
   {
    "duration": 5,
    "start_time": "2021-11-30T08:20:18.563Z"
   },
   {
    "duration": 3234,
    "start_time": "2021-11-30T08:20:19.610Z"
   },
   {
    "duration": 6,
    "start_time": "2021-11-30T08:23:09.378Z"
   },
   {
    "duration": 886,
    "start_time": "2021-11-30T08:23:11.933Z"
   },
   {
    "duration": 6,
    "start_time": "2021-11-30T08:23:34.949Z"
   },
   {
    "duration": 742,
    "start_time": "2021-11-30T08:23:36.320Z"
   },
   {
    "duration": 10,
    "start_time": "2021-11-30T08:24:34.103Z"
   },
   {
    "duration": 811,
    "start_time": "2021-11-30T08:24:36.324Z"
   },
   {
    "duration": 4,
    "start_time": "2021-11-30T08:26:29.015Z"
   },
   {
    "duration": 30,
    "start_time": "2021-11-30T08:26:32.094Z"
   },
   {
    "duration": 5,
    "start_time": "2021-11-30T08:26:57.641Z"
   },
   {
    "duration": 43,
    "start_time": "2021-11-30T08:27:02.482Z"
   },
   {
    "duration": 5,
    "start_time": "2021-11-30T08:28:21.069Z"
   },
   {
    "duration": 75,
    "start_time": "2021-11-30T08:28:24.341Z"
   },
   {
    "duration": 5,
    "start_time": "2021-11-30T08:28:46.211Z"
   },
   {
    "duration": 50,
    "start_time": "2021-11-30T08:28:47.409Z"
   },
   {
    "duration": 6,
    "start_time": "2021-11-30T08:29:13.444Z"
   },
   {
    "duration": 49,
    "start_time": "2021-11-30T08:29:16.666Z"
   },
   {
    "duration": 6,
    "start_time": "2021-11-30T08:32:59.015Z"
   },
   {
    "duration": 50,
    "start_time": "2021-11-30T08:33:03.466Z"
   },
   {
    "duration": 8,
    "start_time": "2021-11-30T08:33:48.404Z"
   },
   {
    "duration": 1309,
    "start_time": "2021-11-30T08:33:50.611Z"
   },
   {
    "duration": 5,
    "start_time": "2021-11-30T08:35:33.068Z"
   },
   {
    "duration": 49,
    "start_time": "2021-11-30T08:35:36.375Z"
   },
   {
    "duration": 5,
    "start_time": "2021-11-30T08:35:51.511Z"
   },
   {
    "duration": 35,
    "start_time": "2021-11-30T08:35:54.202Z"
   },
   {
    "duration": 8,
    "start_time": "2021-11-30T08:36:15.666Z"
   },
   {
    "duration": 55,
    "start_time": "2021-11-30T08:36:18.227Z"
   },
   {
    "duration": 7,
    "start_time": "2021-11-30T08:37:10.248Z"
   },
   {
    "duration": 54,
    "start_time": "2021-11-30T08:37:12.606Z"
   },
   {
    "duration": 6,
    "start_time": "2021-11-30T08:40:11.245Z"
   },
   {
    "duration": 41,
    "start_time": "2021-11-30T08:40:14.075Z"
   },
   {
    "duration": 6,
    "start_time": "2021-11-30T08:41:21.501Z"
   },
   {
    "duration": 51,
    "start_time": "2021-11-30T08:41:23.813Z"
   },
   {
    "duration": 6,
    "start_time": "2021-11-30T08:41:55.144Z"
   },
   {
    "duration": 775,
    "start_time": "2021-11-30T08:41:57.142Z"
   },
   {
    "duration": 7,
    "start_time": "2021-11-30T08:42:07.454Z"
   },
   {
    "duration": 44,
    "start_time": "2021-11-30T08:42:09.938Z"
   },
   {
    "duration": 28,
    "start_time": "2021-11-30T08:43:31.095Z"
   },
   {
    "duration": 45,
    "start_time": "2021-11-30T08:44:08.525Z"
   },
   {
    "duration": 51,
    "start_time": "2021-11-30T08:45:14.804Z"
   },
   {
    "duration": 30,
    "start_time": "2021-11-30T08:45:19.886Z"
   },
   {
    "duration": 785,
    "start_time": "2021-11-30T08:47:31.443Z"
   },
   {
    "duration": 202,
    "start_time": "2021-11-30T08:47:37.985Z"
   },
   {
    "duration": 25,
    "start_time": "2021-11-30T08:47:43.671Z"
   },
   {
    "duration": 37,
    "start_time": "2021-11-30T08:47:54.166Z"
   },
   {
    "duration": 5,
    "start_time": "2021-11-30T08:48:15.654Z"
   },
   {
    "duration": 35,
    "start_time": "2021-11-30T08:48:20.108Z"
   },
   {
    "duration": 7,
    "start_time": "2021-11-30T08:48:23.101Z"
   },
   {
    "duration": 46,
    "start_time": "2021-11-30T08:48:27.488Z"
   },
   {
    "duration": 34,
    "start_time": "2021-11-30T08:48:36.992Z"
   },
   {
    "duration": 53,
    "start_time": "2021-11-30T08:48:41.198Z"
   },
   {
    "duration": 107,
    "start_time": "2021-11-30T08:48:45.969Z"
   },
   {
    "duration": 116,
    "start_time": "2021-11-30T08:49:06.237Z"
   },
   {
    "duration": 101,
    "start_time": "2021-11-30T08:49:18.443Z"
   },
   {
    "duration": 20,
    "start_time": "2021-11-30T08:49:24.303Z"
   },
   {
    "duration": 4,
    "start_time": "2021-11-30T08:49:30.733Z"
   },
   {
    "duration": 18,
    "start_time": "2021-11-30T08:49:33.293Z"
   },
   {
    "duration": 14,
    "start_time": "2021-11-30T08:49:36.058Z"
   },
   {
    "duration": 44,
    "start_time": "2021-11-30T08:49:43.914Z"
   },
   {
    "duration": 41,
    "start_time": "2021-11-30T08:49:53.647Z"
   },
   {
    "duration": 5,
    "start_time": "2021-11-30T08:50:05.949Z"
   },
   {
    "duration": 30,
    "start_time": "2021-11-30T08:50:09.688Z"
   },
   {
    "duration": 17,
    "start_time": "2021-11-30T08:50:13.050Z"
   },
   {
    "duration": 23,
    "start_time": "2021-11-30T08:50:16.514Z"
   },
   {
    "duration": 18,
    "start_time": "2021-11-30T08:50:19.958Z"
   },
   {
    "duration": 26,
    "start_time": "2021-11-30T08:50:22.419Z"
   },
   {
    "duration": 18,
    "start_time": "2021-11-30T08:50:24.764Z"
   },
   {
    "duration": 12,
    "start_time": "2021-11-30T08:50:29.767Z"
   },
   {
    "duration": 15,
    "start_time": "2021-11-30T08:50:41.061Z"
   },
   {
    "duration": 13,
    "start_time": "2021-11-30T08:50:43.319Z"
   },
   {
    "duration": 6,
    "start_time": "2021-11-30T08:50:49.194Z"
   },
   {
    "duration": 61,
    "start_time": "2021-11-30T08:50:52.705Z"
   },
   {
    "duration": 34,
    "start_time": "2021-11-30T08:51:02.014Z"
   },
   {
    "duration": 65,
    "start_time": "2021-11-30T08:51:06.703Z"
   },
   {
    "duration": 35,
    "start_time": "2021-11-30T08:51:12.845Z"
   },
   {
    "duration": 8,
    "start_time": "2021-11-30T09:11:41.931Z"
   },
   {
    "duration": 42,
    "start_time": "2021-11-30T09:11:44.179Z"
   },
   {
    "duration": 8,
    "start_time": "2021-11-30T09:12:15.216Z"
   },
   {
    "duration": 66,
    "start_time": "2021-11-30T09:12:17.979Z"
   },
   {
    "duration": 8,
    "start_time": "2021-11-30T09:12:40.594Z"
   },
   {
    "duration": 39,
    "start_time": "2021-11-30T09:12:43.419Z"
   },
   {
    "duration": 5,
    "start_time": "2021-11-30T09:12:51.690Z"
   },
   {
    "duration": 40,
    "start_time": "2021-11-30T09:12:53.685Z"
   },
   {
    "duration": 9,
    "start_time": "2021-11-30T09:16:31.327Z"
   },
   {
    "duration": 47,
    "start_time": "2021-11-30T09:16:34.359Z"
   },
   {
    "duration": 7,
    "start_time": "2021-11-30T09:17:56.165Z"
   },
   {
    "duration": 47,
    "start_time": "2021-11-30T09:17:58.346Z"
   },
   {
    "duration": 8,
    "start_time": "2021-11-30T09:19:29.314Z"
   },
   {
    "duration": 47,
    "start_time": "2021-11-30T09:19:32.133Z"
   },
   {
    "duration": 7,
    "start_time": "2021-11-30T09:21:04.726Z"
   },
   {
    "duration": 1411,
    "start_time": "2021-11-30T09:21:06.796Z"
   },
   {
    "duration": 7,
    "start_time": "2021-11-30T09:21:51.335Z"
   },
   {
    "duration": 1252,
    "start_time": "2021-11-30T09:21:52.310Z"
   },
   {
    "duration": 9,
    "start_time": "2021-11-30T09:22:25.440Z"
   },
   {
    "duration": 75,
    "start_time": "2021-11-30T09:22:26.589Z"
   },
   {
    "duration": 6,
    "start_time": "2021-11-30T09:59:11.445Z"
   },
   {
    "duration": 42,
    "start_time": "2021-11-30T09:59:13.896Z"
   },
   {
    "duration": 7,
    "start_time": "2021-11-30T09:59:50.121Z"
   },
   {
    "duration": 805,
    "start_time": "2021-11-30T09:59:53.217Z"
   },
   {
    "duration": 7,
    "start_time": "2021-11-30T10:00:04.595Z"
   },
   {
    "duration": 40,
    "start_time": "2021-11-30T10:00:05.771Z"
   },
   {
    "duration": 809,
    "start_time": "2021-11-30T10:01:36.654Z"
   },
   {
    "duration": 208,
    "start_time": "2021-11-30T10:01:39.425Z"
   },
   {
    "duration": 27,
    "start_time": "2021-11-30T10:01:41.975Z"
   },
   {
    "duration": 33,
    "start_time": "2021-11-30T10:01:45.554Z"
   },
   {
    "duration": 5,
    "start_time": "2021-11-30T10:01:50.424Z"
   },
   {
    "duration": 35,
    "start_time": "2021-11-30T10:01:54.137Z"
   },
   {
    "duration": 7,
    "start_time": "2021-11-30T10:01:57.117Z"
   },
   {
    "duration": 47,
    "start_time": "2021-11-30T10:01:59.891Z"
   },
   {
    "duration": 25,
    "start_time": "2021-11-30T10:02:03.663Z"
   },
   {
    "duration": 31,
    "start_time": "2021-11-30T10:02:25.754Z"
   },
   {
    "duration": 97,
    "start_time": "2021-11-30T10:02:29.106Z"
   },
   {
    "duration": 120,
    "start_time": "2021-11-30T10:02:32.810Z"
   },
   {
    "duration": 95,
    "start_time": "2021-11-30T10:02:35.034Z"
   },
   {
    "duration": 14,
    "start_time": "2021-11-30T10:02:38.451Z"
   },
   {
    "duration": 4,
    "start_time": "2021-11-30T10:02:52.938Z"
   },
   {
    "duration": 15,
    "start_time": "2021-11-30T10:02:55.178Z"
   },
   {
    "duration": 27,
    "start_time": "2021-11-30T10:02:59.087Z"
   },
   {
    "duration": 42,
    "start_time": "2021-11-30T10:03:03.896Z"
   },
   {
    "duration": 41,
    "start_time": "2021-11-30T10:03:09.036Z"
   },
   {
    "duration": 5,
    "start_time": "2021-11-30T10:03:17.036Z"
   },
   {
    "duration": 22,
    "start_time": "2021-11-30T10:03:25.442Z"
   },
   {
    "duration": 19,
    "start_time": "2021-11-30T10:03:28.179Z"
   },
   {
    "duration": 21,
    "start_time": "2021-11-30T10:03:30.983Z"
   },
   {
    "duration": 21,
    "start_time": "2021-11-30T10:03:35.627Z"
   },
   {
    "duration": 29,
    "start_time": "2021-11-30T10:03:38.690Z"
   },
   {
    "duration": 19,
    "start_time": "2021-11-30T10:03:41.126Z"
   },
   {
    "duration": 20,
    "start_time": "2021-11-30T10:03:44.499Z"
   },
   {
    "duration": 16,
    "start_time": "2021-11-30T10:03:48.480Z"
   },
   {
    "duration": 12,
    "start_time": "2021-11-30T10:03:50.687Z"
   },
   {
    "duration": 5,
    "start_time": "2021-11-30T10:03:57.162Z"
   },
   {
    "duration": 29,
    "start_time": "2021-11-30T10:03:59.275Z"
   },
   {
    "duration": 25,
    "start_time": "2021-11-30T10:04:03.081Z"
   },
   {
    "duration": 28,
    "start_time": "2021-11-30T10:04:06.378Z"
   },
   {
    "duration": 18,
    "start_time": "2021-11-30T10:04:09.040Z"
   },
   {
    "duration": 6,
    "start_time": "2021-11-30T11:09:55.378Z"
   },
   {
    "duration": 50,
    "start_time": "2021-11-30T11:10:32.765Z"
   },
   {
    "duration": 1321,
    "start_time": "2021-11-30T11:11:34.272Z"
   },
   {
    "duration": 719,
    "start_time": "2021-11-30T11:17:37.896Z"
   },
   {
    "duration": 544,
    "start_time": "2021-11-30T11:17:45.819Z"
   },
   {
    "duration": 593,
    "start_time": "2021-11-30T11:19:19.110Z"
   },
   {
    "duration": 41,
    "start_time": "2021-11-30T11:19:24.164Z"
   },
   {
    "duration": 56,
    "start_time": "2021-11-30T11:23:34.598Z"
   },
   {
    "duration": 59,
    "start_time": "2021-11-30T11:24:30.612Z"
   },
   {
    "duration": 39,
    "start_time": "2021-11-30T11:25:30.167Z"
   },
   {
    "duration": 46,
    "start_time": "2021-11-30T11:25:33.572Z"
   },
   {
    "duration": 485,
    "start_time": "2021-11-30T11:26:17.841Z"
   },
   {
    "duration": 427,
    "start_time": "2021-11-30T11:26:56.046Z"
   },
   {
    "duration": 44,
    "start_time": "2021-11-30T11:27:24.914Z"
   },
   {
    "duration": 361,
    "start_time": "2021-11-30T11:27:27.218Z"
   },
   {
    "duration": 20,
    "start_time": "2021-11-30T11:27:36.325Z"
   },
   {
    "duration": 769,
    "start_time": "2021-11-30T11:27:40.692Z"
   },
   {
    "duration": 829,
    "start_time": "2021-11-30T11:27:57.399Z"
   },
   {
    "duration": 217,
    "start_time": "2021-11-30T11:27:59.986Z"
   },
   {
    "duration": 27,
    "start_time": "2021-11-30T11:28:03.395Z"
   },
   {
    "duration": 31,
    "start_time": "2021-11-30T11:28:07.392Z"
   },
   {
    "duration": 5,
    "start_time": "2021-11-30T11:28:11.744Z"
   },
   {
    "duration": 29,
    "start_time": "2021-11-30T11:28:15.068Z"
   },
   {
    "duration": 5,
    "start_time": "2021-11-30T11:28:17.404Z"
   },
   {
    "duration": 31,
    "start_time": "2021-11-30T11:28:19.830Z"
   },
   {
    "duration": 22,
    "start_time": "2021-11-30T11:28:22.838Z"
   },
   {
    "duration": 32,
    "start_time": "2021-11-30T11:28:25.358Z"
   },
   {
    "duration": 82,
    "start_time": "2021-11-30T11:28:28.433Z"
   },
   {
    "duration": 106,
    "start_time": "2021-11-30T11:28:31.725Z"
   },
   {
    "duration": 81,
    "start_time": "2021-11-30T11:28:34.394Z"
   },
   {
    "duration": 15,
    "start_time": "2021-11-30T11:28:37.348Z"
   },
   {
    "duration": 6,
    "start_time": "2021-11-30T11:28:42.072Z"
   },
   {
    "duration": 20,
    "start_time": "2021-11-30T11:28:44.396Z"
   },
   {
    "duration": 23,
    "start_time": "2021-11-30T11:28:48.124Z"
   },
   {
    "duration": 35,
    "start_time": "2021-11-30T11:28:55.851Z"
   },
   {
    "duration": 42,
    "start_time": "2021-11-30T11:28:59.216Z"
   },
   {
    "duration": 4,
    "start_time": "2021-11-30T11:29:03.846Z"
   },
   {
    "duration": 59,
    "start_time": "2021-11-30T11:29:07.435Z"
   },
   {
    "duration": 18,
    "start_time": "2021-11-30T11:29:10.999Z"
   },
   {
    "duration": 19,
    "start_time": "2021-11-30T11:29:12.964Z"
   },
   {
    "duration": 28,
    "start_time": "2021-11-30T11:29:15.506Z"
   },
   {
    "duration": 26,
    "start_time": "2021-11-30T11:29:17.770Z"
   },
   {
    "duration": 26,
    "start_time": "2021-11-30T11:29:21.480Z"
   },
   {
    "duration": 13,
    "start_time": "2021-11-30T11:29:25.627Z"
   },
   {
    "duration": 15,
    "start_time": "2021-11-30T11:29:33.897Z"
   },
   {
    "duration": 12,
    "start_time": "2021-11-30T11:29:36.306Z"
   },
   {
    "duration": 6,
    "start_time": "2021-11-30T11:29:39.297Z"
   },
   {
    "duration": 25,
    "start_time": "2021-11-30T11:29:42.648Z"
   },
   {
    "duration": 18,
    "start_time": "2021-11-30T11:29:46.912Z"
   },
   {
    "duration": 21,
    "start_time": "2021-11-30T11:31:21.809Z"
   },
   {
    "duration": 26,
    "start_time": "2021-11-30T11:31:27.604Z"
   },
   {
    "duration": 66,
    "start_time": "2021-11-30T11:31:34.304Z"
   },
   {
    "duration": 593,
    "start_time": "2021-11-30T11:31:38.285Z"
   },
   {
    "duration": 360,
    "start_time": "2021-11-30T11:32:50.233Z"
   },
   {
    "duration": 364,
    "start_time": "2021-11-30T11:33:03.624Z"
   },
   {
    "duration": 406,
    "start_time": "2021-11-30T11:33:09.661Z"
   },
   {
    "duration": 6,
    "start_time": "2021-11-30T11:33:43.458Z"
   },
   {
    "duration": 458,
    "start_time": "2021-11-30T11:34:42.715Z"
   },
   {
    "duration": 433,
    "start_time": "2021-11-30T11:35:32.112Z"
   },
   {
    "duration": 41,
    "start_time": "2021-11-30T11:36:16.013Z"
   },
   {
    "duration": 12,
    "start_time": "2021-11-30T11:36:27.263Z"
   },
   {
    "duration": 41,
    "start_time": "2021-11-30T11:37:22.761Z"
   },
   {
    "duration": 12,
    "start_time": "2021-11-30T11:37:25.919Z"
   },
   {
    "duration": 41,
    "start_time": "2021-11-30T11:52:21.525Z"
   },
   {
    "duration": 13,
    "start_time": "2021-11-30T11:52:23.845Z"
   },
   {
    "duration": 599,
    "start_time": "2021-11-30T21:02:44.680Z"
   },
   {
    "duration": 157,
    "start_time": "2021-11-30T21:02:45.281Z"
   },
   {
    "duration": 25,
    "start_time": "2021-11-30T21:02:45.440Z"
   },
   {
    "duration": 26,
    "start_time": "2021-11-30T21:02:45.467Z"
   },
   {
    "duration": 12,
    "start_time": "2021-11-30T21:02:45.495Z"
   },
   {
    "duration": 39,
    "start_time": "2021-11-30T21:02:45.508Z"
   },
   {
    "duration": 6,
    "start_time": "2021-11-30T21:02:45.549Z"
   },
   {
    "duration": 30,
    "start_time": "2021-11-30T21:02:45.558Z"
   },
   {
    "duration": 17,
    "start_time": "2021-11-30T21:02:45.591Z"
   },
   {
    "duration": 23,
    "start_time": "2021-11-30T21:02:45.610Z"
   },
   {
    "duration": 75,
    "start_time": "2021-11-30T21:02:45.635Z"
   },
   {
    "duration": 92,
    "start_time": "2021-11-30T21:02:45.711Z"
   },
   {
    "duration": 64,
    "start_time": "2021-11-30T21:02:45.805Z"
   },
   {
    "duration": 11,
    "start_time": "2021-11-30T21:02:45.871Z"
   },
   {
    "duration": 3,
    "start_time": "2021-11-30T21:02:45.884Z"
   },
   {
    "duration": 19,
    "start_time": "2021-11-30T21:02:45.889Z"
   },
   {
    "duration": 9,
    "start_time": "2021-11-30T21:02:45.910Z"
   },
   {
    "duration": 53,
    "start_time": "2021-11-30T21:02:45.920Z"
   },
   {
    "duration": 36,
    "start_time": "2021-11-30T21:02:45.975Z"
   },
   {
    "duration": 3,
    "start_time": "2021-11-30T21:02:46.013Z"
   },
   {
    "duration": 23,
    "start_time": "2021-11-30T21:02:46.018Z"
   },
   {
    "duration": 35,
    "start_time": "2021-11-30T21:02:46.042Z"
   },
   {
    "duration": 14,
    "start_time": "2021-11-30T21:02:46.080Z"
   },
   {
    "duration": 13,
    "start_time": "2021-11-30T21:02:46.096Z"
   },
   {
    "duration": 19,
    "start_time": "2021-11-30T21:02:46.111Z"
   },
   {
    "duration": 39,
    "start_time": "2021-11-30T21:02:46.131Z"
   },
   {
    "duration": 9,
    "start_time": "2021-11-30T21:02:46.172Z"
   },
   {
    "duration": 17,
    "start_time": "2021-11-30T21:02:46.182Z"
   },
   {
    "duration": 10,
    "start_time": "2021-11-30T21:02:46.201Z"
   },
   {
    "duration": 4,
    "start_time": "2021-11-30T21:02:46.212Z"
   },
   {
    "duration": 46,
    "start_time": "2021-11-30T21:02:46.218Z"
   },
   {
    "duration": 13,
    "start_time": "2021-11-30T21:02:46.266Z"
   },
   {
    "duration": 17,
    "start_time": "2021-11-30T21:02:46.280Z"
   },
   {
    "duration": 12,
    "start_time": "2021-11-30T21:02:46.299Z"
   },
   {
    "duration": 63,
    "start_time": "2021-11-30T21:02:46.313Z"
   },
   {
    "duration": 8,
    "start_time": "2021-11-30T21:02:46.377Z"
   },
   {
    "duration": 40,
    "start_time": "2021-11-30T21:02:46.387Z"
   },
   {
    "duration": 9,
    "start_time": "2021-11-30T21:02:46.429Z"
   },
   {
    "duration": 40,
    "start_time": "2021-11-30T21:24:14.257Z"
   },
   {
    "duration": 8,
    "start_time": "2021-11-30T21:24:15.890Z"
   },
   {
    "duration": 307,
    "start_time": "2021-11-30T21:24:29.515Z"
   },
   {
    "duration": 11,
    "start_time": "2021-11-30T21:24:43.722Z"
   },
   {
    "duration": 6,
    "start_time": "2021-11-30T21:24:45.818Z"
   },
   {
    "duration": 32,
    "start_time": "2021-11-30T21:25:08.317Z"
   },
   {
    "duration": 10,
    "start_time": "2021-11-30T21:25:08.777Z"
   },
   {
    "duration": 5,
    "start_time": "2021-11-30T21:26:15.109Z"
   },
   {
    "duration": 9,
    "start_time": "2021-11-30T21:26:15.884Z"
   },
   {
    "duration": 13,
    "start_time": "2021-11-30T21:26:33.947Z"
   },
   {
    "duration": 11,
    "start_time": "2021-11-30T21:26:34.278Z"
   },
   {
    "duration": 4,
    "start_time": "2021-11-30T21:26:35.163Z"
   },
   {
    "duration": 18,
    "start_time": "2021-11-30T21:26:35.998Z"
   },
   {
    "duration": 13,
    "start_time": "2021-11-30T21:26:36.326Z"
   },
   {
    "duration": 20,
    "start_time": "2021-11-30T21:26:36.604Z"
   },
   {
    "duration": 14,
    "start_time": "2021-11-30T21:26:37.055Z"
   },
   {
    "duration": 44,
    "start_time": "2021-11-30T21:26:39.875Z"
   },
   {
    "duration": 13,
    "start_time": "2021-11-30T21:26:40.548Z"
   },
   {
    "duration": 643,
    "start_time": "2021-11-30T21:27:13.603Z"
   },
   {
    "duration": 167,
    "start_time": "2021-11-30T21:27:14.248Z"
   },
   {
    "duration": 60,
    "start_time": "2021-11-30T21:27:14.418Z"
   },
   {
    "duration": 54,
    "start_time": "2021-11-30T21:27:14.481Z"
   },
   {
    "duration": 4,
    "start_time": "2021-11-30T21:27:14.538Z"
   },
   {
    "duration": 54,
    "start_time": "2021-11-30T21:27:14.544Z"
   },
   {
    "duration": 10,
    "start_time": "2021-11-30T21:27:14.601Z"
   },
   {
    "duration": 45,
    "start_time": "2021-11-30T21:27:14.614Z"
   },
   {
    "duration": 21,
    "start_time": "2021-11-30T21:27:14.662Z"
   },
   {
    "duration": 33,
    "start_time": "2021-11-30T21:27:14.685Z"
   },
   {
    "duration": 116,
    "start_time": "2021-11-30T21:27:14.720Z"
   },
   {
    "duration": 113,
    "start_time": "2021-11-30T21:27:14.838Z"
   },
   {
    "duration": 88,
    "start_time": "2021-11-30T21:27:14.953Z"
   },
   {
    "duration": 21,
    "start_time": "2021-11-30T21:27:15.044Z"
   },
   {
    "duration": 59,
    "start_time": "2021-11-30T21:27:15.067Z"
   },
   {
    "duration": 127,
    "start_time": "2021-11-30T21:27:15.128Z"
   },
   {
    "duration": 42,
    "start_time": "2021-11-30T21:27:15.258Z"
   },
   {
    "duration": 56,
    "start_time": "2021-11-30T21:27:15.303Z"
   },
   {
    "duration": 40,
    "start_time": "2021-11-30T21:27:15.361Z"
   },
   {
    "duration": 3,
    "start_time": "2021-11-30T21:27:15.403Z"
   },
   {
    "duration": 56,
    "start_time": "2021-11-30T21:27:15.409Z"
   },
   {
    "duration": 25,
    "start_time": "2021-11-30T21:27:15.467Z"
   },
   {
    "duration": 17,
    "start_time": "2021-11-30T21:27:15.497Z"
   },
   {
    "duration": 21,
    "start_time": "2021-11-30T21:27:15.517Z"
   },
   {
    "duration": 33,
    "start_time": "2021-11-30T21:27:15.541Z"
   },
   {
    "duration": 19,
    "start_time": "2021-11-30T21:27:15.576Z"
   },
   {
    "duration": 10,
    "start_time": "2021-11-30T21:27:15.597Z"
   },
   {
    "duration": 27,
    "start_time": "2021-11-30T21:27:15.609Z"
   },
   {
    "duration": 14,
    "start_time": "2021-11-30T21:27:15.638Z"
   },
   {
    "duration": 27,
    "start_time": "2021-11-30T21:27:15.654Z"
   },
   {
    "duration": 40,
    "start_time": "2021-11-30T21:27:15.683Z"
   },
   {
    "duration": 51,
    "start_time": "2021-11-30T21:27:15.725Z"
   },
   {
    "duration": 38,
    "start_time": "2021-11-30T21:27:15.778Z"
   },
   {
    "duration": 28,
    "start_time": "2021-11-30T21:27:15.818Z"
   },
   {
    "duration": 42,
    "start_time": "2021-11-30T21:27:15.848Z"
   },
   {
    "duration": 9,
    "start_time": "2021-11-30T21:27:15.892Z"
   },
   {
    "duration": 68,
    "start_time": "2021-11-30T21:27:15.904Z"
   },
   {
    "duration": 13,
    "start_time": "2021-11-30T21:27:15.974Z"
   },
   {
    "duration": 646,
    "start_time": "2021-11-30T21:38:27.535Z"
   },
   {
    "duration": 144,
    "start_time": "2021-11-30T21:38:28.183Z"
   },
   {
    "duration": 16,
    "start_time": "2021-11-30T21:38:28.329Z"
   },
   {
    "duration": 50,
    "start_time": "2021-11-30T21:38:28.347Z"
   },
   {
    "duration": 19,
    "start_time": "2021-11-30T21:38:28.399Z"
   },
   {
    "duration": 55,
    "start_time": "2021-11-30T21:38:28.420Z"
   },
   {
    "duration": 24,
    "start_time": "2021-11-30T21:38:28.477Z"
   },
   {
    "duration": 42,
    "start_time": "2021-11-30T21:38:28.504Z"
   },
   {
    "duration": 46,
    "start_time": "2021-11-30T21:38:28.548Z"
   },
   {
    "duration": 35,
    "start_time": "2021-11-30T21:38:28.597Z"
   },
   {
    "duration": 84,
    "start_time": "2021-11-30T21:38:28.634Z"
   },
   {
    "duration": 117,
    "start_time": "2021-11-30T21:38:29.764Z"
   },
   {
    "duration": 56,
    "start_time": "2021-11-30T21:38:29.883Z"
   },
   {
    "duration": 63,
    "start_time": "2021-11-30T21:38:29.941Z"
   },
   {
    "duration": 44,
    "start_time": "2021-11-30T21:38:30.006Z"
   },
   {
    "duration": 63,
    "start_time": "2021-11-30T21:38:30.052Z"
   },
   {
    "duration": 35,
    "start_time": "2021-11-30T21:38:30.117Z"
   },
   {
    "duration": 45,
    "start_time": "2021-11-30T21:38:30.154Z"
   },
   {
    "duration": 59,
    "start_time": "2021-11-30T21:38:30.202Z"
   },
   {
    "duration": 7,
    "start_time": "2021-11-30T21:38:30.263Z"
   },
   {
    "duration": 79,
    "start_time": "2021-11-30T21:38:30.272Z"
   },
   {
    "duration": 39,
    "start_time": "2021-11-30T21:38:30.356Z"
   },
   {
    "duration": 57,
    "start_time": "2021-11-30T21:38:30.397Z"
   },
   {
    "duration": 55,
    "start_time": "2021-11-30T21:38:30.456Z"
   },
   {
    "duration": 40,
    "start_time": "2021-11-30T21:38:30.513Z"
   },
   {
    "duration": 44,
    "start_time": "2021-11-30T21:38:30.555Z"
   },
   {
    "duration": 43,
    "start_time": "2021-11-30T21:38:30.601Z"
   },
   {
    "duration": 56,
    "start_time": "2021-11-30T21:38:30.646Z"
   },
   {
    "duration": 28,
    "start_time": "2021-11-30T21:38:30.704Z"
   },
   {
    "duration": 45,
    "start_time": "2021-11-30T21:38:30.733Z"
   },
   {
    "duration": 63,
    "start_time": "2021-11-30T21:38:30.780Z"
   },
   {
    "duration": 45,
    "start_time": "2021-11-30T21:38:30.845Z"
   },
   {
    "duration": 40,
    "start_time": "2021-11-30T21:38:30.891Z"
   },
   {
    "duration": 22,
    "start_time": "2021-11-30T21:38:30.935Z"
   },
   {
    "duration": 56,
    "start_time": "2021-11-30T21:38:30.959Z"
   },
   {
    "duration": 9,
    "start_time": "2021-11-30T21:38:31.017Z"
   },
   {
    "duration": 59,
    "start_time": "2021-11-30T21:38:31.028Z"
   },
   {
    "duration": 50,
    "start_time": "2021-11-30T21:38:31.089Z"
   },
   {
    "duration": 556,
    "start_time": "2021-11-30T21:39:54.908Z"
   },
   {
    "duration": 150,
    "start_time": "2021-11-30T21:39:55.466Z"
   },
   {
    "duration": 17,
    "start_time": "2021-11-30T21:39:55.618Z"
   },
   {
    "duration": 41,
    "start_time": "2021-11-30T21:39:55.637Z"
   },
   {
    "duration": 6,
    "start_time": "2021-11-30T21:39:55.680Z"
   },
   {
    "duration": 25,
    "start_time": "2021-11-30T21:39:55.688Z"
   },
   {
    "duration": 6,
    "start_time": "2021-11-30T21:39:55.715Z"
   },
   {
    "duration": 44,
    "start_time": "2021-11-30T21:39:55.724Z"
   },
   {
    "duration": 20,
    "start_time": "2021-11-30T21:39:55.770Z"
   },
   {
    "duration": 26,
    "start_time": "2021-11-30T21:39:55.792Z"
   },
   {
    "duration": 80,
    "start_time": "2021-11-30T21:39:55.820Z"
   },
   {
    "duration": 82,
    "start_time": "2021-11-30T21:39:55.902Z"
   },
   {
    "duration": 55,
    "start_time": "2021-11-30T21:39:55.986Z"
   },
   {
    "duration": 21,
    "start_time": "2021-11-30T21:39:56.043Z"
   },
   {
    "duration": 6,
    "start_time": "2021-11-30T21:39:56.066Z"
   },
   {
    "duration": 19,
    "start_time": "2021-11-30T21:39:56.073Z"
   },
   {
    "duration": 9,
    "start_time": "2021-11-30T21:39:56.094Z"
   },
   {
    "duration": 26,
    "start_time": "2021-11-30T21:39:56.105Z"
   },
   {
    "duration": 55,
    "start_time": "2021-11-30T21:39:56.133Z"
   },
   {
    "duration": 4,
    "start_time": "2021-11-30T21:39:56.190Z"
   },
   {
    "duration": 23,
    "start_time": "2021-11-30T21:39:56.195Z"
   },
   {
    "duration": 15,
    "start_time": "2021-11-30T21:39:56.220Z"
   },
   {
    "duration": 33,
    "start_time": "2021-11-30T21:39:56.238Z"
   },
   {
    "duration": 13,
    "start_time": "2021-11-30T21:39:56.273Z"
   },
   {
    "duration": 15,
    "start_time": "2021-11-30T21:39:56.288Z"
   },
   {
    "duration": 16,
    "start_time": "2021-11-30T21:39:56.305Z"
   },
   {
    "duration": 8,
    "start_time": "2021-11-30T21:39:56.323Z"
   },
   {
    "duration": 12,
    "start_time": "2021-11-30T21:39:56.363Z"
   },
   {
    "duration": 10,
    "start_time": "2021-11-30T21:39:56.377Z"
   },
   {
    "duration": 13,
    "start_time": "2021-11-30T21:39:56.389Z"
   },
   {
    "duration": 29,
    "start_time": "2021-11-30T21:39:56.404Z"
   },
   {
    "duration": 14,
    "start_time": "2021-11-30T21:39:56.435Z"
   },
   {
    "duration": 50,
    "start_time": "2021-11-30T21:39:56.450Z"
   },
   {
    "duration": 20,
    "start_time": "2021-11-30T21:39:56.502Z"
   },
   {
    "duration": 54,
    "start_time": "2021-11-30T21:39:56.523Z"
   },
   {
    "duration": 16,
    "start_time": "2021-11-30T21:39:56.579Z"
   },
   {
    "duration": 50,
    "start_time": "2021-11-30T21:39:56.596Z"
   },
   {
    "duration": 8,
    "start_time": "2021-11-30T21:39:56.648Z"
   },
   {
    "duration": 660,
    "start_time": "2021-12-01T08:39:18.345Z"
   },
   {
    "duration": 159,
    "start_time": "2021-12-01T08:39:20.504Z"
   },
   {
    "duration": 17,
    "start_time": "2021-12-01T08:39:23.710Z"
   },
   {
    "duration": 25,
    "start_time": "2021-12-01T08:39:27.360Z"
   },
   {
    "duration": 4,
    "start_time": "2021-12-01T08:39:33.997Z"
   },
   {
    "duration": 25,
    "start_time": "2021-12-01T08:39:45.833Z"
   },
   {
    "duration": 5,
    "start_time": "2021-12-01T08:39:48.963Z"
   },
   {
    "duration": 23,
    "start_time": "2021-12-01T08:39:54.136Z"
   },
   {
    "duration": 23,
    "start_time": "2021-12-01T08:39:58.138Z"
   },
   {
    "duration": 25,
    "start_time": "2021-12-01T08:40:00.934Z"
   },
   {
    "duration": 68,
    "start_time": "2021-12-01T08:40:05.869Z"
   },
   {
    "duration": 76,
    "start_time": "2021-12-01T08:40:09.264Z"
   },
   {
    "duration": 56,
    "start_time": "2021-12-01T08:40:12.107Z"
   },
   {
    "duration": 10,
    "start_time": "2021-12-01T08:40:15.501Z"
   },
   {
    "duration": 80,
    "start_time": "2021-12-01T08:42:44.658Z"
   },
   {
    "duration": 85,
    "start_time": "2021-12-01T08:42:55.749Z"
   },
   {
    "duration": 330,
    "start_time": "2021-12-01T08:43:00.351Z"
   },
   {
    "duration": 291,
    "start_time": "2021-12-01T08:43:13.280Z"
   },
   {
    "duration": 59,
    "start_time": "2021-12-01T08:44:24.400Z"
   },
   {
    "duration": 10,
    "start_time": "2021-12-01T08:47:37.667Z"
   },
   {
    "duration": 3,
    "start_time": "2021-12-01T08:47:47.662Z"
   },
   {
    "duration": 11,
    "start_time": "2021-12-01T08:47:51.733Z"
   },
   {
    "duration": 9,
    "start_time": "2021-12-01T08:47:55.362Z"
   },
   {
    "duration": 247,
    "start_time": "2021-12-01T08:50:03.649Z"
   },
   {
    "duration": 267,
    "start_time": "2021-12-01T08:51:17.503Z"
   },
   {
    "duration": 296,
    "start_time": "2021-12-01T08:53:01.094Z"
   },
   {
    "duration": 335,
    "start_time": "2021-12-01T08:53:21.421Z"
   },
   {
    "duration": 42,
    "start_time": "2021-12-01T08:53:40.690Z"
   },
   {
    "duration": 11,
    "start_time": "2021-12-01T08:55:13.624Z"
   },
   {
    "duration": 13,
    "start_time": "2021-12-01T08:56:00.423Z"
   },
   {
    "duration": 13,
    "start_time": "2021-12-01T08:56:32.439Z"
   },
   {
    "duration": 13,
    "start_time": "2021-12-01T08:56:53.493Z"
   },
   {
    "duration": 13,
    "start_time": "2021-12-01T09:01:21.001Z"
   },
   {
    "duration": 36,
    "start_time": "2021-12-01T09:04:43.184Z"
   },
   {
    "duration": 11,
    "start_time": "2021-12-01T09:05:21.465Z"
   },
   {
    "duration": 255,
    "start_time": "2021-12-01T09:25:34.639Z"
   },
   {
    "duration": 3,
    "start_time": "2021-12-01T09:25:54.735Z"
   },
   {
    "duration": 17,
    "start_time": "2021-12-01T09:25:58.280Z"
   },
   {
    "duration": 16,
    "start_time": "2021-12-01T09:26:00.689Z"
   },
   {
    "duration": 17,
    "start_time": "2021-12-01T09:26:03.262Z"
   },
   {
    "duration": 15,
    "start_time": "2021-12-01T09:26:05.520Z"
   },
   {
    "duration": 17,
    "start_time": "2021-12-01T09:26:09.526Z"
   },
   {
    "duration": 15,
    "start_time": "2021-12-01T09:26:11.249Z"
   },
   {
    "duration": 10,
    "start_time": "2021-12-01T09:26:14.835Z"
   },
   {
    "duration": 12,
    "start_time": "2021-12-01T09:26:19.085Z"
   },
   {
    "duration": 11,
    "start_time": "2021-12-01T09:26:20.525Z"
   },
   {
    "duration": 4,
    "start_time": "2021-12-01T09:26:24.082Z"
   },
   {
    "duration": 21,
    "start_time": "2021-12-01T09:26:30.184Z"
   },
   {
    "duration": 14,
    "start_time": "2021-12-01T09:26:35.938Z"
   },
   {
    "duration": 14,
    "start_time": "2021-12-01T09:27:02.493Z"
   },
   {
    "duration": 18,
    "start_time": "2021-12-01T09:27:08.122Z"
   },
   {
    "duration": 15,
    "start_time": "2021-12-01T09:27:10.359Z"
   },
   {
    "duration": 47,
    "start_time": "2021-12-01T09:27:18.254Z"
   },
   {
    "duration": 11,
    "start_time": "2021-12-01T09:27:34.768Z"
   },
   {
    "duration": 5,
    "start_time": "2021-12-01T09:28:35.453Z"
   },
   {
    "duration": 5,
    "start_time": "2021-12-01T09:29:06.756Z"
   },
   {
    "duration": 5,
    "start_time": "2021-12-01T09:29:15.743Z"
   },
   {
    "duration": 5,
    "start_time": "2021-12-01T09:29:26.973Z"
   },
   {
    "duration": 13,
    "start_time": "2021-12-01T09:29:47.303Z"
   },
   {
    "duration": 39,
    "start_time": "2021-12-01T09:31:06.372Z"
   },
   {
    "duration": 8,
    "start_time": "2021-12-01T09:31:08.913Z"
   },
   {
    "duration": 4,
    "start_time": "2021-12-01T09:32:54.101Z"
   },
   {
    "duration": 10,
    "start_time": "2021-12-01T09:32:56.409Z"
   },
   {
    "duration": 625,
    "start_time": "2021-12-01T09:33:33.238Z"
   },
   {
    "duration": 145,
    "start_time": "2021-12-01T09:33:36.196Z"
   },
   {
    "duration": 18,
    "start_time": "2021-12-01T09:33:38.552Z"
   },
   {
    "duration": 25,
    "start_time": "2021-12-01T09:33:41.326Z"
   },
   {
    "duration": 4,
    "start_time": "2021-12-01T09:33:46.836Z"
   },
   {
    "duration": 4,
    "start_time": "2021-12-01T09:34:20.966Z"
   },
   {
    "duration": 23,
    "start_time": "2021-12-01T09:34:36.185Z"
   },
   {
    "duration": 4,
    "start_time": "2021-12-01T09:34:39.309Z"
   },
   {
    "duration": 25,
    "start_time": "2021-12-01T09:34:43.496Z"
   },
   {
    "duration": 18,
    "start_time": "2021-12-01T09:34:49.140Z"
   },
   {
    "duration": 24,
    "start_time": "2021-12-01T09:34:51.771Z"
   },
   {
    "duration": 58,
    "start_time": "2021-12-01T09:34:57.649Z"
   },
   {
    "duration": 77,
    "start_time": "2021-12-01T09:35:02.238Z"
   },
   {
    "duration": 57,
    "start_time": "2021-12-01T09:35:09.141Z"
   },
   {
    "duration": 11,
    "start_time": "2021-12-01T09:35:12.393Z"
   },
   {
    "duration": 3,
    "start_time": "2021-12-01T09:35:34.920Z"
   },
   {
    "duration": 10,
    "start_time": "2021-12-01T09:35:42.339Z"
   },
   {
    "duration": 10,
    "start_time": "2021-12-01T09:35:45.679Z"
   },
   {
    "duration": 12,
    "start_time": "2021-12-01T09:36:21.507Z"
   },
   {
    "duration": 13,
    "start_time": "2021-12-01T09:36:32.423Z"
   },
   {
    "duration": 12,
    "start_time": "2021-12-01T09:36:48.781Z"
   },
   {
    "duration": 4,
    "start_time": "2021-12-01T09:36:59.670Z"
   },
   {
    "duration": 17,
    "start_time": "2021-12-01T09:37:03.742Z"
   },
   {
    "duration": 15,
    "start_time": "2021-12-01T09:37:05.489Z"
   },
   {
    "duration": 15,
    "start_time": "2021-12-01T09:37:05.963Z"
   },
   {
    "duration": 15,
    "start_time": "2021-12-01T09:37:06.441Z"
   },
   {
    "duration": 18,
    "start_time": "2021-12-01T09:37:06.906Z"
   },
   {
    "duration": 16,
    "start_time": "2021-12-01T09:37:08.292Z"
   },
   {
    "duration": 12,
    "start_time": "2021-12-01T09:37:11.297Z"
   },
   {
    "duration": 12,
    "start_time": "2021-12-01T09:37:34.297Z"
   },
   {
    "duration": 11,
    "start_time": "2021-12-01T09:37:35.755Z"
   },
   {
    "duration": 5,
    "start_time": "2021-12-01T09:37:39.092Z"
   },
   {
    "duration": 19,
    "start_time": "2021-12-01T09:37:44.247Z"
   },
   {
    "duration": 15,
    "start_time": "2021-12-01T09:37:46.748Z"
   },
   {
    "duration": 20,
    "start_time": "2021-12-01T09:37:48.320Z"
   },
   {
    "duration": 13,
    "start_time": "2021-12-01T09:37:51.370Z"
   },
   {
    "duration": 10,
    "start_time": "2021-12-01T09:38:09.291Z"
   },
   {
    "duration": 11,
    "start_time": "2021-12-01T09:38:10.091Z"
   },
   {
    "duration": 5,
    "start_time": "2021-12-01T09:38:44.699Z"
   },
   {
    "duration": 30,
    "start_time": "2021-12-01T09:39:22.900Z"
   },
   {
    "duration": 308,
    "start_time": "2021-12-01T09:39:26.965Z"
   },
   {
    "duration": 247,
    "start_time": "2021-12-01T09:39:58.157Z"
   },
   {
    "duration": 4,
    "start_time": "2021-12-01T09:40:20.549Z"
   },
   {
    "duration": 5,
    "start_time": "2021-12-01T09:40:31.889Z"
   },
   {
    "duration": 25,
    "start_time": "2021-12-01T09:44:29.244Z"
   },
   {
    "duration": 14,
    "start_time": "2021-12-01T09:44:30.706Z"
   },
   {
    "duration": 15,
    "start_time": "2021-12-01T09:44:52.732Z"
   },
   {
    "duration": 13,
    "start_time": "2021-12-01T09:44:56.174Z"
   },
   {
    "duration": 37,
    "start_time": "2021-12-01T09:45:27.208Z"
   },
   {
    "duration": 12,
    "start_time": "2021-12-01T09:45:29.517Z"
   },
   {
    "duration": 300,
    "start_time": "2021-12-01T09:46:01.888Z"
   },
   {
    "duration": 263,
    "start_time": "2021-12-01T09:46:31.716Z"
   },
   {
    "duration": 269,
    "start_time": "2021-12-01T09:46:39.167Z"
   },
   {
    "duration": 22,
    "start_time": "2021-12-01T11:07:15.696Z"
   },
   {
    "duration": 20,
    "start_time": "2021-12-01T11:07:21.275Z"
   },
   {
    "duration": 6,
    "start_time": "2021-12-01T11:07:31.102Z"
   },
   {
    "duration": 36,
    "start_time": "2021-12-01T11:10:16.907Z"
   },
   {
    "duration": 14,
    "start_time": "2021-12-01T11:10:28.241Z"
   },
   {
    "duration": 11,
    "start_time": "2021-12-01T11:10:32.302Z"
   },
   {
    "duration": 5,
    "start_time": "2021-12-01T11:11:14.009Z"
   },
   {
    "duration": 36,
    "start_time": "2021-12-01T11:24:47.356Z"
   },
   {
    "duration": 9,
    "start_time": "2021-12-01T11:24:50.718Z"
   },
   {
    "duration": 7,
    "start_time": "2021-12-01T11:24:59.924Z"
   },
   {
    "duration": 12,
    "start_time": "2021-12-01T11:25:02.092Z"
   },
   {
    "duration": 6,
    "start_time": "2021-12-01T11:25:29.979Z"
   },
   {
    "duration": 26,
    "start_time": "2021-12-01T11:26:12.230Z"
   },
   {
    "duration": 12,
    "start_time": "2021-12-01T11:26:15.338Z"
   },
   {
    "duration": 14,
    "start_time": "2021-12-01T11:26:31.517Z"
   },
   {
    "duration": 13,
    "start_time": "2021-12-01T11:26:32.064Z"
   },
   {
    "duration": 28,
    "start_time": "2021-12-01T11:26:40.039Z"
   },
   {
    "duration": 12,
    "start_time": "2021-12-01T11:26:44.017Z"
   },
   {
    "duration": 16,
    "start_time": "2021-12-01T11:26:47.556Z"
   },
   {
    "duration": 10,
    "start_time": "2021-12-01T11:26:49.865Z"
   },
   {
    "duration": 80,
    "start_time": "2021-12-01T11:27:25.206Z"
   },
   {
    "duration": 261,
    "start_time": "2021-12-01T11:27:35.773Z"
   },
   {
    "duration": 290,
    "start_time": "2021-12-01T11:27:48.616Z"
   },
   {
    "duration": 20,
    "start_time": "2021-12-01T11:28:03.107Z"
   },
   {
    "duration": 5,
    "start_time": "2021-12-01T11:28:05.828Z"
   },
   {
    "duration": 247,
    "start_time": "2021-12-01T11:28:37.045Z"
   },
   {
    "duration": 88,
    "start_time": "2021-12-01T11:29:35.661Z"
   },
   {
    "duration": 82,
    "start_time": "2021-12-01T11:29:47.197Z"
   },
   {
    "duration": 255,
    "start_time": "2021-12-01T11:29:57.841Z"
   },
   {
    "duration": 23,
    "start_time": "2021-12-01T11:31:41.287Z"
   },
   {
    "duration": 7751,
    "start_time": "2021-12-01T11:31:58.216Z"
   },
   {
    "duration": 1040,
    "start_time": "2021-12-01T11:32:25.048Z"
   },
   {
    "duration": 145,
    "start_time": "2021-12-01T11:32:26.309Z"
   },
   {
    "duration": 17,
    "start_time": "2021-12-01T11:32:27.964Z"
   },
   {
    "duration": 28,
    "start_time": "2021-12-01T11:32:33.384Z"
   },
   {
    "duration": 4,
    "start_time": "2021-12-01T11:32:38.035Z"
   },
   {
    "duration": 23,
    "start_time": "2021-12-01T11:32:42.160Z"
   },
   {
    "duration": 4,
    "start_time": "2021-12-01T11:32:44.273Z"
   },
   {
    "duration": 24,
    "start_time": "2021-12-01T11:32:46.431Z"
   },
   {
    "duration": 20,
    "start_time": "2021-12-01T11:32:49.169Z"
   },
   {
    "duration": 23,
    "start_time": "2021-12-01T11:32:50.571Z"
   },
   {
    "duration": 62,
    "start_time": "2021-12-01T11:32:53.766Z"
   },
   {
    "duration": 75,
    "start_time": "2021-12-01T11:32:56.887Z"
   },
   {
    "duration": 54,
    "start_time": "2021-12-01T11:32:59.223Z"
   },
   {
    "duration": 10,
    "start_time": "2021-12-01T11:33:01.644Z"
   },
   {
    "duration": 3,
    "start_time": "2021-12-01T11:33:45.361Z"
   },
   {
    "duration": 11,
    "start_time": "2021-12-01T11:33:47.416Z"
   },
   {
    "duration": 9,
    "start_time": "2021-12-01T11:33:49.539Z"
   },
   {
    "duration": 18,
    "start_time": "2021-12-01T11:33:54.052Z"
   },
   {
    "duration": 18,
    "start_time": "2021-12-01T11:33:58.239Z"
   },
   {
    "duration": 3,
    "start_time": "2021-12-01T11:34:09.331Z"
   },
   {
    "duration": 17,
    "start_time": "2021-12-01T11:34:11.356Z"
   },
   {
    "duration": 15,
    "start_time": "2021-12-01T11:34:11.792Z"
   },
   {
    "duration": 16,
    "start_time": "2021-12-01T11:34:12.146Z"
   },
   {
    "duration": 16,
    "start_time": "2021-12-01T11:34:12.514Z"
   },
   {
    "duration": 17,
    "start_time": "2021-12-01T11:34:12.882Z"
   },
   {
    "duration": 22,
    "start_time": "2021-12-01T11:34:13.220Z"
   },
   {
    "duration": 10,
    "start_time": "2021-12-01T11:34:17.175Z"
   },
   {
    "duration": 13,
    "start_time": "2021-12-01T11:34:31.331Z"
   },
   {
    "duration": 10,
    "start_time": "2021-12-01T11:34:32.911Z"
   },
   {
    "duration": 4,
    "start_time": "2021-12-01T11:34:36.811Z"
   },
   {
    "duration": 19,
    "start_time": "2021-12-01T11:34:53.877Z"
   },
   {
    "duration": 14,
    "start_time": "2021-12-01T11:34:56.046Z"
   },
   {
    "duration": 18,
    "start_time": "2021-12-01T11:34:56.702Z"
   },
   {
    "duration": 18,
    "start_time": "2021-12-01T11:34:58.188Z"
   },
   {
    "duration": 32,
    "start_time": "2021-12-01T11:35:02.996Z"
   },
   {
    "duration": 346,
    "start_time": "2021-12-01T11:35:49.134Z"
   },
   {
    "duration": 283,
    "start_time": "2021-12-01T11:36:26.518Z"
   },
   {
    "duration": 249,
    "start_time": "2021-12-01T11:36:45.212Z"
   },
   {
    "duration": 273,
    "start_time": "2021-12-01T11:50:33.378Z"
   },
   {
    "duration": 294,
    "start_time": "2021-12-01T11:51:23.621Z"
   },
   {
    "duration": 3,
    "start_time": "2021-12-01T11:53:19.004Z"
   },
   {
    "duration": 12,
    "start_time": "2021-12-01T11:53:21.584Z"
   },
   {
    "duration": 19,
    "start_time": "2021-12-01T11:54:04.404Z"
   },
   {
    "duration": 5,
    "start_time": "2021-12-01T11:54:07.582Z"
   },
   {
    "duration": 263,
    "start_time": "2021-12-01T11:54:22.872Z"
   },
   {
    "duration": 307,
    "start_time": "2021-12-01T11:55:06.591Z"
   },
   {
    "duration": 280,
    "start_time": "2021-12-01T11:59:19.204Z"
   },
   {
    "duration": 23,
    "start_time": "2021-12-01T11:59:32.005Z"
   },
   {
    "duration": 245,
    "start_time": "2021-12-01T11:59:34.976Z"
   },
   {
    "duration": 252,
    "start_time": "2021-12-01T12:00:00.913Z"
   },
   {
    "duration": 13,
    "start_time": "2021-12-01T12:00:14.165Z"
   },
   {
    "duration": 13,
    "start_time": "2021-12-01T12:00:15.350Z"
   },
   {
    "duration": 17,
    "start_time": "2021-12-01T12:00:22.690Z"
   },
   {
    "duration": 283,
    "start_time": "2021-12-01T12:00:23.832Z"
   },
   {
    "duration": 21,
    "start_time": "2021-12-01T12:00:28.459Z"
   },
   {
    "duration": 15,
    "start_time": "2021-12-01T12:00:29.605Z"
   },
   {
    "duration": 258,
    "start_time": "2021-12-01T12:01:15.681Z"
   },
   {
    "duration": 275,
    "start_time": "2021-12-01T12:01:56.857Z"
   },
   {
    "duration": 246,
    "start_time": "2021-12-01T12:02:28.898Z"
   },
   {
    "duration": 252,
    "start_time": "2021-12-01T12:03:51.653Z"
   },
   {
    "duration": 737,
    "start_time": "2021-12-01T12:17:53.095Z"
   },
   {
    "duration": 147,
    "start_time": "2021-12-01T12:17:55.730Z"
   },
   {
    "duration": 17,
    "start_time": "2021-12-01T12:17:57.609Z"
   },
   {
    "duration": 26,
    "start_time": "2021-12-01T12:18:09.397Z"
   },
   {
    "duration": 5,
    "start_time": "2021-12-01T12:18:14.795Z"
   },
   {
    "duration": 23,
    "start_time": "2021-12-01T12:18:18.001Z"
   },
   {
    "duration": 4,
    "start_time": "2021-12-01T12:18:20.273Z"
   },
   {
    "duration": 24,
    "start_time": "2021-12-01T12:18:22.709Z"
   },
   {
    "duration": 28,
    "start_time": "2021-12-01T12:18:25.243Z"
   },
   {
    "duration": 41,
    "start_time": "2021-12-01T12:18:26.785Z"
   },
   {
    "duration": 61,
    "start_time": "2021-12-01T12:18:29.665Z"
   },
   {
    "duration": 78,
    "start_time": "2021-12-01T12:18:30.926Z"
   },
   {
    "duration": 58,
    "start_time": "2021-12-01T12:18:32.956Z"
   },
   {
    "duration": 10,
    "start_time": "2021-12-01T12:18:35.032Z"
   },
   {
    "duration": 4,
    "start_time": "2021-12-01T12:18:45.707Z"
   },
   {
    "duration": 11,
    "start_time": "2021-12-01T12:18:47.111Z"
   },
   {
    "duration": 10,
    "start_time": "2021-12-01T12:18:48.952Z"
   },
   {
    "duration": 12,
    "start_time": "2021-12-01T12:19:00.243Z"
   },
   {
    "duration": 11,
    "start_time": "2021-12-01T12:19:27.382Z"
   },
   {
    "duration": 4,
    "start_time": "2021-12-01T12:19:39.464Z"
   },
   {
    "duration": 18,
    "start_time": "2021-12-01T12:19:43.022Z"
   },
   {
    "duration": 15,
    "start_time": "2021-12-01T12:19:43.649Z"
   },
   {
    "duration": 15,
    "start_time": "2021-12-01T12:19:44.126Z"
   },
   {
    "duration": 15,
    "start_time": "2021-12-01T12:19:44.493Z"
   },
   {
    "duration": 17,
    "start_time": "2021-12-01T12:19:44.878Z"
   },
   {
    "duration": 15,
    "start_time": "2021-12-01T12:19:46.146Z"
   },
   {
    "duration": 8,
    "start_time": "2021-12-01T12:19:48.554Z"
   },
   {
    "duration": 15,
    "start_time": "2021-12-01T12:19:58.856Z"
   },
   {
    "duration": 14,
    "start_time": "2021-12-01T12:20:00.874Z"
   },
   {
    "duration": 26,
    "start_time": "2021-12-01T12:20:21.572Z"
   },
   {
    "duration": 15,
    "start_time": "2021-12-01T12:20:35.166Z"
   },
   {
    "duration": 12,
    "start_time": "2021-12-01T12:20:36.829Z"
   },
   {
    "duration": 3,
    "start_time": "2021-12-01T12:20:38.946Z"
   },
   {
    "duration": 18,
    "start_time": "2021-12-01T12:20:42.271Z"
   },
   {
    "duration": 13,
    "start_time": "2021-12-01T12:20:57.747Z"
   },
   {
    "duration": 21,
    "start_time": "2021-12-01T12:21:08.154Z"
   },
   {
    "duration": 16,
    "start_time": "2021-12-01T12:21:08.932Z"
   },
   {
    "duration": 8,
    "start_time": "2021-12-01T12:26:15.668Z"
   },
   {
    "duration": 326,
    "start_time": "2021-12-01T12:26:33.356Z"
   },
   {
    "duration": 255,
    "start_time": "2021-12-01T12:27:18.501Z"
   },
   {
    "duration": 261,
    "start_time": "2021-12-01T12:27:53.148Z"
   },
   {
    "duration": 285,
    "start_time": "2021-12-01T12:28:11.514Z"
   },
   {
    "duration": 8,
    "start_time": "2021-12-01T12:29:24.819Z"
   },
   {
    "duration": 257,
    "start_time": "2021-12-01T12:29:30.348Z"
   },
   {
    "duration": 9,
    "start_time": "2021-12-01T12:29:42.328Z"
   },
   {
    "duration": 12,
    "start_time": "2021-12-01T12:30:10.557Z"
   },
   {
    "duration": 6,
    "start_time": "2021-12-01T12:30:11.684Z"
   },
   {
    "duration": 387,
    "start_time": "2021-12-01T12:31:14.467Z"
   },
   {
    "duration": 15,
    "start_time": "2021-12-01T12:31:33.667Z"
   },
   {
    "duration": 13,
    "start_time": "2021-12-01T12:31:34.326Z"
   },
   {
    "duration": 258,
    "start_time": "2021-12-01T12:31:40.682Z"
   },
   {
    "duration": 4,
    "start_time": "2021-12-01T12:32:15.845Z"
   },
   {
    "duration": 19,
    "start_time": "2021-12-01T12:32:18.733Z"
   },
   {
    "duration": 14,
    "start_time": "2021-12-01T12:32:21.165Z"
   },
   {
    "duration": 21,
    "start_time": "2021-12-01T12:32:22.004Z"
   },
   {
    "duration": 15,
    "start_time": "2021-12-01T12:32:22.653Z"
   },
   {
    "duration": 260,
    "start_time": "2021-12-01T12:33:57.857Z"
   },
   {
    "duration": 284,
    "start_time": "2021-12-01T12:35:13.013Z"
   },
   {
    "duration": 290,
    "start_time": "2021-12-01T13:50:51.285Z"
   },
   {
    "duration": 247,
    "start_time": "2021-12-01T13:51:09.113Z"
   },
   {
    "duration": 27,
    "start_time": "2021-12-01T13:52:33.810Z"
   },
   {
    "duration": 8,
    "start_time": "2021-12-01T13:55:02.131Z"
   },
   {
    "duration": 4,
    "start_time": "2021-12-01T13:55:07.496Z"
   },
   {
    "duration": 278,
    "start_time": "2021-12-01T13:56:50.431Z"
   },
   {
    "duration": 263,
    "start_time": "2021-12-01T13:57:05.687Z"
   },
   {
    "duration": 253,
    "start_time": "2021-12-01T13:59:07.973Z"
   },
   {
    "duration": 8,
    "start_time": "2021-12-01T14:00:46.491Z"
   },
   {
    "duration": 5,
    "start_time": "2021-12-01T14:00:52.183Z"
   },
   {
    "duration": 318,
    "start_time": "2021-12-01T14:18:14.668Z"
   },
   {
    "duration": 264,
    "start_time": "2021-12-01T14:21:47.680Z"
   },
   {
    "duration": 8,
    "start_time": "2021-12-01T14:24:51.908Z"
   },
   {
    "duration": 246,
    "start_time": "2021-12-01T14:24:54.656Z"
   },
   {
    "duration": 243,
    "start_time": "2021-12-01T14:24:57.639Z"
   },
   {
    "duration": 7,
    "start_time": "2021-12-01T14:25:00.934Z"
   },
   {
    "duration": 258,
    "start_time": "2021-12-01T14:25:03.688Z"
   },
   {
    "duration": 13,
    "start_time": "2021-12-01T14:25:20.504Z"
   },
   {
    "duration": 12,
    "start_time": "2021-12-01T14:25:23.419Z"
   },
   {
    "duration": 7,
    "start_time": "2021-12-01T14:25:29.327Z"
   },
   {
    "duration": 332,
    "start_time": "2021-12-01T14:25:32.072Z"
   },
   {
    "duration": 643,
    "start_time": "2021-12-01T14:26:00.066Z"
   },
   {
    "duration": 148,
    "start_time": "2021-12-01T14:26:01.778Z"
   },
   {
    "duration": 18,
    "start_time": "2021-12-01T14:26:03.716Z"
   },
   {
    "duration": 26,
    "start_time": "2021-12-01T14:26:05.884Z"
   },
   {
    "duration": 4,
    "start_time": "2021-12-01T14:26:09.664Z"
   },
   {
    "duration": 25,
    "start_time": "2021-12-01T14:26:11.740Z"
   },
   {
    "duration": 4,
    "start_time": "2021-12-01T14:26:13.385Z"
   },
   {
    "duration": 25,
    "start_time": "2021-12-01T14:26:15.361Z"
   },
   {
    "duration": 18,
    "start_time": "2021-12-01T14:26:17.358Z"
   },
   {
    "duration": 24,
    "start_time": "2021-12-01T14:26:19.163Z"
   },
   {
    "duration": 58,
    "start_time": "2021-12-01T14:26:21.052Z"
   },
   {
    "duration": 73,
    "start_time": "2021-12-01T14:26:22.490Z"
   },
   {
    "duration": 56,
    "start_time": "2021-12-01T14:26:23.564Z"
   },
   {
    "duration": 9,
    "start_time": "2021-12-01T14:26:26.225Z"
   },
   {
    "duration": 4,
    "start_time": "2021-12-01T14:26:28.794Z"
   },
   {
    "duration": 9,
    "start_time": "2021-12-01T14:26:29.832Z"
   },
   {
    "duration": 12,
    "start_time": "2021-12-01T14:26:34.678Z"
   },
   {
    "duration": 13,
    "start_time": "2021-12-01T14:26:39.375Z"
   },
   {
    "duration": 11,
    "start_time": "2021-12-01T14:26:41.899Z"
   },
   {
    "duration": 3,
    "start_time": "2021-12-01T14:26:44.398Z"
   },
   {
    "duration": 18,
    "start_time": "2021-12-01T14:26:46.353Z"
   },
   {
    "duration": 15,
    "start_time": "2021-12-01T14:26:46.739Z"
   },
   {
    "duration": 16,
    "start_time": "2021-12-01T14:26:47.174Z"
   },
   {
    "duration": 14,
    "start_time": "2021-12-01T14:26:47.507Z"
   },
   {
    "duration": 18,
    "start_time": "2021-12-01T14:26:47.814Z"
   },
   {
    "duration": 15,
    "start_time": "2021-12-01T14:26:48.289Z"
   },
   {
    "duration": 8,
    "start_time": "2021-12-01T14:26:50.579Z"
   },
   {
    "duration": 13,
    "start_time": "2021-12-01T14:26:53.770Z"
   },
   {
    "duration": 10,
    "start_time": "2021-12-01T14:26:54.651Z"
   },
   {
    "duration": 5,
    "start_time": "2021-12-01T14:26:56.331Z"
   },
   {
    "duration": 18,
    "start_time": "2021-12-01T14:26:59.486Z"
   },
   {
    "duration": 14,
    "start_time": "2021-12-01T14:27:00.454Z"
   },
   {
    "duration": 18,
    "start_time": "2021-12-01T14:27:01.215Z"
   },
   {
    "duration": 14,
    "start_time": "2021-12-01T14:27:01.909Z"
   },
   {
    "duration": 8,
    "start_time": "2021-12-01T14:27:05.406Z"
   },
   {
    "duration": 296,
    "start_time": "2021-12-01T14:27:06.764Z"
   },
   {
    "duration": 4,
    "start_time": "2021-12-01T14:27:15.666Z"
   },
   {
    "duration": 7,
    "start_time": "2021-12-01T14:27:30.858Z"
   },
   {
    "duration": 237,
    "start_time": "2021-12-01T14:27:33.573Z"
   },
   {
    "duration": 255,
    "start_time": "2021-12-01T14:29:11.055Z"
   },
   {
    "duration": 5,
    "start_time": "2021-12-01T14:29:53.623Z"
   },
   {
    "duration": 683,
    "start_time": "2021-12-01T14:30:48.596Z"
   },
   {
    "duration": 295,
    "start_time": "2021-12-01T14:31:16.339Z"
   },
   {
    "duration": 258,
    "start_time": "2021-12-01T14:31:58.879Z"
   },
   {
    "duration": 248,
    "start_time": "2021-12-01T14:54:09.429Z"
   },
   {
    "duration": 286,
    "start_time": "2021-12-01T14:54:27.836Z"
   },
   {
    "duration": 27,
    "start_time": "2021-12-01T15:19:32.634Z"
   },
   {
    "duration": 15,
    "start_time": "2021-12-01T15:19:56.006Z"
   },
   {
    "duration": 25,
    "start_time": "2021-12-01T15:20:22.442Z"
   },
   {
    "duration": 297,
    "start_time": "2021-12-01T15:23:58.805Z"
   },
   {
    "duration": 1490,
    "start_time": "2021-12-01T15:24:05.696Z"
   },
   {
    "duration": 257,
    "start_time": "2021-12-01T15:24:24.204Z"
   },
   {
    "duration": 296,
    "start_time": "2021-12-01T15:26:44.138Z"
   },
   {
    "duration": 690,
    "start_time": "2021-12-01T15:27:19.557Z"
   },
   {
    "duration": 187,
    "start_time": "2021-12-01T15:27:20.249Z"
   },
   {
    "duration": 27,
    "start_time": "2021-12-01T15:27:20.438Z"
   },
   {
    "duration": 34,
    "start_time": "2021-12-01T15:27:20.467Z"
   },
   {
    "duration": 10,
    "start_time": "2021-12-01T15:27:20.503Z"
   },
   {
    "duration": 38,
    "start_time": "2021-12-01T15:27:20.514Z"
   },
   {
    "duration": 10,
    "start_time": "2021-12-01T15:27:20.554Z"
   },
   {
    "duration": 30,
    "start_time": "2021-12-01T15:27:20.567Z"
   },
   {
    "duration": 38,
    "start_time": "2021-12-01T15:27:20.599Z"
   },
   {
    "duration": 54,
    "start_time": "2021-12-01T15:27:20.639Z"
   },
   {
    "duration": 83,
    "start_time": "2021-12-01T15:27:20.695Z"
   },
   {
    "duration": 94,
    "start_time": "2021-12-01T15:27:20.780Z"
   },
   {
    "duration": 66,
    "start_time": "2021-12-01T15:27:20.877Z"
   },
   {
    "duration": 19,
    "start_time": "2021-12-01T15:27:20.946Z"
   },
   {
    "duration": 4,
    "start_time": "2021-12-01T15:27:20.967Z"
   },
   {
    "duration": 25,
    "start_time": "2021-12-01T15:27:20.973Z"
   },
   {
    "duration": 41,
    "start_time": "2021-12-01T15:27:21.000Z"
   },
   {
    "duration": 14,
    "start_time": "2021-12-01T15:27:21.043Z"
   },
   {
    "duration": 14,
    "start_time": "2021-12-01T15:27:21.059Z"
   },
   {
    "duration": 5,
    "start_time": "2021-12-01T15:27:21.076Z"
   },
   {
    "duration": 41,
    "start_time": "2021-12-01T15:27:21.083Z"
   },
   {
    "duration": 46,
    "start_time": "2021-12-01T15:27:21.126Z"
   },
   {
    "duration": 38,
    "start_time": "2021-12-01T15:27:21.177Z"
   },
   {
    "duration": 26,
    "start_time": "2021-12-01T15:27:21.217Z"
   },
   {
    "duration": 35,
    "start_time": "2021-12-01T15:27:21.245Z"
   },
   {
    "duration": 40,
    "start_time": "2021-12-01T15:27:21.282Z"
   },
   {
    "duration": 26,
    "start_time": "2021-12-01T15:27:21.324Z"
   },
   {
    "duration": 46,
    "start_time": "2021-12-01T15:27:21.353Z"
   },
   {
    "duration": 15,
    "start_time": "2021-12-01T15:27:21.401Z"
   },
   {
    "duration": 86,
    "start_time": "2021-12-01T15:27:21.418Z"
   },
   {
    "duration": 32,
    "start_time": "2021-12-01T15:27:21.506Z"
   },
   {
    "duration": 28,
    "start_time": "2021-12-01T15:27:21.540Z"
   },
   {
    "duration": 52,
    "start_time": "2021-12-01T15:27:21.570Z"
   },
   {
    "duration": 16,
    "start_time": "2021-12-01T15:27:21.624Z"
   },
   {
    "duration": 399,
    "start_time": "2021-12-01T15:27:21.642Z"
   },
   {
    "duration": -43,
    "start_time": "2021-12-01T15:27:22.086Z"
   },
   {
    "duration": -46,
    "start_time": "2021-12-01T15:27:22.091Z"
   },
   {
    "duration": -53,
    "start_time": "2021-12-01T15:27:22.099Z"
   },
   {
    "duration": 634,
    "start_time": "2021-12-01T15:28:00.918Z"
   },
   {
    "duration": 159,
    "start_time": "2021-12-01T15:28:01.555Z"
   },
   {
    "duration": 18,
    "start_time": "2021-12-01T15:28:01.716Z"
   },
   {
    "duration": 40,
    "start_time": "2021-12-01T15:28:01.735Z"
   },
   {
    "duration": 7,
    "start_time": "2021-12-01T15:28:01.777Z"
   },
   {
    "duration": 32,
    "start_time": "2021-12-01T15:28:01.786Z"
   },
   {
    "duration": 15,
    "start_time": "2021-12-01T15:28:01.820Z"
   },
   {
    "duration": 118,
    "start_time": "2021-12-01T15:28:01.837Z"
   },
   {
    "duration": 54,
    "start_time": "2021-12-01T15:28:01.957Z"
   },
   {
    "duration": 46,
    "start_time": "2021-12-01T15:28:02.013Z"
   },
   {
    "duration": 73,
    "start_time": "2021-12-01T15:28:02.061Z"
   },
   {
    "duration": 90,
    "start_time": "2021-12-01T15:28:02.136Z"
   },
   {
    "duration": 67,
    "start_time": "2021-12-01T15:28:02.228Z"
   },
   {
    "duration": 10,
    "start_time": "2021-12-01T15:28:02.297Z"
   },
   {
    "duration": 26,
    "start_time": "2021-12-01T15:28:02.309Z"
   },
   {
    "duration": 26,
    "start_time": "2021-12-01T15:28:02.337Z"
   },
   {
    "duration": 45,
    "start_time": "2021-12-01T15:28:02.365Z"
   },
   {
    "duration": 15,
    "start_time": "2021-12-01T15:28:02.412Z"
   },
   {
    "duration": 13,
    "start_time": "2021-12-01T15:28:02.429Z"
   },
   {
    "duration": 34,
    "start_time": "2021-12-01T15:28:02.444Z"
   },
   {
    "duration": 46,
    "start_time": "2021-12-01T15:28:02.481Z"
   },
   {
    "duration": 45,
    "start_time": "2021-12-01T15:28:02.529Z"
   },
   {
    "duration": 34,
    "start_time": "2021-12-01T15:28:02.577Z"
   },
   {
    "duration": 50,
    "start_time": "2021-12-01T15:28:02.613Z"
   },
   {
    "duration": 76,
    "start_time": "2021-12-01T15:28:02.665Z"
   },
   {
    "duration": 73,
    "start_time": "2021-12-01T15:28:02.743Z"
   },
   {
    "duration": 24,
    "start_time": "2021-12-01T15:28:02.818Z"
   },
   {
    "duration": 57,
    "start_time": "2021-12-01T15:28:02.844Z"
   },
   {
    "duration": 47,
    "start_time": "2021-12-01T15:28:02.903Z"
   },
   {
    "duration": 16,
    "start_time": "2021-12-01T15:28:02.952Z"
   },
   {
    "duration": 41,
    "start_time": "2021-12-01T15:28:02.970Z"
   },
   {
    "duration": 20,
    "start_time": "2021-12-01T15:28:03.013Z"
   },
   {
    "duration": 41,
    "start_time": "2021-12-01T15:28:03.035Z"
   },
   {
    "duration": 29,
    "start_time": "2021-12-01T15:28:03.078Z"
   },
   {
    "duration": 328,
    "start_time": "2021-12-01T15:28:03.109Z"
   },
   {
    "duration": 64,
    "start_time": "2021-12-01T15:28:03.375Z"
   },
   {
    "duration": 56,
    "start_time": "2021-12-01T15:28:03.384Z"
   },
   {
    "duration": 50,
    "start_time": "2021-12-01T15:28:03.391Z"
   },
   {
    "duration": 9,
    "start_time": "2021-12-01T15:29:35.695Z"
   },
   {
    "duration": 5,
    "start_time": "2021-12-01T15:29:38.706Z"
   },
   {
    "duration": 291,
    "start_time": "2021-12-01T15:31:39.832Z"
   },
   {
    "duration": 276,
    "start_time": "2021-12-01T15:31:53.770Z"
   },
   {
    "duration": 13,
    "start_time": "2021-12-01T15:32:48.323Z"
   },
   {
    "duration": 426,
    "start_time": "2021-12-01T15:34:04.342Z"
   },
   {
    "duration": 518,
    "start_time": "2021-12-01T15:34:22.676Z"
   },
   {
    "duration": 7233,
    "start_time": "2021-12-01T15:34:55.369Z"
   },
   {
    "duration": 59,
    "start_time": "2021-12-01T15:35:02.545Z"
   },
   {
    "duration": 83,
    "start_time": "2021-12-01T15:35:39.708Z"
   },
   {
    "duration": 639,
    "start_time": "2021-12-01T15:36:25.251Z"
   },
   {
    "duration": 429,
    "start_time": "2021-12-01T15:36:43.513Z"
   },
   {
    "duration": 7,
    "start_time": "2021-12-02T05:38:14.239Z"
   },
   {
    "duration": 5,
    "start_time": "2021-12-02T05:38:17.910Z"
   },
   {
    "duration": 250,
    "start_time": "2021-12-02T05:38:57.074Z"
   },
   {
    "duration": 247,
    "start_time": "2021-12-02T05:41:23.105Z"
   },
   {
    "duration": 260,
    "start_time": "2021-12-02T05:42:24.654Z"
   },
   {
    "duration": 640,
    "start_time": "2021-12-02T05:47:12.341Z"
   },
   {
    "duration": 166,
    "start_time": "2021-12-02T05:47:12.983Z"
   },
   {
    "duration": 30,
    "start_time": "2021-12-02T05:47:13.152Z"
   },
   {
    "duration": 29,
    "start_time": "2021-12-02T05:47:13.185Z"
   },
   {
    "duration": 5,
    "start_time": "2021-12-02T05:47:13.217Z"
   },
   {
    "duration": 63,
    "start_time": "2021-12-02T05:47:13.224Z"
   },
   {
    "duration": 7,
    "start_time": "2021-12-02T05:47:13.289Z"
   },
   {
    "duration": 25,
    "start_time": "2021-12-02T05:47:13.300Z"
   },
   {
    "duration": 39,
    "start_time": "2021-12-02T05:47:13.328Z"
   },
   {
    "duration": 33,
    "start_time": "2021-12-02T05:47:13.369Z"
   },
   {
    "duration": 83,
    "start_time": "2021-12-02T05:47:13.405Z"
   },
   {
    "duration": 92,
    "start_time": "2021-12-02T05:47:13.490Z"
   },
   {
    "duration": 57,
    "start_time": "2021-12-02T05:47:13.584Z"
   },
   {
    "duration": 23,
    "start_time": "2021-12-02T05:47:13.643Z"
   },
   {
    "duration": 3,
    "start_time": "2021-12-02T05:47:13.669Z"
   },
   {
    "duration": 13,
    "start_time": "2021-12-02T05:47:13.675Z"
   },
   {
    "duration": 9,
    "start_time": "2021-12-02T05:47:13.690Z"
   },
   {
    "duration": 11,
    "start_time": "2021-12-02T05:47:13.700Z"
   },
   {
    "duration": 11,
    "start_time": "2021-12-02T05:47:13.713Z"
   },
   {
    "duration": 39,
    "start_time": "2021-12-02T05:47:13.725Z"
   },
   {
    "duration": 26,
    "start_time": "2021-12-02T05:47:13.767Z"
   },
   {
    "duration": 16,
    "start_time": "2021-12-02T05:47:13.795Z"
   },
   {
    "duration": 15,
    "start_time": "2021-12-02T05:47:13.814Z"
   },
   {
    "duration": 50,
    "start_time": "2021-12-02T05:47:13.831Z"
   },
   {
    "duration": 17,
    "start_time": "2021-12-02T05:47:13.884Z"
   },
   {
    "duration": 16,
    "start_time": "2021-12-02T05:47:13.903Z"
   },
   {
    "duration": 8,
    "start_time": "2021-12-02T05:47:13.921Z"
   },
   {
    "duration": 50,
    "start_time": "2021-12-02T05:47:13.931Z"
   },
   {
    "duration": 9,
    "start_time": "2021-12-02T05:47:13.983Z"
   },
   {
    "duration": 4,
    "start_time": "2021-12-02T05:47:13.994Z"
   },
   {
    "duration": 28,
    "start_time": "2021-12-02T05:47:14.000Z"
   },
   {
    "duration": 20,
    "start_time": "2021-12-02T05:47:14.030Z"
   },
   {
    "duration": 28,
    "start_time": "2021-12-02T05:47:14.063Z"
   },
   {
    "duration": 13,
    "start_time": "2021-12-02T05:47:14.093Z"
   },
   {
    "duration": 319,
    "start_time": "2021-12-02T05:47:14.107Z"
   },
   {
    "duration": -14,
    "start_time": "2021-12-02T05:47:14.442Z"
   },
   {
    "duration": -19,
    "start_time": "2021-12-02T05:47:14.448Z"
   },
   {
    "duration": -23,
    "start_time": "2021-12-02T05:47:14.453Z"
   },
   {
    "duration": 249,
    "start_time": "2021-12-02T05:48:39.200Z"
   },
   {
    "duration": 8,
    "start_time": "2021-12-02T05:49:17.394Z"
   },
   {
    "duration": 123,
    "start_time": "2021-12-02T05:49:29.148Z"
   },
   {
    "duration": 246,
    "start_time": "2021-12-02T05:50:20.601Z"
   },
   {
    "duration": 5,
    "start_time": "2021-12-02T06:29:36.903Z"
   },
   {
    "duration": 6,
    "start_time": "2021-12-02T06:29:44.048Z"
   },
   {
    "duration": 5,
    "start_time": "2021-12-02T06:30:13.241Z"
   },
   {
    "duration": 309,
    "start_time": "2021-12-02T06:30:21.321Z"
   },
   {
    "duration": 9,
    "start_time": "2021-12-02T06:32:09.946Z"
   },
   {
    "duration": 6,
    "start_time": "2021-12-02T06:32:12.259Z"
   },
   {
    "duration": 6,
    "start_time": "2021-12-02T06:49:09.949Z"
   },
   {
    "duration": 5,
    "start_time": "2021-12-02T06:49:12.375Z"
   }
  ],
  "colab": {
   "collapsed_sections": [
    "E0vqbgi9ay0H",
    "VUC88oWjTJw2"
   ],
   "name": "yandex_music_project_2021.2.ipynb",
   "provenance": []
  },
  "kernelspec": {
   "display_name": "Python 3 (ipykernel)",
   "language": "python",
   "name": "python3"
  },
  "language_info": {
   "codemirror_mode": {
    "name": "ipython",
    "version": 3
   },
   "file_extension": ".py",
   "mimetype": "text/x-python",
   "name": "python",
   "nbconvert_exporter": "python",
   "pygments_lexer": "ipython3",
   "version": "3.9.7"
  },
  "toc": {
   "base_numbering": 1,
   "nav_menu": {},
   "number_sections": true,
   "sideBar": true,
   "skip_h1_title": true,
   "title_cell": "Table of Contents",
   "title_sidebar": "Contents",
   "toc_cell": false,
   "toc_position": {},
   "toc_section_display": true,
   "toc_window_display": true
  }
 },
 "nbformat": 4,
 "nbformat_minor": 1
}
