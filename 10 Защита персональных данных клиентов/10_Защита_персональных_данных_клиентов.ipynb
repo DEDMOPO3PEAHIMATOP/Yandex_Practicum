{
 "cells": [
  {
   "cell_type": "markdown",
   "metadata": {
    "toc": true
   },
   "source": [
    "<h1>Содержание<span class=\"tocSkip\"></span></h1>\n",
    "<div class=\"toc\"><ul class=\"toc-item\"><li><span><a href=\"#Загрузка-данных\" data-toc-modified-id=\"Загрузка-данных-1\"><span class=\"toc-item-num\">1&nbsp;&nbsp;</span>Загрузка данных</a></span></li><li><span><a href=\"#Умножение-матриц\" data-toc-modified-id=\"Умножение-матриц-2\"><span class=\"toc-item-num\">2&nbsp;&nbsp;</span>Умножение матриц</a></span></li><li><span><a href=\"#Алгоритм-преобразования\" data-toc-modified-id=\"Алгоритм-преобразования-3\"><span class=\"toc-item-num\">3&nbsp;&nbsp;</span>Алгоритм преобразования</a></span></li><li><span><a href=\"#Проверка-алгоритма\" data-toc-modified-id=\"Проверка-алгоритма-4\"><span class=\"toc-item-num\">4&nbsp;&nbsp;</span>Проверка алгоритма</a></span></li><li><span><a href=\"#Чек-лист-проверки\" data-toc-modified-id=\"Чек-лист-проверки-5\"><span class=\"toc-item-num\">5&nbsp;&nbsp;</span>Чек-лист проверки</a></span></li></ul></div>"
   ]
  },
  {
   "cell_type": "markdown",
   "metadata": {},
   "source": [
    "# Защита персональных данных клиентов"
   ]
  },
  {
   "cell_type": "markdown",
   "metadata": {},
   "source": [
    "Вам нужно защитить данные клиентов страховой компании «Хоть потоп». Разработайте такой метод преобразования данных, чтобы по ним было сложно восстановить персональную информацию. Обоснуйте корректность его работы.\n",
    "\n",
    "Нужно защитить данные, чтобы при преобразовании качество моделей машинного обучения не ухудшилось. Подбирать наилучшую модель не требуется."
   ]
  },
  {
   "cell_type": "markdown",
   "metadata": {},
   "source": [
    "## Загрузка данных"
   ]
  },
  {
   "cell_type": "markdown",
   "metadata": {},
   "source": [
    "Загрузим необходимые библиотеки"
   ]
  },
  {
   "cell_type": "code",
   "execution_count": 1,
   "metadata": {},
   "outputs": [],
   "source": [
    "import numpy as np\n",
    "import pandas as pd\n",
    "\n",
    "from sklearn.metrics import r2_score"
   ]
  },
  {
   "cell_type": "markdown",
   "metadata": {},
   "source": [
    "Создадим наш датафрейм из загруженного файла"
   ]
  },
  {
   "cell_type": "code",
   "execution_count": 2,
   "metadata": {},
   "outputs": [],
   "source": [
    "try:\n",
    "    df = pd.read_csv ('insurance.csv')\n",
    "except:\n",
    "    df = pd.read_csv ('/datasets/insurance.csv')"
   ]
  },
  {
   "cell_type": "markdown",
   "metadata": {},
   "source": [
    "Создадим функцию для просмотра данных в датасете"
   ]
  },
  {
   "cell_type": "code",
   "execution_count": 3,
   "metadata": {},
   "outputs": [],
   "source": [
    "def first_look(df: pd.DataFrame, limit_na_category: int=10) -> None:\n",
    "    '''Функция получения первичной информации о датафрейме'''\n",
    "    print('------------- Первые 5 строк ------------')\n",
    "    display(df.head())\n",
    "    print('')\n",
    "    print('')\n",
    "    print('------------- Типы данных ------------')\n",
    "    print(df.info())\n",
    "    print('')\n",
    "    print('')\n",
    "    print('------------- Пропуски ------------')\n",
    "    count = 0\n",
    "    shape_0 = df.shape[0]\n",
    "    for element in df.columns:\n",
    "        if df[element].isna().sum() > 0:\n",
    "            print(element, ' - ', df[element].isna().sum(), 'пропусков, ', round(df[element].isna().sum() * 100 / shape_0,2), '% от числа строк.' )\n",
    "            count = +1\n",
    "    if count == 0:\n",
    "        print('Пропусков НЕТ')\n",
    "        print('')\n",
    "        print('')\n",
    "    print('------------- Дубликаты ------------')\n",
    "    if df.duplicated().sum() > 0:\n",
    "        print('Дубликатов: ', df.duplicated().sum())\n",
    "    else:\n",
    "        print('Дубликатов НЕТ')\n",
    "    # ищем, есть ли категориальные столбцы (содержащие до limit_na_category уникальных значений) в датафрейме\n",
    "    min_unique = limit_na_category + 1\n",
    "    for element in df.columns:\n",
    "        min_unique = min(min_unique, df[element].nunique())\n",
    "        if min_unique <= limit_na_category:\n",
    "            print('')\n",
    "            print('')\n",
    "    print('------------- Категориальные признаки ------------')\n",
    "    for element in df.columns:\n",
    "        if df[element].nunique() <= limit_na_category:\n",
    "            print(element, ': ', df[element].nunique(), 'категории - ', df[element].unique(), )"
   ]
  },
  {
   "cell_type": "markdown",
   "metadata": {},
   "source": [
    "Быстрый взгляд на наши данные"
   ]
  },
  {
   "cell_type": "code",
   "execution_count": 4,
   "metadata": {},
   "outputs": [
    {
     "name": "stdout",
     "output_type": "stream",
     "text": [
      "------------- Первые 5 строк ------------\n"
     ]
    },
    {
     "data": {
      "text/html": [
       "<div>\n",
       "<style scoped>\n",
       "    .dataframe tbody tr th:only-of-type {\n",
       "        vertical-align: middle;\n",
       "    }\n",
       "\n",
       "    .dataframe tbody tr th {\n",
       "        vertical-align: top;\n",
       "    }\n",
       "\n",
       "    .dataframe thead th {\n",
       "        text-align: right;\n",
       "    }\n",
       "</style>\n",
       "<table border=\"1\" class=\"dataframe\">\n",
       "  <thead>\n",
       "    <tr style=\"text-align: right;\">\n",
       "      <th></th>\n",
       "      <th>Пол</th>\n",
       "      <th>Возраст</th>\n",
       "      <th>Зарплата</th>\n",
       "      <th>Члены семьи</th>\n",
       "      <th>Страховые выплаты</th>\n",
       "    </tr>\n",
       "  </thead>\n",
       "  <tbody>\n",
       "    <tr>\n",
       "      <th>0</th>\n",
       "      <td>1</td>\n",
       "      <td>41.0</td>\n",
       "      <td>49600.0</td>\n",
       "      <td>1</td>\n",
       "      <td>0</td>\n",
       "    </tr>\n",
       "    <tr>\n",
       "      <th>1</th>\n",
       "      <td>0</td>\n",
       "      <td>46.0</td>\n",
       "      <td>38000.0</td>\n",
       "      <td>1</td>\n",
       "      <td>1</td>\n",
       "    </tr>\n",
       "    <tr>\n",
       "      <th>2</th>\n",
       "      <td>0</td>\n",
       "      <td>29.0</td>\n",
       "      <td>21000.0</td>\n",
       "      <td>0</td>\n",
       "      <td>0</td>\n",
       "    </tr>\n",
       "    <tr>\n",
       "      <th>3</th>\n",
       "      <td>0</td>\n",
       "      <td>21.0</td>\n",
       "      <td>41700.0</td>\n",
       "      <td>2</td>\n",
       "      <td>0</td>\n",
       "    </tr>\n",
       "    <tr>\n",
       "      <th>4</th>\n",
       "      <td>1</td>\n",
       "      <td>28.0</td>\n",
       "      <td>26100.0</td>\n",
       "      <td>0</td>\n",
       "      <td>0</td>\n",
       "    </tr>\n",
       "  </tbody>\n",
       "</table>\n",
       "</div>"
      ],
      "text/plain": [
       "   Пол  Возраст  Зарплата  Члены семьи  Страховые выплаты\n",
       "0    1     41.0   49600.0            1                  0\n",
       "1    0     46.0   38000.0            1                  1\n",
       "2    0     29.0   21000.0            0                  0\n",
       "3    0     21.0   41700.0            2                  0\n",
       "4    1     28.0   26100.0            0                  0"
      ]
     },
     "metadata": {},
     "output_type": "display_data"
    },
    {
     "name": "stdout",
     "output_type": "stream",
     "text": [
      "\n",
      "\n",
      "------------- Типы данных ------------\n",
      "<class 'pandas.core.frame.DataFrame'>\n",
      "RangeIndex: 5000 entries, 0 to 4999\n",
      "Data columns (total 5 columns):\n",
      " #   Column             Non-Null Count  Dtype  \n",
      "---  ------             --------------  -----  \n",
      " 0   Пол                5000 non-null   int64  \n",
      " 1   Возраст            5000 non-null   float64\n",
      " 2   Зарплата           5000 non-null   float64\n",
      " 3   Члены семьи        5000 non-null   int64  \n",
      " 4   Страховые выплаты  5000 non-null   int64  \n",
      "dtypes: float64(2), int64(3)\n",
      "memory usage: 195.4 KB\n",
      "None\n",
      "\n",
      "\n",
      "------------- Пропуски ------------\n",
      "Пропусков НЕТ\n",
      "\n",
      "\n",
      "------------- Дубликаты ------------\n",
      "Дубликатов:  153\n",
      "\n",
      "\n",
      "\n",
      "\n",
      "\n",
      "\n",
      "\n",
      "\n",
      "\n",
      "\n",
      "------------- Категориальные признаки ------------\n",
      "Пол :  2 категории -  [1 0]\n",
      "Члены семьи :  7 категории -  [1 0 2 4 3 5 6]\n",
      "Страховые выплаты :  6 категории -  [0 1 2 3 5 4]\n"
     ]
    }
   ],
   "source": [
    "first_look(df)"
   ]
  },
  {
   "cell_type": "markdown",
   "metadata": {},
   "source": [
    "Наши данные состоят из 5 колонок (не считая колонки индекса) и 5000 строк (не считая строки с наименованием столбцов).\n",
    "\n",
    "Типы данных в столбцах нас устраивают.\n",
    "\n",
    "Пропусков нет.\n",
    "\n",
    "Имеется 153 дубликата данных и 3 столбца с категориальными данными.\n",
    "\n",
    "Дропнем дубликаты, т.к. в нашем исследовании от них не будет толка."
   ]
  },
  {
   "cell_type": "code",
   "execution_count": 5,
   "metadata": {},
   "outputs": [],
   "source": [
    "df = df.drop_duplicates()"
   ]
  },
  {
   "cell_type": "markdown",
   "metadata": {},
   "source": [
    "## Умножение матриц"
   ]
  },
  {
   "cell_type": "markdown",
   "metadata": {},
   "source": [
    "В этом задании вы можете записывать формулы в *Jupyter Notebook.*\n",
    "\n",
    "Чтобы записать формулу внутри текста, окружите её символами доллара \\\\$; если снаружи —  двойными символами \\\\$\\\\$. Эти формулы записываются на языке вёрстки *LaTeX.* \n",
    "\n",
    "Для примера мы записали формулы линейной регрессии. Можете их скопировать и отредактировать, чтобы решить задачу.\n",
    "\n",
    "Работать в *LaTeX* необязательно."
   ]
  },
  {
   "cell_type": "markdown",
   "metadata": {},
   "source": [
    "Обозначения:\n",
    "\n",
    "- $X$ — матрица признаков (нулевой столбец состоит из единиц)\n",
    "\n",
    "- $y$ — вектор целевого признака\n",
    "\n",
    "- $P$ — матрица, на которую умножаются признаки\n",
    "\n",
    "- $w$ — вектор весов линейной регрессии (нулевой элемент равен сдвигу)"
   ]
  },
  {
   "cell_type": "markdown",
   "metadata": {},
   "source": [
    "Предсказания:\n",
    "\n",
    "$$\n",
    "a = Xw\n",
    "$$\n",
    "\n",
    "Задача обучения:\n",
    "\n",
    "$$\n",
    "w = \\arg\\min_w MSE(Xw, y)\n",
    "$$\n",
    "\n",
    "Формула обучения:\n",
    "\n",
    "$$\n",
    "w = (X^T X)^{-1} X^T y\n",
    "$$"
   ]
  },
  {
   "cell_type": "markdown",
   "metadata": {},
   "source": [
    "**Ответ:** Качество линейной регрессии не изменится, изменится лишь вектор весов линейной регрессии для новых признаков.\n",
    "\n",
    "**Обоснование:**\n",
    "\n",
    "Представим нашу новую матрицу признаков как результат умножения исходной матрицы признаков на некую обратимую матрицу:\n",
    "\n",
    "$$\n",
    "X_1 = XP\n",
    "$$\n",
    "\n",
    "Тогда наша формула обучения примет вид: $w_1 = (X_1^T X_1)^{-1} X_1^T y$\n",
    "\n",
    "Подставив в нее значения $X_1$, получим: $w_1 = ((XP)^T XP)^{-1} (XP)^T y$\n",
    "\n",
    "Воспользуемся следующими свойствами матриц, а именно:\n",
    "$$A(BC) = (AB)C$$\n",
    "$$(AB)^{-1} = A^{-1}B^{-1}$$\n",
    "$$(AB)^T = A^TB^T$$\n",
    "$$(A^T)^{-1} = (A^{-1})^T$$\n",
    "$$(ABC)^{-1} =C^{-1} B^{-1} A^{-1}$$\n",
    "$$AA^{-1} = E$$\n",
    "$$AE=EA=A$$\n",
    "Тогда нашу формулу для расчета вектора весов можно переписать:\n",
    "$$\n",
    "w_1 = ((XP)^T XP)^{-1} (XP)^T y \\Leftrightarrow\n",
    "$$\n",
    "$$\n",
    "w_1 = (P^T (X^T X) P)^{-1} (XP)^T y \\Leftrightarrow\n",
    "$$\n",
    "$$\n",
    "w_1 = (P^T (X^T X) P)^{-1} P^T X^T y \\Leftrightarrow\n",
    "$$\n",
    "$$\n",
    "w_1 = P^{-1} (X^T X)^{-1} (P^T)^{-1} P^T X^T y \\Leftrightarrow\n",
    "$$\n",
    "$$\n",
    "w_1 = P^{-1} (X^T X)^{-1} E X^T y \\Leftrightarrow\n",
    "$$\n",
    "$$\n",
    "w_1 = P^{-1}w\n",
    "$$\n",
    "\n",
    "Тоже самое, для формулы предсказаний: $a_1 = X_1w_1$, подставив получившиеся значения $X_1 = XP$ и $w_1 = P^{-1}w$ , получим:\n",
    "$$a_1 = XPP^{-1}w \\Leftrightarrow a_1 = Xw$$\n",
    "\n",
    "Тем самым получаем, что наши предсказания никоем образом не изменятся."
   ]
  },
  {
   "cell_type": "markdown",
   "metadata": {},
   "source": [
    "## Алгоритм преобразования"
   ]
  },
  {
   "cell_type": "markdown",
   "metadata": {},
   "source": [
    "**Алгоритм**\n",
    "\n",
    "Нам необходимо будет:\n",
    "\n",
    "сгенерировать обратимую матрицу, соответственно квадратную, размерностью соответствующую количеству столбцов признаков, а это 4х4.\n",
    "\n",
    "умножить матрицу исходных признаков на сгенерированную матрицу.\n",
    "\n",
    "посчитать качество модели на полученной матрице и сравнить с качеством модели на матрице исходных данных."
   ]
  },
  {
   "cell_type": "markdown",
   "metadata": {},
   "source": [
    "**Обоснование**\n",
    "\n",
    "В предыдущем пункте мы выяснили, что предсказания на измененной и изначальной матрице не должны отличаться, поэтому результаты метрики R2 должны оказаться равны. Тем самым мы докажем, что правильно защитили наши данные."
   ]
  },
  {
   "cell_type": "markdown",
   "metadata": {},
   "source": [
    "## Проверка алгоритма"
   ]
  },
  {
   "cell_type": "markdown",
   "metadata": {},
   "source": [
    "Создадим наши исходные признаки"
   ]
  },
  {
   "cell_type": "code",
   "execution_count": 6,
   "metadata": {},
   "outputs": [],
   "source": [
    "features = df.drop('Страховые выплаты', axis=1)\n",
    "target = df['Страховые выплаты']"
   ]
  },
  {
   "cell_type": "markdown",
   "metadata": {},
   "source": [
    "Сгенерируем матрицу размером 4х4 методом random.normal (), т.к. при таком подходе вероятность получить необратимую матрицу близка к нулю"
   ]
  },
  {
   "cell_type": "code",
   "execution_count": 7,
   "metadata": {},
   "outputs": [
    {
     "data": {
      "text/plain": [
       "array([[-0.65358598,  1.39928788,  0.65394593,  0.57088794],\n",
       "       [-0.6229067 ,  0.15706259, -0.91001021, -1.86956372],\n",
       "       [-1.62801548,  0.65718188, -0.46425167, -0.0140516 ],\n",
       "       [-0.87545177,  0.57943755,  1.94288095,  1.82890518]])"
      ]
     },
     "execution_count": 7,
     "metadata": {},
     "output_type": "execute_result"
    }
   ],
   "source": [
    "matrix_generated = np.random.normal(size=(4, 4))\n",
    "matrix_generated"
   ]
  },
  {
   "cell_type": "markdown",
   "metadata": {},
   "source": [
    "Сделаем из нашей сгенерированной матрицы обратную методом linalg.inv(), т.к. в процессе обращения мы одновременно проверим матрицу на обратимость, если появится ошибка, то изначально наша сгенерированная матрица не являлась обратимой."
   ]
  },
  {
   "cell_type": "code",
   "execution_count": 8,
   "metadata": {},
   "outputs": [
    {
     "data": {
      "text/plain": [
       "array([[ 0.40884934, -0.22568917, -0.4972873 , -0.36214842],\n",
       "       [ 0.951709  , -0.09688483, -0.13145587, -0.39712213],\n",
       "       [-0.08608536,  0.67844351, -0.60989208,  0.71571152],\n",
       "       [-0.01436621, -0.7980601 ,  0.45150898, -0.26107328]])"
      ]
     },
     "execution_count": 8,
     "metadata": {},
     "output_type": "execute_result"
    }
   ],
   "source": [
    "matrix_invert = np.linalg.inv(matrix_generated)\n",
    "matrix_invert"
   ]
  },
  {
   "cell_type": "raw",
   "metadata": {},
   "source": [
    "def generate_invertible_matrix(size):\n",
    "    try:\n",
    "        matrix = np.random.normal(size=(size, size))\n",
    "        # проверим матрицу на обратимость, если нет, пробуем сгенерировать еще раз\n",
    "        # таким образом гарантируем, что матрица стопроцентно будет обратимой\n",
    "        np.linalg.inv(matrix)\n",
    "    except np.linalg.LinAlgError:\n",
    "        matrix = generate_invertible_matrix()\n",
    "    \n",
    "    return matrix"
   ]
  },
  {
   "cell_type": "markdown",
   "metadata": {},
   "source": [
    "Создадим матрицу из наших изначальных признаков, перемножим ее на сгенерированную и обращенную матрицу и составим из полученной новый набор измененных признаков"
   ]
  },
  {
   "cell_type": "code",
   "execution_count": 9,
   "metadata": {},
   "outputs": [],
   "source": [
    "matrix = features.values\n",
    "matrix_new = matrix@matrix_invert\n",
    "features_incode = pd.DataFrame(matrix_new, columns=features.columns)"
   ]
  },
  {
   "cell_type": "code",
   "execution_count": 10,
   "metadata": {},
   "outputs": [
    {
     "data": {
      "text/html": [
       "<div>\n",
       "<style scoped>\n",
       "    .dataframe tbody tr th:only-of-type {\n",
       "        vertical-align: middle;\n",
       "    }\n",
       "\n",
       "    .dataframe tbody tr th {\n",
       "        vertical-align: top;\n",
       "    }\n",
       "\n",
       "    .dataframe thead th {\n",
       "        text-align: right;\n",
       "    }\n",
       "</style>\n",
       "<table border=\"1\" class=\"dataframe\">\n",
       "  <thead>\n",
       "    <tr style=\"text-align: right;\">\n",
       "      <th></th>\n",
       "      <th>Пол</th>\n",
       "      <th>Возраст</th>\n",
       "      <th>Зарплата</th>\n",
       "      <th>Члены семьи</th>\n",
       "    </tr>\n",
       "  </thead>\n",
       "  <tbody>\n",
       "    <tr>\n",
       "      <th>0</th>\n",
       "      <td>-4230.419473</td>\n",
       "      <td>33645.802017</td>\n",
       "      <td>-30256.082412</td>\n",
       "      <td>35482.386087</td>\n",
       "    </tr>\n",
       "    <tr>\n",
       "      <th>1</th>\n",
       "      <td>-3227.479562</td>\n",
       "      <td>25775.598578</td>\n",
       "      <td>-23181.494329</td>\n",
       "      <td>27178.509010</td>\n",
       "    </tr>\n",
       "    <tr>\n",
       "      <th>2</th>\n",
       "      <td>-1780.193070</td>\n",
       "      <td>14244.504028</td>\n",
       "      <td>-12811.545805</td>\n",
       "      <td>15018.425346</td>\n",
       "    </tr>\n",
       "    <tr>\n",
       "      <th>3</th>\n",
       "      <td>-3569.802497</td>\n",
       "      <td>28287.463622</td>\n",
       "      <td>-25434.357102</td>\n",
       "      <td>29836.308608</td>\n",
       "    </tr>\n",
       "    <tr>\n",
       "      <th>4</th>\n",
       "      <td>-2219.771283</td>\n",
       "      <td>17704.437119</td>\n",
       "      <td>-15922.361221</td>\n",
       "      <td>18668.589064</td>\n",
       "    </tr>\n",
       "    <tr>\n",
       "      <th>...</th>\n",
       "      <td>...</td>\n",
       "      <td>...</td>\n",
       "      <td>...</td>\n",
       "      <td>...</td>\n",
       "    </tr>\n",
       "    <tr>\n",
       "      <th>4842</th>\n",
       "      <td>-3046.628354</td>\n",
       "      <td>24216.124374</td>\n",
       "      <td>-21775.924840</td>\n",
       "      <td>25539.259643</td>\n",
       "    </tr>\n",
       "    <tr>\n",
       "      <th>4843</th>\n",
       "      <td>-4478.529303</td>\n",
       "      <td>35546.347725</td>\n",
       "      <td>-31962.362745</td>\n",
       "      <td>37489.520342</td>\n",
       "    </tr>\n",
       "    <tr>\n",
       "      <th>4844</th>\n",
       "      <td>-2899.288372</td>\n",
       "      <td>22995.701137</td>\n",
       "      <td>-20677.067458</td>\n",
       "      <td>24254.155887</td>\n",
       "    </tr>\n",
       "    <tr>\n",
       "      <th>4845</th>\n",
       "      <td>-2793.688035</td>\n",
       "      <td>22180.351407</td>\n",
       "      <td>-19945.505657</td>\n",
       "      <td>23393.884599</td>\n",
       "    </tr>\n",
       "    <tr>\n",
       "      <th>4846</th>\n",
       "      <td>-3468.023419</td>\n",
       "      <td>27541.069939</td>\n",
       "      <td>-24765.344807</td>\n",
       "      <td>29046.145008</td>\n",
       "    </tr>\n",
       "  </tbody>\n",
       "</table>\n",
       "<p>4847 rows × 4 columns</p>\n",
       "</div>"
      ],
      "text/plain": [
       "              Пол       Возраст      Зарплата   Члены семьи\n",
       "0    -4230.419473  33645.802017 -30256.082412  35482.386087\n",
       "1    -3227.479562  25775.598578 -23181.494329  27178.509010\n",
       "2    -1780.193070  14244.504028 -12811.545805  15018.425346\n",
       "3    -3569.802497  28287.463622 -25434.357102  29836.308608\n",
       "4    -2219.771283  17704.437119 -15922.361221  18668.589064\n",
       "...           ...           ...           ...           ...\n",
       "4842 -3046.628354  24216.124374 -21775.924840  25539.259643\n",
       "4843 -4478.529303  35546.347725 -31962.362745  37489.520342\n",
       "4844 -2899.288372  22995.701137 -20677.067458  24254.155887\n",
       "4845 -2793.688035  22180.351407 -19945.505657  23393.884599\n",
       "4846 -3468.023419  27541.069939 -24765.344807  29046.145008\n",
       "\n",
       "[4847 rows x 4 columns]"
      ]
     },
     "execution_count": 10,
     "metadata": {},
     "output_type": "execute_result"
    }
   ],
   "source": [
    "features_incode"
   ]
  },
  {
   "cell_type": "markdown",
   "metadata": {},
   "source": [
    "Создадим класс LinearRegression для последующего обучения наших моделей"
   ]
  },
  {
   "cell_type": "code",
   "execution_count": 11,
   "metadata": {},
   "outputs": [],
   "source": [
    "class LinearRegression:\n",
    "    def fit(self, train_features, train_target):\n",
    "        X = np.concatenate((np.ones((train_features.shape[0], 1)), train_features), axis=1)\n",
    "        y = train_target\n",
    "        w = np.linalg.inv(X.T@X)@X.T@y\n",
    "        self.w = w[1:]\n",
    "        self.w0 = w[0]\n",
    "\n",
    "    def predict(self, test_features):\n",
    "        return test_features.dot(self.w) + self.w0"
   ]
  },
  {
   "cell_type": "markdown",
   "metadata": {},
   "source": [
    "Обучим модель на изначальных признаках и выведем на экран метрику качества R2"
   ]
  },
  {
   "cell_type": "code",
   "execution_count": 12,
   "metadata": {},
   "outputs": [
    {
     "name": "stdout",
     "output_type": "stream",
     "text": [
      "0.4302010044852068\n"
     ]
    }
   ],
   "source": [
    "model = LinearRegression()\n",
    "model.fit(features, target)\n",
    "predictions = model.predict(features)\n",
    "print(r2_score(target, predictions))"
   ]
  },
  {
   "cell_type": "markdown",
   "metadata": {},
   "source": [
    "Обучим модель на закодированных признаках и выведем на экран метрику качества R2"
   ]
  },
  {
   "cell_type": "code",
   "execution_count": 13,
   "metadata": {},
   "outputs": [
    {
     "name": "stdout",
     "output_type": "stream",
     "text": [
      "0.43020100448519993\n"
     ]
    }
   ],
   "source": [
    "model = LinearRegression()\n",
    "model.fit(features_incode, target)\n",
    "predictions = model.predict(features_incode)\n",
    "print(r2_score(target, predictions))"
   ]
  },
  {
   "cell_type": "markdown",
   "metadata": {},
   "source": [
    "Из полученного результата видим, что метрики качества на изначальных и закодированных данных отличаются незначительно, что может быть связано с округлением"
   ]
  },
  {
   "cell_type": "markdown",
   "metadata": {},
   "source": [
    "## Чек-лист проверки"
   ]
  },
  {
   "cell_type": "markdown",
   "metadata": {},
   "source": [
    "Поставьте 'x' в выполненных пунктах. Далее нажмите Shift+Enter."
   ]
  },
  {
   "cell_type": "markdown",
   "metadata": {},
   "source": [
    "- [x]  Jupyter Notebook открыт\n",
    "- [x]  Весь код выполняется без ошибок\n",
    "- [x]  Ячейки с кодом расположены в порядке исполнения\n",
    "- [x]  Выполнен шаг 1: данные загружены\n",
    "- [x]  Выполнен шаг 2: получен ответ на вопрос об умножении матриц\n",
    "    - [x]  Указан правильный вариант ответа\n",
    "    - [x]  Вариант обоснован\n",
    "- [x]  Выполнен шаг 3: предложен алгоритм преобразования\n",
    "    - [x]  Алгоритм описан\n",
    "    - [x]  Алгоритм обоснован\n",
    "- [x]  Выполнен шаг 4: алгоритм проверен\n",
    "    - [x]  Алгоритм реализован\n",
    "    - [x]  Проведено сравнение качества моделей до и после преобразования"
   ]
  }
 ],
 "metadata": {
  "ExecuteTimeLog": [
   {
    "duration": 482,
    "start_time": "2022-04-07T11:35:04.624Z"
   },
   {
    "duration": 88,
    "start_time": "2022-04-07T11:36:28.239Z"
   },
   {
    "duration": 11,
    "start_time": "2022-04-07T11:36:47.415Z"
   },
   {
    "duration": 53,
    "start_time": "2022-04-07T11:37:00.776Z"
   },
   {
    "duration": 22,
    "start_time": "2022-04-07T11:37:58.008Z"
   },
   {
    "duration": 39,
    "start_time": "2022-04-07T11:38:54.792Z"
   },
   {
    "duration": 7,
    "start_time": "2022-04-07T11:39:04.420Z"
   },
   {
    "duration": 502,
    "start_time": "2022-04-07T13:14:39.597Z"
   },
   {
    "duration": 69,
    "start_time": "2022-04-07T13:14:40.101Z"
   },
   {
    "duration": 11,
    "start_time": "2022-04-07T13:14:40.173Z"
   },
   {
    "duration": 55,
    "start_time": "2022-04-07T13:14:40.186Z"
   },
   {
    "duration": 6,
    "start_time": "2022-04-07T13:14:40.243Z"
   },
   {
    "duration": 1104,
    "start_time": "2022-04-07T13:27:21.833Z"
   },
   {
    "duration": 46,
    "start_time": "2022-04-07T14:29:11.112Z"
   },
   {
    "duration": 1187,
    "start_time": "2022-04-07T14:29:21.422Z"
   },
   {
    "duration": 71,
    "start_time": "2022-04-07T14:29:22.611Z"
   },
   {
    "duration": 8,
    "start_time": "2022-04-07T14:29:22.686Z"
   },
   {
    "duration": 40,
    "start_time": "2022-04-07T14:29:22.696Z"
   },
   {
    "duration": 5,
    "start_time": "2022-04-07T14:29:22.737Z"
   },
   {
    "duration": 92,
    "start_time": "2022-04-07T14:29:22.743Z"
   },
   {
    "duration": 4,
    "start_time": "2022-04-07T14:29:30.407Z"
   },
   {
    "duration": 4,
    "start_time": "2022-04-07T14:31:56.919Z"
   },
   {
    "duration": 2,
    "start_time": "2022-04-07T14:35:22.082Z"
   },
   {
    "duration": 8,
    "start_time": "2022-04-07T14:38:59.410Z"
   },
   {
    "duration": 7,
    "start_time": "2022-04-07T14:39:06.290Z"
   },
   {
    "duration": 2,
    "start_time": "2022-04-07T14:39:15.371Z"
   },
   {
    "duration": 4,
    "start_time": "2022-04-07T14:39:33.107Z"
   },
   {
    "duration": 4,
    "start_time": "2022-04-07T14:39:46.252Z"
   },
   {
    "duration": 5,
    "start_time": "2022-04-07T14:41:00.948Z"
   },
   {
    "duration": 4,
    "start_time": "2022-04-07T14:41:02.116Z"
   },
   {
    "duration": 3,
    "start_time": "2022-04-07T14:44:10.235Z"
   },
   {
    "duration": 4,
    "start_time": "2022-04-07T14:44:16.733Z"
   },
   {
    "duration": 2,
    "start_time": "2022-04-07T14:45:14.452Z"
   },
   {
    "duration": 3,
    "start_time": "2022-04-07T14:45:15.125Z"
   },
   {
    "duration": 3,
    "start_time": "2022-04-07T14:46:12.166Z"
   },
   {
    "duration": 9,
    "start_time": "2022-04-07T14:46:17.910Z"
   },
   {
    "duration": 9,
    "start_time": "2022-04-07T14:46:37.548Z"
   },
   {
    "duration": 4,
    "start_time": "2022-04-07T14:48:07.062Z"
   },
   {
    "duration": 9,
    "start_time": "2022-04-07T14:49:34.135Z"
   },
   {
    "duration": 5,
    "start_time": "2022-04-07T14:50:25.227Z"
   },
   {
    "duration": 1065,
    "start_time": "2022-04-07T14:56:21.794Z"
   },
   {
    "duration": 73,
    "start_time": "2022-04-07T14:56:22.860Z"
   },
   {
    "duration": 6,
    "start_time": "2022-04-07T14:56:22.934Z"
   },
   {
    "duration": 31,
    "start_time": "2022-04-07T14:56:22.942Z"
   },
   {
    "duration": 4,
    "start_time": "2022-04-07T14:56:22.974Z"
   },
   {
    "duration": 5,
    "start_time": "2022-04-07T14:56:22.979Z"
   },
   {
    "duration": 8,
    "start_time": "2022-04-07T14:56:22.985Z"
   },
   {
    "duration": 5,
    "start_time": "2022-04-07T14:56:22.995Z"
   },
   {
    "duration": 5,
    "start_time": "2022-04-07T14:56:23.030Z"
   },
   {
    "duration": 11,
    "start_time": "2022-04-07T14:56:23.037Z"
   },
   {
    "duration": 81,
    "start_time": "2022-04-07T14:56:23.050Z"
   },
   {
    "duration": 10,
    "start_time": "2022-04-07T14:56:23.133Z"
   },
   {
    "duration": 189,
    "start_time": "2022-04-07T14:56:23.144Z"
   },
   {
    "duration": 55216,
    "start_time": "2022-04-07T15:33:32.263Z"
   },
   {
    "duration": 229,
    "start_time": "2022-04-07T15:34:27.481Z"
   },
   {
    "duration": 7,
    "start_time": "2022-04-07T15:34:27.711Z"
   },
   {
    "duration": 36,
    "start_time": "2022-04-07T15:34:27.719Z"
   },
   {
    "duration": 4,
    "start_time": "2022-04-07T15:34:27.756Z"
   },
   {
    "duration": 4,
    "start_time": "2022-04-07T15:41:37.383Z"
   },
   {
    "duration": 5,
    "start_time": "2022-04-07T15:41:38.476Z"
   },
   {
    "duration": 6,
    "start_time": "2022-04-07T15:41:40.480Z"
   },
   {
    "duration": 3,
    "start_time": "2022-04-07T15:42:39.376Z"
   },
   {
    "duration": 10,
    "start_time": "2022-04-07T15:42:39.963Z"
   },
   {
    "duration": 4,
    "start_time": "2022-04-07T15:42:41.030Z"
   },
   {
    "duration": 11,
    "start_time": "2022-04-07T15:42:42.019Z"
   },
   {
    "duration": 8,
    "start_time": "2022-04-07T15:42:43.177Z"
   }
  ],
  "kernelspec": {
   "display_name": "Python 3 (ipykernel)",
   "language": "python",
   "name": "python3"
  },
  "language_info": {
   "codemirror_mode": {
    "name": "ipython",
    "version": 3
   },
   "file_extension": ".py",
   "mimetype": "text/x-python",
   "name": "python",
   "nbconvert_exporter": "python",
   "pygments_lexer": "ipython3",
   "version": "3.10.12"
  },
  "toc": {
   "base_numbering": 1,
   "nav_menu": {},
   "number_sections": true,
   "sideBar": true,
   "skip_h1_title": true,
   "title_cell": "Содержание",
   "title_sidebar": "Contents",
   "toc_cell": true,
   "toc_position": {
    "height": "calc(100% - 180px)",
    "left": "10px",
    "top": "150px",
    "width": "336.484px"
   },
   "toc_section_display": true,
   "toc_window_display": true
  }
 },
 "nbformat": 4,
 "nbformat_minor": 2
}
