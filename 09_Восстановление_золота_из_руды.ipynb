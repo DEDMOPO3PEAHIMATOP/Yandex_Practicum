{
 "cells": [
  {
   "cell_type": "markdown",
   "metadata": {},
   "source": [
    "# Восстановление золота из руды"
   ]
  },
  {
   "cell_type": "markdown",
   "metadata": {},
   "source": [
    "<b> Описание исследования </b>\n",
    "\n",
    "Подготовить прототип модели машинного обучения для «Цифры». Компания разрабатывает решения для эффективной работы промышленных предприятий.\n",
    "\n",
    "<b>Цель исследования</b>\n",
    "\n",
    "Модель должна предсказать коэффициент восстановления золота из золотосодержащей руды. Используйте данные с параметрами добычи и очистки. \n",
    "\n",
    "<b> Задачи исследования</b>\n",
    "\n",
    "Модель поможет оптимизировать производство, чтобы не запускать предприятие с убыточными характеристиками.\n",
    "\n",
    "<b>Данное исследование разделим на несколько частей:</b>\n",
    "\n",
    "[1. Подготовка данных](#step_1)\n",
    "\n",
    "[1.1. Откроем файлы и изучим их](#step_2)\n",
    "\n",
    "[1.2. Проверим, что эффективность обогащения рассчитана правильно. Вычислим её на обучающей выборке для признака rougher.output.recovery. Найдем MAE между нашими расчётами и значением признака. Опишем выводы.](#step_3)\n",
    "\n",
    "[1.3. Проанализируем признаки, недоступные в тестовой выборке. Опишем что это за параметры. Опишем к какому типу они относятся.](#step_4)\n",
    "\n",
    "[1.4. Проведем предобработку данных.](#step_5)\n",
    "\n",
    "[2. Проанализируем данные](#step_6)\n",
    "\n",
    "[2.1. Посмотрим, как меняется концентрация металлов (Au, Ag, Pb) на различных этапах очистки. Опишем выводы.](#step_7)\n",
    "\n",
    "[2.2. Сравним распределения размеров гранул сырья на обучающей и тестовой выборках. Если распределения сильно отличаются друг от друга, оценка модели будет неправильной.](#step_8)\n",
    "\n",
    "[2.3. Исследуем суммарную концентрацию всех веществ на разных стадиях: в сырье, в черновом и финальном концентратах.](#step_9)\n",
    "\n",
    "[3. Построим модель](#step_10)\n",
    "\n",
    "[3.1. Напишем функцию для вычисления итоговой sMAPE.](#step_11)\n",
    "\n",
    "[3.2. Обучим разные модели и оценим их качество кросс-валидацией. Выберем лучшую модель и проверим её на тестовой выборке. Опишем выводы.](#step_12)\n",
    "\n",
    "[4. Выводы](#step_13)\n",
    "\n",
    "[5. Чек-лист готовности проекта](#step_14)"
   ]
  },
  {
   "cell_type": "markdown",
   "metadata": {},
   "source": [
    "<a id=step_1></a>\n",
    "\n",
    "## Подготовка данных"
   ]
  },
  {
   "cell_type": "markdown",
   "metadata": {},
   "source": [
    "<b>Загрузка необходимых библиотек</b>"
   ]
  },
  {
   "cell_type": "code",
   "execution_count": 1,
   "metadata": {},
   "outputs": [],
   "source": [
    "import pandas as pd\n",
    "from sklearn.metrics import mean_absolute_error\n",
    "import matplotlib.pyplot as plt\n",
    "import numpy as np\n",
    "from sklearn.linear_model import LinearRegression\n",
    "from sklearn.model_selection import cross_val_score\n",
    "from sklearn.metrics import make_scorer\n",
    "from sklearn.preprocessing import StandardScaler\n",
    "from sklearn.tree import DecisionTreeRegressor\n",
    "from sklearn.ensemble import RandomForestRegressor\n",
    "import warnings\n",
    "from sklearn.dummy import DummyRegressor\n",
    "import seaborn as sns"
   ]
  },
  {
   "cell_type": "code",
   "execution_count": 2,
   "metadata": {},
   "outputs": [],
   "source": [
    "pd.options.mode.chained_assignment = None\n",
    "warnings.filterwarnings ('ignore')"
   ]
  },
  {
   "cell_type": "markdown",
   "metadata": {},
   "source": [
    "<b>Загрузка данных из файлов</b>"
   ]
  },
  {
   "cell_type": "code",
   "execution_count": 3,
   "metadata": {},
   "outputs": [],
   "source": [
    "try:\n",
    "    df_train = pd.read_csv ('gold_recovery_train_new.csv')\n",
    "    df_test = pd.read_csv ('gold_recovery_test_new.csv')\n",
    "    df_full = pd.read_csv ('gold_recovery_full_new.csv')\n",
    "except:\n",
    "    df_train = pd.read_csv ('/datasets/gold_recovery_train_new.csv')\n",
    "    df_test = pd.read_csv ('/datasets/gold_recovery_test_new.csv')\n",
    "    df_full = pd.read_csv ('/datasets/gold_recovery_full_new.csv')"
   ]
  },
  {
   "cell_type": "markdown",
   "metadata": {},
   "source": [
    "<b>Функция просмотра данных в файлах</b>"
   ]
  },
  {
   "cell_type": "code",
   "execution_count": 4,
   "metadata": {},
   "outputs": [],
   "source": [
    "def first_look (df: pd.DataFrame, limit_na_category: int = 10) -> None:\n",
    "    '''Функция получения первичной информации о датафрейме'''\n",
    "    print ('------------- Первые 5 строк ------------')\n",
    "    display(df.head())\n",
    "    print('')\n",
    "    print('')\n",
    "    print ('------------- Типы данных ------------')\n",
    "    print (df.info())\n",
    "    print('')\n",
    "    print('')\n",
    "    print ('------------- Пропуски ------------')\n",
    "    count = 0\n",
    "    shape_0 = df.shape[0]\n",
    "    for element in df.columns:\n",
    "        if df[element].isna().sum() > 0:\n",
    "            print(\n",
    "                element, ' - ', df[element].isna().sum(), \\\n",
    "                'пропусков, ', round(df[element].isna().sum() * 100 / shape_0,2), '% от числа строк.' \n",
    "            )\n",
    "            count = +1\n",
    "    if count == 0:\n",
    "        print('Пропусков НЕТ')\n",
    "        print('')\n",
    "        print('')\n",
    "    print ('------------- Дубликаты ------------')\n",
    "    if df.duplicated().sum() > 0:\n",
    "        print('Дубликатов: ', df.duplicated().sum())\n",
    "    else:\n",
    "        print('Дубликатов НЕТ')\n",
    "    # ищем, есть ли категориальные столбцы (содержащие до limit_na_category уникальных значений) в датафрейме\n",
    "    min_unique = limit_na_category + 1\n",
    "    for element in df.columns:\n",
    "        min_unique = min(min_unique, df[element].nunique())\n",
    "        if min_unique <= limit_na_category:\n",
    "            print('')\n",
    "            print('')\n",
    "    print('------------- Категориальные признаки ------------')\n",
    "    for element in df.columns:\n",
    "        if df[element].nunique() <= limit_na_category:\n",
    "            print(element, ': ', df[element].nunique(), 'категории - ', df[element].unique(), )"
   ]
  },
  {
   "cell_type": "markdown",
   "metadata": {},
   "source": [
    "<a id=step_2></a>\n",
    "<b>1.1. Откроем файлы и изучим их</b>"
   ]
  },
  {
   "cell_type": "markdown",
   "metadata": {},
   "source": [
    "<b>Данные из обучающего файла</b>"
   ]
  },
  {
   "cell_type": "code",
   "execution_count": 5,
   "metadata": {},
   "outputs": [
    {
     "name": "stdout",
     "output_type": "stream",
     "text": [
      "------------- Первые 5 строк ------------\n"
     ]
    },
    {
     "data": {
      "text/html": [
       "<div>\n",
       "<style scoped>\n",
       "    .dataframe tbody tr th:only-of-type {\n",
       "        vertical-align: middle;\n",
       "    }\n",
       "\n",
       "    .dataframe tbody tr th {\n",
       "        vertical-align: top;\n",
       "    }\n",
       "\n",
       "    .dataframe thead th {\n",
       "        text-align: right;\n",
       "    }\n",
       "</style>\n",
       "<table border=\"1\" class=\"dataframe\">\n",
       "  <thead>\n",
       "    <tr style=\"text-align: right;\">\n",
       "      <th></th>\n",
       "      <th>date</th>\n",
       "      <th>final.output.concentrate_ag</th>\n",
       "      <th>final.output.concentrate_pb</th>\n",
       "      <th>final.output.concentrate_sol</th>\n",
       "      <th>final.output.concentrate_au</th>\n",
       "      <th>final.output.recovery</th>\n",
       "      <th>final.output.tail_ag</th>\n",
       "      <th>final.output.tail_pb</th>\n",
       "      <th>final.output.tail_sol</th>\n",
       "      <th>final.output.tail_au</th>\n",
       "      <th>...</th>\n",
       "      <th>secondary_cleaner.state.floatbank4_a_air</th>\n",
       "      <th>secondary_cleaner.state.floatbank4_a_level</th>\n",
       "      <th>secondary_cleaner.state.floatbank4_b_air</th>\n",
       "      <th>secondary_cleaner.state.floatbank4_b_level</th>\n",
       "      <th>secondary_cleaner.state.floatbank5_a_air</th>\n",
       "      <th>secondary_cleaner.state.floatbank5_a_level</th>\n",
       "      <th>secondary_cleaner.state.floatbank5_b_air</th>\n",
       "      <th>secondary_cleaner.state.floatbank5_b_level</th>\n",
       "      <th>secondary_cleaner.state.floatbank6_a_air</th>\n",
       "      <th>secondary_cleaner.state.floatbank6_a_level</th>\n",
       "    </tr>\n",
       "  </thead>\n",
       "  <tbody>\n",
       "    <tr>\n",
       "      <th>0</th>\n",
       "      <td>2016-01-15 00:00:00</td>\n",
       "      <td>6.055403</td>\n",
       "      <td>9.889648</td>\n",
       "      <td>5.507324</td>\n",
       "      <td>42.192020</td>\n",
       "      <td>70.541216</td>\n",
       "      <td>10.411962</td>\n",
       "      <td>0.895447</td>\n",
       "      <td>16.904297</td>\n",
       "      <td>2.143149</td>\n",
       "      <td>...</td>\n",
       "      <td>14.016835</td>\n",
       "      <td>-502.488007</td>\n",
       "      <td>12.099931</td>\n",
       "      <td>-504.715942</td>\n",
       "      <td>9.925633</td>\n",
       "      <td>-498.310211</td>\n",
       "      <td>8.079666</td>\n",
       "      <td>-500.470978</td>\n",
       "      <td>14.151341</td>\n",
       "      <td>-605.841980</td>\n",
       "    </tr>\n",
       "    <tr>\n",
       "      <th>1</th>\n",
       "      <td>2016-01-15 01:00:00</td>\n",
       "      <td>6.029369</td>\n",
       "      <td>9.968944</td>\n",
       "      <td>5.257781</td>\n",
       "      <td>42.701629</td>\n",
       "      <td>69.266198</td>\n",
       "      <td>10.462676</td>\n",
       "      <td>0.927452</td>\n",
       "      <td>16.634514</td>\n",
       "      <td>2.224930</td>\n",
       "      <td>...</td>\n",
       "      <td>13.992281</td>\n",
       "      <td>-505.503262</td>\n",
       "      <td>11.950531</td>\n",
       "      <td>-501.331529</td>\n",
       "      <td>10.039245</td>\n",
       "      <td>-500.169983</td>\n",
       "      <td>7.984757</td>\n",
       "      <td>-500.582168</td>\n",
       "      <td>13.998353</td>\n",
       "      <td>-599.787184</td>\n",
       "    </tr>\n",
       "    <tr>\n",
       "      <th>2</th>\n",
       "      <td>2016-01-15 02:00:00</td>\n",
       "      <td>6.055926</td>\n",
       "      <td>10.213995</td>\n",
       "      <td>5.383759</td>\n",
       "      <td>42.657501</td>\n",
       "      <td>68.116445</td>\n",
       "      <td>10.507046</td>\n",
       "      <td>0.953716</td>\n",
       "      <td>16.208849</td>\n",
       "      <td>2.257889</td>\n",
       "      <td>...</td>\n",
       "      <td>14.015015</td>\n",
       "      <td>-502.520901</td>\n",
       "      <td>11.912783</td>\n",
       "      <td>-501.133383</td>\n",
       "      <td>10.070913</td>\n",
       "      <td>-500.129135</td>\n",
       "      <td>8.013877</td>\n",
       "      <td>-500.517572</td>\n",
       "      <td>14.028663</td>\n",
       "      <td>-601.427363</td>\n",
       "    </tr>\n",
       "    <tr>\n",
       "      <th>3</th>\n",
       "      <td>2016-01-15 03:00:00</td>\n",
       "      <td>6.047977</td>\n",
       "      <td>9.977019</td>\n",
       "      <td>4.858634</td>\n",
       "      <td>42.689819</td>\n",
       "      <td>68.347543</td>\n",
       "      <td>10.422762</td>\n",
       "      <td>0.883763</td>\n",
       "      <td>16.532835</td>\n",
       "      <td>2.146849</td>\n",
       "      <td>...</td>\n",
       "      <td>14.036510</td>\n",
       "      <td>-500.857308</td>\n",
       "      <td>11.999550</td>\n",
       "      <td>-501.193686</td>\n",
       "      <td>9.970366</td>\n",
       "      <td>-499.201640</td>\n",
       "      <td>7.977324</td>\n",
       "      <td>-500.255908</td>\n",
       "      <td>14.005551</td>\n",
       "      <td>-599.996129</td>\n",
       "    </tr>\n",
       "    <tr>\n",
       "      <th>4</th>\n",
       "      <td>2016-01-15 04:00:00</td>\n",
       "      <td>6.148599</td>\n",
       "      <td>10.142511</td>\n",
       "      <td>4.939416</td>\n",
       "      <td>42.774141</td>\n",
       "      <td>66.927016</td>\n",
       "      <td>10.360302</td>\n",
       "      <td>0.792826</td>\n",
       "      <td>16.525686</td>\n",
       "      <td>2.055292</td>\n",
       "      <td>...</td>\n",
       "      <td>14.027298</td>\n",
       "      <td>-499.838632</td>\n",
       "      <td>11.953070</td>\n",
       "      <td>-501.053894</td>\n",
       "      <td>9.925709</td>\n",
       "      <td>-501.686727</td>\n",
       "      <td>7.894242</td>\n",
       "      <td>-500.356035</td>\n",
       "      <td>13.996647</td>\n",
       "      <td>-601.496691</td>\n",
       "    </tr>\n",
       "  </tbody>\n",
       "</table>\n",
       "<p>5 rows × 87 columns</p>\n",
       "</div>"
      ],
      "text/plain": [
       "                  date  final.output.concentrate_ag  \\\n",
       "0  2016-01-15 00:00:00                     6.055403   \n",
       "1  2016-01-15 01:00:00                     6.029369   \n",
       "2  2016-01-15 02:00:00                     6.055926   \n",
       "3  2016-01-15 03:00:00                     6.047977   \n",
       "4  2016-01-15 04:00:00                     6.148599   \n",
       "\n",
       "   final.output.concentrate_pb  final.output.concentrate_sol  \\\n",
       "0                     9.889648                      5.507324   \n",
       "1                     9.968944                      5.257781   \n",
       "2                    10.213995                      5.383759   \n",
       "3                     9.977019                      4.858634   \n",
       "4                    10.142511                      4.939416   \n",
       "\n",
       "   final.output.concentrate_au  final.output.recovery  final.output.tail_ag  \\\n",
       "0                    42.192020              70.541216             10.411962   \n",
       "1                    42.701629              69.266198             10.462676   \n",
       "2                    42.657501              68.116445             10.507046   \n",
       "3                    42.689819              68.347543             10.422762   \n",
       "4                    42.774141              66.927016             10.360302   \n",
       "\n",
       "   final.output.tail_pb  final.output.tail_sol  final.output.tail_au  ...  \\\n",
       "0              0.895447              16.904297              2.143149  ...   \n",
       "1              0.927452              16.634514              2.224930  ...   \n",
       "2              0.953716              16.208849              2.257889  ...   \n",
       "3              0.883763              16.532835              2.146849  ...   \n",
       "4              0.792826              16.525686              2.055292  ...   \n",
       "\n",
       "   secondary_cleaner.state.floatbank4_a_air  \\\n",
       "0                                 14.016835   \n",
       "1                                 13.992281   \n",
       "2                                 14.015015   \n",
       "3                                 14.036510   \n",
       "4                                 14.027298   \n",
       "\n",
       "   secondary_cleaner.state.floatbank4_a_level  \\\n",
       "0                                 -502.488007   \n",
       "1                                 -505.503262   \n",
       "2                                 -502.520901   \n",
       "3                                 -500.857308   \n",
       "4                                 -499.838632   \n",
       "\n",
       "   secondary_cleaner.state.floatbank4_b_air  \\\n",
       "0                                 12.099931   \n",
       "1                                 11.950531   \n",
       "2                                 11.912783   \n",
       "3                                 11.999550   \n",
       "4                                 11.953070   \n",
       "\n",
       "   secondary_cleaner.state.floatbank4_b_level  \\\n",
       "0                                 -504.715942   \n",
       "1                                 -501.331529   \n",
       "2                                 -501.133383   \n",
       "3                                 -501.193686   \n",
       "4                                 -501.053894   \n",
       "\n",
       "   secondary_cleaner.state.floatbank5_a_air  \\\n",
       "0                                  9.925633   \n",
       "1                                 10.039245   \n",
       "2                                 10.070913   \n",
       "3                                  9.970366   \n",
       "4                                  9.925709   \n",
       "\n",
       "   secondary_cleaner.state.floatbank5_a_level  \\\n",
       "0                                 -498.310211   \n",
       "1                                 -500.169983   \n",
       "2                                 -500.129135   \n",
       "3                                 -499.201640   \n",
       "4                                 -501.686727   \n",
       "\n",
       "   secondary_cleaner.state.floatbank5_b_air  \\\n",
       "0                                  8.079666   \n",
       "1                                  7.984757   \n",
       "2                                  8.013877   \n",
       "3                                  7.977324   \n",
       "4                                  7.894242   \n",
       "\n",
       "   secondary_cleaner.state.floatbank5_b_level  \\\n",
       "0                                 -500.470978   \n",
       "1                                 -500.582168   \n",
       "2                                 -500.517572   \n",
       "3                                 -500.255908   \n",
       "4                                 -500.356035   \n",
       "\n",
       "   secondary_cleaner.state.floatbank6_a_air  \\\n",
       "0                                 14.151341   \n",
       "1                                 13.998353   \n",
       "2                                 14.028663   \n",
       "3                                 14.005551   \n",
       "4                                 13.996647   \n",
       "\n",
       "   secondary_cleaner.state.floatbank6_a_level  \n",
       "0                                 -605.841980  \n",
       "1                                 -599.787184  \n",
       "2                                 -601.427363  \n",
       "3                                 -599.996129  \n",
       "4                                 -601.496691  \n",
       "\n",
       "[5 rows x 87 columns]"
      ]
     },
     "metadata": {},
     "output_type": "display_data"
    },
    {
     "name": "stdout",
     "output_type": "stream",
     "text": [
      "\n",
      "\n",
      "------------- Типы данных ------------\n",
      "<class 'pandas.core.frame.DataFrame'>\n",
      "RangeIndex: 14149 entries, 0 to 14148\n",
      "Data columns (total 87 columns):\n",
      " #   Column                                              Non-Null Count  Dtype  \n",
      "---  ------                                              --------------  -----  \n",
      " 0   date                                                14149 non-null  object \n",
      " 1   final.output.concentrate_ag                         14148 non-null  float64\n",
      " 2   final.output.concentrate_pb                         14148 non-null  float64\n",
      " 3   final.output.concentrate_sol                        13938 non-null  float64\n",
      " 4   final.output.concentrate_au                         14149 non-null  float64\n",
      " 5   final.output.recovery                               14149 non-null  float64\n",
      " 6   final.output.tail_ag                                14149 non-null  float64\n",
      " 7   final.output.tail_pb                                14049 non-null  float64\n",
      " 8   final.output.tail_sol                               14144 non-null  float64\n",
      " 9   final.output.tail_au                                14149 non-null  float64\n",
      " 10  primary_cleaner.input.sulfate                       14129 non-null  float64\n",
      " 11  primary_cleaner.input.depressant                    14117 non-null  float64\n",
      " 12  primary_cleaner.input.feed_size                     14149 non-null  float64\n",
      " 13  primary_cleaner.input.xanthate                      14049 non-null  float64\n",
      " 14  primary_cleaner.output.concentrate_ag               14149 non-null  float64\n",
      " 15  primary_cleaner.output.concentrate_pb               14063 non-null  float64\n",
      " 16  primary_cleaner.output.concentrate_sol              13863 non-null  float64\n",
      " 17  primary_cleaner.output.concentrate_au               14149 non-null  float64\n",
      " 18  primary_cleaner.output.tail_ag                      14148 non-null  float64\n",
      " 19  primary_cleaner.output.tail_pb                      14134 non-null  float64\n",
      " 20  primary_cleaner.output.tail_sol                     14103 non-null  float64\n",
      " 21  primary_cleaner.output.tail_au                      14149 non-null  float64\n",
      " 22  primary_cleaner.state.floatbank8_a_air              14145 non-null  float64\n",
      " 23  primary_cleaner.state.floatbank8_a_level            14148 non-null  float64\n",
      " 24  primary_cleaner.state.floatbank8_b_air              14145 non-null  float64\n",
      " 25  primary_cleaner.state.floatbank8_b_level            14148 non-null  float64\n",
      " 26  primary_cleaner.state.floatbank8_c_air              14147 non-null  float64\n",
      " 27  primary_cleaner.state.floatbank8_c_level            14148 non-null  float64\n",
      " 28  primary_cleaner.state.floatbank8_d_air              14146 non-null  float64\n",
      " 29  primary_cleaner.state.floatbank8_d_level            14148 non-null  float64\n",
      " 30  rougher.calculation.sulfate_to_au_concentrate       14148 non-null  float64\n",
      " 31  rougher.calculation.floatbank10_sulfate_to_au_feed  14148 non-null  float64\n",
      " 32  rougher.calculation.floatbank11_sulfate_to_au_feed  14148 non-null  float64\n",
      " 33  rougher.calculation.au_pb_ratio                     14149 non-null  float64\n",
      " 34  rougher.input.feed_ag                               14149 non-null  float64\n",
      " 35  rougher.input.feed_pb                               14049 non-null  float64\n",
      " 36  rougher.input.feed_rate                             14141 non-null  float64\n",
      " 37  rougher.input.feed_size                             14005 non-null  float64\n",
      " 38  rougher.input.feed_sol                              14071 non-null  float64\n",
      " 39  rougher.input.feed_au                               14149 non-null  float64\n",
      " 40  rougher.input.floatbank10_sulfate                   14120 non-null  float64\n",
      " 41  rougher.input.floatbank10_xanthate                  14141 non-null  float64\n",
      " 42  rougher.input.floatbank11_sulfate                   14113 non-null  float64\n",
      " 43  rougher.input.floatbank11_xanthate                  13721 non-null  float64\n",
      " 44  rougher.output.concentrate_ag                       14149 non-null  float64\n",
      " 45  rougher.output.concentrate_pb                       14149 non-null  float64\n",
      " 46  rougher.output.concentrate_sol                      14127 non-null  float64\n",
      " 47  rougher.output.concentrate_au                       14149 non-null  float64\n",
      " 48  rougher.output.recovery                             14149 non-null  float64\n",
      " 49  rougher.output.tail_ag                              14148 non-null  float64\n",
      " 50  rougher.output.tail_pb                              14149 non-null  float64\n",
      " 51  rougher.output.tail_sol                             14149 non-null  float64\n",
      " 52  rougher.output.tail_au                              14149 non-null  float64\n",
      " 53  rougher.state.floatbank10_a_air                     14148 non-null  float64\n",
      " 54  rougher.state.floatbank10_a_level                   14148 non-null  float64\n",
      " 55  rougher.state.floatbank10_b_air                     14148 non-null  float64\n",
      " 56  rougher.state.floatbank10_b_level                   14148 non-null  float64\n",
      " 57  rougher.state.floatbank10_c_air                     14148 non-null  float64\n",
      " 58  rougher.state.floatbank10_c_level                   14148 non-null  float64\n",
      " 59  rougher.state.floatbank10_d_air                     14149 non-null  float64\n",
      " 60  rougher.state.floatbank10_d_level                   14149 non-null  float64\n",
      " 61  rougher.state.floatbank10_e_air                     13713 non-null  float64\n",
      " 62  rougher.state.floatbank10_e_level                   14149 non-null  float64\n",
      " 63  rougher.state.floatbank10_f_air                     14149 non-null  float64\n",
      " 64  rougher.state.floatbank10_f_level                   14149 non-null  float64\n",
      " 65  secondary_cleaner.output.tail_ag                    14147 non-null  float64\n",
      " 66  secondary_cleaner.output.tail_pb                    14139 non-null  float64\n",
      " 67  secondary_cleaner.output.tail_sol                   12544 non-null  float64\n",
      " 68  secondary_cleaner.output.tail_au                    14149 non-null  float64\n",
      " 69  secondary_cleaner.state.floatbank2_a_air            13932 non-null  float64\n",
      " 70  secondary_cleaner.state.floatbank2_a_level          14148 non-null  float64\n",
      " 71  secondary_cleaner.state.floatbank2_b_air            14128 non-null  float64\n",
      " 72  secondary_cleaner.state.floatbank2_b_level          14148 non-null  float64\n",
      " 73  secondary_cleaner.state.floatbank3_a_air            14145 non-null  float64\n",
      " 74  secondary_cleaner.state.floatbank3_a_level          14148 non-null  float64\n",
      " 75  secondary_cleaner.state.floatbank3_b_air            14148 non-null  float64\n",
      " 76  secondary_cleaner.state.floatbank3_b_level          14148 non-null  float64\n",
      " 77  secondary_cleaner.state.floatbank4_a_air            14143 non-null  float64\n",
      " 78  secondary_cleaner.state.floatbank4_a_level          14148 non-null  float64\n",
      " 79  secondary_cleaner.state.floatbank4_b_air            14148 non-null  float64\n",
      " 80  secondary_cleaner.state.floatbank4_b_level          14148 non-null  float64\n",
      " 81  secondary_cleaner.state.floatbank5_a_air            14148 non-null  float64\n",
      " 82  secondary_cleaner.state.floatbank5_a_level          14148 non-null  float64\n",
      " 83  secondary_cleaner.state.floatbank5_b_air            14148 non-null  float64\n",
      " 84  secondary_cleaner.state.floatbank5_b_level          14148 non-null  float64\n",
      " 85  secondary_cleaner.state.floatbank6_a_air            14147 non-null  float64\n",
      " 86  secondary_cleaner.state.floatbank6_a_level          14148 non-null  float64\n",
      "dtypes: float64(86), object(1)\n",
      "memory usage: 9.4+ MB\n",
      "None\n",
      "\n",
      "\n",
      "------------- Пропуски ------------\n",
      "final.output.concentrate_ag  -  1 пропусков,  0.01 % от числа строк.\n",
      "final.output.concentrate_pb  -  1 пропусков,  0.01 % от числа строк.\n",
      "final.output.concentrate_sol  -  211 пропусков,  1.49 % от числа строк.\n",
      "final.output.tail_pb  -  100 пропусков,  0.71 % от числа строк.\n",
      "final.output.tail_sol  -  5 пропусков,  0.04 % от числа строк.\n",
      "primary_cleaner.input.sulfate  -  20 пропусков,  0.14 % от числа строк.\n",
      "primary_cleaner.input.depressant  -  32 пропусков,  0.23 % от числа строк.\n",
      "primary_cleaner.input.xanthate  -  100 пропусков,  0.71 % от числа строк.\n",
      "primary_cleaner.output.concentrate_pb  -  86 пропусков,  0.61 % от числа строк.\n",
      "primary_cleaner.output.concentrate_sol  -  286 пропусков,  2.02 % от числа строк.\n",
      "primary_cleaner.output.tail_ag  -  1 пропусков,  0.01 % от числа строк.\n",
      "primary_cleaner.output.tail_pb  -  15 пропусков,  0.11 % от числа строк.\n",
      "primary_cleaner.output.tail_sol  -  46 пропусков,  0.33 % от числа строк.\n",
      "primary_cleaner.state.floatbank8_a_air  -  4 пропусков,  0.03 % от числа строк.\n",
      "primary_cleaner.state.floatbank8_a_level  -  1 пропусков,  0.01 % от числа строк.\n",
      "primary_cleaner.state.floatbank8_b_air  -  4 пропусков,  0.03 % от числа строк.\n",
      "primary_cleaner.state.floatbank8_b_level  -  1 пропусков,  0.01 % от числа строк.\n",
      "primary_cleaner.state.floatbank8_c_air  -  2 пропусков,  0.01 % от числа строк.\n",
      "primary_cleaner.state.floatbank8_c_level  -  1 пропусков,  0.01 % от числа строк.\n",
      "primary_cleaner.state.floatbank8_d_air  -  3 пропусков,  0.02 % от числа строк.\n",
      "primary_cleaner.state.floatbank8_d_level  -  1 пропусков,  0.01 % от числа строк.\n",
      "rougher.calculation.sulfate_to_au_concentrate  -  1 пропусков,  0.01 % от числа строк.\n",
      "rougher.calculation.floatbank10_sulfate_to_au_feed  -  1 пропусков,  0.01 % от числа строк.\n",
      "rougher.calculation.floatbank11_sulfate_to_au_feed  -  1 пропусков,  0.01 % от числа строк.\n",
      "rougher.input.feed_pb  -  100 пропусков,  0.71 % от числа строк.\n",
      "rougher.input.feed_rate  -  8 пропусков,  0.06 % от числа строк.\n",
      "rougher.input.feed_size  -  144 пропусков,  1.02 % от числа строк.\n",
      "rougher.input.feed_sol  -  78 пропусков,  0.55 % от числа строк.\n",
      "rougher.input.floatbank10_sulfate  -  29 пропусков,  0.2 % от числа строк.\n",
      "rougher.input.floatbank10_xanthate  -  8 пропусков,  0.06 % от числа строк.\n",
      "rougher.input.floatbank11_sulfate  -  36 пропусков,  0.25 % от числа строк.\n",
      "rougher.input.floatbank11_xanthate  -  428 пропусков,  3.02 % от числа строк.\n",
      "rougher.output.concentrate_sol  -  22 пропусков,  0.16 % от числа строк.\n",
      "rougher.output.tail_ag  -  1 пропусков,  0.01 % от числа строк.\n",
      "rougher.state.floatbank10_a_air  -  1 пропусков,  0.01 % от числа строк.\n",
      "rougher.state.floatbank10_a_level  -  1 пропусков,  0.01 % от числа строк.\n",
      "rougher.state.floatbank10_b_air  -  1 пропусков,  0.01 % от числа строк.\n",
      "rougher.state.floatbank10_b_level  -  1 пропусков,  0.01 % от числа строк.\n",
      "rougher.state.floatbank10_c_air  -  1 пропусков,  0.01 % от числа строк.\n",
      "rougher.state.floatbank10_c_level  -  1 пропусков,  0.01 % от числа строк.\n",
      "rougher.state.floatbank10_e_air  -  436 пропусков,  3.08 % от числа строк.\n",
      "secondary_cleaner.output.tail_ag  -  2 пропусков,  0.01 % от числа строк.\n",
      "secondary_cleaner.output.tail_pb  -  10 пропусков,  0.07 % от числа строк.\n",
      "secondary_cleaner.output.tail_sol  -  1605 пропусков,  11.34 % от числа строк.\n",
      "secondary_cleaner.state.floatbank2_a_air  -  217 пропусков,  1.53 % от числа строк.\n",
      "secondary_cleaner.state.floatbank2_a_level  -  1 пропусков,  0.01 % от числа строк.\n",
      "secondary_cleaner.state.floatbank2_b_air  -  21 пропусков,  0.15 % от числа строк.\n",
      "secondary_cleaner.state.floatbank2_b_level  -  1 пропусков,  0.01 % от числа строк.\n",
      "secondary_cleaner.state.floatbank3_a_air  -  4 пропусков,  0.03 % от числа строк.\n",
      "secondary_cleaner.state.floatbank3_a_level  -  1 пропусков,  0.01 % от числа строк.\n",
      "secondary_cleaner.state.floatbank3_b_air  -  1 пропусков,  0.01 % от числа строк.\n",
      "secondary_cleaner.state.floatbank3_b_level  -  1 пропусков,  0.01 % от числа строк.\n",
      "secondary_cleaner.state.floatbank4_a_air  -  6 пропусков,  0.04 % от числа строк.\n",
      "secondary_cleaner.state.floatbank4_a_level  -  1 пропусков,  0.01 % от числа строк.\n",
      "secondary_cleaner.state.floatbank4_b_air  -  1 пропусков,  0.01 % от числа строк.\n",
      "secondary_cleaner.state.floatbank4_b_level  -  1 пропусков,  0.01 % от числа строк.\n",
      "secondary_cleaner.state.floatbank5_a_air  -  1 пропусков,  0.01 % от числа строк.\n",
      "secondary_cleaner.state.floatbank5_a_level  -  1 пропусков,  0.01 % от числа строк.\n",
      "secondary_cleaner.state.floatbank5_b_air  -  1 пропусков,  0.01 % от числа строк.\n",
      "secondary_cleaner.state.floatbank5_b_level  -  1 пропусков,  0.01 % от числа строк.\n",
      "secondary_cleaner.state.floatbank6_a_air  -  2 пропусков,  0.01 % от числа строк.\n",
      "secondary_cleaner.state.floatbank6_a_level  -  1 пропусков,  0.01 % от числа строк.\n",
      "------------- Дубликаты ------------\n",
      "Дубликатов НЕТ\n",
      "------------- Категориальные признаки ------------\n"
     ]
    }
   ],
   "source": [
    "first_look (df_train)"
   ]
  },
  {
   "cell_type": "markdown",
   "metadata": {},
   "source": [
    "<b>Данные из тестового файла</b>"
   ]
  },
  {
   "cell_type": "code",
   "execution_count": 6,
   "metadata": {},
   "outputs": [
    {
     "name": "stdout",
     "output_type": "stream",
     "text": [
      "------------- Первые 5 строк ------------\n"
     ]
    },
    {
     "data": {
      "text/html": [
       "<div>\n",
       "<style scoped>\n",
       "    .dataframe tbody tr th:only-of-type {\n",
       "        vertical-align: middle;\n",
       "    }\n",
       "\n",
       "    .dataframe tbody tr th {\n",
       "        vertical-align: top;\n",
       "    }\n",
       "\n",
       "    .dataframe thead th {\n",
       "        text-align: right;\n",
       "    }\n",
       "</style>\n",
       "<table border=\"1\" class=\"dataframe\">\n",
       "  <thead>\n",
       "    <tr style=\"text-align: right;\">\n",
       "      <th></th>\n",
       "      <th>date</th>\n",
       "      <th>primary_cleaner.input.sulfate</th>\n",
       "      <th>primary_cleaner.input.depressant</th>\n",
       "      <th>primary_cleaner.input.feed_size</th>\n",
       "      <th>primary_cleaner.input.xanthate</th>\n",
       "      <th>primary_cleaner.state.floatbank8_a_air</th>\n",
       "      <th>primary_cleaner.state.floatbank8_a_level</th>\n",
       "      <th>primary_cleaner.state.floatbank8_b_air</th>\n",
       "      <th>primary_cleaner.state.floatbank8_b_level</th>\n",
       "      <th>primary_cleaner.state.floatbank8_c_air</th>\n",
       "      <th>...</th>\n",
       "      <th>secondary_cleaner.state.floatbank4_a_air</th>\n",
       "      <th>secondary_cleaner.state.floatbank4_a_level</th>\n",
       "      <th>secondary_cleaner.state.floatbank4_b_air</th>\n",
       "      <th>secondary_cleaner.state.floatbank4_b_level</th>\n",
       "      <th>secondary_cleaner.state.floatbank5_a_air</th>\n",
       "      <th>secondary_cleaner.state.floatbank5_a_level</th>\n",
       "      <th>secondary_cleaner.state.floatbank5_b_air</th>\n",
       "      <th>secondary_cleaner.state.floatbank5_b_level</th>\n",
       "      <th>secondary_cleaner.state.floatbank6_a_air</th>\n",
       "      <th>secondary_cleaner.state.floatbank6_a_level</th>\n",
       "    </tr>\n",
       "  </thead>\n",
       "  <tbody>\n",
       "    <tr>\n",
       "      <th>0</th>\n",
       "      <td>2016-09-01 00:59:59</td>\n",
       "      <td>210.800909</td>\n",
       "      <td>14.993118</td>\n",
       "      <td>8.080000</td>\n",
       "      <td>1.005021</td>\n",
       "      <td>1398.981301</td>\n",
       "      <td>-500.225577</td>\n",
       "      <td>1399.144926</td>\n",
       "      <td>-499.919735</td>\n",
       "      <td>1400.102998</td>\n",
       "      <td>...</td>\n",
       "      <td>12.023554</td>\n",
       "      <td>-497.795834</td>\n",
       "      <td>8.016656</td>\n",
       "      <td>-501.289139</td>\n",
       "      <td>7.946562</td>\n",
       "      <td>-432.317850</td>\n",
       "      <td>4.872511</td>\n",
       "      <td>-500.037437</td>\n",
       "      <td>26.705889</td>\n",
       "      <td>-499.709414</td>\n",
       "    </tr>\n",
       "    <tr>\n",
       "      <th>1</th>\n",
       "      <td>2016-09-01 01:59:59</td>\n",
       "      <td>215.392455</td>\n",
       "      <td>14.987471</td>\n",
       "      <td>8.080000</td>\n",
       "      <td>0.990469</td>\n",
       "      <td>1398.777912</td>\n",
       "      <td>-500.057435</td>\n",
       "      <td>1398.055362</td>\n",
       "      <td>-499.778182</td>\n",
       "      <td>1396.151033</td>\n",
       "      <td>...</td>\n",
       "      <td>12.058140</td>\n",
       "      <td>-498.695773</td>\n",
       "      <td>8.130979</td>\n",
       "      <td>-499.634209</td>\n",
       "      <td>7.958270</td>\n",
       "      <td>-525.839648</td>\n",
       "      <td>4.878850</td>\n",
       "      <td>-500.162375</td>\n",
       "      <td>25.019940</td>\n",
       "      <td>-499.819438</td>\n",
       "    </tr>\n",
       "    <tr>\n",
       "      <th>2</th>\n",
       "      <td>2016-09-01 02:59:59</td>\n",
       "      <td>215.259946</td>\n",
       "      <td>12.884934</td>\n",
       "      <td>7.786667</td>\n",
       "      <td>0.996043</td>\n",
       "      <td>1398.493666</td>\n",
       "      <td>-500.868360</td>\n",
       "      <td>1398.860436</td>\n",
       "      <td>-499.764529</td>\n",
       "      <td>1398.075709</td>\n",
       "      <td>...</td>\n",
       "      <td>11.962366</td>\n",
       "      <td>-498.767484</td>\n",
       "      <td>8.096893</td>\n",
       "      <td>-500.827423</td>\n",
       "      <td>8.071056</td>\n",
       "      <td>-500.801673</td>\n",
       "      <td>4.905125</td>\n",
       "      <td>-499.828510</td>\n",
       "      <td>24.994862</td>\n",
       "      <td>-500.622559</td>\n",
       "    </tr>\n",
       "    <tr>\n",
       "      <th>3</th>\n",
       "      <td>2016-09-01 03:59:59</td>\n",
       "      <td>215.336236</td>\n",
       "      <td>12.006805</td>\n",
       "      <td>7.640000</td>\n",
       "      <td>0.863514</td>\n",
       "      <td>1399.618111</td>\n",
       "      <td>-498.863574</td>\n",
       "      <td>1397.440120</td>\n",
       "      <td>-499.211024</td>\n",
       "      <td>1400.129303</td>\n",
       "      <td>...</td>\n",
       "      <td>12.033091</td>\n",
       "      <td>-498.350935</td>\n",
       "      <td>8.074946</td>\n",
       "      <td>-499.474407</td>\n",
       "      <td>7.897085</td>\n",
       "      <td>-500.868509</td>\n",
       "      <td>4.931400</td>\n",
       "      <td>-499.963623</td>\n",
       "      <td>24.948919</td>\n",
       "      <td>-498.709987</td>\n",
       "    </tr>\n",
       "    <tr>\n",
       "      <th>4</th>\n",
       "      <td>2016-09-01 04:59:59</td>\n",
       "      <td>199.099327</td>\n",
       "      <td>10.682530</td>\n",
       "      <td>7.530000</td>\n",
       "      <td>0.805575</td>\n",
       "      <td>1401.268123</td>\n",
       "      <td>-500.808305</td>\n",
       "      <td>1398.128818</td>\n",
       "      <td>-499.504543</td>\n",
       "      <td>1402.172226</td>\n",
       "      <td>...</td>\n",
       "      <td>12.025367</td>\n",
       "      <td>-500.786497</td>\n",
       "      <td>8.054678</td>\n",
       "      <td>-500.397500</td>\n",
       "      <td>8.107890</td>\n",
       "      <td>-509.526725</td>\n",
       "      <td>4.957674</td>\n",
       "      <td>-500.360026</td>\n",
       "      <td>25.003331</td>\n",
       "      <td>-500.856333</td>\n",
       "    </tr>\n",
       "  </tbody>\n",
       "</table>\n",
       "<p>5 rows × 53 columns</p>\n",
       "</div>"
      ],
      "text/plain": [
       "                  date  primary_cleaner.input.sulfate  \\\n",
       "0  2016-09-01 00:59:59                     210.800909   \n",
       "1  2016-09-01 01:59:59                     215.392455   \n",
       "2  2016-09-01 02:59:59                     215.259946   \n",
       "3  2016-09-01 03:59:59                     215.336236   \n",
       "4  2016-09-01 04:59:59                     199.099327   \n",
       "\n",
       "   primary_cleaner.input.depressant  primary_cleaner.input.feed_size  \\\n",
       "0                         14.993118                         8.080000   \n",
       "1                         14.987471                         8.080000   \n",
       "2                         12.884934                         7.786667   \n",
       "3                         12.006805                         7.640000   \n",
       "4                         10.682530                         7.530000   \n",
       "\n",
       "   primary_cleaner.input.xanthate  primary_cleaner.state.floatbank8_a_air  \\\n",
       "0                        1.005021                             1398.981301   \n",
       "1                        0.990469                             1398.777912   \n",
       "2                        0.996043                             1398.493666   \n",
       "3                        0.863514                             1399.618111   \n",
       "4                        0.805575                             1401.268123   \n",
       "\n",
       "   primary_cleaner.state.floatbank8_a_level  \\\n",
       "0                               -500.225577   \n",
       "1                               -500.057435   \n",
       "2                               -500.868360   \n",
       "3                               -498.863574   \n",
       "4                               -500.808305   \n",
       "\n",
       "   primary_cleaner.state.floatbank8_b_air  \\\n",
       "0                             1399.144926   \n",
       "1                             1398.055362   \n",
       "2                             1398.860436   \n",
       "3                             1397.440120   \n",
       "4                             1398.128818   \n",
       "\n",
       "   primary_cleaner.state.floatbank8_b_level  \\\n",
       "0                               -499.919735   \n",
       "1                               -499.778182   \n",
       "2                               -499.764529   \n",
       "3                               -499.211024   \n",
       "4                               -499.504543   \n",
       "\n",
       "   primary_cleaner.state.floatbank8_c_air  ...  \\\n",
       "0                             1400.102998  ...   \n",
       "1                             1396.151033  ...   \n",
       "2                             1398.075709  ...   \n",
       "3                             1400.129303  ...   \n",
       "4                             1402.172226  ...   \n",
       "\n",
       "   secondary_cleaner.state.floatbank4_a_air  \\\n",
       "0                                 12.023554   \n",
       "1                                 12.058140   \n",
       "2                                 11.962366   \n",
       "3                                 12.033091   \n",
       "4                                 12.025367   \n",
       "\n",
       "   secondary_cleaner.state.floatbank4_a_level  \\\n",
       "0                                 -497.795834   \n",
       "1                                 -498.695773   \n",
       "2                                 -498.767484   \n",
       "3                                 -498.350935   \n",
       "4                                 -500.786497   \n",
       "\n",
       "   secondary_cleaner.state.floatbank4_b_air  \\\n",
       "0                                  8.016656   \n",
       "1                                  8.130979   \n",
       "2                                  8.096893   \n",
       "3                                  8.074946   \n",
       "4                                  8.054678   \n",
       "\n",
       "   secondary_cleaner.state.floatbank4_b_level  \\\n",
       "0                                 -501.289139   \n",
       "1                                 -499.634209   \n",
       "2                                 -500.827423   \n",
       "3                                 -499.474407   \n",
       "4                                 -500.397500   \n",
       "\n",
       "   secondary_cleaner.state.floatbank5_a_air  \\\n",
       "0                                  7.946562   \n",
       "1                                  7.958270   \n",
       "2                                  8.071056   \n",
       "3                                  7.897085   \n",
       "4                                  8.107890   \n",
       "\n",
       "   secondary_cleaner.state.floatbank5_a_level  \\\n",
       "0                                 -432.317850   \n",
       "1                                 -525.839648   \n",
       "2                                 -500.801673   \n",
       "3                                 -500.868509   \n",
       "4                                 -509.526725   \n",
       "\n",
       "   secondary_cleaner.state.floatbank5_b_air  \\\n",
       "0                                  4.872511   \n",
       "1                                  4.878850   \n",
       "2                                  4.905125   \n",
       "3                                  4.931400   \n",
       "4                                  4.957674   \n",
       "\n",
       "   secondary_cleaner.state.floatbank5_b_level  \\\n",
       "0                                 -500.037437   \n",
       "1                                 -500.162375   \n",
       "2                                 -499.828510   \n",
       "3                                 -499.963623   \n",
       "4                                 -500.360026   \n",
       "\n",
       "   secondary_cleaner.state.floatbank6_a_air  \\\n",
       "0                                 26.705889   \n",
       "1                                 25.019940   \n",
       "2                                 24.994862   \n",
       "3                                 24.948919   \n",
       "4                                 25.003331   \n",
       "\n",
       "   secondary_cleaner.state.floatbank6_a_level  \n",
       "0                                 -499.709414  \n",
       "1                                 -499.819438  \n",
       "2                                 -500.622559  \n",
       "3                                 -498.709987  \n",
       "4                                 -500.856333  \n",
       "\n",
       "[5 rows x 53 columns]"
      ]
     },
     "metadata": {},
     "output_type": "display_data"
    },
    {
     "name": "stdout",
     "output_type": "stream",
     "text": [
      "\n",
      "\n",
      "------------- Типы данных ------------\n",
      "<class 'pandas.core.frame.DataFrame'>\n",
      "RangeIndex: 5290 entries, 0 to 5289\n",
      "Data columns (total 53 columns):\n",
      " #   Column                                      Non-Null Count  Dtype  \n",
      "---  ------                                      --------------  -----  \n",
      " 0   date                                        5290 non-null   object \n",
      " 1   primary_cleaner.input.sulfate               5286 non-null   float64\n",
      " 2   primary_cleaner.input.depressant            5285 non-null   float64\n",
      " 3   primary_cleaner.input.feed_size             5290 non-null   float64\n",
      " 4   primary_cleaner.input.xanthate              5286 non-null   float64\n",
      " 5   primary_cleaner.state.floatbank8_a_air      5290 non-null   float64\n",
      " 6   primary_cleaner.state.floatbank8_a_level    5290 non-null   float64\n",
      " 7   primary_cleaner.state.floatbank8_b_air      5290 non-null   float64\n",
      " 8   primary_cleaner.state.floatbank8_b_level    5290 non-null   float64\n",
      " 9   primary_cleaner.state.floatbank8_c_air      5290 non-null   float64\n",
      " 10  primary_cleaner.state.floatbank8_c_level    5290 non-null   float64\n",
      " 11  primary_cleaner.state.floatbank8_d_air      5290 non-null   float64\n",
      " 12  primary_cleaner.state.floatbank8_d_level    5290 non-null   float64\n",
      " 13  rougher.input.feed_ag                       5290 non-null   float64\n",
      " 14  rougher.input.feed_pb                       5290 non-null   float64\n",
      " 15  rougher.input.feed_rate                     5287 non-null   float64\n",
      " 16  rougher.input.feed_size                     5289 non-null   float64\n",
      " 17  rougher.input.feed_sol                      5269 non-null   float64\n",
      " 18  rougher.input.feed_au                       5290 non-null   float64\n",
      " 19  rougher.input.floatbank10_sulfate           5285 non-null   float64\n",
      " 20  rougher.input.floatbank10_xanthate          5290 non-null   float64\n",
      " 21  rougher.input.floatbank11_sulfate           5282 non-null   float64\n",
      " 22  rougher.input.floatbank11_xanthate          5265 non-null   float64\n",
      " 23  rougher.state.floatbank10_a_air             5290 non-null   float64\n",
      " 24  rougher.state.floatbank10_a_level           5290 non-null   float64\n",
      " 25  rougher.state.floatbank10_b_air             5290 non-null   float64\n",
      " 26  rougher.state.floatbank10_b_level           5290 non-null   float64\n",
      " 27  rougher.state.floatbank10_c_air             5290 non-null   float64\n",
      " 28  rougher.state.floatbank10_c_level           5290 non-null   float64\n",
      " 29  rougher.state.floatbank10_d_air             5290 non-null   float64\n",
      " 30  rougher.state.floatbank10_d_level           5290 non-null   float64\n",
      " 31  rougher.state.floatbank10_e_air             5290 non-null   float64\n",
      " 32  rougher.state.floatbank10_e_level           5290 non-null   float64\n",
      " 33  rougher.state.floatbank10_f_air             5290 non-null   float64\n",
      " 34  rougher.state.floatbank10_f_level           5290 non-null   float64\n",
      " 35  secondary_cleaner.state.floatbank2_a_air    5287 non-null   float64\n",
      " 36  secondary_cleaner.state.floatbank2_a_level  5290 non-null   float64\n",
      " 37  secondary_cleaner.state.floatbank2_b_air    5288 non-null   float64\n",
      " 38  secondary_cleaner.state.floatbank2_b_level  5290 non-null   float64\n",
      " 39  secondary_cleaner.state.floatbank3_a_air    5281 non-null   float64\n",
      " 40  secondary_cleaner.state.floatbank3_a_level  5290 non-null   float64\n",
      " 41  secondary_cleaner.state.floatbank3_b_air    5290 non-null   float64\n",
      " 42  secondary_cleaner.state.floatbank3_b_level  5290 non-null   float64\n",
      " 43  secondary_cleaner.state.floatbank4_a_air    5290 non-null   float64\n",
      " 44  secondary_cleaner.state.floatbank4_a_level  5290 non-null   float64\n",
      " 45  secondary_cleaner.state.floatbank4_b_air    5290 non-null   float64\n",
      " 46  secondary_cleaner.state.floatbank4_b_level  5290 non-null   float64\n",
      " 47  secondary_cleaner.state.floatbank5_a_air    5290 non-null   float64\n",
      " 48  secondary_cleaner.state.floatbank5_a_level  5290 non-null   float64\n",
      " 49  secondary_cleaner.state.floatbank5_b_air    5290 non-null   float64\n",
      " 50  secondary_cleaner.state.floatbank5_b_level  5290 non-null   float64\n",
      " 51  secondary_cleaner.state.floatbank6_a_air    5290 non-null   float64\n",
      " 52  secondary_cleaner.state.floatbank6_a_level  5290 non-null   float64\n",
      "dtypes: float64(52), object(1)\n",
      "memory usage: 2.1+ MB\n",
      "None\n",
      "\n",
      "\n",
      "------------- Пропуски ------------\n",
      "primary_cleaner.input.sulfate  -  4 пропусков,  0.08 % от числа строк.\n",
      "primary_cleaner.input.depressant  -  5 пропусков,  0.09 % от числа строк.\n",
      "primary_cleaner.input.xanthate  -  4 пропусков,  0.08 % от числа строк.\n",
      "rougher.input.feed_rate  -  3 пропусков,  0.06 % от числа строк.\n",
      "rougher.input.feed_size  -  1 пропусков,  0.02 % от числа строк.\n",
      "rougher.input.feed_sol  -  21 пропусков,  0.4 % от числа строк.\n",
      "rougher.input.floatbank10_sulfate  -  5 пропусков,  0.09 % от числа строк.\n",
      "rougher.input.floatbank11_sulfate  -  8 пропусков,  0.15 % от числа строк.\n",
      "rougher.input.floatbank11_xanthate  -  25 пропусков,  0.47 % от числа строк.\n",
      "secondary_cleaner.state.floatbank2_a_air  -  3 пропусков,  0.06 % от числа строк.\n",
      "secondary_cleaner.state.floatbank2_b_air  -  2 пропусков,  0.04 % от числа строк.\n",
      "secondary_cleaner.state.floatbank3_a_air  -  9 пропусков,  0.17 % от числа строк.\n",
      "------------- Дубликаты ------------\n",
      "Дубликатов НЕТ\n",
      "------------- Категориальные признаки ------------\n"
     ]
    }
   ],
   "source": [
    "first_look (df_test)"
   ]
  },
  {
   "cell_type": "markdown",
   "metadata": {},
   "source": [
    "<b>Данные из исходного файла</b>"
   ]
  },
  {
   "cell_type": "code",
   "execution_count": 7,
   "metadata": {},
   "outputs": [
    {
     "name": "stdout",
     "output_type": "stream",
     "text": [
      "------------- Первые 5 строк ------------\n"
     ]
    },
    {
     "data": {
      "text/html": [
       "<div>\n",
       "<style scoped>\n",
       "    .dataframe tbody tr th:only-of-type {\n",
       "        vertical-align: middle;\n",
       "    }\n",
       "\n",
       "    .dataframe tbody tr th {\n",
       "        vertical-align: top;\n",
       "    }\n",
       "\n",
       "    .dataframe thead th {\n",
       "        text-align: right;\n",
       "    }\n",
       "</style>\n",
       "<table border=\"1\" class=\"dataframe\">\n",
       "  <thead>\n",
       "    <tr style=\"text-align: right;\">\n",
       "      <th></th>\n",
       "      <th>date</th>\n",
       "      <th>final.output.concentrate_ag</th>\n",
       "      <th>final.output.concentrate_pb</th>\n",
       "      <th>final.output.concentrate_sol</th>\n",
       "      <th>final.output.concentrate_au</th>\n",
       "      <th>final.output.recovery</th>\n",
       "      <th>final.output.tail_ag</th>\n",
       "      <th>final.output.tail_pb</th>\n",
       "      <th>final.output.tail_sol</th>\n",
       "      <th>final.output.tail_au</th>\n",
       "      <th>...</th>\n",
       "      <th>secondary_cleaner.state.floatbank4_a_air</th>\n",
       "      <th>secondary_cleaner.state.floatbank4_a_level</th>\n",
       "      <th>secondary_cleaner.state.floatbank4_b_air</th>\n",
       "      <th>secondary_cleaner.state.floatbank4_b_level</th>\n",
       "      <th>secondary_cleaner.state.floatbank5_a_air</th>\n",
       "      <th>secondary_cleaner.state.floatbank5_a_level</th>\n",
       "      <th>secondary_cleaner.state.floatbank5_b_air</th>\n",
       "      <th>secondary_cleaner.state.floatbank5_b_level</th>\n",
       "      <th>secondary_cleaner.state.floatbank6_a_air</th>\n",
       "      <th>secondary_cleaner.state.floatbank6_a_level</th>\n",
       "    </tr>\n",
       "  </thead>\n",
       "  <tbody>\n",
       "    <tr>\n",
       "      <th>0</th>\n",
       "      <td>2016-01-15 00:00:00</td>\n",
       "      <td>6.055403</td>\n",
       "      <td>9.889648</td>\n",
       "      <td>5.507324</td>\n",
       "      <td>42.192020</td>\n",
       "      <td>70.541216</td>\n",
       "      <td>10.411962</td>\n",
       "      <td>0.895447</td>\n",
       "      <td>16.904297</td>\n",
       "      <td>2.143149</td>\n",
       "      <td>...</td>\n",
       "      <td>14.016835</td>\n",
       "      <td>-502.488007</td>\n",
       "      <td>12.099931</td>\n",
       "      <td>-504.715942</td>\n",
       "      <td>9.925633</td>\n",
       "      <td>-498.310211</td>\n",
       "      <td>8.079666</td>\n",
       "      <td>-500.470978</td>\n",
       "      <td>14.151341</td>\n",
       "      <td>-605.841980</td>\n",
       "    </tr>\n",
       "    <tr>\n",
       "      <th>1</th>\n",
       "      <td>2016-01-15 01:00:00</td>\n",
       "      <td>6.029369</td>\n",
       "      <td>9.968944</td>\n",
       "      <td>5.257781</td>\n",
       "      <td>42.701629</td>\n",
       "      <td>69.266198</td>\n",
       "      <td>10.462676</td>\n",
       "      <td>0.927452</td>\n",
       "      <td>16.634514</td>\n",
       "      <td>2.224930</td>\n",
       "      <td>...</td>\n",
       "      <td>13.992281</td>\n",
       "      <td>-505.503262</td>\n",
       "      <td>11.950531</td>\n",
       "      <td>-501.331529</td>\n",
       "      <td>10.039245</td>\n",
       "      <td>-500.169983</td>\n",
       "      <td>7.984757</td>\n",
       "      <td>-500.582168</td>\n",
       "      <td>13.998353</td>\n",
       "      <td>-599.787184</td>\n",
       "    </tr>\n",
       "    <tr>\n",
       "      <th>2</th>\n",
       "      <td>2016-01-15 02:00:00</td>\n",
       "      <td>6.055926</td>\n",
       "      <td>10.213995</td>\n",
       "      <td>5.383759</td>\n",
       "      <td>42.657501</td>\n",
       "      <td>68.116445</td>\n",
       "      <td>10.507046</td>\n",
       "      <td>0.953716</td>\n",
       "      <td>16.208849</td>\n",
       "      <td>2.257889</td>\n",
       "      <td>...</td>\n",
       "      <td>14.015015</td>\n",
       "      <td>-502.520901</td>\n",
       "      <td>11.912783</td>\n",
       "      <td>-501.133383</td>\n",
       "      <td>10.070913</td>\n",
       "      <td>-500.129135</td>\n",
       "      <td>8.013877</td>\n",
       "      <td>-500.517572</td>\n",
       "      <td>14.028663</td>\n",
       "      <td>-601.427363</td>\n",
       "    </tr>\n",
       "    <tr>\n",
       "      <th>3</th>\n",
       "      <td>2016-01-15 03:00:00</td>\n",
       "      <td>6.047977</td>\n",
       "      <td>9.977019</td>\n",
       "      <td>4.858634</td>\n",
       "      <td>42.689819</td>\n",
       "      <td>68.347543</td>\n",
       "      <td>10.422762</td>\n",
       "      <td>0.883763</td>\n",
       "      <td>16.532835</td>\n",
       "      <td>2.146849</td>\n",
       "      <td>...</td>\n",
       "      <td>14.036510</td>\n",
       "      <td>-500.857308</td>\n",
       "      <td>11.999550</td>\n",
       "      <td>-501.193686</td>\n",
       "      <td>9.970366</td>\n",
       "      <td>-499.201640</td>\n",
       "      <td>7.977324</td>\n",
       "      <td>-500.255908</td>\n",
       "      <td>14.005551</td>\n",
       "      <td>-599.996129</td>\n",
       "    </tr>\n",
       "    <tr>\n",
       "      <th>4</th>\n",
       "      <td>2016-01-15 04:00:00</td>\n",
       "      <td>6.148599</td>\n",
       "      <td>10.142511</td>\n",
       "      <td>4.939416</td>\n",
       "      <td>42.774141</td>\n",
       "      <td>66.927016</td>\n",
       "      <td>10.360302</td>\n",
       "      <td>0.792826</td>\n",
       "      <td>16.525686</td>\n",
       "      <td>2.055292</td>\n",
       "      <td>...</td>\n",
       "      <td>14.027298</td>\n",
       "      <td>-499.838632</td>\n",
       "      <td>11.953070</td>\n",
       "      <td>-501.053894</td>\n",
       "      <td>9.925709</td>\n",
       "      <td>-501.686727</td>\n",
       "      <td>7.894242</td>\n",
       "      <td>-500.356035</td>\n",
       "      <td>13.996647</td>\n",
       "      <td>-601.496691</td>\n",
       "    </tr>\n",
       "  </tbody>\n",
       "</table>\n",
       "<p>5 rows × 87 columns</p>\n",
       "</div>"
      ],
      "text/plain": [
       "                  date  final.output.concentrate_ag  \\\n",
       "0  2016-01-15 00:00:00                     6.055403   \n",
       "1  2016-01-15 01:00:00                     6.029369   \n",
       "2  2016-01-15 02:00:00                     6.055926   \n",
       "3  2016-01-15 03:00:00                     6.047977   \n",
       "4  2016-01-15 04:00:00                     6.148599   \n",
       "\n",
       "   final.output.concentrate_pb  final.output.concentrate_sol  \\\n",
       "0                     9.889648                      5.507324   \n",
       "1                     9.968944                      5.257781   \n",
       "2                    10.213995                      5.383759   \n",
       "3                     9.977019                      4.858634   \n",
       "4                    10.142511                      4.939416   \n",
       "\n",
       "   final.output.concentrate_au  final.output.recovery  final.output.tail_ag  \\\n",
       "0                    42.192020              70.541216             10.411962   \n",
       "1                    42.701629              69.266198             10.462676   \n",
       "2                    42.657501              68.116445             10.507046   \n",
       "3                    42.689819              68.347543             10.422762   \n",
       "4                    42.774141              66.927016             10.360302   \n",
       "\n",
       "   final.output.tail_pb  final.output.tail_sol  final.output.tail_au  ...  \\\n",
       "0              0.895447              16.904297              2.143149  ...   \n",
       "1              0.927452              16.634514              2.224930  ...   \n",
       "2              0.953716              16.208849              2.257889  ...   \n",
       "3              0.883763              16.532835              2.146849  ...   \n",
       "4              0.792826              16.525686              2.055292  ...   \n",
       "\n",
       "   secondary_cleaner.state.floatbank4_a_air  \\\n",
       "0                                 14.016835   \n",
       "1                                 13.992281   \n",
       "2                                 14.015015   \n",
       "3                                 14.036510   \n",
       "4                                 14.027298   \n",
       "\n",
       "   secondary_cleaner.state.floatbank4_a_level  \\\n",
       "0                                 -502.488007   \n",
       "1                                 -505.503262   \n",
       "2                                 -502.520901   \n",
       "3                                 -500.857308   \n",
       "4                                 -499.838632   \n",
       "\n",
       "   secondary_cleaner.state.floatbank4_b_air  \\\n",
       "0                                 12.099931   \n",
       "1                                 11.950531   \n",
       "2                                 11.912783   \n",
       "3                                 11.999550   \n",
       "4                                 11.953070   \n",
       "\n",
       "   secondary_cleaner.state.floatbank4_b_level  \\\n",
       "0                                 -504.715942   \n",
       "1                                 -501.331529   \n",
       "2                                 -501.133383   \n",
       "3                                 -501.193686   \n",
       "4                                 -501.053894   \n",
       "\n",
       "   secondary_cleaner.state.floatbank5_a_air  \\\n",
       "0                                  9.925633   \n",
       "1                                 10.039245   \n",
       "2                                 10.070913   \n",
       "3                                  9.970366   \n",
       "4                                  9.925709   \n",
       "\n",
       "   secondary_cleaner.state.floatbank5_a_level  \\\n",
       "0                                 -498.310211   \n",
       "1                                 -500.169983   \n",
       "2                                 -500.129135   \n",
       "3                                 -499.201640   \n",
       "4                                 -501.686727   \n",
       "\n",
       "   secondary_cleaner.state.floatbank5_b_air  \\\n",
       "0                                  8.079666   \n",
       "1                                  7.984757   \n",
       "2                                  8.013877   \n",
       "3                                  7.977324   \n",
       "4                                  7.894242   \n",
       "\n",
       "   secondary_cleaner.state.floatbank5_b_level  \\\n",
       "0                                 -500.470978   \n",
       "1                                 -500.582168   \n",
       "2                                 -500.517572   \n",
       "3                                 -500.255908   \n",
       "4                                 -500.356035   \n",
       "\n",
       "   secondary_cleaner.state.floatbank6_a_air  \\\n",
       "0                                 14.151341   \n",
       "1                                 13.998353   \n",
       "2                                 14.028663   \n",
       "3                                 14.005551   \n",
       "4                                 13.996647   \n",
       "\n",
       "   secondary_cleaner.state.floatbank6_a_level  \n",
       "0                                 -605.841980  \n",
       "1                                 -599.787184  \n",
       "2                                 -601.427363  \n",
       "3                                 -599.996129  \n",
       "4                                 -601.496691  \n",
       "\n",
       "[5 rows x 87 columns]"
      ]
     },
     "metadata": {},
     "output_type": "display_data"
    },
    {
     "name": "stdout",
     "output_type": "stream",
     "text": [
      "\n",
      "\n",
      "------------- Типы данных ------------\n",
      "<class 'pandas.core.frame.DataFrame'>\n",
      "RangeIndex: 19439 entries, 0 to 19438\n",
      "Data columns (total 87 columns):\n",
      " #   Column                                              Non-Null Count  Dtype  \n",
      "---  ------                                              --------------  -----  \n",
      " 0   date                                                19439 non-null  object \n",
      " 1   final.output.concentrate_ag                         19438 non-null  float64\n",
      " 2   final.output.concentrate_pb                         19438 non-null  float64\n",
      " 3   final.output.concentrate_sol                        19228 non-null  float64\n",
      " 4   final.output.concentrate_au                         19439 non-null  float64\n",
      " 5   final.output.recovery                               19439 non-null  float64\n",
      " 6   final.output.tail_ag                                19438 non-null  float64\n",
      " 7   final.output.tail_pb                                19338 non-null  float64\n",
      " 8   final.output.tail_sol                               19433 non-null  float64\n",
      " 9   final.output.tail_au                                19439 non-null  float64\n",
      " 10  primary_cleaner.input.sulfate                       19415 non-null  float64\n",
      " 11  primary_cleaner.input.depressant                    19402 non-null  float64\n",
      " 12  primary_cleaner.input.feed_size                     19439 non-null  float64\n",
      " 13  primary_cleaner.input.xanthate                      19335 non-null  float64\n",
      " 14  primary_cleaner.output.concentrate_ag               19439 non-null  float64\n",
      " 15  primary_cleaner.output.concentrate_pb               19323 non-null  float64\n",
      " 16  primary_cleaner.output.concentrate_sol              19069 non-null  float64\n",
      " 17  primary_cleaner.output.concentrate_au               19439 non-null  float64\n",
      " 18  primary_cleaner.output.tail_ag                      19435 non-null  float64\n",
      " 19  primary_cleaner.output.tail_pb                      19418 non-null  float64\n",
      " 20  primary_cleaner.output.tail_sol                     19377 non-null  float64\n",
      " 21  primary_cleaner.output.tail_au                      19439 non-null  float64\n",
      " 22  primary_cleaner.state.floatbank8_a_air              19435 non-null  float64\n",
      " 23  primary_cleaner.state.floatbank8_a_level            19438 non-null  float64\n",
      " 24  primary_cleaner.state.floatbank8_b_air              19435 non-null  float64\n",
      " 25  primary_cleaner.state.floatbank8_b_level            19438 non-null  float64\n",
      " 26  primary_cleaner.state.floatbank8_c_air              19437 non-null  float64\n",
      " 27  primary_cleaner.state.floatbank8_c_level            19438 non-null  float64\n",
      " 28  primary_cleaner.state.floatbank8_d_air              19436 non-null  float64\n",
      " 29  primary_cleaner.state.floatbank8_d_level            19438 non-null  float64\n",
      " 30  rougher.calculation.sulfate_to_au_concentrate       19437 non-null  float64\n",
      " 31  rougher.calculation.floatbank10_sulfate_to_au_feed  19437 non-null  float64\n",
      " 32  rougher.calculation.floatbank11_sulfate_to_au_feed  19437 non-null  float64\n",
      " 33  rougher.calculation.au_pb_ratio                     19439 non-null  float64\n",
      " 34  rougher.input.feed_ag                               19439 non-null  float64\n",
      " 35  rougher.input.feed_pb                               19339 non-null  float64\n",
      " 36  rougher.input.feed_rate                             19428 non-null  float64\n",
      " 37  rougher.input.feed_size                             19294 non-null  float64\n",
      " 38  rougher.input.feed_sol                              19340 non-null  float64\n",
      " 39  rougher.input.feed_au                               19439 non-null  float64\n",
      " 40  rougher.input.floatbank10_sulfate                   19405 non-null  float64\n",
      " 41  rougher.input.floatbank10_xanthate                  19431 non-null  float64\n",
      " 42  rougher.input.floatbank11_sulfate                   19395 non-null  float64\n",
      " 43  rougher.input.floatbank11_xanthate                  18986 non-null  float64\n",
      " 44  rougher.output.concentrate_ag                       19439 non-null  float64\n",
      " 45  rougher.output.concentrate_pb                       19439 non-null  float64\n",
      " 46  rougher.output.concentrate_sol                      19416 non-null  float64\n",
      " 47  rougher.output.concentrate_au                       19439 non-null  float64\n",
      " 48  rougher.output.recovery                             19439 non-null  float64\n",
      " 49  rougher.output.tail_ag                              19438 non-null  float64\n",
      " 50  rougher.output.tail_pb                              19439 non-null  float64\n",
      " 51  rougher.output.tail_sol                             19439 non-null  float64\n",
      " 52  rougher.output.tail_au                              19439 non-null  float64\n",
      " 53  rougher.state.floatbank10_a_air                     19438 non-null  float64\n",
      " 54  rougher.state.floatbank10_a_level                   19438 non-null  float64\n",
      " 55  rougher.state.floatbank10_b_air                     19438 non-null  float64\n",
      " 56  rougher.state.floatbank10_b_level                   19438 non-null  float64\n",
      " 57  rougher.state.floatbank10_c_air                     19438 non-null  float64\n",
      " 58  rougher.state.floatbank10_c_level                   19438 non-null  float64\n",
      " 59  rougher.state.floatbank10_d_air                     19439 non-null  float64\n",
      " 60  rougher.state.floatbank10_d_level                   19439 non-null  float64\n",
      " 61  rougher.state.floatbank10_e_air                     19003 non-null  float64\n",
      " 62  rougher.state.floatbank10_e_level                   19439 non-null  float64\n",
      " 63  rougher.state.floatbank10_f_air                     19439 non-null  float64\n",
      " 64  rougher.state.floatbank10_f_level                   19439 non-null  float64\n",
      " 65  secondary_cleaner.output.tail_ag                    19437 non-null  float64\n",
      " 66  secondary_cleaner.output.tail_pb                    19427 non-null  float64\n",
      " 67  secondary_cleaner.output.tail_sol                   17691 non-null  float64\n",
      " 68  secondary_cleaner.output.tail_au                    19439 non-null  float64\n",
      " 69  secondary_cleaner.state.floatbank2_a_air            19219 non-null  float64\n",
      " 70  secondary_cleaner.state.floatbank2_a_level          19438 non-null  float64\n",
      " 71  secondary_cleaner.state.floatbank2_b_air            19416 non-null  float64\n",
      " 72  secondary_cleaner.state.floatbank2_b_level          19438 non-null  float64\n",
      " 73  secondary_cleaner.state.floatbank3_a_air            19426 non-null  float64\n",
      " 74  secondary_cleaner.state.floatbank3_a_level          19438 non-null  float64\n",
      " 75  secondary_cleaner.state.floatbank3_b_air            19438 non-null  float64\n",
      " 76  secondary_cleaner.state.floatbank3_b_level          19438 non-null  float64\n",
      " 77  secondary_cleaner.state.floatbank4_a_air            19433 non-null  float64\n",
      " 78  secondary_cleaner.state.floatbank4_a_level          19438 non-null  float64\n",
      " 79  secondary_cleaner.state.floatbank4_b_air            19438 non-null  float64\n",
      " 80  secondary_cleaner.state.floatbank4_b_level          19438 non-null  float64\n",
      " 81  secondary_cleaner.state.floatbank5_a_air            19438 non-null  float64\n",
      " 82  secondary_cleaner.state.floatbank5_a_level          19438 non-null  float64\n",
      " 83  secondary_cleaner.state.floatbank5_b_air            19438 non-null  float64\n",
      " 84  secondary_cleaner.state.floatbank5_b_level          19438 non-null  float64\n",
      " 85  secondary_cleaner.state.floatbank6_a_air            19437 non-null  float64\n",
      " 86  secondary_cleaner.state.floatbank6_a_level          19438 non-null  float64\n",
      "dtypes: float64(86), object(1)\n",
      "memory usage: 12.9+ MB\n",
      "None\n",
      "\n",
      "\n",
      "------------- Пропуски ------------\n",
      "final.output.concentrate_ag  -  1 пропусков,  0.01 % от числа строк.\n",
      "final.output.concentrate_pb  -  1 пропусков,  0.01 % от числа строк.\n",
      "final.output.concentrate_sol  -  211 пропусков,  1.09 % от числа строк.\n",
      "final.output.tail_ag  -  1 пропусков,  0.01 % от числа строк.\n",
      "final.output.tail_pb  -  101 пропусков,  0.52 % от числа строк.\n",
      "final.output.tail_sol  -  6 пропусков,  0.03 % от числа строк.\n",
      "primary_cleaner.input.sulfate  -  24 пропусков,  0.12 % от числа строк.\n",
      "primary_cleaner.input.depressant  -  37 пропусков,  0.19 % от числа строк.\n",
      "primary_cleaner.input.xanthate  -  104 пропусков,  0.54 % от числа строк.\n",
      "primary_cleaner.output.concentrate_pb  -  116 пропусков,  0.6 % от числа строк.\n",
      "primary_cleaner.output.concentrate_sol  -  370 пропусков,  1.9 % от числа строк.\n",
      "primary_cleaner.output.tail_ag  -  4 пропусков,  0.02 % от числа строк.\n",
      "primary_cleaner.output.tail_pb  -  21 пропусков,  0.11 % от числа строк.\n",
      "primary_cleaner.output.tail_sol  -  62 пропусков,  0.32 % от числа строк.\n",
      "primary_cleaner.state.floatbank8_a_air  -  4 пропусков,  0.02 % от числа строк.\n",
      "primary_cleaner.state.floatbank8_a_level  -  1 пропусков,  0.01 % от числа строк.\n",
      "primary_cleaner.state.floatbank8_b_air  -  4 пропусков,  0.02 % от числа строк.\n",
      "primary_cleaner.state.floatbank8_b_level  -  1 пропусков,  0.01 % от числа строк.\n",
      "primary_cleaner.state.floatbank8_c_air  -  2 пропусков,  0.01 % от числа строк.\n",
      "primary_cleaner.state.floatbank8_c_level  -  1 пропусков,  0.01 % от числа строк.\n",
      "primary_cleaner.state.floatbank8_d_air  -  3 пропусков,  0.02 % от числа строк.\n",
      "primary_cleaner.state.floatbank8_d_level  -  1 пропусков,  0.01 % от числа строк.\n",
      "rougher.calculation.sulfate_to_au_concentrate  -  2 пропусков,  0.01 % от числа строк.\n",
      "rougher.calculation.floatbank10_sulfate_to_au_feed  -  2 пропусков,  0.01 % от числа строк.\n",
      "rougher.calculation.floatbank11_sulfate_to_au_feed  -  2 пропусков,  0.01 % от числа строк.\n",
      "rougher.input.feed_pb  -  100 пропусков,  0.51 % от числа строк.\n",
      "rougher.input.feed_rate  -  11 пропусков,  0.06 % от числа строк.\n",
      "rougher.input.feed_size  -  145 пропусков,  0.75 % от числа строк.\n",
      "rougher.input.feed_sol  -  99 пропусков,  0.51 % от числа строк.\n",
      "rougher.input.floatbank10_sulfate  -  34 пропусков,  0.17 % от числа строк.\n",
      "rougher.input.floatbank10_xanthate  -  8 пропусков,  0.04 % от числа строк.\n",
      "rougher.input.floatbank11_sulfate  -  44 пропусков,  0.23 % от числа строк.\n",
      "rougher.input.floatbank11_xanthate  -  453 пропусков,  2.33 % от числа строк.\n",
      "rougher.output.concentrate_sol  -  23 пропусков,  0.12 % от числа строк.\n",
      "rougher.output.tail_ag  -  1 пропусков,  0.01 % от числа строк.\n",
      "rougher.state.floatbank10_a_air  -  1 пропусков,  0.01 % от числа строк.\n",
      "rougher.state.floatbank10_a_level  -  1 пропусков,  0.01 % от числа строк.\n",
      "rougher.state.floatbank10_b_air  -  1 пропусков,  0.01 % от числа строк.\n",
      "rougher.state.floatbank10_b_level  -  1 пропусков,  0.01 % от числа строк.\n",
      "rougher.state.floatbank10_c_air  -  1 пропусков,  0.01 % от числа строк.\n",
      "rougher.state.floatbank10_c_level  -  1 пропусков,  0.01 % от числа строк.\n",
      "rougher.state.floatbank10_e_air  -  436 пропусков,  2.24 % от числа строк.\n",
      "secondary_cleaner.output.tail_ag  -  2 пропусков,  0.01 % от числа строк.\n",
      "secondary_cleaner.output.tail_pb  -  12 пропусков,  0.06 % от числа строк.\n",
      "secondary_cleaner.output.tail_sol  -  1748 пропусков,  8.99 % от числа строк.\n",
      "secondary_cleaner.state.floatbank2_a_air  -  220 пропусков,  1.13 % от числа строк.\n",
      "secondary_cleaner.state.floatbank2_a_level  -  1 пропусков,  0.01 % от числа строк.\n",
      "secondary_cleaner.state.floatbank2_b_air  -  23 пропусков,  0.12 % от числа строк.\n",
      "secondary_cleaner.state.floatbank2_b_level  -  1 пропусков,  0.01 % от числа строк.\n",
      "secondary_cleaner.state.floatbank3_a_air  -  13 пропусков,  0.07 % от числа строк.\n",
      "secondary_cleaner.state.floatbank3_a_level  -  1 пропусков,  0.01 % от числа строк.\n",
      "secondary_cleaner.state.floatbank3_b_air  -  1 пропусков,  0.01 % от числа строк.\n",
      "secondary_cleaner.state.floatbank3_b_level  -  1 пропусков,  0.01 % от числа строк.\n",
      "secondary_cleaner.state.floatbank4_a_air  -  6 пропусков,  0.03 % от числа строк.\n",
      "secondary_cleaner.state.floatbank4_a_level  -  1 пропусков,  0.01 % от числа строк.\n",
      "secondary_cleaner.state.floatbank4_b_air  -  1 пропусков,  0.01 % от числа строк.\n",
      "secondary_cleaner.state.floatbank4_b_level  -  1 пропусков,  0.01 % от числа строк.\n",
      "secondary_cleaner.state.floatbank5_a_air  -  1 пропусков,  0.01 % от числа строк.\n",
      "secondary_cleaner.state.floatbank5_a_level  -  1 пропусков,  0.01 % от числа строк.\n",
      "secondary_cleaner.state.floatbank5_b_air  -  1 пропусков,  0.01 % от числа строк.\n",
      "secondary_cleaner.state.floatbank5_b_level  -  1 пропусков,  0.01 % от числа строк.\n",
      "secondary_cleaner.state.floatbank6_a_air  -  2 пропусков,  0.01 % от числа строк.\n"
     ]
    },
    {
     "name": "stdout",
     "output_type": "stream",
     "text": [
      "secondary_cleaner.state.floatbank6_a_level  -  1 пропусков,  0.01 % от числа строк.\n",
      "------------- Дубликаты ------------\n",
      "Дубликатов НЕТ\n",
      "------------- Категориальные признаки ------------\n"
     ]
    }
   ],
   "source": [
    "first_look (df_full)"
   ]
  },
  {
   "cell_type": "markdown",
   "metadata": {},
   "source": [
    "Из прочитанных данных видно, что в обучающей и полной выборке 86 столбцов, а в тестовой всего 52. Также в тестовой выборке отсутствуют целевые признаки final.output.recovery и rougher.output.recovery.\n",
    "\n",
    "Во всех файлах присутствуют пропуски в данных, дубликатов нет"
   ]
  },
  {
   "cell_type": "markdown",
   "metadata": {},
   "source": [
    "# Технологический процесс\n",
    "\n",
    "Как золото получают из руды? Изучите внимательно стадии процесса.\n",
    "Когда добытая руда проходит первичную обработку, получается дроблёная смесь. Её отправляют на флотацию (обогащение) и двухэтапную очистку.\n",
    "\n",
    "Опишем каждую стадию:\n",
    "\n",
    "<b>1. Флотация</b>\n",
    "\n",
    "Во флотационную установку подаётся смесь золотосодержащей руды. После обогащения получается черновой концентрат и «отвальные хвосты», то есть остатки продукта с низкой концентрацией ценных металлов.\n",
    "На стабильность этого процесса влияет непостоянное и неоптимальное физико-химическое состояние флотационной пульпы (смеси твёрдых частиц и жидкости).\n",
    "\n",
    "<b>2. Очистка</b>\n",
    "\n",
    "Черновой концентрат проходит две очистки. На выходе получается финальный концентрат и новые отвальные хвосты.\n",
    "\n",
    "# Описание данных\n",
    "\n",
    "<b>Технологический процесс</b>\n",
    "\n",
    "•\tRougher feed — исходное сырье\n",
    "\n",
    "•\tRougher additions (или reagent additions) — флотационные реагенты: Xanthate, Sulphate, Depressant\n",
    "\n",
    "    o\tXanthate **— ксантогенат (промотер, или активатор флотации);\n",
    "    \n",
    "    o\tSulphate — сульфат (на данном производстве сульфид натрия);\n",
    "    \n",
    "    o\tDepressant — депрессант (силикат натрия).\n",
    "    \n",
    "•\tRougher process (англ. «грубый процесс») — флотация\n",
    "\n",
    "•\tRougher tails — отвальные хвосты\n",
    "\n",
    "•\tFloat banks — флотационная установка\n",
    "\n",
    "•\tCleaner process — очистка\n",
    "\n",
    "•\tRougher Au — черновой концентрат золота\n",
    "\n",
    "•\tFinal Au — финальный концентрат золота\n",
    "\n",
    "<b>Параметры этапов</b>\n",
    "\n",
    "•\tair amount — объём воздуха\n",
    "\n",
    "•\tfluid levels — уровень жидкости\n",
    "\n",
    "•\tfeed size — размер гранул сырья\n",
    "\n",
    "•\tfeed rate — скорость подачи\n",
    "\n",
    "# Наименование признаков\n",
    "\n",
    "Наименование признаков должно быть такое:\n",
    "\n",
    "[этап].[тип_параметра].[название_параметра]\n",
    "\n",
    "Пример: rougher.input.feed_ag\n",
    "\n",
    "Возможные значения для блока [этап]:\n",
    "\n",
    "•\trougher — флотация\n",
    "\n",
    "•\tprimary_cleaner — первичная очистка\n",
    "\n",
    "•\tsecondary_cleaner — вторичная очистка\n",
    "\n",
    "•\tfinal — финальные характеристики\n",
    "\n",
    "Возможные значения для блока [тип_параметра]:\n",
    "\n",
    "•\tinput — параметры сырья\n",
    "\n",
    "•\toutput — параметры продукта\n",
    "\n",
    "•\tstate — параметры, характеризующие текущее состояние этапа\n",
    "\n",
    "•\tcalculation — расчётные характеристики"
   ]
  },
  {
   "cell_type": "markdown",
   "metadata": {},
   "source": [
    "<a id=step_3></a>\n",
    "<b>1.2. Проверим, что эффективность обогащения рассчитана правильно. Вычислим её на обучающей выборке для признака rougher.output.recovery. Найдем MAE между нашими расчётами и значением признака. Опишем выводы.</b>"
   ]
  },
  {
   "cell_type": "markdown",
   "metadata": {},
   "source": [
    "# Расчёт эффективности\n",
    "\n",
    "Вам нужно смоделировать процесс восстановления золота из золотосодержащей руды.\n",
    "Эффективность обогащения рассчитывается по формуле\n",
    " \n",
    " <b>$$Recovery = \\frac {C \\;x \\;(F - T)}{F \\;x \\;(C - T)}$$</b>\n",
    "  \n",
    "где:\n",
    "\n",
    "•\tC — доля золота в концентрате после флотации/очистки;\n",
    "\n",
    "•\tF — доля золота в сырье/концентрате до флотации/очистки;\n",
    "\n",
    "•\tT — доля золота в отвальных хвостах после флотации/очистки.\n",
    "\n",
    "Для прогноза коэффициента нужно найти долю золота в концентратах и хвостах. Причём важен не только финальный продукт, но и черновой концентрат."
   ]
  },
  {
   "cell_type": "markdown",
   "metadata": {},
   "source": [
    "Создадим переменную с нашим расчетным значением эффективности в обучающей выборке"
   ]
  },
  {
   "cell_type": "code",
   "execution_count": 8,
   "metadata": {},
   "outputs": [],
   "source": [
    "recovery = (df_train ['rougher.output.concentrate_au'] * (df_train ['rougher.input.feed_au'] - \\\n",
    "                    df_train ['rougher.output.tail_au'])) / (df_train ['rougher.input.feed_au'] * \\\n",
    "                    (df_train ['rougher.output.concentrate_au'] - df_train ['rougher.output.tail_au'])) * 100"
   ]
  },
  {
   "cell_type": "code",
   "execution_count": 9,
   "metadata": {},
   "outputs": [
    {
     "data": {
      "text/plain": [
       "0    87.107763\n",
       "1    86.843261\n",
       "2    86.842308\n",
       "3    87.226430\n",
       "4    86.688794\n",
       "dtype: float64"
      ]
     },
     "metadata": {},
     "output_type": "display_data"
    },
    {
     "name": "stdout",
     "output_type": "stream",
     "text": [
      "MAE между нашими расчётами и значением признака: 9.73512347450521e-15\n"
     ]
    }
   ],
   "source": [
    "display (recovery.head (5))\n",
    "print ('MAE между нашими расчётами и значением признака:', mean_absolute_error (df_train ['rougher.output.recovery'], \\\n",
    "                                                                                recovery))"
   ]
  },
  {
   "cell_type": "markdown",
   "metadata": {},
   "source": [
    "Т.к. расчитанное отклонение ничтожно мало, можем принять, что эффективность обогащения расчитана верно."
   ]
  },
  {
   "cell_type": "markdown",
   "metadata": {},
   "source": [
    "<a id=step_4></a>\n",
    "<b>1.3. Проанализируем признаки, недоступные в тестовой выборке. Опишем что это за параметры. Опишем к какому типу они относятся.</b>"
   ]
  },
  {
   "cell_type": "code",
   "execution_count": 10,
   "metadata": {},
   "outputs": [
    {
     "data": {
      "text/plain": [
       "Index(['final.output.concentrate_ag', 'final.output.concentrate_pb',\n",
       "       'final.output.concentrate_sol', 'final.output.concentrate_au',\n",
       "       'final.output.recovery', 'final.output.tail_ag', 'final.output.tail_pb',\n",
       "       'final.output.tail_sol', 'final.output.tail_au',\n",
       "       'primary_cleaner.output.concentrate_ag',\n",
       "       'primary_cleaner.output.concentrate_pb',\n",
       "       'primary_cleaner.output.concentrate_sol',\n",
       "       'primary_cleaner.output.concentrate_au',\n",
       "       'primary_cleaner.output.tail_ag', 'primary_cleaner.output.tail_pb',\n",
       "       'primary_cleaner.output.tail_sol', 'primary_cleaner.output.tail_au',\n",
       "       'rougher.calculation.sulfate_to_au_concentrate',\n",
       "       'rougher.calculation.floatbank10_sulfate_to_au_feed',\n",
       "       'rougher.calculation.floatbank11_sulfate_to_au_feed',\n",
       "       'rougher.calculation.au_pb_ratio', 'rougher.output.concentrate_ag',\n",
       "       'rougher.output.concentrate_pb', 'rougher.output.concentrate_sol',\n",
       "       'rougher.output.concentrate_au', 'rougher.output.recovery',\n",
       "       'rougher.output.tail_ag', 'rougher.output.tail_pb',\n",
       "       'rougher.output.tail_sol', 'rougher.output.tail_au',\n",
       "       'secondary_cleaner.output.tail_ag', 'secondary_cleaner.output.tail_pb',\n",
       "       'secondary_cleaner.output.tail_sol',\n",
       "       'secondary_cleaner.output.tail_au'],\n",
       "      dtype='object')"
      ]
     },
     "metadata": {},
     "output_type": "display_data"
    }
   ],
   "source": [
    "columns_not_in_test = df_train.columns.drop (df_test.columns)\n",
    "display (columns_not_in_test)"
   ]
  },
  {
   "cell_type": "markdown",
   "metadata": {},
   "source": [
    "После сравнения столбцов данных двух файлов, мы видим, что в тестовых данных не хватает тех признаков, которые замеряются и/или рассчитываются значительно позже. В виду этого подобные признаки также не должны быть использованы при обучении модели. Т.е. перед созданием модели их нужно убрать из обучающей выборки. Исключение составляют два целевых признака - final.output.recovery, rougher.output.recovery, т.к. нам их нужно спрогнозировать в дальнейшем."
   ]
  },
  {
   "cell_type": "markdown",
   "metadata": {},
   "source": [
    "Удалим из обучающей выборки те столбцы, которые не будут участвовать в обучении моделей"
   ]
  },
  {
   "cell_type": "code",
   "execution_count": 11,
   "metadata": {},
   "outputs": [],
   "source": [
    "columns_to_drop = columns_not_in_test.drop (['final.output.recovery', 'rougher.output.recovery'])\n",
    "train_columns = df_train.columns.drop (columns_to_drop)\n",
    "df_train = df_train [train_columns]"
   ]
  },
  {
   "cell_type": "code",
   "execution_count": 12,
   "metadata": {},
   "outputs": [
    {
     "name": "stdout",
     "output_type": "stream",
     "text": [
      "------------- Первые 5 строк ------------\n"
     ]
    },
    {
     "data": {
      "text/html": [
       "<div>\n",
       "<style scoped>\n",
       "    .dataframe tbody tr th:only-of-type {\n",
       "        vertical-align: middle;\n",
       "    }\n",
       "\n",
       "    .dataframe tbody tr th {\n",
       "        vertical-align: top;\n",
       "    }\n",
       "\n",
       "    .dataframe thead th {\n",
       "        text-align: right;\n",
       "    }\n",
       "</style>\n",
       "<table border=\"1\" class=\"dataframe\">\n",
       "  <thead>\n",
       "    <tr style=\"text-align: right;\">\n",
       "      <th></th>\n",
       "      <th>date</th>\n",
       "      <th>final.output.recovery</th>\n",
       "      <th>primary_cleaner.input.sulfate</th>\n",
       "      <th>primary_cleaner.input.depressant</th>\n",
       "      <th>primary_cleaner.input.feed_size</th>\n",
       "      <th>primary_cleaner.input.xanthate</th>\n",
       "      <th>primary_cleaner.state.floatbank8_a_air</th>\n",
       "      <th>primary_cleaner.state.floatbank8_a_level</th>\n",
       "      <th>primary_cleaner.state.floatbank8_b_air</th>\n",
       "      <th>primary_cleaner.state.floatbank8_b_level</th>\n",
       "      <th>...</th>\n",
       "      <th>secondary_cleaner.state.floatbank4_a_air</th>\n",
       "      <th>secondary_cleaner.state.floatbank4_a_level</th>\n",
       "      <th>secondary_cleaner.state.floatbank4_b_air</th>\n",
       "      <th>secondary_cleaner.state.floatbank4_b_level</th>\n",
       "      <th>secondary_cleaner.state.floatbank5_a_air</th>\n",
       "      <th>secondary_cleaner.state.floatbank5_a_level</th>\n",
       "      <th>secondary_cleaner.state.floatbank5_b_air</th>\n",
       "      <th>secondary_cleaner.state.floatbank5_b_level</th>\n",
       "      <th>secondary_cleaner.state.floatbank6_a_air</th>\n",
       "      <th>secondary_cleaner.state.floatbank6_a_level</th>\n",
       "    </tr>\n",
       "  </thead>\n",
       "  <tbody>\n",
       "    <tr>\n",
       "      <th>0</th>\n",
       "      <td>2016-01-15 00:00:00</td>\n",
       "      <td>70.541216</td>\n",
       "      <td>127.092003</td>\n",
       "      <td>10.128295</td>\n",
       "      <td>7.25</td>\n",
       "      <td>0.988759</td>\n",
       "      <td>1549.775757</td>\n",
       "      <td>-498.912140</td>\n",
       "      <td>1551.434204</td>\n",
       "      <td>-516.403442</td>\n",
       "      <td>...</td>\n",
       "      <td>14.016835</td>\n",
       "      <td>-502.488007</td>\n",
       "      <td>12.099931</td>\n",
       "      <td>-504.715942</td>\n",
       "      <td>9.925633</td>\n",
       "      <td>-498.310211</td>\n",
       "      <td>8.079666</td>\n",
       "      <td>-500.470978</td>\n",
       "      <td>14.151341</td>\n",
       "      <td>-605.841980</td>\n",
       "    </tr>\n",
       "    <tr>\n",
       "      <th>1</th>\n",
       "      <td>2016-01-15 01:00:00</td>\n",
       "      <td>69.266198</td>\n",
       "      <td>125.629232</td>\n",
       "      <td>10.296251</td>\n",
       "      <td>7.25</td>\n",
       "      <td>1.002663</td>\n",
       "      <td>1576.166671</td>\n",
       "      <td>-500.904965</td>\n",
       "      <td>1575.950626</td>\n",
       "      <td>-499.865889</td>\n",
       "      <td>...</td>\n",
       "      <td>13.992281</td>\n",
       "      <td>-505.503262</td>\n",
       "      <td>11.950531</td>\n",
       "      <td>-501.331529</td>\n",
       "      <td>10.039245</td>\n",
       "      <td>-500.169983</td>\n",
       "      <td>7.984757</td>\n",
       "      <td>-500.582168</td>\n",
       "      <td>13.998353</td>\n",
       "      <td>-599.787184</td>\n",
       "    </tr>\n",
       "    <tr>\n",
       "      <th>2</th>\n",
       "      <td>2016-01-15 02:00:00</td>\n",
       "      <td>68.116445</td>\n",
       "      <td>123.819808</td>\n",
       "      <td>11.316280</td>\n",
       "      <td>7.25</td>\n",
       "      <td>0.991265</td>\n",
       "      <td>1601.556163</td>\n",
       "      <td>-499.997791</td>\n",
       "      <td>1600.386685</td>\n",
       "      <td>-500.607762</td>\n",
       "      <td>...</td>\n",
       "      <td>14.015015</td>\n",
       "      <td>-502.520901</td>\n",
       "      <td>11.912783</td>\n",
       "      <td>-501.133383</td>\n",
       "      <td>10.070913</td>\n",
       "      <td>-500.129135</td>\n",
       "      <td>8.013877</td>\n",
       "      <td>-500.517572</td>\n",
       "      <td>14.028663</td>\n",
       "      <td>-601.427363</td>\n",
       "    </tr>\n",
       "    <tr>\n",
       "      <th>3</th>\n",
       "      <td>2016-01-15 03:00:00</td>\n",
       "      <td>68.347543</td>\n",
       "      <td>122.270188</td>\n",
       "      <td>11.322140</td>\n",
       "      <td>7.25</td>\n",
       "      <td>0.996739</td>\n",
       "      <td>1599.968720</td>\n",
       "      <td>-500.951778</td>\n",
       "      <td>1600.659236</td>\n",
       "      <td>-499.677094</td>\n",
       "      <td>...</td>\n",
       "      <td>14.036510</td>\n",
       "      <td>-500.857308</td>\n",
       "      <td>11.999550</td>\n",
       "      <td>-501.193686</td>\n",
       "      <td>9.970366</td>\n",
       "      <td>-499.201640</td>\n",
       "      <td>7.977324</td>\n",
       "      <td>-500.255908</td>\n",
       "      <td>14.005551</td>\n",
       "      <td>-599.996129</td>\n",
       "    </tr>\n",
       "    <tr>\n",
       "      <th>4</th>\n",
       "      <td>2016-01-15 04:00:00</td>\n",
       "      <td>66.927016</td>\n",
       "      <td>117.988169</td>\n",
       "      <td>11.913613</td>\n",
       "      <td>7.25</td>\n",
       "      <td>1.009869</td>\n",
       "      <td>1601.339707</td>\n",
       "      <td>-498.975456</td>\n",
       "      <td>1601.437854</td>\n",
       "      <td>-500.323246</td>\n",
       "      <td>...</td>\n",
       "      <td>14.027298</td>\n",
       "      <td>-499.838632</td>\n",
       "      <td>11.953070</td>\n",
       "      <td>-501.053894</td>\n",
       "      <td>9.925709</td>\n",
       "      <td>-501.686727</td>\n",
       "      <td>7.894242</td>\n",
       "      <td>-500.356035</td>\n",
       "      <td>13.996647</td>\n",
       "      <td>-601.496691</td>\n",
       "    </tr>\n",
       "  </tbody>\n",
       "</table>\n",
       "<p>5 rows × 55 columns</p>\n",
       "</div>"
      ],
      "text/plain": [
       "                  date  final.output.recovery  primary_cleaner.input.sulfate  \\\n",
       "0  2016-01-15 00:00:00              70.541216                     127.092003   \n",
       "1  2016-01-15 01:00:00              69.266198                     125.629232   \n",
       "2  2016-01-15 02:00:00              68.116445                     123.819808   \n",
       "3  2016-01-15 03:00:00              68.347543                     122.270188   \n",
       "4  2016-01-15 04:00:00              66.927016                     117.988169   \n",
       "\n",
       "   primary_cleaner.input.depressant  primary_cleaner.input.feed_size  \\\n",
       "0                         10.128295                             7.25   \n",
       "1                         10.296251                             7.25   \n",
       "2                         11.316280                             7.25   \n",
       "3                         11.322140                             7.25   \n",
       "4                         11.913613                             7.25   \n",
       "\n",
       "   primary_cleaner.input.xanthate  primary_cleaner.state.floatbank8_a_air  \\\n",
       "0                        0.988759                             1549.775757   \n",
       "1                        1.002663                             1576.166671   \n",
       "2                        0.991265                             1601.556163   \n",
       "3                        0.996739                             1599.968720   \n",
       "4                        1.009869                             1601.339707   \n",
       "\n",
       "   primary_cleaner.state.floatbank8_a_level  \\\n",
       "0                               -498.912140   \n",
       "1                               -500.904965   \n",
       "2                               -499.997791   \n",
       "3                               -500.951778   \n",
       "4                               -498.975456   \n",
       "\n",
       "   primary_cleaner.state.floatbank8_b_air  \\\n",
       "0                             1551.434204   \n",
       "1                             1575.950626   \n",
       "2                             1600.386685   \n",
       "3                             1600.659236   \n",
       "4                             1601.437854   \n",
       "\n",
       "   primary_cleaner.state.floatbank8_b_level  ...  \\\n",
       "0                               -516.403442  ...   \n",
       "1                               -499.865889  ...   \n",
       "2                               -500.607762  ...   \n",
       "3                               -499.677094  ...   \n",
       "4                               -500.323246  ...   \n",
       "\n",
       "   secondary_cleaner.state.floatbank4_a_air  \\\n",
       "0                                 14.016835   \n",
       "1                                 13.992281   \n",
       "2                                 14.015015   \n",
       "3                                 14.036510   \n",
       "4                                 14.027298   \n",
       "\n",
       "   secondary_cleaner.state.floatbank4_a_level  \\\n",
       "0                                 -502.488007   \n",
       "1                                 -505.503262   \n",
       "2                                 -502.520901   \n",
       "3                                 -500.857308   \n",
       "4                                 -499.838632   \n",
       "\n",
       "   secondary_cleaner.state.floatbank4_b_air  \\\n",
       "0                                 12.099931   \n",
       "1                                 11.950531   \n",
       "2                                 11.912783   \n",
       "3                                 11.999550   \n",
       "4                                 11.953070   \n",
       "\n",
       "   secondary_cleaner.state.floatbank4_b_level  \\\n",
       "0                                 -504.715942   \n",
       "1                                 -501.331529   \n",
       "2                                 -501.133383   \n",
       "3                                 -501.193686   \n",
       "4                                 -501.053894   \n",
       "\n",
       "   secondary_cleaner.state.floatbank5_a_air  \\\n",
       "0                                  9.925633   \n",
       "1                                 10.039245   \n",
       "2                                 10.070913   \n",
       "3                                  9.970366   \n",
       "4                                  9.925709   \n",
       "\n",
       "   secondary_cleaner.state.floatbank5_a_level  \\\n",
       "0                                 -498.310211   \n",
       "1                                 -500.169983   \n",
       "2                                 -500.129135   \n",
       "3                                 -499.201640   \n",
       "4                                 -501.686727   \n",
       "\n",
       "   secondary_cleaner.state.floatbank5_b_air  \\\n",
       "0                                  8.079666   \n",
       "1                                  7.984757   \n",
       "2                                  8.013877   \n",
       "3                                  7.977324   \n",
       "4                                  7.894242   \n",
       "\n",
       "   secondary_cleaner.state.floatbank5_b_level  \\\n",
       "0                                 -500.470978   \n",
       "1                                 -500.582168   \n",
       "2                                 -500.517572   \n",
       "3                                 -500.255908   \n",
       "4                                 -500.356035   \n",
       "\n",
       "   secondary_cleaner.state.floatbank6_a_air  \\\n",
       "0                                 14.151341   \n",
       "1                                 13.998353   \n",
       "2                                 14.028663   \n",
       "3                                 14.005551   \n",
       "4                                 13.996647   \n",
       "\n",
       "   secondary_cleaner.state.floatbank6_a_level  \n",
       "0                                 -605.841980  \n",
       "1                                 -599.787184  \n",
       "2                                 -601.427363  \n",
       "3                                 -599.996129  \n",
       "4                                 -601.496691  \n",
       "\n",
       "[5 rows x 55 columns]"
      ]
     },
     "metadata": {},
     "output_type": "display_data"
    },
    {
     "name": "stdout",
     "output_type": "stream",
     "text": [
      "\n",
      "\n",
      "------------- Типы данных ------------\n",
      "<class 'pandas.core.frame.DataFrame'>\n",
      "RangeIndex: 14149 entries, 0 to 14148\n",
      "Data columns (total 55 columns):\n",
      " #   Column                                      Non-Null Count  Dtype  \n",
      "---  ------                                      --------------  -----  \n",
      " 0   date                                        14149 non-null  object \n",
      " 1   final.output.recovery                       14149 non-null  float64\n",
      " 2   primary_cleaner.input.sulfate               14129 non-null  float64\n",
      " 3   primary_cleaner.input.depressant            14117 non-null  float64\n",
      " 4   primary_cleaner.input.feed_size             14149 non-null  float64\n",
      " 5   primary_cleaner.input.xanthate              14049 non-null  float64\n",
      " 6   primary_cleaner.state.floatbank8_a_air      14145 non-null  float64\n",
      " 7   primary_cleaner.state.floatbank8_a_level    14148 non-null  float64\n",
      " 8   primary_cleaner.state.floatbank8_b_air      14145 non-null  float64\n",
      " 9   primary_cleaner.state.floatbank8_b_level    14148 non-null  float64\n",
      " 10  primary_cleaner.state.floatbank8_c_air      14147 non-null  float64\n",
      " 11  primary_cleaner.state.floatbank8_c_level    14148 non-null  float64\n",
      " 12  primary_cleaner.state.floatbank8_d_air      14146 non-null  float64\n",
      " 13  primary_cleaner.state.floatbank8_d_level    14148 non-null  float64\n",
      " 14  rougher.input.feed_ag                       14149 non-null  float64\n",
      " 15  rougher.input.feed_pb                       14049 non-null  float64\n",
      " 16  rougher.input.feed_rate                     14141 non-null  float64\n",
      " 17  rougher.input.feed_size                     14005 non-null  float64\n",
      " 18  rougher.input.feed_sol                      14071 non-null  float64\n",
      " 19  rougher.input.feed_au                       14149 non-null  float64\n",
      " 20  rougher.input.floatbank10_sulfate           14120 non-null  float64\n",
      " 21  rougher.input.floatbank10_xanthate          14141 non-null  float64\n",
      " 22  rougher.input.floatbank11_sulfate           14113 non-null  float64\n",
      " 23  rougher.input.floatbank11_xanthate          13721 non-null  float64\n",
      " 24  rougher.output.recovery                     14149 non-null  float64\n",
      " 25  rougher.state.floatbank10_a_air             14148 non-null  float64\n",
      " 26  rougher.state.floatbank10_a_level           14148 non-null  float64\n",
      " 27  rougher.state.floatbank10_b_air             14148 non-null  float64\n",
      " 28  rougher.state.floatbank10_b_level           14148 non-null  float64\n",
      " 29  rougher.state.floatbank10_c_air             14148 non-null  float64\n",
      " 30  rougher.state.floatbank10_c_level           14148 non-null  float64\n",
      " 31  rougher.state.floatbank10_d_air             14149 non-null  float64\n",
      " 32  rougher.state.floatbank10_d_level           14149 non-null  float64\n",
      " 33  rougher.state.floatbank10_e_air             13713 non-null  float64\n",
      " 34  rougher.state.floatbank10_e_level           14149 non-null  float64\n",
      " 35  rougher.state.floatbank10_f_air             14149 non-null  float64\n",
      " 36  rougher.state.floatbank10_f_level           14149 non-null  float64\n",
      " 37  secondary_cleaner.state.floatbank2_a_air    13932 non-null  float64\n",
      " 38  secondary_cleaner.state.floatbank2_a_level  14148 non-null  float64\n",
      " 39  secondary_cleaner.state.floatbank2_b_air    14128 non-null  float64\n",
      " 40  secondary_cleaner.state.floatbank2_b_level  14148 non-null  float64\n",
      " 41  secondary_cleaner.state.floatbank3_a_air    14145 non-null  float64\n",
      " 42  secondary_cleaner.state.floatbank3_a_level  14148 non-null  float64\n",
      " 43  secondary_cleaner.state.floatbank3_b_air    14148 non-null  float64\n",
      " 44  secondary_cleaner.state.floatbank3_b_level  14148 non-null  float64\n",
      " 45  secondary_cleaner.state.floatbank4_a_air    14143 non-null  float64\n",
      " 46  secondary_cleaner.state.floatbank4_a_level  14148 non-null  float64\n",
      " 47  secondary_cleaner.state.floatbank4_b_air    14148 non-null  float64\n",
      " 48  secondary_cleaner.state.floatbank4_b_level  14148 non-null  float64\n",
      " 49  secondary_cleaner.state.floatbank5_a_air    14148 non-null  float64\n",
      " 50  secondary_cleaner.state.floatbank5_a_level  14148 non-null  float64\n",
      " 51  secondary_cleaner.state.floatbank5_b_air    14148 non-null  float64\n",
      " 52  secondary_cleaner.state.floatbank5_b_level  14148 non-null  float64\n",
      " 53  secondary_cleaner.state.floatbank6_a_air    14147 non-null  float64\n",
      " 54  secondary_cleaner.state.floatbank6_a_level  14148 non-null  float64\n",
      "dtypes: float64(54), object(1)\n",
      "memory usage: 5.9+ MB\n",
      "None\n",
      "\n",
      "\n",
      "------------- Пропуски ------------\n",
      "primary_cleaner.input.sulfate  -  20 пропусков,  0.14 % от числа строк.\n",
      "primary_cleaner.input.depressant  -  32 пропусков,  0.23 % от числа строк.\n",
      "primary_cleaner.input.xanthate  -  100 пропусков,  0.71 % от числа строк.\n",
      "primary_cleaner.state.floatbank8_a_air  -  4 пропусков,  0.03 % от числа строк.\n",
      "primary_cleaner.state.floatbank8_a_level  -  1 пропусков,  0.01 % от числа строк.\n",
      "primary_cleaner.state.floatbank8_b_air  -  4 пропусков,  0.03 % от числа строк.\n",
      "primary_cleaner.state.floatbank8_b_level  -  1 пропусков,  0.01 % от числа строк.\n",
      "primary_cleaner.state.floatbank8_c_air  -  2 пропусков,  0.01 % от числа строк.\n",
      "primary_cleaner.state.floatbank8_c_level  -  1 пропусков,  0.01 % от числа строк.\n",
      "primary_cleaner.state.floatbank8_d_air  -  3 пропусков,  0.02 % от числа строк.\n",
      "primary_cleaner.state.floatbank8_d_level  -  1 пропусков,  0.01 % от числа строк.\n",
      "rougher.input.feed_pb  -  100 пропусков,  0.71 % от числа строк.\n",
      "rougher.input.feed_rate  -  8 пропусков,  0.06 % от числа строк.\n",
      "rougher.input.feed_size  -  144 пропусков,  1.02 % от числа строк.\n",
      "rougher.input.feed_sol  -  78 пропусков,  0.55 % от числа строк.\n",
      "rougher.input.floatbank10_sulfate  -  29 пропусков,  0.2 % от числа строк.\n",
      "rougher.input.floatbank10_xanthate  -  8 пропусков,  0.06 % от числа строк.\n",
      "rougher.input.floatbank11_sulfate  -  36 пропусков,  0.25 % от числа строк.\n",
      "rougher.input.floatbank11_xanthate  -  428 пропусков,  3.02 % от числа строк.\n",
      "rougher.state.floatbank10_a_air  -  1 пропусков,  0.01 % от числа строк.\n",
      "rougher.state.floatbank10_a_level  -  1 пропусков,  0.01 % от числа строк.\n",
      "rougher.state.floatbank10_b_air  -  1 пропусков,  0.01 % от числа строк.\n",
      "rougher.state.floatbank10_b_level  -  1 пропусков,  0.01 % от числа строк.\n",
      "rougher.state.floatbank10_c_air  -  1 пропусков,  0.01 % от числа строк.\n",
      "rougher.state.floatbank10_c_level  -  1 пропусков,  0.01 % от числа строк.\n",
      "rougher.state.floatbank10_e_air  -  436 пропусков,  3.08 % от числа строк.\n",
      "secondary_cleaner.state.floatbank2_a_air  -  217 пропусков,  1.53 % от числа строк.\n",
      "secondary_cleaner.state.floatbank2_a_level  -  1 пропусков,  0.01 % от числа строк.\n",
      "secondary_cleaner.state.floatbank2_b_air  -  21 пропусков,  0.15 % от числа строк.\n",
      "secondary_cleaner.state.floatbank2_b_level  -  1 пропусков,  0.01 % от числа строк.\n",
      "secondary_cleaner.state.floatbank3_a_air  -  4 пропусков,  0.03 % от числа строк.\n",
      "secondary_cleaner.state.floatbank3_a_level  -  1 пропусков,  0.01 % от числа строк.\n",
      "secondary_cleaner.state.floatbank3_b_air  -  1 пропусков,  0.01 % от числа строк.\n",
      "secondary_cleaner.state.floatbank3_b_level  -  1 пропусков,  0.01 % от числа строк.\n",
      "secondary_cleaner.state.floatbank4_a_air  -  6 пропусков,  0.04 % от числа строк.\n",
      "secondary_cleaner.state.floatbank4_a_level  -  1 пропусков,  0.01 % от числа строк.\n",
      "secondary_cleaner.state.floatbank4_b_air  -  1 пропусков,  0.01 % от числа строк.\n",
      "secondary_cleaner.state.floatbank4_b_level  -  1 пропусков,  0.01 % от числа строк.\n",
      "secondary_cleaner.state.floatbank5_a_air  -  1 пропусков,  0.01 % от числа строк.\n",
      "secondary_cleaner.state.floatbank5_a_level  -  1 пропусков,  0.01 % от числа строк.\n",
      "secondary_cleaner.state.floatbank5_b_air  -  1 пропусков,  0.01 % от числа строк.\n",
      "secondary_cleaner.state.floatbank5_b_level  -  1 пропусков,  0.01 % от числа строк.\n",
      "secondary_cleaner.state.floatbank6_a_air  -  2 пропусков,  0.01 % от числа строк.\n",
      "secondary_cleaner.state.floatbank6_a_level  -  1 пропусков,  0.01 % от числа строк.\n",
      "------------- Дубликаты ------------\n",
      "Дубликатов НЕТ\n",
      "------------- Категориальные признаки ------------\n"
     ]
    }
   ],
   "source": [
    "first_look (df_train)"
   ]
  },
  {
   "cell_type": "markdown",
   "metadata": {},
   "source": [
    "<a id=step_5></a>\n",
    "<b>1.4. Проведем предобработку данных.</b>"
   ]
  },
  {
   "cell_type": "markdown",
   "metadata": {},
   "source": [
    "Отсортируем наши выборки по дате"
   ]
  },
  {
   "cell_type": "code",
   "execution_count": 13,
   "metadata": {},
   "outputs": [],
   "source": [
    "df_train = df_train.sort_values (by = 'date')\n",
    "df_test = df_test.sort_values (by = 'date')\n",
    "df_full = df_full.sort_values (by = 'date')"
   ]
  },
  {
   "cell_type": "markdown",
   "metadata": {},
   "source": [
    "Т.к. по описанию данных из проекта сказано, что \"Соседние по времени параметры часто похожи\", мы можем для заполнения пропусков брать соседние. Проделаем данную операцию с данными из файла с изначальными полными данными."
   ]
  },
  {
   "cell_type": "code",
   "execution_count": 14,
   "metadata": {},
   "outputs": [],
   "source": [
    "df_full = df_full.fillna (method = 'ffill')"
   ]
  },
  {
   "cell_type": "markdown",
   "metadata": {},
   "source": [
    "Заполним все пропуски в наших выборках соответствующими значениями из изначального файла сохраняя последовательность неизвестного нам семпла"
   ]
  },
  {
   "cell_type": "code",
   "execution_count": 15,
   "metadata": {},
   "outputs": [],
   "source": [
    "df_train = df_full [df_full.index.isin (df_train.index)][df_train.columns]\n",
    "df_test = df_full [df_full.index.isin (df_test.index)][df_test.columns]"
   ]
  },
  {
   "cell_type": "markdown",
   "metadata": {},
   "source": [
    "Проверим что получилось"
   ]
  },
  {
   "cell_type": "code",
   "execution_count": 16,
   "metadata": {},
   "outputs": [
    {
     "name": "stdout",
     "output_type": "stream",
     "text": [
      "------------- Первые 5 строк ------------\n"
     ]
    },
    {
     "data": {
      "text/html": [
       "<div>\n",
       "<style scoped>\n",
       "    .dataframe tbody tr th:only-of-type {\n",
       "        vertical-align: middle;\n",
       "    }\n",
       "\n",
       "    .dataframe tbody tr th {\n",
       "        vertical-align: top;\n",
       "    }\n",
       "\n",
       "    .dataframe thead th {\n",
       "        text-align: right;\n",
       "    }\n",
       "</style>\n",
       "<table border=\"1\" class=\"dataframe\">\n",
       "  <thead>\n",
       "    <tr style=\"text-align: right;\">\n",
       "      <th></th>\n",
       "      <th>date</th>\n",
       "      <th>final.output.recovery</th>\n",
       "      <th>primary_cleaner.input.sulfate</th>\n",
       "      <th>primary_cleaner.input.depressant</th>\n",
       "      <th>primary_cleaner.input.feed_size</th>\n",
       "      <th>primary_cleaner.input.xanthate</th>\n",
       "      <th>primary_cleaner.state.floatbank8_a_air</th>\n",
       "      <th>primary_cleaner.state.floatbank8_a_level</th>\n",
       "      <th>primary_cleaner.state.floatbank8_b_air</th>\n",
       "      <th>primary_cleaner.state.floatbank8_b_level</th>\n",
       "      <th>...</th>\n",
       "      <th>secondary_cleaner.state.floatbank4_a_air</th>\n",
       "      <th>secondary_cleaner.state.floatbank4_a_level</th>\n",
       "      <th>secondary_cleaner.state.floatbank4_b_air</th>\n",
       "      <th>secondary_cleaner.state.floatbank4_b_level</th>\n",
       "      <th>secondary_cleaner.state.floatbank5_a_air</th>\n",
       "      <th>secondary_cleaner.state.floatbank5_a_level</th>\n",
       "      <th>secondary_cleaner.state.floatbank5_b_air</th>\n",
       "      <th>secondary_cleaner.state.floatbank5_b_level</th>\n",
       "      <th>secondary_cleaner.state.floatbank6_a_air</th>\n",
       "      <th>secondary_cleaner.state.floatbank6_a_level</th>\n",
       "    </tr>\n",
       "  </thead>\n",
       "  <tbody>\n",
       "    <tr>\n",
       "      <th>0</th>\n",
       "      <td>2016-01-15 00:00:00</td>\n",
       "      <td>70.541216</td>\n",
       "      <td>127.092003</td>\n",
       "      <td>10.128295</td>\n",
       "      <td>7.25</td>\n",
       "      <td>0.988759</td>\n",
       "      <td>1549.775757</td>\n",
       "      <td>-498.912140</td>\n",
       "      <td>1551.434204</td>\n",
       "      <td>-516.403442</td>\n",
       "      <td>...</td>\n",
       "      <td>14.016835</td>\n",
       "      <td>-502.488007</td>\n",
       "      <td>12.099931</td>\n",
       "      <td>-504.715942</td>\n",
       "      <td>9.925633</td>\n",
       "      <td>-498.310211</td>\n",
       "      <td>8.079666</td>\n",
       "      <td>-500.470978</td>\n",
       "      <td>14.151341</td>\n",
       "      <td>-605.841980</td>\n",
       "    </tr>\n",
       "    <tr>\n",
       "      <th>1</th>\n",
       "      <td>2016-01-15 01:00:00</td>\n",
       "      <td>69.266198</td>\n",
       "      <td>125.629232</td>\n",
       "      <td>10.296251</td>\n",
       "      <td>7.25</td>\n",
       "      <td>1.002663</td>\n",
       "      <td>1576.166671</td>\n",
       "      <td>-500.904965</td>\n",
       "      <td>1575.950626</td>\n",
       "      <td>-499.865889</td>\n",
       "      <td>...</td>\n",
       "      <td>13.992281</td>\n",
       "      <td>-505.503262</td>\n",
       "      <td>11.950531</td>\n",
       "      <td>-501.331529</td>\n",
       "      <td>10.039245</td>\n",
       "      <td>-500.169983</td>\n",
       "      <td>7.984757</td>\n",
       "      <td>-500.582168</td>\n",
       "      <td>13.998353</td>\n",
       "      <td>-599.787184</td>\n",
       "    </tr>\n",
       "    <tr>\n",
       "      <th>2</th>\n",
       "      <td>2016-01-15 02:00:00</td>\n",
       "      <td>68.116445</td>\n",
       "      <td>123.819808</td>\n",
       "      <td>11.316280</td>\n",
       "      <td>7.25</td>\n",
       "      <td>0.991265</td>\n",
       "      <td>1601.556163</td>\n",
       "      <td>-499.997791</td>\n",
       "      <td>1600.386685</td>\n",
       "      <td>-500.607762</td>\n",
       "      <td>...</td>\n",
       "      <td>14.015015</td>\n",
       "      <td>-502.520901</td>\n",
       "      <td>11.912783</td>\n",
       "      <td>-501.133383</td>\n",
       "      <td>10.070913</td>\n",
       "      <td>-500.129135</td>\n",
       "      <td>8.013877</td>\n",
       "      <td>-500.517572</td>\n",
       "      <td>14.028663</td>\n",
       "      <td>-601.427363</td>\n",
       "    </tr>\n",
       "    <tr>\n",
       "      <th>3</th>\n",
       "      <td>2016-01-15 03:00:00</td>\n",
       "      <td>68.347543</td>\n",
       "      <td>122.270188</td>\n",
       "      <td>11.322140</td>\n",
       "      <td>7.25</td>\n",
       "      <td>0.996739</td>\n",
       "      <td>1599.968720</td>\n",
       "      <td>-500.951778</td>\n",
       "      <td>1600.659236</td>\n",
       "      <td>-499.677094</td>\n",
       "      <td>...</td>\n",
       "      <td>14.036510</td>\n",
       "      <td>-500.857308</td>\n",
       "      <td>11.999550</td>\n",
       "      <td>-501.193686</td>\n",
       "      <td>9.970366</td>\n",
       "      <td>-499.201640</td>\n",
       "      <td>7.977324</td>\n",
       "      <td>-500.255908</td>\n",
       "      <td>14.005551</td>\n",
       "      <td>-599.996129</td>\n",
       "    </tr>\n",
       "    <tr>\n",
       "      <th>4</th>\n",
       "      <td>2016-01-15 04:00:00</td>\n",
       "      <td>66.927016</td>\n",
       "      <td>117.988169</td>\n",
       "      <td>11.913613</td>\n",
       "      <td>7.25</td>\n",
       "      <td>1.009869</td>\n",
       "      <td>1601.339707</td>\n",
       "      <td>-498.975456</td>\n",
       "      <td>1601.437854</td>\n",
       "      <td>-500.323246</td>\n",
       "      <td>...</td>\n",
       "      <td>14.027298</td>\n",
       "      <td>-499.838632</td>\n",
       "      <td>11.953070</td>\n",
       "      <td>-501.053894</td>\n",
       "      <td>9.925709</td>\n",
       "      <td>-501.686727</td>\n",
       "      <td>7.894242</td>\n",
       "      <td>-500.356035</td>\n",
       "      <td>13.996647</td>\n",
       "      <td>-601.496691</td>\n",
       "    </tr>\n",
       "  </tbody>\n",
       "</table>\n",
       "<p>5 rows × 55 columns</p>\n",
       "</div>"
      ],
      "text/plain": [
       "                  date  final.output.recovery  primary_cleaner.input.sulfate  \\\n",
       "0  2016-01-15 00:00:00              70.541216                     127.092003   \n",
       "1  2016-01-15 01:00:00              69.266198                     125.629232   \n",
       "2  2016-01-15 02:00:00              68.116445                     123.819808   \n",
       "3  2016-01-15 03:00:00              68.347543                     122.270188   \n",
       "4  2016-01-15 04:00:00              66.927016                     117.988169   \n",
       "\n",
       "   primary_cleaner.input.depressant  primary_cleaner.input.feed_size  \\\n",
       "0                         10.128295                             7.25   \n",
       "1                         10.296251                             7.25   \n",
       "2                         11.316280                             7.25   \n",
       "3                         11.322140                             7.25   \n",
       "4                         11.913613                             7.25   \n",
       "\n",
       "   primary_cleaner.input.xanthate  primary_cleaner.state.floatbank8_a_air  \\\n",
       "0                        0.988759                             1549.775757   \n",
       "1                        1.002663                             1576.166671   \n",
       "2                        0.991265                             1601.556163   \n",
       "3                        0.996739                             1599.968720   \n",
       "4                        1.009869                             1601.339707   \n",
       "\n",
       "   primary_cleaner.state.floatbank8_a_level  \\\n",
       "0                               -498.912140   \n",
       "1                               -500.904965   \n",
       "2                               -499.997791   \n",
       "3                               -500.951778   \n",
       "4                               -498.975456   \n",
       "\n",
       "   primary_cleaner.state.floatbank8_b_air  \\\n",
       "0                             1551.434204   \n",
       "1                             1575.950626   \n",
       "2                             1600.386685   \n",
       "3                             1600.659236   \n",
       "4                             1601.437854   \n",
       "\n",
       "   primary_cleaner.state.floatbank8_b_level  ...  \\\n",
       "0                               -516.403442  ...   \n",
       "1                               -499.865889  ...   \n",
       "2                               -500.607762  ...   \n",
       "3                               -499.677094  ...   \n",
       "4                               -500.323246  ...   \n",
       "\n",
       "   secondary_cleaner.state.floatbank4_a_air  \\\n",
       "0                                 14.016835   \n",
       "1                                 13.992281   \n",
       "2                                 14.015015   \n",
       "3                                 14.036510   \n",
       "4                                 14.027298   \n",
       "\n",
       "   secondary_cleaner.state.floatbank4_a_level  \\\n",
       "0                                 -502.488007   \n",
       "1                                 -505.503262   \n",
       "2                                 -502.520901   \n",
       "3                                 -500.857308   \n",
       "4                                 -499.838632   \n",
       "\n",
       "   secondary_cleaner.state.floatbank4_b_air  \\\n",
       "0                                 12.099931   \n",
       "1                                 11.950531   \n",
       "2                                 11.912783   \n",
       "3                                 11.999550   \n",
       "4                                 11.953070   \n",
       "\n",
       "   secondary_cleaner.state.floatbank4_b_level  \\\n",
       "0                                 -504.715942   \n",
       "1                                 -501.331529   \n",
       "2                                 -501.133383   \n",
       "3                                 -501.193686   \n",
       "4                                 -501.053894   \n",
       "\n",
       "   secondary_cleaner.state.floatbank5_a_air  \\\n",
       "0                                  9.925633   \n",
       "1                                 10.039245   \n",
       "2                                 10.070913   \n",
       "3                                  9.970366   \n",
       "4                                  9.925709   \n",
       "\n",
       "   secondary_cleaner.state.floatbank5_a_level  \\\n",
       "0                                 -498.310211   \n",
       "1                                 -500.169983   \n",
       "2                                 -500.129135   \n",
       "3                                 -499.201640   \n",
       "4                                 -501.686727   \n",
       "\n",
       "   secondary_cleaner.state.floatbank5_b_air  \\\n",
       "0                                  8.079666   \n",
       "1                                  7.984757   \n",
       "2                                  8.013877   \n",
       "3                                  7.977324   \n",
       "4                                  7.894242   \n",
       "\n",
       "   secondary_cleaner.state.floatbank5_b_level  \\\n",
       "0                                 -500.470978   \n",
       "1                                 -500.582168   \n",
       "2                                 -500.517572   \n",
       "3                                 -500.255908   \n",
       "4                                 -500.356035   \n",
       "\n",
       "   secondary_cleaner.state.floatbank6_a_air  \\\n",
       "0                                 14.151341   \n",
       "1                                 13.998353   \n",
       "2                                 14.028663   \n",
       "3                                 14.005551   \n",
       "4                                 13.996647   \n",
       "\n",
       "   secondary_cleaner.state.floatbank6_a_level  \n",
       "0                                 -605.841980  \n",
       "1                                 -599.787184  \n",
       "2                                 -601.427363  \n",
       "3                                 -599.996129  \n",
       "4                                 -601.496691  \n",
       "\n",
       "[5 rows x 55 columns]"
      ]
     },
     "metadata": {},
     "output_type": "display_data"
    },
    {
     "name": "stdout",
     "output_type": "stream",
     "text": [
      "\n",
      "\n",
      "------------- Типы данных ------------\n",
      "<class 'pandas.core.frame.DataFrame'>\n",
      "Int64Index: 14149 entries, 0 to 14148\n",
      "Data columns (total 55 columns):\n",
      " #   Column                                      Non-Null Count  Dtype  \n",
      "---  ------                                      --------------  -----  \n",
      " 0   date                                        14149 non-null  object \n",
      " 1   final.output.recovery                       14149 non-null  float64\n",
      " 2   primary_cleaner.input.sulfate               14149 non-null  float64\n",
      " 3   primary_cleaner.input.depressant            14149 non-null  float64\n",
      " 4   primary_cleaner.input.feed_size             14149 non-null  float64\n",
      " 5   primary_cleaner.input.xanthate              14149 non-null  float64\n",
      " 6   primary_cleaner.state.floatbank8_a_air      14149 non-null  float64\n",
      " 7   primary_cleaner.state.floatbank8_a_level    14149 non-null  float64\n",
      " 8   primary_cleaner.state.floatbank8_b_air      14149 non-null  float64\n",
      " 9   primary_cleaner.state.floatbank8_b_level    14149 non-null  float64\n",
      " 10  primary_cleaner.state.floatbank8_c_air      14149 non-null  float64\n",
      " 11  primary_cleaner.state.floatbank8_c_level    14149 non-null  float64\n",
      " 12  primary_cleaner.state.floatbank8_d_air      14149 non-null  float64\n",
      " 13  primary_cleaner.state.floatbank8_d_level    14149 non-null  float64\n",
      " 14  rougher.input.feed_ag                       14149 non-null  float64\n",
      " 15  rougher.input.feed_pb                       14149 non-null  float64\n",
      " 16  rougher.input.feed_rate                     14149 non-null  float64\n",
      " 17  rougher.input.feed_size                     14149 non-null  float64\n",
      " 18  rougher.input.feed_sol                      14149 non-null  float64\n",
      " 19  rougher.input.feed_au                       14149 non-null  float64\n",
      " 20  rougher.input.floatbank10_sulfate           14149 non-null  float64\n",
      " 21  rougher.input.floatbank10_xanthate          14149 non-null  float64\n",
      " 22  rougher.input.floatbank11_sulfate           14149 non-null  float64\n",
      " 23  rougher.input.floatbank11_xanthate          14149 non-null  float64\n",
      " 24  rougher.output.recovery                     14149 non-null  float64\n",
      " 25  rougher.state.floatbank10_a_air             14149 non-null  float64\n",
      " 26  rougher.state.floatbank10_a_level           14149 non-null  float64\n",
      " 27  rougher.state.floatbank10_b_air             14149 non-null  float64\n",
      " 28  rougher.state.floatbank10_b_level           14149 non-null  float64\n",
      " 29  rougher.state.floatbank10_c_air             14149 non-null  float64\n",
      " 30  rougher.state.floatbank10_c_level           14149 non-null  float64\n",
      " 31  rougher.state.floatbank10_d_air             14149 non-null  float64\n",
      " 32  rougher.state.floatbank10_d_level           14149 non-null  float64\n",
      " 33  rougher.state.floatbank10_e_air             14149 non-null  float64\n",
      " 34  rougher.state.floatbank10_e_level           14149 non-null  float64\n",
      " 35  rougher.state.floatbank10_f_air             14149 non-null  float64\n",
      " 36  rougher.state.floatbank10_f_level           14149 non-null  float64\n",
      " 37  secondary_cleaner.state.floatbank2_a_air    14149 non-null  float64\n",
      " 38  secondary_cleaner.state.floatbank2_a_level  14149 non-null  float64\n",
      " 39  secondary_cleaner.state.floatbank2_b_air    14149 non-null  float64\n",
      " 40  secondary_cleaner.state.floatbank2_b_level  14149 non-null  float64\n",
      " 41  secondary_cleaner.state.floatbank3_a_air    14149 non-null  float64\n",
      " 42  secondary_cleaner.state.floatbank3_a_level  14149 non-null  float64\n",
      " 43  secondary_cleaner.state.floatbank3_b_air    14149 non-null  float64\n",
      " 44  secondary_cleaner.state.floatbank3_b_level  14149 non-null  float64\n",
      " 45  secondary_cleaner.state.floatbank4_a_air    14149 non-null  float64\n",
      " 46  secondary_cleaner.state.floatbank4_a_level  14149 non-null  float64\n",
      " 47  secondary_cleaner.state.floatbank4_b_air    14149 non-null  float64\n",
      " 48  secondary_cleaner.state.floatbank4_b_level  14149 non-null  float64\n",
      " 49  secondary_cleaner.state.floatbank5_a_air    14149 non-null  float64\n",
      " 50  secondary_cleaner.state.floatbank5_a_level  14149 non-null  float64\n",
      " 51  secondary_cleaner.state.floatbank5_b_air    14149 non-null  float64\n",
      " 52  secondary_cleaner.state.floatbank5_b_level  14149 non-null  float64\n",
      " 53  secondary_cleaner.state.floatbank6_a_air    14149 non-null  float64\n",
      " 54  secondary_cleaner.state.floatbank6_a_level  14149 non-null  float64\n",
      "dtypes: float64(54), object(1)\n",
      "memory usage: 6.0+ MB\n",
      "None\n",
      "\n",
      "\n",
      "------------- Пропуски ------------\n",
      "Пропусков НЕТ\n",
      "\n",
      "\n",
      "------------- Дубликаты ------------\n",
      "Дубликатов НЕТ\n",
      "------------- Категориальные признаки ------------\n",
      "------------- Первые 5 строк ------------\n"
     ]
    },
    {
     "data": {
      "text/html": [
       "<div>\n",
       "<style scoped>\n",
       "    .dataframe tbody tr th:only-of-type {\n",
       "        vertical-align: middle;\n",
       "    }\n",
       "\n",
       "    .dataframe tbody tr th {\n",
       "        vertical-align: top;\n",
       "    }\n",
       "\n",
       "    .dataframe thead th {\n",
       "        text-align: right;\n",
       "    }\n",
       "</style>\n",
       "<table border=\"1\" class=\"dataframe\">\n",
       "  <thead>\n",
       "    <tr style=\"text-align: right;\">\n",
       "      <th></th>\n",
       "      <th>date</th>\n",
       "      <th>primary_cleaner.input.sulfate</th>\n",
       "      <th>primary_cleaner.input.depressant</th>\n",
       "      <th>primary_cleaner.input.feed_size</th>\n",
       "      <th>primary_cleaner.input.xanthate</th>\n",
       "      <th>primary_cleaner.state.floatbank8_a_air</th>\n",
       "      <th>primary_cleaner.state.floatbank8_a_level</th>\n",
       "      <th>primary_cleaner.state.floatbank8_b_air</th>\n",
       "      <th>primary_cleaner.state.floatbank8_b_level</th>\n",
       "      <th>primary_cleaner.state.floatbank8_c_air</th>\n",
       "      <th>...</th>\n",
       "      <th>secondary_cleaner.state.floatbank4_a_air</th>\n",
       "      <th>secondary_cleaner.state.floatbank4_a_level</th>\n",
       "      <th>secondary_cleaner.state.floatbank4_b_air</th>\n",
       "      <th>secondary_cleaner.state.floatbank4_b_level</th>\n",
       "      <th>secondary_cleaner.state.floatbank5_a_air</th>\n",
       "      <th>secondary_cleaner.state.floatbank5_a_level</th>\n",
       "      <th>secondary_cleaner.state.floatbank5_b_air</th>\n",
       "      <th>secondary_cleaner.state.floatbank5_b_level</th>\n",
       "      <th>secondary_cleaner.state.floatbank6_a_air</th>\n",
       "      <th>secondary_cleaner.state.floatbank6_a_level</th>\n",
       "    </tr>\n",
       "  </thead>\n",
       "  <tbody>\n",
       "    <tr>\n",
       "      <th>0</th>\n",
       "      <td>2016-01-15 00:00:00</td>\n",
       "      <td>127.092003</td>\n",
       "      <td>10.128295</td>\n",
       "      <td>7.25</td>\n",
       "      <td>0.988759</td>\n",
       "      <td>1549.775757</td>\n",
       "      <td>-498.912140</td>\n",
       "      <td>1551.434204</td>\n",
       "      <td>-516.403442</td>\n",
       "      <td>1549.873901</td>\n",
       "      <td>...</td>\n",
       "      <td>14.016835</td>\n",
       "      <td>-502.488007</td>\n",
       "      <td>12.099931</td>\n",
       "      <td>-504.715942</td>\n",
       "      <td>9.925633</td>\n",
       "      <td>-498.310211</td>\n",
       "      <td>8.079666</td>\n",
       "      <td>-500.470978</td>\n",
       "      <td>14.151341</td>\n",
       "      <td>-605.841980</td>\n",
       "    </tr>\n",
       "    <tr>\n",
       "      <th>1</th>\n",
       "      <td>2016-01-15 01:00:00</td>\n",
       "      <td>125.629232</td>\n",
       "      <td>10.296251</td>\n",
       "      <td>7.25</td>\n",
       "      <td>1.002663</td>\n",
       "      <td>1576.166671</td>\n",
       "      <td>-500.904965</td>\n",
       "      <td>1575.950626</td>\n",
       "      <td>-499.865889</td>\n",
       "      <td>1575.994189</td>\n",
       "      <td>...</td>\n",
       "      <td>13.992281</td>\n",
       "      <td>-505.503262</td>\n",
       "      <td>11.950531</td>\n",
       "      <td>-501.331529</td>\n",
       "      <td>10.039245</td>\n",
       "      <td>-500.169983</td>\n",
       "      <td>7.984757</td>\n",
       "      <td>-500.582168</td>\n",
       "      <td>13.998353</td>\n",
       "      <td>-599.787184</td>\n",
       "    </tr>\n",
       "    <tr>\n",
       "      <th>2</th>\n",
       "      <td>2016-01-15 02:00:00</td>\n",
       "      <td>123.819808</td>\n",
       "      <td>11.316280</td>\n",
       "      <td>7.25</td>\n",
       "      <td>0.991265</td>\n",
       "      <td>1601.556163</td>\n",
       "      <td>-499.997791</td>\n",
       "      <td>1600.386685</td>\n",
       "      <td>-500.607762</td>\n",
       "      <td>1602.003542</td>\n",
       "      <td>...</td>\n",
       "      <td>14.015015</td>\n",
       "      <td>-502.520901</td>\n",
       "      <td>11.912783</td>\n",
       "      <td>-501.133383</td>\n",
       "      <td>10.070913</td>\n",
       "      <td>-500.129135</td>\n",
       "      <td>8.013877</td>\n",
       "      <td>-500.517572</td>\n",
       "      <td>14.028663</td>\n",
       "      <td>-601.427363</td>\n",
       "    </tr>\n",
       "    <tr>\n",
       "      <th>3</th>\n",
       "      <td>2016-01-15 03:00:00</td>\n",
       "      <td>122.270188</td>\n",
       "      <td>11.322140</td>\n",
       "      <td>7.25</td>\n",
       "      <td>0.996739</td>\n",
       "      <td>1599.968720</td>\n",
       "      <td>-500.951778</td>\n",
       "      <td>1600.659236</td>\n",
       "      <td>-499.677094</td>\n",
       "      <td>1600.304144</td>\n",
       "      <td>...</td>\n",
       "      <td>14.036510</td>\n",
       "      <td>-500.857308</td>\n",
       "      <td>11.999550</td>\n",
       "      <td>-501.193686</td>\n",
       "      <td>9.970366</td>\n",
       "      <td>-499.201640</td>\n",
       "      <td>7.977324</td>\n",
       "      <td>-500.255908</td>\n",
       "      <td>14.005551</td>\n",
       "      <td>-599.996129</td>\n",
       "    </tr>\n",
       "    <tr>\n",
       "      <th>4</th>\n",
       "      <td>2016-01-15 04:00:00</td>\n",
       "      <td>117.988169</td>\n",
       "      <td>11.913613</td>\n",
       "      <td>7.25</td>\n",
       "      <td>1.009869</td>\n",
       "      <td>1601.339707</td>\n",
       "      <td>-498.975456</td>\n",
       "      <td>1601.437854</td>\n",
       "      <td>-500.323246</td>\n",
       "      <td>1599.581894</td>\n",
       "      <td>...</td>\n",
       "      <td>14.027298</td>\n",
       "      <td>-499.838632</td>\n",
       "      <td>11.953070</td>\n",
       "      <td>-501.053894</td>\n",
       "      <td>9.925709</td>\n",
       "      <td>-501.686727</td>\n",
       "      <td>7.894242</td>\n",
       "      <td>-500.356035</td>\n",
       "      <td>13.996647</td>\n",
       "      <td>-601.496691</td>\n",
       "    </tr>\n",
       "  </tbody>\n",
       "</table>\n",
       "<p>5 rows × 53 columns</p>\n",
       "</div>"
      ],
      "text/plain": [
       "                  date  primary_cleaner.input.sulfate  \\\n",
       "0  2016-01-15 00:00:00                     127.092003   \n",
       "1  2016-01-15 01:00:00                     125.629232   \n",
       "2  2016-01-15 02:00:00                     123.819808   \n",
       "3  2016-01-15 03:00:00                     122.270188   \n",
       "4  2016-01-15 04:00:00                     117.988169   \n",
       "\n",
       "   primary_cleaner.input.depressant  primary_cleaner.input.feed_size  \\\n",
       "0                         10.128295                             7.25   \n",
       "1                         10.296251                             7.25   \n",
       "2                         11.316280                             7.25   \n",
       "3                         11.322140                             7.25   \n",
       "4                         11.913613                             7.25   \n",
       "\n",
       "   primary_cleaner.input.xanthate  primary_cleaner.state.floatbank8_a_air  \\\n",
       "0                        0.988759                             1549.775757   \n",
       "1                        1.002663                             1576.166671   \n",
       "2                        0.991265                             1601.556163   \n",
       "3                        0.996739                             1599.968720   \n",
       "4                        1.009869                             1601.339707   \n",
       "\n",
       "   primary_cleaner.state.floatbank8_a_level  \\\n",
       "0                               -498.912140   \n",
       "1                               -500.904965   \n",
       "2                               -499.997791   \n",
       "3                               -500.951778   \n",
       "4                               -498.975456   \n",
       "\n",
       "   primary_cleaner.state.floatbank8_b_air  \\\n",
       "0                             1551.434204   \n",
       "1                             1575.950626   \n",
       "2                             1600.386685   \n",
       "3                             1600.659236   \n",
       "4                             1601.437854   \n",
       "\n",
       "   primary_cleaner.state.floatbank8_b_level  \\\n",
       "0                               -516.403442   \n",
       "1                               -499.865889   \n",
       "2                               -500.607762   \n",
       "3                               -499.677094   \n",
       "4                               -500.323246   \n",
       "\n",
       "   primary_cleaner.state.floatbank8_c_air  ...  \\\n",
       "0                             1549.873901  ...   \n",
       "1                             1575.994189  ...   \n",
       "2                             1602.003542  ...   \n",
       "3                             1600.304144  ...   \n",
       "4                             1599.581894  ...   \n",
       "\n",
       "   secondary_cleaner.state.floatbank4_a_air  \\\n",
       "0                                 14.016835   \n",
       "1                                 13.992281   \n",
       "2                                 14.015015   \n",
       "3                                 14.036510   \n",
       "4                                 14.027298   \n",
       "\n",
       "   secondary_cleaner.state.floatbank4_a_level  \\\n",
       "0                                 -502.488007   \n",
       "1                                 -505.503262   \n",
       "2                                 -502.520901   \n",
       "3                                 -500.857308   \n",
       "4                                 -499.838632   \n",
       "\n",
       "   secondary_cleaner.state.floatbank4_b_air  \\\n",
       "0                                 12.099931   \n",
       "1                                 11.950531   \n",
       "2                                 11.912783   \n",
       "3                                 11.999550   \n",
       "4                                 11.953070   \n",
       "\n",
       "   secondary_cleaner.state.floatbank4_b_level  \\\n",
       "0                                 -504.715942   \n",
       "1                                 -501.331529   \n",
       "2                                 -501.133383   \n",
       "3                                 -501.193686   \n",
       "4                                 -501.053894   \n",
       "\n",
       "   secondary_cleaner.state.floatbank5_a_air  \\\n",
       "0                                  9.925633   \n",
       "1                                 10.039245   \n",
       "2                                 10.070913   \n",
       "3                                  9.970366   \n",
       "4                                  9.925709   \n",
       "\n",
       "   secondary_cleaner.state.floatbank5_a_level  \\\n",
       "0                                 -498.310211   \n",
       "1                                 -500.169983   \n",
       "2                                 -500.129135   \n",
       "3                                 -499.201640   \n",
       "4                                 -501.686727   \n",
       "\n",
       "   secondary_cleaner.state.floatbank5_b_air  \\\n",
       "0                                  8.079666   \n",
       "1                                  7.984757   \n",
       "2                                  8.013877   \n",
       "3                                  7.977324   \n",
       "4                                  7.894242   \n",
       "\n",
       "   secondary_cleaner.state.floatbank5_b_level  \\\n",
       "0                                 -500.470978   \n",
       "1                                 -500.582168   \n",
       "2                                 -500.517572   \n",
       "3                                 -500.255908   \n",
       "4                                 -500.356035   \n",
       "\n",
       "   secondary_cleaner.state.floatbank6_a_air  \\\n",
       "0                                 14.151341   \n",
       "1                                 13.998353   \n",
       "2                                 14.028663   \n",
       "3                                 14.005551   \n",
       "4                                 13.996647   \n",
       "\n",
       "   secondary_cleaner.state.floatbank6_a_level  \n",
       "0                                 -605.841980  \n",
       "1                                 -599.787184  \n",
       "2                                 -601.427363  \n",
       "3                                 -599.996129  \n",
       "4                                 -601.496691  \n",
       "\n",
       "[5 rows x 53 columns]"
      ]
     },
     "metadata": {},
     "output_type": "display_data"
    },
    {
     "name": "stdout",
     "output_type": "stream",
     "text": [
      "\n",
      "\n",
      "------------- Типы данных ------------\n",
      "<class 'pandas.core.frame.DataFrame'>\n",
      "Int64Index: 5290 entries, 0 to 5289\n",
      "Data columns (total 53 columns):\n",
      " #   Column                                      Non-Null Count  Dtype  \n",
      "---  ------                                      --------------  -----  \n",
      " 0   date                                        5290 non-null   object \n",
      " 1   primary_cleaner.input.sulfate               5290 non-null   float64\n",
      " 2   primary_cleaner.input.depressant            5290 non-null   float64\n",
      " 3   primary_cleaner.input.feed_size             5290 non-null   float64\n",
      " 4   primary_cleaner.input.xanthate              5290 non-null   float64\n",
      " 5   primary_cleaner.state.floatbank8_a_air      5290 non-null   float64\n",
      " 6   primary_cleaner.state.floatbank8_a_level    5290 non-null   float64\n",
      " 7   primary_cleaner.state.floatbank8_b_air      5290 non-null   float64\n",
      " 8   primary_cleaner.state.floatbank8_b_level    5290 non-null   float64\n",
      " 9   primary_cleaner.state.floatbank8_c_air      5290 non-null   float64\n",
      " 10  primary_cleaner.state.floatbank8_c_level    5290 non-null   float64\n",
      " 11  primary_cleaner.state.floatbank8_d_air      5290 non-null   float64\n",
      " 12  primary_cleaner.state.floatbank8_d_level    5290 non-null   float64\n",
      " 13  rougher.input.feed_ag                       5290 non-null   float64\n",
      " 14  rougher.input.feed_pb                       5290 non-null   float64\n",
      " 15  rougher.input.feed_rate                     5290 non-null   float64\n",
      " 16  rougher.input.feed_size                     5290 non-null   float64\n",
      " 17  rougher.input.feed_sol                      5290 non-null   float64\n",
      " 18  rougher.input.feed_au                       5290 non-null   float64\n",
      " 19  rougher.input.floatbank10_sulfate           5290 non-null   float64\n",
      " 20  rougher.input.floatbank10_xanthate          5290 non-null   float64\n",
      " 21  rougher.input.floatbank11_sulfate           5290 non-null   float64\n",
      " 22  rougher.input.floatbank11_xanthate          5290 non-null   float64\n",
      " 23  rougher.state.floatbank10_a_air             5290 non-null   float64\n",
      " 24  rougher.state.floatbank10_a_level           5290 non-null   float64\n",
      " 25  rougher.state.floatbank10_b_air             5290 non-null   float64\n",
      " 26  rougher.state.floatbank10_b_level           5290 non-null   float64\n",
      " 27  rougher.state.floatbank10_c_air             5290 non-null   float64\n",
      " 28  rougher.state.floatbank10_c_level           5290 non-null   float64\n",
      " 29  rougher.state.floatbank10_d_air             5290 non-null   float64\n",
      " 30  rougher.state.floatbank10_d_level           5290 non-null   float64\n",
      " 31  rougher.state.floatbank10_e_air             5290 non-null   float64\n",
      " 32  rougher.state.floatbank10_e_level           5290 non-null   float64\n",
      " 33  rougher.state.floatbank10_f_air             5290 non-null   float64\n",
      " 34  rougher.state.floatbank10_f_level           5290 non-null   float64\n",
      " 35  secondary_cleaner.state.floatbank2_a_air    5290 non-null   float64\n",
      " 36  secondary_cleaner.state.floatbank2_a_level  5290 non-null   float64\n",
      " 37  secondary_cleaner.state.floatbank2_b_air    5290 non-null   float64\n",
      " 38  secondary_cleaner.state.floatbank2_b_level  5290 non-null   float64\n",
      " 39  secondary_cleaner.state.floatbank3_a_air    5290 non-null   float64\n",
      " 40  secondary_cleaner.state.floatbank3_a_level  5290 non-null   float64\n",
      " 41  secondary_cleaner.state.floatbank3_b_air    5290 non-null   float64\n",
      " 42  secondary_cleaner.state.floatbank3_b_level  5290 non-null   float64\n",
      " 43  secondary_cleaner.state.floatbank4_a_air    5290 non-null   float64\n",
      " 44  secondary_cleaner.state.floatbank4_a_level  5290 non-null   float64\n",
      " 45  secondary_cleaner.state.floatbank4_b_air    5290 non-null   float64\n",
      " 46  secondary_cleaner.state.floatbank4_b_level  5290 non-null   float64\n",
      " 47  secondary_cleaner.state.floatbank5_a_air    5290 non-null   float64\n",
      " 48  secondary_cleaner.state.floatbank5_a_level  5290 non-null   float64\n",
      " 49  secondary_cleaner.state.floatbank5_b_air    5290 non-null   float64\n",
      " 50  secondary_cleaner.state.floatbank5_b_level  5290 non-null   float64\n",
      " 51  secondary_cleaner.state.floatbank6_a_air    5290 non-null   float64\n",
      " 52  secondary_cleaner.state.floatbank6_a_level  5290 non-null   float64\n",
      "dtypes: float64(52), object(1)\n",
      "memory usage: 2.2+ MB\n",
      "None\n",
      "\n",
      "\n",
      "------------- Пропуски ------------\n",
      "Пропусков НЕТ\n",
      "\n",
      "\n",
      "------------- Дубликаты ------------\n",
      "Дубликатов НЕТ\n",
      "------------- Категориальные признаки ------------\n"
     ]
    }
   ],
   "source": [
    "first_look (df_train)\n",
    "first_look (df_test)"
   ]
  },
  {
   "cell_type": "markdown",
   "metadata": {},
   "source": [
    "Избавимся от нулевых значений в данных, указывающих на наличия концентрации металла после этапа флотации, в промежуточных этапах и в конечном продукте"
   ]
  },
  {
   "cell_type": "code",
   "execution_count": 17,
   "metadata": {},
   "outputs": [],
   "source": [
    "df_full = df_full [(df_full ['final.output.concentrate_ag'] != 0) & \\\n",
    "                   (df_full ['final.output.concentrate_pb'] != 0) & \\\n",
    "                   (df_full ['final.output.concentrate_sol'] != 0) & \\\n",
    "                   (df_full ['final.output.concentrate_au'] != 0) & \\\n",
    "                   (df_full ['secondary_cleaner.output.tail_ag'] != 0) & \\\n",
    "                   (df_full ['secondary_cleaner.output.tail_pb'] != 0) & \\\n",
    "                   (df_full ['secondary_cleaner.output.tail_sol'] != 0) & \\\n",
    "                   (df_full ['secondary_cleaner.output.tail_au'] != 0) & \\\n",
    "                   (df_full ['primary_cleaner.output.concentrate_ag'] != 0) & \\\n",
    "                   (df_full ['primary_cleaner.output.concentrate_pb'] != 0) & \\\n",
    "                   (df_full ['primary_cleaner.output.concentrate_sol'] != 0) & \\\n",
    "                   (df_full ['primary_cleaner.output.concentrate_au'] != 0) & \\\n",
    "                   (df_full ['rougher.output.concentrate_ag'] != 0) & \\\n",
    "                   (df_full ['rougher.output.concentrate_pb'] != 0) & \\\n",
    "                   (df_full ['rougher.output.concentrate_sol'] != 0) & \\\n",
    "                   (df_full ['rougher.output.concentrate_au'] != 0) & \\\n",
    "                   (df_full ['rougher.input.feed_ag'] != 0) & \\\n",
    "                   (df_full ['rougher.input.feed_pb'] != 0) & \\\n",
    "                   (df_full ['rougher.input.feed_sol'] != 0) & \\\n",
    "                   (df_full ['rougher.input.feed_au'] != 0)\n",
    "                  ]"
   ]
  },
  {
   "cell_type": "code",
   "execution_count": 18,
   "metadata": {},
   "outputs": [
    {
     "name": "stdout",
     "output_type": "stream",
     "text": [
      "------------- Первые 5 строк ------------\n"
     ]
    },
    {
     "data": {
      "text/html": [
       "<div>\n",
       "<style scoped>\n",
       "    .dataframe tbody tr th:only-of-type {\n",
       "        vertical-align: middle;\n",
       "    }\n",
       "\n",
       "    .dataframe tbody tr th {\n",
       "        vertical-align: top;\n",
       "    }\n",
       "\n",
       "    .dataframe thead th {\n",
       "        text-align: right;\n",
       "    }\n",
       "</style>\n",
       "<table border=\"1\" class=\"dataframe\">\n",
       "  <thead>\n",
       "    <tr style=\"text-align: right;\">\n",
       "      <th></th>\n",
       "      <th>date</th>\n",
       "      <th>final.output.concentrate_ag</th>\n",
       "      <th>final.output.concentrate_pb</th>\n",
       "      <th>final.output.concentrate_sol</th>\n",
       "      <th>final.output.concentrate_au</th>\n",
       "      <th>final.output.recovery</th>\n",
       "      <th>final.output.tail_ag</th>\n",
       "      <th>final.output.tail_pb</th>\n",
       "      <th>final.output.tail_sol</th>\n",
       "      <th>final.output.tail_au</th>\n",
       "      <th>...</th>\n",
       "      <th>secondary_cleaner.state.floatbank4_a_air</th>\n",
       "      <th>secondary_cleaner.state.floatbank4_a_level</th>\n",
       "      <th>secondary_cleaner.state.floatbank4_b_air</th>\n",
       "      <th>secondary_cleaner.state.floatbank4_b_level</th>\n",
       "      <th>secondary_cleaner.state.floatbank5_a_air</th>\n",
       "      <th>secondary_cleaner.state.floatbank5_a_level</th>\n",
       "      <th>secondary_cleaner.state.floatbank5_b_air</th>\n",
       "      <th>secondary_cleaner.state.floatbank5_b_level</th>\n",
       "      <th>secondary_cleaner.state.floatbank6_a_air</th>\n",
       "      <th>secondary_cleaner.state.floatbank6_a_level</th>\n",
       "    </tr>\n",
       "  </thead>\n",
       "  <tbody>\n",
       "    <tr>\n",
       "      <th>0</th>\n",
       "      <td>2016-01-15 00:00:00</td>\n",
       "      <td>6.055403</td>\n",
       "      <td>9.889648</td>\n",
       "      <td>5.507324</td>\n",
       "      <td>42.192020</td>\n",
       "      <td>70.541216</td>\n",
       "      <td>10.411962</td>\n",
       "      <td>0.895447</td>\n",
       "      <td>16.904297</td>\n",
       "      <td>2.143149</td>\n",
       "      <td>...</td>\n",
       "      <td>14.016835</td>\n",
       "      <td>-502.488007</td>\n",
       "      <td>12.099931</td>\n",
       "      <td>-504.715942</td>\n",
       "      <td>9.925633</td>\n",
       "      <td>-498.310211</td>\n",
       "      <td>8.079666</td>\n",
       "      <td>-500.470978</td>\n",
       "      <td>14.151341</td>\n",
       "      <td>-605.841980</td>\n",
       "    </tr>\n",
       "    <tr>\n",
       "      <th>1</th>\n",
       "      <td>2016-01-15 01:00:00</td>\n",
       "      <td>6.029369</td>\n",
       "      <td>9.968944</td>\n",
       "      <td>5.257781</td>\n",
       "      <td>42.701629</td>\n",
       "      <td>69.266198</td>\n",
       "      <td>10.462676</td>\n",
       "      <td>0.927452</td>\n",
       "      <td>16.634514</td>\n",
       "      <td>2.224930</td>\n",
       "      <td>...</td>\n",
       "      <td>13.992281</td>\n",
       "      <td>-505.503262</td>\n",
       "      <td>11.950531</td>\n",
       "      <td>-501.331529</td>\n",
       "      <td>10.039245</td>\n",
       "      <td>-500.169983</td>\n",
       "      <td>7.984757</td>\n",
       "      <td>-500.582168</td>\n",
       "      <td>13.998353</td>\n",
       "      <td>-599.787184</td>\n",
       "    </tr>\n",
       "    <tr>\n",
       "      <th>2</th>\n",
       "      <td>2016-01-15 02:00:00</td>\n",
       "      <td>6.055926</td>\n",
       "      <td>10.213995</td>\n",
       "      <td>5.383759</td>\n",
       "      <td>42.657501</td>\n",
       "      <td>68.116445</td>\n",
       "      <td>10.507046</td>\n",
       "      <td>0.953716</td>\n",
       "      <td>16.208849</td>\n",
       "      <td>2.257889</td>\n",
       "      <td>...</td>\n",
       "      <td>14.015015</td>\n",
       "      <td>-502.520901</td>\n",
       "      <td>11.912783</td>\n",
       "      <td>-501.133383</td>\n",
       "      <td>10.070913</td>\n",
       "      <td>-500.129135</td>\n",
       "      <td>8.013877</td>\n",
       "      <td>-500.517572</td>\n",
       "      <td>14.028663</td>\n",
       "      <td>-601.427363</td>\n",
       "    </tr>\n",
       "    <tr>\n",
       "      <th>3</th>\n",
       "      <td>2016-01-15 03:00:00</td>\n",
       "      <td>6.047977</td>\n",
       "      <td>9.977019</td>\n",
       "      <td>4.858634</td>\n",
       "      <td>42.689819</td>\n",
       "      <td>68.347543</td>\n",
       "      <td>10.422762</td>\n",
       "      <td>0.883763</td>\n",
       "      <td>16.532835</td>\n",
       "      <td>2.146849</td>\n",
       "      <td>...</td>\n",
       "      <td>14.036510</td>\n",
       "      <td>-500.857308</td>\n",
       "      <td>11.999550</td>\n",
       "      <td>-501.193686</td>\n",
       "      <td>9.970366</td>\n",
       "      <td>-499.201640</td>\n",
       "      <td>7.977324</td>\n",
       "      <td>-500.255908</td>\n",
       "      <td>14.005551</td>\n",
       "      <td>-599.996129</td>\n",
       "    </tr>\n",
       "    <tr>\n",
       "      <th>4</th>\n",
       "      <td>2016-01-15 04:00:00</td>\n",
       "      <td>6.148599</td>\n",
       "      <td>10.142511</td>\n",
       "      <td>4.939416</td>\n",
       "      <td>42.774141</td>\n",
       "      <td>66.927016</td>\n",
       "      <td>10.360302</td>\n",
       "      <td>0.792826</td>\n",
       "      <td>16.525686</td>\n",
       "      <td>2.055292</td>\n",
       "      <td>...</td>\n",
       "      <td>14.027298</td>\n",
       "      <td>-499.838632</td>\n",
       "      <td>11.953070</td>\n",
       "      <td>-501.053894</td>\n",
       "      <td>9.925709</td>\n",
       "      <td>-501.686727</td>\n",
       "      <td>7.894242</td>\n",
       "      <td>-500.356035</td>\n",
       "      <td>13.996647</td>\n",
       "      <td>-601.496691</td>\n",
       "    </tr>\n",
       "  </tbody>\n",
       "</table>\n",
       "<p>5 rows × 87 columns</p>\n",
       "</div>"
      ],
      "text/plain": [
       "                  date  final.output.concentrate_ag  \\\n",
       "0  2016-01-15 00:00:00                     6.055403   \n",
       "1  2016-01-15 01:00:00                     6.029369   \n",
       "2  2016-01-15 02:00:00                     6.055926   \n",
       "3  2016-01-15 03:00:00                     6.047977   \n",
       "4  2016-01-15 04:00:00                     6.148599   \n",
       "\n",
       "   final.output.concentrate_pb  final.output.concentrate_sol  \\\n",
       "0                     9.889648                      5.507324   \n",
       "1                     9.968944                      5.257781   \n",
       "2                    10.213995                      5.383759   \n",
       "3                     9.977019                      4.858634   \n",
       "4                    10.142511                      4.939416   \n",
       "\n",
       "   final.output.concentrate_au  final.output.recovery  final.output.tail_ag  \\\n",
       "0                    42.192020              70.541216             10.411962   \n",
       "1                    42.701629              69.266198             10.462676   \n",
       "2                    42.657501              68.116445             10.507046   \n",
       "3                    42.689819              68.347543             10.422762   \n",
       "4                    42.774141              66.927016             10.360302   \n",
       "\n",
       "   final.output.tail_pb  final.output.tail_sol  final.output.tail_au  ...  \\\n",
       "0              0.895447              16.904297              2.143149  ...   \n",
       "1              0.927452              16.634514              2.224930  ...   \n",
       "2              0.953716              16.208849              2.257889  ...   \n",
       "3              0.883763              16.532835              2.146849  ...   \n",
       "4              0.792826              16.525686              2.055292  ...   \n",
       "\n",
       "   secondary_cleaner.state.floatbank4_a_air  \\\n",
       "0                                 14.016835   \n",
       "1                                 13.992281   \n",
       "2                                 14.015015   \n",
       "3                                 14.036510   \n",
       "4                                 14.027298   \n",
       "\n",
       "   secondary_cleaner.state.floatbank4_a_level  \\\n",
       "0                                 -502.488007   \n",
       "1                                 -505.503262   \n",
       "2                                 -502.520901   \n",
       "3                                 -500.857308   \n",
       "4                                 -499.838632   \n",
       "\n",
       "   secondary_cleaner.state.floatbank4_b_air  \\\n",
       "0                                 12.099931   \n",
       "1                                 11.950531   \n",
       "2                                 11.912783   \n",
       "3                                 11.999550   \n",
       "4                                 11.953070   \n",
       "\n",
       "   secondary_cleaner.state.floatbank4_b_level  \\\n",
       "0                                 -504.715942   \n",
       "1                                 -501.331529   \n",
       "2                                 -501.133383   \n",
       "3                                 -501.193686   \n",
       "4                                 -501.053894   \n",
       "\n",
       "   secondary_cleaner.state.floatbank5_a_air  \\\n",
       "0                                  9.925633   \n",
       "1                                 10.039245   \n",
       "2                                 10.070913   \n",
       "3                                  9.970366   \n",
       "4                                  9.925709   \n",
       "\n",
       "   secondary_cleaner.state.floatbank5_a_level  \\\n",
       "0                                 -498.310211   \n",
       "1                                 -500.169983   \n",
       "2                                 -500.129135   \n",
       "3                                 -499.201640   \n",
       "4                                 -501.686727   \n",
       "\n",
       "   secondary_cleaner.state.floatbank5_b_air  \\\n",
       "0                                  8.079666   \n",
       "1                                  7.984757   \n",
       "2                                  8.013877   \n",
       "3                                  7.977324   \n",
       "4                                  7.894242   \n",
       "\n",
       "   secondary_cleaner.state.floatbank5_b_level  \\\n",
       "0                                 -500.470978   \n",
       "1                                 -500.582168   \n",
       "2                                 -500.517572   \n",
       "3                                 -500.255908   \n",
       "4                                 -500.356035   \n",
       "\n",
       "   secondary_cleaner.state.floatbank6_a_air  \\\n",
       "0                                 14.151341   \n",
       "1                                 13.998353   \n",
       "2                                 14.028663   \n",
       "3                                 14.005551   \n",
       "4                                 13.996647   \n",
       "\n",
       "   secondary_cleaner.state.floatbank6_a_level  \n",
       "0                                 -605.841980  \n",
       "1                                 -599.787184  \n",
       "2                                 -601.427363  \n",
       "3                                 -599.996129  \n",
       "4                                 -601.496691  \n",
       "\n",
       "[5 rows x 87 columns]"
      ]
     },
     "metadata": {},
     "output_type": "display_data"
    },
    {
     "name": "stdout",
     "output_type": "stream",
     "text": [
      "\n",
      "\n",
      "------------- Типы данных ------------\n",
      "<class 'pandas.core.frame.DataFrame'>\n",
      "Int64Index: 17960 entries, 0 to 19429\n",
      "Data columns (total 87 columns):\n",
      " #   Column                                              Non-Null Count  Dtype  \n",
      "---  ------                                              --------------  -----  \n",
      " 0   date                                                17960 non-null  object \n",
      " 1   final.output.concentrate_ag                         17960 non-null  float64\n",
      " 2   final.output.concentrate_pb                         17960 non-null  float64\n",
      " 3   final.output.concentrate_sol                        17960 non-null  float64\n",
      " 4   final.output.concentrate_au                         17960 non-null  float64\n",
      " 5   final.output.recovery                               17960 non-null  float64\n",
      " 6   final.output.tail_ag                                17960 non-null  float64\n",
      " 7   final.output.tail_pb                                17960 non-null  float64\n",
      " 8   final.output.tail_sol                               17960 non-null  float64\n",
      " 9   final.output.tail_au                                17960 non-null  float64\n",
      " 10  primary_cleaner.input.sulfate                       17960 non-null  float64\n",
      " 11  primary_cleaner.input.depressant                    17960 non-null  float64\n",
      " 12  primary_cleaner.input.feed_size                     17960 non-null  float64\n",
      " 13  primary_cleaner.input.xanthate                      17960 non-null  float64\n",
      " 14  primary_cleaner.output.concentrate_ag               17960 non-null  float64\n",
      " 15  primary_cleaner.output.concentrate_pb               17960 non-null  float64\n",
      " 16  primary_cleaner.output.concentrate_sol              17960 non-null  float64\n",
      " 17  primary_cleaner.output.concentrate_au               17960 non-null  float64\n",
      " 18  primary_cleaner.output.tail_ag                      17960 non-null  float64\n",
      " 19  primary_cleaner.output.tail_pb                      17960 non-null  float64\n",
      " 20  primary_cleaner.output.tail_sol                     17960 non-null  float64\n",
      " 21  primary_cleaner.output.tail_au                      17960 non-null  float64\n",
      " 22  primary_cleaner.state.floatbank8_a_air              17960 non-null  float64\n",
      " 23  primary_cleaner.state.floatbank8_a_level            17960 non-null  float64\n",
      " 24  primary_cleaner.state.floatbank8_b_air              17960 non-null  float64\n",
      " 25  primary_cleaner.state.floatbank8_b_level            17960 non-null  float64\n",
      " 26  primary_cleaner.state.floatbank8_c_air              17960 non-null  float64\n",
      " 27  primary_cleaner.state.floatbank8_c_level            17960 non-null  float64\n",
      " 28  primary_cleaner.state.floatbank8_d_air              17960 non-null  float64\n",
      " 29  primary_cleaner.state.floatbank8_d_level            17960 non-null  float64\n",
      " 30  rougher.calculation.sulfate_to_au_concentrate       17960 non-null  float64\n",
      " 31  rougher.calculation.floatbank10_sulfate_to_au_feed  17960 non-null  float64\n",
      " 32  rougher.calculation.floatbank11_sulfate_to_au_feed  17960 non-null  float64\n",
      " 33  rougher.calculation.au_pb_ratio                     17960 non-null  float64\n",
      " 34  rougher.input.feed_ag                               17960 non-null  float64\n",
      " 35  rougher.input.feed_pb                               17960 non-null  float64\n",
      " 36  rougher.input.feed_rate                             17960 non-null  float64\n",
      " 37  rougher.input.feed_size                             17960 non-null  float64\n",
      " 38  rougher.input.feed_sol                              17960 non-null  float64\n",
      " 39  rougher.input.feed_au                               17960 non-null  float64\n",
      " 40  rougher.input.floatbank10_sulfate                   17960 non-null  float64\n",
      " 41  rougher.input.floatbank10_xanthate                  17960 non-null  float64\n",
      " 42  rougher.input.floatbank11_sulfate                   17960 non-null  float64\n",
      " 43  rougher.input.floatbank11_xanthate                  17960 non-null  float64\n",
      " 44  rougher.output.concentrate_ag                       17960 non-null  float64\n",
      " 45  rougher.output.concentrate_pb                       17960 non-null  float64\n",
      " 46  rougher.output.concentrate_sol                      17960 non-null  float64\n",
      " 47  rougher.output.concentrate_au                       17960 non-null  float64\n",
      " 48  rougher.output.recovery                             17960 non-null  float64\n",
      " 49  rougher.output.tail_ag                              17960 non-null  float64\n",
      " 50  rougher.output.tail_pb                              17960 non-null  float64\n",
      " 51  rougher.output.tail_sol                             17960 non-null  float64\n",
      " 52  rougher.output.tail_au                              17960 non-null  float64\n",
      " 53  rougher.state.floatbank10_a_air                     17960 non-null  float64\n",
      " 54  rougher.state.floatbank10_a_level                   17960 non-null  float64\n",
      " 55  rougher.state.floatbank10_b_air                     17960 non-null  float64\n",
      " 56  rougher.state.floatbank10_b_level                   17960 non-null  float64\n",
      " 57  rougher.state.floatbank10_c_air                     17960 non-null  float64\n",
      " 58  rougher.state.floatbank10_c_level                   17960 non-null  float64\n",
      " 59  rougher.state.floatbank10_d_air                     17960 non-null  float64\n",
      " 60  rougher.state.floatbank10_d_level                   17960 non-null  float64\n",
      " 61  rougher.state.floatbank10_e_air                     17960 non-null  float64\n",
      " 62  rougher.state.floatbank10_e_level                   17960 non-null  float64\n",
      " 63  rougher.state.floatbank10_f_air                     17960 non-null  float64\n",
      " 64  rougher.state.floatbank10_f_level                   17960 non-null  float64\n",
      " 65  secondary_cleaner.output.tail_ag                    17960 non-null  float64\n",
      " 66  secondary_cleaner.output.tail_pb                    17960 non-null  float64\n",
      " 67  secondary_cleaner.output.tail_sol                   17960 non-null  float64\n",
      " 68  secondary_cleaner.output.tail_au                    17960 non-null  float64\n",
      " 69  secondary_cleaner.state.floatbank2_a_air            17960 non-null  float64\n",
      " 70  secondary_cleaner.state.floatbank2_a_level          17960 non-null  float64\n",
      " 71  secondary_cleaner.state.floatbank2_b_air            17960 non-null  float64\n",
      " 72  secondary_cleaner.state.floatbank2_b_level          17960 non-null  float64\n",
      " 73  secondary_cleaner.state.floatbank3_a_air            17960 non-null  float64\n",
      " 74  secondary_cleaner.state.floatbank3_a_level          17960 non-null  float64\n",
      " 75  secondary_cleaner.state.floatbank3_b_air            17960 non-null  float64\n",
      " 76  secondary_cleaner.state.floatbank3_b_level          17960 non-null  float64\n",
      " 77  secondary_cleaner.state.floatbank4_a_air            17960 non-null  float64\n",
      " 78  secondary_cleaner.state.floatbank4_a_level          17960 non-null  float64\n",
      " 79  secondary_cleaner.state.floatbank4_b_air            17960 non-null  float64\n",
      " 80  secondary_cleaner.state.floatbank4_b_level          17960 non-null  float64\n",
      " 81  secondary_cleaner.state.floatbank5_a_air            17960 non-null  float64\n",
      " 82  secondary_cleaner.state.floatbank5_a_level          17960 non-null  float64\n",
      " 83  secondary_cleaner.state.floatbank5_b_air            17960 non-null  float64\n",
      " 84  secondary_cleaner.state.floatbank5_b_level          17960 non-null  float64\n",
      " 85  secondary_cleaner.state.floatbank6_a_air            17960 non-null  float64\n",
      " 86  secondary_cleaner.state.floatbank6_a_level          17960 non-null  float64\n",
      "dtypes: float64(86), object(1)\n",
      "memory usage: 12.1+ MB\n",
      "None\n",
      "\n",
      "\n",
      "------------- Пропуски ------------\n",
      "Пропусков НЕТ\n",
      "\n",
      "\n",
      "------------- Дубликаты ------------\n",
      "Дубликатов НЕТ\n",
      "------------- Категориальные признаки ------------\n"
     ]
    }
   ],
   "source": [
    "first_look (df_full)"
   ]
  },
  {
   "cell_type": "markdown",
   "metadata": {},
   "source": [
    "Проверим наши данные на мультиколлениарность. Отбросим данные, коррелиция которых меньше 0,8 и 1. Они меньше всего будут влиять на последующее обучение моделей."
   ]
  },
  {
   "cell_type": "code",
   "execution_count": 19,
   "metadata": {},
   "outputs": [
    {
     "data": {
      "text/plain": [
       "primary_cleaner.state.floatbank8_a_air      primary_cleaner.state.floatbank8_b_air        0.953676\n",
       "                                            primary_cleaner.state.floatbank8_c_air        0.914825\n",
       "primary_cleaner.state.floatbank8_a_level    primary_cleaner.state.floatbank8_b_level      0.884770\n",
       "                                            primary_cleaner.state.floatbank8_c_level      0.943224\n",
       "primary_cleaner.state.floatbank8_b_air      primary_cleaner.state.floatbank8_c_air        0.922673\n",
       "primary_cleaner.state.floatbank8_b_level    primary_cleaner.state.floatbank8_c_level      0.870117\n",
       "rougher.input.feed_ag                       rougher.input.feed_au                         0.844482\n",
       "rougher.input.floatbank10_sulfate           rougher.input.floatbank11_sulfate             0.907435\n",
       "rougher.input.floatbank10_xanthate          rougher.input.floatbank11_xanthate            0.901534\n",
       "rougher.state.floatbank10_b_air             rougher.state.floatbank10_c_air               0.934855\n",
       "                                            rougher.state.floatbank10_d_air               0.924748\n",
       "                                            rougher.state.floatbank10_e_air               0.816633\n",
       "rougher.state.floatbank10_b_level           rougher.state.floatbank10_c_level             0.986281\n",
       "                                            rougher.state.floatbank10_d_level             0.966286\n",
       "                                            rougher.state.floatbank10_e_level             0.943054\n",
       "                                            rougher.state.floatbank10_f_level             0.939467\n",
       "rougher.state.floatbank10_c_air             rougher.state.floatbank10_d_air               0.913771\n",
       "rougher.state.floatbank10_c_level           rougher.state.floatbank10_d_level             0.977808\n",
       "                                            rougher.state.floatbank10_e_level             0.955248\n",
       "                                            rougher.state.floatbank10_f_level             0.947401\n",
       "rougher.state.floatbank10_d_air             rougher.state.floatbank10_e_air               0.849916\n",
       "                                            rougher.state.floatbank10_f_air               0.816161\n",
       "rougher.state.floatbank10_d_level           rougher.state.floatbank10_e_level             0.940345\n",
       "                                            rougher.state.floatbank10_f_level             0.943136\n",
       "rougher.state.floatbank10_e_air             rougher.state.floatbank10_f_air               0.929224\n",
       "rougher.state.floatbank10_e_level           rougher.state.floatbank10_f_level             0.981459\n",
       "secondary_cleaner.state.floatbank2_a_air    secondary_cleaner.state.floatbank2_b_air      0.835071\n",
       "secondary_cleaner.state.floatbank4_a_air    secondary_cleaner.state.floatbank4_b_air      0.844240\n",
       "secondary_cleaner.state.floatbank4_b_air    secondary_cleaner.state.floatbank5_b_air      0.851443\n",
       "secondary_cleaner.state.floatbank5_a_air    secondary_cleaner.state.floatbank5_b_air      0.888205\n",
       "secondary_cleaner.state.floatbank5_a_level  secondary_cleaner.state.floatbank5_b_level    0.827299\n",
       "dtype: float64"
      ]
     },
     "metadata": {},
     "output_type": "display_data"
    }
   ],
   "source": [
    "corr_features = (\n",
    "    df_full [df_test.columns].corr ().abs ().pipe (lambda x: x [(0.8 < x) & (x < 1)]).unstack ().dropna ().drop_duplicates ()\n",
    ")\n",
    "display (corr_features)"
   ]
  },
  {
   "cell_type": "markdown",
   "metadata": {},
   "source": [
    "Создадим задел столбцов, которые в последствии удалим из обучающей выборки (оставив по одному из соответствующих коррелирующих групп)"
   ]
  },
  {
   "cell_type": "code",
   "execution_count": 20,
   "metadata": {},
   "outputs": [
    {
     "data": {
      "text/plain": [
       "Index(['primary_cleaner.state.floatbank8_b_air',\n",
       "       'primary_cleaner.state.floatbank8_c_air',\n",
       "       'primary_cleaner.state.floatbank8_b_level',\n",
       "       'primary_cleaner.state.floatbank8_c_level', 'rougher.input.feed_au',\n",
       "       'rougher.input.floatbank11_sulfate',\n",
       "       'rougher.input.floatbank11_xanthate', 'rougher.state.floatbank10_c_air',\n",
       "       'rougher.state.floatbank10_d_air', 'rougher.state.floatbank10_e_air',\n",
       "       'rougher.state.floatbank10_c_level',\n",
       "       'rougher.state.floatbank10_d_level',\n",
       "       'rougher.state.floatbank10_e_level',\n",
       "       'rougher.state.floatbank10_f_level', 'rougher.state.floatbank10_f_air',\n",
       "       'secondary_cleaner.state.floatbank2_b_air',\n",
       "       'secondary_cleaner.state.floatbank4_b_air',\n",
       "       'secondary_cleaner.state.floatbank5_b_air',\n",
       "       'secondary_cleaner.state.floatbank5_b_level'],\n",
       "      dtype='object')"
      ]
     },
     "metadata": {},
     "output_type": "display_data"
    }
   ],
   "source": [
    "corr_drop_columns = corr_features.index.get_level_values (1).drop_duplicates ()\n",
    "display (corr_drop_columns)"
   ]
  },
  {
   "cell_type": "markdown",
   "metadata": {},
   "source": [
    "Преобразуем наши файлы"
   ]
  },
  {
   "cell_type": "code",
   "execution_count": 21,
   "metadata": {},
   "outputs": [],
   "source": [
    "train_columns = df_train.columns.drop (corr_drop_columns)\n",
    "df_train = df_train [train_columns]\n",
    "test_columns = df_test.columns.drop (corr_drop_columns)\n",
    "df_test = df_test [test_columns]\n",
    "\n",
    "df_train = df_full [df_full.index.isin (df_train.index)][train_columns]\n",
    "df_test = df_full [df_full.index.isin (df_test.index)][test_columns]"
   ]
  },
  {
   "cell_type": "markdown",
   "metadata": {},
   "source": [
    "Еще раз посмотрим на них после всех манипуляций"
   ]
  },
  {
   "cell_type": "code",
   "execution_count": 22,
   "metadata": {},
   "outputs": [
    {
     "name": "stdout",
     "output_type": "stream",
     "text": [
      "------------- Первые 5 строк ------------\n"
     ]
    },
    {
     "data": {
      "text/html": [
       "<div>\n",
       "<style scoped>\n",
       "    .dataframe tbody tr th:only-of-type {\n",
       "        vertical-align: middle;\n",
       "    }\n",
       "\n",
       "    .dataframe tbody tr th {\n",
       "        vertical-align: top;\n",
       "    }\n",
       "\n",
       "    .dataframe thead th {\n",
       "        text-align: right;\n",
       "    }\n",
       "</style>\n",
       "<table border=\"1\" class=\"dataframe\">\n",
       "  <thead>\n",
       "    <tr style=\"text-align: right;\">\n",
       "      <th></th>\n",
       "      <th>date</th>\n",
       "      <th>final.output.recovery</th>\n",
       "      <th>primary_cleaner.input.sulfate</th>\n",
       "      <th>primary_cleaner.input.depressant</th>\n",
       "      <th>primary_cleaner.input.feed_size</th>\n",
       "      <th>primary_cleaner.input.xanthate</th>\n",
       "      <th>primary_cleaner.state.floatbank8_a_air</th>\n",
       "      <th>primary_cleaner.state.floatbank8_a_level</th>\n",
       "      <th>primary_cleaner.state.floatbank8_d_air</th>\n",
       "      <th>primary_cleaner.state.floatbank8_d_level</th>\n",
       "      <th>...</th>\n",
       "      <th>secondary_cleaner.state.floatbank3_a_level</th>\n",
       "      <th>secondary_cleaner.state.floatbank3_b_air</th>\n",
       "      <th>secondary_cleaner.state.floatbank3_b_level</th>\n",
       "      <th>secondary_cleaner.state.floatbank4_a_air</th>\n",
       "      <th>secondary_cleaner.state.floatbank4_a_level</th>\n",
       "      <th>secondary_cleaner.state.floatbank4_b_level</th>\n",
       "      <th>secondary_cleaner.state.floatbank5_a_air</th>\n",
       "      <th>secondary_cleaner.state.floatbank5_a_level</th>\n",
       "      <th>secondary_cleaner.state.floatbank6_a_air</th>\n",
       "      <th>secondary_cleaner.state.floatbank6_a_level</th>\n",
       "    </tr>\n",
       "  </thead>\n",
       "  <tbody>\n",
       "    <tr>\n",
       "      <th>0</th>\n",
       "      <td>2016-01-15 00:00:00</td>\n",
       "      <td>70.541216</td>\n",
       "      <td>127.092003</td>\n",
       "      <td>10.128295</td>\n",
       "      <td>7.25</td>\n",
       "      <td>0.988759</td>\n",
       "      <td>1549.775757</td>\n",
       "      <td>-498.912140</td>\n",
       "      <td>1554.367432</td>\n",
       "      <td>-493.428131</td>\n",
       "      <td>...</td>\n",
       "      <td>-495.262817</td>\n",
       "      <td>21.940409</td>\n",
       "      <td>-499.340973</td>\n",
       "      <td>14.016835</td>\n",
       "      <td>-502.488007</td>\n",
       "      <td>-504.715942</td>\n",
       "      <td>9.925633</td>\n",
       "      <td>-498.310211</td>\n",
       "      <td>14.151341</td>\n",
       "      <td>-605.841980</td>\n",
       "    </tr>\n",
       "    <tr>\n",
       "      <th>1</th>\n",
       "      <td>2016-01-15 01:00:00</td>\n",
       "      <td>69.266198</td>\n",
       "      <td>125.629232</td>\n",
       "      <td>10.296251</td>\n",
       "      <td>7.25</td>\n",
       "      <td>1.002663</td>\n",
       "      <td>1576.166671</td>\n",
       "      <td>-500.904965</td>\n",
       "      <td>1574.479259</td>\n",
       "      <td>-498.931665</td>\n",
       "      <td>...</td>\n",
       "      <td>-500.085473</td>\n",
       "      <td>22.085714</td>\n",
       "      <td>-499.446897</td>\n",
       "      <td>13.992281</td>\n",
       "      <td>-505.503262</td>\n",
       "      <td>-501.331529</td>\n",
       "      <td>10.039245</td>\n",
       "      <td>-500.169983</td>\n",
       "      <td>13.998353</td>\n",
       "      <td>-599.787184</td>\n",
       "    </tr>\n",
       "    <tr>\n",
       "      <th>2</th>\n",
       "      <td>2016-01-15 02:00:00</td>\n",
       "      <td>68.116445</td>\n",
       "      <td>123.819808</td>\n",
       "      <td>11.316280</td>\n",
       "      <td>7.25</td>\n",
       "      <td>0.991265</td>\n",
       "      <td>1601.556163</td>\n",
       "      <td>-499.997791</td>\n",
       "      <td>1599.541515</td>\n",
       "      <td>-499.827444</td>\n",
       "      <td>...</td>\n",
       "      <td>-499.442343</td>\n",
       "      <td>23.957717</td>\n",
       "      <td>-499.901982</td>\n",
       "      <td>14.015015</td>\n",
       "      <td>-502.520901</td>\n",
       "      <td>-501.133383</td>\n",
       "      <td>10.070913</td>\n",
       "      <td>-500.129135</td>\n",
       "      <td>14.028663</td>\n",
       "      <td>-601.427363</td>\n",
       "    </tr>\n",
       "    <tr>\n",
       "      <th>3</th>\n",
       "      <td>2016-01-15 03:00:00</td>\n",
       "      <td>68.347543</td>\n",
       "      <td>122.270188</td>\n",
       "      <td>11.322140</td>\n",
       "      <td>7.25</td>\n",
       "      <td>0.996739</td>\n",
       "      <td>1599.968720</td>\n",
       "      <td>-500.951778</td>\n",
       "      <td>1600.449520</td>\n",
       "      <td>-500.052575</td>\n",
       "      <td>...</td>\n",
       "      <td>-500.008812</td>\n",
       "      <td>23.954443</td>\n",
       "      <td>-499.944710</td>\n",
       "      <td>14.036510</td>\n",
       "      <td>-500.857308</td>\n",
       "      <td>-501.193686</td>\n",
       "      <td>9.970366</td>\n",
       "      <td>-499.201640</td>\n",
       "      <td>14.005551</td>\n",
       "      <td>-599.996129</td>\n",
       "    </tr>\n",
       "    <tr>\n",
       "      <th>4</th>\n",
       "      <td>2016-01-15 04:00:00</td>\n",
       "      <td>66.927016</td>\n",
       "      <td>117.988169</td>\n",
       "      <td>11.913613</td>\n",
       "      <td>7.25</td>\n",
       "      <td>1.009869</td>\n",
       "      <td>1601.339707</td>\n",
       "      <td>-498.975456</td>\n",
       "      <td>1602.649541</td>\n",
       "      <td>-500.593010</td>\n",
       "      <td>...</td>\n",
       "      <td>-500.083811</td>\n",
       "      <td>23.958945</td>\n",
       "      <td>-499.990309</td>\n",
       "      <td>14.027298</td>\n",
       "      <td>-499.838632</td>\n",
       "      <td>-501.053894</td>\n",
       "      <td>9.925709</td>\n",
       "      <td>-501.686727</td>\n",
       "      <td>13.996647</td>\n",
       "      <td>-601.496691</td>\n",
       "    </tr>\n",
       "  </tbody>\n",
       "</table>\n",
       "<p>5 rows × 36 columns</p>\n",
       "</div>"
      ],
      "text/plain": [
       "                  date  final.output.recovery  primary_cleaner.input.sulfate  \\\n",
       "0  2016-01-15 00:00:00              70.541216                     127.092003   \n",
       "1  2016-01-15 01:00:00              69.266198                     125.629232   \n",
       "2  2016-01-15 02:00:00              68.116445                     123.819808   \n",
       "3  2016-01-15 03:00:00              68.347543                     122.270188   \n",
       "4  2016-01-15 04:00:00              66.927016                     117.988169   \n",
       "\n",
       "   primary_cleaner.input.depressant  primary_cleaner.input.feed_size  \\\n",
       "0                         10.128295                             7.25   \n",
       "1                         10.296251                             7.25   \n",
       "2                         11.316280                             7.25   \n",
       "3                         11.322140                             7.25   \n",
       "4                         11.913613                             7.25   \n",
       "\n",
       "   primary_cleaner.input.xanthate  primary_cleaner.state.floatbank8_a_air  \\\n",
       "0                        0.988759                             1549.775757   \n",
       "1                        1.002663                             1576.166671   \n",
       "2                        0.991265                             1601.556163   \n",
       "3                        0.996739                             1599.968720   \n",
       "4                        1.009869                             1601.339707   \n",
       "\n",
       "   primary_cleaner.state.floatbank8_a_level  \\\n",
       "0                               -498.912140   \n",
       "1                               -500.904965   \n",
       "2                               -499.997791   \n",
       "3                               -500.951778   \n",
       "4                               -498.975456   \n",
       "\n",
       "   primary_cleaner.state.floatbank8_d_air  \\\n",
       "0                             1554.367432   \n",
       "1                             1574.479259   \n",
       "2                             1599.541515   \n",
       "3                             1600.449520   \n",
       "4                             1602.649541   \n",
       "\n",
       "   primary_cleaner.state.floatbank8_d_level  ...  \\\n",
       "0                               -493.428131  ...   \n",
       "1                               -498.931665  ...   \n",
       "2                               -499.827444  ...   \n",
       "3                               -500.052575  ...   \n",
       "4                               -500.593010  ...   \n",
       "\n",
       "   secondary_cleaner.state.floatbank3_a_level  \\\n",
       "0                                 -495.262817   \n",
       "1                                 -500.085473   \n",
       "2                                 -499.442343   \n",
       "3                                 -500.008812   \n",
       "4                                 -500.083811   \n",
       "\n",
       "   secondary_cleaner.state.floatbank3_b_air  \\\n",
       "0                                 21.940409   \n",
       "1                                 22.085714   \n",
       "2                                 23.957717   \n",
       "3                                 23.954443   \n",
       "4                                 23.958945   \n",
       "\n",
       "   secondary_cleaner.state.floatbank3_b_level  \\\n",
       "0                                 -499.340973   \n",
       "1                                 -499.446897   \n",
       "2                                 -499.901982   \n",
       "3                                 -499.944710   \n",
       "4                                 -499.990309   \n",
       "\n",
       "   secondary_cleaner.state.floatbank4_a_air  \\\n",
       "0                                 14.016835   \n",
       "1                                 13.992281   \n",
       "2                                 14.015015   \n",
       "3                                 14.036510   \n",
       "4                                 14.027298   \n",
       "\n",
       "   secondary_cleaner.state.floatbank4_a_level  \\\n",
       "0                                 -502.488007   \n",
       "1                                 -505.503262   \n",
       "2                                 -502.520901   \n",
       "3                                 -500.857308   \n",
       "4                                 -499.838632   \n",
       "\n",
       "   secondary_cleaner.state.floatbank4_b_level  \\\n",
       "0                                 -504.715942   \n",
       "1                                 -501.331529   \n",
       "2                                 -501.133383   \n",
       "3                                 -501.193686   \n",
       "4                                 -501.053894   \n",
       "\n",
       "   secondary_cleaner.state.floatbank5_a_air  \\\n",
       "0                                  9.925633   \n",
       "1                                 10.039245   \n",
       "2                                 10.070913   \n",
       "3                                  9.970366   \n",
       "4                                  9.925709   \n",
       "\n",
       "   secondary_cleaner.state.floatbank5_a_level  \\\n",
       "0                                 -498.310211   \n",
       "1                                 -500.169983   \n",
       "2                                 -500.129135   \n",
       "3                                 -499.201640   \n",
       "4                                 -501.686727   \n",
       "\n",
       "   secondary_cleaner.state.floatbank6_a_air  \\\n",
       "0                                 14.151341   \n",
       "1                                 13.998353   \n",
       "2                                 14.028663   \n",
       "3                                 14.005551   \n",
       "4                                 13.996647   \n",
       "\n",
       "   secondary_cleaner.state.floatbank6_a_level  \n",
       "0                                 -605.841980  \n",
       "1                                 -599.787184  \n",
       "2                                 -601.427363  \n",
       "3                                 -599.996129  \n",
       "4                                 -601.496691  \n",
       "\n",
       "[5 rows x 36 columns]"
      ]
     },
     "metadata": {},
     "output_type": "display_data"
    },
    {
     "name": "stdout",
     "output_type": "stream",
     "text": [
      "\n",
      "\n",
      "------------- Типы данных ------------\n",
      "<class 'pandas.core.frame.DataFrame'>\n",
      "Int64Index: 13052 entries, 0 to 14148\n",
      "Data columns (total 36 columns):\n",
      " #   Column                                      Non-Null Count  Dtype  \n",
      "---  ------                                      --------------  -----  \n",
      " 0   date                                        13052 non-null  object \n",
      " 1   final.output.recovery                       13052 non-null  float64\n",
      " 2   primary_cleaner.input.sulfate               13052 non-null  float64\n",
      " 3   primary_cleaner.input.depressant            13052 non-null  float64\n",
      " 4   primary_cleaner.input.feed_size             13052 non-null  float64\n",
      " 5   primary_cleaner.input.xanthate              13052 non-null  float64\n",
      " 6   primary_cleaner.state.floatbank8_a_air      13052 non-null  float64\n",
      " 7   primary_cleaner.state.floatbank8_a_level    13052 non-null  float64\n",
      " 8   primary_cleaner.state.floatbank8_d_air      13052 non-null  float64\n",
      " 9   primary_cleaner.state.floatbank8_d_level    13052 non-null  float64\n",
      " 10  rougher.input.feed_ag                       13052 non-null  float64\n",
      " 11  rougher.input.feed_pb                       13052 non-null  float64\n",
      " 12  rougher.input.feed_rate                     13052 non-null  float64\n",
      " 13  rougher.input.feed_size                     13052 non-null  float64\n",
      " 14  rougher.input.feed_sol                      13052 non-null  float64\n",
      " 15  rougher.input.floatbank10_sulfate           13052 non-null  float64\n",
      " 16  rougher.input.floatbank10_xanthate          13052 non-null  float64\n",
      " 17  rougher.output.recovery                     13052 non-null  float64\n",
      " 18  rougher.state.floatbank10_a_air             13052 non-null  float64\n",
      " 19  rougher.state.floatbank10_a_level           13052 non-null  float64\n",
      " 20  rougher.state.floatbank10_b_air             13052 non-null  float64\n",
      " 21  rougher.state.floatbank10_b_level           13052 non-null  float64\n",
      " 22  secondary_cleaner.state.floatbank2_a_air    13052 non-null  float64\n",
      " 23  secondary_cleaner.state.floatbank2_a_level  13052 non-null  float64\n",
      " 24  secondary_cleaner.state.floatbank2_b_level  13052 non-null  float64\n",
      " 25  secondary_cleaner.state.floatbank3_a_air    13052 non-null  float64\n",
      " 26  secondary_cleaner.state.floatbank3_a_level  13052 non-null  float64\n",
      " 27  secondary_cleaner.state.floatbank3_b_air    13052 non-null  float64\n",
      " 28  secondary_cleaner.state.floatbank3_b_level  13052 non-null  float64\n",
      " 29  secondary_cleaner.state.floatbank4_a_air    13052 non-null  float64\n",
      " 30  secondary_cleaner.state.floatbank4_a_level  13052 non-null  float64\n",
      " 31  secondary_cleaner.state.floatbank4_b_level  13052 non-null  float64\n",
      " 32  secondary_cleaner.state.floatbank5_a_air    13052 non-null  float64\n",
      " 33  secondary_cleaner.state.floatbank5_a_level  13052 non-null  float64\n",
      " 34  secondary_cleaner.state.floatbank6_a_air    13052 non-null  float64\n",
      " 35  secondary_cleaner.state.floatbank6_a_level  13052 non-null  float64\n",
      "dtypes: float64(35), object(1)\n",
      "memory usage: 3.7+ MB\n",
      "None\n",
      "\n",
      "\n",
      "------------- Пропуски ------------\n",
      "Пропусков НЕТ\n",
      "\n",
      "\n",
      "------------- Дубликаты ------------\n",
      "Дубликатов НЕТ\n",
      "------------- Категориальные признаки ------------\n",
      "------------- Первые 5 строк ------------\n"
     ]
    },
    {
     "data": {
      "text/html": [
       "<div>\n",
       "<style scoped>\n",
       "    .dataframe tbody tr th:only-of-type {\n",
       "        vertical-align: middle;\n",
       "    }\n",
       "\n",
       "    .dataframe tbody tr th {\n",
       "        vertical-align: top;\n",
       "    }\n",
       "\n",
       "    .dataframe thead th {\n",
       "        text-align: right;\n",
       "    }\n",
       "</style>\n",
       "<table border=\"1\" class=\"dataframe\">\n",
       "  <thead>\n",
       "    <tr style=\"text-align: right;\">\n",
       "      <th></th>\n",
       "      <th>date</th>\n",
       "      <th>primary_cleaner.input.sulfate</th>\n",
       "      <th>primary_cleaner.input.depressant</th>\n",
       "      <th>primary_cleaner.input.feed_size</th>\n",
       "      <th>primary_cleaner.input.xanthate</th>\n",
       "      <th>primary_cleaner.state.floatbank8_a_air</th>\n",
       "      <th>primary_cleaner.state.floatbank8_a_level</th>\n",
       "      <th>primary_cleaner.state.floatbank8_d_air</th>\n",
       "      <th>primary_cleaner.state.floatbank8_d_level</th>\n",
       "      <th>rougher.input.feed_ag</th>\n",
       "      <th>...</th>\n",
       "      <th>secondary_cleaner.state.floatbank3_a_level</th>\n",
       "      <th>secondary_cleaner.state.floatbank3_b_air</th>\n",
       "      <th>secondary_cleaner.state.floatbank3_b_level</th>\n",
       "      <th>secondary_cleaner.state.floatbank4_a_air</th>\n",
       "      <th>secondary_cleaner.state.floatbank4_a_level</th>\n",
       "      <th>secondary_cleaner.state.floatbank4_b_level</th>\n",
       "      <th>secondary_cleaner.state.floatbank5_a_air</th>\n",
       "      <th>secondary_cleaner.state.floatbank5_a_level</th>\n",
       "      <th>secondary_cleaner.state.floatbank6_a_air</th>\n",
       "      <th>secondary_cleaner.state.floatbank6_a_level</th>\n",
       "    </tr>\n",
       "  </thead>\n",
       "  <tbody>\n",
       "    <tr>\n",
       "      <th>0</th>\n",
       "      <td>2016-01-15 00:00:00</td>\n",
       "      <td>127.092003</td>\n",
       "      <td>10.128295</td>\n",
       "      <td>7.25</td>\n",
       "      <td>0.988759</td>\n",
       "      <td>1549.775757</td>\n",
       "      <td>-498.912140</td>\n",
       "      <td>1554.367432</td>\n",
       "      <td>-493.428131</td>\n",
       "      <td>6.100378</td>\n",
       "      <td>...</td>\n",
       "      <td>-495.262817</td>\n",
       "      <td>21.940409</td>\n",
       "      <td>-499.340973</td>\n",
       "      <td>14.016835</td>\n",
       "      <td>-502.488007</td>\n",
       "      <td>-504.715942</td>\n",
       "      <td>9.925633</td>\n",
       "      <td>-498.310211</td>\n",
       "      <td>14.151341</td>\n",
       "      <td>-605.841980</td>\n",
       "    </tr>\n",
       "    <tr>\n",
       "      <th>1</th>\n",
       "      <td>2016-01-15 01:00:00</td>\n",
       "      <td>125.629232</td>\n",
       "      <td>10.296251</td>\n",
       "      <td>7.25</td>\n",
       "      <td>1.002663</td>\n",
       "      <td>1576.166671</td>\n",
       "      <td>-500.904965</td>\n",
       "      <td>1574.479259</td>\n",
       "      <td>-498.931665</td>\n",
       "      <td>6.161113</td>\n",
       "      <td>...</td>\n",
       "      <td>-500.085473</td>\n",
       "      <td>22.085714</td>\n",
       "      <td>-499.446897</td>\n",
       "      <td>13.992281</td>\n",
       "      <td>-505.503262</td>\n",
       "      <td>-501.331529</td>\n",
       "      <td>10.039245</td>\n",
       "      <td>-500.169983</td>\n",
       "      <td>13.998353</td>\n",
       "      <td>-599.787184</td>\n",
       "    </tr>\n",
       "    <tr>\n",
       "      <th>2</th>\n",
       "      <td>2016-01-15 02:00:00</td>\n",
       "      <td>123.819808</td>\n",
       "      <td>11.316280</td>\n",
       "      <td>7.25</td>\n",
       "      <td>0.991265</td>\n",
       "      <td>1601.556163</td>\n",
       "      <td>-499.997791</td>\n",
       "      <td>1599.541515</td>\n",
       "      <td>-499.827444</td>\n",
       "      <td>6.116455</td>\n",
       "      <td>...</td>\n",
       "      <td>-499.442343</td>\n",
       "      <td>23.957717</td>\n",
       "      <td>-499.901982</td>\n",
       "      <td>14.015015</td>\n",
       "      <td>-502.520901</td>\n",
       "      <td>-501.133383</td>\n",
       "      <td>10.070913</td>\n",
       "      <td>-500.129135</td>\n",
       "      <td>14.028663</td>\n",
       "      <td>-601.427363</td>\n",
       "    </tr>\n",
       "    <tr>\n",
       "      <th>3</th>\n",
       "      <td>2016-01-15 03:00:00</td>\n",
       "      <td>122.270188</td>\n",
       "      <td>11.322140</td>\n",
       "      <td>7.25</td>\n",
       "      <td>0.996739</td>\n",
       "      <td>1599.968720</td>\n",
       "      <td>-500.951778</td>\n",
       "      <td>1600.449520</td>\n",
       "      <td>-500.052575</td>\n",
       "      <td>6.043309</td>\n",
       "      <td>...</td>\n",
       "      <td>-500.008812</td>\n",
       "      <td>23.954443</td>\n",
       "      <td>-499.944710</td>\n",
       "      <td>14.036510</td>\n",
       "      <td>-500.857308</td>\n",
       "      <td>-501.193686</td>\n",
       "      <td>9.970366</td>\n",
       "      <td>-499.201640</td>\n",
       "      <td>14.005551</td>\n",
       "      <td>-599.996129</td>\n",
       "    </tr>\n",
       "    <tr>\n",
       "      <th>4</th>\n",
       "      <td>2016-01-15 04:00:00</td>\n",
       "      <td>117.988169</td>\n",
       "      <td>11.913613</td>\n",
       "      <td>7.25</td>\n",
       "      <td>1.009869</td>\n",
       "      <td>1601.339707</td>\n",
       "      <td>-498.975456</td>\n",
       "      <td>1602.649541</td>\n",
       "      <td>-500.593010</td>\n",
       "      <td>6.060915</td>\n",
       "      <td>...</td>\n",
       "      <td>-500.083811</td>\n",
       "      <td>23.958945</td>\n",
       "      <td>-499.990309</td>\n",
       "      <td>14.027298</td>\n",
       "      <td>-499.838632</td>\n",
       "      <td>-501.053894</td>\n",
       "      <td>9.925709</td>\n",
       "      <td>-501.686727</td>\n",
       "      <td>13.996647</td>\n",
       "      <td>-601.496691</td>\n",
       "    </tr>\n",
       "  </tbody>\n",
       "</table>\n",
       "<p>5 rows × 34 columns</p>\n",
       "</div>"
      ],
      "text/plain": [
       "                  date  primary_cleaner.input.sulfate  \\\n",
       "0  2016-01-15 00:00:00                     127.092003   \n",
       "1  2016-01-15 01:00:00                     125.629232   \n",
       "2  2016-01-15 02:00:00                     123.819808   \n",
       "3  2016-01-15 03:00:00                     122.270188   \n",
       "4  2016-01-15 04:00:00                     117.988169   \n",
       "\n",
       "   primary_cleaner.input.depressant  primary_cleaner.input.feed_size  \\\n",
       "0                         10.128295                             7.25   \n",
       "1                         10.296251                             7.25   \n",
       "2                         11.316280                             7.25   \n",
       "3                         11.322140                             7.25   \n",
       "4                         11.913613                             7.25   \n",
       "\n",
       "   primary_cleaner.input.xanthate  primary_cleaner.state.floatbank8_a_air  \\\n",
       "0                        0.988759                             1549.775757   \n",
       "1                        1.002663                             1576.166671   \n",
       "2                        0.991265                             1601.556163   \n",
       "3                        0.996739                             1599.968720   \n",
       "4                        1.009869                             1601.339707   \n",
       "\n",
       "   primary_cleaner.state.floatbank8_a_level  \\\n",
       "0                               -498.912140   \n",
       "1                               -500.904965   \n",
       "2                               -499.997791   \n",
       "3                               -500.951778   \n",
       "4                               -498.975456   \n",
       "\n",
       "   primary_cleaner.state.floatbank8_d_air  \\\n",
       "0                             1554.367432   \n",
       "1                             1574.479259   \n",
       "2                             1599.541515   \n",
       "3                             1600.449520   \n",
       "4                             1602.649541   \n",
       "\n",
       "   primary_cleaner.state.floatbank8_d_level  rougher.input.feed_ag  ...  \\\n",
       "0                               -493.428131               6.100378  ...   \n",
       "1                               -498.931665               6.161113  ...   \n",
       "2                               -499.827444               6.116455  ...   \n",
       "3                               -500.052575               6.043309  ...   \n",
       "4                               -500.593010               6.060915  ...   \n",
       "\n",
       "   secondary_cleaner.state.floatbank3_a_level  \\\n",
       "0                                 -495.262817   \n",
       "1                                 -500.085473   \n",
       "2                                 -499.442343   \n",
       "3                                 -500.008812   \n",
       "4                                 -500.083811   \n",
       "\n",
       "   secondary_cleaner.state.floatbank3_b_air  \\\n",
       "0                                 21.940409   \n",
       "1                                 22.085714   \n",
       "2                                 23.957717   \n",
       "3                                 23.954443   \n",
       "4                                 23.958945   \n",
       "\n",
       "   secondary_cleaner.state.floatbank3_b_level  \\\n",
       "0                                 -499.340973   \n",
       "1                                 -499.446897   \n",
       "2                                 -499.901982   \n",
       "3                                 -499.944710   \n",
       "4                                 -499.990309   \n",
       "\n",
       "   secondary_cleaner.state.floatbank4_a_air  \\\n",
       "0                                 14.016835   \n",
       "1                                 13.992281   \n",
       "2                                 14.015015   \n",
       "3                                 14.036510   \n",
       "4                                 14.027298   \n",
       "\n",
       "   secondary_cleaner.state.floatbank4_a_level  \\\n",
       "0                                 -502.488007   \n",
       "1                                 -505.503262   \n",
       "2                                 -502.520901   \n",
       "3                                 -500.857308   \n",
       "4                                 -499.838632   \n",
       "\n",
       "   secondary_cleaner.state.floatbank4_b_level  \\\n",
       "0                                 -504.715942   \n",
       "1                                 -501.331529   \n",
       "2                                 -501.133383   \n",
       "3                                 -501.193686   \n",
       "4                                 -501.053894   \n",
       "\n",
       "   secondary_cleaner.state.floatbank5_a_air  \\\n",
       "0                                  9.925633   \n",
       "1                                 10.039245   \n",
       "2                                 10.070913   \n",
       "3                                  9.970366   \n",
       "4                                  9.925709   \n",
       "\n",
       "   secondary_cleaner.state.floatbank5_a_level  \\\n",
       "0                                 -498.310211   \n",
       "1                                 -500.169983   \n",
       "2                                 -500.129135   \n",
       "3                                 -499.201640   \n",
       "4                                 -501.686727   \n",
       "\n",
       "   secondary_cleaner.state.floatbank6_a_air  \\\n",
       "0                                 14.151341   \n",
       "1                                 13.998353   \n",
       "2                                 14.028663   \n",
       "3                                 14.005551   \n",
       "4                                 13.996647   \n",
       "\n",
       "   secondary_cleaner.state.floatbank6_a_level  \n",
       "0                                 -605.841980  \n",
       "1                                 -599.787184  \n",
       "2                                 -601.427363  \n",
       "3                                 -599.996129  \n",
       "4                                 -601.496691  \n",
       "\n",
       "[5 rows x 34 columns]"
      ]
     },
     "metadata": {},
     "output_type": "display_data"
    },
    {
     "name": "stdout",
     "output_type": "stream",
     "text": [
      "\n",
      "\n",
      "------------- Типы данных ------------\n",
      "<class 'pandas.core.frame.DataFrame'>\n",
      "Int64Index: 5085 entries, 0 to 5289\n",
      "Data columns (total 34 columns):\n",
      " #   Column                                      Non-Null Count  Dtype  \n",
      "---  ------                                      --------------  -----  \n",
      " 0   date                                        5085 non-null   object \n",
      " 1   primary_cleaner.input.sulfate               5085 non-null   float64\n",
      " 2   primary_cleaner.input.depressant            5085 non-null   float64\n",
      " 3   primary_cleaner.input.feed_size             5085 non-null   float64\n",
      " 4   primary_cleaner.input.xanthate              5085 non-null   float64\n",
      " 5   primary_cleaner.state.floatbank8_a_air      5085 non-null   float64\n",
      " 6   primary_cleaner.state.floatbank8_a_level    5085 non-null   float64\n",
      " 7   primary_cleaner.state.floatbank8_d_air      5085 non-null   float64\n",
      " 8   primary_cleaner.state.floatbank8_d_level    5085 non-null   float64\n",
      " 9   rougher.input.feed_ag                       5085 non-null   float64\n",
      " 10  rougher.input.feed_pb                       5085 non-null   float64\n",
      " 11  rougher.input.feed_rate                     5085 non-null   float64\n",
      " 12  rougher.input.feed_size                     5085 non-null   float64\n",
      " 13  rougher.input.feed_sol                      5085 non-null   float64\n",
      " 14  rougher.input.floatbank10_sulfate           5085 non-null   float64\n",
      " 15  rougher.input.floatbank10_xanthate          5085 non-null   float64\n",
      " 16  rougher.state.floatbank10_a_air             5085 non-null   float64\n",
      " 17  rougher.state.floatbank10_a_level           5085 non-null   float64\n",
      " 18  rougher.state.floatbank10_b_air             5085 non-null   float64\n",
      " 19  rougher.state.floatbank10_b_level           5085 non-null   float64\n",
      " 20  secondary_cleaner.state.floatbank2_a_air    5085 non-null   float64\n",
      " 21  secondary_cleaner.state.floatbank2_a_level  5085 non-null   float64\n",
      " 22  secondary_cleaner.state.floatbank2_b_level  5085 non-null   float64\n",
      " 23  secondary_cleaner.state.floatbank3_a_air    5085 non-null   float64\n",
      " 24  secondary_cleaner.state.floatbank3_a_level  5085 non-null   float64\n",
      " 25  secondary_cleaner.state.floatbank3_b_air    5085 non-null   float64\n",
      " 26  secondary_cleaner.state.floatbank3_b_level  5085 non-null   float64\n",
      " 27  secondary_cleaner.state.floatbank4_a_air    5085 non-null   float64\n",
      " 28  secondary_cleaner.state.floatbank4_a_level  5085 non-null   float64\n",
      " 29  secondary_cleaner.state.floatbank4_b_level  5085 non-null   float64\n",
      " 30  secondary_cleaner.state.floatbank5_a_air    5085 non-null   float64\n",
      " 31  secondary_cleaner.state.floatbank5_a_level  5085 non-null   float64\n",
      " 32  secondary_cleaner.state.floatbank6_a_air    5085 non-null   float64\n",
      " 33  secondary_cleaner.state.floatbank6_a_level  5085 non-null   float64\n",
      "dtypes: float64(33), object(1)\n",
      "memory usage: 1.4+ MB\n",
      "None\n",
      "\n",
      "\n",
      "------------- Пропуски ------------\n",
      "Пропусков НЕТ\n",
      "\n",
      "\n",
      "------------- Дубликаты ------------\n",
      "Дубликатов НЕТ\n",
      "------------- Категориальные признаки ------------\n"
     ]
    }
   ],
   "source": [
    "first_look (df_train)\n",
    "first_look (df_test)"
   ]
  },
  {
   "cell_type": "markdown",
   "metadata": {},
   "source": [
    "На данном этапе мы проверили, что эффективность обогащения рассчитана правильно.\n",
    "\n",
    "Проанализировали признаки, недоступные в тестовой выборке.\n",
    "\n",
    "Описали что это за параметры, описали к какому типу они относятся\n",
    "\n",
    "Провели предобработку данных, а именно:\n",
    "\n",
    "- заполнили пропуски в данных данными из соседних\n",
    "\n",
    "- избавились от нулевых значений в данных\n",
    "\n",
    "- проверили наши выборки на коллениарность и подготовили их для моделей обучения"
   ]
  },
  {
   "cell_type": "markdown",
   "metadata": {},
   "source": [
    "<a id=step_6></a>\n",
    "## Проанализируем данные"
   ]
  },
  {
   "cell_type": "markdown",
   "metadata": {},
   "source": [
    "<a id=step_7></a>\n",
    "<b>2.1. Посмотрим, как меняется концентрация металлов (Au, Ag, Pb) на различных этапах очистки. Опишем выводы.</b>"
   ]
  },
  {
   "cell_type": "markdown",
   "metadata": {},
   "source": [
    "Создадим функцию прорисовки графиков распредления металла по этапам очистки"
   ]
  },
  {
   "cell_type": "code",
   "execution_count": 23,
   "metadata": {},
   "outputs": [],
   "source": [
    "def display_graf (metal, x_lim, y_lim):\n",
    "    \n",
    "    plt.figure (figsize = [12, 9])\n",
    "    \n",
    "    plt.hist (\n",
    "        df_full.loc [:, (\n",
    "            df_full.columns.str.contains (metal) & df_full.columns.str.contains ('final.output.concentrate')\n",
    "        )], bins=100, label = 'финальный продукт', alpha=.5)\n",
    "    plt.hist (\n",
    "        df_full.loc [:, (\n",
    "            df_full.columns.str.contains (metal) & df_full.columns.str.contains ('secondary_cleaner.output.tail')\n",
    "        )], bins=100, label = 'отвальные хвосты после вторичной отчистки', alpha=.5)\n",
    "    plt.hist (\n",
    "        df_full.loc [:, (\n",
    "            df_full.columns.str.contains (metal) & df_full.columns.str.contains ('primary_cleaner.output.concentrate')\n",
    "        )], bins=100, label = 'продукт после первичной очистки', alpha=.5)\n",
    "    plt.hist (\n",
    "        df_full.loc [:, (\n",
    "            df_full.columns.str.contains (metal) & df_full.columns.str.contains ('rougher.output.concentrate')\n",
    "        )], bins=100, label = 'продукт после флотации', alpha=.5)\n",
    "    plt.hist (\n",
    "        df_full.loc [:, (\n",
    "            df_full.columns.str.contains (metal) & df_full.columns.str.contains ('rougher.input.feed')\n",
    "        )], bins=100, label = 'исходное сырье', alpha=.5)\n",
    "    \n",
    "    plt.xlim ([0, x_lim])\n",
    "    plt.ylim ([0, y_lim])\n",
    "\n",
    "    plt.xlabel (f'Концентрация {metal} на выходе')\n",
    "    plt.ylabel ('Частота')\n",
    "\n",
    "    plt.legend (loc = 'upper left', fontsize = 'x-large')\n",
    "\n",
    "    plt.title (f'Гистограмма распределения концентрации {metal}')\n",
    "    plt.show ()"
   ]
  },
  {
   "cell_type": "markdown",
   "metadata": {},
   "source": [
    "Концентрация золота на различных этапах очистки"
   ]
  },
  {
   "cell_type": "code",
   "execution_count": 24,
   "metadata": {},
   "outputs": [
    {
     "data": {
      "image/png": "[encoded data removed]",
      "text/plain": [
       "<Figure size 864x648 with 1 Axes>"
      ]
     },
     "metadata": {
      "needs_background": "light"
     },
     "output_type": "display_data"
    }
   ],
   "source": [
    "display_graf ('au', 55, 2200)"
   ]
  },
  {
   "cell_type": "markdown",
   "metadata": {},
   "source": [
    "Концентрация серебра на различных этапах очистки"
   ]
  },
  {
   "cell_type": "code",
   "execution_count": 25,
   "metadata": {},
   "outputs": [
    {
     "data": {
      "image/png": "[encoded data removed]",
      "text/plain": [
       "<Figure size 864x648 with 1 Axes>"
      ]
     },
     "metadata": {
      "needs_background": "light"
     },
     "output_type": "display_data"
    }
   ],
   "source": [
    "display_graf ('ag', 25, 1250)"
   ]
  },
  {
   "cell_type": "markdown",
   "metadata": {},
   "source": [
    "Концентрация свинца на различных этапах очистки"
   ]
  },
  {
   "cell_type": "code",
   "execution_count": 26,
   "metadata": {},
   "outputs": [
    {
     "data": {
      "image/png": "[encoded data removed]",
      "text/plain": [
       "<Figure size 864x648 with 1 Axes>"
      ]
     },
     "metadata": {
      "needs_background": "light"
     },
     "output_type": "display_data"
    }
   ],
   "source": [
    "display_graf ('pb', 17, 1000)"
   ]
  },
  {
   "cell_type": "markdown",
   "metadata": {},
   "source": [
    "Из произведенного анализа мы видим, что концентрация золота от этапа к этапу увеличивается, в отвальных концах также наблюдаем небольшую концентрацию, но она мала.\n",
    "\n",
    "Концентрация серебра увеличивается после флотации, уменьшается после этапа первичной очистки, большая в отвальных частях и незначительная в финальном концентрате.\n",
    "\n",
    "Концентрация свинца от этапа к этапу равномерно увеличивается, небольшая часть имеется в отвальных частях."
   ]
  },
  {
   "cell_type": "markdown",
   "metadata": {},
   "source": [
    "<a id=step_8></a>\n",
    "<b>2.2. Сравним распределения размеров гранул сырья на обучающей и тестовой выборках. Если распределения сильно отличаются друг от друга, оценка модели будет неправильной.</b>"
   ]
  },
  {
   "cell_type": "code",
   "execution_count": 27,
   "metadata": {
    "scrolled": false
   },
   "outputs": [
    {
     "data": {
      "image/png": "[encoded data removed]",
      "text/plain": [
       "<Figure size 864x648 with 1 Axes>"
      ]
     },
     "metadata": {
      "needs_background": "light"
     },
     "output_type": "display_data"
    }
   ],
   "source": [
    "plt.figure (figsize = [12, 9])\n",
    "sns.distplot (df_train ['rougher.input.feed_size'], norm_hist = True)\n",
    "sns.distplot (df_test ['rougher.input.feed_size'], norm_hist = True)\n",
    "plt.legend (['train', 'test'])\n",
    "plt.show()"
   ]
  },
  {
   "cell_type": "markdown",
   "metadata": {},
   "source": [
    "На графике распределения размеров гранул сырья на обучающей и тестовой выборках видим, что распределение не отличается, значит оценку моделей можно проводить на тестовой выборке"
   ]
  },
  {
   "cell_type": "markdown",
   "metadata": {},
   "source": [
    "<a id=step_9></a>\n",
    "<b>2.3. Исследуем суммарную концентрацию всех веществ на разных стадиях: в сырье, в черновом и финальном концентратах.</b>"
   ]
  },
  {
   "cell_type": "markdown",
   "metadata": {},
   "source": [
    "Подсчитаем суммарную концентрацию всех веществ на разных стадиях в отдельных столбцах"
   ]
  },
  {
   "cell_type": "code",
   "execution_count": 28,
   "metadata": {},
   "outputs": [],
   "source": [
    "df_full ['sum_concentrate_input_feed'] = df_full ['rougher.input.feed_au'] + df_full ['rougher.input.feed_ag'] + \\\n",
    "                                            df_full ['rougher.input.feed_pb']\n",
    "df_full ['sum_rougher.output.concentrate'] = df_full ['rougher.output.concentrate_au'] + df_full ['rougher.output.concentrate_ag'] + \\\n",
    "                                            df_full ['rougher.output.concentrate_pb']\n",
    "df_full ['sum_final.output.concentrate'] = df_full ['final.output.concentrate_au'] + df_full ['final.output.concentrate_ag'] + \\\n",
    "                                            df_full ['final.output.concentrate_pb']"
   ]
  },
  {
   "cell_type": "code",
   "execution_count": 29,
   "metadata": {},
   "outputs": [
    {
     "data": {
      "image/png": "[encoded data removed]",
      "text/plain": [
       "<Figure size 864x648 with 1 Axes>"
      ]
     },
     "metadata": {
      "needs_background": "light"
     },
     "output_type": "display_data"
    }
   ],
   "source": [
    "plt.figure (figsize = [12, 9])\n",
    "    \n",
    "plt.hist (df_full ['sum_concentrate_input_feed'], bins=100, label = 'исходное сырье', alpha=.5)\n",
    "plt.hist (df_full ['sum_rougher.output.concentrate'], bins=100, label = 'черновой концентрат', alpha=.5)\n",
    "plt.hist (df_full ['sum_final.output.concentrate'], bins=100, label = 'финальный концентрат', alpha=.5)\n",
    "\n",
    "plt.xlim ([0, 70])\n",
    "plt.ylim ([0, 4200])\n",
    "\n",
    "plt.xlabel ('Распределение')\n",
    "plt.ylabel ('Чатота')\n",
    "\n",
    "plt.legend (loc = 'upper left', fontsize = 'x-large')\n",
    "\n",
    "plt.title ('Суммарная концентрацию всех веществ на разных стадиях: в сырье, в черновом и финальном концентратах')\n",
    "plt.show ()"
   ]
  },
  {
   "cell_type": "markdown",
   "metadata": {},
   "source": [
    "Из графика наблюдаем увеличение суммарной концентрации всех веществ после каждой стадии очистки."
   ]
  },
  {
   "cell_type": "markdown",
   "metadata": {},
   "source": [
    "<a id=step_10></a>\n",
    "## Построим модель"
   ]
  },
  {
   "cell_type": "markdown",
   "metadata": {},
   "source": [
    "# Метрика качества\n",
    "\n",
    "Для решения задачи введём новую метрику качества — sMAPE (англ. Symmetric Mean Absolute Percentage Error, «симметричное среднее абсолютное процентное отклонение»).\n",
    "Она похожа на MAE, но выражается не в абсолютных величинах, а в относительных. Почему симметричная? Она одинаково учитывает масштаб и целевого признака, и предсказания.\n",
    "Метрика sMAPE вычисляется так:\n",
    " \n",
    " <b>$$sMAPE = \\frac {1}{N}\\sum^N_{i=1}\\frac {\\vert {y_i - \\overline {y}_i\\vert}}{(\\vert y_i \\vert + \\vert \\overline {y}_i \\vert)/2}x100%$$</b>\n",
    " \n",
    "\n",
    "Обозначения:\n",
    "\n",
    "<b>$$y_i$$</b>\n",
    " \n",
    "•\tЗначение целевого признака для объекта с порядковым номером i в выборке, на которой измеряется качество.\n",
    "\n",
    "<b>$$\\overline {y}_i$$</b>\n",
    " \n",
    "•\tЗначение предсказания для объекта с порядковым номером i, например, в тестовой выборке.\n",
    "\n",
    "<b>$$N$$</b>\n",
    " \n",
    "•\tКоличество объектов в выборке.\n",
    "\n",
    "<b>$$\\sum^N_{i=1}$$</b>\n",
    " \n",
    "•\tСуммирование по всем объектам выборки (i меняется от 1 до N).\n",
    "Нужно спрогнозировать сразу две величины:\n",
    "1.\tэффективность обогащения чернового концентрата rougher.output.recovery;\n",
    "2.\tэффективность обогащения финального концентрата final.output.recovery.\n",
    "Итоговая метрика складывается из двух величин:\n",
    "\n",
    "<b>Итогоаое sMAPE = 25% x sMAPE (rougher) + 75% sMAPE (final)</b>"
   ]
  },
  {
   "cell_type": "markdown",
   "metadata": {},
   "source": [
    "<a id=step_11></a>\n",
    "<b>3.1. Напишем функцию для вычисления итоговой sMAPE.</b>"
   ]
  },
  {
   "cell_type": "markdown",
   "metadata": {},
   "source": [
    "Функция sMAPE"
   ]
  },
  {
   "cell_type": "code",
   "execution_count": 30,
   "metadata": {},
   "outputs": [],
   "source": [
    "def s_mape (target, prediction):\n",
    "    return (\n",
    "        1 / len (target)\n",
    "    ) * (\n",
    "        sum (\n",
    "            2 * abs (target - prediction) / (\n",
    "                abs (target) + abs (prediction)\n",
    "            ) * 100)\n",
    "    )"
   ]
  },
  {
   "cell_type": "markdown",
   "metadata": {},
   "source": [
    "Функция final_sMape"
   ]
  },
  {
   "cell_type": "code",
   "execution_count": 31,
   "metadata": {},
   "outputs": [],
   "source": [
    "def final_smape (rougher, final):\n",
    "    return 0.25 * rougher + 0.75 * final"
   ]
  },
  {
   "cell_type": "markdown",
   "metadata": {},
   "source": [
    "<a id=step_12></a>\n",
    "<b>3.2. Обучим разные модели и оценим их качество кросс-валидацией. Выберем лучшую модель и проверим её на тестовой выборке. Опишем выводы.</b>"
   ]
  },
  {
   "cell_type": "markdown",
   "metadata": {},
   "source": [
    "Сформируем признаки и целевые признаки для обучения моделей"
   ]
  },
  {
   "cell_type": "code",
   "execution_count": 32,
   "metadata": {},
   "outputs": [],
   "source": [
    "features = df_train.drop (['date', 'rougher.output.recovery', 'final.output.recovery'], axis = 1)\n",
    "features_test = df_test.drop (['date'], axis = 1)\n",
    "target_rougher = df_train ['rougher.output.recovery']\n",
    "target_final = df_train ['final.output.recovery']"
   ]
  },
  {
   "cell_type": "markdown",
   "metadata": {},
   "source": [
    "Маштабируем признаки для модели линейной регрессии"
   ]
  },
  {
   "cell_type": "code",
   "execution_count": 33,
   "metadata": {},
   "outputs": [],
   "source": [
    "features_lr = features.copy()\n",
    "numeric = features_lr.columns\n",
    "scaler = StandardScaler ()\n",
    "\n",
    "scaler.fit (features_lr [numeric])\n",
    "features_lr [numeric] = scaler.transform (features_lr [numeric])"
   ]
  },
  {
   "cell_type": "markdown",
   "metadata": {},
   "source": [
    "Обучим модель линейной регриссии"
   ]
  },
  {
   "cell_type": "code",
   "execution_count": 34,
   "metadata": {},
   "outputs": [
    {
     "name": "stdout",
     "output_type": "stream",
     "text": [
      "Final_sMAPE модели линейной регрессии: -9.21263050672332\n"
     ]
    }
   ],
   "source": [
    "model = LinearRegression ()\n",
    "\n",
    "smape_scorer = make_scorer (s_mape, greater_is_better = False)\n",
    "crossv_rougher = cross_val_score (model, features_lr, target_rougher, scoring = smape_scorer, cv=5)\n",
    "crossv_final = cross_val_score (model, features_lr, target_final, scoring = smape_scorer, cv=5)\n",
    "                                 \n",
    "print ('Final_sMAPE модели линейной регрессии:', final_smape (crossv_rougher.mean (), crossv_final.mean ()))"
   ]
  },
  {
   "cell_type": "markdown",
   "metadata": {},
   "source": [
    "Обучим модель дерева решений"
   ]
  },
  {
   "cell_type": "code",
   "execution_count": 35,
   "metadata": {},
   "outputs": [
    {
     "name": "stdout",
     "output_type": "stream",
     "text": [
      "Final_sMAPE лучшей модели: -7.91774914441341 при лучшей глубине: 2\n"
     ]
    }
   ],
   "source": [
    "best_depth = 0\n",
    "best_smape = -100\n",
    "for depth in range(1, 8):\n",
    "    model = DecisionTreeRegressor (random_state = 12345, max_depth = depth)\n",
    "    smape_scorer = make_scorer (s_mape, greater_is_better = False)\n",
    "    crossv_rougher = cross_val_score (model, features, target_rougher, scoring = smape_scorer, cv=5)\n",
    "    crossv_final = cross_val_score (model, features, target_final, scoring = smape_scorer, cv=5)\n",
    "    smape = final_smape (crossv_rougher.mean (), crossv_final.mean ())\n",
    "    if abs (smape) < abs (best_smape):\n",
    "        best_depth = depth\n",
    "        best_smape = smape\n",
    "print (\"Final_sMAPE лучшей модели:\", best_smape, 'при лучшей глубине:', best_depth)"
   ]
  },
  {
   "cell_type": "markdown",
   "metadata": {},
   "source": [
    "Обучим модель случайного дерева"
   ]
  },
  {
   "cell_type": "code",
   "execution_count": 36,
   "metadata": {},
   "outputs": [
    {
     "name": "stdout",
     "output_type": "stream",
     "text": [
      "Final_sMAPE лучшей модели: -7.848373609314212 Количество деревьев: 4 Максимальная глубина: 2\n"
     ]
    }
   ],
   "source": [
    "best_smape = -100\n",
    "best_est = 0\n",
    "best_depth = 0\n",
    "for est in range (3, 6, 1):\n",
    "    for depth in range (1, 4, 1):\n",
    "        model = RandomForestRegressor (random_state = 12345, n_estimators = est, max_depth = depth)\n",
    "        smape_scorer = make_scorer (s_mape, greater_is_better = False)\n",
    "        crossv_rougher = cross_val_score (model, features_lr, target_rougher, scoring = smape_scorer, cv=5)\n",
    "        crossv_final = cross_val_score (model, features_lr, target_final, scoring = smape_scorer, cv=5)\n",
    "        smape = final_smape (crossv_rougher.mean (), crossv_final.mean ())\n",
    "        if abs (smape) < abs (best_smape):\n",
    "            best_smape = smape\n",
    "            best_est = est\n",
    "            best_depth = depth\n",
    "print (\"Final_sMAPE лучшей модели:\", best_smape, \"Количество деревьев:\", best_est, \"Максимальная глубина:\", best_depth)"
   ]
  },
  {
   "cell_type": "markdown",
   "metadata": {},
   "source": [
    "Модель линейное регрессии показала результат на обучающей выборке -9.212630506723315.\n",
    "\n",
    "Модель дерева решений -7.91774914441341 при лучшей глубине: 2.\n",
    "\n",
    "Модель случайного дерева -7.848373609314212 при еколичество деревьев: 4 и максимальноц глубине: 2.\n",
    "\n",
    "Лучше всего себя показала модель случайного дерева.\n",
    "\n",
    "Проверим ее на тестовой выборке"
   ]
  },
  {
   "cell_type": "code",
   "execution_count": 37,
   "metadata": {},
   "outputs": [],
   "source": [
    "target_test_rougher = df_full [df_full.index.isin (df_test.index)]['rougher.output.recovery']\n",
    "target_test_final = df_full [df_full.index.isin (df_test.index)]['final.output.recovery']"
   ]
  },
  {
   "cell_type": "markdown",
   "metadata": {},
   "source": [
    "Проверим нашу полученную модель на тестовой выборке"
   ]
  },
  {
   "cell_type": "code",
   "execution_count": 38,
   "metadata": {},
   "outputs": [
    {
     "name": "stdout",
     "output_type": "stream",
     "text": [
      "Final_sMAPE модели случайного леса на тестовой выборке: -8.720405606119257\n"
     ]
    }
   ],
   "source": [
    "model = RandomForestRegressor (random_state = 12345, n_estimators = 4, max_depth = 2)\n",
    "\n",
    "smape_scorer = make_scorer (s_mape, greater_is_better = False)\n",
    "crossv_rougher = cross_val_score (model, features_test, target_test_rougher, scoring = smape_scorer, cv=5)\n",
    "crossv_final = cross_val_score (model, features_test, target_test_final, scoring = smape_scorer, cv=5)\n",
    "\n",
    "smape = final_smape (crossv_rougher.mean (), crossv_final.mean ())\n",
    "\n",
    "print ('Final_sMAPE модели случайного леса на тестовой выборке:', smape)"
   ]
  },
  {
   "cell_type": "markdown",
   "metadata": {},
   "source": [
    "Проверим модель на адекватность в сравнении с простейшей моделью"
   ]
  },
  {
   "cell_type": "code",
   "execution_count": 39,
   "metadata": {},
   "outputs": [
    {
     "name": "stdout",
     "output_type": "stream",
     "text": [
      "Итоговое sMAPE -9.483582796527294\n"
     ]
    }
   ],
   "source": [
    "model = DummyRegressor (strategy='mean')\n",
    "\n",
    "model.fit (features_test, target_test_rougher)\n",
    "predictions_rougher = model.predict (features_test)\n",
    "\n",
    "model.fit (features_test, target_test_final)\n",
    "predictions_final = model.predict (features_test)\n",
    "\n",
    "crossv_rougher = cross_val_score (model, features_test, target_test_rougher, scoring = smape_scorer, cv=5)\n",
    "crossv_final = cross_val_score (model, features_test, target_test_final, scoring = smape_scorer, cv=5)\n",
    "\n",
    "smape = final_smape (crossv_rougher.mean (), crossv_final.mean ())\n",
    "\n",
    "print ('Итоговое sMAPE', smape)"
   ]
  },
  {
   "cell_type": "markdown",
   "metadata": {},
   "source": [
    "По полученным данным мы убеждаемся, что наша модель работает лучше, что показывает значение метрики"
   ]
  },
  {
   "cell_type": "markdown",
   "metadata": {},
   "source": [
    "В нашем проекте мы:\n",
    "- считали данные из файлов\n",
    "- проверили формулу вычисления эффективности обогащения\n",
    "- проанализировали признаки, недоступные в тестовой выборке\n",
    "- провели предобработку данных\n",
    "- исследовали изменение концентрации элементов на каждом этапе\n",
    "- проанализировали распределения размеров гранул на обучающей и тестовой выборках\n",
    "- исследовали суммарные концентрации\n",
    "- написали функцию для вычисления итогового *sMAPE*\n",
    "- бучели и проверили несколько моделей\n",
    "- выбрали лучшау модель, её качество проверили на тестовой выборке"
   ]
  },
  {
   "cell_type": "markdown",
   "metadata": {},
   "source": [
    "По результатам наших исследований можно рекомендовать нашу модель для последующей работы"
   ]
  },
  {
   "cell_type": "markdown",
   "metadata": {},
   "source": [
    "## Чек-лист готовности проекта"
   ]
  },
  {
   "cell_type": "markdown",
   "metadata": {},
   "source": [
    "- [x]  Jupyter Notebook открыт\n",
    "- [x]  Весь код выполняется без ошибок\n",
    "- [x]  Ячейки с кодом расположены в порядке выполнения\n",
    "- [x]  Выполнен шаг 1: данные подготовлены\n",
    "    - [x]  Проверена формула вычисления эффективности обогащения\n",
    "    - [x]  Проанализированы признаки, недоступные в тестовой выборке\n",
    "    - [x]  Проведена предобработка данных\n",
    "- [x]  Выполнен шаг 2: данные проанализированы\n",
    "    - [x]  Исследовано изменение концентрации элементов на каждом этапе\n",
    "    - [x]  Проанализированы распределения размеров гранул на обучающей и тестовой выборках\n",
    "    - [X]  Исследованы суммарные концентрации\n",
    "- [X]  Выполнен шаг 3: построена модель прогнозирования\n",
    "    - [x]  Написана функция для вычисления итогового *sMAPE*\n",
    "    - [x]  Обучено и проверено несколько моделей\n",
    "    - [x]  Выбрана лучшая модель, её качество проверено на тестовой выборке"
   ]
  }
 ],
 "metadata": {
  "ExecuteTimeLog": [
   {
    "duration": 1536,
    "start_time": "2022-03-26T16:43:33.890Z"
   },
   {
    "duration": 4,
    "start_time": "2022-03-26T16:43:46.004Z"
   },
   {
    "duration": 686,
    "start_time": "2022-03-26T16:44:04.349Z"
   },
   {
    "duration": 6,
    "start_time": "2022-03-26T16:44:46.897Z"
   },
   {
    "duration": 483,
    "start_time": "2022-03-26T16:45:16.628Z"
   },
   {
    "duration": 105,
    "start_time": "2022-03-26T16:45:49.456Z"
   },
   {
    "duration": 379,
    "start_time": "2022-03-26T16:46:13.252Z"
   },
   {
    "duration": 129,
    "start_time": "2022-03-26T16:47:31.528Z"
   },
   {
    "duration": 6,
    "start_time": "2022-03-26T16:50:31.302Z"
   },
   {
    "duration": 7,
    "start_time": "2022-03-26T16:50:49.290Z"
   },
   {
    "duration": 5,
    "start_time": "2022-03-26T16:51:34.310Z"
   },
   {
    "duration": 8,
    "start_time": "2022-03-26T16:55:06.197Z"
   },
   {
    "duration": 300,
    "start_time": "2022-03-26T16:55:11.576Z"
   },
   {
    "duration": 31,
    "start_time": "2022-03-26T16:56:55.020Z"
   },
   {
    "duration": 16,
    "start_time": "2022-03-26T16:57:20.720Z"
   },
   {
    "duration": 17,
    "start_time": "2022-03-26T16:59:34.851Z"
   },
   {
    "duration": 338,
    "start_time": "2022-03-26T16:59:59.815Z"
   },
   {
    "duration": 19,
    "start_time": "2022-03-26T17:01:56.287Z"
   },
   {
    "duration": 118,
    "start_time": "2022-03-26T17:02:18.334Z"
   },
   {
    "duration": 4,
    "start_time": "2022-03-26T17:02:43.760Z"
   },
   {
    "duration": 8,
    "start_time": "2022-03-26T17:03:04.594Z"
   },
   {
    "duration": 231,
    "start_time": "2022-03-26T17:03:32.758Z"
   },
   {
    "duration": 8,
    "start_time": "2022-03-26T17:06:11.009Z"
   },
   {
    "duration": 825,
    "start_time": "2022-03-26T17:06:27.478Z"
   },
   {
    "duration": 747,
    "start_time": "2022-03-26T17:07:08.897Z"
   },
   {
    "duration": 932,
    "start_time": "2022-03-26T17:07:26.149Z"
   },
   {
    "duration": 416,
    "start_time": "2022-03-26T17:09:27.705Z"
   },
   {
    "duration": 417,
    "start_time": "2022-03-26T17:10:00.740Z"
   },
   {
    "duration": 527,
    "start_time": "2022-03-26T17:10:09.644Z"
   },
   {
    "duration": 8,
    "start_time": "2022-03-26T17:11:26.928Z"
   },
   {
    "duration": 527,
    "start_time": "2022-03-26T17:11:33.228Z"
   },
   {
    "duration": 3,
    "start_time": "2022-03-26T17:13:11.278Z"
   },
   {
    "duration": 3,
    "start_time": "2022-03-26T17:14:13.339Z"
   },
   {
    "duration": 7,
    "start_time": "2022-03-26T17:14:47.279Z"
   },
   {
    "duration": 24,
    "start_time": "2022-03-26T17:15:01.859Z"
   },
   {
    "duration": 6,
    "start_time": "2022-03-26T17:15:19.927Z"
   },
   {
    "duration": 2500,
    "start_time": "2022-03-26T17:15:34.739Z"
   },
   {
    "duration": 15376,
    "start_time": "2022-03-26T17:16:00.032Z"
   },
   {
    "duration": 7060,
    "start_time": "2022-03-26T17:17:24.979Z"
   },
   {
    "duration": 147,
    "start_time": "2022-03-26T17:17:51.075Z"
   },
   {
    "duration": 35,
    "start_time": "2022-03-26T18:48:59.891Z"
   },
   {
    "duration": 23,
    "start_time": "2022-03-26T18:50:56.448Z"
   },
   {
    "duration": 28,
    "start_time": "2022-03-26T18:51:03.368Z"
   },
   {
    "duration": 27,
    "start_time": "2022-03-26T18:52:02.982Z"
   },
   {
    "duration": 24,
    "start_time": "2022-03-26T18:52:07.431Z"
   },
   {
    "duration": 266,
    "start_time": "2022-03-26T18:56:57.990Z"
   },
   {
    "duration": 1480,
    "start_time": "2022-03-26T18:59:38.406Z"
   },
   {
    "duration": 2,
    "start_time": "2022-03-26T18:59:42.046Z"
   },
   {
    "duration": 696,
    "start_time": "2022-03-26T18:59:43.605Z"
   },
   {
    "duration": 8,
    "start_time": "2022-03-26T18:59:46.414Z"
   },
   {
    "duration": 452,
    "start_time": "2022-03-26T18:59:48.813Z"
   },
   {
    "duration": 110,
    "start_time": "2022-03-26T19:00:00.309Z"
   },
   {
    "duration": 379,
    "start_time": "2022-03-26T19:00:07.758Z"
   },
   {
    "duration": 7,
    "start_time": "2022-03-26T19:00:15.733Z"
   },
   {
    "duration": 8,
    "start_time": "2022-03-26T19:00:16.701Z"
   },
   {
    "duration": 6,
    "start_time": "2022-03-26T19:00:21.901Z"
   },
   {
    "duration": 9,
    "start_time": "2022-03-26T19:04:33.937Z"
   },
   {
    "duration": 292,
    "start_time": "2022-03-26T19:04:34.793Z"
   },
   {
    "duration": 42,
    "start_time": "2022-03-26T19:04:53.009Z"
   },
   {
    "duration": 17,
    "start_time": "2022-03-26T19:04:56.705Z"
   },
   {
    "duration": 17,
    "start_time": "2022-03-26T19:05:09.481Z"
   },
   {
    "duration": 336,
    "start_time": "2022-03-26T19:05:13.224Z"
   },
   {
    "duration": 18,
    "start_time": "2022-03-26T19:05:37.071Z"
   },
   {
    "duration": 264,
    "start_time": "2022-03-26T19:05:37.152Z"
   },
   {
    "duration": 116,
    "start_time": "2022-03-26T19:06:07.712Z"
   },
   {
    "duration": 4,
    "start_time": "2022-03-26T19:06:32.409Z"
   },
   {
    "duration": 8,
    "start_time": "2022-03-26T19:08:16.063Z"
   },
   {
    "duration": 237,
    "start_time": "2022-03-26T19:08:18.574Z"
   },
   {
    "duration": 8,
    "start_time": "2022-03-26T19:59:17.362Z"
   },
   {
    "duration": 905,
    "start_time": "2022-03-26T19:59:21.168Z"
   },
   {
    "duration": 806,
    "start_time": "2022-03-26T19:59:26.449Z"
   },
   {
    "duration": 963,
    "start_time": "2022-03-26T19:59:30.313Z"
   },
   {
    "duration": 447,
    "start_time": "2022-03-26T19:59:34.457Z"
   },
   {
    "duration": 8,
    "start_time": "2022-03-26T19:59:37.832Z"
   },
   {
    "duration": 545,
    "start_time": "2022-03-26T19:59:38.376Z"
   },
   {
    "duration": 4,
    "start_time": "2022-03-26T19:59:43.232Z"
   },
   {
    "duration": 4,
    "start_time": "2022-03-26T19:59:44.015Z"
   },
   {
    "duration": 7,
    "start_time": "2022-03-26T20:00:11.609Z"
   },
   {
    "duration": 27,
    "start_time": "2022-03-26T20:00:11.904Z"
   },
   {
    "duration": 42,
    "start_time": "2022-03-26T20:01:02.545Z"
   },
   {
    "duration": 106,
    "start_time": "2022-03-26T20:04:44.324Z"
   },
   {
    "duration": 12,
    "start_time": "2022-03-26T20:05:37.231Z"
   },
   {
    "duration": 1458,
    "start_time": "2022-03-26T20:06:00.890Z"
   },
   {
    "duration": 3,
    "start_time": "2022-03-26T20:06:03.970Z"
   },
   {
    "duration": 698,
    "start_time": "2022-03-26T20:06:04.921Z"
   },
   {
    "duration": 8,
    "start_time": "2022-03-26T20:06:05.698Z"
   },
   {
    "duration": 456,
    "start_time": "2022-03-26T20:06:06.850Z"
   },
   {
    "duration": 122,
    "start_time": "2022-03-26T20:06:07.458Z"
   },
   {
    "duration": 383,
    "start_time": "2022-03-26T20:06:08.104Z"
   },
   {
    "duration": 7,
    "start_time": "2022-03-26T20:06:10.744Z"
   },
   {
    "duration": 7,
    "start_time": "2022-03-26T20:06:11.104Z"
   },
   {
    "duration": 6,
    "start_time": "2022-03-26T20:06:14.682Z"
   },
   {
    "duration": 11,
    "start_time": "2022-03-26T20:06:19.466Z"
   },
   {
    "duration": 339,
    "start_time": "2022-03-26T20:06:24.545Z"
   },
   {
    "duration": 31,
    "start_time": "2022-03-26T20:06:31.617Z"
   },
   {
    "duration": 16,
    "start_time": "2022-03-26T20:06:42.073Z"
   },
   {
    "duration": 18,
    "start_time": "2022-03-26T20:06:42.953Z"
   },
   {
    "duration": 344,
    "start_time": "2022-03-26T20:06:45.321Z"
   },
   {
    "duration": 25,
    "start_time": "2022-03-26T20:07:00.866Z"
   },
   {
    "duration": 280,
    "start_time": "2022-03-26T20:07:02.057Z"
   },
   {
    "duration": 122,
    "start_time": "2022-03-26T20:07:08.025Z"
   },
   {
    "duration": 5,
    "start_time": "2022-03-26T20:07:09.146Z"
   },
   {
    "duration": 14,
    "start_time": "2022-03-26T20:07:12.321Z"
   },
   {
    "duration": 268,
    "start_time": "2022-03-26T20:07:14.721Z"
   },
   {
    "duration": 10,
    "start_time": "2022-03-26T20:07:26.522Z"
   },
   {
    "duration": 917,
    "start_time": "2022-03-26T20:07:27.504Z"
   },
   {
    "duration": 785,
    "start_time": "2022-03-26T20:07:32.106Z"
   },
   {
    "duration": 909,
    "start_time": "2022-03-26T20:07:35.850Z"
   },
   {
    "duration": 405,
    "start_time": "2022-03-26T20:07:39.329Z"
   },
   {
    "duration": 7,
    "start_time": "2022-03-26T20:07:42.298Z"
   },
   {
    "duration": 520,
    "start_time": "2022-03-26T20:07:44.666Z"
   },
   {
    "duration": 3,
    "start_time": "2022-03-26T20:07:49.009Z"
   },
   {
    "duration": 3,
    "start_time": "2022-03-26T20:07:49.528Z"
   },
   {
    "duration": 6,
    "start_time": "2022-03-26T20:07:59.097Z"
   },
   {
    "duration": 27,
    "start_time": "2022-03-26T20:07:59.921Z"
   },
   {
    "duration": 24,
    "start_time": "2022-03-26T20:08:13.353Z"
   },
   {
    "duration": 6,
    "start_time": "2022-03-26T20:08:14.882Z"
   },
   {
    "duration": 2675,
    "start_time": "2022-03-26T20:08:18.066Z"
   },
   {
    "duration": 13668,
    "start_time": "2022-03-26T20:08:25.186Z"
   },
   {
    "duration": 10644,
    "start_time": "2022-03-26T20:09:02.121Z"
   },
   {
    "duration": 15602,
    "start_time": "2022-03-26T20:09:21.754Z"
   },
   {
    "duration": 6436,
    "start_time": "2022-03-26T20:10:06.404Z"
   },
   {
    "duration": 677970,
    "start_time": "2022-03-26T20:10:56.461Z"
   },
   {
    "duration": 46,
    "start_time": "2022-03-26T20:22:14.432Z"
   },
   {
    "duration": 2175,
    "start_time": "2022-03-27T06:24:12.279Z"
   },
   {
    "duration": 4,
    "start_time": "2022-03-27T06:24:14.458Z"
   },
   {
    "duration": 909,
    "start_time": "2022-03-27T06:24:14.517Z"
   },
   {
    "duration": 10,
    "start_time": "2022-03-27T06:24:15.498Z"
   },
   {
    "duration": 653,
    "start_time": "2022-03-27T06:24:22.117Z"
   },
   {
    "duration": 166,
    "start_time": "2022-03-27T06:24:24.818Z"
   },
   {
    "duration": 602,
    "start_time": "2022-03-27T06:24:30.859Z"
   },
   {
    "duration": 10,
    "start_time": "2022-03-27T06:24:57.876Z"
   },
   {
    "duration": 9,
    "start_time": "2022-03-27T06:24:58.488Z"
   },
   {
    "duration": 8,
    "start_time": "2022-03-27T06:25:33.221Z"
   },
   {
    "duration": 11,
    "start_time": "2022-03-27T06:25:39.198Z"
   },
   {
    "duration": 447,
    "start_time": "2022-03-27T06:25:40.610Z"
   },
   {
    "duration": 38,
    "start_time": "2022-03-27T06:25:50.021Z"
   },
   {
    "duration": 16,
    "start_time": "2022-03-27T06:25:52.933Z"
   },
   {
    "duration": 21,
    "start_time": "2022-03-27T06:25:58.803Z"
   },
   {
    "duration": 519,
    "start_time": "2022-03-27T06:26:00.166Z"
   },
   {
    "duration": 30,
    "start_time": "2022-03-27T06:26:17.127Z"
   },
   {
    "duration": 419,
    "start_time": "2022-03-27T06:26:17.785Z"
   },
   {
    "duration": 148,
    "start_time": "2022-03-27T06:26:42.454Z"
   },
   {
    "duration": 6,
    "start_time": "2022-03-27T06:26:52.062Z"
   },
   {
    "duration": 21,
    "start_time": "2022-03-27T06:27:00.357Z"
   },
   {
    "duration": 367,
    "start_time": "2022-03-27T06:27:01.467Z"
   },
   {
    "duration": 11,
    "start_time": "2022-03-27T06:27:16.489Z"
   },
   {
    "duration": 1372,
    "start_time": "2022-03-27T06:27:23.254Z"
   },
   {
    "duration": 1294,
    "start_time": "2022-03-27T06:27:32.627Z"
   },
   {
    "duration": 1411,
    "start_time": "2022-03-27T06:27:38.422Z"
   },
   {
    "duration": 689,
    "start_time": "2022-03-27T06:27:44.643Z"
   },
   {
    "duration": 8,
    "start_time": "2022-03-27T06:27:52.819Z"
   },
   {
    "duration": 936,
    "start_time": "2022-03-27T06:27:53.587Z"
   },
   {
    "duration": 5,
    "start_time": "2022-03-27T06:28:13.314Z"
   },
   {
    "duration": 4,
    "start_time": "2022-03-27T06:28:14.210Z"
   },
   {
    "duration": 163,
    "start_time": "2022-03-27T06:28:49.912Z"
   },
   {
    "duration": 8,
    "start_time": "2022-03-27T06:29:15.662Z"
   },
   {
    "duration": 32,
    "start_time": "2022-03-27T06:29:17.294Z"
   },
   {
    "duration": 145,
    "start_time": "2022-03-27T06:29:23.877Z"
   },
   {
    "duration": 3202,
    "start_time": "2022-03-27T06:29:25.982Z"
   },
   {
    "duration": 20275,
    "start_time": "2022-03-27T06:29:39.992Z"
   },
   {
    "duration": 504696,
    "start_time": "2022-03-27T06:31:06.253Z"
   },
   {
    "duration": 337524,
    "start_time": "2022-03-27T06:40:20.970Z"
   },
   {
    "duration": 141229,
    "start_time": "2022-03-27T06:46:27.871Z"
   },
   {
    "duration": 103995,
    "start_time": "2022-03-27T06:50:48.989Z"
   },
   {
    "duration": 34656,
    "start_time": "2022-03-27T06:52:58.440Z"
   },
   {
    "duration": 57,
    "start_time": "2022-03-27T06:54:18.134Z"
   },
   {
    "duration": 34785,
    "start_time": "2022-03-27T06:55:31.782Z"
   },
   {
    "duration": 18,
    "start_time": "2022-03-27T07:04:43.376Z"
   },
   {
    "duration": 34,
    "start_time": "2022-03-27T07:05:36.372Z"
   },
   {
    "duration": 27,
    "start_time": "2022-03-27T07:06:07.115Z"
   },
   {
    "duration": 26,
    "start_time": "2022-03-27T07:07:00.414Z"
   },
   {
    "duration": 37,
    "start_time": "2022-03-27T07:08:29.482Z"
   },
   {
    "duration": 9,
    "start_time": "2022-03-27T07:08:56.361Z"
   },
   {
    "duration": 36,
    "start_time": "2022-03-27T07:08:57.154Z"
   },
   {
    "duration": 12,
    "start_time": "2022-03-27T07:09:09.198Z"
   },
   {
    "duration": 14,
    "start_time": "2022-03-27T07:09:19.315Z"
   },
   {
    "duration": 37,
    "start_time": "2022-03-27T07:09:32.895Z"
   },
   {
    "duration": 62,
    "start_time": "2022-03-27T07:09:49.163Z"
   },
   {
    "duration": 28,
    "start_time": "2022-03-27T07:09:56.487Z"
   },
   {
    "duration": 53,
    "start_time": "2022-03-27T07:10:30.835Z"
   },
   {
    "duration": 54,
    "start_time": "2022-03-27T07:11:12.934Z"
   },
   {
    "duration": 28,
    "start_time": "2022-03-27T07:11:17.999Z"
   },
   {
    "duration": 36,
    "start_time": "2022-03-27T07:12:17.597Z"
   },
   {
    "duration": 13,
    "start_time": "2022-03-27T07:13:02.695Z"
   },
   {
    "duration": 37,
    "start_time": "2022-03-27T07:13:03.734Z"
   },
   {
    "duration": 13,
    "start_time": "2022-03-27T07:13:26.605Z"
   },
   {
    "duration": 38,
    "start_time": "2022-03-27T07:13:28.005Z"
   },
   {
    "duration": 18,
    "start_time": "2022-03-27T07:13:39.690Z"
   },
   {
    "duration": 17,
    "start_time": "2022-03-27T07:14:03.307Z"
   },
   {
    "duration": 13,
    "start_time": "2022-03-27T07:14:23.309Z"
   },
   {
    "duration": 7,
    "start_time": "2022-03-27T07:14:59.234Z"
   },
   {
    "duration": 8,
    "start_time": "2022-03-27T07:14:59.919Z"
   },
   {
    "duration": 18,
    "start_time": "2022-03-27T07:15:07.046Z"
   },
   {
    "duration": 17,
    "start_time": "2022-03-27T07:15:23.164Z"
   },
   {
    "duration": 15,
    "start_time": "2022-03-27T07:15:36.063Z"
   },
   {
    "duration": 6,
    "start_time": "2022-03-27T07:15:46.548Z"
   },
   {
    "duration": 7,
    "start_time": "2022-03-27T07:15:56.272Z"
   },
   {
    "duration": 29,
    "start_time": "2022-03-27T07:16:11.140Z"
   },
   {
    "duration": 9,
    "start_time": "2022-03-27T07:16:13.305Z"
   },
   {
    "duration": 2376,
    "start_time": "2022-03-27T07:16:15.507Z"
   },
   {
    "duration": 19881,
    "start_time": "2022-03-27T07:16:25.705Z"
   },
   {
    "duration": 27,
    "start_time": "2022-03-27T07:17:13.088Z"
   },
   {
    "duration": 47,
    "start_time": "2022-03-27T07:17:36.466Z"
   },
   {
    "duration": 9,
    "start_time": "2022-03-27T07:19:18.395Z"
   },
   {
    "duration": 3000,
    "start_time": "2022-03-27T07:19:41.790Z"
   },
   {
    "duration": 8,
    "start_time": "2022-03-27T07:19:47.964Z"
   },
   {
    "duration": 2935,
    "start_time": "2022-03-27T07:19:48.958Z"
   },
   {
    "duration": 19972,
    "start_time": "2022-03-27T07:20:20.780Z"
   },
   {
    "duration": 29884,
    "start_time": "2022-03-27T07:20:51.754Z"
   },
   {
    "duration": 29,
    "start_time": "2022-03-27T07:23:03.852Z"
   },
   {
    "duration": 49,
    "start_time": "2022-03-27T07:24:06.924Z"
   },
   {
    "duration": 9,
    "start_time": "2022-03-27T07:26:03.443Z"
   },
   {
    "duration": 3125,
    "start_time": "2022-03-27T07:26:06.762Z"
   },
   {
    "duration": 872,
    "start_time": "2022-03-27T07:26:18.950Z"
   },
   {
    "duration": 10,
    "start_time": "2022-03-27T07:26:43.343Z"
   },
   {
    "duration": 5,
    "start_time": "2022-03-27T07:28:20.600Z"
   },
   {
    "duration": 15,
    "start_time": "2022-03-27T07:31:38.191Z"
   },
   {
    "duration": 19,
    "start_time": "2022-03-27T07:32:17.114Z"
   },
   {
    "duration": 13,
    "start_time": "2022-03-27T07:32:36.759Z"
   },
   {
    "duration": 2127,
    "start_time": "2022-03-27T07:39:35.183Z"
   },
   {
    "duration": 4,
    "start_time": "2022-03-27T07:39:37.313Z"
   },
   {
    "duration": 1225,
    "start_time": "2022-03-27T07:39:37.320Z"
   },
   {
    "duration": 15,
    "start_time": "2022-03-27T07:39:38.548Z"
   },
   {
    "duration": 749,
    "start_time": "2022-03-27T07:39:38.566Z"
   },
   {
    "duration": 189,
    "start_time": "2022-03-27T07:39:39.317Z"
   },
   {
    "duration": 665,
    "start_time": "2022-03-27T07:39:39.509Z"
   },
   {
    "duration": 13,
    "start_time": "2022-03-27T07:39:40.177Z"
   },
   {
    "duration": 11,
    "start_time": "2022-03-27T07:39:40.192Z"
   },
   {
    "duration": 8,
    "start_time": "2022-03-27T07:39:40.208Z"
   },
   {
    "duration": 11,
    "start_time": "2022-03-27T07:39:40.218Z"
   },
   {
    "duration": 579,
    "start_time": "2022-03-27T07:39:40.232Z"
   },
   {
    "duration": 68,
    "start_time": "2022-03-27T07:39:40.814Z"
   },
   {
    "duration": 16,
    "start_time": "2022-03-27T07:39:40.888Z"
   },
   {
    "duration": 21,
    "start_time": "2022-03-27T07:39:40.907Z"
   },
   {
    "duration": 621,
    "start_time": "2022-03-27T07:39:40.930Z"
   },
   {
    "duration": 48,
    "start_time": "2022-03-27T07:39:41.554Z"
   },
   {
    "duration": 458,
    "start_time": "2022-03-27T07:39:41.604Z"
   },
   {
    "duration": 161,
    "start_time": "2022-03-27T07:39:42.064Z"
   },
   {
    "duration": 6,
    "start_time": "2022-03-27T07:39:42.227Z"
   },
   {
    "duration": 46,
    "start_time": "2022-03-27T07:39:42.236Z"
   },
   {
    "duration": 460,
    "start_time": "2022-03-27T07:39:42.285Z"
   },
   {
    "duration": 15,
    "start_time": "2022-03-27T07:39:42.748Z"
   },
   {
    "duration": 2004,
    "start_time": "2022-03-27T07:39:42.766Z"
   },
   {
    "duration": 1864,
    "start_time": "2022-03-27T07:39:44.773Z"
   },
   {
    "duration": 1494,
    "start_time": "2022-03-27T07:39:46.640Z"
   },
   {
    "duration": 716,
    "start_time": "2022-03-27T07:39:48.136Z"
   },
   {
    "duration": 10,
    "start_time": "2022-03-27T07:39:48.854Z"
   },
   {
    "duration": 890,
    "start_time": "2022-03-27T07:39:48.881Z"
   },
   {
    "duration": 9,
    "start_time": "2022-03-27T07:39:49.773Z"
   },
   {
    "duration": 5,
    "start_time": "2022-03-27T07:39:49.785Z"
   },
   {
    "duration": 10,
    "start_time": "2022-03-27T07:39:49.793Z"
   },
   {
    "duration": 33,
    "start_time": "2022-03-27T07:39:49.806Z"
   },
   {
    "duration": 43,
    "start_time": "2022-03-27T07:39:49.842Z"
   },
   {
    "duration": 3097,
    "start_time": "2022-03-27T07:39:49.887Z"
   },
   {
    "duration": 29382,
    "start_time": "2022-03-27T07:39:52.987Z"
   },
   {
    "duration": 39791,
    "start_time": "2022-03-27T07:40:22.372Z"
   },
   {
    "duration": 30,
    "start_time": "2022-03-27T07:41:02.165Z"
   },
   {
    "duration": 910,
    "start_time": "2022-03-27T07:41:02.197Z"
   },
   {
    "duration": 11,
    "start_time": "2022-03-27T07:41:03.109Z"
   },
   {
    "duration": 49,
    "start_time": "2022-03-27T11:46:50.571Z"
   },
   {
    "duration": 1750,
    "start_time": "2022-03-27T11:47:07.955Z"
   },
   {
    "duration": 3,
    "start_time": "2022-03-27T11:47:09.707Z"
   },
   {
    "duration": 664,
    "start_time": "2022-03-27T11:47:09.711Z"
   },
   {
    "duration": 7,
    "start_time": "2022-03-27T11:47:11.935Z"
   },
   {
    "duration": 419,
    "start_time": "2022-03-27T11:47:13.541Z"
   },
   {
    "duration": 94,
    "start_time": "2022-03-27T11:47:14.282Z"
   },
   {
    "duration": 372,
    "start_time": "2022-03-27T11:47:15.020Z"
   },
   {
    "duration": 8,
    "start_time": "2022-03-27T11:47:17.158Z"
   },
   {
    "duration": 7,
    "start_time": "2022-03-27T11:47:17.453Z"
   },
   {
    "duration": 4,
    "start_time": "2022-03-27T11:47:18.824Z"
   },
   {
    "duration": 8,
    "start_time": "2022-03-27T11:47:19.871Z"
   },
   {
    "duration": 274,
    "start_time": "2022-03-27T11:47:20.219Z"
   },
   {
    "duration": 28,
    "start_time": "2022-03-27T11:47:21.282Z"
   },
   {
    "duration": 14,
    "start_time": "2022-03-27T11:47:22.023Z"
   },
   {
    "duration": 16,
    "start_time": "2022-03-27T11:47:23.099Z"
   },
   {
    "duration": 297,
    "start_time": "2022-03-27T11:47:23.823Z"
   },
   {
    "duration": 18,
    "start_time": "2022-03-27T11:47:24.579Z"
   },
   {
    "duration": 230,
    "start_time": "2022-03-27T11:47:25.683Z"
   },
   {
    "duration": 117,
    "start_time": "2022-03-27T11:47:26.531Z"
   },
   {
    "duration": 4,
    "start_time": "2022-03-27T11:47:27.587Z"
   },
   {
    "duration": 15,
    "start_time": "2022-03-27T11:47:28.378Z"
   },
   {
    "duration": 199,
    "start_time": "2022-03-27T11:47:29.598Z"
   },
   {
    "duration": 7,
    "start_time": "2022-03-27T11:47:32.910Z"
   },
   {
    "duration": 763,
    "start_time": "2022-03-27T11:47:35.940Z"
   },
   {
    "duration": 786,
    "start_time": "2022-03-27T11:47:37.761Z"
   },
   {
    "duration": 817,
    "start_time": "2022-03-27T11:47:39.423Z"
   },
   {
    "duration": 354,
    "start_time": "2022-03-27T11:47:43.895Z"
   },
   {
    "duration": 363,
    "start_time": "2022-03-27T11:48:11.028Z"
   },
   {
    "duration": 2118,
    "start_time": "2022-03-27T12:48:49.101Z"
   },
   {
    "duration": 3,
    "start_time": "2022-03-27T12:48:52.860Z"
   },
   {
    "duration": 724,
    "start_time": "2022-03-27T12:48:53.860Z"
   },
   {
    "duration": 11,
    "start_time": "2022-03-27T12:48:55.039Z"
   },
   {
    "duration": 423,
    "start_time": "2022-03-27T12:48:56.838Z"
   },
   {
    "duration": 107,
    "start_time": "2022-03-27T12:48:58.064Z"
   },
   {
    "duration": 355,
    "start_time": "2022-03-27T12:48:58.895Z"
   },
   {
    "duration": 7,
    "start_time": "2022-03-27T12:49:01.976Z"
   },
   {
    "duration": 7,
    "start_time": "2022-03-27T12:49:02.389Z"
   },
   {
    "duration": 5,
    "start_time": "2022-03-27T12:49:04.408Z"
   },
   {
    "duration": 8,
    "start_time": "2022-03-27T12:49:05.648Z"
   },
   {
    "duration": 299,
    "start_time": "2022-03-27T12:49:05.998Z"
   },
   {
    "duration": 28,
    "start_time": "2022-03-27T12:49:07.383Z"
   },
   {
    "duration": 15,
    "start_time": "2022-03-27T12:49:08.265Z"
   },
   {
    "duration": 14,
    "start_time": "2022-03-27T12:49:09.516Z"
   },
   {
    "duration": 331,
    "start_time": "2022-03-27T12:49:10.380Z"
   },
   {
    "duration": 17,
    "start_time": "2022-03-27T12:49:11.317Z"
   },
   {
    "duration": 255,
    "start_time": "2022-03-27T12:49:11.817Z"
   },
   {
    "duration": 125,
    "start_time": "2022-03-27T12:49:13.197Z"
   },
   {
    "duration": 4,
    "start_time": "2022-03-27T12:49:14.861Z"
   },
   {
    "duration": 20,
    "start_time": "2022-03-27T12:49:16.306Z"
   },
   {
    "duration": 322,
    "start_time": "2022-03-27T12:49:17.646Z"
   },
   {
    "duration": 10,
    "start_time": "2022-03-27T12:49:21.842Z"
   },
   {
    "duration": 1313,
    "start_time": "2022-03-27T12:49:23.336Z"
   },
   {
    "duration": 1194,
    "start_time": "2022-03-27T12:49:28.893Z"
   },
   {
    "duration": 1394,
    "start_time": "2022-03-27T12:49:31.346Z"
   },
   {
    "duration": 615,
    "start_time": "2022-03-27T12:49:42.360Z"
   },
   {
    "duration": 592,
    "start_time": "2022-03-27T12:50:23.567Z"
   },
   {
    "duration": 785,
    "start_time": "2022-03-27T12:51:48.426Z"
   },
   {
    "duration": 587,
    "start_time": "2022-03-27T12:52:21.782Z"
   },
   {
    "duration": 424,
    "start_time": "2022-03-27T13:03:44.439Z"
   },
   {
    "duration": 653,
    "start_time": "2022-03-27T13:04:08.944Z"
   },
   {
    "duration": 5,
    "start_time": "2022-03-27T13:11:43.545Z"
   },
   {
    "duration": 4,
    "start_time": "2022-03-27T13:12:04.815Z"
   },
   {
    "duration": 3,
    "start_time": "2022-03-27T13:12:18.342Z"
   },
   {
    "duration": 2,
    "start_time": "2022-03-27T13:12:19.284Z"
   },
   {
    "duration": 6,
    "start_time": "2022-03-27T13:12:28.112Z"
   },
   {
    "duration": 113,
    "start_time": "2022-03-27T13:13:23.257Z"
   },
   {
    "duration": 10,
    "start_time": "2022-03-27T13:13:41.857Z"
   },
   {
    "duration": 9,
    "start_time": "2022-03-27T13:14:18.174Z"
   },
   {
    "duration": 12,
    "start_time": "2022-03-27T13:14:31.861Z"
   },
   {
    "duration": 17,
    "start_time": "2022-03-27T13:14:45.626Z"
   },
   {
    "duration": 15,
    "start_time": "2022-03-27T13:16:02.372Z"
   },
   {
    "duration": 2155,
    "start_time": "2022-03-27T13:19:31.879Z"
   },
   {
    "duration": 1812,
    "start_time": "2022-03-27T13:21:15.123Z"
   },
   {
    "duration": 1949,
    "start_time": "2022-03-27T13:24:28.289Z"
   },
   {
    "duration": 412,
    "start_time": "2022-03-27T13:26:59.357Z"
   },
   {
    "duration": 582,
    "start_time": "2022-03-27T13:27:45.495Z"
   },
   {
    "duration": 14045,
    "start_time": "2022-03-27T13:28:37.589Z"
   },
   {
    "duration": 836821,
    "start_time": "2022-03-27T13:31:26.818Z"
   },
   {
    "duration": 93867,
    "start_time": "2022-03-27T13:46:49.207Z"
   },
   {
    "duration": 6,
    "start_time": "2022-03-27T13:48:48.415Z"
   },
   {
    "duration": 13973,
    "start_time": "2022-03-27T13:48:59.753Z"
   },
   {
    "duration": 68059,
    "start_time": "2022-03-27T13:49:53.512Z"
   },
   {
    "duration": 11,
    "start_time": "2022-03-27T13:53:32.886Z"
   },
   {
    "duration": 7,
    "start_time": "2022-03-27T13:53:39.544Z"
   },
   {
    "duration": 871,
    "start_time": "2022-03-27T13:53:41.477Z"
   },
   {
    "duration": 116,
    "start_time": "2022-03-27T13:55:28.006Z"
   },
   {
    "duration": 31,
    "start_time": "2022-03-27T13:55:39.416Z"
   },
   {
    "duration": 1630,
    "start_time": "2022-03-27T15:00:43.495Z"
   },
   {
    "duration": 5,
    "start_time": "2022-03-27T15:00:45.127Z"
   },
   {
    "duration": 2623,
    "start_time": "2022-03-27T15:00:45.134Z"
   },
   {
    "duration": 8,
    "start_time": "2022-03-27T15:00:47.759Z"
   },
   {
    "duration": 450,
    "start_time": "2022-03-27T15:00:47.769Z"
   },
   {
    "duration": 117,
    "start_time": "2022-03-27T15:00:48.221Z"
   },
   {
    "duration": 413,
    "start_time": "2022-03-27T15:00:48.340Z"
   },
   {
    "duration": 6,
    "start_time": "2022-03-27T15:00:48.755Z"
   },
   {
    "duration": 20,
    "start_time": "2022-03-27T15:00:48.762Z"
   },
   {
    "duration": 9,
    "start_time": "2022-03-27T15:00:48.785Z"
   },
   {
    "duration": 12,
    "start_time": "2022-03-27T15:00:48.796Z"
   },
   {
    "duration": 307,
    "start_time": "2022-03-27T15:00:48.810Z"
   },
   {
    "duration": 42,
    "start_time": "2022-03-27T15:00:49.118Z"
   },
   {
    "duration": 14,
    "start_time": "2022-03-27T15:00:49.162Z"
   },
   {
    "duration": 16,
    "start_time": "2022-03-27T15:00:49.177Z"
   },
   {
    "duration": 344,
    "start_time": "2022-03-27T15:00:49.194Z"
   },
   {
    "duration": 17,
    "start_time": "2022-03-27T15:00:49.539Z"
   },
   {
    "duration": 276,
    "start_time": "2022-03-27T15:00:49.557Z"
   },
   {
    "duration": 123,
    "start_time": "2022-03-27T15:00:49.835Z"
   },
   {
    "duration": 5,
    "start_time": "2022-03-27T15:00:49.960Z"
   },
   {
    "duration": 15,
    "start_time": "2022-03-27T15:00:49.967Z"
   },
   {
    "duration": 265,
    "start_time": "2022-03-27T15:00:49.984Z"
   },
   {
    "duration": 8,
    "start_time": "2022-03-27T15:00:50.252Z"
   },
   {
    "duration": 809,
    "start_time": "2022-03-27T15:00:50.262Z"
   },
   {
    "duration": 699,
    "start_time": "2022-03-27T15:00:51.073Z"
   },
   {
    "duration": 824,
    "start_time": "2022-03-27T15:00:51.774Z"
   },
   {
    "duration": 566,
    "start_time": "2022-03-27T15:00:52.600Z"
   },
   {
    "duration": 8,
    "start_time": "2022-03-27T15:00:53.170Z"
   },
   {
    "duration": 494,
    "start_time": "2022-03-27T15:00:53.180Z"
   },
   {
    "duration": 3,
    "start_time": "2022-03-27T15:00:53.676Z"
   },
   {
    "duration": 9,
    "start_time": "2022-03-27T15:00:53.680Z"
   },
   {
    "duration": 10,
    "start_time": "2022-03-27T15:00:53.691Z"
   },
   {
    "duration": 26,
    "start_time": "2022-03-27T15:00:53.702Z"
   },
   {
    "duration": 3,
    "start_time": "2022-03-27T15:00:53.732Z"
   },
   {
    "duration": 2398,
    "start_time": "2022-03-27T15:00:53.737Z"
   },
   {
    "duration": 19645,
    "start_time": "2022-03-27T15:00:56.141Z"
   },
   {
    "duration": 69519,
    "start_time": "2022-03-27T15:01:15.788Z"
   },
   {
    "duration": 26,
    "start_time": "2022-03-27T15:02:25.309Z"
   },
   {
    "duration": 869,
    "start_time": "2022-03-27T15:02:25.337Z"
   },
   {
    "duration": 37,
    "start_time": "2022-03-27T15:02:26.208Z"
   },
   {
    "duration": 161,
    "start_time": "2022-03-27T15:38:19.389Z"
   },
   {
    "duration": 58,
    "start_time": "2022-03-27T15:52:18.725Z"
   },
   {
    "duration": 2,
    "start_time": "2022-03-27T15:52:37.618Z"
   },
   {
    "duration": 108,
    "start_time": "2022-03-27T15:54:19.585Z"
   },
   {
    "duration": 710,
    "start_time": "2022-03-27T15:54:51.257Z"
   },
   {
    "duration": 16,
    "start_time": "2022-03-27T15:56:58.968Z"
   },
   {
    "duration": 527,
    "start_time": "2022-03-27T15:58:45.584Z"
   },
   {
    "duration": 12,
    "start_time": "2022-03-27T15:59:24.615Z"
   },
   {
    "duration": 792,
    "start_time": "2022-03-27T16:00:28.367Z"
   },
   {
    "duration": 749,
    "start_time": "2022-03-27T16:01:19.103Z"
   },
   {
    "duration": 681,
    "start_time": "2022-03-27T16:01:30.233Z"
   },
   {
    "duration": 746,
    "start_time": "2022-03-27T16:02:26.894Z"
   },
   {
    "duration": 878,
    "start_time": "2022-03-27T16:03:08.526Z"
   },
   {
    "duration": 770,
    "start_time": "2022-03-27T16:03:41.518Z"
   },
   {
    "duration": 757,
    "start_time": "2022-03-27T16:04:06.197Z"
   },
   {
    "duration": 75,
    "start_time": "2022-03-27T16:16:44.826Z"
   },
   {
    "duration": 2301,
    "start_time": "2022-03-27T16:16:59.673Z"
   },
   {
    "duration": 4,
    "start_time": "2022-03-27T16:17:01.977Z"
   },
   {
    "duration": 960,
    "start_time": "2022-03-27T16:17:01.983Z"
   },
   {
    "duration": 10,
    "start_time": "2022-03-27T16:17:02.948Z"
   },
   {
    "duration": 687,
    "start_time": "2022-03-27T16:17:02.960Z"
   },
   {
    "duration": 183,
    "start_time": "2022-03-27T16:17:03.650Z"
   },
   {
    "duration": 655,
    "start_time": "2022-03-27T16:17:03.835Z"
   },
   {
    "duration": 11,
    "start_time": "2022-03-27T16:17:04.493Z"
   },
   {
    "duration": 10,
    "start_time": "2022-03-27T16:17:04.506Z"
   },
   {
    "duration": 28,
    "start_time": "2022-03-27T16:17:04.520Z"
   },
   {
    "duration": 13,
    "start_time": "2022-03-27T16:17:04.550Z"
   },
   {
    "duration": 481,
    "start_time": "2022-03-27T16:17:04.565Z"
   },
   {
    "duration": 38,
    "start_time": "2022-03-27T16:17:05.048Z"
   },
   {
    "duration": 17,
    "start_time": "2022-03-27T16:17:05.088Z"
   },
   {
    "duration": 51,
    "start_time": "2022-03-27T16:17:05.107Z"
   },
   {
    "duration": 541,
    "start_time": "2022-03-27T16:17:05.160Z"
   },
   {
    "duration": 46,
    "start_time": "2022-03-27T16:17:05.703Z"
   },
   {
    "duration": 437,
    "start_time": "2022-03-27T16:17:05.751Z"
   },
   {
    "duration": 159,
    "start_time": "2022-03-27T16:17:06.190Z"
   },
   {
    "duration": 6,
    "start_time": "2022-03-27T16:17:06.352Z"
   },
   {
    "duration": 25,
    "start_time": "2022-03-27T16:17:06.360Z"
   },
   {
    "duration": 409,
    "start_time": "2022-03-27T16:17:06.387Z"
   },
   {
    "duration": 12,
    "start_time": "2022-03-27T16:17:06.798Z"
   },
   {
    "duration": 1967,
    "start_time": "2022-03-27T16:17:06.812Z"
   },
   {
    "duration": 1362,
    "start_time": "2022-03-27T16:17:08.781Z"
   },
   {
    "duration": 1341,
    "start_time": "2022-03-27T16:17:10.145Z"
   },
   {
    "duration": 4,
    "start_time": "2022-03-27T16:17:11.488Z"
   },
   {
    "duration": 1123,
    "start_time": "2022-03-27T16:17:11.497Z"
   },
   {
    "duration": 9,
    "start_time": "2022-03-27T16:17:12.623Z"
   },
   {
    "duration": 984,
    "start_time": "2022-03-27T16:17:12.643Z"
   },
   {
    "duration": 4,
    "start_time": "2022-03-27T16:17:13.629Z"
   },
   {
    "duration": 4,
    "start_time": "2022-03-27T16:17:13.642Z"
   },
   {
    "duration": 10,
    "start_time": "2022-03-27T16:17:13.648Z"
   },
   {
    "duration": 27,
    "start_time": "2022-03-27T16:17:13.661Z"
   },
   {
    "duration": 3,
    "start_time": "2022-03-27T16:17:13.691Z"
   },
   {
    "duration": 2556,
    "start_time": "2022-03-27T16:17:13.696Z"
   },
   {
    "duration": 18238,
    "start_time": "2022-03-27T16:17:16.344Z"
   },
   {
    "duration": 116451,
    "start_time": "2022-03-27T16:17:34.584Z"
   },
   {
    "duration": 22,
    "start_time": "2022-03-27T16:19:31.043Z"
   },
   {
    "duration": 1163,
    "start_time": "2022-03-27T16:19:31.068Z"
   },
   {
    "duration": 52,
    "start_time": "2022-03-27T16:19:32.233Z"
   },
   {
    "duration": 1132,
    "start_time": "2022-03-27T16:19:32.289Z"
   },
   {
    "duration": 1095,
    "start_time": "2022-03-27T16:19:55.263Z"
   },
   {
    "duration": 1024,
    "start_time": "2022-03-27T16:23:25.647Z"
   },
   {
    "duration": 1232,
    "start_time": "2022-03-27T16:24:01.477Z"
   },
   {
    "duration": 1059,
    "start_time": "2022-03-27T16:24:19.622Z"
   },
   {
    "duration": 1257,
    "start_time": "2022-03-27T16:26:17.133Z"
   },
   {
    "duration": 1375,
    "start_time": "2022-03-27T16:26:33.221Z"
   },
   {
    "duration": 1300,
    "start_time": "2022-03-27T16:26:54.950Z"
   },
   {
    "duration": 1343,
    "start_time": "2022-03-27T16:27:17.828Z"
   },
   {
    "duration": 0,
    "start_time": "2022-03-27T16:33:46.085Z"
   },
   {
    "duration": 250025,
    "start_time": "2022-03-27T16:34:21.091Z"
   },
   {
    "duration": 6182,
    "start_time": "2022-03-27T16:43:21.499Z"
   },
   {
    "duration": 1583,
    "start_time": "2022-03-27T16:43:38.265Z"
   },
   {
    "duration": 1583,
    "start_time": "2022-03-27T16:46:10.023Z"
   },
   {
    "duration": 1113,
    "start_time": "2022-03-27T16:46:34.575Z"
   },
   {
    "duration": 16,
    "start_time": "2022-03-27T17:00:25.052Z"
   },
   {
    "duration": 14,
    "start_time": "2022-03-27T17:00:38.220Z"
   },
   {
    "duration": 13,
    "start_time": "2022-03-27T17:00:59.482Z"
   },
   {
    "duration": 35,
    "start_time": "2022-03-27T17:01:58.050Z"
   },
   {
    "duration": 30,
    "start_time": "2022-03-27T17:03:09.906Z"
   },
   {
    "duration": 11,
    "start_time": "2022-03-27T17:03:23.802Z"
   },
   {
    "duration": 17,
    "start_time": "2022-03-27T17:03:36.258Z"
   },
   {
    "duration": 17,
    "start_time": "2022-03-27T17:05:05.537Z"
   },
   {
    "duration": 15,
    "start_time": "2022-03-27T17:05:17.209Z"
   },
   {
    "duration": 223,
    "start_time": "2022-03-27T17:06:40.146Z"
   },
   {
    "duration": 13,
    "start_time": "2022-03-27T17:06:54.154Z"
   },
   {
    "duration": 14,
    "start_time": "2022-03-27T17:07:05.177Z"
   },
   {
    "duration": 13,
    "start_time": "2022-03-27T17:07:19.121Z"
   },
   {
    "duration": 13,
    "start_time": "2022-03-27T17:07:39.089Z"
   },
   {
    "duration": 16,
    "start_time": "2022-03-27T17:07:59.041Z"
   },
   {
    "duration": 329467,
    "start_time": "2022-03-27T17:10:21.592Z"
   },
   {
    "duration": 0,
    "start_time": "2022-03-27T17:15:51.062Z"
   },
   {
    "duration": 0,
    "start_time": "2022-03-27T17:15:51.068Z"
   },
   {
    "duration": 3173,
    "start_time": "2022-03-27T17:16:36.302Z"
   },
   {
    "duration": 23563,
    "start_time": "2022-03-27T17:16:44.556Z"
   },
   {
    "duration": 19527,
    "start_time": "2022-03-27T17:18:38.877Z"
   },
   {
    "duration": 92275,
    "start_time": "2022-03-27T17:19:19.700Z"
   },
   {
    "duration": 92755,
    "start_time": "2022-03-27T17:25:22.011Z"
   },
   {
    "duration": 92948,
    "start_time": "2022-03-27T17:27:11.033Z"
   },
   {
    "duration": 552194,
    "start_time": "2022-03-27T17:29:37.425Z"
   },
   {
    "duration": 18498,
    "start_time": "2022-03-27T17:39:41.382Z"
   },
   {
    "duration": 25802,
    "start_time": "2022-03-27T17:40:09.118Z"
   },
   {
    "duration": 99158,
    "start_time": "2022-03-27T17:41:24.918Z"
   },
   {
    "duration": 112985,
    "start_time": "2022-03-27T17:44:17.085Z"
   },
   {
    "duration": 109167,
    "start_time": "2022-03-27T17:51:19.914Z"
   },
   {
    "duration": 2794,
    "start_time": "2022-03-27T17:54:39.795Z"
   },
   {
    "duration": 5,
    "start_time": "2022-03-27T17:54:42.593Z"
   },
   {
    "duration": 1210,
    "start_time": "2022-03-27T17:54:42.600Z"
   },
   {
    "duration": 12,
    "start_time": "2022-03-27T17:54:43.813Z"
   },
   {
    "duration": 820,
    "start_time": "2022-03-27T17:54:43.827Z"
   },
   {
    "duration": 257,
    "start_time": "2022-03-27T17:54:44.650Z"
   },
   {
    "duration": 615,
    "start_time": "2022-03-27T17:54:44.909Z"
   },
   {
    "duration": 15,
    "start_time": "2022-03-27T17:54:45.529Z"
   },
   {
    "duration": 9,
    "start_time": "2022-03-27T17:54:45.547Z"
   },
   {
    "duration": 6,
    "start_time": "2022-03-27T17:54:45.562Z"
   },
   {
    "duration": 15,
    "start_time": "2022-03-27T17:54:45.571Z"
   },
   {
    "duration": 501,
    "start_time": "2022-03-27T17:54:45.589Z"
   },
   {
    "duration": 51,
    "start_time": "2022-03-27T17:54:46.092Z"
   },
   {
    "duration": 14,
    "start_time": "2022-03-27T17:54:46.145Z"
   },
   {
    "duration": 26,
    "start_time": "2022-03-27T17:54:46.162Z"
   },
   {
    "duration": 705,
    "start_time": "2022-03-27T17:54:46.190Z"
   },
   {
    "duration": 50,
    "start_time": "2022-03-27T17:54:46.897Z"
   },
   {
    "duration": 455,
    "start_time": "2022-03-27T17:54:46.950Z"
   },
   {
    "duration": 168,
    "start_time": "2022-03-27T17:54:47.407Z"
   },
   {
    "duration": 7,
    "start_time": "2022-03-27T17:54:47.578Z"
   },
   {
    "duration": 25,
    "start_time": "2022-03-27T17:54:47.587Z"
   },
   {
    "duration": 395,
    "start_time": "2022-03-27T17:54:47.614Z"
   },
   {
    "duration": 11,
    "start_time": "2022-03-27T17:54:48.011Z"
   },
   {
    "duration": 1384,
    "start_time": "2022-03-27T17:54:48.024Z"
   },
   {
    "duration": 1343,
    "start_time": "2022-03-27T17:54:49.411Z"
   },
   {
    "duration": 1663,
    "start_time": "2022-03-27T17:54:50.756Z"
   },
   {
    "duration": 4,
    "start_time": "2022-03-27T17:54:52.422Z"
   },
   {
    "duration": 6,
    "start_time": "2022-03-27T17:54:52.445Z"
   },
   {
    "duration": 12,
    "start_time": "2022-03-27T17:54:52.453Z"
   },
   {
    "duration": 1303,
    "start_time": "2022-03-27T17:54:52.468Z"
   },
   {
    "duration": 5,
    "start_time": "2022-03-27T17:54:53.774Z"
   },
   {
    "duration": 6,
    "start_time": "2022-03-27T17:54:53.782Z"
   },
   {
    "duration": 10,
    "start_time": "2022-03-27T17:54:53.790Z"
   },
   {
    "duration": 55,
    "start_time": "2022-03-27T17:54:53.802Z"
   },
   {
    "duration": 4,
    "start_time": "2022-03-27T17:54:53.859Z"
   },
   {
    "duration": 2978,
    "start_time": "2022-03-27T17:54:53.866Z"
   },
   {
    "duration": 18907,
    "start_time": "2022-03-27T17:54:56.848Z"
   },
   {
    "duration": 107390,
    "start_time": "2022-03-27T17:55:15.758Z"
   },
   {
    "duration": 22,
    "start_time": "2022-03-27T17:57:03.150Z"
   },
   {
    "duration": 1169,
    "start_time": "2022-03-27T17:57:03.174Z"
   },
   {
    "duration": 48,
    "start_time": "2022-03-27T17:57:04.346Z"
   },
   {
    "duration": 1830,
    "start_time": "2022-03-27T21:17:27.900Z"
   },
   {
    "duration": 3,
    "start_time": "2022-03-27T21:17:30.321Z"
   },
   {
    "duration": 914,
    "start_time": "2022-03-27T21:17:30.805Z"
   },
   {
    "duration": 7,
    "start_time": "2022-03-27T21:17:31.721Z"
   },
   {
    "duration": 536,
    "start_time": "2022-03-27T21:17:32.444Z"
   },
   {
    "duration": 138,
    "start_time": "2022-03-27T21:17:32.982Z"
   },
   {
    "duration": 457,
    "start_time": "2022-03-27T21:17:33.331Z"
   },
   {
    "duration": 6,
    "start_time": "2022-03-27T21:17:34.749Z"
   },
   {
    "duration": 8,
    "start_time": "2022-03-27T21:17:35.023Z"
   },
   {
    "duration": 5,
    "start_time": "2022-03-27T21:17:36.482Z"
   },
   {
    "duration": 9,
    "start_time": "2022-03-27T21:17:37.724Z"
   },
   {
    "duration": 386,
    "start_time": "2022-03-27T21:17:38.029Z"
   },
   {
    "duration": 30,
    "start_time": "2022-03-27T21:17:39.529Z"
   },
   {
    "duration": 16,
    "start_time": "2022-03-27T21:17:40.578Z"
   },
   {
    "duration": 16,
    "start_time": "2022-03-27T21:17:41.991Z"
   },
   {
    "duration": 379,
    "start_time": "2022-03-27T21:17:42.535Z"
   },
   {
    "duration": 21,
    "start_time": "2022-03-27T21:17:43.475Z"
   },
   {
    "duration": 293,
    "start_time": "2022-03-27T21:17:43.675Z"
   },
   {
    "duration": 161,
    "start_time": "2022-03-27T21:17:46.325Z"
   },
   {
    "duration": 5,
    "start_time": "2022-03-27T21:17:46.670Z"
   },
   {
    "duration": 15,
    "start_time": "2022-03-27T21:17:47.491Z"
   },
   {
    "duration": 266,
    "start_time": "2022-03-27T21:17:48.386Z"
   },
   {
    "duration": 7,
    "start_time": "2022-03-27T21:17:54.286Z"
   },
   {
    "duration": 975,
    "start_time": "2022-03-27T21:17:55.619Z"
   },
   {
    "duration": 935,
    "start_time": "2022-03-27T21:18:01.879Z"
   },
   {
    "duration": 1024,
    "start_time": "2022-03-27T21:18:02.868Z"
   },
   {
    "duration": 3,
    "start_time": "2022-03-27T21:18:13.601Z"
   },
   {
    "duration": 3,
    "start_time": "2022-03-27T21:18:14.011Z"
   },
   {
    "duration": 147,
    "start_time": "2022-03-27T21:18:53.594Z"
   },
   {
    "duration": 706,
    "start_time": "2022-03-27T21:19:07.956Z"
   },
   {
    "duration": 646,
    "start_time": "2022-03-27T21:20:11.461Z"
   },
   {
    "duration": 15,
    "start_time": "2022-03-27T21:20:42.897Z"
   },
   {
    "duration": 1800,
    "start_time": "2022-03-27T21:21:36.191Z"
   },
   {
    "duration": 1715,
    "start_time": "2022-03-27T21:22:18.872Z"
   },
   {
    "duration": 883,
    "start_time": "2022-03-27T21:22:41.403Z"
   },
   {
    "duration": 1830,
    "start_time": "2022-03-27T21:23:05.857Z"
   },
   {
    "duration": 26,
    "start_time": "2022-03-27T21:23:22.573Z"
   },
   {
    "duration": 585,
    "start_time": "2022-03-27T21:24:32.418Z"
   },
   {
    "duration": 642,
    "start_time": "2022-03-27T21:24:46.826Z"
   },
   {
    "duration": 582,
    "start_time": "2022-03-27T21:26:39.105Z"
   },
   {
    "duration": 55,
    "start_time": "2022-03-28T05:37:40.586Z"
   },
   {
    "duration": 2330,
    "start_time": "2022-03-28T05:37:49.047Z"
   },
   {
    "duration": 5,
    "start_time": "2022-03-28T05:37:52.007Z"
   },
   {
    "duration": 1275,
    "start_time": "2022-03-28T05:37:53.264Z"
   },
   {
    "duration": 12,
    "start_time": "2022-03-28T05:37:54.542Z"
   },
   {
    "duration": 859,
    "start_time": "2022-03-28T05:37:54.808Z"
   },
   {
    "duration": 246,
    "start_time": "2022-03-28T05:37:55.671Z"
   },
   {
    "duration": 758,
    "start_time": "2022-03-28T05:37:55.943Z"
   },
   {
    "duration": 12,
    "start_time": "2022-03-28T05:37:57.624Z"
   },
   {
    "duration": 10,
    "start_time": "2022-03-28T05:37:57.903Z"
   },
   {
    "duration": 5,
    "start_time": "2022-03-28T05:37:59.040Z"
   },
   {
    "duration": 10,
    "start_time": "2022-03-28T05:37:59.911Z"
   },
   {
    "duration": 375,
    "start_time": "2022-03-28T05:38:00.191Z"
   },
   {
    "duration": 35,
    "start_time": "2022-03-28T05:38:01.086Z"
   },
   {
    "duration": 15,
    "start_time": "2022-03-28T05:38:01.680Z"
   },
   {
    "duration": 20,
    "start_time": "2022-03-28T05:38:02.566Z"
   },
   {
    "duration": 382,
    "start_time": "2022-03-28T05:38:03.183Z"
   },
   {
    "duration": 21,
    "start_time": "2022-03-28T05:38:03.791Z"
   },
   {
    "duration": 277,
    "start_time": "2022-03-28T05:38:04.119Z"
   },
   {
    "duration": 136,
    "start_time": "2022-03-28T05:38:04.728Z"
   },
   {
    "duration": 6,
    "start_time": "2022-03-28T05:38:05.359Z"
   },
   {
    "duration": 16,
    "start_time": "2022-03-28T05:38:05.967Z"
   },
   {
    "duration": 262,
    "start_time": "2022-03-28T05:38:06.665Z"
   },
   {
    "duration": 8,
    "start_time": "2022-03-28T05:38:08.887Z"
   },
   {
    "duration": 908,
    "start_time": "2022-03-28T05:38:10.183Z"
   },
   {
    "duration": 867,
    "start_time": "2022-03-28T05:38:11.100Z"
   },
   {
    "duration": 1053,
    "start_time": "2022-03-28T05:38:12.595Z"
   },
   {
    "duration": 3,
    "start_time": "2022-03-28T05:38:18.591Z"
   },
   {
    "duration": 674,
    "start_time": "2022-03-28T05:38:20.645Z"
   },
   {
    "duration": 547,
    "start_time": "2022-03-28T05:39:42.423Z"
   },
   {
    "duration": 589,
    "start_time": "2022-03-28T05:40:22.953Z"
   },
   {
    "duration": 723,
    "start_time": "2022-03-28T05:41:12.953Z"
   }
  ],
  "kernelspec": {
   "display_name": "Python 3 (ipykernel)",
   "language": "python",
   "name": "python3"
  },
  "language_info": {
   "codemirror_mode": {
    "name": "ipython",
    "version": 3
   },
   "file_extension": ".py",
   "mimetype": "text/x-python",
   "name": "python",
   "nbconvert_exporter": "python",
   "pygments_lexer": "ipython3",
   "version": "3.9.7"
  },
  "toc": {
   "base_numbering": 1,
   "nav_menu": {},
   "number_sections": true,
   "sideBar": true,
   "skip_h1_title": true,
   "title_cell": "Содержание",
   "title_sidebar": "Contents",
   "toc_cell": true,
   "toc_position": {
    "height": "calc(100% - 180px)",
    "left": "10px",
    "top": "150px",
    "width": "366.389px"
   },
   "toc_section_display": true,
   "toc_window_display": true
  }
 },
 "nbformat": 4,
 "nbformat_minor": 2
}
