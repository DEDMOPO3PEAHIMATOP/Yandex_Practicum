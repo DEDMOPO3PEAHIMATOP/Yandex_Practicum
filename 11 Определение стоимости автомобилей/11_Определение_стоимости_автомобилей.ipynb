{
 "cells": [
  {
   "cell_type": "markdown",
   "metadata": {},
   "source": [
    "# Определение стоимости автомобилей"
   ]
  },
  {
   "cell_type": "markdown",
   "metadata": {},
   "source": [
    "<b>Описание проекта</b>\n",
    "\n",
    "Сервис по продаже автомобилей с пробегом «Не бит, не крашен» разрабатывает приложение для привлечения новых клиентов. В нём можно быстро узнать рыночную стоимость своего автомобиля.\n",
    "\n",
    "<b>Цель проекта</b>\n",
    "\n",
    "В вашем распоряжении исторические данные: технические характеристики, комплектации и цены автомобилей. Вам нужно построить модель для определения стоимости. \n",
    "\n",
    "<b>Задачи проекта</b>\n",
    "\n",
    "Заказчику важны:\n",
    "\n",
    "- качество предсказания;\n",
    "- скорость предсказания;\n",
    "- время обучения."
   ]
  },
  {
   "cell_type": "markdown",
   "metadata": {},
   "source": [
    "<b>Разделим наш проект на этапы:</b>\n",
    "\n",
    "1. Подготовка данных\n",
    "\n",
    "    [ Загрузка необходимых библиотек](#step_1)\n",
    "    \n",
    "    [ Загрузка данных, их анализ и предобработка](#step_2)\n",
    "\n",
    "[2. Обучение моделей](#step_3)\n",
    "\n",
    "   [ Обучение модели линейной регрессии](#step_4)\n",
    "   \n",
    "   [ Обучение модели дерева решений](#step_5)\n",
    "   \n",
    "   [ Обучение модели случайного дерева](#step_6)\n",
    "   \n",
    "   [ Обучение модели CatBoostRegressor](#step_7)\n",
    "   \n",
    "   [ Обучение модели LGBMRegressor](#step_8)\n",
    "   \n",
    "   [ Выод по данному этапу](#step_9)\n",
    "\n",
    "[3. Анализ моделей](#step_10)\n",
    "\n",
    "[4. Общий вывод](#step_11)"
   ]
  },
  {
   "cell_type": "markdown",
   "metadata": {},
   "source": [
    "## Подготовка данных"
   ]
  },
  {
   "cell_type": "markdown",
   "metadata": {},
   "source": [
    "<a id=\"step_1\"></a>\n",
    "Загрузим необходимые библиотеки"
   ]
  },
  {
   "cell_type": "code",
   "execution_count": 1,
   "metadata": {
    "scrolled": true
   },
   "outputs": [],
   "source": [
    "# pip install catboost"
   ]
  },
  {
   "cell_type": "code",
   "execution_count": 2,
   "metadata": {},
   "outputs": [],
   "source": [
    "# pip install lightgbm"
   ]
  },
  {
   "cell_type": "code",
   "execution_count": 3,
   "metadata": {},
   "outputs": [
    {
     "name": "stderr",
     "output_type": "stream",
     "text": [
      "/usr/lib/python3/dist-packages/scipy/__init__.py:146: UserWarning: A NumPy version >=1.17.3 and <1.25.0 is required for this version of SciPy (detected version 1.25.2\n",
      "  warnings.warn(f\"A NumPy version >={np_minversion} and <{np_maxversion}\"\n"
     ]
    }
   ],
   "source": [
    "import pandas as pd # для работы с данными\n",
    "import time\n",
    "from typing import Any\n",
    "import warnings\n",
    "\n",
    "from catboost import CatBoostRegressor\n",
    "from lightgbm import LGBMRegressor\n",
    "from sklearn.ensemble import RandomForestRegressor\n",
    "from sklearn.linear_model import LinearRegression\n",
    "from sklearn.metrics import make_scorer # для генерации объекта скоринга\n",
    "from sklearn.metrics import mean_squared_error # для расчета MSE и RMSE\n",
    "from sklearn.model_selection import GridSearchCV # для получения наилучших параметров модели\n",
    "from sklearn.model_selection import train_test_split # для разбиения данных на выборки\n",
    "from sklearn.preprocessing import OrdinalEncoder\n",
    "from sklearn.preprocessing import StandardScaler # для маштабирования данных\n",
    "from sklearn.tree import DecisionTreeRegressor"
   ]
  },
  {
   "cell_type": "code",
   "execution_count": 4,
   "metadata": {},
   "outputs": [],
   "source": [
    "pd.options.mode.chained_assignment = None\n",
    "warnings.filterwarnings('ignore')"
   ]
  },
  {
   "cell_type": "markdown",
   "metadata": {},
   "source": [
    "<a id=\"step_2\"></a>\n",
    "Загрузим наши данные"
   ]
  },
  {
   "cell_type": "code",
   "execution_count": 5,
   "metadata": {},
   "outputs": [],
   "source": [
    "try:\n",
    "    df = pd.read_csv('autos.csv')\n",
    "except:\n",
    "    df = pd.read_csv('/datasets/autos.csv')"
   ]
  },
  {
   "cell_type": "markdown",
   "metadata": {},
   "source": [
    "Функция для первичного просмотра загруженных данных"
   ]
  },
  {
   "cell_type": "code",
   "execution_count": 6,
   "metadata": {},
   "outputs": [],
   "source": [
    "def first_look(df: pd.DataFrame, limit_na_category: int=10) -> None:\n",
    "    '''Функция получения первичной информации о датафрейме'''\n",
    "    print('------------- Первые 5 строк ------------')\n",
    "    display(df.head())\n",
    "    print('')\n",
    "    print('')\n",
    "    print('------------- Типы данных ------------')\n",
    "    print(df.info())\n",
    "    print('')\n",
    "    print('')\n",
    "    print('------------- Пропуски ------------')\n",
    "    count = 0\n",
    "    shape_0 = df.shape[0]\n",
    "    for element in df.columns:\n",
    "        if df[element].isna().sum() > 0:\n",
    "            print(element, ' - ', df[element].isna().sum(), 'пропусков, ', round(df[element].isna().sum() * 100 / shape_0,2),\\\n",
    "                  '% от числа строк.' )\n",
    "            count = +1\n",
    "    if count == 0:\n",
    "        print('Пропусков НЕТ')\n",
    "        print('')\n",
    "        print('')\n",
    "    print('------------- Дубликаты ------------')\n",
    "    if df.duplicated().sum() > 0:\n",
    "        print('Дубликатов: ', df.duplicated().sum())\n",
    "    else:\n",
    "        print('Дубликатов НЕТ')\n",
    "    # ищем, есть ли категориальные столбцы (содержащие до limit_na_category уникальных значений) в датафрейме\n",
    "    min_unique = limit_na_category + 1\n",
    "    for element in df.columns:\n",
    "        min_unique = min(min_unique, df[element].nunique())\n",
    "        if min_unique <= limit_na_category:\n",
    "            print('')\n",
    "    print('')\n",
    "    print('------------- Категориальные признаки ------------')\n",
    "    for element in df.columns:\n",
    "        if df[element].nunique() <= limit_na_category:\n",
    "            print(element, ': ', df[element].nunique(), 'категории - ', df[element].unique(), )"
   ]
  },
  {
   "cell_type": "markdown",
   "metadata": {},
   "source": [
    "Посмотрим на наши данные"
   ]
  },
  {
   "cell_type": "code",
   "execution_count": 7,
   "metadata": {
    "scrolled": true
   },
   "outputs": [
    {
     "name": "stdout",
     "output_type": "stream",
     "text": [
      "------------- Первые 5 строк ------------\n"
     ]
    },
    {
     "data": {
      "text/html": [
       "<div>\n",
       "<style scoped>\n",
       "    .dataframe tbody tr th:only-of-type {\n",
       "        vertical-align: middle;\n",
       "    }\n",
       "\n",
       "    .dataframe tbody tr th {\n",
       "        vertical-align: top;\n",
       "    }\n",
       "\n",
       "    .dataframe thead th {\n",
       "        text-align: right;\n",
       "    }\n",
       "</style>\n",
       "<table border=\"1\" class=\"dataframe\">\n",
       "  <thead>\n",
       "    <tr style=\"text-align: right;\">\n",
       "      <th></th>\n",
       "      <th>DateCrawled</th>\n",
       "      <th>Price</th>\n",
       "      <th>VehicleType</th>\n",
       "      <th>RegistrationYear</th>\n",
       "      <th>Gearbox</th>\n",
       "      <th>Power</th>\n",
       "      <th>Model</th>\n",
       "      <th>Kilometer</th>\n",
       "      <th>RegistrationMonth</th>\n",
       "      <th>FuelType</th>\n",
       "      <th>Brand</th>\n",
       "      <th>NotRepaired</th>\n",
       "      <th>DateCreated</th>\n",
       "      <th>NumberOfPictures</th>\n",
       "      <th>PostalCode</th>\n",
       "      <th>LastSeen</th>\n",
       "    </tr>\n",
       "  </thead>\n",
       "  <tbody>\n",
       "    <tr>\n",
       "      <th>0</th>\n",
       "      <td>2016-03-24 11:52:17</td>\n",
       "      <td>480</td>\n",
       "      <td>NaN</td>\n",
       "      <td>1993</td>\n",
       "      <td>manual</td>\n",
       "      <td>0</td>\n",
       "      <td>golf</td>\n",
       "      <td>150000</td>\n",
       "      <td>0</td>\n",
       "      <td>petrol</td>\n",
       "      <td>volkswagen</td>\n",
       "      <td>NaN</td>\n",
       "      <td>2016-03-24 00:00:00</td>\n",
       "      <td>0</td>\n",
       "      <td>70435</td>\n",
       "      <td>2016-04-07 03:16:57</td>\n",
       "    </tr>\n",
       "    <tr>\n",
       "      <th>1</th>\n",
       "      <td>2016-03-24 10:58:45</td>\n",
       "      <td>18300</td>\n",
       "      <td>coupe</td>\n",
       "      <td>2011</td>\n",
       "      <td>manual</td>\n",
       "      <td>190</td>\n",
       "      <td>NaN</td>\n",
       "      <td>125000</td>\n",
       "      <td>5</td>\n",
       "      <td>gasoline</td>\n",
       "      <td>audi</td>\n",
       "      <td>yes</td>\n",
       "      <td>2016-03-24 00:00:00</td>\n",
       "      <td>0</td>\n",
       "      <td>66954</td>\n",
       "      <td>2016-04-07 01:46:50</td>\n",
       "    </tr>\n",
       "    <tr>\n",
       "      <th>2</th>\n",
       "      <td>2016-03-14 12:52:21</td>\n",
       "      <td>9800</td>\n",
       "      <td>suv</td>\n",
       "      <td>2004</td>\n",
       "      <td>auto</td>\n",
       "      <td>163</td>\n",
       "      <td>grand</td>\n",
       "      <td>125000</td>\n",
       "      <td>8</td>\n",
       "      <td>gasoline</td>\n",
       "      <td>jeep</td>\n",
       "      <td>NaN</td>\n",
       "      <td>2016-03-14 00:00:00</td>\n",
       "      <td>0</td>\n",
       "      <td>90480</td>\n",
       "      <td>2016-04-05 12:47:46</td>\n",
       "    </tr>\n",
       "    <tr>\n",
       "      <th>3</th>\n",
       "      <td>2016-03-17 16:54:04</td>\n",
       "      <td>1500</td>\n",
       "      <td>small</td>\n",
       "      <td>2001</td>\n",
       "      <td>manual</td>\n",
       "      <td>75</td>\n",
       "      <td>golf</td>\n",
       "      <td>150000</td>\n",
       "      <td>6</td>\n",
       "      <td>petrol</td>\n",
       "      <td>volkswagen</td>\n",
       "      <td>no</td>\n",
       "      <td>2016-03-17 00:00:00</td>\n",
       "      <td>0</td>\n",
       "      <td>91074</td>\n",
       "      <td>2016-03-17 17:40:17</td>\n",
       "    </tr>\n",
       "    <tr>\n",
       "      <th>4</th>\n",
       "      <td>2016-03-31 17:25:20</td>\n",
       "      <td>3600</td>\n",
       "      <td>small</td>\n",
       "      <td>2008</td>\n",
       "      <td>manual</td>\n",
       "      <td>69</td>\n",
       "      <td>fabia</td>\n",
       "      <td>90000</td>\n",
       "      <td>7</td>\n",
       "      <td>gasoline</td>\n",
       "      <td>skoda</td>\n",
       "      <td>no</td>\n",
       "      <td>2016-03-31 00:00:00</td>\n",
       "      <td>0</td>\n",
       "      <td>60437</td>\n",
       "      <td>2016-04-06 10:17:21</td>\n",
       "    </tr>\n",
       "  </tbody>\n",
       "</table>\n",
       "</div>"
      ],
      "text/plain": [
       "           DateCrawled  Price VehicleType  RegistrationYear Gearbox  Power  \\\n",
       "0  2016-03-24 11:52:17    480         NaN              1993  manual      0   \n",
       "1  2016-03-24 10:58:45  18300       coupe              2011  manual    190   \n",
       "2  2016-03-14 12:52:21   9800         suv              2004    auto    163   \n",
       "3  2016-03-17 16:54:04   1500       small              2001  manual     75   \n",
       "4  2016-03-31 17:25:20   3600       small              2008  manual     69   \n",
       "\n",
       "   Model  Kilometer  RegistrationMonth  FuelType       Brand NotRepaired  \\\n",
       "0   golf     150000                  0    petrol  volkswagen         NaN   \n",
       "1    NaN     125000                  5  gasoline        audi         yes   \n",
       "2  grand     125000                  8  gasoline        jeep         NaN   \n",
       "3   golf     150000                  6    petrol  volkswagen          no   \n",
       "4  fabia      90000                  7  gasoline       skoda          no   \n",
       "\n",
       "           DateCreated  NumberOfPictures  PostalCode             LastSeen  \n",
       "0  2016-03-24 00:00:00                 0       70435  2016-04-07 03:16:57  \n",
       "1  2016-03-24 00:00:00                 0       66954  2016-04-07 01:46:50  \n",
       "2  2016-03-14 00:00:00                 0       90480  2016-04-05 12:47:46  \n",
       "3  2016-03-17 00:00:00                 0       91074  2016-03-17 17:40:17  \n",
       "4  2016-03-31 00:00:00                 0       60437  2016-04-06 10:17:21  "
      ]
     },
     "metadata": {},
     "output_type": "display_data"
    },
    {
     "name": "stdout",
     "output_type": "stream",
     "text": [
      "\n",
      "\n",
      "------------- Типы данных ------------\n",
      "<class 'pandas.core.frame.DataFrame'>\n",
      "RangeIndex: 354369 entries, 0 to 354368\n",
      "Data columns (total 16 columns):\n",
      " #   Column             Non-Null Count   Dtype \n",
      "---  ------             --------------   ----- \n",
      " 0   DateCrawled        354369 non-null  object\n",
      " 1   Price              354369 non-null  int64 \n",
      " 2   VehicleType        316879 non-null  object\n",
      " 3   RegistrationYear   354369 non-null  int64 \n",
      " 4   Gearbox            334536 non-null  object\n",
      " 5   Power              354369 non-null  int64 \n",
      " 6   Model              334664 non-null  object\n",
      " 7   Kilometer          354369 non-null  int64 \n",
      " 8   RegistrationMonth  354369 non-null  int64 \n",
      " 9   FuelType           321474 non-null  object\n",
      " 10  Brand              354369 non-null  object\n",
      " 11  NotRepaired        283215 non-null  object\n",
      " 12  DateCreated        354369 non-null  object\n",
      " 13  NumberOfPictures   354369 non-null  int64 \n",
      " 14  PostalCode         354369 non-null  int64 \n",
      " 15  LastSeen           354369 non-null  object\n",
      "dtypes: int64(7), object(9)\n",
      "memory usage: 43.3+ MB\n",
      "None\n",
      "\n",
      "\n",
      "------------- Пропуски ------------\n",
      "VehicleType  -  37490 пропусков,  10.58 % от числа строк.\n",
      "Gearbox  -  19833 пропусков,  5.6 % от числа строк.\n",
      "Model  -  19705 пропусков,  5.56 % от числа строк.\n",
      "FuelType  -  32895 пропусков,  9.28 % от числа строк.\n",
      "NotRepaired  -  71154 пропусков,  20.08 % от числа строк.\n",
      "------------- Дубликаты ------------\n",
      "Дубликатов:  4\n",
      "\n",
      "\n",
      "\n",
      "\n",
      "\n",
      "\n",
      "\n",
      "\n",
      "\n",
      "\n",
      "\n",
      "\n",
      "\n",
      "\n",
      "\n",
      "------------- Категориальные признаки ------------\n",
      "VehicleType :  8 категории -  [nan 'coupe' 'suv' 'small' 'sedan' 'convertible' 'bus' 'wagon' 'other']\n",
      "Gearbox :  2 категории -  ['manual' 'auto' nan]\n",
      "FuelType :  7 категории -  ['petrol' 'gasoline' nan 'lpg' 'other' 'hybrid' 'cng' 'electric']\n",
      "NotRepaired :  2 категории -  [nan 'yes' 'no']\n",
      "NumberOfPictures :  1 категории -  [0]\n"
     ]
    }
   ],
   "source": [
    "first_look(df)"
   ]
  },
  {
   "cell_type": "markdown",
   "metadata": {},
   "source": [
    "Наши данные представляют из себя таблицу из 16 столбцов и 354 369 строк, из которых:\n",
    "\n",
    "Признаки\n",
    "\n",
    "•\tDateCrawled — дата скачивания анкеты из базы (без пропусков данных)\n",
    "\n",
    "•\tVehicleType — тип автомобильного кузова (37 490 строк пропусков)\n",
    "\n",
    "•\tRegistrationYear — год регистрации автомобиля\n",
    "\n",
    "•\tGearbox — тип коробки передач (19 833 строк пропусков)\n",
    "\n",
    "•\tPower — мощность (л. с.)\n",
    "\n",
    "•\tModel — модель автомобиля (19 705 строк пропусков)\n",
    "\n",
    "•\tKilometer — пробег (км)\n",
    "\n",
    "•\tRegistrationMonth — месяц регистрации автомобиля\n",
    "\n",
    "•\tFuelType — тип топлива (32 895 строк пропусков) (petrol и gasoline - одно и тоже)\n",
    "\n",
    "•\tBrand — марка автомобиля\n",
    "\n",
    "•\tNotRepaired — была машина в ремонте или нет (71 154 строк пропусков)\n",
    "\n",
    "•\tDateCreated — дата создания анкеты\n",
    "\n",
    "•\tNumberOfPictures — количество фотографий автомобиля (всего одно значение - 0)\n",
    "\n",
    "•\tPostalCode — почтовый индекс владельца анкеты (пользователя)\n",
    "\n",
    "•\tLastSeen — дата последней активности пользователя\n",
    "\n",
    "Целевой признак\n",
    "\n",
    "Price — цена (евро)\n",
    "\n",
    "В данных имеются дубликаты (4 шт.)\n",
    "\n",
    "Также имеется 5 колонок с категориальными признаками"
   ]
  },
  {
   "cell_type": "markdown",
   "metadata": {},
   "source": [
    "Из представленных нам данных в последующей работе нам необходимы не все столбцы с данными, а именно не несут полезной информации:\n",
    "\n",
    "DateCrawled\n",
    "\n",
    "PostalCode\n",
    "\n",
    "LastSeen\n",
    "\n",
    "NumberOfPictures\n",
    "\n",
    "Удалим их из наших данных"
   ]
  },
  {
   "cell_type": "code",
   "execution_count": 8,
   "metadata": {},
   "outputs": [],
   "source": [
    "df = df.drop(['DateCrawled', 'PostalCode', 'LastSeen', 'NumberOfPictures'], axis=1)"
   ]
  },
  {
   "cell_type": "markdown",
   "metadata": {},
   "source": [
    "Первым по списку у нас идет столбец с целевым признаком, рассмотрим данным в нем внимательно"
   ]
  },
  {
   "cell_type": "code",
   "execution_count": 9,
   "metadata": {},
   "outputs": [
    {
     "data": {
      "text/plain": [
       "count    354369.000000\n",
       "mean       4416.656776\n",
       "std        4514.158514\n",
       "min           0.000000\n",
       "25%        1050.000000\n",
       "50%        2700.000000\n",
       "75%        6400.000000\n",
       "max       20000.000000\n",
       "Name: Price, dtype: float64"
      ]
     },
     "execution_count": 9,
     "metadata": {},
     "output_type": "execute_result"
    }
   ],
   "source": [
    "df['Price'].describe()"
   ]
  },
  {
   "cell_type": "markdown",
   "metadata": {},
   "source": [
    "Видим нулевые значения, посмотрим поближе наше распределение"
   ]
  },
  {
   "cell_type": "code",
   "execution_count": 10,
   "metadata": {
    "scrolled": true
   },
   "outputs": [
    {
     "data": {
      "text/plain": [
       "<AxesSubplot:ylabel='Frequency'>"
      ]
     },
     "execution_count": 10,
     "metadata": {},
     "output_type": "execute_result"
    },
    {
     "data": {
      "image/png": "[encoded data removed]",
      "text/plain": [
       "<Figure size 360x216 with 1 Axes>"
      ]
     },
     "metadata": {
      "needs_background": "light"
     },
     "output_type": "display_data"
    }
   ],
   "source": [
    "df.plot(y='Price', kind='hist', bins=100, grid=True, figsize=(5,3), range=(0,6400))"
   ]
  },
  {
   "cell_type": "markdown",
   "metadata": {},
   "source": [
    "Есть значения цены около 0, посмотрим внимательно на них"
   ]
  },
  {
   "cell_type": "code",
   "execution_count": 11,
   "metadata": {},
   "outputs": [
    {
     "data": {
      "text/plain": [
       "<AxesSubplot:ylabel='Frequency'>"
      ]
     },
     "execution_count": 11,
     "metadata": {},
     "output_type": "execute_result"
    },
    {
     "data": {
      "image/png": "[encoded data removed]",
      "text/plain": [
       "<Figure size 360x216 with 1 Axes>"
      ]
     },
     "metadata": {
      "needs_background": "light"
     },
     "output_type": "display_data"
    }
   ],
   "source": [
    "df.plot(y='Price', kind='hist', bins=100, grid=True, figsize=(5,3), range=(0,500))"
   ]
  },
  {
   "cell_type": "markdown",
   "metadata": {},
   "source": [
    "Т.к. для наших прогнозов цена является целевым признаком, то для последующих обучений моделей такой результат неприемлим, потому необходимо избавиться от объявлений без указания цены и цены менее 50 евро"
   ]
  },
  {
   "cell_type": "code",
   "execution_count": 12,
   "metadata": {},
   "outputs": [],
   "source": [
    "df = df.query('Price >= 50')"
   ]
  },
  {
   "cell_type": "markdown",
   "metadata": {},
   "source": [
    "Рассмотрим следующие столбцы VehicleType, Gearbox, Model, FuelType.\n",
    "\n",
    "Т.к. во всех из них есть пропуски данных и их мы не можем восстановить по какому-нибудь похожему признаку, потому как в разные годы (и в течении одного года выпуска) автомобили одной марки могли выпускаться с разными типами кузовов, с разными коробками передач, с разными двигателями и типом топлива заменим пропущенные значения на 'unknown'\n",
    "\n",
    "Аналогичная ситуация и со столбцом NotRepaired.\n",
    "\n",
    "Из-за отсутствия данных, мы не можем подставить туда ни \"да\" ни \"нет\"."
   ]
  },
  {
   "cell_type": "code",
   "execution_count": 13,
   "metadata": {
    "scrolled": true
   },
   "outputs": [],
   "source": [
    "df['VehicleType'].fillna('unknown', inplace=True)\n",
    "df['Gearbox'].fillna('unknown', inplace=True)\n",
    "df['Model'].fillna('unknown', inplace=True)\n",
    "df['FuelType'] = df['FuelType'].replace({'petrol' : 'gasoline'})\n",
    "df['FuelType'].fillna('unknown', inplace=True)\n",
    "df['NotRepaired'].fillna('unknown', inplace=True)"
   ]
  },
  {
   "cell_type": "markdown",
   "metadata": {},
   "source": [
    "Рассмотрим данные в столбце Power"
   ]
  },
  {
   "cell_type": "code",
   "execution_count": 14,
   "metadata": {
    "scrolled": true
   },
   "outputs": [
    {
     "data": {
      "text/plain": [
       "count    341946.000000\n",
       "mean        111.207240\n",
       "std         188.253725\n",
       "min           0.000000\n",
       "25%          69.000000\n",
       "50%         105.000000\n",
       "75%         143.000000\n",
       "max       20000.000000\n",
       "Name: Power, dtype: float64"
      ]
     },
     "execution_count": 14,
     "metadata": {},
     "output_type": "execute_result"
    }
   ],
   "source": [
    "df['Power'].describe()"
   ]
  },
  {
   "cell_type": "markdown",
   "metadata": {},
   "source": [
    "Видим нулевые значения и максимальное количество авто по мощности сконцентрировано в диапазоне от 0 до 250. Рассмотрим распределение."
   ]
  },
  {
   "cell_type": "code",
   "execution_count": 15,
   "metadata": {},
   "outputs": [
    {
     "data": {
      "text/plain": [
       "<AxesSubplot:ylabel='Frequency'>"
      ]
     },
     "execution_count": 15,
     "metadata": {},
     "output_type": "execute_result"
    },
    {
     "data": {
      "image/png": "[encoded data removed]",
      "text/plain": [
       "<Figure size 360x216 with 1 Axes>"
      ]
     },
     "metadata": {
      "needs_background": "light"
     },
     "output_type": "display_data"
    }
   ],
   "source": [
    "df.plot(y='Power', kind='hist', bins=100, grid=True, figsize=(5,3), range=(0,500))"
   ]
  },
  {
   "cell_type": "markdown",
   "metadata": {},
   "source": [
    "Мы видим, что много значений с нулевой мощностью и единичные значения с мощностью более 400-т. Заменить мы их ничем не сможем, поэтому избавимся от них."
   ]
  },
  {
   "cell_type": "code",
   "execution_count": 16,
   "metadata": {},
   "outputs": [],
   "source": [
    "df = df.query('0 < Power < 400')"
   ]
  },
  {
   "cell_type": "markdown",
   "metadata": {},
   "source": [
    "Рассмотрим данные в столбце RegistrationYear"
   ]
  },
  {
   "cell_type": "code",
   "execution_count": 17,
   "metadata": {},
   "outputs": [
    {
     "data": {
      "text/plain": [
       "count    305671.000000\n",
       "mean       2003.481472\n",
       "std          29.156012\n",
       "min        1000.000000\n",
       "25%        1999.000000\n",
       "50%        2003.000000\n",
       "75%        2008.000000\n",
       "max        9999.000000\n",
       "Name: RegistrationYear, dtype: float64"
      ]
     },
     "execution_count": 17,
     "metadata": {},
     "output_type": "execute_result"
    }
   ],
   "source": [
    "df['RegistrationYear'].describe()"
   ]
  },
  {
   "cell_type": "markdown",
   "metadata": {},
   "source": [
    "Видим, что данные начинаются с 1000 года по 9999 год. Посмотрим поближе"
   ]
  },
  {
   "cell_type": "code",
   "execution_count": 18,
   "metadata": {},
   "outputs": [
    {
     "data": {
      "text/plain": [
       "<AxesSubplot:ylabel='Frequency'>"
      ]
     },
     "execution_count": 18,
     "metadata": {},
     "output_type": "execute_result"
    },
    {
     "data": {
      "image/png": "[encoded data removed]",
      "text/plain": [
       "<Figure size 360x216 with 1 Axes>"
      ]
     },
     "metadata": {
      "needs_background": "light"
     },
     "output_type": "display_data"
    }
   ],
   "source": [
    "df.plot(y='RegistrationYear', kind='hist', bins=100, grid=True, figsize=(5,3), range=(1000,9999))"
   ]
  },
  {
   "cell_type": "markdown",
   "metadata": {},
   "source": [
    "Концентрация данных по году выпуска сосредоточена около 2000 годов"
   ]
  },
  {
   "cell_type": "code",
   "execution_count": 19,
   "metadata": {},
   "outputs": [
    {
     "data": {
      "text/plain": [
       "<AxesSubplot:ylabel='Frequency'>"
      ]
     },
     "execution_count": 19,
     "metadata": {},
     "output_type": "execute_result"
    },
    {
     "data": {
      "image/png": "[encoded data removed]",
      "text/plain": [
       "<Figure size 360x216 with 1 Axes>"
      ]
     },
     "metadata": {
      "needs_background": "light"
     },
     "output_type": "display_data"
    }
   ],
   "source": [
    "df.plot(y='RegistrationYear', kind='hist', bins=100, grid=True, figsize=(5,3), range=(1960,2017))"
   ]
  },
  {
   "cell_type": "markdown",
   "metadata": {},
   "source": [
    "В данных вне диапазона 1960 -2017 либо ошибки при внесении либо вбросы. Даже, если это не вбросы, масовый сегмент предсказаний мы видим из гистограммы. Избавимся от них"
   ]
  },
  {
   "cell_type": "code",
   "execution_count": 20,
   "metadata": {},
   "outputs": [],
   "source": [
    "df = df.query('1960 < RegistrationYear < 2017')"
   ]
  },
  {
   "cell_type": "markdown",
   "metadata": {},
   "source": [
    "В дальнейшем обучении моделей столбец DateCreated не несет никакой смысловой нагрузки, избавимся от него"
   ]
  },
  {
   "cell_type": "code",
   "execution_count": 21,
   "metadata": {},
   "outputs": [],
   "source": [
    "df = df.drop(['DateCreated'], axis=1)"
   ]
  },
  {
   "cell_type": "markdown",
   "metadata": {},
   "source": [
    "Удалим дубликаты"
   ]
  },
  {
   "cell_type": "code",
   "execution_count": 22,
   "metadata": {},
   "outputs": [],
   "source": [
    "df = df.drop_duplicates().reset_index(drop=True)"
   ]
  },
  {
   "cell_type": "markdown",
   "metadata": {},
   "source": [
    "Посмотрим на полученные данные"
   ]
  },
  {
   "cell_type": "code",
   "execution_count": 23,
   "metadata": {},
   "outputs": [
    {
     "name": "stdout",
     "output_type": "stream",
     "text": [
      "------------- Первые 5 строк ------------\n"
     ]
    },
    {
     "data": {
      "text/html": [
       "<div>\n",
       "<style scoped>\n",
       "    .dataframe tbody tr th:only-of-type {\n",
       "        vertical-align: middle;\n",
       "    }\n",
       "\n",
       "    .dataframe tbody tr th {\n",
       "        vertical-align: top;\n",
       "    }\n",
       "\n",
       "    .dataframe thead th {\n",
       "        text-align: right;\n",
       "    }\n",
       "</style>\n",
       "<table border=\"1\" class=\"dataframe\">\n",
       "  <thead>\n",
       "    <tr style=\"text-align: right;\">\n",
       "      <th></th>\n",
       "      <th>Price</th>\n",
       "      <th>VehicleType</th>\n",
       "      <th>RegistrationYear</th>\n",
       "      <th>Gearbox</th>\n",
       "      <th>Power</th>\n",
       "      <th>Model</th>\n",
       "      <th>Kilometer</th>\n",
       "      <th>RegistrationMonth</th>\n",
       "      <th>FuelType</th>\n",
       "      <th>Brand</th>\n",
       "      <th>NotRepaired</th>\n",
       "    </tr>\n",
       "  </thead>\n",
       "  <tbody>\n",
       "    <tr>\n",
       "      <th>0</th>\n",
       "      <td>18300</td>\n",
       "      <td>coupe</td>\n",
       "      <td>2011</td>\n",
       "      <td>manual</td>\n",
       "      <td>190</td>\n",
       "      <td>unknown</td>\n",
       "      <td>125000</td>\n",
       "      <td>5</td>\n",
       "      <td>gasoline</td>\n",
       "      <td>audi</td>\n",
       "      <td>yes</td>\n",
       "    </tr>\n",
       "    <tr>\n",
       "      <th>1</th>\n",
       "      <td>9800</td>\n",
       "      <td>suv</td>\n",
       "      <td>2004</td>\n",
       "      <td>auto</td>\n",
       "      <td>163</td>\n",
       "      <td>grand</td>\n",
       "      <td>125000</td>\n",
       "      <td>8</td>\n",
       "      <td>gasoline</td>\n",
       "      <td>jeep</td>\n",
       "      <td>unknown</td>\n",
       "    </tr>\n",
       "    <tr>\n",
       "      <th>2</th>\n",
       "      <td>1500</td>\n",
       "      <td>small</td>\n",
       "      <td>2001</td>\n",
       "      <td>manual</td>\n",
       "      <td>75</td>\n",
       "      <td>golf</td>\n",
       "      <td>150000</td>\n",
       "      <td>6</td>\n",
       "      <td>gasoline</td>\n",
       "      <td>volkswagen</td>\n",
       "      <td>no</td>\n",
       "    </tr>\n",
       "    <tr>\n",
       "      <th>3</th>\n",
       "      <td>3600</td>\n",
       "      <td>small</td>\n",
       "      <td>2008</td>\n",
       "      <td>manual</td>\n",
       "      <td>69</td>\n",
       "      <td>fabia</td>\n",
       "      <td>90000</td>\n",
       "      <td>7</td>\n",
       "      <td>gasoline</td>\n",
       "      <td>skoda</td>\n",
       "      <td>no</td>\n",
       "    </tr>\n",
       "    <tr>\n",
       "      <th>4</th>\n",
       "      <td>650</td>\n",
       "      <td>sedan</td>\n",
       "      <td>1995</td>\n",
       "      <td>manual</td>\n",
       "      <td>102</td>\n",
       "      <td>3er</td>\n",
       "      <td>150000</td>\n",
       "      <td>10</td>\n",
       "      <td>gasoline</td>\n",
       "      <td>bmw</td>\n",
       "      <td>yes</td>\n",
       "    </tr>\n",
       "  </tbody>\n",
       "</table>\n",
       "</div>"
      ],
      "text/plain": [
       "   Price VehicleType  RegistrationYear Gearbox  Power    Model  Kilometer  \\\n",
       "0  18300       coupe              2011  manual    190  unknown     125000   \n",
       "1   9800         suv              2004    auto    163    grand     125000   \n",
       "2   1500       small              2001  manual     75     golf     150000   \n",
       "3   3600       small              2008  manual     69    fabia      90000   \n",
       "4    650       sedan              1995  manual    102      3er     150000   \n",
       "\n",
       "   RegistrationMonth  FuelType       Brand NotRepaired  \n",
       "0                  5  gasoline        audi         yes  \n",
       "1                  8  gasoline        jeep     unknown  \n",
       "2                  6  gasoline  volkswagen          no  \n",
       "3                  7  gasoline       skoda          no  \n",
       "4                 10  gasoline         bmw         yes  "
      ]
     },
     "metadata": {},
     "output_type": "display_data"
    },
    {
     "name": "stdout",
     "output_type": "stream",
     "text": [
      "\n",
      "\n",
      "------------- Типы данных ------------\n",
      "<class 'pandas.core.frame.DataFrame'>\n",
      "RangeIndex: 272018 entries, 0 to 272017\n",
      "Data columns (total 11 columns):\n",
      " #   Column             Non-Null Count   Dtype \n",
      "---  ------             --------------   ----- \n",
      " 0   Price              272018 non-null  int64 \n",
      " 1   VehicleType        272018 non-null  object\n",
      " 2   RegistrationYear   272018 non-null  int64 \n",
      " 3   Gearbox            272018 non-null  object\n",
      " 4   Power              272018 non-null  int64 \n",
      " 5   Model              272018 non-null  object\n",
      " 6   Kilometer          272018 non-null  int64 \n",
      " 7   RegistrationMonth  272018 non-null  int64 \n",
      " 8   FuelType           272018 non-null  object\n",
      " 9   Brand              272018 non-null  object\n",
      " 10  NotRepaired        272018 non-null  object\n",
      "dtypes: int64(5), object(6)\n",
      "memory usage: 22.8+ MB\n",
      "None\n",
      "\n",
      "\n",
      "------------- Пропуски ------------\n",
      "Пропусков НЕТ\n",
      "\n",
      "\n",
      "------------- Дубликаты ------------\n",
      "Дубликатов НЕТ\n",
      "\n",
      "\n",
      "\n",
      "\n",
      "\n",
      "\n",
      "\n",
      "\n",
      "\n",
      "\n",
      "\n",
      "------------- Категориальные признаки ------------\n",
      "VehicleType :  9 категории -  ['coupe' 'suv' 'small' 'sedan' 'convertible' 'bus' 'wagon' 'unknown'\n",
      " 'other']\n",
      "Gearbox :  3 категории -  ['manual' 'auto' 'unknown']\n",
      "FuelType :  7 категории -  ['gasoline' 'unknown' 'lpg' 'other' 'hybrid' 'cng' 'electric']\n",
      "NotRepaired :  3 категории -  ['yes' 'unknown' 'no']\n"
     ]
    }
   ],
   "source": [
    "first_look(df)"
   ]
  },
  {
   "cell_type": "markdown",
   "metadata": {},
   "source": [
    "На данном этапе мы ознакомидись с данными, избавились от пустых значений, вбросов и дубликатов"
   ]
  },
  {
   "cell_type": "markdown",
   "metadata": {},
   "source": [
    "<a id=\"step_3\"></a>\n",
    "## Обучение моделей"
   ]
  },
  {
   "cell_type": "markdown",
   "metadata": {},
   "source": [
    "Функция разбиения выборок на обучающую, валидационную и тестовую в соотношении 60:20:20"
   ]
  },
  {
   "cell_type": "code",
   "execution_count": 24,
   "metadata": {},
   "outputs": [],
   "source": [
    "def split(df: pd.DataFrame) -> pd.array:\n",
    "    features_train, features_test, target_train, target_test = train_test_split(\n",
    "        df.drop('Price', axis=1), df.Price, test_size=0.25, random_state=12345\n",
    "    )\n",
    "    return features_train, features_test, target_train, target_test"
   ]
  },
  {
   "cell_type": "markdown",
   "metadata": {},
   "source": [
    "Т.к проверка наших моделей будет осуществляться метрикой RMSE, создадим для нее функцию и определим переменной scorer ссылку на объект с наилучшим результатом"
   ]
  },
  {
   "cell_type": "code",
   "execution_count": 25,
   "metadata": {},
   "outputs": [],
   "source": [
    "def rmse_score(target: pd.array, predictions: pd.array) -> float:\n",
    "    rmse = mean_squared_error(target, predictions)**0.5\n",
    "    return rmse"
   ]
  },
  {
   "cell_type": "code",
   "execution_count": 26,
   "metadata": {},
   "outputs": [],
   "source": [
    "scorer = make_scorer(rmse_score, greater_is_better=False)"
   ]
  },
  {
   "cell_type": "markdown",
   "metadata": {},
   "source": [
    "Функция обучения наших моделей, поиска наилучшей метрики RMSE и подобранных параметров"
   ]
  },
  {
   "cell_type": "code",
   "execution_count": 27,
   "metadata": {},
   "outputs": [],
   "source": [
    "def model_look(model: Any, parameters: list, features_train: pd.array, target_train: pd.array):\n",
    "    model_grid = GridSearchCV(model, parameters, cv=5, scoring=scorer, verbose=5)\n",
    "    model_grid.fit(features_train, target_train)\n",
    "    return model_grid.best_score_, model_grid.best_params_"
   ]
  },
  {
   "cell_type": "code",
   "execution_count": 28,
   "metadata": {},
   "outputs": [
    {
     "data": {
      "text/plain": [
       "sklearn.linear_model._base.LinearRegression"
      ]
     },
     "execution_count": 28,
     "metadata": {},
     "output_type": "execute_result"
    }
   ],
   "source": [
    "type(LinearRegression())"
   ]
  },
  {
   "cell_type": "markdown",
   "metadata": {},
   "source": [
    "Преобразуем категориальные данные методом прямого кодирования для обучения модели линейной регриссии"
   ]
  },
  {
   "cell_type": "code",
   "execution_count": 29,
   "metadata": {},
   "outputs": [
    {
     "data": {
      "text/html": [
       "<div>\n",
       "<style scoped>\n",
       "    .dataframe tbody tr th:only-of-type {\n",
       "        vertical-align: middle;\n",
       "    }\n",
       "\n",
       "    .dataframe tbody tr th {\n",
       "        vertical-align: top;\n",
       "    }\n",
       "\n",
       "    .dataframe thead th {\n",
       "        text-align: right;\n",
       "    }\n",
       "</style>\n",
       "<table border=\"1\" class=\"dataframe\">\n",
       "  <thead>\n",
       "    <tr style=\"text-align: right;\">\n",
       "      <th></th>\n",
       "      <th>Price</th>\n",
       "      <th>RegistrationYear</th>\n",
       "      <th>Power</th>\n",
       "      <th>Kilometer</th>\n",
       "      <th>RegistrationMonth</th>\n",
       "      <th>VehicleType_convertible</th>\n",
       "      <th>VehicleType_coupe</th>\n",
       "      <th>VehicleType_other</th>\n",
       "      <th>VehicleType_sedan</th>\n",
       "      <th>VehicleType_small</th>\n",
       "      <th>...</th>\n",
       "      <th>Brand_smart</th>\n",
       "      <th>Brand_sonstige_autos</th>\n",
       "      <th>Brand_subaru</th>\n",
       "      <th>Brand_suzuki</th>\n",
       "      <th>Brand_toyota</th>\n",
       "      <th>Brand_trabant</th>\n",
       "      <th>Brand_volkswagen</th>\n",
       "      <th>Brand_volvo</th>\n",
       "      <th>NotRepaired_unknown</th>\n",
       "      <th>NotRepaired_yes</th>\n",
       "    </tr>\n",
       "  </thead>\n",
       "  <tbody>\n",
       "    <tr>\n",
       "      <th>0</th>\n",
       "      <td>18300</td>\n",
       "      <td>2011</td>\n",
       "      <td>190</td>\n",
       "      <td>125000</td>\n",
       "      <td>5</td>\n",
       "      <td>False</td>\n",
       "      <td>True</td>\n",
       "      <td>False</td>\n",
       "      <td>False</td>\n",
       "      <td>False</td>\n",
       "      <td>...</td>\n",
       "      <td>False</td>\n",
       "      <td>False</td>\n",
       "      <td>False</td>\n",
       "      <td>False</td>\n",
       "      <td>False</td>\n",
       "      <td>False</td>\n",
       "      <td>False</td>\n",
       "      <td>False</td>\n",
       "      <td>False</td>\n",
       "      <td>True</td>\n",
       "    </tr>\n",
       "    <tr>\n",
       "      <th>1</th>\n",
       "      <td>9800</td>\n",
       "      <td>2004</td>\n",
       "      <td>163</td>\n",
       "      <td>125000</td>\n",
       "      <td>8</td>\n",
       "      <td>False</td>\n",
       "      <td>False</td>\n",
       "      <td>False</td>\n",
       "      <td>False</td>\n",
       "      <td>False</td>\n",
       "      <td>...</td>\n",
       "      <td>False</td>\n",
       "      <td>False</td>\n",
       "      <td>False</td>\n",
       "      <td>False</td>\n",
       "      <td>False</td>\n",
       "      <td>False</td>\n",
       "      <td>False</td>\n",
       "      <td>False</td>\n",
       "      <td>True</td>\n",
       "      <td>False</td>\n",
       "    </tr>\n",
       "    <tr>\n",
       "      <th>2</th>\n",
       "      <td>1500</td>\n",
       "      <td>2001</td>\n",
       "      <td>75</td>\n",
       "      <td>150000</td>\n",
       "      <td>6</td>\n",
       "      <td>False</td>\n",
       "      <td>False</td>\n",
       "      <td>False</td>\n",
       "      <td>False</td>\n",
       "      <td>True</td>\n",
       "      <td>...</td>\n",
       "      <td>False</td>\n",
       "      <td>False</td>\n",
       "      <td>False</td>\n",
       "      <td>False</td>\n",
       "      <td>False</td>\n",
       "      <td>False</td>\n",
       "      <td>True</td>\n",
       "      <td>False</td>\n",
       "      <td>False</td>\n",
       "      <td>False</td>\n",
       "    </tr>\n",
       "    <tr>\n",
       "      <th>3</th>\n",
       "      <td>3600</td>\n",
       "      <td>2008</td>\n",
       "      <td>69</td>\n",
       "      <td>90000</td>\n",
       "      <td>7</td>\n",
       "      <td>False</td>\n",
       "      <td>False</td>\n",
       "      <td>False</td>\n",
       "      <td>False</td>\n",
       "      <td>True</td>\n",
       "      <td>...</td>\n",
       "      <td>False</td>\n",
       "      <td>False</td>\n",
       "      <td>False</td>\n",
       "      <td>False</td>\n",
       "      <td>False</td>\n",
       "      <td>False</td>\n",
       "      <td>False</td>\n",
       "      <td>False</td>\n",
       "      <td>False</td>\n",
       "      <td>False</td>\n",
       "    </tr>\n",
       "    <tr>\n",
       "      <th>4</th>\n",
       "      <td>650</td>\n",
       "      <td>1995</td>\n",
       "      <td>102</td>\n",
       "      <td>150000</td>\n",
       "      <td>10</td>\n",
       "      <td>False</td>\n",
       "      <td>False</td>\n",
       "      <td>False</td>\n",
       "      <td>True</td>\n",
       "      <td>False</td>\n",
       "      <td>...</td>\n",
       "      <td>False</td>\n",
       "      <td>False</td>\n",
       "      <td>False</td>\n",
       "      <td>False</td>\n",
       "      <td>False</td>\n",
       "      <td>False</td>\n",
       "      <td>False</td>\n",
       "      <td>False</td>\n",
       "      <td>False</td>\n",
       "      <td>True</td>\n",
       "    </tr>\n",
       "  </tbody>\n",
       "</table>\n",
       "<p>5 rows × 311 columns</p>\n",
       "</div>"
      ],
      "text/plain": [
       "   Price  RegistrationYear  Power  Kilometer  RegistrationMonth  \\\n",
       "0  18300              2011    190     125000                  5   \n",
       "1   9800              2004    163     125000                  8   \n",
       "2   1500              2001     75     150000                  6   \n",
       "3   3600              2008     69      90000                  7   \n",
       "4    650              1995    102     150000                 10   \n",
       "\n",
       "   VehicleType_convertible  VehicleType_coupe  VehicleType_other  \\\n",
       "0                    False               True              False   \n",
       "1                    False              False              False   \n",
       "2                    False              False              False   \n",
       "3                    False              False              False   \n",
       "4                    False              False              False   \n",
       "\n",
       "   VehicleType_sedan  VehicleType_small  ...  Brand_smart  \\\n",
       "0              False              False  ...        False   \n",
       "1              False              False  ...        False   \n",
       "2              False               True  ...        False   \n",
       "3              False               True  ...        False   \n",
       "4               True              False  ...        False   \n",
       "\n",
       "   Brand_sonstige_autos  Brand_subaru  Brand_suzuki  Brand_toyota  \\\n",
       "0                 False         False         False         False   \n",
       "1                 False         False         False         False   \n",
       "2                 False         False         False         False   \n",
       "3                 False         False         False         False   \n",
       "4                 False         False         False         False   \n",
       "\n",
       "   Brand_trabant  Brand_volkswagen  Brand_volvo  NotRepaired_unknown  \\\n",
       "0          False             False        False                False   \n",
       "1          False             False        False                 True   \n",
       "2          False              True        False                False   \n",
       "3          False             False        False                False   \n",
       "4          False             False        False                False   \n",
       "\n",
       "   NotRepaired_yes  \n",
       "0             True  \n",
       "1            False  \n",
       "2            False  \n",
       "3            False  \n",
       "4             True  \n",
       "\n",
       "[5 rows x 311 columns]"
      ]
     },
     "execution_count": 29,
     "metadata": {},
     "output_type": "execute_result"
    }
   ],
   "source": [
    "df_ohe = df.copy\n",
    "df_ohe = pd.get_dummies(df, drop_first=True)\n",
    "df_ohe.head()"
   ]
  },
  {
   "cell_type": "code",
   "execution_count": 30,
   "metadata": {},
   "outputs": [],
   "source": [
    "features_train_lr, features_test_lr, target_train_lr, target_test_lr = split(df_ohe)"
   ]
  },
  {
   "cell_type": "markdown",
   "metadata": {},
   "source": [
    "<a id=\"step_4\"></a>\n",
    "Обучим модель линейной регрессии и узнаем лучшую метрику RMSE и параметры"
   ]
  },
  {
   "cell_type": "code",
   "execution_count": 31,
   "metadata": {
    "scrolled": true
   },
   "outputs": [
    {
     "name": "stdout",
     "output_type": "stream",
     "text": [
      "Fitting 5 folds for each of 4 candidates, totalling 20 fits\n",
      "[CV 1/5] END fit_intercept=True, positive=True;, score=-2963.345 total time=  24.0s\n",
      "[CV 2/5] END fit_intercept=True, positive=True;, score=-2918.498 total time=  23.8s\n",
      "[CV 3/5] END fit_intercept=True, positive=True;, score=-2935.196 total time=  23.9s\n",
      "[CV 4/5] END fit_intercept=True, positive=True;, score=-2918.964 total time=  24.1s\n",
      "[CV 5/5] END fit_intercept=True, positive=True;, score=-2950.308 total time=  25.4s\n",
      "[CV 1/5] END fit_intercept=True, positive=False;, score=-2618.767 total time=  13.8s\n",
      "[CV 2/5] END fit_intercept=True, positive=False;, score=-2578.613 total time=  11.3s\n",
      "[CV 3/5] END fit_intercept=True, positive=False;, score=-2592.473 total time=   8.3s\n",
      "[CV 4/5] END fit_intercept=True, positive=False;, score=-2569.052 total time=   8.6s\n",
      "[CV 5/5] END fit_intercept=True, positive=False;, score=-2597.335 total time=   8.3s\n",
      "[CV 1/5] END fit_intercept=False, positive=True;, score=-3573.889 total time=  22.3s\n",
      "[CV 2/5] END fit_intercept=False, positive=True;, score=-3563.574 total time=  21.9s\n",
      "[CV 3/5] END fit_intercept=False, positive=True;, score=-3554.842 total time=  22.3s\n",
      "[CV 4/5] END fit_intercept=False, positive=True;, score=-3568.581 total time=  22.2s\n",
      "[CV 5/5] END fit_intercept=False, positive=True;, score=-3581.850 total time=  21.9s\n",
      "[CV 1/5] END fit_intercept=False, positive=False;, score=-2926.720 total time=   5.5s\n",
      "[CV 2/5] END fit_intercept=False, positive=False;, score=-2913.522 total time=   7.0s\n",
      "[CV 3/5] END fit_intercept=False, positive=False;, score=-2907.549 total time=   4.0s\n",
      "[CV 4/5] END fit_intercept=False, positive=False;, score=-2909.206 total time=   3.7s\n",
      "[CV 5/5] END fit_intercept=False, positive=False;, score=-2923.367 total time=   7.3s\n"
     ]
    },
    {
     "data": {
      "text/plain": [
       "'Лучшие параметры модели линейной регрессии:'"
      ]
     },
     "metadata": {},
     "output_type": "display_data"
    },
    {
     "data": {
      "text/plain": [
       "{'fit_intercept': True, 'positive': False}"
      ]
     },
     "metadata": {},
     "output_type": "display_data"
    },
    {
     "data": {
      "text/plain": [
       "'Дали RMSE модели:'"
      ]
     },
     "metadata": {},
     "output_type": "display_data"
    },
    {
     "data": {
      "text/plain": [
       "-2591.248126856851"
      ]
     },
     "metadata": {},
     "output_type": "display_data"
    }
   ],
   "source": [
    "parameters = {'fit_intercept':[True,False], 'positive':[True,False]}\n",
    "rmse, best_parameters = model_look(LinearRegression(), parameters, features_train_lr, target_train_lr)\n",
    "display('Лучшие параметры модели линейной регрессии:', best_parameters)\n",
    "display('Дали RMSE модели:', rmse)"
   ]
  },
  {
   "cell_type": "code",
   "execution_count": 32,
   "metadata": {},
   "outputs": [],
   "source": [
    "results = pd.DataFrame(\n",
    "    {\n",
    "        'model':['LinearRegression'],\n",
    "        'best_parameters_train':[best_parameters],\n",
    "        'RMSE_train':[rmse]\n",
    "    }\n",
    ")"
   ]
  },
  {
   "cell_type": "code",
   "execution_count": 33,
   "metadata": {},
   "outputs": [
    {
     "data": {
      "text/html": [
       "<div>\n",
       "<style scoped>\n",
       "    .dataframe tbody tr th:only-of-type {\n",
       "        vertical-align: middle;\n",
       "    }\n",
       "\n",
       "    .dataframe tbody tr th {\n",
       "        vertical-align: top;\n",
       "    }\n",
       "\n",
       "    .dataframe thead th {\n",
       "        text-align: right;\n",
       "    }\n",
       "</style>\n",
       "<table border=\"1\" class=\"dataframe\">\n",
       "  <thead>\n",
       "    <tr style=\"text-align: right;\">\n",
       "      <th></th>\n",
       "      <th>model</th>\n",
       "      <th>best_parameters_train</th>\n",
       "      <th>RMSE_train</th>\n",
       "    </tr>\n",
       "  </thead>\n",
       "  <tbody>\n",
       "    <tr>\n",
       "      <th>0</th>\n",
       "      <td>LinearRegression</td>\n",
       "      <td>{'fit_intercept': True, 'positive': False}</td>\n",
       "      <td>-2591.248127</td>\n",
       "    </tr>\n",
       "  </tbody>\n",
       "</table>\n",
       "</div>"
      ],
      "text/plain": [
       "              model                       best_parameters_train   RMSE_train\n",
       "0  LinearRegression  {'fit_intercept': True, 'positive': False} -2591.248127"
      ]
     },
     "execution_count": 33,
     "metadata": {},
     "output_type": "execute_result"
    }
   ],
   "source": [
    "results"
   ]
  },
  {
   "cell_type": "markdown",
   "metadata": {},
   "source": [
    "<a id=\"step_5\"></a>\n",
    "Проверим работу модели предсказаний на моделе дерева решений. Т.к. для деревянных моделей подходит больше кодирование признаков порядковым кодированием, подготовим дланные"
   ]
  },
  {
   "cell_type": "code",
   "execution_count": 34,
   "metadata": {
    "scrolled": true
   },
   "outputs": [
    {
     "data": {
      "text/html": [
       "<div>\n",
       "<style scoped>\n",
       "    .dataframe tbody tr th:only-of-type {\n",
       "        vertical-align: middle;\n",
       "    }\n",
       "\n",
       "    .dataframe tbody tr th {\n",
       "        vertical-align: top;\n",
       "    }\n",
       "\n",
       "    .dataframe thead th {\n",
       "        text-align: right;\n",
       "    }\n",
       "</style>\n",
       "<table border=\"1\" class=\"dataframe\">\n",
       "  <thead>\n",
       "    <tr style=\"text-align: right;\">\n",
       "      <th></th>\n",
       "      <th>Price</th>\n",
       "      <th>VehicleType</th>\n",
       "      <th>RegistrationYear</th>\n",
       "      <th>Gearbox</th>\n",
       "      <th>Power</th>\n",
       "      <th>Model</th>\n",
       "      <th>Kilometer</th>\n",
       "      <th>RegistrationMonth</th>\n",
       "      <th>FuelType</th>\n",
       "      <th>Brand</th>\n",
       "      <th>NotRepaired</th>\n",
       "    </tr>\n",
       "  </thead>\n",
       "  <tbody>\n",
       "    <tr>\n",
       "      <th>0</th>\n",
       "      <td>18300</td>\n",
       "      <td>2.0</td>\n",
       "      <td>2011</td>\n",
       "      <td>1.0</td>\n",
       "      <td>190</td>\n",
       "      <td>227.0</td>\n",
       "      <td>125000</td>\n",
       "      <td>5</td>\n",
       "      <td>2.0</td>\n",
       "      <td>1.0</td>\n",
       "      <td>2.0</td>\n",
       "    </tr>\n",
       "    <tr>\n",
       "      <th>1</th>\n",
       "      <td>9800</td>\n",
       "      <td>6.0</td>\n",
       "      <td>2004</td>\n",
       "      <td>0.0</td>\n",
       "      <td>163</td>\n",
       "      <td>117.0</td>\n",
       "      <td>125000</td>\n",
       "      <td>8</td>\n",
       "      <td>2.0</td>\n",
       "      <td>14.0</td>\n",
       "      <td>1.0</td>\n",
       "    </tr>\n",
       "    <tr>\n",
       "      <th>2</th>\n",
       "      <td>1500</td>\n",
       "      <td>5.0</td>\n",
       "      <td>2001</td>\n",
       "      <td>1.0</td>\n",
       "      <td>75</td>\n",
       "      <td>116.0</td>\n",
       "      <td>150000</td>\n",
       "      <td>6</td>\n",
       "      <td>2.0</td>\n",
       "      <td>38.0</td>\n",
       "      <td>0.0</td>\n",
       "    </tr>\n",
       "    <tr>\n",
       "      <th>3</th>\n",
       "      <td>3600</td>\n",
       "      <td>5.0</td>\n",
       "      <td>2008</td>\n",
       "      <td>1.0</td>\n",
       "      <td>69</td>\n",
       "      <td>101.0</td>\n",
       "      <td>90000</td>\n",
       "      <td>7</td>\n",
       "      <td>2.0</td>\n",
       "      <td>31.0</td>\n",
       "      <td>0.0</td>\n",
       "    </tr>\n",
       "    <tr>\n",
       "      <th>4</th>\n",
       "      <td>650</td>\n",
       "      <td>4.0</td>\n",
       "      <td>1995</td>\n",
       "      <td>1.0</td>\n",
       "      <td>102</td>\n",
       "      <td>11.0</td>\n",
       "      <td>150000</td>\n",
       "      <td>10</td>\n",
       "      <td>2.0</td>\n",
       "      <td>2.0</td>\n",
       "      <td>2.0</td>\n",
       "    </tr>\n",
       "  </tbody>\n",
       "</table>\n",
       "</div>"
      ],
      "text/plain": [
       "   Price  VehicleType  RegistrationYear  Gearbox  Power  Model  Kilometer  \\\n",
       "0  18300          2.0              2011      1.0    190  227.0     125000   \n",
       "1   9800          6.0              2004      0.0    163  117.0     125000   \n",
       "2   1500          5.0              2001      1.0     75  116.0     150000   \n",
       "3   3600          5.0              2008      1.0     69  101.0      90000   \n",
       "4    650          4.0              1995      1.0    102   11.0     150000   \n",
       "\n",
       "   RegistrationMonth  FuelType  Brand  NotRepaired  \n",
       "0                  5       2.0    1.0          2.0  \n",
       "1                  8       2.0   14.0          1.0  \n",
       "2                  6       2.0   38.0          0.0  \n",
       "3                  7       2.0   31.0          0.0  \n",
       "4                 10       2.0    2.0          2.0  "
      ]
     },
     "execution_count": 34,
     "metadata": {},
     "output_type": "execute_result"
    }
   ],
   "source": [
    "cat_columns = ['VehicleType', 'Gearbox', 'FuelType', 'NotRepaired', 'Brand', 'Model']\n",
    "encoder = OrdinalEncoder()\n",
    "df_ordinal = df.copy()\n",
    "df_ordinal[cat_columns] = encoder.fit_transform(df_ordinal[cat_columns])\n",
    "df_ordinal.head()"
   ]
  },
  {
   "cell_type": "code",
   "execution_count": 35,
   "metadata": {},
   "outputs": [],
   "source": [
    "features_train_tree, features_test_tree, target_train_tree, target_test_tree\\\n",
    "    = split(df_ordinal)"
   ]
  },
  {
   "cell_type": "code",
   "execution_count": 36,
   "metadata": {
    "scrolled": true
   },
   "outputs": [
    {
     "name": "stdout",
     "output_type": "stream",
     "text": [
      "Fitting 5 folds for each of 9 candidates, totalling 45 fits\n",
      "[CV 1/5] END max_depth=18, min_samples_split=44;, score=-1833.482 total time=   0.4s\n",
      "[CV 2/5] END max_depth=18, min_samples_split=44;, score=-1827.855 total time=   0.6s\n",
      "[CV 3/5] END max_depth=18, min_samples_split=44;, score=-1840.526 total time=   0.6s\n",
      "[CV 4/5] END max_depth=18, min_samples_split=44;, score=-1801.166 total time=   0.4s\n",
      "[CV 5/5] END max_depth=18, min_samples_split=44;, score=-1803.803 total time=   0.4s\n",
      "[CV 1/5] END max_depth=18, min_samples_split=45;, score=-1835.200 total time=   0.4s\n",
      "[CV 2/5] END max_depth=18, min_samples_split=45;, score=-1826.168 total time=   0.4s\n",
      "[CV 3/5] END max_depth=18, min_samples_split=45;, score=-1834.865 total time=   0.5s\n",
      "[CV 4/5] END max_depth=18, min_samples_split=45;, score=-1800.279 total time=   0.5s\n",
      "[CV 5/5] END max_depth=18, min_samples_split=45;, score=-1800.255 total time=   0.6s\n",
      "[CV 1/5] END max_depth=18, min_samples_split=46;, score=-1833.779 total time=   0.6s\n",
      "[CV 2/5] END max_depth=18, min_samples_split=46;, score=-1827.233 total time=   0.4s\n",
      "[CV 3/5] END max_depth=18, min_samples_split=46;, score=-1835.065 total time=   0.5s\n",
      "[CV 4/5] END max_depth=18, min_samples_split=46;, score=-1802.599 total time=   0.5s\n",
      "[CV 5/5] END max_depth=18, min_samples_split=46;, score=-1800.086 total time=   0.4s\n",
      "[CV 1/5] END max_depth=19, min_samples_split=44;, score=-1833.330 total time=   0.5s\n",
      "[CV 2/5] END max_depth=19, min_samples_split=44;, score=-1826.782 total time=   0.4s\n",
      "[CV 3/5] END max_depth=19, min_samples_split=44;, score=-1838.625 total time=   0.5s\n",
      "[CV 4/5] END max_depth=19, min_samples_split=44;, score=-1800.201 total time=   0.4s\n",
      "[CV 5/5] END max_depth=19, min_samples_split=44;, score=-1801.126 total time=   0.5s\n",
      "[CV 1/5] END max_depth=19, min_samples_split=45;, score=-1830.877 total time=   0.4s\n",
      "[CV 2/5] END max_depth=19, min_samples_split=45;, score=-1826.293 total time=   0.5s\n",
      "[CV 3/5] END max_depth=19, min_samples_split=45;, score=-1835.134 total time=   0.7s\n",
      "[CV 4/5] END max_depth=19, min_samples_split=45;, score=-1799.830 total time=   0.5s\n",
      "[CV 5/5] END max_depth=19, min_samples_split=45;, score=-1802.697 total time=   0.6s\n",
      "[CV 1/5] END max_depth=19, min_samples_split=46;, score=-1831.451 total time=   0.5s\n",
      "[CV 2/5] END max_depth=19, min_samples_split=46;, score=-1826.004 total time=   0.4s\n",
      "[CV 3/5] END max_depth=19, min_samples_split=46;, score=-1833.503 total time=   0.4s\n",
      "[CV 4/5] END max_depth=19, min_samples_split=46;, score=-1802.056 total time=   0.5s\n",
      "[CV 5/5] END max_depth=19, min_samples_split=46;, score=-1802.507 total time=   0.4s\n",
      "[CV 1/5] END max_depth=20, min_samples_split=44;, score=-1833.145 total time=   0.5s\n",
      "[CV 2/5] END max_depth=20, min_samples_split=44;, score=-1828.162 total time=   0.6s\n",
      "[CV 3/5] END max_depth=20, min_samples_split=44;, score=-1839.992 total time=   0.6s\n",
      "[CV 4/5] END max_depth=20, min_samples_split=44;, score=-1801.841 total time=   0.5s\n",
      "[CV 5/5] END max_depth=20, min_samples_split=44;, score=-1800.815 total time=   0.6s\n",
      "[CV 1/5] END max_depth=20, min_samples_split=45;, score=-1833.134 total time=   0.5s\n",
      "[CV 2/5] END max_depth=20, min_samples_split=45;, score=-1825.949 total time=   0.5s\n",
      "[CV 3/5] END max_depth=20, min_samples_split=45;, score=-1835.725 total time=   0.6s\n",
      "[CV 4/5] END max_depth=20, min_samples_split=45;, score=-1800.349 total time=   0.5s\n",
      "[CV 5/5] END max_depth=20, min_samples_split=45;, score=-1802.039 total time=   0.5s\n",
      "[CV 1/5] END max_depth=20, min_samples_split=46;, score=-1831.684 total time=   0.5s\n",
      "[CV 2/5] END max_depth=20, min_samples_split=46;, score=-1828.167 total time=   0.5s\n",
      "[CV 3/5] END max_depth=20, min_samples_split=46;, score=-1834.159 total time=   0.5s\n",
      "[CV 4/5] END max_depth=20, min_samples_split=46;, score=-1803.838 total time=   0.5s\n",
      "[CV 5/5] END max_depth=20, min_samples_split=46;, score=-1799.353 total time=   0.5s\n"
     ]
    },
    {
     "data": {
      "text/plain": [
       "'Лучшие параметры модели дерева решений:'"
      ]
     },
     "metadata": {},
     "output_type": "display_data"
    },
    {
     "data": {
      "text/plain": [
       "{'max_depth': 19, 'min_samples_split': 45}"
      ]
     },
     "metadata": {},
     "output_type": "display_data"
    },
    {
     "data": {
      "text/plain": [
       "'Дали RMSE модели:'"
      ]
     },
     "metadata": {},
     "output_type": "display_data"
    },
    {
     "data": {
      "text/plain": [
       "-1818.96606439004"
      ]
     },
     "metadata": {},
     "output_type": "display_data"
    }
   ],
   "source": [
    "parameters = {'max_depth': range(18,21), 'min_samples_split': range(44,47)}\n",
    "rmse, best_parameters = model_look(DecisionTreeRegressor(random_state=12345),\\\n",
    "                                    parameters, features_train_tree, target_train_tree)\n",
    "display('Лучшие параметры модели дерева решений:', best_parameters)\n",
    "display('Дали RMSE модели:', rmse)"
   ]
  },
  {
   "cell_type": "code",
   "execution_count": 37,
   "metadata": {
    "scrolled": true
   },
   "outputs": [
    {
     "data": {
      "text/html": [
       "<div>\n",
       "<style scoped>\n",
       "    .dataframe tbody tr th:only-of-type {\n",
       "        vertical-align: middle;\n",
       "    }\n",
       "\n",
       "    .dataframe tbody tr th {\n",
       "        vertical-align: top;\n",
       "    }\n",
       "\n",
       "    .dataframe thead th {\n",
       "        text-align: right;\n",
       "    }\n",
       "</style>\n",
       "<table border=\"1\" class=\"dataframe\">\n",
       "  <thead>\n",
       "    <tr style=\"text-align: right;\">\n",
       "      <th></th>\n",
       "      <th>model</th>\n",
       "      <th>best_parameters_train</th>\n",
       "      <th>RMSE_train</th>\n",
       "    </tr>\n",
       "  </thead>\n",
       "  <tbody>\n",
       "    <tr>\n",
       "      <th>0</th>\n",
       "      <td>LinearRegression</td>\n",
       "      <td>{'fit_intercept': True, 'positive': False}</td>\n",
       "      <td>-2591.248127</td>\n",
       "    </tr>\n",
       "    <tr>\n",
       "      <th>1</th>\n",
       "      <td>DecisionTreeRegressor</td>\n",
       "      <td>{'max_depth': 19, 'min_samples_split': 45}</td>\n",
       "      <td>-1818.966064</td>\n",
       "    </tr>\n",
       "  </tbody>\n",
       "</table>\n",
       "</div>"
      ],
      "text/plain": [
       "                   model                       best_parameters_train  \\\n",
       "0       LinearRegression  {'fit_intercept': True, 'positive': False}   \n",
       "1  DecisionTreeRegressor  {'max_depth': 19, 'min_samples_split': 45}   \n",
       "\n",
       "    RMSE_train  \n",
       "0 -2591.248127  \n",
       "1 -1818.966064  "
      ]
     },
     "execution_count": 37,
     "metadata": {},
     "output_type": "execute_result"
    }
   ],
   "source": [
    "results = pd.concat(\n",
    "    [\n",
    "        results, pd.DataFrame({\n",
    "        'model':'DecisionTreeRegressor',\n",
    "        'best_parameters_train':[best_parameters],\n",
    "        'RMSE_train':rmse\n",
    "    })\n",
    "    ], ignore_index=True\n",
    ")\n",
    "results"
   ]
  },
  {
   "cell_type": "markdown",
   "metadata": {},
   "source": [
    "<a id=\"step_6\"></a>\n",
    "Проверим работу модели предсказаний на моделе случайного леса"
   ]
  },
  {
   "cell_type": "code",
   "execution_count": 38,
   "metadata": {
    "scrolled": true
   },
   "outputs": [
    {
     "name": "stdout",
     "output_type": "stream",
     "text": [
      "Fitting 5 folds for each of 9 candidates, totalling 45 fits\n",
      "[CV 1/5] END max_depth=17, n_estimators=143;, score=-1651.975 total time=  52.5s\n",
      "[CV 2/5] END max_depth=17, n_estimators=143;, score=-1641.628 total time=  52.9s\n",
      "[CV 3/5] END max_depth=17, n_estimators=143;, score=-1634.740 total time=  54.4s\n",
      "[CV 4/5] END max_depth=17, n_estimators=143;, score=-1622.702 total time=  49.2s\n",
      "[CV 5/5] END max_depth=17, n_estimators=143;, score=-1620.016 total time=  49.6s\n",
      "[CV 1/5] END max_depth=17, n_estimators=144;, score=-1651.987 total time=  48.9s\n",
      "[CV 2/5] END max_depth=17, n_estimators=144;, score=-1641.576 total time=  49.1s\n",
      "[CV 3/5] END max_depth=17, n_estimators=144;, score=-1634.739 total time=  49.3s\n",
      "[CV 4/5] END max_depth=17, n_estimators=144;, score=-1622.649 total time=  49.5s\n",
      "[CV 5/5] END max_depth=17, n_estimators=144;, score=-1619.994 total time=  49.2s\n",
      "[CV 1/5] END max_depth=17, n_estimators=145;, score=-1652.149 total time=  48.9s\n",
      "[CV 2/5] END max_depth=17, n_estimators=145;, score=-1641.626 total time=  48.9s\n",
      "[CV 3/5] END max_depth=17, n_estimators=145;, score=-1634.749 total time=  48.8s\n",
      "[CV 4/5] END max_depth=17, n_estimators=145;, score=-1622.576 total time=  49.0s\n",
      "[CV 5/5] END max_depth=17, n_estimators=145;, score=-1619.963 total time=  49.2s\n",
      "[CV 1/5] END max_depth=18, n_estimators=143;, score=-1650.650 total time=  54.7s\n",
      "[CV 2/5] END max_depth=18, n_estimators=143;, score=-1639.834 total time=  50.7s\n",
      "[CV 3/5] END max_depth=18, n_estimators=143;, score=-1632.502 total time=  50.5s\n",
      "[CV 4/5] END max_depth=18, n_estimators=143;, score=-1619.701 total time=  50.7s\n",
      "[CV 5/5] END max_depth=18, n_estimators=143;, score=-1617.617 total time=  50.6s\n",
      "[CV 1/5] END max_depth=18, n_estimators=144;, score=-1650.668 total time=  50.9s\n",
      "[CV 2/5] END max_depth=18, n_estimators=144;, score=-1639.787 total time=  50.9s\n",
      "[CV 3/5] END max_depth=18, n_estimators=144;, score=-1632.521 total time=  50.8s\n",
      "[CV 4/5] END max_depth=18, n_estimators=144;, score=-1619.621 total time=  50.9s\n",
      "[CV 5/5] END max_depth=18, n_estimators=144;, score=-1617.552 total time=  51.0s\n",
      "[CV 1/5] END max_depth=18, n_estimators=145;, score=-1650.865 total time=  51.1s\n",
      "[CV 2/5] END max_depth=18, n_estimators=145;, score=-1639.890 total time=  51.2s\n",
      "[CV 3/5] END max_depth=18, n_estimators=145;, score=-1632.447 total time=  51.2s\n",
      "[CV 4/5] END max_depth=18, n_estimators=145;, score=-1619.620 total time=  51.2s\n",
      "[CV 5/5] END max_depth=18, n_estimators=145;, score=-1617.462 total time=  51.2s\n",
      "[CV 1/5] END max_depth=19, n_estimators=143;, score=-1649.806 total time=  53.5s\n",
      "[CV 2/5] END max_depth=19, n_estimators=143;, score=-1639.219 total time=  53.6s\n",
      "[CV 3/5] END max_depth=19, n_estimators=143;, score=-1633.329 total time=  53.5s\n",
      "[CV 4/5] END max_depth=19, n_estimators=143;, score=-1621.429 total time=  54.0s\n",
      "[CV 5/5] END max_depth=19, n_estimators=143;, score=-1619.078 total time=  55.3s\n",
      "[CV 1/5] END max_depth=19, n_estimators=144;, score=-1649.701 total time=  55.3s\n",
      "[CV 2/5] END max_depth=19, n_estimators=144;, score=-1639.095 total time=  55.0s\n",
      "[CV 3/5] END max_depth=19, n_estimators=144;, score=-1633.340 total time=  54.6s\n",
      "[CV 4/5] END max_depth=19, n_estimators=144;, score=-1621.334 total time=  55.7s\n",
      "[CV 5/5] END max_depth=19, n_estimators=144;, score=-1619.052 total time=  55.1s\n",
      "[CV 1/5] END max_depth=19, n_estimators=145;, score=-1649.935 total time=  55.0s\n",
      "[CV 2/5] END max_depth=19, n_estimators=145;, score=-1639.027 total time=  55.2s\n",
      "[CV 3/5] END max_depth=19, n_estimators=145;, score=-1633.274 total time=  55.2s\n",
      "[CV 4/5] END max_depth=19, n_estimators=145;, score=-1621.306 total time=  55.7s\n",
      "[CV 5/5] END max_depth=19, n_estimators=145;, score=-1619.028 total time=  55.2s\n"
     ]
    },
    {
     "data": {
      "text/plain": [
       "'Лучшие параметры модели случайного леса:'"
      ]
     },
     "metadata": {},
     "output_type": "display_data"
    },
    {
     "data": {
      "text/plain": [
       "{'max_depth': 18, 'n_estimators': 144}"
      ]
     },
     "metadata": {},
     "output_type": "display_data"
    },
    {
     "data": {
      "text/plain": [
       "'Дали RMSE модели:'"
      ]
     },
     "metadata": {},
     "output_type": "display_data"
    },
    {
     "data": {
      "text/plain": [
       "-1632.0294017113279"
      ]
     },
     "metadata": {},
     "output_type": "display_data"
    }
   ],
   "source": [
    "parameters = {'n_estimators': range(143, 146, 1), 'max_depth': range(17,20, 1)}\n",
    "rmse, best_parameters = model_look(RandomForestRegressor(random_state=12345), \\\n",
    "                                    parameters, features_train_tree, target_train_tree)\n",
    "display('Лучшие параметры модели случайного леса:', best_parameters)\n",
    "display('Дали RMSE модели:', rmse)"
   ]
  },
  {
   "cell_type": "code",
   "execution_count": 39,
   "metadata": {},
   "outputs": [
    {
     "data": {
      "text/html": [
       "<div>\n",
       "<style scoped>\n",
       "    .dataframe tbody tr th:only-of-type {\n",
       "        vertical-align: middle;\n",
       "    }\n",
       "\n",
       "    .dataframe tbody tr th {\n",
       "        vertical-align: top;\n",
       "    }\n",
       "\n",
       "    .dataframe thead th {\n",
       "        text-align: right;\n",
       "    }\n",
       "</style>\n",
       "<table border=\"1\" class=\"dataframe\">\n",
       "  <thead>\n",
       "    <tr style=\"text-align: right;\">\n",
       "      <th></th>\n",
       "      <th>model</th>\n",
       "      <th>best_parameters_train</th>\n",
       "      <th>RMSE_train</th>\n",
       "    </tr>\n",
       "  </thead>\n",
       "  <tbody>\n",
       "    <tr>\n",
       "      <th>0</th>\n",
       "      <td>LinearRegression</td>\n",
       "      <td>{'fit_intercept': True, 'positive': False}</td>\n",
       "      <td>-2591.248127</td>\n",
       "    </tr>\n",
       "    <tr>\n",
       "      <th>1</th>\n",
       "      <td>DecisionTreeRegressor</td>\n",
       "      <td>{'max_depth': 19, 'min_samples_split': 45}</td>\n",
       "      <td>-1818.966064</td>\n",
       "    </tr>\n",
       "    <tr>\n",
       "      <th>2</th>\n",
       "      <td>RandomForestRegressor</td>\n",
       "      <td>{'max_depth': 18, 'n_estimators': 144}</td>\n",
       "      <td>-1632.029402</td>\n",
       "    </tr>\n",
       "  </tbody>\n",
       "</table>\n",
       "</div>"
      ],
      "text/plain": [
       "                   model                       best_parameters_train  \\\n",
       "0       LinearRegression  {'fit_intercept': True, 'positive': False}   \n",
       "1  DecisionTreeRegressor  {'max_depth': 19, 'min_samples_split': 45}   \n",
       "2  RandomForestRegressor      {'max_depth': 18, 'n_estimators': 144}   \n",
       "\n",
       "    RMSE_train  \n",
       "0 -2591.248127  \n",
       "1 -1818.966064  \n",
       "2 -1632.029402  "
      ]
     },
     "execution_count": 39,
     "metadata": {},
     "output_type": "execute_result"
    }
   ],
   "source": [
    "results = pd.concat(\n",
    "    [\n",
    "        results, pd.DataFrame({\n",
    "        'model':'RandomForestRegressor',\n",
    "        'best_parameters_train':[best_parameters],\n",
    "        'RMSE_train':rmse\n",
    "    })\n",
    "    ], ignore_index=True\n",
    ")\n",
    "results"
   ]
  },
  {
   "cell_type": "markdown",
   "metadata": {},
   "source": [
    "<a id=\"step_7\"></a>\n",
    "Проверим работу модели предсказаний на моделе CatBoostRegressor. Для этого переведем значения категориальных столбцов в тип 'category'"
   ]
  },
  {
   "cell_type": "code",
   "execution_count": 40,
   "metadata": {},
   "outputs": [
    {
     "name": "stdout",
     "output_type": "stream",
     "text": [
      "<class 'pandas.core.frame.DataFrame'>\n",
      "RangeIndex: 272018 entries, 0 to 272017\n",
      "Data columns (total 11 columns):\n",
      " #   Column             Non-Null Count   Dtype   \n",
      "---  ------             --------------   -----   \n",
      " 0   Price              272018 non-null  int64   \n",
      " 1   VehicleType        272018 non-null  category\n",
      " 2   RegistrationYear   272018 non-null  int64   \n",
      " 3   Gearbox            272018 non-null  category\n",
      " 4   Power              272018 non-null  int64   \n",
      " 5   Model              272018 non-null  category\n",
      " 6   Kilometer          272018 non-null  int64   \n",
      " 7   RegistrationMonth  272018 non-null  int64   \n",
      " 8   FuelType           272018 non-null  category\n",
      " 9   Brand              272018 non-null  category\n",
      " 10  NotRepaired        272018 non-null  category\n",
      "dtypes: category(6), int64(5)\n",
      "memory usage: 12.2 MB\n"
     ]
    }
   ],
   "source": [
    "df_catboost = df.copy()\n",
    "for columns in cat_columns:\n",
    "    df_catboost[columns] = df_catboost[columns].astype('category')\n",
    "df_catboost.info()"
   ]
  },
  {
   "cell_type": "code",
   "execution_count": 41,
   "metadata": {},
   "outputs": [],
   "source": [
    "features_train, features_test, target_train, target_test = split(df_catboost)"
   ]
  },
  {
   "cell_type": "code",
   "execution_count": 42,
   "metadata": {
    "scrolled": true
   },
   "outputs": [
    {
     "name": "stdout",
     "output_type": "stream",
     "text": [
      "Fitting 5 folds for each of 12 candidates, totalling 60 fits\n",
      "[CV 1/5] END .......depth=5, iterations=900;, score=-1595.534 total time=  19.9s\n",
      "[CV 2/5] END .......depth=5, iterations=900;, score=-1601.799 total time=  19.8s\n",
      "[CV 3/5] END .......depth=5, iterations=900;, score=-1579.956 total time=  19.8s\n",
      "[CV 4/5] END .......depth=5, iterations=900;, score=-1588.779 total time=  19.8s\n",
      "[CV 5/5] END .......depth=5, iterations=900;, score=-1575.694 total time=  19.2s\n",
      "[CV 1/5] END ......depth=5, iterations=1000;, score=-1592.457 total time=  21.7s\n",
      "[CV 2/5] END ......depth=5, iterations=1000;, score=-1599.585 total time=  21.9s\n",
      "[CV 3/5] END ......depth=5, iterations=1000;, score=-1579.317 total time=  21.8s\n",
      "[CV 4/5] END ......depth=5, iterations=1000;, score=-1586.758 total time=  21.9s\n",
      "[CV 5/5] END ......depth=5, iterations=1000;, score=-1574.541 total time=  21.8s\n",
      "[CV 1/5] END ......depth=5, iterations=1100;, score=-1588.355 total time=  24.0s\n",
      "[CV 2/5] END ......depth=5, iterations=1100;, score=-1598.537 total time=  24.3s\n",
      "[CV 3/5] END ......depth=5, iterations=1100;, score=-1577.992 total time=  24.1s\n",
      "[CV 4/5] END ......depth=5, iterations=1100;, score=-1585.928 total time=  24.2s\n",
      "[CV 5/5] END ......depth=5, iterations=1100;, score=-1573.398 total time=  24.1s\n",
      "[CV 1/5] END .......depth=6, iterations=900;, score=-1589.008 total time=  23.9s\n",
      "[CV 2/5] END .......depth=6, iterations=900;, score=-1588.890 total time=  24.1s\n",
      "[CV 3/5] END .......depth=6, iterations=900;, score=-1583.640 total time=  24.1s\n",
      "[CV 4/5] END .......depth=6, iterations=900;, score=-1580.241 total time=  24.1s\n",
      "[CV 5/5] END .......depth=6, iterations=900;, score=-1570.802 total time=  23.9s\n",
      "[CV 1/5] END ......depth=6, iterations=1000;, score=-1589.855 total time=  26.0s\n",
      "[CV 2/5] END ......depth=6, iterations=1000;, score=-1588.512 total time=  26.6s\n",
      "[CV 3/5] END ......depth=6, iterations=1000;, score=-1583.351 total time=  26.8s\n",
      "[CV 4/5] END ......depth=6, iterations=1000;, score=-1579.190 total time=  26.8s\n",
      "[CV 5/5] END ......depth=6, iterations=1000;, score=-1569.803 total time=  26.6s\n",
      "[CV 1/5] END ......depth=6, iterations=1100;, score=-1589.135 total time=  29.1s\n",
      "[CV 2/5] END ......depth=6, iterations=1100;, score=-1588.046 total time=  29.4s\n",
      "[CV 3/5] END ......depth=6, iterations=1100;, score=-1582.353 total time=  29.1s\n",
      "[CV 4/5] END ......depth=6, iterations=1100;, score=-1578.927 total time=  29.5s\n",
      "[CV 5/5] END ......depth=6, iterations=1100;, score=-1570.028 total time=  29.5s\n",
      "[CV 1/5] END .......depth=7, iterations=900;, score=-1587.309 total time=  28.7s\n",
      "[CV 2/5] END .......depth=7, iterations=900;, score=-1591.780 total time=  28.7s\n",
      "[CV 3/5] END .......depth=7, iterations=900;, score=-1575.052 total time=  28.7s\n",
      "[CV 4/5] END .......depth=7, iterations=900;, score=-1579.418 total time=  28.5s\n",
      "[CV 5/5] END .......depth=7, iterations=900;, score=-1572.836 total time=  28.6s\n",
      "[CV 1/5] END ......depth=7, iterations=1000;, score=-1587.409 total time=  31.8s\n",
      "[CV 2/5] END ......depth=7, iterations=1000;, score=-1590.167 total time=  31.8s\n",
      "[CV 3/5] END ......depth=7, iterations=1000;, score=-1573.300 total time=  31.8s\n",
      "[CV 4/5] END ......depth=7, iterations=1000;, score=-1579.005 total time=  31.6s\n",
      "[CV 5/5] END ......depth=7, iterations=1000;, score=-1573.597 total time=  31.9s\n",
      "[CV 1/5] END ......depth=7, iterations=1100;, score=-1586.924 total time=  34.7s\n",
      "[CV 2/5] END ......depth=7, iterations=1100;, score=-1590.702 total time=  34.7s\n",
      "[CV 3/5] END ......depth=7, iterations=1100;, score=-1572.922 total time=  35.0s\n",
      "[CV 4/5] END ......depth=7, iterations=1100;, score=-1579.538 total time=  34.9s\n",
      "[CV 5/5] END ......depth=7, iterations=1100;, score=-1574.250 total time=  35.1s\n",
      "[CV 1/5] END .......depth=8, iterations=900;, score=-1588.988 total time=  33.4s\n",
      "[CV 2/5] END .......depth=8, iterations=900;, score=-1596.614 total time=  33.3s\n",
      "[CV 3/5] END .......depth=8, iterations=900;, score=-1581.373 total time=  33.5s\n",
      "[CV 4/5] END .......depth=8, iterations=900;, score=-1584.466 total time=  33.6s\n",
      "[CV 5/5] END .......depth=8, iterations=900;, score=-1588.888 total time=  33.7s\n",
      "[CV 1/5] END ......depth=8, iterations=1000;, score=-1590.773 total time=  37.0s\n",
      "[CV 2/5] END ......depth=8, iterations=1000;, score=-1597.133 total time=  37.0s\n",
      "[CV 3/5] END ......depth=8, iterations=1000;, score=-1582.844 total time=  37.4s\n",
      "[CV 4/5] END ......depth=8, iterations=1000;, score=-1585.179 total time=  37.4s\n",
      "[CV 5/5] END ......depth=8, iterations=1000;, score=-1590.260 total time=  37.5s\n",
      "[CV 1/5] END ......depth=8, iterations=1100;, score=-1591.113 total time=  41.6s\n",
      "[CV 2/5] END ......depth=8, iterations=1100;, score=-1599.019 total time=  41.5s\n",
      "[CV 3/5] END ......depth=8, iterations=1100;, score=-1585.098 total time=  41.4s\n",
      "[CV 4/5] END ......depth=8, iterations=1100;, score=-1585.675 total time=  41.3s\n",
      "[CV 5/5] END ......depth=8, iterations=1100;, score=-1591.991 total time=  42.0s\n"
     ]
    },
    {
     "data": {
      "text/plain": [
       "'Лучшие параметры модели CatBoostRegressor:'"
      ]
     },
     "metadata": {},
     "output_type": "display_data"
    },
    {
     "data": {
      "text/plain": [
       "{'depth': 7, 'iterations': 1000}"
      ]
     },
     "metadata": {},
     "output_type": "display_data"
    },
    {
     "data": {
      "text/plain": [
       "'Дали RMSE модели:'"
      ]
     },
     "metadata": {},
     "output_type": "display_data"
    },
    {
     "data": {
      "text/plain": [
       "-1580.6954819236585"
      ]
     },
     "metadata": {},
     "output_type": "display_data"
    }
   ],
   "source": [
    "parameters = {'depth': range(5, 9, 1), 'iterations': range(900, 1200, 100)}\n",
    "rmse, best_parameters = model_look(\n",
    "    CatBoostRegressor(\n",
    "        cat_features=cat_columns,\n",
    "        loss_function=\"RMSE\",\n",
    "        learning_rate=0.5,\n",
    "        logging_level='Silent'),\n",
    "    parameters, features_train, target_train\n",
    ")\n",
    "display('Лучшие параметры модели CatBoostRegressor:', best_parameters)\n",
    "display('Дали RMSE модели:', rmse)"
   ]
  },
  {
   "cell_type": "code",
   "execution_count": 43,
   "metadata": {},
   "outputs": [
    {
     "data": {
      "text/html": [
       "<div>\n",
       "<style scoped>\n",
       "    .dataframe tbody tr th:only-of-type {\n",
       "        vertical-align: middle;\n",
       "    }\n",
       "\n",
       "    .dataframe tbody tr th {\n",
       "        vertical-align: top;\n",
       "    }\n",
       "\n",
       "    .dataframe thead th {\n",
       "        text-align: right;\n",
       "    }\n",
       "</style>\n",
       "<table border=\"1\" class=\"dataframe\">\n",
       "  <thead>\n",
       "    <tr style=\"text-align: right;\">\n",
       "      <th></th>\n",
       "      <th>model</th>\n",
       "      <th>best_parameters_train</th>\n",
       "      <th>RMSE_train</th>\n",
       "    </tr>\n",
       "  </thead>\n",
       "  <tbody>\n",
       "    <tr>\n",
       "      <th>0</th>\n",
       "      <td>LinearRegression</td>\n",
       "      <td>{'fit_intercept': True, 'positive': False}</td>\n",
       "      <td>-2591.248127</td>\n",
       "    </tr>\n",
       "    <tr>\n",
       "      <th>1</th>\n",
       "      <td>DecisionTreeRegressor</td>\n",
       "      <td>{'max_depth': 19, 'min_samples_split': 45}</td>\n",
       "      <td>-1818.966064</td>\n",
       "    </tr>\n",
       "    <tr>\n",
       "      <th>2</th>\n",
       "      <td>RandomForestRegressor</td>\n",
       "      <td>{'max_depth': 18, 'n_estimators': 144}</td>\n",
       "      <td>-1632.029402</td>\n",
       "    </tr>\n",
       "    <tr>\n",
       "      <th>3</th>\n",
       "      <td>CatBoostRegressor</td>\n",
       "      <td>{'depth': 7, 'iterations': 1000}</td>\n",
       "      <td>-1580.695482</td>\n",
       "    </tr>\n",
       "  </tbody>\n",
       "</table>\n",
       "</div>"
      ],
      "text/plain": [
       "                   model                       best_parameters_train  \\\n",
       "0       LinearRegression  {'fit_intercept': True, 'positive': False}   \n",
       "1  DecisionTreeRegressor  {'max_depth': 19, 'min_samples_split': 45}   \n",
       "2  RandomForestRegressor      {'max_depth': 18, 'n_estimators': 144}   \n",
       "3      CatBoostRegressor            {'depth': 7, 'iterations': 1000}   \n",
       "\n",
       "    RMSE_train  \n",
       "0 -2591.248127  \n",
       "1 -1818.966064  \n",
       "2 -1632.029402  \n",
       "3 -1580.695482  "
      ]
     },
     "execution_count": 43,
     "metadata": {},
     "output_type": "execute_result"
    }
   ],
   "source": [
    "results = pd.concat(\n",
    "    [\n",
    "        results, pd.DataFrame({\n",
    "        'model':'CatBoostRegressor',\n",
    "        'best_parameters_train':[best_parameters],\n",
    "        'RMSE_train':rmse\n",
    "    })\n",
    "    ], ignore_index=True\n",
    ")\n",
    "results"
   ]
  },
  {
   "cell_type": "markdown",
   "metadata": {},
   "source": [
    "<a id=\"step_8\"></a>\n",
    "Проверим работу модели предсказаний на моделе LGBMRegressor."
   ]
  },
  {
   "cell_type": "code",
   "execution_count": 44,
   "metadata": {
    "scrolled": true
   },
   "outputs": [
    {
     "name": "stdout",
     "output_type": "stream",
     "text": [
      "Fitting 5 folds for each of 3 candidates, totalling 15 fits\n",
      "[CV 1/5] END .............n_estimators=2048;, score=-1538.869 total time=   3.7s\n",
      "[CV 2/5] END .............n_estimators=2048;, score=-1551.773 total time=   3.7s\n",
      "[CV 3/5] END .............n_estimators=2048;, score=-1534.529 total time=   3.7s\n",
      "[CV 4/5] END .............n_estimators=2048;, score=-1530.935 total time=   3.6s\n",
      "[CV 5/5] END .............n_estimators=2048;, score=-1530.603 total time=   4.0s\n",
      "[CV 1/5] END .............n_estimators=2049;, score=-1538.871 total time=   4.3s\n",
      "[CV 2/5] END .............n_estimators=2049;, score=-1551.760 total time=   4.4s\n",
      "[CV 3/5] END .............n_estimators=2049;, score=-1534.510 total time=   4.3s\n",
      "[CV 4/5] END .............n_estimators=2049;, score=-1530.952 total time=   4.2s\n",
      "[CV 5/5] END .............n_estimators=2049;, score=-1530.534 total time=   4.0s\n",
      "[CV 1/5] END .............n_estimators=2050;, score=-1538.863 total time=   4.2s\n",
      "[CV 2/5] END .............n_estimators=2050;, score=-1551.794 total time=   3.9s\n",
      "[CV 3/5] END .............n_estimators=2050;, score=-1534.486 total time=   4.0s\n",
      "[CV 4/5] END .............n_estimators=2050;, score=-1530.981 total time=   3.9s\n",
      "[CV 5/5] END .............n_estimators=2050;, score=-1530.517 total time=   3.9s\n"
     ]
    },
    {
     "data": {
      "text/plain": [
       "'Лучшие параметры модели LGBMRegressor:'"
      ]
     },
     "metadata": {},
     "output_type": "display_data"
    },
    {
     "data": {
      "text/plain": [
       "{'n_estimators': 2049}"
      ]
     },
     "metadata": {},
     "output_type": "display_data"
    },
    {
     "data": {
      "text/plain": [
       "'Дали RMSE модели:'"
      ]
     },
     "metadata": {},
     "output_type": "display_data"
    },
    {
     "data": {
      "text/plain": [
       "-1537.3255005494743"
      ]
     },
     "metadata": {},
     "output_type": "display_data"
    }
   ],
   "source": [
    "parameters = {'n_estimators': range(2048, 2051)}\n",
    "rmse, best_parameters = model_look(\n",
    "    LGBMRegressor(random_state=12345, verbose=-1), parameters, features_train, target_train\n",
    ")\n",
    "display('Лучшие параметры модели LGBMRegressor:', best_parameters)\n",
    "display('Дали RMSE модели:', rmse)"
   ]
  },
  {
   "cell_type": "code",
   "execution_count": 45,
   "metadata": {},
   "outputs": [
    {
     "data": {
      "text/html": [
       "<div>\n",
       "<style scoped>\n",
       "    .dataframe tbody tr th:only-of-type {\n",
       "        vertical-align: middle;\n",
       "    }\n",
       "\n",
       "    .dataframe tbody tr th {\n",
       "        vertical-align: top;\n",
       "    }\n",
       "\n",
       "    .dataframe thead th {\n",
       "        text-align: right;\n",
       "    }\n",
       "</style>\n",
       "<table border=\"1\" class=\"dataframe\">\n",
       "  <thead>\n",
       "    <tr style=\"text-align: right;\">\n",
       "      <th></th>\n",
       "      <th>model</th>\n",
       "      <th>best_parameters_train</th>\n",
       "      <th>RMSE_train</th>\n",
       "    </tr>\n",
       "  </thead>\n",
       "  <tbody>\n",
       "    <tr>\n",
       "      <th>0</th>\n",
       "      <td>LinearRegression</td>\n",
       "      <td>{'fit_intercept': True, 'positive': False}</td>\n",
       "      <td>-2591.248127</td>\n",
       "    </tr>\n",
       "    <tr>\n",
       "      <th>1</th>\n",
       "      <td>DecisionTreeRegressor</td>\n",
       "      <td>{'max_depth': 19, 'min_samples_split': 45}</td>\n",
       "      <td>-1818.966064</td>\n",
       "    </tr>\n",
       "    <tr>\n",
       "      <th>2</th>\n",
       "      <td>RandomForestRegressor</td>\n",
       "      <td>{'max_depth': 18, 'n_estimators': 144}</td>\n",
       "      <td>-1632.029402</td>\n",
       "    </tr>\n",
       "    <tr>\n",
       "      <th>3</th>\n",
       "      <td>CatBoostRegressor</td>\n",
       "      <td>{'depth': 7, 'iterations': 1000}</td>\n",
       "      <td>-1580.695482</td>\n",
       "    </tr>\n",
       "    <tr>\n",
       "      <th>4</th>\n",
       "      <td>LGBMRegressor</td>\n",
       "      <td>{'n_estimators': 2049}</td>\n",
       "      <td>-1537.325501</td>\n",
       "    </tr>\n",
       "  </tbody>\n",
       "</table>\n",
       "</div>"
      ],
      "text/plain": [
       "                   model                       best_parameters_train  \\\n",
       "0       LinearRegression  {'fit_intercept': True, 'positive': False}   \n",
       "1  DecisionTreeRegressor  {'max_depth': 19, 'min_samples_split': 45}   \n",
       "2  RandomForestRegressor      {'max_depth': 18, 'n_estimators': 144}   \n",
       "3      CatBoostRegressor            {'depth': 7, 'iterations': 1000}   \n",
       "4          LGBMRegressor                      {'n_estimators': 2049}   \n",
       "\n",
       "    RMSE_train  \n",
       "0 -2591.248127  \n",
       "1 -1818.966064  \n",
       "2 -1632.029402  \n",
       "3 -1580.695482  \n",
       "4 -1537.325501  "
      ]
     },
     "execution_count": 45,
     "metadata": {},
     "output_type": "execute_result"
    }
   ],
   "source": [
    "results = pd.concat(\n",
    "    [\n",
    "        results, pd.DataFrame({\n",
    "        'model':'LGBMRegressor',\n",
    "        'best_parameters_train':[best_parameters],\n",
    "        'RMSE_train':rmse\n",
    "    })\n",
    "    ], ignore_index=True\n",
    ")\n",
    "results"
   ]
  },
  {
   "cell_type": "markdown",
   "metadata": {},
   "source": [
    "На данном этапе мы выяснили какую метрику выдают модели предсказаний и их лучшие параментры. Необходимо все это проверить на тестовой выборке"
   ]
  },
  {
   "cell_type": "markdown",
   "metadata": {},
   "source": [
    "<a id=\"step_9\"></a>\n",
    "## Анализ моделей"
   ]
  },
  {
   "cell_type": "markdown",
   "metadata": {},
   "source": [
    "Создадим функцию для обучения, хронометража обучения и предсказания моделей"
   ]
  },
  {
   "cell_type": "code",
   "execution_count": 46,
   "metadata": {},
   "outputs": [],
   "source": [
    "def ml_result(model, features_train, target_train, features_test, target_test):\n",
    "        \n",
    "    fit_up = time.time()\n",
    "    model.fit(features_train, target_train)\n",
    "    fit_down = time.time()\n",
    "    \n",
    "    fit_time = fit_down - fit_up\n",
    "    \n",
    "    predict_up = time.time()\n",
    "    predictions = model.predict(features_test)\n",
    "    predict_down = time.time()\n",
    "    \n",
    "    predict_time = predict_down - predict_up\n",
    "    \n",
    "    rmse = mean_squared_error(target_test, predictions)**0.5\n",
    "      \n",
    "    return fit_time, predict_time, rmse"
   ]
  },
  {
   "cell_type": "markdown",
   "metadata": {},
   "source": [
    "Проверим модель линейной регрессии"
   ]
  },
  {
   "cell_type": "code",
   "execution_count": 47,
   "metadata": {},
   "outputs": [
    {
     "data": {
      "text/html": [
       "<div>\n",
       "<style scoped>\n",
       "    .dataframe tbody tr th:only-of-type {\n",
       "        vertical-align: middle;\n",
       "    }\n",
       "\n",
       "    .dataframe tbody tr th {\n",
       "        vertical-align: top;\n",
       "    }\n",
       "\n",
       "    .dataframe thead th {\n",
       "        text-align: right;\n",
       "    }\n",
       "</style>\n",
       "<table border=\"1\" class=\"dataframe\">\n",
       "  <thead>\n",
       "    <tr style=\"text-align: right;\">\n",
       "      <th></th>\n",
       "      <th>model</th>\n",
       "      <th>best_parameters_train</th>\n",
       "      <th>RMSE_train</th>\n",
       "      <th>fit_time</th>\n",
       "      <th>predict_time</th>\n",
       "      <th>rmse_test</th>\n",
       "    </tr>\n",
       "  </thead>\n",
       "  <tbody>\n",
       "    <tr>\n",
       "      <th>0</th>\n",
       "      <td>LinearRegression</td>\n",
       "      <td>{'fit_intercept': True, 'positive': False}</td>\n",
       "      <td>-2591.248127</td>\n",
       "      <td>4.11383</td>\n",
       "      <td>0.184911</td>\n",
       "      <td>2569.973433</td>\n",
       "    </tr>\n",
       "    <tr>\n",
       "      <th>1</th>\n",
       "      <td>DecisionTreeRegressor</td>\n",
       "      <td>{'max_depth': 19, 'min_samples_split': 45}</td>\n",
       "      <td>-1818.966064</td>\n",
       "      <td>NaN</td>\n",
       "      <td>NaN</td>\n",
       "      <td>NaN</td>\n",
       "    </tr>\n",
       "    <tr>\n",
       "      <th>2</th>\n",
       "      <td>RandomForestRegressor</td>\n",
       "      <td>{'max_depth': 18, 'n_estimators': 144}</td>\n",
       "      <td>-1632.029402</td>\n",
       "      <td>NaN</td>\n",
       "      <td>NaN</td>\n",
       "      <td>NaN</td>\n",
       "    </tr>\n",
       "    <tr>\n",
       "      <th>3</th>\n",
       "      <td>CatBoostRegressor</td>\n",
       "      <td>{'depth': 7, 'iterations': 1000}</td>\n",
       "      <td>-1580.695482</td>\n",
       "      <td>NaN</td>\n",
       "      <td>NaN</td>\n",
       "      <td>NaN</td>\n",
       "    </tr>\n",
       "    <tr>\n",
       "      <th>4</th>\n",
       "      <td>LGBMRegressor</td>\n",
       "      <td>{'n_estimators': 2049}</td>\n",
       "      <td>-1537.325501</td>\n",
       "      <td>NaN</td>\n",
       "      <td>NaN</td>\n",
       "      <td>NaN</td>\n",
       "    </tr>\n",
       "  </tbody>\n",
       "</table>\n",
       "</div>"
      ],
      "text/plain": [
       "                   model                       best_parameters_train  \\\n",
       "0       LinearRegression  {'fit_intercept': True, 'positive': False}   \n",
       "1  DecisionTreeRegressor  {'max_depth': 19, 'min_samples_split': 45}   \n",
       "2  RandomForestRegressor      {'max_depth': 18, 'n_estimators': 144}   \n",
       "3      CatBoostRegressor            {'depth': 7, 'iterations': 1000}   \n",
       "4          LGBMRegressor                      {'n_estimators': 2049}   \n",
       "\n",
       "    RMSE_train  fit_time  predict_time    rmse_test  \n",
       "0 -2591.248127   4.11383      0.184911  2569.973433  \n",
       "1 -1818.966064       NaN           NaN          NaN  \n",
       "2 -1632.029402       NaN           NaN          NaN  \n",
       "3 -1580.695482       NaN           NaN          NaN  \n",
       "4 -1537.325501       NaN           NaN          NaN  "
      ]
     },
     "execution_count": 47,
     "metadata": {},
     "output_type": "execute_result"
    }
   ],
   "source": [
    "fit_time, predict_time, rmse = ml_result(\n",
    "    LinearRegression(fit_intercept=True, positive=False),\n",
    "    features_train_lr,\n",
    "    target_train_lr,\n",
    "    features_test_lr,\n",
    "    target_test_lr\n",
    ")\n",
    "results.loc[0, 'fit_time'] = fit_time\n",
    "results.loc[0, 'predict_time'] = predict_time\n",
    "results.loc[0, 'rmse_test'] = rmse\n",
    "results"
   ]
  },
  {
   "cell_type": "markdown",
   "metadata": {},
   "source": [
    "Проверим модель дерева решений"
   ]
  },
  {
   "cell_type": "code",
   "execution_count": 48,
   "metadata": {},
   "outputs": [
    {
     "data": {
      "text/html": [
       "<div>\n",
       "<style scoped>\n",
       "    .dataframe tbody tr th:only-of-type {\n",
       "        vertical-align: middle;\n",
       "    }\n",
       "\n",
       "    .dataframe tbody tr th {\n",
       "        vertical-align: top;\n",
       "    }\n",
       "\n",
       "    .dataframe thead th {\n",
       "        text-align: right;\n",
       "    }\n",
       "</style>\n",
       "<table border=\"1\" class=\"dataframe\">\n",
       "  <thead>\n",
       "    <tr style=\"text-align: right;\">\n",
       "      <th></th>\n",
       "      <th>model</th>\n",
       "      <th>best_parameters_train</th>\n",
       "      <th>RMSE_train</th>\n",
       "      <th>fit_time</th>\n",
       "      <th>predict_time</th>\n",
       "      <th>rmse_test</th>\n",
       "    </tr>\n",
       "  </thead>\n",
       "  <tbody>\n",
       "    <tr>\n",
       "      <th>0</th>\n",
       "      <td>LinearRegression</td>\n",
       "      <td>{'fit_intercept': True, 'positive': False}</td>\n",
       "      <td>-2591.248127</td>\n",
       "      <td>4.113830</td>\n",
       "      <td>0.184911</td>\n",
       "      <td>2569.973433</td>\n",
       "    </tr>\n",
       "    <tr>\n",
       "      <th>1</th>\n",
       "      <td>DecisionTreeRegressor</td>\n",
       "      <td>{'max_depth': 19, 'min_samples_split': 45}</td>\n",
       "      <td>-1818.966064</td>\n",
       "      <td>0.570514</td>\n",
       "      <td>0.014742</td>\n",
       "      <td>1767.001566</td>\n",
       "    </tr>\n",
       "    <tr>\n",
       "      <th>2</th>\n",
       "      <td>RandomForestRegressor</td>\n",
       "      <td>{'max_depth': 18, 'n_estimators': 144}</td>\n",
       "      <td>-1632.029402</td>\n",
       "      <td>NaN</td>\n",
       "      <td>NaN</td>\n",
       "      <td>NaN</td>\n",
       "    </tr>\n",
       "    <tr>\n",
       "      <th>3</th>\n",
       "      <td>CatBoostRegressor</td>\n",
       "      <td>{'depth': 7, 'iterations': 1000}</td>\n",
       "      <td>-1580.695482</td>\n",
       "      <td>NaN</td>\n",
       "      <td>NaN</td>\n",
       "      <td>NaN</td>\n",
       "    </tr>\n",
       "    <tr>\n",
       "      <th>4</th>\n",
       "      <td>LGBMRegressor</td>\n",
       "      <td>{'n_estimators': 2049}</td>\n",
       "      <td>-1537.325501</td>\n",
       "      <td>NaN</td>\n",
       "      <td>NaN</td>\n",
       "      <td>NaN</td>\n",
       "    </tr>\n",
       "  </tbody>\n",
       "</table>\n",
       "</div>"
      ],
      "text/plain": [
       "                   model                       best_parameters_train  \\\n",
       "0       LinearRegression  {'fit_intercept': True, 'positive': False}   \n",
       "1  DecisionTreeRegressor  {'max_depth': 19, 'min_samples_split': 45}   \n",
       "2  RandomForestRegressor      {'max_depth': 18, 'n_estimators': 144}   \n",
       "3      CatBoostRegressor            {'depth': 7, 'iterations': 1000}   \n",
       "4          LGBMRegressor                      {'n_estimators': 2049}   \n",
       "\n",
       "    RMSE_train  fit_time  predict_time    rmse_test  \n",
       "0 -2591.248127  4.113830      0.184911  2569.973433  \n",
       "1 -1818.966064  0.570514      0.014742  1767.001566  \n",
       "2 -1632.029402       NaN           NaN          NaN  \n",
       "3 -1580.695482       NaN           NaN          NaN  \n",
       "4 -1537.325501       NaN           NaN          NaN  "
      ]
     },
     "execution_count": 48,
     "metadata": {},
     "output_type": "execute_result"
    }
   ],
   "source": [
    "fit_time, predict_time, rmse = ml_result(\n",
    "    DecisionTreeRegressor(random_state=12345,\n",
    "                          max_depth=19,\n",
    "                          min_samples_split=45),\n",
    "    features_train_tree, target_train_tree, features_test_tree, target_test_tree)\n",
    "results.loc[1, 'fit_time'] = fit_time\n",
    "results.loc[1, 'predict_time'] = predict_time\n",
    "results.loc[1, 'rmse_test'] = rmse\n",
    "results"
   ]
  },
  {
   "cell_type": "markdown",
   "metadata": {},
   "source": [
    "Проверим модель случайного дерева"
   ]
  },
  {
   "cell_type": "code",
   "execution_count": 49,
   "metadata": {},
   "outputs": [
    {
     "data": {
      "text/html": [
       "<div>\n",
       "<style scoped>\n",
       "    .dataframe tbody tr th:only-of-type {\n",
       "        vertical-align: middle;\n",
       "    }\n",
       "\n",
       "    .dataframe tbody tr th {\n",
       "        vertical-align: top;\n",
       "    }\n",
       "\n",
       "    .dataframe thead th {\n",
       "        text-align: right;\n",
       "    }\n",
       "</style>\n",
       "<table border=\"1\" class=\"dataframe\">\n",
       "  <thead>\n",
       "    <tr style=\"text-align: right;\">\n",
       "      <th></th>\n",
       "      <th>model</th>\n",
       "      <th>best_parameters_train</th>\n",
       "      <th>RMSE_train</th>\n",
       "      <th>fit_time</th>\n",
       "      <th>predict_time</th>\n",
       "      <th>rmse_test</th>\n",
       "    </tr>\n",
       "  </thead>\n",
       "  <tbody>\n",
       "    <tr>\n",
       "      <th>0</th>\n",
       "      <td>LinearRegression</td>\n",
       "      <td>{'fit_intercept': True, 'positive': False}</td>\n",
       "      <td>-2591.248127</td>\n",
       "      <td>4.113830</td>\n",
       "      <td>0.184911</td>\n",
       "      <td>2569.973433</td>\n",
       "    </tr>\n",
       "    <tr>\n",
       "      <th>1</th>\n",
       "      <td>DecisionTreeRegressor</td>\n",
       "      <td>{'max_depth': 19, 'min_samples_split': 45}</td>\n",
       "      <td>-1818.966064</td>\n",
       "      <td>0.570514</td>\n",
       "      <td>0.014742</td>\n",
       "      <td>1767.001566</td>\n",
       "    </tr>\n",
       "    <tr>\n",
       "      <th>2</th>\n",
       "      <td>RandomForestRegressor</td>\n",
       "      <td>{'max_depth': 18, 'n_estimators': 144}</td>\n",
       "      <td>-1632.029402</td>\n",
       "      <td>62.678294</td>\n",
       "      <td>2.242072</td>\n",
       "      <td>1590.737111</td>\n",
       "    </tr>\n",
       "    <tr>\n",
       "      <th>3</th>\n",
       "      <td>CatBoostRegressor</td>\n",
       "      <td>{'depth': 7, 'iterations': 1000}</td>\n",
       "      <td>-1580.695482</td>\n",
       "      <td>NaN</td>\n",
       "      <td>NaN</td>\n",
       "      <td>NaN</td>\n",
       "    </tr>\n",
       "    <tr>\n",
       "      <th>4</th>\n",
       "      <td>LGBMRegressor</td>\n",
       "      <td>{'n_estimators': 2049}</td>\n",
       "      <td>-1537.325501</td>\n",
       "      <td>NaN</td>\n",
       "      <td>NaN</td>\n",
       "      <td>NaN</td>\n",
       "    </tr>\n",
       "  </tbody>\n",
       "</table>\n",
       "</div>"
      ],
      "text/plain": [
       "                   model                       best_parameters_train  \\\n",
       "0       LinearRegression  {'fit_intercept': True, 'positive': False}   \n",
       "1  DecisionTreeRegressor  {'max_depth': 19, 'min_samples_split': 45}   \n",
       "2  RandomForestRegressor      {'max_depth': 18, 'n_estimators': 144}   \n",
       "3      CatBoostRegressor            {'depth': 7, 'iterations': 1000}   \n",
       "4          LGBMRegressor                      {'n_estimators': 2049}   \n",
       "\n",
       "    RMSE_train   fit_time  predict_time    rmse_test  \n",
       "0 -2591.248127   4.113830      0.184911  2569.973433  \n",
       "1 -1818.966064   0.570514      0.014742  1767.001566  \n",
       "2 -1632.029402  62.678294      2.242072  1590.737111  \n",
       "3 -1580.695482        NaN           NaN          NaN  \n",
       "4 -1537.325501        NaN           NaN          NaN  "
      ]
     },
     "execution_count": 49,
     "metadata": {},
     "output_type": "execute_result"
    }
   ],
   "source": [
    "fit_time, predict_time, rmse = ml_result(\n",
    "    RandomForestRegressor(random_state=12345,\n",
    "                          max_depth=18,\n",
    "                          n_estimators=144),\n",
    "    features_train_tree, target_train_tree, features_test_tree, target_test_tree)\n",
    "results.loc[2, 'fit_time'] = fit_time\n",
    "results.loc[2, 'predict_time'] = predict_time\n",
    "results.loc[2, 'rmse_test'] = rmse\n",
    "results"
   ]
  },
  {
   "cell_type": "markdown",
   "metadata": {},
   "source": [
    "Проверим модель CatBoostRegressor"
   ]
  },
  {
   "cell_type": "code",
   "execution_count": 50,
   "metadata": {
    "scrolled": true
   },
   "outputs": [
    {
     "data": {
      "text/html": [
       "<div>\n",
       "<style scoped>\n",
       "    .dataframe tbody tr th:only-of-type {\n",
       "        vertical-align: middle;\n",
       "    }\n",
       "\n",
       "    .dataframe tbody tr th {\n",
       "        vertical-align: top;\n",
       "    }\n",
       "\n",
       "    .dataframe thead th {\n",
       "        text-align: right;\n",
       "    }\n",
       "</style>\n",
       "<table border=\"1\" class=\"dataframe\">\n",
       "  <thead>\n",
       "    <tr style=\"text-align: right;\">\n",
       "      <th></th>\n",
       "      <th>model</th>\n",
       "      <th>best_parameters_train</th>\n",
       "      <th>RMSE_train</th>\n",
       "      <th>fit_time</th>\n",
       "      <th>predict_time</th>\n",
       "      <th>rmse_test</th>\n",
       "    </tr>\n",
       "  </thead>\n",
       "  <tbody>\n",
       "    <tr>\n",
       "      <th>0</th>\n",
       "      <td>LinearRegression</td>\n",
       "      <td>{'fit_intercept': True, 'positive': False}</td>\n",
       "      <td>-2591.248127</td>\n",
       "      <td>4.113830</td>\n",
       "      <td>0.184911</td>\n",
       "      <td>2569.973433</td>\n",
       "    </tr>\n",
       "    <tr>\n",
       "      <th>1</th>\n",
       "      <td>DecisionTreeRegressor</td>\n",
       "      <td>{'max_depth': 19, 'min_samples_split': 45}</td>\n",
       "      <td>-1818.966064</td>\n",
       "      <td>0.570514</td>\n",
       "      <td>0.014742</td>\n",
       "      <td>1767.001566</td>\n",
       "    </tr>\n",
       "    <tr>\n",
       "      <th>2</th>\n",
       "      <td>RandomForestRegressor</td>\n",
       "      <td>{'max_depth': 18, 'n_estimators': 144}</td>\n",
       "      <td>-1632.029402</td>\n",
       "      <td>62.678294</td>\n",
       "      <td>2.242072</td>\n",
       "      <td>1590.737111</td>\n",
       "    </tr>\n",
       "    <tr>\n",
       "      <th>3</th>\n",
       "      <td>CatBoostRegressor</td>\n",
       "      <td>{'depth': 7, 'iterations': 1000}</td>\n",
       "      <td>-1580.695482</td>\n",
       "      <td>39.842552</td>\n",
       "      <td>0.129552</td>\n",
       "      <td>1552.117225</td>\n",
       "    </tr>\n",
       "    <tr>\n",
       "      <th>4</th>\n",
       "      <td>LGBMRegressor</td>\n",
       "      <td>{'n_estimators': 2049}</td>\n",
       "      <td>-1537.325501</td>\n",
       "      <td>NaN</td>\n",
       "      <td>NaN</td>\n",
       "      <td>NaN</td>\n",
       "    </tr>\n",
       "  </tbody>\n",
       "</table>\n",
       "</div>"
      ],
      "text/plain": [
       "                   model                       best_parameters_train  \\\n",
       "0       LinearRegression  {'fit_intercept': True, 'positive': False}   \n",
       "1  DecisionTreeRegressor  {'max_depth': 19, 'min_samples_split': 45}   \n",
       "2  RandomForestRegressor      {'max_depth': 18, 'n_estimators': 144}   \n",
       "3      CatBoostRegressor            {'depth': 7, 'iterations': 1000}   \n",
       "4          LGBMRegressor                      {'n_estimators': 2049}   \n",
       "\n",
       "    RMSE_train   fit_time  predict_time    rmse_test  \n",
       "0 -2591.248127   4.113830      0.184911  2569.973433  \n",
       "1 -1818.966064   0.570514      0.014742  1767.001566  \n",
       "2 -1632.029402  62.678294      2.242072  1590.737111  \n",
       "3 -1580.695482  39.842552      0.129552  1552.117225  \n",
       "4 -1537.325501        NaN           NaN          NaN  "
      ]
     },
     "execution_count": 50,
     "metadata": {},
     "output_type": "execute_result"
    }
   ],
   "source": [
    "fit_time, predict_time, rmse = ml_result(\n",
    "    CatBoostRegressor(\n",
    "        cat_features=cat_columns,\n",
    "        loss_function=\"RMSE\",\n",
    "        learning_rate = 0.5,\n",
    "        depth=7,\n",
    "        iterations=1000,\n",
    "        logging_level='Silent'),\n",
    "    features_train, target_train, features_test, target_test)\n",
    "results.loc[3, 'fit_time'] = fit_time\n",
    "results.loc[3, 'predict_time'] = predict_time\n",
    "results.loc[3, 'rmse_test'] = rmse\n",
    "results"
   ]
  },
  {
   "cell_type": "markdown",
   "metadata": {},
   "source": [
    "Проверим модель LGBMRegressor"
   ]
  },
  {
   "cell_type": "code",
   "execution_count": 51,
   "metadata": {},
   "outputs": [
    {
     "data": {
      "text/html": [
       "<div>\n",
       "<style scoped>\n",
       "    .dataframe tbody tr th:only-of-type {\n",
       "        vertical-align: middle;\n",
       "    }\n",
       "\n",
       "    .dataframe tbody tr th {\n",
       "        vertical-align: top;\n",
       "    }\n",
       "\n",
       "    .dataframe thead th {\n",
       "        text-align: right;\n",
       "    }\n",
       "</style>\n",
       "<table border=\"1\" class=\"dataframe\">\n",
       "  <thead>\n",
       "    <tr style=\"text-align: right;\">\n",
       "      <th></th>\n",
       "      <th>model</th>\n",
       "      <th>best_parameters_train</th>\n",
       "      <th>RMSE_train</th>\n",
       "      <th>fit_time</th>\n",
       "      <th>predict_time</th>\n",
       "      <th>rmse_test</th>\n",
       "    </tr>\n",
       "  </thead>\n",
       "  <tbody>\n",
       "    <tr>\n",
       "      <th>0</th>\n",
       "      <td>LinearRegression</td>\n",
       "      <td>{'fit_intercept': True, 'positive': False}</td>\n",
       "      <td>-2591.248127</td>\n",
       "      <td>4.113830</td>\n",
       "      <td>0.184911</td>\n",
       "      <td>2569.973433</td>\n",
       "    </tr>\n",
       "    <tr>\n",
       "      <th>1</th>\n",
       "      <td>DecisionTreeRegressor</td>\n",
       "      <td>{'max_depth': 19, 'min_samples_split': 45}</td>\n",
       "      <td>-1818.966064</td>\n",
       "      <td>0.570514</td>\n",
       "      <td>0.014742</td>\n",
       "      <td>1767.001566</td>\n",
       "    </tr>\n",
       "    <tr>\n",
       "      <th>2</th>\n",
       "      <td>RandomForestRegressor</td>\n",
       "      <td>{'max_depth': 18, 'n_estimators': 144}</td>\n",
       "      <td>-1632.029402</td>\n",
       "      <td>62.678294</td>\n",
       "      <td>2.242072</td>\n",
       "      <td>1590.737111</td>\n",
       "    </tr>\n",
       "    <tr>\n",
       "      <th>3</th>\n",
       "      <td>CatBoostRegressor</td>\n",
       "      <td>{'depth': 7, 'iterations': 1000}</td>\n",
       "      <td>-1580.695482</td>\n",
       "      <td>39.842552</td>\n",
       "      <td>0.129552</td>\n",
       "      <td>1552.117225</td>\n",
       "    </tr>\n",
       "    <tr>\n",
       "      <th>4</th>\n",
       "      <td>LGBMRegressor</td>\n",
       "      <td>{'n_estimators': 2049}</td>\n",
       "      <td>-1537.325501</td>\n",
       "      <td>3.932717</td>\n",
       "      <td>0.926979</td>\n",
       "      <td>1506.268582</td>\n",
       "    </tr>\n",
       "  </tbody>\n",
       "</table>\n",
       "</div>"
      ],
      "text/plain": [
       "                   model                       best_parameters_train  \\\n",
       "0       LinearRegression  {'fit_intercept': True, 'positive': False}   \n",
       "1  DecisionTreeRegressor  {'max_depth': 19, 'min_samples_split': 45}   \n",
       "2  RandomForestRegressor      {'max_depth': 18, 'n_estimators': 144}   \n",
       "3      CatBoostRegressor            {'depth': 7, 'iterations': 1000}   \n",
       "4          LGBMRegressor                      {'n_estimators': 2049}   \n",
       "\n",
       "    RMSE_train   fit_time  predict_time    rmse_test  \n",
       "0 -2591.248127   4.113830      0.184911  2569.973433  \n",
       "1 -1818.966064   0.570514      0.014742  1767.001566  \n",
       "2 -1632.029402  62.678294      2.242072  1590.737111  \n",
       "3 -1580.695482  39.842552      0.129552  1552.117225  \n",
       "4 -1537.325501   3.932717      0.926979  1506.268582  "
      ]
     },
     "execution_count": 51,
     "metadata": {},
     "output_type": "execute_result"
    }
   ],
   "source": [
    "fit_time, predict_time, rmse = ml_result(\n",
    "    LGBMRegressor(\n",
    "        random_state=12345,\n",
    "        n_estimators=2049,\n",
    "        verbose=-1),\n",
    "    features_train, target_train, features_test, target_test\n",
    ")\n",
    "results.loc[4, 'fit_time'] = fit_time\n",
    "results.loc[4, 'predict_time'] = predict_time\n",
    "results.loc[4, 'rmse_test'] = rmse\n",
    "results"
   ]
  },
  {
   "cell_type": "markdown",
   "metadata": {},
   "source": [
    "<a id=\"step_10\"></a>\n",
    "Вывод по данному этапу:"
   ]
  },
  {
   "cell_type": "markdown",
   "metadata": {},
   "source": [
    "На данном этапе мы проверили наши модели с полученными ранее гиперпараметрами на тесвой выборке.\n",
    "\n",
    "Лучшая с точки зрения качества предсказания - модель LGBMRegressor\n",
    "\n",
    "Наименьшее время обучения - модель DecisionTreeRegressor\n",
    "\n",
    "Наменьшее время предсказания - модель DecisionTreeRegressor"
   ]
  },
  {
   "cell_type": "markdown",
   "metadata": {},
   "source": [
    "<a id=\"step_11\"></a>\n",
    "## Общий вывод"
   ]
  },
  {
   "cell_type": "markdown",
   "metadata": {},
   "source": [
    "По полученным результатам я бы рекомендовал модель LGBMRegressor, как соотношение качества предсказания ко времени обучения и предсказания."
   ]
  },
  {
   "cell_type": "markdown",
   "metadata": {},
   "source": [
    "## Чек-лист проверки"
   ]
  },
  {
   "cell_type": "markdown",
   "metadata": {},
   "source": [
    "Поставьте 'x' в выполненных пунктах. Далее нажмите Shift+Enter."
   ]
  },
  {
   "cell_type": "markdown",
   "metadata": {},
   "source": [
    "- [x]  Jupyter Notebook открыт\n",
    "- [x]  Весь код выполняется без ошибок\n",
    "- [x]  Ячейки с кодом расположены в порядке исполнения\n",
    "- [x]  Выполнена загрузка и подготовка данных\n",
    "- [x]  Выполнено обучение моделей\n",
    "- [x]  Есть анализ скорости работы и качества моделей"
   ]
  }
 ],
 "metadata": {
  "ExecuteTimeLog": [
   {
    "duration": 44,
    "start_time": "2022-04-20T14:19:51.613Z"
   },
   {
    "duration": 381,
    "start_time": "2022-04-20T14:19:56.156Z"
   },
   {
    "duration": 812,
    "start_time": "2022-04-20T14:21:31.596Z"
   },
   {
    "duration": 791,
    "start_time": "2022-04-20T14:21:51.357Z"
   },
   {
    "duration": 8,
    "start_time": "2022-04-20T14:22:59.277Z"
   },
   {
    "duration": 2138,
    "start_time": "2022-04-20T14:23:13.099Z"
   },
   {
    "duration": 109,
    "start_time": "2022-04-20T14:26:56.868Z"
   },
   {
    "duration": 108,
    "start_time": "2022-04-20T14:27:06.806Z"
   },
   {
    "duration": 2387,
    "start_time": "2022-04-20T14:27:07.955Z"
   },
   {
    "duration": 6,
    "start_time": "2022-04-20T14:37:27.087Z"
   },
   {
    "duration": 2194,
    "start_time": "2022-04-20T14:37:29.086Z"
   },
   {
    "duration": 6,
    "start_time": "2022-04-20T14:38:27.855Z"
   },
   {
    "duration": 2085,
    "start_time": "2022-04-20T14:38:28.806Z"
   },
   {
    "duration": 7,
    "start_time": "2022-04-20T14:42:53.266Z"
   },
   {
    "duration": 3048,
    "start_time": "2022-04-20T14:42:53.776Z"
   },
   {
    "duration": 7,
    "start_time": "2022-04-20T14:43:44.936Z"
   },
   {
    "duration": 2096,
    "start_time": "2022-04-20T14:43:45.360Z"
   },
   {
    "duration": 412,
    "start_time": "2022-04-21T07:35:04.426Z"
   },
   {
    "duration": 876,
    "start_time": "2022-04-21T07:35:04.841Z"
   },
   {
    "duration": 8,
    "start_time": "2022-04-21T07:35:05.719Z"
   },
   {
    "duration": 2372,
    "start_time": "2022-04-21T07:35:05.728Z"
   },
   {
    "duration": 111,
    "start_time": "2022-04-21T07:39:31.272Z"
   },
   {
    "duration": 530,
    "start_time": "2022-04-21T07:39:37.352Z"
   },
   {
    "duration": 47,
    "start_time": "2022-04-21T08:01:07.649Z"
   },
   {
    "duration": 722,
    "start_time": "2022-04-21T08:16:58.288Z"
   },
   {
    "duration": 52,
    "start_time": "2022-04-21T08:19:36.066Z"
   },
   {
    "duration": 873,
    "start_time": "2022-04-21T08:29:58.548Z"
   },
   {
    "duration": 46,
    "start_time": "2022-04-21T08:30:19.972Z"
   },
   {
    "duration": 16,
    "start_time": "2022-04-21T08:31:20.990Z"
   },
   {
    "duration": 16,
    "start_time": "2022-04-21T08:33:01.390Z"
   },
   {
    "duration": 281,
    "start_time": "2022-04-21T08:34:08.126Z"
   },
   {
    "duration": 343,
    "start_time": "2022-04-21T08:34:32.677Z"
   },
   {
    "duration": 303,
    "start_time": "2022-04-21T08:35:18.590Z"
   },
   {
    "duration": 340,
    "start_time": "2022-04-21T08:35:38.678Z"
   },
   {
    "duration": 398,
    "start_time": "2022-04-21T08:38:02.651Z"
   },
   {
    "duration": 819,
    "start_time": "2022-04-21T08:38:03.052Z"
   },
   {
    "duration": 8,
    "start_time": "2022-04-21T08:38:03.873Z"
   },
   {
    "duration": 2435,
    "start_time": "2022-04-21T08:38:03.883Z"
   },
   {
    "duration": 569,
    "start_time": "2022-04-21T08:38:06.320Z"
   },
   {
    "duration": 47,
    "start_time": "2022-04-21T08:38:06.891Z"
   },
   {
    "duration": 3,
    "start_time": "2022-04-21T08:38:06.948Z"
   },
   {
    "duration": 1957,
    "start_time": "2022-04-21T08:38:06.952Z"
   },
   {
    "duration": 0,
    "start_time": "2022-04-21T08:38:08.911Z"
   },
   {
    "duration": 0,
    "start_time": "2022-04-21T08:38:08.913Z"
   },
   {
    "duration": 46,
    "start_time": "2022-04-21T08:38:27.227Z"
   },
   {
    "duration": 54,
    "start_time": "2022-04-21T08:38:35.044Z"
   },
   {
    "duration": 42,
    "start_time": "2022-04-21T08:38:35.595Z"
   },
   {
    "duration": 52,
    "start_time": "2022-04-21T08:38:52.444Z"
   },
   {
    "duration": 42,
    "start_time": "2022-04-21T08:39:50.501Z"
   },
   {
    "duration": 418,
    "start_time": "2022-04-21T08:40:02.926Z"
   },
   {
    "duration": 817,
    "start_time": "2022-04-21T08:40:03.346Z"
   },
   {
    "duration": 7,
    "start_time": "2022-04-21T08:40:04.165Z"
   },
   {
    "duration": 2290,
    "start_time": "2022-04-21T08:40:04.173Z"
   },
   {
    "duration": 566,
    "start_time": "2022-04-21T08:40:06.465Z"
   },
   {
    "duration": 55,
    "start_time": "2022-04-21T08:40:07.033Z"
   },
   {
    "duration": 4,
    "start_time": "2022-04-21T08:40:07.090Z"
   },
   {
    "duration": 68,
    "start_time": "2022-04-21T08:40:07.096Z"
   },
   {
    "duration": 578,
    "start_time": "2022-04-21T08:40:07.166Z"
   },
   {
    "duration": 145,
    "start_time": "2022-04-21T08:40:07.748Z"
   },
   {
    "duration": 18,
    "start_time": "2022-04-21T08:46:15.990Z"
   },
   {
    "duration": 10,
    "start_time": "2022-04-21T08:47:50.063Z"
   },
   {
    "duration": 5,
    "start_time": "2022-04-21T08:49:58.015Z"
   },
   {
    "duration": 17,
    "start_time": "2022-04-21T08:50:32.327Z"
   },
   {
    "duration": 304,
    "start_time": "2022-04-21T08:52:01.264Z"
   },
   {
    "duration": 25,
    "start_time": "2022-04-21T08:54:38.392Z"
   },
   {
    "duration": 522,
    "start_time": "2022-04-21T09:12:11.391Z"
   },
   {
    "duration": 283,
    "start_time": "2022-04-21T09:13:46.160Z"
   },
   {
    "duration": 23,
    "start_time": "2022-04-21T09:16:48.116Z"
   },
   {
    "duration": 74,
    "start_time": "2022-04-21T09:32:34.614Z"
   },
   {
    "duration": 8,
    "start_time": "2022-04-21T10:01:29.523Z"
   },
   {
    "duration": 414,
    "start_time": "2022-04-21T10:01:42.729Z"
   },
   {
    "duration": 791,
    "start_time": "2022-04-21T10:01:43.144Z"
   },
   {
    "duration": 10,
    "start_time": "2022-04-21T10:01:43.937Z"
   },
   {
    "duration": 2321,
    "start_time": "2022-04-21T10:01:43.949Z"
   },
   {
    "duration": 528,
    "start_time": "2022-04-21T10:01:46.272Z"
   },
   {
    "duration": 48,
    "start_time": "2022-04-21T10:01:46.801Z"
   },
   {
    "duration": 21,
    "start_time": "2022-04-21T10:01:46.851Z"
   },
   {
    "duration": 547,
    "start_time": "2022-04-21T10:01:46.874Z"
   },
   {
    "duration": 286,
    "start_time": "2022-04-21T10:01:47.422Z"
   },
   {
    "duration": 25,
    "start_time": "2022-04-21T10:01:47.710Z"
   },
   {
    "duration": 91,
    "start_time": "2022-04-21T10:01:47.736Z"
   },
   {
    "duration": 78,
    "start_time": "2022-04-21T10:01:47.828Z"
   },
   {
    "duration": 1364,
    "start_time": "2022-04-21T10:02:03.839Z"
   },
   {
    "duration": 69,
    "start_time": "2022-04-21T10:02:22.423Z"
   },
   {
    "duration": 615,
    "start_time": "2022-04-21T10:02:24.015Z"
   },
   {
    "duration": 414,
    "start_time": "2022-04-21T10:06:08.933Z"
   },
   {
    "duration": 805,
    "start_time": "2022-04-21T10:06:09.349Z"
   },
   {
    "duration": 7,
    "start_time": "2022-04-21T10:06:10.156Z"
   },
   {
    "duration": 2221,
    "start_time": "2022-04-21T10:06:10.164Z"
   },
   {
    "duration": 527,
    "start_time": "2022-04-21T10:06:12.388Z"
   },
   {
    "duration": 46,
    "start_time": "2022-04-21T10:06:12.917Z"
   },
   {
    "duration": 22,
    "start_time": "2022-04-21T10:06:12.965Z"
   },
   {
    "duration": 571,
    "start_time": "2022-04-21T10:06:12.989Z"
   },
   {
    "duration": 311,
    "start_time": "2022-04-21T10:06:13.562Z"
   },
   {
    "duration": 26,
    "start_time": "2022-04-21T10:06:13.875Z"
   },
   {
    "duration": 76,
    "start_time": "2022-04-21T10:06:13.902Z"
   },
   {
    "duration": 1377,
    "start_time": "2022-04-21T10:06:13.980Z"
   },
   {
    "duration": 66,
    "start_time": "2022-04-21T10:06:58.856Z"
   },
   {
    "duration": 1273,
    "start_time": "2022-04-21T10:06:59.399Z"
   },
   {
    "duration": 70,
    "start_time": "2022-04-21T10:08:50.400Z"
   },
   {
    "duration": 389,
    "start_time": "2022-04-21T10:08:57.053Z"
   },
   {
    "duration": 777,
    "start_time": "2022-04-21T10:08:57.444Z"
   },
   {
    "duration": 7,
    "start_time": "2022-04-21T10:08:58.222Z"
   },
   {
    "duration": 2359,
    "start_time": "2022-04-21T10:08:58.230Z"
   },
   {
    "duration": 547,
    "start_time": "2022-04-21T10:09:00.591Z"
   },
   {
    "duration": 47,
    "start_time": "2022-04-21T10:09:01.140Z"
   },
   {
    "duration": 28,
    "start_time": "2022-04-21T10:09:01.189Z"
   },
   {
    "duration": 584,
    "start_time": "2022-04-21T10:09:01.219Z"
   },
   {
    "duration": 293,
    "start_time": "2022-04-21T10:09:01.805Z"
   },
   {
    "duration": 27,
    "start_time": "2022-04-21T10:09:02.100Z"
   },
   {
    "duration": 102,
    "start_time": "2022-04-21T10:09:02.128Z"
   },
   {
    "duration": 1298,
    "start_time": "2022-04-21T10:09:02.232Z"
   },
   {
    "duration": 67,
    "start_time": "2022-04-21T10:28:08.603Z"
   },
   {
    "duration": 371,
    "start_time": "2022-04-21T10:28:18.586Z"
   },
   {
    "duration": 825,
    "start_time": "2022-04-21T10:28:18.959Z"
   },
   {
    "duration": 7,
    "start_time": "2022-04-21T10:28:19.786Z"
   },
   {
    "duration": 2353,
    "start_time": "2022-04-21T10:28:19.794Z"
   },
   {
    "duration": 542,
    "start_time": "2022-04-21T10:28:22.149Z"
   },
   {
    "duration": 54,
    "start_time": "2022-04-21T10:28:22.693Z"
   },
   {
    "duration": 19,
    "start_time": "2022-04-21T10:28:22.749Z"
   },
   {
    "duration": 577,
    "start_time": "2022-04-21T10:28:22.770Z"
   },
   {
    "duration": 304,
    "start_time": "2022-04-21T10:28:23.349Z"
   },
   {
    "duration": 25,
    "start_time": "2022-04-21T10:28:23.655Z"
   },
   {
    "duration": 87,
    "start_time": "2022-04-21T10:28:23.681Z"
   },
   {
    "duration": 938,
    "start_time": "2022-04-21T10:28:23.770Z"
   },
   {
    "duration": 45,
    "start_time": "2022-04-21T10:28:53.140Z"
   },
   {
    "duration": 1157,
    "start_time": "2022-04-21T10:28:54.115Z"
   },
   {
    "duration": 391,
    "start_time": "2022-04-21T10:29:08.256Z"
   },
   {
    "duration": 799,
    "start_time": "2022-04-21T10:29:08.649Z"
   },
   {
    "duration": 8,
    "start_time": "2022-04-21T10:29:09.449Z"
   },
   {
    "duration": 2342,
    "start_time": "2022-04-21T10:29:09.459Z"
   },
   {
    "duration": 533,
    "start_time": "2022-04-21T10:29:11.803Z"
   },
   {
    "duration": 49,
    "start_time": "2022-04-21T10:29:12.338Z"
   },
   {
    "duration": 20,
    "start_time": "2022-04-21T10:29:12.389Z"
   },
   {
    "duration": 565,
    "start_time": "2022-04-21T10:29:12.411Z"
   },
   {
    "duration": 295,
    "start_time": "2022-04-21T10:29:12.978Z"
   },
   {
    "duration": 25,
    "start_time": "2022-04-21T10:29:13.275Z"
   },
   {
    "duration": 74,
    "start_time": "2022-04-21T10:29:13.302Z"
   },
   {
    "duration": 1286,
    "start_time": "2022-04-21T10:29:13.378Z"
   },
   {
    "duration": 373,
    "start_time": "2022-04-21T10:30:43.512Z"
   },
   {
    "duration": 802,
    "start_time": "2022-04-21T10:30:43.887Z"
   },
   {
    "duration": 7,
    "start_time": "2022-04-21T10:30:44.691Z"
   },
   {
    "duration": 2362,
    "start_time": "2022-04-21T10:30:44.700Z"
   },
   {
    "duration": 47,
    "start_time": "2022-04-21T10:30:47.064Z"
   },
   {
    "duration": 21,
    "start_time": "2022-04-21T10:30:47.112Z"
   },
   {
    "duration": 559,
    "start_time": "2022-04-21T10:30:47.134Z"
   },
   {
    "duration": 281,
    "start_time": "2022-04-21T10:30:47.695Z"
   },
   {
    "duration": 26,
    "start_time": "2022-04-21T10:30:47.978Z"
   },
   {
    "duration": 73,
    "start_time": "2022-04-21T10:30:48.006Z"
   },
   {
    "duration": 276,
    "start_time": "2022-04-21T10:30:48.081Z"
   },
   {
    "duration": 993,
    "start_time": "2022-04-21T10:31:03.185Z"
   },
   {
    "duration": 359,
    "start_time": "2022-04-21T10:38:34.701Z"
   },
   {
    "duration": 867,
    "start_time": "2022-04-21T10:38:35.062Z"
   },
   {
    "duration": 7,
    "start_time": "2022-04-21T10:38:35.931Z"
   },
   {
    "duration": 2264,
    "start_time": "2022-04-21T10:38:35.948Z"
   },
   {
    "duration": 56,
    "start_time": "2022-04-21T10:38:38.214Z"
   },
   {
    "duration": 19,
    "start_time": "2022-04-21T10:38:38.272Z"
   },
   {
    "duration": 539,
    "start_time": "2022-04-21T10:38:38.292Z"
   },
   {
    "duration": 278,
    "start_time": "2022-04-21T10:38:38.832Z"
   },
   {
    "duration": 35,
    "start_time": "2022-04-21T10:38:39.112Z"
   },
   {
    "duration": 72,
    "start_time": "2022-04-21T10:38:39.149Z"
   },
   {
    "duration": 263,
    "start_time": "2022-04-21T10:38:39.223Z"
   },
   {
    "duration": 981,
    "start_time": "2022-04-21T10:38:39.488Z"
   },
   {
    "duration": 75,
    "start_time": "2022-04-21T10:40:22.698Z"
   },
   {
    "duration": 354,
    "start_time": "2022-04-21T10:40:42.991Z"
   },
   {
    "duration": 800,
    "start_time": "2022-04-21T10:40:43.348Z"
   },
   {
    "duration": 8,
    "start_time": "2022-04-21T10:40:44.149Z"
   },
   {
    "duration": 2373,
    "start_time": "2022-04-21T10:40:44.159Z"
   },
   {
    "duration": 47,
    "start_time": "2022-04-21T10:40:46.534Z"
   },
   {
    "duration": 18,
    "start_time": "2022-04-21T10:40:46.583Z"
   },
   {
    "duration": 553,
    "start_time": "2022-04-21T10:40:46.603Z"
   },
   {
    "duration": 285,
    "start_time": "2022-04-21T10:40:47.158Z"
   },
   {
    "duration": 26,
    "start_time": "2022-04-21T10:40:47.447Z"
   },
   {
    "duration": 85,
    "start_time": "2022-04-21T10:40:47.476Z"
   },
   {
    "duration": 2,
    "start_time": "2022-04-21T10:40:47.563Z"
   },
   {
    "duration": 1243,
    "start_time": "2022-04-21T10:40:47.566Z"
   },
   {
    "duration": 389,
    "start_time": "2022-04-21T10:47:16.956Z"
   },
   {
    "duration": 783,
    "start_time": "2022-04-21T10:47:17.347Z"
   },
   {
    "duration": 7,
    "start_time": "2022-04-21T10:47:18.132Z"
   },
   {
    "duration": 2229,
    "start_time": "2022-04-21T10:47:18.147Z"
   },
   {
    "duration": 46,
    "start_time": "2022-04-21T10:47:20.378Z"
   },
   {
    "duration": 30,
    "start_time": "2022-04-21T10:47:20.426Z"
   },
   {
    "duration": 544,
    "start_time": "2022-04-21T10:47:20.457Z"
   },
   {
    "duration": 281,
    "start_time": "2022-04-21T10:47:21.002Z"
   },
   {
    "duration": 24,
    "start_time": "2022-04-21T10:47:21.285Z"
   },
   {
    "duration": 114,
    "start_time": "2022-04-21T10:47:21.310Z"
   },
   {
    "duration": 2,
    "start_time": "2022-04-21T10:47:21.426Z"
   },
   {
    "duration": 1158,
    "start_time": "2022-04-21T10:47:21.429Z"
   },
   {
    "duration": 15,
    "start_time": "2022-04-21T10:50:38.412Z"
   },
   {
    "duration": 337,
    "start_time": "2022-04-21T11:01:26.592Z"
   },
   {
    "duration": 277,
    "start_time": "2022-04-21T11:06:58.865Z"
   },
   {
    "duration": 278,
    "start_time": "2022-04-21T11:09:19.631Z"
   },
   {
    "duration": 273,
    "start_time": "2022-04-21T11:09:34.494Z"
   },
   {
    "duration": 23,
    "start_time": "2022-04-21T11:18:34.846Z"
   },
   {
    "duration": 1112,
    "start_time": "2022-04-21T11:18:39.104Z"
   },
   {
    "duration": 13,
    "start_time": "2022-04-21T11:19:34.482Z"
   },
   {
    "duration": 15,
    "start_time": "2022-04-21T11:20:09.583Z"
   },
   {
    "duration": 268,
    "start_time": "2022-04-21T11:21:39.682Z"
   },
   {
    "duration": 279,
    "start_time": "2022-04-21T11:22:59.799Z"
   },
   {
    "duration": 343,
    "start_time": "2022-04-21T11:23:17.041Z"
   },
   {
    "duration": 264,
    "start_time": "2022-04-21T11:23:28.504Z"
   },
   {
    "duration": 259,
    "start_time": "2022-04-21T11:23:47.225Z"
   },
   {
    "duration": 22,
    "start_time": "2022-04-21T11:25:25.449Z"
   },
   {
    "duration": 950,
    "start_time": "2022-04-21T11:25:28.921Z"
   },
   {
    "duration": 6,
    "start_time": "2022-04-21T11:46:12.745Z"
   },
   {
    "duration": 8,
    "start_time": "2022-04-21T11:48:58.178Z"
   },
   {
    "duration": 746,
    "start_time": "2022-04-21T11:49:08.051Z"
   },
   {
    "duration": 34,
    "start_time": "2022-04-21T11:49:13.393Z"
   },
   {
    "duration": 17,
    "start_time": "2022-04-21T11:49:14.154Z"
   },
   {
    "duration": 292,
    "start_time": "2022-04-21T11:49:15.402Z"
   },
   {
    "duration": 274,
    "start_time": "2022-04-21T11:49:18.451Z"
   },
   {
    "duration": 28,
    "start_time": "2022-04-21T11:49:19.726Z"
   },
   {
    "duration": 98,
    "start_time": "2022-04-21T11:49:20.767Z"
   },
   {
    "duration": 16,
    "start_time": "2022-04-21T11:49:23.914Z"
   },
   {
    "duration": 9,
    "start_time": "2022-04-21T11:49:24.907Z"
   },
   {
    "duration": 9,
    "start_time": "2022-04-21T11:49:47.602Z"
   },
   {
    "duration": 21,
    "start_time": "2022-04-21T11:50:01.315Z"
   },
   {
    "duration": 20,
    "start_time": "2022-04-21T11:50:40.107Z"
   },
   {
    "duration": 361,
    "start_time": "2022-04-21T11:55:42.086Z"
   },
   {
    "duration": 803,
    "start_time": "2022-04-21T11:55:42.449Z"
   },
   {
    "duration": 7,
    "start_time": "2022-04-21T11:55:43.254Z"
   },
   {
    "duration": 2401,
    "start_time": "2022-04-21T11:55:43.263Z"
   },
   {
    "duration": 46,
    "start_time": "2022-04-21T11:55:45.665Z"
   },
   {
    "duration": 21,
    "start_time": "2022-04-21T11:55:45.713Z"
   },
   {
    "duration": 543,
    "start_time": "2022-04-21T11:55:45.748Z"
   },
   {
    "duration": 278,
    "start_time": "2022-04-21T11:55:46.292Z"
   },
   {
    "duration": 25,
    "start_time": "2022-04-21T11:55:46.572Z"
   },
   {
    "duration": 116,
    "start_time": "2022-04-21T11:55:46.600Z"
   },
   {
    "duration": 16,
    "start_time": "2022-04-21T11:55:46.718Z"
   },
   {
    "duration": 378,
    "start_time": "2022-04-21T11:55:46.736Z"
   },
   {
    "duration": 22,
    "start_time": "2022-04-21T11:55:47.116Z"
   },
   {
    "duration": 15,
    "start_time": "2022-04-21T11:55:47.147Z"
   },
   {
    "duration": 296,
    "start_time": "2022-04-21T11:55:47.164Z"
   },
   {
    "duration": 265,
    "start_time": "2022-04-21T11:55:47.462Z"
   },
   {
    "duration": 31,
    "start_time": "2022-04-21T11:55:47.729Z"
   },
   {
    "duration": 2,
    "start_time": "2022-04-21T11:55:47.762Z"
   },
   {
    "duration": 1009,
    "start_time": "2022-04-21T11:55:47.765Z"
   },
   {
    "duration": 185,
    "start_time": "2022-04-21T11:56:19.484Z"
   },
   {
    "duration": 807,
    "start_time": "2022-04-21T11:56:20.555Z"
   },
   {
    "duration": 20,
    "start_time": "2022-04-21T11:58:14.789Z"
   },
   {
    "duration": 182,
    "start_time": "2022-04-21T11:58:15.924Z"
   },
   {
    "duration": 678,
    "start_time": "2022-04-21T11:58:17.012Z"
   },
   {
    "duration": 358,
    "start_time": "2022-04-21T11:58:26.389Z"
   },
   {
    "duration": 799,
    "start_time": "2022-04-21T11:58:26.749Z"
   },
   {
    "duration": 8,
    "start_time": "2022-04-21T11:58:27.550Z"
   },
   {
    "duration": 2349,
    "start_time": "2022-04-21T11:58:27.560Z"
   },
   {
    "duration": 55,
    "start_time": "2022-04-21T11:58:29.911Z"
   },
   {
    "duration": 17,
    "start_time": "2022-04-21T11:58:29.968Z"
   },
   {
    "duration": 2349,
    "start_time": "2022-04-21T11:58:29.987Z"
   },
   {
    "duration": 276,
    "start_time": "2022-04-21T11:58:32.338Z"
   },
   {
    "duration": 39,
    "start_time": "2022-04-21T11:58:32.616Z"
   },
   {
    "duration": 185,
    "start_time": "2022-04-21T11:58:32.658Z"
   },
   {
    "duration": 17,
    "start_time": "2022-04-21T11:58:32.846Z"
   },
   {
    "duration": 368,
    "start_time": "2022-04-21T11:58:32.864Z"
   },
   {
    "duration": 28,
    "start_time": "2022-04-21T11:58:33.234Z"
   },
   {
    "duration": 16,
    "start_time": "2022-04-21T11:58:33.264Z"
   },
   {
    "duration": 304,
    "start_time": "2022-04-21T11:58:33.282Z"
   },
   {
    "duration": 294,
    "start_time": "2022-04-21T11:58:33.588Z"
   },
   {
    "duration": 23,
    "start_time": "2022-04-21T11:58:33.884Z"
   },
   {
    "duration": 39,
    "start_time": "2022-04-21T11:58:33.909Z"
   },
   {
    "duration": 229,
    "start_time": "2022-04-21T11:58:33.949Z"
   },
   {
    "duration": 861,
    "start_time": "2022-04-21T11:58:34.180Z"
   },
   {
    "duration": 750,
    "start_time": "2022-04-22T07:57:06.486Z"
   },
   {
    "duration": 65,
    "start_time": "2022-04-22T07:59:33.949Z"
   },
   {
    "duration": 94,
    "start_time": "2022-04-22T08:01:41.557Z"
   },
   {
    "duration": 25,
    "start_time": "2022-04-22T08:01:47.507Z"
   },
   {
    "duration": 9,
    "start_time": "2022-04-22T08:01:59.420Z"
   },
   {
    "duration": 44,
    "start_time": "2022-04-22T08:02:14.156Z"
   },
   {
    "duration": 43,
    "start_time": "2022-04-22T08:02:30.092Z"
   },
   {
    "duration": 22,
    "start_time": "2022-04-22T08:02:39.844Z"
   },
   {
    "duration": 20,
    "start_time": "2022-04-22T08:02:56.452Z"
   },
   {
    "duration": 3,
    "start_time": "2022-04-22T08:28:30.350Z"
   },
   {
    "duration": 54,
    "start_time": "2022-04-22T09:25:53.259Z"
   },
   {
    "duration": 4,
    "start_time": "2022-04-22T15:54:15.423Z"
   },
   {
    "duration": 4,
    "start_time": "2022-04-22T15:55:28.482Z"
   },
   {
    "duration": 10,
    "start_time": "2022-04-22T15:57:02.983Z"
   },
   {
    "duration": 7,
    "start_time": "2022-04-22T15:57:08.324Z"
   },
   {
    "duration": 124,
    "start_time": "2022-04-22T15:57:08.802Z"
   },
   {
    "duration": 722,
    "start_time": "2022-04-22T16:02:04.469Z"
   },
   {
    "duration": 14,
    "start_time": "2022-04-22T16:02:34.002Z"
   },
   {
    "duration": 95,
    "start_time": "2022-04-22T16:04:16.122Z"
   },
   {
    "duration": 714,
    "start_time": "2022-04-22T16:04:52.623Z"
   },
   {
    "duration": 635,
    "start_time": "2022-04-22T16:04:54.334Z"
   },
   {
    "duration": 14290,
    "start_time": "2022-04-22T16:04:55.642Z"
   },
   {
    "duration": 98,
    "start_time": "2022-04-22T16:08:53.201Z"
   },
   {
    "duration": 12,
    "start_time": "2022-04-22T16:31:22.775Z"
   },
   {
    "duration": 4,
    "start_time": "2022-04-22T16:33:34.783Z"
   },
   {
    "duration": 4,
    "start_time": "2022-04-22T16:36:44.668Z"
   },
   {
    "duration": 3,
    "start_time": "2022-04-22T16:36:54.153Z"
   },
   {
    "duration": 4,
    "start_time": "2022-04-22T16:41:51.322Z"
   },
   {
    "duration": 4,
    "start_time": "2022-04-22T16:43:23.476Z"
   },
   {
    "duration": 10,
    "start_time": "2022-04-22T16:48:17.425Z"
   },
   {
    "duration": 4,
    "start_time": "2022-04-22T16:49:56.392Z"
   },
   {
    "duration": 9,
    "start_time": "2022-04-22T16:50:01.615Z"
   },
   {
    "duration": 33,
    "start_time": "2022-04-22T16:50:58.837Z"
   },
   {
    "duration": 15,
    "start_time": "2022-04-22T16:51:05.704Z"
   },
   {
    "duration": 75516,
    "start_time": "2022-04-22T16:51:31.784Z"
   },
   {
    "duration": 373733,
    "start_time": "2022-04-22T16:55:29.729Z"
   },
   {
    "duration": 4,
    "start_time": "2022-04-22T17:02:58.645Z"
   },
   {
    "duration": 62118,
    "start_time": "2022-04-22T17:03:14.167Z"
   },
   {
    "duration": 470461,
    "start_time": "2022-04-22T17:04:45.388Z"
   },
   {
    "duration": 7,
    "start_time": "2022-04-22T17:14:05.968Z"
   },
   {
    "duration": 4,
    "start_time": "2022-04-22T17:15:16.490Z"
   },
   {
    "duration": 791,
    "start_time": "2022-04-22T17:15:17.545Z"
   },
   {
    "duration": 7,
    "start_time": "2022-04-22T17:15:21.176Z"
   },
   {
    "duration": 45,
    "start_time": "2022-04-22T17:15:28.691Z"
   },
   {
    "duration": 20,
    "start_time": "2022-04-22T17:15:29.562Z"
   },
   {
    "duration": 411,
    "start_time": "2022-04-22T17:15:30.647Z"
   },
   {
    "duration": 369,
    "start_time": "2022-04-22T17:15:32.206Z"
   },
   {
    "duration": 27,
    "start_time": "2022-04-22T17:15:33.125Z"
   },
   {
    "duration": 197,
    "start_time": "2022-04-22T17:15:34.026Z"
   },
   {
    "duration": 20,
    "start_time": "2022-04-22T17:15:34.966Z"
   },
   {
    "duration": 302,
    "start_time": "2022-04-22T17:15:36.104Z"
   },
   {
    "duration": 25,
    "start_time": "2022-04-22T17:15:37.065Z"
   },
   {
    "duration": 19,
    "start_time": "2022-04-22T17:15:38.466Z"
   },
   {
    "duration": 568,
    "start_time": "2022-04-22T17:15:39.780Z"
   },
   {
    "duration": 268,
    "start_time": "2022-04-22T17:15:40.725Z"
   },
   {
    "duration": 23,
    "start_time": "2022-04-22T17:15:42.485Z"
   },
   {
    "duration": 16,
    "start_time": "2022-04-22T17:15:46.566Z"
   },
   {
    "duration": 231,
    "start_time": "2022-04-22T17:15:47.501Z"
   },
   {
    "duration": 1295,
    "start_time": "2022-04-22T17:15:48.840Z"
   },
   {
    "duration": 4,
    "start_time": "2022-04-22T17:15:59.484Z"
   },
   {
    "duration": 8,
    "start_time": "2022-04-22T17:16:04.727Z"
   },
   {
    "duration": 4,
    "start_time": "2022-04-22T17:16:05.710Z"
   },
   {
    "duration": 606,
    "start_time": "2022-04-22T17:17:03.428Z"
   },
   {
    "duration": 439,
    "start_time": "2022-04-22T17:17:04.037Z"
   },
   {
    "duration": 362485,
    "start_time": "2022-04-22T17:17:16.571Z"
   },
   {
    "duration": 10,
    "start_time": "2022-04-22T17:28:48.591Z"
   },
   {
    "duration": 21,
    "start_time": "2022-04-22T17:30:03.452Z"
   },
   {
    "duration": 16218,
    "start_time": "2022-04-22T17:30:10.767Z"
   },
   {
    "duration": 157819,
    "start_time": "2022-04-22T17:32:13.288Z"
   },
   {
    "duration": 749850,
    "start_time": "2022-04-22T17:34:59.681Z"
   },
   {
    "duration": 129,
    "start_time": "2022-04-22T17:47:29.533Z"
   },
   {
    "duration": 212563,
    "start_time": "2022-04-23T12:05:40.804Z"
   },
   {
    "duration": 195883,
    "start_time": "2022-04-23T12:09:55.001Z"
   },
   {
    "duration": 4998639,
    "start_time": "2022-04-23T12:13:23.720Z"
   },
   {
    "duration": 3666634,
    "start_time": "2022-04-23T14:45:26.719Z"
   },
   {
    "duration": 295,
    "start_time": "2022-04-23T15:46:33.355Z"
   },
   {
    "duration": 2641052,
    "start_time": "2022-04-23T15:48:37.513Z"
   },
   {
    "duration": 537,
    "start_time": "2022-04-23T16:47:04.241Z"
   },
   {
    "duration": 9,
    "start_time": "2022-04-23T16:48:02.081Z"
   },
   {
    "duration": 4,
    "start_time": "2022-04-23T16:50:54.015Z"
   },
   {
    "duration": 509,
    "start_time": "2022-04-23T16:51:03.896Z"
   },
   {
    "duration": 365,
    "start_time": "2022-04-23T16:54:04.201Z"
   },
   {
    "duration": 298,
    "start_time": "2022-04-23T16:54:50.526Z"
   },
   {
    "duration": 18,
    "start_time": "2022-04-23T16:55:27.758Z"
   },
   {
    "duration": 618,
    "start_time": "2022-04-23T16:56:04.054Z"
   },
   {
    "duration": 551,
    "start_time": "2022-04-23T16:56:43.310Z"
   },
   {
    "duration": 87,
    "start_time": "2022-04-23T16:59:41.837Z"
   },
   {
    "duration": 82914,
    "start_time": "2022-04-23T17:00:16.596Z"
   },
   {
    "duration": 18426,
    "start_time": "2022-04-23T17:02:13.062Z"
   },
   {
    "duration": 17893,
    "start_time": "2022-04-23T17:02:46.701Z"
   },
   {
    "duration": 16793,
    "start_time": "2022-04-23T17:03:41.061Z"
   },
   {
    "duration": 19596,
    "start_time": "2022-04-23T17:04:24.594Z"
   },
   {
    "duration": 24621,
    "start_time": "2022-04-23T17:05:08.563Z"
   },
   {
    "duration": 227039,
    "start_time": "2022-04-23T17:06:10.035Z"
   },
   {
    "duration": 29504,
    "start_time": "2022-04-23T17:13:00.585Z"
   },
   {
    "duration": 17724,
    "start_time": "2022-04-23T17:15:04.223Z"
   },
   {
    "duration": 18163,
    "start_time": "2022-04-23T17:17:20.063Z"
   },
   {
    "duration": 18525,
    "start_time": "2022-04-23T17:18:04.591Z"
   },
   {
    "duration": 35363,
    "start_time": "2022-04-23T17:18:46.238Z"
   },
   {
    "duration": 57271,
    "start_time": "2022-04-23T17:19:43.166Z"
   },
   {
    "duration": 12686,
    "start_time": "2022-04-23T17:21:10.966Z"
   },
   {
    "duration": 1092232,
    "start_time": "2022-04-23T17:23:01.501Z"
   },
   {
    "duration": 5490759,
    "start_time": "2022-04-23T17:42:34.066Z"
   },
   {
    "duration": 1100545,
    "start_time": "2022-04-23T19:14:54.016Z"
   },
   {
    "duration": 1392287,
    "start_time": "2022-04-23T19:34:25.654Z"
   },
   {
    "duration": 673524,
    "start_time": "2022-04-23T20:05:22.624Z"
   },
   {
    "duration": 712534,
    "start_time": "2022-04-23T20:24:46.865Z"
   },
   {
    "duration": 668281,
    "start_time": "2022-04-23T20:38:44.561Z"
   },
   {
    "duration": 10,
    "start_time": "2022-04-24T06:22:07.099Z"
   },
   {
    "duration": 9,
    "start_time": "2022-04-24T06:22:15.763Z"
   },
   {
    "duration": 24,
    "start_time": "2022-04-24T06:22:37.012Z"
   },
   {
    "duration": 17,
    "start_time": "2022-04-24T06:23:57.931Z"
   },
   {
    "duration": 20,
    "start_time": "2022-04-24T06:27:37.514Z"
   },
   {
    "duration": 33,
    "start_time": "2022-04-24T06:38:28.133Z"
   },
   {
    "duration": 19,
    "start_time": "2022-04-24T06:38:54.929Z"
   },
   {
    "duration": 48,
    "start_time": "2022-04-24T06:40:10.807Z"
   },
   {
    "duration": 11650,
    "start_time": "2022-04-24T06:43:17.773Z"
   },
   {
    "duration": 1298,
    "start_time": "2022-04-24T06:44:12.481Z"
   },
   {
    "duration": 827,
    "start_time": "2022-04-24T06:44:17.170Z"
   },
   {
    "duration": 10,
    "start_time": "2022-04-24T06:44:21.703Z"
   },
   {
    "duration": 2401,
    "start_time": "2022-04-24T06:44:26.307Z"
   },
   {
    "duration": 54,
    "start_time": "2022-04-24T06:44:36.038Z"
   },
   {
    "duration": 18,
    "start_time": "2022-04-24T06:44:37.004Z"
   },
   {
    "duration": 439,
    "start_time": "2022-04-24T06:44:38.157Z"
   },
   {
    "duration": 279,
    "start_time": "2022-04-24T06:44:39.951Z"
   },
   {
    "duration": 27,
    "start_time": "2022-04-24T06:44:46.234Z"
   },
   {
    "duration": 179,
    "start_time": "2022-04-24T06:44:47.352Z"
   },
   {
    "duration": 15,
    "start_time": "2022-04-24T06:44:50.550Z"
   },
   {
    "duration": 300,
    "start_time": "2022-04-24T06:44:51.708Z"
   },
   {
    "duration": 26,
    "start_time": "2022-04-24T06:44:55.587Z"
   },
   {
    "duration": 15,
    "start_time": "2022-04-24T06:45:04.838Z"
   },
   {
    "duration": 303,
    "start_time": "2022-04-24T06:45:06.148Z"
   },
   {
    "duration": 264,
    "start_time": "2022-04-24T06:45:12.665Z"
   },
   {
    "duration": 25,
    "start_time": "2022-04-24T06:45:22.618Z"
   },
   {
    "duration": 25,
    "start_time": "2022-04-24T06:45:26.168Z"
   },
   {
    "duration": 158,
    "start_time": "2022-04-24T06:45:27.188Z"
   },
   {
    "duration": 684,
    "start_time": "2022-04-24T06:45:28.728Z"
   },
   {
    "duration": 3,
    "start_time": "2022-04-24T06:45:41.461Z"
   },
   {
    "duration": 2,
    "start_time": "2022-04-24T06:45:42.768Z"
   },
   {
    "duration": 3,
    "start_time": "2022-04-24T06:45:43.982Z"
   },
   {
    "duration": 525,
    "start_time": "2022-04-24T06:45:45.495Z"
   },
   {
    "duration": 481,
    "start_time": "2022-04-24T06:45:55.235Z"
   },
   {
    "duration": 17,
    "start_time": "2022-04-24T06:46:01.560Z"
   },
   {
    "duration": 303421,
    "start_time": "2022-04-24T06:46:10.831Z"
   },
   {
    "duration": 444,
    "start_time": "2022-04-24T06:51:27.595Z"
   },
   {
    "duration": 10,
    "start_time": "2022-04-24T06:52:06.615Z"
   },
   {
    "duration": 9,
    "start_time": "2022-04-24T06:53:24.868Z"
   },
   {
    "duration": 21,
    "start_time": "2022-04-24T06:57:10.449Z"
   },
   {
    "duration": 10,
    "start_time": "2022-04-24T06:58:28.768Z"
   },
   {
    "duration": 10,
    "start_time": "2022-04-24T06:58:52.859Z"
   },
   {
    "duration": 16,
    "start_time": "2022-04-24T07:03:48.392Z"
   },
   {
    "duration": 17,
    "start_time": "2022-04-24T07:04:14.149Z"
   },
   {
    "duration": 785,
    "start_time": "2022-04-24T07:05:26.622Z"
   },
   {
    "duration": 13,
    "start_time": "2022-04-24T07:05:47.273Z"
   },
   {
    "duration": 781,
    "start_time": "2022-04-24T07:06:23.712Z"
   },
   {
    "duration": 67,
    "start_time": "2022-04-24T07:06:28.242Z"
   },
   {
    "duration": 11779,
    "start_time": "2022-04-24T07:06:34.500Z"
   },
   {
    "duration": 645685,
    "start_time": "2022-04-24T07:07:01.551Z"
   },
   {
    "duration": 190,
    "start_time": "2022-04-24T07:17:58.891Z"
   },
   {
    "duration": 71,
    "start_time": "2022-04-24T07:18:04.842Z"
   },
   {
    "duration": 1211555,
    "start_time": "2022-04-24T07:18:07.962Z"
   },
   {
    "duration": 2378351,
    "start_time": "2022-04-24T07:39:44.594Z"
   },
   {
    "duration": 155,
    "start_time": "2022-04-24T08:37:32.622Z"
   },
   {
    "duration": 10,
    "start_time": "2022-04-24T08:37:43.269Z"
   },
   {
    "duration": 16,
    "start_time": "2022-04-24T08:38:25.368Z"
   },
   {
    "duration": 15,
    "start_time": "2022-04-24T08:39:29.119Z"
   },
   {
    "duration": 3164833,
    "start_time": "2022-04-24T08:40:31.443Z"
   },
   {
    "duration": 3,
    "start_time": "2022-04-24T09:33:50.110Z"
   },
   {
    "duration": 3,
    "start_time": "2022-04-24T09:34:17.984Z"
   },
   {
    "duration": 15,
    "start_time": "2022-04-24T09:35:08.148Z"
   },
   {
    "duration": 18,
    "start_time": "2022-04-24T09:38:35.345Z"
   },
   {
    "duration": 12,
    "start_time": "2022-04-24T09:41:40.561Z"
   },
   {
    "duration": 3,
    "start_time": "2022-04-24T09:43:56.799Z"
   },
   {
    "duration": 3,
    "start_time": "2022-04-24T09:44:07.025Z"
   },
   {
    "duration": 6,
    "start_time": "2022-04-24T09:44:33.566Z"
   },
   {
    "duration": 5,
    "start_time": "2022-04-24T09:45:15.115Z"
   },
   {
    "duration": 5,
    "start_time": "2022-04-24T09:45:31.298Z"
   },
   {
    "duration": 9,
    "start_time": "2022-04-24T09:45:57.400Z"
   },
   {
    "duration": 5,
    "start_time": "2022-04-24T09:47:27.276Z"
   },
   {
    "duration": 4,
    "start_time": "2022-04-24T09:50:44.126Z"
   },
   {
    "duration": 2194428,
    "start_time": "2022-04-24T09:51:26.157Z"
   },
   {
    "duration": 2382966,
    "start_time": "2022-04-24T11:15:41.061Z"
   },
   {
    "duration": 27579092,
    "start_time": "2022-04-24T12:01:45.387Z"
   },
   {
    "duration": 862265,
    "start_time": "2022-04-24T19:43:25.924Z"
   },
   {
    "duration": 33633,
    "start_time": "2022-04-24T19:58:42.440Z"
   },
   {
    "duration": 0,
    "start_time": "2022-04-25T06:16:52.676Z"
   },
   {
    "duration": 3379402,
    "start_time": "2022-04-25T06:19:42.778Z"
   },
   {
    "duration": 3,
    "start_time": "2022-04-25T07:35:38.573Z"
   },
   {
    "duration": 7,
    "start_time": "2022-04-25T07:35:46.272Z"
   },
   {
    "duration": 4,
    "start_time": "2022-04-25T07:36:13.604Z"
   },
   {
    "duration": 7,
    "start_time": "2022-04-25T07:36:13.923Z"
   },
   {
    "duration": 109,
    "start_time": "2022-04-25T07:38:40.632Z"
   },
   {
    "duration": 8,
    "start_time": "2022-04-25T07:38:45.910Z"
   },
   {
    "duration": 521222,
    "start_time": "2022-04-25T07:40:58.927Z"
   },
   {
    "duration": 4,
    "start_time": "2022-04-25T08:03:51.377Z"
   },
   {
    "duration": 8,
    "start_time": "2022-04-25T08:03:51.692Z"
   },
   {
    "duration": 758,
    "start_time": "2022-04-25T08:03:58.942Z"
   },
   {
    "duration": 60,
    "start_time": "2022-04-25T08:04:02.165Z"
   },
   {
    "duration": 12093,
    "start_time": "2022-04-25T08:04:02.573Z"
   },
   {
    "duration": 9,
    "start_time": "2022-04-25T08:04:29.070Z"
   },
   {
    "duration": 11,
    "start_time": "2022-04-25T08:07:16.233Z"
   },
   {
    "duration": 15,
    "start_time": "2022-04-25T08:08:12.002Z"
   },
   {
    "duration": 4,
    "start_time": "2022-04-25T08:08:28.785Z"
   },
   {
    "duration": 13,
    "start_time": "2022-04-25T08:08:29.047Z"
   },
   {
    "duration": 12,
    "start_time": "2022-04-25T08:08:32.454Z"
   },
   {
    "duration": 11,
    "start_time": "2022-04-25T08:08:49.722Z"
   },
   {
    "duration": 585196,
    "start_time": "2022-04-25T08:10:01.475Z"
   },
   {
    "duration": 3,
    "start_time": "2022-04-25T08:19:55.171Z"
   },
   {
    "duration": 7,
    "start_time": "2022-04-25T08:19:55.806Z"
   },
   {
    "duration": 3,
    "start_time": "2022-04-25T08:20:25.903Z"
   },
   {
    "duration": 10,
    "start_time": "2022-04-25T08:20:26.752Z"
   },
   {
    "duration": 11,
    "start_time": "2022-04-25T08:20:36.760Z"
   },
   {
    "duration": 11,
    "start_time": "2022-04-25T08:20:42.023Z"
   },
   {
    "duration": 16,
    "start_time": "2022-04-25T08:20:47.542Z"
   },
   {
    "duration": 16,
    "start_time": "2022-04-25T08:20:51.447Z"
   },
   {
    "duration": 1224,
    "start_time": "2022-04-25T09:06:20.893Z"
   },
   {
    "duration": 845,
    "start_time": "2022-04-25T09:06:22.119Z"
   },
   {
    "duration": 7,
    "start_time": "2022-04-25T09:06:22.966Z"
   },
   {
    "duration": 2630,
    "start_time": "2022-04-25T09:06:22.975Z"
   },
   {
    "duration": 58,
    "start_time": "2022-04-25T09:06:25.607Z"
   },
   {
    "duration": 19,
    "start_time": "2022-04-25T09:06:25.666Z"
   },
   {
    "duration": 469,
    "start_time": "2022-04-25T09:06:25.686Z"
   },
   {
    "duration": 279,
    "start_time": "2022-04-25T09:06:26.157Z"
   },
   {
    "duration": 31,
    "start_time": "2022-04-25T09:06:26.438Z"
   },
   {
    "duration": 198,
    "start_time": "2022-04-25T09:06:26.471Z"
   },
   {
    "duration": 16,
    "start_time": "2022-04-25T09:06:26.671Z"
   },
   {
    "duration": 321,
    "start_time": "2022-04-25T09:06:26.689Z"
   },
   {
    "duration": 23,
    "start_time": "2022-04-25T09:06:27.012Z"
   },
   {
    "duration": 16,
    "start_time": "2022-04-25T09:06:27.055Z"
   },
   {
    "duration": 305,
    "start_time": "2022-04-25T09:06:27.073Z"
   },
   {
    "duration": 284,
    "start_time": "2022-04-25T09:06:27.380Z"
   },
   {
    "duration": 24,
    "start_time": "2022-04-25T09:06:27.666Z"
   },
   {
    "duration": 27,
    "start_time": "2022-04-25T09:06:27.691Z"
   },
   {
    "duration": 202,
    "start_time": "2022-04-25T09:06:27.720Z"
   },
   {
    "duration": 755,
    "start_time": "2022-04-25T09:06:27.923Z"
   },
   {
    "duration": 3,
    "start_time": "2022-04-25T09:06:28.680Z"
   },
   {
    "duration": 6,
    "start_time": "2022-04-25T09:06:28.685Z"
   },
   {
    "duration": 5,
    "start_time": "2022-04-25T09:06:28.692Z"
   },
   {
    "duration": 581,
    "start_time": "2022-04-25T09:06:28.698Z"
   },
   {
    "duration": 506,
    "start_time": "2022-04-25T09:06:29.280Z"
   },
   {
    "duration": 3,
    "start_time": "2022-04-25T09:06:29.787Z"
   },
   {
    "duration": 512800,
    "start_time": "2022-04-25T09:06:29.791Z"
   },
   {
    "duration": 6,
    "start_time": "2022-04-25T09:15:02.656Z"
   },
   {
    "duration": 27,
    "start_time": "2022-04-25T09:15:02.666Z"
   },
   {
    "duration": 891,
    "start_time": "2022-04-25T09:15:02.695Z"
   },
   {
    "duration": 78,
    "start_time": "2022-04-25T09:15:03.588Z"
   },
   {
    "duration": 13147,
    "start_time": "2022-04-25T09:15:03.668Z"
   },
   {
    "duration": 11,
    "start_time": "2022-04-25T09:15:16.816Z"
   },
   {
    "duration": 703000,
    "start_time": "2022-04-25T09:15:16.828Z"
   },
   {
    "duration": 20,
    "start_time": "2022-04-25T09:26:59.830Z"
   },
   {
    "duration": 148,
    "start_time": "2022-04-25T09:26:59.855Z"
   },
   {
    "duration": 69,
    "start_time": "2022-04-25T09:27:00.005Z"
   },
   {
    "duration": 3222619,
    "start_time": "2022-04-25T09:27:00.076Z"
   },
   {
    "duration": 12,
    "start_time": "2022-04-25T10:20:42.696Z"
   },
   {
    "duration": 8900463,
    "start_time": "2022-04-25T10:20:42.709Z"
   },
   {
    "duration": 83,
    "start_time": "2022-04-25T12:49:03.176Z"
   },
   {
    "duration": 4,
    "start_time": "2022-04-25T12:53:33.461Z"
   },
   {
    "duration": 25180,
    "start_time": "2022-04-25T12:53:36.981Z"
   },
   {
    "duration": 474,
    "start_time": "2022-04-25T13:03:52.575Z"
   },
   {
    "duration": 39458,
    "start_time": "2022-04-25T13:04:39.752Z"
   },
   {
    "duration": 189119,
    "start_time": "2022-04-25T13:06:27.905Z"
   },
   {
    "duration": 83297,
    "start_time": "2022-04-25T13:10:02.381Z"
   },
   {
    "duration": 46,
    "start_time": "2022-04-26T12:27:33.218Z"
   },
   {
    "duration": 1267,
    "start_time": "2022-04-26T12:27:41.555Z"
   },
   {
    "duration": 809,
    "start_time": "2022-04-26T12:27:44.345Z"
   },
   {
    "duration": 7,
    "start_time": "2022-04-26T12:27:49.506Z"
   },
   {
    "duration": 2088,
    "start_time": "2022-04-26T12:27:52.433Z"
   },
   {
    "duration": 43,
    "start_time": "2022-04-26T12:28:00.314Z"
   },
   {
    "duration": 17,
    "start_time": "2022-04-26T12:28:02.064Z"
   },
   {
    "duration": 566,
    "start_time": "2022-04-26T12:28:03.124Z"
   },
   {
    "duration": 344,
    "start_time": "2022-04-26T12:28:06.977Z"
   },
   {
    "duration": 27,
    "start_time": "2022-04-26T12:28:10.225Z"
   },
   {
    "duration": 98,
    "start_time": "2022-04-26T12:28:13.702Z"
   },
   {
    "duration": 15,
    "start_time": "2022-04-26T12:28:17.754Z"
   },
   {
    "duration": 286,
    "start_time": "2022-04-26T12:28:18.561Z"
   },
   {
    "duration": 21,
    "start_time": "2022-04-26T12:28:21.505Z"
   },
   {
    "duration": 14,
    "start_time": "2022-04-26T12:28:22.137Z"
   },
   {
    "duration": 283,
    "start_time": "2022-04-26T12:28:25.104Z"
   },
   {
    "duration": 254,
    "start_time": "2022-04-26T12:28:26.457Z"
   },
   {
    "duration": 23,
    "start_time": "2022-04-26T12:28:31.856Z"
   },
   {
    "duration": 22,
    "start_time": "2022-04-26T12:28:32.553Z"
   },
   {
    "duration": 159,
    "start_time": "2022-04-26T12:28:33.145Z"
   },
   {
    "duration": 674,
    "start_time": "2022-04-26T12:28:34.177Z"
   },
   {
    "duration": 5,
    "start_time": "2022-04-26T12:28:38.465Z"
   },
   {
    "duration": 3,
    "start_time": "2022-04-26T12:28:39.185Z"
   },
   {
    "duration": 3,
    "start_time": "2022-04-26T12:28:39.872Z"
   },
   {
    "duration": 73,
    "start_time": "2022-04-26T12:28:40.272Z"
   },
   {
    "duration": 5,
    "start_time": "2022-04-26T12:28:53.089Z"
   },
   {
    "duration": 4,
    "start_time": "2022-04-26T12:29:14.179Z"
   },
   {
    "duration": 25,
    "start_time": "2022-04-26T12:29:48.602Z"
   },
   {
    "duration": 1388,
    "start_time": "2022-04-26T12:33:00.240Z"
   },
   {
    "duration": 825,
    "start_time": "2022-04-26T12:33:02.656Z"
   },
   {
    "duration": 7,
    "start_time": "2022-04-26T12:33:03.784Z"
   },
   {
    "duration": 2219,
    "start_time": "2022-04-26T12:33:05.256Z"
   },
   {
    "duration": 42,
    "start_time": "2022-04-26T12:33:13.512Z"
   },
   {
    "duration": 16,
    "start_time": "2022-04-26T12:33:14.888Z"
   },
   {
    "duration": 448,
    "start_time": "2022-04-26T12:33:16.040Z"
   },
   {
    "duration": 291,
    "start_time": "2022-04-26T12:33:16.698Z"
   },
   {
    "duration": 27,
    "start_time": "2022-04-26T12:33:21.384Z"
   },
   {
    "duration": 178,
    "start_time": "2022-04-26T12:33:24.368Z"
   },
   {
    "duration": 15,
    "start_time": "2022-04-26T12:33:25.416Z"
   },
   {
    "duration": 281,
    "start_time": "2022-04-26T12:33:26.104Z"
   },
   {
    "duration": 22,
    "start_time": "2022-04-26T12:33:29.601Z"
   },
   {
    "duration": 15,
    "start_time": "2022-04-26T12:33:30.344Z"
   },
   {
    "duration": 281,
    "start_time": "2022-04-26T12:33:31.024Z"
   },
   {
    "duration": 285,
    "start_time": "2022-04-26T12:33:35.048Z"
   },
   {
    "duration": 22,
    "start_time": "2022-04-26T12:33:35.949Z"
   },
   {
    "duration": 23,
    "start_time": "2022-04-26T12:33:38.976Z"
   },
   {
    "duration": 151,
    "start_time": "2022-04-26T12:33:39.696Z"
   },
   {
    "duration": 673,
    "start_time": "2022-04-26T12:33:40.727Z"
   },
   {
    "duration": 3,
    "start_time": "2022-04-26T12:34:15.313Z"
   },
   {
    "duration": 3,
    "start_time": "2022-04-26T12:34:16.584Z"
   },
   {
    "duration": 3,
    "start_time": "2022-04-26T12:34:21.616Z"
   },
   {
    "duration": 471,
    "start_time": "2022-04-26T12:34:24.840Z"
   },
   {
    "duration": 378,
    "start_time": "2022-04-26T12:34:52.201Z"
   },
   {
    "duration": 304532,
    "start_time": "2022-04-26T12:35:03.577Z"
   },
   {
    "duration": 4,
    "start_time": "2022-04-26T12:43:42.011Z"
   },
   {
    "duration": 7,
    "start_time": "2022-04-26T12:43:42.300Z"
   },
   {
    "duration": 780,
    "start_time": "2022-04-26T12:43:47.405Z"
   },
   {
    "duration": 50,
    "start_time": "2022-04-26T12:44:11.828Z"
   },
   {
    "duration": 14900,
    "start_time": "2022-04-26T12:44:15.316Z"
   },
   {
    "duration": 10,
    "start_time": "2022-04-26T12:44:39.605Z"
   },
   {
    "duration": 772806,
    "start_time": "2022-04-26T12:44:48.660Z"
   },
   {
    "duration": 9816,
    "start_time": "2022-04-26T12:58:14.924Z"
   },
   {
    "duration": 10122,
    "start_time": "2022-04-26T12:58:42.363Z"
   },
   {
    "duration": 10531,
    "start_time": "2022-04-26T12:59:08.123Z"
   },
   {
    "duration": 10252,
    "start_time": "2022-04-26T12:59:38.451Z"
   },
   {
    "duration": 10641,
    "start_time": "2022-04-26T12:59:57.954Z"
   },
   {
    "duration": 29492,
    "start_time": "2022-04-26T13:00:25.220Z"
   },
   {
    "duration": 63347,
    "start_time": "2022-04-26T13:01:22.739Z"
   },
   {
    "duration": 23202,
    "start_time": "2022-04-26T13:03:41.173Z"
   },
   {
    "duration": 21587,
    "start_time": "2022-04-26T13:04:18.269Z"
   },
   {
    "duration": 10774,
    "start_time": "2022-04-26T13:04:57.309Z"
   },
   {
    "duration": 10,
    "start_time": "2022-04-26T13:05:14.104Z"
   },
   {
    "duration": 1647,
    "start_time": "2022-04-26T13:06:21.294Z"
   },
   {
    "duration": 6,
    "start_time": "2022-04-26T13:07:48.231Z"
   },
   {
    "duration": 6,
    "start_time": "2022-04-26T13:07:49.631Z"
   },
   {
    "duration": 3,
    "start_time": "2022-04-26T13:08:08.391Z"
   },
   {
    "duration": 7,
    "start_time": "2022-04-26T13:08:08.670Z"
   },
   {
    "duration": 10,
    "start_time": "2022-04-26T13:08:11.455Z"
   },
   {
    "duration": 6879534,
    "start_time": "2022-04-26T13:09:26.183Z"
   },
   {
    "duration": 2574800,
    "start_time": "2022-04-27T05:28:54.232Z"
   },
   {
    "duration": 1093536,
    "start_time": "2022-04-27T06:13:48.837Z"
   },
   {
    "duration": 1104487,
    "start_time": "2022-04-27T06:33:37.723Z"
   },
   {
    "duration": 1686421,
    "start_time": "2022-04-27T06:56:03.104Z"
   },
   {
    "duration": 2791183,
    "start_time": "2022-04-27T10:44:53.102Z"
   },
   {
    "duration": 673870,
    "start_time": "2022-04-27T11:32:19.197Z"
   },
   {
    "duration": 294,
    "start_time": "2022-04-27T11:46:08.972Z"
   },
   {
    "duration": 711551,
    "start_time": "2022-04-27T11:46:19.085Z"
   },
   {
    "duration": 661558,
    "start_time": "2022-04-27T12:00:19.528Z"
   },
   {
    "duration": 1793028,
    "start_time": "2022-04-27T12:18:48.480Z"
   },
   {
    "duration": 1535,
    "start_time": "2022-04-27T19:27:48.226Z"
   },
   {
    "duration": 882,
    "start_time": "2022-04-27T19:27:49.764Z"
   },
   {
    "duration": 9,
    "start_time": "2022-04-27T19:27:50.648Z"
   },
   {
    "duration": 2874,
    "start_time": "2022-04-27T19:27:50.659Z"
   },
   {
    "duration": 48,
    "start_time": "2022-04-27T19:27:53.534Z"
   },
   {
    "duration": 28,
    "start_time": "2022-04-27T19:27:53.584Z"
   },
   {
    "duration": 440,
    "start_time": "2022-04-27T19:27:53.614Z"
   },
   {
    "duration": 289,
    "start_time": "2022-04-27T19:27:54.055Z"
   },
   {
    "duration": 25,
    "start_time": "2022-04-27T19:27:54.346Z"
   },
   {
    "duration": 101,
    "start_time": "2022-04-27T19:27:54.467Z"
   },
   {
    "duration": 15,
    "start_time": "2022-04-27T19:27:54.570Z"
   },
   {
    "duration": 318,
    "start_time": "2022-04-27T19:27:54.586Z"
   },
   {
    "duration": 24,
    "start_time": "2022-04-27T19:27:54.906Z"
   },
   {
    "duration": 16,
    "start_time": "2022-04-27T19:27:54.932Z"
   },
   {
    "duration": 347,
    "start_time": "2022-04-27T19:27:54.950Z"
   },
   {
    "duration": 307,
    "start_time": "2022-04-27T19:27:55.299Z"
   },
   {
    "duration": 24,
    "start_time": "2022-04-27T19:27:55.609Z"
   },
   {
    "duration": 23,
    "start_time": "2022-04-27T19:27:55.635Z"
   },
   {
    "duration": 193,
    "start_time": "2022-04-27T19:27:55.660Z"
   },
   {
    "duration": 740,
    "start_time": "2022-04-27T19:27:55.855Z"
   },
   {
    "duration": 3,
    "start_time": "2022-04-27T19:27:56.600Z"
   },
   {
    "duration": 7,
    "start_time": "2022-04-27T19:27:56.606Z"
   },
   {
    "duration": 6,
    "start_time": "2022-04-27T19:27:56.615Z"
   },
   {
    "duration": 723,
    "start_time": "2022-04-27T19:27:56.623Z"
   },
   {
    "duration": 511,
    "start_time": "2022-04-27T19:27:57.348Z"
   },
   {
    "duration": 304347,
    "start_time": "2022-04-27T19:27:57.861Z"
   },
   {
    "duration": 4,
    "start_time": "2022-04-27T19:33:02.209Z"
   },
   {
    "duration": 23,
    "start_time": "2022-04-27T19:33:02.216Z"
   },
   {
    "duration": 831,
    "start_time": "2022-04-27T19:33:02.240Z"
   },
   {
    "duration": 54,
    "start_time": "2022-04-27T19:33:03.073Z"
   },
   {
    "duration": 10528,
    "start_time": "2022-04-27T19:33:03.129Z"
   },
   {
    "duration": 9,
    "start_time": "2022-04-27T19:33:13.659Z"
   },
   {
    "duration": 1073956,
    "start_time": "2022-04-27T19:33:13.670Z"
   },
   {
    "duration": 10,
    "start_time": "2022-04-27T19:51:07.627Z"
   },
   {
    "duration": 158,
    "start_time": "2022-04-27T19:51:07.639Z"
   },
   {
    "duration": 37,
    "start_time": "2022-04-27T19:51:07.799Z"
   },
   {
    "duration": 28288656,
    "start_time": "2022-04-27T19:51:07.838Z"
   },
   {
    "duration": 0,
    "start_time": "2022-04-28T03:42:36.497Z"
   },
   {
    "duration": 0,
    "start_time": "2022-04-28T03:42:36.498Z"
   },
   {
    "duration": 0,
    "start_time": "2022-04-28T03:42:36.499Z"
   },
   {
    "duration": 0,
    "start_time": "2022-04-28T03:42:36.500Z"
   },
   {
    "duration": 0,
    "start_time": "2022-04-28T03:42:36.501Z"
   },
   {
    "duration": 0,
    "start_time": "2022-04-28T03:42:36.502Z"
   },
   {
    "duration": 0,
    "start_time": "2022-04-28T03:42:36.503Z"
   },
   {
    "duration": 0,
    "start_time": "2022-04-28T03:42:36.503Z"
   },
   {
    "duration": 0,
    "start_time": "2022-04-28T03:42:36.504Z"
   },
   {
    "duration": 1653,
    "start_time": "2022-04-28T05:21:30.908Z"
   },
   {
    "duration": 1502,
    "start_time": "2022-04-28T05:21:32.563Z"
   },
   {
    "duration": 8,
    "start_time": "2022-04-28T05:21:34.067Z"
   },
   {
    "duration": 2363,
    "start_time": "2022-04-28T05:21:34.077Z"
   },
   {
    "duration": 58,
    "start_time": "2022-04-28T05:21:36.442Z"
   },
   {
    "duration": 18,
    "start_time": "2022-04-28T05:21:36.502Z"
   },
   {
    "duration": 436,
    "start_time": "2022-04-28T05:21:36.522Z"
   },
   {
    "duration": 279,
    "start_time": "2022-04-28T05:21:36.960Z"
   },
   {
    "duration": 27,
    "start_time": "2022-04-28T05:21:37.241Z"
   },
   {
    "duration": 101,
    "start_time": "2022-04-28T05:21:37.354Z"
   },
   {
    "duration": 16,
    "start_time": "2022-04-28T05:21:37.456Z"
   },
   {
    "duration": 305,
    "start_time": "2022-04-28T05:21:37.474Z"
   },
   {
    "duration": 34,
    "start_time": "2022-04-28T05:21:37.781Z"
   },
   {
    "duration": 16,
    "start_time": "2022-04-28T05:21:37.816Z"
   },
   {
    "duration": 289,
    "start_time": "2022-04-28T05:21:37.834Z"
   },
   {
    "duration": 266,
    "start_time": "2022-04-28T05:21:38.125Z"
   },
   {
    "duration": 27,
    "start_time": "2022-04-28T05:21:38.393Z"
   },
   {
    "duration": 27,
    "start_time": "2022-04-28T05:21:38.422Z"
   },
   {
    "duration": 174,
    "start_time": "2022-04-28T05:21:38.451Z"
   },
   {
    "duration": 691,
    "start_time": "2022-04-28T05:21:38.627Z"
   },
   {
    "duration": 4,
    "start_time": "2022-04-28T05:21:39.319Z"
   },
   {
    "duration": 6,
    "start_time": "2022-04-28T05:21:39.324Z"
   },
   {
    "duration": 6,
    "start_time": "2022-04-28T05:21:39.331Z"
   },
   {
    "duration": 506,
    "start_time": "2022-04-28T05:21:39.338Z"
   },
   {
    "duration": 388,
    "start_time": "2022-04-28T05:21:39.846Z"
   },
   {
    "duration": 295073,
    "start_time": "2022-04-28T05:21:40.236Z"
   },
   {
    "duration": 4,
    "start_time": "2022-04-28T05:26:35.311Z"
   },
   {
    "duration": 15,
    "start_time": "2022-04-28T05:26:35.318Z"
   },
   {
    "duration": 904,
    "start_time": "2022-04-28T05:26:35.335Z"
   },
   {
    "duration": 59,
    "start_time": "2022-04-28T05:26:36.241Z"
   },
   {
    "duration": 10153,
    "start_time": "2022-04-28T05:26:36.302Z"
   },
   {
    "duration": 11,
    "start_time": "2022-04-28T05:26:46.456Z"
   },
   {
    "duration": 2487180,
    "start_time": "2022-04-28T05:26:46.469Z"
   },
   {
    "duration": 10,
    "start_time": "2022-04-28T06:08:13.651Z"
   },
   {
    "duration": 142,
    "start_time": "2022-04-28T06:08:13.663Z"
   },
   {
    "duration": 30,
    "start_time": "2022-04-28T06:08:13.807Z"
   },
   {
    "duration": 5212015,
    "start_time": "2022-04-28T06:08:13.839Z"
   },
   {
    "duration": 11,
    "start_time": "2022-04-28T07:35:05.856Z"
   },
   {
    "duration": 715451,
    "start_time": "2022-04-28T07:35:05.869Z"
   },
   {
    "duration": 79,
    "start_time": "2022-04-28T07:47:01.322Z"
   },
   {
    "duration": 5,
    "start_time": "2022-04-28T07:47:01.402Z"
   },
   {
    "duration": 17293,
    "start_time": "2022-04-28T07:47:01.409Z"
   },
   {
    "duration": 617,
    "start_time": "2022-04-28T07:47:18.704Z"
   },
   {
    "duration": 66913,
    "start_time": "2022-04-28T07:47:19.323Z"
   },
   {
    "duration": 258554,
    "start_time": "2022-04-28T07:48:26.238Z"
   },
   {
    "duration": 519665,
    "start_time": "2022-04-28T07:52:44.794Z"
   }
  ],
  "kernelspec": {
   "display_name": "Python 3 (ipykernel)",
   "language": "python",
   "name": "python3"
  },
  "language_info": {
   "codemirror_mode": {
    "name": "ipython",
    "version": 3
   },
   "file_extension": ".py",
   "mimetype": "text/x-python",
   "name": "python",
   "nbconvert_exporter": "python",
   "pygments_lexer": "ipython3",
   "version": "3.10.12"
  },
  "toc": {
   "base_numbering": 1,
   "nav_menu": {},
   "number_sections": true,
   "sideBar": true,
   "skip_h1_title": true,
   "title_cell": "Table of Contents",
   "title_sidebar": "Contents",
   "toc_cell": false,
   "toc_position": {},
   "toc_section_display": true,
   "toc_window_display": false
  }
 },
 "nbformat": 4,
 "nbformat_minor": 2
}
