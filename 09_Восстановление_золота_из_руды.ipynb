{
 "cells": 
  },
  {
   "cell_type": "markdown",
   "metadata": {},
   "source": [
    "# Восстановление золота из руды"
   ]
  },
  {
   "cell_type": "markdown",
   "metadata": {},
   "source": [
    "<b> Описание исследования </b>\n",
    "\n",
    "Подготовить прототип модели машинного обучения для «Цифры». Компания разрабатывает решения для эффективной работы промышленных предприятий.\n",
    "\n",
    "<b>Цель исследования</b>\n",
    "\n",
    "Модель должна предсказать коэффициент восстановления золота из золотосодержащей руды. Используйте данные с параметрами добычи и очистки. \n",
    "\n",
    "<b> Задачи исследования</b>\n",
    "\n",
    "Модель поможет оптимизировать производство, чтобы не запускать предприятие с убыточными характеристиками.\n",
    "\n",
    "<b>Данное исследование разделим на несколько частей:</b>\n",
    "\n",
    "[1. Подготовка данных](#step_1)\n",
    "\n",
    "[1.1. Откроем файлы и изучим их](#step_2)\n",
    "\n",
    "[1.2. Проверим, что эффективность обогащения рассчитана правильно. Вычислим её на обучающей выборке для признака rougher.output.recovery. Найдем MAE между нашими расчётами и значением признака. Опишем выводы.](#step_3)\n",
    "\n",
    "[1.3. Проанализируем признаки, недоступные в тестовой выборке. Опишем что это за параметры. Опишем к какому типу они относятся.](#step_4)\n",
    "\n",
    "[1.4. Проведем предобработку данных.](#step_5)\n",
    "\n",
    "[2. Проанализируем данные](#step_6)\n",
    "\n",
    "[2.1. Посмотрим, как меняется концентрация металлов (Au, Ag, Pb) на различных этапах очистки. Опишем выводы.](#step_7)\n",
    "\n",
    "[2.2. Сравним распределения размеров гранул сырья на обучающей и тестовой выборках. Если распределения сильно отличаются друг от друга, оценка модели будет неправильной.](#step_8)\n",
    "\n",
    "[2.3. Исследуем суммарную концентрацию всех веществ на разных стадиях: в сырье, в черновом и финальном концентратах.](#step_9)\n",
    "\n",
    "[3. Построим модель](#step_10)\n",
    "\n",
    "[3.1. Напишем функцию для вычисления итоговой sMAPE.](#step_11)\n",
    "\n",
    "[3.2. Обучим разные модели и оценим их качество кросс-валидацией. Выберем лучшую модель и проверим её на тестовой выборке. Опишем выводы.](#step_12)\n",
    "\n",
    "[4. Выводы](#step_13)\n",
    "\n",
    "[5. Чек-лист готовности проекта](#step_14)"
   ]
  },
  {
   "cell_type": "markdown",
   "metadata": {},
   "source": [
    "<a id=step_1></a>\n",
    "\n",
    "## Подготовка данных"
   ]
  },
  {
   "cell_type": "markdown",
   "metadata": {},
   "source": [
    "<b>Загрузка необходимых библиотек</b>"
   ]
  },
  {
   "cell_type": "code",
   "execution_count": 2,
   "metadata": {},
   "outputs": [],
   "source": [
    "import pandas as pd\n",
    "from sklearn.metrics import mean_absolute_error\n",
    "import matplotlib.pyplot as plt\n",
    "import numpy as np\n",
    "from sklearn.linear_model import LinearRegression\n",
    "from sklearn.model_selection import cross_val_score\n",
    "from sklearn.metrics import make_scorer\n",
    "from sklearn.preprocessing import StandardScaler\n",
    "from sklearn.tree import DecisionTreeRegressor\n",
    "from sklearn.ensemble import RandomForestRegressor\n",
    "import warnings\n",
    "from sklearn.dummy import DummyRegressor\n",
    "import seaborn as sns"
   ]
  },
  {
   "cell_type": "code",
   "execution_count": 3,
   "metadata": {},
   "outputs": [],
   "source": [
    "pd.options.mode.chained_assignment = None\n",
    "warnings.filterwarnings ('ignore')"
   ]
  },
  {
   "cell_type": "markdown",
   "metadata": {},
   "source": [
    "<b>Загрузка данных из файлов</b>"
   ]
  },
  {
   "cell_type": "code",
   "execution_count": 4,
   "metadata": {},
   "outputs": [],
   "source": [
    "try:\n",
    "    df_train = pd.read_csv ('gold_recovery_train_new.csv')\n",
    "    df_test = pd.read_csv ('gold_recovery_test_new.csv')\n",
    "    df_full = pd.read_csv ('gold_recovery_full_new.csv')\n",
    "except:\n",
    "    df_train = pd.read_csv ('/datasets/gold_recovery_train_new.csv')\n",
    "    df_test = pd.read_csv ('/datasets/gold_recovery_test_new.csv')\n",
    "    df_full = pd.read_csv ('/datasets/gold_recovery_full_new.csv')"
   ]
  },
  {
   "cell_type": "markdown",
   "metadata": {},
   "source": [
    "<b>Функция просмотра данных в файлах</b>"
   ]
  },
  {
   "cell_type": "code",
   "execution_count": 5,
   "metadata": {},
   "outputs": [],
   "source": [
    "def first_look (df: pd.DataFrame, limit_na_category: int = 10) -> None:\n",
    "    '''Функция получения первичной информации о датафрейме'''\n",
    "    print ('------------- Первые 5 строк ------------')\n",
    "    display(df.head())\n",
    "    print('')\n",
    "    print('')\n",
    "    print ('------------- Типы данных ------------')\n",
    "    print (df.info())\n",
    "    print('')\n",
    "    print('')\n",
    "    print ('------------- Пропуски ------------')\n",
    "    count = 0\n",
    "    shape_0 = df.shape[0]\n",
    "    for element in df.columns:\n",
    "        if df[element].isna().sum() > 0:\n",
    "            print(\n",
    "                element, ' - ', df[element].isna().sum(), \\\n",
    "                'пропусков, ', round(df[element].isna().sum() * 100 / shape_0,2), '% от числа строк.' \n",
    "            )\n",
    "            count = +1\n",
    "    if count == 0:\n",
    "        print('Пропусков НЕТ')\n",
    "        print('')\n",
    "        print('')\n",
    "    print ('------------- Дубликаты ------------')\n",
    "    if df.duplicated().sum() > 0:\n",
    "        print('Дубликатов: ', df.duplicated().sum())\n",
    "    else:\n",
    "        print('Дубликатов НЕТ')\n",
    "    # ищем, есть ли категориальные столбцы (содержащие до limit_na_category уникальных значений) в датафрейме\n",
    "    min_unique = limit_na_category + 1\n",
    "    for element in df.columns:\n",
    "        min_unique = min(min_unique, df[element].nunique())\n",
    "        if min_unique <= limit_na_category:\n",
    "            print('')\n",
    "            print('')\n",
    "    print('------------- Категориальные признаки ------------')\n",
    "    for element in df.columns:\n",
    "        if df[element].nunique() <= limit_na_category:\n",
    "            print(element, ': ', df[element].nunique(), 'категории - ', df[element].unique(), )"
   ]
  },
  {
   "cell_type": "markdown",
   "metadata": {},
   "source": [
    "<a id=step_2></a>\n",
    "<b>1.1. Откроем файлы и изучим их</b>"
   ]
  },
  {
   "cell_type": "markdown",
   "metadata": {},
   "source": [
    "<b>Данные из обучающего файла</b>"
   ]
  },
  {
   "cell_type": "code",
   "execution_count": 6,
   "metadata": {},
   "outputs": [
    {
     "name": "stdout",
     "output_type": "stream",
     "text": [
      "------------- Первые 5 строк ------------\n"
     ]
    },
    {
     "data": {
      "text/html": [
       "<div>\n",
       "<style scoped>\n",
       "    .dataframe tbody tr th:only-of-type {\n",
       "        vertical-align: middle;\n",
       "    }\n",
       "\n",
       "    .dataframe tbody tr th {\n",
       "        vertical-align: top;\n",
       "    }\n",
       "\n",
       "    .dataframe thead th {\n",
       "        text-align: right;\n",
       "    }\n",
       "</style>\n",
       "<table border=\"1\" class=\"dataframe\">\n",
       "  <thead>\n",
       "    <tr style=\"text-align: right;\">\n",
       "      <th></th>\n",
       "      <th>date</th>\n",
       "      <th>final.output.concentrate_ag</th>\n",
       "      <th>final.output.concentrate_pb</th>\n",
       "      <th>final.output.concentrate_sol</th>\n",
       "      <th>final.output.concentrate_au</th>\n",
       "      <th>final.output.recovery</th>\n",
       "      <th>final.output.tail_ag</th>\n",
       "      <th>final.output.tail_pb</th>\n",
       "      <th>final.output.tail_sol</th>\n",
       "      <th>final.output.tail_au</th>\n",
       "      <th>...</th>\n",
       "      <th>secondary_cleaner.state.floatbank4_a_air</th>\n",
       "      <th>secondary_cleaner.state.floatbank4_a_level</th>\n",
       "      <th>secondary_cleaner.state.floatbank4_b_air</th>\n",
       "      <th>secondary_cleaner.state.floatbank4_b_level</th>\n",
       "      <th>secondary_cleaner.state.floatbank5_a_air</th>\n",
       "      <th>secondary_cleaner.state.floatbank5_a_level</th>\n",
       "      <th>secondary_cleaner.state.floatbank5_b_air</th>\n",
       "      <th>secondary_cleaner.state.floatbank5_b_level</th>\n",
       "      <th>secondary_cleaner.state.floatbank6_a_air</th>\n",
       "      <th>secondary_cleaner.state.floatbank6_a_level</th>\n",
       "    </tr>\n",
       "  </thead>\n",
       "  <tbody>\n",
       "    <tr>\n",
       "      <th>0</th>\n",
       "      <td>2016-01-15 00:00:00</td>\n",
       "      <td>6.055403</td>\n",
       "      <td>9.889648</td>\n",
       "      <td>5.507324</td>\n",
       "      <td>42.192020</td>\n",
       "      <td>70.541216</td>\n",
       "      <td>10.411962</td>\n",
       "      <td>0.895447</td>\n",
       "      <td>16.904297</td>\n",
       "      <td>2.143149</td>\n",
       "      <td>...</td>\n",
       "      <td>14.016835</td>\n",
       "      <td>-502.488007</td>\n",
       "      <td>12.099931</td>\n",
       "      <td>-504.715942</td>\n",
       "      <td>9.925633</td>\n",
       "      <td>-498.310211</td>\n",
       "      <td>8.079666</td>\n",
       "      <td>-500.470978</td>\n",
       "      <td>14.151341</td>\n",
       "      <td>-605.841980</td>\n",
       "    </tr>\n",
       "    <tr>\n",
       "      <th>1</th>\n",
       "      <td>2016-01-15 01:00:00</td>\n",
       "      <td>6.029369</td>\n",
       "      <td>9.968944</td>\n",
       "      <td>5.257781</td>\n",
       "      <td>42.701629</td>\n",
       "      <td>69.266198</td>\n",
       "      <td>10.462676</td>\n",
       "      <td>0.927452</td>\n",
       "      <td>16.634514</td>\n",
       "      <td>2.224930</td>\n",
       "      <td>...</td>\n",
       "      <td>13.992281</td>\n",
       "      <td>-505.503262</td>\n",
       "      <td>11.950531</td>\n",
       "      <td>-501.331529</td>\n",
       "      <td>10.039245</td>\n",
       "      <td>-500.169983</td>\n",
       "      <td>7.984757</td>\n",
       "      <td>-500.582168</td>\n",
       "      <td>13.998353</td>\n",
       "      <td>-599.787184</td>\n",
       "    </tr>\n",
       "    <tr>\n",
       "      <th>2</th>\n",
       "      <td>2016-01-15 02:00:00</td>\n",
       "      <td>6.055926</td>\n",
       "      <td>10.213995</td>\n",
       "      <td>5.383759</td>\n",
       "      <td>42.657501</td>\n",
       "      <td>68.116445</td>\n",
       "      <td>10.507046</td>\n",
       "      <td>0.953716</td>\n",
       "      <td>16.208849</td>\n",
       "      <td>2.257889</td>\n",
       "      <td>...</td>\n",
       "      <td>14.015015</td>\n",
       "      <td>-502.520901</td>\n",
       "      <td>11.912783</td>\n",
       "      <td>-501.133383</td>\n",
       "      <td>10.070913</td>\n",
       "      <td>-500.129135</td>\n",
       "      <td>8.013877</td>\n",
       "      <td>-500.517572</td>\n",
       "      <td>14.028663</td>\n",
       "      <td>-601.427363</td>\n",
       "    </tr>\n",
       "    <tr>\n",
       "      <th>3</th>\n",
       "      <td>2016-01-15 03:00:00</td>\n",
       "      <td>6.047977</td>\n",
       "      <td>9.977019</td>\n",
       "      <td>4.858634</td>\n",
       "      <td>42.689819</td>\n",
       "      <td>68.347543</td>\n",
       "      <td>10.422762</td>\n",
       "      <td>0.883763</td>\n",
       "      <td>16.532835</td>\n",
       "      <td>2.146849</td>\n",
       "      <td>...</td>\n",
       "      <td>14.036510</td>\n",
       "      <td>-500.857308</td>\n",
       "      <td>11.999550</td>\n",
       "      <td>-501.193686</td>\n",
       "      <td>9.970366</td>\n",
       "      <td>-499.201640</td>\n",
       "      <td>7.977324</td>\n",
       "      <td>-500.255908</td>\n",
       "      <td>14.005551</td>\n",
       "      <td>-599.996129</td>\n",
       "    </tr>\n",
       "    <tr>\n",
       "      <th>4</th>\n",
       "      <td>2016-01-15 04:00:00</td>\n",
       "      <td>6.148599</td>\n",
       "      <td>10.142511</td>\n",
       "      <td>4.939416</td>\n",
       "      <td>42.774141</td>\n",
       "      <td>66.927016</td>\n",
       "      <td>10.360302</td>\n",
       "      <td>0.792826</td>\n",
       "      <td>16.525686</td>\n",
       "      <td>2.055292</td>\n",
       "      <td>...</td>\n",
       "      <td>14.027298</td>\n",
       "      <td>-499.838632</td>\n",
       "      <td>11.953070</td>\n",
       "      <td>-501.053894</td>\n",
       "      <td>9.925709</td>\n",
       "      <td>-501.686727</td>\n",
       "      <td>7.894242</td>\n",
       "      <td>-500.356035</td>\n",
       "      <td>13.996647</td>\n",
       "      <td>-601.496691</td>\n",
       "    </tr>\n",
       "  </tbody>\n",
       "</table>\n",
       "<p>5 rows × 87 columns</p>\n",
       "</div>"
      ],
      "text/plain": [
       "                  date  final.output.concentrate_ag  \\\n",
       "0  2016-01-15 00:00:00                     6.055403   \n",
       "1  2016-01-15 01:00:00                     6.029369   \n",
       "2  2016-01-15 02:00:00                     6.055926   \n",
       "3  2016-01-15 03:00:00                     6.047977   \n",
       "4  2016-01-15 04:00:00                     6.148599   \n",
       "\n",
       "   final.output.concentrate_pb  final.output.concentrate_sol  \\\n",
       "0                     9.889648                      5.507324   \n",
       "1                     9.968944                      5.257781   \n",
       "2                    10.213995                      5.383759   \n",
       "3                     9.977019                      4.858634   \n",
       "4                    10.142511                      4.939416   \n",
       "\n",
       "   final.output.concentrate_au  final.output.recovery  final.output.tail_ag  \\\n",
       "0                    42.192020              70.541216             10.411962   \n",
       "1                    42.701629              69.266198             10.462676   \n",
       "2                    42.657501              68.116445             10.507046   \n",
       "3                    42.689819              68.347543             10.422762   \n",
       "4                    42.774141              66.927016             10.360302   \n",
       "\n",
       "   final.output.tail_pb  final.output.tail_sol  final.output.tail_au  ...  \\\n",
       "0              0.895447              16.904297              2.143149  ...   \n",
       "1              0.927452              16.634514              2.224930  ...   \n",
       "2              0.953716              16.208849              2.257889  ...   \n",
       "3              0.883763              16.532835              2.146849  ...   \n",
       "4              0.792826              16.525686              2.055292  ...   \n",
       "\n",
       "   secondary_cleaner.state.floatbank4_a_air  \\\n",
       "0                                 14.016835   \n",
       "1                                 13.992281   \n",
       "2                                 14.015015   \n",
       "3                                 14.036510   \n",
       "4                                 14.027298   \n",
       "\n",
       "   secondary_cleaner.state.floatbank4_a_level  \\\n",
       "0                                 -502.488007   \n",
       "1                                 -505.503262   \n",
       "2                                 -502.520901   \n",
       "3                                 -500.857308   \n",
       "4                                 -499.838632   \n",
       "\n",
       "   secondary_cleaner.state.floatbank4_b_air  \\\n",
       "0                                 12.099931   \n",
       "1                                 11.950531   \n",
       "2                                 11.912783   \n",
       "3                                 11.999550   \n",
       "4                                 11.953070   \n",
       "\n",
       "   secondary_cleaner.state.floatbank4_b_level  \\\n",
       "0                                 -504.715942   \n",
       "1                                 -501.331529   \n",
       "2                                 -501.133383   \n",
       "3                                 -501.193686   \n",
       "4                                 -501.053894   \n",
       "\n",
       "   secondary_cleaner.state.floatbank5_a_air  \\\n",
       "0                                  9.925633   \n",
       "1                                 10.039245   \n",
       "2                                 10.070913   \n",
       "3                                  9.970366   \n",
       "4                                  9.925709   \n",
       "\n",
       "   secondary_cleaner.state.floatbank5_a_level  \\\n",
       "0                                 -498.310211   \n",
       "1                                 -500.169983   \n",
       "2                                 -500.129135   \n",
       "3                                 -499.201640   \n",
       "4                                 -501.686727   \n",
       "\n",
       "   secondary_cleaner.state.floatbank5_b_air  \\\n",
       "0                                  8.079666   \n",
       "1                                  7.984757   \n",
       "2                                  8.013877   \n",
       "3                                  7.977324   \n",
       "4                                  7.894242   \n",
       "\n",
       "   secondary_cleaner.state.floatbank5_b_level  \\\n",
       "0                                 -500.470978   \n",
       "1                                 -500.582168   \n",
       "2                                 -500.517572   \n",
       "3                                 -500.255908   \n",
       "4                                 -500.356035   \n",
       "\n",
       "   secondary_cleaner.state.floatbank6_a_air  \\\n",
       "0                                 14.151341   \n",
       "1                                 13.998353   \n",
       "2                                 14.028663   \n",
       "3                                 14.005551   \n",
       "4                                 13.996647   \n",
       "\n",
       "   secondary_cleaner.state.floatbank6_a_level  \n",
       "0                                 -605.841980  \n",
       "1                                 -599.787184  \n",
       "2                                 -601.427363  \n",
       "3                                 -599.996129  \n",
       "4                                 -601.496691  \n",
       "\n",
       "[5 rows x 87 columns]"
      ]
     },
     "metadata": {},
     "output_type": "display_data"
    },
    {
     "name": "stdout",
     "output_type": "stream",
     "text": [
      "\n",
      "\n",
      "------------- Типы данных ------------\n",
      "<class 'pandas.core.frame.DataFrame'>\n",
      "RangeIndex: 14149 entries, 0 to 14148\n",
      "Data columns (total 87 columns):\n",
      " #   Column                                              Non-Null Count  Dtype  \n",
      "---  ------                                              --------------  -----  \n",
      " 0   date                                                14149 non-null  object \n",
      " 1   final.output.concentrate_ag                         14148 non-null  float64\n",
      " 2   final.output.concentrate_pb                         14148 non-null  float64\n",
      " 3   final.output.concentrate_sol                        13938 non-null  float64\n",
      " 4   final.output.concentrate_au                         14149 non-null  float64\n",
      " 5   final.output.recovery                               14149 non-null  float64\n",
      " 6   final.output.tail_ag                                14149 non-null  float64\n",
      " 7   final.output.tail_pb                                14049 non-null  float64\n",
      " 8   final.output.tail_sol                               14144 non-null  float64\n",
      " 9   final.output.tail_au                                14149 non-null  float64\n",
      " 10  primary_cleaner.input.sulfate                       14129 non-null  float64\n",
      " 11  primary_cleaner.input.depressant                    14117 non-null  float64\n",
      " 12  primary_cleaner.input.feed_size                     14149 non-null  float64\n",
      " 13  primary_cleaner.input.xanthate                      14049 non-null  float64\n",
      " 14  primary_cleaner.output.concentrate_ag               14149 non-null  float64\n",
      " 15  primary_cleaner.output.concentrate_pb               14063 non-null  float64\n",
      " 16  primary_cleaner.output.concentrate_sol              13863 non-null  float64\n",
      " 17  primary_cleaner.output.concentrate_au               14149 non-null  float64\n",
      " 18  primary_cleaner.output.tail_ag                      14148 non-null  float64\n",
      " 19  primary_cleaner.output.tail_pb                      14134 non-null  float64\n",
      " 20  primary_cleaner.output.tail_sol                     14103 non-null  float64\n",
      " 21  primary_cleaner.output.tail_au                      14149 non-null  float64\n",
      " 22  primary_cleaner.state.floatbank8_a_air              14145 non-null  float64\n",
      " 23  primary_cleaner.state.floatbank8_a_level            14148 non-null  float64\n",
      " 24  primary_cleaner.state.floatbank8_b_air              14145 non-null  float64\n",
      " 25  primary_cleaner.state.floatbank8_b_level            14148 non-null  float64\n",
      " 26  primary_cleaner.state.floatbank8_c_air              14147 non-null  float64\n",
      " 27  primary_cleaner.state.floatbank8_c_level            14148 non-null  float64\n",
      " 28  primary_cleaner.state.floatbank8_d_air              14146 non-null  float64\n",
      " 29  primary_cleaner.state.floatbank8_d_level            14148 non-null  float64\n",
      " 30  rougher.calculation.sulfate_to_au_concentrate       14148 non-null  float64\n",
      " 31  rougher.calculation.floatbank10_sulfate_to_au_feed  14148 non-null  float64\n",
      " 32  rougher.calculation.floatbank11_sulfate_to_au_feed  14148 non-null  float64\n",
      " 33  rougher.calculation.au_pb_ratio                     14149 non-null  float64\n",
      " 34  rougher.input.feed_ag                               14149 non-null  float64\n",
      " 35  rougher.input.feed_pb                               14049 non-null  float64\n",
      " 36  rougher.input.feed_rate                             14141 non-null  float64\n",
      " 37  rougher.input.feed_size                             14005 non-null  float64\n",
      " 38  rougher.input.feed_sol                              14071 non-null  float64\n",
      " 39  rougher.input.feed_au                               14149 non-null  float64\n",
      " 40  rougher.input.floatbank10_sulfate                   14120 non-null  float64\n",
      " 41  rougher.input.floatbank10_xanthate                  14141 non-null  float64\n",
      " 42  rougher.input.floatbank11_sulfate                   14113 non-null  float64\n",
      " 43  rougher.input.floatbank11_xanthate                  13721 non-null  float64\n",
      " 44  rougher.output.concentrate_ag                       14149 non-null  float64\n",
      " 45  rougher.output.concentrate_pb                       14149 non-null  float64\n",
      " 46  rougher.output.concentrate_sol                      14127 non-null  float64\n",
      " 47  rougher.output.concentrate_au                       14149 non-null  float64\n",
      " 48  rougher.output.recovery                             14149 non-null  float64\n",
      " 49  rougher.output.tail_ag                              14148 non-null  float64\n",
      " 50  rougher.output.tail_pb                              14149 non-null  float64\n",
      " 51  rougher.output.tail_sol                             14149 non-null  float64\n",
      " 52  rougher.output.tail_au                              14149 non-null  float64\n",
      " 53  rougher.state.floatbank10_a_air                     14148 non-null  float64\n",
      " 54  rougher.state.floatbank10_a_level                   14148 non-null  float64\n",
      " 55  rougher.state.floatbank10_b_air                     14148 non-null  float64\n",
      " 56  rougher.state.floatbank10_b_level                   14148 non-null  float64\n",
      " 57  rougher.state.floatbank10_c_air                     14148 non-null  float64\n",
      " 58  rougher.state.floatbank10_c_level                   14148 non-null  float64\n",
      " 59  rougher.state.floatbank10_d_air                     14149 non-null  float64\n",
      " 60  rougher.state.floatbank10_d_level                   14149 non-null  float64\n",
      " 61  rougher.state.floatbank10_e_air                     13713 non-null  float64\n",
      " 62  rougher.state.floatbank10_e_level                   14149 non-null  float64\n",
      " 63  rougher.state.floatbank10_f_air                     14149 non-null  float64\n",
      " 64  rougher.state.floatbank10_f_level                   14149 non-null  float64\n",
      " 65  secondary_cleaner.output.tail_ag                    14147 non-null  float64\n",
      " 66  secondary_cleaner.output.tail_pb                    14139 non-null  float64\n",
      " 67  secondary_cleaner.output.tail_sol                   12544 non-null  float64\n",
      " 68  secondary_cleaner.output.tail_au                    14149 non-null  float64\n",
      " 69  secondary_cleaner.state.floatbank2_a_air            13932 non-null  float64\n",
      " 70  secondary_cleaner.state.floatbank2_a_level          14148 non-null  float64\n",
      " 71  secondary_cleaner.state.floatbank2_b_air            14128 non-null  float64\n",
      " 72  secondary_cleaner.state.floatbank2_b_level          14148 non-null  float64\n",
      " 73  secondary_cleaner.state.floatbank3_a_air            14145 non-null  float64\n",
      " 74  secondary_cleaner.state.floatbank3_a_level          14148 non-null  float64\n",
      " 75  secondary_cleaner.state.floatbank3_b_air            14148 non-null  float64\n",
      " 76  secondary_cleaner.state.floatbank3_b_level          14148 non-null  float64\n",
      " 77  secondary_cleaner.state.floatbank4_a_air            14143 non-null  float64\n",
      " 78  secondary_cleaner.state.floatbank4_a_level          14148 non-null  float64\n",
      " 79  secondary_cleaner.state.floatbank4_b_air            14148 non-null  float64\n",
      " 80  secondary_cleaner.state.floatbank4_b_level          14148 non-null  float64\n",
      " 81  secondary_cleaner.state.floatbank5_a_air            14148 non-null  float64\n",
      " 82  secondary_cleaner.state.floatbank5_a_level          14148 non-null  float64\n",
      " 83  secondary_cleaner.state.floatbank5_b_air            14148 non-null  float64\n",
      " 84  secondary_cleaner.state.floatbank5_b_level          14148 non-null  float64\n",
      " 85  secondary_cleaner.state.floatbank6_a_air            14147 non-null  float64\n",
      " 86  secondary_cleaner.state.floatbank6_a_level          14148 non-null  float64\n",
      "dtypes: float64(86), object(1)\n",
      "memory usage: 9.4+ MB\n",
      "None\n",
      "\n",
      "\n",
      "------------- Пропуски ------------\n",
      "final.output.concentrate_ag  -  1 пропусков,  0.01 % от числа строк.\n",
      "final.output.concentrate_pb  -  1 пропусков,  0.01 % от числа строк.\n",
      "final.output.concentrate_sol  -  211 пропусков,  1.49 % от числа строк.\n",
      "final.output.tail_pb  -  100 пропусков,  0.71 % от числа строк.\n",
      "final.output.tail_sol  -  5 пропусков,  0.04 % от числа строк.\n",
      "primary_cleaner.input.sulfate  -  20 пропусков,  0.14 % от числа строк.\n",
      "primary_cleaner.input.depressant  -  32 пропусков,  0.23 % от числа строк.\n",
      "primary_cleaner.input.xanthate  -  100 пропусков,  0.71 % от числа строк.\n",
      "primary_cleaner.output.concentrate_pb  -  86 пропусков,  0.61 % от числа строк.\n",
      "primary_cleaner.output.concentrate_sol  -  286 пропусков,  2.02 % от числа строк.\n",
      "primary_cleaner.output.tail_ag  -  1 пропусков,  0.01 % от числа строк.\n",
      "primary_cleaner.output.tail_pb  -  15 пропусков,  0.11 % от числа строк.\n",
      "primary_cleaner.output.tail_sol  -  46 пропусков,  0.33 % от числа строк.\n",
      "primary_cleaner.state.floatbank8_a_air  -  4 пропусков,  0.03 % от числа строк.\n",
      "primary_cleaner.state.floatbank8_a_level  -  1 пропусков,  0.01 % от числа строк.\n",
      "primary_cleaner.state.floatbank8_b_air  -  4 пропусков,  0.03 % от числа строк.\n",
      "primary_cleaner.state.floatbank8_b_level  -  1 пропусков,  0.01 % от числа строк.\n",
      "primary_cleaner.state.floatbank8_c_air  -  2 пропусков,  0.01 % от числа строк.\n",
      "primary_cleaner.state.floatbank8_c_level  -  1 пропусков,  0.01 % от числа строк.\n",
      "primary_cleaner.state.floatbank8_d_air  -  3 пропусков,  0.02 % от числа строк.\n",
      "primary_cleaner.state.floatbank8_d_level  -  1 пропусков,  0.01 % от числа строк.\n",
      "rougher.calculation.sulfate_to_au_concentrate  -  1 пропусков,  0.01 % от числа строк.\n",
      "rougher.calculation.floatbank10_sulfate_to_au_feed  -  1 пропусков,  0.01 % от числа строк.\n",
      "rougher.calculation.floatbank11_sulfate_to_au_feed  -  1 пропусков,  0.01 % от числа строк.\n",
      "rougher.input.feed_pb  -  100 пропусков,  0.71 % от числа строк.\n",
      "rougher.input.feed_rate  -  8 пропусков,  0.06 % от числа строк.\n",
      "rougher.input.feed_size  -  144 пропусков,  1.02 % от числа строк.\n",
      "rougher.input.feed_sol  -  78 пропусков,  0.55 % от числа строк.\n",
      "rougher.input.floatbank10_sulfate  -  29 пропусков,  0.2 % от числа строк.\n",
      "rougher.input.floatbank10_xanthate  -  8 пропусков,  0.06 % от числа строк.\n",
      "rougher.input.floatbank11_sulfate  -  36 пропусков,  0.25 % от числа строк.\n",
      "rougher.input.floatbank11_xanthate  -  428 пропусков,  3.02 % от числа строк.\n",
      "rougher.output.concentrate_sol  -  22 пропусков,  0.16 % от числа строк.\n",
      "rougher.output.tail_ag  -  1 пропусков,  0.01 % от числа строк.\n",
      "rougher.state.floatbank10_a_air  -  1 пропусков,  0.01 % от числа строк.\n",
      "rougher.state.floatbank10_a_level  -  1 пропусков,  0.01 % от числа строк.\n",
      "rougher.state.floatbank10_b_air  -  1 пропусков,  0.01 % от числа строк.\n",
      "rougher.state.floatbank10_b_level  -  1 пропусков,  0.01 % от числа строк.\n",
      "rougher.state.floatbank10_c_air  -  1 пропусков,  0.01 % от числа строк.\n",
      "rougher.state.floatbank10_c_level  -  1 пропусков,  0.01 % от числа строк.\n",
      "rougher.state.floatbank10_e_air  -  436 пропусков,  3.08 % от числа строк.\n",
      "secondary_cleaner.output.tail_ag  -  2 пропусков,  0.01 % от числа строк.\n",
      "secondary_cleaner.output.tail_pb  -  10 пропусков,  0.07 % от числа строк.\n",
      "secondary_cleaner.output.tail_sol  -  1605 пропусков,  11.34 % от числа строк.\n",
      "secondary_cleaner.state.floatbank2_a_air  -  217 пропусков,  1.53 % от числа строк.\n",
      "secondary_cleaner.state.floatbank2_a_level  -  1 пропусков,  0.01 % от числа строк.\n",
      "secondary_cleaner.state.floatbank2_b_air  -  21 пропусков,  0.15 % от числа строк.\n",
      "secondary_cleaner.state.floatbank2_b_level  -  1 пропусков,  0.01 % от числа строк.\n",
      "secondary_cleaner.state.floatbank3_a_air  -  4 пропусков,  0.03 % от числа строк.\n",
      "secondary_cleaner.state.floatbank3_a_level  -  1 пропусков,  0.01 % от числа строк.\n",
      "secondary_cleaner.state.floatbank3_b_air  -  1 пропусков,  0.01 % от числа строк.\n",
      "secondary_cleaner.state.floatbank3_b_level  -  1 пропусков,  0.01 % от числа строк.\n",
      "secondary_cleaner.state.floatbank4_a_air  -  6 пропусков,  0.04 % от числа строк.\n",
      "secondary_cleaner.state.floatbank4_a_level  -  1 пропусков,  0.01 % от числа строк.\n",
      "secondary_cleaner.state.floatbank4_b_air  -  1 пропусков,  0.01 % от числа строк.\n",
      "secondary_cleaner.state.floatbank4_b_level  -  1 пропусков,  0.01 % от числа строк.\n",
      "secondary_cleaner.state.floatbank5_a_air  -  1 пропусков,  0.01 % от числа строк.\n",
      "secondary_cleaner.state.floatbank5_a_level  -  1 пропусков,  0.01 % от числа строк.\n",
      "secondary_cleaner.state.floatbank5_b_air  -  1 пропусков,  0.01 % от числа строк.\n",
      "secondary_cleaner.state.floatbank5_b_level  -  1 пропусков,  0.01 % от числа строк.\n",
      "secondary_cleaner.state.floatbank6_a_air  -  2 пропусков,  0.01 % от числа строк.\n",
      "secondary_cleaner.state.floatbank6_a_level  -  1 пропусков,  0.01 % от числа строк.\n",
      "------------- Дубликаты ------------\n",
      "Дубликатов НЕТ\n",
      "------------- Категориальные признаки ------------\n"
     ]
    }
   ],
   "source": [
    "first_look (df_train)"
   ]
  },
  {
   "cell_type": "markdown",
   "metadata": {},
   "source": [
    "<b>Данные из тестового файла</b>"
   ]
  },
  {
   "cell_type": "code",
   "execution_count": 7,
   "metadata": {},
   "outputs": [
    {
     "name": "stdout",
     "output_type": "stream",
     "text": [
      "------------- Первые 5 строк ------------\n"
     ]
    },
    {
     "data": {
      "text/html": [
       "<div>\n",
       "<style scoped>\n",
       "    .dataframe tbody tr th:only-of-type {\n",
       "        vertical-align: middle;\n",
       "    }\n",
       "\n",
       "    .dataframe tbody tr th {\n",
       "        vertical-align: top;\n",
       "    }\n",
       "\n",
       "    .dataframe thead th {\n",
       "        text-align: right;\n",
       "    }\n",
       "</style>\n",
       "<table border=\"1\" class=\"dataframe\">\n",
       "  <thead>\n",
       "    <tr style=\"text-align: right;\">\n",
       "      <th></th>\n",
       "      <th>date</th>\n",
       "      <th>primary_cleaner.input.sulfate</th>\n",
       "      <th>primary_cleaner.input.depressant</th>\n",
       "      <th>primary_cleaner.input.feed_size</th>\n",
       "      <th>primary_cleaner.input.xanthate</th>\n",
       "      <th>primary_cleaner.state.floatbank8_a_air</th>\n",
       "      <th>primary_cleaner.state.floatbank8_a_level</th>\n",
       "      <th>primary_cleaner.state.floatbank8_b_air</th>\n",
       "      <th>primary_cleaner.state.floatbank8_b_level</th>\n",
       "      <th>primary_cleaner.state.floatbank8_c_air</th>\n",
       "      <th>...</th>\n",
       "      <th>secondary_cleaner.state.floatbank4_a_air</th>\n",
       "      <th>secondary_cleaner.state.floatbank4_a_level</th>\n",
       "      <th>secondary_cleaner.state.floatbank4_b_air</th>\n",
       "      <th>secondary_cleaner.state.floatbank4_b_level</th>\n",
       "      <th>secondary_cleaner.state.floatbank5_a_air</th>\n",
       "      <th>secondary_cleaner.state.floatbank5_a_level</th>\n",
       "      <th>secondary_cleaner.state.floatbank5_b_air</th>\n",
       "      <th>secondary_cleaner.state.floatbank5_b_level</th>\n",
       "      <th>secondary_cleaner.state.floatbank6_a_air</th>\n",
       "      <th>secondary_cleaner.state.floatbank6_a_level</th>\n",
       "    </tr>\n",
       "  </thead>\n",
       "  <tbody>\n",
       "    <tr>\n",
       "      <th>0</th>\n",
       "      <td>2016-09-01 00:59:59</td>\n",
       "      <td>210.800909</td>\n",
       "      <td>14.993118</td>\n",
       "      <td>8.080000</td>\n",
       "      <td>1.005021</td>\n",
       "      <td>1398.981301</td>\n",
       "      <td>-500.225577</td>\n",
       "      <td>1399.144926</td>\n",
       "      <td>-499.919735</td>\n",
       "      <td>1400.102998</td>\n",
       "      <td>...</td>\n",
       "      <td>12.023554</td>\n",
       "      <td>-497.795834</td>\n",
       "      <td>8.016656</td>\n",
       "      <td>-501.289139</td>\n",
       "      <td>7.946562</td>\n",
       "      <td>-432.317850</td>\n",
       "      <td>4.872511</td>\n",
       "      <td>-500.037437</td>\n",
       "      <td>26.705889</td>\n",
       "      <td>-499.709414</td>\n",
       "    </tr>\n",
       "    <tr>\n",
       "      <th>1</th>\n",
       "      <td>2016-09-01 01:59:59</td>\n",
       "      <td>215.392455</td>\n",
       "      <td>14.987471</td>\n",
       "      <td>8.080000</td>\n",
       "      <td>0.990469</td>\n",
       "      <td>1398.777912</td>\n",
       "      <td>-500.057435</td>\n",
       "      <td>1398.055362</td>\n",
       "      <td>-499.778182</td>\n",
       "      <td>1396.151033</td>\n",
       "      <td>...</td>\n",
       "      <td>12.058140</td>\n",
       "      <td>-498.695773</td>\n",
       "      <td>8.130979</td>\n",
       "      <td>-499.634209</td>\n",
       "      <td>7.958270</td>\n",
       "      <td>-525.839648</td>\n",
       "      <td>4.878850</td>\n",
       "      <td>-500.162375</td>\n",
       "      <td>25.019940</td>\n",
       "      <td>-499.819438</td>\n",
       "    </tr>\n",
       "    <tr>\n",
       "      <th>2</th>\n",
       "      <td>2016-09-01 02:59:59</td>\n",
       "      <td>215.259946</td>\n",
       "      <td>12.884934</td>\n",
       "      <td>7.786667</td>\n",
       "      <td>0.996043</td>\n",
       "      <td>1398.493666</td>\n",
       "      <td>-500.868360</td>\n",
       "      <td>1398.860436</td>\n",
       "      <td>-499.764529</td>\n",
       "      <td>1398.075709</td>\n",
       "      <td>...</td>\n",
       "      <td>11.962366</td>\n",
       "      <td>-498.767484</td>\n",
       "      <td>8.096893</td>\n",
       "      <td>-500.827423</td>\n",
       "      <td>8.071056</td>\n",
       "      <td>-500.801673</td>\n",
       "      <td>4.905125</td>\n",
       "      <td>-499.828510</td>\n",
       "      <td>24.994862</td>\n",
       "      <td>-500.622559</td>\n",
       "    </tr>\n",
       "    <tr>\n",
       "      <th>3</th>\n",
       "      <td>2016-09-01 03:59:59</td>\n",
       "      <td>215.336236</td>\n",
       "      <td>12.006805</td>\n",
       "      <td>7.640000</td>\n",
       "      <td>0.863514</td>\n",
       "      <td>1399.618111</td>\n",
       "      <td>-498.863574</td>\n",
       "      <td>1397.440120</td>\n",
       "      <td>-499.211024</td>\n",
       "      <td>1400.129303</td>\n",
       "      <td>...</td>\n",
       "      <td>12.033091</td>\n",
       "      <td>-498.350935</td>\n",
       "      <td>8.074946</td>\n",
       "      <td>-499.474407</td>\n",
       "      <td>7.897085</td>\n",
       "      <td>-500.868509</td>\n",
       "      <td>4.931400</td>\n",
       "      <td>-499.963623</td>\n",
       "      <td>24.948919</td>\n",
       "      <td>-498.709987</td>\n",
       "    </tr>\n",
       "    <tr>\n",
       "      <th>4</th>\n",
       "      <td>2016-09-01 04:59:59</td>\n",
       "      <td>199.099327</td>\n",
       "      <td>10.682530</td>\n",
       "      <td>7.530000</td>\n",
       "      <td>0.805575</td>\n",
       "      <td>1401.268123</td>\n",
       "      <td>-500.808305</td>\n",
       "      <td>1398.128818</td>\n",
       "      <td>-499.504543</td>\n",
       "      <td>1402.172226</td>\n",
       "      <td>...</td>\n",
       "      <td>12.025367</td>\n",
       "      <td>-500.786497</td>\n",
       "      <td>8.054678</td>\n",
       "      <td>-500.397500</td>\n",
       "      <td>8.107890</td>\n",
       "      <td>-509.526725</td>\n",
       "      <td>4.957674</td>\n",
       "      <td>-500.360026</td>\n",
       "      <td>25.003331</td>\n",
       "      <td>-500.856333</td>\n",
       "    </tr>\n",
       "  </tbody>\n",
       "</table>\n",
       "<p>5 rows × 53 columns</p>\n",
       "</div>"
      ],
      "text/plain": [
       "                  date  primary_cleaner.input.sulfate  \\\n",
       "0  2016-09-01 00:59:59                     210.800909   \n",
       "1  2016-09-01 01:59:59                     215.392455   \n",
       "2  2016-09-01 02:59:59                     215.259946   \n",
       "3  2016-09-01 03:59:59                     215.336236   \n",
       "4  2016-09-01 04:59:59                     199.099327   \n",
       "\n",
       "   primary_cleaner.input.depressant  primary_cleaner.input.feed_size  \\\n",
       "0                         14.993118                         8.080000   \n",
       "1                         14.987471                         8.080000   \n",
       "2                         12.884934                         7.786667   \n",
       "3                         12.006805                         7.640000   \n",
       "4                         10.682530                         7.530000   \n",
       "\n",
       "   primary_cleaner.input.xanthate  primary_cleaner.state.floatbank8_a_air  \\\n",
       "0                        1.005021                             1398.981301   \n",
       "1                        0.990469                             1398.777912   \n",
       "2                        0.996043                             1398.493666   \n",
       "3                        0.863514                             1399.618111   \n",
       "4                        0.805575                             1401.268123   \n",
       "\n",
       "   primary_cleaner.state.floatbank8_a_level  \\\n",
       "0                               -500.225577   \n",
       "1                               -500.057435   \n",
       "2                               -500.868360   \n",
       "3                               -498.863574   \n",
       "4                               -500.808305   \n",
       "\n",
       "   primary_cleaner.state.floatbank8_b_air  \\\n",
       "0                             1399.144926   \n",
       "1                             1398.055362   \n",
       "2                             1398.860436   \n",
       "3                             1397.440120   \n",
       "4                             1398.128818   \n",
       "\n",
       "   primary_cleaner.state.floatbank8_b_level  \\\n",
       "0                               -499.919735   \n",
       "1                               -499.778182   \n",
       "2                               -499.764529   \n",
       "3                               -499.211024   \n",
       "4                               -499.504543   \n",
       "\n",
       "   primary_cleaner.state.floatbank8_c_air  ...  \\\n",
       "0                             1400.102998  ...   \n",
       "1                             1396.151033  ...   \n",
       "2                             1398.075709  ...   \n",
       "3                             1400.129303  ...   \n",
       "4                             1402.172226  ...   \n",
       "\n",
       "   secondary_cleaner.state.floatbank4_a_air  \\\n",
       "0                                 12.023554   \n",
       "1                                 12.058140   \n",
       "2                                 11.962366   \n",
       "3                                 12.033091   \n",
       "4                                 12.025367   \n",
       "\n",
       "   secondary_cleaner.state.floatbank4_a_level  \\\n",
       "0                                 -497.795834   \n",
       "1                                 -498.695773   \n",
       "2                                 -498.767484   \n",
       "3                                 -498.350935   \n",
       "4                                 -500.786497   \n",
       "\n",
       "   secondary_cleaner.state.floatbank4_b_air  \\\n",
       "0                                  8.016656   \n",
       "1                                  8.130979   \n",
       "2                                  8.096893   \n",
       "3                                  8.074946   \n",
       "4                                  8.054678   \n",
       "\n",
       "   secondary_cleaner.state.floatbank4_b_level  \\\n",
       "0                                 -501.289139   \n",
       "1                                 -499.634209   \n",
       "2                                 -500.827423   \n",
       "3                                 -499.474407   \n",
       "4                                 -500.397500   \n",
       "\n",
       "   secondary_cleaner.state.floatbank5_a_air  \\\n",
       "0                                  7.946562   \n",
       "1                                  7.958270   \n",
       "2                                  8.071056   \n",
       "3                                  7.897085   \n",
       "4                                  8.107890   \n",
       "\n",
       "   secondary_cleaner.state.floatbank5_a_level  \\\n",
       "0                                 -432.317850   \n",
       "1                                 -525.839648   \n",
       "2                                 -500.801673   \n",
       "3                                 -500.868509   \n",
       "4                                 -509.526725   \n",
       "\n",
       "   secondary_cleaner.state.floatbank5_b_air  \\\n",
       "0                                  4.872511   \n",
       "1                                  4.878850   \n",
       "2                                  4.905125   \n",
       "3                                  4.931400   \n",
       "4                                  4.957674   \n",
       "\n",
       "   secondary_cleaner.state.floatbank5_b_level  \\\n",
       "0                                 -500.037437   \n",
       "1                                 -500.162375   \n",
       "2                                 -499.828510   \n",
       "3                                 -499.963623   \n",
       "4                                 -500.360026   \n",
       "\n",
       "   secondary_cleaner.state.floatbank6_a_air  \\\n",
       "0                                 26.705889   \n",
       "1                                 25.019940   \n",
       "2                                 24.994862   \n",
       "3                                 24.948919   \n",
       "4                                 25.003331   \n",
       "\n",
       "   secondary_cleaner.state.floatbank6_a_level  \n",
       "0                                 -499.709414  \n",
       "1                                 -499.819438  \n",
       "2                                 -500.622559  \n",
       "3                                 -498.709987  \n",
       "4                                 -500.856333  \n",
       "\n",
       "[5 rows x 53 columns]"
      ]
     },
     "metadata": {},
     "output_type": "display_data"
    },
    {
     "name": "stdout",
     "output_type": "stream",
     "text": [
      "\n",
      "\n",
      "------------- Типы данных ------------\n",
      "<class 'pandas.core.frame.DataFrame'>\n",
      "RangeIndex: 5290 entries, 0 to 5289\n",
      "Data columns (total 53 columns):\n",
      " #   Column                                      Non-Null Count  Dtype  \n",
      "---  ------                                      --------------  -----  \n",
      " 0   date                                        5290 non-null   object \n",
      " 1   primary_cleaner.input.sulfate               5286 non-null   float64\n",
      " 2   primary_cleaner.input.depressant            5285 non-null   float64\n",
      " 3   primary_cleaner.input.feed_size             5290 non-null   float64\n",
      " 4   primary_cleaner.input.xanthate              5286 non-null   float64\n",
      " 5   primary_cleaner.state.floatbank8_a_air      5290 non-null   float64\n",
      " 6   primary_cleaner.state.floatbank8_a_level    5290 non-null   float64\n",
      " 7   primary_cleaner.state.floatbank8_b_air      5290 non-null   float64\n",
      " 8   primary_cleaner.state.floatbank8_b_level    5290 non-null   float64\n",
      " 9   primary_cleaner.state.floatbank8_c_air      5290 non-null   float64\n",
      " 10  primary_cleaner.state.floatbank8_c_level    5290 non-null   float64\n",
      " 11  primary_cleaner.state.floatbank8_d_air      5290 non-null   float64\n",
      " 12  primary_cleaner.state.floatbank8_d_level    5290 non-null   float64\n",
      " 13  rougher.input.feed_ag                       5290 non-null   float64\n",
      " 14  rougher.input.feed_pb                       5290 non-null   float64\n",
      " 15  rougher.input.feed_rate                     5287 non-null   float64\n",
      " 16  rougher.input.feed_size                     5289 non-null   float64\n",
      " 17  rougher.input.feed_sol                      5269 non-null   float64\n",
      " 18  rougher.input.feed_au                       5290 non-null   float64\n",
      " 19  rougher.input.floatbank10_sulfate           5285 non-null   float64\n",
      " 20  rougher.input.floatbank10_xanthate          5290 non-null   float64\n",
      " 21  rougher.input.floatbank11_sulfate           5282 non-null   float64\n",
      " 22  rougher.input.floatbank11_xanthate          5265 non-null   float64\n",
      " 23  rougher.state.floatbank10_a_air             5290 non-null   float64\n",
      " 24  rougher.state.floatbank10_a_level           5290 non-null   float64\n",
      " 25  rougher.state.floatbank10_b_air             5290 non-null   float64\n",
      " 26  rougher.state.floatbank10_b_level           5290 non-null   float64\n",
      " 27  rougher.state.floatbank10_c_air             5290 non-null   float64\n",
      " 28  rougher.state.floatbank10_c_level           5290 non-null   float64\n",
      " 29  rougher.state.floatbank10_d_air             5290 non-null   float64\n",
      " 30  rougher.state.floatbank10_d_level           5290 non-null   float64\n",
      " 31  rougher.state.floatbank10_e_air             5290 non-null   float64\n",
      " 32  rougher.state.floatbank10_e_level           5290 non-null   float64\n",
      " 33  rougher.state.floatbank10_f_air             5290 non-null   float64\n",
      " 34  rougher.state.floatbank10_f_level           5290 non-null   float64\n",
      " 35  secondary_cleaner.state.floatbank2_a_air    5287 non-null   float64\n",
      " 36  secondary_cleaner.state.floatbank2_a_level  5290 non-null   float64\n",
      " 37  secondary_cleaner.state.floatbank2_b_air    5288 non-null   float64\n",
      " 38  secondary_cleaner.state.floatbank2_b_level  5290 non-null   float64\n",
      " 39  secondary_cleaner.state.floatbank3_a_air    5281 non-null   float64\n",
      " 40  secondary_cleaner.state.floatbank3_a_level  5290 non-null   float64\n",
      " 41  secondary_cleaner.state.floatbank3_b_air    5290 non-null   float64\n",
      " 42  secondary_cleaner.state.floatbank3_b_level  5290 non-null   float64\n",
      " 43  secondary_cleaner.state.floatbank4_a_air    5290 non-null   float64\n",
      " 44  secondary_cleaner.state.floatbank4_a_level  5290 non-null   float64\n",
      " 45  secondary_cleaner.state.floatbank4_b_air    5290 non-null   float64\n",
      " 46  secondary_cleaner.state.floatbank4_b_level  5290 non-null   float64\n",
      " 47  secondary_cleaner.state.floatbank5_a_air    5290 non-null   float64\n",
      " 48  secondary_cleaner.state.floatbank5_a_level  5290 non-null   float64\n",
      " 49  secondary_cleaner.state.floatbank5_b_air    5290 non-null   float64\n",
      " 50  secondary_cleaner.state.floatbank5_b_level  5290 non-null   float64\n",
      " 51  secondary_cleaner.state.floatbank6_a_air    5290 non-null   float64\n",
      " 52  secondary_cleaner.state.floatbank6_a_level  5290 non-null   float64\n",
      "dtypes: float64(52), object(1)\n",
      "memory usage: 2.1+ MB\n",
      "None\n",
      "\n",
      "\n",
      "------------- Пропуски ------------\n",
      "primary_cleaner.input.sulfate  -  4 пропусков,  0.08 % от числа строк.\n",
      "primary_cleaner.input.depressant  -  5 пропусков,  0.09 % от числа строк.\n",
      "primary_cleaner.input.xanthate  -  4 пропусков,  0.08 % от числа строк.\n",
      "rougher.input.feed_rate  -  3 пропусков,  0.06 % от числа строк.\n",
      "rougher.input.feed_size  -  1 пропусков,  0.02 % от числа строк.\n",
      "rougher.input.feed_sol  -  21 пропусков,  0.4 % от числа строк.\n",
      "rougher.input.floatbank10_sulfate  -  5 пропусков,  0.09 % от числа строк.\n",
      "rougher.input.floatbank11_sulfate  -  8 пропусков,  0.15 % от числа строк.\n",
      "rougher.input.floatbank11_xanthate  -  25 пропусков,  0.47 % от числа строк.\n",
      "secondary_cleaner.state.floatbank2_a_air  -  3 пропусков,  0.06 % от числа строк.\n",
      "secondary_cleaner.state.floatbank2_b_air  -  2 пропусков,  0.04 % от числа строк.\n",
      "secondary_cleaner.state.floatbank3_a_air  -  9 пропусков,  0.17 % от числа строк.\n",
      "------------- Дубликаты ------------\n",
      "Дубликатов НЕТ\n",
      "------------- Категориальные признаки ------------\n"
     ]
    }
   ],
   "source": [
    "first_look (df_test)"
   ]
  },
  {
   "cell_type": "markdown",
   "metadata": {},
   "source": [
    "<b>Данные из исходного файла</b>"
   ]
  },
  {
   "cell_type": "code",
   "execution_count": 8,
   "metadata": {},
   "outputs": [
    {
     "name": "stdout",
     "output_type": "stream",
     "text": [
      "------------- Первые 5 строк ------------\n"
     ]
    },
    {
     "data": {
      "text/html": [
       "<div>\n",
       "<style scoped>\n",
       "    .dataframe tbody tr th:only-of-type {\n",
       "        vertical-align: middle;\n",
       "    }\n",
       "\n",
       "    .dataframe tbody tr th {\n",
       "        vertical-align: top;\n",
       "    }\n",
       "\n",
       "    .dataframe thead th {\n",
       "        text-align: right;\n",
       "    }\n",
       "</style>\n",
       "<table border=\"1\" class=\"dataframe\">\n",
       "  <thead>\n",
       "    <tr style=\"text-align: right;\">\n",
       "      <th></th>\n",
       "      <th>date</th>\n",
       "      <th>final.output.concentrate_ag</th>\n",
       "      <th>final.output.concentrate_pb</th>\n",
       "      <th>final.output.concentrate_sol</th>\n",
       "      <th>final.output.concentrate_au</th>\n",
       "      <th>final.output.recovery</th>\n",
       "      <th>final.output.tail_ag</th>\n",
       "      <th>final.output.tail_pb</th>\n",
       "      <th>final.output.tail_sol</th>\n",
       "      <th>final.output.tail_au</th>\n",
       "      <th>...</th>\n",
       "      <th>secondary_cleaner.state.floatbank4_a_air</th>\n",
       "      <th>secondary_cleaner.state.floatbank4_a_level</th>\n",
       "      <th>secondary_cleaner.state.floatbank4_b_air</th>\n",
       "      <th>secondary_cleaner.state.floatbank4_b_level</th>\n",
       "      <th>secondary_cleaner.state.floatbank5_a_air</th>\n",
       "      <th>secondary_cleaner.state.floatbank5_a_level</th>\n",
       "      <th>secondary_cleaner.state.floatbank5_b_air</th>\n",
       "      <th>secondary_cleaner.state.floatbank5_b_level</th>\n",
       "      <th>secondary_cleaner.state.floatbank6_a_air</th>\n",
       "      <th>secondary_cleaner.state.floatbank6_a_level</th>\n",
       "    </tr>\n",
       "  </thead>\n",
       "  <tbody>\n",
       "    <tr>\n",
       "      <th>0</th>\n",
       "      <td>2016-01-15 00:00:00</td>\n",
       "      <td>6.055403</td>\n",
       "      <td>9.889648</td>\n",
       "      <td>5.507324</td>\n",
       "      <td>42.192020</td>\n",
       "      <td>70.541216</td>\n",
       "      <td>10.411962</td>\n",
       "      <td>0.895447</td>\n",
       "      <td>16.904297</td>\n",
       "      <td>2.143149</td>\n",
       "      <td>...</td>\n",
       "      <td>14.016835</td>\n",
       "      <td>-502.488007</td>\n",
       "      <td>12.099931</td>\n",
       "      <td>-504.715942</td>\n",
       "      <td>9.925633</td>\n",
       "      <td>-498.310211</td>\n",
       "      <td>8.079666</td>\n",
       "      <td>-500.470978</td>\n",
       "      <td>14.151341</td>\n",
       "      <td>-605.841980</td>\n",
       "    </tr>\n",
       "    <tr>\n",
       "      <th>1</th>\n",
       "      <td>2016-01-15 01:00:00</td>\n",
       "      <td>6.029369</td>\n",
       "      <td>9.968944</td>\n",
       "      <td>5.257781</td>\n",
       "      <td>42.701629</td>\n",
       "      <td>69.266198</td>\n",
       "      <td>10.462676</td>\n",
       "      <td>0.927452</td>\n",
       "      <td>16.634514</td>\n",
       "      <td>2.224930</td>\n",
       "      <td>...</td>\n",
       "      <td>13.992281</td>\n",
       "      <td>-505.503262</td>\n",
       "      <td>11.950531</td>\n",
       "      <td>-501.331529</td>\n",
       "      <td>10.039245</td>\n",
       "      <td>-500.169983</td>\n",
       "      <td>7.984757</td>\n",
       "      <td>-500.582168</td>\n",
       "      <td>13.998353</td>\n",
       "      <td>-599.787184</td>\n",
       "    </tr>\n",
       "    <tr>\n",
       "      <th>2</th>\n",
       "      <td>2016-01-15 02:00:00</td>\n",
       "      <td>6.055926</td>\n",
       "      <td>10.213995</td>\n",
       "      <td>5.383759</td>\n",
       "      <td>42.657501</td>\n",
       "      <td>68.116445</td>\n",
       "      <td>10.507046</td>\n",
       "      <td>0.953716</td>\n",
       "      <td>16.208849</td>\n",
       "      <td>2.257889</td>\n",
       "      <td>...</td>\n",
       "      <td>14.015015</td>\n",
       "      <td>-502.520901</td>\n",
       "      <td>11.912783</td>\n",
       "      <td>-501.133383</td>\n",
       "      <td>10.070913</td>\n",
       "      <td>-500.129135</td>\n",
       "      <td>8.013877</td>\n",
       "      <td>-500.517572</td>\n",
       "      <td>14.028663</td>\n",
       "      <td>-601.427363</td>\n",
       "    </tr>\n",
       "    <tr>\n",
       "      <th>3</th>\n",
       "      <td>2016-01-15 03:00:00</td>\n",
       "      <td>6.047977</td>\n",
       "      <td>9.977019</td>\n",
       "      <td>4.858634</td>\n",
       "      <td>42.689819</td>\n",
       "      <td>68.347543</td>\n",
       "      <td>10.422762</td>\n",
       "      <td>0.883763</td>\n",
       "      <td>16.532835</td>\n",
       "      <td>2.146849</td>\n",
       "      <td>...</td>\n",
       "      <td>14.036510</td>\n",
       "      <td>-500.857308</td>\n",
       "      <td>11.999550</td>\n",
       "      <td>-501.193686</td>\n",
       "      <td>9.970366</td>\n",
       "      <td>-499.201640</td>\n",
       "      <td>7.977324</td>\n",
       "      <td>-500.255908</td>\n",
       "      <td>14.005551</td>\n",
       "      <td>-599.996129</td>\n",
       "    </tr>\n",
       "    <tr>\n",
       "      <th>4</th>\n",
       "      <td>2016-01-15 04:00:00</td>\n",
       "      <td>6.148599</td>\n",
       "      <td>10.142511</td>\n",
       "      <td>4.939416</td>\n",
       "      <td>42.774141</td>\n",
       "      <td>66.927016</td>\n",
       "      <td>10.360302</td>\n",
       "      <td>0.792826</td>\n",
       "      <td>16.525686</td>\n",
       "      <td>2.055292</td>\n",
       "      <td>...</td>\n",
       "      <td>14.027298</td>\n",
       "      <td>-499.838632</td>\n",
       "      <td>11.953070</td>\n",
       "      <td>-501.053894</td>\n",
       "      <td>9.925709</td>\n",
       "      <td>-501.686727</td>\n",
       "      <td>7.894242</td>\n",
       "      <td>-500.356035</td>\n",
       "      <td>13.996647</td>\n",
       "      <td>-601.496691</td>\n",
       "    </tr>\n",
       "  </tbody>\n",
       "</table>\n",
       "<p>5 rows × 87 columns</p>\n",
       "</div>"
      ],
      "text/plain": [
       "                  date  final.output.concentrate_ag  \\\n",
       "0  2016-01-15 00:00:00                     6.055403   \n",
       "1  2016-01-15 01:00:00                     6.029369   \n",
       "2  2016-01-15 02:00:00                     6.055926   \n",
       "3  2016-01-15 03:00:00                     6.047977   \n",
       "4  2016-01-15 04:00:00                     6.148599   \n",
       "\n",
       "   final.output.concentrate_pb  final.output.concentrate_sol  \\\n",
       "0                     9.889648                      5.507324   \n",
       "1                     9.968944                      5.257781   \n",
       "2                    10.213995                      5.383759   \n",
       "3                     9.977019                      4.858634   \n",
       "4                    10.142511                      4.939416   \n",
       "\n",
       "   final.output.concentrate_au  final.output.recovery  final.output.tail_ag  \\\n",
       "0                    42.192020              70.541216             10.411962   \n",
       "1                    42.701629              69.266198             10.462676   \n",
       "2                    42.657501              68.116445             10.507046   \n",
       "3                    42.689819              68.347543             10.422762   \n",
       "4                    42.774141              66.927016             10.360302   \n",
       "\n",
       "   final.output.tail_pb  final.output.tail_sol  final.output.tail_au  ...  \\\n",
       "0              0.895447              16.904297              2.143149  ...   \n",
       "1              0.927452              16.634514              2.224930  ...   \n",
       "2              0.953716              16.208849              2.257889  ...   \n",
       "3              0.883763              16.532835              2.146849  ...   \n",
       "4              0.792826              16.525686              2.055292  ...   \n",
       "\n",
       "   secondary_cleaner.state.floatbank4_a_air  \\\n",
       "0                                 14.016835   \n",
       "1                                 13.992281   \n",
       "2                                 14.015015   \n",
       "3                                 14.036510   \n",
       "4                                 14.027298   \n",
       "\n",
       "   secondary_cleaner.state.floatbank4_a_level  \\\n",
       "0                                 -502.488007   \n",
       "1                                 -505.503262   \n",
       "2                                 -502.520901   \n",
       "3                                 -500.857308   \n",
       "4                                 -499.838632   \n",
       "\n",
       "   secondary_cleaner.state.floatbank4_b_air  \\\n",
       "0                                 12.099931   \n",
       "1                                 11.950531   \n",
       "2                                 11.912783   \n",
       "3                                 11.999550   \n",
       "4                                 11.953070   \n",
       "\n",
       "   secondary_cleaner.state.floatbank4_b_level  \\\n",
       "0                                 -504.715942   \n",
       "1                                 -501.331529   \n",
       "2                                 -501.133383   \n",
       "3                                 -501.193686   \n",
       "4                                 -501.053894   \n",
       "\n",
       "   secondary_cleaner.state.floatbank5_a_air  \\\n",
       "0                                  9.925633   \n",
       "1                                 10.039245   \n",
       "2                                 10.070913   \n",
       "3                                  9.970366   \n",
       "4                                  9.925709   \n",
       "\n",
       "   secondary_cleaner.state.floatbank5_a_level  \\\n",
       "0                                 -498.310211   \n",
       "1                                 -500.169983   \n",
       "2                                 -500.129135   \n",
       "3                                 -499.201640   \n",
       "4                                 -501.686727   \n",
       "\n",
       "   secondary_cleaner.state.floatbank5_b_air  \\\n",
       "0                                  8.079666   \n",
       "1                                  7.984757   \n",
       "2                                  8.013877   \n",
       "3                                  7.977324   \n",
       "4                                  7.894242   \n",
       "\n",
       "   secondary_cleaner.state.floatbank5_b_level  \\\n",
       "0                                 -500.470978   \n",
       "1                                 -500.582168   \n",
       "2                                 -500.517572   \n",
       "3                                 -500.255908   \n",
       "4                                 -500.356035   \n",
       "\n",
       "   secondary_cleaner.state.floatbank6_a_air  \\\n",
       "0                                 14.151341   \n",
       "1                                 13.998353   \n",
       "2                                 14.028663   \n",
       "3                                 14.005551   \n",
       "4                                 13.996647   \n",
       "\n",
       "   secondary_cleaner.state.floatbank6_a_level  \n",
       "0                                 -605.841980  \n",
       "1                                 -599.787184  \n",
       "2                                 -601.427363  \n",
       "3                                 -599.996129  \n",
       "4                                 -601.496691  \n",
       "\n",
       "[5 rows x 87 columns]"
      ]
     },
     "metadata": {},
     "output_type": "display_data"
    },
    {
     "name": "stdout",
     "output_type": "stream",
     "text": [
      "\n",
      "\n",
      "------------- Типы данных ------------\n",
      "<class 'pandas.core.frame.DataFrame'>\n",
      "RangeIndex: 19439 entries, 0 to 19438\n",
      "Data columns (total 87 columns):\n",
      " #   Column                                              Non-Null Count  Dtype  \n",
      "---  ------                                              --------------  -----  \n",
      " 0   date                                                19439 non-null  object \n",
      " 1   final.output.concentrate_ag                         19438 non-null  float64\n",
      " 2   final.output.concentrate_pb                         19438 non-null  float64\n",
      " 3   final.output.concentrate_sol                        19228 non-null  float64\n",
      " 4   final.output.concentrate_au                         19439 non-null  float64\n",
      " 5   final.output.recovery                               19439 non-null  float64\n",
      " 6   final.output.tail_ag                                19438 non-null  float64\n",
      " 7   final.output.tail_pb                                19338 non-null  float64\n",
      " 8   final.output.tail_sol                               19433 non-null  float64\n",
      " 9   final.output.tail_au                                19439 non-null  float64\n",
      " 10  primary_cleaner.input.sulfate                       19415 non-null  float64\n",
      " 11  primary_cleaner.input.depressant                    19402 non-null  float64\n",
      " 12  primary_cleaner.input.feed_size                     19439 non-null  float64\n",
      " 13  primary_cleaner.input.xanthate                      19335 non-null  float64\n",
      " 14  primary_cleaner.output.concentrate_ag               19439 non-null  float64\n",
      " 15  primary_cleaner.output.concentrate_pb               19323 non-null  float64\n",
      " 16  primary_cleaner.output.concentrate_sol              19069 non-null  float64\n",
      " 17  primary_cleaner.output.concentrate_au               19439 non-null  float64\n",
      " 18  primary_cleaner.output.tail_ag                      19435 non-null  float64\n",
      " 19  primary_cleaner.output.tail_pb                      19418 non-null  float64\n",
      " 20  primary_cleaner.output.tail_sol                     19377 non-null  float64\n",
      " 21  primary_cleaner.output.tail_au                      19439 non-null  float64\n",
      " 22  primary_cleaner.state.floatbank8_a_air              19435 non-null  float64\n",
      " 23  primary_cleaner.state.floatbank8_a_level            19438 non-null  float64\n",
      " 24  primary_cleaner.state.floatbank8_b_air              19435 non-null  float64\n",
      " 25  primary_cleaner.state.floatbank8_b_level            19438 non-null  float64\n",
      " 26  primary_cleaner.state.floatbank8_c_air              19437 non-null  float64\n",
      " 27  primary_cleaner.state.floatbank8_c_level            19438 non-null  float64\n",
      " 28  primary_cleaner.state.floatbank8_d_air              19436 non-null  float64\n",
      " 29  primary_cleaner.state.floatbank8_d_level            19438 non-null  float64\n",
      " 30  rougher.calculation.sulfate_to_au_concentrate       19437 non-null  float64\n",
      " 31  rougher.calculation.floatbank10_sulfate_to_au_feed  19437 non-null  float64\n",
      " 32  rougher.calculation.floatbank11_sulfate_to_au_feed  19437 non-null  float64\n",
      " 33  rougher.calculation.au_pb_ratio                     19439 non-null  float64\n",
      " 34  rougher.input.feed_ag                               19439 non-null  float64\n",
      " 35  rougher.input.feed_pb                               19339 non-null  float64\n",
      " 36  rougher.input.feed_rate                             19428 non-null  float64\n",
      " 37  rougher.input.feed_size                             19294 non-null  float64\n",
      " 38  rougher.input.feed_sol                              19340 non-null  float64\n",
      " 39  rougher.input.feed_au                               19439 non-null  float64\n",
      " 40  rougher.input.floatbank10_sulfate                   19405 non-null  float64\n",
      " 41  rougher.input.floatbank10_xanthate                  19431 non-null  float64\n",
      " 42  rougher.input.floatbank11_sulfate                   19395 non-null  float64\n",
      " 43  rougher.input.floatbank11_xanthate                  18986 non-null  float64\n",
      " 44  rougher.output.concentrate_ag                       19439 non-null  float64\n",
      " 45  rougher.output.concentrate_pb                       19439 non-null  float64\n",
      " 46  rougher.output.concentrate_sol                      19416 non-null  float64\n",
      " 47  rougher.output.concentrate_au                       19439 non-null  float64\n",
      " 48  rougher.output.recovery                             19439 non-null  float64\n",
      " 49  rougher.output.tail_ag                              19438 non-null  float64\n",
      " 50  rougher.output.tail_pb                              19439 non-null  float64\n",
      " 51  rougher.output.tail_sol                             19439 non-null  float64\n",
      " 52  rougher.output.tail_au                              19439 non-null  float64\n",
      " 53  rougher.state.floatbank10_a_air                     19438 non-null  float64\n",
      " 54  rougher.state.floatbank10_a_level                   19438 non-null  float64\n",
      " 55  rougher.state.floatbank10_b_air                     19438 non-null  float64\n",
      " 56  rougher.state.floatbank10_b_level                   19438 non-null  float64\n",
      " 57  rougher.state.floatbank10_c_air                     19438 non-null  float64\n",
      " 58  rougher.state.floatbank10_c_level                   19438 non-null  float64\n",
      " 59  rougher.state.floatbank10_d_air                     19439 non-null  float64\n",
      " 60  rougher.state.floatbank10_d_level                   19439 non-null  float64\n",
      " 61  rougher.state.floatbank10_e_air                     19003 non-null  float64\n",
      " 62  rougher.state.floatbank10_e_level                   19439 non-null  float64\n",
      " 63  rougher.state.floatbank10_f_air                     19439 non-null  float64\n",
      " 64  rougher.state.floatbank10_f_level                   19439 non-null  float64\n",
      " 65  secondary_cleaner.output.tail_ag                    19437 non-null  float64\n",
      " 66  secondary_cleaner.output.tail_pb                    19427 non-null  float64\n",
      " 67  secondary_cleaner.output.tail_sol                   17691 non-null  float64\n",
      " 68  secondary_cleaner.output.tail_au                    19439 non-null  float64\n",
      " 69  secondary_cleaner.state.floatbank2_a_air            19219 non-null  float64\n",
      " 70  secondary_cleaner.state.floatbank2_a_level          19438 non-null  float64\n",
      " 71  secondary_cleaner.state.floatbank2_b_air            19416 non-null  float64\n",
      " 72  secondary_cleaner.state.floatbank2_b_level          19438 non-null  float64\n",
      " 73  secondary_cleaner.state.floatbank3_a_air            19426 non-null  float64\n",
      " 74  secondary_cleaner.state.floatbank3_a_level          19438 non-null  float64\n",
      " 75  secondary_cleaner.state.floatbank3_b_air            19438 non-null  float64\n",
      " 76  secondary_cleaner.state.floatbank3_b_level          19438 non-null  float64\n",
      " 77  secondary_cleaner.state.floatbank4_a_air            19433 non-null  float64\n",
      " 78  secondary_cleaner.state.floatbank4_a_level          19438 non-null  float64\n",
      " 79  secondary_cleaner.state.floatbank4_b_air            19438 non-null  float64\n",
      " 80  secondary_cleaner.state.floatbank4_b_level          19438 non-null  float64\n",
      " 81  secondary_cleaner.state.floatbank5_a_air            19438 non-null  float64\n",
      " 82  secondary_cleaner.state.floatbank5_a_level          19438 non-null  float64\n",
      " 83  secondary_cleaner.state.floatbank5_b_air            19438 non-null  float64\n",
      " 84  secondary_cleaner.state.floatbank5_b_level          19438 non-null  float64\n",
      " 85  secondary_cleaner.state.floatbank6_a_air            19437 non-null  float64\n",
      " 86  secondary_cleaner.state.floatbank6_a_level          19438 non-null  float64\n",
      "dtypes: float64(86), object(1)\n",
      "memory usage: 12.9+ MB\n",
      "None\n",
      "\n",
      "\n",
      "------------- Пропуски ------------\n",
      "final.output.concentrate_ag  -  1 пропусков,  0.01 % от числа строк.\n",
      "final.output.concentrate_pb  -  1 пропусков,  0.01 % от числа строк.\n",
      "final.output.concentrate_sol  -  211 пропусков,  1.09 % от числа строк.\n",
      "final.output.tail_ag  -  1 пропусков,  0.01 % от числа строк.\n",
      "final.output.tail_pb  -  101 пропусков,  0.52 % от числа строк.\n",
      "final.output.tail_sol  -  6 пропусков,  0.03 % от числа строк.\n",
      "primary_cleaner.input.sulfate  -  24 пропусков,  0.12 % от числа строк.\n",
      "primary_cleaner.input.depressant  -  37 пропусков,  0.19 % от числа строк.\n",
      "primary_cleaner.input.xanthate  -  104 пропусков,  0.54 % от числа строк.\n",
      "primary_cleaner.output.concentrate_pb  -  116 пропусков,  0.6 % от числа строк.\n",
      "primary_cleaner.output.concentrate_sol  -  370 пропусков,  1.9 % от числа строк.\n",
      "primary_cleaner.output.tail_ag  -  4 пропусков,  0.02 % от числа строк.\n",
      "primary_cleaner.output.tail_pb  -  21 пропусков,  0.11 % от числа строк.\n",
      "primary_cleaner.output.tail_sol  -  62 пропусков,  0.32 % от числа строк.\n",
      "primary_cleaner.state.floatbank8_a_air  -  4 пропусков,  0.02 % от числа строк.\n",
      "primary_cleaner.state.floatbank8_a_level  -  1 пропусков,  0.01 % от числа строк.\n",
      "primary_cleaner.state.floatbank8_b_air  -  4 пропусков,  0.02 % от числа строк.\n",
      "primary_cleaner.state.floatbank8_b_level  -  1 пропусков,  0.01 % от числа строк.\n",
      "primary_cleaner.state.floatbank8_c_air  -  2 пропусков,  0.01 % от числа строк.\n",
      "primary_cleaner.state.floatbank8_c_level  -  1 пропусков,  0.01 % от числа строк.\n",
      "primary_cleaner.state.floatbank8_d_air  -  3 пропусков,  0.02 % от числа строк.\n",
      "primary_cleaner.state.floatbank8_d_level  -  1 пропусков,  0.01 % от числа строк.\n",
      "rougher.calculation.sulfate_to_au_concentrate  -  2 пропусков,  0.01 % от числа строк.\n",
      "rougher.calculation.floatbank10_sulfate_to_au_feed  -  2 пропусков,  0.01 % от числа строк.\n",
      "rougher.calculation.floatbank11_sulfate_to_au_feed  -  2 пропусков,  0.01 % от числа строк.\n",
      "rougher.input.feed_pb  -  100 пропусков,  0.51 % от числа строк.\n",
      "rougher.input.feed_rate  -  11 пропусков,  0.06 % от числа строк.\n",
      "rougher.input.feed_size  -  145 пропусков,  0.75 % от числа строк.\n",
      "rougher.input.feed_sol  -  99 пропусков,  0.51 % от числа строк.\n",
      "rougher.input.floatbank10_sulfate  -  34 пропусков,  0.17 % от числа строк.\n",
      "rougher.input.floatbank10_xanthate  -  8 пропусков,  0.04 % от числа строк.\n",
      "rougher.input.floatbank11_sulfate  -  44 пропусков,  0.23 % от числа строк.\n",
      "rougher.input.floatbank11_xanthate  -  453 пропусков,  2.33 % от числа строк.\n",
      "rougher.output.concentrate_sol  -  23 пропусков,  0.12 % от числа строк.\n",
      "rougher.output.tail_ag  -  1 пропусков,  0.01 % от числа строк.\n",
      "rougher.state.floatbank10_a_air  -  1 пропусков,  0.01 % от числа строк.\n",
      "rougher.state.floatbank10_a_level  -  1 пропусков,  0.01 % от числа строк.\n",
      "rougher.state.floatbank10_b_air  -  1 пропусков,  0.01 % от числа строк.\n",
      "rougher.state.floatbank10_b_level  -  1 пропусков,  0.01 % от числа строк.\n",
      "rougher.state.floatbank10_c_air  -  1 пропусков,  0.01 % от числа строк.\n",
      "rougher.state.floatbank10_c_level  -  1 пропусков,  0.01 % от числа строк.\n",
      "rougher.state.floatbank10_e_air  -  436 пропусков,  2.24 % от числа строк.\n",
      "secondary_cleaner.output.tail_ag  -  2 пропусков,  0.01 % от числа строк.\n",
      "secondary_cleaner.output.tail_pb  -  12 пропусков,  0.06 % от числа строк.\n",
      "secondary_cleaner.output.tail_sol  -  1748 пропусков,  8.99 % от числа строк.\n",
      "secondary_cleaner.state.floatbank2_a_air  -  220 пропусков,  1.13 % от числа строк.\n",
      "secondary_cleaner.state.floatbank2_a_level  -  1 пропусков,  0.01 % от числа строк.\n",
      "secondary_cleaner.state.floatbank2_b_air  -  23 пропусков,  0.12 % от числа строк.\n",
      "secondary_cleaner.state.floatbank2_b_level  -  1 пропусков,  0.01 % от числа строк.\n",
      "secondary_cleaner.state.floatbank3_a_air  -  13 пропусков,  0.07 % от числа строк.\n",
      "secondary_cleaner.state.floatbank3_a_level  -  1 пропусков,  0.01 % от числа строк.\n",
      "secondary_cleaner.state.floatbank3_b_air  -  1 пропусков,  0.01 % от числа строк.\n",
      "secondary_cleaner.state.floatbank3_b_level  -  1 пропусков,  0.01 % от числа строк.\n",
      "secondary_cleaner.state.floatbank4_a_air  -  6 пропусков,  0.03 % от числа строк.\n",
      "secondary_cleaner.state.floatbank4_a_level  -  1 пропусков,  0.01 % от числа строк.\n",
      "secondary_cleaner.state.floatbank4_b_air  -  1 пропусков,  0.01 % от числа строк.\n",
      "secondary_cleaner.state.floatbank4_b_level  -  1 пропусков,  0.01 % от числа строк.\n",
      "secondary_cleaner.state.floatbank5_a_air  -  1 пропусков,  0.01 % от числа строк.\n",
      "secondary_cleaner.state.floatbank5_a_level  -  1 пропусков,  0.01 % от числа строк.\n",
      "secondary_cleaner.state.floatbank5_b_air  -  1 пропусков,  0.01 % от числа строк.\n",
      "secondary_cleaner.state.floatbank5_b_level  -  1 пропусков,  0.01 % от числа строк.\n",
      "secondary_cleaner.state.floatbank6_a_air  -  2 пропусков,  0.01 % от числа строк.\n",
      "secondary_cleaner.state.floatbank6_a_level  -  1 пропусков,  0.01 % от числа строк.\n",
      "------------- Дубликаты ------------\n",
      "Дубликатов НЕТ\n",
      "------------- Категориальные признаки ------------\n"
     ]
    }
   ],
   "source": [
    "first_look (df_full)"
   ]
  },
  {
   "cell_type": "markdown",
   "metadata": {},
   "source": [
    "Из прочитанных данных видно, что в обучающей и полной выборке 86 столбцов, а в тестовой всего 52. Также в тестовой выборке отсутствуют целевые признаки final.output.recovery и rougher.output.recovery.\n",
    "\n",
    "Во всех файлах присутствуют пропуски в данных, дубликатов нет"
   ]
  },
  {
   "cell_type": "markdown",
   "metadata": {},
   "source": [
    "# Технологический процесс\n",
    "\n",
    "Как золото получают из руды? Изучите внимательно стадии процесса.\n",
    "Когда добытая руда проходит первичную обработку, получается дроблёная смесь. Её отправляют на флотацию (обогащение) и двухэтапную очистку.\n",
    "\n",
    "Опишем каждую стадию:\n",
    "\n",
    "<b>1. Флотация</b>\n",
    "\n",
    "Во флотационную установку подаётся смесь золотосодержащей руды. После обогащения получается черновой концентрат и «отвальные хвосты», то есть остатки продукта с низкой концентрацией ценных металлов.\n",
    "На стабильность этого процесса влияет непостоянное и неоптимальное физико-химическое состояние флотационной пульпы (смеси твёрдых частиц и жидкости).\n",
    "\n",
    "<b>2. Очистка</b>\n",
    "\n",
    "Черновой концентрат проходит две очистки. На выходе получается финальный концентрат и новые отвальные хвосты.\n",
    "\n",
    "# Описание данных\n",
    "\n",
    "<b>Технологический процесс</b>\n",
    "\n",
    "•\tRougher feed — исходное сырье\n",
    "\n",
    "•\tRougher additions (или reagent additions) — флотационные реагенты: Xanthate, Sulphate, Depressant\n",
    "\n",
    "    o\tXanthate **— ксантогенат (промотер, или активатор флотации);\n",
    "    \n",
    "    o\tSulphate — сульфат (на данном производстве сульфид натрия);\n",
    "    \n",
    "    o\tDepressant — депрессант (силикат натрия).\n",
    "    \n",
    "•\tRougher process (англ. «грубый процесс») — флотация\n",
    "\n",
    "•\tRougher tails — отвальные хвосты\n",
    "\n",
    "•\tFloat banks — флотационная установка\n",
    "\n",
    "•\tCleaner process — очистка\n",
    "\n",
    "•\tRougher Au — черновой концентрат золота\n",
    "\n",
    "•\tFinal Au — финальный концентрат золота\n",
    "\n",
    "<b>Параметры этапов</b>\n",
    "\n",
    "•\tair amount — объём воздуха\n",
    "\n",
    "•\tfluid levels — уровень жидкости\n",
    "\n",
    "•\tfeed size — размер гранул сырья\n",
    "\n",
    "•\tfeed rate — скорость подачи\n",
    "\n",
    "# Наименование признаков\n",
    "\n",
    "Наименование признаков должно быть такое:\n",
    "\n",
    "[этап].[тип_параметра].[название_параметра]\n",
    "\n",
    "Пример: rougher.input.feed_ag\n",
    "\n",
    "Возможные значения для блока [этап]:\n",
    "\n",
    "•\trougher — флотация\n",
    "\n",
    "•\tprimary_cleaner — первичная очистка\n",
    "\n",
    "•\tsecondary_cleaner — вторичная очистка\n",
    "\n",
    "•\tfinal — финальные характеристики\n",
    "\n",
    "Возможные значения для блока [тип_параметра]:\n",
    "\n",
    "•\tinput — параметры сырья\n",
    "\n",
    "•\toutput — параметры продукта\n",
    "\n",
    "•\tstate — параметры, характеризующие текущее состояние этапа\n",
    "\n",
    "•\tcalculation — расчётные характеристики"
   ]
  },
  {
   "cell_type": "markdown",
   "metadata": {},
   "source": [
    "<a id=step_3></a>\n",
    "<b>1.2. Проверим, что эффективность обогащения рассчитана правильно. Вычислим её на обучающей выборке для признака rougher.output.recovery. Найдем MAE между нашими расчётами и значением признака. Опишем выводы.</b>"
   ]
  },
  {
   "cell_type": "markdown",
   "metadata": {},
   "source": [
    "# Расчёт эффективности\n",
    "\n",
    "Вам нужно смоделировать процесс восстановления золота из золотосодержащей руды.\n",
    "Эффективность обогащения рассчитывается по формуле\n",
    " \n",
    " <b>$$Recovery = \\frac {C \\;x \\;(F - T)}{F \\;x \\;(C - T)}$$</b>\n",
    "  \n",
    "где:\n",
    "\n",
    "•\tC — доля золота в концентрате после флотации/очистки;\n",
    "\n",
    "•\tF — доля золота в сырье/концентрате до флотации/очистки;\n",
    "\n",
    "•\tT — доля золота в отвальных хвостах после флотации/очистки.\n",
    "\n",
    "Для прогноза коэффициента нужно найти долю золота в концентратах и хвостах. Причём важен не только финальный продукт, но и черновой концентрат."
   ]
  },
  {
   "cell_type": "markdown",
   "metadata": {},
   "source": [
    "Создадим переменную с нашим расчетным значением эффективности в обучающей выборке"
   ]
  },
  {
   "cell_type": "code",
   "execution_count": 9,
   "metadata": {},
   "outputs": [],
   "source": [
    "recovery = (df_train ['rougher.output.concentrate_au'] * (df_train ['rougher.input.feed_au'] - \\\n",
    "                    df_train ['rougher.output.tail_au'])) / (df_train ['rougher.input.feed_au'] * \\\n",
    "                    (df_train ['rougher.output.concentrate_au'] - df_train ['rougher.output.tail_au'])) * 100"
   ]
  },
  {
   "cell_type": "code",
   "execution_count": 10,
   "metadata": {},
   "outputs": [
    {
     "data": {
      "text/plain": [
       "0    87.107763\n",
       "1    86.843261\n",
       "2    86.842308\n",
       "3    87.226430\n",
       "4    86.688794\n",
       "dtype: float64"
      ]
     },
     "metadata": {},
     "output_type": "display_data"
    },
    {
     "name": "stdout",
     "output_type": "stream",
     "text": [
      "MAE между нашими расчётами и значением признака: 9.73512347450521e-15\n"
     ]
    }
   ],
   "source": [
    "display (recovery.head (5))\n",
    "print ('MAE между нашими расчётами и значением признака:', mean_absolute_error (df_train ['rougher.output.recovery'], \\\n",
    "                                                                                recovery))"
   ]
  },
  {
   "cell_type": "markdown",
   "metadata": {},
   "source": [
    "Т.к. расчитанное отклонение ничтожно мало, можем принять, что эффективность обогащения расчитана верно."
   ]
  },
  {
   "cell_type": "markdown",
   "metadata": {},
   "source": [
    "<a id=step_4></a>\n",
    "<b>1.3. Проанализируем признаки, недоступные в тестовой выборке. Опишем что это за параметры. Опишем к какому типу они относятся.</b>"
   ]
  },
  {
   "cell_type": "code",
   "execution_count": 11,
   "metadata": {},
   "outputs": [
    {
     "data": {
      "text/plain": [
       "Index(['final.output.concentrate_ag', 'final.output.concentrate_pb',\n",
       "       'final.output.concentrate_sol', 'final.output.concentrate_au',\n",
       "       'final.output.recovery', 'final.output.tail_ag', 'final.output.tail_pb',\n",
       "       'final.output.tail_sol', 'final.output.tail_au',\n",
       "       'primary_cleaner.output.concentrate_ag',\n",
       "       'primary_cleaner.output.concentrate_pb',\n",
       "       'primary_cleaner.output.concentrate_sol',\n",
       "       'primary_cleaner.output.concentrate_au',\n",
       "       'primary_cleaner.output.tail_ag', 'primary_cleaner.output.tail_pb',\n",
       "       'primary_cleaner.output.tail_sol', 'primary_cleaner.output.tail_au',\n",
       "       'rougher.calculation.sulfate_to_au_concentrate',\n",
       "       'rougher.calculation.floatbank10_sulfate_to_au_feed',\n",
       "       'rougher.calculation.floatbank11_sulfate_to_au_feed',\n",
       "       'rougher.calculation.au_pb_ratio', 'rougher.output.concentrate_ag',\n",
       "       'rougher.output.concentrate_pb', 'rougher.output.concentrate_sol',\n",
       "       'rougher.output.concentrate_au', 'rougher.output.recovery',\n",
       "       'rougher.output.tail_ag', 'rougher.output.tail_pb',\n",
       "       'rougher.output.tail_sol', 'rougher.output.tail_au',\n",
       "       'secondary_cleaner.output.tail_ag', 'secondary_cleaner.output.tail_pb',\n",
       "       'secondary_cleaner.output.tail_sol',\n",
       "       'secondary_cleaner.output.tail_au'],\n",
       "      dtype='object')"
      ]
     },
     "metadata": {},
     "output_type": "display_data"
    }
   ],
   "source": [
    "columns_not_in_test = df_train.columns.drop (df_test.columns)\n",
    "display (columns_not_in_test)"
   ]
  },
  {
   "cell_type": "markdown",
   "metadata": {},
   "source": [
    "После сравнения столбцов данных двух файлов, мы видим, что в тестовых данных не хватает тех признаков, которые замеряются и/или рассчитываются значительно позже. В виду этого подобные признаки также не должны быть использованы при обучении модели. Т.е. перед созданием модели их нужно убрать из обучающей выборки. Исключение составляют два целевых признака - final.output.recovery, rougher.output.recovery, т.к. нам их нужно спрогнозировать в дальнейшем."
   ]
  },
  {
   "cell_type": "markdown",
   "metadata": {},
   "source": [
    "Удалим из обучающей выборки те столбцы, которые не будут участвовать в обучении моделей"
   ]
  },
  {
   "cell_type": "code",
   "execution_count": 12,
   "metadata": {},
   "outputs": [],
   "source": [
    "columns_to_drop = columns_not_in_test.drop (['final.output.recovery', 'rougher.output.recovery'])\n",
    "train_columns = df_train.columns.drop (columns_to_drop)\n",
    "df_train = df_train [train_columns]"
   ]
  },
  {
   "cell_type": "code",
   "execution_count": 13,
   "metadata": {},
   "outputs": [
    {
     "name": "stdout",
     "output_type": "stream",
     "text": [
      "------------- Первые 5 строк ------------\n"
     ]
    },
    {
     "data": {
      "text/html": [
       "<div>\n",
       "<style scoped>\n",
       "    .dataframe tbody tr th:only-of-type {\n",
       "        vertical-align: middle;\n",
       "    }\n",
       "\n",
       "    .dataframe tbody tr th {\n",
       "        vertical-align: top;\n",
       "    }\n",
       "\n",
       "    .dataframe thead th {\n",
       "        text-align: right;\n",
       "    }\n",
       "</style>\n",
       "<table border=\"1\" class=\"dataframe\">\n",
       "  <thead>\n",
       "    <tr style=\"text-align: right;\">\n",
       "      <th></th>\n",
       "      <th>date</th>\n",
       "      <th>final.output.recovery</th>\n",
       "      <th>primary_cleaner.input.sulfate</th>\n",
       "      <th>primary_cleaner.input.depressant</th>\n",
       "      <th>primary_cleaner.input.feed_size</th>\n",
       "      <th>primary_cleaner.input.xanthate</th>\n",
       "      <th>primary_cleaner.state.floatbank8_a_air</th>\n",
       "      <th>primary_cleaner.state.floatbank8_a_level</th>\n",
       "      <th>primary_cleaner.state.floatbank8_b_air</th>\n",
       "      <th>primary_cleaner.state.floatbank8_b_level</th>\n",
       "      <th>...</th>\n",
       "      <th>secondary_cleaner.state.floatbank4_a_air</th>\n",
       "      <th>secondary_cleaner.state.floatbank4_a_level</th>\n",
       "      <th>secondary_cleaner.state.floatbank4_b_air</th>\n",
       "      <th>secondary_cleaner.state.floatbank4_b_level</th>\n",
       "      <th>secondary_cleaner.state.floatbank5_a_air</th>\n",
       "      <th>secondary_cleaner.state.floatbank5_a_level</th>\n",
       "      <th>secondary_cleaner.state.floatbank5_b_air</th>\n",
       "      <th>secondary_cleaner.state.floatbank5_b_level</th>\n",
       "      <th>secondary_cleaner.state.floatbank6_a_air</th>\n",
       "      <th>secondary_cleaner.state.floatbank6_a_level</th>\n",
       "    </tr>\n",
       "  </thead>\n",
       "  <tbody>\n",
       "    <tr>\n",
       "      <th>0</th>\n",
       "      <td>2016-01-15 00:00:00</td>\n",
       "      <td>70.541216</td>\n",
       "      <td>127.092003</td>\n",
       "      <td>10.128295</td>\n",
       "      <td>7.25</td>\n",
       "      <td>0.988759</td>\n",
       "      <td>1549.775757</td>\n",
       "      <td>-498.912140</td>\n",
       "      <td>1551.434204</td>\n",
       "      <td>-516.403442</td>\n",
       "      <td>...</td>\n",
       "      <td>14.016835</td>\n",
       "      <td>-502.488007</td>\n",
       "      <td>12.099931</td>\n",
       "      <td>-504.715942</td>\n",
       "      <td>9.925633</td>\n",
       "      <td>-498.310211</td>\n",
       "      <td>8.079666</td>\n",
       "      <td>-500.470978</td>\n",
       "      <td>14.151341</td>\n",
       "      <td>-605.841980</td>\n",
       "    </tr>\n",
       "    <tr>\n",
       "      <th>1</th>\n",
       "      <td>2016-01-15 01:00:00</td>\n",
       "      <td>69.266198</td>\n",
       "      <td>125.629232</td>\n",
       "      <td>10.296251</td>\n",
       "      <td>7.25</td>\n",
       "      <td>1.002663</td>\n",
       "      <td>1576.166671</td>\n",
       "      <td>-500.904965</td>\n",
       "      <td>1575.950626</td>\n",
       "      <td>-499.865889</td>\n",
       "      <td>...</td>\n",
       "      <td>13.992281</td>\n",
       "      <td>-505.503262</td>\n",
       "      <td>11.950531</td>\n",
       "      <td>-501.331529</td>\n",
       "      <td>10.039245</td>\n",
       "      <td>-500.169983</td>\n",
       "      <td>7.984757</td>\n",
       "      <td>-500.582168</td>\n",
       "      <td>13.998353</td>\n",
       "      <td>-599.787184</td>\n",
       "    </tr>\n",
       "    <tr>\n",
       "      <th>2</th>\n",
       "      <td>2016-01-15 02:00:00</td>\n",
       "      <td>68.116445</td>\n",
       "      <td>123.819808</td>\n",
       "      <td>11.316280</td>\n",
       "      <td>7.25</td>\n",
       "      <td>0.991265</td>\n",
       "      <td>1601.556163</td>\n",
       "      <td>-499.997791</td>\n",
       "      <td>1600.386685</td>\n",
       "      <td>-500.607762</td>\n",
       "      <td>...</td>\n",
       "      <td>14.015015</td>\n",
       "      <td>-502.520901</td>\n",
       "      <td>11.912783</td>\n",
       "      <td>-501.133383</td>\n",
       "      <td>10.070913</td>\n",
       "      <td>-500.129135</td>\n",
       "      <td>8.013877</td>\n",
       "      <td>-500.517572</td>\n",
       "      <td>14.028663</td>\n",
       "      <td>-601.427363</td>\n",
       "    </tr>\n",
       "    <tr>\n",
       "      <th>3</th>\n",
       "      <td>2016-01-15 03:00:00</td>\n",
       "      <td>68.347543</td>\n",
       "      <td>122.270188</td>\n",
       "      <td>11.322140</td>\n",
       "      <td>7.25</td>\n",
       "      <td>0.996739</td>\n",
       "      <td>1599.968720</td>\n",
       "      <td>-500.951778</td>\n",
       "      <td>1600.659236</td>\n",
       "      <td>-499.677094</td>\n",
       "      <td>...</td>\n",
       "      <td>14.036510</td>\n",
       "      <td>-500.857308</td>\n",
       "      <td>11.999550</td>\n",
       "      <td>-501.193686</td>\n",
       "      <td>9.970366</td>\n",
       "      <td>-499.201640</td>\n",
       "      <td>7.977324</td>\n",
       "      <td>-500.255908</td>\n",
       "      <td>14.005551</td>\n",
       "      <td>-599.996129</td>\n",
       "    </tr>\n",
       "    <tr>\n",
       "      <th>4</th>\n",
       "      <td>2016-01-15 04:00:00</td>\n",
       "      <td>66.927016</td>\n",
       "      <td>117.988169</td>\n",
       "      <td>11.913613</td>\n",
       "      <td>7.25</td>\n",
       "      <td>1.009869</td>\n",
       "      <td>1601.339707</td>\n",
       "      <td>-498.975456</td>\n",
       "      <td>1601.437854</td>\n",
       "      <td>-500.323246</td>\n",
       "      <td>...</td>\n",
       "      <td>14.027298</td>\n",
       "      <td>-499.838632</td>\n",
       "      <td>11.953070</td>\n",
       "      <td>-501.053894</td>\n",
       "      <td>9.925709</td>\n",
       "      <td>-501.686727</td>\n",
       "      <td>7.894242</td>\n",
       "      <td>-500.356035</td>\n",
       "      <td>13.996647</td>\n",
       "      <td>-601.496691</td>\n",
       "    </tr>\n",
       "  </tbody>\n",
       "</table>\n",
       "<p>5 rows × 55 columns</p>\n",
       "</div>"
      ],
      "text/plain": [
       "                  date  final.output.recovery  primary_cleaner.input.sulfate  \\\n",
       "0  2016-01-15 00:00:00              70.541216                     127.092003   \n",
       "1  2016-01-15 01:00:00              69.266198                     125.629232   \n",
       "2  2016-01-15 02:00:00              68.116445                     123.819808   \n",
       "3  2016-01-15 03:00:00              68.347543                     122.270188   \n",
       "4  2016-01-15 04:00:00              66.927016                     117.988169   \n",
       "\n",
       "   primary_cleaner.input.depressant  primary_cleaner.input.feed_size  \\\n",
       "0                         10.128295                             7.25   \n",
       "1                         10.296251                             7.25   \n",
       "2                         11.316280                             7.25   \n",
       "3                         11.322140                             7.25   \n",
       "4                         11.913613                             7.25   \n",
       "\n",
       "   primary_cleaner.input.xanthate  primary_cleaner.state.floatbank8_a_air  \\\n",
       "0                        0.988759                             1549.775757   \n",
       "1                        1.002663                             1576.166671   \n",
       "2                        0.991265                             1601.556163   \n",
       "3                        0.996739                             1599.968720   \n",
       "4                        1.009869                             1601.339707   \n",
       "\n",
       "   primary_cleaner.state.floatbank8_a_level  \\\n",
       "0                               -498.912140   \n",
       "1                               -500.904965   \n",
       "2                               -499.997791   \n",
       "3                               -500.951778   \n",
       "4                               -498.975456   \n",
       "\n",
       "   primary_cleaner.state.floatbank8_b_air  \\\n",
       "0                             1551.434204   \n",
       "1                             1575.950626   \n",
       "2                             1600.386685   \n",
       "3                             1600.659236   \n",
       "4                             1601.437854   \n",
       "\n",
       "   primary_cleaner.state.floatbank8_b_level  ...  \\\n",
       "0                               -516.403442  ...   \n",
       "1                               -499.865889  ...   \n",
       "2                               -500.607762  ...   \n",
       "3                               -499.677094  ...   \n",
       "4                               -500.323246  ...   \n",
       "\n",
       "   secondary_cleaner.state.floatbank4_a_air  \\\n",
       "0                                 14.016835   \n",
       "1                                 13.992281   \n",
       "2                                 14.015015   \n",
       "3                                 14.036510   \n",
       "4                                 14.027298   \n",
       "\n",
       "   secondary_cleaner.state.floatbank4_a_level  \\\n",
       "0                                 -502.488007   \n",
       "1                                 -505.503262   \n",
       "2                                 -502.520901   \n",
       "3                                 -500.857308   \n",
       "4                                 -499.838632   \n",
       "\n",
       "   secondary_cleaner.state.floatbank4_b_air  \\\n",
       "0                                 12.099931   \n",
       "1                                 11.950531   \n",
       "2                                 11.912783   \n",
       "3                                 11.999550   \n",
       "4                                 11.953070   \n",
       "\n",
       "   secondary_cleaner.state.floatbank4_b_level  \\\n",
       "0                                 -504.715942   \n",
       "1                                 -501.331529   \n",
       "2                                 -501.133383   \n",
       "3                                 -501.193686   \n",
       "4                                 -501.053894   \n",
       "\n",
       "   secondary_cleaner.state.floatbank5_a_air  \\\n",
       "0                                  9.925633   \n",
       "1                                 10.039245   \n",
       "2                                 10.070913   \n",
       "3                                  9.970366   \n",
       "4                                  9.925709   \n",
       "\n",
       "   secondary_cleaner.state.floatbank5_a_level  \\\n",
       "0                                 -498.310211   \n",
       "1                                 -500.169983   \n",
       "2                                 -500.129135   \n",
       "3                                 -499.201640   \n",
       "4                                 -501.686727   \n",
       "\n",
       "   secondary_cleaner.state.floatbank5_b_air  \\\n",
       "0                                  8.079666   \n",
       "1                                  7.984757   \n",
       "2                                  8.013877   \n",
       "3                                  7.977324   \n",
       "4                                  7.894242   \n",
       "\n",
       "   secondary_cleaner.state.floatbank5_b_level  \\\n",
       "0                                 -500.470978   \n",
       "1                                 -500.582168   \n",
       "2                                 -500.517572   \n",
       "3                                 -500.255908   \n",
       "4                                 -500.356035   \n",
       "\n",
       "   secondary_cleaner.state.floatbank6_a_air  \\\n",
       "0                                 14.151341   \n",
       "1                                 13.998353   \n",
       "2                                 14.028663   \n",
       "3                                 14.005551   \n",
       "4                                 13.996647   \n",
       "\n",
       "   secondary_cleaner.state.floatbank6_a_level  \n",
       "0                                 -605.841980  \n",
       "1                                 -599.787184  \n",
       "2                                 -601.427363  \n",
       "3                                 -599.996129  \n",
       "4                                 -601.496691  \n",
       "\n",
       "[5 rows x 55 columns]"
      ]
     },
     "metadata": {},
     "output_type": "display_data"
    },
    {
     "name": "stdout",
     "output_type": "stream",
     "text": [
      "\n",
      "\n",
      "------------- Типы данных ------------\n",
      "<class 'pandas.core.frame.DataFrame'>\n",
      "RangeIndex: 14149 entries, 0 to 14148\n",
      "Data columns (total 55 columns):\n",
      " #   Column                                      Non-Null Count  Dtype  \n",
      "---  ------                                      --------------  -----  \n",
      " 0   date                                        14149 non-null  object \n",
      " 1   final.output.recovery                       14149 non-null  float64\n",
      " 2   primary_cleaner.input.sulfate               14129 non-null  float64\n",
      " 3   primary_cleaner.input.depressant            14117 non-null  float64\n",
      " 4   primary_cleaner.input.feed_size             14149 non-null  float64\n",
      " 5   primary_cleaner.input.xanthate              14049 non-null  float64\n",
      " 6   primary_cleaner.state.floatbank8_a_air      14145 non-null  float64\n",
      " 7   primary_cleaner.state.floatbank8_a_level    14148 non-null  float64\n",
      " 8   primary_cleaner.state.floatbank8_b_air      14145 non-null  float64\n",
      " 9   primary_cleaner.state.floatbank8_b_level    14148 non-null  float64\n",
      " 10  primary_cleaner.state.floatbank8_c_air      14147 non-null  float64\n",
      " 11  primary_cleaner.state.floatbank8_c_level    14148 non-null  float64\n",
      " 12  primary_cleaner.state.floatbank8_d_air      14146 non-null  float64\n",
      " 13  primary_cleaner.state.floatbank8_d_level    14148 non-null  float64\n",
      " 14  rougher.input.feed_ag                       14149 non-null  float64\n",
      " 15  rougher.input.feed_pb                       14049 non-null  float64\n",
      " 16  rougher.input.feed_rate                     14141 non-null  float64\n",
      " 17  rougher.input.feed_size                     14005 non-null  float64\n",
      " 18  rougher.input.feed_sol                      14071 non-null  float64\n",
      " 19  rougher.input.feed_au                       14149 non-null  float64\n",
      " 20  rougher.input.floatbank10_sulfate           14120 non-null  float64\n",
      " 21  rougher.input.floatbank10_xanthate          14141 non-null  float64\n",
      " 22  rougher.input.floatbank11_sulfate           14113 non-null  float64\n",
      " 23  rougher.input.floatbank11_xanthate          13721 non-null  float64\n",
      " 24  rougher.output.recovery                     14149 non-null  float64\n",
      " 25  rougher.state.floatbank10_a_air             14148 non-null  float64\n",
      " 26  rougher.state.floatbank10_a_level           14148 non-null  float64\n",
      " 27  rougher.state.floatbank10_b_air             14148 non-null  float64\n",
      " 28  rougher.state.floatbank10_b_level           14148 non-null  float64\n",
      " 29  rougher.state.floatbank10_c_air             14148 non-null  float64\n",
      " 30  rougher.state.floatbank10_c_level           14148 non-null  float64\n",
      " 31  rougher.state.floatbank10_d_air             14149 non-null  float64\n",
      " 32  rougher.state.floatbank10_d_level           14149 non-null  float64\n",
      " 33  rougher.state.floatbank10_e_air             13713 non-null  float64\n",
      " 34  rougher.state.floatbank10_e_level           14149 non-null  float64\n",
      " 35  rougher.state.floatbank10_f_air             14149 non-null  float64\n",
      " 36  rougher.state.floatbank10_f_level           14149 non-null  float64\n",
      " 37  secondary_cleaner.state.floatbank2_a_air    13932 non-null  float64\n",
      " 38  secondary_cleaner.state.floatbank2_a_level  14148 non-null  float64\n",
      " 39  secondary_cleaner.state.floatbank2_b_air    14128 non-null  float64\n",
      " 40  secondary_cleaner.state.floatbank2_b_level  14148 non-null  float64\n",
      " 41  secondary_cleaner.state.floatbank3_a_air    14145 non-null  float64\n",
      " 42  secondary_cleaner.state.floatbank3_a_level  14148 non-null  float64\n",
      " 43  secondary_cleaner.state.floatbank3_b_air    14148 non-null  float64\n",
      " 44  secondary_cleaner.state.floatbank3_b_level  14148 non-null  float64\n",
      " 45  secondary_cleaner.state.floatbank4_a_air    14143 non-null  float64\n",
      " 46  secondary_cleaner.state.floatbank4_a_level  14148 non-null  float64\n",
      " 47  secondary_cleaner.state.floatbank4_b_air    14148 non-null  float64\n",
      " 48  secondary_cleaner.state.floatbank4_b_level  14148 non-null  float64\n",
      " 49  secondary_cleaner.state.floatbank5_a_air    14148 non-null  float64\n",
      " 50  secondary_cleaner.state.floatbank5_a_level  14148 non-null  float64\n",
      " 51  secondary_cleaner.state.floatbank5_b_air    14148 non-null  float64\n",
      " 52  secondary_cleaner.state.floatbank5_b_level  14148 non-null  float64\n",
      " 53  secondary_cleaner.state.floatbank6_a_air    14147 non-null  float64\n",
      " 54  secondary_cleaner.state.floatbank6_a_level  14148 non-null  float64\n",
      "dtypes: float64(54), object(1)\n",
      "memory usage: 5.9+ MB\n",
      "None\n",
      "\n",
      "\n",
      "------------- Пропуски ------------\n",
      "primary_cleaner.input.sulfate  -  20 пропусков,  0.14 % от числа строк.\n",
      "primary_cleaner.input.depressant  -  32 пропусков,  0.23 % от числа строк.\n",
      "primary_cleaner.input.xanthate  -  100 пропусков,  0.71 % от числа строк.\n",
      "primary_cleaner.state.floatbank8_a_air  -  4 пропусков,  0.03 % от числа строк.\n",
      "primary_cleaner.state.floatbank8_a_level  -  1 пропусков,  0.01 % от числа строк.\n",
      "primary_cleaner.state.floatbank8_b_air  -  4 пропусков,  0.03 % от числа строк.\n",
      "primary_cleaner.state.floatbank8_b_level  -  1 пропусков,  0.01 % от числа строк.\n",
      "primary_cleaner.state.floatbank8_c_air  -  2 пропусков,  0.01 % от числа строк.\n",
      "primary_cleaner.state.floatbank8_c_level  -  1 пропусков,  0.01 % от числа строк.\n",
      "primary_cleaner.state.floatbank8_d_air  -  3 пропусков,  0.02 % от числа строк.\n",
      "primary_cleaner.state.floatbank8_d_level  -  1 пропусков,  0.01 % от числа строк.\n",
      "rougher.input.feed_pb  -  100 пропусков,  0.71 % от числа строк.\n",
      "rougher.input.feed_rate  -  8 пропусков,  0.06 % от числа строк.\n",
      "rougher.input.feed_size  -  144 пропусков,  1.02 % от числа строк.\n",
      "rougher.input.feed_sol  -  78 пропусков,  0.55 % от числа строк.\n",
      "rougher.input.floatbank10_sulfate  -  29 пропусков,  0.2 % от числа строк.\n",
      "rougher.input.floatbank10_xanthate  -  8 пропусков,  0.06 % от числа строк.\n",
      "rougher.input.floatbank11_sulfate  -  36 пропусков,  0.25 % от числа строк.\n",
      "rougher.input.floatbank11_xanthate  -  428 пропусков,  3.02 % от числа строк.\n",
      "rougher.state.floatbank10_a_air  -  1 пропусков,  0.01 % от числа строк.\n",
      "rougher.state.floatbank10_a_level  -  1 пропусков,  0.01 % от числа строк.\n",
      "rougher.state.floatbank10_b_air  -  1 пропусков,  0.01 % от числа строк.\n",
      "rougher.state.floatbank10_b_level  -  1 пропусков,  0.01 % от числа строк.\n",
      "rougher.state.floatbank10_c_air  -  1 пропусков,  0.01 % от числа строк.\n",
      "rougher.state.floatbank10_c_level  -  1 пропусков,  0.01 % от числа строк.\n",
      "rougher.state.floatbank10_e_air  -  436 пропусков,  3.08 % от числа строк.\n",
      "secondary_cleaner.state.floatbank2_a_air  -  217 пропусков,  1.53 % от числа строк.\n",
      "secondary_cleaner.state.floatbank2_a_level  -  1 пропусков,  0.01 % от числа строк.\n",
      "secondary_cleaner.state.floatbank2_b_air  -  21 пропусков,  0.15 % от числа строк.\n",
      "secondary_cleaner.state.floatbank2_b_level  -  1 пропусков,  0.01 % от числа строк.\n",
      "secondary_cleaner.state.floatbank3_a_air  -  4 пропусков,  0.03 % от числа строк.\n",
      "secondary_cleaner.state.floatbank3_a_level  -  1 пропусков,  0.01 % от числа строк.\n",
      "secondary_cleaner.state.floatbank3_b_air  -  1 пропусков,  0.01 % от числа строк.\n",
      "secondary_cleaner.state.floatbank3_b_level  -  1 пропусков,  0.01 % от числа строк.\n",
      "secondary_cleaner.state.floatbank4_a_air  -  6 пропусков,  0.04 % от числа строк.\n",
      "secondary_cleaner.state.floatbank4_a_level  -  1 пропусков,  0.01 % от числа строк.\n",
      "secondary_cleaner.state.floatbank4_b_air  -  1 пропусков,  0.01 % от числа строк.\n",
      "secondary_cleaner.state.floatbank4_b_level  -  1 пропусков,  0.01 % от числа строк.\n",
      "secondary_cleaner.state.floatbank5_a_air  -  1 пропусков,  0.01 % от числа строк.\n",
      "secondary_cleaner.state.floatbank5_a_level  -  1 пропусков,  0.01 % от числа строк.\n",
      "secondary_cleaner.state.floatbank5_b_air  -  1 пропусков,  0.01 % от числа строк.\n",
      "secondary_cleaner.state.floatbank5_b_level  -  1 пропусков,  0.01 % от числа строк.\n",
      "secondary_cleaner.state.floatbank6_a_air  -  2 пропусков,  0.01 % от числа строк.\n",
      "secondary_cleaner.state.floatbank6_a_level  -  1 пропусков,  0.01 % от числа строк.\n",
      "------------- Дубликаты ------------\n",
      "Дубликатов НЕТ\n",
      "------------- Категориальные признаки ------------\n"
     ]
    }
   ],
   "source": [
    "first_look (df_train)"
   ]
  },
  {
   "cell_type": "markdown",
   "metadata": {},
   "source": [
    "<a id=step_5></a>\n",
    "<b>1.4. Проведем предобработку данных.</b>"
   ]
  },
  {
   "cell_type": "markdown",
   "metadata": {},
   "source": [
    "Отсортируем наши выборки по дате"
   ]
  },
  {
   "cell_type": "code",
   "execution_count": 14,
   "metadata": {},
   "outputs": [],
   "source": [
    "df_train = df_train.sort_values (by = 'date')\n",
    "df_test = df_test.sort_values (by = 'date')\n",
    "df_full = df_full.sort_values (by = 'date')"
   ]
  },
  {
   "cell_type": "markdown",
   "metadata": {},
   "source": [
    "Т.к. по описанию данных из проекта сказано, что \"Соседние по времени параметры часто похожи\", мы можем для заполнения пропусков брать соседние. Проделаем данную операцию с данными из файла с изначальными полными данными."
   ]
  },
  {
   "cell_type": "code",
   "execution_count": 15,
   "metadata": {},
   "outputs": [],
   "source": [
    "df_full = df_full.fillna (method = 'ffill')"
   ]
  },
  {
   "cell_type": "markdown",
   "metadata": {},
   "source": [
    "Заполним все пропуски в наших выборках соответствующими значениями из изначального файла сохраняя последовательность неизвестного нам семпла"
   ]
  },
  {
   "cell_type": "code",
   "execution_count": 16,
   "metadata": {},
   "outputs": [],
   "source": [
    "df_train = df_full [df_full.index.isin (df_train.index)][df_train.columns]\n",
    "df_test = df_full [df_full.index.isin (df_test.index)][df_test.columns]"
   ]
  },
  {
   "cell_type": "markdown",
   "metadata": {},
   "source": [
    "Проверим что получилось"
   ]
  },
  {
   "cell_type": "code",
   "execution_count": 17,
   "metadata": {},
   "outputs": [
    {
     "name": "stdout",
     "output_type": "stream",
     "text": [
      "------------- Первые 5 строк ------------\n"
     ]
    },
    {
     "data": {
      "text/html": [
       "<div>\n",
       "<style scoped>\n",
       "    .dataframe tbody tr th:only-of-type {\n",
       "        vertical-align: middle;\n",
       "    }\n",
       "\n",
       "    .dataframe tbody tr th {\n",
       "        vertical-align: top;\n",
       "    }\n",
       "\n",
       "    .dataframe thead th {\n",
       "        text-align: right;\n",
       "    }\n",
       "</style>\n",
       "<table border=\"1\" class=\"dataframe\">\n",
       "  <thead>\n",
       "    <tr style=\"text-align: right;\">\n",
       "      <th></th>\n",
       "      <th>date</th>\n",
       "      <th>final.output.recovery</th>\n",
       "      <th>primary_cleaner.input.sulfate</th>\n",
       "      <th>primary_cleaner.input.depressant</th>\n",
       "      <th>primary_cleaner.input.feed_size</th>\n",
       "      <th>primary_cleaner.input.xanthate</th>\n",
       "      <th>primary_cleaner.state.floatbank8_a_air</th>\n",
       "      <th>primary_cleaner.state.floatbank8_a_level</th>\n",
       "      <th>primary_cleaner.state.floatbank8_b_air</th>\n",
       "      <th>primary_cleaner.state.floatbank8_b_level</th>\n",
       "      <th>...</th>\n",
       "      <th>secondary_cleaner.state.floatbank4_a_air</th>\n",
       "      <th>secondary_cleaner.state.floatbank4_a_level</th>\n",
       "      <th>secondary_cleaner.state.floatbank4_b_air</th>\n",
       "      <th>secondary_cleaner.state.floatbank4_b_level</th>\n",
       "      <th>secondary_cleaner.state.floatbank5_a_air</th>\n",
       "      <th>secondary_cleaner.state.floatbank5_a_level</th>\n",
       "      <th>secondary_cleaner.state.floatbank5_b_air</th>\n",
       "      <th>secondary_cleaner.state.floatbank5_b_level</th>\n",
       "      <th>secondary_cleaner.state.floatbank6_a_air</th>\n",
       "      <th>secondary_cleaner.state.floatbank6_a_level</th>\n",
       "    </tr>\n",
       "  </thead>\n",
       "  <tbody>\n",
       "    <tr>\n",
       "      <th>0</th>\n",
       "      <td>2016-01-15 00:00:00</td>\n",
       "      <td>70.541216</td>\n",
       "      <td>127.092003</td>\n",
       "      <td>10.128295</td>\n",
       "      <td>7.25</td>\n",
       "      <td>0.988759</td>\n",
       "      <td>1549.775757</td>\n",
       "      <td>-498.912140</td>\n",
       "      <td>1551.434204</td>\n",
       "      <td>-516.403442</td>\n",
       "      <td>...</td>\n",
       "      <td>14.016835</td>\n",
       "      <td>-502.488007</td>\n",
       "      <td>12.099931</td>\n",
       "      <td>-504.715942</td>\n",
       "      <td>9.925633</td>\n",
       "      <td>-498.310211</td>\n",
       "      <td>8.079666</td>\n",
       "      <td>-500.470978</td>\n",
       "      <td>14.151341</td>\n",
       "      <td>-605.841980</td>\n",
       "    </tr>\n",
       "    <tr>\n",
       "      <th>1</th>\n",
       "      <td>2016-01-15 01:00:00</td>\n",
       "      <td>69.266198</td>\n",
       "      <td>125.629232</td>\n",
       "      <td>10.296251</td>\n",
       "      <td>7.25</td>\n",
       "      <td>1.002663</td>\n",
       "      <td>1576.166671</td>\n",
       "      <td>-500.904965</td>\n",
       "      <td>1575.950626</td>\n",
       "      <td>-499.865889</td>\n",
       "      <td>...</td>\n",
       "      <td>13.992281</td>\n",
       "      <td>-505.503262</td>\n",
       "      <td>11.950531</td>\n",
       "      <td>-501.331529</td>\n",
       "      <td>10.039245</td>\n",
       "      <td>-500.169983</td>\n",
       "      <td>7.984757</td>\n",
       "      <td>-500.582168</td>\n",
       "      <td>13.998353</td>\n",
       "      <td>-599.787184</td>\n",
       "    </tr>\n",
       "    <tr>\n",
       "      <th>2</th>\n",
       "      <td>2016-01-15 02:00:00</td>\n",
       "      <td>68.116445</td>\n",
       "      <td>123.819808</td>\n",
       "      <td>11.316280</td>\n",
       "      <td>7.25</td>\n",
       "      <td>0.991265</td>\n",
       "      <td>1601.556163</td>\n",
       "      <td>-499.997791</td>\n",
       "      <td>1600.386685</td>\n",
       "      <td>-500.607762</td>\n",
       "      <td>...</td>\n",
       "      <td>14.015015</td>\n",
       "      <td>-502.520901</td>\n",
       "      <td>11.912783</td>\n",
       "      <td>-501.133383</td>\n",
       "      <td>10.070913</td>\n",
       "      <td>-500.129135</td>\n",
       "      <td>8.013877</td>\n",
       "      <td>-500.517572</td>\n",
       "      <td>14.028663</td>\n",
       "      <td>-601.427363</td>\n",
       "    </tr>\n",
       "    <tr>\n",
       "      <th>3</th>\n",
       "      <td>2016-01-15 03:00:00</td>\n",
       "      <td>68.347543</td>\n",
       "      <td>122.270188</td>\n",
       "      <td>11.322140</td>\n",
       "      <td>7.25</td>\n",
       "      <td>0.996739</td>\n",
       "      <td>1599.968720</td>\n",
       "      <td>-500.951778</td>\n",
       "      <td>1600.659236</td>\n",
       "      <td>-499.677094</td>\n",
       "      <td>...</td>\n",
       "      <td>14.036510</td>\n",
       "      <td>-500.857308</td>\n",
       "      <td>11.999550</td>\n",
       "      <td>-501.193686</td>\n",
       "      <td>9.970366</td>\n",
       "      <td>-499.201640</td>\n",
       "      <td>7.977324</td>\n",
       "      <td>-500.255908</td>\n",
       "      <td>14.005551</td>\n",
       "      <td>-599.996129</td>\n",
       "    </tr>\n",
       "    <tr>\n",
       "      <th>4</th>\n",
       "      <td>2016-01-15 04:00:00</td>\n",
       "      <td>66.927016</td>\n",
       "      <td>117.988169</td>\n",
       "      <td>11.913613</td>\n",
       "      <td>7.25</td>\n",
       "      <td>1.009869</td>\n",
       "      <td>1601.339707</td>\n",
       "      <td>-498.975456</td>\n",
       "      <td>1601.437854</td>\n",
       "      <td>-500.323246</td>\n",
       "      <td>...</td>\n",
       "      <td>14.027298</td>\n",
       "      <td>-499.838632</td>\n",
       "      <td>11.953070</td>\n",
       "      <td>-501.053894</td>\n",
       "      <td>9.925709</td>\n",
       "      <td>-501.686727</td>\n",
       "      <td>7.894242</td>\n",
       "      <td>-500.356035</td>\n",
       "      <td>13.996647</td>\n",
       "      <td>-601.496691</td>\n",
       "    </tr>\n",
       "  </tbody>\n",
       "</table>\n",
       "<p>5 rows × 55 columns</p>\n",
       "</div>"
      ],
      "text/plain": [
       "                  date  final.output.recovery  primary_cleaner.input.sulfate  \\\n",
       "0  2016-01-15 00:00:00              70.541216                     127.092003   \n",
       "1  2016-01-15 01:00:00              69.266198                     125.629232   \n",
       "2  2016-01-15 02:00:00              68.116445                     123.819808   \n",
       "3  2016-01-15 03:00:00              68.347543                     122.270188   \n",
       "4  2016-01-15 04:00:00              66.927016                     117.988169   \n",
       "\n",
       "   primary_cleaner.input.depressant  primary_cleaner.input.feed_size  \\\n",
       "0                         10.128295                             7.25   \n",
       "1                         10.296251                             7.25   \n",
       "2                         11.316280                             7.25   \n",
       "3                         11.322140                             7.25   \n",
       "4                         11.913613                             7.25   \n",
       "\n",
       "   primary_cleaner.input.xanthate  primary_cleaner.state.floatbank8_a_air  \\\n",
       "0                        0.988759                             1549.775757   \n",
       "1                        1.002663                             1576.166671   \n",
       "2                        0.991265                             1601.556163   \n",
       "3                        0.996739                             1599.968720   \n",
       "4                        1.009869                             1601.339707   \n",
       "\n",
       "   primary_cleaner.state.floatbank8_a_level  \\\n",
       "0                               -498.912140   \n",
       "1                               -500.904965   \n",
       "2                               -499.997791   \n",
       "3                               -500.951778   \n",
       "4                               -498.975456   \n",
       "\n",
       "   primary_cleaner.state.floatbank8_b_air  \\\n",
       "0                             1551.434204   \n",
       "1                             1575.950626   \n",
       "2                             1600.386685   \n",
       "3                             1600.659236   \n",
       "4                             1601.437854   \n",
       "\n",
       "   primary_cleaner.state.floatbank8_b_level  ...  \\\n",
       "0                               -516.403442  ...   \n",
       "1                               -499.865889  ...   \n",
       "2                               -500.607762  ...   \n",
       "3                               -499.677094  ...   \n",
       "4                               -500.323246  ...   \n",
       "\n",
       "   secondary_cleaner.state.floatbank4_a_air  \\\n",
       "0                                 14.016835   \n",
       "1                                 13.992281   \n",
       "2                                 14.015015   \n",
       "3                                 14.036510   \n",
       "4                                 14.027298   \n",
       "\n",
       "   secondary_cleaner.state.floatbank4_a_level  \\\n",
       "0                                 -502.488007   \n",
       "1                                 -505.503262   \n",
       "2                                 -502.520901   \n",
       "3                                 -500.857308   \n",
       "4                                 -499.838632   \n",
       "\n",
       "   secondary_cleaner.state.floatbank4_b_air  \\\n",
       "0                                 12.099931   \n",
       "1                                 11.950531   \n",
       "2                                 11.912783   \n",
       "3                                 11.999550   \n",
       "4                                 11.953070   \n",
       "\n",
       "   secondary_cleaner.state.floatbank4_b_level  \\\n",
       "0                                 -504.715942   \n",
       "1                                 -501.331529   \n",
       "2                                 -501.133383   \n",
       "3                                 -501.193686   \n",
       "4                                 -501.053894   \n",
       "\n",
       "   secondary_cleaner.state.floatbank5_a_air  \\\n",
       "0                                  9.925633   \n",
       "1                                 10.039245   \n",
       "2                                 10.070913   \n",
       "3                                  9.970366   \n",
       "4                                  9.925709   \n",
       "\n",
       "   secondary_cleaner.state.floatbank5_a_level  \\\n",
       "0                                 -498.310211   \n",
       "1                                 -500.169983   \n",
       "2                                 -500.129135   \n",
       "3                                 -499.201640   \n",
       "4                                 -501.686727   \n",
       "\n",
       "   secondary_cleaner.state.floatbank5_b_air  \\\n",
       "0                                  8.079666   \n",
       "1                                  7.984757   \n",
       "2                                  8.013877   \n",
       "3                                  7.977324   \n",
       "4                                  7.894242   \n",
       "\n",
       "   secondary_cleaner.state.floatbank5_b_level  \\\n",
       "0                                 -500.470978   \n",
       "1                                 -500.582168   \n",
       "2                                 -500.517572   \n",
       "3                                 -500.255908   \n",
       "4                                 -500.356035   \n",
       "\n",
       "   secondary_cleaner.state.floatbank6_a_air  \\\n",
       "0                                 14.151341   \n",
       "1                                 13.998353   \n",
       "2                                 14.028663   \n",
       "3                                 14.005551   \n",
       "4                                 13.996647   \n",
       "\n",
       "   secondary_cleaner.state.floatbank6_a_level  \n",
       "0                                 -605.841980  \n",
       "1                                 -599.787184  \n",
       "2                                 -601.427363  \n",
       "3                                 -599.996129  \n",
       "4                                 -601.496691  \n",
       "\n",
       "[5 rows x 55 columns]"
      ]
     },
     "metadata": {},
     "output_type": "display_data"
    },
    {
     "name": "stdout",
     "output_type": "stream",
     "text": [
      "\n",
      "\n",
      "------------- Типы данных ------------\n",
      "<class 'pandas.core.frame.DataFrame'>\n",
      "Int64Index: 14149 entries, 0 to 14148\n",
      "Data columns (total 55 columns):\n",
      " #   Column                                      Non-Null Count  Dtype  \n",
      "---  ------                                      --------------  -----  \n",
      " 0   date                                        14149 non-null  object \n",
      " 1   final.output.recovery                       14149 non-null  float64\n",
      " 2   primary_cleaner.input.sulfate               14149 non-null  float64\n",
      " 3   primary_cleaner.input.depressant            14149 non-null  float64\n",
      " 4   primary_cleaner.input.feed_size             14149 non-null  float64\n",
      " 5   primary_cleaner.input.xanthate              14149 non-null  float64\n",
      " 6   primary_cleaner.state.floatbank8_a_air      14149 non-null  float64\n",
      " 7   primary_cleaner.state.floatbank8_a_level    14149 non-null  float64\n",
      " 8   primary_cleaner.state.floatbank8_b_air      14149 non-null  float64\n",
      " 9   primary_cleaner.state.floatbank8_b_level    14149 non-null  float64\n",
      " 10  primary_cleaner.state.floatbank8_c_air      14149 non-null  float64\n",
      " 11  primary_cleaner.state.floatbank8_c_level    14149 non-null  float64\n",
      " 12  primary_cleaner.state.floatbank8_d_air      14149 non-null  float64\n",
      " 13  primary_cleaner.state.floatbank8_d_level    14149 non-null  float64\n",
      " 14  rougher.input.feed_ag                       14149 non-null  float64\n",
      " 15  rougher.input.feed_pb                       14149 non-null  float64\n",
      " 16  rougher.input.feed_rate                     14149 non-null  float64\n",
      " 17  rougher.input.feed_size                     14149 non-null  float64\n",
      " 18  rougher.input.feed_sol                      14149 non-null  float64\n",
      " 19  rougher.input.feed_au                       14149 non-null  float64\n",
      " 20  rougher.input.floatbank10_sulfate           14149 non-null  float64\n",
      " 21  rougher.input.floatbank10_xanthate          14149 non-null  float64\n",
      " 22  rougher.input.floatbank11_sulfate           14149 non-null  float64\n",
      " 23  rougher.input.floatbank11_xanthate          14149 non-null  float64\n",
      " 24  rougher.output.recovery                     14149 non-null  float64\n",
      " 25  rougher.state.floatbank10_a_air             14149 non-null  float64\n",
      " 26  rougher.state.floatbank10_a_level           14149 non-null  float64\n",
      " 27  rougher.state.floatbank10_b_air             14149 non-null  float64\n",
      " 28  rougher.state.floatbank10_b_level           14149 non-null  float64\n",
      " 29  rougher.state.floatbank10_c_air             14149 non-null  float64\n",
      " 30  rougher.state.floatbank10_c_level           14149 non-null  float64\n",
      " 31  rougher.state.floatbank10_d_air             14149 non-null  float64\n",
      " 32  rougher.state.floatbank10_d_level           14149 non-null  float64\n",
      " 33  rougher.state.floatbank10_e_air             14149 non-null  float64\n",
      " 34  rougher.state.floatbank10_e_level           14149 non-null  float64\n",
      " 35  rougher.state.floatbank10_f_air             14149 non-null  float64\n",
      " 36  rougher.state.floatbank10_f_level           14149 non-null  float64\n",
      " 37  secondary_cleaner.state.floatbank2_a_air    14149 non-null  float64\n",
      " 38  secondary_cleaner.state.floatbank2_a_level  14149 non-null  float64\n",
      " 39  secondary_cleaner.state.floatbank2_b_air    14149 non-null  float64\n",
      " 40  secondary_cleaner.state.floatbank2_b_level  14149 non-null  float64\n",
      " 41  secondary_cleaner.state.floatbank3_a_air    14149 non-null  float64\n",
      " 42  secondary_cleaner.state.floatbank3_a_level  14149 non-null  float64\n",
      " 43  secondary_cleaner.state.floatbank3_b_air    14149 non-null  float64\n",
      " 44  secondary_cleaner.state.floatbank3_b_level  14149 non-null  float64\n",
      " 45  secondary_cleaner.state.floatbank4_a_air    14149 non-null  float64\n",
      " 46  secondary_cleaner.state.floatbank4_a_level  14149 non-null  float64\n",
      " 47  secondary_cleaner.state.floatbank4_b_air    14149 non-null  float64\n",
      " 48  secondary_cleaner.state.floatbank4_b_level  14149 non-null  float64\n",
      " 49  secondary_cleaner.state.floatbank5_a_air    14149 non-null  float64\n",
      " 50  secondary_cleaner.state.floatbank5_a_level  14149 non-null  float64\n",
      " 51  secondary_cleaner.state.floatbank5_b_air    14149 non-null  float64\n",
      " 52  secondary_cleaner.state.floatbank5_b_level  14149 non-null  float64\n",
      " 53  secondary_cleaner.state.floatbank6_a_air    14149 non-null  float64\n",
      " 54  secondary_cleaner.state.floatbank6_a_level  14149 non-null  float64\n",
      "dtypes: float64(54), object(1)\n",
      "memory usage: 6.0+ MB\n",
      "None\n",
      "\n",
      "\n",
      "------------- Пропуски ------------\n",
      "Пропусков НЕТ\n",
      "\n",
      "\n",
      "------------- Дубликаты ------------\n",
      "Дубликатов НЕТ\n",
      "------------- Категориальные признаки ------------\n",
      "------------- Первые 5 строк ------------\n"
     ]
    },
    {
     "data": {
      "text/html": [
       "<div>\n",
       "<style scoped>\n",
       "    .dataframe tbody tr th:only-of-type {\n",
       "        vertical-align: middle;\n",
       "    }\n",
       "\n",
       "    .dataframe tbody tr th {\n",
       "        vertical-align: top;\n",
       "    }\n",
       "\n",
       "    .dataframe thead th {\n",
       "        text-align: right;\n",
       "    }\n",
       "</style>\n",
       "<table border=\"1\" class=\"dataframe\">\n",
       "  <thead>\n",
       "    <tr style=\"text-align: right;\">\n",
       "      <th></th>\n",
       "      <th>date</th>\n",
       "      <th>primary_cleaner.input.sulfate</th>\n",
       "      <th>primary_cleaner.input.depressant</th>\n",
       "      <th>primary_cleaner.input.feed_size</th>\n",
       "      <th>primary_cleaner.input.xanthate</th>\n",
       "      <th>primary_cleaner.state.floatbank8_a_air</th>\n",
       "      <th>primary_cleaner.state.floatbank8_a_level</th>\n",
       "      <th>primary_cleaner.state.floatbank8_b_air</th>\n",
       "      <th>primary_cleaner.state.floatbank8_b_level</th>\n",
       "      <th>primary_cleaner.state.floatbank8_c_air</th>\n",
       "      <th>...</th>\n",
       "      <th>secondary_cleaner.state.floatbank4_a_air</th>\n",
       "      <th>secondary_cleaner.state.floatbank4_a_level</th>\n",
       "      <th>secondary_cleaner.state.floatbank4_b_air</th>\n",
       "      <th>secondary_cleaner.state.floatbank4_b_level</th>\n",
       "      <th>secondary_cleaner.state.floatbank5_a_air</th>\n",
       "      <th>secondary_cleaner.state.floatbank5_a_level</th>\n",
       "      <th>secondary_cleaner.state.floatbank5_b_air</th>\n",
       "      <th>secondary_cleaner.state.floatbank5_b_level</th>\n",
       "      <th>secondary_cleaner.state.floatbank6_a_air</th>\n",
       "      <th>secondary_cleaner.state.floatbank6_a_level</th>\n",
       "    </tr>\n",
       "  </thead>\n",
       "  <tbody>\n",
       "    <tr>\n",
       "      <th>0</th>\n",
       "      <td>2016-01-15 00:00:00</td>\n",
       "      <td>127.092003</td>\n",
       "      <td>10.128295</td>\n",
       "      <td>7.25</td>\n",
       "      <td>0.988759</td>\n",
       "      <td>1549.775757</td>\n",
       "      <td>-498.912140</td>\n",
       "      <td>1551.434204</td>\n",
       "      <td>-516.403442</td>\n",
       "      <td>1549.873901</td>\n",
       "      <td>...</td>\n",
       "      <td>14.016835</td>\n",
       "      <td>-502.488007</td>\n",
       "      <td>12.099931</td>\n",
       "      <td>-504.715942</td>\n",
       "      <td>9.925633</td>\n",
       "      <td>-498.310211</td>\n",
       "      <td>8.079666</td>\n",
       "      <td>-500.470978</td>\n",
       "      <td>14.151341</td>\n",
       "      <td>-605.841980</td>\n",
       "    </tr>\n",
       "    <tr>\n",
       "      <th>1</th>\n",
       "      <td>2016-01-15 01:00:00</td>\n",
       "      <td>125.629232</td>\n",
       "      <td>10.296251</td>\n",
       "      <td>7.25</td>\n",
       "      <td>1.002663</td>\n",
       "      <td>1576.166671</td>\n",
       "      <td>-500.904965</td>\n",
       "      <td>1575.950626</td>\n",
       "      <td>-499.865889</td>\n",
       "      <td>1575.994189</td>\n",
       "      <td>...</td>\n",
       "      <td>13.992281</td>\n",
       "      <td>-505.503262</td>\n",
       "      <td>11.950531</td>\n",
       "      <td>-501.331529</td>\n",
       "      <td>10.039245</td>\n",
       "      <td>-500.169983</td>\n",
       "      <td>7.984757</td>\n",
       "      <td>-500.582168</td>\n",
       "      <td>13.998353</td>\n",
       "      <td>-599.787184</td>\n",
       "    </tr>\n",
       "    <tr>\n",
       "      <th>2</th>\n",
       "      <td>2016-01-15 02:00:00</td>\n",
       "      <td>123.819808</td>\n",
       "      <td>11.316280</td>\n",
       "      <td>7.25</td>\n",
       "      <td>0.991265</td>\n",
       "      <td>1601.556163</td>\n",
       "      <td>-499.997791</td>\n",
       "      <td>1600.386685</td>\n",
       "      <td>-500.607762</td>\n",
       "      <td>1602.003542</td>\n",
       "      <td>...</td>\n",
       "      <td>14.015015</td>\n",
       "      <td>-502.520901</td>\n",
       "      <td>11.912783</td>\n",
       "      <td>-501.133383</td>\n",
       "      <td>10.070913</td>\n",
       "      <td>-500.129135</td>\n",
       "      <td>8.013877</td>\n",
       "      <td>-500.517572</td>\n",
       "      <td>14.028663</td>\n",
       "      <td>-601.427363</td>\n",
       "    </tr>\n",
       "    <tr>\n",
       "      <th>3</th>\n",
       "      <td>2016-01-15 03:00:00</td>\n",
       "      <td>122.270188</td>\n",
       "      <td>11.322140</td>\n",
       "      <td>7.25</td>\n",
       "      <td>0.996739</td>\n",
       "      <td>1599.968720</td>\n",
       "      <td>-500.951778</td>\n",
       "      <td>1600.659236</td>\n",
       "      <td>-499.677094</td>\n",
       "      <td>1600.304144</td>\n",
       "      <td>...</td>\n",
       "      <td>14.036510</td>\n",
       "      <td>-500.857308</td>\n",
       "      <td>11.999550</td>\n",
       "      <td>-501.193686</td>\n",
       "      <td>9.970366</td>\n",
       "      <td>-499.201640</td>\n",
       "      <td>7.977324</td>\n",
       "      <td>-500.255908</td>\n",
       "      <td>14.005551</td>\n",
       "      <td>-599.996129</td>\n",
       "    </tr>\n",
       "    <tr>\n",
       "      <th>4</th>\n",
       "      <td>2016-01-15 04:00:00</td>\n",
       "      <td>117.988169</td>\n",
       "      <td>11.913613</td>\n",
       "      <td>7.25</td>\n",
       "      <td>1.009869</td>\n",
       "      <td>1601.339707</td>\n",
       "      <td>-498.975456</td>\n",
       "      <td>1601.437854</td>\n",
       "      <td>-500.323246</td>\n",
       "      <td>1599.581894</td>\n",
       "      <td>...</td>\n",
       "      <td>14.027298</td>\n",
       "      <td>-499.838632</td>\n",
       "      <td>11.953070</td>\n",
       "      <td>-501.053894</td>\n",
       "      <td>9.925709</td>\n",
       "      <td>-501.686727</td>\n",
       "      <td>7.894242</td>\n",
       "      <td>-500.356035</td>\n",
       "      <td>13.996647</td>\n",
       "      <td>-601.496691</td>\n",
       "    </tr>\n",
       "  </tbody>\n",
       "</table>\n",
       "<p>5 rows × 53 columns</p>\n",
       "</div>"
      ],
      "text/plain": [
       "                  date  primary_cleaner.input.sulfate  \\\n",
       "0  2016-01-15 00:00:00                     127.092003   \n",
       "1  2016-01-15 01:00:00                     125.629232   \n",
       "2  2016-01-15 02:00:00                     123.819808   \n",
       "3  2016-01-15 03:00:00                     122.270188   \n",
       "4  2016-01-15 04:00:00                     117.988169   \n",
       "\n",
       "   primary_cleaner.input.depressant  primary_cleaner.input.feed_size  \\\n",
       "0                         10.128295                             7.25   \n",
       "1                         10.296251                             7.25   \n",
       "2                         11.316280                             7.25   \n",
       "3                         11.322140                             7.25   \n",
       "4                         11.913613                             7.25   \n",
       "\n",
       "   primary_cleaner.input.xanthate  primary_cleaner.state.floatbank8_a_air  \\\n",
       "0                        0.988759                             1549.775757   \n",
       "1                        1.002663                             1576.166671   \n",
       "2                        0.991265                             1601.556163   \n",
       "3                        0.996739                             1599.968720   \n",
       "4                        1.009869                             1601.339707   \n",
       "\n",
       "   primary_cleaner.state.floatbank8_a_level  \\\n",
       "0                               -498.912140   \n",
       "1                               -500.904965   \n",
       "2                               -499.997791   \n",
       "3                               -500.951778   \n",
       "4                               -498.975456   \n",
       "\n",
       "   primary_cleaner.state.floatbank8_b_air  \\\n",
       "0                             1551.434204   \n",
       "1                             1575.950626   \n",
       "2                             1600.386685   \n",
       "3                             1600.659236   \n",
       "4                             1601.437854   \n",
       "\n",
       "   primary_cleaner.state.floatbank8_b_level  \\\n",
       "0                               -516.403442   \n",
       "1                               -499.865889   \n",
       "2                               -500.607762   \n",
       "3                               -499.677094   \n",
       "4                               -500.323246   \n",
       "\n",
       "   primary_cleaner.state.floatbank8_c_air  ...  \\\n",
       "0                             1549.873901  ...   \n",
       "1                             1575.994189  ...   \n",
       "2                             1602.003542  ...   \n",
       "3                             1600.304144  ...   \n",
       "4                             1599.581894  ...   \n",
       "\n",
       "   secondary_cleaner.state.floatbank4_a_air  \\\n",
       "0                                 14.016835   \n",
       "1                                 13.992281   \n",
       "2                                 14.015015   \n",
       "3                                 14.036510   \n",
       "4                                 14.027298   \n",
       "\n",
       "   secondary_cleaner.state.floatbank4_a_level  \\\n",
       "0                                 -502.488007   \n",
       "1                                 -505.503262   \n",
       "2                                 -502.520901   \n",
       "3                                 -500.857308   \n",
       "4                                 -499.838632   \n",
       "\n",
       "   secondary_cleaner.state.floatbank4_b_air  \\\n",
       "0                                 12.099931   \n",
       "1                                 11.950531   \n",
       "2                                 11.912783   \n",
       "3                                 11.999550   \n",
       "4                                 11.953070   \n",
       "\n",
       "   secondary_cleaner.state.floatbank4_b_level  \\\n",
       "0                                 -504.715942   \n",
       "1                                 -501.331529   \n",
       "2                                 -501.133383   \n",
       "3                                 -501.193686   \n",
       "4                                 -501.053894   \n",
       "\n",
       "   secondary_cleaner.state.floatbank5_a_air  \\\n",
       "0                                  9.925633   \n",
       "1                                 10.039245   \n",
       "2                                 10.070913   \n",
       "3                                  9.970366   \n",
       "4                                  9.925709   \n",
       "\n",
       "   secondary_cleaner.state.floatbank5_a_level  \\\n",
       "0                                 -498.310211   \n",
       "1                                 -500.169983   \n",
       "2                                 -500.129135   \n",
       "3                                 -499.201640   \n",
       "4                                 -501.686727   \n",
       "\n",
       "   secondary_cleaner.state.floatbank5_b_air  \\\n",
       "0                                  8.079666   \n",
       "1                                  7.984757   \n",
       "2                                  8.013877   \n",
       "3                                  7.977324   \n",
       "4                                  7.894242   \n",
       "\n",
       "   secondary_cleaner.state.floatbank5_b_level  \\\n",
       "0                                 -500.470978   \n",
       "1                                 -500.582168   \n",
       "2                                 -500.517572   \n",
       "3                                 -500.255908   \n",
       "4                                 -500.356035   \n",
       "\n",
       "   secondary_cleaner.state.floatbank6_a_air  \\\n",
       "0                                 14.151341   \n",
       "1                                 13.998353   \n",
       "2                                 14.028663   \n",
       "3                                 14.005551   \n",
       "4                                 13.996647   \n",
       "\n",
       "   secondary_cleaner.state.floatbank6_a_level  \n",
       "0                                 -605.841980  \n",
       "1                                 -599.787184  \n",
       "2                                 -601.427363  \n",
       "3                                 -599.996129  \n",
       "4                                 -601.496691  \n",
       "\n",
       "[5 rows x 53 columns]"
      ]
     },
     "metadata": {},
     "output_type": "display_data"
    },
    {
     "name": "stdout",
     "output_type": "stream",
     "text": [
      "\n",
      "\n",
      "------------- Типы данных ------------\n",
      "<class 'pandas.core.frame.DataFrame'>\n",
      "Int64Index: 5290 entries, 0 to 5289\n",
      "Data columns (total 53 columns):\n",
      " #   Column                                      Non-Null Count  Dtype  \n",
      "---  ------                                      --------------  -----  \n",
      " 0   date                                        5290 non-null   object \n",
      " 1   primary_cleaner.input.sulfate               5290 non-null   float64\n",
      " 2   primary_cleaner.input.depressant            5290 non-null   float64\n",
      " 3   primary_cleaner.input.feed_size             5290 non-null   float64\n",
      " 4   primary_cleaner.input.xanthate              5290 non-null   float64\n",
      " 5   primary_cleaner.state.floatbank8_a_air      5290 non-null   float64\n",
      " 6   primary_cleaner.state.floatbank8_a_level    5290 non-null   float64\n",
      " 7   primary_cleaner.state.floatbank8_b_air      5290 non-null   float64\n",
      " 8   primary_cleaner.state.floatbank8_b_level    5290 non-null   float64\n",
      " 9   primary_cleaner.state.floatbank8_c_air      5290 non-null   float64\n",
      " 10  primary_cleaner.state.floatbank8_c_level    5290 non-null   float64\n",
      " 11  primary_cleaner.state.floatbank8_d_air      5290 non-null   float64\n",
      " 12  primary_cleaner.state.floatbank8_d_level    5290 non-null   float64\n",
      " 13  rougher.input.feed_ag                       5290 non-null   float64\n",
      " 14  rougher.input.feed_pb                       5290 non-null   float64\n",
      " 15  rougher.input.feed_rate                     5290 non-null   float64\n",
      " 16  rougher.input.feed_size                     5290 non-null   float64\n",
      " 17  rougher.input.feed_sol                      5290 non-null   float64\n",
      " 18  rougher.input.feed_au                       5290 non-null   float64\n",
      " 19  rougher.input.floatbank10_sulfate           5290 non-null   float64\n",
      " 20  rougher.input.floatbank10_xanthate          5290 non-null   float64\n",
      " 21  rougher.input.floatbank11_sulfate           5290 non-null   float64\n",
      " 22  rougher.input.floatbank11_xanthate          5290 non-null   float64\n",
      " 23  rougher.state.floatbank10_a_air             5290 non-null   float64\n",
      " 24  rougher.state.floatbank10_a_level           5290 non-null   float64\n",
      " 25  rougher.state.floatbank10_b_air             5290 non-null   float64\n",
      " 26  rougher.state.floatbank10_b_level           5290 non-null   float64\n",
      " 27  rougher.state.floatbank10_c_air             5290 non-null   float64\n",
      " 28  rougher.state.floatbank10_c_level           5290 non-null   float64\n",
      " 29  rougher.state.floatbank10_d_air             5290 non-null   float64\n",
      " 30  rougher.state.floatbank10_d_level           5290 non-null   float64\n",
      " 31  rougher.state.floatbank10_e_air             5290 non-null   float64\n",
      " 32  rougher.state.floatbank10_e_level           5290 non-null   float64\n",
      " 33  rougher.state.floatbank10_f_air             5290 non-null   float64\n",
      " 34  rougher.state.floatbank10_f_level           5290 non-null   float64\n",
      " 35  secondary_cleaner.state.floatbank2_a_air    5290 non-null   float64\n",
      " 36  secondary_cleaner.state.floatbank2_a_level  5290 non-null   float64\n",
      " 37  secondary_cleaner.state.floatbank2_b_air    5290 non-null   float64\n",
      " 38  secondary_cleaner.state.floatbank2_b_level  5290 non-null   float64\n",
      " 39  secondary_cleaner.state.floatbank3_a_air    5290 non-null   float64\n",
      " 40  secondary_cleaner.state.floatbank3_a_level  5290 non-null   float64\n",
      " 41  secondary_cleaner.state.floatbank3_b_air    5290 non-null   float64\n",
      " 42  secondary_cleaner.state.floatbank3_b_level  5290 non-null   float64\n",
      " 43  secondary_cleaner.state.floatbank4_a_air    5290 non-null   float64\n",
      " 44  secondary_cleaner.state.floatbank4_a_level  5290 non-null   float64\n",
      " 45  secondary_cleaner.state.floatbank4_b_air    5290 non-null   float64\n",
      " 46  secondary_cleaner.state.floatbank4_b_level  5290 non-null   float64\n",
      " 47  secondary_cleaner.state.floatbank5_a_air    5290 non-null   float64\n",
      " 48  secondary_cleaner.state.floatbank5_a_level  5290 non-null   float64\n",
      " 49  secondary_cleaner.state.floatbank5_b_air    5290 non-null   float64\n",
      " 50  secondary_cleaner.state.floatbank5_b_level  5290 non-null   float64\n",
      " 51  secondary_cleaner.state.floatbank6_a_air    5290 non-null   float64\n",
      " 52  secondary_cleaner.state.floatbank6_a_level  5290 non-null   float64\n",
      "dtypes: float64(52), object(1)\n",
      "memory usage: 2.2+ MB\n",
      "None\n",
      "\n",
      "\n",
      "------------- Пропуски ------------\n",
      "Пропусков НЕТ\n",
      "\n",
      "\n",
      "------------- Дубликаты ------------\n",
      "Дубликатов НЕТ\n",
      "------------- Категориальные признаки ------------\n"
     ]
    }
   ],
   "source": [
    "first_look (df_train)\n",
    "first_look (df_test)"
   ]
  },
  {
   "cell_type": "markdown",
   "metadata": {},
   "source": [
    "Избавимся от нулевых значений в данных, указывающих на наличия концентрации металла после этапа флотации, в промежуточных этапах и в конечном продукте"
   ]
  },
  {
   "cell_type": "code",
   "execution_count": 18,
   "metadata": {},
   "outputs": [],
   "source": [
    "df_full = df_full [(df_full ['final.output.concentrate_ag'] != 0) & \\\n",
    "                   (df_full ['final.output.concentrate_pb'] != 0) & \\\n",
    "                   (df_full ['final.output.concentrate_sol'] != 0) & \\\n",
    "                   (df_full ['final.output.concentrate_au'] != 0) & \\\n",
    "                   (df_full ['secondary_cleaner.output.tail_ag'] != 0) & \\\n",
    "                   (df_full ['secondary_cleaner.output.tail_pb'] != 0) & \\\n",
    "                   (df_full ['secondary_cleaner.output.tail_sol'] != 0) & \\\n",
    "                   (df_full ['secondary_cleaner.output.tail_au'] != 0) & \\\n",
    "                   (df_full ['primary_cleaner.output.concentrate_ag'] != 0) & \\\n",
    "                   (df_full ['primary_cleaner.output.concentrate_pb'] != 0) & \\\n",
    "                   (df_full ['primary_cleaner.output.concentrate_sol'] != 0) & \\\n",
    "                   (df_full ['primary_cleaner.output.concentrate_au'] != 0) & \\\n",
    "                   (df_full ['rougher.output.concentrate_ag'] != 0) & \\\n",
    "                   (df_full ['rougher.output.concentrate_pb'] != 0) & \\\n",
    "                   (df_full ['rougher.output.concentrate_sol'] != 0) & \\\n",
    "                   (df_full ['rougher.output.concentrate_au'] != 0) & \\\n",
    "                   (df_full ['rougher.input.feed_ag'] != 0) & \\\n",
    "                   (df_full ['rougher.input.feed_pb'] != 0) & \\\n",
    "                   (df_full ['rougher.input.feed_sol'] != 0) & \\\n",
    "                   (df_full ['rougher.input.feed_au'] != 0)\n",
    "                  ]"
   ]
  },
  {
   "cell_type": "code",
   "execution_count": 19,
   "metadata": {},
   "outputs": [
    {
     "name": "stdout",
     "output_type": "stream",
     "text": [
      "------------- Первые 5 строк ------------\n"
     ]
    },
    {
     "data": {
      "text/html": [
       "<div>\n",
       "<style scoped>\n",
       "    .dataframe tbody tr th:only-of-type {\n",
       "        vertical-align: middle;\n",
       "    }\n",
       "\n",
       "    .dataframe tbody tr th {\n",
       "        vertical-align: top;\n",
       "    }\n",
       "\n",
       "    .dataframe thead th {\n",
       "        text-align: right;\n",
       "    }\n",
       "</style>\n",
       "<table border=\"1\" class=\"dataframe\">\n",
       "  <thead>\n",
       "    <tr style=\"text-align: right;\">\n",
       "      <th></th>\n",
       "      <th>date</th>\n",
       "      <th>final.output.concentrate_ag</th>\n",
       "      <th>final.output.concentrate_pb</th>\n",
       "      <th>final.output.concentrate_sol</th>\n",
       "      <th>final.output.concentrate_au</th>\n",
       "      <th>final.output.recovery</th>\n",
       "      <th>final.output.tail_ag</th>\n",
       "      <th>final.output.tail_pb</th>\n",
       "      <th>final.output.tail_sol</th>\n",
       "      <th>final.output.tail_au</th>\n",
       "      <th>...</th>\n",
       "      <th>secondary_cleaner.state.floatbank4_a_air</th>\n",
       "      <th>secondary_cleaner.state.floatbank4_a_level</th>\n",
       "      <th>secondary_cleaner.state.floatbank4_b_air</th>\n",
       "      <th>secondary_cleaner.state.floatbank4_b_level</th>\n",
       "      <th>secondary_cleaner.state.floatbank5_a_air</th>\n",
       "      <th>secondary_cleaner.state.floatbank5_a_level</th>\n",
       "      <th>secondary_cleaner.state.floatbank5_b_air</th>\n",
       "      <th>secondary_cleaner.state.floatbank5_b_level</th>\n",
       "      <th>secondary_cleaner.state.floatbank6_a_air</th>\n",
       "      <th>secondary_cleaner.state.floatbank6_a_level</th>\n",
       "    </tr>\n",
       "  </thead>\n",
       "  <tbody>\n",
       "    <tr>\n",
       "      <th>0</th>\n",
       "      <td>2016-01-15 00:00:00</td>\n",
       "      <td>6.055403</td>\n",
       "      <td>9.889648</td>\n",
       "      <td>5.507324</td>\n",
       "      <td>42.192020</td>\n",
       "      <td>70.541216</td>\n",
       "      <td>10.411962</td>\n",
       "      <td>0.895447</td>\n",
       "      <td>16.904297</td>\n",
       "      <td>2.143149</td>\n",
       "      <td>...</td>\n",
       "      <td>14.016835</td>\n",
       "      <td>-502.488007</td>\n",
       "      <td>12.099931</td>\n",
       "      <td>-504.715942</td>\n",
       "      <td>9.925633</td>\n",
       "      <td>-498.310211</td>\n",
       "      <td>8.079666</td>\n",
       "      <td>-500.470978</td>\n",
       "      <td>14.151341</td>\n",
       "      <td>-605.841980</td>\n",
       "    </tr>\n",
       "    <tr>\n",
       "      <th>1</th>\n",
       "      <td>2016-01-15 01:00:00</td>\n",
       "      <td>6.029369</td>\n",
       "      <td>9.968944</td>\n",
       "      <td>5.257781</td>\n",
       "      <td>42.701629</td>\n",
       "      <td>69.266198</td>\n",
       "      <td>10.462676</td>\n",
       "      <td>0.927452</td>\n",
       "      <td>16.634514</td>\n",
       "      <td>2.224930</td>\n",
       "      <td>...</td>\n",
       "      <td>13.992281</td>\n",
       "      <td>-505.503262</td>\n",
       "      <td>11.950531</td>\n",
       "      <td>-501.331529</td>\n",
       "      <td>10.039245</td>\n",
       "      <td>-500.169983</td>\n",
       "      <td>7.984757</td>\n",
       "      <td>-500.582168</td>\n",
       "      <td>13.998353</td>\n",
       "      <td>-599.787184</td>\n",
       "    </tr>\n",
       "    <tr>\n",
       "      <th>2</th>\n",
       "      <td>2016-01-15 02:00:00</td>\n",
       "      <td>6.055926</td>\n",
       "      <td>10.213995</td>\n",
       "      <td>5.383759</td>\n",
       "      <td>42.657501</td>\n",
       "      <td>68.116445</td>\n",
       "      <td>10.507046</td>\n",
       "      <td>0.953716</td>\n",
       "      <td>16.208849</td>\n",
       "      <td>2.257889</td>\n",
       "      <td>...</td>\n",
       "      <td>14.015015</td>\n",
       "      <td>-502.520901</td>\n",
       "      <td>11.912783</td>\n",
       "      <td>-501.133383</td>\n",
       "      <td>10.070913</td>\n",
       "      <td>-500.129135</td>\n",
       "      <td>8.013877</td>\n",
       "      <td>-500.517572</td>\n",
       "      <td>14.028663</td>\n",
       "      <td>-601.427363</td>\n",
       "    </tr>\n",
       "    <tr>\n",
       "      <th>3</th>\n",
       "      <td>2016-01-15 03:00:00</td>\n",
       "      <td>6.047977</td>\n",
       "      <td>9.977019</td>\n",
       "      <td>4.858634</td>\n",
       "      <td>42.689819</td>\n",
       "      <td>68.347543</td>\n",
       "      <td>10.422762</td>\n",
       "      <td>0.883763</td>\n",
       "      <td>16.532835</td>\n",
       "      <td>2.146849</td>\n",
       "      <td>...</td>\n",
       "      <td>14.036510</td>\n",
       "      <td>-500.857308</td>\n",
       "      <td>11.999550</td>\n",
       "      <td>-501.193686</td>\n",
       "      <td>9.970366</td>\n",
       "      <td>-499.201640</td>\n",
       "      <td>7.977324</td>\n",
       "      <td>-500.255908</td>\n",
       "      <td>14.005551</td>\n",
       "      <td>-599.996129</td>\n",
       "    </tr>\n",
       "    <tr>\n",
       "      <th>4</th>\n",
       "      <td>2016-01-15 04:00:00</td>\n",
       "      <td>6.148599</td>\n",
       "      <td>10.142511</td>\n",
       "      <td>4.939416</td>\n",
       "      <td>42.774141</td>\n",
       "      <td>66.927016</td>\n",
       "      <td>10.360302</td>\n",
       "      <td>0.792826</td>\n",
       "      <td>16.525686</td>\n",
       "      <td>2.055292</td>\n",
       "      <td>...</td>\n",
       "      <td>14.027298</td>\n",
       "      <td>-499.838632</td>\n",
       "      <td>11.953070</td>\n",
       "      <td>-501.053894</td>\n",
       "      <td>9.925709</td>\n",
       "      <td>-501.686727</td>\n",
       "      <td>7.894242</td>\n",
       "      <td>-500.356035</td>\n",
       "      <td>13.996647</td>\n",
       "      <td>-601.496691</td>\n",
       "    </tr>\n",
       "  </tbody>\n",
       "</table>\n",
       "<p>5 rows × 87 columns</p>\n",
       "</div>"
      ],
      "text/plain": [
       "                  date  final.output.concentrate_ag  \\\n",
       "0  2016-01-15 00:00:00                     6.055403   \n",
       "1  2016-01-15 01:00:00                     6.029369   \n",
       "2  2016-01-15 02:00:00                     6.055926   \n",
       "3  2016-01-15 03:00:00                     6.047977   \n",
       "4  2016-01-15 04:00:00                     6.148599   \n",
       "\n",
       "   final.output.concentrate_pb  final.output.concentrate_sol  \\\n",
       "0                     9.889648                      5.507324   \n",
       "1                     9.968944                      5.257781   \n",
       "2                    10.213995                      5.383759   \n",
       "3                     9.977019                      4.858634   \n",
       "4                    10.142511                      4.939416   \n",
       "\n",
       "   final.output.concentrate_au  final.output.recovery  final.output.tail_ag  \\\n",
       "0                    42.192020              70.541216             10.411962   \n",
       "1                    42.701629              69.266198             10.462676   \n",
       "2                    42.657501              68.116445             10.507046   \n",
       "3                    42.689819              68.347543             10.422762   \n",
       "4                    42.774141              66.927016             10.360302   \n",
       "\n",
       "   final.output.tail_pb  final.output.tail_sol  final.output.tail_au  ...  \\\n",
       "0              0.895447              16.904297              2.143149  ...   \n",
       "1              0.927452              16.634514              2.224930  ...   \n",
       "2              0.953716              16.208849              2.257889  ...   \n",
       "3              0.883763              16.532835              2.146849  ...   \n",
       "4              0.792826              16.525686              2.055292  ...   \n",
       "\n",
       "   secondary_cleaner.state.floatbank4_a_air  \\\n",
       "0                                 14.016835   \n",
       "1                                 13.992281   \n",
       "2                                 14.015015   \n",
       "3                                 14.036510   \n",
       "4                                 14.027298   \n",
       "\n",
       "   secondary_cleaner.state.floatbank4_a_level  \\\n",
       "0                                 -502.488007   \n",
       "1                                 -505.503262   \n",
       "2                                 -502.520901   \n",
       "3                                 -500.857308   \n",
       "4                                 -499.838632   \n",
       "\n",
       "   secondary_cleaner.state.floatbank4_b_air  \\\n",
       "0                                 12.099931   \n",
       "1                                 11.950531   \n",
       "2                                 11.912783   \n",
       "3                                 11.999550   \n",
       "4                                 11.953070   \n",
       "\n",
       "   secondary_cleaner.state.floatbank4_b_level  \\\n",
       "0                                 -504.715942   \n",
       "1                                 -501.331529   \n",
       "2                                 -501.133383   \n",
       "3                                 -501.193686   \n",
       "4                                 -501.053894   \n",
       "\n",
       "   secondary_cleaner.state.floatbank5_a_air  \\\n",
       "0                                  9.925633   \n",
       "1                                 10.039245   \n",
       "2                                 10.070913   \n",
       "3                                  9.970366   \n",
       "4                                  9.925709   \n",
       "\n",
       "   secondary_cleaner.state.floatbank5_a_level  \\\n",
       "0                                 -498.310211   \n",
       "1                                 -500.169983   \n",
       "2                                 -500.129135   \n",
       "3                                 -499.201640   \n",
       "4                                 -501.686727   \n",
       "\n",
       "   secondary_cleaner.state.floatbank5_b_air  \\\n",
       "0                                  8.079666   \n",
       "1                                  7.984757   \n",
       "2                                  8.013877   \n",
       "3                                  7.977324   \n",
       "4                                  7.894242   \n",
       "\n",
       "   secondary_cleaner.state.floatbank5_b_level  \\\n",
       "0                                 -500.470978   \n",
       "1                                 -500.582168   \n",
       "2                                 -500.517572   \n",
       "3                                 -500.255908   \n",
       "4                                 -500.356035   \n",
       "\n",
       "   secondary_cleaner.state.floatbank6_a_air  \\\n",
       "0                                 14.151341   \n",
       "1                                 13.998353   \n",
       "2                                 14.028663   \n",
       "3                                 14.005551   \n",
       "4                                 13.996647   \n",
       "\n",
       "   secondary_cleaner.state.floatbank6_a_level  \n",
       "0                                 -605.841980  \n",
       "1                                 -599.787184  \n",
       "2                                 -601.427363  \n",
       "3                                 -599.996129  \n",
       "4                                 -601.496691  \n",
       "\n",
       "[5 rows x 87 columns]"
      ]
     },
     "metadata": {},
     "output_type": "display_data"
    },
    {
     "name": "stdout",
     "output_type": "stream",
     "text": [
      "\n",
      "\n",
      "------------- Типы данных ------------\n",
      "<class 'pandas.core.frame.DataFrame'>\n",
      "Int64Index: 17960 entries, 0 to 19429\n",
      "Data columns (total 87 columns):\n",
      " #   Column                                              Non-Null Count  Dtype  \n",
      "---  ------                                              --------------  -----  \n",
      " 0   date                                                17960 non-null  object \n",
      " 1   final.output.concentrate_ag                         17960 non-null  float64\n",
      " 2   final.output.concentrate_pb                         17960 non-null  float64\n",
      " 3   final.output.concentrate_sol                        17960 non-null  float64\n",
      " 4   final.output.concentrate_au                         17960 non-null  float64\n",
      " 5   final.output.recovery                               17960 non-null  float64\n",
      " 6   final.output.tail_ag                                17960 non-null  float64\n",
      " 7   final.output.tail_pb                                17960 non-null  float64\n",
      " 8   final.output.tail_sol                               17960 non-null  float64\n",
      " 9   final.output.tail_au                                17960 non-null  float64\n",
      " 10  primary_cleaner.input.sulfate                       17960 non-null  float64\n",
      " 11  primary_cleaner.input.depressant                    17960 non-null  float64\n",
      " 12  primary_cleaner.input.feed_size                     17960 non-null  float64\n",
      " 13  primary_cleaner.input.xanthate                      17960 non-null  float64\n",
      " 14  primary_cleaner.output.concentrate_ag               17960 non-null  float64\n",
      " 15  primary_cleaner.output.concentrate_pb               17960 non-null  float64\n",
      " 16  primary_cleaner.output.concentrate_sol              17960 non-null  float64\n",
      " 17  primary_cleaner.output.concentrate_au               17960 non-null  float64\n",
      " 18  primary_cleaner.output.tail_ag                      17960 non-null  float64\n",
      " 19  primary_cleaner.output.tail_pb                      17960 non-null  float64\n",
      " 20  primary_cleaner.output.tail_sol                     17960 non-null  float64\n",
      " 21  primary_cleaner.output.tail_au                      17960 non-null  float64\n",
      " 22  primary_cleaner.state.floatbank8_a_air              17960 non-null  float64\n",
      " 23  primary_cleaner.state.floatbank8_a_level            17960 non-null  float64\n",
      " 24  primary_cleaner.state.floatbank8_b_air              17960 non-null  float64\n",
      " 25  primary_cleaner.state.floatbank8_b_level            17960 non-null  float64\n",
      " 26  primary_cleaner.state.floatbank8_c_air              17960 non-null  float64\n",
      " 27  primary_cleaner.state.floatbank8_c_level            17960 non-null  float64\n",
      " 28  primary_cleaner.state.floatbank8_d_air              17960 non-null  float64\n",
      " 29  primary_cleaner.state.floatbank8_d_level            17960 non-null  float64\n",
      " 30  rougher.calculation.sulfate_to_au_concentrate       17960 non-null  float64\n",
      " 31  rougher.calculation.floatbank10_sulfate_to_au_feed  17960 non-null  float64\n",
      " 32  rougher.calculation.floatbank11_sulfate_to_au_feed  17960 non-null  float64\n",
      " 33  rougher.calculation.au_pb_ratio                     17960 non-null  float64\n",
      " 34  rougher.input.feed_ag                               17960 non-null  float64\n",
      " 35  rougher.input.feed_pb                               17960 non-null  float64\n",
      " 36  rougher.input.feed_rate                             17960 non-null  float64\n",
      " 37  rougher.input.feed_size                             17960 non-null  float64\n",
      " 38  rougher.input.feed_sol                              17960 non-null  float64\n",
      " 39  rougher.input.feed_au                               17960 non-null  float64\n",
      " 40  rougher.input.floatbank10_sulfate                   17960 non-null  float64\n",
      " 41  rougher.input.floatbank10_xanthate                  17960 non-null  float64\n",
      " 42  rougher.input.floatbank11_sulfate                   17960 non-null  float64\n",
      " 43  rougher.input.floatbank11_xanthate                  17960 non-null  float64\n",
      " 44  rougher.output.concentrate_ag                       17960 non-null  float64\n",
      " 45  rougher.output.concentrate_pb                       17960 non-null  float64\n",
      " 46  rougher.output.concentrate_sol                      17960 non-null  float64\n",
      " 47  rougher.output.concentrate_au                       17960 non-null  float64\n",
      " 48  rougher.output.recovery                             17960 non-null  float64\n",
      " 49  rougher.output.tail_ag                              17960 non-null  float64\n",
      " 50  rougher.output.tail_pb                              17960 non-null  float64\n",
      " 51  rougher.output.tail_sol                             17960 non-null  float64\n",
      " 52  rougher.output.tail_au                              17960 non-null  float64\n",
      " 53  rougher.state.floatbank10_a_air                     17960 non-null  float64\n",
      " 54  rougher.state.floatbank10_a_level                   17960 non-null  float64\n",
      " 55  rougher.state.floatbank10_b_air                     17960 non-null  float64\n",
      " 56  rougher.state.floatbank10_b_level                   17960 non-null  float64\n",
      " 57  rougher.state.floatbank10_c_air                     17960 non-null  float64\n",
      " 58  rougher.state.floatbank10_c_level                   17960 non-null  float64\n",
      " 59  rougher.state.floatbank10_d_air                     17960 non-null  float64\n",
      " 60  rougher.state.floatbank10_d_level                   17960 non-null  float64\n",
      " 61  rougher.state.floatbank10_e_air                     17960 non-null  float64\n",
      " 62  rougher.state.floatbank10_e_level                   17960 non-null  float64\n",
      " 63  rougher.state.floatbank10_f_air                     17960 non-null  float64\n",
      " 64  rougher.state.floatbank10_f_level                   17960 non-null  float64\n",
      " 65  secondary_cleaner.output.tail_ag                    17960 non-null  float64\n",
      " 66  secondary_cleaner.output.tail_pb                    17960 non-null  float64\n",
      " 67  secondary_cleaner.output.tail_sol                   17960 non-null  float64\n",
      " 68  secondary_cleaner.output.tail_au                    17960 non-null  float64\n",
      " 69  secondary_cleaner.state.floatbank2_a_air            17960 non-null  float64\n",
      " 70  secondary_cleaner.state.floatbank2_a_level          17960 non-null  float64\n",
      " 71  secondary_cleaner.state.floatbank2_b_air            17960 non-null  float64\n",
      " 72  secondary_cleaner.state.floatbank2_b_level          17960 non-null  float64\n",
      " 73  secondary_cleaner.state.floatbank3_a_air            17960 non-null  float64\n",
      " 74  secondary_cleaner.state.floatbank3_a_level          17960 non-null  float64\n",
      " 75  secondary_cleaner.state.floatbank3_b_air            17960 non-null  float64\n",
      " 76  secondary_cleaner.state.floatbank3_b_level          17960 non-null  float64\n",
      " 77  secondary_cleaner.state.floatbank4_a_air            17960 non-null  float64\n",
      " 78  secondary_cleaner.state.floatbank4_a_level          17960 non-null  float64\n",
      " 79  secondary_cleaner.state.floatbank4_b_air            17960 non-null  float64\n",
      " 80  secondary_cleaner.state.floatbank4_b_level          17960 non-null  float64\n",
      " 81  secondary_cleaner.state.floatbank5_a_air            17960 non-null  float64\n",
      " 82  secondary_cleaner.state.floatbank5_a_level          17960 non-null  float64\n",
      " 83  secondary_cleaner.state.floatbank5_b_air            17960 non-null  float64\n",
      " 84  secondary_cleaner.state.floatbank5_b_level          17960 non-null  float64\n",
      " 85  secondary_cleaner.state.floatbank6_a_air            17960 non-null  float64\n",
      " 86  secondary_cleaner.state.floatbank6_a_level          17960 non-null  float64\n",
      "dtypes: float64(86), object(1)\n",
      "memory usage: 12.1+ MB\n",
      "None\n",
      "\n",
      "\n",
      "------------- Пропуски ------------\n",
      "Пропусков НЕТ\n",
      "\n",
      "\n",
      "------------- Дубликаты ------------\n",
      "Дубликатов НЕТ\n",
      "------------- Категориальные признаки ------------\n"
     ]
    }
   ],
   "source": [
    "first_look (df_full)"
   ]
  },
  {
   "cell_type": "markdown",
   "metadata": {},
   "source": [
    "Проверим наши данные на мультиколлениарность. Отбросим данные, коррелиция которых меньше 0,8 и 1. Они меньше всего будут влиять на последующее обучение моделей."
   ]
  },
  {
   "cell_type": "code",
   "execution_count": 20,
   "metadata": {},
   "outputs": [
    {
     "data": {
      "text/plain": [
       "primary_cleaner.state.floatbank8_a_air      primary_cleaner.state.floatbank8_b_air        0.953676\n",
       "                                            primary_cleaner.state.floatbank8_c_air        0.914825\n",
       "primary_cleaner.state.floatbank8_a_level    primary_cleaner.state.floatbank8_b_level      0.884770\n",
       "                                            primary_cleaner.state.floatbank8_c_level      0.943224\n",
       "primary_cleaner.state.floatbank8_b_air      primary_cleaner.state.floatbank8_c_air        0.922673\n",
       "primary_cleaner.state.floatbank8_b_level    primary_cleaner.state.floatbank8_c_level      0.870117\n",
       "rougher.input.feed_ag                       rougher.input.feed_au                         0.844482\n",
       "rougher.input.floatbank10_sulfate           rougher.input.floatbank11_sulfate             0.907435\n",
       "rougher.input.floatbank10_xanthate          rougher.input.floatbank11_xanthate            0.901534\n",
       "rougher.state.floatbank10_b_air             rougher.state.floatbank10_c_air               0.934855\n",
       "                                            rougher.state.floatbank10_d_air               0.924748\n",
       "                                            rougher.state.floatbank10_e_air               0.816633\n",
       "rougher.state.floatbank10_b_level           rougher.state.floatbank10_c_level             0.986281\n",
       "                                            rougher.state.floatbank10_d_level             0.966286\n",
       "                                            rougher.state.floatbank10_e_level             0.943054\n",
       "                                            rougher.state.floatbank10_f_level             0.939467\n",
       "rougher.state.floatbank10_c_air             rougher.state.floatbank10_d_air               0.913771\n",
       "rougher.state.floatbank10_c_level           rougher.state.floatbank10_d_level             0.977808\n",
       "                                            rougher.state.floatbank10_e_level             0.955248\n",
       "                                            rougher.state.floatbank10_f_level             0.947401\n",
       "rougher.state.floatbank10_d_air             rougher.state.floatbank10_e_air               0.849916\n",
       "                                            rougher.state.floatbank10_f_air               0.816161\n",
       "rougher.state.floatbank10_d_level           rougher.state.floatbank10_e_level             0.940345\n",
       "                                            rougher.state.floatbank10_f_level             0.943136\n",
       "rougher.state.floatbank10_e_air             rougher.state.floatbank10_f_air               0.929224\n",
       "rougher.state.floatbank10_e_level           rougher.state.floatbank10_f_level             0.981459\n",
       "secondary_cleaner.state.floatbank2_a_air    secondary_cleaner.state.floatbank2_b_air      0.835071\n",
       "secondary_cleaner.state.floatbank4_a_air    secondary_cleaner.state.floatbank4_b_air      0.844240\n",
       "secondary_cleaner.state.floatbank4_b_air    secondary_cleaner.state.floatbank5_b_air      0.851443\n",
       "secondary_cleaner.state.floatbank5_a_air    secondary_cleaner.state.floatbank5_b_air      0.888205\n",
       "secondary_cleaner.state.floatbank5_a_level  secondary_cleaner.state.floatbank5_b_level    0.827299\n",
       "dtype: float64"
      ]
     },
     "metadata": {},
     "output_type": "display_data"
    }
   ],
   "source": [
    "corr_features = (\n",
    "    df_full [df_test.columns].corr ().abs ().pipe (lambda x: x [(0.8 < x) & (x < 1)]).unstack ().dropna ().drop_duplicates ()\n",
    ")\n",
    "display (corr_features)"
   ]
  },
  {
   "cell_type": "markdown",
   "metadata": {},
   "source": [
    "Создадим задел столбцов, которые в последствии удалим из обучающей выборки (оставив по одному из соответствующих коррелирующих групп)"
   ]
  },
  {
   "cell_type": "code",
   "execution_count": 21,
   "metadata": {},
   "outputs": [
    {
     "data": {
      "text/plain": [
       "Index(['primary_cleaner.state.floatbank8_b_air',\n",
       "       'primary_cleaner.state.floatbank8_c_air',\n",
       "       'primary_cleaner.state.floatbank8_b_level',\n",
       "       'primary_cleaner.state.floatbank8_c_level', 'rougher.input.feed_au',\n",
       "       'rougher.input.floatbank11_sulfate',\n",
       "       'rougher.input.floatbank11_xanthate', 'rougher.state.floatbank10_c_air',\n",
       "       'rougher.state.floatbank10_d_air', 'rougher.state.floatbank10_e_air',\n",
       "       'rougher.state.floatbank10_c_level',\n",
       "       'rougher.state.floatbank10_d_level',\n",
       "       'rougher.state.floatbank10_e_level',\n",
       "       'rougher.state.floatbank10_f_level', 'rougher.state.floatbank10_f_air',\n",
       "       'secondary_cleaner.state.floatbank2_b_air',\n",
       "       'secondary_cleaner.state.floatbank4_b_air',\n",
       "       'secondary_cleaner.state.floatbank5_b_air',\n",
       "       'secondary_cleaner.state.floatbank5_b_level'],\n",
       "      dtype='object')"
      ]
     },
     "metadata": {},
     "output_type": "display_data"
    }
   ],
   "source": [
    "corr_drop_columns = corr_features.index.get_level_values (1).drop_duplicates ()\n",
    "display (corr_drop_columns)"
   ]
  },
  {
   "cell_type": "markdown",
   "metadata": {},
   "source": [
    "Преобразуем наши файлы"
   ]
  },
  {
   "cell_type": "code",
   "execution_count": 22,
   "metadata": {},
   "outputs": [],
   "source": [
    "train_columns = df_train.columns.drop (corr_drop_columns)\n",
    "df_train = df_train [train_columns]\n",
    "test_columns = df_test.columns.drop (corr_drop_columns)\n",
    "df_test = df_test [test_columns]\n",
    "\n",
    "df_train = df_full [df_full.index.isin (df_train.index)][train_columns]\n",
    "df_test = df_full [df_full.index.isin (df_test.index)][test_columns]"
   ]
  },
  {
   "cell_type": "markdown",
   "metadata": {},
   "source": [
    "Еще раз посмотрим на них после всех манипуляций"
   ]
  },
  {
   "cell_type": "code",
   "execution_count": 23,
   "metadata": {},
   "outputs": [
    {
     "name": "stdout",
     "output_type": "stream",
     "text": [
      "------------- Первые 5 строк ------------\n"
     ]
    },
    {
     "data": {
      "text/html": [
       "<div>\n",
       "<style scoped>\n",
       "    .dataframe tbody tr th:only-of-type {\n",
       "        vertical-align: middle;\n",
       "    }\n",
       "\n",
       "    .dataframe tbody tr th {\n",
       "        vertical-align: top;\n",
       "    }\n",
       "\n",
       "    .dataframe thead th {\n",
       "        text-align: right;\n",
       "    }\n",
       "</style>\n",
       "<table border=\"1\" class=\"dataframe\">\n",
       "  <thead>\n",
       "    <tr style=\"text-align: right;\">\n",
       "      <th></th>\n",
       "      <th>date</th>\n",
       "      <th>final.output.recovery</th>\n",
       "      <th>primary_cleaner.input.sulfate</th>\n",
       "      <th>primary_cleaner.input.depressant</th>\n",
       "      <th>primary_cleaner.input.feed_size</th>\n",
       "      <th>primary_cleaner.input.xanthate</th>\n",
       "      <th>primary_cleaner.state.floatbank8_a_air</th>\n",
       "      <th>primary_cleaner.state.floatbank8_a_level</th>\n",
       "      <th>primary_cleaner.state.floatbank8_d_air</th>\n",
       "      <th>primary_cleaner.state.floatbank8_d_level</th>\n",
       "      <th>...</th>\n",
       "      <th>secondary_cleaner.state.floatbank3_a_level</th>\n",
       "      <th>secondary_cleaner.state.floatbank3_b_air</th>\n",
       "      <th>secondary_cleaner.state.floatbank3_b_level</th>\n",
       "      <th>secondary_cleaner.state.floatbank4_a_air</th>\n",
       "      <th>secondary_cleaner.state.floatbank4_a_level</th>\n",
       "      <th>secondary_cleaner.state.floatbank4_b_level</th>\n",
       "      <th>secondary_cleaner.state.floatbank5_a_air</th>\n",
       "      <th>secondary_cleaner.state.floatbank5_a_level</th>\n",
       "      <th>secondary_cleaner.state.floatbank6_a_air</th>\n",
       "      <th>secondary_cleaner.state.floatbank6_a_level</th>\n",
       "    </tr>\n",
       "  </thead>\n",
       "  <tbody>\n",
       "    <tr>\n",
       "      <th>0</th>\n",
       "      <td>2016-01-15 00:00:00</td>\n",
       "      <td>70.541216</td>\n",
       "      <td>127.092003</td>\n",
       "      <td>10.128295</td>\n",
       "      <td>7.25</td>\n",
       "      <td>0.988759</td>\n",
       "      <td>1549.775757</td>\n",
       "      <td>-498.912140</td>\n",
       "      <td>1554.367432</td>\n",
       "      <td>-493.428131</td>\n",
       "      <td>...</td>\n",
       "      <td>-495.262817</td>\n",
       "      <td>21.940409</td>\n",
       "      <td>-499.340973</td>\n",
       "      <td>14.016835</td>\n",
       "      <td>-502.488007</td>\n",
       "      <td>-504.715942</td>\n",
       "      <td>9.925633</td>\n",
       "      <td>-498.310211</td>\n",
       "      <td>14.151341</td>\n",
       "      <td>-605.841980</td>\n",
       "    </tr>\n",
       "    <tr>\n",
       "      <th>1</th>\n",
       "      <td>2016-01-15 01:00:00</td>\n",
       "      <td>69.266198</td>\n",
       "      <td>125.629232</td>\n",
       "      <td>10.296251</td>\n",
       "      <td>7.25</td>\n",
       "      <td>1.002663</td>\n",
       "      <td>1576.166671</td>\n",
       "      <td>-500.904965</td>\n",
       "      <td>1574.479259</td>\n",
       "      <td>-498.931665</td>\n",
       "      <td>...</td>\n",
       "      <td>-500.085473</td>\n",
       "      <td>22.085714</td>\n",
       "      <td>-499.446897</td>\n",
       "      <td>13.992281</td>\n",
       "      <td>-505.503262</td>\n",
       "      <td>-501.331529</td>\n",
       "      <td>10.039245</td>\n",
       "      <td>-500.169983</td>\n",
       "      <td>13.998353</td>\n",
       "      <td>-599.787184</td>\n",
       "    </tr>\n",
       "    <tr>\n",
       "      <th>2</th>\n",
       "      <td>2016-01-15 02:00:00</td>\n",
       "      <td>68.116445</td>\n",
       "      <td>123.819808</td>\n",
       "      <td>11.316280</td>\n",
       "      <td>7.25</td>\n",
       "      <td>0.991265</td>\n",
       "      <td>1601.556163</td>\n",
       "      <td>-499.997791</td>\n",
       "      <td>1599.541515</td>\n",
       "      <td>-499.827444</td>\n",
       "      <td>...</td>\n",
       "      <td>-499.442343</td>\n",
       "      <td>23.957717</td>\n",
       "      <td>-499.901982</td>\n",
       "      <td>14.015015</td>\n",
       "      <td>-502.520901</td>\n",
       "      <td>-501.133383</td>\n",
       "      <td>10.070913</td>\n",
       "      <td>-500.129135</td>\n",
       "      <td>14.028663</td>\n",
       "      <td>-601.427363</td>\n",
       "    </tr>\n",
       "    <tr>\n",
       "      <th>3</th>\n",
       "      <td>2016-01-15 03:00:00</td>\n",
       "      <td>68.347543</td>\n",
       "      <td>122.270188</td>\n",
       "      <td>11.322140</td>\n",
       "      <td>7.25</td>\n",
       "      <td>0.996739</td>\n",
       "      <td>1599.968720</td>\n",
       "      <td>-500.951778</td>\n",
       "      <td>1600.449520</td>\n",
       "      <td>-500.052575</td>\n",
       "      <td>...</td>\n",
       "      <td>-500.008812</td>\n",
       "      <td>23.954443</td>\n",
       "      <td>-499.944710</td>\n",
       "      <td>14.036510</td>\n",
       "      <td>-500.857308</td>\n",
       "      <td>-501.193686</td>\n",
       "      <td>9.970366</td>\n",
       "      <td>-499.201640</td>\n",
       "      <td>14.005551</td>\n",
       "      <td>-599.996129</td>\n",
       "    </tr>\n",
       "    <tr>\n",
       "      <th>4</th>\n",
       "      <td>2016-01-15 04:00:00</td>\n",
       "      <td>66.927016</td>\n",
       "      <td>117.988169</td>\n",
       "      <td>11.913613</td>\n",
       "      <td>7.25</td>\n",
       "      <td>1.009869</td>\n",
       "      <td>1601.339707</td>\n",
       "      <td>-498.975456</td>\n",
       "      <td>1602.649541</td>\n",
       "      <td>-500.593010</td>\n",
       "      <td>...</td>\n",
       "      <td>-500.083811</td>\n",
       "      <td>23.958945</td>\n",
       "      <td>-499.990309</td>\n",
       "      <td>14.027298</td>\n",
       "      <td>-499.838632</td>\n",
       "      <td>-501.053894</td>\n",
       "      <td>9.925709</td>\n",
       "      <td>-501.686727</td>\n",
       "      <td>13.996647</td>\n",
       "      <td>-601.496691</td>\n",
       "    </tr>\n",
       "  </tbody>\n",
       "</table>\n",
       "<p>5 rows × 36 columns</p>\n",
       "</div>"
      ],
      "text/plain": [
       "                  date  final.output.recovery  primary_cleaner.input.sulfate  \\\n",
       "0  2016-01-15 00:00:00              70.541216                     127.092003   \n",
       "1  2016-01-15 01:00:00              69.266198                     125.629232   \n",
       "2  2016-01-15 02:00:00              68.116445                     123.819808   \n",
       "3  2016-01-15 03:00:00              68.347543                     122.270188   \n",
       "4  2016-01-15 04:00:00              66.927016                     117.988169   \n",
       "\n",
       "   primary_cleaner.input.depressant  primary_cleaner.input.feed_size  \\\n",
       "0                         10.128295                             7.25   \n",
       "1                         10.296251                             7.25   \n",
       "2                         11.316280                             7.25   \n",
       "3                         11.322140                             7.25   \n",
       "4                         11.913613                             7.25   \n",
       "\n",
       "   primary_cleaner.input.xanthate  primary_cleaner.state.floatbank8_a_air  \\\n",
       "0                        0.988759                             1549.775757   \n",
       "1                        1.002663                             1576.166671   \n",
       "2                        0.991265                             1601.556163   \n",
       "3                        0.996739                             1599.968720   \n",
       "4                        1.009869                             1601.339707   \n",
       "\n",
       "   primary_cleaner.state.floatbank8_a_level  \\\n",
       "0                               -498.912140   \n",
       "1                               -500.904965   \n",
       "2                               -499.997791   \n",
       "3                               -500.951778   \n",
       "4                               -498.975456   \n",
       "\n",
       "   primary_cleaner.state.floatbank8_d_air  \\\n",
       "0                             1554.367432   \n",
       "1                             1574.479259   \n",
       "2                             1599.541515   \n",
       "3                             1600.449520   \n",
       "4                             1602.649541   \n",
       "\n",
       "   primary_cleaner.state.floatbank8_d_level  ...  \\\n",
       "0                               -493.428131  ...   \n",
       "1                               -498.931665  ...   \n",
       "2                               -499.827444  ...   \n",
       "3                               -500.052575  ...   \n",
       "4                               -500.593010  ...   \n",
       "\n",
       "   secondary_cleaner.state.floatbank3_a_level  \\\n",
       "0                                 -495.262817   \n",
       "1                                 -500.085473   \n",
       "2                                 -499.442343   \n",
       "3                                 -500.008812   \n",
       "4                                 -500.083811   \n",
       "\n",
       "   secondary_cleaner.state.floatbank3_b_air  \\\n",
       "0                                 21.940409   \n",
       "1                                 22.085714   \n",
       "2                                 23.957717   \n",
       "3                                 23.954443   \n",
       "4                                 23.958945   \n",
       "\n",
       "   secondary_cleaner.state.floatbank3_b_level  \\\n",
       "0                                 -499.340973   \n",
       "1                                 -499.446897   \n",
       "2                                 -499.901982   \n",
       "3                                 -499.944710   \n",
       "4                                 -499.990309   \n",
       "\n",
       "   secondary_cleaner.state.floatbank4_a_air  \\\n",
       "0                                 14.016835   \n",
       "1                                 13.992281   \n",
       "2                                 14.015015   \n",
       "3                                 14.036510   \n",
       "4                                 14.027298   \n",
       "\n",
       "   secondary_cleaner.state.floatbank4_a_level  \\\n",
       "0                                 -502.488007   \n",
       "1                                 -505.503262   \n",
       "2                                 -502.520901   \n",
       "3                                 -500.857308   \n",
       "4                                 -499.838632   \n",
       "\n",
       "   secondary_cleaner.state.floatbank4_b_level  \\\n",
       "0                                 -504.715942   \n",
       "1                                 -501.331529   \n",
       "2                                 -501.133383   \n",
       "3                                 -501.193686   \n",
       "4                                 -501.053894   \n",
       "\n",
       "   secondary_cleaner.state.floatbank5_a_air  \\\n",
       "0                                  9.925633   \n",
       "1                                 10.039245   \n",
       "2                                 10.070913   \n",
       "3                                  9.970366   \n",
       "4                                  9.925709   \n",
       "\n",
       "   secondary_cleaner.state.floatbank5_a_level  \\\n",
       "0                                 -498.310211   \n",
       "1                                 -500.169983   \n",
       "2                                 -500.129135   \n",
       "3                                 -499.201640   \n",
       "4                                 -501.686727   \n",
       "\n",
       "   secondary_cleaner.state.floatbank6_a_air  \\\n",
       "0                                 14.151341   \n",
       "1                                 13.998353   \n",
       "2                                 14.028663   \n",
       "3                                 14.005551   \n",
       "4                                 13.996647   \n",
       "\n",
       "   secondary_cleaner.state.floatbank6_a_level  \n",
       "0                                 -605.841980  \n",
       "1                                 -599.787184  \n",
       "2                                 -601.427363  \n",
       "3                                 -599.996129  \n",
       "4                                 -601.496691  \n",
       "\n",
       "[5 rows x 36 columns]"
      ]
     },
     "metadata": {},
     "output_type": "display_data"
    },
    {
     "name": "stdout",
     "output_type": "stream",
     "text": [
      "\n",
      "\n",
      "------------- Типы данных ------------\n",
      "<class 'pandas.core.frame.DataFrame'>\n",
      "Int64Index: 13052 entries, 0 to 14148\n",
      "Data columns (total 36 columns):\n",
      " #   Column                                      Non-Null Count  Dtype  \n",
      "---  ------                                      --------------  -----  \n",
      " 0   date                                        13052 non-null  object \n",
      " 1   final.output.recovery                       13052 non-null  float64\n",
      " 2   primary_cleaner.input.sulfate               13052 non-null  float64\n",
      " 3   primary_cleaner.input.depressant            13052 non-null  float64\n",
      " 4   primary_cleaner.input.feed_size             13052 non-null  float64\n",
      " 5   primary_cleaner.input.xanthate              13052 non-null  float64\n",
      " 6   primary_cleaner.state.floatbank8_a_air      13052 non-null  float64\n",
      " 7   primary_cleaner.state.floatbank8_a_level    13052 non-null  float64\n",
      " 8   primary_cleaner.state.floatbank8_d_air      13052 non-null  float64\n",
      " 9   primary_cleaner.state.floatbank8_d_level    13052 non-null  float64\n",
      " 10  rougher.input.feed_ag                       13052 non-null  float64\n",
      " 11  rougher.input.feed_pb                       13052 non-null  float64\n",
      " 12  rougher.input.feed_rate                     13052 non-null  float64\n",
      " 13  rougher.input.feed_size                     13052 non-null  float64\n",
      " 14  rougher.input.feed_sol                      13052 non-null  float64\n",
      " 15  rougher.input.floatbank10_sulfate           13052 non-null  float64\n",
      " 16  rougher.input.floatbank10_xanthate          13052 non-null  float64\n",
      " 17  rougher.output.recovery                     13052 non-null  float64\n",
      " 18  rougher.state.floatbank10_a_air             13052 non-null  float64\n",
      " 19  rougher.state.floatbank10_a_level           13052 non-null  float64\n",
      " 20  rougher.state.floatbank10_b_air             13052 non-null  float64\n",
      " 21  rougher.state.floatbank10_b_level           13052 non-null  float64\n",
      " 22  secondary_cleaner.state.floatbank2_a_air    13052 non-null  float64\n",
      " 23  secondary_cleaner.state.floatbank2_a_level  13052 non-null  float64\n",
      " 24  secondary_cleaner.state.floatbank2_b_level  13052 non-null  float64\n",
      " 25  secondary_cleaner.state.floatbank3_a_air    13052 non-null  float64\n",
      " 26  secondary_cleaner.state.floatbank3_a_level  13052 non-null  float64\n",
      " 27  secondary_cleaner.state.floatbank3_b_air    13052 non-null  float64\n",
      " 28  secondary_cleaner.state.floatbank3_b_level  13052 non-null  float64\n",
      " 29  secondary_cleaner.state.floatbank4_a_air    13052 non-null  float64\n",
      " 30  secondary_cleaner.state.floatbank4_a_level  13052 non-null  float64\n",
      " 31  secondary_cleaner.state.floatbank4_b_level  13052 non-null  float64\n",
      " 32  secondary_cleaner.state.floatbank5_a_air    13052 non-null  float64\n",
      " 33  secondary_cleaner.state.floatbank5_a_level  13052 non-null  float64\n",
      " 34  secondary_cleaner.state.floatbank6_a_air    13052 non-null  float64\n",
      " 35  secondary_cleaner.state.floatbank6_a_level  13052 non-null  float64\n",
      "dtypes: float64(35), object(1)\n",
      "memory usage: 3.7+ MB\n",
      "None\n",
      "\n",
      "\n",
      "------------- Пропуски ------------\n",
      "Пропусков НЕТ\n",
      "\n",
      "\n",
      "------------- Дубликаты ------------\n",
      "Дубликатов НЕТ\n",
      "------------- Категориальные признаки ------------\n",
      "------------- Первые 5 строк ------------\n"
     ]
    },
    {
     "data": {
      "text/html": [
       "<div>\n",
       "<style scoped>\n",
       "    .dataframe tbody tr th:only-of-type {\n",
       "        vertical-align: middle;\n",
       "    }\n",
       "\n",
       "    .dataframe tbody tr th {\n",
       "        vertical-align: top;\n",
       "    }\n",
       "\n",
       "    .dataframe thead th {\n",
       "        text-align: right;\n",
       "    }\n",
       "</style>\n",
       "<table border=\"1\" class=\"dataframe\">\n",
       "  <thead>\n",
       "    <tr style=\"text-align: right;\">\n",
       "      <th></th>\n",
       "      <th>date</th>\n",
       "      <th>primary_cleaner.input.sulfate</th>\n",
       "      <th>primary_cleaner.input.depressant</th>\n",
       "      <th>primary_cleaner.input.feed_size</th>\n",
       "      <th>primary_cleaner.input.xanthate</th>\n",
       "      <th>primary_cleaner.state.floatbank8_a_air</th>\n",
       "      <th>primary_cleaner.state.floatbank8_a_level</th>\n",
       "      <th>primary_cleaner.state.floatbank8_d_air</th>\n",
       "      <th>primary_cleaner.state.floatbank8_d_level</th>\n",
       "      <th>rougher.input.feed_ag</th>\n",
       "      <th>...</th>\n",
       "      <th>secondary_cleaner.state.floatbank3_a_level</th>\n",
       "      <th>secondary_cleaner.state.floatbank3_b_air</th>\n",
       "      <th>secondary_cleaner.state.floatbank3_b_level</th>\n",
       "      <th>secondary_cleaner.state.floatbank4_a_air</th>\n",
       "      <th>secondary_cleaner.state.floatbank4_a_level</th>\n",
       "      <th>secondary_cleaner.state.floatbank4_b_level</th>\n",
       "      <th>secondary_cleaner.state.floatbank5_a_air</th>\n",
       "      <th>secondary_cleaner.state.floatbank5_a_level</th>\n",
       "      <th>secondary_cleaner.state.floatbank6_a_air</th>\n",
       "      <th>secondary_cleaner.state.floatbank6_a_level</th>\n",
       "    </tr>\n",
       "  </thead>\n",
       "  <tbody>\n",
       "    <tr>\n",
       "      <th>0</th>\n",
       "      <td>2016-01-15 00:00:00</td>\n",
       "      <td>127.092003</td>\n",
       "      <td>10.128295</td>\n",
       "      <td>7.25</td>\n",
       "      <td>0.988759</td>\n",
       "      <td>1549.775757</td>\n",
       "      <td>-498.912140</td>\n",
       "      <td>1554.367432</td>\n",
       "      <td>-493.428131</td>\n",
       "      <td>6.100378</td>\n",
       "      <td>...</td>\n",
       "      <td>-495.262817</td>\n",
       "      <td>21.940409</td>\n",
       "      <td>-499.340973</td>\n",
       "      <td>14.016835</td>\n",
       "      <td>-502.488007</td>\n",
       "      <td>-504.715942</td>\n",
       "      <td>9.925633</td>\n",
       "      <td>-498.310211</td>\n",
       "      <td>14.151341</td>\n",
       "      <td>-605.841980</td>\n",
       "    </tr>\n",
       "    <tr>\n",
       "      <th>1</th>\n",
       "      <td>2016-01-15 01:00:00</td>\n",
       "      <td>125.629232</td>\n",
       "      <td>10.296251</td>\n",
       "      <td>7.25</td>\n",
       "      <td>1.002663</td>\n",
       "      <td>1576.166671</td>\n",
       "      <td>-500.904965</td>\n",
       "      <td>1574.479259</td>\n",
       "      <td>-498.931665</td>\n",
       "      <td>6.161113</td>\n",
       "      <td>...</td>\n",
       "      <td>-500.085473</td>\n",
       "      <td>22.085714</td>\n",
       "      <td>-499.446897</td>\n",
       "      <td>13.992281</td>\n",
       "      <td>-505.503262</td>\n",
       "      <td>-501.331529</td>\n",
       "      <td>10.039245</td>\n",
       "      <td>-500.169983</td>\n",
       "      <td>13.998353</td>\n",
       "      <td>-599.787184</td>\n",
       "    </tr>\n",
       "    <tr>\n",
       "      <th>2</th>\n",
       "      <td>2016-01-15 02:00:00</td>\n",
       "      <td>123.819808</td>\n",
       "      <td>11.316280</td>\n",
       "      <td>7.25</td>\n",
       "      <td>0.991265</td>\n",
       "      <td>1601.556163</td>\n",
       "      <td>-499.997791</td>\n",
       "      <td>1599.541515</td>\n",
       "      <td>-499.827444</td>\n",
       "      <td>6.116455</td>\n",
       "      <td>...</td>\n",
       "      <td>-499.442343</td>\n",
       "      <td>23.957717</td>\n",
       "      <td>-499.901982</td>\n",
       "      <td>14.015015</td>\n",
       "      <td>-502.520901</td>\n",
       "      <td>-501.133383</td>\n",
       "      <td>10.070913</td>\n",
       "      <td>-500.129135</td>\n",
       "      <td>14.028663</td>\n",
       "      <td>-601.427363</td>\n",
       "    </tr>\n",
       "    <tr>\n",
       "      <th>3</th>\n",
       "      <td>2016-01-15 03:00:00</td>\n",
       "      <td>122.270188</td>\n",
       "      <td>11.322140</td>\n",
       "      <td>7.25</td>\n",
       "      <td>0.996739</td>\n",
       "      <td>1599.968720</td>\n",
       "      <td>-500.951778</td>\n",
       "      <td>1600.449520</td>\n",
       "      <td>-500.052575</td>\n",
       "      <td>6.043309</td>\n",
       "      <td>...</td>\n",
       "      <td>-500.008812</td>\n",
       "      <td>23.954443</td>\n",
       "      <td>-499.944710</td>\n",
       "      <td>14.036510</td>\n",
       "      <td>-500.857308</td>\n",
       "      <td>-501.193686</td>\n",
       "      <td>9.970366</td>\n",
       "      <td>-499.201640</td>\n",
       "      <td>14.005551</td>\n",
       "      <td>-599.996129</td>\n",
       "    </tr>\n",
       "    <tr>\n",
       "      <th>4</th>\n",
       "      <td>2016-01-15 04:00:00</td>\n",
       "      <td>117.988169</td>\n",
       "      <td>11.913613</td>\n",
       "      <td>7.25</td>\n",
       "      <td>1.009869</td>\n",
       "      <td>1601.339707</td>\n",
       "      <td>-498.975456</td>\n",
       "      <td>1602.649541</td>\n",
       "      <td>-500.593010</td>\n",
       "      <td>6.060915</td>\n",
       "      <td>...</td>\n",
       "      <td>-500.083811</td>\n",
       "      <td>23.958945</td>\n",
       "      <td>-499.990309</td>\n",
       "      <td>14.027298</td>\n",
       "      <td>-499.838632</td>\n",
       "      <td>-501.053894</td>\n",
       "      <td>9.925709</td>\n",
       "      <td>-501.686727</td>\n",
       "      <td>13.996647</td>\n",
       "      <td>-601.496691</td>\n",
       "    </tr>\n",
       "  </tbody>\n",
       "</table>\n",
       "<p>5 rows × 34 columns</p>\n",
       "</div>"
      ],
      "text/plain": [
       "                  date  primary_cleaner.input.sulfate  \\\n",
       "0  2016-01-15 00:00:00                     127.092003   \n",
       "1  2016-01-15 01:00:00                     125.629232   \n",
       "2  2016-01-15 02:00:00                     123.819808   \n",
       "3  2016-01-15 03:00:00                     122.270188   \n",
       "4  2016-01-15 04:00:00                     117.988169   \n",
       "\n",
       "   primary_cleaner.input.depressant  primary_cleaner.input.feed_size  \\\n",
       "0                         10.128295                             7.25   \n",
       "1                         10.296251                             7.25   \n",
       "2                         11.316280                             7.25   \n",
       "3                         11.322140                             7.25   \n",
       "4                         11.913613                             7.25   \n",
       "\n",
       "   primary_cleaner.input.xanthate  primary_cleaner.state.floatbank8_a_air  \\\n",
       "0                        0.988759                             1549.775757   \n",
       "1                        1.002663                             1576.166671   \n",
       "2                        0.991265                             1601.556163   \n",
       "3                        0.996739                             1599.968720   \n",
       "4                        1.009869                             1601.339707   \n",
       "\n",
       "   primary_cleaner.state.floatbank8_a_level  \\\n",
       "0                               -498.912140   \n",
       "1                               -500.904965   \n",
       "2                               -499.997791   \n",
       "3                               -500.951778   \n",
       "4                               -498.975456   \n",
       "\n",
       "   primary_cleaner.state.floatbank8_d_air  \\\n",
       "0                             1554.367432   \n",
       "1                             1574.479259   \n",
       "2                             1599.541515   \n",
       "3                             1600.449520   \n",
       "4                             1602.649541   \n",
       "\n",
       "   primary_cleaner.state.floatbank8_d_level  rougher.input.feed_ag  ...  \\\n",
       "0                               -493.428131               6.100378  ...   \n",
       "1                               -498.931665               6.161113  ...   \n",
       "2                               -499.827444               6.116455  ...   \n",
       "3                               -500.052575               6.043309  ...   \n",
       "4                               -500.593010               6.060915  ...   \n",
       "\n",
       "   secondary_cleaner.state.floatbank3_a_level  \\\n",
       "0                                 -495.262817   \n",
       "1                                 -500.085473   \n",
       "2                                 -499.442343   \n",
       "3                                 -500.008812   \n",
       "4                                 -500.083811   \n",
       "\n",
       "   secondary_cleaner.state.floatbank3_b_air  \\\n",
       "0                                 21.940409   \n",
       "1                                 22.085714   \n",
       "2                                 23.957717   \n",
       "3                                 23.954443   \n",
       "4                                 23.958945   \n",
       "\n",
       "   secondary_cleaner.state.floatbank3_b_level  \\\n",
       "0                                 -499.340973   \n",
       "1                                 -499.446897   \n",
       "2                                 -499.901982   \n",
       "3                                 -499.944710   \n",
       "4                                 -499.990309   \n",
       "\n",
       "   secondary_cleaner.state.floatbank4_a_air  \\\n",
       "0                                 14.016835   \n",
       "1                                 13.992281   \n",
       "2                                 14.015015   \n",
       "3                                 14.036510   \n",
       "4                                 14.027298   \n",
       "\n",
       "   secondary_cleaner.state.floatbank4_a_level  \\\n",
       "0                                 -502.488007   \n",
       "1                                 -505.503262   \n",
       "2                                 -502.520901   \n",
       "3                                 -500.857308   \n",
       "4                                 -499.838632   \n",
       "\n",
       "   secondary_cleaner.state.floatbank4_b_level  \\\n",
       "0                                 -504.715942   \n",
       "1                                 -501.331529   \n",
       "2                                 -501.133383   \n",
       "3                                 -501.193686   \n",
       "4                                 -501.053894   \n",
       "\n",
       "   secondary_cleaner.state.floatbank5_a_air  \\\n",
       "0                                  9.925633   \n",
       "1                                 10.039245   \n",
       "2                                 10.070913   \n",
       "3                                  9.970366   \n",
       "4                                  9.925709   \n",
       "\n",
       "   secondary_cleaner.state.floatbank5_a_level  \\\n",
       "0                                 -498.310211   \n",
       "1                                 -500.169983   \n",
       "2                                 -500.129135   \n",
       "3                                 -499.201640   \n",
       "4                                 -501.686727   \n",
       "\n",
       "   secondary_cleaner.state.floatbank6_a_air  \\\n",
       "0                                 14.151341   \n",
       "1                                 13.998353   \n",
       "2                                 14.028663   \n",
       "3                                 14.005551   \n",
       "4                                 13.996647   \n",
       "\n",
       "   secondary_cleaner.state.floatbank6_a_level  \n",
       "0                                 -605.841980  \n",
       "1                                 -599.787184  \n",
       "2                                 -601.427363  \n",
       "3                                 -599.996129  \n",
       "4                                 -601.496691  \n",
       "\n",
       "[5 rows x 34 columns]"
      ]
     },
     "metadata": {},
     "output_type": "display_data"
    },
    {
     "name": "stdout",
     "output_type": "stream",
     "text": [
      "\n",
      "\n",
      "------------- Типы данных ------------\n",
      "<class 'pandas.core.frame.DataFrame'>\n",
      "Int64Index: 5085 entries, 0 to 5289\n",
      "Data columns (total 34 columns):\n",
      " #   Column                                      Non-Null Count  Dtype  \n",
      "---  ------                                      --------------  -----  \n",
      " 0   date                                        5085 non-null   object \n",
      " 1   primary_cleaner.input.sulfate               5085 non-null   float64\n",
      " 2   primary_cleaner.input.depressant            5085 non-null   float64\n",
      " 3   primary_cleaner.input.feed_size             5085 non-null   float64\n",
      " 4   primary_cleaner.input.xanthate              5085 non-null   float64\n",
      " 5   primary_cleaner.state.floatbank8_a_air      5085 non-null   float64\n",
      " 6   primary_cleaner.state.floatbank8_a_level    5085 non-null   float64\n",
      " 7   primary_cleaner.state.floatbank8_d_air      5085 non-null   float64\n",
      " 8   primary_cleaner.state.floatbank8_d_level    5085 non-null   float64\n",
      " 9   rougher.input.feed_ag                       5085 non-null   float64\n",
      " 10  rougher.input.feed_pb                       5085 non-null   float64\n",
      " 11  rougher.input.feed_rate                     5085 non-null   float64\n",
      " 12  rougher.input.feed_size                     5085 non-null   float64\n",
      " 13  rougher.input.feed_sol                      5085 non-null   float64\n",
      " 14  rougher.input.floatbank10_sulfate           5085 non-null   float64\n",
      " 15  rougher.input.floatbank10_xanthate          5085 non-null   float64\n",
      " 16  rougher.state.floatbank10_a_air             5085 non-null   float64\n",
      " 17  rougher.state.floatbank10_a_level           5085 non-null   float64\n",
      " 18  rougher.state.floatbank10_b_air             5085 non-null   float64\n",
      " 19  rougher.state.floatbank10_b_level           5085 non-null   float64\n",
      " 20  secondary_cleaner.state.floatbank2_a_air    5085 non-null   float64\n",
      " 21  secondary_cleaner.state.floatbank2_a_level  5085 non-null   float64\n",
      " 22  secondary_cleaner.state.floatbank2_b_level  5085 non-null   float64\n",
      " 23  secondary_cleaner.state.floatbank3_a_air    5085 non-null   float64\n",
      " 24  secondary_cleaner.state.floatbank3_a_level  5085 non-null   float64\n",
      " 25  secondary_cleaner.state.floatbank3_b_air    5085 non-null   float64\n",
      " 26  secondary_cleaner.state.floatbank3_b_level  5085 non-null   float64\n",
      " 27  secondary_cleaner.state.floatbank4_a_air    5085 non-null   float64\n",
      " 28  secondary_cleaner.state.floatbank4_a_level  5085 non-null   float64\n",
      " 29  secondary_cleaner.state.floatbank4_b_level  5085 non-null   float64\n",
      " 30  secondary_cleaner.state.floatbank5_a_air    5085 non-null   float64\n",
      " 31  secondary_cleaner.state.floatbank5_a_level  5085 non-null   float64\n",
      " 32  secondary_cleaner.state.floatbank6_a_air    5085 non-null   float64\n",
      " 33  secondary_cleaner.state.floatbank6_a_level  5085 non-null   float64\n",
      "dtypes: float64(33), object(1)\n",
      "memory usage: 1.4+ MB\n",
      "None\n",
      "\n",
      "\n",
      "------------- Пропуски ------------\n",
      "Пропусков НЕТ\n",
      "\n",
      "\n",
      "------------- Дубликаты ------------\n",
      "Дубликатов НЕТ\n",
      "------------- Категориальные признаки ------------\n"
     ]
    }
   ],
   "source": [
    "first_look (df_train)\n",
    "first_look (df_test)"
   ]
  },
  {
   "cell_type": "markdown",
   "metadata": {},
   "source": [
    "На данном этапе мы проверили, что эффективность обогащения рассчитана правильно.\n",
    "\n",
    "Проанализировали признаки, недоступные в тестовой выборке.\n",
    "\n",
    "Описали что это за параметры, описали к какому типу они относятся\n",
    "\n",
    "Провели предобработку данных, а именно:\n",
    "\n",
    "- заполнили пропуски в данных данными из соседних\n",
    "\n",
    "- избавились от нулевых значений в данных\n",
    "\n",
    "- проверили наши выборки на коллениарность и подготовили их для моделей обучения"
   ]
  },
  {
   "cell_type": "markdown",
   "metadata": {},
   "source": [
    "<a id=step_6></a>\n",
    "## Проанализируем данные"
   ]
  },
  {
   "cell_type": "markdown",
   "metadata": {},
   "source": [
    "<a id=step_7></a>\n",
    "<b>2.1. Посмотрим, как меняется концентрация металлов (Au, Ag, Pb) на различных этапах очистки. Опишем выводы.</b>"
   ]
  },
  {
   "cell_type": "markdown",
   "metadata": {},
   "source": [
    "Создадим функцию прорисовки графиков распредления металла по этапам очистки"
   ]
  },
  {
   "cell_type": "code",
   "execution_count": 24,
   "metadata": {},
   "outputs": [],
   "source": [
    "def display_graf (metal, x_lim, y_lim):\n",
    "    \n",
    "    plt.figure (figsize = [12, 9])\n",
    "    \n",
    "    plt.hist (\n",
    "        df_full.loc [:, (\n",
    "            df_full.columns.str.contains (metal) & df_full.columns.str.contains ('final.output.concentrate')\n",
    "        )], bins=100, label = 'финальный продукт', alpha=.5)\n",
    "    plt.hist (\n",
    "        df_full.loc [:, (\n",
    "            df_full.columns.str.contains (metal) & df_full.columns.str.contains ('secondary_cleaner.output.tail')\n",
    "        )], bins=100, label = 'отвальные хвосты после вторичной отчистки', alpha=.5)\n",
    "    plt.hist (\n",
    "        df_full.loc [:, (\n",
    "            df_full.columns.str.contains (metal) & df_full.columns.str.contains ('primary_cleaner.output.concentrate')\n",
    "        )], bins=100, label = 'продукт после первичной очистки', alpha=.5)\n",
    "    plt.hist (\n",
    "        df_full.loc [:, (\n",
    "            df_full.columns.str.contains (metal) & df_full.columns.str.contains ('rougher.output.concentrate')\n",
    "        )], bins=100, label = 'продукт после флотации', alpha=.5)\n",
    "    plt.hist (\n",
    "        df_full.loc [:, (\n",
    "            df_full.columns.str.contains (metal) & df_full.columns.str.contains ('rougher.input.feed')\n",
    "        )], bins=100, label = 'исходное сырье', alpha=.5)\n",
    "    \n",
    "    plt.xlim ([0, x_lim])\n",
    "    plt.ylim ([0, y_lim])\n",
    "\n",
    "    plt.xlabel (f'Концентрация {metal} на выходе')\n",
    "    plt.ylabel ('Частота')\n",
    "\n",
    "    plt.legend (loc = 'upper left', fontsize = 'x-large')\n",
    "\n",
    "    plt.title (f'Гистограмма распределения концентрации {metal}')\n",
    "    plt.show ()"
   ]
  },
  {
   "cell_type": "markdown",
   "metadata": {},
   "source": [
    "Концентрация золота на различных этапах очистки"
   ]
  },
  {
   "cell_type": "code",
   "execution_count": 25,
   "metadata": {},
   "outputs": [
    {
     "data": {
      "image/png": "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\n",
      "text/plain": [
       "<Figure size 864x648 with 1 Axes>"
      ]
     },
     "metadata": {
      "needs_background": "light"
     },
     "output_type": "display_data"
    }
   ],
   "source": [
    "display_graf ('au', 55, 2200)"
   ]
  },
  {
   "cell_type": "markdown",
   "metadata": {},
   "source": [
    "Концентрация серебра на различных этапах очистки"
   ]
  },
  {
   "cell_type": "code",
   "execution_count": 26,
   "metadata": {},
   "outputs": [
    {
     "data": {
      "image/png": "iVBORw0KGgoAAAANSUhEUgAAAuAAAAImCAYAAAASbz+gAAAAOXRFWHRTb2Z0d2FyZQBNYXRwbG90bGliIHZlcnNpb24zLjMuNCwgaHR0cHM6Ly9tYXRwbG90bGliLm9yZy8QVMy6AAAACXBIWXMAAAsTAAALEwEAmpwYAABx/UlEQVR4nO3de5xN9f7H8fenYdzGuOSSkMGohOowKhWmFDl1ukeRUkQppZRQTojuHeR2ogulTiVdpLsiOZLbb3JNLk01LhHilNvg+/tjr9ntPbP3XJjZey6v5+OxH/b6ru/6fj9r7TXjs7/zXWuZc04AAAAAIuO4aAcAAAAAlCQk4AAAAEAEkYADAAAAEUQCDgAAAEQQCTgAAAAQQSTgAAAAQASRgAMAAAARRAIOFFFmlmpm+8zsj4DXkGjHBQAAslcq2gEAOCb/cM7NjnYQAAAg9xgBB4ohM5tiZiMClj8yM2dmpbzlqmb2spltNrNdZvaeV/67N5K+38wOB4ysd/XWX25mq7x6c82scUAfmUfkF3jlQ83sbTN708z+Z2bLzOyMgO0GmtkGb91qM7sqYF13L+57A8r+7pWN8JaTveUxAXVO88qmBZRNN7OtZrbbzOaZWZNsjt9cM3vczBaZ2R4ze9/MquamLTMrZ2bPmtlP3vr5XlmCF1PgXyzSzWxowH6kmdlgM/vNO55dA9otY2bPmNnPZvarmf3bzMoFrC/ltf9nQNuB58CpZva5me00s7Vm1inTPg/1tvnDayPwfDnRzGaY2XYz+9HM7s603bQQcSR4yzmdi43N7L/ecf7DO++6h/lc/G2Z2fHe+XJHwPrbzGy9t48zzezEgHXOzBIDlkeY2RTvfUJgTF7ZtIzPJqfjF2IfE83Mee8HBHzeR+yvn5FVAdv+22v7f2b2lZnVC2hrjJn94h2fpWbWOg/HvruZzQ9YP8Bbf1GY7SdkPk6Zjv8tZrbGi3OjmfXOtH6AmW0x3++Vntm1BZR0JOBAMWdmF0g6PVPxq5LKS2oiqYakUZLknKvsnIuTdLukb5xzcd7rNTM7WdJ/JPWTVF3SR5I+MLPYgHb/EbDNuQHlV0iaLqmqpNclvWdmpb11GyS1llRJ0jBJ08ysVsC26yXdHLDcU9KaTPuzXVJHMyuTTZ2PJTXy9neZpNeUvZsk3SqplqRDkp7LZVvPSGoh6VxvfwdIOhKwvnLGMZL0ZqY+T5BUTVJt+fZ5kpmd4q17QtLJks6UlOjV+WfAtub9e5rXtj8mM6sg6XP5jn0NSddLmmBmpwVsf5ykN7xtA79QHCfpA0nfeX22k9TPzDooj8Kci4/I91lV9fr+JhftxMn3GbzunJvolV0o6XFJneT7zH6S9EZeYwzTX26OX0jOuacCPu+f9dfPSOAXwK6SHpXvs09R8Pm0WL7PPONnZ7qZlT2Kfagq6W5Jv4dZf7Kkjjk0s03SZZLiJd0iaZSZNfe2v0TSfZIuku/8TM5rjEBJQgIOFGNmZpKeUkCi5iW3HSXd7pzb5ZxLd859lYvmOkv60Dn3uXMuXb5Es5x8iWZOljrn3va2+5ekspLOkSTn3HTn3Gbn3BHn3JuS1kk6K2DbXyWlmlkrM6spqZ6kRZnaPyjfF4KrvS8EHSW9F1jBOfeSc+5/zrkDkoZKOsPMKmUT86vOuZXOuT8lDZHUycxismvLS1ZvlXSPc26Tc+6wc26BVy+3hjjnDnifyYdevyapl6R7nXM7nXP/k/SYfIlghozR8IMh2rxMUqpz7mXn3CHn3P9JmiHpuoA6sWG2bSmpunNuuHPuoHNuo6TJmfrOUahzMUCMcv//URn5Pts1zrkRAeVdJb3knFvmHe9BklpljAYfo9wcv2PxoXNunhf3Q/LFXVeSnHPTnHM7vH6flW//T8musTAGS3pJ0u4w6x+T70tAWM65D51zG5zPV5I+k+/Ls+T74vOyc26Vc26vfD8XAMIgAQeKt06SfpP0ZUBZXUk7nXO78tjWifKNKkqSnHNHJP0i36hoTn7JtF2a157M7CYzSzHftJbfJTWVbyQw0AvyjWrfLOmVMH28IKmHpCslfaKAZNLMYszsCfNNddkjKdVblbmfkDHLt9+lJVXLoa1q8n252JBNu9nZ5SX8gf2eKN9fHMpLWhpwnD7xyjOcIN9I+44Q7daTdHbGtt72Xb1tMlSVFOqcqCfpxEzbDpZUM6BOp4B1v4XZt1DnouRLOBtI2uttf06Y7TPcKamCpHMtYAqOsp6ff8h3LALPz2UBcd6fQz+BcnP87g9YtywPbUvBPx9/SNqpv34+7vemfez22q6k7M/bLLwpLZ0kPR1m/TnyJfVTc2ino5ktNN80nN8l/T0glhMV/DPzS+btAfyFBBwovkrLN6L1YKbyXyRVNbPKeWxvs3yJiCT/iGZdSZtysW3dgO2Ok1RH0mYvMZgs6S5JxzvnKktaqb+mU2T4WNJ58iXgr4bqwDm3Ur4k9WH5kvFAXeSbBnORfAlMQkY4uYlZ0kmS0uVLILNr6zdJ+yU1zKbd7FTxpjsE9rvZa3efpCbeNKHKzrlK3rSGDH+T9L1zLtQo9i+SvgrYNmMazB0BdU6W9EOYbX/MtG1F59zfA+q8lbFOoZPDcOeinHMb5Jve8ry3/cIQ2wdaIN+o62JJIwPKM5+fFSQdr+Dzs3lAnM/k0E+g3By/ZwLabp6HtqXgn484+b4Mbfbmew+QL3mu4rW9W9mft6E8Kukp7y8noTwlaZBz7nC4BrzpXTPkO241vVg+Cohli3w/11n2CUBWJOBA8dVN0gLn3PLAQufcFvkS2glmVsXMSptZm1y095akS82snTd/u7+kA/IlRDlpYWZXm+8it37edgvlG8l08s3hlpndIt8IeBAvMXhS0jTn3M5s+nlM0mzn3KpM5RW9PnfIl6Q/louYbzTfxZzlJQ2X9LYXR9i2vNH9lyT9y3wXLsZ4U2fKhGg/nGFmFuslX5dJmu61O1m+Obc1JMnMamfMw/am3dwu3xz9UGZJOtnMunmfd2kza2m+CyDNzK6QlCTfeZHZIkn/M7MHzXcxaYyZNTWzlnnYp5Dnohf7OfL91WJQLtta6Jw7JN985hvMrJVX/h9Jt5jZmd7xfkzSt8651DzEGU7Y45cPbUvS383sfO9zfFS+ffxFvnPtkHw/H6XM7J/yzb/Oi0RJZ0t6Psz6CyUdcc7NyqGdWPmmv2yXdMjMOkpqH7D+LfmOf2PvZ4ZbogLZIAEHiq8qCv+fYDf5RnS/l+/Cqn45NeacWyvpRklj5RuR/Yd8F5SFGnHN7H355pDv8vq+2pt7vlrSs/JdePerpGaS/hum/5edc4/nEOMs59x9IVa9It/0hE2SVivnUVbJN9I+RdJW+aaVZNz5I6e27pe0Qr4R2p3yfXHI7e/arfIdo83yXYh3u3Pue2/dg/JdkLrQm/oyW3/NBZ4l30Vvg82744Z8UyQGmFlrb+SzvXzztjd7/TwpX0J1iaQRkrp6SV8Q70vHZfJdCPijfJ/9C/KN/udWyHPR+yI3Wb4583vy0J6cc79J6ivpJTMr43y34xwi3yjtFvn+CpGneeryXWuQZmZpkq6SdJ+ZXZfD8csPr8t3MepO+S7gvdEr/1S+qUY/yHfO7VfWqR1XBcSc6pUFXshaU9LD3vUXodSSb5Q9W94xuFu+RHuXfH8Jmhmw/mP5LlSeI+889Vbl5foHoMQw51y0YwBQjJnvVm6Jzrkbc6pbWJjZXPlG2zNPZSnIPpO9PuvkUDXUtnMldc882mtmD0ua75ybe+wRljzeuZvqnJtSgH1MkZTmnHs4H9tMdc4l5Fd7RxlDY/mmk5Xx/mIBIAAj4ABQ9G2Xb6pCZnvECOSx2CjfiHdRMz/nKvnPzK4y3/3qq8j3F4IPSL6B0HgSJgAUcc65kLfDc849F6ocueOcC3fHnUItin9t6i3ftK3Dkr6S1CdKcQCFHlNQAAAAgAhiCgoAAAAQQSTgAAAAQAQVyzng1apVcwkJCdEOAwAAAMXc0qVLf3POVc+55l+KZQKekJCgJUuWRDsMAAAAFHNm9lNet2EKCgAAABBBJOAAAABABJGAAwAAABFEAg4AAABEEAk4AAAAEEHF8i4oubFnzx5t27ZN6enp0Q4FAFAIlS5dWjVq1FB8fHy0QwFQzJTIBHzPnj369ddfVbt2bZUrV05mFu2QAACFiHNO+/bt06ZNmySJJBxAviqRU1C2bdum2rVrq3z58iTfAIAszEzly5dX7dq1tW3btmiHA6CYKZEJeHp6usqVKxftMAAAhVy5cuWYqggg35XIBFwSI98AgBzxfwWAglBiE3AAAAAgGkrkRZihjPr8h4j3ee/FJ0e8z5Ls2muvVevWrXXPPffoueee0y+//KKnn3462mEBAIAShgS8iOvZs6fWr1+vuXPnRjuUQu+ee+7RFVdcofvvv1+1atXSF198Ee2QAABACUQCjhKjdevW+vXXX7V9+3bVrFlTMTEx0Q4JAACUQAU2B9zMXjKzbWa2MqDsaTP73syWm9m7ZlY5YN0gM1tvZmvNrENA+SVe2XozG1hQ8RYVv/32my655BKVK1dOl156qfbu3SvnnHr16qXy5cvrb3/7m1asWOGvP3ToUCUmJga1cf7558vM/KPmc+fOlZkpLS0tqF5ycrJ69uzpX3799dd19tlnq1KlSqpWrZouvfRS/fBD1qk7ycnJMrOgV2A7ZqZp06aF3cdQMWfeLjU1VWam+fPnh2zjoosuUvfu3f3LCQkJGjFihEqXLq0TTzxRP/zwg0qXLq2EhISwcWT0GeoVGF/37t110UUXadSoUf7bW1533XXauXOnv45zTs8884waNGig2NhYNWzYUKNHj87S37Rp00L2l/HZdO/eXe3bt8+y3YUXXqgePXqEPH6//PKL6tevr169esk5p+7du4fdr5yOBwAAOHYFeRHmFEmXZCr7XFJT59zpkn6QNEiSzOw0SddLauJtM8HMYswsRtJ4SR0lnSbpBq9uiXX33XcrLS1NX3/9tbp3766ZM2dqwYIFOu2007R06VLVq1dP1157rY4cORJy+zfeeEPLly8/qr4PHDighx9+WMuWLdPnn3+umJgYXXrppTp48GBQPeecunTpoi1btmjLli1q1arVUfVXkO67775c34py3Lhx/n3ZsmWL+vfvn6XOokWLNGfOHH3yySf66KOPlJKS4k+IJWnChAkaMmSIBg4cqFWrVumBBx7QwIED9eKLL4bsM6OvGTNmBJX37t1bs2fP1o8//ugvy5iC1KtXryztbN68WRdeeKHatGmj559/XmamMWPGBO1Lq1at/MuLFy/O1TEBAABHr8CmoDjn5plZQqayzwIWF0q61nt/haQ3nHMHJP1oZuslneWtW++c2yhJZvaGV3d1QcVdmO3evVtvvfWWpk+frqSkJCUlJenDDz/U+vXr1a9fP0nSxIkTVbt2bX3xxRe6+OKLg7bfv3+/HnzwQQ0ePFiDBg3Kc/+33HJL0PKUKVN0/PHHa/HixTrvvPP85enp6YqPj9cJJ5wgSYqNjc1zXwXpo48+0pIlS9SrVy+9/fbbOdavVKmSf18kKS4uLkudI0eO6NVXX1WlSpUkSePHj1eHDh20fv16JSYm6oknnlDfvn39SXKjRo20du1ajRw5MihRP3DggEqVKuXvr2rVqkH9tGrVSk2bNtWLL76oESNGSJJefPFFNWvWTGeffXZQ3W3btqldu3Zq0aKFXnrpJf/t1CpVquSPMy4uTrGxsUH7BwAAClY0b0N4q6SPvfe1Jf0SsC7NKwtXnoWZ9TKzJWa2ZPv27QUQbvT9+OOPOnz4sE477a8/ApQqVUqlSv31PapWrVqqWrVqyKkhzzzzjGrVqqWuXbuGbP+UU05RXFyc//X1118HrU9JSdFVV12l+vXrq2LFijrppJMkST/99FNQvd27d6tChQrZ7kvPnj0VFxen6tWr69xzz9UHH3wQtH7jxo1BsYRKeiWpffv2iouL0wknnKB27drpv//9b7b9Hjp0SP3799ewYcNUuXLlbOvmxWmnneZPaiX5v5CsXr1ae/bsUVpamtq0aRO0Tdu2bZWamqq9e/f6y3bs2JHjI6979+6tl19+WYcPH9ahQ4c0ZcoU3XbbbUF1/vzzT1100UX6/vvv1aFDB+a7AwBQiEQlATezhyQdkvRafrXpnJvknEtyziVVr149v5otVJxzR113y5YtevLJJzVq1KiwD5b49NNPlZKS4n8lJSX51+3du1ft27eXmenll1/WokWLtHjxYplZlikomzZtUu3aIb8n+Y0cOVIpKSn68ssv1bJlS11zzTXauHGjf33dunWDYklJSQnZzssvv6yUlBR9/PHHql69ui699FL98ccfYfudMGGCYmJi1Lt372zji5aNGzeqYcOG2dbp1q2bdu/erQ8//FCzZs3S7t27deONNwbV2bp1q0466SRNnDhR/fr1088//1yQYQMAgDyI+F1QzKy7pMsktXN/ZYmbJNUNqFbHK1M25SVO/fr1ddxxx2n16tU65ZRTJPlGdA8dOuSvs2XLFu3cuVONGjUK2nbQoEG6/PLL1apVqywXW2ZISEhQnTp1/MuBc6TXrFmj7du3a+TIkWrcuLEkacGCBVkS/TVr1mj37t1q3rx5tvtSs2ZN/4WCI0eO1HPPPacVK1aoQYMGkqTSpUuHvBAzs9q1a/vrPfzww3rzzTe1YcOGkHV37typUaNG6Y033sj3EeE1a9Zoz549/tHrBQsWSPKNjMfHx6tOnTqaN2+eLrvsMv82X331lerXr6/y5csHlQXWCSU+Pl7XX3+9Jk+erCNHjui6667LMpp/wgknaMaMGSpTpow+/vhj3Xzzzfryyy95qh8AAIVARBNwM7tE0gBJbZ1zewNWzZT0upn9S9KJkhpJWiTJJDUys/ryJd7XS+oSyZgLk8qVK+vqq6/WkCFDVLduXf3444+aMWOGDhw4oNGjR6tDhw4aNGiQGjRooIsuusi/3ZYtW/T2229rzZo1R913vXr1VKZMGY0dO1b9+/dXamqqBg4cGJTQffPNN+rbt69OPfVUnX/++dm2l56erv3792vfvn2aNGmSYmJigqbW5NbBgwe1f/9+/e9//9OkSZNUoUIF1a9fP2TdSZMm6YILLsgyNz4/mJluuukmjRgxQjt37tSdd96pyy+/3P/lYNCgQerfv78aNWqk5ORkffnll5o4caLGjx8vSdq3b59efPFFrV27VpMnT9bWrVslyX8nle3btwd9Oerdu7f/4tavvvoqSzwVKlRQmTJl/PvdrFkzjRo1Svfdd1++7zsAAMibAkvAzew/kpIlVTOzNEmPyHfXkzKSPvcSt4XOududc6vM7C35Lq48JOlO59xhr527JH0qKUbSS865VQUVc1Ewbtw4devWTeeff74uuugi/eMf/9CmTZu0Zs0aDRo0SCeffLLefvvtoBHevXv36p///Kfq1q2bTcvZq1atmqZNm6ZBgwbppZdeUuPGjTV69Gi1a9fOX6d379467bTT9Mwzz+Q4wnzrrbfq1ltvVdmyZdWoUSO99tprWUbtcyOj/woVKqhp06Z6//33w86hPnjwoJ599tk895EbZ511ls4//3xdfPHF2r17tzp27KhJkyb5199xxx36888/9dhjj6lPnz6qW7eunnjiCf8FmG+++ab69u0ryXe/8syaN28e9NeGli1bqlmzZjp48GDQBbCh1KxZU5MmTdINN9ygDh06qEmTJvmxywAA4ChZXuYVFxVJSUluyZIlYdevWbPGP42iqONJmNHXvXt3paWlafbs2UfdxpQpUzR37lxNmTIl5Po6deoETR1KT09XQkKCBgwYoHvuueeo+wWQs+L0fwaA/GdmS51zSTnX/AtPwgQKgXLlygXdRSWzGjVqSPLd7vC3337T888/rz///DPLrSEBAEDhRwIOFAKdO3dW586dw65ftmyZJOnnn39W/fr1VatWLb300ks53rIQAAAUPiTgRdwLL7wQ7RBKvHDTRgpCQkJCnm5HCQAACp9oPogHAAAAKHFIwAEAAIAIIgEHAAAAIogEHAAAAIggEnAAAAAggkjAAQAAgAgiAQeAYqJGjRr6v//7Px06dEidO3fWhx9+GO2QAAAhcB/wDHMej3yfFwyKfJ8Aiq3BgwfrrLPOkiSde+65uuiii6IcEQAgFEbAAaCY6Nevn37//XelpaXpq6++UpkyZaIdEgAgBBLwIiY9PV0DBw5U7dq1FRsbq9NOO02vv/66f31CQoLMLOSre/fukqTk5GR/WWxsrBo1aqRx48b523DO6bbbblPDhg1Vrlw5NWjQQIMHD9aBAweCYklNTQ3Zz/z58yX5nhBZqlT2f2RJSEjQiBEjgsoybzd06FAlJiaG3D4tLU1mprlz5/rL1q9fr2uuuUaVK1dWlSpV1L59e61YsSJsDDt37lTdunV1zz33+Mu2bdumWrVqafDgwZKkuXPnBu1jlSpVdOmll+rnn3/2b5PTZyNJf/zxh/r166e6deuqTJkySkhI0GOPPSZJYT83M9PQoUPDHq8MI0aMUEJCQtj9zK6PwOPrnNMzzzyjBg0aKDY2Vg0bNtTo0aOD2jl06JCGDRumhg0bqkyZMqpdu7b69u0bVKd79+5Z+gkckU1PT9fQoUNVv359lS1bVk2aNNHzzz+fbfxTpkzxt3XcccepevXq6tKli37//XdJwed25ldycnKu9y8hIUEPPfSQevbsqfj4eFWrVk2DBw/WkSNHguoEfhZr1qxR6dKlgz6DzHUyn68Z51VaWlpQ/8nJyerZs6d/+X//+5969+6t6tWrq0yZMkpKStJnn33mX5/xszh//nxVqFBBNWvW1OTJk4N+7sNZuHCh2rRpo3LlyqlKlSrq0qWLtm3bluV4h3qlpqaG/Pm86KKLgvrNzbGSpDfffFMtWrRQ2bJldfzxx6tjx47atWtXyHMp45XRRuY4fvnlF9WvX1+9evXyPz0283Hdvn27KleuLDPL9hgBQH4jAS9iBg8erMmTJ2v06NFauXKlbrzxRt1444364osvJEmLFy/Wli1btGXLFrVq1Ur9+/f3L48ZM8bfTpcuXbRlyxatW7dOXbt2Vd++fbV+/XpJvgSlRo0aev3117VmzRqNHj1aL7/8sj9RzJDxn9r777+vLVu2aNGiRRE6CuH9+uuvOv/881WjRg19/fXXWrhwoU455RQlJydr+/btIbepWrWqXnvtNU2YMEEffPCBnHPq1q2b6tevr+HDhwfVXbZsmbZs2aJPP/1Ua9eu9SfoUs6fjXNOl112mWbOnKmxY8dqzZo1euWVV1S9enVJ8n9OW7ZsUZ06dTR69Gj/8v33359vx2jcuHFBffXv3z9o/YQJEzRkyBANHDhQq1at0gMPPKCBAwfqxRdf9Nfp0aOHxo8fr6FDh2r16tWaMWOGGjRoENSOc06tW7f299OpU6eg9bfddpveeecdPf/881qzZo3++c9/6sEHHwzqJ5SYmBht2bJFmzZt0ltvvaVPP/1UzzzzjCTpnXfeCeqvU6dO/uV33nkn1/snSWPHjtWJJ56oxYsXa9SoURozZozGjh0bNq777rtP5cqVyzb2o3Xrrbfq008/1bRp05SSkqLzzjtPl112mb7//vuQ9ffs2aOHH35YFStWzLbdrVu3qn379qpTp44WLVqkDz74QCtXrtS1114rSercubP/+M2YMUNS8Hlat27do9qfUMfq5Zdf1o033qgrr7xSy5Yt05w5c3TJJZfo8OHDGjNmTND52qpVK//y4sWLs7S/efNmXXjhhWrTpo2ef/75sAn2kCFDgr5UAUCkMAe8CNm7d6+ee+45jRo1Stddd50kX9K3ePFijRw5Uu3atfMnc5IUGxuruLg4nXDCCVnaKleunE444QQ551SnTh2VLl1a5cuXlyQdd9xxGjlypL9uQkKCNmzYoAkTJmjYsGH+8vT0dElSzZo1dcIJJ2j//v0Fst95MXHiRCUkJGjixIn+sueee04fffSRXnvtNfXr1y/kdm3atNHDDz+sW265RTfffLMWLVqklJSULCP41atX1wknnKCYmBjFxcWpcuXKknL32Xz55Zf66quvtHjxYiUlJUmSGjRooDZt2khS0OcUExOjSpUqhfzsjlXmduPi4oLWP/HEE+rbt6969eolSWrUqJHWrl2rkSNHqkePHlq/fr1eeeUVTZ8+3Z+oNWzYUOecc05QO+np6apQoYK/r8CE68cff9Qrr7yi1atX69RTT5Uk1a9fX2vXrtXYsWPVo0ePbPcho80DBw6obNmy/s+hatWq/joZ/WU+hjntX4YzzjjD/wXslFNO0Zo1a/TMM88E/aUkw0cffaQlS5aoV69eevvtt4Ni2LdvX7b7kpP169fr7bff1ocffqgOHTpIksaMGaOvv/5aTz31lF566aUs24wYMULNmjXLse3x48crPj5eU6ZMUWxsrCTp1Vdf1Zlnnql58+b5R8alv45t5uOZ130Md6weeeQR9e7dW0OGDPGXnX766f73lSpVkuQ7X2NjY8P+bGzbtk3t2rVTixYt9NJLL4VNvlesWKFXX31VAwYM8P+FCQAihRHwImT9+vU6ePCgP2HL0LZtW61atSpPbU2dOlVxcXEqU6aM+vbtq3//+9868cQT/esnT56ss88+WzVr1lRcXJwGDRqkn376KaiN3bt3S5IqVKgQtp/Dhw8rLi5OFStWVL169dSlS5csf25/9NFHFRcX53/dfvvtWdrZuHGjv52GDRuqd+/e/mkHgRYvXqylS5cGtVexYkWlpqZq3bp12R6TIUOG6OSTT9a//vUv/fvf/1a9evWy1DnllFMUFxenGjVqKDY21v9n9dx8NkuXLlWVKlX8yffRyjheVatWVfPmzfXyyy8fU3uB9uzZo7S0tJD7kZqaqr1792rZsmWSpPbt22fb1u7du8OeG0uWLJFzTklJSUGf1WOPPZbj55RxTlWoUEH169fXmWeeGTIpPtr9y9CqVaugOuedd57S0tK0Z8+eoPJDhw6pf//+GjZsmP+LQIZmzZrpgw8+CHmuBso4rzJeX3/9tX/d6tWrJSlLzG3atAn5c79x40aNHz9eo0aNyrZPSVq1apXOOeccf/It+b54VKpUKde/U5o1a6bNmzf7/9KTnXDHatu2bfrll19yPKdy8ueff+qiiy7S999/rw4dOigmJiZs3fvuu0933nmnGjZseEx9AsDRIAEvoa666iqlpKRo+fLlGjt2rPr27at58+ZJkqZPn64777xTnTt31kcffaT/+7//0z//+U//iHeGjES6du3aYfuJiYlRSkqK/u///k+vvPKKVq1apZtvvjmozp133qmUlBT/K/O0D0mqW7euUlJStGzZMo0bN04ff/xxlqkTknTkyBG1a9cuqL2UlBStXbs2x1GuLVu26IcfflBMTIx++OGHkHU+/fRTpaSk6JtvvlHFihXVuXPnbNssCBnH6+uvv9Z1112nW2+9NShhKyzS0tLCnhsZf/ZfsGBB0Oe0cuVKLV++PNt2M86p7777TnPmzNGmTZt011135Xv8uTVhwgTFxMSod+/eWdaNHDlS+/fv1/HHH6+4uDidcsopIdvIOK8yXsfyJe3+++9Xt27dcjUCnh86duyo7t2766KLLlKFChUUFxcXdE1GoOyOVX7YunWrTjrpJE2cOFH9+vULukYj0MyZM7V8+XI9/PDDBRIHAOSEBLwISUxMVJkyZfyJcoavvvpKTZs2zVNb8fHxSkxM1KmnnqqePXuqcePGevfddyVJ8+bN09/+9jfdd999atGihRo1aqTU1NQsbSxcuFAJCQmqUqVKjnEnJiaqbdu2uu222/wjqBmqVq3qr5OYmKgaNWpkaaN06dJKTExUo0aN1LFjR3Xq1ClLO5KUlJSkVatWqU6dOkFtJiYmBk3PyezIkSPq2rWrzjjjDL355psaPny4FixYkKVeQkKCEhMTdc455+jee+/VZ599pt27d+fqs2nRooV27dqlJUuWZHu8cpJxvJo0aaJBgwbp+OOPD3ksjkZ8fLzq1KkTcj/q16+v8uXLq3nz5pIUdBFgZrt379b333/vr5tZixYtJEk///xzls8pNyOSGXUzLqp766238m3/MixcuDCozoIFC1S7dm3Fx8f7y3bu3Klhw4Zp1KhRIUdbGzVqpB9++EGpqalKSUnRp59+GjKujPMq4xU4XadJkyaSlCXmefPmZfm5nzt3rr788ks9+uij2R2GoLYXLlyogwcP+su+++477d69O9e/U8xML7/8snbt2qXvvvtOKSkpOvvss7PUy+5Y1ahRQ3Xq1Mn2nMqNE044QTNmzNDtt9+u5ORk3Xzzzf5rVTKkp6fr/vvv14gRI4I+SwCIJOaAFyHly5fX3XffrSFDhqh69eo644wz9Pbbb+v999/X559/nqe29u3bp61bt+rQoUP65ptvtHLlSv+c2FNOOUUvvvii3n//fTVt2lSzZs3yX8CWse3rr7+uMWPG6J///GeOfWXMDc+4aO5oRuacc9q/f7+cc9qwYYM+/PBDtWzZMku9u+66Sy+++KKuuOIKPfzww6pbt67S0tL08ccf69JLL9W5554bsv2RI0dq1apV+u6773TiiSeqV69e6tKli1JSUoL+VL59+3aVKlVKO3bs0PPPP68TTzzRPzc1p8/mwgsvVOvWrdW5c2f961//0umnn67NmzdrzZo1QXdmyMmhQ4e0f/9+HTx4UDNnztTOnTvVrFmzkF8YjsagQYPUv39/NWrUSMnJyfryyy81ceJEjR8/XpIv+e3atav69Omj/fv3q1WrVtq5c6cWLFige+65RytWrNADDzygSpUq6YorrgjZR2Jiom699Vbddttteuqpp9SqVSv9+eefWrp0qbZv364HH3ww2xi3bt0qyXex3bRp09S4ceN8278MKSkpGjp0qLp06aIlS5ZozJgxWRLbSZMm6YILLtDFF1+cbZ8ZFyuWLVs213FmaNiwoa677jr16dNHzz//vOrVq6eJEydq5cqVWe6y88QTT2jYsGHZftkMdNddd2nMmDHq3r27Bg8erN9//119+vRR69at1bp16zzFWblyZf/PSqiLUXM6Vo888ojuuOMO1axZU9dee62OHDmiOXPm6Prrr1e1atVyFUOFChX8t16cNGmSmjVrplGjRum+++7z15kxY4YSExNzvM4AAAoSCXgRM3LkSB133HHq16+ftm/frsTERE2bNk3t2rXLUzuvv/66Xn/9dcXExKhOnTp64IEH/Elg7969tWLFCt1yyy06dOiQLrvsMg0dOtR/m7lvvvnG/x/9Aw88kG0/hw8fDrqI67zzzstyy7fc2Lhxo8qVKyczU/Xq1XXxxRfrX//6V5YLP2vWrKlvvvlGgwcP1tVXX609e/bohBNOUOvWrVWrVq2QbS9YsEDDhw/XO++8458H/+yzz2r+/Pnq1atX0OhqxohufHy8WrRooZkzZ/rX5fTZmJk+/PBDDR48WLfffrt27Nih2rVr5/nP8cOGDdOwYcMUGxurhIQEjRkzRhdeeGG+JeB33HGH/vzzTz322GPq06eP6tatqyeeeCIoYXn55Zc1fPhwPfzww9q8ebNq1KjhvyDzwQcfVKlSpTRnzpwsc6IDTZo0Sc8++6xGjhypjRs3Kj4+Xk2aNMlxOsnhw4f9n2XGOZWb+c552T9J6tu3r3766SclJSWpdOnSuuuuu7LMNT948KCeffbZXPd9tF544QU98MADuvHGG7Vnzx41a9ZMs2bN8l/AmqFWrVpZbgeZnZo1a+qzzz7TgAED1LJlS5UpU0Z///vfj+pnNCc5HauePXuqXLlyeuqppzRixAjFxcXpnHPO0Y033nhU/dWsWVOTJk3SDTfcoA4dOvj/kvDnn39q1KhROu44/gAMIHos85/nioOkpCSX3Z/516xZk6cRMwAlS0JCgnr27MkcYUji/wwA2TOzpc65PF28wxAAAAAAEEEk4AAAAEAEMQccADIJddcfAADyCyPgAAAAQASRgAMAAAARRAIOAAAARBAJOAAAABBBJOAAAABABJGAAwAAABFEAg4AAABEEPcB90xImRDxPvuc2SfifQJFyaxZs/T444/r888/144dO3TBBRdo/fr10Q4LAIBjwgg4gELr4osvlpkpPj5eDRs21D333BPtkAAAOGaMgAMotMqUKaP58+fr119/VVxcnCpUqBDtkAAAOGaMgBcxycnJMrOQr7S0NEnSlClTVKpUKc2ePVtNmjRR2bJldfbZZyslJSWorY8++kgtWrRQmTJlVKNGDfXp00d//vlnUJ20tLSQfU2bNs3fV+XKlbV3796g7YYPH65GjRrJOae5c+cGxXfw4EFdeumlSkpK0u7duzVlypSw+2RmYR8L3r1797DbzJ8/319v4cKFatOmjcqVK6cqVaqoS5cu2rZtW1Bbs2fPVuvWrVW+fHlVqlRJbdu21YYNG/zrM/Yh3DGXpM8//1znnXeeypUrp9q1a+uWW27Rjh07sv08w8WfmJgYVO+NN97QmWeeqbJlyyohIUH33Xdf0GeVnJysW2+9VQMHDlS1atUUHx+vXr16af/+/UF1MtqPjY1Vo0aNNG7cuCz7GLhPDz30kMxMQ4cODVtnxIgRSkhICPpcLrrooqD4U1NT8/y5DB061H8catasqQoVKuj888+XmWnu3Llhj6lzTs8884waNGig2NhYNWzYUKNHj842lmnTpsnMQvadIVTfGzZs0LXXXquqVauqfPnyOv300zVr1qyw50vGa+7cuVnicM6pV69eatCggX755RdJf/0sB+ratavMTFOmTAl7DAAAhRsJeBHUpUsXbdmyxf+aMWNGljpHjhzRgAEDNGHCBC1atEjVq1fXpZdeqn379kmSli9frssvv1xt2rTRd999p6lTp2rWrFm6/fbbQ/Y5Y8YMf3+BOnfuLDPT9OnTg/p+6aWX1LNnz6CkRpIOHTqkTp06KS0tTZ999pkqVaqkzp07Z9mXwP2rW7du2GPRunXroLqLFi0KWr9161a1b99ederU0aJFi/TBBx9o5cqVuvbaa/11Zs+erQ4dOqhFixb65ptv9O233+qmm25Senq6v45zTpK0bNmykMf8yy+/1BVXXKHrr79ey5cv13vvvafU1FRdffXV/m3DGTduXNA+9O/fP2j9lClTdMcdd6h///5avXq1XnnlFc2ePTvLZ/X2229rx44d+vrrr/Xaa6/pvffe06BBg4LqZJw769atU9euXdW3b9+wc6pTU1M1evRolS9fPtv4j0ZuPpfM3njjDS1fvjzHtidMmKAhQ4Zo4MCBWrVqlR544AENHDhQL7744lHHG6rvrVu36txzz9Xvv/+umTNnasWKFXr00Ud13HHH6dxzz81yTi5atMhfdu6552bpo2/fvvrkk0/05Zdfhj3nFy5cqJkzZ2b5uQIAFC1MQSmCypUrpxNOOMG/XLVq1Sx1nHN6+umn1bZtW0nSq6++qrp16+r1119Xjx499PTTT6t58+YaNWqUJOnUU0/V2LFjddVVV2nEiBGqV6+eJOnAgQOSfCOQgX0GxtKtWzdNnjxZN998syTfSPDmzZt1yy23BNU9fPiwunTponXr1mnu3Ln+uMuVK6dy5coF7UuovkKJjY0Nqhs44itJ48ePV3x8vKZMmaLY2Fj/sTjzzDM1b948tWnTRsOGDVPHjh2DRklPPfXUoHYykvETTzxRNWvWzHLMhw8frrvvvlt9+/b1l02dOlX16tXTd999pzPPPDPsPlSqVCloH+Li4oLWDx06VI8//ri6desmSWrQoIHGjRuntm3b6rnnnlOVKlUk+Y7dv//9b8XExKhx48YaMWKE7r77bo0YMcI/dSPj3HHOqU6dOipdunTYBHvAgAG64YYbgkZ8Mz6njC9yRys3n0ug/fv368EHH9TgwYOzfKnI7IknnlDfvn3Vq1cvSVKjRo20du1ajRw5Uj169MjzPoTre/z48TIzvf/++/7j27BhQ//6jM8045ysXr162PO6f//+eueddzRv3rygvyYEcs6pX79+evDBB/1/kQAAFE2MgBdjrVq18r+vUqWKGjdurFWrVkmSVq1alSXJadu2rZxzWr16tb8sYwpFfHx82H569+6t//73v1qzZo0kafLkybr88stVo0aNoHq33Xabpk+frqSkJFWvXv3Ydi6XVq1apXPOOcef5EnSGWecoUqVKvmPxdKlS9W+ffts29m9e7ckhZ2DvHjxYo0ePVpxcXH+12mnnSZJWrdu3VHHv337dv3000+67777gtru2LGjJAWNXp911lmKiYnxL5933nk6cOBA0FSaqVOnKi4uTmXKlFHfvn3173//WyeeeGKWfufPn69PP/1UI0eODCo/+eSTVaZMGU2bNi3bkf25c+cGxdukSZOg9bn5XAI988wzqlWrlrp27Rq2T0nas2eP0tLSQp7bqamp2rt3r2rWrKkaNWroP//5jw4fPpxte9n1vXTpUp177rnHPC99+PDh+te//qVTTjklKIHP7LXXXtOWLVt0//33H1N/AIDoYwQc2dq4caOOO+441a9fP2ydJk2a6Pzzz9fkyZM1cOBAzZw5U7NmzcpSb8OGDfrkk0905ZVX6qqrrtKVV15ZgJHnr7S0NMXHx2cZnc5w5MgRPfjgg/5R6kC5Hc0P164kjRkzRhdccEGW9XXq1MlTe1dddZUee+wxHTp0SPPnz1ffvn2VmJgYlLBmjLQOGjRINWvWDNq+SpUqGjNmjO6++249+eSTKlWqlNLT01WrVq2gemeffbamTp3qX960aZOSk5PzFGuGLVu26Mknn9Rnn32Wb1MvJk+erG7dumnatGmKjY3VoUOHItZ3ZsuWLdNnn32mLl26aMyYMerXr1+WOnv37tWgQYP09NNPq2zZsgUSBwAgchgBL8YWLlzof//7779rzZo1/lHZJk2aaN68eUH1v/rqK5lZ0GjlV199pebNm4dNPDP07t1br7zyiiZNmqTatWvr4osvzlLn3XffVYcOHTRy5Ej16tUry4WQBaFJkyZauHChDh486C/77rvvtHv3bjVt2lSS1KJFC3322WfZtrNw4UI1b9487PqkpCStWrVKiYmJWV45Hbvs1KxZU3Xr1tXatWtDth2YjC1evDhoRHfBggUqU6ZM0KhqfHy8EhMTdeqpp6pnz55q3Lix3n333aA+p06dqp07d+ree+8NGVPv3r21e/durVq1SikpKbrzzjuz1ClXrlxQnBlTmjLk5nPJMGjQIF1++eVBf9EJJz4+XnXq1Al5btevX98/3ebyyy/Xb7/9pu+//14pKSlZRvpz03eLFi20YMGCLBcu59VLL72kiy++WM8//7wGDRrk/0tSoKeeekr16tXT9ddff0x9AQAKBxLwYsrMNGDAAM2bN08rVqzQTTfdpIoVK6pLly6SpAceeEDLli3Tvffeq++//16ffPKJ+vbtq65du+qkk07S4cOHNW/ePE2bNk2dOnXS1q1b/S/JNyUjMHnKuHju0UcfDXnxpfTX/O57771XTZo00W233VbQh0F33XWX9uzZo+7du2vlypWaP3++unXrptatW6t169aSpCFDhujjjz9Wv379tHz5cq1du1ZTpkzR2rVr9fvvv+vJJ5/U9OnTs413+PDhev/993XfffcpJSXFP9rfo0ePY54vPXLkSD333HMaOXKkVq5cqbVr1+q9995T7969g+rt2LFDd955p9asWaMPP/xQQ4YMUe/evYOmSOzbt09bt25VWlqapk+frpUrV6px48ZB7TzxxBN6+umnVaZMmbAxlS1bVg0bNlRiYmLIaxBykpvPRfKNQL/99tt64oknct32oEGDNHbsWE2ePFnr1q3T888/r4kTJ2rw4MFB9UqXLq0GDRooMTExy0h/bvru06ePjhw5oiuuuEL//e9/9eOPP2rWrFn6+OOPcx2r9NfPxdVXX61OnTrpxhtvDLoA+MiRI3r22WeDrlEAABRtTEHxFLenUh533HF67LHH1Lt3b23cuFFnnHGGPvzwQ/8I4Omnn66ZM2dqyJAhmjBhguLj43XttdfqmWeekST98ssv/gs4BwwYoAEDBgS1f9ddd6lJkyb+aQVly5ZVt27dNG7cON16663ZxpZxC7XTTz9dL774onr06JHPe/+XmjVr6rPPPtOAAQPUsmVLlSlTRn//+9+Dkpn27dvro48+0tChQ/X8888rNjZWzZs3V5s2bfTee+/ptdde0+TJk/1fXkK54IIL9OWXX2rYsGFq3bq1jhw5opNOOkkdOnRQ6dKlj2kfunXrpooVK+rJJ5/UyJEjVapUKTVo0EBXX311UL1rr71WFStW1Pnnn6+DBw+qc+fOWZLH119/Xa+//rpiYmJUp04dPfDAA+rZs2dQnaSkJF1zzTXHFHNOcvO5SL6pF//85z+zvRNOZnfccYf+/PNPPfbYY+rTp4/q1q2rJ554Is/nWU5916pVS/Pnz9eDDz6ov//970pPT1ejRo30+OOP56mfQM8995xOP/10DR8+XI8++qgk35Sgq6++WklJSUfdLgCgcLGcbpFWFCUlJbklS5aEXb9mzZoso37FyZQpU9SzZ8+w81pzIzU1VcnJyWHvwX3jjTeqZ8+eQfN6O3XqpPT09CxTGlDwkpOTlZiYqBdeeCHaoQDFTnH/PwPAsTGzpc65PI2SMAKOkGJiYrK9U0nlypX9d7DYtWuXFi1apHfffVdffPFFpEIEAAAokkjAEVLdunW1ePHisOsDn6D4t7/9TTt27NCAAQOy3P4NAAAAwUjAi6Hu3bure/fuEesv3DQVRE52j2YHAACFC3dBAQAAACKIBBwAAACIIBJwAAAAIIJIwAEAAIAIIgEHAAAAIogEHAAAAIggbkPo2T52XM6V8ln1vndFvE8AAABEFyPgQCGSmJiooUOHRjsMAABQgEjAAQAAgAgiAS9ikpOTZWYhX2lpaZKkKVOmqFSpUpo9e7aaNGmismXL6uyzz1ZKSkpQWx999JFatGihMmXKqEaNGurTp4/+/PPPoDppaWkh+5o2bZq/r8qVK2vv3r1B2w0fPlyNGjWSc05z584Niu/gwYO69NJLlZSUpN27d2vKlClh98nMwj5ps3v37mG3mT9/vr/ewoUL1aZNG5UrV05VqlRRly5dtG3btqC2Zs+erdatW6t8+fKqVKmS2rZtqw0bNvjXZ+xDuGMuSZ9//rnOO+88lStXTrVr19Ytt9yiHTt2ZPt5LlmyRE2bNlWFChU0ePBgSdL27dv98V555ZXavXt30DahjlepUn/NJnPO6ZlnnlGDBg0UGxurhg0bavTo0f712Z1DycnJkqRly5apY8eOqlGjhuLi4tSyZUt98sknQXEkJCRoxIgRWWILjCXzZy9JDz30kMwsaKQ/8JzKOJaB8QAAUJyQgBdBXbp00ZYtW/yvGTNmZKlz5MgRDRgwQBMmTNCiRYtUvXp1XXrppdq3b58kafny5br88svVpk0bfffdd5o6dapmzZql22+/PWSfM2bM8PcXqHPnzjIzTZ8+Pajvl156ST179pSZBdU/dOiQOnXqpLS0NH322WeqVKmSOnfunGVfAvevbt26YY9F69atg+ouWrQoaP3WrVvVvn171alTR4sWLdIHH3yglStX6tprr/XXmT17tjp06KAWLVrom2++0bfffqubbrpJ6enp/jrOOUm+xDTUMf/yyy91xRVX6Prrr9fy5cv13nvvKTU1VVdffbV/28zS09N1zTXXqEmTJlq6dKn/y8Zbb72lhx56SHPmzNGaNWvUv3//oO2cc4qJifHvc2ByLUkTJkzQkCFDNHDgQK1atUoPPPCABg4cqBdffFGS9M477/i37dSpkzp16uRffueddyRJe/bsUefOnTVnzhwtW7ZMHTp00OWXX64ffvgh7GeRG6mpqRo9erTKly8fts7hw4d17733qmLFisfUFwAAhRUXYRZB5cqV0wknnOBfrlq1apY6zjk9/fTTatu2rSTp1VdfVd26dfX666+rR48eevrpp9W8eXONGjVKknTqqadq7NixuuqqqzRixAjVq1dPknTgwAFJUs2aNYP6DIylW7dumjx5sm6++WZJvtHLzZs365Zbbgmqe/jwYXXp0kXr1q3T3Llz/XGXK1dO5cqVC9qXUH2FEhsbG1R3//79QevHjx+v+Ph4TZkyRbGxsf5jceaZZ2revHlq06aNhg0bpo4dOwYlsqeeempQOxnJ+IknnqiaNWtmOebDhw/X3Xffrb59+/rLpk6dqnr16um7777TmWeemSX2Tz/9VGlpaRo/fryqVaumkSNH6rXXXtONN96oDh06SJKGDRumm266SWPGjFGFChX8sZQuXdq/35UqVQpq94knnlDfvn3Vq1cvSVKjRo20du1ajRw5Uj169AiKPeO4Zz7emUeeR4wYoQ8++EDTp0/XQw89lGVfcmvAgAG64YYbNHfu3LB1nn/+eR0+fFhXX3112L9+AABQlDECXoy1atXK/75KlSpq3LixVq1aJUlatWqV2rRpE1S/bdu2cs5p9erV/rKMKRTx8fFh++ndu7f++9//as2aNZKkyZMn6/LLL1eNGjWC6t12222aPn26kpKSVL169WPbuVxatWqVzjnnHH/yLUlnnHGGKlWq5D8WS5cuVfv27bNtJ2MaSEYSnNnixYs1evRoxcXF+V+nnXaaJGndunUht1m/fr1q1KihatWq+ctKlSoVNIWjadOmSk9PD0pEd+/eHTaOPXv2KC0tLeRnm5qammWqUDjbt29Xnz59dOqpp6py5cqKi4vTqlWr9NNPP+Vq+1Dmz5+vTz/9VCNHjgxb5/fff9cjjzyiZ599Nug4AABQnPA/HLK1ceNGHXfccapfv37YOk2aNNH555+vyZMna+DAgZo5c6ZmzZqVpd6GDRv0ySef6Morr9RVV12lK6+8sgAjz19paWmKj49XXFxcyPVHjhzRgw8+qG7dumVZF240P9zUlJzqpqWlqXbt2rne9mh0795dP//8s5566inVr19f5cqV0/XXX6+DBw8eVXvOOfXr10+DBg1SzZo1w9YbPny4WrRoob///e/+6TAAABQ3jIAXYwsXLvS///3337VmzRr/qGyTJk00b968oPpfffWVzExNmjQJKmvevHnYxDND79699corr2jSpEmqXbu2Lr744ix13n33XXXo0EEjR45Ur169slwIWRCaNGmihQsXBiWO3333nXbv3q2mTZtKklq0aKHPPvss23YWLlyo5s2bh12flJSkVatWKTExMcsr3LFr2LChtm3bpt9++81fdujQIR06dMi/vHLlSpUqVUoJCQm5iiU+Pl516tQJ+dnWr18/27nXgebNm6c+ffro8ssvV7NmzVSrVi1t3LgxV9uGMnXqVO3cuVP33ntv2Drr1q3T888/r3/9619H3Q8AAEUBCXgxZWYaMGCA5s2bpxUrVuimm25SxYoV1aVLF0nSAw88oGXLlunee+/V999/r08++UR9+/ZV165dddJJJ+nw4cOaN2+epk2bpk6dOmnr1q3+l+SbBhGY1GZc1Pjoo4+GvPhS+mt+97333qsmTZrotttuK+jDoLvuukt79uxR9+7dtXLlSs2fP1/dunVT69at1bp1a0nSkCFD9PHHH6tfv35avny51q5dqylTpmjt2rX6/fff9eSTT2r69OnZxjt8+HC9//77uu+++5SSkuIf7e/Ro4f/wtfMLrnkEtWqVUt33nmn1q5dq4ceekibNm3SpEmT9Omnn2rhwoV65JFH1LVrV8XFxWnr1q3q37+/Fi9erJ49e4aNZdCgQRo7dqwmT57sT2onTpzov8tKbpxyyil67bXXtGLFCqWkpOiGG27Q4cOHs9Q7dOiQ9u/f739lzJXPuHYgwxNPPKGnn35aZcqUCdvns88+q1tvvdX/JREAgGLLOVfsXi1atHDZWb16dbbrC7O2bdu6Hj16BJXNmTPHSXK//PKLc865l19+2cXExLhPP/3UnXrqqS42Nta1bNnSLV26NGi7Dz/80DVv3tzFxsa6atWqudtvv9398ccfzjnnfvzxRycp29ecOXOC2uvXr58rVaqU27x5c7bxOedcamqqi4+Pdy+88ELIurlx8803u3bt2gWVZcT99ddf+8u++eYb17p1a1e2bFlXqVIld8MNN7hff/01aLtPPvnEnXPOOa5s2bIuPj7eJScnuw0bNriXX37ZNWvWLGycgfs0b948165dOxcXF+fKly/vTj31VHfPPfe49PT0sPvwzTffuMaNG7vy5cu7hx56yDVs2NDdeeedrnXr1q5MmTLusssuczt37nTOOTds2DB31llnuffeey+ojYzPO8ORI0fcU0895RISElypUqVc/fr13ahRo8Iew5tvvjlL+fLly12rVq1c2bJlXb169dz48eNdu3btgurWq1cv7LlRr169oOPUtm3boPYbNmzoHnnkEf+yJFelShW3Y8cOf1mPHj2ybAdEQ1H+PwNAwZO0xOUxVzWXh3moRUVSUpJbsmRJ2PVr1qxR48aNIxhRZE2ZMkU9e/YMmsqQV6mpqUpOTg57F4obb7xRPXv2DLpbRqdOnZSenq533333qPst6RITE3XjjTcW6adhHjp0SImJidzBBMVGcf8/A8CxMbOlzrmkvGzDRZgIKSYmJts7lVSuXNl/Z5Fdu3Zp0aJFevfdd/XFF19EKkQUUmaW7VQTAABKOhJwhFS3bl0tXrw47Ppx48b53//tb3/Tjh07NGDAgCy3v0PJExMTo7Vr10Y7DAAACi0S8GKoe/fu6t69e8T6Y6pB/lm/fn20QwAAAAWMu6AAAAAAEUQCDgAAAERQgSXgZvaSmW0zs5UBZVXN7HMzW+f9W8UrNzN7zszWm9lyM2sesM3NXv11ZnZzQcULAAAAREJBjoBPkXRJprKBkr5wzjWS9IW3LEkdJTXyXr0kTZR8CbukRySdLeksSY9kJO0AAABAUVRgCbhzbp6knZmKr5A01Xs/VdKVAeWvePczXyipspnVktRB0ufOuZ3OuV2SPlfWpB4AAAAoMiI9B7ymc26L936rpJre+9qSfgmol+aVhSvPwsx6mdkSM1uyffv2/I0aAAAAyCdRuw2hc86ZWb49htM5N0nSJMn3JMy8br/og435FUqunfWPBhHvEwAAANEV6RHwX72pJfL+3eaVb5JUN6BeHa8sXDkAAABQJEU6AZ8pKeNOJjdLej+g/CbvbijnSNrtTVX5VFJ7M6viXXzZ3isDgvy6Z3/QCwAAoLAqyNsQ/kfSN5JOMbM0M+sh6QlJF5vZOkkXecuS9JGkjZLWS5osqY8kOed2SnpU0mLvNdwrK7GSk5PVs2dP//L27dtVuXJlmVlQvdmzZ6t169YqX768KlWqpLZt22rDhg06cOCA/va3v+nKK6/01923b5+aNm2qLl26+MvWrl2rSy+9VHFxcYqLi9M//vGPkE9pTExMlJkFvQLjGzp0qBITE7NsZ2aaNm1anvpbunSp2rdvr7i4OFWvXl1XX321fvrpp2yP16FDhzRs2DA1bNhQZcqUUe3atdW3b9+wcQTq2bOnkpOT/cvJycm69dZbNXDgQFWrVk3x8fHq1auX9u/fH1QncP9DWb9+va655hpVrlxZVapUUfv27bVixYpstwEAAMVHQd4F5QbnXC3nXGnnXB3n3IvOuR3OuXbOuUbOuYsykmnv7id3OucaOueaOeeWBLTzknMu0Xu9XFDxFlVDhgzRkSNHgspmz56tDh06qEWLFvrmm2/07bff6qabblJ6errKlCmjN998U7Nnz9a4ceMkSXfffbf279+v559/XpIvIW/fvr3279+vr776Sl999ZX++OMPXXLJJTp48GCWGPr3768tW7Zoy5YtatWqVZ73ITf9rV69Wm3btlWrVq20ZMkSffnll4qJidHFF18clABn1qNHD40fP15Dhw7V6tWrNWPGDDVocPRz799++23t2LFDX3/9tV577TW99957GjRoUK63//XXX3X++eerRo0a+vrrr7Vw4UKdcsopSk5OFhcPAwBQMkTtIkwcuxUrVujVV1/VgAEDNHToUH/5sGHD1LFjR40ePdpfduqpp/rfn3zyyRo/frx69+6tbdu2aerUqfrvf/+rihUrSpJef/11bd++XUuXLlW1atUkSW+88YYSEhL0xhtv6KabbvK3deDAAVWpUkUnnHCCJCk2NjbP+5Gb/p566ilddtllGjZsmH+7adOmqUqVKvrkk0/U6sKsd6dcv369XnnlFU2fPl3XXnutJKlhw4Y655xz8hxjhqpVq+rf//63YmJi1LhxY40YMUJ33323RowYoQoVKuS4/cSJE5WQkKCJEyf6y5577jl99NFHeu2119SvX7+jjg0AABQNPIq+CLvvvvt05513qmHDhkHlGVM1snPzzTfriiuu0KOPPqpHH31ULVu29K9btWqVTjvtNH8yLEk1a9bUKaecolWrVgW1s3PnTsXHx2fb18aNG/1TSzJegXLT3+LFi/Xuu+8GtXH88cdr//79WrduXch+ly1bJkk5HouePXv6p7Wce+65+uCDD8LWPeussxQTE+NfPu+883TgwAFt2LDBXzZ16lTFxcWpcuXKatq0qZ588kn/usWLF2vp0qVB+1GxYkWlpqaG3Q8AAFC8MAJeRM2cOVPLly/XjBkzNHPmzDxv/8cff2jZsmWKiYnRDz/8cFQxbN26VXv37s3yBSCzunXr6osvvggqa9SoUZ76OnLkiLp166aBAwdmWXf88ccr68SY3Bs5cqSuuOIK7du3Ty+88IKuueYaff/990fd3lVXXaXHHntMhw4d0vz583XHHXfoxBNPVLdu3XTkyBG1a9fOP/0nUKVKlY5hLwAAQFHBCHgRlJ6ervvvv18jRowIOfrcokULffbZZ9m2cccdd6h06dKaPXu2Xn31Vb311lv+dU2aNNHq1av122+/+ct+/fVXrV27Vk2bNvWXffXVVypdurTOPffcbPsqXbq0EhMTg16BctNfUlKSli9froYNG2Zpq0qVKiH7bd68uSTleCxq1qypxMRENWvWTCNHjlR6enrYiyIXL16sw4cP+5cXLFigMmXKBH0JiY+PV2Jiok499VT17NlTZ5xxhn80PikpSatWrVKdOnWy7Ef16tWzjRMAABQPJOBF0IwZM1S+fHn16NEj5PohQ4bo448/Vr9+/bR8+XKtXbtWU6ZM0dq1ayVJr776qt5++2298cYbSk5O1siRI9WrVy+lpqZKkrp06aLq1aurc+fOWrZsmZYuXarrr79etWvXVufOnSVJGzZs0MiRI3XppZdq//792rp1q7Zu3aqDBw9q3759+uOPP3K9P7npb/DgwVqzZo1uvPFGLVq0SD/++KPmzJmje+65Rxs3hn6IUmJiorp27ao+ffpo2rRp2rBhgxYvXqwxY8YE1UtPT9f+/fu1a9cujR8/XjExMTrttNNCtrljxw7deeedWrNmjT788EMNGTJEvXv3Dpr/ffjwYe3fv19//PGHPvnkE61evVrNmjWTJN111106fPiwrrjiCn399ddKTU3V/Pnz9dBDD2nBggW5PmYAAKAIc84Vu1eLFi1cdlavXp3t+sKsbdu2TpL78ssv/WWvvvqqk/9mMj6ffPKJO+ecc1zZsmVdfHy8S05Odhs2bHDr1q1zFStWdGPHjvXXPXLkiOvQoYNr1aqVS09Pd8459/3337uOHTu6ChUquAoVKrhLL73UrVu3zr9NvXr1nKSwr0ceecQ559wjjzziGjZsmGU/JLlXX33Vv5xTf845t3z5cnf55Ze7ypUru7Jly7qGDRu62267ze3YscNt3b0v6JXh4MGD7uGHH3b16tVzpUuXdrVr13b33HNPUBwZr7Jly7pmzZq5N954wznnXI8ePVzbtm2Djv0tt9zi7r//fle1alUXFxfnevTo4fbu3Zvl85HkYmJiXL169dzDDz/sjhw54q+TmprqunTp4qpVq+ZiY2PdSSed5Lp27eo2btyY9QMHEHVF+f8MAAVP0hKXx1zVfNsVL0lJSW7JkiVh169Zs0aNGzeOYETFT0JCgubOnauEhIQs61544QWlpaUF3ZmloGV++E7N+LL53kdycrISExP1wgsv5HvbAAov/s8AkB0zW+qcS8rLNkxBwVGpXr160N1AApUvXz7LnU4AAADgw11QcFQWL14cdl3gEzUBAAAQjAQcyKW5c+dGOwQAAFAMMAUFAAAAiKASm4AXx4tPAQD5i/8rABSEEpmAly5dWvv27Yt2GACAQm7fvn0qXbp0tMMAUMyUyAS8Ro0a2rRpk/bu3cvoBgAgC+ec9u7dq02bNqlGjRrRDgdAMVMiL8LMeHz75s2blZ6eHuVokB/27Av+HHeWY8QKwLEpXbq0atas6f8/AwDyS4lMwCVfEs4v1eJj1Oc/BC3fe/HJUYoEAAAgeyVyCgoAAAAQLSTgAAAAQASRgAMAAAARVGLngKNkyTxHXGKeOAAAiA5GwAEAAIAIYgQcJRZ3TgEAANHACDgAAAAQQSTgAAAAQAQxBQXFUqiLLgEAAAoDRsABAACACCIBBwAAACKIBBwAAACIIBJwAAAAIIJIwAEAAIAIIgEHAAAAIogEHAAAAIggEnAAAAAggkjAAQAAgAgiAQcAAAAiiAQcAAAAiCAScAAAACCCSkU7AKCwGvX5D1nK7r345ChEAgAAihNGwAEAAIAIIgEHAAAAIogEHAAAAIggEnAAAAAggrgIE/CEuugSAAAgvzECDgAAAEQQCTgAAAAQQSTgAAAAQAQxBxxRl3nuNQ+7AQAAxRkj4AAAAEAEMQKOIok7lgAAgKKKEXAAAAAggkjAAQAAgAgiAQcAAAAiiAQcAAAAiCAScAAAACCCSMABAACACOI2hEAe8NAgAABwrBgBBwAAACKIBBwAAACIIBJwAAAAIIKYA45Ch3nWAACgOGMEHAAAAIggEnAAAAAggpiCAgBAUTXn8dDlFwyKbBwA8oQEHACA4iZcYi6RnAOFAFNQAAAAgAgiAQcAAAAiiAQcAAAAiCDmgKPQy3xfcAAAgKKMEXAAAAAggqKSgJvZvWa2ysxWmtl/zKysmdU3s2/NbL2ZvWlmsV7dMt7yem99QjRiBgAAAPJDxBNwM6st6W5JSc65ppJiJF0v6UlJo5xziZJ2SerhbdJD0i6vfJRXDwAAACiSojUFpZSkcmZWSlJ5SVskXSjpbW/9VElXeu+v8JblrW9nZha5UAEAAID8E/EE3Dm3SdIzkn6WL/HeLWmppN+dc4e8ammSanvva0v6xdv2kFf/+EjGDAAAAOSXaExBqSLfqHZ9SSdKqiDpknxot5eZLTGzJdu3bz/W5gAAAIACEY0pKBdJ+tE5t905ly7pHUnnSarsTUmRpDqSNnnvN0mqK0ne+kqSdmRu1Dk3yTmX5JxLql69ekHvAwAAAHBUopGA/yzpHDMr783lbidptaQ5kq716tws6X3v/UxvWd76L51zLoLxAgAAAPkmGnPAv5XvYsplklZ4MUyS9KCk+8xsvXxzvF/0NnlR0vFe+X2SBkY6ZgAAACC/ROVJmM65RyQ9kql4o6SzQtTdL+m6SMQFAAAAFDSehAkAAABEUFRGwFGyjfr8h2iHAAAAEDWMgAMAAAARxAg4cAwyj+bfe/HJUYoEAAAUFSTgAHAMto8dF7K8et+7IhwJAKCoYAoKAAAAEEEk4AAAAEAEkYADAAAAEUQCDgAAAEQQCTgAAAAQQSTgAAAAQASRgAMAAAARRAIOAAAARBAJOAAAABBBJOAAAABABPEoegAoAOEeUZ8dHl8PACUDI+AAAABABDECDgCFRLhRc0bGAaB4YQQcAAAAiCAScAAAACCCSMABAACACCIBBwAAACKIBBwAAACIIBJwAAAAIIJIwAEAAIAI4j7gAAAUdnMej3YEAPIRI+AAAABABDECDgCFHE/IBIDihRFwAAAAIIJIwAEAAIAIIgEHAAAAIogEHAAAAIggEnAAAAAggrgLCgCAO60AQAQxAg4AAABEEAk4AAAAEEFMQQEAT7hpGAAA5CcScAAoopi3DQBFE1NQAAAAgAhiBBwAipnsptIwOg4A0ccIOAAAABBBjIADQAnChaYAEH2MgAMAAAARRAIOAAAARBAJOAAAABBBuZ4DbmaXSmoiqWxGmXNueEEEBQAofrg7CwD45GoE3Mz+LamzpL6STNJ1kuoVYFwAAABAsZTbKSjnOudukrTLOTdMUitJJxdcWAAAAEDxlNsEfJ/3714zO1FSuqRaBRMSAAAAUHzldg74LDOrLOlpScskOUmTCyooFB+jPv8h2iEAWXAvbABANOUqAXfOPeq9nWFmsySVdc7tLriwAAAAgOIpVwm4mS1zzjWXJOfcAUkHCjQqAEChwJ1LACD/5XYOuBVoFAAAAEAJkds54KeY2fKAZZPknHOnF0BMAAAAQLGV2wT8R0n/KMhAgOIg80Wn917M3ToBAECw3CbgB51zPxVoJACAEivcXHPmmQMojnI7B7xvgUYBAAAAlBC5TcBXmNkoM1vivZ41s0oFGhkAAABQDOV2CspLklZK6uQtd5P0sqSrCyIoAABQQOY8Hrr8gkGRjQMowXKbgDd0zl0TsDzMzFIKIB4AQBHBvG0AODq5nYKyz8zOz1gws/Mk7SuYkAAAAIDiK7cj4HdImhow73uXpJsLJiQAAACg+MptAr7VOXeGmcVLknNuTwHGBAAAABRbuZ2C8pHkS7xJvgEAAICjl9sEHAAAAEA+yO0UlNPNLHDk2yQ551x8AcQEAAAAFFu5TcBXOOf+VqCRAAAAACUAU1AAAACACMptAn5NzlUAAAAA5CS3CfgjZlY5Y8HMqpjZSwUTEgAAAFB85TYBP90593vGgnNul6SjnhNuZpXN7G0z+97M1phZKzOramafm9k6798qXl0zs+fMbL2ZLTez5kfbL1DcLfpgo/8FAAAKp9xehHmcmVXxEm+ZWdU8bBvKGEmfOOeuNbNYSeUlDZb0hXPuCTMbKGmgpAcldZTUyHudLWmi9y9Q4hWVRHtCyoSg5T5n9olSJAAARF9uk+hnJX1jZtPluwXhtZJGHk2H3uPs20jqLknOuYOSDprZFZKSvWpTJc2VLwG/QtIrzjknaaE3el7LObflaPoHkDeZk+fMQiXTOW0DAEBJlqspKM65V+S7EPNXSVslXe2ce/Uo+6wvabukl83s/8zsBTOrIKlmQFK9VVJN731tSb8EbJ/mlQUxs15mtsTMlmzfvv0oQwMAAAAKVq5vQ+icWyXpLUkzJf1hZicdZZ+lJDWXNNG7t/if8k03CezLSXJ5adQ5N8k5l+ScS6pevfpRhgYAAAAUrFwl4GZ2uZmtk/SjpK8kpUr6+Cj7TJOU5pz71lt+W76E/Fczq+X1V0vSNm/9Jkl1A7av45UBAAAARU5uR8AflXSOpB+cc/UltZO08Gg6dM5tlfSLmZ3iFbWTtFq+kfWbvbKbJb3vvZ8p6SbvbijnSNrN/G8AAAAUVbm9CDPdObfDzI4zs+Occ3PMbPQx9NtX0mveHVA2SrpFvi8Db5lZD0k/Serk1f1I0t8lrZe016sLAAAAFEm5TcB/N7M4SV/Llzhvk2/u9lFxzqVISgqxql2Iuk7SnUfbF4C/cDtAAACiL7cJ+OWS9kvqJ6mrpHhJwwooJgAlTKjbFvLlAABQXGWbgJvZj8p6NxLz/r1XUoOCCAoAAAAornIaAQ+cJmKSvpR0QcGFAwAo6raPHRftEACgUMs2AXfO7QhcNrNDmcsAlGw89RIAgLzJ9YN4zKyB/pp+AgAAAOAo5DQHfIV8c8DLSCovqXckggIQGdwVBQCAyMtpDvhl3r/7nXO/FnQwAKKL6SQobMLNJ6/e964IRwIA+SenOeA/RSoQAAAAoCTI9RxwAAAAAMeOBBwAAACIoNw+CRNAIbHog43RDuGYRWuueUa/CVsX+8tantAyKrEAAEouRsABAACACCIBBwAAACKIKShACeUWV/O/t5a/RTESAABKFhJwAEUCDw0CABQXJOAAAECa83jo8gsGRTYOoAQgAQcAFDnhnpAp8ZRMAIUfF2ECAAAAEcQIOIAiKdS9xJkXDgAoChgBBwAAACKIBBwAAACIIKagACXEog82ym2tlnPFIoxbFQIAigIScACFUqg53gAAFAck4MhXoz7/IdohFCqhjse9F58chUgAAEBhQQIOFBOLty4JLvggOnEAAIDscREmAAAAEEGMgAMAUFiEexw8gGKFEXAAAAAgghgBB1BscScVAEBhxAg4AAAAEEEk4AAAAEAEkYADAAAAEUQCDgAAAEQQF2ECAEqE7WPHhSyv3veuCEcCoKRjBBwAAACIIBJwAAAAIIKYggIAQKTxxEugRGMEHAAAAIggEnAAAAAggpiCAkTYqM9/CFq+9+KTC6SfxVuXFEi7RUXC9G+jHQIAACGRgAMAgOgKNyf+gkGRjQOIEBJwACXSrr1nSJJWbqsuSWpaY3s0wwEAlCDMAQcAAAAiiAQcAAAAiCCmoABFVH5eZOkWVwtatpa/5VvbAAAgGAk4AAAIjwskgXzHFBQAAAAggkjAAQAAgAhiCgoAoFjZPnZctEMAgGyRgAMAgLxjbjhw1JiCAgAAAEQQI+AAABSEcCPEAEo8EnAAxVbG4+YlqUr576IYCQAAfyEBBwAAhRPzzFFMMQccAAAAiCBGwAFkEfhoeh5LDwBA/iIBBwAA+YdpI0COSMABAEDB464wgB9zwAEAAIAIYgQcKCImpEyQJLmt1XKoCQAACjMScAAAwtg+dlzI8up974pwJACKExJwoJBb9MFGSYx8R8rirYuDllue0DJKkQAAiivmgAMAAAARRAIOAAAARBBTUABA0spt1SVJu/aeoSrlv4tyNACyxb3GUcQxAg4AAABEECPgQCGUcctBqfBdfBn4mHqJR9Wj6At3pxMAKCgk4ACAwif169DlCa0jGwcAFAAScAAlwq69Z4Qs3/zHpghHgiDhEm0AKMailoCbWYykJZI2OecuM7P6kt6QdLykpZK6OecOmlkZSa9IaiFph6TOzrnUKIUNAECwcBcEAkAY0bwI8x5JawKWn5Q0yjmXKGmXpB5eeQ9Ju7zyUV49AAAAoEiKSgJuZnUkXSrpBW/ZJF0o6W2vylRJV3rvr/CW5a1v59UHgAKxa+8Z/lfG7QkBAMgv0ZqCMlrSAEkVveXjJf3unDvkLadJqu29ry3pF0lyzh0ys91e/aBbL5hZL0m9JOmkk04qyNgBlCCb/9ikfUeC7wvO4+lLqMD56nP+F704ABR5ER8BN7PLJG1zzi3Nz3adc5Occ0nOuaTq1RmxAgAAQOEUjRHw8yRdbmZ/l1RWUrykMZIqm1kpbxS8jqSMWxNsklRXUpqZlZJUSb6LMQEAAIAiJ+Ij4M65Qc65Os65BEnXS/rSOddV0hxJ13rVbpb0vvd+prcsb/2XzjkXwZABAACAfFOYHkX/oKT7zGy9fHO8X/TKX5R0vFd+n6SBUYoPAAAAOGZRfRCPc26upLne+42SzgpRZ7+k6yIaGAAAAFBAeBImUAhMSJkQ7RAAAECEkIDjmIz6/IdohwAAAFCkkIADUTbq8x+0bM9fN/Zp1fD4KEYDAAAKWmG6CBMAAAAo9kjAAQAAgAhiCgqAbLnF1aIdAgAAxQoj4AAAAEAEMQIORMGyPW9GOwQAABAlJOBAIfPNhh1By3V2lVedKuWjFA0AAMhvJOAAkINde8/wv69S/rsoRgIAKA5IwAGgMEv9Om/1E1oXTBwAgHxDAg4AJUW4ZJ6kHQAiigQcAIqTvI6YAwAijgQcAPJo8dbFQcstT2gZpUiKkPz6YsAoPoBigAQcQJGWMP3baIeAwiy7xJ+kHUCUkIADQEnHqDIARBQJOAAgfxSX+efFZT8AFFok4ACOiVtczf/eWv4WxUgAACgaSMABFGk8JCcKCuMIcWGMCQDCIAEHgDwITPglkn4AQN6RgAPIN4HTUTKLxPSUzMlxkcIILgCUGCTgAIqUrEl+WlTiCMR9wYFCYs7jocsvGBTZOIAckIADiAou3gQAlFTHRTsAAAAAoCRhBBwA8lmxmZLCvHQAKBCMgAMAAAARxAg4ECExq3f/tVAn+7p1NtQt2GCiILs7pAAAUJKQgAOIuszJORdlorDbPislZHn1y86MaBwAiiamoAAAAAARxAg4gEKHEXEAQHHGCDgAAAAQQYyAAwUk6KJLHBMu4ESB4DaLAKKEEXAAAAAggkjAAQAAgAhiCgpQCBTH+35D2rX3DEnSym3VJUlNa2yPZjgAgEKCEXAAAAAggkjAAQAAgAhiCgoAHIOMaSYZqpT/LkudzX9skiTtO/Kd9PtPkqSWZWsWfHAAgEKJBByIAuZ8A0AEzXk8/LoLBkUuDsDDFBQAAAAggkjAAQAAgAhiCgoA5KPMc8IBAMiMEXAAAAAggkjAAQAAgAgiAQcAAAAiiAQcAAAAiCAScAAAACCCuAsKUASk7dobtFynSvkoRYL8svJgi6DlprFLoxQJACDSGAEHAAAAIogEHAAAAIggpqAg10Z9/kO0QwAAACjySMABIEJ27T1DOpIgSSrH3x8BoMQiAQcAIJ9sn5USdl31y86MWBwACjcScCAfxazeHe0QUFjsz/5c2Hzoz6DlprEFGQwAoDAhAQcK2JYDq6IdAoqAwNsScktCACjemIUIAAAARBAj4ACKhMqr06IdAgAA+YIEHCiCeDJmIZHDPG8AAEJhCgoAAAAQQSTgAAAAQAQxBQUACoHA2xLuO/KrWpatGcVoAAAFiRFwAAAAIIJIwAEAAIAIIgEHAAAAIog54ABQyOw60lYrD1bwL/NkTAAoXkjAAQBAyTXn8dDlFwyKbBwoUUjAgXy25cCqaIcAAAAKMRJwAIUGj5sHAJQEXIQJAAAARFDEE3Azq2tmc8xstZmtMrN7vPKqZva5ma3z/q3ilZuZPWdm681suZk1j3TMAAAAQH6Jxgj4IUn9nXOnSTpH0p1mdpqkgZK+cM41kvSFtyxJHSU18l69JE2MfMgAAABA/oj4HHDn3BZJW7z3/zOzNZJqS7pCUrJXbaqkuZIe9Mpfcc45SQvNrLKZ1fLaAaIqZvXuaIcAAACKmKjOATezBEl/k/StpJoBSfVWSTW997Ul/RKwWZpXBgAAABQ5UUvAzSxO0gxJ/ZxzewLXeaPdLo/t9TKzJWa2ZPv27fkYKQAAAJB/onIbQjMrLV/y/Zpz7h2v+NeMqSVmVkvSNq98k6S6AZvX8cqCOOcmSZokSUlJSXlK3gGgsNl86E//+31HfpUktSxbM1x1AEAREvEE3MxM0ouS1jjn/hWwaqakmyU94f37fkD5XWb2hqSzJe1m/jcKEx68AwAA8iIaI+DnSeomaYWZpXhlg+VLvN8ysx6SfpLUyVv3kaS/S1ovaa+kWyIaLQAAAJCPonEXlPmSLMzqdiHqO0l3FmhQAFCI7TrSVpK08mAFSVLT2KXRDAcAcIx4FD0A5GR/4brd5MqDLfzvScYBoOghAQeKgbRde4OW61QpH6VIAABATkjAAQCIgO2zUkKWV7/szIjGASD6ovogHgAAAKCkYQQcAIqwwPngEnPCAaAoYAQcAAAAiCAScAAAACCCmIICAACQ2ZzHQ5dfMCiycaBYIgEHgCJi86E/g5ZPLFUhSpEAAI4FCThQDGW+L7jEvcEBACgsmAMOAAAARBAj4AAirvLqtGiHAABA1JCAA0CG/bujHQEAoAQgAQfyYNmeN4OW6xyoG6VIAABAUUUCjrBGff5DtEMAAAAodrgIEwAAAIggRsABoIjivuAAUDQxAg4AAABEEAk4AAAAEEFMQQGAYmTlwRb+901jl0YxEgBAOCTgQB7U2VB0bzuY+fH0PJoeAIDoYAoKAAAAEEGMgAMoMDxyHgCArEjA4ceDd4DiJXA+uMSccAAoLJiCAgAAAEQQI+BANpbteTNouY6K7kWYKP4yP5hH4uE8AFAYkYADATIn3EBxwpSUwmn7rJSQ5dUvOzOicQCIHBJwACXP/t3RjgAAUIIV2wR8QsqEoOU+Z/aJUiQAAADAX4ptAg4gezyYBwCA6CABB4ASisfWA0B0cBtCAAAAIIJIwAEAAIAIYgoKSixuOQgAAKKBBByApKwXZUpcmAkAQEFgCgoAAAAQQYyAAwCyxRM0ASB/kYADOaizoW60QwAAAMUICTgAIIvMo96IvO2zUkKWV7/szIjGASD/kYADAI4a01MAIO9IwAGExePqSw5GvAEgckjAARRf+3dHO4Ko23zoz6DlE0tViFIkAIAMJOAoMXjwDgDgmM15PHT5BYMiGweKNBJwAMek8uq0aIeACGO6CgAcGxJwALkW6mmZx+1L97+PL1c6kuHgKDAlBQCijwQcyIT7fgMAgIJEAg6gaONCSwBAEUMCDgBAERLuAT0SD+kBiorjoh0AAAAAUJIwAo5ii9sOAgCAwogEHABKsPy+K0p2tyjkMfUA4EMCDiBXTtr4a7RDAACgWCABLyFGff5DlrJ7Lz45CpEAAACUbCTgAIoGbjcI5CjcHVK4O0oE8Ih65AEJOIB8syfgqZgZeDomAADBuA0hAAAAEEGMgJdgoeaFF2XcdrBoCjVqnhmj6NGV33dKAYCSjgQcQIHKnGCTTBdumZNtAED+IwFHkcRod8Ep6NsN5mbEGwCA4owEHJBUZ0PdaIcAT5nDf2QpO5CpqEwpLl8B8kO4u6ZI3DkFKEgk4AAAFHPZJdoAIo8EHFEXajpJ8/jOUYik6Ao3beTnBjUjHEnuhRrpRvGW+TH1PJoeJUK4+4NL3CO8BCMBLyYy39GkuD3lkjnfPvk5P5tHywMAEB0k4EAxRpINIL/l59M2eXInSioScJRIXHQJAJHDHPQ84rH2xR4JeBFwNA/MOZptCtNc7JIw5aQ4jU5nN5/7QExcgfd/4NCRLGXcKaXwC5wTznzwwoekGSg4JOBAIRUuqc3PhDaafRyLUAl3QbRLEh9abh7Ww9MyASA8EnDkSU4j04X57iXRmnZSnEa6i5KCStIRGYyOl2wl5v7k2d0hBcUaCTiyldepIEczdSRzYpzW8Jej2rZ+6ofZ1j18JDZoObtb9EUyaY7E7fjy2ge3CAyNEfLcyzxKzoh48RepKStcuInioMgk4GZ2iaQxkmIkveCceyLKIRWYbjMeDVouzKPKhcnhI0l5ql8cR6ZJnPNXTqPozD3PvWNJyDNGwzPaqHLcV/51LcsW3nvdA0A4RSIBN7MYSeMlXSwpTdJiM5vpnFt9tG1OSJmQpazPmX2OOsZwskumz/l5UuiNKlfKsd3MI82Zk/TcjERnbBOzerckqc4B32hyqBHoOnvC/wk4Lb5F2HX5IbDvRguaZVq7IU9thZvbnNe50CS6yK3cTIXJKWkvCSPvmR/SAwDFmTnnoh1DjsyslaShzrkO3vIgSXLOhZw8lZSU5G594dbgwh+/zlun9Vvrmw07gopCjUQfy906sktqQ8ku0c1o64z5v4Vc/9351cK2FTiNI/7AFu2p8+1fy2lnB223p863WfrYU6aWpKwj0DHHLZEkfd3u9JCxhusjOzV/3pvruvmBBBzRkDnBzk0CfjRJek7bRDrxz2lUPDcXf7Yv/3226xfvz/qXL0bRS65ITFuJyJQZbk8YVWa21DmXpz/DF5UE/FpJlzjnenrL3SSd7Zy7K1T9pKQk13jQFUFleU12cxIu0c2w97gLgpbXnbvC/z5zwpl57nLGtr+eVD5Lu9klx1L4BDVUWzmJdLILoHDLTeJfUNvkh8CpK3mR3wl62q59kqS1tlOSFF+2VIH0g/wXLmmO+i0bE1qHLk8NP/gY9gtAuGQ+v+5Nnt2FpxH6IrF97LiQ5dX7hkwrc1SiE3Az6yWpl7fYVNLKiAeKwq6apOy/OaEk4rxAKJwXCIXzAqGc4pyrmJcNisQccEmbJAXeKqOOV+bnnJskaZIkmdmSvH4TQfHHeYFQOC8QCucFQuG8QChmtiSv2xSVK3kWS2pkZvXNLFbS9ZJmRjkmAAAAIM+KxAi4c+6Qmd0l6VP5bkP4knNuVZTDAgAAAPKsSCTgkuSc+0jSR7msHub+fijhOC8QCucFQuG8QCicFwglz+dFkbgIEwAAACguisoccAAAAKBYKHYJuJldYmZrzWy9mQ2MdjwoHMws1cxWmFnK0VytjOLBzF4ys21mtjKgrKqZfW5m67x/q0QzRkRemPNiqJlt8n5npJjZ36MZIyLPzOqa2RwzW21mq8zsHq+c3xklVDbnRJ5/XxSrKSjeI+t/UMAj6yXdcCyPrEfxYGapkpKcc9y/tQQzszaS/pD0inOuqVf2lKSdzrknvC/tVZxzD0YzTkRWmPNiqKQ/nHPPRDM2RI+Z1ZJUyzm3zMwqSloq6UpJ3cXvjBIpm3Oik/L4+6K4jYCfJWm9c26jc+6gpDckXZHDNgBKCOfcPEk7MxVfIWmq936qfL9MUYKEOS9Qwjnntjjnlnnv/ydpjaTa4ndGiZXNOZFnxS0Bry3pl4DlNB3lgUGx4yR9ZmZLvaemAhlqOue2eO+3SuJ54Mhwl5kt96aoMM2gBDOzBEl/k/St+J0BZTknpDz+vihuCTgQzvnOueaSOkq60/uTMxDE+ebkFZ95eTgWEyU1lHSmpC2Sno1qNIgaM4uTNENSP+fcnsB1/M4omUKcE3n+fVHcEvAcH1mPksk5t8n7d5ukd+WbrgRI0q/evL6M+X3bohwPCgHn3K/OucPOuSOSJovfGSWSmZWWL9F6zTn3jlfM74wSLNQ5cTS/L4pbAs4j65GFmVXwLpaQmVWQ1F7Syuy3QgkyU9LN3vubJb0fxVhQSGQkWJ6rxO+MEsfMTNKLktY45/4VsIrfGSVUuHPiaH5fFKu7oEiSd+uX0frrkfUjoxsRos3MGsg36i35nv76OudFyWRm/5GULKmapF8lPSLpPUlvSTpJ0k+SOjnnuCCvBAlzXiTL9+dkJylVUu+Aeb8oAczsfElfS1oh6YhXPFi+Ob/8ziiBsjknblAef18UuwQcAAAAKMyK2xQUAAAAoFAjAQcAAAAiiAQcAAAAiCAScAAAACCCSMABAACACCIBB1DsmdkfAe9rmdl6M/tHNGMCAJRcJOAASgzvgUwfSXrSOfdBtOMBAJRMJOAASgTv8cHvSJrpnJscUH6Dma0ws5Vm9mRAeeCoeZKZzfXeDzWz+wPWzTKzZO99dTObYWaLvdd52W1jZveaWYqZ/Wxm2733L5hZgpl9b2avmdkaM3vbzMp72/7Ta3ulmU3ynswmM5trZklh4k81s2re+2lmttJ7H2tm73ptrTCz1BDHLc7MvjCzZV6dKwLWDTGztWY238z+E7iPAXWmmNm1AcsrzSzBe/+emS01s1Vm1ivM55bq9fu9mX3mPc02aP8yt21mLc1suZmV9Z6Eu8rMmprP0wH72znTZ/xHwOcxziuP8bZZ7LXZO1ScAJAXJOAASoqXJLWV9J+MAjM7UdKTki6U7ylmLc3symPoY4ykUc65lpKukfRCdpWdc6Occ2dK+qekN51zZzrnenqrT5E0wTnXWNIeSX288nHOuZbOuaaSykm6LLfBmVkzSU0DijpIKu21dUGYzfZLuso519yr86yXyGbs4xmSOkpKCrN9dm51zrXwtr3bzI4PU+8CSU0k1ZTUMKdGnXOL5Xtc+AhJT0ma5pxbKelq+T7nMyRdJOnpgEdIx0haFPB5ZOghabf3mbaUdJuZ1c/LTgJAZiTgAEqCCpKOl9Rd0viA8paS5jrntjvnDkl6TVIbb105bzQ0xSvPjYskjfO2mSkp3szivHX3BrTXOhdt/eKc+6/3fpqk8733F5jZt2a2Qr4vDk1yGZvkS0gfCVg+LKm8mcVks41JeszMlkuaLam2fInweZLed87td879T1J2U3qeDtj3wAT6bjP7TtJCSXUlNQqz/RxJv8j3mPgVXlnG5/OdmT1nZpn/Pxsu6WL5kvunvLLzJf3HOXfYOferpK/kOwckKU5SqMeJt5d0kxf7t/KdR+HiBIBcKRXtAAAgAg5Ius4596eZ3WxmXZ1zOSXV+7zRUHlTO57JRT/HSTrHObc/sNCbJTLKOfeMtzwrF225zMtmVlbSBElJzrlfzGyopLK5aEuSzpX0h6TvAso+k29UeLukTWG26yqpuqQWzrl0b5pKbvvM8IBz7m3JN03E+zdZvi8srZxze803xSdcuxdI2iHpFUk3SHpd3udjZqXk+2JwUaZtjpcvqS7ttftnDjHWl5QWotwk9XXOfZrD9gCQa4yAAygJDjnnMhKwOyWNNLNKkhZJamtm1bxR4BvkGxU9Wp9J6puxYGZnHkNbJ5lZK+99F0nz9VeC+ps3sn5tyC1DG6rgqRXyRv33SXpA4aegVJK0zUu+L5BUzyv/r6R/ePOs45SHqTAB7e7yku9TJZ2TXWXnnJP0P0nVQuzDbkmxmTZ5XtIQ+f56kTG3/2tJnb153dXl+2vHIm8e/TWSQn0x+lTSHea7hkBmdnLGPHQAOFqMgAMoUZxz683sZUmPOefuNLOB8k1xMEkfOufez0UzdwbMFT9N0lhJzSTdLWm8N12jlKR5km4/ylDXev28JGm1pIlesjpZ0kpJWyUtzrTNCwEXJ5Yzs7HOuYwvBN865zZkXAApSWbWSVJF59yL5l2kGcJrkj7wprwskfS95JtnbWYzJS3XX1NDdudh/z6RdLuZrfH2dWE2deeYmfP6GRywf/PlG+FOlS9RfsLbr5skpTvnXve+WC0wswslvSuplXx/BXCSBjjntprZU5IukVTbzI5Iquq1P0W+efwJkpZ5ifp2SVfmYT8BIAvzDSoAAI6Wmc11ziXnY3sJkmZ5F0ceSzv5GleI9uOcc3+Y7w4t8yT1cs4tK6j+CoqXaA91zqUGlN0laaVzbm6UwgJQjDECDgDH7sVoBxBGQcc1ycxOk29qzNSimHx7Jso3sh3oU+VtRB8Aco0RcAAAACCCuAgTAAAAiCAScAAAACCCSMABAACACCIBBwAAACKIBBwAAACIIBJwAAAAIIL+H8I3Szfj1faiAAAAAElFTkSuQmCC\n",
      "text/plain": [
       "<Figure size 864x648 with 1 Axes>"
      ]
     },
     "metadata": {
      "needs_background": "light"
     },
     "output_type": "display_data"
    }
   ],
   "source": [
    "display_graf ('ag', 25, 1250)"
   ]
  },
  {
   "cell_type": "markdown",
   "metadata": {},
   "source": [
    "Концентрация свинца на различных этапах очистки"
   ]
  },
  {
   "cell_type": "code",
   "execution_count": 27,
   "metadata": {},
   "outputs": [
    {
     "data": {
      "image/png": "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\n",
      "text/plain": [
       "<Figure size 864x648 with 1 Axes>"
      ]
     },
     "metadata": {
      "needs_background": "light"
     },
     "output_type": "display_data"
    }
   ],
   "source": [
    "display_graf ('pb', 17, 1000)"
   ]
  },
  {
   "cell_type": "markdown",
   "metadata": {},
   "source": [
    "Из произведенного анализа мы видим, что концентрация золота от этапа к этапу увеличивается, в отвальных концах также наблюдаем небольшую концентрацию, но она мала.\n",
    "\n",
    "Концентрация серебра увеличивается после флотации, уменьшается после этапа первичной очистки, большая в отвальных частях и незначительная в финальном концентрате.\n",
    "\n",
    "Концентрация свинца от этапа к этапу равномерно увеличивается, небольшая часть имеется в отвальных частях."
   ]
  },
  {
   "cell_type": "markdown",
   "metadata": {},
   "source": [
    "<a id=step_8></a>\n",
    "<b>2.2. Сравним распределения размеров гранул сырья на обучающей и тестовой выборках. Если распределения сильно отличаются друг от друга, оценка модели будет неправильной.</b>"
   ]
  },
  {
   "cell_type": "code",
   "execution_count": 32,
   "metadata": {
    "scrolled": false
   },
   "outputs": [
    {
     "data": {
      "image/png": "iVBORw0KGgoAAAANSUhEUgAAAtcAAAIXCAYAAABXZnLpAAAAOXRFWHRTb2Z0d2FyZQBNYXRwbG90bGliIHZlcnNpb24zLjMuNCwgaHR0cHM6Ly9tYXRwbG90bGliLm9yZy8QVMy6AAAACXBIWXMAAAsTAAALEwEAmpwYAABUQ0lEQVR4nO3deZhkV3nn+e8bS661qrSvJSQhJDYBQpjFHmyMEdhmGQMGTBs8dGNPm25P90Bb9OOmsceehp4eaDzeAIPB0MZsjS0b2SwGDDYgKIEACUmotCBVCalKtecWGRH3zB/3RlZUVmZWZmWspe/neerJiHtvRJysyMr65ZvvOSdSSkiSJElav1K/ByBJkiSdKgzXkiRJUocYriVJkqQOMVxLkiRJHWK4liRJkjrEcC1JkiR1SKXfA+iU008/PW3fvr3fw5AkSdIp7qabbno4pXTGUudOmXC9fft2duzY0e9hSJIk6RQXET9c7pxtIZIkSVKHGK4lSZKkDjFcS5IkSR1yyvRcS5IkqTfq9Tq7du1ibm6u30PpqrGxMc4//3yq1eqqH2O4liRJ0prs2rWLjRs3sn37diKi38PpipQS+/btY9euXVx88cWrfpxtIZIkSVqTubk5tm3bdsoGa4CIYNu2bWuuzhuuJUmStGancrBuOZnP0XAtSZKkoXLw4EH+6I/+aM2Pe8ELXsDBgwc7P6A2hmtJkiQNleXCdaPRWPFxN9xwA1u2bOnSqHJOaJQkSdJQue6667jrrru46qqrqFarjI2NsXXrVm6//XZ+8IMf8OIXv5j777+fubk5fuM3foPXv/71wNEdvaempnj+85/Ps571LL761a9y3nnn8dd//deMj4+ve2yGa0mSJJ203/6bW/n+A4c7+pxXnruJ//zzj132/Nve9jZuueUWbr75Zr70pS/xsz/7s9xyyy0Lq3q8//3v57TTTmN2dpanPvWp/MIv/ALbtm075jnuvPNOPvKRj/De976Xl7/85Xzyk5/k1a9+9brHbriWJEnSULvmmmuOWS7v93//9/nUpz4FwP3338+dd955XLi++OKLueqqqwB4ylOewr333tuRsRiuJUmSdNJWqjD3yuTk5MLtL33pS3z+85/na1/7GhMTEzz72c9ecjm90dHRhdvlcpnZ2dmOjMUJjZIkSRoqGzdu5MiRI0ueO3ToEFu3bmViYoLbb7+dr3/96z0dm5VrSZIkDZVt27bxzGc+k8c97nGMj49z1llnLZy79tpr+ZM/+ROuuOIKLr/8cn7sx36sp2OLlFJPX7Bbrr766rRjx45+D0OSJOmUd9ttt3HFFVf0exg9sdTnGhE3pZSuXup620IkSZKkDjFcS5IkSR1iuJYkSZI6xHAtSZIkdYjhWpIkSeoQl+JTf+34s2PvX/0r/RmHJElSB1i5liRJ0lA5ePAgf/RHf3RSj/3v//2/MzMz0+ERHWW4liRJ0lAZ5HBtW4gkSZKGynXXXcddd93FVVddxXOf+1zOPPNMPvaxj1Gr1XjJS17Cb//2bzM9Pc3LX/5ydu3aRbPZ5D/9p//EQw89xAMPPMBP/uRPcvrpp/PFL36x42MzXEuSJOnk/d118OD3OvucZz8env+2ZU+/7W1v45ZbbuHmm2/ms5/9LJ/4xCf4xje+QUqJF77whXz5y19m7969nHvuuXz6058G4NChQ2zevJl3vOMdfPGLX+T000/v7JgLtoVIkiRpaH32s5/ls5/9LE960pN48pOfzO23386dd97J4x//eD73uc/xm7/5m3zlK19h8+bNPRmPlWtJkiSdvBUqzL2QUuLNb34zv/qrv3rcuW9961vccMMN/NZv/RbPec5zeMtb3tL18Vi5liRJ0lDZuHEjR44cAeB5z3se73//+5mamgJg9+7d7NmzhwceeICJiQle/epX86Y3vYlvfetbxz22G6xcS5Ikaahs27aNZz7zmTzucY/j+c9/Pq961at4+tOfDsCGDRv48Ic/zM6dO3nTm95EqVSiWq3yx3/8xwC8/vWv59prr+Xcc8/tyoTGSCl1/En74eqrr047duzo9zC0Vm4iI0nS0Lntttu44oor+j2Mnljqc42Im1JKVy91vW0hkiRJUocYriVJkqQOMVxLkiRJHWK4liRJ0pqdKvP2VnIyn6PhWpIkSWsyNjbGvn37TumAnVJi3759jI2NrelxLsUnSZKkNTn//PPZtWsXe/fu7fdQumpsbIzzzz9/TY8xXEuSJGlNqtUqF198cb+HMZBsC5EkSZI6xHAtSZIkdYjhWpIkSeoQw7X6Z+4QfP+voTnf75FIkiR1hOFa/XPn5+DuL8L+e/o9EkmSpI4wXKt/DhSheu5gX4chSZLUKYZr9c+Be/OPc4f6OgxJkqROMVyrfw78MP84e7Cvw5AkSeoUw7X6Z6FyfbCfo5AkSeoYw7X6o1GDQ7vy24ZrSZJ0ijBcqz8O3g8kqIzCrD3XkiTp1GC4Vn+0WkK2Pgrq0651LUmSTgmGa/VHaxm+bZfkH10xRJIknQIM1+qPqYeAgM0X5PddMUSSJJ0CDNfqj/lpGJmE8a35fSvXkiTpFNDVcB0R10bEHRGxMyKuW+L8aER8tDh/Y0RsL45vj4jZiLi5+PMn3Ryn+qAVrkc3FPeP9Hc8kiRJHVDp1hNHRBn4Q+C5wC7gmxFxfUrp+22XvQ44kFK6NCJeAbwd+MXi3F0ppau6NT712fw0VCegPJrfbzihUZIkDb9uVq6vAXamlO5OKc0Dfwm8aNE1LwI+WNz+BPCciIgujkmDoj6TV65L5fyPq4VIkqRTQDfD9XnA/W33dxXHlrwmpdQADgHbinMXR8S3I+IfI+LHuzhO9UOrLQTy6nWj1t/xSJIkdUDX2kLW6UfAhSmlfRHxFOCvIuKxKaXD7RdFxOuB1wNceOGFfRimTtr8NIxuzG+XR6xcS5KkU0I3K9e7gQva7p9fHFvymoioAJuBfSmlWkppH0BK6SbgLuDRi18gpfSelNLVKaWrzzjjjC58CuqaVlsI5Ls0Nq1cS5Kk4dfNcP1N4LKIuDgiRoBXANcvuuZ64DXF7ZcCX0gppYg4o5gQSUQ8CrgMuLuLY1WvHdMWMuKERkmSdEroWltISqkREW8APgOUgfenlG6NiN8BdqSUrgfeB3woInYC+8kDOMBPAL8TEXUgA34tpbS/W2NVHywO17aFSJKkU0BXe65TSjcANyw69pa223PAy5Z43CeBT3ZzbOqz+ky+FB/kbSG1wytfL0mSNATcoVG9l2XH9lzbFiJJkk4Rhmv1Xn0m/+iERkmSdIoxXKv3WuG61RZiz7UkSTpFGK7Ve/NT+ceRDfnHipvISJKkU4PhWr0332oLaatcpwyyRv/GJEmS1AGGa/Xe4p7r8kj+0UmNkiRpyBmu1XuttpBq24RGcFKjJEkaeoZr9d5SbSHgpEZJkjT0DNfqvfnp/GP7hEZwUqMkSRp6hmv1Xr0I11Ur15Ik6dRiuFbvzS+e0GjlWpIknRoM1+q9hbaQ1oRGK9eSJOnUYLhW79WnoTIGpXJ+f2EpPivXkiRpuBmu1Xvz00f7raFtKT4r15IkabgZrtV78zNHVwoBJzRKkqRThuFavVefPrrGNUCpCoRtIZIkaegZrtV78zNQHT96PyKf1GjlWpIkDTnDtXqvMQeV8WOPlUetXEuSpKFnuFbvNeagOnbssbKVa0mSNPwq/R6AHkF2/Fn+8fADML716H2AchWyRn/GJUmS1CFWrtV7zXoeptuVqlauJUnS0DNcq/eyOpQW/dKkXLFyLUmShp7hWr2XNYrl99qUq3lFW5IkaYgZrtV7y7aFGK4lSdJwM1yr95ZsC6nmxyVJkoaY4Vq9lTLImlauJUnSKclwrd5qTVo8rue6YuVakiQNPcO1eqtVnV6ycu1qIZIkabgZrtVbrXB9XOV6xMq1JEkaeoZr9VarLaS8aEJjqZL3Y9t3LUmShpjhWr21bOW6uN+Y6+14JEmSOshwrd7Klum5bt2vG64lSdLwMlyrt1aa0AjQmO3teCRJkjrIcK3eWliKb4lNZAAatd6OR5IkqYMM1+qt5XquW/frVq4lSdLwMlyrt5btuS4q2VauJUnSEDNcq7cWKteLl+Kz51qSJA0/w7V6y9VCJEnSKcxwrd5qbXHuOteSJOkUZLhWby1XuS4ZriVJ0vAzXKu3luu5LrtaiCRJGn6Ga/VWVs+DdcSxx0uucy1Jkoaf4Vq91Wwc3xICbT3XVq4lSdLwMlyrt7L68ZMZ4WibiKuFSJKkIWa4Vm8160tXrktliJITGiVJ0lAzXKu3ssbxkxlbylXDtSRJGmqGa/XWcpVryNtFXC1EkiQNMcO1emu5nmsoKteuFiJJkoaX4Vq91awv3xZSqrpaiCRJGmqGa/VWtsxSfADliquFSJKkoWa4Vm81V2gLKTmhUZIkDTfDtXorW2FCY3nEcC1Jkoaa4Vq91VxhKb5SxdVCJEnSUDNcq7dWrFy7WogkSRpuhmv11ko912VXC5EkScNtmd/PS+uzc88RPnPrQ5QiKAVcfvZGnp1SUbleYSk+VwuRJElDzHCtrvh/PnMHn7n1oYX7I5USN7+gyQScoC3EcC1JkoaXbSHqip17pvjpK87i9v/rWv7stU9lvpHxjQeLky7FJ0mSTlGGa3VcvZnxw30zPPqsDYxVyzzj0m1MjpT52kORX7DSJjKNOUipd4OVJEnqIMO1Ou6H+2ZoZIlLztgAwGilzDMvPZ2b9hQXLLcUXyt0u2KIJEkaUvZcq+N27pkC4NIzN/AXN94HwORohbvmMhiFO/fV2N/Yf9zjntZqF2nMQnWsZ+OVJEnqFCvX6ri79ubh+lFnTC4ce/RZGxmjDkCKFSY0gpVrSZI0tAzX6ri79kxx9qYxNo4dDdGbx6tcNJqH7qxUXvqBrcq1uzRKkqQhZbhWx921d4pLzpw87vhjJw8DMJNGln7gQuXaFUMkSdJwMlyro1JK3LV3mkuLyYztLp84AsAPZjYu/eCS4VqSJA03w7U66qHDNaZqDS458/hwff7oDAC3TG9a+sGtyrW7NEqSpCFluFZHLawUskTlupLyCY3fPbJ56QeX21YLkSRJGkKGa3VUa6WQS5eoXJdSA4C9jXFmm0t86bXWv3a1EEmSNKQM1+qonXum2Dha4YyNo8edK2V5uJ6jyoH6Ekusl10tRJIkDTfDtToqXylkAxFx3LlW5brGCPuXCtdOaJQkSUPOcK2O2rlnamHb88Uia4XrKgfmV6hcG64lSdKQMlyrYw7P1dlzpLZkvzVAKdXJKNGkvHRbSMnVQiRJ0nAzXKtj7ipWCrnkjOM3kIG8LSSVKoyVmsv0XLcmNNpzLUmShpPhWh1z195pYOmVQiCf0JhFha3VxsqVa1cLkSRJQ8pwrY7ZuWeKajm48LSJJc+XUoOstEK4joDKmKuFSJKkoWW4Vsfc+/A0F542QaW89JdVZA2yqLJ1pLH0hEaAyqgTGiVJ0tAyXKtjDs3WOW1yZNnzpZS3hZxWbbC/XiGlJS6qjBuuJUnS0OpquI6IayPijojYGRHXLXF+NCI+Wpy/MSK2Lzp/YURMRcQbuzlOdcb0fIOJkWUq0hyd0Li12qCeSkwvtUtjdczVQiRJ0tDqWriOiDLwh8DzgSuBV0bElYsuex1wIKV0KfBO4O2Lzr8D+LtujVGdNVVrsGF0hXCd1RcmNAJL911XxlwtRJIkDa1uVq6vAXamlO5OKc0Dfwm8aNE1LwI+WNz+BPCcKLb2i4gXA/cAt3ZxjOqg6VqDydHysufbJzTCSuHa1UIkSdJw6ma4Pg+4v+3+ruLYkteklBrAIWBbRGwAfhP47S6OTx02U2syuWLluliKb2SFcF0dd7UQSZI0tAZ1QuNbgXemlKZWuigiXh8ROyJix969e3szMi0ppcT0/MptIZEax7SF7F9qxZDKqJVrSZI0tJZPQuu3G7ig7f75xbGlrtkVERVgM7APeBrw0oj4r8AWIIuIuZTSH7Q/OKX0HuA9AFdfffVSa0+oR2brTbLEiSvXpSqjpcRkucmBevX4iyrjMLOviyOVJEnqnm6G628Cl0XExeQh+hXAqxZdcz3wGuBrwEuBL6SUEvDjrQsi4q3A1OJgrcEyVcur0SuG69QgRX5+2Y1kXC1EkiQNsa6F65RSIyLeAHwGKAPvTyndGhG/A+xIKV0PvA/4UETsBPaTB3ANoelaE4DJkRNPaIQVwrUTGiVJ0hDrZuWalNINwA2Ljr2l7fYc8LITPMdbuzI4ddT0airXxVJ8kIfr708tsU26S/FJkqQhNqgTGjVkWuF6uQmNkTUI0tFwPZJXrrPFnfLVcdtCJEnS0DJcqyOm51euXJezvNWjvS2kmYKpxqI2ksqo259LkqShZbhWR0wVPdcbltlEptzMw3VrQuNpreX4FvddV8Yhq0PW7NJIJUmSusdwrY44Uc/18ZXrOrDERjLVsfyjG8lIkqQhZLhWR7TC9cTI0uG60szDclYaAVh+C/RKEa5dMUSSJA0hw7U6YmGd62WW4muF62bkG8dsqeZtH8uHayvXkiRp+Biu1RHTtQZj1RKV8tJfUpXGDHC0cl0tJTZWGhxYvAV6dTz/6IohkiRpCBmu1RHT881ll+GDtsp16eiW50tuJFMZzT+6YogkSRpChmt1xHStseIGMpXmsZVryFcMWXK1EDBcS5KkoWS4VkdM1xpMLjOZEdor10fD9YqVa1cLkSRJQ8hwrY6YqjVW1RaSLWoLObh4l8ZWz7WrhUiSpCFkuFZHTNeaTCyzgQwcndDYXrneVG2SCKabbV+GrhYiSZKGmOFaHXHinutZEkd3aAQYL2UAzDbbQnkrXLtaiCRJGkKGa3XEVK3BhhP0XGelEYhYODZezte6nmmvXLd2aHRCoyRJGkKGa3XEzHzzhKuFtLeEAEyU88r1MeHa1UIkSdIQM1xr3VJKTM832LBiz/XsMZMZAcbLrbaQ9nDtaiGSJGl4Ga61bjPzTVJixcp1uTlLM5arXLeFclcLkSRJQ8xwrXWbrjWAlcN1tTlzXOV6oui5ns3avgzLVYiyq4VIkqShZLjWuk0thOsV2kJaExrbLNkWAvmKIa4WIkmShpDhWus2Xcsr0Cvt0Fhuzh43oXEkEiXSsRMaIV8xxAmNkiRpCBmutW6tyvVKOzRWG8e3hUTkfdfHrHMN+YohhmtJkjSEDNdat5n5E/dcL1W5hnyt6+Mq15VRw7UkSRpKhmut29SqJjQevxQftCrXi9tCxu25liRJQ8lwrXVr9Vwv2xaSMirLVq6zJSrXY64WIkmShpLhWus2fYLVQsrNvAq9bOU6W9xzPeY615IkaSgZrrVurbaQiWVWC6k2ZwBW33NdHXOHRkmSNJQM11q36VqD8WqZcimWPF9u5kF58TrXABOlJXquKy7FJ0mShpPhWus2Pd9YcTJjpRWu4/i2kPGlJjQariVJ0pAyXGvdpmtNNqywO2O1sXxbyEQ5o55K1LO2qnfVHRolSdJwMlxr3aZrK1euj7aFLFW5zlcaOaZ6XRl3tRBJkjSUDNdat6kThOtWW8hyS/EBzGTt4XrU1UIkSdJQMlxr3abnG0yOLN8WMlI/AkCzPHbcuYlWuG6vXFfH89VCUursQCVJkrrMcK11m641V6xcj84fAKBenjjuXKtyPdtsC+eVMSBBc76j45QkSeo2w7XWbarWWH53RmBsfj/NqC6zFF/ec31M5bpSVLhdMUSSJA2Z5RORtIS/uPG+444dmqlz//6ZJc9BXrmujWyFOH4d7ImFynV7W0gRrutzMLZ5/YOWJEnqESvXWpcsJeabGaPV5XuuR+sHmRs5bclz40uF64XKtSuGSJKk4WK41rrUG3k4Hq0s/6U0Nr+f2siWJc8trBZyXM81rhgiSZKGjuFa61IrwvXICuF6oS1kCSOlRCUW7dJYHc8/1q1cS5Kk4WK41rrUVlG5Hp0/SG2ZthDIq9fHrXMNTmiUJElDx3Ctdak18tU+RitL91yXsjojjSPMLVO5BpgoZYtWC7FyLUmShpPhWutyoraQ1hrXy7WFQF65Pmad61ZbiJVrSZI0ZAzXWpf5E7SFrCZcT5QX91wXm83UZzozSEmSpB4xXGtdjvZcL90W0grXK7WFjJebx29/DraFSJKkoWO41roc7ble+ktpbKFyvfyExuUr14ZrSZI0XAzXWpcTt4XsB6BW3bLsc4wfF65blWvbQiRJ0nAxXGtdWm0h1RV6rhPB/Mjy25iPlzNmmmVSKg4shGsnNEqSpOFiuNa61OpNRsolShFLnt965A6OTFxIiuW3R58oN2kS1LLiQKkM5VEr15IkaegYrrUutUa2bEtIpCZn7r+JPduuXvE5xkt5qj5Sbwvo1XF7riVJ0tAxXGtdao1s2TWutxy+g5HGER467ZoVn2Oi3ArXiyY1WrmWJElDxnCtdZlvZIxWl/4yOmv/NwHYc9rKletWuJ6yci1JkoZcpd8D0HCbb2aMlI/tp47U5Em3/Te2P/C3HJ64iNmxM1d8jvFyvpzfVKM9XE8YriVJ0tAxXGtd6s2M8eqx4fqxO9/DY374YXad+WzuvPDlJ3yO8aJyffiYyvWYbSGSJGnoGK61Lo1mojJ2tC1kcmY3j9/5x9xz7s/ztSf8Hiyziki7o20hi9a6tnItSZKGjD3XWpdGllEpHQ3Qpx26lSBx+/ZfWlWwhqOV62NXC3FCoyRJGj6Ga61Lo5molo+G4s1Td5EIDm941KqfY6K0VM+1lWtJkjR8DNdal3qWqJSOfhltntrJ1Ph5NMvjq36OSgmqkS1aLcQJjZIkafgYrrUujWZGZVHl+tDGS9f8PBPljMPH9VzbFiJJkoaL4Vrr0mirXJeyOpumf8ihDScXrm0LkSRJw85wrZOWpUQzSwuV643T91JKDQ5tuGTNzzVebh7fFtKYhSzr1HAlSZK6znCtk9bMEgDVYrWQzVN3AXDwJNpCxsvZotVCip7txtz6BilJktRDhmudtEYzD9eVcv5lND63B4Dp8XPW/Fx5W0h7z/VE8SKGa0mSNDwM1zpp9aJlo9UWMja/nywq1Cub1vxc46Wicr3jz/I/u7+Vn7jpA50ariRJUte5Q6NO2kLlupjQODp/gNrIloXNYy657+Orfq7j2kLK1fxjc74jY5UkSeoFK9c6aY3m8ZXruZHTTuq5JooJjSkVB8oj+cdmfb3DlCRJ6hnDtU5aY9GExrH5/dRGtp7Uc42XMzKC2WZxYCFcW7mWJEnDw3Ctk3a0cn20LeTkK9f5cx1pbSSz0BZi5VqSJA0Pw7VOWj1r9VwXlevafmonGa7HSnm4nmltJGPPtSRJGkKGa5209qX4Ss15qs3pk65cjxWV6+mFcG1biCRJGj6Ga520RmspvlIwOr8fgLmT7LkePa5y7YRGSZI0fFyKTyftaOU6uPS+jwGw9fDta1qCr2WhLaRpW4gkSRpeVq510lqV62qpRLU5DUC9MnFSzzVWzoP68ZVrw7UkSRoehmudtHpb5bramMmPlSdP6rlaleuFnutS8UsV20IkSdIQMVzrpDWyozs0Vhp55bpROblw3eq5nm2F6yhBqWrlWpIkDRXDtU5a+w6N1eYMWZRolkZP6rmOWy0E8tYQK9eSJGmIGK510hpt61xXGjM0yhMQcYJHLW0kEkE62nMN+aRGK9eSJGmIGK510hrNjEopiAjKWe2kq9aQZ/KJSlqicm24liRJw8NwrZNWzxKVch6Gy1mNZvnkwzXk4Xq2uShcZ7aFSJKk4dHVcB0R10bEHRGxMyKuW+L8aER8tDh/Y0RsL45fExE3F3++ExEv6eY4dXIazUSllH8JlZvrq1wDTB5Xua7acy1JkobKqsJ1RPzPiPjZiFh1GI+IMvCHwPOBK4FXRsSViy57HXAgpXQp8E7g7cXxW4CrU0pXAdcC744IN7wZMI1m1la5nl93uJ6oLO65ti1EkiQNl9WG5T8CXgXcGRFvi4jLV/GYa4CdKaW7U0rzwF8CL1p0zYuADxa3PwE8JyIipTSTUmoUx8eAtMpxqocaWVvlOptbf1tI2QmNkiRpuK0qXKeUPp9S+iXgycC9wOcj4qsR8SsRUV3mYecB97fd31UcW/KaIkwfArYBRMTTIuJW4HvAr7WFbQ2IRjOj2qpcd6AtZOkJjbaFSJKk4bGWNo9twGuBfwl8G3gXedj+XDcGllK6MaX0WOCpwJsjYmyJMb0+InZExI69e/d2YxhaQV65DkiJclajsc7K9WQlMbN4QqOVa0mSNERW23P9KeArwATw8ymlF6aUPppS+jfAhmUethu4oO3++cWxJa8peqo3A/vaL0gp3QZMAY9b/AIppfeklK5OKV19xhlnrOZTUQc1skSlXKLSnCVg3ZXr8eN6rp3QKEmShstqK9fvTSldmVL6LymlH0G+0gdASunqZR7zTeCyiLg4IkaAVwDXL7rmeuA1xe2XAl9IKaXiMZXidS4CHkPejqIB0lrnuto4Aqw/XE8uGa6tXEuSpOGx2nD9u0sc+9pKDyh6pN8AfAa4DfhYSunWiPidiHhhcdn7gG0RsRP490Brub5nAd+JiJuBTwH/OqX08CrHqh5pVa6rjWmAjkxoPK7nOmtA1lzX80qSJPXKisvbRcTZ5JMOxyPiSUAr+WwibxFZUUrpBuCGRcfe0nZ7DnjZEo/7EPChEz2/+qveTEXlegpYf+V6opKYz4JGBpUSebgGqM/C6HLdR5IkSYPjRGtHP498EuP5wDvajh8B/mOXxqQh0cjy1UIWwnUHJjQCzDSDTaWUt4WA4VqSJA2NFcN1SumDwAcj4hdSSp/s0Zg0JFo7NC60hXSgcg0w0wg2VVNb5XpmXc8rSZLUKydqC3l1SunDwPaI+PeLz6eU3rHEw/QI0cjyHRqr9c61hQBHJzW2V64lSZKGwInaQiaLj/5OXsc5WrnuTFvI8eHayrUkSRouJ2oLeXfx8bd7MxwNi5RSsVpI5yY0TpbzcD19XLi2ci1JkobDajeR+a8RsSkiqhHxDxGxNyJe3e3BaXA1sjwIV0tBtTlNs1SFWPWGn0uyLUSSJA271aahn0kpHQZ+jnwzl0uBN3VrUBp8jWYehPN1rqfWXbWGtnDdXFS5bhiuJUnScFhtuG61j/ws8PGU0qEujUdDopFlAAsTGjsZrhfaQkq2hUiSpOFyogmNLX8bEbcDs8D/HhFnAHPdG5YG3ULlupjQuN7JjHB0nevZ49pCnNAoSZKGw6oq1yml64BnAFenlOrANPCibg5Mg63eXrluTHencu2ERkmSNGRWW7kGeAz5etftj/nzDo9HQ6JVua6WgkpzmmarhWMdRktQIrkUnyRJGlqrCtcR8SHgEuBmoFkcThiuH7Faq4VUyiUqjVlqI1vX/ZwReWvIQrgulYGwci1JkobGaivXVwNXppRSNwej4dFoFm0hpaDSnGWmdGZHnne8ko6uFhKR910briVJ0pBY7WohtwBnd3MgGi7HVK6bc2Slakeed7KSjvZcQ94aYluIJEkaEqutXJ8OfD8ivgHUWgdTSi/syqg08BYq1wHl5ixZdCZcT1TS0dVCwMq1JEkaKqsN12/t5iA0fOpF5Xq0VKdERtaBCY0AE2Ur15IkaXitKlynlP4xIi4CLkspfT4iJoByd4emQdZaLWQ85b/IaHaoLWSikjg439atVB6xci1JkobGqnquI+JfAZ8A3l0cOg/4qy6NSUOgtUPjeLGXUKcq15PtExrBthBJkjRUVjuh8deBZwKHAVJKdwKdWR5CQ6lVuR5N80BnK9cztoVIkqQhtdpwXUupSFFAsZGMy/I9grUmNI62KtcdnNB4fM+1lWtJkjQcVhuu/zEi/iMwHhHPBT4O/E33hqVB15rQOJblwbdTS/EdX7muWrmWJElDY7Xh+jpgL/A94FeBG4Df6tagNPgazZRvIJN1vud6PgvqWXGgPAL1uY48tyRJUretdrWQLCL+CvirlNLe7g5Jw6CRZVTKQaWRV6471XM9Xs4r4jONYPNIckKjJEkaKitWriP31oh4GLgDuCMi9kbEW3ozPA2qvHJdaqtcd26HRuBoa4gTGiVJ0hA5UVvIvyNfJeSpKaXTUkqnAU8DnhkR/67ro9PAalWuy0XlOosObSLTCtfNtnCd1aFZ78jzS5IkddOJwvW/AF6ZUrqndSCldDfwauCXuzkwDbbRI/cx0ZzirH1fBzq7FB+0V66L57U1RJIkDYEThetqSunhxQeLvuvOpCkNpXoWVEuJcpZXlDvdFjLd3hYChmtJkjQUThSu50/ynE5x9ZSH61I2TxYViNUuPLOyVuV6thWuW6HdvmtJkjQETrRayBMj4vASxwMY68J4NCTqWYmRSJRSo2MtIQATZSvXkiRpeK0YrlNK5V4NRMNlPgWT5SblbL5jLSFgz7UkSRpunfldvh5x6llQjUQpq3dspRBoW4qvubhybVuIJEkafIZrnZTWhMZSNt/ZtpDjJjRauZYkScPDcK2TUk8lRorVQjrZFjJSgnKkYzeRASvXkiRpKBiudVLms6AaWd4W0sFwHZFXr48P11auJUnS4DNc66QsLMWX6mSlzvVcQ953ffyERivXkiRp8BmudVLqWTASiXI2TzM6u5/QRDm5FJ8kSRpKhmutWUqJeioVExo7X7meqCRmj1stxHAtSZIGn+Faa9bI8hU9qqUs36GxdKK9iNZmotJWuS6VoVSBhuFakiQNPsO11qzRzMP1CE3KqUGzC5XrhZ5rgOqElWtJkjQUDNdas0aWATBeqgOQdbjnevK4cD3uhEZJkjQUDNdas1blepx5gK60hRwfrq1cS5KkwWe41prVW5XrqAGQRWfD9WR7zzUUbSFWriVJ0uAzXGvNFirXkVeuUwc3kQEYL7etFgJWriVJ0tAwXGvNWquFjNHque585Xo+C+az4kDFcC1JkoaD4Vpr1mjmqXe0Fa670HMNMNtqDXFCoyRJGhKGa61Zq3I9SqvnusM7NBbheuaYcG3lWpIkDT7DtdasVbke63LlemFSoxMaJUnSkDBca83qC5XrLq1zXV4crq1cS5Kk4WC41pod3aGxO+tcT1aXqlwbriVJ0uAzXGvNWjs0LoTrLqwWAosr1zOQUkdfR5IkqdMM11qzVuW6mlo9153f/hwWTWhMGTTnO/o6kiRJnWa41pq1JjRWaQDdq1xPtbeFgJMaJUnSwDNca81aExp7WrkGqM919HUkSZI6zXCtNWs0E9XIKKU6GSWIzn4ZtZbim6oXz2vlWpIkDQnDtdaskWVUS4lS1iB1eKUQgFLARDlbonLtiiGSJGmwGa61ZnnlOlFKjY6vcd0yUUlL9FwbriVJ0mAzXGvNGlnGSClRyuodX+O6ZUM1LVG5ti1EkiQNNsO11qy+0HPd6PhKIS0TlXTsOtdg5VqSJA08w7XWrJGloue63vGVQlo2LBmurVxLkqTBZrjWmjWaxYRGK9eSJEnHMFxrzRpZYqQ1obFLPdeTx4Rrl+KTJEnDwXCtNcsr1xmlrHurhUxauZYkSUPIcK01a2Stpfi6t1rIMeG6YriWJEnDwXCtNasXPdfR7cp1PUgJKFegPGJbiCRJGniGa61Zo5nyda67XLnOCGpZcaA6buVakiQNPMO11qyeJUYi77lOXVotZLKSAJiqB+z4M0jAj76T35YkSRpQhmut2dGl+LpYua7m4Xphl8ZyFZrzXXktSZKkTjFca80azcRINCmlrKs91wBTjeJLtDxiuJYkSQPPcK01yVKimRITUcvvd63nOm+2PqZyndW78lqSJEmdYrjWmjSaeUV5IvIqcrcq1xMLletWuB6BpuFakiQNNsO11qTRzCvKC+G6S5XrDZXFPde2hUiSpMFnuNaa1LOick2vK9dOaJQkSYPPcK01aVWux/pSubYtRJIkDTbDtdakVbkeX+i57k64blWup+u2hUiSpOFhuNaatCrXo0VbSOpS5Xq0DNVITB/TFmLlWpIkDTbDtdakXqwWMtblnmvIq9fTi3uuU+ra60mSJK2X4Vpr0siKynXkVeRu9VwDbKi2h+uR/KNrXUuSpAHW1XAdEddGxB0RsTMirlvi/GhEfLQ4f2NEbC+OPzciboqI7xUff6qb49Tqtda5Hk19qFyDrSGSJGmgdS1cR0QZ+EPg+cCVwCsj4spFl70OOJBSuhR4J/D24vjDwM+nlB4PvAb4ULfGqbWpL/Rcd79yPVlZonLtpEZJkjTAulm5vgbYmVK6O6U0D/wl8KJF17wI+GBx+xPAcyIiUkrfTik9UBy/FRiPiNEujlWr1Kpcj7TCdRcr18eE65KVa0mSNPi6Ga7PA+5vu7+rOLbkNSmlBnAI2Lboml8AvpVSqnVpnFqDetFzXU3dXecaFleui3Btz7UkSRpg3UtGHRARjyVvFfmZZc6/Hng9wIUXXtjDkT1yHV+57na4Ln7+s+dakiQNgW5WrncDF7TdP784tuQ1EVEBNgP7ivvnA58CfjmldNdSL5BSek9K6eqU0tVnnHFGh4evpbTWua5SJ4sSRPe+hCYr2dEdGm0LkSRJQ6Cb4fqbwGURcXFEjACvAK5fdM315BMWAV4KfCGllCJiC/Bp4LqU0j93cYxao9YOjZVU72q/NeSV66m6q4VIkqTh0bVwXfRQvwH4DHAb8LGU0q0R8TsR8cLisvcB2yJiJ/DvgdZyfW8ALgXeEhE3F3/O7NZYtXqNZqJSCsqp0dV+a8jDdS0LGhmucy1JkoZCV9NRSukG4IZFx97SdnsOeNkSj/td4He7OTadnHqWUSkHkTW6XrmeqORV8ulGsNm2EEmSNATcoVFr0mgmqqUSpVQndblyvaGah+uZRtgWIkmShoLhWmvSaOaV61KPK9dHl+JzExlJkjS4DNdak3qWqBSV6273XG9YKlxbuZYkSQPMcK01aTQzqguV6+6G62Mq160gb7iWJEkDzHCtNWk0E5VyiVLqfrg+pnIdpTxgG64lSdIAM1xrTVqrhZSyOlmphz3XkLeGuBSfJEkaYIZrrcnR1UJ6XLmGfJdGK9eSJGmAGa61JvX21UJ6Vblu36XRcC1JkgaY4Vpr0sgS1XKxWkjPJjQWX6a2hUiSpAFnuNaaNJoZlVKxQ2OXl+IrBUyUs0VtIa5zLUmSBpfhWmtSbyZGShklsq5vIgMwWU3HTmi0LUSSJA0ww7XWpJFlTEYecLtduQaYrCRXC5EkSUPDcK1VSynRaCbGS3lrRupyzzXk4XrG1UIkSdKQMFxr1erNRAImogHQ9dVCIA/XU7aFSJKkIWG41qrVGk0AxiOvXHd7tRBYVLkuj9gWIkmSBprhWqs2V88AGFvoue5+5XqivXJtW4gkSRpwhmutWj8q1xuOqVwbriVJ0mAzXGvVFirX9G61kIlKOnaHxqwOKXX9dSVJkk6G4Vqr1qpcjy1UrrvfFrKhWIovJfJwDdCodf11JUmSTkb3S486ZdQarcp1Ea47XLm+8Z79xx3bdwQyJvnK3Qe46GCdi4CP33gn9epmXvW0Czv6+pIkSetl5VqrNlfPK9ej9K7neqyUB/q5ZmmhUl5pWrmWJEmDyXCtVWtVrlvhOvVgtZCxcv6as1lpoVJeNlxLkqQBZbjWqtWKCY0jqb+V63I21/XXlSRJOhmGa61aa0LjaCtc96ByPd6qXDetXEuSpMFnuNaqLVSue9hzPVGE65lmaeH1rFxLkqRBZbjWqs0VletqmieLMkR0/TUnyvlrzjTLC5VyJzRKkqRBZbjWqh3tua71ZI1rgEkr15IkaYgYrrVqrZ7ralbrye6M0N4WcrRyXW4ariVJ0mAyXGvV5uoZAVSy3lWuq6VENTKm2yvXtoVIkqQBZbjWqtUaTarlEuUeVq4hr17PNEtHe65tC5EkSQPKcK1VqzUyKuWgks31ZKWQlslyM28LsXItSZIGnOFaqzZXLyrXzf5Wru25liRJg8pwrVWrNTIqpaCc1Ug96rkGmKjklWuiREbeliJJkjSIDNdatbl6k0o5+lK5nm7mX6qpVLEtRJIkDSzDtVat1siOTmjsZeW6nDFbhOssqq5zLUmSBpbhWqtWqxdtIc25nlauJ8tNphtlALJSxR0aJUnSwDJca9XmGk0qrQmNPaxcj5cz5lOJRmblWpIkDTbDtVatVs+oloJyNkdWKvfsdSfL+c6Q+S6N9lxLkqTBZbjWqtUazaItpPc918DCcnyuFiJJkgaV4VqrNlfPGC83KZH1uOc6D9fTxUYyrnMtSZIGVe8SkoZerZExHnnQ7W3PdastpKhc2xYiSZIGlJVrrVqt3mS8VAfo+TrXUITrqDihUZIkDSzDtVat1siYbIXrHlauj53QWHUpPkmSNLAM11qVLEvMNzPGmc/v97VybbiWJEmDyXCtVak18oDbagtJPV7nOkj5hMaSExolSdLgMlxrVWqNvDVjPFqV696tc10KGCtlReXapfgkSdLgMlxrVVqV6zF633MNMFnJFjaRKaUmkdV7+vqSJEmrYbjWqszV88r1WPS+5xpgotxcqFwDLscnSZIGkuFaq3K0cl2E6x5XrifKGdON0kKor7gcnyRJGkCGa61Kq3I9Su/XuYY8XM80y1auJUnSQDNca1ValevRvlWum8w2j1aundQoSZIGkeFaq1KrF+E69afnerKcMd0sLywBWG7O9vT1JUmSVsNwrVU52hbSv8r1TLNEM4qea9tCJEnSADJca1VabSEjKQ+1KXq3zjXkPdcZQY2icu2ERkmSNIAM11qV1iYyI2meRmkUInr6+hPl/PWn0yjghEZJkjSYDNdalbn60cp1szza89efLOevP51GACc0SpKkwWS41qq0KtfVVKNZGuv5648X4Xoqy1+73LQtRJIkDR7DtValVbmupvm+VK5bbSFTrcq1bSGSJGkAGa61KguV62yORnm8568/WcnD/ZEsD/bu0ChJkgaR4VqrUmtkjJRLVJqzfQnXrcr14YW2ECvXkiRp8BiutSpz9Saj1f6F69aExsPNKhkll+KTJEkDyXCtVak1MkYrZSrNWZrl3k9orEaiHImZrEKzPEbFCY2SJGkAGa61KrV6xmilRKXZn57rCJgsN5lplGiUx93+XJIkDSTDtVZlrtFkrFqi3JylUZ7oyxgmylm+BXp5jIrhWpIkDSDDtVYlr1yX+9ZzDfmkxulmmUZ53LYQSZI0kAzXWpVao8lYJfrWcw1HK9eN8oSVa0mSNJAM11qVWj1jopIopWYfK9cZM80yjYo915IkaTAZrrUqtUaTTeV5gL6F68lyM++5Lo1RaRiuJUnS4DFca1Xm6hmbynUAGpV+Vq5LNCrj7tAoSZIGkuFaq1JrNNlYyndF7OeExrmsTL00TqUx05cxSJIkrcRwrVWZmW+ysZJXrvs5oRGgFqNOaJQkSQPJcK1Vmao12NxqC+lXz3WlCcBcjDqhUZIkDSTDtU6omSVm5tsnNPZvExmAWcYopwY0630ZhyRJ0nIM1zqh6fkGABtL/V0tZLwI1zNpND9Qt+9akiQNFsO1TmhqLg/XG4pw3a+e6w3lvC1kOo3kB+YN15IkabAYrnVCU7U8XE9EfyvXm6v5OKaaRbi2ci1JkgaM4VondDRc93cpvo3FhMbDWTU/MD/dl3FIkiQtp6vhOiKujYg7ImJnRFy3xPnRiPhocf7GiNheHN8WEV+MiKmI+INujlEn1moLGSffuKVf4boS+S6NhxqtyrUrhkiSpMHStXAdEWXgD4HnA1cCr4yIKxdd9jrgQErpUuCdwNuL43PAfwLe2K3xafWmi8r1GPM0o0oqVfo2lk2VJocaReW6buVakiQNlm5Wrq8BdqaU7k4pzQN/Cbxo0TUvAj5Y3P4E8JyIiJTSdErpnwD3uB4AR4pwPZLN9W0yY8vGSoODjSLcO6FRkiQNmG6G6/OA+9vu7yqOLXlNSqkBHAK2dXFMOgmttpCRbLZvLSEtmypNDtRblWvDtSRJGixDPaExIl4fETsiYsfevXv7PZxTVqstpNqcpVHpzwYyLZuqTfbPF5Vrw7UkSRow3QzXu4EL2u6fXxxb8pqIqACbgX2rfYGU0ntSSlenlK4+44wz1jlcLWeq1mC0UqLUmBuAynWDh+fL+R3bQiRJ0oDpZrj+JnBZRFwcESPAK4DrF11zPfCa4vZLgS+klFIXx6STcKTWYONYBerTNPrcc72p0mzbodEJjZIkabB0bdmHlFIjIt4AfAYoA+9PKd0aEb8D7EgpXQ+8D/hQROwE9pMHcAAi4l5gEzASES8Gfial9P1ujVfLm6412DBagfkZmn2vXDeZp0JGmZKVa0mSNGC6uqZaSukG4IZFx97SdnsOeNkyj93ezbFp9abmGkyOVqA+S6O8ua9jyTeSCebLY4y5zrUkSRowQz2hUb0xtVC5nup7z3VrC/T5GLMtRJIkDRzDtU5oIVzXjlCvbOjrWDYVW6DXYswJjZIkaeAYrnVCebguD1S4notRl+KTJEkDx3CtE5quNdgykkFWp16Z7OtYqqXEaKXELKMwb1uIJEkaLIZrndCRuQanVWoAfa9cA0yOVphK4zA/1e+hSJIkHcNwrRXVmxm1RsbWcitc97dyDTA5UuZIGoPakX4PRZIk6RiGa62otfX5lvIcMDiV68PZONSsXEuSpMFiuNaKjszl4Xpj5GtKD0S4HqlwMBu1ci1JkgZOVzeR0fCbns/D9aZoVa4HoC1ktMzBxhhwBLIMSv6MKEmSBoOpRCuaKirXk+TL3g1E5Xq0wuE0lt9xIxlJkjRADNda0ZGi53qCVlvIAFSuRypMUewUaWuIJEkaIIZrrag1oXEiyyvEg1K5nkqGa0mSNHgM11pRqy1kNJuBUpWsNNLnEeU910cr164YIkmSBofhWiuaKirXo81pGN0IEX0e0eLK9eH+DkaSJKmN4VoraoXrSmMqD9cDwJ5rSZI0qAzXWtHUXIOJkTKl2uCE65FKiVqpCNdugS5JkgaI4Vormp5vsGG0krdfDEi4BshGirFYuZYkSQPEcK0VHZlrhesjAxWuWQjX9lxLkqTBYbjWiqZqDTaMDV64HhkbY56qq4VIkqSBYrjWiqZrDSZHBi9cT45UmGbcthBJkjRQDNda0ZG5waxcT45WOJLGSIZrSZI0QCr9HoAG2/R8g81HdkJjFh7eySWHPt7vIQGtcD1Oc+6wX8SSJGlgWLnWiqbmGpxWns3vVMb6O5g2G4pdGhszTmiUJEmDw3CtFU3VGpxeKlovRib7O5g2kyP5Lo3ZnOFakiQNDsO1llVrNKk3E6dFsSLHyER/B9RmcrTYpdGea0mSNEAM11rW1Fy+9fmWmM4PVAencr1xLK9chzs0SpKkAWK41rKmanm43kyrcj044XrTeJXpmKBaPwIp9Xs4kiRJgOFaK2iF6w2paL2oDk5bSCmCNL6VSpqH+ky/hyNJkgQYrrWCVlvIhmwaCKgOzmohAOUNp+c3Zvb3dyCSJEkFw7WWNT2fh+vxbDqfzBiD9eUyvqkVrvf1dyCSJEkF99/Qso4UlevRbGqgJjNecl++kc1DjbwdZPqmv2Ty3Kv6OCJJkqTcYJUiNVBaPdcjjemBmszYsnVD3gO+/8hsn0ciSZKUM1xrWdNFuK40pgdqjeuWMzblPeCHpw3XkiRpMBiutaypuQYRUKpPD9RKIS3nbs7D9cys4VqSJA0Gw7WWdaTWYMNIhajPDGRbyKbREkfSOPXadL+HIkmSBBiutYLpWoMtIwma8wM1obHddGkDad5wLUmSBoPhWsuaqjU4d7TYoGUAe64BauVJKg03kZEkSYPBcK1lTdWanFUtguuAVq6blUnGmlM0M7dAlyRJ/We41rKm5uqcVR7synVpZIItTPHg4bl+D0WSJMlwreVN1RqcVTqU3xnd1N/BLGNkbIKtMcV9+2wNkSRJ/We41rKma03OiIP5nQEN15MTE2yKGXY9fLjfQ5EkSTJca3mHZuucnvZDqQrV8X4PZ0kbJvJ2lb17H+zzSCRJkgzXWsah2TpTtQZnxkEY2wQR/R7Skspj+UTLQw8/0OeRSJIkGa61jF0H8h7mrdm+gW0JAWBsCwC1A4ZrSZLUf4ZrLWn3gXxL8Q3zD8PY5j6PZgXF2OLw7j4PRJIkyXCtZewqwvXI7J68LWRQFeF60/wepmuNPg9GkiQ90hmutaTdB2fZVq1Tmj8y2G0hpQpzlU2cHfu5/4DL8UmSpP4yXGtJuw7M8LhNefV6oNtCgGx0M+fEfte6liRJfWe41pJ2H5zl8g3T+Z1BrlwD1cktnBP7ueUB17qWJEn9ZbjWknYdmOVRo0fyOwNeua5ObOG88n6+dtfD/R6KJEl6hDNc6zhTtQYHZ+pcUC0qwQNeuWZsMxvSNHfc9yAz805qlCRJ/WO41nFay/Cdk/bkwXpAd2dcUKx1fXraxzfu2d/fsUiSpEc0w7WOs/tgPjFw2/wuOO3igd2dccH4FgDOLx/ga3ft6+9YJEnSI5rhWsdprXE9OXUfbL24z6NZhaJy/fRt03zVcC1JkvrIcK3j7D4wy3glUT58H5z2qH4P58QmToPKGNdseJhbHjjEwZn5fo9IkiQ9QhmudZxdB2Z50qYpImsMR7iOEpz+aC7hflKCr99t37UkSeoPw7WOs+vgLE+cLNorhiFcA5zxGDYf2cl4teySfJIkqW8M1zrO7gMzXF4tAuqwhOszH0Mc3s1PXDTKP9t3LUmS+sRwrWPM1Zs8PDXP9ngQKuOw8ex+D2l1zngMANeeeYide6bYc3iuzwOSJEmPRIZrHaO1UsjZjSFZhq+lCNdPndwDwFfutDVEkiT1XqXfA9Bg2X1wFkhsO/R9uPy5/R7Oim5s2zDm7kaJl5VGOXLfd9g2eTFv//vbmZlvUi4d/eHgVU+7sB/DlCRJjyBWrnWMXQdmOIf9VOcehnOf3O/hrFqKMvs2P44zD36b5z32bPYcqfGt+w70e1iSJOkRxnCtY+w+MMtV5XvyO+cNT7gG2LPtqWw9dBtPPLPEBVvH+fxtDzHfyPo9LEmS9AhiuNYxdh2Y5RnjP4RSBc56XL+HsyZ7TruaEhlnHfg2L3j8ORyZa/BPO+29liRJvWO41jF2H5zlieV74MwroTrW7+GsycNbnkAzqpy5fwcXbZvkynM28eU793Jkrt7voUmSpEcIw7WO8eD+Qzy6fjuc95R+D2VNLrnv42zf/bdMj5/DRT+6AYDnPfZsGs2Mj+/YZXuIJEnqCcO1Fvzo0CyXTH+bsWwGLn9+v4dzUvZvuoLJuYfYfGQnZ2wc5SVPOp+79k7x51+/l9n5Zr+HJ0mSTnEuxfcI9xc33rdw+8s/2MvzSjuYL0/wPx9+FNmB/Nwl9+1f7uEDZ9/mx3HRg59l+wN/w3cu/3c85aKtlAI+cdMufuUD3+D9r30qEyN+2UuSpO6wci0AUkrcfN8+rq18iyOT27l49/Vcct/HueS+j/d7aGvSqExycMMlbH/g00SW91o/6cKtvOzqC/jGPft5/ru+wmdufZCUUp9HKkmSTkWGawHwo0NzPHb662zjAPs3XdHv4azLntOewuTcQ2x/4NMLx666YAsfft3TGCmX+NUP3cSr33cj37hnP1lmyJYkSZ1juBYAN993gF+vXM+RsXOHPlwf3PBo9m+6gsftfPdC9RrgGZeezg2/8eO89eev5Jbdh3n5u7/G09/2D7z1+lv55r0GbUmStH42nz7S7PizRQeeQ5YSk7v/kSeX7uSbj/qPEEP+M1cE373s13n2TW/g8nv/B7c/6rXA0f7ykUqZ/+M5l3H7g0f43u5DfPjrP+QDX72XTWMVHnveZp5w3mZ+89rHUGrbOn2gLX5Pr/6V/oxDkiQZrgW7H3iAt6Y/Ye/Yhdx9/kvYvvtv+j2kdXvgjJ/g/jN/kifc+YfsOus5TE1ecMz50WqZJ16whSdesIVavcltDx7hlt2H+OY9+/naXfv465sf4PmPP5sXX3UeT7xgS38+CUmSNHTiVJnYdfXVV6cdO3b0exiDLSX4u9+EB76dV6e3XMDO/Q3GHvg6Z2V7uOXi/435yXP6PcqOqdYP84Sdf8zc6Da+v/217Nz+yhM+Zq7e5PYHj3BwZp4v/WAv842MJ16whdc+4yJe8PhzGK2UezDyNfrm+2HvbVAZgy0XwTX/st8jkiTplBYRN6WUrl7ynOH6EaIxD3/96/C9j0F1Ig/X81MA7Emb+dD4v+BZl5zW50F23tbDt/Po+z/GQ1ufzD887QMQq2v1eNXTLuTIXJ1PfXs3H/zqvdy1d5qtE1Ve+MRz+YWnnM/jz9tMrPK5ump+Bt73M/DQ9/L72y6F//2rUBnt77gkSTqFGa4f6ean4WO/DDs/D4++Fi75aSiV+fSdU/zBLVXmqlt446P3cPpIo98j7YrzH/oHznv4n7n50b/B9y9Ze1U3pcTOvVPsuPcAt/3oMI0ssW1yhCvO2cTlZ2/kom0T/PLTt3d+4Ktx/b+Fb/05XPHzUCrDrZ+CJ/wivOTdq/5BQqvU3tueNeApvwJlO+sk6ZFopXDt/wynuofvhE/9GjzwLfj5d0FK7J4p8d4fTPCBnWfxhI3TvPFRu9lQOXW3B9915k8xWj/EVT94F6Wszi2X/uqaJm1GBJeduZHLztzI7HyTW3Yf4pYHDvG1u/fxTzsfZqRc4u++9yBPvmgLV12wlcecvZHztox3f0LkLZ+Eb30QLv1puOSn8mP1WfjuR+HS58ITXtbd138kajZg5+fgri/ADW+Cy18AP/dO2HhWv0cmSRoQXa1cR8S1wLuAMvCnKaW3LTo/Cvw58BRgH/CLKaV7i3NvBl4HNIF/m1L6zEqvZeW6kDVh901w71fg3n+Ge/6RNDLJPc94O3/XfCqf/cYtfOdAFYDXXDLD8zbfR/mRUOBMGWcc+i6P2n09Pzr9GXzrMW/i0MZL1/WUtUaTu/ZMs3PvFNO1Bt//0WGaxXJ+EyNlLjtrI5eftYFHn7WRR5+1kcvP3siZG0c70k6S9t9D+pMf5/DGS7n+9H/FrtkqG6uJx2ya5yd+9AFGDt5J/OqXYev2db+WCl//Y9jxfnj4B3DOVbD9WfDNP4WxLfDqT8DZj+/3CCVJPdKXtpCIKAM/AJ4L7AK+CbwypfT9tmv+NfCElNKvRcQrgJeklH4xIq4EPgJcA5wLfB54dEqpudzrPaLDdX0W7v4S/NM7SQ/dShS91PvGLuJr1afx9kPP4f75jQA8cWuda8+rce15NS7e2OTGe4Zna/P1uuuCl3Lp/R/nSbf/N6rNWfZuuYoHT/8xDmx8DAc2PZqZ8XNJcfITFucbGT86NMtDh2s8dGSOhw7P8dDhGtO1o+02Y9USZ20c40kXbuG8reOct2WCc7eMcf7Wcc7dMr7k1ux/ceN9zDcy9hyZ48FDcxx86D5+a/91nJ4O8IL5/8KudAaVyGikvBp/YTzE347+FjOjZ/H9az/KU6+4mI1j1ZP6nJpZ4uDMPPun55meb7JxrMKmsSqbx6uMVIZ8yca1mNoL7/1JOLwbnvAK0vnXEE/9FXjoVvgfL4O5w/CK/wGP+l/6PVI9AjWzxL37pjkwPc98I6PWyNi2YYTLztzI+MgATsKWTgH9CtdPB96aUnpecf/NACml/9J2zWeKa74WERXgQeAM4Lr2a9uvW+71BjVcN7PEXL2Z/2lkzNWbpASVUlAuBZVy8bFUKj7m91OC6fkGM7UmU3N15o/soXlwF3HwPkqHdzMytZvRmQcYn/kRp8/ew0iaY4pxvtR8Ip9tXs2Xs8dzODZy5sYxtp8+wfZtk1x8+iRX7fmrfv+V9F2lMcOZB27itMO3MTH3IK06chZlDk9ezOHJ7RyZ3M7UxHnURrYyN3IateoWaiNbma9uWvM64FO1BnsOz/HQkRoPHZ5jz+Ea9WbGg4fnFirdLePVMtvGS5w1kRjNZik3ZpiemWW6VmeMGleXfsCvVj7NhpjjvRe+nblznsZVB/6eTZUm81lw3+woccXPceC7f8+v7X4zu9Pp/N+NV3HX5qdxyTlncNG2CSZHK2wYrVApBfPNjFo9Y3q+yYHpefYXQbp1+9BsncXfIkpkjDHPuZOJCzeW2LZxnIkNG5mY3MTGDROMVcqMVkuMlEuMVsvFxxKjlfzPSLlMItHIElmWf2wWH2v1JrP1JrV6xmzx7yb/mC38Ozp6PKPRPNrOVC2X2DpRZcvECFsnRtg6md/eOFahWipRKR/991UplSiVWPjcspRICRL5v9mpWoPDs3VqBx9k0z1/x9Pvfy8jzWneWn4Df19/Mgfng4mRClsnR3j02CF+d/qtnFXfxT2X/AtqT/glNp9/JWdsGjvh6jIpHfv5p5SotI11Pb/lSCmRpfxzK0esuU0ppXxcre9bc23vQ62RAYlyqbTwd1otxzH3K8XrzTcz6s1Eo5kt3M5SOua9aP/eVy233V/8ngUn9XfS/v9c62ZadC4dc33rmnTM/cVKkY/tZMe1lCxLNIu/+2ZxO2u73Wgm7t8/w869U9z50BS3PnCIWx84zMz88bWnCNi+bZLHnJ3/5uwxZ29i++kTbJscZetElUp57T8gt74uWl9brXGljHysxV9WKYIoxhCR/x1Vy/n3haHZQ0BaQb/C9UuBa1NK/7K4/y+Ap6WU3tB2zS3FNbuK+3cBTwPeCnw9pfTh4vj7gL9LKX1iudfrV7j+yf/2JerNbOE/x2aW/yfSzBK1RkbjJHb9++nSTfznyp8zHjUmqDERteOumUmj7E6n8yCnsZuz2VF6PLtHL+H0sYyzRutsn5jjovEaI6VTY8Jqt5Syecbn9jBR28NYbR9ZeZSN0/eycWYXpXT8BM9EUK9sICtVyaJMWvhTIlJ29KqUFR9T8agE6ejH/FiW/8eeEqQMUqKUGoxQP+512x0ev4AfnnMtM+NLL5t414V5r/XWfTfx9JuvY8v8g2QEh9jIfCrRoEwj5aEvSARQipT/AcrRdoyUBwcSldSgms1RZtlfIDGfyswyygxj1FO5ePa1WeoxrdwSAVGcb88ysRCC8r/PlCAiHXOu9bkud59F90dosDFmAfgul/Hu8ivZN3IumypNJstN9kxezvR8k+lag2r9MP/b1Ht4SekrlCNRS1XuSOfz0uy/UC0F1aLK32y2h+mME317KAULYbs9gLaHm6y43UxpIVAv/qGt/bmWCq7lCBpZol6E3zwEZ8uGyn5qhfbF4fjYY70dE7Dw91gqsfDDzNFj+ceFoNwKqAvhmYVjazFSLnH25jHO3TLOeVvG2TReoVIq8fzHn82ew3Pc/uARbv/REe546Aj37ps+5u8lIv9hPg/AUfzbOvpDQpaOHV+WihDdgb/bajkYKZcYqeR/Wv+mE0d/yM1f5+h9OMEPQkucA5b8/FqhH+KE8767+7XUiy/Uo98vW5/qwvfTts+//a9h8Q+Kx3yvbXvssff7512veFJf9qM4ZSc0RsTrgdcXd6ci4o5+jmcNTgceXu7k+4o/J7a37fYn1zcircGhE12w4vu7frcWf5bzxmWOn3DcWtZNxZ8Fx73Hf3fcY/YBL+jmoNQ9Xf433Dl3LnHst3o+iqE0NO+xVnbVf1jycC/e34uWO9HNcL0baN8W7/zi2FLX7CraQjaT/4+0mseSUnoP8J4OjrknImLHcj/taPj5/p76fI9Pbb6/pz7f41Nbv9/fbs5I+iZwWURcHBEjwCuA6xddcz3wmuL2S4EvpPx3O9cDr4iI0Yi4GLgM+EYXxypJkiStW9cq1ymlRkS8AfgM+VJ8708p3RoRvwPsSCldT9798KGI2AnsJw/gFNd9DPg+0AB+faWVQiRJkqRB0NWe65TSDcANi469pe32HLDkThcppd8Dfq+b4+ujoWtl0Zr4/p76fI9Pbb6/pz7f41NbX9/fU2b7c0mSJKnfHkG7QEiSJEndZbjusYi4NiLuiIidEXFdv8ejtYuI90fEnmKd9tax0yLicxFxZ/Fxa3E8IuL3i/f7uxHx5P6NXKsRERdExBcj4vsRcWtE/EZx3Pf4FBERYxHxjYj4TvEe/3Zx/OKIuLF4Lz9aTManmFz/0eL4jRGxva+fgFYlIsoR8e2I+Nvivu/vKSQi7o2I70XEzRGxozg2EN+nDdc9FPmW8H8IPB+4EnhlsdW7hssHgGsXHbsO+IeU0mXAPxT3IX+vLyv+vB744x6NUSevAfyfKaUrgR8Dfr34d+p7fOqoAT+VUnoicBVwbUT8GPB24J0ppUuBA8DriutfBxwojr+zuE6D7zeA29ru+/6een4ypXRV27J7A/F92nDdW9cAO1NKd6eU5oG/BF7U5zFpjVJKXyZf3abdi4APFrc/CLy47fifp9zXgS0RsfTWihoIKaUfpZS+Vdw+Qv6f83n4Hp8yivdqqrhbLf4k4KeA1k7Ai9/j1nv/CeA50an9ztUVEXE+8LPAnxb3A9/fR4KB+D5tuO6t84D72+7vKo5p+J2VUvpRcftB4Kzitu/5ECt+Pfwk4EZ8j08pRcvAzcAe4HPAXcDBlFKjuKT9fVx4j4vzh4BtPR2w1uq/A/8ByIr72/D9PdUk4LMRcVOxYzcMyPfpod7+XBpEKaUUES7DM+QiYgPwSeD/SCkdbi9k+R4Pv2LvhKsiYgvwKeAx/R2ROiUifg7Yk1K6KSKe3efhqHuelVLaHRFnAp+LiNvbT/bz+7SV695a1bbuGkoPtX7FVHzcUxz3PR9CEVElD9b/I6X0P4vDvsenoJTSQeCLwNPJf1XcKjq1v48L73FxfjOwr7cj1Ro8E3hhRNxL3n75U8C78P09paSUdhcf95D/gHwNA/J92nDdW6vZEl7D6XrgNcXt1wB/3Xb8l4uZyj8GHGr7lZUGUNFr+T7gtpTSO9pO+R6fIiLijKJiTUSMA88l763/IvDS4rLF73HrvX8p8IXkJhEDK6X05pTS+Sml7eT/z34hpfRL+P6eMiJiMiI2tm4DPwPcwoB8n3YTmR6LiBeQ94K1toQ/VXehPGVFxEeAZwOnAw8B/xn4K+BjwIXAD4GXp5T2F0HtD8hXF5kBfiWltKMPw9YqRcSzgK8A3+Nov+Z/JO+79j0+BUTEE8gnO5XJi0wfSyn9TkQ8irzSeRrwbeDVKaVaRIwBHyLvv98PvCKldHd/Rq+1KNpC3phS+jnf31NH8V5+qrhbAf4ipfR7EbGNAfg+bbiWJEmSOsS2EEmSJKlDDNeSJElShxiuJUmSpA4xXEuSJEkdYriWJEmSOsRwLUmSJHWI4VqSeigi3hoRb+zQc70wIq7rxHMtet4XR8SVy5wbjYjPR8TNEfGLHXitqZN4zA2tTWAkadBUTnyJJD2yFRsQREopO+HF3R9LOaXUBEgpXU93dnl9MfC3wPeXOPek4rWv6sLrrkpK6QX9em1JOhEr15K0hIjYHhF3RMSfk2+r+76IuCUivteq2EbEsyPib9se8wcR8dri9gsi4vaIuCkifr/9OuDKiPhSRNwdEf+27fGvjohvFFXhd0dEuTg+FRH/b0R8B3h62/WvjYg/KG5/oHidrxbP+9K2MX45Ij5dfD5/EhGl1vO2PddLi+d4BvBC4P8pxnFJ2zVnAh8Gnto6FxFPiYh/LD7Pz0TEOcW1l0TE3xfHvxIRjymOXxwRXyv+Hn/3BO/BOcXYby7+7n+8OH5vRJweEb9WnLs5Iu6JiC8W53+meI1vRcTHI2LDqt50SeoAw7UkLe8y4I+AtwDnA08Efpo8eJ6z3IOK7ZTfDTw/pfQU4IxFlzwGeB5wDfCfI6IaEVcAvwg8s6gKN4FfKq6fBG5MKT0xpfRPK4z3HOBZwM8Bb2s7fg3wb4ArgUuA/3W5J0gpfZW8Gv6mlNJVKaW72s7tAf4l8JVijPcB/x/w0uLzfD/we8Xl7wH+TXH8jeR/jwDvAv44pfR44EcrfC4ArwI+U7zWE4GbF431T4pzTwV2Ae+IiNOB3wJ+OqX0ZGAH8O9P8DqS1DG2hUjS8n6YUvp6RLwT+EjRjvFQRPwjeaA7vMzjHgPcnVK6p7j/EeD1bec/nVKqAbWI2AOcBTwHeArwzbwLhXFgT3F9E/jkKsb7V0Xryvcj4qy2499IKd0NEBEfIQ/gn1jF853I5cDjgM8VYy4DPyoqxc8APl4cBxgtPj4T+IXi9oeAt6/w/N8E3h8RVfLP7eZlrnsX8IWU0t9ExM+R/xDxz8VrjwBfW/unJkknx3AtScubPsH5Bsf+BnBslc9ba7vdJP9eHMAHU0pvXuL6uVaf9RqeN9pup0XXpSWOr3bs7QK4NaX09GMORmwCDq7Ql714PEtflNKXI+IngJ8FPhAR70gp/fmi13otcBHwhrYxfS6l9MpVfxaS1EG2hUjSiX0F+MWIKEfEGcBPAN8AfkjePz1arF7xnOL6O4BHRcT24v5qVtX4B+ClRV8zEXFaRFzUofFfU/Q6l4qxtFpLHoqIK4rjL2m7/giwcRXPewdwRkQ8vRhzNSIem1I6DNwTES8rjkdEPLF4zD8Dryhu/9Jxz9im+PwfSim9F/hT4MmLzrdaTl7dNtn068AzI+LS4prJiHj0Kj4XSeoIw7UkndingO8C3wG+APyHlNKDKaX7gY+RT3j8GPBtgJTSLPCvgb+PiJvIw+qhlV4gpfR98l7hz0bEd4HPkfdQH6OYxPdraxz/N4E/AG4D7ik+H4DryFcF+SrH9j//JfCmiPh2MTFxyddMKc0DLwXeXky2vJm8HQTy4Py64vitwIuK478B/HpEfA847wTjfjbwnYj4NvkPBe9adP4NwGnAF4tJjX+aUtoLvBb4SPH3+DXyNh1J6olIaVW/nZMkrUFEbEgpTUXe+PuHwJ0ppXf2YRzPBt6YUvq5Xr+2JD0SWbmWpO74VxFxM3nVdjP56iGSpFOclWtJUl9FxOPJVw5pV0spPa0f45Gk9TBcS5IkSR1iW4gkSZLUIYZrSZIkqUMM15IkSVKHGK4lSZKkDjFcS5IkSR3y/wMNpwZM96nyYQAAAABJRU5ErkJggg==\n",
      "text/plain": [
       "<Figure size 864x648 with 1 Axes>"
      ]
     },
     "metadata": {
      "needs_background": "light"
     },
     "output_type": "display_data"
    }
   ],
   "source": [
    "plt.figure (figsize = [12, 9])\n",
    "sns.distplot (df_train ['rougher.input.feed_size'], norm_hist = True)\n",
    "sns.distplot (df_test ['rougher.input.feed_size'], norm_hist = True)\n",
    "plt.legend (['train', 'test'])\n",
    "plt.show()"
   ]
  },
  {
   "cell_type": "markdown",
   "metadata": {},
   "source": [
    "На графике распределения размеров гранул сырья на обучающей и тестовой выборках видим, что распределение не отличается, значит оценку моделей можно проводить на тестовой выборке"
   ]
  },
  {
   "cell_type": "markdown",
   "metadata": {},
   "source": [
    "<a id=step_9></a>\n",
    "<b>2.3. Исследуем суммарную концентрацию всех веществ на разных стадиях: в сырье, в черновом и финальном концентратах.</b>"
   ]
  },
  {
   "cell_type": "markdown",
   "metadata": {},
   "source": [
    "Подсчитаем суммарную концентрацию всех веществ на разных стадиях в отдельных столбцах"
   ]
  },
  {
   "cell_type": "code",
   "execution_count": 29,
   "metadata": {},
   "outputs": [],
   "source": [
    "df_full ['sum_concentrate_input_feed'] = df_full ['rougher.input.feed_au'] + df_full ['rougher.input.feed_ag'] + \\\n",
    "                                            df_full ['rougher.input.feed_pb']\n",
    "df_full ['sum_rougher.output.concentrate'] = df_full ['rougher.output.concentrate_au'] + df_full ['rougher.output.concentrate_ag'] + \\\n",
    "                                            df_full ['rougher.output.concentrate_pb']\n",
    "df_full ['sum_final.output.concentrate'] = df_full ['final.output.concentrate_au'] + df_full ['final.output.concentrate_ag'] + \\\n",
    "                                            df_full ['final.output.concentrate_pb']"
   ]
  },
  {
   "cell_type": "code",
   "execution_count": 30,
   "metadata": {},
   "outputs": [
    {
     "data": {
      "image/png": "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\n",
      "text/plain": [
       "<Figure size 864x648 with 1 Axes>"
      ]
     },
     "metadata": {
      "needs_background": "light"
     },
     "output_type": "display_data"
    }
   ],
   "source": [
    "plt.figure (figsize = [12, 9])\n",
    "    \n",
    "plt.hist (df_full ['sum_concentrate_input_feed'], bins=100, label = 'исходное сырье', alpha=.5)\n",
    "plt.hist (df_full ['sum_rougher.output.concentrate'], bins=100, label = 'черновой концентрат', alpha=.5)\n",
    "plt.hist (df_full ['sum_final.output.concentrate'], bins=100, label = 'финальный концентрат', alpha=.5)\n",
    "\n",
    "plt.xlim ([0, 70])\n",
    "plt.ylim ([0, 4200])\n",
    "\n",
    "plt.xlabel ('Распределение')\n",
    "plt.ylabel ('Чатота')\n",
    "\n",
    "plt.legend (loc = 'upper left', fontsize = 'x-large')\n",
    "\n",
    "plt.title ('Суммарная концентрацию всех веществ на разных стадиях: в сырье, в черновом и финальном концентратах')\n",
    "plt.show ()"
   ]
  },
  {
   "cell_type": "markdown",
   "metadata": {},
   "source": [
    "Из графика наблюдаем увеличение суммарной концентрации всех веществ после каждой стадии очистки."
   ]
  },
  {
   "cell_type": "markdown",
   "metadata": {},
   "source": [
    "<a id=step_10></a>\n",
    "## Построим модель"
   ]
  },
  {
   "cell_type": "markdown",
   "metadata": {},
   "source": [
    "# Метрика качества\n",
    "\n",
    "Для решения задачи введём новую метрику качества — sMAPE (англ. Symmetric Mean Absolute Percentage Error, «симметричное среднее абсолютное процентное отклонение»).\n",
    "Она похожа на MAE, но выражается не в абсолютных величинах, а в относительных. Почему симметричная? Она одинаково учитывает масштаб и целевого признака, и предсказания.\n",
    "Метрика sMAPE вычисляется так:\n",
    " \n",
    " <b>$$sMAPE = \\frac {1}{N}\\sum^N_{i=1}\\frac {\\vert {y_i - \\overline {y}_i\\vert}}{(\\vert y_i \\vert + \\vert \\overline {y}_i \\vert)/2}x100%$$</b>\n",
    " \n",
    "\n",
    "Обозначения:\n",
    "\n",
    "<b>$$y_i$$</b>\n",
    " \n",
    "•\tЗначение целевого признака для объекта с порядковым номером i в выборке, на которой измеряется качество.\n",
    "\n",
    "<b>$$\\overline {y}_i$$</b>\n",
    " \n",
    "•\tЗначение предсказания для объекта с порядковым номером i, например, в тестовой выборке.\n",
    "\n",
    "<b>$$N$$</b>\n",
    " \n",
    "•\tКоличество объектов в выборке.\n",
    "\n",
    "<b>$$\\sum^N_{i=1}$$</b>\n",
    " \n",
    "•\tСуммирование по всем объектам выборки (i меняется от 1 до N).\n",
    "Нужно спрогнозировать сразу две величины:\n",
    "1.\tэффективность обогащения чернового концентрата rougher.output.recovery;\n",
    "2.\tэффективность обогащения финального концентрата final.output.recovery.\n",
    "Итоговая метрика складывается из двух величин:\n",
    "\n",
    "<b>Итогоаое sMAPE = 25% x sMAPE (rougher) + 75% sMAPE (final)</b>"
   ]
  },
  {
   "cell_type": "markdown",
   "metadata": {},
   "source": [
    "<a id=step_11></a>\n",
    "<b>3.1. Напишем функцию для вычисления итоговой sMAPE.</b>"
   ]
  },
  {
   "cell_type": "markdown",
   "metadata": {},
   "source": [
    "Функция sMAPE"
   ]
  },
  {
   "cell_type": "code",
   "execution_count": 31,
   "metadata": {},
   "outputs": [],
   "source": [
    "def s_mape (target, prediction):\n",
    "    return (\n",
    "        1 / len (target)\n",
    "    ) * (\n",
    "        sum (\n",
    "            2 * abs (target - prediction) / (\n",
    "                abs (target) + abs (prediction)\n",
    "            ) * 100)\n",
    "    )"
   ]
  },
  {
   "cell_type": "markdown",
   "metadata": {},
   "source": [
    "Функция final_sMape"
   ]
  },
  {
   "cell_type": "code",
   "execution_count": 32,
   "metadata": {},
   "outputs": [],
   "source": [
    "def final_smape (rougher, final):\n",
    "    return 0.25 * rougher + 0.75 * final"
   ]
  },
  {
   "cell_type": "markdown",
   "metadata": {},
   "source": [
    "<a id=step_12></a>\n",
    "<b>3.2. Обучим разные модели и оценим их качество кросс-валидацией. Выберем лучшую модель и проверим её на тестовой выборке. Опишем выводы.</b>"
   ]
  },
  {
   "cell_type": "markdown",
   "metadata": {},
   "source": [
    "Сформируем признаки и целевые признаки для обучения моделей"
   ]
  },
  {
   "cell_type": "code",
   "execution_count": 33,
   "metadata": {},
   "outputs": [],
   "source": [
    "features = df_train.drop (['date', 'rougher.output.recovery', 'final.output.recovery'], axis = 1)\n",
    "features_test = df_test.drop (['date'], axis = 1)\n",
    "target_rougher = df_train ['rougher.output.recovery']\n",
    "target_final = df_train ['final.output.recovery']"
   ]
  },
  {
   "cell_type": "markdown",
   "metadata": {},
   "source": [
    "Маштабируем признаки для модели линейной регрессии"
   ]
  },
  {
   "cell_type": "code",
   "execution_count": 34,
   "metadata": {},
   "outputs": [],
   "source": [
    "features_lr = features\n",
    "numeric = features_lr.columns\n",
    "scaler = StandardScaler ()\n",
    "\n",
    "scaler.fit (features_lr [numeric])\n",
    "features_lr [numeric] = scaler.transform (features_lr [numeric])"
   ]
  },
  {
   "cell_type": "markdown",
   "metadata": {},
   "source": [
    "Обучим модель линейной регриссии"
   ]
  },
  {
   "cell_type": "code",
   "execution_count": 36,
   "metadata": {},
   "outputs": [
    {
     "name": "stdout",
     "output_type": "stream",
     "text": [
      "Final_sMAPE модели линейной регрессии: -9.212630506723315\n"
     ]
    }
   ],
   "source": [
    "model = LinearRegression ()\n",
    "\n",
    "smape_scorer = make_scorer (s_mape, greater_is_better = False)\n",
    "crossv_rougher = cross_val_score (model, features_lr, target_rougher, scoring = smape_scorer, cv=5)\n",
    "crossv_final = cross_val_score (model, features_lr, target_final, scoring = smape_scorer, cv=5)\n",
    "                                 \n",
    "print ('Final_sMAPE модели линейной регрессии:', final_smape (crossv_rougher.mean (), crossv_final.mean ()))"
   ]
  },
  {
   "cell_type": "markdown",
   "metadata": {},
   "source": [
    "Обучим модель дерева решений"
   ]
  },
  {
   "cell_type": "code",
   "execution_count": 37,
   "metadata": {},
   "outputs": [
    {
     "name": "stdout",
     "output_type": "stream",
     "text": [
      "Final_sMAPE лучшей модели: -7.91774914441341 при лучшей глубине: 2\n"
     ]
    }
   ],
   "source": [
    "best_depth = 0\n",
    "best_smape = -100\n",
    "for depth in range(1, 10):\n",
    "    model = DecisionTreeRegressor (random_state = 12345, max_depth = depth)\n",
    "    smape_scorer = make_scorer (s_mape, greater_is_better = False)\n",
    "    crossv_rougher = cross_val_score (model, features, target_rougher, scoring = smape_scorer, cv=5)\n",
    "    crossv_final = cross_val_score (model, features, target_final, scoring = smape_scorer, cv=5)\n",
    "    smape = final_smape (crossv_rougher.mean (), crossv_final.mean ())\n",
    "    if abs (smape) < abs (best_smape):\n",
    "        best_depth = depth\n",
    "        best_smape = smape\n",
    "print (\"Final_sMAPE лучшей модели:\", best_smape, 'при лучшей глубине:', best_depth)"
   ]
  },
  {
   "cell_type": "markdown",
   "metadata": {},
   "source": [
    "Обучим модель случайного дерева"
   ]
  },
  {
   "cell_type": "code",
   "execution_count": 38,
   "metadata": {},
   "outputs": [
    {
     "name": "stdout",
     "output_type": "stream",
     "text": [
      "4 10 -9.486854520303332\n",
      "4 11 -9.551239170710867\n",
      "4 12 -9.732307336056142\n",
      "5 10 -9.39775076814704\n",
      "5 11 -9.340318122047167\n",
      "5 12 -9.483159117192487\n",
      "6 10 -9.43885187967176\n",
      "6 11 -9.434213772965252\n",
      "6 12 -9.530528425045453\n",
      "Final_sMAPE лучшей модели: -9.340318122047167 Количество деревьев: 5 Максимальная глубина: 11\n"
     ]
    }
   ],
   "source": [
    "best_smape = -100\n",
    "best_est = 0\n",
    "best_depth = 0\n",
    "for est in range (4, 7, 1):\n",
    "    for depth in range (10, 13, 1):\n",
    "        model = RandomForestRegressor (random_state = 12345, n_estimators = est, max_depth = depth)\n",
    "        smape_scorer = make_scorer (s_mape, greater_is_better = False)\n",
    "        crossv_rougher = cross_val_score (model, features, target_rougher, scoring = smape_scorer, cv=5)\n",
    "        crossv_final = cross_val_score (model, features, target_final, scoring = smape_scorer, cv=5)\n",
    "        smape = final_smape (crossv_rougher.mean (), crossv_final.mean ())\n",
    "        if abs (smape) < abs (best_smape):\n",
    "            best_smape = smape\n",
    "            best_est = est\n",
    "            best_depth = depth\n",
    "print (\"Final_sMAPE лучшей модели:\", best_smape, \"Количество деревьев:\", best_est, \"Максимальная глубина:\", best_depth)"
   ]
  },
  {
   "cell_type": "markdown",
   "metadata": {},
   "source": [
    "Модель линейное регрессии показала результат на обучающей выборке -9.212630506723315.\n",
    "\n",
    "Модель дерева решений -7.91774914441341 при лучшей глубине: 2.\n",
    "\n",
    "Модель случайного дерева -9.340318122047167 при еколичество деревьев: 5 и максимальноц глубине: 11.\n",
    "\n",
    "Лучше всего себя показала модель случайного дерева.\n",
    "\n",
    "Проверим ее на тестовой выборке"
   ]
  },
  {
   "cell_type": "code",
   "execution_count": 39,
   "metadata": {},
   "outputs": [],
   "source": [
    "target_test_rougher = df_full [df_full.index.isin (df_test.index)]['rougher.output.recovery']\n",
    "target_test_final = df_full [df_full.index.isin (df_test.index)]['final.output.recovery']"
   ]
  },
  {
   "cell_type": "markdown",
   "metadata": {},
   "source": [
    "Проверим нашу полученную модель на тестовой выборке"
   ]
  },
  {
   "cell_type": "code",
   "execution_count": 40,
   "metadata": {},
   "outputs": [
    {
     "name": "stdout",
     "output_type": "stream",
     "text": [
      "Final_sMAPE модели случайного леса на тестовой выборке: -15.473206685388073\n"
     ]
    }
   ],
   "source": [
    "model = RandomForestRegressor (random_state = 12345, n_estimators = 1, max_depth = 16)\n",
    "\n",
    "smape_scorer = make_scorer (s_mape, greater_is_better = False)\n",
    "crossv_rougher = cross_val_score (model, features_test, target_test_rougher, scoring = smape_scorer, cv=5)\n",
    "crossv_final = cross_val_score (model, features_test, target_test_final, scoring = smape_scorer, cv=5)\n",
    "\n",
    "smape = final_smape (crossv_rougher.mean (), crossv_final.mean ())\n",
    "\n",
    "print ('Final_sMAPE модели случайного леса на тестовой выборке:', smape)"
   ]
  },
  {
   "cell_type": "markdown",
   "metadata": {},
   "source": [
    "Проверим модель на адекватность в сравнении с простейшей моделью"
   ]
  },
  {
   "cell_type": "code",
   "execution_count": 41,
   "metadata": {},
   "outputs": [
    {
     "name": "stdout",
     "output_type": "stream",
     "text": [
      "Итоговое sMAPE -9.483582796527294\n"
     ]
    }
   ],
   "source": [
    "model = DummyRegressor (strategy='mean')\n",
    "\n",
    "model.fit (features_test, target_test_rougher)\n",
    "predictions_rougher = model.predict (features_test)\n",
    "\n",
    "model.fit (features_test, target_test_final)\n",
    "predictions_final = model.predict (features_test)\n",
    "\n",
    "crossv_rougher = cross_val_score (model, features_test, target_test_rougher, scoring = smape_scorer, cv=5)\n",
    "crossv_final = cross_val_score (model, features_test, target_test_final, scoring = smape_scorer, cv=5)\n",
    "\n",
    "smape = final_smape (crossv_rougher.mean (), crossv_final.mean ())\n",
    "\n",
    "print ('Итоговое sMAPE', smape)"
   ]
  },
  {
   "cell_type": "markdown",
   "metadata": {},
   "source": [
    "По полученным данным мы убеждаемся, что наша модель работает лучше, что показывает значение метрики"
   ]
  },
  {
   "cell_type": "markdown",
   "metadata": {},
   "source": [
    "В нашем проекте мы:\n",
    "- считали данные из файлов\n",
    "- проверили формулу вычисления эффективности обогащения\n",
    "- проанализировали признаки, недоступные в тестовой выборке\n",
    "- провели предобработку данных\n",
    "- исследовали изменение концентрации элементов на каждом этапе\n",
    "- проанализировали распределения размеров гранул на обучающей и тестовой выборках\n",
    "- исследовали суммарные концентрации\n",
    "- написали функцию для вычисления итогового *sMAPE*\n",
    "- бучели и проверили несколько моделей\n",
    "- выбрали лучшау модель, её качество проверили на тестовой выборке"
   ]
  },
  {
   "cell_type": "markdown",
   "metadata": {},
   "source": [
    "По результатам наших исследований можно рекомендовать нашу модель для последующей работы"
   ]
  },
  {
   "cell_type": "markdown",
   "metadata": {},
   "source": [
    "## Чек-лист готовности проекта"
   ]
  },
  {
   "cell_type": "markdown",
   "metadata": {},
   "source": [
    "- [x]  Jupyter Notebook открыт\n",
    "- [x]  Весь код выполняется без ошибок\n",
    "- [x]  Ячейки с кодом расположены в порядке выполнения\n",
    "- [x]  Выполнен шаг 1: данные подготовлены\n",
    "    - [x]  Проверена формула вычисления эффективности обогащения\n",
    "    - [x]  Проанализированы признаки, недоступные в тестовой выборке\n",
    "    - [x]  Проведена предобработка данных\n",
    "- [x]  Выполнен шаг 2: данные проанализированы\n",
    "    - [x]  Исследовано изменение концентрации элементов на каждом этапе\n",
    "    - [x]  Проанализированы распределения размеров гранул на обучающей и тестовой выборках\n",
    "    - [X]  Исследованы суммарные концентрации\n",
    "- [X]  Выполнен шаг 3: построена модель прогнозирования\n",
    "    - [x]  Написана функция для вычисления итогового *sMAPE*\n",
    "    - [x]  Обучено и проверено несколько моделей\n",
    "    - [x]  Выбрана лучшая модель, её качество проверено на тестовой выборке"
   ]
  }
 ],
 "metadata": {
  "ExecuteTimeLog": [
   {
    "duration": 1536,
    "start_time": "2022-03-26T16:43:33.890Z"
   },
   {
    "duration": 4,
    "start_time": "2022-03-26T16:43:46.004Z"
   },
   {
    "duration": 686,
    "start_time": "2022-03-26T16:44:04.349Z"
   },
   {
    "duration": 6,
    "start_time": "2022-03-26T16:44:46.897Z"
   },
   {
    "duration": 483,
    "start_time": "2022-03-26T16:45:16.628Z"
   },
   {
    "duration": 105,
    "start_time": "2022-03-26T16:45:49.456Z"
   },
   {
    "duration": 379,
    "start_time": "2022-03-26T16:46:13.252Z"
   },
   {
    "duration": 129,
    "start_time": "2022-03-26T16:47:31.528Z"
   },
   {
    "duration": 6,
    "start_time": "2022-03-26T16:50:31.302Z"
   },
   {
    "duration": 7,
    "start_time": "2022-03-26T16:50:49.290Z"
   },
   {
    "duration": 5,
    "start_time": "2022-03-26T16:51:34.310Z"
   },
   {
    "duration": 8,
    "start_time": "2022-03-26T16:55:06.197Z"
   },
   {
    "duration": 300,
    "start_time": "2022-03-26T16:55:11.576Z"
   },
   {
    "duration": 31,
    "start_time": "2022-03-26T16:56:55.020Z"
   },
   {
    "duration": 16,
    "start_time": "2022-03-26T16:57:20.720Z"
   },
   {
    "duration": 17,
    "start_time": "2022-03-26T16:59:34.851Z"
   },
   {
    "duration": 338,
    "start_time": "2022-03-26T16:59:59.815Z"
   },
   {
    "duration": 19,
    "start_time": "2022-03-26T17:01:56.287Z"
   },
   {
    "duration": 118,
    "start_time": "2022-03-26T17:02:18.334Z"
   },
   {
    "duration": 4,
    "start_time": "2022-03-26T17:02:43.760Z"
   },
   {
    "duration": 8,
    "start_time": "2022-03-26T17:03:04.594Z"
   },
   {
    "duration": 231,
    "start_time": "2022-03-26T17:03:32.758Z"
   },
   {
    "duration": 8,
    "start_time": "2022-03-26T17:06:11.009Z"
   },
   {
    "duration": 825,
    "start_time": "2022-03-26T17:06:27.478Z"
   },
   {
    "duration": 747,
    "start_time": "2022-03-26T17:07:08.897Z"
   },
   {
    "duration": 932,
    "start_time": "2022-03-26T17:07:26.149Z"
   },
   {
    "duration": 416,
    "start_time": "2022-03-26T17:09:27.705Z"
   },
   {
    "duration": 417,
    "start_time": "2022-03-26T17:10:00.740Z"
   },
   {
    "duration": 527,
    "start_time": "2022-03-26T17:10:09.644Z"
   },
   {
    "duration": 8,
    "start_time": "2022-03-26T17:11:26.928Z"
   },
   {
    "duration": 527,
    "start_time": "2022-03-26T17:11:33.228Z"
   },
   {
    "duration": 3,
    "start_time": "2022-03-26T17:13:11.278Z"
   },
   {
    "duration": 3,
    "start_time": "2022-03-26T17:14:13.339Z"
   },
   {
    "duration": 7,
    "start_time": "2022-03-26T17:14:47.279Z"
   },
   {
    "duration": 24,
    "start_time": "2022-03-26T17:15:01.859Z"
   },
   {
    "duration": 6,
    "start_time": "2022-03-26T17:15:19.927Z"
   },
   {
    "duration": 2500,
    "start_time": "2022-03-26T17:15:34.739Z"
   },
   {
    "duration": 15376,
    "start_time": "2022-03-26T17:16:00.032Z"
   },
   {
    "duration": 7060,
    "start_time": "2022-03-26T17:17:24.979Z"
   },
   {
    "duration": 147,
    "start_time": "2022-03-26T17:17:51.075Z"
   },
   {
    "duration": 35,
    "start_time": "2022-03-26T18:48:59.891Z"
   },
   {
    "duration": 23,
    "start_time": "2022-03-26T18:50:56.448Z"
   },
   {
    "duration": 28,
    "start_time": "2022-03-26T18:51:03.368Z"
   },
   {
    "duration": 27,
    "start_time": "2022-03-26T18:52:02.982Z"
   },
   {
    "duration": 24,
    "start_time": "2022-03-26T18:52:07.431Z"
   },
   {
    "duration": 266,
    "start_time": "2022-03-26T18:56:57.990Z"
   },
   {
    "duration": 1480,
    "start_time": "2022-03-26T18:59:38.406Z"
   },
   {
    "duration": 2,
    "start_time": "2022-03-26T18:59:42.046Z"
   },
   {
    "duration": 696,
    "start_time": "2022-03-26T18:59:43.605Z"
   },
   {
    "duration": 8,
    "start_time": "2022-03-26T18:59:46.414Z"
   },
   {
    "duration": 452,
    "start_time": "2022-03-26T18:59:48.813Z"
   },
   {
    "duration": 110,
    "start_time": "2022-03-26T19:00:00.309Z"
   },
   {
    "duration": 379,
    "start_time": "2022-03-26T19:00:07.758Z"
   },
   {
    "duration": 7,
    "start_time": "2022-03-26T19:00:15.733Z"
   },
   {
    "duration": 8,
    "start_time": "2022-03-26T19:00:16.701Z"
   },
   {
    "duration": 6,
    "start_time": "2022-03-26T19:00:21.901Z"
   },
   {
    "duration": 9,
    "start_time": "2022-03-26T19:04:33.937Z"
   },
   {
    "duration": 292,
    "start_time": "2022-03-26T19:04:34.793Z"
   },
   {
    "duration": 42,
    "start_time": "2022-03-26T19:04:53.009Z"
   },
   {
    "duration": 17,
    "start_time": "2022-03-26T19:04:56.705Z"
   },
   {
    "duration": 17,
    "start_time": "2022-03-26T19:05:09.481Z"
   },
   {
    "duration": 336,
    "start_time": "2022-03-26T19:05:13.224Z"
   },
   {
    "duration": 18,
    "start_time": "2022-03-26T19:05:37.071Z"
   },
   {
    "duration": 264,
    "start_time": "2022-03-26T19:05:37.152Z"
   },
   {
    "duration": 116,
    "start_time": "2022-03-26T19:06:07.712Z"
   },
   {
    "duration": 4,
    "start_time": "2022-03-26T19:06:32.409Z"
   },
   {
    "duration": 8,
    "start_time": "2022-03-26T19:08:16.063Z"
   },
   {
    "duration": 237,
    "start_time": "2022-03-26T19:08:18.574Z"
   },
   {
    "duration": 8,
    "start_time": "2022-03-26T19:59:17.362Z"
   },
   {
    "duration": 905,
    "start_time": "2022-03-26T19:59:21.168Z"
   },
   {
    "duration": 806,
    "start_time": "2022-03-26T19:59:26.449Z"
   },
   {
    "duration": 963,
    "start_time": "2022-03-26T19:59:30.313Z"
   },
   {
    "duration": 447,
    "start_time": "2022-03-26T19:59:34.457Z"
   },
   {
    "duration": 8,
    "start_time": "2022-03-26T19:59:37.832Z"
   },
   {
    "duration": 545,
    "start_time": "2022-03-26T19:59:38.376Z"
   },
   {
    "duration": 4,
    "start_time": "2022-03-26T19:59:43.232Z"
   },
   {
    "duration": 4,
    "start_time": "2022-03-26T19:59:44.015Z"
   },
   {
    "duration": 7,
    "start_time": "2022-03-26T20:00:11.609Z"
   },
   {
    "duration": 27,
    "start_time": "2022-03-26T20:00:11.904Z"
   },
   {
    "duration": 42,
    "start_time": "2022-03-26T20:01:02.545Z"
   },
   {
    "duration": 106,
    "start_time": "2022-03-26T20:04:44.324Z"
   },
   {
    "duration": 12,
    "start_time": "2022-03-26T20:05:37.231Z"
   },
   {
    "duration": 1458,
    "start_time": "2022-03-26T20:06:00.890Z"
   },
   {
    "duration": 3,
    "start_time": "2022-03-26T20:06:03.970Z"
   },
   {
    "duration": 698,
    "start_time": "2022-03-26T20:06:04.921Z"
   },
   {
    "duration": 8,
    "start_time": "2022-03-26T20:06:05.698Z"
   },
   {
    "duration": 456,
    "start_time": "2022-03-26T20:06:06.850Z"
   },
   {
    "duration": 122,
    "start_time": "2022-03-26T20:06:07.458Z"
   },
   {
    "duration": 383,
    "start_time": "2022-03-26T20:06:08.104Z"
   },
   {
    "duration": 7,
    "start_time": "2022-03-26T20:06:10.744Z"
   },
   {
    "duration": 7,
    "start_time": "2022-03-26T20:06:11.104Z"
   },
   {
    "duration": 6,
    "start_time": "2022-03-26T20:06:14.682Z"
   },
   {
    "duration": 11,
    "start_time": "2022-03-26T20:06:19.466Z"
   },
   {
    "duration": 339,
    "start_time": "2022-03-26T20:06:24.545Z"
   },
   {
    "duration": 31,
    "start_time": "2022-03-26T20:06:31.617Z"
   },
   {
    "duration": 16,
    "start_time": "2022-03-26T20:06:42.073Z"
   },
   {
    "duration": 18,
    "start_time": "2022-03-26T20:06:42.953Z"
   },
   {
    "duration": 344,
    "start_time": "2022-03-26T20:06:45.321Z"
   },
   {
    "duration": 25,
    "start_time": "2022-03-26T20:07:00.866Z"
   },
   {
    "duration": 280,
    "start_time": "2022-03-26T20:07:02.057Z"
   },
   {
    "duration": 122,
    "start_time": "2022-03-26T20:07:08.025Z"
   },
   {
    "duration": 5,
    "start_time": "2022-03-26T20:07:09.146Z"
   },
   {
    "duration": 14,
    "start_time": "2022-03-26T20:07:12.321Z"
   },
   {
    "duration": 268,
    "start_time": "2022-03-26T20:07:14.721Z"
   },
   {
    "duration": 10,
    "start_time": "2022-03-26T20:07:26.522Z"
   },
   {
    "duration": 917,
    "start_time": "2022-03-26T20:07:27.504Z"
   },
   {
    "duration": 785,
    "start_time": "2022-03-26T20:07:32.106Z"
   },
   {
    "duration": 909,
    "start_time": "2022-03-26T20:07:35.850Z"
   },
   {
    "duration": 405,
    "start_time": "2022-03-26T20:07:39.329Z"
   },
   {
    "duration": 7,
    "start_time": "2022-03-26T20:07:42.298Z"
   },
   {
    "duration": 520,
    "start_time": "2022-03-26T20:07:44.666Z"
   },
   {
    "duration": 3,
    "start_time": "2022-03-26T20:07:49.009Z"
   },
   {
    "duration": 3,
    "start_time": "2022-03-26T20:07:49.528Z"
   },
   {
    "duration": 6,
    "start_time": "2022-03-26T20:07:59.097Z"
   },
   {
    "duration": 27,
    "start_time": "2022-03-26T20:07:59.921Z"
   },
   {
    "duration": 24,
    "start_time": "2022-03-26T20:08:13.353Z"
   },
   {
    "duration": 6,
    "start_time": "2022-03-26T20:08:14.882Z"
   },
   {
    "duration": 2675,
    "start_time": "2022-03-26T20:08:18.066Z"
   },
   {
    "duration": 13668,
    "start_time": "2022-03-26T20:08:25.186Z"
   },
   {
    "duration": 10644,
    "start_time": "2022-03-26T20:09:02.121Z"
   },
   {
    "duration": 15602,
    "start_time": "2022-03-26T20:09:21.754Z"
   },
   {
    "duration": 6436,
    "start_time": "2022-03-26T20:10:06.404Z"
   },
   {
    "duration": 677970,
    "start_time": "2022-03-26T20:10:56.461Z"
   },
   {
    "duration": 46,
    "start_time": "2022-03-26T20:22:14.432Z"
   },
   {
    "duration": 2175,
    "start_time": "2022-03-27T06:24:12.279Z"
   },
   {
    "duration": 4,
    "start_time": "2022-03-27T06:24:14.458Z"
   },
   {
    "duration": 909,
    "start_time": "2022-03-27T06:24:14.517Z"
   },
   {
    "duration": 10,
    "start_time": "2022-03-27T06:24:15.498Z"
   },
   {
    "duration": 653,
    "start_time": "2022-03-27T06:24:22.117Z"
   },
   {
    "duration": 166,
    "start_time": "2022-03-27T06:24:24.818Z"
   },
   {
    "duration": 602,
    "start_time": "2022-03-27T06:24:30.859Z"
   },
   {
    "duration": 10,
    "start_time": "2022-03-27T06:24:57.876Z"
   },
   {
    "duration": 9,
    "start_time": "2022-03-27T06:24:58.488Z"
   },
   {
    "duration": 8,
    "start_time": "2022-03-27T06:25:33.221Z"
   },
   {
    "duration": 11,
    "start_time": "2022-03-27T06:25:39.198Z"
   },
   {
    "duration": 447,
    "start_time": "2022-03-27T06:25:40.610Z"
   },
   {
    "duration": 38,
    "start_time": "2022-03-27T06:25:50.021Z"
   },
   {
    "duration": 16,
    "start_time": "2022-03-27T06:25:52.933Z"
   },
   {
    "duration": 21,
    "start_time": "2022-03-27T06:25:58.803Z"
   },
   {
    "duration": 519,
    "start_time": "2022-03-27T06:26:00.166Z"
   },
   {
    "duration": 30,
    "start_time": "2022-03-27T06:26:17.127Z"
   },
   {
    "duration": 419,
    "start_time": "2022-03-27T06:26:17.785Z"
   },
   {
    "duration": 148,
    "start_time": "2022-03-27T06:26:42.454Z"
   },
   {
    "duration": 6,
    "start_time": "2022-03-27T06:26:52.062Z"
   },
   {
    "duration": 21,
    "start_time": "2022-03-27T06:27:00.357Z"
   },
   {
    "duration": 367,
    "start_time": "2022-03-27T06:27:01.467Z"
   },
   {
    "duration": 11,
    "start_time": "2022-03-27T06:27:16.489Z"
   },
   {
    "duration": 1372,
    "start_time": "2022-03-27T06:27:23.254Z"
   },
   {
    "duration": 1294,
    "start_time": "2022-03-27T06:27:32.627Z"
   },
   {
    "duration": 1411,
    "start_time": "2022-03-27T06:27:38.422Z"
   },
   {
    "duration": 689,
    "start_time": "2022-03-27T06:27:44.643Z"
   },
   {
    "duration": 8,
    "start_time": "2022-03-27T06:27:52.819Z"
   },
   {
    "duration": 936,
    "start_time": "2022-03-27T06:27:53.587Z"
   },
   {
    "duration": 5,
    "start_time": "2022-03-27T06:28:13.314Z"
   },
   {
    "duration": 4,
    "start_time": "2022-03-27T06:28:14.210Z"
   },
   {
    "duration": 163,
    "start_time": "2022-03-27T06:28:49.912Z"
   },
   {
    "duration": 8,
    "start_time": "2022-03-27T06:29:15.662Z"
   },
   {
    "duration": 32,
    "start_time": "2022-03-27T06:29:17.294Z"
   },
   {
    "duration": 145,
    "start_time": "2022-03-27T06:29:23.877Z"
   },
   {
    "duration": 3202,
    "start_time": "2022-03-27T06:29:25.982Z"
   },
   {
    "duration": 20275,
    "start_time": "2022-03-27T06:29:39.992Z"
   },
   {
    "duration": 504696,
    "start_time": "2022-03-27T06:31:06.253Z"
   },
   {
    "duration": 337524,
    "start_time": "2022-03-27T06:40:20.970Z"
   },
   {
    "duration": 141229,
    "start_time": "2022-03-27T06:46:27.871Z"
   },
   {
    "duration": 103995,
    "start_time": "2022-03-27T06:50:48.989Z"
   },
   {
    "duration": 34656,
    "start_time": "2022-03-27T06:52:58.440Z"
   },
   {
    "duration": 57,
    "start_time": "2022-03-27T06:54:18.134Z"
   },
   {
    "duration": 34785,
    "start_time": "2022-03-27T06:55:31.782Z"
   },
   {
    "duration": 18,
    "start_time": "2022-03-27T07:04:43.376Z"
   },
   {
    "duration": 34,
    "start_time": "2022-03-27T07:05:36.372Z"
   },
   {
    "duration": 27,
    "start_time": "2022-03-27T07:06:07.115Z"
   },
   {
    "duration": 26,
    "start_time": "2022-03-27T07:07:00.414Z"
   },
   {
    "duration": 37,
    "start_time": "2022-03-27T07:08:29.482Z"
   },
   {
    "duration": 9,
    "start_time": "2022-03-27T07:08:56.361Z"
   },
   {
    "duration": 36,
    "start_time": "2022-03-27T07:08:57.154Z"
   },
   {
    "duration": 12,
    "start_time": "2022-03-27T07:09:09.198Z"
   },
   {
    "duration": 14,
    "start_time": "2022-03-27T07:09:19.315Z"
   },
   {
    "duration": 37,
    "start_time": "2022-03-27T07:09:32.895Z"
   },
   {
    "duration": 62,
    "start_time": "2022-03-27T07:09:49.163Z"
   },
   {
    "duration": 28,
    "start_time": "2022-03-27T07:09:56.487Z"
   },
   {
    "duration": 53,
    "start_time": "2022-03-27T07:10:30.835Z"
   },
   {
    "duration": 54,
    "start_time": "2022-03-27T07:11:12.934Z"
   },
   {
    "duration": 28,
    "start_time": "2022-03-27T07:11:17.999Z"
   },
   {
    "duration": 36,
    "start_time": "2022-03-27T07:12:17.597Z"
   },
   {
    "duration": 13,
    "start_time": "2022-03-27T07:13:02.695Z"
   },
   {
    "duration": 37,
    "start_time": "2022-03-27T07:13:03.734Z"
   },
   {
    "duration": 13,
    "start_time": "2022-03-27T07:13:26.605Z"
   },
   {
    "duration": 38,
    "start_time": "2022-03-27T07:13:28.005Z"
   },
   {
    "duration": 18,
    "start_time": "2022-03-27T07:13:39.690Z"
   },
   {
    "duration": 17,
    "start_time": "2022-03-27T07:14:03.307Z"
   },
   {
    "duration": 13,
    "start_time": "2022-03-27T07:14:23.309Z"
   },
   {
    "duration": 7,
    "start_time": "2022-03-27T07:14:59.234Z"
   },
   {
    "duration": 8,
    "start_time": "2022-03-27T07:14:59.919Z"
   },
   {
    "duration": 18,
    "start_time": "2022-03-27T07:15:07.046Z"
   },
   {
    "duration": 17,
    "start_time": "2022-03-27T07:15:23.164Z"
   },
   {
    "duration": 15,
    "start_time": "2022-03-27T07:15:36.063Z"
   },
   {
    "duration": 6,
    "start_time": "2022-03-27T07:15:46.548Z"
   },
   {
    "duration": 7,
    "start_time": "2022-03-27T07:15:56.272Z"
   },
   {
    "duration": 29,
    "start_time": "2022-03-27T07:16:11.140Z"
   },
   {
    "duration": 9,
    "start_time": "2022-03-27T07:16:13.305Z"
   },
   {
    "duration": 2376,
    "start_time": "2022-03-27T07:16:15.507Z"
   },
   {
    "duration": 19881,
    "start_time": "2022-03-27T07:16:25.705Z"
   },
   {
    "duration": 27,
    "start_time": "2022-03-27T07:17:13.088Z"
   },
   {
    "duration": 47,
    "start_time": "2022-03-27T07:17:36.466Z"
   },
   {
    "duration": 9,
    "start_time": "2022-03-27T07:19:18.395Z"
   },
   {
    "duration": 3000,
    "start_time": "2022-03-27T07:19:41.790Z"
   },
   {
    "duration": 8,
    "start_time": "2022-03-27T07:19:47.964Z"
   },
   {
    "duration": 2935,
    "start_time": "2022-03-27T07:19:48.958Z"
   },
   {
    "duration": 19972,
    "start_time": "2022-03-27T07:20:20.780Z"
   },
   {
    "duration": 29884,
    "start_time": "2022-03-27T07:20:51.754Z"
   },
   {
    "duration": 29,
    "start_time": "2022-03-27T07:23:03.852Z"
   },
   {
    "duration": 49,
    "start_time": "2022-03-27T07:24:06.924Z"
   },
   {
    "duration": 9,
    "start_time": "2022-03-27T07:26:03.443Z"
   },
   {
    "duration": 3125,
    "start_time": "2022-03-27T07:26:06.762Z"
   },
   {
    "duration": 872,
    "start_time": "2022-03-27T07:26:18.950Z"
   },
   {
    "duration": 10,
    "start_time": "2022-03-27T07:26:43.343Z"
   },
   {
    "duration": 5,
    "start_time": "2022-03-27T07:28:20.600Z"
   },
   {
    "duration": 15,
    "start_time": "2022-03-27T07:31:38.191Z"
   },
   {
    "duration": 19,
    "start_time": "2022-03-27T07:32:17.114Z"
   },
   {
    "duration": 13,
    "start_time": "2022-03-27T07:32:36.759Z"
   },
   {
    "duration": 2127,
    "start_time": "2022-03-27T07:39:35.183Z"
   },
   {
    "duration": 4,
    "start_time": "2022-03-27T07:39:37.313Z"
   },
   {
    "duration": 1225,
    "start_time": "2022-03-27T07:39:37.320Z"
   },
   {
    "duration": 15,
    "start_time": "2022-03-27T07:39:38.548Z"
   },
   {
    "duration": 749,
    "start_time": "2022-03-27T07:39:38.566Z"
   },
   {
    "duration": 189,
    "start_time": "2022-03-27T07:39:39.317Z"
   },
   {
    "duration": 665,
    "start_time": "2022-03-27T07:39:39.509Z"
   },
   {
    "duration": 13,
    "start_time": "2022-03-27T07:39:40.177Z"
   },
   {
    "duration": 11,
    "start_time": "2022-03-27T07:39:40.192Z"
   },
   {
    "duration": 8,
    "start_time": "2022-03-27T07:39:40.208Z"
   },
   {
    "duration": 11,
    "start_time": "2022-03-27T07:39:40.218Z"
   },
   {
    "duration": 579,
    "start_time": "2022-03-27T07:39:40.232Z"
   },
   {
    "duration": 68,
    "start_time": "2022-03-27T07:39:40.814Z"
   },
   {
    "duration": 16,
    "start_time": "2022-03-27T07:39:40.888Z"
   },
   {
    "duration": 21,
    "start_time": "2022-03-27T07:39:40.907Z"
   },
   {
    "duration": 621,
    "start_time": "2022-03-27T07:39:40.930Z"
   },
   {
    "duration": 48,
    "start_time": "2022-03-27T07:39:41.554Z"
   },
   {
    "duration": 458,
    "start_time": "2022-03-27T07:39:41.604Z"
   },
   {
    "duration": 161,
    "start_time": "2022-03-27T07:39:42.064Z"
   },
   {
    "duration": 6,
    "start_time": "2022-03-27T07:39:42.227Z"
   },
   {
    "duration": 46,
    "start_time": "2022-03-27T07:39:42.236Z"
   },
   {
    "duration": 460,
    "start_time": "2022-03-27T07:39:42.285Z"
   },
   {
    "duration": 15,
    "start_time": "2022-03-27T07:39:42.748Z"
   },
   {
    "duration": 2004,
    "start_time": "2022-03-27T07:39:42.766Z"
   },
   {
    "duration": 1864,
    "start_time": "2022-03-27T07:39:44.773Z"
   },
   {
    "duration": 1494,
    "start_time": "2022-03-27T07:39:46.640Z"
   },
   {
    "duration": 716,
    "start_time": "2022-03-27T07:39:48.136Z"
   },
   {
    "duration": 10,
    "start_time": "2022-03-27T07:39:48.854Z"
   },
   {
    "duration": 890,
    "start_time": "2022-03-27T07:39:48.881Z"
   },
   {
    "duration": 9,
    "start_time": "2022-03-27T07:39:49.773Z"
   },
   {
    "duration": 5,
    "start_time": "2022-03-27T07:39:49.785Z"
   },
   {
    "duration": 10,
    "start_time": "2022-03-27T07:39:49.793Z"
   },
   {
    "duration": 33,
    "start_time": "2022-03-27T07:39:49.806Z"
   },
   {
    "duration": 43,
    "start_time": "2022-03-27T07:39:49.842Z"
   },
   {
    "duration": 3097,
    "start_time": "2022-03-27T07:39:49.887Z"
   },
   {
    "duration": 29382,
    "start_time": "2022-03-27T07:39:52.987Z"
   },
   {
    "duration": 39791,
    "start_time": "2022-03-27T07:40:22.372Z"
   },
   {
    "duration": 30,
    "start_time": "2022-03-27T07:41:02.165Z"
   },
   {
    "duration": 910,
    "start_time": "2022-03-27T07:41:02.197Z"
   },
   {
    "duration": 11,
    "start_time": "2022-03-27T07:41:03.109Z"
   },
   {
    "duration": 49,
    "start_time": "2022-03-27T11:46:50.571Z"
   },
   {
    "duration": 1750,
    "start_time": "2022-03-27T11:47:07.955Z"
   },
   {
    "duration": 3,
    "start_time": "2022-03-27T11:47:09.707Z"
   },
   {
    "duration": 664,
    "start_time": "2022-03-27T11:47:09.711Z"
   },
   {
    "duration": 7,
    "start_time": "2022-03-27T11:47:11.935Z"
   },
   {
    "duration": 419,
    "start_time": "2022-03-27T11:47:13.541Z"
   },
   {
    "duration": 94,
    "start_time": "2022-03-27T11:47:14.282Z"
   },
   {
    "duration": 372,
    "start_time": "2022-03-27T11:47:15.020Z"
   },
   {
    "duration": 8,
    "start_time": "2022-03-27T11:47:17.158Z"
   },
   {
    "duration": 7,
    "start_time": "2022-03-27T11:47:17.453Z"
   },
   {
    "duration": 4,
    "start_time": "2022-03-27T11:47:18.824Z"
   },
   {
    "duration": 8,
    "start_time": "2022-03-27T11:47:19.871Z"
   },
   {
    "duration": 274,
    "start_time": "2022-03-27T11:47:20.219Z"
   },
   {
    "duration": 28,
    "start_time": "2022-03-27T11:47:21.282Z"
   },
   {
    "duration": 14,
    "start_time": "2022-03-27T11:47:22.023Z"
   },
   {
    "duration": 16,
    "start_time": "2022-03-27T11:47:23.099Z"
   },
   {
    "duration": 297,
    "start_time": "2022-03-27T11:47:23.823Z"
   },
   {
    "duration": 18,
    "start_time": "2022-03-27T11:47:24.579Z"
   },
   {
    "duration": 230,
    "start_time": "2022-03-27T11:47:25.683Z"
   },
   {
    "duration": 117,
    "start_time": "2022-03-27T11:47:26.531Z"
   },
   {
    "duration": 4,
    "start_time": "2022-03-27T11:47:27.587Z"
   },
   {
    "duration": 15,
    "start_time": "2022-03-27T11:47:28.378Z"
   },
   {
    "duration": 199,
    "start_time": "2022-03-27T11:47:29.598Z"
   },
   {
    "duration": 7,
    "start_time": "2022-03-27T11:47:32.910Z"
   },
   {
    "duration": 763,
    "start_time": "2022-03-27T11:47:35.940Z"
   },
   {
    "duration": 786,
    "start_time": "2022-03-27T11:47:37.761Z"
   },
   {
    "duration": 817,
    "start_time": "2022-03-27T11:47:39.423Z"
   },
   {
    "duration": 354,
    "start_time": "2022-03-27T11:47:43.895Z"
   },
   {
    "duration": 363,
    "start_time": "2022-03-27T11:48:11.028Z"
   },
   {
    "duration": 2118,
    "start_time": "2022-03-27T12:48:49.101Z"
   },
   {
    "duration": 3,
    "start_time": "2022-03-27T12:48:52.860Z"
   },
   {
    "duration": 724,
    "start_time": "2022-03-27T12:48:53.860Z"
   },
   {
    "duration": 11,
    "start_time": "2022-03-27T12:48:55.039Z"
   },
   {
    "duration": 423,
    "start_time": "2022-03-27T12:48:56.838Z"
   },
   {
    "duration": 107,
    "start_time": "2022-03-27T12:48:58.064Z"
   },
   {
    "duration": 355,
    "start_time": "2022-03-27T12:48:58.895Z"
   },
   {
    "duration": 7,
    "start_time": "2022-03-27T12:49:01.976Z"
   },
   {
    "duration": 7,
    "start_time": "2022-03-27T12:49:02.389Z"
   },
   {
    "duration": 5,
    "start_time": "2022-03-27T12:49:04.408Z"
   },
   {
    "duration": 8,
    "start_time": "2022-03-27T12:49:05.648Z"
   },
   {
    "duration": 299,
    "start_time": "2022-03-27T12:49:05.998Z"
   },
   {
    "duration": 28,
    "start_time": "2022-03-27T12:49:07.383Z"
   },
   {
    "duration": 15,
    "start_time": "2022-03-27T12:49:08.265Z"
   },
   {
    "duration": 14,
    "start_time": "2022-03-27T12:49:09.516Z"
   },
   {
    "duration": 331,
    "start_time": "2022-03-27T12:49:10.380Z"
   },
   {
    "duration": 17,
    "start_time": "2022-03-27T12:49:11.317Z"
   },
   {
    "duration": 255,
    "start_time": "2022-03-27T12:49:11.817Z"
   },
   {
    "duration": 125,
    "start_time": "2022-03-27T12:49:13.197Z"
   },
   {
    "duration": 4,
    "start_time": "2022-03-27T12:49:14.861Z"
   },
   {
    "duration": 20,
    "start_time": "2022-03-27T12:49:16.306Z"
   },
   {
    "duration": 322,
    "start_time": "2022-03-27T12:49:17.646Z"
   },
   {
    "duration": 10,
    "start_time": "2022-03-27T12:49:21.842Z"
   },
   {
    "duration": 1313,
    "start_time": "2022-03-27T12:49:23.336Z"
   },
   {
    "duration": 1194,
    "start_time": "2022-03-27T12:49:28.893Z"
   },
   {
    "duration": 1394,
    "start_time": "2022-03-27T12:49:31.346Z"
   },
   {
    "duration": 615,
    "start_time": "2022-03-27T12:49:42.360Z"
   },
   {
    "duration": 592,
    "start_time": "2022-03-27T12:50:23.567Z"
   },
   {
    "duration": 785,
    "start_time": "2022-03-27T12:51:48.426Z"
   },
   {
    "duration": 587,
    "start_time": "2022-03-27T12:52:21.782Z"
   },
   {
    "duration": 424,
    "start_time": "2022-03-27T13:03:44.439Z"
   },
   {
    "duration": 653,
    "start_time": "2022-03-27T13:04:08.944Z"
   },
   {
    "duration": 5,
    "start_time": "2022-03-27T13:11:43.545Z"
   },
   {
    "duration": 4,
    "start_time": "2022-03-27T13:12:04.815Z"
   },
   {
    "duration": 3,
    "start_time": "2022-03-27T13:12:18.342Z"
   },
   {
    "duration": 2,
    "start_time": "2022-03-27T13:12:19.284Z"
   },
   {
    "duration": 6,
    "start_time": "2022-03-27T13:12:28.112Z"
   },
   {
    "duration": 113,
    "start_time": "2022-03-27T13:13:23.257Z"
   },
   {
    "duration": 10,
    "start_time": "2022-03-27T13:13:41.857Z"
   },
   {
    "duration": 9,
    "start_time": "2022-03-27T13:14:18.174Z"
   },
   {
    "duration": 12,
    "start_time": "2022-03-27T13:14:31.861Z"
   },
   {
    "duration": 17,
    "start_time": "2022-03-27T13:14:45.626Z"
   },
   {
    "duration": 15,
    "start_time": "2022-03-27T13:16:02.372Z"
   },
   {
    "duration": 2155,
    "start_time": "2022-03-27T13:19:31.879Z"
   },
   {
    "duration": 1812,
    "start_time": "2022-03-27T13:21:15.123Z"
   },
   {
    "duration": 1949,
    "start_time": "2022-03-27T13:24:28.289Z"
   },
   {
    "duration": 412,
    "start_time": "2022-03-27T13:26:59.357Z"
   },
   {
    "duration": 582,
    "start_time": "2022-03-27T13:27:45.495Z"
   },
   {
    "duration": 14045,
    "start_time": "2022-03-27T13:28:37.589Z"
   },
   {
    "duration": 836821,
    "start_time": "2022-03-27T13:31:26.818Z"
   },
   {
    "duration": 93867,
    "start_time": "2022-03-27T13:46:49.207Z"
   },
   {
    "duration": 6,
    "start_time": "2022-03-27T13:48:48.415Z"
   },
   {
    "duration": 13973,
    "start_time": "2022-03-27T13:48:59.753Z"
   },
   {
    "duration": 68059,
    "start_time": "2022-03-27T13:49:53.512Z"
   },
   {
    "duration": 11,
    "start_time": "2022-03-27T13:53:32.886Z"
   },
   {
    "duration": 7,
    "start_time": "2022-03-27T13:53:39.544Z"
   },
   {
    "duration": 871,
    "start_time": "2022-03-27T13:53:41.477Z"
   },
   {
    "duration": 116,
    "start_time": "2022-03-27T13:55:28.006Z"
   },
   {
    "duration": 31,
    "start_time": "2022-03-27T13:55:39.416Z"
   },
   {
    "duration": 1630,
    "start_time": "2022-03-27T15:00:43.495Z"
   },
   {
    "duration": 5,
    "start_time": "2022-03-27T15:00:45.127Z"
   },
   {
    "duration": 2623,
    "start_time": "2022-03-27T15:00:45.134Z"
   },
   {
    "duration": 8,
    "start_time": "2022-03-27T15:00:47.759Z"
   },
   {
    "duration": 450,
    "start_time": "2022-03-27T15:00:47.769Z"
   },
   {
    "duration": 117,
    "start_time": "2022-03-27T15:00:48.221Z"
   },
   {
    "duration": 413,
    "start_time": "2022-03-27T15:00:48.340Z"
   },
   {
    "duration": 6,
    "start_time": "2022-03-27T15:00:48.755Z"
   },
   {
    "duration": 20,
    "start_time": "2022-03-27T15:00:48.762Z"
   },
   {
    "duration": 9,
    "start_time": "2022-03-27T15:00:48.785Z"
   },
   {
    "duration": 12,
    "start_time": "2022-03-27T15:00:48.796Z"
   },
   {
    "duration": 307,
    "start_time": "2022-03-27T15:00:48.810Z"
   },
   {
    "duration": 42,
    "start_time": "2022-03-27T15:00:49.118Z"
   },
   {
    "duration": 14,
    "start_time": "2022-03-27T15:00:49.162Z"
   },
   {
    "duration": 16,
    "start_time": "2022-03-27T15:00:49.177Z"
   },
   {
    "duration": 344,
    "start_time": "2022-03-27T15:00:49.194Z"
   },
   {
    "duration": 17,
    "start_time": "2022-03-27T15:00:49.539Z"
   },
   {
    "duration": 276,
    "start_time": "2022-03-27T15:00:49.557Z"
   },
   {
    "duration": 123,
    "start_time": "2022-03-27T15:00:49.835Z"
   },
   {
    "duration": 5,
    "start_time": "2022-03-27T15:00:49.960Z"
   },
   {
    "duration": 15,
    "start_time": "2022-03-27T15:00:49.967Z"
   },
   {
    "duration": 265,
    "start_time": "2022-03-27T15:00:49.984Z"
   },
   {
    "duration": 8,
    "start_time": "2022-03-27T15:00:50.252Z"
   },
   {
    "duration": 809,
    "start_time": "2022-03-27T15:00:50.262Z"
   },
   {
    "duration": 699,
    "start_time": "2022-03-27T15:00:51.073Z"
   },
   {
    "duration": 824,
    "start_time": "2022-03-27T15:00:51.774Z"
   },
   {
    "duration": 566,
    "start_time": "2022-03-27T15:00:52.600Z"
   },
   {
    "duration": 8,
    "start_time": "2022-03-27T15:00:53.170Z"
   },
   {
    "duration": 494,
    "start_time": "2022-03-27T15:00:53.180Z"
   },
   {
    "duration": 3,
    "start_time": "2022-03-27T15:00:53.676Z"
   },
   {
    "duration": 9,
    "start_time": "2022-03-27T15:00:53.680Z"
   },
   {
    "duration": 10,
    "start_time": "2022-03-27T15:00:53.691Z"
   },
   {
    "duration": 26,
    "start_time": "2022-03-27T15:00:53.702Z"
   },
   {
    "duration": 3,
    "start_time": "2022-03-27T15:00:53.732Z"
   },
   {
    "duration": 2398,
    "start_time": "2022-03-27T15:00:53.737Z"
   },
   {
    "duration": 19645,
    "start_time": "2022-03-27T15:00:56.141Z"
   },
   {
    "duration": 69519,
    "start_time": "2022-03-27T15:01:15.788Z"
   },
   {
    "duration": 26,
    "start_time": "2022-03-27T15:02:25.309Z"
   },
   {
    "duration": 869,
    "start_time": "2022-03-27T15:02:25.337Z"
   },
   {
    "duration": 37,
    "start_time": "2022-03-27T15:02:26.208Z"
   },
   {
    "duration": 161,
    "start_time": "2022-03-27T15:38:19.389Z"
   },
   {
    "duration": 58,
    "start_time": "2022-03-27T15:52:18.725Z"
   },
   {
    "duration": 2,
    "start_time": "2022-03-27T15:52:37.618Z"
   },
   {
    "duration": 108,
    "start_time": "2022-03-27T15:54:19.585Z"
   },
   {
    "duration": 710,
    "start_time": "2022-03-27T15:54:51.257Z"
   },
   {
    "duration": 16,
    "start_time": "2022-03-27T15:56:58.968Z"
   },
   {
    "duration": 527,
    "start_time": "2022-03-27T15:58:45.584Z"
   },
   {
    "duration": 12,
    "start_time": "2022-03-27T15:59:24.615Z"
   },
   {
    "duration": 792,
    "start_time": "2022-03-27T16:00:28.367Z"
   },
   {
    "duration": 749,
    "start_time": "2022-03-27T16:01:19.103Z"
   },
   {
    "duration": 681,
    "start_time": "2022-03-27T16:01:30.233Z"
   },
   {
    "duration": 746,
    "start_time": "2022-03-27T16:02:26.894Z"
   },
   {
    "duration": 878,
    "start_time": "2022-03-27T16:03:08.526Z"
   },
   {
    "duration": 770,
    "start_time": "2022-03-27T16:03:41.518Z"
   },
   {
    "duration": 757,
    "start_time": "2022-03-27T16:04:06.197Z"
   },
   {
    "duration": 75,
    "start_time": "2022-03-27T16:16:44.826Z"
   },
   {
    "duration": 2301,
    "start_time": "2022-03-27T16:16:59.673Z"
   },
   {
    "duration": 4,
    "start_time": "2022-03-27T16:17:01.977Z"
   },
   {
    "duration": 960,
    "start_time": "2022-03-27T16:17:01.983Z"
   },
   {
    "duration": 10,
    "start_time": "2022-03-27T16:17:02.948Z"
   },
   {
    "duration": 687,
    "start_time": "2022-03-27T16:17:02.960Z"
   },
   {
    "duration": 183,
    "start_time": "2022-03-27T16:17:03.650Z"
   },
   {
    "duration": 655,
    "start_time": "2022-03-27T16:17:03.835Z"
   },
   {
    "duration": 11,
    "start_time": "2022-03-27T16:17:04.493Z"
   },
   {
    "duration": 10,
    "start_time": "2022-03-27T16:17:04.506Z"
   },
   {
    "duration": 28,
    "start_time": "2022-03-27T16:17:04.520Z"
   },
   {
    "duration": 13,
    "start_time": "2022-03-27T16:17:04.550Z"
   },
   {
    "duration": 481,
    "start_time": "2022-03-27T16:17:04.565Z"
   },
   {
    "duration": 38,
    "start_time": "2022-03-27T16:17:05.048Z"
   },
   {
    "duration": 17,
    "start_time": "2022-03-27T16:17:05.088Z"
   },
   {
    "duration": 51,
    "start_time": "2022-03-27T16:17:05.107Z"
   },
   {
    "duration": 541,
    "start_time": "2022-03-27T16:17:05.160Z"
   },
   {
    "duration": 46,
    "start_time": "2022-03-27T16:17:05.703Z"
   },
   {
    "duration": 437,
    "start_time": "2022-03-27T16:17:05.751Z"
   },
   {
    "duration": 159,
    "start_time": "2022-03-27T16:17:06.190Z"
   },
   {
    "duration": 6,
    "start_time": "2022-03-27T16:17:06.352Z"
   },
   {
    "duration": 25,
    "start_time": "2022-03-27T16:17:06.360Z"
   },
   {
    "duration": 409,
    "start_time": "2022-03-27T16:17:06.387Z"
   },
   {
    "duration": 12,
    "start_time": "2022-03-27T16:17:06.798Z"
   },
   {
    "duration": 1967,
    "start_time": "2022-03-27T16:17:06.812Z"
   },
   {
    "duration": 1362,
    "start_time": "2022-03-27T16:17:08.781Z"
   },
   {
    "duration": 1341,
    "start_time": "2022-03-27T16:17:10.145Z"
   },
   {
    "duration": 4,
    "start_time": "2022-03-27T16:17:11.488Z"
   },
   {
    "duration": 1123,
    "start_time": "2022-03-27T16:17:11.497Z"
   },
   {
    "duration": 9,
    "start_time": "2022-03-27T16:17:12.623Z"
   },
   {
    "duration": 984,
    "start_time": "2022-03-27T16:17:12.643Z"
   },
   {
    "duration": 4,
    "start_time": "2022-03-27T16:17:13.629Z"
   },
   {
    "duration": 4,
    "start_time": "2022-03-27T16:17:13.642Z"
   },
   {
    "duration": 10,
    "start_time": "2022-03-27T16:17:13.648Z"
   },
   {
    "duration": 27,
    "start_time": "2022-03-27T16:17:13.661Z"
   },
   {
    "duration": 3,
    "start_time": "2022-03-27T16:17:13.691Z"
   },
   {
    "duration": 2556,
    "start_time": "2022-03-27T16:17:13.696Z"
   },
   {
    "duration": 18238,
    "start_time": "2022-03-27T16:17:16.344Z"
   },
   {
    "duration": 116451,
    "start_time": "2022-03-27T16:17:34.584Z"
   },
   {
    "duration": 22,
    "start_time": "2022-03-27T16:19:31.043Z"
   },
   {
    "duration": 1163,
    "start_time": "2022-03-27T16:19:31.068Z"
   },
   {
    "duration": 52,
    "start_time": "2022-03-27T16:19:32.233Z"
   },
   {
    "duration": 1132,
    "start_time": "2022-03-27T16:19:32.289Z"
   },
   {
    "duration": 1095,
    "start_time": "2022-03-27T16:19:55.263Z"
   },
   {
    "duration": 1024,
    "start_time": "2022-03-27T16:23:25.647Z"
   },
   {
    "duration": 1232,
    "start_time": "2022-03-27T16:24:01.477Z"
   },
   {
    "duration": 1059,
    "start_time": "2022-03-27T16:24:19.622Z"
   },
   {
    "duration": 1257,
    "start_time": "2022-03-27T16:26:17.133Z"
   },
   {
    "duration": 1375,
    "start_time": "2022-03-27T16:26:33.221Z"
   },
   {
    "duration": 1300,
    "start_time": "2022-03-27T16:26:54.950Z"
   },
   {
    "duration": 1343,
    "start_time": "2022-03-27T16:27:17.828Z"
   },
   {
    "duration": 0,
    "start_time": "2022-03-27T16:33:46.085Z"
   },
   {
    "duration": 250025,
    "start_time": "2022-03-27T16:34:21.091Z"
   },
   {
    "duration": 6182,
    "start_time": "2022-03-27T16:43:21.499Z"
   },
   {
    "duration": 1583,
    "start_time": "2022-03-27T16:43:38.265Z"
   },
   {
    "duration": 1583,
    "start_time": "2022-03-27T16:46:10.023Z"
   },
   {
    "duration": 1113,
    "start_time": "2022-03-27T16:46:34.575Z"
   },
   {
    "duration": 16,
    "start_time": "2022-03-27T17:00:25.052Z"
   },
   {
    "duration": 14,
    "start_time": "2022-03-27T17:00:38.220Z"
   },
   {
    "duration": 13,
    "start_time": "2022-03-27T17:00:59.482Z"
   },
   {
    "duration": 35,
    "start_time": "2022-03-27T17:01:58.050Z"
   },
   {
    "duration": 30,
    "start_time": "2022-03-27T17:03:09.906Z"
   },
   {
    "duration": 11,
    "start_time": "2022-03-27T17:03:23.802Z"
   },
   {
    "duration": 17,
    "start_time": "2022-03-27T17:03:36.258Z"
   },
   {
    "duration": 17,
    "start_time": "2022-03-27T17:05:05.537Z"
   },
   {
    "duration": 15,
    "start_time": "2022-03-27T17:05:17.209Z"
   },
   {
    "duration": 223,
    "start_time": "2022-03-27T17:06:40.146Z"
   },
   {
    "duration": 13,
    "start_time": "2022-03-27T17:06:54.154Z"
   },
   {
    "duration": 14,
    "start_time": "2022-03-27T17:07:05.177Z"
   },
   {
    "duration": 13,
    "start_time": "2022-03-27T17:07:19.121Z"
   },
   {
    "duration": 13,
    "start_time": "2022-03-27T17:07:39.089Z"
   },
   {
    "duration": 16,
    "start_time": "2022-03-27T17:07:59.041Z"
   },
   {
    "duration": 329467,
    "start_time": "2022-03-27T17:10:21.592Z"
   },
   {
    "duration": 0,
    "start_time": "2022-03-27T17:15:51.062Z"
   },
   {
    "duration": 0,
    "start_time": "2022-03-27T17:15:51.068Z"
   },
   {
    "duration": 3173,
    "start_time": "2022-03-27T17:16:36.302Z"
   },
   {
    "duration": 23563,
    "start_time": "2022-03-27T17:16:44.556Z"
   },
   {
    "duration": 19527,
    "start_time": "2022-03-27T17:18:38.877Z"
   },
   {
    "duration": 92275,
    "start_time": "2022-03-27T17:19:19.700Z"
   },
   {
    "duration": 92755,
    "start_time": "2022-03-27T17:25:22.011Z"
   },
   {
    "duration": 92948,
    "start_time": "2022-03-27T17:27:11.033Z"
   },
   {
    "duration": 552194,
    "start_time": "2022-03-27T17:29:37.425Z"
   },
   {
    "duration": 18498,
    "start_time": "2022-03-27T17:39:41.382Z"
   },
   {
    "duration": 25802,
    "start_time": "2022-03-27T17:40:09.118Z"
   },
   {
    "duration": 99158,
    "start_time": "2022-03-27T17:41:24.918Z"
   },
   {
    "duration": 112985,
    "start_time": "2022-03-27T17:44:17.085Z"
   },
   {
    "duration": 109167,
    "start_time": "2022-03-27T17:51:19.914Z"
   },
   {
    "duration": 2794,
    "start_time": "2022-03-27T17:54:39.795Z"
   },
   {
    "duration": 5,
    "start_time": "2022-03-27T17:54:42.593Z"
   },
   {
    "duration": 1210,
    "start_time": "2022-03-27T17:54:42.600Z"
   },
   {
    "duration": 12,
    "start_time": "2022-03-27T17:54:43.813Z"
   },
   {
    "duration": 820,
    "start_time": "2022-03-27T17:54:43.827Z"
   },
   {
    "duration": 257,
    "start_time": "2022-03-27T17:54:44.650Z"
   },
   {
    "duration": 615,
    "start_time": "2022-03-27T17:54:44.909Z"
   },
   {
    "duration": 15,
    "start_time": "2022-03-27T17:54:45.529Z"
   },
   {
    "duration": 9,
    "start_time": "2022-03-27T17:54:45.547Z"
   },
   {
    "duration": 6,
    "start_time": "2022-03-27T17:54:45.562Z"
   },
   {
    "duration": 15,
    "start_time": "2022-03-27T17:54:45.571Z"
   },
   {
    "duration": 501,
    "start_time": "2022-03-27T17:54:45.589Z"
   },
   {
    "duration": 51,
    "start_time": "2022-03-27T17:54:46.092Z"
   },
   {
    "duration": 14,
    "start_time": "2022-03-27T17:54:46.145Z"
   },
   {
    "duration": 26,
    "start_time": "2022-03-27T17:54:46.162Z"
   },
   {
    "duration": 705,
    "start_time": "2022-03-27T17:54:46.190Z"
   },
   {
    "duration": 50,
    "start_time": "2022-03-27T17:54:46.897Z"
   },
   {
    "duration": 455,
    "start_time": "2022-03-27T17:54:46.950Z"
   },
   {
    "duration": 168,
    "start_time": "2022-03-27T17:54:47.407Z"
   },
   {
    "duration": 7,
    "start_time": "2022-03-27T17:54:47.578Z"
   },
   {
    "duration": 25,
    "start_time": "2022-03-27T17:54:47.587Z"
   },
   {
    "duration": 395,
    "start_time": "2022-03-27T17:54:47.614Z"
   },
   {
    "duration": 11,
    "start_time": "2022-03-27T17:54:48.011Z"
   },
   {
    "duration": 1384,
    "start_time": "2022-03-27T17:54:48.024Z"
   },
   {
    "duration": 1343,
    "start_time": "2022-03-27T17:54:49.411Z"
   },
   {
    "duration": 1663,
    "start_time": "2022-03-27T17:54:50.756Z"
   },
   {
    "duration": 4,
    "start_time": "2022-03-27T17:54:52.422Z"
   },
   {
    "duration": 6,
    "start_time": "2022-03-27T17:54:52.445Z"
   },
   {
    "duration": 12,
    "start_time": "2022-03-27T17:54:52.453Z"
   },
   {
    "duration": 1303,
    "start_time": "2022-03-27T17:54:52.468Z"
   },
   {
    "duration": 5,
    "start_time": "2022-03-27T17:54:53.774Z"
   },
   {
    "duration": 6,
    "start_time": "2022-03-27T17:54:53.782Z"
   },
   {
    "duration": 10,
    "start_time": "2022-03-27T17:54:53.790Z"
   },
   {
    "duration": 55,
    "start_time": "2022-03-27T17:54:53.802Z"
   },
   {
    "duration": 4,
    "start_time": "2022-03-27T17:54:53.859Z"
   },
   {
    "duration": 2978,
    "start_time": "2022-03-27T17:54:53.866Z"
   },
   {
    "duration": 18907,
    "start_time": "2022-03-27T17:54:56.848Z"
   },
   {
    "duration": 107390,
    "start_time": "2022-03-27T17:55:15.758Z"
   },
   {
    "duration": 22,
    "start_time": "2022-03-27T17:57:03.150Z"
   },
   {
    "duration": 1169,
    "start_time": "2022-03-27T17:57:03.174Z"
   },
   {
    "duration": 48,
    "start_time": "2022-03-27T17:57:04.346Z"
   },
   {
    "duration": 1830,
    "start_time": "2022-03-27T21:17:27.900Z"
   },
   {
    "duration": 3,
    "start_time": "2022-03-27T21:17:30.321Z"
   },
   {
    "duration": 914,
    "start_time": "2022-03-27T21:17:30.805Z"
   },
   {
    "duration": 7,
    "start_time": "2022-03-27T21:17:31.721Z"
   },
   {
    "duration": 536,
    "start_time": "2022-03-27T21:17:32.444Z"
   },
   {
    "duration": 138,
    "start_time": "2022-03-27T21:17:32.982Z"
   },
   {
    "duration": 457,
    "start_time": "2022-03-27T21:17:33.331Z"
   },
   {
    "duration": 6,
    "start_time": "2022-03-27T21:17:34.749Z"
   },
   {
    "duration": 8,
    "start_time": "2022-03-27T21:17:35.023Z"
   },
   {
    "duration": 5,
    "start_time": "2022-03-27T21:17:36.482Z"
   },
   {
    "duration": 9,
    "start_time": "2022-03-27T21:17:37.724Z"
   },
   {
    "duration": 386,
    "start_time": "2022-03-27T21:17:38.029Z"
   },
   {
    "duration": 30,
    "start_time": "2022-03-27T21:17:39.529Z"
   },
   {
    "duration": 16,
    "start_time": "2022-03-27T21:17:40.578Z"
   },
   {
    "duration": 16,
    "start_time": "2022-03-27T21:17:41.991Z"
   },
   {
    "duration": 379,
    "start_time": "2022-03-27T21:17:42.535Z"
   },
   {
    "duration": 21,
    "start_time": "2022-03-27T21:17:43.475Z"
   },
   {
    "duration": 293,
    "start_time": "2022-03-27T21:17:43.675Z"
   },
   {
    "duration": 161,
    "start_time": "2022-03-27T21:17:46.325Z"
   },
   {
    "duration": 5,
    "start_time": "2022-03-27T21:17:46.670Z"
   },
   {
    "duration": 15,
    "start_time": "2022-03-27T21:17:47.491Z"
   },
   {
    "duration": 266,
    "start_time": "2022-03-27T21:17:48.386Z"
   },
   {
    "duration": 7,
    "start_time": "2022-03-27T21:17:54.286Z"
   },
   {
    "duration": 975,
    "start_time": "2022-03-27T21:17:55.619Z"
   },
   {
    "duration": 935,
    "start_time": "2022-03-27T21:18:01.879Z"
   },
   {
    "duration": 1024,
    "start_time": "2022-03-27T21:18:02.868Z"
   },
   {
    "duration": 3,
    "start_time": "2022-03-27T21:18:13.601Z"
   },
   {
    "duration": 3,
    "start_time": "2022-03-27T21:18:14.011Z"
   },
   {
    "duration": 147,
    "start_time": "2022-03-27T21:18:53.594Z"
   },
   {
    "duration": 706,
    "start_time": "2022-03-27T21:19:07.956Z"
   },
   {
    "duration": 646,
    "start_time": "2022-03-27T21:20:11.461Z"
   },
   {
    "duration": 15,
    "start_time": "2022-03-27T21:20:42.897Z"
   },
   {
    "duration": 1800,
    "start_time": "2022-03-27T21:21:36.191Z"
   },
   {
    "duration": 1715,
    "start_time": "2022-03-27T21:22:18.872Z"
   },
   {
    "duration": 883,
    "start_time": "2022-03-27T21:22:41.403Z"
   },
   {
    "duration": 1830,
    "start_time": "2022-03-27T21:23:05.857Z"
   },
   {
    "duration": 26,
    "start_time": "2022-03-27T21:23:22.573Z"
   },
   {
    "duration": 585,
    "start_time": "2022-03-27T21:24:32.418Z"
   },
   {
    "duration": 642,
    "start_time": "2022-03-27T21:24:46.826Z"
   },
   {
    "duration": 582,
    "start_time": "2022-03-27T21:26:39.105Z"
   },
   {
    "duration": 55,
    "start_time": "2022-03-28T05:37:40.586Z"
   },
   {
    "duration": 2330,
    "start_time": "2022-03-28T05:37:49.047Z"
   },
   {
    "duration": 5,
    "start_time": "2022-03-28T05:37:52.007Z"
   },
   {
    "duration": 1275,
    "start_time": "2022-03-28T05:37:53.264Z"
   },
   {
    "duration": 12,
    "start_time": "2022-03-28T05:37:54.542Z"
   },
   {
    "duration": 859,
    "start_time": "2022-03-28T05:37:54.808Z"
   },
   {
    "duration": 246,
    "start_time": "2022-03-28T05:37:55.671Z"
   },
   {
    "duration": 758,
    "start_time": "2022-03-28T05:37:55.943Z"
   },
   {
    "duration": 12,
    "start_time": "2022-03-28T05:37:57.624Z"
   },
   {
    "duration": 10,
    "start_time": "2022-03-28T05:37:57.903Z"
   },
   {
    "duration": 5,
    "start_time": "2022-03-28T05:37:59.040Z"
   },
   {
    "duration": 10,
    "start_time": "2022-03-28T05:37:59.911Z"
   },
   {
    "duration": 375,
    "start_time": "2022-03-28T05:38:00.191Z"
   },
   {
    "duration": 35,
    "start_time": "2022-03-28T05:38:01.086Z"
   },
   {
    "duration": 15,
    "start_time": "2022-03-28T05:38:01.680Z"
   },
   {
    "duration": 20,
    "start_time": "2022-03-28T05:38:02.566Z"
   },
   {
    "duration": 382,
    "start_time": "2022-03-28T05:38:03.183Z"
   },
   {
    "duration": 21,
    "start_time": "2022-03-28T05:38:03.791Z"
   },
   {
    "duration": 277,
    "start_time": "2022-03-28T05:38:04.119Z"
   },
   {
    "duration": 136,
    "start_time": "2022-03-28T05:38:04.728Z"
   },
   {
    "duration": 6,
    "start_time": "2022-03-28T05:38:05.359Z"
   },
   {
    "duration": 16,
    "start_time": "2022-03-28T05:38:05.967Z"
   },
   {
    "duration": 262,
    "start_time": "2022-03-28T05:38:06.665Z"
   },
   {
    "duration": 8,
    "start_time": "2022-03-28T05:38:08.887Z"
   },
   {
    "duration": 908,
    "start_time": "2022-03-28T05:38:10.183Z"
   },
   {
    "duration": 867,
    "start_time": "2022-03-28T05:38:11.100Z"
   },
   {
    "duration": 1053,
    "start_time": "2022-03-28T05:38:12.595Z"
   },
   {
    "duration": 3,
    "start_time": "2022-03-28T05:38:18.591Z"
   },
   {
    "duration": 674,
    "start_time": "2022-03-28T05:38:20.645Z"
   },
   {
    "duration": 547,
    "start_time": "2022-03-28T05:39:42.423Z"
   },
   {
    "duration": 589,
    "start_time": "2022-03-28T05:40:22.953Z"
   },
   {
    "duration": 723,
    "start_time": "2022-03-28T05:41:12.953Z"
   }
  ],
  "kernelspec": {
   "display_name": "Python 3 (ipykernel)",
   "language": "python",
   "name": "python3"
  },
  "language_info": {
   "codemirror_mode": {
    "name": "ipython",
    "version": 3
   },
   "file_extension": ".py",
   "mimetype": "text/x-python",
   "name": "python",
   "nbconvert_exporter": "python",
   "pygments_lexer": "ipython3",
   "version": "3.9.7"
  },
  "toc": {
   "base_numbering": 1,
   "nav_menu": {},
   "number_sections": true,
   "sideBar": true,
   "skip_h1_title": true,
   "title_cell": "Содержание",
   "title_sidebar": "Contents",
   "toc_cell": true,
   "toc_position": {
    "height": "calc(100% - 180px)",
    "left": "10px",
    "top": "150px",
    "width": "366.389px"
   },
   "toc_section_display": true,
   "toc_window_display": true
  }
 },
 "nbformat": 4,
 "nbformat_minor": 2
}
