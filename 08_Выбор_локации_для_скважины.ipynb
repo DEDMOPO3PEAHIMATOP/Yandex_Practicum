{
 "cells": [
  {
   "cell_type": "markdown",
   "metadata": {},
   "source": [
    "# Выбор локации для скважины"
   ]
  },
  {
   "cell_type": "markdown",
   "metadata": {},
   "source": [
    "<b> Описание исследования </b>\n",
    "Допустим, вы работаете в добывающей компании «ГлавРосГосНефть». Нужно решить, где бурить новую скважину.\n",
    "\n",
    "<b>Цель исследования</b>\n",
    "Вам предоставлены пробы нефти в трёх регионах: в каждом 10 000 месторождений, где измерили качество нефти и объём её запасов. Постройте модель машинного обучения, которая поможет определить регион, где добыча принесёт наибольшую прибыль. Проанализируйте возможную прибыль и риски техникой *Bootstrap.*\n",
    "\n",
    "<b> Задачи исследования</b>\n",
    "Шаги для выбора локации:\n",
    "\n",
    "- В избранном регионе ищут месторождения, для каждого определяют значения признаков;\n",
    "- Строят модель и оценивают объём запасов;\n",
    "- Выбирают месторождения с самым высокими оценками значений. Количество месторождений зависит от бюджета компании и стоимости разработки одной скважины;\n",
    "- Прибыль равна суммарной прибыли отобранных месторождений.\n",
    "\n",
    "<b>Данное исследование разделим на несколько частей:</b>\n",
    "\n",
    "<b> Часть 1. Загрузим и подготовим данные. Поясним порядок действий.</b>\n",
    "\n",
    " [ Загрузка и подготовка данных.](#step_1)\n",
    " \n",
    "<b> Часть 2. Обучим и проверим модель для каждого региона:</b>\n",
    "\n",
    " [2.1. Разобьем данные на обучающую и валидационную выборки в соотношении 75:25.](#step_2)\n",
    " \n",
    " [2.2. Обучим модель и сделаем предсказания на валидационной выборке.](#step_3)\n",
    " \n",
    " [2.3. Сохраним предсказания и правильные ответы на валидационной выборке.](#step_4)\n",
    " \n",
    " [2.4. Напечатаем на экране средний запас предсказанного сырья и RMSE модели.](#step_5)\n",
    " \n",
    " [2.5. Проанализируем результаты.](#step_6)\n",
    " \n",
    " <b> Часть 3. Подготовка к расчёту прибыли</b>\n",
    "\n",
    " [3.1. Все ключевые значения для расчётов сохраним в отдельных переменных.](#step_7)\n",
    " \n",
    " [3.2. Рассчитаем достаточный объём сырья для безубыточной разработки новой скважины. Сравним полученный объём сырья со средним запасом в каждом регионе.](#step_8)\n",
    "  \n",
    " [3.3. Напишем выводы по этапу подготовки расчёта прибыли.](#step_9)\n",
    " \n",
    " <b> Часть 4. Напишем функцию для расчёта прибыли по выбранным скважинам и предсказаниям модели:</b>\n",
    "\n",
    " [4.1. Выберем скважины с максимальными значениями предсказаний.](#step_10)\n",
    " \n",
    " [4.2. Просуммируем целевое значение объёма сырья, соответствующее этим предсказаниям.](#step_11)\n",
    "  \n",
    " [4.3. Рассчитаем прибыль для полученного объёма сырья.](#step_12)\n",
    "   \n",
    " <b> Часть 5. Посчитаем риски и прибыль для каждого региона:</b>\n",
    "\n",
    " [5.1. Применим технику Bootstrap с 1000 выборок, чтобы найти распределение прибыли.](#step_13)\n",
    " \n",
    " [5.2. Найдем среднюю прибыль, 95%-й доверительный интервал и риск убытков. Убыток — это отрицательная прибыль.](#step_14)\n",
    "  \n",
    " [5.3. Напишем выводы: предложим регион для разработки скважин и обоснуем выбор.](#step_15)\n",
    " \n",
    " <b> [ Чек-лист готовности проекта](#step_16) </b>\n",
    " \n",
    " "
   ]
  },
  {
   "cell_type": "markdown",
   "metadata": {},
   "source": [
    "<a id=\"step_1\"></a>\n",
    "## Загрузка и подготовка данных"
   ]
  },
  {
   "cell_type": "markdown",
   "metadata": {},
   "source": [
    "Подключим необходимые библиотеки"
   ]
  },
  {
   "cell_type": "code",
   "execution_count": 1,
   "metadata": {},
   "outputs": [],
   "source": [
    "import pandas as pd\n",
    "from sklearn.model_selection import train_test_split\n",
    "from sklearn.linear_model import LinearRegression\n",
    "from sklearn.metrics import mean_squared_error\n",
    "import numpy as np\n",
    "from scipy import stats as st\n",
    "import matplotlib.pyplot as plt #для расширения работы с графиками"
   ]
  },
  {
   "cell_type": "markdown",
   "metadata": {},
   "source": [
    "Загрузим наши данные"
   ]
  },
  {
   "cell_type": "code",
   "execution_count": 2,
   "metadata": {},
   "outputs": [],
   "source": [
    "try:\n",
    "    geo_data_0 = pd.read_csv ('geo_data_0.csv')\n",
    "    geo_data_1 = pd.read_csv ('geo_data_1.csv')\n",
    "    geo_data_2 = pd.read_csv ('geo_data_2.csv')\n",
    "except:\n",
    "    geo_data_0 = pd.read_csv ('/datasets/geo_data_0.csv')\n",
    "    geo_data_1 = pd.read_csv ('/datasets/geo_data_1.csv')\n",
    "    geo_data_2 = pd.read_csv ('/datasets/geo_data_2.csv')"
   ]
  },
  {
   "cell_type": "code",
   "execution_count": 3,
   "metadata": {},
   "outputs": [],
   "source": [
    "#создадим функцию для первичного предпросмотра того, что имеем\n",
    "def first_look (df: pd.DataFrame, limit_na_category: int = 10) -> None:\n",
    "    '''Функция получения первичной информации о датафрейме'''\n",
    "    print ('------------- Первые 5 строк ------------')\n",
    "    display(df.head())\n",
    "    print('')\n",
    "    print('')\n",
    "    print ('------------- Типы данных ------------')\n",
    "    print (df.info())\n",
    "    print('')\n",
    "    print('')\n",
    "    print ('------------- Пропуски ------------')\n",
    "    count = 0\n",
    "    shape_0 = df.shape[0]\n",
    "    for element in df.columns:\n",
    "        if df[element].isna().sum() > 0:\n",
    "            print(element, ' - ', df[element].isna().sum(), 'пропусков, ', round(df[element].isna().sum() * 100 / shape_0,2), '% от числа строк.' )\n",
    "            count = +1\n",
    "    if count == 0:\n",
    "        print('Пропусков НЕТ')\n",
    "        print('')\n",
    "        print('')\n",
    "        print ('------------- Дубликаты ------------')\n",
    "        if df.duplicated().sum() > 0:\n",
    "            print('Дубликатов: ', df.duplicated().sum())\n",
    "    else:\n",
    "        print('Дубликатов НЕТ')\n",
    "# ищем, есть ли категориальные столбцы (содержащие до limit_na_category уникальных значений) в датафрейме \n",
    "    min_unique = limit_na_category + 1\n",
    "    for element in df.columns:\n",
    "        min_unique = min(min_unique, df[element].nunique())\n",
    "        if min_unique <= limit_na_category:\n",
    "            print('')\n",
    "    print('')\n",
    "    print('------------- Категориальные признаки ------------')\n",
    "    for element in df.columns:\n",
    "        if df[element].nunique() <= limit_na_category: \n",
    "            print(element, ': ', df[element].nunique(), 'категории - ', df[element].unique(), )\n",
    "    print('')\n",
    "    print('------------- Корреляция в столбцах ------------')\n",
    "    display (df.corr ())\n",
    "    print('')\n",
    "    print('------------- Распределение данных ------------')\n",
    "    df ['product'].plot (y = 'product', kind = 'hist', bins = 20)\n",
    "    plt.title ('Объем запасов в скважинах')\n",
    "    plt.show ()"
   ]
  },
  {
   "cell_type": "markdown",
   "metadata": {},
   "source": [
    "Посмотрим на наши данные"
   ]
  },
  {
   "cell_type": "code",
   "execution_count": 4,
   "metadata": {
    "scrolled": false
   },
   "outputs": [
    {
     "name": "stdout",
     "output_type": "stream",
     "text": [
      "------------- Первые 5 строк ------------\n"
     ]
    },
    {
     "data": {
      "text/html": [
       "<div>\n",
       "<style scoped>\n",
       "    .dataframe tbody tr th:only-of-type {\n",
       "        vertical-align: middle;\n",
       "    }\n",
       "\n",
       "    .dataframe tbody tr th {\n",
       "        vertical-align: top;\n",
       "    }\n",
       "\n",
       "    .dataframe thead th {\n",
       "        text-align: right;\n",
       "    }\n",
       "</style>\n",
       "<table border=\"1\" class=\"dataframe\">\n",
       "  <thead>\n",
       "    <tr style=\"text-align: right;\">\n",
       "      <th></th>\n",
       "      <th>id</th>\n",
       "      <th>f0</th>\n",
       "      <th>f1</th>\n",
       "      <th>f2</th>\n",
       "      <th>product</th>\n",
       "    </tr>\n",
       "  </thead>\n",
       "  <tbody>\n",
       "    <tr>\n",
       "      <td>0</td>\n",
       "      <td>txEyH</td>\n",
       "      <td>0.705745</td>\n",
       "      <td>-0.497823</td>\n",
       "      <td>1.221170</td>\n",
       "      <td>105.280062</td>\n",
       "    </tr>\n",
       "    <tr>\n",
       "      <td>1</td>\n",
       "      <td>2acmU</td>\n",
       "      <td>1.334711</td>\n",
       "      <td>-0.340164</td>\n",
       "      <td>4.365080</td>\n",
       "      <td>73.037750</td>\n",
       "    </tr>\n",
       "    <tr>\n",
       "      <td>2</td>\n",
       "      <td>409Wp</td>\n",
       "      <td>1.022732</td>\n",
       "      <td>0.151990</td>\n",
       "      <td>1.419926</td>\n",
       "      <td>85.265647</td>\n",
       "    </tr>\n",
       "    <tr>\n",
       "      <td>3</td>\n",
       "      <td>iJLyR</td>\n",
       "      <td>-0.032172</td>\n",
       "      <td>0.139033</td>\n",
       "      <td>2.978566</td>\n",
       "      <td>168.620776</td>\n",
       "    </tr>\n",
       "    <tr>\n",
       "      <td>4</td>\n",
       "      <td>Xdl7t</td>\n",
       "      <td>1.988431</td>\n",
       "      <td>0.155413</td>\n",
       "      <td>4.751769</td>\n",
       "      <td>154.036647</td>\n",
       "    </tr>\n",
       "  </tbody>\n",
       "</table>\n",
       "</div>"
      ],
      "text/plain": [
       "      id        f0        f1        f2     product\n",
       "0  txEyH  0.705745 -0.497823  1.221170  105.280062\n",
       "1  2acmU  1.334711 -0.340164  4.365080   73.037750\n",
       "2  409Wp  1.022732  0.151990  1.419926   85.265647\n",
       "3  iJLyR -0.032172  0.139033  2.978566  168.620776\n",
       "4  Xdl7t  1.988431  0.155413  4.751769  154.036647"
      ]
     },
     "metadata": {},
     "output_type": "display_data"
    },
    {
     "name": "stdout",
     "output_type": "stream",
     "text": [
      "\n",
      "\n",
      "------------- Типы данных ------------\n",
      "<class 'pandas.core.frame.DataFrame'>\n",
      "RangeIndex: 100000 entries, 0 to 99999\n",
      "Data columns (total 5 columns):\n",
      "id         100000 non-null object\n",
      "f0         100000 non-null float64\n",
      "f1         100000 non-null float64\n",
      "f2         100000 non-null float64\n",
      "product    100000 non-null float64\n",
      "dtypes: float64(4), object(1)\n",
      "memory usage: 3.8+ MB\n",
      "None\n",
      "\n",
      "\n",
      "------------- Пропуски ------------\n",
      "Пропусков НЕТ\n",
      "\n",
      "\n",
      "------------- Дубликаты ------------\n",
      "\n",
      "------------- Категориальные признаки ------------\n",
      "\n",
      "------------- Корреляция в столбцах ------------\n"
     ]
    },
    {
     "data": {
      "text/html": [
       "<div>\n",
       "<style scoped>\n",
       "    .dataframe tbody tr th:only-of-type {\n",
       "        vertical-align: middle;\n",
       "    }\n",
       "\n",
       "    .dataframe tbody tr th {\n",
       "        vertical-align: top;\n",
       "    }\n",
       "\n",
       "    .dataframe thead th {\n",
       "        text-align: right;\n",
       "    }\n",
       "</style>\n",
       "<table border=\"1\" class=\"dataframe\">\n",
       "  <thead>\n",
       "    <tr style=\"text-align: right;\">\n",
       "      <th></th>\n",
       "      <th>f0</th>\n",
       "      <th>f1</th>\n",
       "      <th>f2</th>\n",
       "      <th>product</th>\n",
       "    </tr>\n",
       "  </thead>\n",
       "  <tbody>\n",
       "    <tr>\n",
       "      <td>f0</td>\n",
       "      <td>1.000000</td>\n",
       "      <td>-0.440723</td>\n",
       "      <td>-0.003153</td>\n",
       "      <td>0.143536</td>\n",
       "    </tr>\n",
       "    <tr>\n",
       "      <td>f1</td>\n",
       "      <td>-0.440723</td>\n",
       "      <td>1.000000</td>\n",
       "      <td>0.001724</td>\n",
       "      <td>-0.192356</td>\n",
       "    </tr>\n",
       "    <tr>\n",
       "      <td>f2</td>\n",
       "      <td>-0.003153</td>\n",
       "      <td>0.001724</td>\n",
       "      <td>1.000000</td>\n",
       "      <td>0.483663</td>\n",
       "    </tr>\n",
       "    <tr>\n",
       "      <td>product</td>\n",
       "      <td>0.143536</td>\n",
       "      <td>-0.192356</td>\n",
       "      <td>0.483663</td>\n",
       "      <td>1.000000</td>\n",
       "    </tr>\n",
       "  </tbody>\n",
       "</table>\n",
       "</div>"
      ],
      "text/plain": [
       "               f0        f1        f2   product\n",
       "f0       1.000000 -0.440723 -0.003153  0.143536\n",
       "f1      -0.440723  1.000000  0.001724 -0.192356\n",
       "f2      -0.003153  0.001724  1.000000  0.483663\n",
       "product  0.143536 -0.192356  0.483663  1.000000"
      ]
     },
     "metadata": {},
     "output_type": "display_data"
    },
    {
     "name": "stdout",
     "output_type": "stream",
     "text": [
      "\n",
      "------------- Распределение данных ------------\n"
     ]
    },
    {
     "data": {
      "image/png": "[encoded data removed]",
      "text/plain": [
       "<Figure size 432x288 with 1 Axes>"
      ]
     },
     "metadata": {
      "needs_background": "light"
     },
     "output_type": "display_data"
    },
    {
     "name": "stdout",
     "output_type": "stream",
     "text": [
      "------------- Первые 5 строк ------------\n"
     ]
    },
    {
     "data": {
      "text/html": [
       "<div>\n",
       "<style scoped>\n",
       "    .dataframe tbody tr th:only-of-type {\n",
       "        vertical-align: middle;\n",
       "    }\n",
       "\n",
       "    .dataframe tbody tr th {\n",
       "        vertical-align: top;\n",
       "    }\n",
       "\n",
       "    .dataframe thead th {\n",
       "        text-align: right;\n",
       "    }\n",
       "</style>\n",
       "<table border=\"1\" class=\"dataframe\">\n",
       "  <thead>\n",
       "    <tr style=\"text-align: right;\">\n",
       "      <th></th>\n",
       "      <th>id</th>\n",
       "      <th>f0</th>\n",
       "      <th>f1</th>\n",
       "      <th>f2</th>\n",
       "      <th>product</th>\n",
       "    </tr>\n",
       "  </thead>\n",
       "  <tbody>\n",
       "    <tr>\n",
       "      <td>0</td>\n",
       "      <td>kBEdx</td>\n",
       "      <td>-15.001348</td>\n",
       "      <td>-8.276000</td>\n",
       "      <td>-0.005876</td>\n",
       "      <td>3.179103</td>\n",
       "    </tr>\n",
       "    <tr>\n",
       "      <td>1</td>\n",
       "      <td>62mP7</td>\n",
       "      <td>14.272088</td>\n",
       "      <td>-3.475083</td>\n",
       "      <td>0.999183</td>\n",
       "      <td>26.953261</td>\n",
       "    </tr>\n",
       "    <tr>\n",
       "      <td>2</td>\n",
       "      <td>vyE1P</td>\n",
       "      <td>6.263187</td>\n",
       "      <td>-5.948386</td>\n",
       "      <td>5.001160</td>\n",
       "      <td>134.766305</td>\n",
       "    </tr>\n",
       "    <tr>\n",
       "      <td>3</td>\n",
       "      <td>KcrkZ</td>\n",
       "      <td>-13.081196</td>\n",
       "      <td>-11.506057</td>\n",
       "      <td>4.999415</td>\n",
       "      <td>137.945408</td>\n",
       "    </tr>\n",
       "    <tr>\n",
       "      <td>4</td>\n",
       "      <td>AHL4O</td>\n",
       "      <td>12.702195</td>\n",
       "      <td>-8.147433</td>\n",
       "      <td>5.004363</td>\n",
       "      <td>134.766305</td>\n",
       "    </tr>\n",
       "  </tbody>\n",
       "</table>\n",
       "</div>"
      ],
      "text/plain": [
       "      id         f0         f1        f2     product\n",
       "0  kBEdx -15.001348  -8.276000 -0.005876    3.179103\n",
       "1  62mP7  14.272088  -3.475083  0.999183   26.953261\n",
       "2  vyE1P   6.263187  -5.948386  5.001160  134.766305\n",
       "3  KcrkZ -13.081196 -11.506057  4.999415  137.945408\n",
       "4  AHL4O  12.702195  -8.147433  5.004363  134.766305"
      ]
     },
     "metadata": {},
     "output_type": "display_data"
    },
    {
     "name": "stdout",
     "output_type": "stream",
     "text": [
      "\n",
      "\n",
      "------------- Типы данных ------------\n",
      "<class 'pandas.core.frame.DataFrame'>\n",
      "RangeIndex: 100000 entries, 0 to 99999\n",
      "Data columns (total 5 columns):\n",
      "id         100000 non-null object\n",
      "f0         100000 non-null float64\n",
      "f1         100000 non-null float64\n",
      "f2         100000 non-null float64\n",
      "product    100000 non-null float64\n",
      "dtypes: float64(4), object(1)\n",
      "memory usage: 3.8+ MB\n",
      "None\n",
      "\n",
      "\n",
      "------------- Пропуски ------------\n",
      "Пропусков НЕТ\n",
      "\n",
      "\n",
      "------------- Дубликаты ------------\n",
      "\n",
      "------------- Категориальные признаки ------------\n",
      "\n",
      "------------- Корреляция в столбцах ------------\n"
     ]
    },
    {
     "data": {
      "text/html": [
       "<div>\n",
       "<style scoped>\n",
       "    .dataframe tbody tr th:only-of-type {\n",
       "        vertical-align: middle;\n",
       "    }\n",
       "\n",
       "    .dataframe tbody tr th {\n",
       "        vertical-align: top;\n",
       "    }\n",
       "\n",
       "    .dataframe thead th {\n",
       "        text-align: right;\n",
       "    }\n",
       "</style>\n",
       "<table border=\"1\" class=\"dataframe\">\n",
       "  <thead>\n",
       "    <tr style=\"text-align: right;\">\n",
       "      <th></th>\n",
       "      <th>f0</th>\n",
       "      <th>f1</th>\n",
       "      <th>f2</th>\n",
       "      <th>product</th>\n",
       "    </tr>\n",
       "  </thead>\n",
       "  <tbody>\n",
       "    <tr>\n",
       "      <td>f0</td>\n",
       "      <td>1.000000</td>\n",
       "      <td>0.182287</td>\n",
       "      <td>-0.001777</td>\n",
       "      <td>-0.030491</td>\n",
       "    </tr>\n",
       "    <tr>\n",
       "      <td>f1</td>\n",
       "      <td>0.182287</td>\n",
       "      <td>1.000000</td>\n",
       "      <td>-0.002595</td>\n",
       "      <td>-0.010155</td>\n",
       "    </tr>\n",
       "    <tr>\n",
       "      <td>f2</td>\n",
       "      <td>-0.001777</td>\n",
       "      <td>-0.002595</td>\n",
       "      <td>1.000000</td>\n",
       "      <td>0.999397</td>\n",
       "    </tr>\n",
       "    <tr>\n",
       "      <td>product</td>\n",
       "      <td>-0.030491</td>\n",
       "      <td>-0.010155</td>\n",
       "      <td>0.999397</td>\n",
       "      <td>1.000000</td>\n",
       "    </tr>\n",
       "  </tbody>\n",
       "</table>\n",
       "</div>"
      ],
      "text/plain": [
       "               f0        f1        f2   product\n",
       "f0       1.000000  0.182287 -0.001777 -0.030491\n",
       "f1       0.182287  1.000000 -0.002595 -0.010155\n",
       "f2      -0.001777 -0.002595  1.000000  0.999397\n",
       "product -0.030491 -0.010155  0.999397  1.000000"
      ]
     },
     "metadata": {},
     "output_type": "display_data"
    },
    {
     "name": "stdout",
     "output_type": "stream",
     "text": [
      "\n",
      "------------- Распределение данных ------------\n"
     ]
    },
    {
     "data": {
      "image/png": "[encoded data removed]",
      "text/plain": [
       "<Figure size 432x288 with 1 Axes>"
      ]
     },
     "metadata": {
      "needs_background": "light"
     },
     "output_type": "display_data"
    },
    {
     "name": "stdout",
     "output_type": "stream",
     "text": [
      "------------- Первые 5 строк ------------\n"
     ]
    },
    {
     "data": {
      "text/html": [
       "<div>\n",
       "<style scoped>\n",
       "    .dataframe tbody tr th:only-of-type {\n",
       "        vertical-align: middle;\n",
       "    }\n",
       "\n",
       "    .dataframe tbody tr th {\n",
       "        vertical-align: top;\n",
       "    }\n",
       "\n",
       "    .dataframe thead th {\n",
       "        text-align: right;\n",
       "    }\n",
       "</style>\n",
       "<table border=\"1\" class=\"dataframe\">\n",
       "  <thead>\n",
       "    <tr style=\"text-align: right;\">\n",
       "      <th></th>\n",
       "      <th>id</th>\n",
       "      <th>f0</th>\n",
       "      <th>f1</th>\n",
       "      <th>f2</th>\n",
       "      <th>product</th>\n",
       "    </tr>\n",
       "  </thead>\n",
       "  <tbody>\n",
       "    <tr>\n",
       "      <td>0</td>\n",
       "      <td>fwXo0</td>\n",
       "      <td>-1.146987</td>\n",
       "      <td>0.963328</td>\n",
       "      <td>-0.828965</td>\n",
       "      <td>27.758673</td>\n",
       "    </tr>\n",
       "    <tr>\n",
       "      <td>1</td>\n",
       "      <td>WJtFt</td>\n",
       "      <td>0.262778</td>\n",
       "      <td>0.269839</td>\n",
       "      <td>-2.530187</td>\n",
       "      <td>56.069697</td>\n",
       "    </tr>\n",
       "    <tr>\n",
       "      <td>2</td>\n",
       "      <td>ovLUW</td>\n",
       "      <td>0.194587</td>\n",
       "      <td>0.289035</td>\n",
       "      <td>-5.586433</td>\n",
       "      <td>62.871910</td>\n",
       "    </tr>\n",
       "    <tr>\n",
       "      <td>3</td>\n",
       "      <td>q6cA6</td>\n",
       "      <td>2.236060</td>\n",
       "      <td>-0.553760</td>\n",
       "      <td>0.930038</td>\n",
       "      <td>114.572842</td>\n",
       "    </tr>\n",
       "    <tr>\n",
       "      <td>4</td>\n",
       "      <td>WPMUX</td>\n",
       "      <td>-0.515993</td>\n",
       "      <td>1.716266</td>\n",
       "      <td>5.899011</td>\n",
       "      <td>149.600746</td>\n",
       "    </tr>\n",
       "  </tbody>\n",
       "</table>\n",
       "</div>"
      ],
      "text/plain": [
       "      id        f0        f1        f2     product\n",
       "0  fwXo0 -1.146987  0.963328 -0.828965   27.758673\n",
       "1  WJtFt  0.262778  0.269839 -2.530187   56.069697\n",
       "2  ovLUW  0.194587  0.289035 -5.586433   62.871910\n",
       "3  q6cA6  2.236060 -0.553760  0.930038  114.572842\n",
       "4  WPMUX -0.515993  1.716266  5.899011  149.600746"
      ]
     },
     "metadata": {},
     "output_type": "display_data"
    },
    {
     "name": "stdout",
     "output_type": "stream",
     "text": [
      "\n",
      "\n",
      "------------- Типы данных ------------\n",
      "<class 'pandas.core.frame.DataFrame'>\n",
      "RangeIndex: 100000 entries, 0 to 99999\n",
      "Data columns (total 5 columns):\n",
      "id         100000 non-null object\n",
      "f0         100000 non-null float64\n",
      "f1         100000 non-null float64\n",
      "f2         100000 non-null float64\n",
      "product    100000 non-null float64\n",
      "dtypes: float64(4), object(1)\n",
      "memory usage: 3.8+ MB\n",
      "None\n",
      "\n",
      "\n",
      "------------- Пропуски ------------\n",
      "Пропусков НЕТ\n",
      "\n",
      "\n",
      "------------- Дубликаты ------------\n",
      "\n",
      "------------- Категориальные признаки ------------\n",
      "\n",
      "------------- Корреляция в столбцах ------------\n"
     ]
    },
    {
     "data": {
      "text/html": [
       "<div>\n",
       "<style scoped>\n",
       "    .dataframe tbody tr th:only-of-type {\n",
       "        vertical-align: middle;\n",
       "    }\n",
       "\n",
       "    .dataframe tbody tr th {\n",
       "        vertical-align: top;\n",
       "    }\n",
       "\n",
       "    .dataframe thead th {\n",
       "        text-align: right;\n",
       "    }\n",
       "</style>\n",
       "<table border=\"1\" class=\"dataframe\">\n",
       "  <thead>\n",
       "    <tr style=\"text-align: right;\">\n",
       "      <th></th>\n",
       "      <th>f0</th>\n",
       "      <th>f1</th>\n",
       "      <th>f2</th>\n",
       "      <th>product</th>\n",
       "    </tr>\n",
       "  </thead>\n",
       "  <tbody>\n",
       "    <tr>\n",
       "      <td>f0</td>\n",
       "      <td>1.000000</td>\n",
       "      <td>0.000528</td>\n",
       "      <td>-0.000448</td>\n",
       "      <td>-0.001987</td>\n",
       "    </tr>\n",
       "    <tr>\n",
       "      <td>f1</td>\n",
       "      <td>0.000528</td>\n",
       "      <td>1.000000</td>\n",
       "      <td>0.000779</td>\n",
       "      <td>-0.001012</td>\n",
       "    </tr>\n",
       "    <tr>\n",
       "      <td>f2</td>\n",
       "      <td>-0.000448</td>\n",
       "      <td>0.000779</td>\n",
       "      <td>1.000000</td>\n",
       "      <td>0.445871</td>\n",
       "    </tr>\n",
       "    <tr>\n",
       "      <td>product</td>\n",
       "      <td>-0.001987</td>\n",
       "      <td>-0.001012</td>\n",
       "      <td>0.445871</td>\n",
       "      <td>1.000000</td>\n",
       "    </tr>\n",
       "  </tbody>\n",
       "</table>\n",
       "</div>"
      ],
      "text/plain": [
       "               f0        f1        f2   product\n",
       "f0       1.000000  0.000528 -0.000448 -0.001987\n",
       "f1       0.000528  1.000000  0.000779 -0.001012\n",
       "f2      -0.000448  0.000779  1.000000  0.445871\n",
       "product -0.001987 -0.001012  0.445871  1.000000"
      ]
     },
     "metadata": {},
     "output_type": "display_data"
    },
    {
     "name": "stdout",
     "output_type": "stream",
     "text": [
      "\n",
      "------------- Распределение данных ------------\n"
     ]
    },
    {
     "data": {
      "image/png": "[encoded data removed]",
      "text/plain": [
       "<Figure size 432x288 with 1 Axes>"
      ]
     },
     "metadata": {
      "needs_background": "light"
     },
     "output_type": "display_data"
    }
   ],
   "source": [
    "first_look (geo_data_0)\n",
    "first_look (geo_data_1)\n",
    "first_look (geo_data_2)"
   ]
  },
  {
   "cell_type": "markdown",
   "metadata": {},
   "source": [
    "В каждом из датасетов проб трех регионов мы имеем по 100000 значений:\n",
    "\n",
    "•\tf0, f1, f2 — три признака точек (неважно, что они означают, но сами признаки значимы);\n",
    "\n",
    "•\tproduct — объём запасов в скважине (тыс. баррелей).\n",
    "\n",
    "\n",
    "Данные по второму региону сильно скоррелированы, бросается в глаза почти абсолютная корреляция признака 'f2' отнотильно 'product'. Рассмотрим данный регион внимательнее."
   ]
  },
  {
   "cell_type": "code",
   "execution_count": 5,
   "metadata": {},
   "outputs": [
    {
     "data": {
      "text/plain": [
       "array([-5.87601369e-03,  9.99182737e-01,  5.00116016e+00, ...,\n",
       "        4.99865060e+00,  1.00014635e+00, -3.29851829e-03])"
      ]
     },
     "metadata": {},
     "output_type": "display_data"
    },
    {
     "data": {
      "text/plain": [
       "id          99996\n",
       "f0         100000\n",
       "f1         100000\n",
       "f2         100000\n",
       "product        12\n",
       "dtype: int64"
      ]
     },
     "execution_count": 5,
     "metadata": {},
     "output_type": "execute_result"
    }
   ],
   "source": [
    "display (geo_data_1 ['f2'].unique ())\n",
    "geo_data_1.nunique()"
   ]
  },
  {
   "cell_type": "markdown",
   "metadata": {},
   "source": [
    "Во втором регионе либо данные потеряли, либо что-то произошло с ними, но факт на лицо - всего 12 уникальных значений. Можно предположить, что по всему региону запасы зависят только от даных по столбцу 'f2'. В любом случае необходимо обратить на это внимание. Если с данными что-то не так и это подтвердится, необходимо восстановить (дополнить) их и пересчитать все заново с вновь открывшимися обстоятельствами."
   ]
  },
  {
   "cell_type": "markdown",
   "metadata": {},
   "source": [
    "## Обучение и проверка модели"
   ]
  },
  {
   "cell_type": "markdown",
   "metadata": {},
   "source": [
    "<a id=\"step_2\"></a>\n",
    "2.1. Разобьем данные на обучающую и валидационную выборки в соотношении 75:25."
   ]
  },
  {
   "cell_type": "code",
   "execution_count": 6,
   "metadata": {},
   "outputs": [],
   "source": [
    "#создадим функцию разбивки данных с необходимыми нам условиями:\n",
    "def df_split (df):\n",
    "    features = df.drop (['id', 'product'] , axis=1)\n",
    "    target = df ['product']\n",
    "\n",
    "    features_train, features_valid, target_train, target_valid = train_test_split (\n",
    "    features, target, test_size = 0.25, random_state = 12345)\n",
    "    \n",
    "    return features_train, features_valid, target_train, target_valid"
   ]
  },
  {
   "cell_type": "code",
   "execution_count": 7,
   "metadata": {},
   "outputs": [],
   "source": [
    "features_train_0, features_valid_0, target_train_0, target_valid_0 = df_split (geo_data_0)\n",
    "features_train_1, features_valid_1, target_train_1, target_valid_1 = df_split (geo_data_1)\n",
    "features_train_2, features_valid_2, target_train_2, target_valid_2 = df_split (geo_data_2)"
   ]
  },
  {
   "cell_type": "markdown",
   "metadata": {},
   "source": [
    "<a id=\"step_3\"></a>\n",
    "2.2. Обучим модель и сделаем предсказания на валидационной выборке."
   ]
  },
  {
   "cell_type": "code",
   "execution_count": 8,
   "metadata": {},
   "outputs": [],
   "source": [
    "#обучение модели будем производить на модели линейной регриссии\n",
    "model = LinearRegression ()\n",
    "#создадим функцию обучения модели и предсказаний\n",
    "def model_predict (features_train, features_valid, target_train, target_valid):\n",
    "                \n",
    "    model.fit (features_train, target_train)\n",
    "    predicted_target = model.predict (features_valid)\n",
    "    df_dict = {'real_product' : target_valid, #реальные данные по объему запасов\n",
    "            'predicted_product' : predicted_target #предсказания по объему запасов\n",
    "    }\n",
    "    df_frame = pd.DataFrame (df_dict, columns = ['real_product', 'predicted_product'])\n",
    "    rmse = mean_squared_error (target_valid, predicted_target) ** 0.5\n",
    "    mean = df_frame ['predicted_product'].mean ()\n",
    "    product_sum = df_frame ['predicted_product'].sum ()\n",
    "    return df_frame, rmse, mean, product_sum"
   ]
  },
  {
   "cell_type": "code",
   "execution_count": 9,
   "metadata": {},
   "outputs": [],
   "source": [
    "df_frame_0, rmse_0, mean_0, product_sum_0 = model_predict (features_train_0, features_valid_0, target_train_0, target_valid_0)\n",
    "df_frame_1, rmse_1, mean_1, product_sum_1 = model_predict (features_train_1, features_valid_1, target_train_1, target_valid_1)\n",
    "df_frame_2, rmse_2, mean_2, product_sum_2 = model_predict (features_train_2, features_valid_2, target_train_2, target_valid_2)"
   ]
  },
  {
   "cell_type": "markdown",
   "metadata": {},
   "source": [
    "<a id=\"step_4\"></a>\n",
    "2.3. Сохраним предсказания и правильные ответы на валидационной выборке."
   ]
  },
  {
   "cell_type": "code",
   "execution_count": 10,
   "metadata": {
    "scrolled": false
   },
   "outputs": [
    {
     "data": {
      "text/html": [
       "<div>\n",
       "<style scoped>\n",
       "    .dataframe tbody tr th:only-of-type {\n",
       "        vertical-align: middle;\n",
       "    }\n",
       "\n",
       "    .dataframe tbody tr th {\n",
       "        vertical-align: top;\n",
       "    }\n",
       "\n",
       "    .dataframe thead th {\n",
       "        text-align: right;\n",
       "    }\n",
       "</style>\n",
       "<table border=\"1\" class=\"dataframe\">\n",
       "  <thead>\n",
       "    <tr style=\"text-align: right;\">\n",
       "      <th></th>\n",
       "      <th>real_product</th>\n",
       "      <th>predicted_product</th>\n",
       "    </tr>\n",
       "  </thead>\n",
       "  <tbody>\n",
       "    <tr>\n",
       "      <td>71751</td>\n",
       "      <td>10.038645</td>\n",
       "      <td>95.894952</td>\n",
       "    </tr>\n",
       "    <tr>\n",
       "      <td>80493</td>\n",
       "      <td>114.551489</td>\n",
       "      <td>77.572583</td>\n",
       "    </tr>\n",
       "    <tr>\n",
       "      <td>2655</td>\n",
       "      <td>132.603635</td>\n",
       "      <td>77.892640</td>\n",
       "    </tr>\n",
       "    <tr>\n",
       "      <td>53233</td>\n",
       "      <td>169.072125</td>\n",
       "      <td>90.175134</td>\n",
       "    </tr>\n",
       "    <tr>\n",
       "      <td>91141</td>\n",
       "      <td>122.325180</td>\n",
       "      <td>70.510088</td>\n",
       "    </tr>\n",
       "  </tbody>\n",
       "</table>\n",
       "</div>"
      ],
      "text/plain": [
       "       real_product  predicted_product\n",
       "71751     10.038645          95.894952\n",
       "80493    114.551489          77.572583\n",
       "2655     132.603635          77.892640\n",
       "53233    169.072125          90.175134\n",
       "91141    122.325180          70.510088"
      ]
     },
     "metadata": {},
     "output_type": "display_data"
    },
    {
     "data": {
      "text/html": [
       "<div>\n",
       "<style scoped>\n",
       "    .dataframe tbody tr th:only-of-type {\n",
       "        vertical-align: middle;\n",
       "    }\n",
       "\n",
       "    .dataframe tbody tr th {\n",
       "        vertical-align: top;\n",
       "    }\n",
       "\n",
       "    .dataframe thead th {\n",
       "        text-align: right;\n",
       "    }\n",
       "</style>\n",
       "<table border=\"1\" class=\"dataframe\">\n",
       "  <thead>\n",
       "    <tr style=\"text-align: right;\">\n",
       "      <th></th>\n",
       "      <th>real_product</th>\n",
       "      <th>predicted_product</th>\n",
       "    </tr>\n",
       "  </thead>\n",
       "  <tbody>\n",
       "    <tr>\n",
       "      <td>71751</td>\n",
       "      <td>80.859783</td>\n",
       "      <td>82.663314</td>\n",
       "    </tr>\n",
       "    <tr>\n",
       "      <td>80493</td>\n",
       "      <td>53.906522</td>\n",
       "      <td>54.431786</td>\n",
       "    </tr>\n",
       "    <tr>\n",
       "      <td>2655</td>\n",
       "      <td>30.132364</td>\n",
       "      <td>29.748760</td>\n",
       "    </tr>\n",
       "    <tr>\n",
       "      <td>53233</td>\n",
       "      <td>53.906522</td>\n",
       "      <td>53.552133</td>\n",
       "    </tr>\n",
       "    <tr>\n",
       "      <td>91141</td>\n",
       "      <td>0.000000</td>\n",
       "      <td>1.243856</td>\n",
       "    </tr>\n",
       "  </tbody>\n",
       "</table>\n",
       "</div>"
      ],
      "text/plain": [
       "       real_product  predicted_product\n",
       "71751     80.859783          82.663314\n",
       "80493     53.906522          54.431786\n",
       "2655      30.132364          29.748760\n",
       "53233     53.906522          53.552133\n",
       "91141      0.000000           1.243856"
      ]
     },
     "metadata": {},
     "output_type": "display_data"
    },
    {
     "data": {
      "text/html": [
       "<div>\n",
       "<style scoped>\n",
       "    .dataframe tbody tr th:only-of-type {\n",
       "        vertical-align: middle;\n",
       "    }\n",
       "\n",
       "    .dataframe tbody tr th {\n",
       "        vertical-align: top;\n",
       "    }\n",
       "\n",
       "    .dataframe thead th {\n",
       "        text-align: right;\n",
       "    }\n",
       "</style>\n",
       "<table border=\"1\" class=\"dataframe\">\n",
       "  <thead>\n",
       "    <tr style=\"text-align: right;\">\n",
       "      <th></th>\n",
       "      <th>real_product</th>\n",
       "      <th>predicted_product</th>\n",
       "    </tr>\n",
       "  </thead>\n",
       "  <tbody>\n",
       "    <tr>\n",
       "      <td>71751</td>\n",
       "      <td>61.212375</td>\n",
       "      <td>93.599633</td>\n",
       "    </tr>\n",
       "    <tr>\n",
       "      <td>80493</td>\n",
       "      <td>41.850118</td>\n",
       "      <td>75.105159</td>\n",
       "    </tr>\n",
       "    <tr>\n",
       "      <td>2655</td>\n",
       "      <td>57.776581</td>\n",
       "      <td>90.066809</td>\n",
       "    </tr>\n",
       "    <tr>\n",
       "      <td>53233</td>\n",
       "      <td>100.053761</td>\n",
       "      <td>105.162375</td>\n",
       "    </tr>\n",
       "    <tr>\n",
       "      <td>91141</td>\n",
       "      <td>109.897122</td>\n",
       "      <td>115.303310</td>\n",
       "    </tr>\n",
       "  </tbody>\n",
       "</table>\n",
       "</div>"
      ],
      "text/plain": [
       "       real_product  predicted_product\n",
       "71751     61.212375          93.599633\n",
       "80493     41.850118          75.105159\n",
       "2655      57.776581          90.066809\n",
       "53233    100.053761         105.162375\n",
       "91141    109.897122         115.303310"
      ]
     },
     "metadata": {},
     "output_type": "display_data"
    }
   ],
   "source": [
    "display (df_frame_0.head ())\n",
    "display (df_frame_1.head ())\n",
    "display (df_frame_2.head ())"
   ]
  },
  {
   "cell_type": "markdown",
   "metadata": {},
   "source": [
    "<a id=\"step_5\"></a>\n",
    "2.4. Напечатаем на экране средний запас предсказанного сырья и RMSE модели."
   ]
  },
  {
   "cell_type": "code",
   "execution_count": 11,
   "metadata": {},
   "outputs": [
    {
     "name": "stdout",
     "output_type": "stream",
     "text": [
      "Средний запас предсказанного сырья в скважинах первого региона: 92.59256778438038 при RMSE: 37.5794217150813\n",
      "Средний запас предсказанного сырья в скважинах второго региона: 68.728546895446 при RMSE: 0.893099286775616\n",
      "Средний запас предсказанного сырья в скважинах третьего региона: 94.96504596800489 при RMSE: 40.02970873393434\n"
     ]
    }
   ],
   "source": [
    "print ('Средний запас предсказанного сырья в скважинах первого региона:', mean_0, 'при RMSE:', rmse_0)\n",
    "print ('Средний запас предсказанного сырья в скважинах второго региона:', mean_1, 'при RMSE:', rmse_1)\n",
    "print ('Средний запас предсказанного сырья в скважинах третьего региона:', mean_2, 'при RMSE:', rmse_2)"
   ]
  },
  {
   "cell_type": "markdown",
   "metadata": {},
   "source": [
    "<a id=\"step_6\"></a>\n",
    "2.5. Проанализируем результаты."
   ]
  },
  {
   "cell_type": "markdown",
   "metadata": {},
   "source": [
    "При обучении модель лучше всего обучилась на выборке по второму региону, но средние запасы предсказанного сырья во втором регионе ниже, чем в первом и в третьем."
   ]
  },
  {
   "cell_type": "markdown",
   "metadata": {},
   "source": [
    "## Подготовка к расчёту прибыли"
   ]
  },
  {
   "cell_type": "markdown",
   "metadata": {},
   "source": [
    "<a id=\"step_7\"></a>\n",
    "3.1. Все ключевые значения для расчётов сохраним в отдельных переменных."
   ]
  },
  {
   "cell_type": "code",
   "execution_count": 12,
   "metadata": {},
   "outputs": [],
   "source": [
    "#количество исследуемых скважин в регионе\n",
    "drilling_well = 500\n",
    "\n",
    "#количество лучших для разработки скважин\n",
    "best_drilling_well = 200\n",
    "\n",
    "#бюджет на разработку скважин в регионе\n",
    "budget = 10000000000\n",
    "\n",
    "#доход с каждой единицы продукта\n",
    "income = 450000\n",
    "\n",
    "#риск убытков\n",
    "risk = 0.025\n",
    "\n",
    "#количество выборок\n",
    "bootstrap = 1000"
   ]
  },
  {
   "cell_type": "markdown",
   "metadata": {},
   "source": [
    "<a id=\"step_8\"></a>\n",
    "3.2. Рассчитаем достаточный объём сырья для безубыточной разработки новой скважины. Сравним полученный объём сырья со средним запасом в каждом регионе."
   ]
  },
  {
   "cell_type": "code",
   "execution_count": 13,
   "metadata": {},
   "outputs": [
    {
     "name": "stdout",
     "output_type": "stream",
     "text": [
      "108.33333333333333\n"
     ]
    }
   ],
   "source": [
    "#минимальный безубыточный объем добычи сырья одной скважиной будет равен затратам на разработку одной скважины деленной на\n",
    "#доход с каждой единицы продукта с учетом риска\n",
    "print (((budget / best_drilling_well) / income) * (1 - risk))"
   ]
  },
  {
   "cell_type": "markdown",
   "metadata": {},
   "source": [
    "Исходя из полученных ранее средних запасов предсказанного сырья в скважинах первого, второго и третьего регионов, мы видим, что на скважинах ни одного региона мы не получим безубыточной добычи."
   ]
  },
  {
   "cell_type": "markdown",
   "metadata": {},
   "source": [
    "<a id=\"step_9\"></a>\n",
    "3.3. Напишем выводы по этапу подготовки расчёта прибыли."
   ]
  },
  {
   "cell_type": "code",
   "execution_count": 14,
   "metadata": {},
   "outputs": [],
   "source": [
    "#напишем функцию для предсказания среднего запаса сырья в скважине по регионам в best_drilling_well лучших по добыче скважинах\n",
    "def prediction (df):\n",
    "    predicted = pd.Series (df ['predicted_product']).reset_index (drop = True)\n",
    "    predicted_sorted = predicted.sort_values (ascending = False)\n",
    "    selected = predicted_sorted.loc [:best_drilling_well]\n",
    "    return selected"
   ]
  },
  {
   "cell_type": "code",
   "execution_count": 15,
   "metadata": {},
   "outputs": [
    {
     "name": "stdout",
     "output_type": "stream",
     "text": [
      "Запас предсказанного сырья в скважинах первого региона: 153.8887761965623\n",
      "Запас предсказанного сырья в скважинах второго региона: 137.04671812922757\n",
      "Запас предсказанного сырья в скважинах третьего региона: 100.14074839779046\n"
     ]
    }
   ],
   "source": [
    "print ('Запас предсказанного сырья в скважинах первого региона:', prediction (df_frame_0).mean ())\n",
    "print ('Запас предсказанного сырья в скважинах второго региона:', prediction (df_frame_1).mean ())\n",
    "print ('Запас предсказанного сырья в скважинах третьего региона:', prediction (df_frame_2).mean ())"
   ]
  },
  {
   "cell_type": "markdown",
   "metadata": {},
   "source": [
    "При выборе 200 лучших по добыче скважин мы видим, что скважины уже не такие убыточные, вышли в плюс по окупаемости разведки и последубщей добычи.\n",
    "\n",
    "В лидерах первый регион, за ним с небольшим отставание второй, аутсайдер - третий регион, который не вышел на уровень окупаемости.\n",
    "\n",
    "Тем самым мы видим, что при выборе 200 самых прибыльных скважин, мы можем добиться более весомых результатов.\n",
    "\n",
    "Нам необходимо в дальнейшем убедиться, что при рекомендации региона для разработки и выборе 200 лучших скважин наш выбор будет отправдан и предприятие безубыточное."
   ]
  },
  {
   "cell_type": "markdown",
   "metadata": {},
   "source": [
    "## Расчёт прибыли и рисков "
   ]
  },
  {
   "cell_type": "markdown",
   "metadata": {},
   "source": [
    "<a id=\"step_10\"></a>\n",
    "4.1. Выберем скважины с максимальными значениями предсказаний."
   ]
  },
  {
   "cell_type": "code",
   "execution_count": 16,
   "metadata": {},
   "outputs": [
    {
     "data": {
      "text/plain": [
       "9317     180.180713\n",
       "219      176.252213\n",
       "10015    175.850623\n",
       "11584    175.658429\n",
       "23388    173.299686\n",
       "Name: predicted_product, dtype: float64"
      ]
     },
     "metadata": {},
     "output_type": "display_data"
    },
    {
     "data": {
      "text/plain": [
       "20430    139.818970\n",
       "7777     139.773423\n",
       "8755     139.703330\n",
       "1178     139.560938\n",
       "4285     139.516754\n",
       "Name: predicted_product, dtype: float64"
      ]
     },
     "metadata": {},
     "output_type": "display_data"
    },
    {
     "data": {
      "text/plain": [
       "22636    165.856833\n",
       "24690    165.679685\n",
       "7811     163.439962\n",
       "1581     162.062589\n",
       "6751     161.797476\n",
       "Name: predicted_product, dtype: float64"
      ]
     },
     "metadata": {},
     "output_type": "display_data"
    }
   ],
   "source": [
    "#заполним данные по скважинам с максимальными значениями предсказаний по добыче\n",
    "best_predicted_df_frame_0  = prediction (df_frame_0)\n",
    "best_predicted_df_frame_1  = prediction (df_frame_1)\n",
    "best_predicted_df_frame_2  = prediction (df_frame_2)\n",
    "\n",
    "display (best_predicted_df_frame_0.head ())\n",
    "display (best_predicted_df_frame_1.head ())\n",
    "display (best_predicted_df_frame_2.head ())"
   ]
  },
  {
   "cell_type": "markdown",
   "metadata": {},
   "source": [
    "<a id=\"step_11\"></a>\n",
    "4.2. Просуммируем целевое значение объёма сырья, соответствующее этим предсказаниям."
   ]
  },
  {
   "cell_type": "code",
   "execution_count": 17,
   "metadata": {},
   "outputs": [],
   "source": [
    "volum_best_predicted_df_frame_0 = best_predicted_df_frame_0.sum ()\n",
    "volum_best_predicted_df_frame_1 = best_predicted_df_frame_1.sum ()\n",
    "volum_best_predicted_df_frame_2 = best_predicted_df_frame_2.sum ()"
   ]
  },
  {
   "cell_type": "code",
   "execution_count": 18,
   "metadata": {},
   "outputs": [
    {
     "name": "stdout",
     "output_type": "stream",
     "text": [
      "В первом регионе мы получим 38472.19404914058 тыс. баррелей\n",
      "Во втором регионе мы получим 397435.48257476 тыс. баррелей\n",
      "В ьретьем регионе мы получим 2149521.164358572 тыс. баррелей\n"
     ]
    }
   ],
   "source": [
    "print ('В первом регионе мы получим', volum_best_predicted_df_frame_0, 'тыс. баррелей')\n",
    "print ('Во втором регионе мы получим', volum_best_predicted_df_frame_1, 'тыс. баррелей')\n",
    "print ('В ьретьем регионе мы получим', volum_best_predicted_df_frame_2, 'тыс. баррелей')"
   ]
  },
  {
   "cell_type": "markdown",
   "metadata": {},
   "source": [
    "<a id=\"step_12\"></a>\n",
    "4.3. Рассчитаем прибыль для полученного объёма сырья."
   ]
  },
  {
   "cell_type": "code",
   "execution_count": 19,
   "metadata": {},
   "outputs": [],
   "source": [
    "income_best_predicted_df_frame_0 = volum_best_predicted_df_frame_0 * income\n",
    "income_best_predicted_df_frame_1 = volum_best_predicted_df_frame_1 * income\n",
    "income_best_predicted_df_frame_2 = volum_best_predicted_df_frame_2 * income"
   ]
  },
  {
   "cell_type": "code",
   "execution_count": 20,
   "metadata": {},
   "outputs": [
    {
     "name": "stdout",
     "output_type": "stream",
     "text": [
      "В первом регионе мы получим 17312.48732211326 млн. рублей прибыли\n",
      "Во втором регионе мы получим 178845.967158642 млн. рублей прибыли\n",
      "В третьем регионе мы получим 967284.5239613574 млн. рублей прибыли\n"
     ]
    }
   ],
   "source": [
    "print ('В первом регионе мы получим', income_best_predicted_df_frame_0 / 1000000, 'млн. рублей прибыли')\n",
    "print ('Во втором регионе мы получим', income_best_predicted_df_frame_1 / 1000000, 'млн. рублей прибыли')\n",
    "print ('В третьем регионе мы получим', income_best_predicted_df_frame_2 / 1000000, 'млн. рублей прибыли')"
   ]
  },
  {
   "cell_type": "markdown",
   "metadata": {},
   "source": [
    "По расчитанной прибыли для полученного объема предсказаний можно сделать вывод о том, что скважины во втором и теретьем регионе выходят за грань нерентабельности, а первого - нет"
   ]
  },
  {
   "cell_type": "markdown",
   "metadata": {},
   "source": [
    "## Посчитаем риски и прибыль для каждого региона:"
   ]
  },
  {
   "cell_type": "markdown",
   "metadata": {},
   "source": [
    "<a id=\"step_13\"></a>\n",
    "5.1. Применим технику Bootstrap с 1000 выборок, чтобы найти распределение прибыли."
   ]
  },
  {
   "cell_type": "code",
   "execution_count": 21,
   "metadata": {},
   "outputs": [],
   "source": [
    "#напишем функцию расчета выручки\n",
    "def revenue (target, probabilities):\n",
    "    probs_sorted = probabilities.sort_values (ascending=False)\n",
    "    selected = target [probs_sorted.index][:best_drilling_well]\n",
    "    return (income * selected.sum ()) / 1000000"
   ]
  },
  {
   "cell_type": "code",
   "execution_count": 22,
   "metadata": {},
   "outputs": [],
   "source": [
    "#создадим функцию для расчета средней выручки по региону\n",
    "def revenue_region (df):\n",
    "    count = 0\n",
    "    state = np.random.RandomState (12345)\n",
    "    values = []\n",
    "#    income = []\n",
    "    for i in range (bootstrap):\n",
    "        target_subsample = df ['real_product'].sample (drilling_well, replace = True, random_state = state)\n",
    "        probs_subsample = df ['predicted_product'] [target_subsample.index]\n",
    "        value = revenue (target_subsample, probs_subsample)\n",
    "        values.append (value)\n",
    "        if (value - (budget / 1000000)) < 0:\n",
    "            count += 1\n",
    "    values = pd.Series(values)\n",
    "#    income = pd.Series(values / 1000)\n",
    "    mean = values.mean()\n",
    "    \n",
    "    confidence_interval = st.t.interval ((1 - risk * 2), len (values) - 1, values.mean (), values.sem ())\n",
    "     \n",
    "    pvalue = 1 * count / 1000\n",
    "    income_df = mean - budget / 1000000\n",
    "\n",
    "    \n",
    "    return mean, confidence_interval, pvalue, income_df"
   ]
  },
  {
   "cell_type": "code",
   "execution_count": 23,
   "metadata": {},
   "outputs": [
    {
     "name": "stdout",
     "output_type": "stream",
     "text": [
      "Средняя выручка первого региона 10425.938526910591 млн. рублей\n",
      "Средняя выручка второго региона 10515.222773443289 млн. рублей\n",
      "Средняя выручка третьего региона 10435.008362782753 млн. рублей\n"
     ]
    }
   ],
   "source": [
    "mean_revenue_region_0, confidence_interval_0, pvalue_0, income_region_0 = revenue_region (df_frame_0)\n",
    "print ('Средняя выручка первого региона', mean_revenue_region_0, 'млн. рублей')\n",
    "mean_revenue_region_1, confidence_interval_1, pvalue_1, income_region_1 = revenue_region (df_frame_1)\n",
    "print ('Средняя выручка второго региона', mean_revenue_region_1, 'млн. рублей')\n",
    "mean_revenue_region_2, confidence_interval_2, pvalue_2, income_region_2 = revenue_region (df_frame_2)\n",
    "print ('Средняя выручка третьего региона', mean_revenue_region_2, 'млн. рублей')"
   ]
  },
  {
   "cell_type": "markdown",
   "metadata": {},
   "source": [
    "<a id=\"step_14\"></a>\n",
    "5.2. Найдем среднюю прибыль, 95%-й доверительный интервал и риск убытков. Убыток — это отрицательная прибыль."
   ]
  },
  {
   "cell_type": "code",
   "execution_count": 24,
   "metadata": {},
   "outputs": [
    {
     "name": "stdout",
     "output_type": "stream",
     "text": [
      "Средняя прибыль первого региона 425.93852691059146 млн. рублей\n",
      "95%-й доверительный интервал первого региона (10408.732207068697, 10443.144846752486)\n",
      "Вероятность убытков равна 0.06 при допустимом 0.025\n",
      "\n",
      "Средняя прибыль второго региона 515.222773443289 млн. рублей\n",
      "95%-й доверительный интервал второго региона (10501.62147617632, 10528.824070710258)\n",
      "Вероятность убытков равна 0.01 при допустимом 0.025\n",
      "\n",
      "Средняя прибыль третьего региона 435.00836278275347 млн. рублей\n",
      "95%-й доверительный интервал третьего региона (10417.453552041356, 10452.563173524151)\n",
      "Вероятность убытков равна 0.064 при допустимом 0.025\n"
     ]
    }
   ],
   "source": [
    "print ('Средняя прибыль первого региона', income_region_0, 'млн. рублей')\n",
    "print ('95%-й доверительный интервал первого региона', confidence_interval_0)\n",
    "print ('Вероятность убытков равна', pvalue_0, 'при допустимом', risk)\n",
    "print ('')\n",
    "print ('Средняя прибыль второго региона', income_region_1, 'млн. рублей')\n",
    "print ('95%-й доверительный интервал второго региона', confidence_interval_1)\n",
    "print ('Вероятность убытков равна', pvalue_1, 'при допустимом', risk)\n",
    "print ('')\n",
    "print ('Средняя прибыль третьего региона', income_region_2, 'млн. рублей')\n",
    "print ('95%-й доверительный интервал третьего региона', confidence_interval_2)\n",
    "print ('Вероятность убытков равна', pvalue_2, 'при допустимом', risk)"
   ]
  },
  {
   "cell_type": "markdown",
   "metadata": {},
   "source": [
    "<a id=\"step_15\"></a>\n",
    "5.3. Напишем выводы: предложим регион для разработки скважин и обоснуем выбор."
   ]
  },
  {
   "cell_type": "markdown",
   "metadata": {},
   "source": [
    "На основании проведеного анализа мы видим, что все 3 региона являются прибыльными, но при выборе 200 лучших скважин вероятность убытков в первом и третьем регионе высока относительно принятой в условии задания.\n",
    "\n",
    "Нам остается рекомендовать заказчику для разработки только регион №2."
   ]
  },
  {
   "cell_type": "code",
   "execution_count": 35,
   "metadata": {},
   "outputs": [],
   "source": [
    "#создадим функцию для расчета средней выручки по региону\n",
    "def revenue_region (df):\n",
    "    count = 0\n",
    "    state = np.random.RandomState (12345)\n",
    "    values = []\n",
    "    income_df = []\n",
    "    for i in range (bootstrap):\n",
    "        target_subsample = df ['real_product'].sample (drilling_well, replace = True, random_state = state)\n",
    "        probs_subsample = df ['predicted_product'] [target_subsample.index]\n",
    "        value = revenue (target_subsample, probs_subsample)\n",
    "        income_moment = value - budget / 1000000\n",
    "        values.append (value)\n",
    "        income_df.append (income_moment)\n",
    "        if (value - (budget / 1000000)) < 0:\n",
    "            count += 1\n",
    "    values = pd.Series (values)\n",
    "    income_df = pd.Series (income_df)\n",
    "    mean = values.mean()\n",
    "    \n",
    "    #lower = (probs_subsample * income / 1000000).quantile (risk)\n",
    "    #upper = (probs_subsample * income / 1000000).quantile (1-risk)\n",
    "    #confidence_interval = (lower, upper)\n",
    "    confidence_interval = (income_df.quantile (risk), income_df.quantile (1 - risk))     \n",
    "    \n",
    "    pvalue = 1 * count / 1000\n",
    "    income_mean = mean - budget / 1000000\n",
    "    \n",
    "    # построим распределение выручки по региону\n",
    "    plt.figure()\n",
    "    plt.hist (income_df,  bins=100)\n",
    "    \n",
    "    # левая граница доверительного интервала\n",
    "    min_x, min_y = [confidence_interval [0], confidence_interval [0]], [0, 30]\n",
    "    # правая граница доверительного интервала\n",
    "    max_x, max_y = [confidence_interval [1], confidence_interval [1]], [0, 30]\n",
    "    plt.title('Гистограмма распределения прибыли')\n",
    "    plt.xlabel('Прибыль в млн. рублей')\n",
    "    plt.plot(min_x, min_y, max_x, max_y, marker = 'o')\n",
    "    plt.show ()\n",
    "    \n",
    "    return mean, confidence_interval, pvalue, income_mean"
   ]
  },
  {
   "cell_type": "code",
   "execution_count": 36,
   "metadata": {},
   "outputs": [
    {
     "data": {
      "image/png": "[encoded data removed]",
      "text/plain": [
       "<Figure size 432x288 with 1 Axes>"
      ]
     },
     "metadata": {
      "needs_background": "light"
     },
     "output_type": "display_data"
    },
    {
     "name": "stdout",
     "output_type": "stream",
     "text": [
      "Средняя выручка первого региона 10425.938526910591 млн. рублей\n",
      "Средняя прибыль первого региона 425.93852691059146 млн. рублей\n",
      "95%-й доверительный интервал первого региона (-102.09009483793598, 947.976353358369)\n",
      "Вероятность убытков равна 0.06 при допустимом 0.025\n",
      "\n"
     ]
    },
    {
     "data": {
      "image/png": "[encoded data removed]",
      "text/plain": [
       "<Figure size 432x288 with 1 Axes>"
      ]
     },
     "metadata": {
      "needs_background": "light"
     },
     "output_type": "display_data"
    },
    {
     "name": "stdout",
     "output_type": "stream",
     "text": [
      "Средняя выручка второго региона 10515.222773443289 млн. рублей\n",
      "Средняя прибыль второго региона 515.222773443289 млн. рублей\n",
      "95%-й доверительный интервал второго региона (68.87322537050254, 931.5475912570489)\n",
      "Вероятность убытков равна 0.01 при допустимом 0.025\n",
      "\n"
     ]
    },
    {
     "data": {
      "image/png": "[encoded data removed]",
      "text/plain": [
       "<Figure size 432x288 with 1 Axes>"
      ]
     },
     "metadata": {
      "needs_background": "light"
     },
     "output_type": "display_data"
    },
    {
     "name": "stdout",
     "output_type": "stream",
     "text": [
      "Средняя выручка третьего региона 10435.008362782753 млн. рублей\n",
      "Средняя прибыль третьего региона 435.00836278275347 млн. рублей\n",
      "95%-й доверительный интервал третьего региона (-128.88054732978893, 969.7069541802674)\n",
      "Вероятность убытков равна 0.064 при допустимом 0.025\n"
     ]
    }
   ],
   "source": [
    "mean_revenue_region_0, confidence_interval_0, pvalue_0, income_region_0 = revenue_region (df_frame_0)\n",
    "print ('Средняя выручка первого региона', mean_revenue_region_0, 'млн. рублей')\n",
    "print ('Средняя прибыль первого региона', income_region_0, 'млн. рублей')\n",
    "print ('95%-й доверительный интервал первого региона', confidence_interval_0)\n",
    "print ('Вероятность убытков равна', pvalue_0, 'при допустимом', risk)\n",
    "print ('')\n",
    "mean_revenue_region_1, confidence_interval_1, pvalue_1, income_region_1 = revenue_region (df_frame_1)\n",
    "print ('Средняя выручка второго региона', mean_revenue_region_1, 'млн. рублей')\n",
    "print ('Средняя прибыль второго региона', income_region_1, 'млн. рублей')\n",
    "print ('95%-й доверительный интервал второго региона', confidence_interval_1)\n",
    "print ('Вероятность убытков равна', pvalue_1, 'при допустимом', risk)\n",
    "print ('')\n",
    "mean_revenue_region_2, confidence_interval_2, pvalue_2, income_region_2 = revenue_region (df_frame_2)\n",
    "print ('Средняя выручка третьего региона', mean_revenue_region_2, 'млн. рублей')\n",
    "print ('Средняя прибыль третьего региона', income_region_2, 'млн. рублей')\n",
    "print ('95%-й доверительный интервал третьего региона', confidence_interval_2)\n",
    "print ('Вероятность убытков равна', pvalue_2, 'при допустимом', risk)"
   ]
  },
  {
   "cell_type": "markdown",
   "metadata": {},
   "source": [
    "<a id=\"step_16\"></a>\n",
    "## Чек-лист готовности проекта"
   ]
  },
  {
   "cell_type": "markdown",
   "metadata": {},
   "source": [
    "Поставьте 'x' в выполненных пунктах. Далее нажмите Shift+Enter."
   ]
  },
  {
   "cell_type": "markdown",
   "metadata": {},
   "source": [
    "- [x]  Jupyter Notebook открыт\n",
    "- [x]  Весь код выполняется без ошибок\n",
    "- [x]  Ячейки с кодом расположены в порядке исполнения\n",
    "- [x]  Выполнен шаг 1: данные подготовлены\n",
    "- [x]  Выполнен шаг 2: модели обучены и проверены\n",
    "    - [x]  Данные корректно разбиты на обучающую и валидационную выборки\n",
    "    - [x]  Модели обучены, предсказания сделаны\n",
    "    - [x]  Предсказания и правильные ответы на валидационной выборке сохранены\n",
    "    - [x]  На экране напечатаны результаты\n",
    "    - [x]  Сделаны выводы\n",
    "- [x]  Выполнен шаг 3: проведена подготовка к расчёту прибыли\n",
    "    - [x]  Для всех ключевых значений созданы константы Python\n",
    "    - [x]  Посчитано минимальное среднее количество продукта в месторождениях региона, достаточное для разработки\n",
    "    - [x]  По предыдущему пункту сделаны выводы\n",
    "    - [x]  Написана функция расчёта прибыли\n",
    "- [x]  Выполнен шаг 4: посчитаны риски и прибыль\n",
    "    - [x]  Проведена процедура *Bootstrap*\n",
    "    - [x]  Все параметры бутстрепа соответствуют условию\n",
    "    - [x]  Найдены все нужные величины\n",
    "    - [x]  Предложен регион для разработки месторождения\n",
    "    - [x]  Выбор региона обоснован"
   ]
  }
 ],
 "metadata": {
  "ExecuteTimeLog": [
   {
    "duration": 746,
    "start_time": "2022-03-10T08:19:09.571Z"
   },
   {
    "duration": 80,
    "start_time": "2022-03-10T08:39:10.363Z"
   },
   {
    "duration": 615,
    "start_time": "2022-03-10T08:40:26.984Z"
   },
   {
    "duration": 11,
    "start_time": "2022-03-10T08:42:18.032Z"
   },
   {
    "duration": 189,
    "start_time": "2022-03-10T08:42:21.073Z"
   },
   {
    "duration": 486,
    "start_time": "2022-03-10T08:43:13.965Z"
   },
   {
    "duration": 4,
    "start_time": "2022-03-10T09:24:34.570Z"
   },
   {
    "duration": 581,
    "start_time": "2022-03-10T09:24:35.391Z"
   },
   {
    "duration": 596,
    "start_time": "2022-03-10T09:25:24.186Z"
   },
   {
    "duration": 5,
    "start_time": "2022-03-10T09:25:29.606Z"
   },
   {
    "duration": 84,
    "start_time": "2022-03-10T09:25:30.587Z"
   },
   {
    "duration": 7,
    "start_time": "2022-03-10T10:46:31.239Z"
   },
   {
    "duration": 382,
    "start_time": "2022-03-10T10:47:00.877Z"
   },
   {
    "duration": 29,
    "start_time": "2022-03-10T10:48:33.869Z"
   },
   {
    "duration": 70,
    "start_time": "2022-03-10T10:48:58.732Z"
   },
   {
    "duration": 334,
    "start_time": "2022-03-10T10:52:20.622Z"
   },
   {
    "duration": 20,
    "start_time": "2022-03-10T10:52:33.492Z"
   },
   {
    "duration": 6,
    "start_time": "2022-03-10T10:52:39.002Z"
   },
   {
    "duration": 11,
    "start_time": "2022-03-10T11:08:54.849Z"
   },
   {
    "duration": 9,
    "start_time": "2022-03-10T11:29:06.739Z"
   },
   {
    "duration": 7,
    "start_time": "2022-03-10T11:41:28.188Z"
   },
   {
    "duration": 496,
    "start_time": "2022-03-10T11:42:18.886Z"
   },
   {
    "duration": 8,
    "start_time": "2022-03-10T11:43:04.900Z"
   },
   {
    "duration": 547,
    "start_time": "2022-03-10T11:43:06.353Z"
   },
   {
    "duration": 5,
    "start_time": "2022-03-10T11:44:52.823Z"
   },
   {
    "duration": 477,
    "start_time": "2022-03-10T11:44:54.723Z"
   },
   {
    "duration": 5,
    "start_time": "2022-03-10T11:46:26.405Z"
   },
   {
    "duration": 629,
    "start_time": "2022-03-10T11:46:29.239Z"
   },
   {
    "duration": 7,
    "start_time": "2022-03-10T11:46:44.424Z"
   },
   {
    "duration": 51,
    "start_time": "2022-03-10T11:46:45.677Z"
   },
   {
    "duration": 6,
    "start_time": "2022-03-10T11:46:49.718Z"
   },
   {
    "duration": 514,
    "start_time": "2022-03-10T11:46:51.553Z"
   },
   {
    "duration": 4,
    "start_time": "2022-03-10T11:47:19.590Z"
   },
   {
    "duration": 12,
    "start_time": "2022-03-10T11:47:25.312Z"
   },
   {
    "duration": 18,
    "start_time": "2022-03-10T11:47:25.749Z"
   },
   {
    "duration": 9,
    "start_time": "2022-03-10T11:48:31.647Z"
   },
   {
    "duration": 271,
    "start_time": "2022-03-10T11:48:47.612Z"
   },
   {
    "duration": 266,
    "start_time": "2022-03-10T11:48:58.728Z"
   },
   {
    "duration": 22,
    "start_time": "2022-03-10T11:49:01.029Z"
   },
   {
    "duration": 5,
    "start_time": "2022-03-10T11:53:43.584Z"
   },
   {
    "duration": 5,
    "start_time": "2022-03-10T11:53:53.329Z"
   },
   {
    "duration": 7,
    "start_time": "2022-03-10T11:54:18.385Z"
   },
   {
    "duration": 1286,
    "start_time": "2022-03-10T12:03:10.520Z"
   },
   {
    "duration": 619,
    "start_time": "2022-03-10T12:03:11.809Z"
   },
   {
    "duration": 11,
    "start_time": "2022-03-10T12:03:12.432Z"
   },
   {
    "duration": 549,
    "start_time": "2022-03-10T12:03:12.445Z"
   },
   {
    "duration": 5,
    "start_time": "2022-03-10T12:03:12.996Z"
   },
   {
    "duration": 64,
    "start_time": "2022-03-10T12:03:13.004Z"
   },
   {
    "duration": 5,
    "start_time": "2022-03-10T12:03:13.070Z"
   },
   {
    "duration": 306,
    "start_time": "2022-03-10T12:03:13.088Z"
   },
   {
    "duration": 196,
    "start_time": "2022-03-10T12:03:13.397Z"
   },
   {
    "duration": 8,
    "start_time": "2022-03-10T12:03:13.597Z"
   },
   {
    "duration": 7,
    "start_time": "2022-03-10T12:55:15.856Z"
   },
   {
    "duration": 4,
    "start_time": "2022-03-10T13:14:54.496Z"
   },
   {
    "duration": 4,
    "start_time": "2022-03-10T13:19:36.276Z"
   },
   {
    "duration": 5,
    "start_time": "2022-03-10T13:23:38.858Z"
   },
   {
    "duration": 5,
    "start_time": "2022-03-10T13:27:58.547Z"
   },
   {
    "duration": 4,
    "start_time": "2022-03-10T13:28:10.804Z"
   },
   {
    "duration": 9,
    "start_time": "2022-03-10T13:37:19.931Z"
   },
   {
    "duration": 5,
    "start_time": "2022-03-10T13:40:55.433Z"
   },
   {
    "duration": 381,
    "start_time": "2022-03-10T13:43:19.640Z"
   },
   {
    "duration": 5,
    "start_time": "2022-03-10T13:44:25.896Z"
   },
   {
    "duration": 13,
    "start_time": "2022-03-10T13:44:26.462Z"
   },
   {
    "duration": 5,
    "start_time": "2022-03-10T13:45:15.474Z"
   },
   {
    "duration": 14,
    "start_time": "2022-03-10T13:45:16.131Z"
   },
   {
    "duration": 5,
    "start_time": "2022-03-10T13:47:47.146Z"
   },
   {
    "duration": 5,
    "start_time": "2022-03-10T13:47:57.796Z"
   },
   {
    "duration": 32,
    "start_time": "2022-03-10T13:47:58.091Z"
   },
   {
    "duration": 7,
    "start_time": "2022-03-10T13:49:16.454Z"
   },
   {
    "duration": 43,
    "start_time": "2022-03-10T13:49:16.917Z"
   },
   {
    "duration": 1371,
    "start_time": "2022-03-10T13:51:36.896Z"
   },
   {
    "duration": 642,
    "start_time": "2022-03-10T13:51:38.269Z"
   },
   {
    "duration": 12,
    "start_time": "2022-03-10T13:51:38.918Z"
   },
   {
    "duration": 570,
    "start_time": "2022-03-10T13:51:38.932Z"
   },
   {
    "duration": 5,
    "start_time": "2022-03-10T13:51:39.504Z"
   },
   {
    "duration": 51,
    "start_time": "2022-03-10T13:51:39.511Z"
   },
   {
    "duration": 22,
    "start_time": "2022-03-10T13:51:39.566Z"
   },
   {
    "duration": 299,
    "start_time": "2022-03-10T13:51:39.590Z"
   },
   {
    "duration": 113,
    "start_time": "2022-03-10T13:51:39.893Z"
   },
   {
    "duration": 7,
    "start_time": "2022-03-10T13:51:40.008Z"
   },
   {
    "duration": 9,
    "start_time": "2022-03-10T13:51:40.017Z"
   },
   {
    "duration": 9,
    "start_time": "2022-03-10T13:51:40.029Z"
   },
   {
    "duration": 48,
    "start_time": "2022-03-10T13:51:40.040Z"
   },
   {
    "duration": 42,
    "start_time": "2022-03-10T13:51:40.091Z"
   },
   {
    "duration": 5,
    "start_time": "2022-03-10T14:16:54.669Z"
   },
   {
    "duration": 607,
    "start_time": "2022-03-10T14:16:55.357Z"
   },
   {
    "duration": 5,
    "start_time": "2022-03-10T14:20:56.654Z"
   },
   {
    "duration": 33,
    "start_time": "2022-03-10T14:20:57.293Z"
   },
   {
    "duration": 5,
    "start_time": "2022-03-10T14:24:13.984Z"
   },
   {
    "duration": 33,
    "start_time": "2022-03-10T14:24:14.696Z"
   },
   {
    "duration": 110,
    "start_time": "2022-03-10T14:24:57.082Z"
   },
   {
    "duration": 6,
    "start_time": "2022-03-10T14:25:03.315Z"
   },
   {
    "duration": 28,
    "start_time": "2022-03-10T14:25:04.055Z"
   },
   {
    "duration": 4,
    "start_time": "2022-03-10T14:28:24.952Z"
   },
   {
    "duration": 31,
    "start_time": "2022-03-10T14:28:25.288Z"
   },
   {
    "duration": 4,
    "start_time": "2022-03-10T14:32:44.419Z"
   },
   {
    "duration": 5,
    "start_time": "2022-03-10T14:32:55.935Z"
   },
   {
    "duration": 4,
    "start_time": "2022-03-10T14:33:58.774Z"
   },
   {
    "duration": 5,
    "start_time": "2022-03-10T14:34:11.588Z"
   },
   {
    "duration": 5,
    "start_time": "2022-03-10T14:35:09.190Z"
   },
   {
    "duration": 9,
    "start_time": "2022-03-10T14:35:09.569Z"
   },
   {
    "duration": 3,
    "start_time": "2022-03-10T14:35:31.141Z"
   },
   {
    "duration": 9,
    "start_time": "2022-03-10T14:35:31.503Z"
   },
   {
    "duration": 4,
    "start_time": "2022-03-11T05:56:55.048Z"
   },
   {
    "duration": 28,
    "start_time": "2022-03-11T05:56:55.928Z"
   },
   {
    "duration": 31,
    "start_time": "2022-03-11T05:57:29.917Z"
   },
   {
    "duration": 29,
    "start_time": "2022-03-11T05:57:41.555Z"
   },
   {
    "duration": 5,
    "start_time": "2022-03-11T05:57:50.149Z"
   },
   {
    "duration": 11,
    "start_time": "2022-03-11T05:57:50.625Z"
   },
   {
    "duration": 4,
    "start_time": "2022-03-11T05:57:58.233Z"
   },
   {
    "duration": 9,
    "start_time": "2022-03-11T05:57:58.730Z"
   },
   {
    "duration": 1343,
    "start_time": "2022-03-11T05:58:42.263Z"
   },
   {
    "duration": 590,
    "start_time": "2022-03-11T05:58:43.609Z"
   },
   {
    "duration": 11,
    "start_time": "2022-03-11T05:58:44.202Z"
   },
   {
    "duration": 554,
    "start_time": "2022-03-11T05:58:44.216Z"
   },
   {
    "duration": 14,
    "start_time": "2022-03-11T05:58:44.773Z"
   },
   {
    "duration": 54,
    "start_time": "2022-03-11T05:58:44.790Z"
   },
   {
    "duration": 6,
    "start_time": "2022-03-11T05:58:44.847Z"
   },
   {
    "duration": 334,
    "start_time": "2022-03-11T05:58:44.856Z"
   },
   {
    "duration": 113,
    "start_time": "2022-03-11T05:58:45.194Z"
   },
   {
    "duration": 8,
    "start_time": "2022-03-11T05:58:45.309Z"
   },
   {
    "duration": 4,
    "start_time": "2022-03-11T05:58:45.320Z"
   },
   {
    "duration": 8,
    "start_time": "2022-03-11T05:58:45.327Z"
   },
   {
    "duration": 51,
    "start_time": "2022-03-11T05:58:45.337Z"
   },
   {
    "duration": 40,
    "start_time": "2022-03-11T05:58:45.391Z"
   },
   {
    "duration": 59,
    "start_time": "2022-03-11T05:58:45.435Z"
   },
   {
    "duration": 5,
    "start_time": "2022-03-11T05:58:45.497Z"
   },
   {
    "duration": 11,
    "start_time": "2022-03-11T05:58:45.505Z"
   },
   {
    "duration": 3,
    "start_time": "2022-03-11T05:58:45.519Z"
   },
   {
    "duration": 12,
    "start_time": "2022-03-11T05:58:45.525Z"
   },
   {
    "duration": 4,
    "start_time": "2022-03-11T06:22:45.568Z"
   },
   {
    "duration": 27,
    "start_time": "2022-03-11T06:22:46.085Z"
   },
   {
    "duration": 29,
    "start_time": "2022-03-11T06:22:57.320Z"
   },
   {
    "duration": 5,
    "start_time": "2022-03-11T06:23:04.504Z"
   },
   {
    "duration": 9,
    "start_time": "2022-03-11T06:23:04.951Z"
   },
   {
    "duration": 4,
    "start_time": "2022-03-11T06:23:07.792Z"
   },
   {
    "duration": 9,
    "start_time": "2022-03-11T06:23:08.521Z"
   },
   {
    "duration": 1348,
    "start_time": "2022-03-11T06:25:24.951Z"
   },
   {
    "duration": 636,
    "start_time": "2022-03-11T06:25:26.301Z"
   },
   {
    "duration": 12,
    "start_time": "2022-03-11T06:25:26.940Z"
   },
   {
    "duration": 568,
    "start_time": "2022-03-11T06:25:26.955Z"
   },
   {
    "duration": 5,
    "start_time": "2022-03-11T06:25:27.526Z"
   },
   {
    "duration": 74,
    "start_time": "2022-03-11T06:25:27.534Z"
   },
   {
    "duration": 6,
    "start_time": "2022-03-11T06:25:27.610Z"
   },
   {
    "duration": 369,
    "start_time": "2022-03-11T06:25:27.620Z"
   },
   {
    "duration": 114,
    "start_time": "2022-03-11T06:25:27.993Z"
   },
   {
    "duration": 7,
    "start_time": "2022-03-11T06:25:28.110Z"
   },
   {
    "duration": 5,
    "start_time": "2022-03-11T06:25:28.121Z"
   },
   {
    "duration": 57,
    "start_time": "2022-03-11T06:25:28.129Z"
   },
   {
    "duration": 4,
    "start_time": "2022-03-11T06:25:28.189Z"
   },
   {
    "duration": 36,
    "start_time": "2022-03-11T06:25:28.196Z"
   },
   {
    "duration": 62,
    "start_time": "2022-03-11T06:25:28.235Z"
   },
   {
    "duration": 11,
    "start_time": "2022-03-11T06:25:28.299Z"
   },
   {
    "duration": 23,
    "start_time": "2022-03-11T06:25:28.314Z"
   },
   {
    "duration": 3,
    "start_time": "2022-03-11T06:25:28.340Z"
   },
   {
    "duration": 14,
    "start_time": "2022-03-11T06:25:28.346Z"
   },
   {
    "duration": 6,
    "start_time": "2022-03-11T06:25:28.390Z"
   },
   {
    "duration": 9,
    "start_time": "2022-03-11T06:25:28.399Z"
   },
   {
    "duration": 5,
    "start_time": "2022-03-11T06:28:30.388Z"
   },
   {
    "duration": 4,
    "start_time": "2022-03-11T06:36:03.492Z"
   },
   {
    "duration": 6,
    "start_time": "2022-03-11T06:38:21.857Z"
   },
   {
    "duration": 4,
    "start_time": "2022-03-11T06:50:36.650Z"
   },
   {
    "duration": 5,
    "start_time": "2022-03-11T06:50:36.905Z"
   },
   {
    "duration": 676,
    "start_time": "2022-03-11T06:50:38.125Z"
   },
   {
    "duration": 4,
    "start_time": "2022-03-11T06:51:06.639Z"
   },
   {
    "duration": 6,
    "start_time": "2022-03-11T06:51:13.155Z"
   },
   {
    "duration": 475,
    "start_time": "2022-03-11T06:51:13.520Z"
   },
   {
    "duration": 5,
    "start_time": "2022-03-11T06:51:52.110Z"
   },
   {
    "duration": 439,
    "start_time": "2022-03-11T06:51:53.073Z"
   },
   {
    "duration": 6,
    "start_time": "2022-03-11T06:52:06.017Z"
   },
   {
    "duration": 5201,
    "start_time": "2022-03-11T06:52:06.806Z"
   },
   {
    "duration": 15895,
    "start_time": "2022-03-11T06:53:11.949Z"
   },
   {
    "duration": 5,
    "start_time": "2022-03-11T06:55:35.008Z"
   },
   {
    "duration": 15837,
    "start_time": "2022-03-11T06:55:35.401Z"
   },
   {
    "duration": 289,
    "start_time": "2022-03-11T07:05:20.940Z"
   },
   {
    "duration": 218,
    "start_time": "2022-03-11T07:05:24.075Z"
   },
   {
    "duration": 6,
    "start_time": "2022-03-11T07:05:26.792Z"
   },
   {
    "duration": 15930,
    "start_time": "2022-03-11T07:05:29.298Z"
   },
   {
    "duration": 15993,
    "start_time": "2022-03-11T07:07:40.213Z"
   },
   {
    "duration": 4,
    "start_time": "2022-03-11T07:08:00.345Z"
   },
   {
    "duration": 6,
    "start_time": "2022-03-11T07:08:01.338Z"
   },
   {
    "duration": 16341,
    "start_time": "2022-03-11T07:08:02.129Z"
   },
   {
    "duration": 1285,
    "start_time": "2022-03-11T07:08:29.540Z"
   },
   {
    "duration": 720,
    "start_time": "2022-03-11T07:08:30.828Z"
   },
   {
    "duration": 11,
    "start_time": "2022-03-11T07:08:31.551Z"
   },
   {
    "duration": 615,
    "start_time": "2022-03-11T07:08:31.564Z"
   },
   {
    "duration": 10,
    "start_time": "2022-03-11T07:08:32.181Z"
   },
   {
    "duration": 146,
    "start_time": "2022-03-11T07:08:32.193Z"
   },
   {
    "duration": 35,
    "start_time": "2022-03-11T07:08:32.342Z"
   },
   {
    "duration": 307,
    "start_time": "2022-03-11T07:08:32.380Z"
   },
   {
    "duration": 111,
    "start_time": "2022-03-11T07:08:32.697Z"
   },
   {
    "duration": 7,
    "start_time": "2022-03-11T07:08:32.810Z"
   },
   {
    "duration": 9,
    "start_time": "2022-03-11T07:08:32.819Z"
   },
   {
    "duration": 10,
    "start_time": "2022-03-11T07:08:32.831Z"
   },
   {
    "duration": 44,
    "start_time": "2022-03-11T07:08:32.843Z"
   },
   {
    "duration": 29,
    "start_time": "2022-03-11T07:08:32.889Z"
   },
   {
    "duration": 29,
    "start_time": "2022-03-11T07:08:32.920Z"
   },
   {
    "duration": 35,
    "start_time": "2022-03-11T07:08:32.952Z"
   },
   {
    "duration": 12,
    "start_time": "2022-03-11T07:08:32.990Z"
   },
   {
    "duration": 4,
    "start_time": "2022-03-11T07:08:33.004Z"
   },
   {
    "duration": 11,
    "start_time": "2022-03-11T07:08:33.010Z"
   },
   {
    "duration": 6,
    "start_time": "2022-03-11T07:08:33.023Z"
   },
   {
    "duration": 8,
    "start_time": "2022-03-11T07:08:33.031Z"
   },
   {
    "duration": 15467,
    "start_time": "2022-03-11T07:08:33.088Z"
   },
   {
    "duration": 392,
    "start_time": "2022-03-11T07:08:48.559Z"
   },
   {
    "duration": 5,
    "start_time": "2022-03-11T07:10:05.802Z"
   },
   {
    "duration": 15877,
    "start_time": "2022-03-11T07:10:06.624Z"
   },
   {
    "duration": 8,
    "start_time": "2022-03-11T07:10:25.924Z"
   },
   {
    "duration": 17,
    "start_time": "2022-03-11T07:11:28.045Z"
   },
   {
    "duration": 16,
    "start_time": "2022-03-11T07:11:42.483Z"
   },
   {
    "duration": 7,
    "start_time": "2022-03-11T07:19:13.856Z"
   },
   {
    "duration": 6382,
    "start_time": "2022-03-11T07:19:14.721Z"
   },
   {
    "duration": 4,
    "start_time": "2022-03-11T07:19:52.728Z"
   },
   {
    "duration": 1501,
    "start_time": "2022-03-11T07:19:59.050Z"
   },
   {
    "duration": 864,
    "start_time": "2022-03-11T07:20:00.554Z"
   },
   {
    "duration": 18,
    "start_time": "2022-03-11T07:20:01.423Z"
   },
   {
    "duration": 605,
    "start_time": "2022-03-11T07:20:01.444Z"
   },
   {
    "duration": 5,
    "start_time": "2022-03-11T07:20:02.052Z"
   },
   {
    "duration": 70,
    "start_time": "2022-03-11T07:20:02.060Z"
   },
   {
    "duration": 6,
    "start_time": "2022-03-11T07:20:02.132Z"
   },
   {
    "duration": 353,
    "start_time": "2022-03-11T07:20:02.142Z"
   },
   {
    "duration": 107,
    "start_time": "2022-03-11T07:20:02.500Z"
   },
   {
    "duration": 9,
    "start_time": "2022-03-11T07:20:02.609Z"
   },
   {
    "duration": 8,
    "start_time": "2022-03-11T07:20:02.620Z"
   },
   {
    "duration": 11,
    "start_time": "2022-03-11T07:20:02.631Z"
   },
   {
    "duration": 43,
    "start_time": "2022-03-11T07:20:02.645Z"
   },
   {
    "duration": 51,
    "start_time": "2022-03-11T07:20:02.691Z"
   },
   {
    "duration": 30,
    "start_time": "2022-03-11T07:20:02.744Z"
   },
   {
    "duration": 11,
    "start_time": "2022-03-11T07:20:02.777Z"
   },
   {
    "duration": 18,
    "start_time": "2022-03-11T07:20:02.790Z"
   },
   {
    "duration": 4,
    "start_time": "2022-03-11T07:20:02.810Z"
   },
   {
    "duration": 12,
    "start_time": "2022-03-11T07:20:02.816Z"
   },
   {
    "duration": 5,
    "start_time": "2022-03-11T07:20:02.830Z"
   },
   {
    "duration": 9,
    "start_time": "2022-03-11T07:20:02.837Z"
   },
   {
    "duration": 7598,
    "start_time": "2022-03-11T07:20:02.887Z"
   },
   {
    "duration": 91,
    "start_time": "2022-03-11T07:20:10.396Z"
   },
   {
    "duration": 7,
    "start_time": "2022-03-11T07:20:25.151Z"
   },
   {
    "duration": 16034,
    "start_time": "2022-03-11T07:20:25.838Z"
   },
   {
    "duration": 15,
    "start_time": "2022-03-11T07:21:19.385Z"
   },
   {
    "duration": 13,
    "start_time": "2022-03-11T07:23:33.820Z"
   },
   {
    "duration": 6,
    "start_time": "2022-03-11T07:24:00.182Z"
   },
   {
    "duration": 6,
    "start_time": "2022-03-11T07:24:51.837Z"
   },
   {
    "duration": 7,
    "start_time": "2022-03-11T07:26:07.235Z"
   },
   {
    "duration": 7,
    "start_time": "2022-03-11T07:26:43.620Z"
   },
   {
    "duration": 9,
    "start_time": "2022-03-11T07:26:55.389Z"
   },
   {
    "duration": 12,
    "start_time": "2022-03-11T07:26:59.297Z"
   },
   {
    "duration": 9,
    "start_time": "2022-03-11T07:27:05.024Z"
   },
   {
    "duration": 190,
    "start_time": "2022-03-11T07:27:10.031Z"
   },
   {
    "duration": 8,
    "start_time": "2022-03-11T07:27:27.630Z"
   },
   {
    "duration": 77,
    "start_time": "2022-03-11T07:27:34.960Z"
   },
   {
    "duration": 84,
    "start_time": "2022-03-11T07:27:42.145Z"
   },
   {
    "duration": 83,
    "start_time": "2022-03-11T07:27:48.522Z"
   },
   {
    "duration": 10,
    "start_time": "2022-03-11T07:28:05.592Z"
   },
   {
    "duration": 11,
    "start_time": "2022-03-11T07:28:12.613Z"
   },
   {
    "duration": 9,
    "start_time": "2022-03-11T07:40:16.502Z"
   },
   {
    "duration": 7,
    "start_time": "2022-03-11T07:40:42.336Z"
   },
   {
    "duration": 6,
    "start_time": "2022-03-11T07:42:09.683Z"
   },
   {
    "duration": 7,
    "start_time": "2022-03-11T07:42:27.271Z"
   },
   {
    "duration": 16093,
    "start_time": "2022-03-11T07:43:21.458Z"
   },
   {
    "duration": 227,
    "start_time": "2022-03-11T07:45:36.589Z"
   },
   {
    "duration": 7,
    "start_time": "2022-03-11T07:46:48.507Z"
   },
   {
    "duration": 16094,
    "start_time": "2022-03-11T07:46:49.046Z"
   },
   {
    "duration": 8,
    "start_time": "2022-03-11T07:47:07.476Z"
   },
   {
    "duration": 7,
    "start_time": "2022-03-11T07:47:28.376Z"
   },
   {
    "duration": 15933,
    "start_time": "2022-03-11T07:47:28.927Z"
   },
   {
    "duration": 23,
    "start_time": "2022-03-11T07:47:44.864Z"
   },
   {
    "duration": 6,
    "start_time": "2022-03-11T07:50:33.595Z"
   },
   {
    "duration": 5816,
    "start_time": "2022-03-11T07:50:34.101Z"
   },
   {
    "duration": 7,
    "start_time": "2022-03-11T07:51:43.162Z"
   },
   {
    "duration": 16038,
    "start_time": "2022-03-11T07:51:43.566Z"
   },
   {
    "duration": 9,
    "start_time": "2022-03-11T07:52:03.183Z"
   },
   {
    "duration": 8,
    "start_time": "2022-03-11T07:53:52.694Z"
   },
   {
    "duration": 4,
    "start_time": "2022-03-11T07:53:55.116Z"
   },
   {
    "duration": 7,
    "start_time": "2022-03-11T07:53:55.550Z"
   },
   {
    "duration": 15797,
    "start_time": "2022-03-11T07:53:55.945Z"
   },
   {
    "duration": 16084,
    "start_time": "2022-03-11T07:54:23.394Z"
   },
   {
    "duration": 8,
    "start_time": "2022-03-11T07:54:41.221Z"
   },
   {
    "duration": 9,
    "start_time": "2022-03-11T07:55:35.480Z"
   },
   {
    "duration": 8,
    "start_time": "2022-03-11T07:55:50.013Z"
   },
   {
    "duration": 4,
    "start_time": "2022-03-11T07:56:32.315Z"
   },
   {
    "duration": 7,
    "start_time": "2022-03-11T07:56:32.802Z"
   },
   {
    "duration": 16156,
    "start_time": "2022-03-11T07:56:36.136Z"
   },
   {
    "duration": 9,
    "start_time": "2022-03-11T07:56:55.743Z"
   },
   {
    "duration": 8,
    "start_time": "2022-03-11T08:00:38.976Z"
   },
   {
    "duration": 489,
    "start_time": "2022-03-11T08:00:40.748Z"
   },
   {
    "duration": 8,
    "start_time": "2022-03-11T08:23:18.634Z"
   },
   {
    "duration": 8,
    "start_time": "2022-03-11T08:23:19.053Z"
   },
   {
    "duration": 452,
    "start_time": "2022-03-11T08:23:21.134Z"
   },
   {
    "duration": 9,
    "start_time": "2022-03-11T08:23:54.173Z"
   },
   {
    "duration": 732,
    "start_time": "2022-03-11T08:23:55.134Z"
   },
   {
    "duration": 4,
    "start_time": "2022-03-11T08:25:38.803Z"
   },
   {
    "duration": 8,
    "start_time": "2022-03-11T08:26:26.587Z"
   },
   {
    "duration": 6123,
    "start_time": "2022-03-11T08:26:27.311Z"
   },
   {
    "duration": 7,
    "start_time": "2022-03-11T08:27:02.274Z"
   },
   {
    "duration": 15916,
    "start_time": "2022-03-11T08:27:03.387Z"
   },
   {
    "duration": 8,
    "start_time": "2022-03-11T08:27:20.881Z"
   },
   {
    "duration": 7,
    "start_time": "2022-03-11T08:29:13.877Z"
   },
   {
    "duration": 16480,
    "start_time": "2022-03-11T08:29:14.350Z"
   },
   {
    "duration": 11,
    "start_time": "2022-03-11T08:30:24.222Z"
   },
   {
    "duration": 18868,
    "start_time": "2022-03-11T08:30:24.531Z"
   },
   {
    "duration": 8,
    "start_time": "2022-03-11T08:30:46.255Z"
   },
   {
    "duration": 7,
    "start_time": "2022-03-11T08:33:17.091Z"
   },
   {
    "duration": 10,
    "start_time": "2022-03-11T08:34:06.139Z"
   },
   {
    "duration": 11,
    "start_time": "2022-03-11T08:34:50.899Z"
   },
   {
    "duration": 11,
    "start_time": "2022-03-11T08:35:09.721Z"
   },
   {
    "duration": 1299,
    "start_time": "2022-03-11T08:35:46.541Z"
   },
   {
    "duration": 677,
    "start_time": "2022-03-11T08:35:47.843Z"
   },
   {
    "duration": 11,
    "start_time": "2022-03-11T08:35:48.523Z"
   },
   {
    "duration": 575,
    "start_time": "2022-03-11T08:35:48.537Z"
   },
   {
    "duration": 6,
    "start_time": "2022-03-11T08:35:49.114Z"
   },
   {
    "duration": 66,
    "start_time": "2022-03-11T08:35:49.122Z"
   },
   {
    "duration": 5,
    "start_time": "2022-03-11T08:35:49.191Z"
   },
   {
    "duration": 291,
    "start_time": "2022-03-11T08:35:49.200Z"
   },
   {
    "duration": 109,
    "start_time": "2022-03-11T08:35:49.495Z"
   },
   {
    "duration": 5,
    "start_time": "2022-03-11T08:35:49.606Z"
   },
   {
    "duration": 8,
    "start_time": "2022-03-11T08:35:49.614Z"
   },
   {
    "duration": 9,
    "start_time": "2022-03-11T08:35:49.624Z"
   },
   {
    "duration": 8,
    "start_time": "2022-03-11T08:35:49.635Z"
   },
   {
    "duration": 66,
    "start_time": "2022-03-11T08:35:49.645Z"
   },
   {
    "duration": 31,
    "start_time": "2022-03-11T08:35:49.713Z"
   },
   {
    "duration": 40,
    "start_time": "2022-03-11T08:35:49.747Z"
   },
   {
    "duration": 7,
    "start_time": "2022-03-11T08:35:49.790Z"
   },
   {
    "duration": 7,
    "start_time": "2022-03-11T08:35:49.799Z"
   },
   {
    "duration": 16,
    "start_time": "2022-03-11T08:35:49.809Z"
   },
   {
    "duration": 8,
    "start_time": "2022-03-11T08:35:49.828Z"
   },
   {
    "duration": 8,
    "start_time": "2022-03-11T08:35:49.839Z"
   },
   {
    "duration": 15917,
    "start_time": "2022-03-11T08:35:49.888Z"
   },
   {
    "duration": 13,
    "start_time": "2022-03-11T08:36:05.809Z"
   },
   {
    "duration": 1274,
    "start_time": "2022-03-11T14:13:53.915Z"
   },
   {
    "duration": 776,
    "start_time": "2022-03-11T14:13:55.193Z"
   },
   {
    "duration": 11,
    "start_time": "2022-03-11T14:13:55.972Z"
   },
   {
    "duration": 570,
    "start_time": "2022-03-11T14:13:55.986Z"
   },
   {
    "duration": 5,
    "start_time": "2022-03-11T14:15:30.641Z"
   },
   {
    "duration": 65,
    "start_time": "2022-03-11T14:15:31.102Z"
   },
   {
    "duration": 8,
    "start_time": "2022-03-11T14:15:32.281Z"
   },
   {
    "duration": 185,
    "start_time": "2022-03-11T14:15:32.816Z"
   },
   {
    "duration": 36,
    "start_time": "2022-03-11T14:15:35.164Z"
   },
   {
    "duration": 7,
    "start_time": "2022-03-11T14:15:36.858Z"
   },
   {
    "duration": 4,
    "start_time": "2022-03-11T14:18:40.872Z"
   },
   {
    "duration": 6,
    "start_time": "2022-03-11T14:18:41.953Z"
   },
   {
    "duration": 6,
    "start_time": "2022-03-11T14:18:57.863Z"
   },
   {
    "duration": 27,
    "start_time": "2022-03-11T14:18:58.029Z"
   },
   {
    "duration": 34,
    "start_time": "2022-03-11T14:21:24.473Z"
   },
   {
    "duration": 5,
    "start_time": "2022-03-11T14:21:25.564Z"
   },
   {
    "duration": 7,
    "start_time": "2022-03-11T14:21:26.100Z"
   },
   {
    "duration": 4,
    "start_time": "2022-03-11T14:21:27.183Z"
   },
   {
    "duration": 8,
    "start_time": "2022-03-11T14:21:29.520Z"
   },
   {
    "duration": 4,
    "start_time": "2022-03-11T14:21:45.246Z"
   },
   {
    "duration": 8,
    "start_time": "2022-03-11T14:21:45.799Z"
   },
   {
    "duration": 16813,
    "start_time": "2022-03-11T14:21:48.464Z"
   },
   {
    "duration": 11,
    "start_time": "2022-03-11T14:22:05.284Z"
   },
   {
    "duration": 383,
    "start_time": "2022-03-12T09:52:04.041Z"
   },
   {
    "duration": 1000,
    "start_time": "2022-03-12T09:52:10.997Z"
   },
   {
    "duration": 500,
    "start_time": "2022-03-12T09:52:14.381Z"
   },
   {
    "duration": 7,
    "start_time": "2022-03-12T09:52:15.269Z"
   },
   {
    "duration": 292,
    "start_time": "2022-03-12T09:52:18.541Z"
   },
   {
    "duration": 7,
    "start_time": "2022-03-12T09:56:49.901Z"
   },
   {
    "duration": 1038,
    "start_time": "2022-03-12T10:02:32.418Z"
   },
   {
    "duration": 503,
    "start_time": "2022-03-12T10:02:34.625Z"
   },
   {
    "duration": 7,
    "start_time": "2022-03-12T10:02:35.136Z"
   },
   {
    "duration": 629,
    "start_time": "2022-03-12T10:02:39.291Z"
   },
   {
    "duration": 7,
    "start_time": "2022-03-12T10:03:13.483Z"
   },
   {
    "duration": 892,
    "start_time": "2022-03-12T10:03:14.467Z"
   },
   {
    "duration": 8,
    "start_time": "2022-03-12T10:06:59.585Z"
   },
   {
    "duration": 982,
    "start_time": "2022-03-12T10:07:00.720Z"
   },
   {
    "duration": 376,
    "start_time": "2022-03-12T10:19:39.541Z"
   },
   {
    "duration": 382,
    "start_time": "2022-03-12T10:19:52.508Z"
   },
   {
    "duration": 499,
    "start_time": "2022-03-12T10:20:13.724Z"
   },
   {
    "duration": 5,
    "start_time": "2022-03-12T10:20:27.844Z"
   },
   {
    "duration": 7,
    "start_time": "2022-03-12T10:20:48.340Z"
   },
   {
    "duration": 308,
    "start_time": "2022-03-12T10:21:10.718Z"
   },
   {
    "duration": 12,
    "start_time": "2022-03-12T10:23:09.318Z"
   },
   {
    "duration": 13,
    "start_time": "2022-03-12T10:24:48.779Z"
   },
   {
    "duration": 15,
    "start_time": "2022-03-12T10:25:32.474Z"
   },
   {
    "duration": 21,
    "start_time": "2022-03-12T10:26:04.746Z"
   },
   {
    "duration": 17,
    "start_time": "2022-03-12T10:26:50.434Z"
   },
   {
    "duration": 8,
    "start_time": "2022-03-12T10:39:51.568Z"
   },
   {
    "duration": 1046,
    "start_time": "2022-03-12T10:39:52.822Z"
   },
   {
    "duration": 92,
    "start_time": "2022-03-12T10:43:05.357Z"
   },
   {
    "duration": 7,
    "start_time": "2022-03-12T10:43:09.941Z"
   },
   {
    "duration": 7,
    "start_time": "2022-03-12T10:43:29.717Z"
   },
   {
    "duration": 8,
    "start_time": "2022-03-12T10:43:38.032Z"
   },
   {
    "duration": 251,
    "start_time": "2022-03-12T10:45:21.932Z"
   },
   {
    "duration": 3,
    "start_time": "2022-03-12T11:43:38.007Z"
   },
   {
    "duration": 530,
    "start_time": "2022-03-12T11:43:41.495Z"
   },
   {
    "duration": 7,
    "start_time": "2022-03-12T11:43:43.251Z"
   },
   {
    "duration": 877,
    "start_time": "2022-03-12T11:43:48.431Z"
   },
   {
    "duration": 252,
    "start_time": "2022-03-12T11:44:00.965Z"
   },
   {
    "duration": 1062,
    "start_time": "2022-03-12T11:56:17.881Z"
   },
   {
    "duration": 550,
    "start_time": "2022-03-12T11:56:18.946Z"
   },
   {
    "duration": 11,
    "start_time": "2022-03-12T11:56:19.498Z"
   },
   {
    "duration": 962,
    "start_time": "2022-03-12T11:56:19.511Z"
   },
   {
    "duration": 270,
    "start_time": "2022-03-12T11:56:20.475Z"
   },
   {
    "duration": 3,
    "start_time": "2022-03-12T11:56:20.747Z"
   },
   {
    "duration": 33,
    "start_time": "2022-03-12T11:56:20.753Z"
   },
   {
    "duration": 24,
    "start_time": "2022-03-12T11:56:20.788Z"
   },
   {
    "duration": 112,
    "start_time": "2022-03-12T11:56:20.814Z"
   },
   {
    "duration": 99,
    "start_time": "2022-03-12T11:56:20.927Z"
   },
   {
    "duration": 99,
    "start_time": "2022-03-12T11:56:21.028Z"
   },
   {
    "duration": 2,
    "start_time": "2022-03-12T11:56:21.129Z"
   },
   {
    "duration": 4,
    "start_time": "2022-03-12T11:56:21.133Z"
   },
   {
    "duration": 9,
    "start_time": "2022-03-12T11:56:21.138Z"
   },
   {
    "duration": 25,
    "start_time": "2022-03-12T11:56:21.148Z"
   },
   {
    "duration": 18,
    "start_time": "2022-03-12T11:56:21.174Z"
   },
   {
    "duration": 5,
    "start_time": "2022-03-12T11:56:21.213Z"
   },
   {
    "duration": 5,
    "start_time": "2022-03-12T11:56:21.219Z"
   },
   {
    "duration": 6,
    "start_time": "2022-03-12T11:56:21.225Z"
   },
   {
    "duration": 7,
    "start_time": "2022-03-12T11:56:21.233Z"
   },
   {
    "duration": 9,
    "start_time": "2022-03-12T11:56:21.241Z"
   },
   {
    "duration": 4,
    "start_time": "2022-03-12T11:56:21.252Z"
   },
   {
    "duration": 9206,
    "start_time": "2022-03-12T11:56:21.258Z"
   },
   {
    "duration": 7,
    "start_time": "2022-03-12T11:56:30.466Z"
   },
   {
    "duration": 17,
    "start_time": "2022-03-12T12:09:49.268Z"
   },
   {
    "duration": 4,
    "start_time": "2022-03-12T12:18:48.885Z"
   },
   {
    "duration": 744,
    "start_time": "2022-03-12T12:18:50.162Z"
   },
   {
    "duration": 1054,
    "start_time": "2022-03-12T12:19:08.000Z"
   },
   {
    "duration": 508,
    "start_time": "2022-03-12T12:19:09.055Z"
   },
   {
    "duration": 8,
    "start_time": "2022-03-12T12:19:09.565Z"
   },
   {
    "duration": 934,
    "start_time": "2022-03-12T12:19:09.575Z"
   },
   {
    "duration": 251,
    "start_time": "2022-03-12T12:19:10.510Z"
   },
   {
    "duration": 3,
    "start_time": "2022-03-12T12:19:10.762Z"
   },
   {
    "duration": 44,
    "start_time": "2022-03-12T12:19:10.766Z"
   },
   {
    "duration": 3,
    "start_time": "2022-03-12T12:19:10.812Z"
   },
   {
    "duration": 192,
    "start_time": "2022-03-12T12:19:10.818Z"
   },
   {
    "duration": 192,
    "start_time": "2022-03-12T12:19:11.013Z"
   },
   {
    "duration": 4,
    "start_time": "2022-03-12T12:19:11.207Z"
   },
   {
    "duration": 19,
    "start_time": "2022-03-12T12:19:11.212Z"
   },
   {
    "duration": 21,
    "start_time": "2022-03-12T12:19:11.232Z"
   },
   {
    "duration": 7,
    "start_time": "2022-03-12T12:19:11.254Z"
   },
   {
    "duration": 24,
    "start_time": "2022-03-12T12:19:11.262Z"
   },
   {
    "duration": 17,
    "start_time": "2022-03-12T12:19:11.287Z"
   },
   {
    "duration": 4,
    "start_time": "2022-03-12T12:19:11.305Z"
   },
   {
    "duration": 8,
    "start_time": "2022-03-12T12:19:11.310Z"
   },
   {
    "duration": 9,
    "start_time": "2022-03-12T12:19:11.319Z"
   },
   {
    "duration": 6,
    "start_time": "2022-03-12T12:19:11.329Z"
   },
   {
    "duration": 5,
    "start_time": "2022-03-12T12:19:11.337Z"
   },
   {
    "duration": 7,
    "start_time": "2022-03-12T12:19:11.343Z"
   },
   {
    "duration": 3632,
    "start_time": "2022-03-12T12:19:11.351Z"
   },
   {
    "duration": -10576,
    "start_time": "2022-03-12T12:19:25.560Z"
   },
   {
    "duration": 4,
    "start_time": "2022-03-12T12:19:30.721Z"
   },
   {
    "duration": 8943,
    "start_time": "2022-03-12T12:19:31.335Z"
   },
   {
    "duration": 7,
    "start_time": "2022-03-12T12:19:43.697Z"
   },
   {
    "duration": 4,
    "start_time": "2022-03-12T12:24:07.462Z"
   },
   {
    "duration": 14251,
    "start_time": "2022-03-12T12:24:07.988Z"
   },
   {
    "duration": 9,
    "start_time": "2022-03-12T12:24:27.322Z"
   },
   {
    "duration": 4,
    "start_time": "2022-03-12T12:36:22.840Z"
   },
   {
    "duration": 8436,
    "start_time": "2022-03-12T12:36:23.470Z"
   },
   {
    "duration": 6,
    "start_time": "2022-03-12T12:36:36.654Z"
   },
   {
    "duration": 5,
    "start_time": "2022-03-12T12:42:25.883Z"
   },
   {
    "duration": 9548,
    "start_time": "2022-03-12T12:42:26.566Z"
   },
   {
    "duration": 8,
    "start_time": "2022-03-12T12:42:42.388Z"
   },
   {
    "duration": 5,
    "start_time": "2022-03-12T12:51:41.967Z"
   },
   {
    "duration": 9602,
    "start_time": "2022-03-12T12:51:42.818Z"
   },
   {
    "duration": 7,
    "start_time": "2022-03-12T12:51:54.049Z"
   },
   {
    "duration": 4,
    "start_time": "2022-03-12T12:52:47.151Z"
   },
   {
    "duration": 8900,
    "start_time": "2022-03-12T12:52:47.759Z"
   },
   {
    "duration": 4,
    "start_time": "2022-03-12T12:53:39.494Z"
   },
   {
    "duration": 12274,
    "start_time": "2022-03-12T12:53:40.175Z"
   },
   {
    "duration": 6,
    "start_time": "2022-03-12T12:55:10.442Z"
   },
   {
    "duration": 9809,
    "start_time": "2022-03-12T12:55:10.981Z"
   },
   {
    "duration": 5,
    "start_time": "2022-03-12T12:56:48.559Z"
   },
   {
    "duration": 8536,
    "start_time": "2022-03-12T12:56:49.276Z"
   },
   {
    "duration": 5,
    "start_time": "2022-03-12T12:59:27.695Z"
   },
   {
    "duration": 8991,
    "start_time": "2022-03-12T12:59:28.193Z"
   },
   {
    "duration": 4,
    "start_time": "2022-03-12T13:00:37.695Z"
   },
   {
    "duration": 8621,
    "start_time": "2022-03-12T13:00:43.325Z"
   },
   {
    "duration": 7,
    "start_time": "2022-03-12T13:05:24.422Z"
   },
   {
    "duration": 4,
    "start_time": "2022-03-12T13:05:44.899Z"
   },
   {
    "duration": 4,
    "start_time": "2022-03-12T13:07:41.033Z"
   },
   {
    "duration": 9692,
    "start_time": "2022-03-12T13:07:42.462Z"
   },
   {
    "duration": 1339,
    "start_time": "2022-03-12T13:10:19.997Z"
   },
   {
    "duration": 516,
    "start_time": "2022-03-12T13:10:21.338Z"
   },
   {
    "duration": 8,
    "start_time": "2022-03-12T13:10:21.856Z"
   },
   {
    "duration": 916,
    "start_time": "2022-03-12T13:10:21.865Z"
   },
   {
    "duration": 251,
    "start_time": "2022-03-12T13:10:22.783Z"
   },
   {
    "duration": 3,
    "start_time": "2022-03-12T13:10:23.036Z"
   },
   {
    "duration": 36,
    "start_time": "2022-03-12T13:10:23.040Z"
   },
   {
    "duration": 4,
    "start_time": "2022-03-12T13:10:23.077Z"
   },
   {
    "duration": 227,
    "start_time": "2022-03-12T13:10:23.083Z"
   },
   {
    "duration": 105,
    "start_time": "2022-03-12T13:10:23.313Z"
   },
   {
    "duration": 5,
    "start_time": "2022-03-12T13:10:23.419Z"
   },
   {
    "duration": 3,
    "start_time": "2022-03-12T13:10:23.425Z"
   },
   {
    "duration": 7,
    "start_time": "2022-03-12T13:10:23.430Z"
   },
   {
    "duration": 7,
    "start_time": "2022-03-12T13:10:23.438Z"
   },
   {
    "duration": 73,
    "start_time": "2022-03-12T13:10:23.446Z"
   },
   {
    "duration": 17,
    "start_time": "2022-03-12T13:10:23.520Z"
   },
   {
    "duration": 3,
    "start_time": "2022-03-12T13:10:23.539Z"
   },
   {
    "duration": 5,
    "start_time": "2022-03-12T13:10:23.543Z"
   },
   {
    "duration": 4,
    "start_time": "2022-03-12T13:10:23.550Z"
   },
   {
    "duration": 7,
    "start_time": "2022-03-12T13:10:23.555Z"
   },
   {
    "duration": 5,
    "start_time": "2022-03-12T13:10:23.563Z"
   },
   {
    "duration": 4,
    "start_time": "2022-03-12T13:10:23.608Z"
   },
   {
    "duration": 8615,
    "start_time": "2022-03-12T13:10:23.613Z"
   },
   {
    "duration": 7,
    "start_time": "2022-03-12T13:10:32.229Z"
   },
   {
    "duration": 6,
    "start_time": "2022-03-12T13:10:32.237Z"
   },
   {
    "duration": 3,
    "start_time": "2022-03-12T13:10:32.245Z"
   },
   {
    "duration": 5,
    "start_time": "2022-03-12T13:10:32.250Z"
   },
   {
    "duration": 8533,
    "start_time": "2022-03-12T13:10:32.256Z"
   },
   {
    "duration": 5,
    "start_time": "2022-03-12T13:11:39.011Z"
   },
   {
    "duration": 8520,
    "start_time": "2022-03-12T13:11:39.589Z"
   },
   {
    "duration": 5,
    "start_time": "2022-03-12T13:13:39.657Z"
   },
   {
    "duration": 8770,
    "start_time": "2022-03-12T13:13:40.090Z"
   },
   {
    "duration": 4,
    "start_time": "2022-03-12T13:17:57.735Z"
   },
   {
    "duration": 3,
    "start_time": "2022-03-12T13:18:01.918Z"
   },
   {
    "duration": 8,
    "start_time": "2022-03-12T13:18:02.417Z"
   },
   {
    "duration": 4098,
    "start_time": "2022-03-12T13:18:03.730Z"
   },
   {
    "duration": 5,
    "start_time": "2022-03-12T13:18:47.654Z"
   },
   {
    "duration": 8498,
    "start_time": "2022-03-12T13:18:48.190Z"
   },
   {
    "duration": 1010,
    "start_time": "2022-03-12T13:19:35.450Z"
   },
   {
    "duration": 508,
    "start_time": "2022-03-12T13:19:36.462Z"
   },
   {
    "duration": 7,
    "start_time": "2022-03-12T13:19:36.972Z"
   },
   {
    "duration": 911,
    "start_time": "2022-03-12T13:19:36.981Z"
   },
   {
    "duration": 276,
    "start_time": "2022-03-12T13:19:37.893Z"
   },
   {
    "duration": 4,
    "start_time": "2022-03-12T13:19:38.171Z"
   },
   {
    "duration": 45,
    "start_time": "2022-03-12T13:19:38.176Z"
   },
   {
    "duration": 3,
    "start_time": "2022-03-12T13:19:38.223Z"
   },
   {
    "duration": 182,
    "start_time": "2022-03-12T13:19:38.228Z"
   },
   {
    "duration": 106,
    "start_time": "2022-03-12T13:19:38.412Z"
   },
   {
    "duration": 4,
    "start_time": "2022-03-12T13:19:38.605Z"
   },
   {
    "duration": 4,
    "start_time": "2022-03-12T13:19:38.610Z"
   },
   {
    "duration": 9,
    "start_time": "2022-03-12T13:19:38.615Z"
   },
   {
    "duration": 5,
    "start_time": "2022-03-12T13:19:38.625Z"
   },
   {
    "duration": 16,
    "start_time": "2022-03-12T13:19:38.631Z"
   },
   {
    "duration": 18,
    "start_time": "2022-03-12T13:19:38.648Z"
   },
   {
    "duration": 3,
    "start_time": "2022-03-12T13:19:38.668Z"
   },
   {
    "duration": 34,
    "start_time": "2022-03-12T13:19:38.672Z"
   },
   {
    "duration": 2,
    "start_time": "2022-03-12T13:19:38.708Z"
   },
   {
    "duration": 8,
    "start_time": "2022-03-12T13:19:38.711Z"
   },
   {
    "duration": 6,
    "start_time": "2022-03-12T13:19:38.720Z"
   },
   {
    "duration": 8,
    "start_time": "2022-03-12T13:19:38.728Z"
   },
   {
    "duration": 8537,
    "start_time": "2022-03-12T13:19:38.737Z"
   },
   {
    "duration": 7,
    "start_time": "2022-03-12T13:19:47.276Z"
   },
   {
    "duration": 5,
    "start_time": "2022-03-12T13:19:47.284Z"
   },
   {
    "duration": 8557,
    "start_time": "2022-03-12T13:19:47.305Z"
   },
   {
    "duration": 6,
    "start_time": "2022-03-12T13:29:31.713Z"
   },
   {
    "duration": 9575,
    "start_time": "2022-03-12T13:29:32.760Z"
   },
   {
    "duration": 6,
    "start_time": "2022-03-12T13:30:45.480Z"
   },
   {
    "duration": 9583,
    "start_time": "2022-03-12T13:30:45.732Z"
   },
   {
    "duration": 6,
    "start_time": "2022-03-12T13:31:19.240Z"
   },
   {
    "duration": 14734,
    "start_time": "2022-03-12T13:31:19.914Z"
   },
   {
    "duration": 811,
    "start_time": "2022-03-12T13:31:58.931Z"
   },
   {
    "duration": 14731,
    "start_time": "2022-03-12T13:31:59.853Z"
   },
   {
    "duration": 9,
    "start_time": "2022-03-12T13:32:15.035Z"
   },
   {
    "duration": 10325,
    "start_time": "2022-03-12T13:32:15.793Z"
   }
  ],
  "kernelspec": {
   "display_name": "Python 3 (ipykernel)",
   "language": "python",
   "name": "python3"
  },
  "language_info": {
   "codemirror_mode": {
    "name": "ipython",
    "version": 3
   },
   "file_extension": ".py",
   "mimetype": "text/x-python",
   "name": "python",
   "nbconvert_exporter": "python",
   "pygments_lexer": "ipython3",
   "version": "3.9.7"
  },
  "toc": {
   "base_numbering": 1,
   "nav_menu": {},
   "number_sections": true,
   "sideBar": true,
   "skip_h1_title": true,
   "title_cell": "Table of Contents",
   "title_sidebar": "Contents",
   "toc_cell": false,
   "toc_position": {},
   "toc_section_display": true,
   "toc_window_display": false
  }
 },
 "nbformat": 4,
 "nbformat_minor": 2
}
