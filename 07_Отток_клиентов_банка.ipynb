{
 "cells": [
  {
   "cell_type": "markdown",
   "metadata": {},
   "source": [
    "# Отток клиентов"
   ]
  },
  {
   "cell_type": "markdown",
   "metadata": {},
   "source": [
    " <b> Описание проекта </b>\n",
    " \n",
    " Из «Бета-Банка» стали уходить клиенты. Каждый месяц. Немного, но заметно. Банковские маркетологи посчитали: сохранять текущих клиентов дешевле, чем привлекать новых.\n",
    " \n",
    " <b>Цель проекта</b>\n",
    " \n",
    " Нужно спрогнозировать, уйдёт клиент из банка в ближайшее время или нет. Вам предоставлены исторические данные о поведении клиентов и расторжении договоров с банком.\n",
    " \n",
    " <b> Задачи проекта</b>\n",
    " \n",
    " Постройте модель с предельно большим значением *F1*-меры. Чтобы сдать проект успешно, нужно довести метрику до 0.59. Проверьте *F1*-меру на тестовой выборке самостоятельно.\n",
    "\n",
    "Дополнительно измеряйте *AUC-ROC*, сравнивайте её значение с *F1*-мерой.\n",
    "\n",
    "Источник данных: [https://www.kaggle.com/barelydedicated/bank-customer-churn-modeling](https://www.kaggle.com/barelydedicated/bank-customer-churn-modeling)\n",
    " \n",
    " \n",
    " <b>Данной проект разделим на несколько частей:</b>\n",
    " \n",
    " <b> Изучение общей информации:</b>\n",
    " \n",
    "  [Импортируем необходимые библиотеки](#step_1)\n",
    "  \n",
    "  [Подготовка данных](#step_2)\n",
    "  \n",
    "  [Исследование задачи](#step_3)\n",
    "   \n",
    "  [Борьба с дисбалансом](#step_4)\n",
    "  \n",
    "  [Тестирование модели](#step_5)\n",
    "  \n",
    "  [<b> Общий вывод </b>](#step_6)\n",
    "  \n",
    "  [Чек-лист готовности проекта](#step_7)"
   ]
  },
  {
   "cell_type": "markdown",
   "metadata": {},
   "source": [
    "<a id=\"step_1\"></a>\n",
    "<b>Импортируем необходимые библиотеки</b>"
   ]
  },
  {
   "cell_type": "code",
   "execution_count": 1,
   "metadata": {},
   "outputs": [],
   "source": [
    "import pandas as pd\n",
    "from sklearn.model_selection import train_test_split\n",
    "from sklearn.preprocessing import StandardScaler\n",
    "from sklearn.linear_model import LogisticRegression\n",
    "from sklearn.metrics import accuracy_score, precision_score, recall_score, roc_auc_score, roc_curve, f1_score\n",
    "from sklearn.tree import DecisionTreeClassifier\n",
    "from sklearn.ensemble import RandomForestClassifier\n",
    "from sklearn.utils import shuffle\n",
    "import matplotlib.pyplot as plt\n",
    "from sklearn.dummy import DummyClassifier\n",
    "\n",
    "\n",
    "#При записи изменённых признаков в исходный датафрейм код может вызывать предупреждение SettingWithCopy.\n",
    "#Причина в особенности поведения sklearn и pandas. Специалисты уже привыкли игнорировать такое сообщение.\n",
    "#Чтобы предупреждение не появлялось, в код добавляют строчку\n",
    "pd.options.mode.chained_assignment = None"
   ]
  },
  {
   "cell_type": "markdown",
   "metadata": {},
   "source": [
    "<a id=\"step_2\"></a>\n",
    "<b>Подготовка данных</b>"
   ]
  },
  {
   "cell_type": "code",
   "execution_count": 2,
   "metadata": {},
   "outputs": [],
   "source": [
    "#загрузим наши данные\n",
    "try:\n",
    "    df = pd.read_csv ('/datasets/Churn.csv')\n",
    "except:\n",
    "    df = pd.read_csv ('Churn.csv')"
   ]
  },
  {
   "cell_type": "code",
   "execution_count": 3,
   "metadata": {},
   "outputs": [],
   "source": [
    "#создадим функцию для первичного предпросмотра того, что имеем\n",
    "def first_look (df: pd.DataFrame, limit_na_category: int = 10) -> None:\n",
    "    '''Функция получения первичной информации о датафрейме'''\n",
    "    print ('------------- Первые 5 строк ------------')\n",
    "    display(df.head())\n",
    "    print('')\n",
    "    print('')\n",
    "    print ('------------- Типы данных ------------')\n",
    "    print (df.info())\n",
    "    print('')\n",
    "    print('')\n",
    "    print ('------------- Пропуски ------------')\n",
    "    count = 0\n",
    "    shape_0 = df.shape[0]\n",
    "    for element in df.columns:\n",
    "        if df[element].isna().sum() > 0:\n",
    "            print(element, ' - ', df[element].isna().sum(), 'пропусков, ', round(df[element].isna().sum() * 100 / shape_0,2), '% от числа строк.' )\n",
    "            count = +1\n",
    "    if count == 0:\n",
    "        print('Пропусков НЕТ')\n",
    "        print('')\n",
    "        print('')\n",
    "        print ('------------- Дубликаты ------------')\n",
    "        if df.duplicated().sum() > 0:\n",
    "            print('Дубликатов: ', df.duplicated().sum())\n",
    "    else:\n",
    "        print('Дубликатов НЕТ')\n",
    "# ищем, есть ли категориальные столбцы (содержащие до limit_na_category уникальных значений) в датафрейме \n",
    "    min_unique = limit_na_category + 1\n",
    "    for element in df.columns:\n",
    "        min_unique = min(min_unique, df[element].nunique())\n",
    "        if min_unique <= limit_na_category:\n",
    "            print('')\n",
    "    print('')\n",
    "    print('------------- Категориальные признаки ------------')\n",
    "    for element in df.columns:\n",
    "        if df[element].nunique() <= limit_na_category: \n",
    "            print(element, ': ', df[element].nunique(), 'категории - ', df[element].unique(), )"
   ]
  },
  {
   "cell_type": "code",
   "execution_count": 4,
   "metadata": {},
   "outputs": [
    {
     "name": "stdout",
     "output_type": "stream",
     "text": [
      "------------- Первые 5 строк ------------\n"
     ]
    },
    {
     "data": {
      "text/html": [
       "<div>\n",
       "<style scoped>\n",
       "    .dataframe tbody tr th:only-of-type {\n",
       "        vertical-align: middle;\n",
       "    }\n",
       "\n",
       "    .dataframe tbody tr th {\n",
       "        vertical-align: top;\n",
       "    }\n",
       "\n",
       "    .dataframe thead th {\n",
       "        text-align: right;\n",
       "    }\n",
       "</style>\n",
       "<table border=\"1\" class=\"dataframe\">\n",
       "  <thead>\n",
       "    <tr style=\"text-align: right;\">\n",
       "      <th></th>\n",
       "      <th>RowNumber</th>\n",
       "      <th>CustomerId</th>\n",
       "      <th>Surname</th>\n",
       "      <th>CreditScore</th>\n",
       "      <th>Geography</th>\n",
       "      <th>Gender</th>\n",
       "      <th>Age</th>\n",
       "      <th>Tenure</th>\n",
       "      <th>Balance</th>\n",
       "      <th>NumOfProducts</th>\n",
       "      <th>HasCrCard</th>\n",
       "      <th>IsActiveMember</th>\n",
       "      <th>EstimatedSalary</th>\n",
       "      <th>Exited</th>\n",
       "    </tr>\n",
       "  </thead>\n",
       "  <tbody>\n",
       "    <tr>\n",
       "      <td>0</td>\n",
       "      <td>1</td>\n",
       "      <td>15634602</td>\n",
       "      <td>Hargrave</td>\n",
       "      <td>619</td>\n",
       "      <td>France</td>\n",
       "      <td>Female</td>\n",
       "      <td>42</td>\n",
       "      <td>2.0</td>\n",
       "      <td>0.00</td>\n",
       "      <td>1</td>\n",
       "      <td>1</td>\n",
       "      <td>1</td>\n",
       "      <td>101348.88</td>\n",
       "      <td>1</td>\n",
       "    </tr>\n",
       "    <tr>\n",
       "      <td>1</td>\n",
       "      <td>2</td>\n",
       "      <td>15647311</td>\n",
       "      <td>Hill</td>\n",
       "      <td>608</td>\n",
       "      <td>Spain</td>\n",
       "      <td>Female</td>\n",
       "      <td>41</td>\n",
       "      <td>1.0</td>\n",
       "      <td>83807.86</td>\n",
       "      <td>1</td>\n",
       "      <td>0</td>\n",
       "      <td>1</td>\n",
       "      <td>112542.58</td>\n",
       "      <td>0</td>\n",
       "    </tr>\n",
       "    <tr>\n",
       "      <td>2</td>\n",
       "      <td>3</td>\n",
       "      <td>15619304</td>\n",
       "      <td>Onio</td>\n",
       "      <td>502</td>\n",
       "      <td>France</td>\n",
       "      <td>Female</td>\n",
       "      <td>42</td>\n",
       "      <td>8.0</td>\n",
       "      <td>159660.80</td>\n",
       "      <td>3</td>\n",
       "      <td>1</td>\n",
       "      <td>0</td>\n",
       "      <td>113931.57</td>\n",
       "      <td>1</td>\n",
       "    </tr>\n",
       "    <tr>\n",
       "      <td>3</td>\n",
       "      <td>4</td>\n",
       "      <td>15701354</td>\n",
       "      <td>Boni</td>\n",
       "      <td>699</td>\n",
       "      <td>France</td>\n",
       "      <td>Female</td>\n",
       "      <td>39</td>\n",
       "      <td>1.0</td>\n",
       "      <td>0.00</td>\n",
       "      <td>2</td>\n",
       "      <td>0</td>\n",
       "      <td>0</td>\n",
       "      <td>93826.63</td>\n",
       "      <td>0</td>\n",
       "    </tr>\n",
       "    <tr>\n",
       "      <td>4</td>\n",
       "      <td>5</td>\n",
       "      <td>15737888</td>\n",
       "      <td>Mitchell</td>\n",
       "      <td>850</td>\n",
       "      <td>Spain</td>\n",
       "      <td>Female</td>\n",
       "      <td>43</td>\n",
       "      <td>2.0</td>\n",
       "      <td>125510.82</td>\n",
       "      <td>1</td>\n",
       "      <td>1</td>\n",
       "      <td>1</td>\n",
       "      <td>79084.10</td>\n",
       "      <td>0</td>\n",
       "    </tr>\n",
       "  </tbody>\n",
       "</table>\n",
       "</div>"
      ],
      "text/plain": [
       "   RowNumber  CustomerId   Surname  CreditScore Geography  Gender  Age  \\\n",
       "0          1    15634602  Hargrave          619    France  Female   42   \n",
       "1          2    15647311      Hill          608     Spain  Female   41   \n",
       "2          3    15619304      Onio          502    France  Female   42   \n",
       "3          4    15701354      Boni          699    France  Female   39   \n",
       "4          5    15737888  Mitchell          850     Spain  Female   43   \n",
       "\n",
       "   Tenure    Balance  NumOfProducts  HasCrCard  IsActiveMember  \\\n",
       "0     2.0       0.00              1          1               1   \n",
       "1     1.0   83807.86              1          0               1   \n",
       "2     8.0  159660.80              3          1               0   \n",
       "3     1.0       0.00              2          0               0   \n",
       "4     2.0  125510.82              1          1               1   \n",
       "\n",
       "   EstimatedSalary  Exited  \n",
       "0        101348.88       1  \n",
       "1        112542.58       0  \n",
       "2        113931.57       1  \n",
       "3         93826.63       0  \n",
       "4         79084.10       0  "
      ]
     },
     "metadata": {},
     "output_type": "display_data"
    },
    {
     "name": "stdout",
     "output_type": "stream",
     "text": [
      "\n",
      "\n",
      "------------- Типы данных ------------\n",
      "<class 'pandas.core.frame.DataFrame'>\n",
      "RangeIndex: 10000 entries, 0 to 9999\n",
      "Data columns (total 14 columns):\n",
      "RowNumber          10000 non-null int64\n",
      "CustomerId         10000 non-null int64\n",
      "Surname            10000 non-null object\n",
      "CreditScore        10000 non-null int64\n",
      "Geography          10000 non-null object\n",
      "Gender             10000 non-null object\n",
      "Age                10000 non-null int64\n",
      "Tenure             9091 non-null float64\n",
      "Balance            10000 non-null float64\n",
      "NumOfProducts      10000 non-null int64\n",
      "HasCrCard          10000 non-null int64\n",
      "IsActiveMember     10000 non-null int64\n",
      "EstimatedSalary    10000 non-null float64\n",
      "Exited             10000 non-null int64\n",
      "dtypes: float64(3), int64(8), object(3)\n",
      "memory usage: 1.1+ MB\n",
      "None\n",
      "\n",
      "\n",
      "------------- Пропуски ------------\n",
      "Tenure  -  909 пропусков,  9.09 % от числа строк.\n",
      "Дубликатов НЕТ\n",
      "\n",
      "\n",
      "\n",
      "\n",
      "\n",
      "\n",
      "\n",
      "\n",
      "\n",
      "\n",
      "\n",
      "------------- Категориальные признаки ------------\n",
      "Geography :  3 категории -  ['France' 'Spain' 'Germany']\n",
      "Gender :  2 категории -  ['Female' 'Male']\n",
      "NumOfProducts :  4 категории -  [1 3 2 4]\n",
      "HasCrCard :  2 категории -  [1 0]\n",
      "IsActiveMember :  2 категории -  [1 0]\n",
      "Exited :  2 категории -  [1 0]\n"
     ]
    }
   ],
   "source": [
    "#посмотрим на наши данные\n",
    "first_look (df)"
   ]
  },
  {
   "cell_type": "markdown",
   "metadata": {},
   "source": [
    "Из условий задачи мы знаем значение столбцов, а именно, <b>признаки</b>:\n",
    "\n",
    "•\tRowNumber — индекс строки в данных\n",
    "\n",
    "•\tCustomerId — уникальный идентификатор клиента\n",
    "\n",
    "•\tSurname — фамилия\n",
    "\n",
    "•\tCreditScore — кредитный рейтинг\n",
    "\n",
    "•\tGeography — страна проживания\n",
    "\n",
    "•\tGender — пол\n",
    "\n",
    "•\tAge — возраст\n",
    "\n",
    "•\tTenure — сколько лет человек является клиентом банка\n",
    "\n",
    "•\tBalance — баланс на счёте\n",
    "\n",
    "•\tNumOfProducts — количество продуктов банка, используемых клиентом\n",
    "\n",
    "•\tHasCrCard — наличие кредитной карты\n",
    "\n",
    "•\tIsActiveMember — активность клиента\n",
    "\n",
    "•\tEstimatedSalary — предполагаемая зарплата\n",
    "\n",
    "<b>Целевой признак:</b>\n",
    "\n",
    "•\tExited — факт ухода клиента"
   ]
  },
  {
   "cell_type": "markdown",
   "metadata": {},
   "source": [
    "Т.к. значения столбцов RowNumber, CustomerId и Surname смысловой нагрузки для решения нашей задачи не несут, ими можно пренебречь, а именно - удалить"
   ]
  },
  {
   "cell_type": "code",
   "execution_count": 5,
   "metadata": {},
   "outputs": [],
   "source": [
    "df = df.drop (['Surname', 'RowNumber', 'CustomerId'], axis=1)"
   ]
  },
  {
   "cell_type": "code",
   "execution_count": 6,
   "metadata": {},
   "outputs": [
    {
     "data": {
      "text/plain": [
       "0.20132013201320131"
      ]
     },
     "metadata": {},
     "output_type": "display_data"
    },
    {
     "data": {
      "text/plain": [
       "0.2039379606203938"
      ]
     },
     "metadata": {},
     "output_type": "display_data"
    }
   ],
   "source": [
    "#посчитаем процент ушедших клиентов с неуказанным сроком прибывания в банке в виде клиента (Tenure - не заполненно)\n",
    "display (df [df ['Tenure'].isna () == True]['Exited'].sum () / df [df ['Tenure'].isna () == True]['Exited'].count ())\n",
    "\n",
    "#посчитаем процент ушедших клиентов с указанным сроком прибывания в банке в виде клиента (Tenure - заполненно)\n",
    "display (df [df ['Tenure'].isna () == False]['Exited'].sum () / df [df ['Tenure'].isna () == False]['Exited'].count ())"
   ]
  },
  {
   "cell_type": "markdown",
   "metadata": {},
   "source": [
    "По имеющимся данным мы не можем сделать однозначного предположения о появлении пропусков в данных о том, сколько лет человек является клиентом банка. Данный вопрос необходимо уточнить, т.к. он может являться еще одним критерием для проверки предположений о потере либо нет клиента.\n",
    "\n",
    "На данный момент предположим, что пропуски в данных являются признаком новых клиентов, тем самым заполним их нулями, если же наше предположение в дальнейшем окажется ошибочным, пересчитаем полученные результаты в связи с вновь открывшимися обстоятельствами."
   ]
  },
  {
   "cell_type": "code",
   "execution_count": 7,
   "metadata": {},
   "outputs": [],
   "source": [
    "df ['Tenure'] = df ['Tenure'].fillna (0).astype ('int')"
   ]
  },
  {
   "cell_type": "markdown",
   "metadata": {},
   "source": [
    "Чтобы избежать попадание в дамми-ловушку нам необходимо перекодировать классы в столбцах Geography и Gender методом One-Hot Encoding"
   ]
  },
  {
   "cell_type": "code",
   "execution_count": 8,
   "metadata": {},
   "outputs": [
    {
     "data": {
      "text/html": [
       "<div>\n",
       "<style scoped>\n",
       "    .dataframe tbody tr th:only-of-type {\n",
       "        vertical-align: middle;\n",
       "    }\n",
       "\n",
       "    .dataframe tbody tr th {\n",
       "        vertical-align: top;\n",
       "    }\n",
       "\n",
       "    .dataframe thead th {\n",
       "        text-align: right;\n",
       "    }\n",
       "</style>\n",
       "<table border=\"1\" class=\"dataframe\">\n",
       "  <thead>\n",
       "    <tr style=\"text-align: right;\">\n",
       "      <th></th>\n",
       "      <th>CreditScore</th>\n",
       "      <th>Age</th>\n",
       "      <th>Tenure</th>\n",
       "      <th>Balance</th>\n",
       "      <th>NumOfProducts</th>\n",
       "      <th>HasCrCard</th>\n",
       "      <th>IsActiveMember</th>\n",
       "      <th>EstimatedSalary</th>\n",
       "      <th>Exited</th>\n",
       "      <th>Geography_Germany</th>\n",
       "      <th>Geography_Spain</th>\n",
       "      <th>Gender_Male</th>\n",
       "    </tr>\n",
       "  </thead>\n",
       "  <tbody>\n",
       "    <tr>\n",
       "      <td>0</td>\n",
       "      <td>619</td>\n",
       "      <td>42</td>\n",
       "      <td>2</td>\n",
       "      <td>0.00</td>\n",
       "      <td>1</td>\n",
       "      <td>1</td>\n",
       "      <td>1</td>\n",
       "      <td>101348.88</td>\n",
       "      <td>1</td>\n",
       "      <td>0</td>\n",
       "      <td>0</td>\n",
       "      <td>0</td>\n",
       "    </tr>\n",
       "    <tr>\n",
       "      <td>1</td>\n",
       "      <td>608</td>\n",
       "      <td>41</td>\n",
       "      <td>1</td>\n",
       "      <td>83807.86</td>\n",
       "      <td>1</td>\n",
       "      <td>0</td>\n",
       "      <td>1</td>\n",
       "      <td>112542.58</td>\n",
       "      <td>0</td>\n",
       "      <td>0</td>\n",
       "      <td>1</td>\n",
       "      <td>0</td>\n",
       "    </tr>\n",
       "    <tr>\n",
       "      <td>2</td>\n",
       "      <td>502</td>\n",
       "      <td>42</td>\n",
       "      <td>8</td>\n",
       "      <td>159660.80</td>\n",
       "      <td>3</td>\n",
       "      <td>1</td>\n",
       "      <td>0</td>\n",
       "      <td>113931.57</td>\n",
       "      <td>1</td>\n",
       "      <td>0</td>\n",
       "      <td>0</td>\n",
       "      <td>0</td>\n",
       "    </tr>\n",
       "    <tr>\n",
       "      <td>3</td>\n",
       "      <td>699</td>\n",
       "      <td>39</td>\n",
       "      <td>1</td>\n",
       "      <td>0.00</td>\n",
       "      <td>2</td>\n",
       "      <td>0</td>\n",
       "      <td>0</td>\n",
       "      <td>93826.63</td>\n",
       "      <td>0</td>\n",
       "      <td>0</td>\n",
       "      <td>0</td>\n",
       "      <td>0</td>\n",
       "    </tr>\n",
       "    <tr>\n",
       "      <td>4</td>\n",
       "      <td>850</td>\n",
       "      <td>43</td>\n",
       "      <td>2</td>\n",
       "      <td>125510.82</td>\n",
       "      <td>1</td>\n",
       "      <td>1</td>\n",
       "      <td>1</td>\n",
       "      <td>79084.10</td>\n",
       "      <td>0</td>\n",
       "      <td>0</td>\n",
       "      <td>1</td>\n",
       "      <td>0</td>\n",
       "    </tr>\n",
       "  </tbody>\n",
       "</table>\n",
       "</div>"
      ],
      "text/plain": [
       "   CreditScore  Age  Tenure    Balance  NumOfProducts  HasCrCard  \\\n",
       "0          619   42       2       0.00              1          1   \n",
       "1          608   41       1   83807.86              1          0   \n",
       "2          502   42       8  159660.80              3          1   \n",
       "3          699   39       1       0.00              2          0   \n",
       "4          850   43       2  125510.82              1          1   \n",
       "\n",
       "   IsActiveMember  EstimatedSalary  Exited  Geography_Germany  \\\n",
       "0               1        101348.88       1                  0   \n",
       "1               1        112542.58       0                  0   \n",
       "2               0        113931.57       1                  0   \n",
       "3               0         93826.63       0                  0   \n",
       "4               1         79084.10       0                  0   \n",
       "\n",
       "   Geography_Spain  Gender_Male  \n",
       "0                0            0  \n",
       "1                1            0  \n",
       "2                0            0  \n",
       "3                0            0  \n",
       "4                1            0  "
      ]
     },
     "execution_count": 8,
     "metadata": {},
     "output_type": "execute_result"
    }
   ],
   "source": [
    "df_ohe = pd.get_dummies (df, drop_first = True)\n",
    "df_ohe.head()"
   ]
  },
  {
   "cell_type": "markdown",
   "metadata": {},
   "source": [
    "Подготовим данные для дальнейших исследований, а именно:\n",
    "\n",
    "1. Сформируем из нашей выборки выборку с параментрами признаков и целевыми параметрами\n",
    "2. Разделим наши выборки на тренировочную, валидационную и тестовую в соотношениях 60:20:20"
   ]
  },
  {
   "cell_type": "code",
   "execution_count": 9,
   "metadata": {},
   "outputs": [],
   "source": [
    "#Сформируем параметры признаков и целевой признак\n",
    "features = df_ohe.drop (['Exited'], axis = 1)\n",
    "target = df_ohe ['Exited']"
   ]
  },
  {
   "cell_type": "code",
   "execution_count": 10,
   "metadata": {},
   "outputs": [
    {
     "name": "stdout",
     "output_type": "stream",
     "text": [
      "(6000, 11) (2000, 11) (2000, 11)\n",
      "(6000,) (2000,) (2000,)\n"
     ]
    }
   ],
   "source": [
    "#Разделим наши выборки на тренировочную, валидационную и тестовую в соотношениях 60:20:20\n",
    "features_train, features_valid, target_train, target_valid = train_test_split (features, target, test_size = 0.4, \n",
    "                                                                              random_state = 12345)\n",
    "features_valid, features_test, target_valid, target_test = train_test_split (features_valid, target_valid, test_size = 0.5, \n",
    "                                                                              random_state = 12345 )\n",
    "print (features_train.shape, features_valid.shape, features_test.shape)\n",
    "print(target_train.shape, target_valid.shape, target_test.shape)"
   ]
  },
  {
   "cell_type": "markdown",
   "metadata": {},
   "source": [
    "Т.к. у нас в столбцах 'CreditScore', 'Age', 'Tenure', 'Balance', 'NumOfProducts', 'EstimatedSalary' имеется разный масштаб представленных значений, нам необходимо их маштабировать. Применим один из методов масшабирования - стандартизация."
   ]
  },
  {
   "cell_type": "code",
   "execution_count": 11,
   "metadata": {},
   "outputs": [
    {
     "data": {
      "text/html": [
       "<div>\n",
       "<style scoped>\n",
       "    .dataframe tbody tr th:only-of-type {\n",
       "        vertical-align: middle;\n",
       "    }\n",
       "\n",
       "    .dataframe tbody tr th {\n",
       "        vertical-align: top;\n",
       "    }\n",
       "\n",
       "    .dataframe thead th {\n",
       "        text-align: right;\n",
       "    }\n",
       "</style>\n",
       "<table border=\"1\" class=\"dataframe\">\n",
       "  <thead>\n",
       "    <tr style=\"text-align: right;\">\n",
       "      <th></th>\n",
       "      <th>CreditScore</th>\n",
       "      <th>Age</th>\n",
       "      <th>Tenure</th>\n",
       "      <th>Balance</th>\n",
       "      <th>NumOfProducts</th>\n",
       "      <th>HasCrCard</th>\n",
       "      <th>IsActiveMember</th>\n",
       "      <th>EstimatedSalary</th>\n",
       "      <th>Geography_Germany</th>\n",
       "      <th>Geography_Spain</th>\n",
       "      <th>Gender_Male</th>\n",
       "    </tr>\n",
       "  </thead>\n",
       "  <tbody>\n",
       "    <tr>\n",
       "      <td>7479</td>\n",
       "      <td>-0.886751</td>\n",
       "      <td>-0.373192</td>\n",
       "      <td>1.104696</td>\n",
       "      <td>1.232271</td>\n",
       "      <td>-0.891560</td>\n",
       "      <td>1</td>\n",
       "      <td>0</td>\n",
       "      <td>-0.187705</td>\n",
       "      <td>0</td>\n",
       "      <td>1</td>\n",
       "      <td>1</td>\n",
       "    </tr>\n",
       "    <tr>\n",
       "      <td>3411</td>\n",
       "      <td>0.608663</td>\n",
       "      <td>-0.183385</td>\n",
       "      <td>1.104696</td>\n",
       "      <td>0.600563</td>\n",
       "      <td>-0.891560</td>\n",
       "      <td>0</td>\n",
       "      <td>0</td>\n",
       "      <td>-0.333945</td>\n",
       "      <td>0</td>\n",
       "      <td>0</td>\n",
       "      <td>0</td>\n",
       "    </tr>\n",
       "    <tr>\n",
       "      <td>6027</td>\n",
       "      <td>2.052152</td>\n",
       "      <td>0.480939</td>\n",
       "      <td>-0.503694</td>\n",
       "      <td>1.027098</td>\n",
       "      <td>0.830152</td>\n",
       "      <td>0</td>\n",
       "      <td>1</td>\n",
       "      <td>1.503095</td>\n",
       "      <td>1</td>\n",
       "      <td>0</td>\n",
       "      <td>1</td>\n",
       "    </tr>\n",
       "    <tr>\n",
       "      <td>1247</td>\n",
       "      <td>-1.457915</td>\n",
       "      <td>-1.417129</td>\n",
       "      <td>0.461340</td>\n",
       "      <td>-1.233163</td>\n",
       "      <td>0.830152</td>\n",
       "      <td>1</td>\n",
       "      <td>0</td>\n",
       "      <td>-1.071061</td>\n",
       "      <td>0</td>\n",
       "      <td>0</td>\n",
       "      <td>1</td>\n",
       "    </tr>\n",
       "    <tr>\n",
       "      <td>3716</td>\n",
       "      <td>0.130961</td>\n",
       "      <td>-1.132419</td>\n",
       "      <td>-0.825373</td>\n",
       "      <td>1.140475</td>\n",
       "      <td>-0.891560</td>\n",
       "      <td>0</td>\n",
       "      <td>0</td>\n",
       "      <td>1.524268</td>\n",
       "      <td>1</td>\n",
       "      <td>0</td>\n",
       "      <td>0</td>\n",
       "    </tr>\n",
       "  </tbody>\n",
       "</table>\n",
       "</div>"
      ],
      "text/plain": [
       "      CreditScore       Age    Tenure   Balance  NumOfProducts  HasCrCard  \\\n",
       "7479    -0.886751 -0.373192  1.104696  1.232271      -0.891560          1   \n",
       "3411     0.608663 -0.183385  1.104696  0.600563      -0.891560          0   \n",
       "6027     2.052152  0.480939 -0.503694  1.027098       0.830152          0   \n",
       "1247    -1.457915 -1.417129  0.461340 -1.233163       0.830152          1   \n",
       "3716     0.130961 -1.132419 -0.825373  1.140475      -0.891560          0   \n",
       "\n",
       "      IsActiveMember  EstimatedSalary  Geography_Germany  Geography_Spain  \\\n",
       "7479               0        -0.187705                  0                1   \n",
       "3411               0        -0.333945                  0                0   \n",
       "6027               1         1.503095                  1                0   \n",
       "1247               0        -1.071061                  0                0   \n",
       "3716               0         1.524268                  1                0   \n",
       "\n",
       "      Gender_Male  \n",
       "7479            1  \n",
       "3411            0  \n",
       "6027            1  \n",
       "1247            1  \n",
       "3716            0  "
      ]
     },
     "execution_count": 11,
     "metadata": {},
     "output_type": "execute_result"
    }
   ],
   "source": [
    "#Масштабируем численные признаки выборок для выравнивания весов\n",
    "numeric = ['CreditScore', 'Age', 'Tenure', 'Balance', 'NumOfProducts', 'EstimatedSalary']\n",
    "\n",
    "#Создадим объект этой структуры и настроим его на обучающих данных. Настройка — это вычисление среднего и дисперсии:\n",
    "scaler = StandardScaler()\n",
    "scaler.fit (features_train) \n",
    "\n",
    "#Преобразуем обучающую, валидационную и тестовые выборки функцией transform().\n",
    "scaler = StandardScaler ()\n",
    "scaler.fit (features_train [numeric])\n",
    "\n",
    "features_train [numeric] = scaler.transform (features_train [numeric])\n",
    "features_valid [numeric] = scaler.transform (features_valid [numeric])\n",
    "features_test [numeric] = scaler.transform (features_test [numeric])\n",
    "\n",
    "features_train.head()"
   ]
  },
  {
   "cell_type": "markdown",
   "metadata": {},
   "source": [
    "На данном этапе мы предобработали данные, а именно:\n",
    "\n",
    "1. Рассмотрели из чего состоят наши данные\n",
    "\n",
    "2. Нашли данные с пропусками и заменили пропучки\n",
    "\n",
    "3. Убедились в отсутствии дубликатов\n",
    "\n",
    "4. Выявили столбцы с категориальными признаками\n",
    "\n",
    "5. Избавились от столбцов с данными, которые для нас не представляют особого интереса и не повлияют на следующие модели\n",
    "\n",
    "6. Чтобы избежать попадание в дамми-ловушку перекодировали классы в столбцах Geography и Gender методом One-Hot Encoding\n",
    "\n",
    "7. Сформировали из нашей выборки выборку с параментрами признаков и целевыми параметрами\n",
    "\n",
    "8. Разделили наши выборки на тренировочную, валидационную и тестовую в соотношениях 60:20:20\n",
    "\n",
    "9. Маштабировали (стандартизировали) данные в столбцах 'CreditScore', 'Age', 'Tenure', 'Balance', 'NumOfProducts', 'EstimatedSalary' во всем наших выборках"
   ]
  },
  {
   "cell_type": "markdown",
   "metadata": {},
   "source": [
    "<a id=\"step_3\"></a>\n",
    "<b>Исследование задачи</b>"
   ]
  },
  {
   "cell_type": "markdown",
   "metadata": {},
   "source": [
    "Перед началом исследований нам необходимо проверить целевой параментр на дисбаланс классов, постоим график  количества ушедших к оставшимся клиентам"
   ]
  },
  {
   "cell_type": "code",
   "execution_count": 12,
   "metadata": {},
   "outputs": [],
   "source": [
    "#создадим табличку с нашими результатами\n",
    "data = {'model' : ['LogisticRegression', 'DecisionTreeClassifier', 'RandomForestClassifier'],\n",
    "                'disbalance' : [0, 0, 0],\n",
    "               'upsample' : [0, 0, 0],\n",
    "                'downsampled' : [0, 0, 0]}\n",
    "data_results = pd.DataFrame (data)"
   ]
  },
  {
   "cell_type": "code",
   "execution_count": 13,
   "metadata": {},
   "outputs": [
    {
     "name": "stdout",
     "output_type": "stream",
     "text": [
      "0    0.7963\n",
      "1    0.2037\n",
      "Name: Exited, dtype: float64\n"
     ]
    },
    {
     "data": {
      "text/plain": [
       "<matplotlib.axes._subplots.AxesSubplot at 0x7fc627fb6f90>"
      ]
     },
     "execution_count": 13,
     "metadata": {},
     "output_type": "execute_result"
    },
    {
     "data": {
      "image/png": "[encoded data removed]",
      "text/plain": [
       "<Figure size 432x288 with 1 Axes>"
      ]
     },
     "metadata": {
      "needs_background": "light"
     },
     "output_type": "display_data"
    }
   ],
   "source": [
    "class_frequency = df ['Exited'].value_counts (normalize = bool)\n",
    "print (class_frequency)\n",
    "class_frequency.plot (kind = 'bar', title = 'График количества ушедших к оставшимся клиентам')"
   ]
  },
  {
   "cell_type": "markdown",
   "metadata": {},
   "source": [
    "На лицо имеется явный дисбаланс классов, что плохо сказывается на обучении моделей, мы понимаем, что при обучении модель будет склоняться к распространненому варианту ответа - клиент остался, т.к. дисбаланс почти в 4 раза."
   ]
  },
  {
   "cell_type": "markdown",
   "metadata": {},
   "source": [
    "<b>Обучим и оценим метрики с помощью модели логистической регрессии </b>"
   ]
  },
  {
   "cell_type": "code",
   "execution_count": 14,
   "metadata": {},
   "outputs": [
    {
     "name": "stdout",
     "output_type": "stream",
     "text": [
      "Accuracy 0.8025\n",
      "Precision 0.5657142857142857\n",
      "Recall 0.23684210526315788\n",
      "F1 0.33389544688026984\n",
      "AUC-ROC 0.7586317967081824\n"
     ]
    }
   ],
   "source": [
    "model_LogisticRegression_DisbalanceClass =  LogisticRegression (random_state=12345, solver='liblinear')\n",
    "model_LogisticRegression_DisbalanceClass.fit (features_train, target_train)\n",
    "prediction = model_LogisticRegression_DisbalanceClass.predict (features_valid)\n",
    "\n",
    "print ('Accuracy', accuracy_score (target_valid, prediction))\n",
    "print ('Precision', precision_score (target_valid, prediction))\n",
    "print ('Recall', recall_score (target_valid, prediction))\n",
    "print ('F1', f1_score (target_valid, prediction))\n",
    "probabilities_valid = model_LogisticRegression_DisbalanceClass.predict_proba (features_valid)[:, 1]\n",
    "print (\"AUC-ROC\", roc_auc_score (target_valid, probabilities_valid))\n",
    "data_results.loc [0, 'disbalance'] = f1_score (target_valid, prediction)"
   ]
  },
  {
   "cell_type": "markdown",
   "metadata": {},
   "source": [
    "В данной модели значение полноты далеко отстаит от точности, что влияет на оценку агрегирующей метрики (F1) да и значение AUC-ROC далеко от идеала "
   ]
  },
  {
   "cell_type": "markdown",
   "metadata": {},
   "source": [
    "<b>Обучим и оценим метрики с помощью модели дерева решений</b>"
   ]
  },
  {
   "cell_type": "code",
   "execution_count": 15,
   "metadata": {},
   "outputs": [
    {
     "name": "stderr",
     "output_type": "stream",
     "text": [
      "/opt/conda/lib/python3.7/site-packages/sklearn/metrics/classification.py:1437: UndefinedMetricWarning: F-score is ill-defined and being set to 0.0 due to no predicted samples.\n",
      "  'precision', 'predicted', average, warn_for)\n"
     ]
    },
    {
     "name": "stdout",
     "output_type": "stream",
     "text": [
      "Best depth 9\n",
      "Accuracy 0.85\n",
      "Precision 0.7006802721088435\n",
      "Recall 0.49282296650717705\n",
      "F1 0.5786516853932585\n",
      "AUC-ROC 0.7899719632952051\n"
     ]
    }
   ],
   "source": [
    "#вычислим наиболее лучшую глубину\n",
    "best_f1 = 0\n",
    "best_depth = 0\n",
    "for depth in range(1, 20):\n",
    "    model_DecisionTreeClassifier_DisbalanceClass = DecisionTreeClassifier (random_state = 12345, max_depth = depth)\n",
    "    model_DecisionTreeClassifier_DisbalanceClass.fit (features_train, target_train)\n",
    "    prediction = model_DecisionTreeClassifier_DisbalanceClass.predict (features_valid)\n",
    "    f1 = f1_score (target_valid, prediction)\n",
    "    if f1 > best_f1:\n",
    "        best_f1 = f1\n",
    "        best_depth = depth\n",
    "\n",
    "#на основе вычислений лучшей глубины обучим модель\n",
    "model_DecisionTreeClassifier_DisbalanceClass = DecisionTreeClassifier (max_depth = best_depth, random_state = 12345)\n",
    "model_DecisionTreeClassifier_DisbalanceClass.fit (features_train, target_train)\n",
    "prediction = model_DecisionTreeClassifier_DisbalanceClass.predict (features_valid)\n",
    "\n",
    "#выведем результаты на экран\n",
    "print ('Best depth', best_depth)\n",
    "print ('Accuracy', accuracy_score (target_valid, prediction))\n",
    "print ('Precision', precision_score (target_valid, prediction))\n",
    "print ('Recall', recall_score (target_valid, prediction))\n",
    "print ('F1', f1_score (target_valid, prediction))\n",
    "probabilities_valid = model_DecisionTreeClassifier_DisbalanceClass.predict_proba (features_valid)[:, 1]\n",
    "print (\"AUC-ROC\", roc_auc_score(target_valid, probabilities_valid))\n",
    "data_results.loc [1, 'disbalance'] = f1_score (target_valid, prediction)"
   ]
  },
  {
   "cell_type": "markdown",
   "metadata": {},
   "source": [
    "В данной модели значение полноты далеко отстаит от точности, что влияет на оценку агрегирующей метрики (F1) да и значение AUC-ROC далеко от идеала, но уже дучше, чем с модель. логистической регрессии"
   ]
  },
  {
   "cell_type": "markdown",
   "metadata": {},
   "source": [
    "<b>Обучим и оценим метрики с помощью модели случайного леса</b>"
   ]
  },
  {
   "cell_type": "code",
   "execution_count": 16,
   "metadata": {},
   "outputs": [
    {
     "name": "stdout",
     "output_type": "stream",
     "text": [
      "Лучшее количество деревьев: 64 При лучшей глубине: 12 с лучшим результатов агрегирующей метрики (F1-score) 0.5905631659056315\n",
      "Accuracy 0.8655\n",
      "Precision 0.8117154811715481\n",
      "Recall 0.46411483253588515\n",
      "F1 0.5905631659056315\n",
      "AUC-ROC 0.8464188931701739\n"
     ]
    },
    {
     "data": {
      "text/html": [
       "<div>\n",
       "<style scoped>\n",
       "    .dataframe tbody tr th:only-of-type {\n",
       "        vertical-align: middle;\n",
       "    }\n",
       "\n",
       "    .dataframe tbody tr th {\n",
       "        vertical-align: top;\n",
       "    }\n",
       "\n",
       "    .dataframe thead th {\n",
       "        text-align: right;\n",
       "    }\n",
       "</style>\n",
       "<table border=\"1\" class=\"dataframe\">\n",
       "  <thead>\n",
       "    <tr style=\"text-align: right;\">\n",
       "      <th></th>\n",
       "      <th>model</th>\n",
       "      <th>disbalance</th>\n",
       "      <th>upsample</th>\n",
       "      <th>downsampled</th>\n",
       "    </tr>\n",
       "  </thead>\n",
       "  <tbody>\n",
       "    <tr>\n",
       "      <td>0</td>\n",
       "      <td>LogisticRegression</td>\n",
       "      <td>0.333895</td>\n",
       "      <td>0</td>\n",
       "      <td>0</td>\n",
       "    </tr>\n",
       "    <tr>\n",
       "      <td>1</td>\n",
       "      <td>DecisionTreeClassifier</td>\n",
       "      <td>0.578652</td>\n",
       "      <td>0</td>\n",
       "      <td>0</td>\n",
       "    </tr>\n",
       "    <tr>\n",
       "      <td>2</td>\n",
       "      <td>RandomForestClassifier</td>\n",
       "      <td>0.590563</td>\n",
       "      <td>0</td>\n",
       "      <td>0</td>\n",
       "    </tr>\n",
       "  </tbody>\n",
       "</table>\n",
       "</div>"
      ],
      "text/plain": [
       "                    model  disbalance  upsample  downsampled\n",
       "0      LogisticRegression    0.333895         0            0\n",
       "1  DecisionTreeClassifier    0.578652         0            0\n",
       "2  RandomForestClassifier    0.590563         0            0"
      ]
     },
     "metadata": {},
     "output_type": "display_data"
    }
   ],
   "source": [
    "best_f1 = 0\n",
    "best_estim = 0\n",
    "best_depth = 0\n",
    "\n",
    "for estim in range (60, 65):\n",
    "    for depth in range (10, 14):\n",
    "        model_RandomForestClassifier_DisbalanceClass = RandomForestClassifier (n_estimators = estim, max_depth = depth, random_state = 12345)\n",
    "        model_RandomForestClassifier_DisbalanceClass.fit (features_train, target_train)\n",
    "        prediction = model_RandomForestClassifier_DisbalanceClass.predict (features_valid)\n",
    "        f1 = f1_score (target_valid, prediction)\n",
    "        if f1 > best_f1:\n",
    "            best_f1 = f1\n",
    "            best_estim = estim\n",
    "            best_depth = depth\n",
    "        \n",
    "\n",
    "print('Лучшее количество деревьев:', best_estim, 'При лучшей глубине:', best_depth, 'с лучшим результатов агрегирующей метрики (F1-score)', best_f1)\n",
    "\n",
    "model_RandomForestClassifier_DisbalanceClass = RandomForestClassifier (n_estimators = best_estim, max_depth = best_depth, random_state = 12345)\n",
    "model_RandomForestClassifier_DisbalanceClass.fit (features_train, target_train)\n",
    "prediction = model_RandomForestClassifier_DisbalanceClass.predict (features_valid)\n",
    "print ('Accuracy', accuracy_score (target_valid, prediction))\n",
    "print ('Precision', precision_score (target_valid, prediction))\n",
    "print ('Recall', recall_score (target_valid, prediction))\n",
    "print ('F1', f1_score (target_valid, prediction))\n",
    "probabilities_valid = model_RandomForestClassifier_DisbalanceClass.predict_proba (features_valid)[:, 1]\n",
    "print (\"AUC-ROC\", roc_auc_score (target_valid, probabilities_valid))\n",
    "data_results.loc [2, 'disbalance'] = f1_score (target_valid, prediction)\n",
    "display (data_results)"
   ]
  },
  {
   "cell_type": "markdown",
   "metadata": {},
   "source": [
    "В данной модели значение полноты уже намного лучше сочетается с  точностью, что влияет на оценку агрегирующей метрики (F1) да и значение AUC-ROC приближается к 0,9."
   ]
  },
  {
   "cell_type": "markdown",
   "metadata": {},
   "source": [
    "При анализе наших обучений моделей разными методами можно сделать вывод о том, что из-за несбалансированности классов полнота отстоит от точности достаточно, что влияет на оценку агрегирующей метрики (F1), только модель со случайным лесом начинает приближаться к приемлимуму значению F1-меры и AUC-ROC."
   ]
  },
  {
   "cell_type": "markdown",
   "metadata": {},
   "source": [
    "<a id=\"step_4\"></a>\n",
    "<b>Борьба с дисбалансом</b>"
   ]
  },
  {
   "cell_type": "markdown",
   "metadata": {},
   "source": [
    "Попробуем увеличить нашу выборку для положительных решений, т.к. их доля мала по сравнению с отрицательными решениями и они перевешивают наши модели на свою сторону"
   ]
  },
  {
   "cell_type": "code",
   "execution_count": 17,
   "metadata": {},
   "outputs": [],
   "source": [
    "#напишем функцию увеличения выборки\n",
    "def upsample (features, target, repeat):\n",
    "    #разделим выборку по значениям целевых показателей\n",
    "    target_one = target [target == 1]\n",
    "    target_zero = target [target == 0]\n",
    "    features_one = features [target ==1]\n",
    "    features_zero  = features [target == 0]\n",
    "    \n",
    "    #увеличим и соединим обратно\n",
    "    features_upsample = pd.concat ([features_zero] + [features_one] * repeat)\n",
    "    target_upsample = pd.concat ([target_zero] + [target_one] * repeat)\n",
    "    \n",
    "    #перемешаем для более точного результата\n",
    "    features_upsample, target_upsample = shuffle (features_upsample, target_upsample, random_state = 12345)\n",
    "    \n",
    "    return features_upsample, target_upsample"
   ]
  },
  {
   "cell_type": "code",
   "execution_count": 18,
   "metadata": {},
   "outputs": [
    {
     "name": "stdout",
     "output_type": "stream",
     "text": [
      "4804\n",
      "4784\n"
     ]
    }
   ],
   "source": [
    "features_upsample, target_upsample = upsample (features_train, target_train, 4)\n",
    "\n",
    "features_zero = features_upsample [target_upsample == 0]\n",
    "features_one = features_upsample [target_upsample == 1]\n",
    "\n",
    "print(features_zero.shape[0])\n",
    "print(features_one.shape[0])"
   ]
  },
  {
   "cell_type": "markdown",
   "metadata": {},
   "source": [
    "<b>Обучим и оценим увеличенные метрики с помощью модели логистической регрессии</b>"
   ]
  },
  {
   "cell_type": "code",
   "execution_count": 19,
   "metadata": {},
   "outputs": [
    {
     "name": "stdout",
     "output_type": "stream",
     "text": [
      "F1 0.4888888888888888\n",
      "AUC-ROC 0.7634769748183815\n"
     ]
    }
   ],
   "source": [
    "model_LogisticRegression_UpsampleClass =  LogisticRegression (random_state = 12345, solver = 'liblinear')\n",
    "model_LogisticRegression_UpsampleClass.fit (features_upsample, target_upsample)\n",
    "prediction = model_LogisticRegression_UpsampleClass.predict (features_valid)\n",
    "\n",
    "print ('F1', f1_score (target_valid, prediction))\n",
    "probabilities_valid = model_LogisticRegression_UpsampleClass.predict_proba (features_valid)[:, 1]\n",
    "print (\"AUC-ROC\", roc_auc_score (target_valid, probabilities_valid))\n",
    "data_results.loc [0, 'upsample'] = f1_score (target_valid, prediction)\n",
    "fpr_LogisticRegression_UpsampleClass, tpr_LogisticRegression_UpsampleClass, thresholds = roc_curve (target_valid, probabilities_valid)"
   ]
  },
  {
   "cell_type": "markdown",
   "metadata": {},
   "source": [
    "<b>Обучим и оценим увеличенные метрики с помощью модели дерева решений</b>"
   ]
  },
  {
   "cell_type": "code",
   "execution_count": 20,
   "metadata": {},
   "outputs": [
    {
     "name": "stdout",
     "output_type": "stream",
     "text": [
      "Best depth 5\n",
      "F1 0.5963791267305644\n",
      "AUC-ROC 0.8310244134068074\n"
     ]
    }
   ],
   "source": [
    "#вычислим наиболее лучшую глубину\n",
    "best_f1 = 0\n",
    "best_depth = 0\n",
    "for depth in range(1, 20):\n",
    "    model_DecisionTreeClassifier_UpsampleClass = DecisionTreeClassifier (random_state = 12345, max_depth = depth)\n",
    "    model_DecisionTreeClassifier_UpsampleClass.fit (features_upsample, target_upsample)\n",
    "    prediction = model_DecisionTreeClassifier_UpsampleClass.predict (features_valid)\n",
    "    f1 = f1_score (target_valid, prediction)\n",
    "    if f1 > best_f1:\n",
    "        best_f1 = f1\n",
    "        best_depth = depth\n",
    "print ('Best depth', best_depth)\n",
    "#на основе вычислений лучшей глубины обучим модель\n",
    "model_DecisionTreeClassifier_UpsampleClass = DecisionTreeClassifier (max_depth = best_depth, random_state = 12345)\n",
    "model_DecisionTreeClassifier_UpsampleClass.fit (features_upsample, target_upsample)\n",
    "prediction = model_DecisionTreeClassifier_UpsampleClass.predict (features_valid)\n",
    "\n",
    "#выведем результаты на экран\n",
    "print ('F1', f1_score (target_valid, prediction))\n",
    "probabilities_valid = model_DecisionTreeClassifier_UpsampleClass.predict_proba (features_valid)[:, 1]\n",
    "print (\"AUC-ROC\", roc_auc_score(target_valid, probabilities_valid))\n",
    "data_results.loc [1, 'upsample'] = f1_score (target_valid, prediction)\n",
    "fpr_DecisionTreeClassifier_UpsampleClass, tpr_DecisionTreeClassifier_UpsampleClass, thresholds = roc_curve (target_valid, probabilities_valid)"
   ]
  },
  {
   "cell_type": "markdown",
   "metadata": {},
   "source": [
    "<b>Обучим и оценим увеличенные метрики с помощью модели случайного леса</b>"
   ]
  },
  {
   "cell_type": "code",
   "execution_count": 21,
   "metadata": {},
   "outputs": [
    {
     "name": "stdout",
     "output_type": "stream",
     "text": [
      "Лучшее количество деревьев: 62 При лучшей глубине: 13 с лучшим результатов агрегирующей метрики (F1-score) 0.6310679611650486\n",
      "F1 0.6310679611650486\n",
      "AUC-ROC 0.8449459832203193\n"
     ]
    },
    {
     "data": {
      "text/html": [
       "<div>\n",
       "<style scoped>\n",
       "    .dataframe tbody tr th:only-of-type {\n",
       "        vertical-align: middle;\n",
       "    }\n",
       "\n",
       "    .dataframe tbody tr th {\n",
       "        vertical-align: top;\n",
       "    }\n",
       "\n",
       "    .dataframe thead th {\n",
       "        text-align: right;\n",
       "    }\n",
       "</style>\n",
       "<table border=\"1\" class=\"dataframe\">\n",
       "  <thead>\n",
       "    <tr style=\"text-align: right;\">\n",
       "      <th></th>\n",
       "      <th>model</th>\n",
       "      <th>disbalance</th>\n",
       "      <th>upsample</th>\n",
       "      <th>downsampled</th>\n",
       "    </tr>\n",
       "  </thead>\n",
       "  <tbody>\n",
       "    <tr>\n",
       "      <td>0</td>\n",
       "      <td>LogisticRegression</td>\n",
       "      <td>0.333895</td>\n",
       "      <td>0.488889</td>\n",
       "      <td>0</td>\n",
       "    </tr>\n",
       "    <tr>\n",
       "      <td>1</td>\n",
       "      <td>DecisionTreeClassifier</td>\n",
       "      <td>0.578652</td>\n",
       "      <td>0.596379</td>\n",
       "      <td>0</td>\n",
       "    </tr>\n",
       "    <tr>\n",
       "      <td>2</td>\n",
       "      <td>RandomForestClassifier</td>\n",
       "      <td>0.590563</td>\n",
       "      <td>0.631068</td>\n",
       "      <td>0</td>\n",
       "    </tr>\n",
       "  </tbody>\n",
       "</table>\n",
       "</div>"
      ],
      "text/plain": [
       "                    model  disbalance  upsample  downsampled\n",
       "0      LogisticRegression    0.333895  0.488889            0\n",
       "1  DecisionTreeClassifier    0.578652  0.596379            0\n",
       "2  RandomForestClassifier    0.590563  0.631068            0"
      ]
     },
     "metadata": {},
     "output_type": "display_data"
    }
   ],
   "source": [
    "best_f1 = 0\n",
    "best_estim = 0\n",
    "best_depth = 0\n",
    "\n",
    "#for estim in range (10, 160, 10):\n",
    "#    for depth in range (1, 20):\n",
    "for estim in range (60, 65):\n",
    "    for depth in range (11, 15):\n",
    "        model_RandomForestClassifier_UpsampleClass = RandomForestClassifier (n_estimators = estim, max_depth = depth, random_state = 12345)\n",
    "        model_RandomForestClassifier_UpsampleClass.fit (features_upsample, target_upsample)\n",
    "        prediction = model_RandomForestClassifier_UpsampleClass.predict (features_valid)\n",
    "        f1 = f1_score (target_valid, prediction)\n",
    "        if f1 > best_f1:\n",
    "            best_f1 = f1\n",
    "            best_estim = estim\n",
    "            best_depth = depth\n",
    "        \n",
    "\n",
    "print('Лучшее количество деревьев:', best_estim, 'При лучшей глубине:', best_depth, 'с лучшим результатов агрегирующей метрики (F1-score)', best_f1)\n",
    "\n",
    "model_RandomForestClassifier_UpsampleClass = RandomForestClassifier (n_estimators = best_estim, max_depth = best_depth, random_state = 12345)\n",
    "model_RandomForestClassifier_UpsampleClass.fit (features_upsample, target_upsample)\n",
    "prediction = model_RandomForestClassifier_UpsampleClass.predict (features_valid)\n",
    "\n",
    "print ('F1', f1_score (target_valid, prediction))\n",
    "probabilities_valid = model_RandomForestClassifier_UpsampleClass.predict_proba (features_valid)[:, 1]\n",
    "print (\"AUC-ROC\", roc_auc_score (target_valid, probabilities_valid))\n",
    "data_results.loc [2, 'upsample'] = f1_score (target_valid, prediction)\n",
    "fpr_RandomForestClassifier_UpsampleClass, tpr_RandomForestClassifier_UpsampleClass, thresholds = roc_curve (target_valid, probabilities_valid)\n",
    "display (data_results)"
   ]
  },
  {
   "cell_type": "markdown",
   "metadata": {},
   "source": [
    "Попробуем уменьшить нашу выборку для отрицательных решений, т.к. их доля велика по сравнению с отрицательными решениями и они перевешивают наши модели на свою сторону"
   ]
  },
  {
   "cell_type": "code",
   "execution_count": 22,
   "metadata": {},
   "outputs": [],
   "source": [
    "#напишем функцию уменьшения выборки\n",
    "def downsample (features, target, fraction):\n",
    "    features_zero = features[target == 0]\n",
    "    features_one = features[target == 1]\n",
    "    target_zero = target[target == 0]\n",
    "    target_one = target[target == 1]\n",
    "    #уменьшим и соединим обратно\n",
    "    features_downsampled = pd.concat(\n",
    "            [features_zero.sample (frac = fraction, random_state = 12345)] + [features_one])\n",
    "    \n",
    "    target_downsampled = pd.concat(\n",
    "            [target_zero.sample (frac = fraction, random_state = 12345)] + [target_one])\n",
    "\n",
    "    #пеермешаем наши объекты\n",
    "    features_downsampled, target_downsampled = shuffle (features_downsampled, target_downsampled, random_state = 12345)\n",
    "    return features_downsampled, target_downsampled"
   ]
  },
  {
   "cell_type": "code",
   "execution_count": 23,
   "metadata": {},
   "outputs": [
    {
     "name": "stdout",
     "output_type": "stream",
     "text": [
      "1201\n",
      "1196\n"
     ]
    }
   ],
   "source": [
    "features_downsampled, target_downsampled = downsample (features_train, target_train, 0.25)\n",
    "\n",
    "features_zero = features_downsampled [target_downsampled == 0]\n",
    "features_one = features_downsampled [target_downsampled == 1]\n",
    "\n",
    "print(features_zero.shape[0])\n",
    "print(features_one.shape[0])"
   ]
  },
  {
   "cell_type": "markdown",
   "metadata": {},
   "source": [
    "<b>Обучим и оценим уменьшеной метрики с помощью модели логистической регрессии</b>"
   ]
  },
  {
   "cell_type": "code",
   "execution_count": 24,
   "metadata": {},
   "outputs": [
    {
     "name": "stdout",
     "output_type": "stream",
     "text": [
      "F1 0.4892703862660944\n",
      "AUC-ROC 0.762673981816972\n"
     ]
    }
   ],
   "source": [
    "model_LogisticRegression_DownsampledClass =  LogisticRegression (random_state=12345, solver='liblinear')\n",
    "model_LogisticRegression_DownsampledClass.fit (features_downsampled, target_downsampled)\n",
    "prediction = model_LogisticRegression_DownsampledClass.predict (features_valid)\n",
    "\n",
    "print ('F1', f1_score (target_valid, prediction))\n",
    "probabilities_valid = model_LogisticRegression_DownsampledClass.predict_proba (features_valid)[:, 1]\n",
    "print (\"AUC-ROC\", roc_auc_score (target_valid, probabilities_valid))\n",
    "data_results.loc [0, 'downsampled'] = f1_score (target_valid, prediction)"
   ]
  },
  {
   "cell_type": "markdown",
   "metadata": {},
   "source": [
    "<b>Обучим и оценим уменьшеной метрики с помощью модели дерева решений</b>"
   ]
  },
  {
   "cell_type": "code",
   "execution_count": 25,
   "metadata": {},
   "outputs": [
    {
     "name": "stdout",
     "output_type": "stream",
     "text": [
      "Best depth 5\n",
      "F1 0.5931174089068827\n",
      "AUC-ROC 0.82291433531536\n"
     ]
    }
   ],
   "source": [
    "#вычислим наиболее лучшую глубину\n",
    "best_f1 = 0\n",
    "best_depth = 0\n",
    "for depth in range(1, 20):\n",
    "    model_DecisionTreeClassifier_DownsampledClass = DecisionTreeClassifier (random_state = 12345, max_depth = depth)\n",
    "    model_DecisionTreeClassifier_DownsampledClass.fit (features_downsampled, target_downsampled)\n",
    "    prediction = model_DecisionTreeClassifier_DownsampledClass.predict (features_valid)\n",
    "    f1 = f1_score (target_valid, prediction)\n",
    "    if f1 > best_f1:\n",
    "        best_f1 = f1\n",
    "        best_depth = depth\n",
    "print ('Best depth', best_depth)\n",
    "\n",
    "#на основе вычислений лучшей глубины обучим модель\n",
    "model_DecisionTreeClassifier_DownsampledClass = DecisionTreeClassifier (max_depth = best_depth, random_state = 12345)\n",
    "model_DecisionTreeClassifier_DownsampledClass.fit (features_downsampled, target_downsampled)\n",
    "prediction = model_DecisionTreeClassifier_DownsampledClass.predict (features_valid)\n",
    "\n",
    "#выведем результаты на экран\n",
    "print ('F1', f1_score (target_valid, prediction))\n",
    "probabilities_valid = model_DecisionTreeClassifier_DownsampledClass.predict_proba (features_valid)[:, 1]\n",
    "print (\"AUC-ROC\", roc_auc_score(target_valid, probabilities_valid))\n",
    "data_results.loc [1, 'downsampled'] = f1_score (target_valid, prediction)"
   ]
  },
  {
   "cell_type": "markdown",
   "metadata": {},
   "source": [
    "<b>Обучим и оценим уменьшеной метрики с помощью модели случайного леса</b>"
   ]
  },
  {
   "cell_type": "code",
   "execution_count": 26,
   "metadata": {},
   "outputs": [
    {
     "name": "stdout",
     "output_type": "stream",
     "text": [
      "Лучшее количество деревьев: 62 При лучшей глубине: 9 с лучшим результатов агрегирующей метрики (F1-score) 0.5943396226415094\n",
      "F1 0.5943396226415094\n",
      "AUC-ROC 0.8473980607189736\n"
     ]
    },
    {
     "data": {
      "text/html": [
       "<div>\n",
       "<style scoped>\n",
       "    .dataframe tbody tr th:only-of-type {\n",
       "        vertical-align: middle;\n",
       "    }\n",
       "\n",
       "    .dataframe tbody tr th {\n",
       "        vertical-align: top;\n",
       "    }\n",
       "\n",
       "    .dataframe thead th {\n",
       "        text-align: right;\n",
       "    }\n",
       "</style>\n",
       "<table border=\"1\" class=\"dataframe\">\n",
       "  <thead>\n",
       "    <tr style=\"text-align: right;\">\n",
       "      <th></th>\n",
       "      <th>model</th>\n",
       "      <th>disbalance</th>\n",
       "      <th>upsample</th>\n",
       "      <th>downsampled</th>\n",
       "    </tr>\n",
       "  </thead>\n",
       "  <tbody>\n",
       "    <tr>\n",
       "      <td>0</td>\n",
       "      <td>LogisticRegression</td>\n",
       "      <td>0.333895</td>\n",
       "      <td>0.488889</td>\n",
       "      <td>0.489270</td>\n",
       "    </tr>\n",
       "    <tr>\n",
       "      <td>1</td>\n",
       "      <td>DecisionTreeClassifier</td>\n",
       "      <td>0.578652</td>\n",
       "      <td>0.596379</td>\n",
       "      <td>0.593117</td>\n",
       "    </tr>\n",
       "    <tr>\n",
       "      <td>2</td>\n",
       "      <td>RandomForestClassifier</td>\n",
       "      <td>0.590563</td>\n",
       "      <td>0.631068</td>\n",
       "      <td>0.594340</td>\n",
       "    </tr>\n",
       "  </tbody>\n",
       "</table>\n",
       "</div>"
      ],
      "text/plain": [
       "                    model  disbalance  upsample  downsampled\n",
       "0      LogisticRegression    0.333895  0.488889     0.489270\n",
       "1  DecisionTreeClassifier    0.578652  0.596379     0.593117\n",
       "2  RandomForestClassifier    0.590563  0.631068     0.594340"
      ]
     },
     "metadata": {},
     "output_type": "display_data"
    }
   ],
   "source": [
    "best_f1 = 0\n",
    "best_estim = 0\n",
    "best_depth = 0\n",
    "\n",
    "for estim in range (60, 65):\n",
    "    for depth in range (7, 11):\n",
    "        model_RandomForestClassifier_DownsampledClass = RandomForestClassifier (n_estimators = estim, max_depth = depth, random_state = 12345)\n",
    "        model_RandomForestClassifier_DownsampledClass.fit (features_downsampled, target_downsampled)\n",
    "        prediction = model_RandomForestClassifier_DownsampledClass.predict (features_valid)\n",
    "        f1 = f1_score (target_valid, prediction)\n",
    "        if f1 > best_f1:\n",
    "            best_f1 = f1\n",
    "            best_estim = estim\n",
    "            best_depth = depth\n",
    "        \n",
    "\n",
    "print('Лучшее количество деревьев:', best_estim, 'При лучшей глубине:', best_depth, 'с лучшим результатов агрегирующей метрики (F1-score)', best_f1)\n",
    "\n",
    "model_RandomForestClassifier_DownsampledClass = RandomForestClassifier (n_estimators = best_estim, max_depth = best_depth, random_state = 12345)\n",
    "model_RandomForestClassifier_DownsampledClass.fit (features_downsampled, target_downsampled)\n",
    "prediction = model_RandomForestClassifier_DownsampledClass.predict (features_valid)\n",
    "\n",
    "print ('F1', f1_score (target_valid, prediction))\n",
    "probabilities_valid = model_RandomForestClassifier_DownsampledClass.predict_proba (features_valid)[:, 1]\n",
    "print (\"AUC-ROC\", roc_auc_score (target_valid, probabilities_valid))\n",
    "data_results.loc [2, 'downsampled'] = f1_score (target_valid, prediction)\n",
    "display (data_results)"
   ]
  },
  {
   "cell_type": "markdown",
   "metadata": {},
   "source": [
    "Посмотрим на распределение графиков ROC-кривой для наших моделей относительно случайной"
   ]
  },
  {
   "cell_type": "code",
   "execution_count": 27,
   "metadata": {},
   "outputs": [
    {
     "data": {
      "text/plain": [
       "<Figure size 432x288 with 0 Axes>"
      ]
     },
     "metadata": {},
     "output_type": "display_data"
    },
    {
     "data": {
      "image/png": "[encoded data removed]",
      "text/plain": [
       "<Figure size 720x504 with 1 Axes>"
      ]
     },
     "metadata": {
      "needs_background": "light"
     },
     "output_type": "display_data"
    }
   ],
   "source": [
    "plt.figure()\n",
    "\n",
    "plt.figure(figsize=(10,7))\n",
    "plt.plot([0, 1], [0, 1], linestyle='--')\n",
    "plt.xlim([0.0, 1.0])\n",
    "plt.ylim([0.0, 1.0])\n",
    "plt.plot(fpr_RandomForestClassifier_UpsampleClass,tpr_RandomForestClassifier_UpsampleClass)\n",
    "plt.plot(fpr_LogisticRegression_UpsampleClass,tpr_LogisticRegression_UpsampleClass)\n",
    "plt.plot(fpr_DecisionTreeClassifier_UpsampleClass,tpr_DecisionTreeClassifier_UpsampleClass)\n",
    "\n",
    "plt.xlabel('False Positive Rate')\n",
    "plt.ylabel('True Positive Rate')\n",
    "plt.title('ROC-кривая')\n",
    "plt.legend(('Случайная модель','Модель случайного леса','Модель логистической регрессии','Модель дерева решений'),\n",
    "           loc= 'upper left') \n",
    "plt.show()"
   ]
  },
  {
   "cell_type": "markdown",
   "metadata": {},
   "source": [
    "В результате проведенных экспериментов удалось добиться значение F1 > 0,59 на моделях дерева решений при нормализации выборок путем увеличения и уменьшения отрицательных признаков, а также на модели случайного дерева при любой выборке.\n",
    "\n",
    "Для закрепления результата необходимо обкатать данные модели на тестовой выборке и проверить их на адекватность."
   ]
  },
  {
   "cell_type": "markdown",
   "metadata": {},
   "source": [
    "<a id=\"step_5\"></a>\n",
    "<b>Тестирование модели</b>"
   ]
  },
  {
   "cell_type": "markdown",
   "metadata": {},
   "source": [
    "Проверим нашу наилучшую модель (модель случайного дерева) на тестовой выборке.\n",
    "\n",
    "Для этого совместим тренировочную и валидационную выборки вместе, обучим на совмещенной и проверим на тестовой"
   ]
  },
  {
   "cell_type": "code",
   "execution_count": 28,
   "metadata": {},
   "outputs": [],
   "source": [
    "features = pd.concat ([features_train] + [features_valid])\n",
    "target = pd.concat ([target_train] + [target_valid])"
   ]
  },
  {
   "cell_type": "code",
   "execution_count": 32,
   "metadata": {},
   "outputs": [
    {
     "name": "stdout",
     "output_type": "stream",
     "text": [
      "F1 0.6139088729016786\n",
      "AUC-ROC 0.8541174777497447\n"
     ]
    }
   ],
   "source": [
    "prediction = model_RandomForestClassifier_UpsampleClass.predict (features_test)\n",
    "\n",
    "print ('F1', f1_score (target_test, prediction))\n",
    "probabilities_test = model_RandomForestClassifier_UpsampleClass.predict_proba (features_test)[:, 1]\n",
    "fpr, tpr, thresholds = roc_curve (target_test, probabilities_test)\n",
    "print (\"AUC-ROC\", roc_auc_score (target_test, probabilities_test))"
   ]
  },
  {
   "cell_type": "markdown",
   "metadata": {},
   "source": [
    "Модель случайного леса с подобранными заранее гиперпараметрами на увеличенной выборке положительного клаcса показала себя успешнее всего и дала нам результат F1 0.6139088729016786 при AUC-ROC 0.8541174777497447\n",
    "\n",
    "Данное уже лишнее:\n",
    "\n",
    "#При переобучении данной модели на объединенной выборке с перебором гиперпараметров, данная модель показала себя также адекватно #и дала нам результат F1 0.6077348066298343 при AUC-ROC 0.8563706112242925"
   ]
  },
  {
   "cell_type": "code",
   "execution_count": 33,
   "metadata": {},
   "outputs": [
    {
     "data": {
      "text/plain": [
       "<Figure size 432x288 with 0 Axes>"
      ]
     },
     "metadata": {},
     "output_type": "display_data"
    },
    {
     "data": {
      "image/png": "[encoded data removed]",
      "text/plain": [
       "<Figure size 720x504 with 1 Axes>"
      ]
     },
     "metadata": {
      "needs_background": "light"
     },
     "output_type": "display_data"
    }
   ],
   "source": [
    "plt.figure()\n",
    "\n",
    "plt.figure(figsize=(10,7))\n",
    "plt.plot([0, 1], [0, 1], linestyle='--')\n",
    "plt.xlim([0.0, 1.0])\n",
    "plt.ylim([0.0, 1.0])\n",
    "plt.plot(fpr,tpr)\n",
    "plt.xlabel('False Positive Rate')\n",
    "plt.ylabel('True Positive Rate')\n",
    "plt.title('ROC-кривая')\n",
    "plt.legend(('Случайная модель','Тестируемая модель'),\n",
    "           loc= 'upper left') \n",
    "plt.show()"
   ]
  },
  {
   "cell_type": "markdown",
   "metadata": {},
   "source": [
    "По графику ROC-кривой мы также видим, что наша модель успешно справляется в сравнении со случайной моделью.\n",
    "\n",
    "Проверим нашу модель на адекватность.\n",
    "\n",
    "Для этого сравним ее показатели с базовой моделью."
   ]
  },
  {
   "cell_type": "code",
   "execution_count": 36,
   "metadata": {},
   "outputs": [
    {
     "name": "stdout",
     "output_type": "stream",
     "text": [
      "F1 0.19664268585131892\n",
      "AUC-ROC 0.5073852708332396\n"
     ]
    }
   ],
   "source": [
    "#посмотрим результаты на базовой моделе\n",
    "model_DummyClassifier = DummyClassifier (random_state = 12345)\n",
    "model_DummyClassifier.fit (features, target)\n",
    "prediction = model_DummyClassifier.predict (features_test)\n",
    "\n",
    "print ('F1', f1_score (target_test, prediction))\n",
    "probabilities_test = model_DummyClassifier.predict_proba (features_test)[:, 0]\n",
    "print (\"AUC-ROC\", roc_auc_score (target_test, probabilities_test))"
   ]
  },
  {
   "cell_type": "markdown",
   "metadata": {},
   "source": [
    "При проверке на адекватность наша модель показала себя более чем адекватно. Показатели F1 и AUC-ROC более чем наглядно это показывают."
   ]
  },
  {
   "cell_type": "markdown",
   "metadata": {},
   "source": [
    "<a id=\"step_6\"></a>\n",
    "<b>Общий вывод</b>"
   ]
  },
  {
   "cell_type": "markdown",
   "metadata": {},
   "source": [
    "По результатам проделанной работы можем рекомендовать для прогнозирования оттока клиентов модель случайного леса, обученной на увеличенной положительной выборке.\n",
    "\n",
    "На проверочных (тестовых) данных она показала себя более чем адекватно при:\n",
    "F1 0.6139088729016786\n",
    "AUC-ROC 0.8541174777497447"
   ]
  },
  {
   "cell_type": "markdown",
   "metadata": {},
   "source": [
    "## Чек-лист готовности проекта"
   ]
  },
  {
   "cell_type": "markdown",
   "metadata": {},
   "source": [
    "Поставьте 'x' в выполненных пунктах. Далее нажмите Shift+Enter."
   ]
  },
  {
   "cell_type": "markdown",
   "metadata": {},
   "source": [
    "- [x]  Jupyter Notebook открыт\n",
    "- [x]  Весь код выполняется без ошибок\n",
    "- [x]  Ячейки с кодом расположены в порядке исполнения\n",
    "- [x]  Выполнен шаг 1: данные подготовлены\n",
    "- [x]  Выполнен шаг 2: задача исследована\n",
    "    - [x]  Исследован баланс классов\n",
    "    - [x]  Изучены модели без учёта дисбаланса\n",
    "    - [x]  Написаны выводы по результатам исследования\n",
    "- [x]  Выполнен шаг 3: учтён дисбаланс\n",
    "    - [x]  Применено несколько способов борьбы с дисбалансом\n",
    "    - [x]  Написаны выводы по результатам исследования\n",
    "- [x]  Выполнен шаг 4: проведено тестирование\n",
    "- [x]  Удалось достичь *F1*-меры не менее 0.59\n",
    "- [x]  Исследована метрика *AUC-ROC*"
   ]
  }
 ],
 "metadata": {
  "ExecuteTimeLog": [
   {
    "duration": 1133,
    "start_time": "2022-02-27T20:21:28.477Z"
   },
   {
    "duration": 4372,
    "start_time": "2022-02-27T20:21:59.595Z"
   },
   {
    "duration": 4327,
    "start_time": "2022-02-27T20:22:55.671Z"
   },
   {
    "duration": 4329,
    "start_time": "2022-02-27T20:23:10.748Z"
   },
   {
    "duration": 4514,
    "start_time": "2022-02-27T20:23:21.949Z"
   },
   {
    "duration": 4079,
    "start_time": "2022-02-27T20:23:33.829Z"
   },
   {
    "duration": 3,
    "start_time": "2022-02-28T05:32:20.519Z"
   },
   {
    "duration": 25,
    "start_time": "2022-02-28T05:32:22.235Z"
   },
   {
    "duration": 1074,
    "start_time": "2022-02-28T05:47:47.316Z"
   },
   {
    "duration": 37,
    "start_time": "2022-02-28T05:47:48.392Z"
   },
   {
    "duration": 7,
    "start_time": "2022-02-28T05:47:48.431Z"
   },
   {
    "duration": 41,
    "start_time": "2022-02-28T05:47:48.440Z"
   },
   {
    "duration": 4,
    "start_time": "2022-02-28T05:47:48.482Z"
   },
   {
    "duration": 20,
    "start_time": "2022-02-28T05:47:48.487Z"
   },
   {
    "duration": 4,
    "start_time": "2022-02-28T05:47:48.508Z"
   },
   {
    "duration": 17,
    "start_time": "2022-02-28T05:47:48.514Z"
   },
   {
    "duration": 4,
    "start_time": "2022-02-28T05:47:48.533Z"
   },
   {
    "duration": 8,
    "start_time": "2022-02-28T05:47:48.539Z"
   },
   {
    "duration": 62,
    "start_time": "2022-02-28T05:47:48.548Z"
   },
   {
    "duration": 3,
    "start_time": "2022-02-28T05:47:48.612Z"
   },
   {
    "duration": 147,
    "start_time": "2022-02-28T05:47:48.617Z"
   },
   {
    "duration": 44,
    "start_time": "2022-02-28T05:47:48.766Z"
   },
   {
    "duration": 506,
    "start_time": "2022-02-28T05:47:48.902Z"
   },
   {
    "duration": 7031,
    "start_time": "2022-02-28T05:47:49.410Z"
   },
   {
    "duration": 4,
    "start_time": "2022-02-28T05:47:56.443Z"
   },
   {
    "duration": 17,
    "start_time": "2022-02-28T05:47:56.449Z"
   },
   {
    "duration": 137,
    "start_time": "2022-02-28T05:47:56.467Z"
   },
   {
    "duration": 701,
    "start_time": "2022-02-28T05:47:56.606Z"
   },
   {
    "duration": 10157,
    "start_time": "2022-02-28T05:47:57.308Z"
   },
   {
    "duration": 3,
    "start_time": "2022-02-28T05:48:07.467Z"
   },
   {
    "duration": 15,
    "start_time": "2022-02-28T05:48:07.472Z"
   },
   {
    "duration": 113,
    "start_time": "2022-02-28T05:48:07.489Z"
   },
   {
    "duration": 290,
    "start_time": "2022-02-28T05:48:07.604Z"
   },
   {
    "duration": 3583,
    "start_time": "2022-02-28T05:48:07.896Z"
   },
   {
    "duration": 233,
    "start_time": "2022-02-28T05:48:11.481Z"
   },
   {
    "duration": 4,
    "start_time": "2022-02-28T05:48:11.716Z"
   },
   {
    "duration": 49,
    "start_time": "2022-02-28T05:48:11.722Z"
   },
   {
    "duration": 11575,
    "start_time": "2022-02-28T05:48:11.773Z"
   },
   {
    "duration": 219,
    "start_time": "2022-02-28T05:48:23.350Z"
   },
   {
    "duration": 4,
    "start_time": "2022-02-28T06:32:46.054Z"
   },
   {
    "duration": 11,
    "start_time": "2022-02-28T06:35:38.880Z"
   },
   {
    "duration": 4,
    "start_time": "2022-03-01T06:01:57.393Z"
   },
   {
    "duration": 293,
    "start_time": "2022-03-01T06:04:01.946Z"
   },
   {
    "duration": 1492,
    "start_time": "2022-03-01T06:04:18.646Z"
   },
   {
    "duration": 37,
    "start_time": "2022-03-01T06:04:20.141Z"
   },
   {
    "duration": 11,
    "start_time": "2022-03-01T06:04:20.183Z"
   },
   {
    "duration": 93,
    "start_time": "2022-03-01T06:04:20.197Z"
   },
   {
    "duration": 7,
    "start_time": "2022-03-01T06:04:20.293Z"
   },
   {
    "duration": 17,
    "start_time": "2022-03-01T06:04:20.302Z"
   },
   {
    "duration": 6,
    "start_time": "2022-03-01T06:04:20.323Z"
   },
   {
    "duration": 68,
    "start_time": "2022-03-01T06:04:20.332Z"
   },
   {
    "duration": 7,
    "start_time": "2022-03-01T06:04:20.403Z"
   },
   {
    "duration": 16,
    "start_time": "2022-03-01T06:04:20.412Z"
   },
   {
    "duration": 83,
    "start_time": "2022-03-01T06:04:20.431Z"
   },
   {
    "duration": 6,
    "start_time": "2022-03-01T06:04:20.516Z"
   },
   {
    "duration": 278,
    "start_time": "2022-03-01T06:04:20.525Z"
   },
   {
    "duration": 170,
    "start_time": "2022-03-01T06:04:20.805Z"
   },
   {
    "duration": 831,
    "start_time": "2022-03-01T06:04:20.978Z"
   },
   {
    "duration": 11903,
    "start_time": "2022-03-01T06:04:21.812Z"
   },
   {
    "duration": 6,
    "start_time": "2022-03-01T06:04:33.718Z"
   },
   {
    "duration": 45,
    "start_time": "2022-03-01T06:04:33.726Z"
   },
   {
    "duration": 207,
    "start_time": "2022-03-01T06:04:33.773Z"
   },
   {
    "duration": 891,
    "start_time": "2022-03-01T06:04:33.983Z"
   },
   {
    "duration": 17546,
    "start_time": "2022-03-01T06:04:34.877Z"
   },
   {
    "duration": 6,
    "start_time": "2022-03-01T06:04:52.429Z"
   },
   {
    "duration": 44,
    "start_time": "2022-03-01T06:04:52.439Z"
   },
   {
    "duration": 189,
    "start_time": "2022-03-01T06:04:52.487Z"
   },
   {
    "duration": 395,
    "start_time": "2022-03-01T06:04:52.679Z"
   },
   {
    "duration": 5578,
    "start_time": "2022-03-01T06:04:53.077Z"
   },
   {
    "duration": 446,
    "start_time": "2022-03-01T06:04:58.658Z"
   },
   {
    "duration": 7,
    "start_time": "2022-03-01T06:04:59.106Z"
   },
   {
    "duration": 101,
    "start_time": "2022-03-01T06:04:59.115Z"
   },
   {
    "duration": 4,
    "start_time": "2022-03-01T06:04:59.218Z"
   },
   {
    "duration": 742,
    "start_time": "2022-03-01T06:04:59.224Z"
   },
   {
    "duration": 9,
    "start_time": "2022-03-01T06:04:59.960Z"
   },
   {
    "duration": 81,
    "start_time": "2022-03-01T06:06:11.768Z"
   },
   {
    "duration": 375,
    "start_time": "2022-03-01T06:06:18.326Z"
   },
   {
    "duration": 14,
    "start_time": "2022-03-01T06:07:18.619Z"
   },
   {
    "duration": 12,
    "start_time": "2022-03-01T06:07:24.505Z"
   },
   {
    "duration": 14,
    "start_time": "2022-03-01T06:07:29.505Z"
   }
  ],
  "kernelspec": {
   "display_name": "Python 3 (ipykernel)",
   "language": "python",
   "name": "python3"
  },
  "language_info": {
   "codemirror_mode": {
    "name": "ipython",
    "version": 3
   },
   "file_extension": ".py",
   "mimetype": "text/x-python",
   "name": "python",
   "nbconvert_exporter": "python",
   "pygments_lexer": "ipython3",
   "version": "3.9.7"
  },
  "toc": {
   "base_numbering": 1,
   "nav_menu": {},
   "number_sections": true,
   "sideBar": true,
   "skip_h1_title": true,
   "title_cell": "Содержание",
   "title_sidebar": "Contents",
   "toc_cell": true,
   "toc_position": {},
   "toc_section_display": true,
   "toc_window_display": false
  }
 },
 "nbformat": 4,
 "nbformat_minor": 2
}
