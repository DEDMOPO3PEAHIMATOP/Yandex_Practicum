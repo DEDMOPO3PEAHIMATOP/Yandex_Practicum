{
 "cells": [
  {
   "cell_type": "markdown",
   "metadata": {
    "toc": true
   },
   "source": [
    "<h1>Содержание<span class=\"tocSkip\"></span></h1>\n",
    "<div class=\"toc\"><ul class=\"toc-item\"><li><span><a href=\"#Загрузка-данных\" data-toc-modified-id=\"Загрузка-данных-1\"><span class=\"toc-item-num\">1&nbsp;&nbsp;</span>Загрузка данных</a></span></li><li><span><a href=\"#Умножение-матриц\" data-toc-modified-id=\"Умножение-матриц-2\"><span class=\"toc-item-num\">2&nbsp;&nbsp;</span>Умножение матриц</a></span></li><li><span><a href=\"#Алгоритм-преобразования\" data-toc-modified-id=\"Алгоритм-преобразования-3\"><span class=\"toc-item-num\">3&nbsp;&nbsp;</span>Алгоритм преобразования</a></span></li><li><span><a href=\"#Проверка-алгоритма\" data-toc-modified-id=\"Проверка-алгоритма-4\"><span class=\"toc-item-num\">4&nbsp;&nbsp;</span>Проверка алгоритма</a></span></li><li><span><a href=\"#Чек-лист-проверки\" data-toc-modified-id=\"Чек-лист-проверки-5\"><span class=\"toc-item-num\">5&nbsp;&nbsp;</span>Чек-лист проверки</a></span></li></ul></div>"
   ]
  },
  {
   "cell_type": "markdown",
   "metadata": {},
   "source": [
    "# Защита персональных данных клиентов"
   ]
  },
  {
   "cell_type": "markdown",
   "metadata": {},
   "source": [
    "Вам нужно защитить данные клиентов страховой компании «Хоть потоп». Разработайте такой метод преобразования данных, чтобы по ним было сложно восстановить персональную информацию. Обоснуйте корректность его работы.\n",
    "\n",
    "Нужно защитить данные, чтобы при преобразовании качество моделей машинного обучения не ухудшилось. Подбирать наилучшую модель не требуется."
   ]
  },
  {
   "cell_type": "markdown",
   "metadata": {},
   "source": [
    "## Загрузка данных"
   ]
  },
  {
   "cell_type": "markdown",
   "metadata": {},
   "source": [
    "Загрузим необходимые библиотеки"
   ]
  },
  {
   "cell_type": "code",
   "execution_count": 1,
   "metadata": {},
   "outputs": [],
   "source": [
    "import pandas as pd\n",
    "import numpy as np\n",
    "from sklearn.metrics import r2_score"
   ]
  },
  {
   "cell_type": "markdown",
   "metadata": {},
   "source": [
    "Создадим наш датафрейм из загруженного файла"
   ]
  },
  {
   "cell_type": "code",
   "execution_count": 2,
   "metadata": {},
   "outputs": [],
   "source": [
    "try:\n",
    "    df = pd.read_csv ('insurance.csv')\n",
    "except:\n",
    "    df = pd.read_csv ('/datasets/insurance.csv')"
   ]
  },
  {
   "cell_type": "markdown",
   "metadata": {},
   "source": [
    "Создадим функцию для просмотра данных в датасете"
   ]
  },
  {
   "cell_type": "code",
   "execution_count": 3,
   "metadata": {},
   "outputs": [],
   "source": [
    "def first_look (df: pd.DataFrame, limit_na_category: int = 10) -> None:\n",
    "    '''Функция получения первичной информации о датафрейме'''\n",
    "    print ('------------- Первые 5 строк ------------')\n",
    "    display(df.head())\n",
    "    print('')\n",
    "    print('')\n",
    "    print ('------------- Типы данных ------------')\n",
    "    print (df.info())\n",
    "    print('')\n",
    "    print('')\n",
    "    print ('------------- Пропуски ------------')\n",
    "    count = 0\n",
    "    shape_0 = df.shape[0]\n",
    "    for element in df.columns:\n",
    "        if df[element].isna().sum() > 0:\n",
    "            print(element, ' - ', df[element].isna().sum(), 'пропусков, ', round(df[element].isna().sum() * 100 / shape_0,2), '% от числа строк.' )\n",
    "            count = +1\n",
    "    if count == 0:\n",
    "        print('Пропусков НЕТ')\n",
    "        print('')\n",
    "        print('')\n",
    "    print ('------------- Дубликаты ------------')\n",
    "    if df.duplicated().sum() > 0:\n",
    "        print('Дубликатов: ', df.duplicated().sum())\n",
    "    else:\n",
    "        print('Дубликатов НЕТ')\n",
    "    # ищем, есть ли категориальные столбцы (содержащие до limit_na_category уникальных значений) в датафрейме\n",
    "    min_unique = limit_na_category + 1\n",
    "    for element in df.columns:\n",
    "        min_unique = min(min_unique, df[element].nunique())\n",
    "        if min_unique <= limit_na_category:\n",
    "            print('')\n",
    "            print('')\n",
    "    print('------------- Категориальные признаки ------------')\n",
    "    for element in df.columns:\n",
    "        if df[element].nunique() <= limit_na_category:\n",
    "            print(element, ': ', df[element].nunique(), 'категории - ', df[element].unique(), )"
   ]
  },
  {
   "cell_type": "markdown",
   "metadata": {},
   "source": [
    "Быстрый взгляд на наши данные"
   ]
  },
  {
   "cell_type": "code",
   "execution_count": 4,
   "metadata": {},
   "outputs": [
    {
     "name": "stdout",
     "output_type": "stream",
     "text": [
      "------------- Первые 5 строк ------------\n"
     ]
    },
    {
     "data": {
      "text/html": [
       "<div>\n",
       "<style scoped>\n",
       "    .dataframe tbody tr th:only-of-type {\n",
       "        vertical-align: middle;\n",
       "    }\n",
       "\n",
       "    .dataframe tbody tr th {\n",
       "        vertical-align: top;\n",
       "    }\n",
       "\n",
       "    .dataframe thead th {\n",
       "        text-align: right;\n",
       "    }\n",
       "</style>\n",
       "<table border=\"1\" class=\"dataframe\">\n",
       "  <thead>\n",
       "    <tr style=\"text-align: right;\">\n",
       "      <th></th>\n",
       "      <th>Пол</th>\n",
       "      <th>Возраст</th>\n",
       "      <th>Зарплата</th>\n",
       "      <th>Члены семьи</th>\n",
       "      <th>Страховые выплаты</th>\n",
       "    </tr>\n",
       "  </thead>\n",
       "  <tbody>\n",
       "    <tr>\n",
       "      <th>0</th>\n",
       "      <td>1</td>\n",
       "      <td>41.0</td>\n",
       "      <td>49600.0</td>\n",
       "      <td>1</td>\n",
       "      <td>0</td>\n",
       "    </tr>\n",
       "    <tr>\n",
       "      <th>1</th>\n",
       "      <td>0</td>\n",
       "      <td>46.0</td>\n",
       "      <td>38000.0</td>\n",
       "      <td>1</td>\n",
       "      <td>1</td>\n",
       "    </tr>\n",
       "    <tr>\n",
       "      <th>2</th>\n",
       "      <td>0</td>\n",
       "      <td>29.0</td>\n",
       "      <td>21000.0</td>\n",
       "      <td>0</td>\n",
       "      <td>0</td>\n",
       "    </tr>\n",
       "    <tr>\n",
       "      <th>3</th>\n",
       "      <td>0</td>\n",
       "      <td>21.0</td>\n",
       "      <td>41700.0</td>\n",
       "      <td>2</td>\n",
       "      <td>0</td>\n",
       "    </tr>\n",
       "    <tr>\n",
       "      <th>4</th>\n",
       "      <td>1</td>\n",
       "      <td>28.0</td>\n",
       "      <td>26100.0</td>\n",
       "      <td>0</td>\n",
       "      <td>0</td>\n",
       "    </tr>\n",
       "  </tbody>\n",
       "</table>\n",
       "</div>"
      ],
      "text/plain": [
       "   Пол  Возраст  Зарплата  Члены семьи  Страховые выплаты\n",
       "0    1     41.0   49600.0            1                  0\n",
       "1    0     46.0   38000.0            1                  1\n",
       "2    0     29.0   21000.0            0                  0\n",
       "3    0     21.0   41700.0            2                  0\n",
       "4    1     28.0   26100.0            0                  0"
      ]
     },
     "metadata": {},
     "output_type": "display_data"
    },
    {
     "name": "stdout",
     "output_type": "stream",
     "text": [
      "\n",
      "\n",
      "------------- Типы данных ------------\n",
      "<class 'pandas.core.frame.DataFrame'>\n",
      "RangeIndex: 5000 entries, 0 to 4999\n",
      "Data columns (total 5 columns):\n",
      " #   Column             Non-Null Count  Dtype  \n",
      "---  ------             --------------  -----  \n",
      " 0   Пол                5000 non-null   int64  \n",
      " 1   Возраст            5000 non-null   float64\n",
      " 2   Зарплата           5000 non-null   float64\n",
      " 3   Члены семьи        5000 non-null   int64  \n",
      " 4   Страховые выплаты  5000 non-null   int64  \n",
      "dtypes: float64(2), int64(3)\n",
      "memory usage: 195.4 KB\n",
      "None\n",
      "\n",
      "\n",
      "------------- Пропуски ------------\n",
      "Пропусков НЕТ\n",
      "\n",
      "\n",
      "------------- Дубликаты ------------\n",
      "Дубликатов:  153\n",
      "\n",
      "\n",
      "\n",
      "\n",
      "\n",
      "\n",
      "\n",
      "\n",
      "\n",
      "\n",
      "------------- Категориальные признаки ------------\n",
      "Пол :  2 категории -  [1 0]\n",
      "Члены семьи :  7 категории -  [1 0 2 4 3 5 6]\n",
      "Страховые выплаты :  6 категории -  [0 1 2 3 5 4]\n"
     ]
    }
   ],
   "source": [
    "first_look (df)"
   ]
  },
  {
   "cell_type": "markdown",
   "metadata": {},
   "source": [
    "Наши данные состоят из 5 колонок (не считая колонки индекса) и 5000 строк (не считая строки с наименованием столбцов).\n",
    "\n",
    "Типы данных в столбцах нас устраивают.\n",
    "\n",
    "Пропусков нет.\n",
    "\n",
    "Имеется 153 дубликата данных и 3 столбца с категориальными данными.\n",
    "\n",
    "Дропнем дубликаты, т.к. в нашем исследовании от них не будет толка."
   ]
  },
  {
   "cell_type": "code",
   "execution_count": 5,
   "metadata": {},
   "outputs": [],
   "source": [
    "df = df.drop_duplicates ()"
   ]
  },
  {
   "cell_type": "markdown",
   "metadata": {},
   "source": [
    "## Умножение матриц"
   ]
  },
  {
   "cell_type": "markdown",
   "metadata": {},
   "source": [
    "В этом задании вы можете записывать формулы в *Jupyter Notebook.*\n",
    "\n",
    "Чтобы записать формулу внутри текста, окружите её символами доллара \\\\$; если снаружи —  двойными символами \\\\$\\\\$. Эти формулы записываются на языке вёрстки *LaTeX.* \n",
    "\n",
    "Для примера мы записали формулы линейной регрессии. Можете их скопировать и отредактировать, чтобы решить задачу.\n",
    "\n",
    "Работать в *LaTeX* необязательно."
   ]
  },
  {
   "cell_type": "markdown",
   "metadata": {},
   "source": [
    "Обозначения:\n",
    "\n",
    "- $X$ — матрица признаков (нулевой столбец состоит из единиц)\n",
    "\n",
    "- $y$ — вектор целевого признака\n",
    "\n",
    "- $P$ — матрица, на которую умножаются признаки\n",
    "\n",
    "- $w$ — вектор весов линейной регрессии (нулевой элемент равен сдвигу)"
   ]
  },
  {
   "cell_type": "markdown",
   "metadata": {},
   "source": [
    "Предсказания:\n",
    "\n",
    "$$\n",
    "a = Xw\n",
    "$$\n",
    "\n",
    "Задача обучения:\n",
    "\n",
    "$$\n",
    "w = \\arg\\min_w MSE(Xw, y)\n",
    "$$\n",
    "\n",
    "Формула обучения:\n",
    "\n",
    "$$\n",
    "w = (X^T X)^{-1} X^T y\n",
    "$$"
   ]
  },
  {
   "cell_type": "markdown",
   "metadata": {},
   "source": [
    "**Ответ:** Качество линейной регрессии не изменится, изменится лишь вектор весов линейной регрессии для новых признаков.\n",
    "\n",
    "**Обоснование:**\n",
    "\n",
    "Представим нашу новую матрицу признаков как результат умножения исходной матрицы признаков на некую обратимую матрицу:\n",
    "\n",
    "$$\n",
    "X_1 = XP\n",
    "$$\n",
    "\n",
    "Тогда наша формула обучения примет вид: $w_1 = (X_1^T X_1)^{-1} X_1^T y$\n",
    "\n",
    "Подставив в нее значения $X_1$, получим: $w_1 = ((XP)^T XP)^{-1} (XP)^T y$\n",
    "\n",
    "Воспользуемся следующими свойствами матриц, а именно:\n",
    "$$A(BC) = (AB)C$$\n",
    "$$(AB)^{-1} = A^{-1}B^{-1}$$\n",
    "$$(AB)^T = A^TB^T$$\n",
    "$$(A^T)^{-1} = (A^{-1})^T$$\n",
    "$$(ABC)^{-1} =C^{-1} B^{-1} A^{-1}$$\n",
    "$$AA^{-1} = E$$\n",
    "$$AE=EA=A$$\n",
    "Тогда нашу формулу для расчета вектора весов можно переписать:\n",
    "$$\n",
    "w_1 = ((XP)^T XP)^{-1} (XP)^T y \\Leftrightarrow\n",
    "$$\n",
    "$$\n",
    "w_1 = (P^T (X^T X) P)^{-1} (XP)^T y \\Leftrightarrow\n",
    "$$\n",
    "$$\n",
    "w_1 = (P^T (X^T X) P)^{-1} P^T X^T y \\Leftrightarrow\n",
    "$$\n",
    "$$\n",
    "w_1 = P^{-1} (X^T X)^{-1} (P^T)^{-1} P^T X^T y \\Leftrightarrow\n",
    "$$\n",
    "$$\n",
    "w_1 = P^{-1} (X^T X)^{-1} E X^T y \\Leftrightarrow\n",
    "$$\n",
    "$$\n",
    "w_1 = P^{-1}w\n",
    "$$\n",
    "\n",
    "Тоже самое, для формулы предсказаний: $a_1 = X_1w_1$, подставив получившиеся значения $X_1 = XP$ и $w_1 = P^{-1}w$ , получим:\n",
    "$$a_1 = XPP^{-1}w \\Leftrightarrow a_1 = Xw$$\n",
    "\n",
    "Тем самым получаем, что наши предсказания никоем образом не изменятся."
   ]
  },
  {
   "cell_type": "markdown",
   "metadata": {},
   "source": [
    "## Алгоритм преобразования"
   ]
  },
  {
   "cell_type": "markdown",
   "metadata": {},
   "source": [
    "**Алгоритм**\n",
    "\n",
    "Нам необходимо будет:\n",
    "\n",
    "сгенерировать обратимую матрицу, соответственно квадратную, размерностью соответствующую количеству столбцов признаков, а это 4х4.\n",
    "\n",
    "умножить матрицу исходных признаков на сгенерированную матрицу.\n",
    "\n",
    "посчитать качество модели на полученной матрице и сравнить с качеством модели на матрице исходных данных."
   ]
  },
  {
   "cell_type": "markdown",
   "metadata": {},
   "source": [
    "**Обоснование**\n",
    "\n",
    "В предыдущем пункте мы выяснили, что предсказания на измененной и изначальной матрице не должны отличаться, поэтому результаты метрики R2 должны оказаться равны. Тем самым мы докажем, что правильно защитили наши данные."
   ]
  },
  {
   "cell_type": "markdown",
   "metadata": {},
   "source": [
    "## Проверка алгоритма"
   ]
  },
  {
   "cell_type": "markdown",
   "metadata": {},
   "source": [
    "Создадим наши исходные признаки"
   ]
  },
  {
   "cell_type": "code",
   "execution_count": 6,
   "metadata": {},
   "outputs": [],
   "source": [
    "features = df.drop('Страховые выплаты', axis=1)\n",
    "target = df['Страховые выплаты']"
   ]
  },
  {
   "cell_type": "markdown",
   "metadata": {},
   "source": [
    "Сгенерируем матрицу размером 4х4 методом random.normal (), т.к. при таком подходе вероятность получить необратимую матрицу близка к нулю"
   ]
  },
  {
   "cell_type": "code",
   "execution_count": 7,
   "metadata": {},
   "outputs": [
    {
     "data": {
      "text/plain": [
       "array([[ 1.10962018, -0.05328743,  0.29728089, -0.15563279],\n",
       "       [-0.37643979,  1.25931805,  0.05680509, -0.20574681],\n",
       "       [ 0.17717339,  0.42621225, -0.00318726, -1.81888648],\n",
       "       [-0.83271192,  1.24767591,  0.2881783 ,  0.55896089]])"
      ]
     },
     "metadata": {},
     "output_type": "display_data"
    }
   ],
   "source": [
    "matrix_generated = np.random.normal(size=(4, 4))\n",
    "display (matrix_generated)"
   ]
  },
  {
   "cell_type": "markdown",
   "metadata": {},
   "source": [
    "Сделаем из нашей сгенерированной матрицы обратную методом linalg.inv(), т.к. в процессе обращения мы одновременно проверим матрицу на обратимость, если появится ошибка, то изначально наша сгенерированная матрица не являлась обратимой."
   ]
  },
  {
   "cell_type": "code",
   "execution_count": 8,
   "metadata": {},
   "outputs": [
    {
     "data": {
      "text/plain": [
       "array([[ 0.66257407,  1.07384952, -0.45480585, -0.90020764],\n",
       "       [ 0.17087668,  1.34453154, -0.30335861, -0.44466042],\n",
       "       [ 0.97520643, -3.54425428,  1.29379638,  3.17700914],\n",
       "       [ 0.10287173,  0.42587036, -0.6674404 , -0.19744966]])"
      ]
     },
     "metadata": {},
     "output_type": "display_data"
    }
   ],
   "source": [
    "matrix_invert = np.linalg.inv(matrix_generated)\n",
    "display (matrix_invert)"
   ]
  },
  {
   "cell_type": "raw",
   "metadata": {},
   "source": [
    "def generate_invertible_matrix(size):\n",
    "    try:\n",
    "        matrix = np.random.normal(size=(size, size))\n",
    "        # проверим матрицу на обратимость, если нет, пробуем сгенерировать еще раз\n",
    "        # таким образом гарантируем, что матрица стопроцентно будет обратимой\n",
    "        np.linalg.inv(matrix)\n",
    "    except np.linalg.LinAlgError:\n",
    "        matrix = generate_invertible_matrix()\n",
    "    \n",
    "    return matrix"
   ]
  },
  {
   "cell_type": "markdown",
   "metadata": {},
   "source": [
    "Создадим матрицу из наших изначальных признаков, перемножим ее на сгенерированную и обращенную матрицу и составим из полученной новый набор измененных признаков"
   ]
  },
  {
   "cell_type": "code",
   "execution_count": 9,
   "metadata": {},
   "outputs": [],
   "source": [
    "matrix = features.values\n",
    "matrix_new = matrix@matrix_invert\n",
    "features_incode = pd.DataFrame (matrix_new, columns = features.columns)"
   ]
  },
  {
   "cell_type": "code",
   "execution_count": 10,
   "metadata": {},
   "outputs": [
    {
     "data": {
      "text/html": [
       "<div>\n",
       "<style scoped>\n",
       "    .dataframe tbody tr th:only-of-type {\n",
       "        vertical-align: middle;\n",
       "    }\n",
       "\n",
       "    .dataframe tbody tr th {\n",
       "        vertical-align: top;\n",
       "    }\n",
       "\n",
       "    .dataframe thead th {\n",
       "        text-align: right;\n",
       "    }\n",
       "</style>\n",
       "<table border=\"1\" class=\"dataframe\">\n",
       "  <thead>\n",
       "    <tr style=\"text-align: right;\">\n",
       "      <th></th>\n",
       "      <th>Пол</th>\n",
       "      <th>Возраст</th>\n",
       "      <th>Зарплата</th>\n",
       "      <th>Члены семьи</th>\n",
       "    </tr>\n",
       "  </thead>\n",
       "  <tbody>\n",
       "    <tr>\n",
       "      <th>0</th>\n",
       "      <td>48378.010407</td>\n",
       "      <td>-175738.386926</td>\n",
       "      <td>64158.740317</td>\n",
       "      <td>157560.324454</td>\n",
       "    </tr>\n",
       "    <tr>\n",
       "      <th>1</th>\n",
       "      <td>37065.807607</td>\n",
       "      <td>-134619.388434</td>\n",
       "      <td>49149.640364</td>\n",
       "      <td>120705.695372</td>\n",
       "    </tr>\n",
       "    <tr>\n",
       "      <th>2</th>\n",
       "      <td>20484.290492</td>\n",
       "      <td>-74390.348529</td>\n",
       "      <td>27160.926503</td>\n",
       "      <td>66704.296722</td>\n",
       "    </tr>\n",
       "    <tr>\n",
       "      <th>3</th>\n",
       "      <td>40669.902360</td>\n",
       "      <td>-147766.316700</td>\n",
       "      <td>53943.603481</td>\n",
       "      <td>132471.548239</td>\n",
       "    </tr>\n",
       "    <tr>\n",
       "      <th>4</th>\n",
       "      <td>25458.334991</td>\n",
       "      <td>-92466.316055</td>\n",
       "      <td>33759.136575</td>\n",
       "      <td>82906.587773</td>\n",
       "    </tr>\n",
       "    <tr>\n",
       "      <th>...</th>\n",
       "      <td>...</td>\n",
       "      <td>...</td>\n",
       "      <td>...</td>\n",
       "      <td>...</td>\n",
       "    </tr>\n",
       "    <tr>\n",
       "      <th>4842</th>\n",
       "      <td>34819.859906</td>\n",
       "      <td>-126491.379281</td>\n",
       "      <td>46178.701713</td>\n",
       "      <td>113406.380795</td>\n",
       "    </tr>\n",
       "    <tr>\n",
       "      <th>4843</th>\n",
       "      <td>51106.729705</td>\n",
       "      <td>-185672.784489</td>\n",
       "      <td>67783.948487</td>\n",
       "      <td>166459.962868</td>\n",
       "    </tr>\n",
       "    <tr>\n",
       "      <th>4844</th>\n",
       "      <td>33063.121315</td>\n",
       "      <td>-120122.477823</td>\n",
       "      <td>43852.295105</td>\n",
       "      <td>107691.321632</td>\n",
       "    </tr>\n",
       "    <tr>\n",
       "      <th>4845</th>\n",
       "      <td>31893.980796</td>\n",
       "      <td>-115865.183901</td>\n",
       "      <td>42298.010490</td>\n",
       "      <td>103876.923690</td>\n",
       "    </tr>\n",
       "    <tr>\n",
       "      <th>4846</th>\n",
       "      <td>39598.931124</td>\n",
       "      <td>-143857.577288</td>\n",
       "      <td>52518.516592</td>\n",
       "      <td>128973.022808</td>\n",
       "    </tr>\n",
       "  </tbody>\n",
       "</table>\n",
       "<p>4847 rows × 4 columns</p>\n",
       "</div>"
      ],
      "text/plain": [
       "               Пол        Возраст      Зарплата    Члены семьи\n",
       "0     48378.010407 -175738.386926  64158.740317  157560.324454\n",
       "1     37065.807607 -134619.388434  49149.640364  120705.695372\n",
       "2     20484.290492  -74390.348529  27160.926503   66704.296722\n",
       "3     40669.902360 -147766.316700  53943.603481  132471.548239\n",
       "4     25458.334991  -92466.316055  33759.136575   82906.587773\n",
       "...            ...            ...           ...            ...\n",
       "4842  34819.859906 -126491.379281  46178.701713  113406.380795\n",
       "4843  51106.729705 -185672.784489  67783.948487  166459.962868\n",
       "4844  33063.121315 -120122.477823  43852.295105  107691.321632\n",
       "4845  31893.980796 -115865.183901  42298.010490  103876.923690\n",
       "4846  39598.931124 -143857.577288  52518.516592  128973.022808\n",
       "\n",
       "[4847 rows x 4 columns]"
      ]
     },
     "execution_count": 10,
     "metadata": {},
     "output_type": "execute_result"
    }
   ],
   "source": [
    "features_incode"
   ]
  },
  {
   "cell_type": "markdown",
   "metadata": {},
   "source": [
    "Создадим класс LinearRegression для последующего обучения наших моделей"
   ]
  },
  {
   "cell_type": "code",
   "execution_count": 11,
   "metadata": {},
   "outputs": [],
   "source": [
    "class LinearRegression:\n",
    "    def fit(self, train_features, train_target):\n",
    "        X = np.concatenate((np.ones((train_features.shape[0], 1)), train_features), axis=1)\n",
    "        y = train_target\n",
    "        w = np.linalg.inv(X.T@X)@X.T@y\n",
    "        self.w = w[1:]\n",
    "        self.w0 = w[0]\n",
    "\n",
    "    def predict(self, test_features):\n",
    "        return test_features.dot(self.w) + self.w0"
   ]
  },
  {
   "cell_type": "markdown",
   "metadata": {},
   "source": [
    "Обучим модель на изначальных признаках и выведем на экран метрику качества R2"
   ]
  },
  {
   "cell_type": "code",
   "execution_count": 12,
   "metadata": {},
   "outputs": [
    {
     "name": "stdout",
     "output_type": "stream",
     "text": [
      "0.4302010044852068\n"
     ]
    }
   ],
   "source": [
    "model = LinearRegression()\n",
    "model.fit(features, target)\n",
    "predictions = model.predict(features)\n",
    "print(r2_score(target, predictions))"
   ]
  },
  {
   "cell_type": "markdown",
   "metadata": {},
   "source": [
    "Обучим модель на закодированных признаках и выведем на экран метрику качества R2"
   ]
  },
  {
   "cell_type": "code",
   "execution_count": 13,
   "metadata": {},
   "outputs": [
    {
     "name": "stdout",
     "output_type": "stream",
     "text": [
      "0.43020100448138965\n"
     ]
    }
   ],
   "source": [
    "model = LinearRegression()\n",
    "model.fit(features_incode, target)\n",
    "predictions = model.predict(features_incode)\n",
    "print(r2_score(target, predictions))"
   ]
  },
  {
   "cell_type": "markdown",
   "metadata": {},
   "source": [
    "Из полученного результата видим, что метрики качества на изначальных и закодированных данных отличаются незначительно, что может быть связано с округлением"
   ]
  },
  {
   "cell_type": "markdown",
   "metadata": {},
   "source": [
    "## Чек-лист проверки"
   ]
  },
  {
   "cell_type": "markdown",
   "metadata": {},
   "source": [
    "Поставьте 'x' в выполненных пунктах. Далее нажмите Shift+Enter."
   ]
  },
  {
   "cell_type": "markdown",
   "metadata": {},
   "source": [
    "- [x]  Jupyter Notebook открыт\n",
    "- [x]  Весь код выполняется без ошибок\n",
    "- [x]  Ячейки с кодом расположены в порядке исполнения\n",
    "- [x]  Выполнен шаг 1: данные загружены\n",
    "- [x]  Выполнен шаг 2: получен ответ на вопрос об умножении матриц\n",
    "    - [x]  Указан правильный вариант ответа\n",
    "    - [x]  Вариант обоснован\n",
    "- [x]  Выполнен шаг 3: предложен алгоритм преобразования\n",
    "    - [x]  Алгоритм описан\n",
    "    - [x]  Алгоритм обоснован\n",
    "- [x]  Выполнен шаг 4: алгоритм проверен\n",
    "    - [x]  Алгоритм реализован\n",
    "    - [x]  Проведено сравнение качества моделей до и после преобразования"
   ]
  }
 ],
 "metadata": {
  "ExecuteTimeLog": [
   {
    "duration": 482,
    "start_time": "2022-04-07T11:35:04.624Z"
   },
   {
    "duration": 88,
    "start_time": "2022-04-07T11:36:28.239Z"
   },
   {
    "duration": 11,
    "start_time": "2022-04-07T11:36:47.415Z"
   },
   {
    "duration": 53,
    "start_time": "2022-04-07T11:37:00.776Z"
   },
   {
    "duration": 22,
    "start_time": "2022-04-07T11:37:58.008Z"
   },
   {
    "duration": 39,
    "start_time": "2022-04-07T11:38:54.792Z"
   },
   {
    "duration": 7,
    "start_time": "2022-04-07T11:39:04.420Z"
   },
   {
    "duration": 502,
    "start_time": "2022-04-07T13:14:39.597Z"
   },
   {
    "duration": 69,
    "start_time": "2022-04-07T13:14:40.101Z"
   },
   {
    "duration": 11,
    "start_time": "2022-04-07T13:14:40.173Z"
   },
   {
    "duration": 55,
    "start_time": "2022-04-07T13:14:40.186Z"
   },
   {
    "duration": 6,
    "start_time": "2022-04-07T13:14:40.243Z"
   },
   {
    "duration": 1104,
    "start_time": "2022-04-07T13:27:21.833Z"
   },
   {
    "duration": 46,
    "start_time": "2022-04-07T14:29:11.112Z"
   },
   {
    "duration": 1187,
    "start_time": "2022-04-07T14:29:21.422Z"
   },
   {
    "duration": 71,
    "start_time": "2022-04-07T14:29:22.611Z"
   },
   {
    "duration": 8,
    "start_time": "2022-04-07T14:29:22.686Z"
   },
   {
    "duration": 40,
    "start_time": "2022-04-07T14:29:22.696Z"
   },
   {
    "duration": 5,
    "start_time": "2022-04-07T14:29:22.737Z"
   },
   {
    "duration": 92,
    "start_time": "2022-04-07T14:29:22.743Z"
   },
   {
    "duration": 4,
    "start_time": "2022-04-07T14:29:30.407Z"
   },
   {
    "duration": 4,
    "start_time": "2022-04-07T14:31:56.919Z"
   },
   {
    "duration": 2,
    "start_time": "2022-04-07T14:35:22.082Z"
   },
   {
    "duration": 8,
    "start_time": "2022-04-07T14:38:59.410Z"
   },
   {
    "duration": 7,
    "start_time": "2022-04-07T14:39:06.290Z"
   },
   {
    "duration": 2,
    "start_time": "2022-04-07T14:39:15.371Z"
   },
   {
    "duration": 4,
    "start_time": "2022-04-07T14:39:33.107Z"
   },
   {
    "duration": 4,
    "start_time": "2022-04-07T14:39:46.252Z"
   },
   {
    "duration": 5,
    "start_time": "2022-04-07T14:41:00.948Z"
   },
   {
    "duration": 4,
    "start_time": "2022-04-07T14:41:02.116Z"
   },
   {
    "duration": 3,
    "start_time": "2022-04-07T14:44:10.235Z"
   },
   {
    "duration": 4,
    "start_time": "2022-04-07T14:44:16.733Z"
   },
   {
    "duration": 2,
    "start_time": "2022-04-07T14:45:14.452Z"
   },
   {
    "duration": 3,
    "start_time": "2022-04-07T14:45:15.125Z"
   },
   {
    "duration": 3,
    "start_time": "2022-04-07T14:46:12.166Z"
   },
   {
    "duration": 9,
    "start_time": "2022-04-07T14:46:17.910Z"
   },
   {
    "duration": 9,
    "start_time": "2022-04-07T14:46:37.548Z"
   },
   {
    "duration": 4,
    "start_time": "2022-04-07T14:48:07.062Z"
   },
   {
    "duration": 9,
    "start_time": "2022-04-07T14:49:34.135Z"
   },
   {
    "duration": 5,
    "start_time": "2022-04-07T14:50:25.227Z"
   },
   {
    "duration": 1065,
    "start_time": "2022-04-07T14:56:21.794Z"
   },
   {
    "duration": 73,
    "start_time": "2022-04-07T14:56:22.860Z"
   },
   {
    "duration": 6,
    "start_time": "2022-04-07T14:56:22.934Z"
   },
   {
    "duration": 31,
    "start_time": "2022-04-07T14:56:22.942Z"
   },
   {
    "duration": 4,
    "start_time": "2022-04-07T14:56:22.974Z"
   },
   {
    "duration": 5,
    "start_time": "2022-04-07T14:56:22.979Z"
   },
   {
    "duration": 8,
    "start_time": "2022-04-07T14:56:22.985Z"
   },
   {
    "duration": 5,
    "start_time": "2022-04-07T14:56:22.995Z"
   },
   {
    "duration": 5,
    "start_time": "2022-04-07T14:56:23.030Z"
   },
   {
    "duration": 11,
    "start_time": "2022-04-07T14:56:23.037Z"
   },
   {
    "duration": 81,
    "start_time": "2022-04-07T14:56:23.050Z"
   },
   {
    "duration": 10,
    "start_time": "2022-04-07T14:56:23.133Z"
   },
   {
    "duration": 189,
    "start_time": "2022-04-07T14:56:23.144Z"
   },
   {
    "duration": 55216,
    "start_time": "2022-04-07T15:33:32.263Z"
   },
   {
    "duration": 229,
    "start_time": "2022-04-07T15:34:27.481Z"
   },
   {
    "duration": 7,
    "start_time": "2022-04-07T15:34:27.711Z"
   },
   {
    "duration": 36,
    "start_time": "2022-04-07T15:34:27.719Z"
   },
   {
    "duration": 4,
    "start_time": "2022-04-07T15:34:27.756Z"
   },
   {
    "duration": 4,
    "start_time": "2022-04-07T15:41:37.383Z"
   },
   {
    "duration": 5,
    "start_time": "2022-04-07T15:41:38.476Z"
   },
   {
    "duration": 6,
    "start_time": "2022-04-07T15:41:40.480Z"
   },
   {
    "duration": 3,
    "start_time": "2022-04-07T15:42:39.376Z"
   },
   {
    "duration": 10,
    "start_time": "2022-04-07T15:42:39.963Z"
   },
   {
    "duration": 4,
    "start_time": "2022-04-07T15:42:41.030Z"
   },
   {
    "duration": 11,
    "start_time": "2022-04-07T15:42:42.019Z"
   },
   {
    "duration": 8,
    "start_time": "2022-04-07T15:42:43.177Z"
   }
  ],
  "kernelspec": {
   "display_name": "Python 3 (ipykernel)",
   "language": "python",
   "name": "python3"
  },
  "language_info": {
   "codemirror_mode": {
    "name": "ipython",
    "version": 3
   },
   "file_extension": ".py",
   "mimetype": "text/x-python",
   "name": "python",
   "nbconvert_exporter": "python",
   "pygments_lexer": "ipython3",
   "version": "3.9.7"
  },
  "toc": {
   "base_numbering": 1,
   "nav_menu": {},
   "number_sections": true,
   "sideBar": true,
   "skip_h1_title": true,
   "title_cell": "Содержание",
   "title_sidebar": "Contents",
   "toc_cell": true,
   "toc_position": {
    "height": "calc(100% - 180px)",
    "left": "10px",
    "top": "150px",
    "width": "336.484px"
   },
   "toc_section_display": true,
   "toc_window_display": true
  }
 },
 "nbformat": 4,
 "nbformat_minor": 2
}
