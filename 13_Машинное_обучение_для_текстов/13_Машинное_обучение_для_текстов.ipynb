{
 "cells": [
  {
   "cell_type": "markdown",
   "metadata": {
    "toc": true
   },
   "source": [
    "<h1>Содержание<span class=\"tocSkip\"></span></h1>\n",
    "<div class=\"toc\"><ul class=\"toc-item\"><li><span><a href=\"#Подготовка\" data-toc-modified-id=\"Подготовка-1\"><span class=\"toc-item-num\">1&nbsp;&nbsp;</span>Подготовка</a></span></li><li><span><a href=\"#Обучение\" data-toc-modified-id=\"Обучение-2\"><span class=\"toc-item-num\">2&nbsp;&nbsp;</span>Обучение</a></span></li><li><span><a href=\"#Выводы\" data-toc-modified-id=\"Выводы-3\"><span class=\"toc-item-num\">3&nbsp;&nbsp;</span>Выводы</a></span></li><li><span><a href=\"#Чек-лист-проверки\" data-toc-modified-id=\"Чек-лист-проверки-4\"><span class=\"toc-item-num\">4&nbsp;&nbsp;</span>Чек-лист проверки</a></span></li></ul></div>"
   ]
  },
  {
   "cell_type": "markdown",
   "metadata": {},
   "source": [
    "# Проект для «Викишоп»"
   ]
  },
  {
   "cell_type": "markdown",
   "metadata": {},
   "source": [
    "<b>Описание проекта</b>\n",
    "\n",
    "Интернет-магазин «Викишоп» запускает новый сервис. Теперь пользователи могут редактировать и дополнять описания товаров, как в вики-сообществах. То есть клиенты предлагают свои правки и комментируют изменения других. Магазину нужен инструмент, который будет искать токсичные комментарии и отправлять их на модерацию. \n",
    "\n",
    "<b>Цель проекта</b>\n",
    "\n",
    "Обучить модель и классифицировать комментарии на позитивные и негативные. В нашем распоряжении набор данных с разметкой о токсичности правок.\n",
    "\n",
    "<b>Задачи проекта</b>\n",
    "\n",
    "Построить модель со значением метрики качества *F1* не меньше 0.75. \n",
    "\n",
    "**Инструкция по выполнению проекта**\n",
    "\n",
    "1. [Загрузим и подготовим данные.](#step_1)\n",
    "2. [Обучим разные модели.](#step_2)\n",
    "3. [Сделаем выводы.](#step_3)\n",
    "\n",
    "**Описание данных**\n",
    "\n",
    "Данные находятся в файле `toxic_comments.csv`. Столбец *text* в нём содержит текст комментария, а *toxic* — целевой признак."
   ]
  },
  {
   "cell_type": "markdown",
   "metadata": {},
   "source": [
    "<a id=\"step_1\"></a>\n",
    "## Подготовка"
   ]
  },
  {
   "cell_type": "markdown",
   "metadata": {},
   "source": [
    "Загрузим необходимые библиотеки"
   ]
  },
  {
   "cell_type": "code",
   "execution_count": 1,
   "metadata": {},
   "outputs": [],
   "source": [
    "# pip install pandas"
   ]
  },
  {
   "cell_type": "code",
   "execution_count": 2,
   "metadata": {
    "scrolled": true
   },
   "outputs": [],
   "source": [
    "# pip install spacy"
   ]
  },
  {
   "cell_type": "code",
   "execution_count": 3,
   "metadata": {},
   "outputs": [],
   "source": [
    "# pip install nltk"
   ]
  },
  {
   "cell_type": "code",
   "execution_count": 4,
   "metadata": {},
   "outputs": [],
   "source": [
    "# pip install catboost"
   ]
  },
  {
   "cell_type": "code",
   "execution_count": 5,
   "metadata": {},
   "outputs": [],
   "source": [
    "# pip install scikit-learn"
   ]
  },
  {
   "cell_type": "code",
   "execution_count": 6,
   "metadata": {},
   "outputs": [],
   "source": [
    "# import en_core_web_sm\n",
    "import nltk\n",
    "import numpy as np\n",
    "import pandas as pd\n",
    "import re\n",
    "import spacy\n",
    "import tqdm\n",
    "import warnings\n",
    "\n",
    "from catboost import CatBoostClassifier\n",
    "from joblib import dump, load\n",
    "from nltk.corpus import stopwords as nltk_stopwords\n",
    "from sklearn.ensemble import RandomForestClassifier\n",
    "from sklearn.feature_extraction.text import TfidfVectorizer\n",
    "from sklearn.linear_model import LogisticRegression\n",
    "from sklearn.metrics import f1_score\n",
    "from sklearn.model_selection import train_test_split, GridSearchCV\n",
    "from sklearn.tree import DecisionTreeClassifier\n",
    "from tqdm.notebook import tqdm\n",
    "from typing import Any, Dict"
   ]
  },
  {
   "cell_type": "code",
   "execution_count": 7,
   "metadata": {},
   "outputs": [],
   "source": [
    "warnings.filterwarnings(\"ignore\")"
   ]
  },
  {
   "cell_type": "markdown",
   "metadata": {},
   "source": [
    "Загрузим наш файл"
   ]
  },
  {
   "cell_type": "code",
   "execution_count": 8,
   "metadata": {},
   "outputs": [],
   "source": [
    "try:\n",
    "    df = pd.read_csv('toxic_comments.csv')\n",
    "except:\n",
    "    df = pd.read_csv('https://code.s3.yandex.net/datasets/toxic_comments.csv')"
   ]
  },
  {
   "cell_type": "markdown",
   "metadata": {},
   "source": [
    "Напишем функцию для просмотра наших данных"
   ]
  },
  {
   "cell_type": "code",
   "execution_count": 9,
   "metadata": {},
   "outputs": [],
   "source": [
    "def first_look(df: pd.DataFrame, limit_na_category: int = 10) -> None:\n",
    "    '''Функция получения первичной информации о датафрейме'''\n",
    "    print('------------- Первые 5 строк ------------')\n",
    "    display(df.head())\n",
    "    print('')\n",
    "    print('')\n",
    "    print('------------- Типы данных ------------')\n",
    "    print(df.info())\n",
    "    print('')\n",
    "    print('')\n",
    "    print('------------- Пропуски ------------')\n",
    "    count = 0\n",
    "    shape_0 = df.shape[0]\n",
    "    for element in df.columns:\n",
    "        if df[element].isna().sum() > 0:\n",
    "            print(\n",
    "                element,\n",
    "                ' - ',\n",
    "                df[element].isna().sum(),\n",
    "                'пропусков, ',\n",
    "                round(df[element].isna().sum() * 100 / shape_0,2),\n",
    "                '% от числа строк.'\n",
    "            )\n",
    "            count = +1\n",
    "    if count == 0:\n",
    "        print('Пропусков НЕТ')\n",
    "        print('')\n",
    "        print('')\n",
    "    print ('------------- Дубликаты ------------')\n",
    "    if df.duplicated().sum() > 0:\n",
    "        print('Дубликатов: ', df.duplicated().sum())\n",
    "    else:\n",
    "        print('Дубликатов НЕТ')\n",
    "    # ищем, есть ли категориальные столбцы (содержащие до limit_na_category уникальных значений) в датафрейме\n",
    "    min_unique = limit_na_category + 1\n",
    "    for element in df._get_numeric_data().columns:\n",
    "        min_unique = min(min_unique, df[element].nunique())\n",
    "        if min_unique <= limit_na_category:\n",
    "            print('')\n",
    "    print('')\n",
    "    print('------------- Категориальные признаки ------------')\n",
    "    for element in df._get_numeric_data().columns:\n",
    "        if df[element].nunique() <= limit_na_category:\n",
    "            print(element, ': ', df[element].nunique(), 'категории - ', df[element].unique(), )"
   ]
  },
  {
   "cell_type": "markdown",
   "metadata": {},
   "source": [
    "Взглянем на наши данные"
   ]
  },
  {
   "cell_type": "code",
   "execution_count": 10,
   "metadata": {},
   "outputs": [
    {
     "name": "stdout",
     "output_type": "stream",
     "text": [
      "------------- Первые 5 строк ------------\n"
     ]
    },
    {
     "data": {
      "text/html": [
       "<div>\n",
       "<style scoped>\n",
       "    .dataframe tbody tr th:only-of-type {\n",
       "        vertical-align: middle;\n",
       "    }\n",
       "\n",
       "    .dataframe tbody tr th {\n",
       "        vertical-align: top;\n",
       "    }\n",
       "\n",
       "    .dataframe thead th {\n",
       "        text-align: right;\n",
       "    }\n",
       "</style>\n",
       "<table border=\"1\" class=\"dataframe\">\n",
       "  <thead>\n",
       "    <tr style=\"text-align: right;\">\n",
       "      <th></th>\n",
       "      <th>Unnamed: 0</th>\n",
       "      <th>Unnamed: 0.1</th>\n",
       "      <th>text</th>\n",
       "      <th>toxic</th>\n",
       "    </tr>\n",
       "  </thead>\n",
       "  <tbody>\n",
       "    <tr>\n",
       "      <th>0</th>\n",
       "      <td>0</td>\n",
       "      <td>0</td>\n",
       "      <td>Explanation\\nWhy the edits made under my usern...</td>\n",
       "      <td>0</td>\n",
       "    </tr>\n",
       "    <tr>\n",
       "      <th>1</th>\n",
       "      <td>1</td>\n",
       "      <td>1</td>\n",
       "      <td>D'aww! He matches this background colour I'm s...</td>\n",
       "      <td>0</td>\n",
       "    </tr>\n",
       "    <tr>\n",
       "      <th>2</th>\n",
       "      <td>2</td>\n",
       "      <td>2</td>\n",
       "      <td>Hey man, I'm really not trying to edit war. It...</td>\n",
       "      <td>0</td>\n",
       "    </tr>\n",
       "    <tr>\n",
       "      <th>3</th>\n",
       "      <td>3</td>\n",
       "      <td>3</td>\n",
       "      <td>\"\\nMore\\nI can't make any real suggestions on ...</td>\n",
       "      <td>0</td>\n",
       "    </tr>\n",
       "    <tr>\n",
       "      <th>4</th>\n",
       "      <td>4</td>\n",
       "      <td>4</td>\n",
       "      <td>You, sir, are my hero. Any chance you remember...</td>\n",
       "      <td>0</td>\n",
       "    </tr>\n",
       "  </tbody>\n",
       "</table>\n",
       "</div>"
      ],
      "text/plain": [
       "   Unnamed: 0  Unnamed: 0.1  \\\n",
       "0           0             0   \n",
       "1           1             1   \n",
       "2           2             2   \n",
       "3           3             3   \n",
       "4           4             4   \n",
       "\n",
       "                                                text  toxic  \n",
       "0  Explanation\\nWhy the edits made under my usern...      0  \n",
       "1  D'aww! He matches this background colour I'm s...      0  \n",
       "2  Hey man, I'm really not trying to edit war. It...      0  \n",
       "3  \"\\nMore\\nI can't make any real suggestions on ...      0  \n",
       "4  You, sir, are my hero. Any chance you remember...      0  "
      ]
     },
     "metadata": {},
     "output_type": "display_data"
    },
    {
     "name": "stdout",
     "output_type": "stream",
     "text": [
      "\n",
      "\n",
      "------------- Типы данных ------------\n",
      "<class 'pandas.core.frame.DataFrame'>\n",
      "RangeIndex: 159292 entries, 0 to 159291\n",
      "Data columns (total 4 columns):\n",
      " #   Column        Non-Null Count   Dtype \n",
      "---  ------        --------------   ----- \n",
      " 0   Unnamed: 0    159292 non-null  int64 \n",
      " 1   Unnamed: 0.1  159292 non-null  int64 \n",
      " 2   text          159292 non-null  object\n",
      " 3   toxic         159292 non-null  int64 \n",
      "dtypes: int64(3), object(1)\n",
      "memory usage: 4.9+ MB\n",
      "None\n",
      "\n",
      "\n",
      "------------- Пропуски ------------\n",
      "Пропусков НЕТ\n",
      "\n",
      "\n",
      "------------- Дубликаты ------------\n",
      "Дубликатов НЕТ\n",
      "\n",
      "\n",
      "------------- Категориальные признаки ------------\n",
      "toxic :  2 категории -  [0 1]\n"
     ]
    }
   ],
   "source": [
    "first_look(df)"
   ]
  },
  {
   "cell_type": "markdown",
   "metadata": {},
   "source": [
    "Наши данные состоят из двух столбцов. Столбкец 'text' содержит текст комментария, а столбец 'toxic' - целевой признак\n",
    "\n",
    "Посмотрим на распределение целевого признака"
   ]
  },
  {
   "cell_type": "code",
   "execution_count": 11,
   "metadata": {},
   "outputs": [
    {
     "data": {
      "text/plain": [
       "<AxesSubplot:>"
      ]
     },
     "execution_count": 11,
     "metadata": {},
     "output_type": "execute_result"
    },
    {
     "data": {
      "image/png": "[encoded data removed]",
      "text/plain": [
       "<Figure size 640x480 with 1 Axes>"
      ]
     },
     "metadata": {},
     "output_type": "display_data"
    }
   ],
   "source": [
    "df['toxic'].value_counts().plot(kind='bar')"
   ]
  },
  {
   "cell_type": "markdown",
   "metadata": {},
   "source": [
    "Наблюдаем явный дисбаланс классов"
   ]
  },
  {
   "cell_type": "markdown",
   "metadata": {},
   "source": [
    "Нам необходимо ощистить текст от нежелательных символом и лемматизировать его"
   ]
  },
  {
   "cell_type": "markdown",
   "metadata": {},
   "source": [
    "Функция очистки текста от нежелательных символов"
   ]
  },
  {
   "cell_type": "code",
   "execution_count": 12,
   "metadata": {},
   "outputs": [],
   "source": [
    "def clear_text(text: str) -> str:\n",
    "    \n",
    "    text = text.lower()\n",
    "    \n",
    "    text = re.sub(r'[^a-zA-Z ]', ' ', text).strip()\n",
    "    \n",
    "    # Удаляем html теги\n",
    "    text = re.sub(r'<[^>]+>', ' ', text)\n",
    "    \n",
    "    # Удаляем единичные символы\n",
    "    text = re.sub(r'\\s+[a-zA-Z]\\s+', ' ', text)\n",
    "    \n",
    "    # Удаляем единычные символы из начала строки\n",
    "    text = re.sub(r'\\^[a-zA-Z]\\s+', ' ', text) \n",
    "    \n",
    "    # Заменяем несколько пробелов на один\n",
    "    text = re.sub(r'\\s+', ' ', text, flags=re.I)\n",
    "    \n",
    "    # Удаляем 'b'\n",
    "    text = re.sub(r'^b\\s+', '', text)\n",
    "        \n",
    "    return text"
   ]
  },
  {
   "cell_type": "markdown",
   "metadata": {},
   "source": [
    "Очистим текст от нежелательных символов"
   ]
  },
  {
   "cell_type": "code",
   "execution_count": 13,
   "metadata": {},
   "outputs": [
    {
     "data": {
      "text/html": [
       "<div>\n",
       "<style scoped>\n",
       "    .dataframe tbody tr th:only-of-type {\n",
       "        vertical-align: middle;\n",
       "    }\n",
       "\n",
       "    .dataframe tbody tr th {\n",
       "        vertical-align: top;\n",
       "    }\n",
       "\n",
       "    .dataframe thead th {\n",
       "        text-align: right;\n",
       "    }\n",
       "</style>\n",
       "<table border=\"1\" class=\"dataframe\">\n",
       "  <thead>\n",
       "    <tr style=\"text-align: right;\">\n",
       "      <th></th>\n",
       "      <th>Unnamed: 0</th>\n",
       "      <th>Unnamed: 0.1</th>\n",
       "      <th>text</th>\n",
       "      <th>toxic</th>\n",
       "    </tr>\n",
       "  </thead>\n",
       "  <tbody>\n",
       "    <tr>\n",
       "      <th>0</th>\n",
       "      <td>0</td>\n",
       "      <td>0</td>\n",
       "      <td>explanation why the edits made under my userna...</td>\n",
       "      <td>0</td>\n",
       "    </tr>\n",
       "    <tr>\n",
       "      <th>1</th>\n",
       "      <td>1</td>\n",
       "      <td>1</td>\n",
       "      <td>d aww he matches this background colour m seem...</td>\n",
       "      <td>0</td>\n",
       "    </tr>\n",
       "    <tr>\n",
       "      <th>2</th>\n",
       "      <td>2</td>\n",
       "      <td>2</td>\n",
       "      <td>hey man m really not trying to edit war it jus...</td>\n",
       "      <td>0</td>\n",
       "    </tr>\n",
       "    <tr>\n",
       "      <th>3</th>\n",
       "      <td>3</td>\n",
       "      <td>3</td>\n",
       "      <td>more can make any real suggestions on improvem...</td>\n",
       "      <td>0</td>\n",
       "    </tr>\n",
       "    <tr>\n",
       "      <th>4</th>\n",
       "      <td>4</td>\n",
       "      <td>4</td>\n",
       "      <td>you sir are my hero any chance you remember wh...</td>\n",
       "      <td>0</td>\n",
       "    </tr>\n",
       "  </tbody>\n",
       "</table>\n",
       "</div>"
      ],
      "text/plain": [
       "   Unnamed: 0  Unnamed: 0.1  \\\n",
       "0           0             0   \n",
       "1           1             1   \n",
       "2           2             2   \n",
       "3           3             3   \n",
       "4           4             4   \n",
       "\n",
       "                                                text  toxic  \n",
       "0  explanation why the edits made under my userna...      0  \n",
       "1  d aww he matches this background colour m seem...      0  \n",
       "2  hey man m really not trying to edit war it jus...      0  \n",
       "3  more can make any real suggestions on improvem...      0  \n",
       "4  you sir are my hero any chance you remember wh...      0  "
      ]
     },
     "metadata": {},
     "output_type": "display_data"
    }
   ],
   "source": [
    "df['text'] = df['text'].apply(clear_text)\n",
    "display(df.head())"
   ]
  },
  {
   "cell_type": "markdown",
   "metadata": {},
   "source": [
    "Для токенизации и лемматизации воспользуемся моделью en_core_web_sm"
   ]
  },
  {
   "cell_type": "code",
   "execution_count": 14,
   "metadata": {},
   "outputs": [],
   "source": [
    "nlp = spacy.load(\"en_core_web_sm-3.7.1\")"
   ]
  },
  {
   "cell_type": "code",
   "execution_count": 15,
   "metadata": {},
   "outputs": [],
   "source": [
    "def lemmatize(text: str) -> str:\n",
    "    temp = []\n",
    "    for i in nlp(text):\n",
    "        if i.is_stop == False:\n",
    "            temp.append(i.lemma_)\n",
    "    return \" \".join(temp)"
   ]
  },
  {
   "cell_type": "code",
   "execution_count": 16,
   "metadata": {},
   "outputs": [
    {
     "data": {
      "application/vnd.jupyter.widget-view+json": {
       "model_id": "2c9d1438142e474dbe0e55c0a73a366d",
       "version_major": 2,
       "version_minor": 0
      },
      "text/plain": [
       "  0%|          | 0/159292 [00:00<?, ?it/s]"
      ]
     },
     "metadata": {},
     "output_type": "display_data"
    }
   ],
   "source": [
    "tqdm.pandas()\n",
    "df['text'] = df['text'].progress_apply(lemmatize)"
   ]
  },
  {
   "cell_type": "code",
   "execution_count": 17,
   "metadata": {},
   "outputs": [
    {
     "data": {
      "text/html": [
       "<div>\n",
       "<style scoped>\n",
       "    .dataframe tbody tr th:only-of-type {\n",
       "        vertical-align: middle;\n",
       "    }\n",
       "\n",
       "    .dataframe tbody tr th {\n",
       "        vertical-align: top;\n",
       "    }\n",
       "\n",
       "    .dataframe thead th {\n",
       "        text-align: right;\n",
       "    }\n",
       "</style>\n",
       "<table border=\"1\" class=\"dataframe\">\n",
       "  <thead>\n",
       "    <tr style=\"text-align: right;\">\n",
       "      <th></th>\n",
       "      <th>Unnamed: 0</th>\n",
       "      <th>Unnamed: 0.1</th>\n",
       "      <th>text</th>\n",
       "      <th>toxic</th>\n",
       "    </tr>\n",
       "  </thead>\n",
       "  <tbody>\n",
       "    <tr>\n",
       "      <th>0</th>\n",
       "      <td>0</td>\n",
       "      <td>0</td>\n",
       "      <td>explanation edit username hardcore metallica f...</td>\n",
       "      <td>0</td>\n",
       "    </tr>\n",
       "    <tr>\n",
       "      <th>1</th>\n",
       "      <td>1</td>\n",
       "      <td>1</td>\n",
       "      <td>d aww match background colour m seemingly stuc...</td>\n",
       "      <td>0</td>\n",
       "    </tr>\n",
       "    <tr>\n",
       "      <th>2</th>\n",
       "      <td>2</td>\n",
       "      <td>2</td>\n",
       "      <td>hey man m try edit war guy constantly remove r...</td>\n",
       "      <td>0</td>\n",
       "    </tr>\n",
       "    <tr>\n",
       "      <th>3</th>\n",
       "      <td>3</td>\n",
       "      <td>3</td>\n",
       "      <td>real suggestion improvement wonder section sta...</td>\n",
       "      <td>0</td>\n",
       "    </tr>\n",
       "    <tr>\n",
       "      <th>4</th>\n",
       "      <td>4</td>\n",
       "      <td>4</td>\n",
       "      <td>sir hero chance remember page</td>\n",
       "      <td>0</td>\n",
       "    </tr>\n",
       "  </tbody>\n",
       "</table>\n",
       "</div>"
      ],
      "text/plain": [
       "   Unnamed: 0  Unnamed: 0.1  \\\n",
       "0           0             0   \n",
       "1           1             1   \n",
       "2           2             2   \n",
       "3           3             3   \n",
       "4           4             4   \n",
       "\n",
       "                                                text  toxic  \n",
       "0  explanation edit username hardcore metallica f...      0  \n",
       "1  d aww match background colour m seemingly stuc...      0  \n",
       "2  hey man m try edit war guy constantly remove r...      0  \n",
       "3  real suggestion improvement wonder section sta...      0  \n",
       "4                      sir hero chance remember page      0  "
      ]
     },
     "execution_count": 17,
     "metadata": {},
     "output_type": "execute_result"
    }
   ],
   "source": [
    "df.head()"
   ]
  },
  {
   "cell_type": "markdown",
   "metadata": {},
   "source": [
    "Сохраним наши данные для последующего пропуска шага лемматизации"
   ]
  },
  {
   "cell_type": "code",
   "execution_count": 18,
   "metadata": {},
   "outputs": [
    {
     "data": {
      "text/plain": [
       "['toxic_comments_lemmas.csv']"
      ]
     },
     "execution_count": 18,
     "metadata": {},
     "output_type": "execute_result"
    }
   ],
   "source": [
    "dump(df, 'toxic_comments_lemmas.csv')"
   ]
  },
  {
   "cell_type": "markdown",
   "metadata": {},
   "source": [
    "Загрузим наши данные сохраненные после лемматизации"
   ]
  },
  {
   "cell_type": "code",
   "execution_count": 19,
   "metadata": {},
   "outputs": [],
   "source": [
    "df = load('toxic_comments_lemmas.csv')"
   ]
  },
  {
   "cell_type": "markdown",
   "metadata": {},
   "source": [
    "На данном шаге мы просмотрели наши данные, очистили их и лемматизировали.\n",
    "\n",
    "Обучим наши модели на подготовленных данных"
   ]
  },
  {
   "cell_type": "markdown",
   "metadata": {},
   "source": [
    "<a id=\"step_2\"></a>\n",
    "## Обучение"
   ]
  },
  {
   "cell_type": "markdown",
   "metadata": {},
   "source": [
    "Разобьем наши данные на обучающую и тестовую выборки в соотношении 75:25"
   ]
  },
  {
   "cell_type": "code",
   "execution_count": 20,
   "metadata": {},
   "outputs": [],
   "source": [
    "features = df['text']\n",
    "target = df['toxic']\n",
    "features_train, features_test, target_train, target_test = train_test_split(\n",
    "    features, target, test_size=0.25, random_state=12345)"
   ]
  },
  {
   "cell_type": "markdown",
   "metadata": {},
   "source": [
    "Создадим признаки с учетом стоп-слов и выделим целевые признаки"
   ]
  },
  {
   "cell_type": "code",
   "execution_count": 21,
   "metadata": {},
   "outputs": [
    {
     "name": "stderr",
     "output_type": "stream",
     "text": [
      "[nltk_data] Downloading package stopwords to\n",
      "[nltk_data]     /home/s.prisyazhny/nltk_data...\n",
      "[nltk_data]   Package stopwords is already up-to-date!\n"
     ]
    }
   ],
   "source": [
    "# Загрузим стоп-слова\n",
    "nltk.download('stopwords')\n",
    "stopwords = set(nltk_stopwords.words('english'))\n",
    "\n",
    "# Создадим счетчик, указав в нем стоп-слова\n",
    "count_tf_idf = TfidfVectorizer(stop_words=stopwords)\n",
    "# Посчитаем TD-IDF для корпуса текстов\n",
    "tf_idf = count_tf_idf.fit(features_train)\n",
    "# Создадим признаки\n",
    "features_train = tf_idf.transform(features_train)\n",
    "features_test = tf_idf.transform(features_test)"
   ]
  },
  {
   "cell_type": "markdown",
   "metadata": {},
   "source": [
    "Функция обучения наших моделей, поиска наилучшей метрики f1 и подобранных параметров"
   ]
  },
  {
   "cell_type": "code",
   "execution_count": 22,
   "metadata": {},
   "outputs": [],
   "source": [
    "def model_look(model: Any, parameters: Dict, features: np.array, target: np.array):\n",
    "    model_grid = GridSearchCV(model, parameters, cv=5, scoring='f1', verbose=0)\n",
    "    model_grid.fit(features, target)\n",
    "    return model_grid.best_score_, model_grid.best_params_"
   ]
  },
  {
   "cell_type": "markdown",
   "metadata": {},
   "source": [
    "Обучим модель логистической регресии"
   ]
  },
  {
   "cell_type": "code",
   "execution_count": 23,
   "metadata": {
    "scrolled": true
   },
   "outputs": [
    {
     "name": "stdout",
     "output_type": "stream",
     "text": [
      "Лучшие параметры модели линейной регрессии: {'C': 26, 'max_iter': 8}\n",
      "Дали f1 модели: 0.7705561707891173\n"
     ]
    }
   ],
   "source": [
    "parameters = {'C': range(25, 28, 1), 'max_iter': range(6, 10, 1)}\n",
    "f1, best_parameters = model_look(\n",
    "    LogisticRegression(random_state=12345, solver='liblinear'),\n",
    "    parameters,\n",
    "    features_train,\n",
    "    target_train\n",
    ")\n",
    "print('Лучшие параметры модели линейной регрессии:', best_parameters)\n",
    "print('Дали f1 модели:', f1)"
   ]
  },
  {
   "cell_type": "code",
   "execution_count": 24,
   "metadata": {},
   "outputs": [
    {
     "data": {
      "text/html": [
       "<div>\n",
       "<style scoped>\n",
       "    .dataframe tbody tr th:only-of-type {\n",
       "        vertical-align: middle;\n",
       "    }\n",
       "\n",
       "    .dataframe tbody tr th {\n",
       "        vertical-align: top;\n",
       "    }\n",
       "\n",
       "    .dataframe thead th {\n",
       "        text-align: right;\n",
       "    }\n",
       "</style>\n",
       "<table border=\"1\" class=\"dataframe\">\n",
       "  <thead>\n",
       "    <tr style=\"text-align: right;\">\n",
       "      <th></th>\n",
       "      <th>model</th>\n",
       "      <th>best_parameters_train</th>\n",
       "      <th>f1_train</th>\n",
       "    </tr>\n",
       "  </thead>\n",
       "  <tbody>\n",
       "    <tr>\n",
       "      <th>0</th>\n",
       "      <td>LogisticRegression</td>\n",
       "      <td>{'C': 26, 'max_iter': 8}</td>\n",
       "      <td>0.770556</td>\n",
       "    </tr>\n",
       "  </tbody>\n",
       "</table>\n",
       "</div>"
      ],
      "text/plain": [
       "                model     best_parameters_train  f1_train\n",
       "0  LogisticRegression  {'C': 26, 'max_iter': 8}  0.770556"
      ]
     },
     "execution_count": 24,
     "metadata": {},
     "output_type": "execute_result"
    }
   ],
   "source": [
    "results = pd.DataFrame ({'model':['LogisticRegression'], 'best_parameters_train':[best_parameters], 'f1_train':[f1]})\n",
    "results"
   ]
  },
  {
   "cell_type": "markdown",
   "metadata": {},
   "source": [
    "Обучим модель дерева решений"
   ]
  },
  {
   "cell_type": "code",
   "execution_count": 25,
   "metadata": {
    "scrolled": true
   },
   "outputs": [
    {
     "name": "stdout",
     "output_type": "stream",
     "text": [
      "Лучшие параметры модели дерева решений: {'max_depth': 123}\n",
      "Дали f1 модели: 0.7291204591867367\n"
     ]
    }
   ],
   "source": [
    "parameters = {'max_depth': range(122, 125, 1)}\n",
    "f1, best_parameters = model_look(\n",
    "    DecisionTreeClassifier(random_state=12345),\n",
    "    parameters,\n",
    "    features_train,\n",
    "    target_train\n",
    ")\n",
    "print('Лучшие параметры модели дерева решений:', best_parameters)\n",
    "print('Дали f1 модели:', f1)"
   ]
  },
  {
   "cell_type": "code",
   "execution_count": 26,
   "metadata": {},
   "outputs": [
    {
     "data": {
      "text/html": [
       "<div>\n",
       "<style scoped>\n",
       "    .dataframe tbody tr th:only-of-type {\n",
       "        vertical-align: middle;\n",
       "    }\n",
       "\n",
       "    .dataframe tbody tr th {\n",
       "        vertical-align: top;\n",
       "    }\n",
       "\n",
       "    .dataframe thead th {\n",
       "        text-align: right;\n",
       "    }\n",
       "</style>\n",
       "<table border=\"1\" class=\"dataframe\">\n",
       "  <thead>\n",
       "    <tr style=\"text-align: right;\">\n",
       "      <th></th>\n",
       "      <th>model</th>\n",
       "      <th>best_parameters_train</th>\n",
       "      <th>f1_train</th>\n",
       "    </tr>\n",
       "  </thead>\n",
       "  <tbody>\n",
       "    <tr>\n",
       "      <th>0</th>\n",
       "      <td>LogisticRegression</td>\n",
       "      <td>{'C': 26, 'max_iter': 8}</td>\n",
       "      <td>0.770556</td>\n",
       "    </tr>\n",
       "    <tr>\n",
       "      <th>1</th>\n",
       "      <td>DecisionTreeClassifier</td>\n",
       "      <td>{'max_depth': 123}</td>\n",
       "      <td>0.729120</td>\n",
       "    </tr>\n",
       "  </tbody>\n",
       "</table>\n",
       "</div>"
      ],
      "text/plain": [
       "                    model     best_parameters_train  f1_train\n",
       "0      LogisticRegression  {'C': 26, 'max_iter': 8}  0.770556\n",
       "1  DecisionTreeClassifier        {'max_depth': 123}  0.729120"
      ]
     },
     "execution_count": 26,
     "metadata": {},
     "output_type": "execute_result"
    }
   ],
   "source": [
    "results = results.append(\n",
    "    {'model':'DecisionTreeClassifier', 'best_parameters_train':best_parameters, 'f1_train':f1},\n",
    "    ignore_index=True\n",
    ")\n",
    "results"
   ]
  },
  {
   "cell_type": "markdown",
   "metadata": {},
   "source": [
    "Обучим модель случайного леса"
   ]
  },
  {
   "cell_type": "code",
   "execution_count": 27,
   "metadata": {
    "scrolled": true
   },
   "outputs": [
    {
     "name": "stdout",
     "output_type": "stream",
     "text": [
      "Лучшие параметры модели случайного леса: {'max_depth': 214, 'n_estimators': 4}\n",
      "Дали f1 модели: 0.5842265785882731\n"
     ]
    }
   ],
   "source": [
    "parameters = {'max_depth': range(213, 216, 1), 'n_estimators': range(3, 6, 1)}\n",
    "f1, best_parameters = model_look(\n",
    "    RandomForestClassifier(random_state=12345),\n",
    "    parameters,\n",
    "    features_train,\n",
    "    target_train\n",
    ")\n",
    "print('Лучшие параметры модели случайного леса:', best_parameters)\n",
    "print('Дали f1 модели:', f1)"
   ]
  },
  {
   "cell_type": "code",
   "execution_count": 28,
   "metadata": {},
   "outputs": [
    {
     "data": {
      "text/html": [
       "<div>\n",
       "<style scoped>\n",
       "    .dataframe tbody tr th:only-of-type {\n",
       "        vertical-align: middle;\n",
       "    }\n",
       "\n",
       "    .dataframe tbody tr th {\n",
       "        vertical-align: top;\n",
       "    }\n",
       "\n",
       "    .dataframe thead th {\n",
       "        text-align: right;\n",
       "    }\n",
       "</style>\n",
       "<table border=\"1\" class=\"dataframe\">\n",
       "  <thead>\n",
       "    <tr style=\"text-align: right;\">\n",
       "      <th></th>\n",
       "      <th>model</th>\n",
       "      <th>best_parameters_train</th>\n",
       "      <th>f1_train</th>\n",
       "    </tr>\n",
       "  </thead>\n",
       "  <tbody>\n",
       "    <tr>\n",
       "      <th>0</th>\n",
       "      <td>LogisticRegression</td>\n",
       "      <td>{'C': 26, 'max_iter': 8}</td>\n",
       "      <td>0.770556</td>\n",
       "    </tr>\n",
       "    <tr>\n",
       "      <th>1</th>\n",
       "      <td>DecisionTreeClassifier</td>\n",
       "      <td>{'max_depth': 123}</td>\n",
       "      <td>0.729120</td>\n",
       "    </tr>\n",
       "    <tr>\n",
       "      <th>2</th>\n",
       "      <td>RandomForestClassifier</td>\n",
       "      <td>{'max_depth': 214, 'n_estimators': 4}</td>\n",
       "      <td>0.584227</td>\n",
       "    </tr>\n",
       "  </tbody>\n",
       "</table>\n",
       "</div>"
      ],
      "text/plain": [
       "                    model                  best_parameters_train  f1_train\n",
       "0      LogisticRegression               {'C': 26, 'max_iter': 8}  0.770556\n",
       "1  DecisionTreeClassifier                     {'max_depth': 123}  0.729120\n",
       "2  RandomForestClassifier  {'max_depth': 214, 'n_estimators': 4}  0.584227"
      ]
     },
     "execution_count": 28,
     "metadata": {},
     "output_type": "execute_result"
    }
   ],
   "source": [
    "results = results.append(\n",
    "    {'model':'RandomForestClassifier', 'best_parameters_train':best_parameters, 'f1_train':f1},\n",
    "    ignore_index=True\n",
    ")\n",
    "results"
   ]
  },
  {
   "cell_type": "markdown",
   "metadata": {},
   "source": [
    "Обучим модель CatBoostClassifier"
   ]
  },
  {
   "cell_type": "code",
   "execution_count": 29,
   "metadata": {
    "scrolled": true
   },
   "outputs": [
    {
     "name": "stdout",
     "output_type": "stream",
     "text": [
      "Лучшие параметры модели CatBoostClassifier: {'iterations': 1050}\n",
      "Дали f1 модели: 0.7473409085261427\n"
     ]
    }
   ],
   "source": [
    "parameters = {'iterations': range(1000, 1150, 50)}\n",
    "f1, best_parameters = model_look(\n",
    "    CatBoostClassifier(random_state=12345, logging_level='Silent'),\n",
    "    parameters,\n",
    "    features_train,\n",
    "    target_train\n",
    ")\n",
    "print('Лучшие параметры модели CatBoostClassifier:', best_parameters)\n",
    "print('Дали f1 модели:', f1)"
   ]
  },
  {
   "cell_type": "code",
   "execution_count": 30,
   "metadata": {},
   "outputs": [
    {
     "data": {
      "text/html": [
       "<div>\n",
       "<style scoped>\n",
       "    .dataframe tbody tr th:only-of-type {\n",
       "        vertical-align: middle;\n",
       "    }\n",
       "\n",
       "    .dataframe tbody tr th {\n",
       "        vertical-align: top;\n",
       "    }\n",
       "\n",
       "    .dataframe thead th {\n",
       "        text-align: right;\n",
       "    }\n",
       "</style>\n",
       "<table border=\"1\" class=\"dataframe\">\n",
       "  <thead>\n",
       "    <tr style=\"text-align: right;\">\n",
       "      <th></th>\n",
       "      <th>model</th>\n",
       "      <th>best_parameters_train</th>\n",
       "      <th>f1_train</th>\n",
       "    </tr>\n",
       "  </thead>\n",
       "  <tbody>\n",
       "    <tr>\n",
       "      <th>0</th>\n",
       "      <td>LogisticRegression</td>\n",
       "      <td>{'C': 26, 'max_iter': 8}</td>\n",
       "      <td>0.770556</td>\n",
       "    </tr>\n",
       "    <tr>\n",
       "      <th>1</th>\n",
       "      <td>DecisionTreeClassifier</td>\n",
       "      <td>{'max_depth': 123}</td>\n",
       "      <td>0.729120</td>\n",
       "    </tr>\n",
       "    <tr>\n",
       "      <th>2</th>\n",
       "      <td>RandomForestClassifier</td>\n",
       "      <td>{'max_depth': 214, 'n_estimators': 4}</td>\n",
       "      <td>0.584227</td>\n",
       "    </tr>\n",
       "    <tr>\n",
       "      <th>3</th>\n",
       "      <td>CatBoostClassifier</td>\n",
       "      <td>{'iterations': 1050}</td>\n",
       "      <td>0.747341</td>\n",
       "    </tr>\n",
       "  </tbody>\n",
       "</table>\n",
       "</div>"
      ],
      "text/plain": [
       "                    model                  best_parameters_train  f1_train\n",
       "0      LogisticRegression               {'C': 26, 'max_iter': 8}  0.770556\n",
       "1  DecisionTreeClassifier                     {'max_depth': 123}  0.729120\n",
       "2  RandomForestClassifier  {'max_depth': 214, 'n_estimators': 4}  0.584227\n",
       "3      CatBoostClassifier                   {'iterations': 1050}  0.747341"
      ]
     },
     "execution_count": 30,
     "metadata": {},
     "output_type": "execute_result"
    }
   ],
   "source": [
    "results = results.append(\n",
    "    {'model':'CatBoostClassifier', 'best_parameters_train':best_parameters, 'f1_train':f1},\n",
    "    ignore_index=True\n",
    ")\n",
    "results"
   ]
  },
  {
   "cell_type": "markdown",
   "metadata": {},
   "source": [
    "На данном этапе мы обучили наши данные моделями машинного обучения и выявили оптимальные гиперпараметры для этих моделей. Проверим полученные значения на тестовых данных"
   ]
  },
  {
   "cell_type": "markdown",
   "metadata": {},
   "source": [
    "Функция валидации моделей на тестовой выборке и занесения результата метрики f1  в таблицу"
   ]
  },
  {
   "cell_type": "code",
   "execution_count": 31,
   "metadata": {},
   "outputs": [],
   "source": [
    "def ml_result(\n",
    "    model: Any,\n",
    "    features_train: np.array,\n",
    "    target_train: np.array,\n",
    "    features_test: np.array,\n",
    "    target_test: np.array\n",
    ") -> float:\n",
    "        \n",
    "    model.fit(features_train, target_train)\n",
    "    \n",
    "    predictions = model.predict(features_test)\n",
    "    \n",
    "    f1 = f1_score(target_test, predictions)\n",
    "      \n",
    "    return f1"
   ]
  },
  {
   "cell_type": "markdown",
   "metadata": {},
   "source": [
    "Проверим модель логистической регрессии на тестовом наборе"
   ]
  },
  {
   "cell_type": "code",
   "execution_count": 32,
   "metadata": {},
   "outputs": [
    {
     "data": {
      "text/html": [
       "<div>\n",
       "<style scoped>\n",
       "    .dataframe tbody tr th:only-of-type {\n",
       "        vertical-align: middle;\n",
       "    }\n",
       "\n",
       "    .dataframe tbody tr th {\n",
       "        vertical-align: top;\n",
       "    }\n",
       "\n",
       "    .dataframe thead th {\n",
       "        text-align: right;\n",
       "    }\n",
       "</style>\n",
       "<table border=\"1\" class=\"dataframe\">\n",
       "  <thead>\n",
       "    <tr style=\"text-align: right;\">\n",
       "      <th></th>\n",
       "      <th>model</th>\n",
       "      <th>best_parameters_train</th>\n",
       "      <th>f1_train</th>\n",
       "      <th>f1_test</th>\n",
       "    </tr>\n",
       "  </thead>\n",
       "  <tbody>\n",
       "    <tr>\n",
       "      <th>0</th>\n",
       "      <td>LogisticRegression</td>\n",
       "      <td>{'C': 26, 'max_iter': 8}</td>\n",
       "      <td>0.770556</td>\n",
       "      <td>0.78663</td>\n",
       "    </tr>\n",
       "    <tr>\n",
       "      <th>1</th>\n",
       "      <td>DecisionTreeClassifier</td>\n",
       "      <td>{'max_depth': 123}</td>\n",
       "      <td>0.729120</td>\n",
       "      <td>NaN</td>\n",
       "    </tr>\n",
       "    <tr>\n",
       "      <th>2</th>\n",
       "      <td>RandomForestClassifier</td>\n",
       "      <td>{'max_depth': 214, 'n_estimators': 4}</td>\n",
       "      <td>0.584227</td>\n",
       "      <td>NaN</td>\n",
       "    </tr>\n",
       "    <tr>\n",
       "      <th>3</th>\n",
       "      <td>CatBoostClassifier</td>\n",
       "      <td>{'iterations': 1050}</td>\n",
       "      <td>0.747341</td>\n",
       "      <td>NaN</td>\n",
       "    </tr>\n",
       "  </tbody>\n",
       "</table>\n",
       "</div>"
      ],
      "text/plain": [
       "                    model                  best_parameters_train  f1_train  \\\n",
       "0      LogisticRegression               {'C': 26, 'max_iter': 8}  0.770556   \n",
       "1  DecisionTreeClassifier                     {'max_depth': 123}  0.729120   \n",
       "2  RandomForestClassifier  {'max_depth': 214, 'n_estimators': 4}  0.584227   \n",
       "3      CatBoostClassifier                   {'iterations': 1050}  0.747341   \n",
       "\n",
       "   f1_test  \n",
       "0  0.78663  \n",
       "1      NaN  \n",
       "2      NaN  \n",
       "3      NaN  "
      ]
     },
     "execution_count": 32,
     "metadata": {},
     "output_type": "execute_result"
    }
   ],
   "source": [
    "f1 = ml_result(\n",
    "    LogisticRegression(\n",
    "        random_state=12345, solver='liblinear', C=26, max_iter=8\n",
    "    ),\n",
    "    features_train,\n",
    "    target_train,\n",
    "    features_test,\n",
    "    target_test\n",
    ")\n",
    "results.loc[0, 'f1_test'] = f1\n",
    "results"
   ]
  },
  {
   "cell_type": "markdown",
   "metadata": {},
   "source": [
    "Проверим модель дерева решений на тестовом наборе"
   ]
  },
  {
   "cell_type": "code",
   "execution_count": 33,
   "metadata": {},
   "outputs": [
    {
     "data": {
      "text/html": [
       "<div>\n",
       "<style scoped>\n",
       "    .dataframe tbody tr th:only-of-type {\n",
       "        vertical-align: middle;\n",
       "    }\n",
       "\n",
       "    .dataframe tbody tr th {\n",
       "        vertical-align: top;\n",
       "    }\n",
       "\n",
       "    .dataframe thead th {\n",
       "        text-align: right;\n",
       "    }\n",
       "</style>\n",
       "<table border=\"1\" class=\"dataframe\">\n",
       "  <thead>\n",
       "    <tr style=\"text-align: right;\">\n",
       "      <th></th>\n",
       "      <th>model</th>\n",
       "      <th>best_parameters_train</th>\n",
       "      <th>f1_train</th>\n",
       "      <th>f1_test</th>\n",
       "    </tr>\n",
       "  </thead>\n",
       "  <tbody>\n",
       "    <tr>\n",
       "      <th>0</th>\n",
       "      <td>LogisticRegression</td>\n",
       "      <td>{'C': 26, 'max_iter': 8}</td>\n",
       "      <td>0.770556</td>\n",
       "      <td>0.786630</td>\n",
       "    </tr>\n",
       "    <tr>\n",
       "      <th>1</th>\n",
       "      <td>DecisionTreeClassifier</td>\n",
       "      <td>{'max_depth': 123}</td>\n",
       "      <td>0.729120</td>\n",
       "      <td>0.735188</td>\n",
       "    </tr>\n",
       "    <tr>\n",
       "      <th>2</th>\n",
       "      <td>RandomForestClassifier</td>\n",
       "      <td>{'max_depth': 214, 'n_estimators': 4}</td>\n",
       "      <td>0.584227</td>\n",
       "      <td>NaN</td>\n",
       "    </tr>\n",
       "    <tr>\n",
       "      <th>3</th>\n",
       "      <td>CatBoostClassifier</td>\n",
       "      <td>{'iterations': 1050}</td>\n",
       "      <td>0.747341</td>\n",
       "      <td>NaN</td>\n",
       "    </tr>\n",
       "  </tbody>\n",
       "</table>\n",
       "</div>"
      ],
      "text/plain": [
       "                    model                  best_parameters_train  f1_train  \\\n",
       "0      LogisticRegression               {'C': 26, 'max_iter': 8}  0.770556   \n",
       "1  DecisionTreeClassifier                     {'max_depth': 123}  0.729120   \n",
       "2  RandomForestClassifier  {'max_depth': 214, 'n_estimators': 4}  0.584227   \n",
       "3      CatBoostClassifier                   {'iterations': 1050}  0.747341   \n",
       "\n",
       "    f1_test  \n",
       "0  0.786630  \n",
       "1  0.735188  \n",
       "2       NaN  \n",
       "3       NaN  "
      ]
     },
     "execution_count": 33,
     "metadata": {},
     "output_type": "execute_result"
    }
   ],
   "source": [
    "f1 = ml_result(DecisionTreeClassifier(\n",
    "    random_state=12345, max_depth=123), features_train, target_train, features_test, target_test\n",
    "              )\n",
    "results.loc[1, 'f1_test'] = f1\n",
    "results"
   ]
  },
  {
   "cell_type": "markdown",
   "metadata": {},
   "source": [
    "Проверим модель случайного дерева на тестовом наборе"
   ]
  },
  {
   "cell_type": "code",
   "execution_count": 34,
   "metadata": {},
   "outputs": [
    {
     "data": {
      "text/html": [
       "<div>\n",
       "<style scoped>\n",
       "    .dataframe tbody tr th:only-of-type {\n",
       "        vertical-align: middle;\n",
       "    }\n",
       "\n",
       "    .dataframe tbody tr th {\n",
       "        vertical-align: top;\n",
       "    }\n",
       "\n",
       "    .dataframe thead th {\n",
       "        text-align: right;\n",
       "    }\n",
       "</style>\n",
       "<table border=\"1\" class=\"dataframe\">\n",
       "  <thead>\n",
       "    <tr style=\"text-align: right;\">\n",
       "      <th></th>\n",
       "      <th>model</th>\n",
       "      <th>best_parameters_train</th>\n",
       "      <th>f1_train</th>\n",
       "      <th>f1_test</th>\n",
       "    </tr>\n",
       "  </thead>\n",
       "  <tbody>\n",
       "    <tr>\n",
       "      <th>0</th>\n",
       "      <td>LogisticRegression</td>\n",
       "      <td>{'C': 26, 'max_iter': 8}</td>\n",
       "      <td>0.770556</td>\n",
       "      <td>0.786630</td>\n",
       "    </tr>\n",
       "    <tr>\n",
       "      <th>1</th>\n",
       "      <td>DecisionTreeClassifier</td>\n",
       "      <td>{'max_depth': 123}</td>\n",
       "      <td>0.729120</td>\n",
       "      <td>0.735188</td>\n",
       "    </tr>\n",
       "    <tr>\n",
       "      <th>2</th>\n",
       "      <td>RandomForestClassifier</td>\n",
       "      <td>{'max_depth': 214, 'n_estimators': 4}</td>\n",
       "      <td>0.584227</td>\n",
       "      <td>0.642857</td>\n",
       "    </tr>\n",
       "    <tr>\n",
       "      <th>3</th>\n",
       "      <td>CatBoostClassifier</td>\n",
       "      <td>{'iterations': 1050}</td>\n",
       "      <td>0.747341</td>\n",
       "      <td>NaN</td>\n",
       "    </tr>\n",
       "  </tbody>\n",
       "</table>\n",
       "</div>"
      ],
      "text/plain": [
       "                    model                  best_parameters_train  f1_train  \\\n",
       "0      LogisticRegression               {'C': 26, 'max_iter': 8}  0.770556   \n",
       "1  DecisionTreeClassifier                     {'max_depth': 123}  0.729120   \n",
       "2  RandomForestClassifier  {'max_depth': 214, 'n_estimators': 4}  0.584227   \n",
       "3      CatBoostClassifier                   {'iterations': 1050}  0.747341   \n",
       "\n",
       "    f1_test  \n",
       "0  0.786630  \n",
       "1  0.735188  \n",
       "2  0.642857  \n",
       "3       NaN  "
      ]
     },
     "execution_count": 34,
     "metadata": {},
     "output_type": "execute_result"
    }
   ],
   "source": [
    "f1 = ml_result(RandomForestClassifier(\n",
    "    random_state=12345, max_depth=214, n_estimators=4), features_train, target_train, features_test, target_test\n",
    "              )\n",
    "results.loc[2, 'f1_test'] = f1\n",
    "results"
   ]
  },
  {
   "cell_type": "markdown",
   "metadata": {},
   "source": [
    "Проверим модель CatBoostClassifier на тестовом наборе"
   ]
  },
  {
   "cell_type": "code",
   "execution_count": 35,
   "metadata": {
    "scrolled": true
   },
   "outputs": [
    {
     "data": {
      "text/html": [
       "<div>\n",
       "<style scoped>\n",
       "    .dataframe tbody tr th:only-of-type {\n",
       "        vertical-align: middle;\n",
       "    }\n",
       "\n",
       "    .dataframe tbody tr th {\n",
       "        vertical-align: top;\n",
       "    }\n",
       "\n",
       "    .dataframe thead th {\n",
       "        text-align: right;\n",
       "    }\n",
       "</style>\n",
       "<table border=\"1\" class=\"dataframe\">\n",
       "  <thead>\n",
       "    <tr style=\"text-align: right;\">\n",
       "      <th></th>\n",
       "      <th>model</th>\n",
       "      <th>best_parameters_train</th>\n",
       "      <th>f1_train</th>\n",
       "      <th>f1_test</th>\n",
       "    </tr>\n",
       "  </thead>\n",
       "  <tbody>\n",
       "    <tr>\n",
       "      <th>0</th>\n",
       "      <td>LogisticRegression</td>\n",
       "      <td>{'C': 26, 'max_iter': 8}</td>\n",
       "      <td>0.770556</td>\n",
       "      <td>0.786630</td>\n",
       "    </tr>\n",
       "    <tr>\n",
       "      <th>1</th>\n",
       "      <td>DecisionTreeClassifier</td>\n",
       "      <td>{'max_depth': 123}</td>\n",
       "      <td>0.729120</td>\n",
       "      <td>0.735188</td>\n",
       "    </tr>\n",
       "    <tr>\n",
       "      <th>2</th>\n",
       "      <td>RandomForestClassifier</td>\n",
       "      <td>{'max_depth': 214, 'n_estimators': 4}</td>\n",
       "      <td>0.584227</td>\n",
       "      <td>0.642857</td>\n",
       "    </tr>\n",
       "    <tr>\n",
       "      <th>3</th>\n",
       "      <td>CatBoostClassifier</td>\n",
       "      <td>{'iterations': 1050}</td>\n",
       "      <td>0.747341</td>\n",
       "      <td>0.759516</td>\n",
       "    </tr>\n",
       "  </tbody>\n",
       "</table>\n",
       "</div>"
      ],
      "text/plain": [
       "                    model                  best_parameters_train  f1_train  \\\n",
       "0      LogisticRegression               {'C': 26, 'max_iter': 8}  0.770556   \n",
       "1  DecisionTreeClassifier                     {'max_depth': 123}  0.729120   \n",
       "2  RandomForestClassifier  {'max_depth': 214, 'n_estimators': 4}  0.584227   \n",
       "3      CatBoostClassifier                   {'iterations': 1050}  0.747341   \n",
       "\n",
       "    f1_test  \n",
       "0  0.786630  \n",
       "1  0.735188  \n",
       "2  0.642857  \n",
       "3  0.759516  "
      ]
     },
     "execution_count": 35,
     "metadata": {},
     "output_type": "execute_result"
    }
   ],
   "source": [
    "f1 = ml_result(CatBoostClassifier(\n",
    "    random_state=12345, iterations=1050, logging_level='Silent'\n",
    "), features_train, target_train, features_test, target_test\n",
    "              )\n",
    "results.loc[3, 'f1_test'] = f1\n",
    "results"
   ]
  },
  {
   "cell_type": "markdown",
   "metadata": {},
   "source": [
    "На данном этапе мы обучили модели машинного обучения на тренировочной выборке и проверили их на тестовой выборке. Лучшими характеристиками и гарантированно успешно по условиям задачи себя показали модели логистической регрессии и CatBoostClassifier."
   ]
  },
  {
   "cell_type": "markdown",
   "metadata": {},
   "source": [
    "<a id=\"step_3\"></a>\n",
    "## Выводы"
   ]
  },
  {
   "cell_type": "markdown",
   "metadata": {},
   "source": [
    "Согласно условиям задачи мы можем выделить две модели, которые справились с возложенными на них функциями.\n",
    "\n",
    "Но, согласно полученных данных, рекомендовать мы будем только модель логистической регресии по двум причинам:\n",
    "\n",
    "1. Более точное предсказание.\n",
    "\n",
    "2. Намного меньшее время как обучения, так и предсказаний."
   ]
  },
  {
   "cell_type": "markdown",
   "metadata": {},
   "source": [
    "## Чек-лист проверки"
   ]
  },
  {
   "cell_type": "markdown",
   "metadata": {},
   "source": [
    "- [x]  Jupyter Notebook открыт\n",
    "- [x]  Весь код выполняется без ошибок\n",
    "- [x]  Ячейки с кодом расположены в порядке исполнения\n",
    "- [x]  Данные загружены и подготовлены\n",
    "- [x]  Модели обучены\n",
    "- [x]  Значение метрики *F1* не меньше 0.75\n",
    "- [x]  Выводы написаны"
   ]
  }
 ],
 "metadata": {
  "ExecuteTimeLog": [
   {
    "duration": 511,
    "start_time": "2022-05-15T06:17:03.379Z"
   },
   {
    "duration": 1113,
    "start_time": "2022-05-15T06:17:05.354Z"
   },
   {
    "duration": 10,
    "start_time": "2022-05-15T06:17:07.544Z"
   },
   {
    "duration": 877,
    "start_time": "2022-05-15T06:17:23.054Z"
   },
   {
    "duration": 96,
    "start_time": "2022-05-15T06:24:16.098Z"
   },
   {
    "duration": 10,
    "start_time": "2022-05-15T06:24:38.447Z"
   },
   {
    "duration": 9,
    "start_time": "2022-05-15T06:25:10.232Z"
   },
   {
    "duration": 13,
    "start_time": "2022-05-15T06:26:35.167Z"
   },
   {
    "duration": 4,
    "start_time": "2022-05-15T06:31:05.533Z"
   },
   {
    "duration": 4,
    "start_time": "2022-05-15T06:52:01.919Z"
   },
   {
    "duration": 4,
    "start_time": "2022-05-15T06:52:02.726Z"
   },
   {
    "duration": 58,
    "start_time": "2022-05-15T06:54:46.893Z"
   },
   {
    "duration": 4,
    "start_time": "2022-05-15T06:56:15.480Z"
   },
   {
    "duration": 4,
    "start_time": "2022-05-15T06:56:16.383Z"
   },
   {
    "duration": 52,
    "start_time": "2022-05-15T06:56:17.067Z"
   },
   {
    "duration": 4,
    "start_time": "2022-05-15T06:57:15.223Z"
   },
   {
    "duration": 4,
    "start_time": "2022-05-15T06:57:16.373Z"
   },
   {
    "duration": 49,
    "start_time": "2022-05-15T06:57:16.923Z"
   },
   {
    "duration": 14,
    "start_time": "2022-05-15T06:57:46.076Z"
   },
   {
    "duration": 4,
    "start_time": "2022-05-15T07:00:32.685Z"
   },
   {
    "duration": 3568,
    "start_time": "2022-05-15T07:00:50.013Z"
   },
   {
    "duration": 985,
    "start_time": "2022-05-15T07:02:06.113Z"
   },
   {
    "duration": 5,
    "start_time": "2022-05-15T07:02:12.362Z"
   },
   {
    "duration": 3374,
    "start_time": "2022-05-15T07:02:15.230Z"
   },
   {
    "duration": 1025,
    "start_time": "2022-05-15T07:02:54.282Z"
   },
   {
    "duration": 17,
    "start_time": "2022-05-15T07:03:03.665Z"
   },
   {
    "duration": 50,
    "start_time": "2022-05-15T07:03:54.000Z"
   },
   {
    "duration": 469,
    "start_time": "2022-05-15T07:07:30.714Z"
   },
   {
    "duration": 1169,
    "start_time": "2022-05-15T07:07:31.186Z"
   },
   {
    "duration": 12,
    "start_time": "2022-05-15T07:07:32.358Z"
   },
   {
    "duration": 880,
    "start_time": "2022-05-15T07:07:32.373Z"
   },
   {
    "duration": 36,
    "start_time": "2022-05-15T07:07:33.258Z"
   },
   {
    "duration": 6,
    "start_time": "2022-05-15T07:07:33.297Z"
   },
   {
    "duration": 3434,
    "start_time": "2022-05-15T07:07:33.305Z"
   },
   {
    "duration": 3,
    "start_time": "2022-05-15T07:07:36.742Z"
   },
   {
    "duration": 120,
    "start_time": "2022-05-15T07:07:36.747Z"
   },
   {
    "duration": 51,
    "start_time": "2022-05-15T07:08:21.616Z"
   },
   {
    "duration": 1162,
    "start_time": "2022-05-15T07:11:32.858Z"
   },
   {
    "duration": 50,
    "start_time": "2022-05-15T07:12:00.257Z"
   },
   {
    "duration": 946,
    "start_time": "2022-05-15T07:12:08.501Z"
   },
   {
    "duration": 986,
    "start_time": "2022-05-15T07:12:28.966Z"
   },
   {
    "duration": 22,
    "start_time": "2022-05-15T07:29:57.536Z"
   },
   {
    "duration": 5,
    "start_time": "2022-05-15T07:30:52.603Z"
   },
   {
    "duration": 3843,
    "start_time": "2022-05-15T07:30:54.586Z"
   },
   {
    "duration": 4,
    "start_time": "2022-05-15T07:31:09.262Z"
   },
   {
    "duration": 66754,
    "start_time": "2022-05-15T07:36:07.264Z"
   },
   {
    "duration": 58,
    "start_time": "2022-05-15T07:37:20.471Z"
   },
   {
    "duration": 26927,
    "start_time": "2022-05-15T07:38:10.010Z"
   },
   {
    "duration": 496,
    "start_time": "2022-05-15T07:38:47.424Z"
   },
   {
    "duration": 1085,
    "start_time": "2022-05-15T07:38:47.922Z"
   },
   {
    "duration": 12,
    "start_time": "2022-05-15T07:38:49.009Z"
   },
   {
    "duration": 989,
    "start_time": "2022-05-15T07:38:49.024Z"
   },
   {
    "duration": 9,
    "start_time": "2022-05-15T07:38:50.015Z"
   },
   {
    "duration": 5,
    "start_time": "2022-05-15T07:38:50.026Z"
   },
   {
    "duration": 3486,
    "start_time": "2022-05-15T07:38:50.033Z"
   },
   {
    "duration": 1082388,
    "start_time": "2022-05-15T07:38:53.522Z"
   },
   {
    "duration": 9,
    "start_time": "2022-05-15T08:00:15.869Z"
   },
   {
    "duration": 86811,
    "start_time": "2022-05-15T09:11:55.983Z"
   },
   {
    "duration": 993,
    "start_time": "2022-05-15T09:42:36.903Z"
   },
   {
    "duration": 10,
    "start_time": "2022-05-15T09:42:38.916Z"
   },
   {
    "duration": 871,
    "start_time": "2022-05-15T09:42:39.545Z"
   },
   {
    "duration": 1220,
    "start_time": "2022-05-15T09:43:11.273Z"
   },
   {
    "duration": 4,
    "start_time": "2022-05-15T09:43:18.031Z"
   },
   {
    "duration": 1788,
    "start_time": "2022-05-15T09:43:19.647Z"
   },
   {
    "duration": 5,
    "start_time": "2022-05-15T09:43:51.045Z"
   },
   {
    "duration": 2071,
    "start_time": "2022-05-15T09:43:51.673Z"
   },
   {
    "duration": 502,
    "start_time": "2022-05-15T09:47:44.635Z"
   },
   {
    "duration": 1058,
    "start_time": "2022-05-15T09:47:45.140Z"
   },
   {
    "duration": 12,
    "start_time": "2022-05-15T09:47:46.201Z"
   },
   {
    "duration": 935,
    "start_time": "2022-05-15T09:47:46.217Z"
   },
   {
    "duration": 569,
    "start_time": "2022-05-15T09:47:47.155Z"
   },
   {
    "duration": 5,
    "start_time": "2022-05-15T09:47:47.726Z"
   },
   {
    "duration": 2144,
    "start_time": "2022-05-15T09:47:47.733Z"
   },
   {
    "duration": 533,
    "start_time": "2022-05-15T09:59:18.197Z"
   },
   {
    "duration": 1067,
    "start_time": "2022-05-15T09:59:19.994Z"
   },
   {
    "duration": 10,
    "start_time": "2022-05-15T09:59:21.903Z"
   },
   {
    "duration": 949,
    "start_time": "2022-05-15T09:59:22.878Z"
   },
   {
    "duration": 539,
    "start_time": "2022-05-15T09:59:24.554Z"
   },
   {
    "duration": 6,
    "start_time": "2022-05-15T09:59:27.134Z"
   },
   {
    "duration": 10891,
    "start_time": "2022-05-15T09:59:28.375Z"
   },
   {
    "duration": 1078503,
    "start_time": "2022-05-15T09:59:46.410Z"
   },
   {
    "duration": 1295,
    "start_time": "2022-05-15T10:18:10.210Z"
   },
   {
    "duration": 12,
    "start_time": "2022-05-15T10:18:17.658Z"
   },
   {
    "duration": 72,
    "start_time": "2022-05-15T10:29:50.718Z"
   },
   {
    "duration": 10,
    "start_time": "2022-05-15T10:41:18.873Z"
   },
   {
    "duration": 1990,
    "start_time": "2022-05-15T10:42:00.609Z"
   },
   {
    "duration": 1057,
    "start_time": "2022-05-15T10:42:02.602Z"
   },
   {
    "duration": 11,
    "start_time": "2022-05-15T10:42:03.661Z"
   },
   {
    "duration": 889,
    "start_time": "2022-05-15T10:42:03.675Z"
   },
   {
    "duration": 521,
    "start_time": "2022-05-15T10:42:04.566Z"
   },
   {
    "duration": 5,
    "start_time": "2022-05-15T10:42:05.093Z"
   },
   {
    "duration": 10013,
    "start_time": "2022-05-15T10:42:05.100Z"
   },
   {
    "duration": 1070822,
    "start_time": "2022-05-15T10:42:15.116Z"
   },
   {
    "duration": 12,
    "start_time": "2022-05-15T11:00:05.941Z"
   },
   {
    "duration": 71,
    "start_time": "2022-05-15T11:04:46.102Z"
   },
   {
    "duration": 9,
    "start_time": "2022-05-15T11:04:51.917Z"
   },
   {
    "duration": 1974,
    "start_time": "2022-05-15T11:07:53.367Z"
   },
   {
    "duration": 1092,
    "start_time": "2022-05-15T11:07:55.344Z"
   },
   {
    "duration": 11,
    "start_time": "2022-05-15T11:07:56.438Z"
   },
   {
    "duration": 921,
    "start_time": "2022-05-15T11:07:56.452Z"
   },
   {
    "duration": 550,
    "start_time": "2022-05-15T11:07:57.375Z"
   },
   {
    "duration": 5,
    "start_time": "2022-05-15T11:07:57.928Z"
   },
   {
    "duration": 10525,
    "start_time": "2022-05-15T11:07:57.936Z"
   },
   {
    "duration": 1125598,
    "start_time": "2022-05-15T11:08:08.464Z"
   },
   {
    "duration": 29,
    "start_time": "2022-05-15T11:26:54.065Z"
   },
   {
    "duration": 195,
    "start_time": "2022-05-15T11:26:54.098Z"
   },
   {
    "duration": 0,
    "start_time": "2022-05-15T11:26:54.295Z"
   },
   {
    "duration": 0,
    "start_time": "2022-05-15T11:26:54.297Z"
   },
   {
    "duration": 0,
    "start_time": "2022-05-15T11:26:54.298Z"
   },
   {
    "duration": 15,
    "start_time": "2022-05-15T11:29:31.843Z"
   },
   {
    "duration": 5,
    "start_time": "2022-05-15T11:29:54.321Z"
   },
   {
    "duration": 11961,
    "start_time": "2022-05-15T11:30:00.487Z"
   },
   {
    "duration": 27319,
    "start_time": "2022-05-15T11:30:18.710Z"
   },
   {
    "duration": 75,
    "start_time": "2022-05-15T11:31:22.643Z"
   },
   {
    "duration": 2029,
    "start_time": "2022-05-15T11:31:29.839Z"
   },
   {
    "duration": 17172,
    "start_time": "2022-05-15T11:31:40.022Z"
   },
   {
    "duration": 4,
    "start_time": "2022-05-15T11:32:11.056Z"
   },
   {
    "duration": 2514,
    "start_time": "2022-05-15T11:32:57.394Z"
   },
   {
    "duration": 23309,
    "start_time": "2022-05-15T11:33:09.847Z"
   },
   {
    "duration": 191,
    "start_time": "2022-05-15T11:33:35.194Z"
   },
   {
    "duration": 5,
    "start_time": "2022-05-15T11:34:24.709Z"
   },
   {
    "duration": 144,
    "start_time": "2022-05-15T11:34:29.467Z"
   },
   {
    "duration": 18,
    "start_time": "2022-05-15T11:34:59.072Z"
   },
   {
    "duration": 1826,
    "start_time": "2022-05-15T11:36:24.393Z"
   },
   {
    "duration": 18945,
    "start_time": "2022-05-15T11:36:35.009Z"
   },
   {
    "duration": 27930,
    "start_time": "2022-05-15T11:36:58.512Z"
   },
   {
    "duration": 5,
    "start_time": "2022-05-15T11:41:54.625Z"
   },
   {
    "duration": 176,
    "start_time": "2022-05-15T15:26:58.111Z"
   },
   {
    "duration": 2336,
    "start_time": "2022-05-15T15:27:27.500Z"
   },
   {
    "duration": 1213,
    "start_time": "2022-05-15T15:27:29.839Z"
   },
   {
    "duration": 11,
    "start_time": "2022-05-15T15:27:31.054Z"
   },
   {
    "duration": 993,
    "start_time": "2022-05-15T15:27:31.069Z"
   },
   {
    "duration": 608,
    "start_time": "2022-05-15T15:27:32.064Z"
   },
   {
    "duration": 21,
    "start_time": "2022-05-15T15:27:32.675Z"
   },
   {
    "duration": 11964,
    "start_time": "2022-05-15T15:27:32.698Z"
   },
   {
    "duration": 384820,
    "start_time": "2022-05-15T15:27:44.665Z"
   },
   {
    "duration": 0,
    "start_time": "2022-05-15T15:34:09.492Z"
   },
   {
    "duration": 0,
    "start_time": "2022-05-15T15:34:09.494Z"
   },
   {
    "duration": 0,
    "start_time": "2022-05-15T15:34:09.496Z"
   },
   {
    "duration": 0,
    "start_time": "2022-05-15T15:34:09.498Z"
   },
   {
    "duration": 38503,
    "start_time": "2022-05-15T15:34:16.667Z"
   },
   {
    "duration": 23864,
    "start_time": "2022-05-15T15:35:02.350Z"
   },
   {
    "duration": 88,
    "start_time": "2022-05-15T15:52:00.089Z"
   },
   {
    "duration": 6,
    "start_time": "2022-05-15T15:52:09.230Z"
   },
   {
    "duration": 17,
    "start_time": "2022-05-15T15:52:11.028Z"
   },
   {
    "duration": 19,
    "start_time": "2022-05-15T15:52:32.013Z"
   },
   {
    "duration": 7,
    "start_time": "2022-05-15T15:53:23.689Z"
   },
   {
    "duration": 7130320,
    "start_time": "2022-05-15T15:53:30.799Z"
   },
   {
    "duration": 1209940,
    "start_time": "2022-05-15T17:54:08.345Z"
   },
   {
    "duration": 483932,
    "start_time": "2022-05-15T18:15:08.928Z"
   },
   {
    "duration": 716817,
    "start_time": "2022-05-15T18:27:21.243Z"
   },
   {
    "duration": 740004,
    "start_time": "2022-05-15T18:39:44.131Z"
   },
   {
    "duration": 715611,
    "start_time": "2022-05-15T18:59:24.167Z"
   },
   {
    "duration": 1215510,
    "start_time": "2022-05-15T19:11:46.369Z"
   },
   {
    "duration": 718890,
    "start_time": "2022-05-15T19:33:11.977Z"
   },
   {
    "duration": 1166439,
    "start_time": "2022-05-15T19:46:06.013Z"
   },
   {
    "duration": 24,
    "start_time": "2022-05-15T20:08:20.235Z"
   },
   {
    "duration": 4,
    "start_time": "2022-05-15T20:12:54.153Z"
   },
   {
    "duration": 245,
    "start_time": "2022-05-15T20:12:56.689Z"
   },
   {
    "duration": 6,
    "start_time": "2022-05-15T20:17:52.515Z"
   },
   {
    "duration": 9,
    "start_time": "2022-05-15T20:18:55.919Z"
   },
   {
    "duration": 253,
    "start_time": "2022-05-15T20:18:56.927Z"
   },
   {
    "duration": 13,
    "start_time": "2022-05-15T20:19:28.277Z"
   },
   {
    "duration": 22,
    "start_time": "2022-05-15T20:19:44.732Z"
   },
   {
    "duration": 268,
    "start_time": "2022-05-15T20:19:49.197Z"
   },
   {
    "duration": 12,
    "start_time": "2022-05-15T20:20:51.235Z"
   },
   {
    "duration": 18,
    "start_time": "2022-05-15T20:20:54.181Z"
   },
   {
    "duration": 232,
    "start_time": "2022-05-15T20:21:00.256Z"
   },
   {
    "duration": 21,
    "start_time": "2022-05-15T20:22:13.586Z"
   },
   {
    "duration": 17153,
    "start_time": "2022-05-15T20:22:28.214Z"
   },
   {
    "duration": 105,
    "start_time": "2022-05-16T07:11:49.228Z"
   },
   {
    "duration": 6,
    "start_time": "2022-05-16T07:14:25.827Z"
   },
   {
    "duration": 2347004,
    "start_time": "2022-05-16T07:14:35.510Z"
   },
   {
    "duration": 17,
    "start_time": "2022-05-16T07:53:42.517Z"
   },
   {
    "duration": 2645661,
    "start_time": "2022-05-16T07:54:08.862Z"
   },
   {
    "duration": 1896751,
    "start_time": "2022-05-16T08:38:44.774Z"
   },
   {
    "duration": 2024343,
    "start_time": "2022-05-16T09:13:39.914Z"
   },
   {
    "duration": 28,
    "start_time": "2022-05-16T10:16:24.699Z"
   },
   {
    "duration": 0,
    "start_time": "2022-05-16T17:06:26.094Z"
   },
   {
    "duration": 2461,
    "start_time": "2022-05-16T17:06:56.813Z"
   },
   {
    "duration": 1336,
    "start_time": "2022-05-16T17:07:04.026Z"
   },
   {
    "duration": 11,
    "start_time": "2022-05-16T17:07:07.376Z"
   },
   {
    "duration": 1174,
    "start_time": "2022-05-16T17:07:08.534Z"
   },
   {
    "duration": 513,
    "start_time": "2022-05-16T17:07:10.541Z"
   },
   {
    "duration": 8,
    "start_time": "2022-05-16T17:07:13.317Z"
   },
   {
    "duration": 12696,
    "start_time": "2022-05-16T17:07:14.919Z"
   },
   {
    "duration": 30006,
    "start_time": "2022-05-16T17:07:41.183Z"
   },
   {
    "duration": 25977,
    "start_time": "2022-05-16T17:08:17.991Z"
   },
   {
    "duration": 83,
    "start_time": "2022-05-16T17:08:54.259Z"
   },
   {
    "duration": 4,
    "start_time": "2022-05-16T17:08:56.312Z"
   },
   {
    "duration": 456620,
    "start_time": "2022-05-16T17:08:57.105Z"
   },
   {
    "duration": 20,
    "start_time": "2022-05-16T17:16:56.639Z"
   },
   {
    "duration": 1133978,
    "start_time": "2022-05-16T17:16:58.585Z"
   },
   {
    "duration": 21,
    "start_time": "2022-05-16T17:38:16.378Z"
   },
   {
    "duration": 31916558,
    "start_time": "2022-05-16T17:38:21.398Z"
   },
   {
    "duration": 69,
    "start_time": "2022-05-17T05:22:37.836Z"
   },
   {
    "duration": 2002,
    "start_time": "2022-05-17T05:22:45.972Z"
   },
   {
    "duration": 1047,
    "start_time": "2022-05-17T05:22:50.284Z"
   },
   {
    "duration": 5846,
    "start_time": "2022-05-17T05:22:59.081Z"
   },
   {
    "duration": 20854,
    "start_time": "2022-05-17T05:23:15.011Z"
   },
   {
    "duration": 74,
    "start_time": "2022-05-17T05:23:37.914Z"
   },
   {
    "duration": 5,
    "start_time": "2022-05-17T05:23:40.810Z"
   },
   {
    "duration": 444548,
    "start_time": "2022-05-17T05:23:41.556Z"
   },
   {
    "duration": 14,
    "start_time": "2022-05-17T05:50:40.131Z"
   },
   {
    "duration": 978143,
    "start_time": "2022-05-17T05:50:45.109Z"
   },
   {
    "duration": 17,
    "start_time": "2022-05-17T06:14:57.330Z"
   },
   {
    "duration": 9839,
    "start_time": "2022-05-17T06:15:08.775Z"
   },
   {
    "duration": 200967,
    "start_time": "2022-05-17T06:15:25.656Z"
   },
   {
    "duration": 1881732,
    "start_time": "2022-05-17T06:19:28.982Z"
   },
   {
    "duration": 2345287,
    "start_time": "2022-05-17T06:51:33.421Z"
   },
   {
    "duration": 1059127,
    "start_time": "2022-05-17T07:31:29.568Z"
   },
   {
    "duration": 621519,
    "start_time": "2022-05-17T07:51:34.040Z"
   },
   {
    "duration": 5388,
    "start_time": "2022-05-17T08:14:18.475Z"
   },
   {
    "duration": 838367,
    "start_time": "2022-05-17T08:14:26.516Z"
   },
   {
    "duration": 1818616,
    "start_time": "2022-05-17T08:29:01.139Z"
   },
   {
    "duration": 533714,
    "start_time": "2022-05-17T09:00:24.805Z"
   },
   {
    "duration": 28,
    "start_time": "2022-05-17T09:26:13.356Z"
   },
   {
    "duration": 3034259,
    "start_time": "2022-05-17T09:26:18.585Z"
   },
   {
    "duration": 180,
    "start_time": "2022-05-17T10:22:51.361Z"
   },
   {
    "duration": 1997,
    "start_time": "2022-05-17T10:22:52.241Z"
   },
   {
    "duration": 9,
    "start_time": "2022-05-17T10:23:04.488Z"
   },
   {
    "duration": 580314,
    "start_time": "2022-05-17T10:23:09.650Z"
   },
   {
    "duration": 73142,
    "start_time": "2022-05-17T10:33:33.285Z"
   },
   {
    "duration": 5061,
    "start_time": "2022-05-17T10:35:40.704Z"
   },
   {
    "duration": 24752,
    "start_time": "2022-05-17T10:35:49.877Z"
   },
   {
    "duration": 76,
    "start_time": "2022-05-17T10:36:14.633Z"
   },
   {
    "duration": 5,
    "start_time": "2022-05-17T10:36:19.037Z"
   },
   {
    "duration": 489787,
    "start_time": "2022-05-17T10:36:19.581Z"
   },
   {
    "duration": 12,
    "start_time": "2022-05-17T10:44:29.371Z"
   },
   {
    "duration": 21,
    "start_time": "2022-05-17T10:45:23.340Z"
   },
   {
    "duration": 13,
    "start_time": "2022-05-17T10:45:32.788Z"
   },
   {
    "duration": 6,
    "start_time": "2022-05-17T10:45:46.733Z"
   },
   {
    "duration": 6,
    "start_time": "2022-05-17T10:46:18.167Z"
   },
   {
    "duration": 20501,
    "start_time": "2022-05-17T10:46:18.974Z"
   },
   {
    "duration": 19488,
    "start_time": "2022-05-17T10:47:02.133Z"
   },
   {
    "duration": 256103,
    "start_time": "2022-05-17T10:48:06.910Z"
   },
   {
    "duration": 55,
    "start_time": "2022-05-18T05:24:50.129Z"
   },
   {
    "duration": 1777,
    "start_time": "2022-05-18T05:25:06.496Z"
   },
   {
    "duration": 2336,
    "start_time": "2022-05-18T05:25:08.274Z"
   },
   {
    "duration": 8,
    "start_time": "2022-05-18T05:25:10.613Z"
   },
   {
    "duration": 738,
    "start_time": "2022-05-18T05:25:10.622Z"
   },
   {
    "duration": 418,
    "start_time": "2022-05-18T05:25:11.362Z"
   },
   {
    "duration": 4,
    "start_time": "2022-05-18T05:25:13.569Z"
   },
   {
    "duration": 7604,
    "start_time": "2022-05-18T05:25:14.359Z"
   },
   {
    "duration": 945934,
    "start_time": "2022-05-18T05:25:21.964Z"
   },
   {
    "duration": 9,
    "start_time": "2022-05-18T05:43:28.264Z"
   },
   {
    "duration": 2099,
    "start_time": "2022-05-18T05:43:34.319Z"
   },
   {
    "duration": 17014,
    "start_time": "2022-05-18T05:43:46.150Z"
   },
   {
    "duration": 60,
    "start_time": "2022-05-18T05:44:05.111Z"
   },
   {
    "duration": 3,
    "start_time": "2022-05-18T05:44:06.139Z"
   },
   {
    "duration": 440238,
    "start_time": "2022-05-18T05:44:06.822Z"
   },
   {
    "duration": 11,
    "start_time": "2022-05-18T05:54:44.675Z"
   },
   {
    "duration": 715198,
    "start_time": "2022-05-18T05:54:51.267Z"
   },
   {
    "duration": 12,
    "start_time": "2022-05-18T06:07:49.180Z"
   },
   {
    "duration": 114447,
    "start_time": "2022-05-18T06:07:55.143Z"
   },
   {
    "duration": 13,
    "start_time": "2022-05-18T06:11:56.344Z"
   },
   {
    "duration": 1457,
    "start_time": "2022-05-18T13:50:53.036Z"
   },
   {
    "duration": 3199,
    "start_time": "2022-05-18T13:50:55.986Z"
   },
   {
    "duration": 8,
    "start_time": "2022-05-18T13:51:01.090Z"
   },
   {
    "duration": 662,
    "start_time": "2022-05-18T13:51:04.435Z"
   },
   {
    "duration": 416,
    "start_time": "2022-05-18T13:51:08.042Z"
   },
   {
    "duration": 5,
    "start_time": "2022-05-18T13:51:10.665Z"
   },
   {
    "duration": 7781,
    "start_time": "2022-05-18T13:51:12.953Z"
   },
   {
    "duration": 4306,
    "start_time": "2022-05-18T13:51:26.338Z"
   },
   {
    "duration": 1970,
    "start_time": "2022-05-18T13:52:06.426Z"
   },
   {
    "duration": 1424,
    "start_time": "2022-05-18T13:52:13.894Z"
   },
   {
    "duration": 14772,
    "start_time": "2022-05-18T13:52:17.511Z"
   },
   {
    "duration": 44,
    "start_time": "2022-05-18T13:52:36.254Z"
   },
   {
    "duration": 3,
    "start_time": "2022-05-18T13:52:37.113Z"
   },
   {
    "duration": 180,
    "start_time": "2022-05-18T13:53:20.063Z"
   },
   {
    "duration": 12,
    "start_time": "2022-05-18T13:54:59.865Z"
   },
   {
    "duration": 1764,
    "start_time": "2022-05-18T18:32:25.086Z"
   },
   {
    "duration": 3463,
    "start_time": "2022-05-18T18:32:30.109Z"
   },
   {
    "duration": 8,
    "start_time": "2022-05-18T18:32:35.688Z"
   },
   {
    "duration": 713,
    "start_time": "2022-05-18T18:32:36.347Z"
   },
   {
    "duration": 421,
    "start_time": "2022-05-18T18:32:38.220Z"
   },
   {
    "duration": 6,
    "start_time": "2022-05-18T18:32:41.294Z"
   },
   {
    "duration": 8902,
    "start_time": "2022-05-18T18:32:43.436Z"
   },
   {
    "duration": 210,
    "start_time": "2022-05-18T18:32:55.277Z"
   },
   {
    "duration": 6,
    "start_time": "2022-05-18T18:33:33.289Z"
   },
   {
    "duration": 826635,
    "start_time": "2022-05-18T18:33:40.399Z"
   },
   {
    "duration": 8,
    "start_time": "2022-05-18T18:47:30.602Z"
   },
   {
    "duration": 2463,
    "start_time": "2022-05-18T18:47:32.336Z"
   },
   {
    "duration": 5457,
    "start_time": "2022-05-18T18:47:41.527Z"
   },
   {
    "duration": 60,
    "start_time": "2022-05-18T18:48:43.922Z"
   },
   {
    "duration": 1543,
    "start_time": "2022-05-18T18:48:53.642Z"
   },
   {
    "duration": 1531,
    "start_time": "2022-05-18T18:49:04.367Z"
   },
   {
    "duration": 4729,
    "start_time": "2022-05-18T18:49:24.811Z"
   },
   {
    "duration": 0,
    "start_time": "2022-05-18T19:06:52.291Z"
   },
   {
    "duration": 4,
    "start_time": "2022-05-18T19:07:18.755Z"
   },
   {
    "duration": 3461,
    "start_time": "2022-05-18T19:07:22.028Z"
   },
   {
    "duration": 9,
    "start_time": "2022-05-18T19:07:28.026Z"
   },
   {
    "duration": 735,
    "start_time": "2022-05-18T19:07:30.385Z"
   },
   {
    "duration": 593,
    "start_time": "2022-05-18T19:07:34.971Z"
   },
   {
    "duration": 4,
    "start_time": "2022-05-18T19:07:38.251Z"
   },
   {
    "duration": 8724,
    "start_time": "2022-05-18T19:07:40.960Z"
   },
   {
    "duration": 3,
    "start_time": "2022-05-18T19:27:29.687Z"
   },
   {
    "duration": 746,
    "start_time": "2022-05-18T19:27:33.062Z"
   },
   {
    "duration": 7,
    "start_time": "2022-05-18T19:27:34.116Z"
   },
   {
    "duration": 628,
    "start_time": "2022-05-18T19:27:34.867Z"
   },
   {
    "duration": 106,
    "start_time": "2022-05-18T19:27:36.106Z"
   },
   {
    "duration": 3,
    "start_time": "2022-05-18T19:27:38.091Z"
   },
   {
    "duration": 7263,
    "start_time": "2022-05-18T19:27:39.316Z"
   },
   {
    "duration": 669565,
    "start_time": "2022-05-18T19:27:50.791Z"
   },
   {
    "duration": 10,
    "start_time": "2022-05-18T19:39:02.593Z"
   },
   {
    "duration": 2289,
    "start_time": "2022-05-18T19:39:28.228Z"
   },
   {
    "duration": 5492,
    "start_time": "2022-05-18T19:39:32.963Z"
   },
   {
    "duration": 33,
    "start_time": "2022-05-18T19:47:48.785Z"
   },
   {
    "duration": 6832,
    "start_time": "2022-05-18T19:57:02.696Z"
   },
   {
    "duration": 889,
    "start_time": "2022-05-18T19:57:21.160Z"
   },
   {
    "duration": 9,
    "start_time": "2022-05-18T19:57:22.052Z"
   },
   {
    "duration": 771,
    "start_time": "2022-05-18T19:57:22.644Z"
   },
   {
    "duration": 102,
    "start_time": "2022-05-18T19:57:23.852Z"
   },
   {
    "duration": 4,
    "start_time": "2022-05-18T19:57:25.902Z"
   },
   {
    "duration": 7890,
    "start_time": "2022-05-18T19:57:27.646Z"
   },
   {
    "duration": 1025,
    "start_time": "2022-05-18T19:58:05.350Z"
   },
   {
    "duration": 4,
    "start_time": "2022-05-18T19:58:30.445Z"
   },
   {
    "duration": 436,
    "start_time": "2022-05-18T19:58:36.277Z"
   },
   {
    "duration": 4,
    "start_time": "2022-05-18T19:59:51.058Z"
   },
   {
    "duration": 2258909,
    "start_time": "2022-05-18T19:59:57.018Z"
   },
   {
    "duration": 2,
    "start_time": "2022-05-18T20:37:35.930Z"
   },
   {
    "duration": 8,
    "start_time": "2022-05-18T20:37:39.499Z"
   },
   {
    "duration": 1378,
    "start_time": "2022-05-18T20:37:51.075Z"
   },
   {
    "duration": 8613,
    "start_time": "2022-05-18T20:38:04.204Z"
   },
   {
    "duration": 38,
    "start_time": "2022-05-18T20:38:16.472Z"
   },
   {
    "duration": 3,
    "start_time": "2022-05-18T20:38:17.393Z"
   },
   {
    "duration": 476186,
    "start_time": "2022-05-18T20:38:18.447Z"
   },
   {
    "duration": 3,
    "start_time": "2022-05-18T20:46:14.635Z"
   },
   {
    "duration": 414330,
    "start_time": "2022-05-18T20:46:33.104Z"
   },
   {
    "duration": 522522,
    "start_time": "2022-05-18T20:54:23.611Z"
   },
   {
    "duration": 196144,
    "start_time": "2022-05-18T21:05:37.986Z"
   },
   {
    "duration": 99122,
    "start_time": "2022-05-18T21:09:28.611Z"
   },
   {
    "duration": 9,
    "start_time": "2022-05-18T21:11:40.102Z"
   },
   {
    "duration": 3,
    "start_time": "2022-05-18T21:11:46.949Z"
   },
   {
    "duration": 5295,
    "start_time": "2022-05-18T21:11:56.656Z"
   },
   {
    "duration": 2499875,
    "start_time": "2022-05-18T21:12:33.494Z"
   },
   {
    "duration": 978524,
    "start_time": "2022-05-18T21:54:36.293Z"
   },
   {
    "duration": 11,
    "start_time": "2022-05-18T22:11:22.556Z"
   },
   {
    "duration": 247678,
    "start_time": "2022-05-18T22:11:57.800Z"
   },
   {
    "duration": 12,
    "start_time": "2022-05-18T22:16:05.480Z"
   },
   {
    "duration": 528365,
    "start_time": "2022-05-18T22:16:05.493Z"
   },
   {
    "duration": 0,
    "start_time": "2022-05-18T22:24:53.860Z"
   },
   {
    "duration": 0,
    "start_time": "2022-05-18T22:24:53.861Z"
   },
   {
    "duration": 0,
    "start_time": "2022-05-18T22:24:53.862Z"
   },
   {
    "duration": 303619,
    "start_time": "2022-05-18T22:25:06.729Z"
   },
   {
    "duration": 12,
    "start_time": "2022-05-18T22:30:10.350Z"
   },
   {
    "duration": 943990,
    "start_time": "2022-05-18T22:30:10.363Z"
   },
   {
    "duration": 0,
    "start_time": "2022-05-18T22:45:54.355Z"
   },
   {
    "duration": 0,
    "start_time": "2022-05-18T22:45:54.357Z"
   },
   {
    "duration": 0,
    "start_time": "2022-05-18T22:45:54.358Z"
   },
   {
    "duration": 74,
    "start_time": "2022-05-19T05:03:44.957Z"
   },
   {
    "duration": 10150,
    "start_time": "2022-05-19T05:04:02.975Z"
   },
   {
    "duration": 2903,
    "start_time": "2022-05-19T05:04:22.125Z"
   },
   {
    "duration": 407,
    "start_time": "2022-05-19T05:04:30.606Z"
   },
   {
    "duration": 4,
    "start_time": "2022-05-19T05:04:45.107Z"
   },
   {
    "duration": 10659,
    "start_time": "2022-05-19T05:04:48.210Z"
   },
   {
    "duration": 48,
    "start_time": "2022-05-19T05:05:02.729Z"
   },
   {
    "duration": 4,
    "start_time": "2022-05-19T05:05:05.109Z"
   },
   {
    "duration": 89644,
    "start_time": "2022-05-19T05:05:09.775Z"
   },
   {
    "duration": 13,
    "start_time": "2022-05-19T05:06:47.559Z"
   },
   {
    "duration": 637634,
    "start_time": "2022-05-19T05:06:49.346Z"
   },
   {
    "duration": 13,
    "start_time": "2022-05-19T05:17:32.053Z"
   },
   {
    "duration": 106499,
    "start_time": "2022-05-19T05:17:37.420Z"
   },
   {
    "duration": 11,
    "start_time": "2022-05-19T05:19:36.958Z"
   },
   {
    "duration": 4561480,
    "start_time": "2022-05-19T05:19:47.062Z"
   },
   {
    "duration": 81,
    "start_time": "2022-05-19T07:28:28.536Z"
   },
   {
    "duration": 17506,
    "start_time": "2022-05-19T07:28:37.633Z"
   },
   {
    "duration": 2249,
    "start_time": "2022-05-19T07:28:59.780Z"
   },
   {
    "duration": 11885,
    "start_time": "2022-05-19T07:29:06.345Z"
   },
   {
    "duration": 49,
    "start_time": "2022-05-19T07:29:18.233Z"
   },
   {
    "duration": 5,
    "start_time": "2022-05-19T07:29:18.289Z"
   },
   {
    "duration": 4551,
    "start_time": "2022-05-19T09:05:21.138Z"
   },
   {
    "duration": 2429,
    "start_time": "2022-05-19T09:05:33.615Z"
   },
   {
    "duration": 9316,
    "start_time": "2022-05-19T09:05:42.591Z"
   },
   {
    "duration": 36,
    "start_time": "2022-05-19T09:05:55.367Z"
   },
   {
    "duration": 3,
    "start_time": "2022-05-19T09:05:55.991Z"
   },
   {
    "duration": 6421372,
    "start_time": "2022-05-19T09:06:04.842Z"
   },
   {
    "duration": 7068975,
    "start_time": "2022-05-19T10:56:03.118Z"
   },
   {
    "duration": 3995,
    "start_time": "2022-05-19T19:31:13.987Z"
   },
   {
    "duration": 848,
    "start_time": "2022-05-19T19:31:17.984Z"
   },
   {
    "duration": 11,
    "start_time": "2022-05-19T19:31:18.833Z"
   },
   {
    "duration": 717,
    "start_time": "2022-05-19T19:31:18.847Z"
   },
   {
    "duration": 264,
    "start_time": "2022-05-19T19:31:19.566Z"
   },
   {
    "duration": 8,
    "start_time": "2022-05-19T19:31:19.831Z"
   },
   {
    "duration": 7837,
    "start_time": "2022-05-19T19:31:19.843Z"
   },
   {
    "duration": 2229723,
    "start_time": "2022-05-19T19:31:27.681Z"
   },
   {
    "duration": 8,
    "start_time": "2022-05-19T20:08:37.406Z"
   },
   {
    "duration": 1689,
    "start_time": "2022-05-19T20:08:37.429Z"
   },
   {
    "duration": 1435,
    "start_time": "2022-05-19T20:08:39.120Z"
   },
   {
    "duration": 9261,
    "start_time": "2022-05-19T20:08:40.557Z"
   },
   {
    "duration": 46,
    "start_time": "2022-05-19T20:08:49.820Z"
   },
   {
    "duration": 3,
    "start_time": "2022-05-19T20:08:49.868Z"
   },
   {
    "duration": 95685,
    "start_time": "2022-05-19T20:08:49.872Z"
   },
   {
    "duration": 9,
    "start_time": "2022-05-19T20:10:25.558Z"
   },
   {
    "duration": 536307,
    "start_time": "2022-05-19T20:10:25.568Z"
   },
   {
    "duration": 26,
    "start_time": "2022-05-19T20:19:21.877Z"
   },
   {
    "duration": 90496,
    "start_time": "2022-05-19T20:19:21.905Z"
   },
   {
    "duration": 36,
    "start_time": "2022-05-19T20:20:52.403Z"
   },
   {
    "duration": 8386186,
    "start_time": "2022-05-19T20:20:52.441Z"
   },
   {
    "duration": 11,
    "start_time": "2022-05-19T22:40:38.629Z"
   },
   {
    "duration": 11,
    "start_time": "2022-05-19T22:40:38.642Z"
   },
   {
    "duration": 5212,
    "start_time": "2022-05-19T22:40:38.654Z"
   },
   {
    "duration": 58675,
    "start_time": "2022-05-19T22:40:43.874Z"
   },
   {
    "duration": 9970,
    "start_time": "2022-05-19T22:41:42.552Z"
   },
   {
    "duration": 782523,
    "start_time": "2022-05-19T22:41:52.524Z"
   },
   {
    "duration": 5603,
    "start_time": "2022-05-20T21:12:25.167Z"
   },
   {
    "duration": 1148,
    "start_time": "2022-05-20T21:13:38.806Z"
   },
   {
    "duration": 5,
    "start_time": "2022-05-20T21:14:27.129Z"
   },
   {
    "duration": 507,
    "start_time": "2022-05-20T21:14:47.214Z"
   },
   {
    "duration": 39,
    "start_time": "2022-05-20T21:15:02.489Z"
   },
   {
    "duration": 12,
    "start_time": "2022-05-20T21:15:04.601Z"
   },
   {
    "duration": 11,
    "start_time": "2022-05-20T21:15:08.637Z"
   },
   {
    "duration": 18,
    "start_time": "2022-05-20T21:15:29.157Z"
   },
   {
    "duration": 11,
    "start_time": "2022-05-20T21:15:36.041Z"
   },
   {
    "duration": 11,
    "start_time": "2022-05-20T21:15:38.396Z"
   },
   {
    "duration": 14,
    "start_time": "2022-05-20T21:15:41.141Z"
   },
   {
    "duration": 11,
    "start_time": "2022-05-20T21:15:43.617Z"
   },
   {
    "duration": 11,
    "start_time": "2022-05-20T21:16:29.757Z"
   },
   {
    "duration": 11,
    "start_time": "2022-05-20T21:16:32.634Z"
   },
   {
    "duration": 25,
    "start_time": "2022-05-20T21:16:36.347Z"
   },
   {
    "duration": 23,
    "start_time": "2022-05-20T21:17:28.913Z"
   },
   {
    "duration": 11,
    "start_time": "2022-05-20T21:17:34.355Z"
   },
   {
    "duration": 9,
    "start_time": "2022-05-20T21:17:38.088Z"
   },
   {
    "duration": 9,
    "start_time": "2022-05-20T21:17:40.628Z"
   },
   {
    "duration": 454,
    "start_time": "2022-05-20T21:18:59.144Z"
   },
   {
    "duration": 4,
    "start_time": "2022-05-20T21:19:06.371Z"
   },
   {
    "duration": 2381,
    "start_time": "2022-05-20T21:19:06.713Z"
   },
   {
    "duration": 11,
    "start_time": "2022-05-20T21:19:09.097Z"
   },
   {
    "duration": 740,
    "start_time": "2022-05-20T21:19:09.110Z"
   },
   {
    "duration": 743,
    "start_time": "2022-05-20T21:19:09.852Z"
   },
   {
    "duration": 5,
    "start_time": "2022-05-20T21:20:29.760Z"
   },
   {
    "duration": 907,
    "start_time": "2022-05-20T21:20:30.339Z"
   },
   {
    "duration": 8,
    "start_time": "2022-05-20T21:20:32.972Z"
   },
   {
    "duration": 5,
    "start_time": "2022-05-20T21:20:39.119Z"
   },
   {
    "duration": 8231,
    "start_time": "2022-05-20T21:20:40.920Z"
   },
   {
    "duration": 34591,
    "start_time": "2022-05-20T21:20:49.154Z"
   },
   {
    "duration": 447,
    "start_time": "2022-05-20T21:21:30.870Z"
   }
  ],
  "kernelspec": {
   "display_name": "Python 3 (ipykernel)",
   "language": "python",
   "name": "python3"
  },
  "language_info": {
   "codemirror_mode": {
    "name": "ipython",
    "version": 3
   },
   "file_extension": ".py",
   "mimetype": "text/x-python",
   "name": "python",
   "nbconvert_exporter": "python",
   "pygments_lexer": "ipython3",
   "version": "3.7.3"
  },
  "toc": {
   "base_numbering": 1,
   "nav_menu": {},
   "number_sections": true,
   "sideBar": true,
   "skip_h1_title": true,
   "title_cell": "Содержание",
   "title_sidebar": "Contents",
   "toc_cell": true,
   "toc_position": {
    "height": "calc(100% - 180px)",
    "left": "10px",
    "top": "150px",
    "width": "302.391px"
   },
   "toc_section_display": true,
   "toc_window_display": false
  }
 },
 "nbformat": 4,
 "nbformat_minor": 2
}
